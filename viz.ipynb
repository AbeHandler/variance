{
 "cells": [
  {
   "cell_type": "markdown",
   "metadata": {},
   "source": [
    "### Visual intuition for the other definition of variance\n",
    "\n",
    "\n",
    "I always think of the [variance](https://en.wikipedia.org/wiki/Variance) of some random variable $X$ as $X$'s expected deviation from its mean, $\\mu$. That is, I think of the variance as: $Var(X) =\\mathbb{E}[(X - \\mu)^2]$. Because $\\mu$ is the expected value or average of $X$ you can also express the variance as:\n",
    "\n",
    "$$Var(X)= \\mathbb{E}[(X - \\mathbb{E}[X])^2]$$\n",
    "\n",
    "where $\\mu = \\mathbb{E}[X]$. \n",
    "\n",
    "On Wikipedia and in textbooks the variance is also sometimes defined as:\n",
    "\n",
    "$$Var(X) =\\mathbb{E}[X^2] - \\mathbb{E}[X]^2$$\n",
    "\n",
    "which is expected value of $X$ squared, minus the expected square of $X$. I never find this other definition intuitive. This is a visual demonstration of the second definition of variance. (If you are curious about the algebra, I also plow through the derivation at the end of the post).\n"
   ]
  },
  {
   "cell_type": "markdown",
   "metadata": {},
   "source": [
    "### Get some data\n",
    "\n",
    "Let's start by drawing some data from a 1 dimensional normal with some mean and some standard deviation. I'll make a histogram to visualize the data. I'll also plot the actual data as blue dots along the x axis."
   ]
  },
  {
   "cell_type": "code",
   "execution_count": 4,
   "metadata": {},
   "outputs": [
    {
     "data": {
      "application/vnd.vegalite.v2+json": {
       "$schema": "https://vega.github.io/schema/vega-lite/v2.6.0.json",
       "config": {
        "view": {
         "height": 300,
         "width": 400
        }
       },
       "layer": [
        {
         "data": {
          "values": [
           {
            "x": -3,
            "y": 0
           },
           {
            "x": -2,
            "y": 9
           },
           {
            "x": -1,
            "y": 26
           },
           {
            "x": 0,
            "y": 44
           },
           {
            "x": 1,
            "y": 50
           },
           {
            "x": 2,
            "y": 57
           },
           {
            "x": 3,
            "y": 58
           },
           {
            "x": 4,
            "y": 33
           },
           {
            "x": 5,
            "y": 15
           },
           {
            "x": 6,
            "y": 6
           },
           {
            "x": 7,
            "y": 2
           },
           {
            "x": 8,
            "y": 0
           },
           {
            "x": 9,
            "y": 0
           }
          ]
         },
         "encoding": {
          "x": {
           "field": "x",
           "type": "quantitative"
          },
          "y": {
           "field": "y",
           "type": "quantitative"
          }
         },
         "mark": {
          "opacity": 0.2,
          "size": 10,
          "type": "bar"
         }
        },
        {
         "data": {
          "values": [
           {
            "x": 1.851884941924749,
            "y": 0
           },
           {
            "x": -1.4272585800845037,
            "y": 0
           },
           {
            "x": -1.1874886934169826,
            "y": 0
           },
           {
            "x": 3.1618165226648296,
            "y": 0
           },
           {
            "x": 2.2873208246207533,
            "y": 0
           },
           {
            "x": 0.05891274639256583,
            "y": 0
           },
           {
            "x": 4.2745235765367315,
            "y": 0
           },
           {
            "x": 2.230762227580907,
            "y": 0
           },
           {
            "x": 6.250764144881506,
            "y": 0
           },
           {
            "x": 4.116199397611226,
            "y": 0
           },
           {
            "x": 0.08222858034058511,
            "y": 0
           },
           {
            "x": 2.5140624715682898,
            "y": 0
           },
           {
            "x": 5.3690460125664945,
            "y": 0
           },
           {
            "x": 3.2724367057502333,
            "y": 0
           },
           {
            "x": 2.4104570182450367,
            "y": 0
           },
           {
            "x": 3.6218926493189216,
            "y": 0
           },
           {
            "x": 2.8040962588987335,
            "y": 0
           },
           {
            "x": 4.270886883907316,
            "y": 0
           },
           {
            "x": 0.9540778250947253,
            "y": 0
           },
           {
            "x": 0.7172615208741253,
            "y": 0
           },
           {
            "x": 1.5181201296361664,
            "y": 0
           },
           {
            "x": 3.8954745600402703,
            "y": 0
           },
           {
            "x": 3.1636012554992643,
            "y": 0
           },
           {
            "x": -1.3438653030710705,
            "y": 0
           },
           {
            "x": 2.490549521135327,
            "y": 0
           },
           {
            "x": 3.630829493773659,
            "y": 0
           },
           {
            "x": 0.6567319652307677,
            "y": 0
           },
           {
            "x": 1.3345179388527137,
            "y": 0
           },
           {
            "x": 7.026556138954206,
            "y": 0
           },
           {
            "x": 1.1166970356389485,
            "y": 0
           },
           {
            "x": 3.823002049301612,
            "y": 0
           },
           {
            "x": 3.3647996760856027,
            "y": 0
           },
           {
            "x": 1.520009204243357,
            "y": 0
           },
           {
            "x": 2.1244052414554147,
            "y": 0
           },
           {
            "x": 2.9580502653279654,
            "y": 0
           },
           {
            "x": 2.881684036033415,
            "y": 0
           },
           {
            "x": 1.1117867056627297,
            "y": 0
           },
           {
            "x": -0.2369825221932489,
            "y": 0
           },
           {
            "x": -0.42473019617240837,
            "y": 0
           },
           {
            "x": 5.638331586445167,
            "y": 0
           },
           {
            "x": 3.2457342759750523,
            "y": 0
           },
           {
            "x": 0.0019218714681157323,
            "y": 0
           },
           {
            "x": 2.0333572919306158,
            "y": 0
           },
           {
            "x": 4.558625929364078,
            "y": 0
           },
           {
            "x": 4.129923488667081,
            "y": 0
           },
           {
            "x": 4.834757671392911,
            "y": 0
           },
           {
            "x": 2.7161981888133635,
            "y": 0
           },
           {
            "x": 5.23396140636253,
            "y": 0
           },
           {
            "x": 2.423524691710402,
            "y": 0
           },
           {
            "x": 6.980394654912506,
            "y": 0
           },
           {
            "x": 2.5955236358760914,
            "y": 0
           },
           {
            "x": 1.5195384863939734,
            "y": 0
           },
           {
            "x": 1.266234080644642,
            "y": 0
           },
           {
            "x": 1.4894162502222903,
            "y": 0
           },
           {
            "x": 4.434197972726036,
            "y": 0
           },
           {
            "x": -0.5190339712165608,
            "y": 0
           },
           {
            "x": 1.8545818742854145,
            "y": 0
           },
           {
            "x": 4.518906602961435,
            "y": 0
           },
           {
            "x": 2.752744587315439,
            "y": 0
           },
           {
            "x": 3.803972190501929,
            "y": 0
           },
           {
            "x": 3.414293652485453,
            "y": 0
           },
           {
            "x": -0.09294992011611525,
            "y": 0
           },
           {
            "x": 5.022632323555491,
            "y": 0
           },
           {
            "x": 4.406816545361356,
            "y": 0
           },
           {
            "x": 1.1024966532313354,
            "y": 0
           },
           {
            "x": 1.3890157030405712,
            "y": 0
           },
           {
            "x": -0.21334967543634553,
            "y": 0
           },
           {
            "x": 2.615629826561924,
            "y": 0
           },
           {
            "x": -0.6651522286691529,
            "y": 0
           },
           {
            "x": -0.04832173605481449,
            "y": 0
           },
           {
            "x": 5.877542186961153,
            "y": 0
           },
           {
            "x": 2.575056125823039,
            "y": 0
           },
           {
            "x": 2.660027833078666,
            "y": 0
           },
           {
            "x": 1.123775186689457,
            "y": 0
           },
           {
            "x": 1.5119312423501121,
            "y": 0
           },
           {
            "x": 1.6432011452334117,
            "y": 0
           },
           {
            "x": 3.6799857725201504,
            "y": 0
           },
           {
            "x": 2.1420836268091565,
            "y": 0
           },
           {
            "x": 3.1272965461250526,
            "y": 0
           },
           {
            "x": 1.136305401203312,
            "y": 0
           },
           {
            "x": -0.19668162707217185,
            "y": 0
           },
           {
            "x": 2.3754418892868308,
            "y": 0
           },
           {
            "x": 5.047610011186027,
            "y": 0
           },
           {
            "x": 4.35929742932333,
            "y": 0
           },
           {
            "x": 2.1908230500554997,
            "y": 0
           },
           {
            "x": 2.0979045776666108,
            "y": 0
           },
           {
            "x": 0.48836097002390266,
            "y": 0
           },
           {
            "x": 1.2077890219528444,
            "y": 0
           },
           {
            "x": 0.5989306431463131,
            "y": 0
           },
           {
            "x": 2.779782251603291,
            "y": 0
           },
           {
            "x": 0.5735029147768091,
            "y": 0
           },
           {
            "x": 0.33670347363623865,
            "y": 0
           },
           {
            "x": 5.741703112214861,
            "y": 0
           },
           {
            "x": 2.501255733493938,
            "y": 0
           },
           {
            "x": 3.7627373694191517,
            "y": 0
           },
           {
            "x": 5.563239018640573,
            "y": 0
           },
           {
            "x": 7.940615578410902,
            "y": 0
           },
           {
            "x": 3.4369093434234568,
            "y": 0
           },
           {
            "x": 3.4461503111853955,
            "y": 0
           },
           {
            "x": 4.677926412142877,
            "y": 0
           },
           {
            "x": 3.642386713746129,
            "y": 0
           },
           {
            "x": 0.4511664068666632,
            "y": 0
           },
           {
            "x": 3.009572893381075,
            "y": 0
           },
           {
            "x": 0.11973987677801956,
            "y": 0
           },
           {
            "x": 5.910150780557814,
            "y": 0
           },
           {
            "x": 1.953551669518351,
            "y": 0
           },
           {
            "x": -0.018623819677994646,
            "y": 0
           },
           {
            "x": 1.8094064805751033,
            "y": 0
           },
           {
            "x": 6.590880588701519,
            "y": 0
           },
           {
            "x": 0.896988196756098,
            "y": 0
           },
           {
            "x": 1.1162621401087622,
            "y": 0
           },
           {
            "x": 0.13878598924426555,
            "y": 0
           },
           {
            "x": 3.1329589166565324,
            "y": 0
           },
           {
            "x": 1.8799400800556427,
            "y": 0
           },
           {
            "x": 3.4726572919676477,
            "y": 0
           },
           {
            "x": -0.3717829458319537,
            "y": 0
           },
           {
            "x": 0.5671457869005594,
            "y": 0
           },
           {
            "x": 0.3525740348575228,
            "y": 0
           },
           {
            "x": 4.773258606729724,
            "y": 0
           },
           {
            "x": 2.260795561944916,
            "y": 0
           },
           {
            "x": 3.2068103522657645,
            "y": 0
           },
           {
            "x": 2.8231082077694474,
            "y": 0
           },
           {
            "x": -0.35573235594234154,
            "y": 0
           },
           {
            "x": 0.2244825343118011,
            "y": 0
           },
           {
            "x": 3.007122702006747,
            "y": 0
           },
           {
            "x": 2.2436189201121515,
            "y": 0
           },
           {
            "x": 1.078248637444228,
            "y": 0
           },
           {
            "x": 0.2300574939958957,
            "y": 0
           },
           {
            "x": 3.785208644811471,
            "y": 0
           },
           {
            "x": 2.8092054305225465,
            "y": 0
           },
           {
            "x": 5.725485186004798,
            "y": 0
           },
           {
            "x": 2.457811971144872,
            "y": 0
           },
           {
            "x": 3.9091087370182733,
            "y": 0
           },
           {
            "x": 2.3831771221476474,
            "y": 0
           },
           {
            "x": 3.7186058605271866,
            "y": 0
           },
           {
            "x": 0.7772531480300227,
            "y": 0
           },
           {
            "x": 1.0658015817602842,
            "y": 0
           },
           {
            "x": 2.0450467215062043,
            "y": 0
           },
           {
            "x": 2.8775256770469504,
            "y": 0
           },
           {
            "x": 4.138597696993618,
            "y": 0
           },
           {
            "x": 3.8449707158402706,
            "y": 0
           },
           {
            "x": -1.386756704688834,
            "y": 0
           },
           {
            "x": 1.6433697735339867,
            "y": 0
           },
           {
            "x": 3.5616868015040897,
            "y": 0
           },
           {
            "x": 1.9499728562431349,
            "y": 0
           },
           {
            "x": -0.06513060986372432,
            "y": 0
           },
           {
            "x": 0.5804861005016768,
            "y": 0
           },
           {
            "x": 1.4580502792133507,
            "y": 0
           },
           {
            "x": 2.232899255230755,
            "y": 0
           },
           {
            "x": 1.8294596890051413,
            "y": 0
           },
           {
            "x": 2.2877396216063595,
            "y": 0
           },
           {
            "x": -0.12907735883441207,
            "y": 0
           },
           {
            "x": 0.7772373990267976,
            "y": 0
           },
           {
            "x": -1.1915009087511659,
            "y": 0
           },
           {
            "x": 4.537062194667759,
            "y": 0
           },
           {
            "x": 0.3762976295186711,
            "y": 0
           },
           {
            "x": 1.7814051548210037,
            "y": 0
           },
           {
            "x": 1.132640459516091,
            "y": 0
           },
           {
            "x": 3.3924093720315476,
            "y": 0
           },
           {
            "x": 2.1818952714788997,
            "y": 0
           },
           {
            "x": 4.737561564191099,
            "y": 0
           },
           {
            "x": 5.762701487946016,
            "y": 0
           },
           {
            "x": 3.270199111495986,
            "y": 0
           },
           {
            "x": 3.0554179078957606,
            "y": 0
           },
           {
            "x": 0.6124261948609382,
            "y": 0
           },
           {
            "x": 4.095989553924263,
            "y": 0
           },
           {
            "x": 4.997870432107002,
            "y": 0
           },
           {
            "x": 3.7136352936388324,
            "y": 0
           },
           {
            "x": 2.6252074971731707,
            "y": 0
           },
           {
            "x": 0.4017159267210957,
            "y": 0
           },
           {
            "x": 6.712557256506118,
            "y": 0
           },
           {
            "x": 1.2377326332278813,
            "y": 0
           },
           {
            "x": -0.24143961650255674,
            "y": 0
           },
           {
            "x": 1.144109640454775,
            "y": 0
           },
           {
            "x": 2.164060906468851,
            "y": 0
           },
           {
            "x": 1.8224801586936672,
            "y": 0
           },
           {
            "x": -0.24990980058372614,
            "y": 0
           },
           {
            "x": 0.9278615788927682,
            "y": 0
           },
           {
            "x": 2.748319934780258,
            "y": 0
           },
           {
            "x": 0.9112713407880699,
            "y": 0
           },
           {
            "x": 4.356042474893306,
            "y": 0
           },
           {
            "x": 3.7945956404194723,
            "y": 0
           },
           {
            "x": 2.45366263096923,
            "y": 0
           },
           {
            "x": 0.8373706221986852,
            "y": 0
           },
           {
            "x": 1.1462587529978963,
            "y": 0
           },
           {
            "x": -0.5908416716507952,
            "y": 0
           },
           {
            "x": 1.137957704177626,
            "y": 0
           },
           {
            "x": 4.138128867087882,
            "y": 0
           },
           {
            "x": 4.406268237735613,
            "y": 0
           },
           {
            "x": 3.874669598291944,
            "y": 0
           },
           {
            "x": 0.2822562908055901,
            "y": 0
           },
           {
            "x": 2.9039836084562918,
            "y": 0
           },
           {
            "x": 0.9472241709546756,
            "y": 0
           },
           {
            "x": 3.166498141527157,
            "y": 0
           },
           {
            "x": 2.8927692794045425,
            "y": 0
           },
           {
            "x": 4.559007501098488,
            "y": 0
           },
           {
            "x": 1.275142885319621,
            "y": 0
           },
           {
            "x": 3.937826627411397,
            "y": 0
           },
           {
            "x": 0.4890167347632959,
            "y": 0
           },
           {
            "x": -0.18527878948716037,
            "y": 0
           },
           {
            "x": 3.7054358344342253,
            "y": 0
           },
           {
            "x": 0.9726159394868366,
            "y": 0
           },
           {
            "x": 2.4786859646179438,
            "y": 0
           },
           {
            "x": 0.4219897636988872,
            "y": 0
           },
           {
            "x": 1.7777292317912867,
            "y": 0
           },
           {
            "x": 2.2577091459902947,
            "y": 0
           },
           {
            "x": 3.508000010726339,
            "y": 0
           },
           {
            "x": 3.7822431886705656,
            "y": 0
           },
           {
            "x": 0.922424230415849,
            "y": 0
           },
           {
            "x": 1.209744684500962,
            "y": 0
           },
           {
            "x": 5.042809607357923,
            "y": 0
           },
           {
            "x": 4.4196413591906785,
            "y": 0
           },
           {
            "x": 1.7673246572197623,
            "y": 0
           },
           {
            "x": -0.04422620667739796,
            "y": 0
           },
           {
            "x": 2.724705038121771,
            "y": 0
           },
           {
            "x": 4.67540602655599,
            "y": 0
           },
           {
            "x": 3.194358102869247,
            "y": 0
           },
           {
            "x": 2.2583659125166164,
            "y": 0
           },
           {
            "x": 0.7205916342321852,
            "y": 0
           },
           {
            "x": 2.746364783832142,
            "y": 0
           },
           {
            "x": 2.64427053469785,
            "y": 0
           },
           {
            "x": 0.7912039928455248,
            "y": 0
           },
           {
            "x": 0.18195461566645177,
            "y": 0
           },
           {
            "x": 3.9781615742445995,
            "y": 0
           },
           {
            "x": 4.294255490430035,
            "y": 0
           },
           {
            "x": 0.2092146468606555,
            "y": 0
           },
           {
            "x": 3.356757128725984,
            "y": 0
           },
           {
            "x": 5.090416092997229,
            "y": 0
           },
           {
            "x": 4.276064186778701,
            "y": 0
           },
           {
            "x": 3.5330851893062856,
            "y": 0
           },
           {
            "x": 2.111441380908267,
            "y": 0
           },
           {
            "x": 3.750572308256867,
            "y": 0
           },
           {
            "x": 1.097798609572146,
            "y": 0
           },
           {
            "x": 5.408017054840286,
            "y": 0
           },
           {
            "x": 2.8089999608589213,
            "y": 0
           },
           {
            "x": -1.46066167360032,
            "y": 0
           },
           {
            "x": 3.8373415408523215,
            "y": 0
           },
           {
            "x": 6.291506943560783,
            "y": 0
           },
           {
            "x": 4.1399437218882,
            "y": 0
           },
           {
            "x": 3.3341555633971742,
            "y": 0
           },
           {
            "x": 3.5937682944615337,
            "y": 0
           },
           {
            "x": -0.6125105367828914,
            "y": 0
           },
           {
            "x": 0.382991441245744,
            "y": 0
           },
           {
            "x": 1.2579136423287323,
            "y": 0
           },
           {
            "x": 3.612464651418482,
            "y": 0
           },
           {
            "x": 2.4301405502709397,
            "y": 0
           },
           {
            "x": 3.269098811645167,
            "y": 0
           },
           {
            "x": -0.21584061875319316,
            "y": 0
           },
           {
            "x": 3.483193722690631,
            "y": 0
           },
           {
            "x": 3.023554246105799,
            "y": 0
           },
           {
            "x": -0.2306852513441897,
            "y": 0
           },
           {
            "x": 1.4226596140926737,
            "y": 0
           },
           {
            "x": 4.285175535162606,
            "y": 0
           },
           {
            "x": 0.6663728110343756,
            "y": 0
           },
           {
            "x": 2.5080837526927935,
            "y": 0
           },
           {
            "x": -1.17635946284011,
            "y": 0
           },
           {
            "x": 1.4208145706306667,
            "y": 0
           },
           {
            "x": 6.751146289744252,
            "y": 0
           },
           {
            "x": 3.221217240793716,
            "y": 0
           },
           {
            "x": 0.11064073553066134,
            "y": 0
           },
           {
            "x": 2.424251962877637,
            "y": 0
           },
           {
            "x": 1.8734738151784467,
            "y": 0
           },
           {
            "x": -0.8304073553595441,
            "y": 0
           },
           {
            "x": -0.326310465203671,
            "y": 0
           },
           {
            "x": 2.5677431304018628,
            "y": 0
           },
           {
            "x": -0.24058178313411105,
            "y": 0
           },
           {
            "x": 3.581221682175171,
            "y": 0
           },
           {
            "x": 3.5969455219293462,
            "y": 0
           },
           {
            "x": 5.236137265554786,
            "y": 0
           },
           {
            "x": 4.826712897492008,
            "y": 0
           },
           {
            "x": 1.3484799945088635,
            "y": 0
           },
           {
            "x": 1.819394214355567,
            "y": 0
           },
           {
            "x": 3.366371056735985,
            "y": 0
           },
           {
            "x": 4.866653168814668,
            "y": 0
           },
           {
            "x": 1.049457109444334,
            "y": 0
           },
           {
            "x": 0.47023234149381476,
            "y": 0
           },
           {
            "x": 2.8045695906816115,
            "y": 0
           },
           {
            "x": 2.4725373199832497,
            "y": 0
           },
           {
            "x": 0.6306411233142113,
            "y": 0
           },
           {
            "x": -0.32598702209338803,
            "y": 0
           },
           {
            "x": 3.0443778345010206,
            "y": 0
           },
           {
            "x": 4.8208697951410375,
            "y": 0
           },
           {
            "x": -0.23041382443913871,
            "y": 0
           },
           {
            "x": 2.627181302190208,
            "y": 0
           },
           {
            "x": 3.0298476122897338,
            "y": 0
           },
           {
            "x": 1.71366176200166,
            "y": 0
           },
           {
            "x": -1.1932722704301222,
            "y": 0
           },
           {
            "x": 4.058318773354984,
            "y": 0
           },
           {
            "x": 1.084246717505569,
            "y": 0
           },
           {
            "x": 1.6754510444974868,
            "y": 0
           },
           {
            "x": 0.49265249577604076,
            "y": 0
           },
           {
            "x": 3.6531204405211675,
            "y": 0
           },
           {
            "x": 2.4369251044477287,
            "y": 0
           },
           {
            "x": 1.309073885839873,
            "y": 0
           },
           {
            "x": 4.355214721996665,
            "y": 0
           },
           {
            "x": 2.58034356985272,
            "y": 0
           },
           {
            "x": -1.2883609790285164,
            "y": 0
           },
           {
            "x": 3.2422511904506166,
            "y": 0
           },
           {
            "x": 0.3474912620621313,
            "y": 0
           },
           {
            "x": 4.13342394120715,
            "y": 0
           }
          ]
         },
         "encoding": {
          "x": {
           "field": "x",
           "type": "quantitative"
          },
          "y": {
           "field": "y",
           "type": "quantitative"
          }
         },
         "mark": {
          "opacity": 0.4,
          "size": 20,
          "type": "point"
         }
        }
       ]
      },
      "image/png": "[encoded data removed]",
      "text/plain": [
       "<VegaLite 2 object>\n",
       "\n",
       "If you see this message, it means the renderer has not been properly enabled\n",
       "for the frontend that you are using. For more information, see\n",
       "https://altair-viz.github.io/user_guide/troubleshooting.html\n"
      ]
     },
     "execution_count": 4,
     "metadata": {},
     "output_type": "execute_result"
    }
   ],
   "source": [
    "import numpy as np\n",
    "mu, sigma = 2.5, 2 # mean and standard deviation\n",
    "N = 300\n",
    "nbins = 10\n",
    "s = [o for o in np.random.normal(mu, sigma, size=N)]\n",
    "\n",
    "values, bins = np.histogram(s, bins=np.arange(-3, nbins + 1))\n",
    "\n",
    "dt = make_altair_object(bins, values)\n",
    "\n",
    "c1 = make_bar_chart(size=10, opacity=.2, data=dt)\n",
    "\n",
    "dt = make_altair_object(s, np.zeros(len(s)))\n",
    "\n",
    "x_points = alt.Chart(dt).mark_point(size=20, opacity=.4).encode(\n",
    "        x='x:Q',  # specify ordinal data\n",
    "        y='y:Q',  # specify quantitative data\n",
    "    )\n",
    "\n",
    "c1 + x_points"
   ]
  },
  {
   "cell_type": "markdown",
   "metadata": {},
   "source": [
    "If we remove the bars and plot $x_i^2$ for each datapoint $x_i$ as black dots, we have a line of black dots along the curve of $X^2$. I show each $x_i$ with a little black line leading to the corresponding value of $x_i^2$."
   ]
  },
  {
   "cell_type": "code",
   "execution_count": 6,
   "metadata": {},
   "outputs": [
    {
     "data": {
      "application/vnd.vegalite.v2+json": {
       "$schema": "https://vega.github.io/schema/vega-lite/v2.6.0.json",
       "config": {
        "view": {
         "height": 300,
         "width": 400
        }
       },
       "layer": [
        {
         "data": {
          "values": [
           {
            "x": 1.851884941924749,
            "y": 0
           },
           {
            "x": 1.851884941924749,
            "y": 3.4294778381276307
           }
          ]
         },
         "encoding": {
          "x": {
           "field": "x",
           "type": "quantitative"
          },
          "y": {
           "field": "y",
           "type": "quantitative"
          }
         },
         "mark": {
          "opacity": 0.4,
          "type": "line"
         }
        },
        {
         "data": {
          "values": [
           {
            "x": -1.4272585800845037,
            "y": 0
           },
           {
            "x": -1.4272585800845037,
            "y": 2.0370670544248335
           }
          ]
         },
         "encoding": {
          "x": {
           "field": "x",
           "type": "quantitative"
          },
          "y": {
           "field": "y",
           "type": "quantitative"
          }
         },
         "mark": {
          "opacity": 0.4,
          "type": "line"
         }
        },
        {
         "data": {
          "values": [
           {
            "x": -1.1874886934169826,
            "y": 0
           },
           {
            "x": -1.1874886934169826,
            "y": 1.4101293969931725
           }
          ]
         },
         "encoding": {
          "x": {
           "field": "x",
           "type": "quantitative"
          },
          "y": {
           "field": "y",
           "type": "quantitative"
          }
         },
         "mark": {
          "opacity": 0.4,
          "type": "line"
         }
        },
        {
         "data": {
          "values": [
           {
            "x": 3.1618165226648296,
            "y": 0
           },
           {
            "x": 3.1618165226648296,
            "y": 9.997083722996315
           }
          ]
         },
         "encoding": {
          "x": {
           "field": "x",
           "type": "quantitative"
          },
          "y": {
           "field": "y",
           "type": "quantitative"
          }
         },
         "mark": {
          "opacity": 0.4,
          "type": "line"
         }
        },
        {
         "data": {
          "values": [
           {
            "x": 2.2873208246207533,
            "y": 0
           },
           {
            "x": 2.2873208246207533,
            "y": 5.231836554743762
           }
          ]
         },
         "encoding": {
          "x": {
           "field": "x",
           "type": "quantitative"
          },
          "y": {
           "field": "y",
           "type": "quantitative"
          }
         },
         "mark": {
          "opacity": 0.4,
          "type": "line"
         }
        },
        {
         "data": {
          "values": [
           {
            "x": 0.05891274639256583,
            "y": 0
           },
           {
            "x": 0.05891274639256583,
            "y": 0.003470711687514778
           }
          ]
         },
         "encoding": {
          "x": {
           "field": "x",
           "type": "quantitative"
          },
          "y": {
           "field": "y",
           "type": "quantitative"
          }
         },
         "mark": {
          "opacity": 0.4,
          "type": "line"
         }
        },
        {
         "data": {
          "values": [
           {
            "x": 4.2745235765367315,
            "y": 0
           },
           {
            "x": 4.2745235765367315,
            "y": 18.27155180636837
           }
          ]
         },
         "encoding": {
          "x": {
           "field": "x",
           "type": "quantitative"
          },
          "y": {
           "field": "y",
           "type": "quantitative"
          }
         },
         "mark": {
          "opacity": 0.4,
          "type": "line"
         }
        },
        {
         "data": {
          "values": [
           {
            "x": 2.230762227580907,
            "y": 0
           },
           {
            "x": 2.230762227580907,
            "y": 4.97630011600173
           }
          ]
         },
         "encoding": {
          "x": {
           "field": "x",
           "type": "quantitative"
          },
          "y": {
           "field": "y",
           "type": "quantitative"
          }
         },
         "mark": {
          "opacity": 0.4,
          "type": "line"
         }
        },
        {
         "data": {
          "values": [
           {
            "x": 6.250764144881506,
            "y": 0
           },
           {
            "x": 6.250764144881506,
            "y": 39.07205239493623
           }
          ]
         },
         "encoding": {
          "x": {
           "field": "x",
           "type": "quantitative"
          },
          "y": {
           "field": "y",
           "type": "quantitative"
          }
         },
         "mark": {
          "opacity": 0.4,
          "type": "line"
         }
        },
        {
         "data": {
          "values": [
           {
            "x": 4.116199397611226,
            "y": 0
           },
           {
            "x": 4.116199397611226,
            "y": 16.943097480895016
           }
          ]
         },
         "encoding": {
          "x": {
           "field": "x",
           "type": "quantitative"
          },
          "y": {
           "field": "y",
           "type": "quantitative"
          }
         },
         "mark": {
          "opacity": 0.4,
          "type": "line"
         }
        },
        {
         "data": {
          "values": [
           {
            "x": 0.08222858034058511,
            "y": 0
           },
           {
            "x": 0.08222858034058511,
            "y": 0.00676153942482806
           }
          ]
         },
         "encoding": {
          "x": {
           "field": "x",
           "type": "quantitative"
          },
          "y": {
           "field": "y",
           "type": "quantitative"
          }
         },
         "mark": {
          "opacity": 0.4,
          "type": "line"
         }
        },
        {
         "data": {
          "values": [
           {
            "x": 2.5140624715682898,
            "y": 0
           },
           {
            "x": 2.5140624715682898,
            "y": 6.3205101109480575
           }
          ]
         },
         "encoding": {
          "x": {
           "field": "x",
           "type": "quantitative"
          },
          "y": {
           "field": "y",
           "type": "quantitative"
          }
         },
         "mark": {
          "opacity": 0.4,
          "type": "line"
         }
        },
        {
         "data": {
          "values": [
           {
            "x": 5.3690460125664945,
            "y": 0
           },
           {
            "x": 5.3690460125664945,
            "y": 28.826655085056174
           }
          ]
         },
         "encoding": {
          "x": {
           "field": "x",
           "type": "quantitative"
          },
          "y": {
           "field": "y",
           "type": "quantitative"
          }
         },
         "mark": {
          "opacity": 0.4,
          "type": "line"
         }
        },
        {
         "data": {
          "values": [
           {
            "x": 3.2724367057502333,
            "y": 0
           },
           {
            "x": 3.2724367057502333,
            "y": 10.708841993141439
           }
          ]
         },
         "encoding": {
          "x": {
           "field": "x",
           "type": "quantitative"
          },
          "y": {
           "field": "y",
           "type": "quantitative"
          }
         },
         "mark": {
          "opacity": 0.4,
          "type": "line"
         }
        },
        {
         "data": {
          "values": [
           {
            "x": 2.4104570182450367,
            "y": 0
           },
           {
            "x": 2.4104570182450367,
            "y": 5.810303036806753
           }
          ]
         },
         "encoding": {
          "x": {
           "field": "x",
           "type": "quantitative"
          },
          "y": {
           "field": "y",
           "type": "quantitative"
          }
         },
         "mark": {
          "opacity": 0.4,
          "type": "line"
         }
        },
        {
         "data": {
          "values": [
           {
            "x": 3.6218926493189216,
            "y": 0
           },
           {
            "x": 3.6218926493189216,
            "y": 13.118106363190437
           }
          ]
         },
         "encoding": {
          "x": {
           "field": "x",
           "type": "quantitative"
          },
          "y": {
           "field": "y",
           "type": "quantitative"
          }
         },
         "mark": {
          "opacity": 0.4,
          "type": "line"
         }
        },
        {
         "data": {
          "values": [
           {
            "x": 2.8040962588987335,
            "y": 0
           },
           {
            "x": 2.8040962588987335,
            "y": 7.862955829169873
           }
          ]
         },
         "encoding": {
          "x": {
           "field": "x",
           "type": "quantitative"
          },
          "y": {
           "field": "y",
           "type": "quantitative"
          }
         },
         "mark": {
          "opacity": 0.4,
          "type": "line"
         }
        },
        {
         "data": {
          "values": [
           {
            "x": 4.270886883907316,
            "y": 0
           },
           {
            "x": 4.270886883907316,
            "y": 18.240474775131545
           }
          ]
         },
         "encoding": {
          "x": {
           "field": "x",
           "type": "quantitative"
          },
          "y": {
           "field": "y",
           "type": "quantitative"
          }
         },
         "mark": {
          "opacity": 0.4,
          "type": "line"
         }
        },
        {
         "data": {
          "values": [
           {
            "x": 0.9540778250947253,
            "y": 0
           },
           {
            "x": 0.9540778250947253,
            "y": 0.9102644963374812
           }
          ]
         },
         "encoding": {
          "x": {
           "field": "x",
           "type": "quantitative"
          },
          "y": {
           "field": "y",
           "type": "quantitative"
          }
         },
         "mark": {
          "opacity": 0.4,
          "type": "line"
         }
        },
        {
         "data": {
          "values": [
           {
            "x": 0.7172615208741253,
            "y": 0
           },
           {
            "x": 0.7172615208741253,
            "y": 0.5144640893266633
           }
          ]
         },
         "encoding": {
          "x": {
           "field": "x",
           "type": "quantitative"
          },
          "y": {
           "field": "y",
           "type": "quantitative"
          }
         },
         "mark": {
          "opacity": 0.4,
          "type": "line"
         }
        },
        {
         "data": {
          "values": [
           {
            "x": 1.5181201296361664,
            "y": 0
           },
           {
            "x": 1.5181201296361664,
            "y": 2.3046887280065307
           }
          ]
         },
         "encoding": {
          "x": {
           "field": "x",
           "type": "quantitative"
          },
          "y": {
           "field": "y",
           "type": "quantitative"
          }
         },
         "mark": {
          "opacity": 0.4,
          "type": "line"
         }
        },
        {
         "data": {
          "values": [
           {
            "x": 3.8954745600402703,
            "y": 0
           },
           {
            "x": 3.8954745600402703,
            "y": 15.174722047920937
           }
          ]
         },
         "encoding": {
          "x": {
           "field": "x",
           "type": "quantitative"
          },
          "y": {
           "field": "y",
           "type": "quantitative"
          }
         },
         "mark": {
          "opacity": 0.4,
          "type": "line"
         }
        },
        {
         "data": {
          "values": [
           {
            "x": 3.1636012554992643,
            "y": 0
           },
           {
            "x": 3.1636012554992643,
            "y": 10.008372903796522
           }
          ]
         },
         "encoding": {
          "x": {
           "field": "x",
           "type": "quantitative"
          },
          "y": {
           "field": "y",
           "type": "quantitative"
          }
         },
         "mark": {
          "opacity": 0.4,
          "type": "line"
         }
        },
        {
         "data": {
          "values": [
           {
            "x": -1.3438653030710705,
            "y": 0
           },
           {
            "x": -1.3438653030710705,
            "y": 1.8059739527983003
           }
          ]
         },
         "encoding": {
          "x": {
           "field": "x",
           "type": "quantitative"
          },
          "y": {
           "field": "y",
           "type": "quantitative"
          }
         },
         "mark": {
          "opacity": 0.4,
          "type": "line"
         }
        },
        {
         "data": {
          "values": [
           {
            "x": 2.490549521135327,
            "y": 0
           },
           {
            "x": 2.490549521135327,
            "y": 6.2028369172274065
           }
          ]
         },
         "encoding": {
          "x": {
           "field": "x",
           "type": "quantitative"
          },
          "y": {
           "field": "y",
           "type": "quantitative"
          }
         },
         "mark": {
          "opacity": 0.4,
          "type": "line"
         }
        },
        {
         "data": {
          "values": [
           {
            "x": 3.630829493773659,
            "y": 0
           },
           {
            "x": 3.630829493773659,
            "y": 13.182922812856686
           }
          ]
         },
         "encoding": {
          "x": {
           "field": "x",
           "type": "quantitative"
          },
          "y": {
           "field": "y",
           "type": "quantitative"
          }
         },
         "mark": {
          "opacity": 0.4,
          "type": "line"
         }
        },
        {
         "data": {
          "values": [
           {
            "x": 0.6567319652307677,
            "y": 0
           },
           {
            "x": 0.6567319652307677,
            "y": 0.4312968741558663
           }
          ]
         },
         "encoding": {
          "x": {
           "field": "x",
           "type": "quantitative"
          },
          "y": {
           "field": "y",
           "type": "quantitative"
          }
         },
         "mark": {
          "opacity": 0.4,
          "type": "line"
         }
        },
        {
         "data": {
          "values": [
           {
            "x": 1.3345179388527137,
            "y": 0
           },
           {
            "x": 1.3345179388527137,
            "y": 1.7809381291196955
           }
          ]
         },
         "encoding": {
          "x": {
           "field": "x",
           "type": "quantitative"
          },
          "y": {
           "field": "y",
           "type": "quantitative"
          }
         },
         "mark": {
          "opacity": 0.4,
          "type": "line"
         }
        },
        {
         "data": {
          "values": [
           {
            "x": 7.026556138954206,
            "y": 0
           },
           {
            "x": 7.026556138954206,
            "y": 49.372491173875034
           }
          ]
         },
         "encoding": {
          "x": {
           "field": "x",
           "type": "quantitative"
          },
          "y": {
           "field": "y",
           "type": "quantitative"
          }
         },
         "mark": {
          "opacity": 0.4,
          "type": "line"
         }
        },
        {
         "data": {
          "values": [
           {
            "x": 1.1166970356389485,
            "y": 0
           },
           {
            "x": 1.1166970356389485,
            "y": 1.2470122694048151
           }
          ]
         },
         "encoding": {
          "x": {
           "field": "x",
           "type": "quantitative"
          },
          "y": {
           "field": "y",
           "type": "quantitative"
          }
         },
         "mark": {
          "opacity": 0.4,
          "type": "line"
         }
        },
        {
         "data": {
          "values": [
           {
            "x": 3.823002049301612,
            "y": 0
           },
           {
            "x": 3.823002049301612,
            "y": 14.615344668964324
           }
          ]
         },
         "encoding": {
          "x": {
           "field": "x",
           "type": "quantitative"
          },
          "y": {
           "field": "y",
           "type": "quantitative"
          }
         },
         "mark": {
          "opacity": 0.4,
          "type": "line"
         }
        },
        {
         "data": {
          "values": [
           {
            "x": 3.3647996760856027,
            "y": 0
           },
           {
            "x": 3.3647996760856027,
            "y": 11.321876860185776
           }
          ]
         },
         "encoding": {
          "x": {
           "field": "x",
           "type": "quantitative"
          },
          "y": {
           "field": "y",
           "type": "quantitative"
          }
         },
         "mark": {
          "opacity": 0.4,
          "type": "line"
         }
        },
        {
         "data": {
          "values": [
           {
            "x": 1.520009204243357,
            "y": 0
           },
           {
            "x": 1.520009204243357,
            "y": 2.3104279809845236
           }
          ]
         },
         "encoding": {
          "x": {
           "field": "x",
           "type": "quantitative"
          },
          "y": {
           "field": "y",
           "type": "quantitative"
          }
         },
         "mark": {
          "opacity": 0.4,
          "type": "line"
         }
        },
        {
         "data": {
          "values": [
           {
            "x": 2.1244052414554147,
            "y": 0
           },
           {
            "x": 2.1244052414554147,
            "y": 4.513097629923239
           }
          ]
         },
         "encoding": {
          "x": {
           "field": "x",
           "type": "quantitative"
          },
          "y": {
           "field": "y",
           "type": "quantitative"
          }
         },
         "mark": {
          "opacity": 0.4,
          "type": "line"
         }
        },
        {
         "data": {
          "values": [
           {
            "x": 2.9580502653279654,
            "y": 0
           },
           {
            "x": 2.9580502653279654,
            "y": 8.750061372206847
           }
          ]
         },
         "encoding": {
          "x": {
           "field": "x",
           "type": "quantitative"
          },
          "y": {
           "field": "y",
           "type": "quantitative"
          }
         },
         "mark": {
          "opacity": 0.4,
          "type": "line"
         }
        },
        {
         "data": {
          "values": [
           {
            "x": 2.881684036033415,
            "y": 0
           },
           {
            "x": 2.881684036033415,
            "y": 8.304102883529831
           }
          ]
         },
         "encoding": {
          "x": {
           "field": "x",
           "type": "quantitative"
          },
          "y": {
           "field": "y",
           "type": "quantitative"
          }
         },
         "mark": {
          "opacity": 0.4,
          "type": "line"
         }
        },
        {
         "data": {
          "values": [
           {
            "x": 1.1117867056627297,
            "y": 0
           },
           {
            "x": 1.1117867056627297,
            "y": 1.2360696788883854
           }
          ]
         },
         "encoding": {
          "x": {
           "field": "x",
           "type": "quantitative"
          },
          "y": {
           "field": "y",
           "type": "quantitative"
          }
         },
         "mark": {
          "opacity": 0.4,
          "type": "line"
         }
        },
        {
         "data": {
          "values": [
           {
            "x": -0.2369825221932489,
            "y": 0
           },
           {
            "x": -0.2369825221932489,
            "y": 0.056160715825073704
           }
          ]
         },
         "encoding": {
          "x": {
           "field": "x",
           "type": "quantitative"
          },
          "y": {
           "field": "y",
           "type": "quantitative"
          }
         },
         "mark": {
          "opacity": 0.4,
          "type": "line"
         }
        },
        {
         "data": {
          "values": [
           {
            "x": -0.42473019617240837,
            "y": 0
           },
           {
            "x": -0.42473019617240837,
            "y": 0.1803957395406525
           }
          ]
         },
         "encoding": {
          "x": {
           "field": "x",
           "type": "quantitative"
          },
          "y": {
           "field": "y",
           "type": "quantitative"
          }
         },
         "mark": {
          "opacity": 0.4,
          "type": "line"
         }
        },
        {
         "data": {
          "values": [
           {
            "x": 5.638331586445167,
            "y": 0
           },
           {
            "x": 5.638331586445167,
            "y": 31.790783078705275
           }
          ]
         },
         "encoding": {
          "x": {
           "field": "x",
           "type": "quantitative"
          },
          "y": {
           "field": "y",
           "type": "quantitative"
          }
         },
         "mark": {
          "opacity": 0.4,
          "type": "line"
         }
        },
        {
         "data": {
          "values": [
           {
            "x": 3.2457342759750523,
            "y": 0
           },
           {
            "x": 3.2457342759750523,
            "y": 10.534790990239296
           }
          ]
         },
         "encoding": {
          "x": {
           "field": "x",
           "type": "quantitative"
          },
          "y": {
           "field": "y",
           "type": "quantitative"
          }
         },
         "mark": {
          "opacity": 0.4,
          "type": "line"
         }
        },
        {
         "data": {
          "values": [
           {
            "x": 0.0019218714681157323,
            "y": 0
           },
           {
            "x": 0.0019218714681157323,
            "y": 3.69358993995732e-06
           }
          ]
         },
         "encoding": {
          "x": {
           "field": "x",
           "type": "quantitative"
          },
          "y": {
           "field": "y",
           "type": "quantitative"
          }
         },
         "mark": {
          "opacity": 0.4,
          "type": "line"
         }
        },
        {
         "data": {
          "values": [
           {
            "x": 2.0333572919306158,
            "y": 0
           },
           {
            "x": 2.0333572919306158,
            "y": 4.134541876647408
           }
          ]
         },
         "encoding": {
          "x": {
           "field": "x",
           "type": "quantitative"
          },
          "y": {
           "field": "y",
           "type": "quantitative"
          }
         },
         "mark": {
          "opacity": 0.4,
          "type": "line"
         }
        },
        {
         "data": {
          "values": [
           {
            "x": 4.558625929364078,
            "y": 0
           },
           {
            "x": 4.558625929364078,
            "y": 20.781070363870505
           }
          ]
         },
         "encoding": {
          "x": {
           "field": "x",
           "type": "quantitative"
          },
          "y": {
           "field": "y",
           "type": "quantitative"
          }
         },
         "mark": {
          "opacity": 0.4,
          "type": "line"
         }
        },
        {
         "data": {
          "values": [
           {
            "x": 4.129923488667081,
            "y": 0
           },
           {
            "x": 4.129923488667081,
            "y": 17.056268022244073
           }
          ]
         },
         "encoding": {
          "x": {
           "field": "x",
           "type": "quantitative"
          },
          "y": {
           "field": "y",
           "type": "quantitative"
          }
         },
         "mark": {
          "opacity": 0.4,
          "type": "line"
         }
        },
        {
         "data": {
          "values": [
           {
            "x": 4.834757671392911,
            "y": 0
           },
           {
            "x": 4.834757671392911,
            "y": 23.3748817410926
           }
          ]
         },
         "encoding": {
          "x": {
           "field": "x",
           "type": "quantitative"
          },
          "y": {
           "field": "y",
           "type": "quantitative"
          }
         },
         "mark": {
          "opacity": 0.4,
          "type": "line"
         }
        },
        {
         "data": {
          "values": [
           {
            "x": 2.7161981888133635,
            "y": 0
           },
           {
            "x": 2.7161981888133635,
            "y": 7.377732600912997
           }
          ]
         },
         "encoding": {
          "x": {
           "field": "x",
           "type": "quantitative"
          },
          "y": {
           "field": "y",
           "type": "quantitative"
          }
         },
         "mark": {
          "opacity": 0.4,
          "type": "line"
         }
        },
        {
         "data": {
          "values": [
           {
            "x": 5.23396140636253,
            "y": 0
           },
           {
            "x": 5.23396140636253,
            "y": 27.394352003292436
           }
          ]
         },
         "encoding": {
          "x": {
           "field": "x",
           "type": "quantitative"
          },
          "y": {
           "field": "y",
           "type": "quantitative"
          }
         },
         "mark": {
          "opacity": 0.4,
          "type": "line"
         }
        },
        {
         "data": {
          "values": [
           {
            "x": 2.423524691710402,
            "y": 0
           },
           {
            "x": 2.423524691710402,
            "y": 5.873471931329998
           }
          ]
         },
         "encoding": {
          "x": {
           "field": "x",
           "type": "quantitative"
          },
          "y": {
           "field": "y",
           "type": "quantitative"
          }
         },
         "mark": {
          "opacity": 0.4,
          "type": "line"
         }
        },
        {
         "data": {
          "values": [
           {
            "x": 6.980394654912506,
            "y": 0
           },
           {
            "x": 6.980394654912506,
            "y": 48.72590953833108
           }
          ]
         },
         "encoding": {
          "x": {
           "field": "x",
           "type": "quantitative"
          },
          "y": {
           "field": "y",
           "type": "quantitative"
          }
         },
         "mark": {
          "opacity": 0.4,
          "type": "line"
         }
        },
        {
         "data": {
          "values": [
           {
            "x": 2.5955236358760914,
            "y": 0
           },
           {
            "x": 2.5955236358760914,
            "y": 6.736742944391445
           }
          ]
         },
         "encoding": {
          "x": {
           "field": "x",
           "type": "quantitative"
          },
          "y": {
           "field": "y",
           "type": "quantitative"
          }
         },
         "mark": {
          "opacity": 0.4,
          "type": "line"
         }
        },
        {
         "data": {
          "values": [
           {
            "x": 1.5195384863939734,
            "y": 0
           },
           {
            "x": 1.5195384863939734,
            "y": 2.3089972116324877
           }
          ]
         },
         "encoding": {
          "x": {
           "field": "x",
           "type": "quantitative"
          },
          "y": {
           "field": "y",
           "type": "quantitative"
          }
         },
         "mark": {
          "opacity": 0.4,
          "type": "line"
         }
        },
        {
         "data": {
          "values": [
           {
            "x": 1.266234080644642,
            "y": 0
           },
           {
            "x": 1.266234080644642,
            "y": 1.6033487469859815
           }
          ]
         },
         "encoding": {
          "x": {
           "field": "x",
           "type": "quantitative"
          },
          "y": {
           "field": "y",
           "type": "quantitative"
          }
         },
         "mark": {
          "opacity": 0.4,
          "type": "line"
         }
        },
        {
         "data": {
          "values": [
           {
            "x": 1.4894162502222903,
            "y": 0
           },
           {
            "x": 1.4894162502222903,
            "y": 2.218360766426228
           }
          ]
         },
         "encoding": {
          "x": {
           "field": "x",
           "type": "quantitative"
          },
          "y": {
           "field": "y",
           "type": "quantitative"
          }
         },
         "mark": {
          "opacity": 0.4,
          "type": "line"
         }
        },
        {
         "data": {
          "values": [
           {
            "x": 4.434197972726036,
            "y": 0
           },
           {
            "x": 4.434197972726036,
            "y": 19.662111661327685
           }
          ]
         },
         "encoding": {
          "x": {
           "field": "x",
           "type": "quantitative"
          },
          "y": {
           "field": "y",
           "type": "quantitative"
          }
         },
         "mark": {
          "opacity": 0.4,
          "type": "line"
         }
        },
        {
         "data": {
          "values": [
           {
            "x": -0.5190339712165608,
            "y": 0
           },
           {
            "x": -0.5190339712165608,
            "y": 0.2693962632768337
           }
          ]
         },
         "encoding": {
          "x": {
           "field": "x",
           "type": "quantitative"
          },
          "y": {
           "field": "y",
           "type": "quantitative"
          }
         },
         "mark": {
          "opacity": 0.4,
          "type": "line"
         }
        },
        {
         "data": {
          "values": [
           {
            "x": 1.8545818742854145,
            "y": 0
           },
           {
            "x": 1.8545818742854145,
            "y": 3.439473928428001
           }
          ]
         },
         "encoding": {
          "x": {
           "field": "x",
           "type": "quantitative"
          },
          "y": {
           "field": "y",
           "type": "quantitative"
          }
         },
         "mark": {
          "opacity": 0.4,
          "type": "line"
         }
        },
        {
         "data": {
          "values": [
           {
            "x": 4.518906602961435,
            "y": 0
           },
           {
            "x": 4.518906602961435,
            "y": 20.420516886288453
           }
          ]
         },
         "encoding": {
          "x": {
           "field": "x",
           "type": "quantitative"
          },
          "y": {
           "field": "y",
           "type": "quantitative"
          }
         },
         "mark": {
          "opacity": 0.4,
          "type": "line"
         }
        },
        {
         "data": {
          "values": [
           {
            "x": 2.752744587315439,
            "y": 0
           },
           {
            "x": 2.752744587315439,
            "y": 7.577602762994445
           }
          ]
         },
         "encoding": {
          "x": {
           "field": "x",
           "type": "quantitative"
          },
          "y": {
           "field": "y",
           "type": "quantitative"
          }
         },
         "mark": {
          "opacity": 0.4,
          "type": "line"
         }
        },
        {
         "data": {
          "values": [
           {
            "x": 3.803972190501929,
            "y": 0
           },
           {
            "x": 3.803972190501929,
            "y": 14.470204426112042
           }
          ]
         },
         "encoding": {
          "x": {
           "field": "x",
           "type": "quantitative"
          },
          "y": {
           "field": "y",
           "type": "quantitative"
          }
         },
         "mark": {
          "opacity": 0.4,
          "type": "line"
         }
        },
        {
         "data": {
          "values": [
           {
            "x": 3.414293652485453,
            "y": 0
           },
           {
            "x": 3.414293652485453,
            "y": 11.657401145402455
           }
          ]
         },
         "encoding": {
          "x": {
           "field": "x",
           "type": "quantitative"
          },
          "y": {
           "field": "y",
           "type": "quantitative"
          }
         },
         "mark": {
          "opacity": 0.4,
          "type": "line"
         }
        },
        {
         "data": {
          "values": [
           {
            "x": -0.09294992011611525,
            "y": 0
           },
           {
            "x": -0.09294992011611525,
            "y": 0.008639687649592206
           }
          ]
         },
         "encoding": {
          "x": {
           "field": "x",
           "type": "quantitative"
          },
          "y": {
           "field": "y",
           "type": "quantitative"
          }
         },
         "mark": {
          "opacity": 0.4,
          "type": "line"
         }
        },
        {
         "data": {
          "values": [
           {
            "x": 5.022632323555491,
            "y": 0
           },
           {
            "x": 5.022632323555491,
            "y": 25.226835457624425
           }
          ]
         },
         "encoding": {
          "x": {
           "field": "x",
           "type": "quantitative"
          },
          "y": {
           "field": "y",
           "type": "quantitative"
          }
         },
         "mark": {
          "opacity": 0.4,
          "type": "line"
         }
        },
        {
         "data": {
          "values": [
           {
            "x": 4.406816545361356,
            "y": 0
           },
           {
            "x": 4.406816545361356,
            "y": 19.420032064470597
           }
          ]
         },
         "encoding": {
          "x": {
           "field": "x",
           "type": "quantitative"
          },
          "y": {
           "field": "y",
           "type": "quantitative"
          }
         },
         "mark": {
          "opacity": 0.4,
          "type": "line"
         }
        },
        {
         "data": {
          "values": [
           {
            "x": 1.1024966532313354,
            "y": 0
           },
           {
            "x": 1.1024966532313354,
            "y": 1.2154988703862954
           }
          ]
         },
         "encoding": {
          "x": {
           "field": "x",
           "type": "quantitative"
          },
          "y": {
           "field": "y",
           "type": "quantitative"
          }
         },
         "mark": {
          "opacity": 0.4,
          "type": "line"
         }
        },
        {
         "data": {
          "values": [
           {
            "x": 1.3890157030405712,
            "y": 0
           },
           {
            "x": 1.3890157030405712,
            "y": 1.9293646232932924
           }
          ]
         },
         "encoding": {
          "x": {
           "field": "x",
           "type": "quantitative"
          },
          "y": {
           "field": "y",
           "type": "quantitative"
          }
         },
         "mark": {
          "opacity": 0.4,
          "type": "line"
         }
        },
        {
         "data": {
          "values": [
           {
            "x": -0.21334967543634553,
            "y": 0
           },
           {
            "x": -0.21334967543634553,
            "y": 0.04551808400879398
           }
          ]
         },
         "encoding": {
          "x": {
           "field": "x",
           "type": "quantitative"
          },
          "y": {
           "field": "y",
           "type": "quantitative"
          }
         },
         "mark": {
          "opacity": 0.4,
          "type": "line"
         }
        },
        {
         "data": {
          "values": [
           {
            "x": 2.615629826561924,
            "y": 0
           },
           {
            "x": 2.615629826561924,
            "y": 6.841519389600361
           }
          ]
         },
         "encoding": {
          "x": {
           "field": "x",
           "type": "quantitative"
          },
          "y": {
           "field": "y",
           "type": "quantitative"
          }
         },
         "mark": {
          "opacity": 0.4,
          "type": "line"
         }
        },
        {
         "data": {
          "values": [
           {
            "x": -0.6651522286691529,
            "y": 0
           },
           {
            "x": -0.6651522286691529,
            "y": 0.4424274873035411
           }
          ]
         },
         "encoding": {
          "x": {
           "field": "x",
           "type": "quantitative"
          },
          "y": {
           "field": "y",
           "type": "quantitative"
          }
         },
         "mark": {
          "opacity": 0.4,
          "type": "line"
         }
        },
        {
         "data": {
          "values": [
           {
            "x": -0.04832173605481449,
            "y": 0
           },
           {
            "x": -0.04832173605481449,
            "y": 0.002334990175351159
           }
          ]
         },
         "encoding": {
          "x": {
           "field": "x",
           "type": "quantitative"
          },
          "y": {
           "field": "y",
           "type": "quantitative"
          }
         },
         "mark": {
          "opacity": 0.4,
          "type": "line"
         }
        },
        {
         "data": {
          "values": [
           {
            "x": 5.877542186961153,
            "y": 0
           },
           {
            "x": 5.877542186961153,
            "y": 34.545502159508096
           }
          ]
         },
         "encoding": {
          "x": {
           "field": "x",
           "type": "quantitative"
          },
          "y": {
           "field": "y",
           "type": "quantitative"
          }
         },
         "mark": {
          "opacity": 0.4,
          "type": "line"
         }
        },
        {
         "data": {
          "values": [
           {
            "x": 2.575056125823039,
            "y": 0
           },
           {
            "x": 2.575056125823039,
            "y": 6.63091405113876
           }
          ]
         },
         "encoding": {
          "x": {
           "field": "x",
           "type": "quantitative"
          },
          "y": {
           "field": "y",
           "type": "quantitative"
          }
         },
         "mark": {
          "opacity": 0.4,
          "type": "line"
         }
        },
        {
         "data": {
          "values": [
           {
            "x": 2.660027833078666,
            "y": 0
           },
           {
            "x": 2.660027833078666,
            "y": 7.075748072753183
           }
          ]
         },
         "encoding": {
          "x": {
           "field": "x",
           "type": "quantitative"
          },
          "y": {
           "field": "y",
           "type": "quantitative"
          }
         },
         "mark": {
          "opacity": 0.4,
          "type": "line"
         }
        },
        {
         "data": {
          "values": [
           {
            "x": 1.123775186689457,
            "y": 0
           },
           {
            "x": 1.123775186689457,
            "y": 1.2628706702189239
           }
          ]
         },
         "encoding": {
          "x": {
           "field": "x",
           "type": "quantitative"
          },
          "y": {
           "field": "y",
           "type": "quantitative"
          }
         },
         "mark": {
          "opacity": 0.4,
          "type": "line"
         }
        },
        {
         "data": {
          "values": [
           {
            "x": 1.5119312423501121,
            "y": 0
           },
           {
            "x": 1.5119312423501121,
            "y": 2.2859360815943535
           }
          ]
         },
         "encoding": {
          "x": {
           "field": "x",
           "type": "quantitative"
          },
          "y": {
           "field": "y",
           "type": "quantitative"
          }
         },
         "mark": {
          "opacity": 0.4,
          "type": "line"
         }
        },
        {
         "data": {
          "values": [
           {
            "x": 1.6432011452334117,
            "y": 0
           },
           {
            "x": 1.6432011452334117,
            "y": 2.7001100036963956
           }
          ]
         },
         "encoding": {
          "x": {
           "field": "x",
           "type": "quantitative"
          },
          "y": {
           "field": "y",
           "type": "quantitative"
          }
         },
         "mark": {
          "opacity": 0.4,
          "type": "line"
         }
        },
        {
         "data": {
          "values": [
           {
            "x": 3.6799857725201504,
            "y": 0
           },
           {
            "x": 3.6799857725201504,
            "y": 13.542295285950727
           }
          ]
         },
         "encoding": {
          "x": {
           "field": "x",
           "type": "quantitative"
          },
          "y": {
           "field": "y",
           "type": "quantitative"
          }
         },
         "mark": {
          "opacity": 0.4,
          "type": "line"
         }
        },
        {
         "data": {
          "values": [
           {
            "x": 2.1420836268091565,
            "y": 0
           },
           {
            "x": 2.1420836268091565,
            "y": 4.58852226424387
           }
          ]
         },
         "encoding": {
          "x": {
           "field": "x",
           "type": "quantitative"
          },
          "y": {
           "field": "y",
           "type": "quantitative"
          }
         },
         "mark": {
          "opacity": 0.4,
          "type": "line"
         }
        },
        {
         "data": {
          "values": [
           {
            "x": 3.1272965461250526,
            "y": 0
           },
           {
            "x": 3.1272965461250526,
            "y": 9.779983687405684
           }
          ]
         },
         "encoding": {
          "x": {
           "field": "x",
           "type": "quantitative"
          },
          "y": {
           "field": "y",
           "type": "quantitative"
          }
         },
         "mark": {
          "opacity": 0.4,
          "type": "line"
         }
        },
        {
         "data": {
          "values": [
           {
            "x": 1.136305401203312,
            "y": 0
           },
           {
            "x": 1.136305401203312,
            "y": 1.2911899648038199
           }
          ]
         },
         "encoding": {
          "x": {
           "field": "x",
           "type": "quantitative"
          },
          "y": {
           "field": "y",
           "type": "quantitative"
          }
         },
         "mark": {
          "opacity": 0.4,
          "type": "line"
         }
        },
        {
         "data": {
          "values": [
           {
            "x": -0.19668162707217185,
            "y": 0
           },
           {
            "x": -0.19668162707217185,
            "y": 0.03868366242775688
           }
          ]
         },
         "encoding": {
          "x": {
           "field": "x",
           "type": "quantitative"
          },
          "y": {
           "field": "y",
           "type": "quantitative"
          }
         },
         "mark": {
          "opacity": 0.4,
          "type": "line"
         }
        },
        {
         "data": {
          "values": [
           {
            "x": 2.3754418892868308,
            "y": 0
           },
           {
            "x": 2.3754418892868308,
            "y": 5.642724169378588
           }
          ]
         },
         "encoding": {
          "x": {
           "field": "x",
           "type": "quantitative"
          },
          "y": {
           "field": "y",
           "type": "quantitative"
          }
         },
         "mark": {
          "opacity": 0.4,
          "type": "line"
         }
        },
        {
         "data": {
          "values": [
           {
            "x": 5.047610011186027,
            "y": 0
           },
           {
            "x": 5.047610011186027,
            "y": 25.478366825025404
           }
          ]
         },
         "encoding": {
          "x": {
           "field": "x",
           "type": "quantitative"
          },
          "y": {
           "field": "y",
           "type": "quantitative"
          }
         },
         "mark": {
          "opacity": 0.4,
          "type": "line"
         }
        },
        {
         "data": {
          "values": [
           {
            "x": 4.35929742932333,
            "y": 0
           },
           {
            "x": 4.35929742932333,
            "y": 19.003474077304997
           }
          ]
         },
         "encoding": {
          "x": {
           "field": "x",
           "type": "quantitative"
          },
          "y": {
           "field": "y",
           "type": "quantitative"
          }
         },
         "mark": {
          "opacity": 0.4,
          "type": "line"
         }
        },
        {
         "data": {
          "values": [
           {
            "x": 2.1908230500554997,
            "y": 0
           },
           {
            "x": 2.1908230500554997,
            "y": 4.799705636654482
           }
          ]
         },
         "encoding": {
          "x": {
           "field": "x",
           "type": "quantitative"
          },
          "y": {
           "field": "y",
           "type": "quantitative"
          }
         },
         "mark": {
          "opacity": 0.4,
          "type": "line"
         }
        },
        {
         "data": {
          "values": [
           {
            "x": 2.0979045776666108,
            "y": 0
           },
           {
            "x": 2.0979045776666108,
            "y": 4.40120361699452
           }
          ]
         },
         "encoding": {
          "x": {
           "field": "x",
           "type": "quantitative"
          },
          "y": {
           "field": "y",
           "type": "quantitative"
          }
         },
         "mark": {
          "opacity": 0.4,
          "type": "line"
         }
        },
        {
         "data": {
          "values": [
           {
            "x": 0.48836097002390266,
            "y": 0
           },
           {
            "x": 0.48836097002390266,
            "y": 0.23849643704268716
           }
          ]
         },
         "encoding": {
          "x": {
           "field": "x",
           "type": "quantitative"
          },
          "y": {
           "field": "y",
           "type": "quantitative"
          }
         },
         "mark": {
          "opacity": 0.4,
          "type": "line"
         }
        },
        {
         "data": {
          "values": [
           {
            "x": 1.2077890219528444,
            "y": 0
           },
           {
            "x": 1.2077890219528444,
            "y": 1.4587543215498084
           }
          ]
         },
         "encoding": {
          "x": {
           "field": "x",
           "type": "quantitative"
          },
          "y": {
           "field": "y",
           "type": "quantitative"
          }
         },
         "mark": {
          "opacity": 0.4,
          "type": "line"
         }
        },
        {
         "data": {
          "values": [
           {
            "x": 0.5989306431463131,
            "y": 0
           },
           {
            "x": 0.5989306431463131,
            "y": 0.3587179152996562
           }
          ]
         },
         "encoding": {
          "x": {
           "field": "x",
           "type": "quantitative"
          },
          "y": {
           "field": "y",
           "type": "quantitative"
          }
         },
         "mark": {
          "opacity": 0.4,
          "type": "line"
         }
        },
        {
         "data": {
          "values": [
           {
            "x": 2.779782251603291,
            "y": 0
           },
           {
            "x": 2.779782251603291,
            "y": 7.727189366328663
           }
          ]
         },
         "encoding": {
          "x": {
           "field": "x",
           "type": "quantitative"
          },
          "y": {
           "field": "y",
           "type": "quantitative"
          }
         },
         "mark": {
          "opacity": 0.4,
          "type": "line"
         }
        },
        {
         "data": {
          "values": [
           {
            "x": 0.5735029147768091,
            "y": 0
           },
           {
            "x": 0.5735029147768091,
            "y": 0.328905593257496
           }
          ]
         },
         "encoding": {
          "x": {
           "field": "x",
           "type": "quantitative"
          },
          "y": {
           "field": "y",
           "type": "quantitative"
          }
         },
         "mark": {
          "opacity": 0.4,
          "type": "line"
         }
        },
        {
         "data": {
          "values": [
           {
            "x": 0.33670347363623865,
            "y": 0
           },
           {
            "x": 0.33670347363623865,
            "y": 0.11336922915870926
           }
          ]
         },
         "encoding": {
          "x": {
           "field": "x",
           "type": "quantitative"
          },
          "y": {
           "field": "y",
           "type": "quantitative"
          }
         },
         "mark": {
          "opacity": 0.4,
          "type": "line"
         }
        },
        {
         "data": {
          "values": [
           {
            "x": 5.741703112214861,
            "y": 0
           },
           {
            "x": 5.741703112214861,
            "y": 32.967154628817816
           }
          ]
         },
         "encoding": {
          "x": {
           "field": "x",
           "type": "quantitative"
          },
          "y": {
           "field": "y",
           "type": "quantitative"
          }
         },
         "mark": {
          "opacity": 0.4,
          "type": "line"
         }
        },
        {
         "data": {
          "values": [
           {
            "x": 2.501255733493938,
            "y": 0
           },
           {
            "x": 2.501255733493938,
            "y": 6.256280244336298
           }
          ]
         },
         "encoding": {
          "x": {
           "field": "x",
           "type": "quantitative"
          },
          "y": {
           "field": "y",
           "type": "quantitative"
          }
         },
         "mark": {
          "opacity": 0.4,
          "type": "line"
         }
        },
        {
         "data": {
          "values": [
           {
            "x": 3.7627373694191517,
            "y": 0
           },
           {
            "x": 3.7627373694191517,
            "y": 14.158192511223358
           }
          ]
         },
         "encoding": {
          "x": {
           "field": "x",
           "type": "quantitative"
          },
          "y": {
           "field": "y",
           "type": "quantitative"
          }
         },
         "mark": {
          "opacity": 0.4,
          "type": "line"
         }
        },
        {
         "data": {
          "values": [
           {
            "x": 5.563239018640573,
            "y": 0
           },
           {
            "x": 5.563239018640573,
            "y": 30.949628378524924
           }
          ]
         },
         "encoding": {
          "x": {
           "field": "x",
           "type": "quantitative"
          },
          "y": {
           "field": "y",
           "type": "quantitative"
          }
         },
         "mark": {
          "opacity": 0.4,
          "type": "line"
         }
        },
        {
         "data": {
          "values": [
           {
            "x": 7.940615578410902,
            "y": 0
           },
           {
            "x": 7.940615578410902,
            "y": 63.0533757641019
           }
          ]
         },
         "encoding": {
          "x": {
           "field": "x",
           "type": "quantitative"
          },
          "y": {
           "field": "y",
           "type": "quantitative"
          }
         },
         "mark": {
          "opacity": 0.4,
          "type": "line"
         }
        },
        {
         "data": {
          "values": [
           {
            "x": 3.4369093434234568,
            "y": 0
           },
           {
            "x": 3.4369093434234568,
            "y": 11.812345834911456
           }
          ]
         },
         "encoding": {
          "x": {
           "field": "x",
           "type": "quantitative"
          },
          "y": {
           "field": "y",
           "type": "quantitative"
          }
         },
         "mark": {
          "opacity": 0.4,
          "type": "line"
         }
        },
        {
         "data": {
          "values": [
           {
            "x": 3.4461503111853955,
            "y": 0
           },
           {
            "x": 3.4461503111853955,
            "y": 11.875951967283198
           }
          ]
         },
         "encoding": {
          "x": {
           "field": "x",
           "type": "quantitative"
          },
          "y": {
           "field": "y",
           "type": "quantitative"
          }
         },
         "mark": {
          "opacity": 0.4,
          "type": "line"
         }
        },
        {
         "data": {
          "values": [
           {
            "x": 4.677926412142877,
            "y": 0
           },
           {
            "x": 4.677926412142877,
            "y": 21.882995517423932
           }
          ]
         },
         "encoding": {
          "x": {
           "field": "x",
           "type": "quantitative"
          },
          "y": {
           "field": "y",
           "type": "quantitative"
          }
         },
         "mark": {
          "opacity": 0.4,
          "type": "line"
         }
        },
        {
         "data": {
          "values": [
           {
            "x": 3.642386713746129,
            "y": 0
           },
           {
            "x": 3.642386713746129,
            "y": 13.266980972474325
           }
          ]
         },
         "encoding": {
          "x": {
           "field": "x",
           "type": "quantitative"
          },
          "y": {
           "field": "y",
           "type": "quantitative"
          }
         },
         "mark": {
          "opacity": 0.4,
          "type": "line"
         }
        },
        {
         "data": {
          "values": [
           {
            "x": 0.4511664068666632,
            "y": 0
           },
           {
            "x": 0.4511664068666632,
            "y": 0.2035511266849755
           }
          ]
         },
         "encoding": {
          "x": {
           "field": "x",
           "type": "quantitative"
          },
          "y": {
           "field": "y",
           "type": "quantitative"
          }
         },
         "mark": {
          "opacity": 0.4,
          "type": "line"
         }
        },
        {
         "data": {
          "values": [
           {
            "x": 3.009572893381075,
            "y": 0
           },
           {
            "x": 3.009572893381075,
            "y": 9.057529000574135
           }
          ]
         },
         "encoding": {
          "x": {
           "field": "x",
           "type": "quantitative"
          },
          "y": {
           "field": "y",
           "type": "quantitative"
          }
         },
         "mark": {
          "opacity": 0.4,
          "type": "line"
         }
        },
        {
         "data": {
          "values": [
           {
            "x": 0.11973987677801956,
            "y": 0
           },
           {
            "x": 0.11973987677801956,
            "y": 0.014337638090815308
           }
          ]
         },
         "encoding": {
          "x": {
           "field": "x",
           "type": "quantitative"
          },
          "y": {
           "field": "y",
           "type": "quantitative"
          }
         },
         "mark": {
          "opacity": 0.4,
          "type": "line"
         }
        },
        {
         "data": {
          "values": [
           {
            "x": 5.910150780557814,
            "y": 0
           },
           {
            "x": 5.910150780557814,
            "y": 34.92988224892814
           }
          ]
         },
         "encoding": {
          "x": {
           "field": "x",
           "type": "quantitative"
          },
          "y": {
           "field": "y",
           "type": "quantitative"
          }
         },
         "mark": {
          "opacity": 0.4,
          "type": "line"
         }
        },
        {
         "data": {
          "values": [
           {
            "x": 1.953551669518351,
            "y": 0
           },
           {
            "x": 1.953551669518351,
            "y": 3.8163641254779366
           }
          ]
         },
         "encoding": {
          "x": {
           "field": "x",
           "type": "quantitative"
          },
          "y": {
           "field": "y",
           "type": "quantitative"
          }
         },
         "mark": {
          "opacity": 0.4,
          "type": "line"
         }
        },
        {
         "data": {
          "values": [
           {
            "x": -0.018623819677994646,
            "y": 0
           },
           {
            "x": -0.018623819677994646,
            "y": 0.00034684665939846063
           }
          ]
         },
         "encoding": {
          "x": {
           "field": "x",
           "type": "quantitative"
          },
          "y": {
           "field": "y",
           "type": "quantitative"
          }
         },
         "mark": {
          "opacity": 0.4,
          "type": "line"
         }
        },
        {
         "data": {
          "values": [
           {
            "x": 1.8094064805751033,
            "y": 0
           },
           {
            "x": 1.8094064805751033,
            "y": 3.2739518119471818
           }
          ]
         },
         "encoding": {
          "x": {
           "field": "x",
           "type": "quantitative"
          },
          "y": {
           "field": "y",
           "type": "quantitative"
          }
         },
         "mark": {
          "opacity": 0.4,
          "type": "line"
         }
        },
        {
         "data": {
          "values": [
           {
            "x": 6.590880588701519,
            "y": 0
           },
           {
            "x": 6.590880588701519,
            "y": 43.43970693452248
           }
          ]
         },
         "encoding": {
          "x": {
           "field": "x",
           "type": "quantitative"
          },
          "y": {
           "field": "y",
           "type": "quantitative"
          }
         },
         "mark": {
          "opacity": 0.4,
          "type": "line"
         }
        },
        {
         "data": {
          "values": [
           {
            "x": 0.896988196756098,
            "y": 0
           },
           {
            "x": 0.896988196756098,
            "y": 0.8045878251197564
           }
          ]
         },
         "encoding": {
          "x": {
           "field": "x",
           "type": "quantitative"
          },
          "y": {
           "field": "y",
           "type": "quantitative"
          }
         },
         "mark": {
          "opacity": 0.4,
          "type": "line"
         }
        },
        {
         "data": {
          "values": [
           {
            "x": 1.1162621401087622,
            "y": 0
           },
           {
            "x": 1.1162621401087622,
            "y": 1.246041165440194
           }
          ]
         },
         "encoding": {
          "x": {
           "field": "x",
           "type": "quantitative"
          },
          "y": {
           "field": "y",
           "type": "quantitative"
          }
         },
         "mark": {
          "opacity": 0.4,
          "type": "line"
         }
        },
        {
         "data": {
          "values": [
           {
            "x": 0.13878598924426555,
            "y": 0
           },
           {
            "x": 0.13878598924426555,
            "y": 0.019261550810509395
           }
          ]
         },
         "encoding": {
          "x": {
           "field": "x",
           "type": "quantitative"
          },
          "y": {
           "field": "y",
           "type": "quantitative"
          }
         },
         "mark": {
          "opacity": 0.4,
          "type": "line"
         }
        },
        {
         "data": {
          "values": [
           {
            "x": 3.1329589166565324,
            "y": 0
           },
           {
            "x": 3.1329589166565324,
            "y": 9.815431573457673
           }
          ]
         },
         "encoding": {
          "x": {
           "field": "x",
           "type": "quantitative"
          },
          "y": {
           "field": "y",
           "type": "quantitative"
          }
         },
         "mark": {
          "opacity": 0.4,
          "type": "line"
         }
        },
        {
         "data": {
          "values": [
           {
            "x": 1.8799400800556427,
            "y": 0
           },
           {
            "x": 1.8799400800556427,
            "y": 3.5341747045996166
           }
          ]
         },
         "encoding": {
          "x": {
           "field": "x",
           "type": "quantitative"
          },
          "y": {
           "field": "y",
           "type": "quantitative"
          }
         },
         "mark": {
          "opacity": 0.4,
          "type": "line"
         }
        },
        {
         "data": {
          "values": [
           {
            "x": 3.4726572919676477,
            "y": 0
           },
           {
            "x": 3.4726572919676477,
            "y": 12.059348667456076
           }
          ]
         },
         "encoding": {
          "x": {
           "field": "x",
           "type": "quantitative"
          },
          "y": {
           "field": "y",
           "type": "quantitative"
          }
         },
         "mark": {
          "opacity": 0.4,
          "type": "line"
         }
        },
        {
         "data": {
          "values": [
           {
            "x": -0.3717829458319537,
            "y": 0
           },
           {
            "x": -0.3717829458319537,
            "y": 0.13822255881148543
           }
          ]
         },
         "encoding": {
          "x": {
           "field": "x",
           "type": "quantitative"
          },
          "y": {
           "field": "y",
           "type": "quantitative"
          }
         },
         "mark": {
          "opacity": 0.4,
          "type": "line"
         }
        },
        {
         "data": {
          "values": [
           {
            "x": 0.5671457869005594,
            "y": 0
           },
           {
            "x": 0.5671457869005594,
            "y": 0.3216543435990547
           }
          ]
         },
         "encoding": {
          "x": {
           "field": "x",
           "type": "quantitative"
          },
          "y": {
           "field": "y",
           "type": "quantitative"
          }
         },
         "mark": {
          "opacity": 0.4,
          "type": "line"
         }
        },
        {
         "data": {
          "values": [
           {
            "x": 0.3525740348575228,
            "y": 0
           },
           {
            "x": 0.3525740348575228,
            "y": 0.12430845005571371
           }
          ]
         },
         "encoding": {
          "x": {
           "field": "x",
           "type": "quantitative"
          },
          "y": {
           "field": "y",
           "type": "quantitative"
          }
         },
         "mark": {
          "opacity": 0.4,
          "type": "line"
         }
        },
        {
         "data": {
          "values": [
           {
            "x": 4.773258606729724,
            "y": 0
           },
           {
            "x": 4.773258606729724,
            "y": 22.78399772671938
           }
          ]
         },
         "encoding": {
          "x": {
           "field": "x",
           "type": "quantitative"
          },
          "y": {
           "field": "y",
           "type": "quantitative"
          }
         },
         "mark": {
          "opacity": 0.4,
          "type": "line"
         }
        },
        {
         "data": {
          "values": [
           {
            "x": 2.260795561944916,
            "y": 0
           },
           {
            "x": 2.260795561944916,
            "y": 5.111196572909828
           }
          ]
         },
         "encoding": {
          "x": {
           "field": "x",
           "type": "quantitative"
          },
          "y": {
           "field": "y",
           "type": "quantitative"
          }
         },
         "mark": {
          "opacity": 0.4,
          "type": "line"
         }
        },
        {
         "data": {
          "values": [
           {
            "x": 3.2068103522657645,
            "y": 0
           },
           {
            "x": 3.2068103522657645,
            "y": 10.283632635398877
           }
          ]
         },
         "encoding": {
          "x": {
           "field": "x",
           "type": "quantitative"
          },
          "y": {
           "field": "y",
           "type": "quantitative"
          }
         },
         "mark": {
          "opacity": 0.4,
          "type": "line"
         }
        },
        {
         "data": {
          "values": [
           {
            "x": 2.8231082077694474,
            "y": 0
           },
           {
            "x": 2.8231082077694474,
            "y": 7.9699399527752215
           }
          ]
         },
         "encoding": {
          "x": {
           "field": "x",
           "type": "quantitative"
          },
          "y": {
           "field": "y",
           "type": "quantitative"
          }
         },
         "mark": {
          "opacity": 0.4,
          "type": "line"
         }
        },
        {
         "data": {
          "values": [
           {
            "x": -0.35573235594234154,
            "y": 0
           },
           {
            "x": -0.35573235594234154,
            "y": 0.12654550906428877
           }
          ]
         },
         "encoding": {
          "x": {
           "field": "x",
           "type": "quantitative"
          },
          "y": {
           "field": "y",
           "type": "quantitative"
          }
         },
         "mark": {
          "opacity": 0.4,
          "type": "line"
         }
        },
        {
         "data": {
          "values": [
           {
            "x": 0.2244825343118011,
            "y": 0
           },
           {
            "x": 0.2244825343118011,
            "y": 0.050392408211048956
           }
          ]
         },
         "encoding": {
          "x": {
           "field": "x",
           "type": "quantitative"
          },
          "y": {
           "field": "y",
           "type": "quantitative"
          }
         },
         "mark": {
          "opacity": 0.4,
          "type": "line"
         }
        },
        {
         "data": {
          "values": [
           {
            "x": 3.007122702006747,
            "y": 0
           },
           {
            "x": 3.007122702006747,
            "y": 9.042786944924357
           }
          ]
         },
         "encoding": {
          "x": {
           "field": "x",
           "type": "quantitative"
          },
          "y": {
           "field": "y",
           "type": "quantitative"
          }
         },
         "mark": {
          "opacity": 0.4,
          "type": "line"
         }
        },
        {
         "data": {
          "values": [
           {
            "x": 2.2436189201121515,
            "y": 0
           },
           {
            "x": 2.2436189201121515,
            "y": 5.0338258586852165
           }
          ]
         },
         "encoding": {
          "x": {
           "field": "x",
           "type": "quantitative"
          },
          "y": {
           "field": "y",
           "type": "quantitative"
          }
         },
         "mark": {
          "opacity": 0.4,
          "type": "line"
         }
        },
        {
         "data": {
          "values": [
           {
            "x": 1.078248637444228,
            "y": 0
           },
           {
            "x": 1.078248637444228,
            "y": 1.1626201241503342
           }
          ]
         },
         "encoding": {
          "x": {
           "field": "x",
           "type": "quantitative"
          },
          "y": {
           "field": "y",
           "type": "quantitative"
          }
         },
         "mark": {
          "opacity": 0.4,
          "type": "line"
         }
        },
        {
         "data": {
          "values": [
           {
            "x": 0.2300574939958957,
            "y": 0
           },
           {
            "x": 0.2300574939958957,
            "y": 0.05292645054367159
           }
          ]
         },
         "encoding": {
          "x": {
           "field": "x",
           "type": "quantitative"
          },
          "y": {
           "field": "y",
           "type": "quantitative"
          }
         },
         "mark": {
          "opacity": 0.4,
          "type": "line"
         }
        },
        {
         "data": {
          "values": [
           {
            "x": 3.785208644811471,
            "y": 0
           },
           {
            "x": 3.785208644811471,
            "y": 14.327804484755491
           }
          ]
         },
         "encoding": {
          "x": {
           "field": "x",
           "type": "quantitative"
          },
          "y": {
           "field": "y",
           "type": "quantitative"
          }
         },
         "mark": {
          "opacity": 0.4,
          "type": "line"
         }
        },
        {
         "data": {
          "values": [
           {
            "x": 2.8092054305225465,
            "y": 0
           },
           {
            "x": 2.8092054305225465,
            "y": 7.891635150877366
           }
          ]
         },
         "encoding": {
          "x": {
           "field": "x",
           "type": "quantitative"
          },
          "y": {
           "field": "y",
           "type": "quantitative"
          }
         },
         "mark": {
          "opacity": 0.4,
          "type": "line"
         }
        },
        {
         "data": {
          "values": [
           {
            "x": 5.725485186004798,
            "y": 0
           },
           {
            "x": 5.725485186004798,
            "y": 32.7811806151604
           }
          ]
         },
         "encoding": {
          "x": {
           "field": "x",
           "type": "quantitative"
          },
          "y": {
           "field": "y",
           "type": "quantitative"
          }
         },
         "mark": {
          "opacity": 0.4,
          "type": "line"
         }
        },
        {
         "data": {
          "values": [
           {
            "x": 2.457811971144872,
            "y": 0
           },
           {
            "x": 2.457811971144872,
            "y": 6.040839685503041
           }
          ]
         },
         "encoding": {
          "x": {
           "field": "x",
           "type": "quantitative"
          },
          "y": {
           "field": "y",
           "type": "quantitative"
          }
         },
         "mark": {
          "opacity": 0.4,
          "type": "line"
         }
        },
        {
         "data": {
          "values": [
           {
            "x": 3.9091087370182733,
            "y": 0
           },
           {
            "x": 3.9091087370182733,
            "y": 15.2811311178326
           }
          ]
         },
         "encoding": {
          "x": {
           "field": "x",
           "type": "quantitative"
          },
          "y": {
           "field": "y",
           "type": "quantitative"
          }
         },
         "mark": {
          "opacity": 0.4,
          "type": "line"
         }
        },
        {
         "data": {
          "values": [
           {
            "x": 2.3831771221476474,
            "y": 0
           },
           {
            "x": 2.3831771221476474,
            "y": 5.6795331955279424
           }
          ]
         },
         "encoding": {
          "x": {
           "field": "x",
           "type": "quantitative"
          },
          "y": {
           "field": "y",
           "type": "quantitative"
          }
         },
         "mark": {
          "opacity": 0.4,
          "type": "line"
         }
        },
        {
         "data": {
          "values": [
           {
            "x": 3.7186058605271866,
            "y": 0
           },
           {
            "x": 3.7186058605271866,
            "y": 13.828029545947137
           }
          ]
         },
         "encoding": {
          "x": {
           "field": "x",
           "type": "quantitative"
          },
          "y": {
           "field": "y",
           "type": "quantitative"
          }
         },
         "mark": {
          "opacity": 0.4,
          "type": "line"
         }
        },
        {
         "data": {
          "values": [
           {
            "x": 0.7772531480300227,
            "y": 0
           },
           {
            "x": 0.7772531480300227,
            "y": 0.6041224561225803
           }
          ]
         },
         "encoding": {
          "x": {
           "field": "x",
           "type": "quantitative"
          },
          "y": {
           "field": "y",
           "type": "quantitative"
          }
         },
         "mark": {
          "opacity": 0.4,
          "type": "line"
         }
        },
        {
         "data": {
          "values": [
           {
            "x": 1.0658015817602842,
            "y": 0
           },
           {
            "x": 1.0658015817602842,
            "y": 1.1359330116827238
           }
          ]
         },
         "encoding": {
          "x": {
           "field": "x",
           "type": "quantitative"
          },
          "y": {
           "field": "y",
           "type": "quantitative"
          }
         },
         "mark": {
          "opacity": 0.4,
          "type": "line"
         }
        },
        {
         "data": {
          "values": [
           {
            "x": 2.0450467215062043,
            "y": 0
           },
           {
            "x": 2.0450467215062043,
            "y": 4.182216093143275
           }
          ]
         },
         "encoding": {
          "x": {
           "field": "x",
           "type": "quantitative"
          },
          "y": {
           "field": "y",
           "type": "quantitative"
          }
         },
         "mark": {
          "opacity": 0.4,
          "type": "line"
         }
        },
        {
         "data": {
          "values": [
           {
            "x": 2.8775256770469504,
            "y": 0
           },
           {
            "x": 2.8775256770469504,
            "y": 8.28015402206451
           }
          ]
         },
         "encoding": {
          "x": {
           "field": "x",
           "type": "quantitative"
          },
          "y": {
           "field": "y",
           "type": "quantitative"
          }
         },
         "mark": {
          "opacity": 0.4,
          "type": "line"
         }
        },
        {
         "data": {
          "values": [
           {
            "x": 4.138597696993618,
            "y": 0
           },
           {
            "x": 4.138597696993618,
            "y": 17.12799089756088
           }
          ]
         },
         "encoding": {
          "x": {
           "field": "x",
           "type": "quantitative"
          },
          "y": {
           "field": "y",
           "type": "quantitative"
          }
         },
         "mark": {
          "opacity": 0.4,
          "type": "line"
         }
        },
        {
         "data": {
          "values": [
           {
            "x": 3.8449707158402706,
            "y": 0
           },
           {
            "x": 3.8449707158402706,
            "y": 14.783799805669243
           }
          ]
         },
         "encoding": {
          "x": {
           "field": "x",
           "type": "quantitative"
          },
          "y": {
           "field": "y",
           "type": "quantitative"
          }
         },
         "mark": {
          "opacity": 0.4,
          "type": "line"
         }
        },
        {
         "data": {
          "values": [
           {
            "x": -1.386756704688834,
            "y": 0
           },
           {
            "x": -1.386756704688834,
            "y": 1.923094157999434
           }
          ]
         },
         "encoding": {
          "x": {
           "field": "x",
           "type": "quantitative"
          },
          "y": {
           "field": "y",
           "type": "quantitative"
          }
         },
         "mark": {
          "opacity": 0.4,
          "type": "line"
         }
        },
        {
         "data": {
          "values": [
           {
            "x": 1.6433697735339867,
            "y": 0
           },
           {
            "x": 1.6433697735339867,
            "y": 2.700664212565147
           }
          ]
         },
         "encoding": {
          "x": {
           "field": "x",
           "type": "quantitative"
          },
          "y": {
           "field": "y",
           "type": "quantitative"
          }
         },
         "mark": {
          "opacity": 0.4,
          "type": "line"
         }
        },
        {
         "data": {
          "values": [
           {
            "x": 3.5616868015040897,
            "y": 0
           },
           {
            "x": 3.5616868015040897,
            "y": 12.685612872008432
           }
          ]
         },
         "encoding": {
          "x": {
           "field": "x",
           "type": "quantitative"
          },
          "y": {
           "field": "y",
           "type": "quantitative"
          }
         },
         "mark": {
          "opacity": 0.4,
          "type": "line"
         }
        },
        {
         "data": {
          "values": [
           {
            "x": 1.9499728562431349,
            "y": 0
           },
           {
            "x": 1.9499728562431349,
            "y": 3.8023941400850094
           }
          ]
         },
         "encoding": {
          "x": {
           "field": "x",
           "type": "quantitative"
          },
          "y": {
           "field": "y",
           "type": "quantitative"
          }
         },
         "mark": {
          "opacity": 0.4,
          "type": "line"
         }
        },
        {
         "data": {
          "values": [
           {
            "x": -0.06513060986372432,
            "y": 0
           },
           {
            "x": -0.06513060986372432,
            "y": 0.004241996341220663
           }
          ]
         },
         "encoding": {
          "x": {
           "field": "x",
           "type": "quantitative"
          },
          "y": {
           "field": "y",
           "type": "quantitative"
          }
         },
         "mark": {
          "opacity": 0.4,
          "type": "line"
         }
        },
        {
         "data": {
          "values": [
           {
            "x": 0.5804861005016768,
            "y": 0
           },
           {
            "x": 0.5804861005016768,
            "y": 0.3369641128756428
           }
          ]
         },
         "encoding": {
          "x": {
           "field": "x",
           "type": "quantitative"
          },
          "y": {
           "field": "y",
           "type": "quantitative"
          }
         },
         "mark": {
          "opacity": 0.4,
          "type": "line"
         }
        },
        {
         "data": {
          "values": [
           {
            "x": 1.4580502792133507,
            "y": 0
           },
           {
            "x": 1.4580502792133507,
            "y": 2.12591061671413
           }
          ]
         },
         "encoding": {
          "x": {
           "field": "x",
           "type": "quantitative"
          },
          "y": {
           "field": "y",
           "type": "quantitative"
          }
         },
         "mark": {
          "opacity": 0.4,
          "type": "line"
         }
        },
        {
         "data": {
          "values": [
           {
            "x": 2.232899255230755,
            "y": 0
           },
           {
            "x": 2.232899255230755,
            "y": 4.98583908401006
           }
          ]
         },
         "encoding": {
          "x": {
           "field": "x",
           "type": "quantitative"
          },
          "y": {
           "field": "y",
           "type": "quantitative"
          }
         },
         "mark": {
          "opacity": 0.4,
          "type": "line"
         }
        },
        {
         "data": {
          "values": [
           {
            "x": 1.8294596890051413,
            "y": 0
           },
           {
            "x": 1.8294596890051413,
            "y": 3.3469227536947885
           }
          ]
         },
         "encoding": {
          "x": {
           "field": "x",
           "type": "quantitative"
          },
          "y": {
           "field": "y",
           "type": "quantitative"
          }
         },
         "mark": {
          "opacity": 0.4,
          "type": "line"
         }
        },
        {
         "data": {
          "values": [
           {
            "x": 2.2877396216063595,
            "y": 0
           },
           {
            "x": 2.2877396216063595,
            "y": 5.233752576267609
           }
          ]
         },
         "encoding": {
          "x": {
           "field": "x",
           "type": "quantitative"
          },
          "y": {
           "field": "y",
           "type": "quantitative"
          }
         },
         "mark": {
          "opacity": 0.4,
          "type": "line"
         }
        },
        {
         "data": {
          "values": [
           {
            "x": -0.12907735883441207,
            "y": 0
           },
           {
            "x": -0.12907735883441207,
            "y": 0.016660964563667575
           }
          ]
         },
         "encoding": {
          "x": {
           "field": "x",
           "type": "quantitative"
          },
          "y": {
           "field": "y",
           "type": "quantitative"
          }
         },
         "mark": {
          "opacity": 0.4,
          "type": "line"
         }
        },
        {
         "data": {
          "values": [
           {
            "x": 0.7772373990267976,
            "y": 0
           },
           {
            "x": 0.7772373990267976,
            "y": 0.6040979744459414
           }
          ]
         },
         "encoding": {
          "x": {
           "field": "x",
           "type": "quantitative"
          },
          "y": {
           "field": "y",
           "type": "quantitative"
          }
         },
         "mark": {
          "opacity": 0.4,
          "type": "line"
         }
        },
        {
         "data": {
          "values": [
           {
            "x": -1.1915009087511659,
            "y": 0
           },
           {
            "x": -1.1915009087511659,
            "y": 1.4196744155548542
           }
          ]
         },
         "encoding": {
          "x": {
           "field": "x",
           "type": "quantitative"
          },
          "y": {
           "field": "y",
           "type": "quantitative"
          }
         },
         "mark": {
          "opacity": 0.4,
          "type": "line"
         }
        },
        {
         "data": {
          "values": [
           {
            "x": 4.537062194667759,
            "y": 0
           },
           {
            "x": 4.537062194667759,
            "y": 20.584933358283422
           }
          ]
         },
         "encoding": {
          "x": {
           "field": "x",
           "type": "quantitative"
          },
          "y": {
           "field": "y",
           "type": "quantitative"
          }
         },
         "mark": {
          "opacity": 0.4,
          "type": "line"
         }
        },
        {
         "data": {
          "values": [
           {
            "x": 0.3762976295186711,
            "y": 0
           },
           {
            "x": 0.3762976295186711,
            "y": 0.14159990598137104
           }
          ]
         },
         "encoding": {
          "x": {
           "field": "x",
           "type": "quantitative"
          },
          "y": {
           "field": "y",
           "type": "quantitative"
          }
         },
         "mark": {
          "opacity": 0.4,
          "type": "line"
         }
        },
        {
         "data": {
          "values": [
           {
            "x": 1.7814051548210037,
            "y": 0
           },
           {
            "x": 1.7814051548210037,
            "y": 3.1734043256228444
           }
          ]
         },
         "encoding": {
          "x": {
           "field": "x",
           "type": "quantitative"
          },
          "y": {
           "field": "y",
           "type": "quantitative"
          }
         },
         "mark": {
          "opacity": 0.4,
          "type": "line"
         }
        },
        {
         "data": {
          "values": [
           {
            "x": 1.132640459516091,
            "y": 0
           },
           {
            "x": 1.132640459516091,
            "y": 1.2828744105328218
           }
          ]
         },
         "encoding": {
          "x": {
           "field": "x",
           "type": "quantitative"
          },
          "y": {
           "field": "y",
           "type": "quantitative"
          }
         },
         "mark": {
          "opacity": 0.4,
          "type": "line"
         }
        },
        {
         "data": {
          "values": [
           {
            "x": 3.3924093720315476,
            "y": 0
           },
           {
            "x": 3.3924093720315476,
            "y": 11.508441347447478
           }
          ]
         },
         "encoding": {
          "x": {
           "field": "x",
           "type": "quantitative"
          },
          "y": {
           "field": "y",
           "type": "quantitative"
          }
         },
         "mark": {
          "opacity": 0.4,
          "type": "line"
         }
        },
        {
         "data": {
          "values": [
           {
            "x": 2.1818952714788997,
            "y": 0
           },
           {
            "x": 2.1818952714788997,
            "y": 4.760666975701982
           }
          ]
         },
         "encoding": {
          "x": {
           "field": "x",
           "type": "quantitative"
          },
          "y": {
           "field": "y",
           "type": "quantitative"
          }
         },
         "mark": {
          "opacity": 0.4,
          "type": "line"
         }
        },
        {
         "data": {
          "values": [
           {
            "x": 4.737561564191099,
            "y": 0
           },
           {
            "x": 4.737561564191099,
            "y": 22.44448957450081
           }
          ]
         },
         "encoding": {
          "x": {
           "field": "x",
           "type": "quantitative"
          },
          "y": {
           "field": "y",
           "type": "quantitative"
          }
         },
         "mark": {
          "opacity": 0.4,
          "type": "line"
         }
        },
        {
         "data": {
          "values": [
           {
            "x": 5.762701487946016,
            "y": 0
           },
           {
            "x": 5.762701487946016,
            "y": 33.208728439175225
           }
          ]
         },
         "encoding": {
          "x": {
           "field": "x",
           "type": "quantitative"
          },
          "y": {
           "field": "y",
           "type": "quantitative"
          }
         },
         "mark": {
          "opacity": 0.4,
          "type": "line"
         }
        },
        {
         "data": {
          "values": [
           {
            "x": 3.270199111495986,
            "y": 0
           },
           {
            "x": 3.270199111495986,
            "y": 10.694202228829138
           }
          ]
         },
         "encoding": {
          "x": {
           "field": "x",
           "type": "quantitative"
          },
          "y": {
           "field": "y",
           "type": "quantitative"
          }
         },
         "mark": {
          "opacity": 0.4,
          "type": "line"
         }
        },
        {
         "data": {
          "values": [
           {
            "x": 3.0554179078957606,
            "y": 0
           },
           {
            "x": 3.0554179078957606,
            "y": 9.335578591890107
           }
          ]
         },
         "encoding": {
          "x": {
           "field": "x",
           "type": "quantitative"
          },
          "y": {
           "field": "y",
           "type": "quantitative"
          }
         },
         "mark": {
          "opacity": 0.4,
          "type": "line"
         }
        },
        {
         "data": {
          "values": [
           {
            "x": 0.6124261948609382,
            "y": 0
           },
           {
            "x": 0.6124261948609382,
            "y": 0.37506584415184785
           }
          ]
         },
         "encoding": {
          "x": {
           "field": "x",
           "type": "quantitative"
          },
          "y": {
           "field": "y",
           "type": "quantitative"
          }
         },
         "mark": {
          "opacity": 0.4,
          "type": "line"
         }
        },
        {
         "data": {
          "values": [
           {
            "x": 4.095989553924263,
            "y": 0
           },
           {
            "x": 4.095989553924263,
            "y": 16.777130425856686
           }
          ]
         },
         "encoding": {
          "x": {
           "field": "x",
           "type": "quantitative"
          },
          "y": {
           "field": "y",
           "type": "quantitative"
          }
         },
         "mark": {
          "opacity": 0.4,
          "type": "line"
         }
        },
        {
         "data": {
          "values": [
           {
            "x": 4.997870432107002,
            "y": 0
           },
           {
            "x": 4.997870432107002,
            "y": 24.978708856129437
           }
          ]
         },
         "encoding": {
          "x": {
           "field": "x",
           "type": "quantitative"
          },
          "y": {
           "field": "y",
           "type": "quantitative"
          }
         },
         "mark": {
          "opacity": 0.4,
          "type": "line"
         }
        },
        {
         "data": {
          "values": [
           {
            "x": 3.7136352936388324,
            "y": 0
           },
           {
            "x": 3.7136352936388324,
            "y": 13.791087094159977
           }
          ]
         },
         "encoding": {
          "x": {
           "field": "x",
           "type": "quantitative"
          },
          "y": {
           "field": "y",
           "type": "quantitative"
          }
         },
         "mark": {
          "opacity": 0.4,
          "type": "line"
         }
        },
        {
         "data": {
          "values": [
           {
            "x": 2.6252074971731707,
            "y": 0
           },
           {
            "x": 2.6252074971731707,
            "y": 6.891714403214223
           }
          ]
         },
         "encoding": {
          "x": {
           "field": "x",
           "type": "quantitative"
          },
          "y": {
           "field": "y",
           "type": "quantitative"
          }
         },
         "mark": {
          "opacity": 0.4,
          "type": "line"
         }
        },
        {
         "data": {
          "values": [
           {
            "x": 0.4017159267210957,
            "y": 0
           },
           {
            "x": 0.4017159267210957,
            "y": 0.16137568578138872
           }
          ]
         },
         "encoding": {
          "x": {
           "field": "x",
           "type": "quantitative"
          },
          "y": {
           "field": "y",
           "type": "quantitative"
          }
         },
         "mark": {
          "opacity": 0.4,
          "type": "line"
         }
        },
        {
         "data": {
          "values": [
           {
            "x": 6.712557256506118,
            "y": 0
           },
           {
            "x": 6.712557256506118,
            "y": 45.05842492187294
           }
          ]
         },
         "encoding": {
          "x": {
           "field": "x",
           "type": "quantitative"
          },
          "y": {
           "field": "y",
           "type": "quantitative"
          }
         },
         "mark": {
          "opacity": 0.4,
          "type": "line"
         }
        },
        {
         "data": {
          "values": [
           {
            "x": 1.2377326332278813,
            "y": 0
           },
           {
            "x": 1.2377326332278813,
            "y": 1.531982071357225
           }
          ]
         },
         "encoding": {
          "x": {
           "field": "x",
           "type": "quantitative"
          },
          "y": {
           "field": "y",
           "type": "quantitative"
          }
         },
         "mark": {
          "opacity": 0.4,
          "type": "line"
         }
        },
        {
         "data": {
          "values": [
           {
            "x": -0.24143961650255674,
            "y": 0
           },
           {
            "x": -0.24143961650255674,
            "y": 0.05829308841690167
           }
          ]
         },
         "encoding": {
          "x": {
           "field": "x",
           "type": "quantitative"
          },
          "y": {
           "field": "y",
           "type": "quantitative"
          }
         },
         "mark": {
          "opacity": 0.4,
          "type": "line"
         }
        },
        {
         "data": {
          "values": [
           {
            "x": 1.144109640454775,
            "y": 0
           },
           {
            "x": 1.144109640454775,
            "y": 1.3089868693815545
           }
          ]
         },
         "encoding": {
          "x": {
           "field": "x",
           "type": "quantitative"
          },
          "y": {
           "field": "y",
           "type": "quantitative"
          }
         },
         "mark": {
          "opacity": 0.4,
          "type": "line"
         }
        },
        {
         "data": {
          "values": [
           {
            "x": 2.164060906468851,
            "y": 0
           },
           {
            "x": 2.164060906468851,
            "y": 4.683159606906786
           }
          ]
         },
         "encoding": {
          "x": {
           "field": "x",
           "type": "quantitative"
          },
          "y": {
           "field": "y",
           "type": "quantitative"
          }
         },
         "mark": {
          "opacity": 0.4,
          "type": "line"
         }
        },
        {
         "data": {
          "values": [
           {
            "x": 1.8224801586936672,
            "y": 0
           },
           {
            "x": 1.8224801586936672,
            "y": 3.321433928832094
           }
          ]
         },
         "encoding": {
          "x": {
           "field": "x",
           "type": "quantitative"
          },
          "y": {
           "field": "y",
           "type": "quantitative"
          }
         },
         "mark": {
          "opacity": 0.4,
          "type": "line"
         }
        },
        {
         "data": {
          "values": [
           {
            "x": -0.24990980058372614,
            "y": 0
           },
           {
            "x": -0.24990980058372614,
            "y": 0.062454908427797766
           }
          ]
         },
         "encoding": {
          "x": {
           "field": "x",
           "type": "quantitative"
          },
          "y": {
           "field": "y",
           "type": "quantitative"
          }
         },
         "mark": {
          "opacity": 0.4,
          "type": "line"
         }
        },
        {
         "data": {
          "values": [
           {
            "x": 0.9278615788927682,
            "y": 0
           },
           {
            "x": 0.9278615788927682,
            "y": 0.8609271095853808
           }
          ]
         },
         "encoding": {
          "x": {
           "field": "x",
           "type": "quantitative"
          },
          "y": {
           "field": "y",
           "type": "quantitative"
          }
         },
         "mark": {
          "opacity": 0.4,
          "type": "line"
         }
        },
        {
         "data": {
          "values": [
           {
            "x": 2.748319934780258,
            "y": 0
           },
           {
            "x": 2.748319934780258,
            "y": 7.553262463910562
           }
          ]
         },
         "encoding": {
          "x": {
           "field": "x",
           "type": "quantitative"
          },
          "y": {
           "field": "y",
           "type": "quantitative"
          }
         },
         "mark": {
          "opacity": 0.4,
          "type": "line"
         }
        },
        {
         "data": {
          "values": [
           {
            "x": 0.9112713407880699,
            "y": 0
           },
           {
            "x": 0.9112713407880699,
            "y": 0.8304154565416867
           }
          ]
         },
         "encoding": {
          "x": {
           "field": "x",
           "type": "quantitative"
          },
          "y": {
           "field": "y",
           "type": "quantitative"
          }
         },
         "mark": {
          "opacity": 0.4,
          "type": "line"
         }
        },
        {
         "data": {
          "values": [
           {
            "x": 4.356042474893306,
            "y": 0
           },
           {
            "x": 4.356042474893306,
            "y": 18.975106043074604
           }
          ]
         },
         "encoding": {
          "x": {
           "field": "x",
           "type": "quantitative"
          },
          "y": {
           "field": "y",
           "type": "quantitative"
          }
         },
         "mark": {
          "opacity": 0.4,
          "type": "line"
         }
        },
        {
         "data": {
          "values": [
           {
            "x": 3.7945956404194723,
            "y": 0
           },
           {
            "x": 3.7945956404194723,
            "y": 14.398956074290465
           }
          ]
         },
         "encoding": {
          "x": {
           "field": "x",
           "type": "quantitative"
          },
          "y": {
           "field": "y",
           "type": "quantitative"
          }
         },
         "mark": {
          "opacity": 0.4,
          "type": "line"
         }
        },
        {
         "data": {
          "values": [
           {
            "x": 2.45366263096923,
            "y": 0
           },
           {
            "x": 2.45366263096923,
            "y": 6.0204603066148445
           }
          ]
         },
         "encoding": {
          "x": {
           "field": "x",
           "type": "quantitative"
          },
          "y": {
           "field": "y",
           "type": "quantitative"
          }
         },
         "mark": {
          "opacity": 0.4,
          "type": "line"
         }
        },
        {
         "data": {
          "values": [
           {
            "x": 0.8373706221986852,
            "y": 0
           },
           {
            "x": 0.8373706221986852,
            "y": 0.7011895589214132
           }
          ]
         },
         "encoding": {
          "x": {
           "field": "x",
           "type": "quantitative"
          },
          "y": {
           "field": "y",
           "type": "quantitative"
          }
         },
         "mark": {
          "opacity": 0.4,
          "type": "line"
         }
        },
        {
         "data": {
          "values": [
           {
            "x": 1.1462587529978963,
            "y": 0
           },
           {
            "x": 1.1462587529978963,
            "y": 1.3139091288242921
           }
          ]
         },
         "encoding": {
          "x": {
           "field": "x",
           "type": "quantitative"
          },
          "y": {
           "field": "y",
           "type": "quantitative"
          }
         },
         "mark": {
          "opacity": 0.4,
          "type": "line"
         }
        },
        {
         "data": {
          "values": [
           {
            "x": -0.5908416716507952,
            "y": 0
           },
           {
            "x": -0.5908416716507952,
            "y": 0.34909388095910604
           }
          ]
         },
         "encoding": {
          "x": {
           "field": "x",
           "type": "quantitative"
          },
          "y": {
           "field": "y",
           "type": "quantitative"
          }
         },
         "mark": {
          "opacity": 0.4,
          "type": "line"
         }
        },
        {
         "data": {
          "values": [
           {
            "x": 1.137957704177626,
            "y": 0
           },
           {
            "x": 1.137957704177626,
            "y": 1.2949477364972135
           }
          ]
         },
         "encoding": {
          "x": {
           "field": "x",
           "type": "quantitative"
          },
          "y": {
           "field": "y",
           "type": "quantitative"
          }
         },
         "mark": {
          "opacity": 0.4,
          "type": "line"
         }
        },
        {
         "data": {
          "values": [
           {
            "x": 4.138128867087882,
            "y": 0
           },
           {
            "x": 4.138128867087882,
            "y": 17.12411052062604
           }
          ]
         },
         "encoding": {
          "x": {
           "field": "x",
           "type": "quantitative"
          },
          "y": {
           "field": "y",
           "type": "quantitative"
          }
         },
         "mark": {
          "opacity": 0.4,
          "type": "line"
         }
        },
        {
         "data": {
          "values": [
           {
            "x": 4.406268237735613,
            "y": 0
           },
           {
            "x": 4.406268237735613,
            "y": 19.415199782877707
           }
          ]
         },
         "encoding": {
          "x": {
           "field": "x",
           "type": "quantitative"
          },
          "y": {
           "field": "y",
           "type": "quantitative"
          }
         },
         "mark": {
          "opacity": 0.4,
          "type": "line"
         }
        },
        {
         "data": {
          "values": [
           {
            "x": 3.874669598291944,
            "y": 0
           },
           {
            "x": 3.874669598291944,
            "y": 15.013064495927853
           }
          ]
         },
         "encoding": {
          "x": {
           "field": "x",
           "type": "quantitative"
          },
          "y": {
           "field": "y",
           "type": "quantitative"
          }
         },
         "mark": {
          "opacity": 0.4,
          "type": "line"
         }
        },
        {
         "data": {
          "values": [
           {
            "x": 0.2822562908055901,
            "y": 0
           },
           {
            "x": 0.2822562908055901,
            "y": 0.07966861369932986
           }
          ]
         },
         "encoding": {
          "x": {
           "field": "x",
           "type": "quantitative"
          },
          "y": {
           "field": "y",
           "type": "quantitative"
          }
         },
         "mark": {
          "opacity": 0.4,
          "type": "line"
         }
        },
        {
         "data": {
          "values": [
           {
            "x": 2.9039836084562918,
            "y": 0
           },
           {
            "x": 2.9039836084562918,
            "y": 8.433120798182825
           }
          ]
         },
         "encoding": {
          "x": {
           "field": "x",
           "type": "quantitative"
          },
          "y": {
           "field": "y",
           "type": "quantitative"
          }
         },
         "mark": {
          "opacity": 0.4,
          "type": "line"
         }
        },
        {
         "data": {
          "values": [
           {
            "x": 0.9472241709546756,
            "y": 0
           },
           {
            "x": 0.9472241709546756,
            "y": 0.8972336300407725
           }
          ]
         },
         "encoding": {
          "x": {
           "field": "x",
           "type": "quantitative"
          },
          "y": {
           "field": "y",
           "type": "quantitative"
          }
         },
         "mark": {
          "opacity": 0.4,
          "type": "line"
         }
        },
        {
         "data": {
          "values": [
           {
            "x": 3.166498141527157,
            "y": 0
           },
           {
            "x": 3.166498141527157,
            "y": 10.02671048029494
           }
          ]
         },
         "encoding": {
          "x": {
           "field": "x",
           "type": "quantitative"
          },
          "y": {
           "field": "y",
           "type": "quantitative"
          }
         },
         "mark": {
          "opacity": 0.4,
          "type": "line"
         }
        },
        {
         "data": {
          "values": [
           {
            "x": 2.8927692794045425,
            "y": 0
           },
           {
            "x": 2.8927692794045425,
            "y": 8.368114103866676
           }
          ]
         },
         "encoding": {
          "x": {
           "field": "x",
           "type": "quantitative"
          },
          "y": {
           "field": "y",
           "type": "quantitative"
          }
         },
         "mark": {
          "opacity": 0.4,
          "type": "line"
         }
        },
        {
         "data": {
          "values": [
           {
            "x": 4.559007501098488,
            "y": 0
           },
           {
            "x": 4.559007501098488,
            "y": 20.784549395072283
           }
          ]
         },
         "encoding": {
          "x": {
           "field": "x",
           "type": "quantitative"
          },
          "y": {
           "field": "y",
           "type": "quantitative"
          }
         },
         "mark": {
          "opacity": 0.4,
          "type": "line"
         }
        },
        {
         "data": {
          "values": [
           {
            "x": 1.275142885319621,
            "y": 0
           },
           {
            "x": 1.275142885319621,
            "y": 1.625989377981248
           }
          ]
         },
         "encoding": {
          "x": {
           "field": "x",
           "type": "quantitative"
          },
          "y": {
           "field": "y",
           "type": "quantitative"
          }
         },
         "mark": {
          "opacity": 0.4,
          "type": "line"
         }
        },
        {
         "data": {
          "values": [
           {
            "x": 3.937826627411397,
            "y": 0
           },
           {
            "x": 3.937826627411397,
            "y": 15.506478547550216
           }
          ]
         },
         "encoding": {
          "x": {
           "field": "x",
           "type": "quantitative"
          },
          "y": {
           "field": "y",
           "type": "quantitative"
          }
         },
         "mark": {
          "opacity": 0.4,
          "type": "line"
         }
        },
        {
         "data": {
          "values": [
           {
            "x": 0.4890167347632959,
            "y": 0
           },
           {
            "x": 0.4890167347632959,
            "y": 0.23913736687855566
           }
          ]
         },
         "encoding": {
          "x": {
           "field": "x",
           "type": "quantitative"
          },
          "y": {
           "field": "y",
           "type": "quantitative"
          }
         },
         "mark": {
          "opacity": 0.4,
          "type": "line"
         }
        },
        {
         "data": {
          "values": [
           {
            "x": -0.18527878948716037,
            "y": 0
           },
           {
            "x": -0.18527878948716037,
            "y": 0.03432822983382749
           }
          ]
         },
         "encoding": {
          "x": {
           "field": "x",
           "type": "quantitative"
          },
          "y": {
           "field": "y",
           "type": "quantitative"
          }
         },
         "mark": {
          "opacity": 0.4,
          "type": "line"
         }
        },
        {
         "data": {
          "values": [
           {
            "x": 3.7054358344342253,
            "y": 0
           },
           {
            "x": 3.7054358344342253,
            "y": 13.730254723109264
           }
          ]
         },
         "encoding": {
          "x": {
           "field": "x",
           "type": "quantitative"
          },
          "y": {
           "field": "y",
           "type": "quantitative"
          }
         },
         "mark": {
          "opacity": 0.4,
          "type": "line"
         }
        },
        {
         "data": {
          "values": [
           {
            "x": 0.9726159394868366,
            "y": 0
           },
           {
            "x": 0.9726159394868366,
            "y": 0.9459817657438617
           }
          ]
         },
         "encoding": {
          "x": {
           "field": "x",
           "type": "quantitative"
          },
          "y": {
           "field": "y",
           "type": "quantitative"
          }
         },
         "mark": {
          "opacity": 0.4,
          "type": "line"
         }
        },
        {
         "data": {
          "values": [
           {
            "x": 2.4786859646179438,
            "y": 0
           },
           {
            "x": 2.4786859646179438,
            "y": 6.143884111193986
           }
          ]
         },
         "encoding": {
          "x": {
           "field": "x",
           "type": "quantitative"
          },
          "y": {
           "field": "y",
           "type": "quantitative"
          }
         },
         "mark": {
          "opacity": 0.4,
          "type": "line"
         }
        },
        {
         "data": {
          "values": [
           {
            "x": 0.4219897636988872,
            "y": 0
           },
           {
            "x": 0.4219897636988872,
            "y": 0.17807536066664265
           }
          ]
         },
         "encoding": {
          "x": {
           "field": "x",
           "type": "quantitative"
          },
          "y": {
           "field": "y",
           "type": "quantitative"
          }
         },
         "mark": {
          "opacity": 0.4,
          "type": "line"
         }
        },
        {
         "data": {
          "values": [
           {
            "x": 1.7777292317912867,
            "y": 0
           },
           {
            "x": 1.7777292317912867,
            "y": 3.1603212215652383
           }
          ]
         },
         "encoding": {
          "x": {
           "field": "x",
           "type": "quantitative"
          },
          "y": {
           "field": "y",
           "type": "quantitative"
          }
         },
         "mark": {
          "opacity": 0.4,
          "type": "line"
         }
        },
        {
         "data": {
          "values": [
           {
            "x": 2.2577091459902947,
            "y": 0
           },
           {
            "x": 2.2577091459902947,
            "y": 5.097250587888226
           }
          ]
         },
         "encoding": {
          "x": {
           "field": "x",
           "type": "quantitative"
          },
          "y": {
           "field": "y",
           "type": "quantitative"
          }
         },
         "mark": {
          "opacity": 0.4,
          "type": "line"
         }
        },
        {
         "data": {
          "values": [
           {
            "x": 3.508000010726339,
            "y": 0
           },
           {
            "x": 3.508000010726339,
            "y": 12.306064075255994
           }
          ]
         },
         "encoding": {
          "x": {
           "field": "x",
           "type": "quantitative"
          },
          "y": {
           "field": "y",
           "type": "quantitative"
          }
         },
         "mark": {
          "opacity": 0.4,
          "type": "line"
         }
        },
        {
         "data": {
          "values": [
           {
            "x": 3.7822431886705656,
            "y": 0
           },
           {
            "x": 3.7822431886705656,
            "y": 14.305363538244888
           }
          ]
         },
         "encoding": {
          "x": {
           "field": "x",
           "type": "quantitative"
          },
          "y": {
           "field": "y",
           "type": "quantitative"
          }
         },
         "mark": {
          "opacity": 0.4,
          "type": "line"
         }
        },
        {
         "data": {
          "values": [
           {
            "x": 0.922424230415849,
            "y": 0
           },
           {
            "x": 0.922424230415849,
            "y": 0.8508664608582712
           }
          ]
         },
         "encoding": {
          "x": {
           "field": "x",
           "type": "quantitative"
          },
          "y": {
           "field": "y",
           "type": "quantitative"
          }
         },
         "mark": {
          "opacity": 0.4,
          "type": "line"
         }
        },
        {
         "data": {
          "values": [
           {
            "x": 1.209744684500962,
            "y": 0
           },
           {
            "x": 1.209744684500962,
            "y": 1.4634822016783322
           }
          ]
         },
         "encoding": {
          "x": {
           "field": "x",
           "type": "quantitative"
          },
          "y": {
           "field": "y",
           "type": "quantitative"
          }
         },
         "mark": {
          "opacity": 0.4,
          "type": "line"
         }
        },
        {
         "data": {
          "values": [
           {
            "x": 5.042809607357923,
            "y": 0
           },
           {
            "x": 5.042809607357923,
            "y": 25.42992873606137
           }
          ]
         },
         "encoding": {
          "x": {
           "field": "x",
           "type": "quantitative"
          },
          "y": {
           "field": "y",
           "type": "quantitative"
          }
         },
         "mark": {
          "opacity": 0.4,
          "type": "line"
         }
        },
        {
         "data": {
          "values": [
           {
            "x": 4.4196413591906785,
            "y": 0
           },
           {
            "x": 4.4196413591906785,
            "y": 19.533229743868826
           }
          ]
         },
         "encoding": {
          "x": {
           "field": "x",
           "type": "quantitative"
          },
          "y": {
           "field": "y",
           "type": "quantitative"
          }
         },
         "mark": {
          "opacity": 0.4,
          "type": "line"
         }
        },
        {
         "data": {
          "values": [
           {
            "x": 1.7673246572197623,
            "y": 0
           },
           {
            "x": 1.7673246572197623,
            "y": 3.12343644401695
           }
          ]
         },
         "encoding": {
          "x": {
           "field": "x",
           "type": "quantitative"
          },
          "y": {
           "field": "y",
           "type": "quantitative"
          }
         },
         "mark": {
          "opacity": 0.4,
          "type": "line"
         }
        },
        {
         "data": {
          "values": [
           {
            "x": -0.04422620667739796,
            "y": 0
           },
           {
            "x": -0.04422620667739796,
            "y": 0.00195595735707192
           }
          ]
         },
         "encoding": {
          "x": {
           "field": "x",
           "type": "quantitative"
          },
          "y": {
           "field": "y",
           "type": "quantitative"
          }
         },
         "mark": {
          "opacity": 0.4,
          "type": "line"
         }
        },
        {
         "data": {
          "values": [
           {
            "x": 2.724705038121771,
            "y": 0
           },
           {
            "x": 2.724705038121771,
            "y": 7.42401754476616
           }
          ]
         },
         "encoding": {
          "x": {
           "field": "x",
           "type": "quantitative"
          },
          "y": {
           "field": "y",
           "type": "quantitative"
          }
         },
         "mark": {
          "opacity": 0.4,
          "type": "line"
         }
        },
        {
         "data": {
          "values": [
           {
            "x": 4.67540602655599,
            "y": 0
           },
           {
            "x": 4.67540602655599,
            "y": 21.85942151315607
           }
          ]
         },
         "encoding": {
          "x": {
           "field": "x",
           "type": "quantitative"
          },
          "y": {
           "field": "y",
           "type": "quantitative"
          }
         },
         "mark": {
          "opacity": 0.4,
          "type": "line"
         }
        },
        {
         "data": {
          "values": [
           {
            "x": 3.194358102869247,
            "y": 0
           },
           {
            "x": 3.194358102869247,
            "y": 10.203923689366416
           }
          ]
         },
         "encoding": {
          "x": {
           "field": "x",
           "type": "quantitative"
          },
          "y": {
           "field": "y",
           "type": "quantitative"
          }
         },
         "mark": {
          "opacity": 0.4,
          "type": "line"
         }
        },
        {
         "data": {
          "values": [
           {
            "x": 2.2583659125166164,
            "y": 0
           },
           {
            "x": 2.2583659125166164,
            "y": 5.1002165948170095
           }
          ]
         },
         "encoding": {
          "x": {
           "field": "x",
           "type": "quantitative"
          },
          "y": {
           "field": "y",
           "type": "quantitative"
          }
         },
         "mark": {
          "opacity": 0.4,
          "type": "line"
         }
        },
        {
         "data": {
          "values": [
           {
            "x": 0.7205916342321852,
            "y": 0
           },
           {
            "x": 0.7205916342321852,
            "y": 0.5192523033254114
           }
          ]
         },
         "encoding": {
          "x": {
           "field": "x",
           "type": "quantitative"
          },
          "y": {
           "field": "y",
           "type": "quantitative"
          }
         },
         "mark": {
          "opacity": 0.4,
          "type": "line"
         }
        },
        {
         "data": {
          "values": [
           {
            "x": 2.746364783832142,
            "y": 0
           },
           {
            "x": 2.746364783832142,
            "y": 7.542519525873368
           }
          ]
         },
         "encoding": {
          "x": {
           "field": "x",
           "type": "quantitative"
          },
          "y": {
           "field": "y",
           "type": "quantitative"
          }
         },
         "mark": {
          "opacity": 0.4,
          "type": "line"
         }
        },
        {
         "data": {
          "values": [
           {
            "x": 2.64427053469785,
            "y": 0
           },
           {
            "x": 2.64427053469785,
            "y": 6.992166660671254
           }
          ]
         },
         "encoding": {
          "x": {
           "field": "x",
           "type": "quantitative"
          },
          "y": {
           "field": "y",
           "type": "quantitative"
          }
         },
         "mark": {
          "opacity": 0.4,
          "type": "line"
         }
        },
        {
         "data": {
          "values": [
           {
            "x": 0.7912039928455248,
            "y": 0
           },
           {
            "x": 0.7912039928455248,
            "y": 0.6260037582947012
           }
          ]
         },
         "encoding": {
          "x": {
           "field": "x",
           "type": "quantitative"
          },
          "y": {
           "field": "y",
           "type": "quantitative"
          }
         },
         "mark": {
          "opacity": 0.4,
          "type": "line"
         }
        },
        {
         "data": {
          "values": [
           {
            "x": 0.18195461566645177,
            "y": 0
           },
           {
            "x": 0.18195461566645177,
            "y": 0.033107482162326174
           }
          ]
         },
         "encoding": {
          "x": {
           "field": "x",
           "type": "quantitative"
          },
          "y": {
           "field": "y",
           "type": "quantitative"
          }
         },
         "mark": {
          "opacity": 0.4,
          "type": "line"
         }
        },
        {
         "data": {
          "values": [
           {
            "x": 3.9781615742445995,
            "y": 0
           },
           {
            "x": 3.9781615742445995,
            "y": 15.82576951079627
           }
          ]
         },
         "encoding": {
          "x": {
           "field": "x",
           "type": "quantitative"
          },
          "y": {
           "field": "y",
           "type": "quantitative"
          }
         },
         "mark": {
          "opacity": 0.4,
          "type": "line"
         }
        },
        {
         "data": {
          "values": [
           {
            "x": 4.294255490430035,
            "y": 0
           },
           {
            "x": 4.294255490430035,
            "y": 18.4406302170885
           }
          ]
         },
         "encoding": {
          "x": {
           "field": "x",
           "type": "quantitative"
          },
          "y": {
           "field": "y",
           "type": "quantitative"
          }
         },
         "mark": {
          "opacity": 0.4,
          "type": "line"
         }
        },
        {
         "data": {
          "values": [
           {
            "x": 0.2092146468606555,
            "y": 0
           },
           {
            "x": 0.2092146468606555,
            "y": 0.043770768461028786
           }
          ]
         },
         "encoding": {
          "x": {
           "field": "x",
           "type": "quantitative"
          },
          "y": {
           "field": "y",
           "type": "quantitative"
          }
         },
         "mark": {
          "opacity": 0.4,
          "type": "line"
         }
        },
        {
         "data": {
          "values": [
           {
            "x": 3.356757128725984,
            "y": 0
           },
           {
            "x": 3.356757128725984,
            "y": 11.267818421252713
           }
          ]
         },
         "encoding": {
          "x": {
           "field": "x",
           "type": "quantitative"
          },
          "y": {
           "field": "y",
           "type": "quantitative"
          }
         },
         "mark": {
          "opacity": 0.4,
          "type": "line"
         }
        },
        {
         "data": {
          "values": [
           {
            "x": 5.090416092997229,
            "y": 0
           },
           {
            "x": 5.090416092997229,
            "y": 25.912335999845173
           }
          ]
         },
         "encoding": {
          "x": {
           "field": "x",
           "type": "quantitative"
          },
          "y": {
           "field": "y",
           "type": "quantitative"
          }
         },
         "mark": {
          "opacity": 0.4,
          "type": "line"
         }
        },
        {
         "data": {
          "values": [
           {
            "x": 4.276064186778701,
            "y": 0
           },
           {
            "x": 4.276064186778701,
            "y": 18.284724929451393
           }
          ]
         },
         "encoding": {
          "x": {
           "field": "x",
           "type": "quantitative"
          },
          "y": {
           "field": "y",
           "type": "quantitative"
          }
         },
         "mark": {
          "opacity": 0.4,
          "type": "line"
         }
        },
        {
         "data": {
          "values": [
           {
            "x": 3.5330851893062856,
            "y": 0
           },
           {
            "x": 3.5330851893062856,
            "y": 12.482690954895432
           }
          ]
         },
         "encoding": {
          "x": {
           "field": "x",
           "type": "quantitative"
          },
          "y": {
           "field": "y",
           "type": "quantitative"
          }
         },
         "mark": {
          "opacity": 0.4,
          "type": "line"
         }
        },
        {
         "data": {
          "values": [
           {
            "x": 2.111441380908267,
            "y": 0
           },
           {
            "x": 2.111441380908267,
            "y": 4.458184705011809
           }
          ]
         },
         "encoding": {
          "x": {
           "field": "x",
           "type": "quantitative"
          },
          "y": {
           "field": "y",
           "type": "quantitative"
          }
         },
         "mark": {
          "opacity": 0.4,
          "type": "line"
         }
        },
        {
         "data": {
          "values": [
           {
            "x": 3.750572308256867,
            "y": 0
           },
           {
            "x": 3.750572308256867,
            "y": 14.066792639463245
           }
          ]
         },
         "encoding": {
          "x": {
           "field": "x",
           "type": "quantitative"
          },
          "y": {
           "field": "y",
           "type": "quantitative"
          }
         },
         "mark": {
          "opacity": 0.4,
          "type": "line"
         }
        },
        {
         "data": {
          "values": [
           {
            "x": 1.097798609572146,
            "y": 0
           },
           {
            "x": 1.097798609572146,
            "y": 1.205161787178537
           }
          ]
         },
         "encoding": {
          "x": {
           "field": "x",
           "type": "quantitative"
          },
          "y": {
           "field": "y",
           "type": "quantitative"
          }
         },
         "mark": {
          "opacity": 0.4,
          "type": "line"
         }
        },
        {
         "data": {
          "values": [
           {
            "x": 5.408017054840286,
            "y": 0
           },
           {
            "x": 5.408017054840286,
            "y": 29.246648465443403
           }
          ]
         },
         "encoding": {
          "x": {
           "field": "x",
           "type": "quantitative"
          },
          "y": {
           "field": "y",
           "type": "quantitative"
          }
         },
         "mark": {
          "opacity": 0.4,
          "type": "line"
         }
        },
        {
         "data": {
          "values": [
           {
            "x": 2.8089999608589213,
            "y": 0
           },
           {
            "x": 2.8089999608589213,
            "y": 7.890480780105421
           }
          ]
         },
         "encoding": {
          "x": {
           "field": "x",
           "type": "quantitative"
          },
          "y": {
           "field": "y",
           "type": "quantitative"
          }
         },
         "mark": {
          "opacity": 0.4,
          "type": "line"
         }
        },
        {
         "data": {
          "values": [
           {
            "x": -1.46066167360032,
            "y": 0
           },
           {
            "x": -1.46066167360032,
            "y": 2.1335325247248877
           }
          ]
         },
         "encoding": {
          "x": {
           "field": "x",
           "type": "quantitative"
          },
          "y": {
           "field": "y",
           "type": "quantitative"
          }
         },
         "mark": {
          "opacity": 0.4,
          "type": "line"
         }
        },
        {
         "data": {
          "values": [
           {
            "x": 3.8373415408523215,
            "y": 0
           },
           {
            "x": 3.8373415408523215,
            "y": 14.725190101150869
           }
          ]
         },
         "encoding": {
          "x": {
           "field": "x",
           "type": "quantitative"
          },
          "y": {
           "field": "y",
           "type": "quantitative"
          }
         },
         "mark": {
          "opacity": 0.4,
          "type": "line"
         }
        },
        {
         "data": {
          "values": [
           {
            "x": 6.291506943560783,
            "y": 0
           },
           {
            "x": 6.291506943560783,
            "y": 39.58305962087355
           }
          ]
         },
         "encoding": {
          "x": {
           "field": "x",
           "type": "quantitative"
          },
          "y": {
           "field": "y",
           "type": "quantitative"
          }
         },
         "mark": {
          "opacity": 0.4,
          "type": "line"
         }
        },
        {
         "data": {
          "values": [
           {
            "x": 4.1399437218882,
            "y": 0
           },
           {
            "x": 4.1399437218882,
            "y": 17.139134020401517
           }
          ]
         },
         "encoding": {
          "x": {
           "field": "x",
           "type": "quantitative"
          },
          "y": {
           "field": "y",
           "type": "quantitative"
          }
         },
         "mark": {
          "opacity": 0.4,
          "type": "line"
         }
        },
        {
         "data": {
          "values": [
           {
            "x": 3.3341555633971742,
            "y": 0
           },
           {
            "x": 3.3341555633971742,
            "y": 11.116593320932328
           }
          ]
         },
         "encoding": {
          "x": {
           "field": "x",
           "type": "quantitative"
          },
          "y": {
           "field": "y",
           "type": "quantitative"
          }
         },
         "mark": {
          "opacity": 0.4,
          "type": "line"
         }
        },
        {
         "data": {
          "values": [
           {
            "x": 3.5937682944615337,
            "y": 0
           },
           {
            "x": 3.5937682944615337,
            "y": 12.91517055427696
           }
          ]
         },
         "encoding": {
          "x": {
           "field": "x",
           "type": "quantitative"
          },
          "y": {
           "field": "y",
           "type": "quantitative"
          }
         },
         "mark": {
          "opacity": 0.4,
          "type": "line"
         }
        },
        {
         "data": {
          "values": [
           {
            "x": -0.6125105367828914,
            "y": 0
           },
           {
            "x": -0.6125105367828914,
            "y": 0.3751691576700657
           }
          ]
         },
         "encoding": {
          "x": {
           "field": "x",
           "type": "quantitative"
          },
          "y": {
           "field": "y",
           "type": "quantitative"
          }
         },
         "mark": {
          "opacity": 0.4,
          "type": "line"
         }
        },
        {
         "data": {
          "values": [
           {
            "x": 0.382991441245744,
            "y": 0
           },
           {
            "x": 0.382991441245744,
            "y": 0.1466824440674922
           }
          ]
         },
         "encoding": {
          "x": {
           "field": "x",
           "type": "quantitative"
          },
          "y": {
           "field": "y",
           "type": "quantitative"
          }
         },
         "mark": {
          "opacity": 0.4,
          "type": "line"
         }
        },
        {
         "data": {
          "values": [
           {
            "x": 1.2579136423287323,
            "y": 0
           },
           {
            "x": 1.2579136423287323,
            "y": 1.5823467315567377
           }
          ]
         },
         "encoding": {
          "x": {
           "field": "x",
           "type": "quantitative"
          },
          "y": {
           "field": "y",
           "type": "quantitative"
          }
         },
         "mark": {
          "opacity": 0.4,
          "type": "line"
         }
        },
        {
         "data": {
          "values": [
           {
            "x": 3.612464651418482,
            "y": 0
           },
           {
            "x": 3.612464651418482,
            "y": 13.049900857748055
           }
          ]
         },
         "encoding": {
          "x": {
           "field": "x",
           "type": "quantitative"
          },
          "y": {
           "field": "y",
           "type": "quantitative"
          }
         },
         "mark": {
          "opacity": 0.4,
          "type": "line"
         }
        },
        {
         "data": {
          "values": [
           {
            "x": 2.4301405502709397,
            "y": 0
           },
           {
            "x": 2.4301405502709397,
            "y": 5.905583094071146
           }
          ]
         },
         "encoding": {
          "x": {
           "field": "x",
           "type": "quantitative"
          },
          "y": {
           "field": "y",
           "type": "quantitative"
          }
         },
         "mark": {
          "opacity": 0.4,
          "type": "line"
         }
        },
        {
         "data": {
          "values": [
           {
            "x": 3.269098811645167,
            "y": 0
           },
           {
            "x": 3.269098811645167,
            "y": 10.687007040299845
           }
          ]
         },
         "encoding": {
          "x": {
           "field": "x",
           "type": "quantitative"
          },
          "y": {
           "field": "y",
           "type": "quantitative"
          }
         },
         "mark": {
          "opacity": 0.4,
          "type": "line"
         }
        },
        {
         "data": {
          "values": [
           {
            "x": -0.21584061875319316,
            "y": 0
           },
           {
            "x": -0.21584061875319316,
            "y": 0.04658717270376128
           }
          ]
         },
         "encoding": {
          "x": {
           "field": "x",
           "type": "quantitative"
          },
          "y": {
           "field": "y",
           "type": "quantitative"
          }
         },
         "mark": {
          "opacity": 0.4,
          "type": "line"
         }
        },
        {
         "data": {
          "values": [
           {
            "x": 3.483193722690631,
            "y": 0
           },
           {
            "x": 3.483193722690631,
            "y": 12.132638509791416
           }
          ]
         },
         "encoding": {
          "x": {
           "field": "x",
           "type": "quantitative"
          },
          "y": {
           "field": "y",
           "type": "quantitative"
          }
         },
         "mark": {
          "opacity": 0.4,
          "type": "line"
         }
        },
        {
         "data": {
          "values": [
           {
            "x": 3.023554246105799,
            "y": 0
           },
           {
            "x": 3.023554246105799,
            "y": 9.141880279144408
           }
          ]
         },
         "encoding": {
          "x": {
           "field": "x",
           "type": "quantitative"
          },
          "y": {
           "field": "y",
           "type": "quantitative"
          }
         },
         "mark": {
          "opacity": 0.4,
          "type": "line"
         }
        },
        {
         "data": {
          "values": [
           {
            "x": -0.2306852513441897,
            "y": 0
           },
           {
            "x": -0.2306852513441897,
            "y": 0.05321568518773198
           }
          ]
         },
         "encoding": {
          "x": {
           "field": "x",
           "type": "quantitative"
          },
          "y": {
           "field": "y",
           "type": "quantitative"
          }
         },
         "mark": {
          "opacity": 0.4,
          "type": "line"
         }
        },
        {
         "data": {
          "values": [
           {
            "x": 1.4226596140926737,
            "y": 0
           },
           {
            "x": 1.4226596140926737,
            "y": 2.023960377570315
           }
          ]
         },
         "encoding": {
          "x": {
           "field": "x",
           "type": "quantitative"
          },
          "y": {
           "field": "y",
           "type": "quantitative"
          }
         },
         "mark": {
          "opacity": 0.4,
          "type": "line"
         }
        },
        {
         "data": {
          "values": [
           {
            "x": 4.285175535162606,
            "y": 0
           },
           {
            "x": 4.285175535162606,
            "y": 18.36272936715613
           }
          ]
         },
         "encoding": {
          "x": {
           "field": "x",
           "type": "quantitative"
          },
          "y": {
           "field": "y",
           "type": "quantitative"
          }
         },
         "mark": {
          "opacity": 0.4,
          "type": "line"
         }
        },
        {
         "data": {
          "values": [
           {
            "x": 0.6663728110343756,
            "y": 0
           },
           {
            "x": 0.6663728110343756,
            "y": 0.44405272328585565
           }
          ]
         },
         "encoding": {
          "x": {
           "field": "x",
           "type": "quantitative"
          },
          "y": {
           "field": "y",
           "type": "quantitative"
          }
         },
         "mark": {
          "opacity": 0.4,
          "type": "line"
         }
        },
        {
         "data": {
          "values": [
           {
            "x": 2.5080837526927935,
            "y": 0
           },
           {
            "x": 2.5080837526927935,
            "y": 6.290484110521565
           }
          ]
         },
         "encoding": {
          "x": {
           "field": "x",
           "type": "quantitative"
          },
          "y": {
           "field": "y",
           "type": "quantitative"
          }
         },
         "mark": {
          "opacity": 0.4,
          "type": "line"
         }
        },
        {
         "data": {
          "values": [
           {
            "x": -1.17635946284011,
            "y": 0
           },
           {
            "x": -1.17635946284011,
            "y": 1.383821585813472
           }
          ]
         },
         "encoding": {
          "x": {
           "field": "x",
           "type": "quantitative"
          },
          "y": {
           "field": "y",
           "type": "quantitative"
          }
         },
         "mark": {
          "opacity": 0.4,
          "type": "line"
         }
        },
        {
         "data": {
          "values": [
           {
            "x": 1.4208145706306667,
            "y": 0
           },
           {
            "x": 1.4208145706306667,
            "y": 2.0187140441164058
           }
          ]
         },
         "encoding": {
          "x": {
           "field": "x",
           "type": "quantitative"
          },
          "y": {
           "field": "y",
           "type": "quantitative"
          }
         },
         "mark": {
          "opacity": 0.4,
          "type": "line"
         }
        },
        {
         "data": {
          "values": [
           {
            "x": 6.751146289744252,
            "y": 0
           },
           {
            "x": 6.751146289744252,
            "y": 45.57797622552758
           }
          ]
         },
         "encoding": {
          "x": {
           "field": "x",
           "type": "quantitative"
          },
          "y": {
           "field": "y",
           "type": "quantitative"
          }
         },
         "mark": {
          "opacity": 0.4,
          "type": "line"
         }
        },
        {
         "data": {
          "values": [
           {
            "x": 3.221217240793716,
            "y": 0
           },
           {
            "x": 3.221217240793716,
            "y": 10.37624051238668
           }
          ]
         },
         "encoding": {
          "x": {
           "field": "x",
           "type": "quantitative"
          },
          "y": {
           "field": "y",
           "type": "quantitative"
          }
         },
         "mark": {
          "opacity": 0.4,
          "type": "line"
         }
        },
        {
         "data": {
          "values": [
           {
            "x": 0.11064073553066134,
            "y": 0
           },
           {
            "x": 0.11064073553066134,
            "y": 0.012241372358765747
           }
          ]
         },
         "encoding": {
          "x": {
           "field": "x",
           "type": "quantitative"
          },
          "y": {
           "field": "y",
           "type": "quantitative"
          }
         },
         "mark": {
          "opacity": 0.4,
          "type": "line"
         }
        },
        {
         "data": {
          "values": [
           {
            "x": 2.424251962877637,
            "y": 0
           },
           {
            "x": 2.424251962877637,
            "y": 5.876997579516076
           }
          ]
         },
         "encoding": {
          "x": {
           "field": "x",
           "type": "quantitative"
          },
          "y": {
           "field": "y",
           "type": "quantitative"
          }
         },
         "mark": {
          "opacity": 0.4,
          "type": "line"
         }
        },
        {
         "data": {
          "values": [
           {
            "x": 1.8734738151784467,
            "y": 0
           },
           {
            "x": 1.8734738151784467,
            "y": 3.5099041361592844
           }
          ]
         },
         "encoding": {
          "x": {
           "field": "x",
           "type": "quantitative"
          },
          "y": {
           "field": "y",
           "type": "quantitative"
          }
         },
         "mark": {
          "opacity": 0.4,
          "type": "line"
         }
        },
        {
         "data": {
          "values": [
           {
            "x": -0.8304073553595441,
            "y": 0
           },
           {
            "x": -0.8304073553595441,
            "y": 0.6895763758352322
           }
          ]
         },
         "encoding": {
          "x": {
           "field": "x",
           "type": "quantitative"
          },
          "y": {
           "field": "y",
           "type": "quantitative"
          }
         },
         "mark": {
          "opacity": 0.4,
          "type": "line"
         }
        },
        {
         "data": {
          "values": [
           {
            "x": -0.326310465203671,
            "y": 0
           },
           {
            "x": -0.326310465203671,
            "y": 0.1064785197014362
           }
          ]
         },
         "encoding": {
          "x": {
           "field": "x",
           "type": "quantitative"
          },
          "y": {
           "field": "y",
           "type": "quantitative"
          }
         },
         "mark": {
          "opacity": 0.4,
          "type": "line"
         }
        },
        {
         "data": {
          "values": [
           {
            "x": 2.5677431304018628,
            "y": 0
           },
           {
            "x": 2.5677431304018628,
            "y": 6.593304783725958
           }
          ]
         },
         "encoding": {
          "x": {
           "field": "x",
           "type": "quantitative"
          },
          "y": {
           "field": "y",
           "type": "quantitative"
          }
         },
         "mark": {
          "opacity": 0.4,
          "type": "line"
         }
        },
        {
         "data": {
          "values": [
           {
            "x": -0.24058178313411105,
            "y": 0
           },
           {
            "x": -0.24058178313411105,
            "y": 0.05787959437598844
           }
          ]
         },
         "encoding": {
          "x": {
           "field": "x",
           "type": "quantitative"
          },
          "y": {
           "field": "y",
           "type": "quantitative"
          }
         },
         "mark": {
          "opacity": 0.4,
          "type": "line"
         }
        },
        {
         "data": {
          "values": [
           {
            "x": 3.581221682175171,
            "y": 0
           },
           {
            "x": 3.581221682175171,
            "y": 12.82514873688156
           }
          ]
         },
         "encoding": {
          "x": {
           "field": "x",
           "type": "quantitative"
          },
          "y": {
           "field": "y",
           "type": "quantitative"
          }
         },
         "mark": {
          "opacity": 0.4,
          "type": "line"
         }
        },
        {
         "data": {
          "values": [
           {
            "x": 3.5969455219293462,
            "y": 0
           },
           {
            "x": 3.5969455219293462,
            "y": 12.938017087727577
           }
          ]
         },
         "encoding": {
          "x": {
           "field": "x",
           "type": "quantitative"
          },
          "y": {
           "field": "y",
           "type": "quantitative"
          }
         },
         "mark": {
          "opacity": 0.4,
          "type": "line"
         }
        },
        {
         "data": {
          "values": [
           {
            "x": 5.236137265554786,
            "y": 0
           },
           {
            "x": 5.236137265554786,
            "y": 27.417133463731556
           }
          ]
         },
         "encoding": {
          "x": {
           "field": "x",
           "type": "quantitative"
          },
          "y": {
           "field": "y",
           "type": "quantitative"
          }
         },
         "mark": {
          "opacity": 0.4,
          "type": "line"
         }
        },
        {
         "data": {
          "values": [
           {
            "x": 4.826712897492008,
            "y": 0
           },
           {
            "x": 4.826712897492008,
            "y": 23.2971573948157
           }
          ]
         },
         "encoding": {
          "x": {
           "field": "x",
           "type": "quantitative"
          },
          "y": {
           "field": "y",
           "type": "quantitative"
          }
         },
         "mark": {
          "opacity": 0.4,
          "type": "line"
         }
        },
        {
         "data": {
          "values": [
           {
            "x": 1.3484799945088635,
            "y": 0
           },
           {
            "x": 1.3484799945088635,
            "y": 1.8183982955906244
           }
          ]
         },
         "encoding": {
          "x": {
           "field": "x",
           "type": "quantitative"
          },
          "y": {
           "field": "y",
           "type": "quantitative"
          }
         },
         "mark": {
          "opacity": 0.4,
          "type": "line"
         }
        },
        {
         "data": {
          "values": [
           {
            "x": 1.819394214355567,
            "y": 0
           },
           {
            "x": 1.819394214355567,
            "y": 3.310195307230511
           }
          ]
         },
         "encoding": {
          "x": {
           "field": "x",
           "type": "quantitative"
          },
          "y": {
           "field": "y",
           "type": "quantitative"
          }
         },
         "mark": {
          "opacity": 0.4,
          "type": "line"
         }
        },
        {
         "data": {
          "values": [
           {
            "x": 3.366371056735985,
            "y": 0
           },
           {
            "x": 3.366371056735985,
            "y": 11.332454091629751
           }
          ]
         },
         "encoding": {
          "x": {
           "field": "x",
           "type": "quantitative"
          },
          "y": {
           "field": "y",
           "type": "quantitative"
          }
         },
         "mark": {
          "opacity": 0.4,
          "type": "line"
         }
        },
        {
         "data": {
          "values": [
           {
            "x": 4.866653168814668,
            "y": 0
           },
           {
            "x": 4.866653168814668,
            "y": 23.684313065533853
           }
          ]
         },
         "encoding": {
          "x": {
           "field": "x",
           "type": "quantitative"
          },
          "y": {
           "field": "y",
           "type": "quantitative"
          }
         },
         "mark": {
          "opacity": 0.4,
          "type": "line"
         }
        },
        {
         "data": {
          "values": [
           {
            "x": 1.049457109444334,
            "y": 0
           },
           {
            "x": 1.049457109444334,
            "y": 1.1013602245632566
           }
          ]
         },
         "encoding": {
          "x": {
           "field": "x",
           "type": "quantitative"
          },
          "y": {
           "field": "y",
           "type": "quantitative"
          }
         },
         "mark": {
          "opacity": 0.4,
          "type": "line"
         }
        },
        {
         "data": {
          "values": [
           {
            "x": 0.47023234149381476,
            "y": 0
           },
           {
            "x": 0.47023234149381476,
            "y": 0.2211184549867556
           }
          ]
         },
         "encoding": {
          "x": {
           "field": "x",
           "type": "quantitative"
          },
          "y": {
           "field": "y",
           "type": "quantitative"
          }
         },
         "mark": {
          "opacity": 0.4,
          "type": "line"
         }
        },
        {
         "data": {
          "values": [
           {
            "x": 2.8045695906816115,
            "y": 0
           },
           {
            "x": 2.8045695906816115,
            "y": 7.865610588976022
           }
          ]
         },
         "encoding": {
          "x": {
           "field": "x",
           "type": "quantitative"
          },
          "y": {
           "field": "y",
           "type": "quantitative"
          }
         },
         "mark": {
          "opacity": 0.4,
          "type": "line"
         }
        },
        {
         "data": {
          "values": [
           {
            "x": 2.4725373199832497,
            "y": 0
           },
           {
            "x": 2.4725373199832497,
            "y": 6.11344079870995
           }
          ]
         },
         "encoding": {
          "x": {
           "field": "x",
           "type": "quantitative"
          },
          "y": {
           "field": "y",
           "type": "quantitative"
          }
         },
         "mark": {
          "opacity": 0.4,
          "type": "line"
         }
        },
        {
         "data": {
          "values": [
           {
            "x": 0.6306411233142113,
            "y": 0
           },
           {
            "x": 0.6306411233142113,
            "y": 0.39770822641501025
           }
          ]
         },
         "encoding": {
          "x": {
           "field": "x",
           "type": "quantitative"
          },
          "y": {
           "field": "y",
           "type": "quantitative"
          }
         },
         "mark": {
          "opacity": 0.4,
          "type": "line"
         }
        },
        {
         "data": {
          "values": [
           {
            "x": -0.32598702209338803,
            "y": 0
           },
           {
            "x": -0.32598702209338803,
            "y": 0.10626753857331506
           }
          ]
         },
         "encoding": {
          "x": {
           "field": "x",
           "type": "quantitative"
          },
          "y": {
           "field": "y",
           "type": "quantitative"
          }
         },
         "mark": {
          "opacity": 0.4,
          "type": "line"
         }
        },
        {
         "data": {
          "values": [
           {
            "x": 3.0443778345010206,
            "y": 0
           },
           {
            "x": 3.0443778345010206,
            "y": 9.268236399201124
           }
          ]
         },
         "encoding": {
          "x": {
           "field": "x",
           "type": "quantitative"
          },
          "y": {
           "field": "y",
           "type": "quantitative"
          }
         },
         "mark": {
          "opacity": 0.4,
          "type": "line"
         }
        },
        {
         "data": {
          "values": [
           {
            "x": 4.8208697951410375,
            "y": 0
           },
           {
            "x": 4.8208697951410375,
            "y": 23.24078558170319
           }
          ]
         },
         "encoding": {
          "x": {
           "field": "x",
           "type": "quantitative"
          },
          "y": {
           "field": "y",
           "type": "quantitative"
          }
         },
         "mark": {
          "opacity": 0.4,
          "type": "line"
         }
        },
        {
         "data": {
          "values": [
           {
            "x": -0.23041382443913871,
            "y": 0
           },
           {
            "x": -0.23041382443913871,
            "y": 0.053090530492670235
           }
          ]
         },
         "encoding": {
          "x": {
           "field": "x",
           "type": "quantitative"
          },
          "y": {
           "field": "y",
           "type": "quantitative"
          }
         },
         "mark": {
          "opacity": 0.4,
          "type": "line"
         }
        },
        {
         "data": {
          "values": [
           {
            "x": 2.627181302190208,
            "y": 0
           },
           {
            "x": 2.627181302190208,
            "y": 6.9020815945778375
           }
          ]
         },
         "encoding": {
          "x": {
           "field": "x",
           "type": "quantitative"
          },
          "y": {
           "field": "y",
           "type": "quantitative"
          }
         },
         "mark": {
          "opacity": 0.4,
          "type": "line"
         }
        },
        {
         "data": {
          "values": [
           {
            "x": 3.0298476122897338,
            "y": 0
           },
           {
            "x": 3.0298476122897338,
            "y": 9.1799765536978
           }
          ]
         },
         "encoding": {
          "x": {
           "field": "x",
           "type": "quantitative"
          },
          "y": {
           "field": "y",
           "type": "quantitative"
          }
         },
         "mark": {
          "opacity": 0.4,
          "type": "line"
         }
        },
        {
         "data": {
          "values": [
           {
            "x": 1.71366176200166,
            "y": 0
           },
           {
            "x": 1.71366176200166,
            "y": 2.9366366345466344
           }
          ]
         },
         "encoding": {
          "x": {
           "field": "x",
           "type": "quantitative"
          },
          "y": {
           "field": "y",
           "type": "quantitative"
          }
         },
         "mark": {
          "opacity": 0.4,
          "type": "line"
         }
        },
        {
         "data": {
          "values": [
           {
            "x": -1.1932722704301222,
            "y": 0
           },
           {
            "x": -1.1932722704301222,
            "y": 1.4238987113774586
           }
          ]
         },
         "encoding": {
          "x": {
           "field": "x",
           "type": "quantitative"
          },
          "y": {
           "field": "y",
           "type": "quantitative"
          }
         },
         "mark": {
          "opacity": 0.4,
          "type": "line"
         }
        },
        {
         "data": {
          "values": [
           {
            "x": 4.058318773354984,
            "y": 0
           },
           {
            "x": 4.058318773354984,
            "y": 16.469951266165506
           }
          ]
         },
         "encoding": {
          "x": {
           "field": "x",
           "type": "quantitative"
          },
          "y": {
           "field": "y",
           "type": "quantitative"
          }
         },
         "mark": {
          "opacity": 0.4,
          "type": "line"
         }
        },
        {
         "data": {
          "values": [
           {
            "x": 1.084246717505569,
            "y": 0
           },
           {
            "x": 1.084246717505569,
            "y": 1.175590944421601
           }
          ]
         },
         "encoding": {
          "x": {
           "field": "x",
           "type": "quantitative"
          },
          "y": {
           "field": "y",
           "type": "quantitative"
          }
         },
         "mark": {
          "opacity": 0.4,
          "type": "line"
         }
        },
        {
         "data": {
          "values": [
           {
            "x": 1.6754510444974868,
            "y": 0
           },
           {
            "x": 1.6754510444974868,
            "y": 2.80713620250772
           }
          ]
         },
         "encoding": {
          "x": {
           "field": "x",
           "type": "quantitative"
          },
          "y": {
           "field": "y",
           "type": "quantitative"
          }
         },
         "mark": {
          "opacity": 0.4,
          "type": "line"
         }
        },
        {
         "data": {
          "values": [
           {
            "x": 0.49265249577604076,
            "y": 0
           },
           {
            "x": 0.49265249577604076,
            "y": 0.24270648159436187
           }
          ]
         },
         "encoding": {
          "x": {
           "field": "x",
           "type": "quantitative"
          },
          "y": {
           "field": "y",
           "type": "quantitative"
          }
         },
         "mark": {
          "opacity": 0.4,
          "type": "line"
         }
        },
        {
         "data": {
          "values": [
           {
            "x": 3.6531204405211675,
            "y": 0
           },
           {
            "x": 3.6531204405211675,
            "y": 13.345288952953569
           }
          ]
         },
         "encoding": {
          "x": {
           "field": "x",
           "type": "quantitative"
          },
          "y": {
           "field": "y",
           "type": "quantitative"
          }
         },
         "mark": {
          "opacity": 0.4,
          "type": "line"
         }
        },
        {
         "data": {
          "values": [
           {
            "x": 2.4369251044477287,
            "y": 0
           },
           {
            "x": 2.4369251044477287,
            "y": 5.938603964687573
           }
          ]
         },
         "encoding": {
          "x": {
           "field": "x",
           "type": "quantitative"
          },
          "y": {
           "field": "y",
           "type": "quantitative"
          }
         },
         "mark": {
          "opacity": 0.4,
          "type": "line"
         }
        },
        {
         "data": {
          "values": [
           {
            "x": 1.309073885839873,
            "y": 0
           },
           {
            "x": 1.309073885839873,
            "y": 1.7136744385879048
           }
          ]
         },
         "encoding": {
          "x": {
           "field": "x",
           "type": "quantitative"
          },
          "y": {
           "field": "y",
           "type": "quantitative"
          }
         },
         "mark": {
          "opacity": 0.4,
          "type": "line"
         }
        },
        {
         "data": {
          "values": [
           {
            "x": 4.355214721996665,
            "y": 0
           },
           {
            "x": 4.355214721996665,
            "y": 18.96789527469649
           }
          ]
         },
         "encoding": {
          "x": {
           "field": "x",
           "type": "quantitative"
          },
          "y": {
           "field": "y",
           "type": "quantitative"
          }
         },
         "mark": {
          "opacity": 0.4,
          "type": "line"
         }
        },
        {
         "data": {
          "values": [
           {
            "x": 2.58034356985272,
            "y": 0
           },
           {
            "x": 2.58034356985272,
            "y": 6.65817293848028
           }
          ]
         },
         "encoding": {
          "x": {
           "field": "x",
           "type": "quantitative"
          },
          "y": {
           "field": "y",
           "type": "quantitative"
          }
         },
         "mark": {
          "opacity": 0.4,
          "type": "line"
         }
        },
        {
         "data": {
          "values": [
           {
            "x": -1.2883609790285164,
            "y": 0
           },
           {
            "x": -1.2883609790285164,
            "y": 1.6598740122833173
           }
          ]
         },
         "encoding": {
          "x": {
           "field": "x",
           "type": "quantitative"
          },
          "y": {
           "field": "y",
           "type": "quantitative"
          }
         },
         "mark": {
          "opacity": 0.4,
          "type": "line"
         }
        },
        {
         "data": {
          "values": [
           {
            "x": 3.2422511904506166,
            "y": 0
           },
           {
            "x": 3.2422511904506166,
            "y": 10.51219278197844
           }
          ]
         },
         "encoding": {
          "x": {
           "field": "x",
           "type": "quantitative"
          },
          "y": {
           "field": "y",
           "type": "quantitative"
          }
         },
         "mark": {
          "opacity": 0.4,
          "type": "line"
         }
        },
        {
         "data": {
          "values": [
           {
            "x": 0.3474912620621313,
            "y": 0
           },
           {
            "x": 0.3474912620621313,
            "y": 0.12075017720953282
           }
          ]
         },
         "encoding": {
          "x": {
           "field": "x",
           "type": "quantitative"
          },
          "y": {
           "field": "y",
           "type": "quantitative"
          }
         },
         "mark": {
          "opacity": 0.4,
          "type": "line"
         }
        },
        {
         "data": {
          "values": [
           {
            "x": 4.13342394120715,
            "y": 0
           },
           {
            "x": 4.13342394120715,
            "y": 17.08519347774445
           }
          ]
         },
         "encoding": {
          "x": {
           "field": "x",
           "type": "quantitative"
          },
          "y": {
           "field": "y",
           "type": "quantitative"
          }
         },
         "mark": {
          "opacity": 0.4,
          "type": "line"
         }
        },
        {
         "layer": [
          {
           "data": {
            "values": [
             {
              "x": 1.851884941924749,
              "y": 0
             },
             {
              "x": -1.4272585800845037,
              "y": 0
             },
             {
              "x": -1.1874886934169826,
              "y": 0
             },
             {
              "x": 3.1618165226648296,
              "y": 0
             },
             {
              "x": 2.2873208246207533,
              "y": 0
             },
             {
              "x": 0.05891274639256583,
              "y": 0
             },
             {
              "x": 4.2745235765367315,
              "y": 0
             },
             {
              "x": 2.230762227580907,
              "y": 0
             },
             {
              "x": 6.250764144881506,
              "y": 0
             },
             {
              "x": 4.116199397611226,
              "y": 0
             },
             {
              "x": 0.08222858034058511,
              "y": 0
             },
             {
              "x": 2.5140624715682898,
              "y": 0
             },
             {
              "x": 5.3690460125664945,
              "y": 0
             },
             {
              "x": 3.2724367057502333,
              "y": 0
             },
             {
              "x": 2.4104570182450367,
              "y": 0
             },
             {
              "x": 3.6218926493189216,
              "y": 0
             },
             {
              "x": 2.8040962588987335,
              "y": 0
             },
             {
              "x": 4.270886883907316,
              "y": 0
             },
             {
              "x": 0.9540778250947253,
              "y": 0
             },
             {
              "x": 0.7172615208741253,
              "y": 0
             },
             {
              "x": 1.5181201296361664,
              "y": 0
             },
             {
              "x": 3.8954745600402703,
              "y": 0
             },
             {
              "x": 3.1636012554992643,
              "y": 0
             },
             {
              "x": -1.3438653030710705,
              "y": 0
             },
             {
              "x": 2.490549521135327,
              "y": 0
             },
             {
              "x": 3.630829493773659,
              "y": 0
             },
             {
              "x": 0.6567319652307677,
              "y": 0
             },
             {
              "x": 1.3345179388527137,
              "y": 0
             },
             {
              "x": 7.026556138954206,
              "y": 0
             },
             {
              "x": 1.1166970356389485,
              "y": 0
             },
             {
              "x": 3.823002049301612,
              "y": 0
             },
             {
              "x": 3.3647996760856027,
              "y": 0
             },
             {
              "x": 1.520009204243357,
              "y": 0
             },
             {
              "x": 2.1244052414554147,
              "y": 0
             },
             {
              "x": 2.9580502653279654,
              "y": 0
             },
             {
              "x": 2.881684036033415,
              "y": 0
             },
             {
              "x": 1.1117867056627297,
              "y": 0
             },
             {
              "x": -0.2369825221932489,
              "y": 0
             },
             {
              "x": -0.42473019617240837,
              "y": 0
             },
             {
              "x": 5.638331586445167,
              "y": 0
             },
             {
              "x": 3.2457342759750523,
              "y": 0
             },
             {
              "x": 0.0019218714681157323,
              "y": 0
             },
             {
              "x": 2.0333572919306158,
              "y": 0
             },
             {
              "x": 4.558625929364078,
              "y": 0
             },
             {
              "x": 4.129923488667081,
              "y": 0
             },
             {
              "x": 4.834757671392911,
              "y": 0
             },
             {
              "x": 2.7161981888133635,
              "y": 0
             },
             {
              "x": 5.23396140636253,
              "y": 0
             },
             {
              "x": 2.423524691710402,
              "y": 0
             },
             {
              "x": 6.980394654912506,
              "y": 0
             },
             {
              "x": 2.5955236358760914,
              "y": 0
             },
             {
              "x": 1.5195384863939734,
              "y": 0
             },
             {
              "x": 1.266234080644642,
              "y": 0
             },
             {
              "x": 1.4894162502222903,
              "y": 0
             },
             {
              "x": 4.434197972726036,
              "y": 0
             },
             {
              "x": -0.5190339712165608,
              "y": 0
             },
             {
              "x": 1.8545818742854145,
              "y": 0
             },
             {
              "x": 4.518906602961435,
              "y": 0
             },
             {
              "x": 2.752744587315439,
              "y": 0
             },
             {
              "x": 3.803972190501929,
              "y": 0
             },
             {
              "x": 3.414293652485453,
              "y": 0
             },
             {
              "x": -0.09294992011611525,
              "y": 0
             },
             {
              "x": 5.022632323555491,
              "y": 0
             },
             {
              "x": 4.406816545361356,
              "y": 0
             },
             {
              "x": 1.1024966532313354,
              "y": 0
             },
             {
              "x": 1.3890157030405712,
              "y": 0
             },
             {
              "x": -0.21334967543634553,
              "y": 0
             },
             {
              "x": 2.615629826561924,
              "y": 0
             },
             {
              "x": -0.6651522286691529,
              "y": 0
             },
             {
              "x": -0.04832173605481449,
              "y": 0
             },
             {
              "x": 5.877542186961153,
              "y": 0
             },
             {
              "x": 2.575056125823039,
              "y": 0
             },
             {
              "x": 2.660027833078666,
              "y": 0
             },
             {
              "x": 1.123775186689457,
              "y": 0
             },
             {
              "x": 1.5119312423501121,
              "y": 0
             },
             {
              "x": 1.6432011452334117,
              "y": 0
             },
             {
              "x": 3.6799857725201504,
              "y": 0
             },
             {
              "x": 2.1420836268091565,
              "y": 0
             },
             {
              "x": 3.1272965461250526,
              "y": 0
             },
             {
              "x": 1.136305401203312,
              "y": 0
             },
             {
              "x": -0.19668162707217185,
              "y": 0
             },
             {
              "x": 2.3754418892868308,
              "y": 0
             },
             {
              "x": 5.047610011186027,
              "y": 0
             },
             {
              "x": 4.35929742932333,
              "y": 0
             },
             {
              "x": 2.1908230500554997,
              "y": 0
             },
             {
              "x": 2.0979045776666108,
              "y": 0
             },
             {
              "x": 0.48836097002390266,
              "y": 0
             },
             {
              "x": 1.2077890219528444,
              "y": 0
             },
             {
              "x": 0.5989306431463131,
              "y": 0
             },
             {
              "x": 2.779782251603291,
              "y": 0
             },
             {
              "x": 0.5735029147768091,
              "y": 0
             },
             {
              "x": 0.33670347363623865,
              "y": 0
             },
             {
              "x": 5.741703112214861,
              "y": 0
             },
             {
              "x": 2.501255733493938,
              "y": 0
             },
             {
              "x": 3.7627373694191517,
              "y": 0
             },
             {
              "x": 5.563239018640573,
              "y": 0
             },
             {
              "x": 7.940615578410902,
              "y": 0
             },
             {
              "x": 3.4369093434234568,
              "y": 0
             },
             {
              "x": 3.4461503111853955,
              "y": 0
             },
             {
              "x": 4.677926412142877,
              "y": 0
             },
             {
              "x": 3.642386713746129,
              "y": 0
             },
             {
              "x": 0.4511664068666632,
              "y": 0
             },
             {
              "x": 3.009572893381075,
              "y": 0
             },
             {
              "x": 0.11973987677801956,
              "y": 0
             },
             {
              "x": 5.910150780557814,
              "y": 0
             },
             {
              "x": 1.953551669518351,
              "y": 0
             },
             {
              "x": -0.018623819677994646,
              "y": 0
             },
             {
              "x": 1.8094064805751033,
              "y": 0
             },
             {
              "x": 6.590880588701519,
              "y": 0
             },
             {
              "x": 0.896988196756098,
              "y": 0
             },
             {
              "x": 1.1162621401087622,
              "y": 0
             },
             {
              "x": 0.13878598924426555,
              "y": 0
             },
             {
              "x": 3.1329589166565324,
              "y": 0
             },
             {
              "x": 1.8799400800556427,
              "y": 0
             },
             {
              "x": 3.4726572919676477,
              "y": 0
             },
             {
              "x": -0.3717829458319537,
              "y": 0
             },
             {
              "x": 0.5671457869005594,
              "y": 0
             },
             {
              "x": 0.3525740348575228,
              "y": 0
             },
             {
              "x": 4.773258606729724,
              "y": 0
             },
             {
              "x": 2.260795561944916,
              "y": 0
             },
             {
              "x": 3.2068103522657645,
              "y": 0
             },
             {
              "x": 2.8231082077694474,
              "y": 0
             },
             {
              "x": -0.35573235594234154,
              "y": 0
             },
             {
              "x": 0.2244825343118011,
              "y": 0
             },
             {
              "x": 3.007122702006747,
              "y": 0
             },
             {
              "x": 2.2436189201121515,
              "y": 0
             },
             {
              "x": 1.078248637444228,
              "y": 0
             },
             {
              "x": 0.2300574939958957,
              "y": 0
             },
             {
              "x": 3.785208644811471,
              "y": 0
             },
             {
              "x": 2.8092054305225465,
              "y": 0
             },
             {
              "x": 5.725485186004798,
              "y": 0
             },
             {
              "x": 2.457811971144872,
              "y": 0
             },
             {
              "x": 3.9091087370182733,
              "y": 0
             },
             {
              "x": 2.3831771221476474,
              "y": 0
             },
             {
              "x": 3.7186058605271866,
              "y": 0
             },
             {
              "x": 0.7772531480300227,
              "y": 0
             },
             {
              "x": 1.0658015817602842,
              "y": 0
             },
             {
              "x": 2.0450467215062043,
              "y": 0
             },
             {
              "x": 2.8775256770469504,
              "y": 0
             },
             {
              "x": 4.138597696993618,
              "y": 0
             },
             {
              "x": 3.8449707158402706,
              "y": 0
             },
             {
              "x": -1.386756704688834,
              "y": 0
             },
             {
              "x": 1.6433697735339867,
              "y": 0
             },
             {
              "x": 3.5616868015040897,
              "y": 0
             },
             {
              "x": 1.9499728562431349,
              "y": 0
             },
             {
              "x": -0.06513060986372432,
              "y": 0
             },
             {
              "x": 0.5804861005016768,
              "y": 0
             },
             {
              "x": 1.4580502792133507,
              "y": 0
             },
             {
              "x": 2.232899255230755,
              "y": 0
             },
             {
              "x": 1.8294596890051413,
              "y": 0
             },
             {
              "x": 2.2877396216063595,
              "y": 0
             },
             {
              "x": -0.12907735883441207,
              "y": 0
             },
             {
              "x": 0.7772373990267976,
              "y": 0
             },
             {
              "x": -1.1915009087511659,
              "y": 0
             },
             {
              "x": 4.537062194667759,
              "y": 0
             },
             {
              "x": 0.3762976295186711,
              "y": 0
             },
             {
              "x": 1.7814051548210037,
              "y": 0
             },
             {
              "x": 1.132640459516091,
              "y": 0
             },
             {
              "x": 3.3924093720315476,
              "y": 0
             },
             {
              "x": 2.1818952714788997,
              "y": 0
             },
             {
              "x": 4.737561564191099,
              "y": 0
             },
             {
              "x": 5.762701487946016,
              "y": 0
             },
             {
              "x": 3.270199111495986,
              "y": 0
             },
             {
              "x": 3.0554179078957606,
              "y": 0
             },
             {
              "x": 0.6124261948609382,
              "y": 0
             },
             {
              "x": 4.095989553924263,
              "y": 0
             },
             {
              "x": 4.997870432107002,
              "y": 0
             },
             {
              "x": 3.7136352936388324,
              "y": 0
             },
             {
              "x": 2.6252074971731707,
              "y": 0
             },
             {
              "x": 0.4017159267210957,
              "y": 0
             },
             {
              "x": 6.712557256506118,
              "y": 0
             },
             {
              "x": 1.2377326332278813,
              "y": 0
             },
             {
              "x": -0.24143961650255674,
              "y": 0
             },
             {
              "x": 1.144109640454775,
              "y": 0
             },
             {
              "x": 2.164060906468851,
              "y": 0
             },
             {
              "x": 1.8224801586936672,
              "y": 0
             },
             {
              "x": -0.24990980058372614,
              "y": 0
             },
             {
              "x": 0.9278615788927682,
              "y": 0
             },
             {
              "x": 2.748319934780258,
              "y": 0
             },
             {
              "x": 0.9112713407880699,
              "y": 0
             },
             {
              "x": 4.356042474893306,
              "y": 0
             },
             {
              "x": 3.7945956404194723,
              "y": 0
             },
             {
              "x": 2.45366263096923,
              "y": 0
             },
             {
              "x": 0.8373706221986852,
              "y": 0
             },
             {
              "x": 1.1462587529978963,
              "y": 0
             },
             {
              "x": -0.5908416716507952,
              "y": 0
             },
             {
              "x": 1.137957704177626,
              "y": 0
             },
             {
              "x": 4.138128867087882,
              "y": 0
             },
             {
              "x": 4.406268237735613,
              "y": 0
             },
             {
              "x": 3.874669598291944,
              "y": 0
             },
             {
              "x": 0.2822562908055901,
              "y": 0
             },
             {
              "x": 2.9039836084562918,
              "y": 0
             },
             {
              "x": 0.9472241709546756,
              "y": 0
             },
             {
              "x": 3.166498141527157,
              "y": 0
             },
             {
              "x": 2.8927692794045425,
              "y": 0
             },
             {
              "x": 4.559007501098488,
              "y": 0
             },
             {
              "x": 1.275142885319621,
              "y": 0
             },
             {
              "x": 3.937826627411397,
              "y": 0
             },
             {
              "x": 0.4890167347632959,
              "y": 0
             },
             {
              "x": -0.18527878948716037,
              "y": 0
             },
             {
              "x": 3.7054358344342253,
              "y": 0
             },
             {
              "x": 0.9726159394868366,
              "y": 0
             },
             {
              "x": 2.4786859646179438,
              "y": 0
             },
             {
              "x": 0.4219897636988872,
              "y": 0
             },
             {
              "x": 1.7777292317912867,
              "y": 0
             },
             {
              "x": 2.2577091459902947,
              "y": 0
             },
             {
              "x": 3.508000010726339,
              "y": 0
             },
             {
              "x": 3.7822431886705656,
              "y": 0
             },
             {
              "x": 0.922424230415849,
              "y": 0
             },
             {
              "x": 1.209744684500962,
              "y": 0
             },
             {
              "x": 5.042809607357923,
              "y": 0
             },
             {
              "x": 4.4196413591906785,
              "y": 0
             },
             {
              "x": 1.7673246572197623,
              "y": 0
             },
             {
              "x": -0.04422620667739796,
              "y": 0
             },
             {
              "x": 2.724705038121771,
              "y": 0
             },
             {
              "x": 4.67540602655599,
              "y": 0
             },
             {
              "x": 3.194358102869247,
              "y": 0
             },
             {
              "x": 2.2583659125166164,
              "y": 0
             },
             {
              "x": 0.7205916342321852,
              "y": 0
             },
             {
              "x": 2.746364783832142,
              "y": 0
             },
             {
              "x": 2.64427053469785,
              "y": 0
             },
             {
              "x": 0.7912039928455248,
              "y": 0
             },
             {
              "x": 0.18195461566645177,
              "y": 0
             },
             {
              "x": 3.9781615742445995,
              "y": 0
             },
             {
              "x": 4.294255490430035,
              "y": 0
             },
             {
              "x": 0.2092146468606555,
              "y": 0
             },
             {
              "x": 3.356757128725984,
              "y": 0
             },
             {
              "x": 5.090416092997229,
              "y": 0
             },
             {
              "x": 4.276064186778701,
              "y": 0
             },
             {
              "x": 3.5330851893062856,
              "y": 0
             },
             {
              "x": 2.111441380908267,
              "y": 0
             },
             {
              "x": 3.750572308256867,
              "y": 0
             },
             {
              "x": 1.097798609572146,
              "y": 0
             },
             {
              "x": 5.408017054840286,
              "y": 0
             },
             {
              "x": 2.8089999608589213,
              "y": 0
             },
             {
              "x": -1.46066167360032,
              "y": 0
             },
             {
              "x": 3.8373415408523215,
              "y": 0
             },
             {
              "x": 6.291506943560783,
              "y": 0
             },
             {
              "x": 4.1399437218882,
              "y": 0
             },
             {
              "x": 3.3341555633971742,
              "y": 0
             },
             {
              "x": 3.5937682944615337,
              "y": 0
             },
             {
              "x": -0.6125105367828914,
              "y": 0
             },
             {
              "x": 0.382991441245744,
              "y": 0
             },
             {
              "x": 1.2579136423287323,
              "y": 0
             },
             {
              "x": 3.612464651418482,
              "y": 0
             },
             {
              "x": 2.4301405502709397,
              "y": 0
             },
             {
              "x": 3.269098811645167,
              "y": 0
             },
             {
              "x": -0.21584061875319316,
              "y": 0
             },
             {
              "x": 3.483193722690631,
              "y": 0
             },
             {
              "x": 3.023554246105799,
              "y": 0
             },
             {
              "x": -0.2306852513441897,
              "y": 0
             },
             {
              "x": 1.4226596140926737,
              "y": 0
             },
             {
              "x": 4.285175535162606,
              "y": 0
             },
             {
              "x": 0.6663728110343756,
              "y": 0
             },
             {
              "x": 2.5080837526927935,
              "y": 0
             },
             {
              "x": -1.17635946284011,
              "y": 0
             },
             {
              "x": 1.4208145706306667,
              "y": 0
             },
             {
              "x": 6.751146289744252,
              "y": 0
             },
             {
              "x": 3.221217240793716,
              "y": 0
             },
             {
              "x": 0.11064073553066134,
              "y": 0
             },
             {
              "x": 2.424251962877637,
              "y": 0
             },
             {
              "x": 1.8734738151784467,
              "y": 0
             },
             {
              "x": -0.8304073553595441,
              "y": 0
             },
             {
              "x": -0.326310465203671,
              "y": 0
             },
             {
              "x": 2.5677431304018628,
              "y": 0
             },
             {
              "x": -0.24058178313411105,
              "y": 0
             },
             {
              "x": 3.581221682175171,
              "y": 0
             },
             {
              "x": 3.5969455219293462,
              "y": 0
             },
             {
              "x": 5.236137265554786,
              "y": 0
             },
             {
              "x": 4.826712897492008,
              "y": 0
             },
             {
              "x": 1.3484799945088635,
              "y": 0
             },
             {
              "x": 1.819394214355567,
              "y": 0
             },
             {
              "x": 3.366371056735985,
              "y": 0
             },
             {
              "x": 4.866653168814668,
              "y": 0
             },
             {
              "x": 1.049457109444334,
              "y": 0
             },
             {
              "x": 0.47023234149381476,
              "y": 0
             },
             {
              "x": 2.8045695906816115,
              "y": 0
             },
             {
              "x": 2.4725373199832497,
              "y": 0
             },
             {
              "x": 0.6306411233142113,
              "y": 0
             },
             {
              "x": -0.32598702209338803,
              "y": 0
             },
             {
              "x": 3.0443778345010206,
              "y": 0
             },
             {
              "x": 4.8208697951410375,
              "y": 0
             },
             {
              "x": -0.23041382443913871,
              "y": 0
             },
             {
              "x": 2.627181302190208,
              "y": 0
             },
             {
              "x": 3.0298476122897338,
              "y": 0
             },
             {
              "x": 1.71366176200166,
              "y": 0
             },
             {
              "x": -1.1932722704301222,
              "y": 0
             },
             {
              "x": 4.058318773354984,
              "y": 0
             },
             {
              "x": 1.084246717505569,
              "y": 0
             },
             {
              "x": 1.6754510444974868,
              "y": 0
             },
             {
              "x": 0.49265249577604076,
              "y": 0
             },
             {
              "x": 3.6531204405211675,
              "y": 0
             },
             {
              "x": 2.4369251044477287,
              "y": 0
             },
             {
              "x": 1.309073885839873,
              "y": 0
             },
             {
              "x": 4.355214721996665,
              "y": 0
             },
             {
              "x": 2.58034356985272,
              "y": 0
             },
             {
              "x": -1.2883609790285164,
              "y": 0
             },
             {
              "x": 3.2422511904506166,
              "y": 0
             },
             {
              "x": 0.3474912620621313,
              "y": 0
             },
             {
              "x": 4.13342394120715,
              "y": 0
             }
            ]
           },
           "encoding": {
            "x": {
             "field": "x",
             "type": "quantitative"
            },
            "y": {
             "field": "y",
             "type": "quantitative"
            }
           },
           "mark": {
            "opacity": 0.4,
            "size": 20,
            "type": "point"
           }
          },
          {
           "data": {
            "values": [
             {
              "x": 1.851884941924749,
              "y": 3.4294778381276307
             },
             {
              "x": -1.4272585800845037,
              "y": 2.0370670544248335
             },
             {
              "x": -1.1874886934169826,
              "y": 1.4101293969931725
             },
             {
              "x": 3.1618165226648296,
              "y": 9.997083722996315
             },
             {
              "x": 2.2873208246207533,
              "y": 5.231836554743762
             },
             {
              "x": 0.05891274639256583,
              "y": 0.003470711687514778
             },
             {
              "x": 4.2745235765367315,
              "y": 18.27155180636837
             },
             {
              "x": 2.230762227580907,
              "y": 4.97630011600173
             },
             {
              "x": 6.250764144881506,
              "y": 39.07205239493623
             },
             {
              "x": 4.116199397611226,
              "y": 16.943097480895016
             },
             {
              "x": 0.08222858034058511,
              "y": 0.00676153942482806
             },
             {
              "x": 2.5140624715682898,
              "y": 6.3205101109480575
             },
             {
              "x": 5.3690460125664945,
              "y": 28.826655085056174
             },
             {
              "x": 3.2724367057502333,
              "y": 10.708841993141439
             },
             {
              "x": 2.4104570182450367,
              "y": 5.810303036806753
             },
             {
              "x": 3.6218926493189216,
              "y": 13.118106363190437
             },
             {
              "x": 2.8040962588987335,
              "y": 7.862955829169873
             },
             {
              "x": 4.270886883907316,
              "y": 18.240474775131545
             },
             {
              "x": 0.9540778250947253,
              "y": 0.9102644963374812
             },
             {
              "x": 0.7172615208741253,
              "y": 0.5144640893266633
             },
             {
              "x": 1.5181201296361664,
              "y": 2.3046887280065307
             },
             {
              "x": 3.8954745600402703,
              "y": 15.174722047920937
             },
             {
              "x": 3.1636012554992643,
              "y": 10.008372903796522
             },
             {
              "x": -1.3438653030710705,
              "y": 1.8059739527983003
             },
             {
              "x": 2.490549521135327,
              "y": 6.2028369172274065
             },
             {
              "x": 3.630829493773659,
              "y": 13.182922812856686
             },
             {
              "x": 0.6567319652307677,
              "y": 0.4312968741558663
             },
             {
              "x": 1.3345179388527137,
              "y": 1.7809381291196955
             },
             {
              "x": 7.026556138954206,
              "y": 49.372491173875034
             },
             {
              "x": 1.1166970356389485,
              "y": 1.2470122694048151
             },
             {
              "x": 3.823002049301612,
              "y": 14.615344668964324
             },
             {
              "x": 3.3647996760856027,
              "y": 11.321876860185776
             },
             {
              "x": 1.520009204243357,
              "y": 2.3104279809845236
             },
             {
              "x": 2.1244052414554147,
              "y": 4.513097629923239
             },
             {
              "x": 2.9580502653279654,
              "y": 8.750061372206847
             },
             {
              "x": 2.881684036033415,
              "y": 8.304102883529831
             },
             {
              "x": 1.1117867056627297,
              "y": 1.2360696788883854
             },
             {
              "x": -0.2369825221932489,
              "y": 0.056160715825073704
             },
             {
              "x": -0.42473019617240837,
              "y": 0.1803957395406525
             },
             {
              "x": 5.638331586445167,
              "y": 31.790783078705275
             },
             {
              "x": 3.2457342759750523,
              "y": 10.534790990239296
             },
             {
              "x": 0.0019218714681157323,
              "y": 3.69358993995732e-06
             },
             {
              "x": 2.0333572919306158,
              "y": 4.134541876647408
             },
             {
              "x": 4.558625929364078,
              "y": 20.781070363870505
             },
             {
              "x": 4.129923488667081,
              "y": 17.056268022244073
             },
             {
              "x": 4.834757671392911,
              "y": 23.3748817410926
             },
             {
              "x": 2.7161981888133635,
              "y": 7.377732600912997
             },
             {
              "x": 5.23396140636253,
              "y": 27.394352003292436
             },
             {
              "x": 2.423524691710402,
              "y": 5.873471931329998
             },
             {
              "x": 6.980394654912506,
              "y": 48.72590953833108
             },
             {
              "x": 2.5955236358760914,
              "y": 6.736742944391445
             },
             {
              "x": 1.5195384863939734,
              "y": 2.3089972116324877
             },
             {
              "x": 1.266234080644642,
              "y": 1.6033487469859815
             },
             {
              "x": 1.4894162502222903,
              "y": 2.218360766426228
             },
             {
              "x": 4.434197972726036,
              "y": 19.662111661327685
             },
             {
              "x": -0.5190339712165608,
              "y": 0.2693962632768337
             },
             {
              "x": 1.8545818742854145,
              "y": 3.439473928428001
             },
             {
              "x": 4.518906602961435,
              "y": 20.420516886288453
             },
             {
              "x": 2.752744587315439,
              "y": 7.577602762994445
             },
             {
              "x": 3.803972190501929,
              "y": 14.470204426112042
             },
             {
              "x": 3.414293652485453,
              "y": 11.657401145402455
             },
             {
              "x": -0.09294992011611525,
              "y": 0.008639687649592206
             },
             {
              "x": 5.022632323555491,
              "y": 25.226835457624425
             },
             {
              "x": 4.406816545361356,
              "y": 19.420032064470597
             },
             {
              "x": 1.1024966532313354,
              "y": 1.2154988703862954
             },
             {
              "x": 1.3890157030405712,
              "y": 1.9293646232932924
             },
             {
              "x": -0.21334967543634553,
              "y": 0.04551808400879398
             },
             {
              "x": 2.615629826561924,
              "y": 6.841519389600361
             },
             {
              "x": -0.6651522286691529,
              "y": 0.4424274873035411
             },
             {
              "x": -0.04832173605481449,
              "y": 0.002334990175351159
             },
             {
              "x": 5.877542186961153,
              "y": 34.545502159508096
             },
             {
              "x": 2.575056125823039,
              "y": 6.63091405113876
             },
             {
              "x": 2.660027833078666,
              "y": 7.075748072753183
             },
             {
              "x": 1.123775186689457,
              "y": 1.2628706702189239
             },
             {
              "x": 1.5119312423501121,
              "y": 2.2859360815943535
             },
             {
              "x": 1.6432011452334117,
              "y": 2.7001100036963956
             },
             {
              "x": 3.6799857725201504,
              "y": 13.542295285950727
             },
             {
              "x": 2.1420836268091565,
              "y": 4.58852226424387
             },
             {
              "x": 3.1272965461250526,
              "y": 9.779983687405684
             },
             {
              "x": 1.136305401203312,
              "y": 1.2911899648038199
             },
             {
              "x": -0.19668162707217185,
              "y": 0.03868366242775688
             },
             {
              "x": 2.3754418892868308,
              "y": 5.642724169378588
             },
             {
              "x": 5.047610011186027,
              "y": 25.478366825025404
             },
             {
              "x": 4.35929742932333,
              "y": 19.003474077304997
             },
             {
              "x": 2.1908230500554997,
              "y": 4.799705636654482
             },
             {
              "x": 2.0979045776666108,
              "y": 4.40120361699452
             },
             {
              "x": 0.48836097002390266,
              "y": 0.23849643704268716
             },
             {
              "x": 1.2077890219528444,
              "y": 1.4587543215498084
             },
             {
              "x": 0.5989306431463131,
              "y": 0.3587179152996562
             },
             {
              "x": 2.779782251603291,
              "y": 7.727189366328663
             },
             {
              "x": 0.5735029147768091,
              "y": 0.328905593257496
             },
             {
              "x": 0.33670347363623865,
              "y": 0.11336922915870926
             },
             {
              "x": 5.741703112214861,
              "y": 32.967154628817816
             },
             {
              "x": 2.501255733493938,
              "y": 6.256280244336298
             },
             {
              "x": 3.7627373694191517,
              "y": 14.158192511223358
             },
             {
              "x": 5.563239018640573,
              "y": 30.949628378524924
             },
             {
              "x": 7.940615578410902,
              "y": 63.0533757641019
             },
             {
              "x": 3.4369093434234568,
              "y": 11.812345834911456
             },
             {
              "x": 3.4461503111853955,
              "y": 11.875951967283198
             },
             {
              "x": 4.677926412142877,
              "y": 21.882995517423932
             },
             {
              "x": 3.642386713746129,
              "y": 13.266980972474325
             },
             {
              "x": 0.4511664068666632,
              "y": 0.2035511266849755
             },
             {
              "x": 3.009572893381075,
              "y": 9.057529000574135
             },
             {
              "x": 0.11973987677801956,
              "y": 0.014337638090815308
             },
             {
              "x": 5.910150780557814,
              "y": 34.92988224892814
             },
             {
              "x": 1.953551669518351,
              "y": 3.8163641254779366
             },
             {
              "x": -0.018623819677994646,
              "y": 0.00034684665939846063
             },
             {
              "x": 1.8094064805751033,
              "y": 3.2739518119471818
             },
             {
              "x": 6.590880588701519,
              "y": 43.43970693452248
             },
             {
              "x": 0.896988196756098,
              "y": 0.8045878251197564
             },
             {
              "x": 1.1162621401087622,
              "y": 1.246041165440194
             },
             {
              "x": 0.13878598924426555,
              "y": 0.019261550810509395
             },
             {
              "x": 3.1329589166565324,
              "y": 9.815431573457673
             },
             {
              "x": 1.8799400800556427,
              "y": 3.5341747045996166
             },
             {
              "x": 3.4726572919676477,
              "y": 12.059348667456076
             },
             {
              "x": -0.3717829458319537,
              "y": 0.13822255881148543
             },
             {
              "x": 0.5671457869005594,
              "y": 0.3216543435990547
             },
             {
              "x": 0.3525740348575228,
              "y": 0.12430845005571371
             },
             {
              "x": 4.773258606729724,
              "y": 22.78399772671938
             },
             {
              "x": 2.260795561944916,
              "y": 5.111196572909828
             },
             {
              "x": 3.2068103522657645,
              "y": 10.283632635398877
             },
             {
              "x": 2.8231082077694474,
              "y": 7.9699399527752215
             },
             {
              "x": -0.35573235594234154,
              "y": 0.12654550906428877
             },
             {
              "x": 0.2244825343118011,
              "y": 0.050392408211048956
             },
             {
              "x": 3.007122702006747,
              "y": 9.042786944924357
             },
             {
              "x": 2.2436189201121515,
              "y": 5.0338258586852165
             },
             {
              "x": 1.078248637444228,
              "y": 1.1626201241503342
             },
             {
              "x": 0.2300574939958957,
              "y": 0.05292645054367159
             },
             {
              "x": 3.785208644811471,
              "y": 14.327804484755491
             },
             {
              "x": 2.8092054305225465,
              "y": 7.891635150877366
             },
             {
              "x": 5.725485186004798,
              "y": 32.7811806151604
             },
             {
              "x": 2.457811971144872,
              "y": 6.040839685503041
             },
             {
              "x": 3.9091087370182733,
              "y": 15.2811311178326
             },
             {
              "x": 2.3831771221476474,
              "y": 5.6795331955279424
             },
             {
              "x": 3.7186058605271866,
              "y": 13.828029545947137
             },
             {
              "x": 0.7772531480300227,
              "y": 0.6041224561225803
             },
             {
              "x": 1.0658015817602842,
              "y": 1.1359330116827238
             },
             {
              "x": 2.0450467215062043,
              "y": 4.182216093143275
             },
             {
              "x": 2.8775256770469504,
              "y": 8.28015402206451
             },
             {
              "x": 4.138597696993618,
              "y": 17.12799089756088
             },
             {
              "x": 3.8449707158402706,
              "y": 14.783799805669243
             },
             {
              "x": -1.386756704688834,
              "y": 1.923094157999434
             },
             {
              "x": 1.6433697735339867,
              "y": 2.700664212565147
             },
             {
              "x": 3.5616868015040897,
              "y": 12.685612872008432
             },
             {
              "x": 1.9499728562431349,
              "y": 3.8023941400850094
             },
             {
              "x": -0.06513060986372432,
              "y": 0.004241996341220663
             },
             {
              "x": 0.5804861005016768,
              "y": 0.3369641128756428
             },
             {
              "x": 1.4580502792133507,
              "y": 2.12591061671413
             },
             {
              "x": 2.232899255230755,
              "y": 4.98583908401006
             },
             {
              "x": 1.8294596890051413,
              "y": 3.3469227536947885
             },
             {
              "x": 2.2877396216063595,
              "y": 5.233752576267609
             },
             {
              "x": -0.12907735883441207,
              "y": 0.016660964563667575
             },
             {
              "x": 0.7772373990267976,
              "y": 0.6040979744459414
             },
             {
              "x": -1.1915009087511659,
              "y": 1.4196744155548542
             },
             {
              "x": 4.537062194667759,
              "y": 20.584933358283422
             },
             {
              "x": 0.3762976295186711,
              "y": 0.14159990598137104
             },
             {
              "x": 1.7814051548210037,
              "y": 3.1734043256228444
             },
             {
              "x": 1.132640459516091,
              "y": 1.2828744105328218
             },
             {
              "x": 3.3924093720315476,
              "y": 11.508441347447478
             },
             {
              "x": 2.1818952714788997,
              "y": 4.760666975701982
             },
             {
              "x": 4.737561564191099,
              "y": 22.44448957450081
             },
             {
              "x": 5.762701487946016,
              "y": 33.208728439175225
             },
             {
              "x": 3.270199111495986,
              "y": 10.694202228829138
             },
             {
              "x": 3.0554179078957606,
              "y": 9.335578591890107
             },
             {
              "x": 0.6124261948609382,
              "y": 0.37506584415184785
             },
             {
              "x": 4.095989553924263,
              "y": 16.777130425856686
             },
             {
              "x": 4.997870432107002,
              "y": 24.978708856129437
             },
             {
              "x": 3.7136352936388324,
              "y": 13.791087094159977
             },
             {
              "x": 2.6252074971731707,
              "y": 6.891714403214223
             },
             {
              "x": 0.4017159267210957,
              "y": 0.16137568578138872
             },
             {
              "x": 6.712557256506118,
              "y": 45.05842492187294
             },
             {
              "x": 1.2377326332278813,
              "y": 1.531982071357225
             },
             {
              "x": -0.24143961650255674,
              "y": 0.05829308841690167
             },
             {
              "x": 1.144109640454775,
              "y": 1.3089868693815545
             },
             {
              "x": 2.164060906468851,
              "y": 4.683159606906786
             },
             {
              "x": 1.8224801586936672,
              "y": 3.321433928832094
             },
             {
              "x": -0.24990980058372614,
              "y": 0.062454908427797766
             },
             {
              "x": 0.9278615788927682,
              "y": 0.8609271095853808
             },
             {
              "x": 2.748319934780258,
              "y": 7.553262463910562
             },
             {
              "x": 0.9112713407880699,
              "y": 0.8304154565416867
             },
             {
              "x": 4.356042474893306,
              "y": 18.975106043074604
             },
             {
              "x": 3.7945956404194723,
              "y": 14.398956074290465
             },
             {
              "x": 2.45366263096923,
              "y": 6.0204603066148445
             },
             {
              "x": 0.8373706221986852,
              "y": 0.7011895589214132
             },
             {
              "x": 1.1462587529978963,
              "y": 1.3139091288242921
             },
             {
              "x": -0.5908416716507952,
              "y": 0.34909388095910604
             },
             {
              "x": 1.137957704177626,
              "y": 1.2949477364972135
             },
             {
              "x": 4.138128867087882,
              "y": 17.12411052062604
             },
             {
              "x": 4.406268237735613,
              "y": 19.415199782877707
             },
             {
              "x": 3.874669598291944,
              "y": 15.013064495927853
             },
             {
              "x": 0.2822562908055901,
              "y": 0.07966861369932986
             },
             {
              "x": 2.9039836084562918,
              "y": 8.433120798182825
             },
             {
              "x": 0.9472241709546756,
              "y": 0.8972336300407725
             },
             {
              "x": 3.166498141527157,
              "y": 10.02671048029494
             },
             {
              "x": 2.8927692794045425,
              "y": 8.368114103866676
             },
             {
              "x": 4.559007501098488,
              "y": 20.784549395072283
             },
             {
              "x": 1.275142885319621,
              "y": 1.625989377981248
             },
             {
              "x": 3.937826627411397,
              "y": 15.506478547550216
             },
             {
              "x": 0.4890167347632959,
              "y": 0.23913736687855566
             },
             {
              "x": -0.18527878948716037,
              "y": 0.03432822983382749
             },
             {
              "x": 3.7054358344342253,
              "y": 13.730254723109264
             },
             {
              "x": 0.9726159394868366,
              "y": 0.9459817657438617
             },
             {
              "x": 2.4786859646179438,
              "y": 6.143884111193986
             },
             {
              "x": 0.4219897636988872,
              "y": 0.17807536066664265
             },
             {
              "x": 1.7777292317912867,
              "y": 3.1603212215652383
             },
             {
              "x": 2.2577091459902947,
              "y": 5.097250587888226
             },
             {
              "x": 3.508000010726339,
              "y": 12.306064075255994
             },
             {
              "x": 3.7822431886705656,
              "y": 14.305363538244888
             },
             {
              "x": 0.922424230415849,
              "y": 0.8508664608582712
             },
             {
              "x": 1.209744684500962,
              "y": 1.4634822016783322
             },
             {
              "x": 5.042809607357923,
              "y": 25.42992873606137
             },
             {
              "x": 4.4196413591906785,
              "y": 19.533229743868826
             },
             {
              "x": 1.7673246572197623,
              "y": 3.12343644401695
             },
             {
              "x": -0.04422620667739796,
              "y": 0.00195595735707192
             },
             {
              "x": 2.724705038121771,
              "y": 7.42401754476616
             },
             {
              "x": 4.67540602655599,
              "y": 21.85942151315607
             },
             {
              "x": 3.194358102869247,
              "y": 10.203923689366416
             },
             {
              "x": 2.2583659125166164,
              "y": 5.1002165948170095
             },
             {
              "x": 0.7205916342321852,
              "y": 0.5192523033254114
             },
             {
              "x": 2.746364783832142,
              "y": 7.542519525873368
             },
             {
              "x": 2.64427053469785,
              "y": 6.992166660671254
             },
             {
              "x": 0.7912039928455248,
              "y": 0.6260037582947012
             },
             {
              "x": 0.18195461566645177,
              "y": 0.033107482162326174
             },
             {
              "x": 3.9781615742445995,
              "y": 15.82576951079627
             },
             {
              "x": 4.294255490430035,
              "y": 18.4406302170885
             },
             {
              "x": 0.2092146468606555,
              "y": 0.043770768461028786
             },
             {
              "x": 3.356757128725984,
              "y": 11.267818421252713
             },
             {
              "x": 5.090416092997229,
              "y": 25.912335999845173
             },
             {
              "x": 4.276064186778701,
              "y": 18.284724929451393
             },
             {
              "x": 3.5330851893062856,
              "y": 12.482690954895432
             },
             {
              "x": 2.111441380908267,
              "y": 4.458184705011809
             },
             {
              "x": 3.750572308256867,
              "y": 14.066792639463245
             },
             {
              "x": 1.097798609572146,
              "y": 1.205161787178537
             },
             {
              "x": 5.408017054840286,
              "y": 29.246648465443403
             },
             {
              "x": 2.8089999608589213,
              "y": 7.890480780105421
             },
             {
              "x": -1.46066167360032,
              "y": 2.1335325247248877
             },
             {
              "x": 3.8373415408523215,
              "y": 14.725190101150869
             },
             {
              "x": 6.291506943560783,
              "y": 39.58305962087355
             },
             {
              "x": 4.1399437218882,
              "y": 17.139134020401517
             },
             {
              "x": 3.3341555633971742,
              "y": 11.116593320932328
             },
             {
              "x": 3.5937682944615337,
              "y": 12.91517055427696
             },
             {
              "x": -0.6125105367828914,
              "y": 0.3751691576700657
             },
             {
              "x": 0.382991441245744,
              "y": 0.1466824440674922
             },
             {
              "x": 1.2579136423287323,
              "y": 1.5823467315567377
             },
             {
              "x": 3.612464651418482,
              "y": 13.049900857748055
             },
             {
              "x": 2.4301405502709397,
              "y": 5.905583094071146
             },
             {
              "x": 3.269098811645167,
              "y": 10.687007040299845
             },
             {
              "x": -0.21584061875319316,
              "y": 0.04658717270376128
             },
             {
              "x": 3.483193722690631,
              "y": 12.132638509791416
             },
             {
              "x": 3.023554246105799,
              "y": 9.141880279144408
             },
             {
              "x": -0.2306852513441897,
              "y": 0.05321568518773198
             },
             {
              "x": 1.4226596140926737,
              "y": 2.023960377570315
             },
             {
              "x": 4.285175535162606,
              "y": 18.36272936715613
             },
             {
              "x": 0.6663728110343756,
              "y": 0.44405272328585565
             },
             {
              "x": 2.5080837526927935,
              "y": 6.290484110521565
             },
             {
              "x": -1.17635946284011,
              "y": 1.383821585813472
             },
             {
              "x": 1.4208145706306667,
              "y": 2.0187140441164058
             },
             {
              "x": 6.751146289744252,
              "y": 45.57797622552758
             },
             {
              "x": 3.221217240793716,
              "y": 10.37624051238668
             },
             {
              "x": 0.11064073553066134,
              "y": 0.012241372358765747
             },
             {
              "x": 2.424251962877637,
              "y": 5.876997579516076
             },
             {
              "x": 1.8734738151784467,
              "y": 3.5099041361592844
             },
             {
              "x": -0.8304073553595441,
              "y": 0.6895763758352322
             },
             {
              "x": -0.326310465203671,
              "y": 0.1064785197014362
             },
             {
              "x": 2.5677431304018628,
              "y": 6.593304783725958
             },
             {
              "x": -0.24058178313411105,
              "y": 0.05787959437598844
             },
             {
              "x": 3.581221682175171,
              "y": 12.82514873688156
             },
             {
              "x": 3.5969455219293462,
              "y": 12.938017087727577
             },
             {
              "x": 5.236137265554786,
              "y": 27.417133463731556
             },
             {
              "x": 4.826712897492008,
              "y": 23.2971573948157
             },
             {
              "x": 1.3484799945088635,
              "y": 1.8183982955906244
             },
             {
              "x": 1.819394214355567,
              "y": 3.310195307230511
             },
             {
              "x": 3.366371056735985,
              "y": 11.332454091629751
             },
             {
              "x": 4.866653168814668,
              "y": 23.684313065533853
             },
             {
              "x": 1.049457109444334,
              "y": 1.1013602245632566
             },
             {
              "x": 0.47023234149381476,
              "y": 0.2211184549867556
             },
             {
              "x": 2.8045695906816115,
              "y": 7.865610588976022
             },
             {
              "x": 2.4725373199832497,
              "y": 6.11344079870995
             },
             {
              "x": 0.6306411233142113,
              "y": 0.39770822641501025
             },
             {
              "x": -0.32598702209338803,
              "y": 0.10626753857331506
             },
             {
              "x": 3.0443778345010206,
              "y": 9.268236399201124
             },
             {
              "x": 4.8208697951410375,
              "y": 23.24078558170319
             },
             {
              "x": -0.23041382443913871,
              "y": 0.053090530492670235
             },
             {
              "x": 2.627181302190208,
              "y": 6.9020815945778375
             },
             {
              "x": 3.0298476122897338,
              "y": 9.1799765536978
             },
             {
              "x": 1.71366176200166,
              "y": 2.9366366345466344
             },
             {
              "x": -1.1932722704301222,
              "y": 1.4238987113774586
             },
             {
              "x": 4.058318773354984,
              "y": 16.469951266165506
             },
             {
              "x": 1.084246717505569,
              "y": 1.175590944421601
             },
             {
              "x": 1.6754510444974868,
              "y": 2.80713620250772
             },
             {
              "x": 0.49265249577604076,
              "y": 0.24270648159436187
             },
             {
              "x": 3.6531204405211675,
              "y": 13.345288952953569
             },
             {
              "x": 2.4369251044477287,
              "y": 5.938603964687573
             },
             {
              "x": 1.309073885839873,
              "y": 1.7136744385879048
             },
             {
              "x": 4.355214721996665,
              "y": 18.96789527469649
             },
             {
              "x": 2.58034356985272,
              "y": 6.65817293848028
             },
             {
              "x": -1.2883609790285164,
              "y": 1.6598740122833173
             },
             {
              "x": 3.2422511904506166,
              "y": 10.51219278197844
             },
             {
              "x": 0.3474912620621313,
              "y": 0.12075017720953282
             },
             {
              "x": 4.13342394120715,
              "y": 17.08519347774445
             }
            ]
           },
           "encoding": {
            "x": {
             "field": "x",
             "type": "quantitative"
            },
            "y": {
             "field": "y",
             "type": "quantitative"
            }
           },
           "mark": {
            "color": "black",
            "filled": true,
            "opacity": 0.2,
            "size": 50,
            "type": "point"
           }
          }
         ]
        }
       ]
      },
      "image/png": "[encoded data removed]",
      "text/plain": [
       "<VegaLite 2 object>\n",
       "\n",
       "If you see this message, it means the renderer has not been properly enabled\n",
       "for the frontend that you are using. For more information, see\n",
       "https://altair-viz.github.io/user_guide/troubleshooting.html\n"
      ]
     },
     "execution_count": 6,
     "metadata": {},
     "output_type": "execute_result"
    }
   ],
   "source": [
    "x = np.linspace(min(s), max(s), 1000)\n",
    "y = [x_i ** 2 for x_i in x]\n",
    "dt = make_altair_object(x, y)\n",
    "\n",
    "\n",
    "x2 = alt.Chart(dt).mark_line(opacity=line_opacity, color=\"black\").encode(\n",
    "    x='x:Q',  # specify ordinal data\n",
    "    y='y:Q',  # specify quantitative data\n",
    ")\n",
    "\n",
    "dt = make_altair_object(X=s, Y=[i ** 2 for i in s])\n",
    "\n",
    "x2_points = alt.Chart(dt).mark_point(opacity=point_opacity, size=point_size, color=\"black\", filled=True).encode(\n",
    "    x='x:Q',  # specify ordinal data\n",
    "    y='y:Q',  # specify quantitative data\n",
    ")\n",
    "\n",
    "x_points  + x2_points\n",
    "\n",
    "guide_lies = []\n",
    "\n",
    "for x, x_2 in zip(s, [i ** 2 for i in s]):\n",
    "    Xs = [x, x]\n",
    "    Ys = [0, x_2]\n",
    "    dt = make_altair_object(X=Xs, Y=Ys)\n",
    "    guide_lies.append(alt.Chart(dt).mark_line(opacity=.4).encode(\n",
    "        x='x:Q',  # specify ordinal data\n",
    "        y='y:Q',  # specify quantitative data\n",
    "    ))\n",
    "\n",
    "import functools\n",
    "\n",
    "functools.reduce(lambda a,b : a+b,guide_lies + [x_points  + x2_points])"
   ]
  },
  {
   "cell_type": "markdown",
   "metadata": {},
   "source": [
    "Each black dot represents the value of some blue $x$, squared. Because each $x$ has equal probability mass (i.e. $\\frac{1}{|S|}$) if we simple average the y-coordinates of the black dots, we get the expected value of $X^2$. That is, we get $\\mathbb{E}[X^2]$. We show this as a black dot on the chart. We can also plot the expected value of each $x_i$ as a blue dot. This is $\\mathbb{E}[X]$."
   ]
  },
  {
   "cell_type": "code",
   "execution_count": 8,
   "metadata": {},
   "outputs": [
    {
     "data": {
      "application/vnd.vegalite.v2+json": {
       "$schema": "https://vega.github.io/schema/vega-lite/v2.6.0.json",
       "config": {
        "view": {
         "height": 300,
         "width": 400
        }
       },
       "layer": [
        {
         "data": {
          "values": [
           {
            "x": -1.46066167360032,
            "y": 2.1335325247248877
           },
           {
            "x": -1.4512509856603688,
            "y": 2.106129423380192
           },
           {
            "x": -1.4418402977204177,
            "y": 2.0789034441305025
           },
           {
            "x": -1.4324296097804665,
            "y": 2.0518545869758196
           },
           {
            "x": -1.4230189218405154,
            "y": 2.0249828519161426
           },
           {
            "x": -1.413608233900564,
            "y": 1.9982882389514716
           },
           {
            "x": -1.4041975459606129,
            "y": 1.9717707480818074
           },
           {
            "x": -1.3947868580206617,
            "y": 1.9454303793071495
           },
           {
            "x": -1.3853761700807106,
            "y": 1.919267132627498
           },
           {
            "x": -1.3759654821407594,
            "y": 1.8932810080428526
           },
           {
            "x": -1.3665547942008083,
            "y": 1.8674720055532135
           },
           {
            "x": -1.3571441062608571,
            "y": 1.8418401251585808
           },
           {
            "x": -1.347733418320906,
            "y": 1.8163853668589542
           },
           {
            "x": -1.3383227303809546,
            "y": 1.7911077306543333
           },
           {
            "x": -1.3289120424410035,
            "y": 1.7660072165447194
           },
           {
            "x": -1.3195013545010523,
            "y": 1.7410838245301117
           },
           {
            "x": -1.3100906665611012,
            "y": 1.7163375546105104
           },
           {
            "x": -1.30067997862115,
            "y": 1.6917684067859153
           },
           {
            "x": -1.291269290681199,
            "y": 1.6673763810563265
           },
           {
            "x": -1.2818586027412477,
            "y": 1.643161477421744
           },
           {
            "x": -1.2724479148012966,
            "y": 1.6191236958821678
           },
           {
            "x": -1.2630372268613455,
            "y": 1.595263036437598
           },
           {
            "x": -1.253626538921394,
            "y": 1.5715794990880336
           },
           {
            "x": -1.244215850981443,
            "y": 1.5480730838334762
           },
           {
            "x": -1.2348051630414918,
            "y": 1.5247437906739252
           },
           {
            "x": -1.2253944751015406,
            "y": 1.5015916196093804
           },
           {
            "x": -1.2159837871615895,
            "y": 1.4786165706398418
           },
           {
            "x": -1.2065730992216384,
            "y": 1.4558186437653096
           },
           {
            "x": -1.1971624112816872,
            "y": 1.4331978389857836
           },
           {
            "x": -1.1877517233417358,
            "y": 1.4107541563012633
           },
           {
            "x": -1.1783410354017847,
            "y": 1.38848759571175
           },
           {
            "x": -1.1689303474618336,
            "y": 1.366398157217243
           },
           {
            "x": -1.1595196595218824,
            "y": 1.344485840817742
           },
           {
            "x": -1.1501089715819313,
            "y": 1.3227506465132475
           },
           {
            "x": -1.1406982836419801,
            "y": 1.3011925743037593
           },
           {
            "x": -1.131287595702029,
            "y": 1.2798116241892774
           },
           {
            "x": -1.1218769077620778,
            "y": 1.2586077961698017
           },
           {
            "x": -1.1124662198221267,
            "y": 1.2375810902453324
           },
           {
            "x": -1.1030555318821755,
            "y": 1.2167315064158692
           },
           {
            "x": -1.0936448439422244,
            "y": 1.1960590446814123
           },
           {
            "x": -1.084234156002273,
            "y": 1.1755637050419614
           },
           {
            "x": -1.0748234680623219,
            "y": 1.155245487497517
           },
           {
            "x": -1.0654127801223707,
            "y": 1.135104392048079
           },
           {
            "x": -1.0560020921824196,
            "y": 1.1151404186936473
           },
           {
            "x": -1.0465914042424684,
            "y": 1.095353567434222
           },
           {
            "x": -1.0371807163025173,
            "y": 1.0757438382698028
           },
           {
            "x": -1.027770028362566,
            "y": 1.0563112312003895
           },
           {
            "x": -1.0183593404226148,
            "y": 1.037055746225983
           },
           {
            "x": -1.0089486524826636,
            "y": 1.0179773833465828
           },
           {
            "x": -0.9995379645427125,
            "y": 0.9990761425621888
           },
           {
            "x": -0.9901272766027613,
            "y": 0.9803520238728011
           },
           {
            "x": -0.9807165886628102,
            "y": 0.9618050272784197
           },
           {
            "x": -0.971305900722859,
            "y": 0.9434351527790446
           },
           {
            "x": -0.9618952127829079,
            "y": 0.9252424003746756
           },
           {
            "x": -0.9524845248429566,
            "y": 0.9072267700653129
           },
           {
            "x": -0.9430738369030055,
            "y": 0.8893882618509567
           },
           {
            "x": -0.9336631489630544,
            "y": 0.8717268757316067
           },
           {
            "x": -0.9242524610231032,
            "y": 0.8542426117072629
           },
           {
            "x": -0.914841773083152,
            "y": 0.8369354697779253
           },
           {
            "x": -0.9054310851432008,
            "y": 0.8198054499435942
           },
           {
            "x": -0.8960203972032497,
            "y": 0.8028525522042693
           },
           {
            "x": -0.8866097092632985,
            "y": 0.7860767765599507
           },
           {
            "x": -0.8771990213233473,
            "y": 0.7694781230106382
           },
           {
            "x": -0.8677883333833961,
            "y": 0.7530565915563322
           },
           {
            "x": -0.858377645443445,
            "y": 0.7368121821970325
           },
           {
            "x": -0.8489669575034938,
            "y": 0.7207448949327391
           },
           {
            "x": -0.8395562695635427,
            "y": 0.704854729763452
           },
           {
            "x": -0.8301455816235914,
            "y": 0.6891416866891709
           },
           {
            "x": -0.8207348936836403,
            "y": 0.6736057657098963
           },
           {
            "x": -0.8113242057436891,
            "y": 0.658246966825628
           },
           {
            "x": -0.801913517803738,
            "y": 0.643065290036366
           },
           {
            "x": -0.7925028298637867,
            "y": 0.62806073534211
           },
           {
            "x": -0.7830921419238356,
            "y": 0.6132333027428607
           },
           {
            "x": -0.7736814539838844,
            "y": 0.5985829922386174
           },
           {
            "x": -0.7642707660439333,
            "y": 0.5841098038293806
           },
           {
            "x": -0.754860078103982,
            "y": 0.5698137375151499
           },
           {
            "x": -0.7454493901640309,
            "y": 0.5556947932959255
           },
           {
            "x": -0.7360387022240797,
            "y": 0.5417529711717075
           },
           {
            "x": -0.7266280142841286,
            "y": 0.5279882711424958
           },
           {
            "x": -0.7172173263441773,
            "y": 0.5144006932082902
           },
           {
            "x": -0.7078066384042262,
            "y": 0.500990237369091
           },
           {
            "x": -0.698395950464275,
            "y": 0.48775690362489815
           },
           {
            "x": -0.6889852625243239,
            "y": 0.4747006919757115
           },
           {
            "x": -0.6795745745843728,
            "y": 0.4618216024215312
           },
           {
            "x": -0.6701638866444215,
            "y": 0.449119634962357
           },
           {
            "x": -0.6607531987044704,
            "y": 0.4365947895981893
           },
           {
            "x": -0.6513425107645192,
            "y": 0.4242470663290278
           },
           {
            "x": -0.6419318228245681,
            "y": 0.4120764651548727
           },
           {
            "x": -0.6325211348846168,
            "y": 0.4000829860757236
           },
           {
            "x": -0.6231104469446657,
            "y": 0.388266629091581
           },
           {
            "x": -0.6136997590047145,
            "y": 0.3766273942024447
           },
           {
            "x": -0.6042890710647634,
            "y": 0.3651652814083146
           },
           {
            "x": -0.5948783831248121,
            "y": 0.35388029070919075
           },
           {
            "x": -0.585467695184861,
            "y": 0.3427724221050733
           },
           {
            "x": -0.5760570072449098,
            "y": 0.3318416755959621
           },
           {
            "x": -0.5666463193049587,
            "y": 0.3210880511818572
           },
           {
            "x": -0.5572356313650075,
            "y": 0.31051154886275856
           },
           {
            "x": -0.5478249434250563,
            "y": 0.30011216863866613
           },
           {
            "x": -0.5384142554851051,
            "y": 0.2898899105095801
           },
           {
            "x": -0.529003567545154,
            "y": 0.27984477447550027
           },
           {
            "x": -0.5195928796052028,
            "y": 0.26997676053642683
           },
           {
            "x": -0.5101821916652516,
            "y": 0.2602858686923595
           },
           {
            "x": -0.5007715037253004,
            "y": 0.2507720989432986
           },
           {
            "x": -0.4913608157853493,
            "y": 0.24143545128924396
           },
           {
            "x": -0.48195012784539815,
            "y": 0.23227592573019562
           },
           {
            "x": -0.4725394399054469,
            "y": 0.22329352226615345
           },
           {
            "x": -0.46312875196549574,
            "y": 0.21448824089711768
           },
           {
            "x": -0.4537180640255445,
            "y": 0.20586008162308808
           },
           {
            "x": -0.44430737608559334,
            "y": 0.19740904444406487
           },
           {
            "x": -0.4348966881456422,
            "y": 0.18913512936004795
           },
           {
            "x": -0.42548600020569105,
            "y": 0.18103833637103733
           },
           {
            "x": -0.4160753122657399,
            "y": 0.17311866547703297
           },
           {
            "x": -0.40666462432578876,
            "y": 0.1653761166780349
           },
           {
            "x": -0.3972539363858376,
            "y": 0.15781068997404313
           },
           {
            "x": -0.38784324844588647,
            "y": 0.15042238536505761
           },
           {
            "x": -0.3784325605059353,
            "y": 0.1432112028510784
           },
           {
            "x": -0.36902187256598395,
            "y": 0.1361771424321053
           },
           {
            "x": -0.3596111846260328,
            "y": 0.12932020410813866
           },
           {
            "x": -0.35020049668608166,
            "y": 0.12264038787917829
           },
           {
            "x": -0.3407898087461305,
            "y": 0.11613769374522422
           },
           {
            "x": -0.3313791208061794,
            "y": 0.10981212170627642
           },
           {
            "x": -0.3219684328662282,
            "y": 0.10366367176233492
           },
           {
            "x": -0.3125577449262771,
            "y": 0.09769234391339969
           },
           {
            "x": -0.30314705698632594,
            "y": 0.09189813815947075
           },
           {
            "x": -0.29373636904637457,
            "y": 0.08628105450054796
           },
           {
            "x": -0.2843256811064234,
            "y": 0.08084109293663158
           },
           {
            "x": -0.2749149931664723,
            "y": 0.0755782534677215
           },
           {
            "x": -0.26550430522652113,
            "y": 0.0704925360938177
           },
           {
            "x": -0.25609361728657,
            "y": 0.06558394081492018
           },
           {
            "x": -0.24668292934661884,
            "y": 0.060852467631028945
           },
           {
            "x": -0.2372722414066677,
            "y": 0.05629811654214399
           },
           {
            "x": -0.22786155346671655,
            "y": 0.05192088754826533
           },
           {
            "x": -0.2184508655267654,
            "y": 0.04772078064939294
           },
           {
            "x": -0.20904017758681404,
            "y": 0.04369779584552675
           },
           {
            "x": -0.1996294896468629,
            "y": 0.03985193313666694
           },
           {
            "x": -0.19021880170691174,
            "y": 0.036183192522813414
           },
           {
            "x": -0.1808081137669606,
            "y": 0.03269157400396617
           },
           {
            "x": -0.17139742582700945,
            "y": 0.029377077580125206
           },
           {
            "x": -0.1619867378870583,
            "y": 0.02623970325129053
           },
           {
            "x": -0.15257604994710716,
            "y": 0.02327945101746214
           },
           {
            "x": -0.14316536200715602,
            "y": 0.02049632087864003
           },
           {
            "x": -0.13375467406720465,
            "y": 0.01789031283482415
           },
           {
            "x": -0.1243439861272535,
            "y": 0.015461426886014611
           },
           {
            "x": -0.11493329818730236,
            "y": 0.013209663032211359
           },
           {
            "x": -0.10552261024735121,
            "y": 0.01113502127341439
           },
           {
            "x": -0.09611192230740007,
            "y": 0.009237501609623706
           },
           {
            "x": -0.08670123436744892,
            "y": 0.007517104040839306
           },
           {
            "x": -0.07729054642749777,
            "y": 0.005973828567061189
           },
           {
            "x": -0.06787985848754663,
            "y": 0.004607675188289356
           },
           {
            "x": -0.058469170547595484,
            "y": 0.0034186439045238073
           },
           {
            "x": -0.049058482607644116,
            "y": 0.0024067347157645204
           },
           {
            "x": -0.03964779466769297,
            "y": 0.0015719476220115432
           },
           {
            "x": -0.030237106727741825,
            "y": 0.0009142826232648499
           },
           {
            "x": -0.02082641878779068,
            "y": 0.00043373971952444056
           },
           {
            "x": -0.011415730847839534,
            "y": 0.0001303189107903151
           },
           {
            "x": -0.002005042907888388,
            "y": 4.0201970624735225e-06
           },
           {
            "x": 0.007405645032062758,
            "y": 5.4843578340915804e-05
           },
           {
            "x": 0.016816332972013903,
            "y": 0.00028278905462564193
           },
           {
            "x": 0.02622702091196527,
            "y": 0.0006878566259166636
           },
           {
            "x": 0.035637708851916416,
            "y": 0.0012700462922139617
           },
           {
            "x": 0.04504839679186756,
            "y": 0.0020293580535175435
           },
           {
            "x": 0.05445908473181871,
            "y": 0.0029657919098274093
           },
           {
            "x": 0.06386977267176985,
            "y": 0.004079347861143559
           },
           {
            "x": 0.073280460611721,
            "y": 0.005370025907465993
           },
           {
            "x": 0.08269114855167214,
            "y": 0.00683782604879471
           },
           {
            "x": 0.09210183649162329,
            "y": 0.008482748285129712
           },
           {
            "x": 0.10151252443157444,
            "y": 0.010304792616470996
           },
           {
            "x": 0.1109232123715258,
            "y": 0.012303959042818615
           },
           {
            "x": 0.12033390031147695,
            "y": 0.014480247564172473
           },
           {
            "x": 0.1297445882514281,
            "y": 0.016833658180532615
           },
           {
            "x": 0.13915527619137924,
            "y": 0.019364190891899037
           },
           {
            "x": 0.14856596413133039,
            "y": 0.022071845698271746
           },
           {
            "x": 0.15797665207128153,
            "y": 0.02495662259965074
           },
           {
            "x": 0.16738734001123268,
            "y": 0.028018521596036017
           },
           {
            "x": 0.17679802795118382,
            "y": 0.03125754268742758
           },
           {
            "x": 0.1862087158911352,
            "y": 0.0346736858738255
           },
           {
            "x": 0.19561940383108634,
            "y": 0.038266951155229635
           },
           {
            "x": 0.20503009177103748,
            "y": 0.04203733853164005
           },
           {
            "x": 0.21444077971098863,
            "y": 0.04598484800305675
           },
           {
            "x": 0.22385146765093977,
            "y": 0.05010947956947973
           },
           {
            "x": 0.23326215559089092,
            "y": 0.054411233230909004
           },
           {
            "x": 0.24267284353084206,
            "y": 0.05889010898734456
           },
           {
            "x": 0.2520835314707932,
            "y": 0.06354610683878639
           },
           {
            "x": 0.26149421941074436,
            "y": 0.0683792267852345
           },
           {
            "x": 0.2709049073506957,
            "y": 0.07338946882668904
           },
           {
            "x": 0.28031559529064687,
            "y": 0.07857683296314973
           },
           {
            "x": 0.289726283230598,
            "y": 0.0839413191946167
           },
           {
            "x": 0.29913697117054916,
            "y": 0.08948292752108995
           },
           {
            "x": 0.3085476591105003,
            "y": 0.0952016579425695
           },
           {
            "x": 0.31795834705045145,
            "y": 0.10109751045905532
           },
           {
            "x": 0.3273690349904026,
            "y": 0.10717048507054744
           },
           {
            "x": 0.33677972293035374,
            "y": 0.11342058177704584
           },
           {
            "x": 0.3461904108703049,
            "y": 0.11984780057855052
           },
           {
            "x": 0.35560109881025626,
            "y": 0.12645214147506162
           },
           {
            "x": 0.3650117867502074,
            "y": 0.1332336044665789
           },
           {
            "x": 0.37442247469015855,
            "y": 0.14019218955310242
           },
           {
            "x": 0.3838331626301097,
            "y": 0.14732789673463223
           },
           {
            "x": 0.39324385057006084,
            "y": 0.15464072601116835
           },
           {
            "x": 0.402654538510012,
            "y": 0.16213067738271073
           },
           {
            "x": 0.41206522644996313,
            "y": 0.16979775084925938
           },
           {
            "x": 0.4214759143899143,
            "y": 0.17764194641081435
           },
           {
            "x": 0.43088660232986564,
            "y": 0.18566326406737577
           },
           {
            "x": 0.4402972902698168,
            "y": 0.1938617038189433
           },
           {
            "x": 0.44970797820976793,
            "y": 0.2022372656655171
           },
           {
            "x": 0.4591186661497191,
            "y": 0.2107899496070972
           },
           {
            "x": 0.4685293540896702,
            "y": 0.2195197556436836
           },
           {
            "x": 0.47794004202962137,
            "y": 0.22842668377527625
           },
           {
            "x": 0.4873507299695725,
            "y": 0.2375107340018752
           },
           {
            "x": 0.49676141790952366,
            "y": 0.24677190632348042
           },
           {
            "x": 0.5061721058494748,
            "y": 0.25621020074009193
           },
           {
            "x": 0.5155827937894262,
            "y": 0.26582561725170994
           },
           {
            "x": 0.5249934817293773,
            "y": 0.27561815585833405
           },
           {
            "x": 0.5344041696693285,
            "y": 0.2855878165599644
           },
           {
            "x": 0.5438148576092794,
            "y": 0.2957345993566008
           },
           {
            "x": 0.553225545549231,
            "y": 0.30605850424824427
           },
           {
            "x": 0.5626362334891821,
            "y": 0.31655953123489344
           },
           {
            "x": 0.5720469214291333,
            "y": 0.327237680316549
           },
           {
            "x": 0.5814576093690844,
            "y": 0.3380929514932108
           },
           {
            "x": 0.5908682973090356,
            "y": 0.34912534476487883
           },
           {
            "x": 0.6002789852489867,
            "y": 0.3603348601315532
           },
           {
            "x": 0.6096896731889379,
            "y": 0.37172149759323386
           },
           {
            "x": 0.619100361128889,
            "y": 0.3832852571499208
           },
           {
            "x": 0.6285110490688401,
            "y": 0.39502613880161397
           },
           {
            "x": 0.6379217370087913,
            "y": 0.40694414254831346
           },
           {
            "x": 0.6473324249487424,
            "y": 0.41903926839001926
           },
           {
            "x": 0.6567431128886936,
            "y": 0.4313115163267313
           },
           {
            "x": 0.6661538008286447,
            "y": 0.4437608863584497
           },
           {
            "x": 0.6755644887685959,
            "y": 0.4563873784851743
           },
           {
            "x": 0.684975176708547,
            "y": 0.46919099270690523
           },
           {
            "x": 0.6943858646484982,
            "y": 0.4821717290236424
           },
           {
            "x": 0.7037965525884493,
            "y": 0.4953295874353859
           },
           {
            "x": 0.7132072405284009,
            "y": 0.5086645679421363
           },
           {
            "x": 0.722617928468352,
            "y": 0.5221766705438924
           },
           {
            "x": 0.7320286164083032,
            "y": 0.5358658952406546
           },
           {
            "x": 0.7414393043482543,
            "y": 0.5497322420324233
           },
           {
            "x": 0.7508499922882055,
            "y": 0.5637757109191982
           },
           {
            "x": 0.7602606802281566,
            "y": 0.5779963019009794
           },
           {
            "x": 0.7696713681681078,
            "y": 0.5923940149777669
           },
           {
            "x": 0.7790820561080589,
            "y": 0.6069688501495607
           },
           {
            "x": 0.7884927440480101,
            "y": 0.6217208074163607
           },
           {
            "x": 0.7979034319879612,
            "y": 0.636649886778167
           },
           {
            "x": 0.8073141199279124,
            "y": 0.6517560882349797
           },
           {
            "x": 0.8167248078678635,
            "y": 0.6670394117867986
           },
           {
            "x": 0.8261354958078146,
            "y": 0.6824998574336237
           },
           {
            "x": 0.8355461837477658,
            "y": 0.6981374251754552
           },
           {
            "x": 0.8449568716877169,
            "y": 0.7139521150122929
           },
           {
            "x": 0.8543675596276681,
            "y": 0.729943926944137
           },
           {
            "x": 0.8637782475676192,
            "y": 0.7461128609709873
           },
           {
            "x": 0.8731889355075708,
            "y": 0.7624589170928446
           },
           {
            "x": 0.882599623447522,
            "y": 0.7789820953097075
           },
           {
            "x": 0.8920103113874731,
            "y": 0.7956823956215767
           },
           {
            "x": 0.9014209993274243,
            "y": 0.8125598180284522
           },
           {
            "x": 0.9108316872673754,
            "y": 0.8296143625303339
           },
           {
            "x": 0.9202423752073265,
            "y": 0.846846029127222
           },
           {
            "x": 0.9296530631472777,
            "y": 0.8642548178191163
           },
           {
            "x": 0.9390637510872288,
            "y": 0.8818407286060169
           },
           {
            "x": 0.94847443902718,
            "y": 0.8996037614879238
           },
           {
            "x": 0.9578851269671311,
            "y": 0.9175439164648369
           },
           {
            "x": 0.9672958149070823,
            "y": 0.9356611935367564
           },
           {
            "x": 0.9767065028470334,
            "y": 0.9539555927036821
           },
           {
            "x": 0.9861171907869846,
            "y": 0.9724271139656141
           },
           {
            "x": 0.9955278787269357,
            "y": 0.9910757573225524
           },
           {
            "x": 1.0049385666668869,
            "y": 1.009901522774497
           },
           {
            "x": 1.014349254606838,
            "y": 1.028904410321448
           },
           {
            "x": 1.0237599425467891,
            "y": 1.048084419963405
           },
           {
            "x": 1.0331706304867407,
            "y": 1.0674415517003695
           },
           {
            "x": 1.0425813184266919,
            "y": 1.086975805532339
           },
           {
            "x": 1.051992006366643,
            "y": 1.106687181459315
           },
           {
            "x": 1.0614026943065942,
            "y": 1.1265756794812973
           },
           {
            "x": 1.0708133822465453,
            "y": 1.146641299598286
           },
           {
            "x": 1.0802240701864965,
            "y": 1.1668840418102808
           },
           {
            "x": 1.0896347581264476,
            "y": 1.187303906117282
           },
           {
            "x": 1.0990454460663988,
            "y": 1.2079008925192893
           },
           {
            "x": 1.10845613400635,
            "y": 1.2286750010163032
           },
           {
            "x": 1.117866821946301,
            "y": 1.249626231608323
           },
           {
            "x": 1.1272775098862522,
            "y": 1.2707545842953494
           },
           {
            "x": 1.1366881978262033,
            "y": 1.292060059077382
           },
           {
            "x": 1.1460988857661545,
            "y": 1.3135426559544208
           },
           {
            "x": 1.1555095737061056,
            "y": 1.3352023749264659
           },
           {
            "x": 1.1649202616460568,
            "y": 1.3570392159935174
           },
           {
            "x": 1.174330949586008,
            "y": 1.3790531791555751
           },
           {
            "x": 1.183741637525959,
            "y": 1.401244264412639
           },
           {
            "x": 1.1931523254659107,
            "y": 1.4236124717647103
           },
           {
            "x": 1.2025630134058618,
            "y": 1.446157801211787
           },
           {
            "x": 1.211973701345813,
            "y": 1.4688802527538698
           },
           {
            "x": 1.221384389285764,
            "y": 1.491779826390959
           },
           {
            "x": 1.2307950772257152,
            "y": 1.5148565221230543
           },
           {
            "x": 1.2402057651656664,
            "y": 1.5381103399501561
           },
           {
            "x": 1.2496164531056175,
            "y": 1.561541279872264
           },
           {
            "x": 1.2590271410455687,
            "y": 1.5851493418893783
           },
           {
            "x": 1.2684378289855198,
            "y": 1.6089345260014989
           },
           {
            "x": 1.277848516925471,
            "y": 1.6328968322086257
           },
           {
            "x": 1.2872592048654221,
            "y": 1.6570362605107587
           },
           {
            "x": 1.2966698928053733,
            "y": 1.6813528109078981
           },
           {
            "x": 1.3060805807453244,
            "y": 1.705846483400044
           },
           {
            "x": 1.3154912686852755,
            "y": 1.7305172779871958
           },
           {
            "x": 1.3249019566252267,
            "y": 1.755365194669354
           },
           {
            "x": 1.3343126445651778,
            "y": 1.7803902334465187
           },
           {
            "x": 1.343723332505129,
            "y": 1.8055923943186893
           },
           {
            "x": 1.3531340204450806,
            "y": 1.8309716772858677
           },
           {
            "x": 1.3625447083850317,
            "y": 1.8565280823480512
           },
           {
            "x": 1.3719553963249829,
            "y": 1.882261609505241
           },
           {
            "x": 1.381366084264934,
            "y": 1.9081722587574368
           },
           {
            "x": 1.3907767722048852,
            "y": 1.934260030104639
           },
           {
            "x": 1.4001874601448363,
            "y": 1.9605249235468476
           },
           {
            "x": 1.4095981480847875,
            "y": 1.9869669390840623
           },
           {
            "x": 1.4190088360247386,
            "y": 2.0135860767162836
           },
           {
            "x": 1.4284195239646897,
            "y": 2.040382336443511
           },
           {
            "x": 1.4378302119046409,
            "y": 2.0673557182657447
           },
           {
            "x": 1.447240899844592,
            "y": 2.0945062221829844
           },
           {
            "x": 1.4566515877845432,
            "y": 2.1218338481952306
           },
           {
            "x": 1.4660622757244943,
            "y": 2.149338596302483
           },
           {
            "x": 1.4754729636644455,
            "y": 2.177020466504742
           },
           {
            "x": 1.4848836516043966,
            "y": 2.204879458802007
           },
           {
            "x": 1.4942943395443478,
            "y": 2.2329155731942785
           },
           {
            "x": 1.503705027484299,
            "y": 2.2611288096815563
           },
           {
            "x": 1.5131157154242505,
            "y": 2.2895191682638414
           },
           {
            "x": 1.5225264033642016,
            "y": 2.3180866489411316
           },
           {
            "x": 1.5319370913041528,
            "y": 2.346831251713428
           },
           {
            "x": 1.541347779244104,
            "y": 2.375752976580731
           },
           {
            "x": 1.550758467184055,
            "y": 2.40485182354304
           },
           {
            "x": 1.5601691551240062,
            "y": 2.4341277926003553
           },
           {
            "x": 1.5695798430639574,
            "y": 2.463580883752677
           },
           {
            "x": 1.5789905310039085,
            "y": 2.493211097000005
           },
           {
            "x": 1.5884012189438597,
            "y": 2.5230184323423392
           },
           {
            "x": 1.5978119068838108,
            "y": 2.5530028897796795
           },
           {
            "x": 1.607222594823762,
            "y": 2.5831644693120266
           },
           {
            "x": 1.616633282763713,
            "y": 2.6135031709393797
           },
           {
            "x": 1.6260439707036642,
            "y": 2.6440189946617387
           },
           {
            "x": 1.6354546586436154,
            "y": 2.6747119404791047
           },
           {
            "x": 1.6448653465835665,
            "y": 2.7055820083914766
           },
           {
            "x": 1.6542760345235177,
            "y": 2.736629198398855
           },
           {
            "x": 1.6636867224634688,
            "y": 2.767853510501239
           },
           {
            "x": 1.6730974104034204,
            "y": 2.7992549446986312
           },
           {
            "x": 1.6825080983433716,
            "y": 2.8308335009910284
           },
           {
            "x": 1.6919187862833227,
            "y": 2.862589179378432
           },
           {
            "x": 1.7013294742232739,
            "y": 2.8945219798608415
           },
           {
            "x": 1.710740162163225,
            "y": 2.9266319024382574
           },
           {
            "x": 1.7201508501031761,
            "y": 2.9589189471106794
           },
           {
            "x": 1.7295615380431273,
            "y": 2.991383113878108
           },
           {
            "x": 1.7389722259830784,
            "y": 3.024024402740543
           },
           {
            "x": 1.7483829139230296,
            "y": 3.0568428136979837
           },
           {
            "x": 1.7577936018629807,
            "y": 3.0898383467504313
           },
           {
            "x": 1.7672042898029319,
            "y": 3.123011001897885
           },
           {
            "x": 1.776614977742883,
            "y": 3.1563607791403445
           },
           {
            "x": 1.7860256656828342,
            "y": 3.189887678477811
           },
           {
            "x": 1.7954363536227853,
            "y": 3.2235916999102834
           },
           {
            "x": 1.8048470415627365,
            "y": 3.2574728434377622
           },
           {
            "x": 1.8142577295026876,
            "y": 3.291531109060247
           },
           {
            "x": 1.8236684174426387,
            "y": 3.3257664967777383
           },
           {
            "x": 1.8330791053825903,
            "y": 3.3601790065902377
           },
           {
            "x": 1.8424897933225415,
            "y": 3.394768638497742
           },
           {
            "x": 1.8519004812624926,
            "y": 3.429535392500252
           },
           {
            "x": 1.8613111692024438,
            "y": 3.4644792685977683
           },
           {
            "x": 1.870721857142395,
            "y": 3.4996002667902912
           },
           {
            "x": 1.880132545082346,
            "y": 3.53489838707782
           },
           {
            "x": 1.8895432330222972,
            "y": 3.5703736294603554
           },
           {
            "x": 1.8989539209622484,
            "y": 3.606025993937897
           },
           {
            "x": 1.9083646089021995,
            "y": 3.641855480510445
           },
           {
            "x": 1.9177752968421506,
            "y": 3.677862089177999
           },
           {
            "x": 1.9271859847821018,
            "y": 3.7140458199405595
           },
           {
            "x": 1.936596672722053,
            "y": 3.750406672798126
           },
           {
            "x": 1.946007360662004,
            "y": 3.7869446477506994
           },
           {
            "x": 1.9554180486019552,
            "y": 3.8236597447982787
           },
           {
            "x": 1.9648287365419064,
            "y": 3.860551963940864
           },
           {
            "x": 1.9742394244818575,
            "y": 3.897621305178456
           },
           {
            "x": 1.9836501124218087,
            "y": 3.934867768511054
           },
           {
            "x": 1.9930608003617603,
            "y": 3.9722913539386604
           },
           {
            "x": 2.0024714883017114,
            "y": 4.009892061461271
           },
           {
            "x": 2.0118821762416625,
            "y": 4.047669891078888
           },
           {
            "x": 2.0212928641816137,
            "y": 4.085624842791511
           },
           {
            "x": 2.030703552121565,
            "y": 4.123756916599141
           },
           {
            "x": 2.040114240061516,
            "y": 4.162066112501777
           },
           {
            "x": 2.049524928001467,
            "y": 4.200552430499419
           },
           {
            "x": 2.0589356159414183,
            "y": 4.2392158705920675
           },
           {
            "x": 2.0683463038813694,
            "y": 4.278056432779723
           },
           {
            "x": 2.0777569918213206,
            "y": 4.317074117062383
           },
           {
            "x": 2.0871676797612717,
            "y": 4.356268923440051
           },
           {
            "x": 2.096578367701223,
            "y": 4.395640851912724
           },
           {
            "x": 2.105989055641174,
            "y": 4.435189902480404
           },
           {
            "x": 2.115399743581125,
            "y": 4.47491607514309
           },
           {
            "x": 2.1248104315210763,
            "y": 4.514819369900782
           },
           {
            "x": 2.1342211194610274,
            "y": 4.554899786753481
           },
           {
            "x": 2.1436318074009786,
            "y": 4.595157325701186
           },
           {
            "x": 2.1530424953409297,
            "y": 4.635591986743897
           },
           {
            "x": 2.1624531832808813,
            "y": 4.676203769881617
           },
           {
            "x": 2.1718638712208325,
            "y": 4.716992675114341
           },
           {
            "x": 2.1812745591607836,
            "y": 4.757958702442071
           },
           {
            "x": 2.1906852471007348,
            "y": 4.799101851864807
           },
           {
            "x": 2.200095935040686,
            "y": 4.84042212338255
           },
           {
            "x": 2.209506622980637,
            "y": 4.881919516995299
           },
           {
            "x": 2.218917310920588,
            "y": 4.923594032703054
           },
           {
            "x": 2.2283279988605393,
            "y": 4.965445670505816
           },
           {
            "x": 2.2377386868004905,
            "y": 5.007474430403584
           },
           {
            "x": 2.2471493747404416,
            "y": 5.049680312396358
           },
           {
            "x": 2.2565600626803928,
            "y": 5.092063316484138
           },
           {
            "x": 2.265970750620344,
            "y": 5.134623442666925
           },
           {
            "x": 2.275381438560295,
            "y": 5.177360690944718
           },
           {
            "x": 2.284792126500246,
            "y": 5.220275061317517
           },
           {
            "x": 2.2942028144401974,
            "y": 5.263366553785323
           },
           {
            "x": 2.3036135023801485,
            "y": 5.3066351683481345
           },
           {
            "x": 2.3130241903200996,
            "y": 5.350080905005952
           },
           {
            "x": 2.3224348782600512,
            "y": 5.393703763758779
           },
           {
            "x": 2.3318455662000024,
            "y": 5.43750374460661
           },
           {
            "x": 2.3412562541399535,
            "y": 5.481480847549447
           },
           {
            "x": 2.3506669420799047,
            "y": 5.52563507258729
           },
           {
            "x": 2.360077630019856,
            "y": 5.5699664197201395
           },
           {
            "x": 2.369488317959807,
            "y": 5.614474888947996
           },
           {
            "x": 2.378899005899758,
            "y": 5.659160480270858
           },
           {
            "x": 2.3883096938397093,
            "y": 5.704023193688726
           },
           {
            "x": 2.3977203817796604,
            "y": 5.749063029201601
           },
           {
            "x": 2.4071310697196115,
            "y": 5.794279986809482
           },
           {
            "x": 2.4165417576595627,
            "y": 5.8396740665123685
           },
           {
            "x": 2.425952445599514,
            "y": 5.885245268310262
           },
           {
            "x": 2.435363133539465,
            "y": 5.930993592203162
           },
           {
            "x": 2.444773821479416,
            "y": 5.976919038191068
           },
           {
            "x": 2.4541845094193673,
            "y": 6.02302160627398
           },
           {
            "x": 2.4635951973593184,
            "y": 6.069301296451899
           },
           {
            "x": 2.4730058852992696,
            "y": 6.115758108724824
           },
           {
            "x": 2.482416573239221,
            "y": 6.1623920430927575
           },
           {
            "x": 2.4918272611791723,
            "y": 6.209203099555695
           },
           {
            "x": 2.5012379491191234,
            "y": 6.256191278113639
           },
           {
            "x": 2.5106486370590746,
            "y": 6.303356578766589
           },
           {
            "x": 2.5200593249990257,
            "y": 6.3506990015145455
           },
           {
            "x": 2.529470012938977,
            "y": 6.398218546357508
           },
           {
            "x": 2.538880700878928,
            "y": 6.445915213295477
           },
           {
            "x": 2.5482913888188787,
            "y": 6.49378900232845
           },
           {
            "x": 2.5577020767588308,
            "y": 6.541839913456436
           },
           {
            "x": 2.567112764698782,
            "y": 6.590067946679423
           },
           {
            "x": 2.576523452638733,
            "y": 6.638473101997418
           },
           {
            "x": 2.585934140578684,
            "y": 6.687055379410418
           },
           {
            "x": 2.5953448285186353,
            "y": 6.735814778918424
           },
           {
            "x": 2.6047555164585865,
            "y": 6.784751300521438
           },
           {
            "x": 2.6141662043985376,
            "y": 6.833864944219457
           },
           {
            "x": 2.623576892338489,
            "y": 6.883155710012482
           },
           {
            "x": 2.63298758027844,
            "y": 6.932623597900514
           },
           {
            "x": 2.642398268218391,
            "y": 6.982268607883552
           },
           {
            "x": 2.6518089561583422,
            "y": 7.032090739961596
           },
           {
            "x": 2.6612196440982934,
            "y": 7.082089994134647
           },
           {
            "x": 2.6706303320382445,
            "y": 7.1322663704027045
           },
           {
            "x": 2.6800410199781957,
            "y": 7.182619868765768
           },
           {
            "x": 2.689451707918147,
            "y": 7.233150489223837
           },
           {
            "x": 2.698862395858098,
            "y": 7.283858231776913
           },
           {
            "x": 2.708273083798049,
            "y": 7.334743096424995
           },
           {
            "x": 2.7176837717380002,
            "y": 7.385805083168083
           },
           {
            "x": 2.7270944596779514,
            "y": 7.437044192006177
           },
           {
            "x": 2.7365051476179025,
            "y": 7.488460422939278
           },
           {
            "x": 2.7459158355578537,
            "y": 7.540053775967386
           },
           {
            "x": 2.755326523497805,
            "y": 7.591824251090499
           },
           {
            "x": 2.764737211437756,
            "y": 7.643771848308619
           },
           {
            "x": 2.774147899377707,
            "y": 7.695896567621745
           },
           {
            "x": 2.7835585873176583,
            "y": 7.748198409029877
           },
           {
            "x": 2.7929692752576094,
            "y": 7.800677372533016
           },
           {
            "x": 2.8023799631975606,
            "y": 7.853333458131161
           },
           {
            "x": 2.8117906511375117,
            "y": 7.906166665824312
           },
           {
            "x": 2.821201339077463,
            "y": 7.959176995612469
           },
           {
            "x": 2.830612027017414,
            "y": 8.012364447495633
           },
           {
            "x": 2.840022714957365,
            "y": 8.065729021473803
           },
           {
            "x": 2.8494334028973163,
            "y": 8.11927071754698
           },
           {
            "x": 2.8588440908372674,
            "y": 8.172989535715162
           },
           {
            "x": 2.8682547787772186,
            "y": 8.226885475978351
           },
           {
            "x": 2.8776654667171706,
            "y": 8.28095853833655
           },
           {
            "x": 2.8870761546571218,
            "y": 8.335208722789753
           },
           {
            "x": 2.896486842597073,
            "y": 8.38963602933796
           },
           {
            "x": 2.905897530537024,
            "y": 8.444240457981175
           },
           {
            "x": 2.915308218476975,
            "y": 8.499022008719395
           },
           {
            "x": 2.9247189064169263,
            "y": 8.553980681552622
           },
           {
            "x": 2.9341295943568775,
            "y": 8.609116476480855
           },
           {
            "x": 2.9435402822968286,
            "y": 8.664429393504093
           },
           {
            "x": 2.9529509702367798,
            "y": 8.719919432622339
           },
           {
            "x": 2.962361658176731,
            "y": 8.775586593835591
           },
           {
            "x": 2.971772346116682,
            "y": 8.831430877143848
           },
           {
            "x": 2.981183034056633,
            "y": 8.887452282547113
           },
           {
            "x": 2.9905937219965844,
            "y": 8.943650810045384
           },
           {
            "x": 3.0000044099365355,
            "y": 9.00002645963866
           },
           {
            "x": 3.0094150978764866,
            "y": 9.056579231326944
           },
           {
            "x": 3.018825785816438,
            "y": 9.113309125110233
           },
           {
            "x": 3.028236473756389,
            "y": 9.17021614098853
           },
           {
            "x": 3.03764716169634,
            "y": 9.227300278961831
           },
           {
            "x": 3.0470578496362912,
            "y": 9.28456153903014
           },
           {
            "x": 3.0564685375762424,
            "y": 9.341999921193453
           },
           {
            "x": 3.0658792255161935,
            "y": 9.399615425451774
           },
           {
            "x": 3.0752899134561447,
            "y": 9.457408051805102
           },
           {
            "x": 3.084700601396096,
            "y": 9.515377800253436
           },
           {
            "x": 3.094111289336047,
            "y": 9.573524670796775
           },
           {
            "x": 3.103521977275998,
            "y": 9.631848663435122
           },
           {
            "x": 3.1129326652159492,
            "y": 9.690349778168473
           },
           {
            "x": 3.1223433531559004,
            "y": 9.749028014996831
           },
           {
            "x": 3.1317540410958515,
            "y": 9.807883373920196
           },
           {
            "x": 3.1411647290358027,
            "y": 9.866915854938568
           },
           {
            "x": 3.150575416975754,
            "y": 9.926125458051946
           },
           {
            "x": 3.159986104915705,
            "y": 9.98551218326033
           },
           {
            "x": 3.169396792855656,
            "y": 10.045076030563719
           },
           {
            "x": 3.1788074807956073,
            "y": 10.104816999962114
           },
           {
            "x": 3.1882181687355584,
            "y": 10.164735091455517
           },
           {
            "x": 3.1976288566755104,
            "y": 10.224830305043932
           },
           {
            "x": 3.2070395446154616,
            "y": 10.285102640727347
           },
           {
            "x": 3.2164502325554127,
            "y": 10.345552098505769
           },
           {
            "x": 3.225860920495364,
            "y": 10.406178678379197
           },
           {
            "x": 3.235271608435315,
            "y": 10.46698238034763
           },
           {
            "x": 3.244682296375266,
            "y": 10.527963204411071
           },
           {
            "x": 3.2540929843152173,
            "y": 10.589121150569516
           },
           {
            "x": 3.2635036722551685,
            "y": 10.65045621882297
           },
           {
            "x": 3.2729143601951196,
            "y": 10.71196840917143
           },
           {
            "x": 3.2823250481350708,
            "y": 10.773657721614894
           },
           {
            "x": 3.291735736075022,
            "y": 10.835524156153367
           },
           {
            "x": 3.301146424014973,
            "y": 10.897567712786843
           },
           {
            "x": 3.310557111954924,
            "y": 10.959788391515328
           },
           {
            "x": 3.3199677998948753,
            "y": 11.022186192338818
           },
           {
            "x": 3.3293784878348265,
            "y": 11.084761115257315
           },
           {
            "x": 3.3387891757747776,
            "y": 11.147513160270819
           },
           {
            "x": 3.3481998637147288,
            "y": 11.210442327379328
           },
           {
            "x": 3.35761055165468,
            "y": 11.273548616582843
           },
           {
            "x": 3.367021239594631,
            "y": 11.336832027881366
           },
           {
            "x": 3.376431927534582,
            "y": 11.400292561274894
           },
           {
            "x": 3.3858426154745334,
            "y": 11.463930216763428
           },
           {
            "x": 3.3952533034144845,
            "y": 11.52774499434697
           },
           {
            "x": 3.4046639913544356,
            "y": 11.591736894025516
           },
           {
            "x": 3.414074679294387,
            "y": 11.65590591579907
           },
           {
            "x": 3.423485367234338,
            "y": 11.72025205966763
           },
           {
            "x": 3.432896055174289,
            "y": 11.784775325631196
           },
           {
            "x": 3.4423067431142402,
            "y": 11.849475713689769
           },
           {
            "x": 3.4517174310541914,
            "y": 11.914353223843346
           },
           {
            "x": 3.4611281189941425,
            "y": 11.979407856091932
           },
           {
            "x": 3.4705388069340937,
            "y": 12.044639610435523
           },
           {
            "x": 3.479949494874045,
            "y": 12.11004848687412
           },
           {
            "x": 3.489360182813996,
            "y": 12.175634485407723
           },
           {
            "x": 3.498770870753947,
            "y": 12.241397606036333
           },
           {
            "x": 3.5081815586938982,
            "y": 12.30733784875995
           },
           {
            "x": 3.5175922466338494,
            "y": 12.373455213578572
           },
           {
            "x": 3.5270029345738014,
            "y": 12.439749700492207
           },
           {
            "x": 3.5364136225137526,
            "y": 12.506221309500843
           },
           {
            "x": 3.5458243104537037,
            "y": 12.572870040604483
           },
           {
            "x": 3.555234998393655,
            "y": 12.63969589380313
           },
           {
            "x": 3.564645686333606,
            "y": 12.706698869096785
           },
           {
            "x": 3.574056374273557,
            "y": 12.773878966485444
           },
           {
            "x": 3.5834670622135083,
            "y": 12.841236185969112
           },
           {
            "x": 3.5928777501534594,
            "y": 12.908770527547784
           },
           {
            "x": 3.6022884380934106,
            "y": 12.976481991221464
           },
           {
            "x": 3.6116991260333617,
            "y": 13.044370576990149
           },
           {
            "x": 3.621109813973313,
            "y": 13.11243628485384
           },
           {
            "x": 3.630520501913264,
            "y": 13.180679114812538
           },
           {
            "x": 3.639931189853215,
            "y": 13.249099066866243
           },
           {
            "x": 3.6493418777931663,
            "y": 13.317696141014954
           },
           {
            "x": 3.6587525657331175,
            "y": 13.38647033725867
           },
           {
            "x": 3.6681632536730686,
            "y": 13.455421655597393
           },
           {
            "x": 3.6775739416130198,
            "y": 13.524550096031122
           },
           {
            "x": 3.686984629552971,
            "y": 13.593855658559859
           },
           {
            "x": 3.696395317492922,
            "y": 13.6633383431836
           },
           {
            "x": 3.705806005432873,
            "y": 13.732998149902349
           },
           {
            "x": 3.7152166933728243,
            "y": 13.802835078716102
           },
           {
            "x": 3.7246273813127755,
            "y": 13.872849129624864
           },
           {
            "x": 3.7340380692527266,
            "y": 13.943040302628631
           },
           {
            "x": 3.743448757192678,
            "y": 14.013408597727404
           },
           {
            "x": 3.752859445132629,
            "y": 14.083954014921183
           },
           {
            "x": 3.76227013307258,
            "y": 14.154676554209969
           },
           {
            "x": 3.771680821012531,
            "y": 14.225576215593762
           },
           {
            "x": 3.7810915089524824,
            "y": 14.29665299907256
           },
           {
            "x": 3.7905021968924335,
            "y": 14.367906904646365
           },
           {
            "x": 3.7999128848323847,
            "y": 14.439337932315176
           },
           {
            "x": 3.809323572772336,
            "y": 14.510946082078993
           },
           {
            "x": 3.818734260712287,
            "y": 14.582731353937817
           },
           {
            "x": 3.828144948652238,
            "y": 14.654693747891647
           },
           {
            "x": 3.8375556365921892,
            "y": 14.726833263940483
           },
           {
            "x": 3.8469663245321413,
            "y": 14.799149902084332
           },
           {
            "x": 3.8563770124720924,
            "y": 14.87164366232318
           },
           {
            "x": 3.8657877004120436,
            "y": 14.944314544657036
           },
           {
            "x": 3.8751983883519947,
            "y": 15.017162549085898
           },
           {
            "x": 3.884609076291946,
            "y": 15.090187675609764
           },
           {
            "x": 3.894019764231897,
            "y": 15.163389924228639
           },
           {
            "x": 3.903430452171848,
            "y": 15.236769294942519
           },
           {
            "x": 3.9128411401117993,
            "y": 15.310325787751406
           },
           {
            "x": 3.9222518280517504,
            "y": 15.384059402655298
           },
           {
            "x": 3.9316625159917016,
            "y": 15.457970139654197
           },
           {
            "x": 3.9410732039316527,
            "y": 15.532057998748103
           },
           {
            "x": 3.950483891871604,
            "y": 15.606322979937014
           },
           {
            "x": 3.959894579811555,
            "y": 15.680765083220932
           },
           {
            "x": 3.969305267751506,
            "y": 15.755384308599856
           },
           {
            "x": 3.9787159556914573,
            "y": 15.830180656073786
           },
           {
            "x": 3.9881266436314085,
            "y": 15.905154125642722
           },
           {
            "x": 3.9975373315713596,
            "y": 15.980304717306666
           },
           {
            "x": 4.006948019511311,
            "y": 16.055632431065618
           },
           {
            "x": 4.016358707451262,
            "y": 16.131137266919573
           },
           {
            "x": 4.0257693953912135,
            "y": 16.206819224868536
           },
           {
            "x": 4.035180083331165,
            "y": 16.282678304912505
           },
           {
            "x": 4.044590771271116,
            "y": 16.35871450705148
           },
           {
            "x": 4.054001459211067,
            "y": 16.43492783128546
           },
           {
            "x": 4.063412147151018,
            "y": 16.511318277614446
           },
           {
            "x": 4.072822835090969,
            "y": 16.58788584603844
           },
           {
            "x": 4.08223352303092,
            "y": 16.66463053655744
           },
           {
            "x": 4.0916442109708715,
            "y": 16.741552349171446
           },
           {
            "x": 4.101054898910823,
            "y": 16.818651283880456
           },
           {
            "x": 4.110465586850774,
            "y": 16.895927340684477
           },
           {
            "x": 4.119876274790725,
            "y": 16.9733805195835
           },
           {
            "x": 4.129286962730676,
            "y": 17.05101082057753
           },
           {
            "x": 4.138697650670627,
            "y": 17.12881824366657
           },
           {
            "x": 4.148108338610578,
            "y": 17.206802788850613
           },
           {
            "x": 4.1575190265505295,
            "y": 17.284964456129664
           },
           {
            "x": 4.166929714490481,
            "y": 17.36330324550372
           },
           {
            "x": 4.176340402430432,
            "y": 17.44181915697278
           },
           {
            "x": 4.185751090370383,
            "y": 17.52051219053685
           },
           {
            "x": 4.195161778310334,
            "y": 17.599382346195924
           },
           {
            "x": 4.204572466250285,
            "y": 17.678429623950006
           },
           {
            "x": 4.213983154190236,
            "y": 17.757654023799095
           },
           {
            "x": 4.2233938421301875,
            "y": 17.837055545743187
           },
           {
            "x": 4.232804530070139,
            "y": 17.916634189782286
           },
           {
            "x": 4.24221521801009,
            "y": 17.996389955916396
           },
           {
            "x": 4.251625905950041,
            "y": 18.07632284414551
           },
           {
            "x": 4.261036593889992,
            "y": 18.156432854469625
           },
           {
            "x": 4.270447281829943,
            "y": 18.23671998688875
           },
           {
            "x": 4.279857969769894,
            "y": 18.31718424140288
           },
           {
            "x": 4.2892686577098456,
            "y": 18.39782561801202
           },
           {
            "x": 4.298679345649797,
            "y": 18.478644116716165
           },
           {
            "x": 4.308090033589748,
            "y": 18.559639737515315
           },
           {
            "x": 4.317500721529699,
            "y": 18.640812480409473
           },
           {
            "x": 4.32691140946965,
            "y": 18.722162345398633
           },
           {
            "x": 4.336322097409601,
            "y": 18.803689332482804
           },
           {
            "x": 4.345732785349552,
            "y": 18.88539344166198
           },
           {
            "x": 4.355143473289504,
            "y": 18.96727467293616
           },
           {
            "x": 4.364554161229455,
            "y": 19.049333026305348
           },
           {
            "x": 4.373964849169406,
            "y": 19.131568501769543
           },
           {
            "x": 4.383375537109357,
            "y": 19.213981099328745
           },
           {
            "x": 4.392786225049308,
            "y": 19.29657081898295
           },
           {
            "x": 4.402196912989259,
            "y": 19.379337660732165
           },
           {
            "x": 4.4116076009292104,
            "y": 19.462281624576384
           },
           {
            "x": 4.421018288869162,
            "y": 19.54540271051561
           },
           {
            "x": 4.430428976809113,
            "y": 19.628700918549843
           },
           {
            "x": 4.439839664749064,
            "y": 19.71217624867908
           },
           {
            "x": 4.449250352689015,
            "y": 19.795828700903325
           },
           {
            "x": 4.458661040628966,
            "y": 19.879658275222575
           },
           {
            "x": 4.468071728568917,
            "y": 19.96366497163683
           },
           {
            "x": 4.4774824165088685,
            "y": 20.047848790146098
           },
           {
            "x": 4.486893104448821,
            "y": 20.132209730750382
           },
           {
            "x": 4.4963037923887725,
            "y": 20.21674779344966
           },
           {
            "x": 4.505714480328724,
            "y": 20.30146297824394
           },
           {
            "x": 4.515125168268675,
            "y": 20.38635528513323
           },
           {
            "x": 4.524535856208626,
            "y": 20.471424714117525
           },
           {
            "x": 4.533946544148577,
            "y": 20.556671265196826
           },
           {
            "x": 4.543357232088528,
            "y": 20.642094938371134
           },
           {
            "x": 4.552767920028479,
            "y": 20.727695733640445
           },
           {
            "x": 4.5621786079684306,
            "y": 20.813473651004767
           },
           {
            "x": 4.571589295908382,
            "y": 20.89942869046409
           },
           {
            "x": 4.580999983848333,
            "y": 20.985560852018427
           },
           {
            "x": 4.590410671788284,
            "y": 21.071870135667766
           },
           {
            "x": 4.599821359728235,
            "y": 21.15835654141211
           },
           {
            "x": 4.609232047668186,
            "y": 21.24502006925146
           },
           {
            "x": 4.618642735608137,
            "y": 21.33186071918582
           },
           {
            "x": 4.628053423548089,
            "y": 21.41887849121518
           },
           {
            "x": 4.63746411148804,
            "y": 21.506073385339555
           },
           {
            "x": 4.646874799427991,
            "y": 21.59344540155893
           },
           {
            "x": 4.656285487367942,
            "y": 21.680994539873314
           },
           {
            "x": 4.665696175307893,
            "y": 21.768720800282704
           },
           {
            "x": 4.675106863247844,
            "y": 21.856624182787098
           },
           {
            "x": 4.6845175511877954,
            "y": 21.9447046873865
           },
           {
            "x": 4.693928239127747,
            "y": 22.03296231408091
           },
           {
            "x": 4.703338927067698,
            "y": 22.121397062870322
           },
           {
            "x": 4.712749615007649,
            "y": 22.210008933754743
           },
           {
            "x": 4.7221603029476,
            "y": 22.29879792673417
           },
           {
            "x": 4.731570990887551,
            "y": 22.3877640418086
           },
           {
            "x": 4.740981678827502,
            "y": 22.476907278978043
           },
           {
            "x": 4.7503923667674535,
            "y": 22.566227638242488
           },
           {
            "x": 4.759803054707405,
            "y": 22.65572511960194
           },
           {
            "x": 4.769213742647356,
            "y": 22.745399723056398
           },
           {
            "x": 4.778624430587307,
            "y": 22.835251448605863
           },
           {
            "x": 4.788035118527258,
            "y": 22.925280296250335
           },
           {
            "x": 4.797445806467209,
            "y": 23.01548626598981
           },
           {
            "x": 4.80685649440716,
            "y": 23.105869357824293
           },
           {
            "x": 4.8162671823471115,
            "y": 23.196429571753786
           },
           {
            "x": 4.825677870287063,
            "y": 23.287166907778282
           },
           {
            "x": 4.835088558227014,
            "y": 23.37808136589778
           },
           {
            "x": 4.844499246166965,
            "y": 23.46917294611229
           },
           {
            "x": 4.853909934106916,
            "y": 23.560441648421808
           },
           {
            "x": 4.863320622046867,
            "y": 23.651887472826328
           },
           {
            "x": 4.872731309986818,
            "y": 23.743510419325855
           },
           {
            "x": 4.8821419979267695,
            "y": 23.83531048792039
           },
           {
            "x": 4.891552685866721,
            "y": 23.92728767860993
           },
           {
            "x": 4.900963373806672,
            "y": 24.019441991394476
           },
           {
            "x": 4.910374061746623,
            "y": 24.111773426274027
           },
           {
            "x": 4.919784749686574,
            "y": 24.204281983248585
           },
           {
            "x": 4.929195437626525,
            "y": 24.296967662318153
           },
           {
            "x": 4.938606125566476,
            "y": 24.389830463482724
           },
           {
            "x": 4.9480168135064275,
            "y": 24.482870386742302
           },
           {
            "x": 4.957427501446379,
            "y": 24.576087432096884
           },
           {
            "x": 4.96683818938633,
            "y": 24.669481599546476
           },
           {
            "x": 4.976248877326281,
            "y": 24.76305288909107
           },
           {
            "x": 4.985659565266232,
            "y": 24.856801300730673
           },
           {
            "x": 4.995070253206183,
            "y": 24.950726834465282
           },
           {
            "x": 5.004480941146134,
            "y": 25.044829490294898
           },
           {
            "x": 5.0138916290860855,
            "y": 25.13910926821952
           },
           {
            "x": 5.023302317026037,
            "y": 25.23356616823915
           },
           {
            "x": 5.032713004965988,
            "y": 25.328200190353783
           },
           {
            "x": 5.042123692905939,
            "y": 25.423011334563423
           },
           {
            "x": 5.05153438084589,
            "y": 25.51799960086807
           },
           {
            "x": 5.060945068785841,
            "y": 25.613164989267723
           },
           {
            "x": 5.070355756725792,
            "y": 25.708507499762383
           },
           {
            "x": 5.079766444665744,
            "y": 25.804027132352047
           },
           {
            "x": 5.089177132605695,
            "y": 25.89972388703672
           },
           {
            "x": 5.098587820545646,
            "y": 25.9955977638164
           },
           {
            "x": 5.107998508485597,
            "y": 26.091648762691083
           },
           {
            "x": 5.117409196425548,
            "y": 26.187876883660774
           },
           {
            "x": 5.126819884365501,
            "y": 26.28428212672549
           },
           {
            "x": 5.136230572305452,
            "y": 26.380864491885195
           },
           {
            "x": 5.145641260245403,
            "y": 26.477623979139903
           },
           {
            "x": 5.1550519481853545,
            "y": 26.574560588489618
           },
           {
            "x": 5.164462636125306,
            "y": 26.67167431993434
           },
           {
            "x": 5.173873324065257,
            "y": 26.76896517347407
           },
           {
            "x": 5.183284012005208,
            "y": 26.866433149108804
           },
           {
            "x": 5.192694699945159,
            "y": 26.964078246838547
           },
           {
            "x": 5.20210538788511,
            "y": 27.061900466663293
           },
           {
            "x": 5.211516075825061,
            "y": 27.159899808583045
           },
           {
            "x": 5.2209267637650125,
            "y": 27.25807627259781
           },
           {
            "x": 5.230337451704964,
            "y": 27.356429858707575
           },
           {
            "x": 5.239748139644915,
            "y": 27.454960566912344
           },
           {
            "x": 5.249158827584866,
            "y": 27.553668397212125
           },
           {
            "x": 5.258569515524817,
            "y": 27.652553349606908
           },
           {
            "x": 5.267980203464768,
            "y": 27.751615424096702
           },
           {
            "x": 5.277390891404719,
            "y": 27.8508546206815
           },
           {
            "x": 5.2868015793446705,
            "y": 27.950270939361303
           },
           {
            "x": 5.296212267284622,
            "y": 28.049864380136114
           },
           {
            "x": 5.305622955224573,
            "y": 28.14963494300593
           },
           {
            "x": 5.315033643164524,
            "y": 28.249582627970753
           },
           {
            "x": 5.324444331104475,
            "y": 28.34970743503058
           },
           {
            "x": 5.333855019044426,
            "y": 28.450009364185416
           },
           {
            "x": 5.343265706984377,
            "y": 28.550488415435257
           },
           {
            "x": 5.352676394924329,
            "y": 28.651144588780106
           },
           {
            "x": 5.36208708286428,
            "y": 28.75197788421996
           },
           {
            "x": 5.371497770804231,
            "y": 28.85298830175482
           },
           {
            "x": 5.380908458744182,
            "y": 28.95417584138469
           },
           {
            "x": 5.390319146684133,
            "y": 29.05554050310956
           },
           {
            "x": 5.399729834624084,
            "y": 29.15708228692944
           },
           {
            "x": 5.409140522564035,
            "y": 29.258801192844327
           },
           {
            "x": 5.418551210503987,
            "y": 29.360697220854217
           },
           {
            "x": 5.427961898443938,
            "y": 29.462770370959117
           },
           {
            "x": 5.437372586383889,
            "y": 29.56502064315902
           },
           {
            "x": 5.44678327432384,
            "y": 29.667448037453934
           },
           {
            "x": 5.456193962263791,
            "y": 29.77005255384385
           },
           {
            "x": 5.465604650203742,
            "y": 29.87283419232877
           },
           {
            "x": 5.4750153381436935,
            "y": 29.9757929529087
           },
           {
            "x": 5.484426026083645,
            "y": 30.07892883558364
           },
           {
            "x": 5.493836714023596,
            "y": 30.18224184035358
           },
           {
            "x": 5.503247401963547,
            "y": 30.285731967218528
           },
           {
            "x": 5.512658089903498,
            "y": 30.389399216178482
           },
           {
            "x": 5.522068777843449,
            "y": 30.493243587233444
           },
           {
            "x": 5.5314794657834,
            "y": 30.597265080383412
           },
           {
            "x": 5.5408901537233515,
            "y": 30.701463695628387
           },
           {
            "x": 5.550300841663303,
            "y": 30.805839432968366
           },
           {
            "x": 5.559711529603254,
            "y": 30.91039229240335
           },
           {
            "x": 5.569122217543205,
            "y": 31.015122273933343
           },
           {
            "x": 5.578532905483156,
            "y": 31.120029377558343
           },
           {
            "x": 5.587943593423107,
            "y": 31.22511360327835
           },
           {
            "x": 5.597354281363058,
            "y": 31.330374951093358
           },
           {
            "x": 5.6067649693030095,
            "y": 31.435813421003377
           },
           {
            "x": 5.616175657242961,
            "y": 31.5414290130084
           },
           {
            "x": 5.625586345182912,
            "y": 31.64722172710843
           },
           {
            "x": 5.634997033122863,
            "y": 31.753191563303467
           },
           {
            "x": 5.644407721062814,
            "y": 31.85933852159351
           },
           {
            "x": 5.653818409002765,
            "y": 31.965662601978558
           },
           {
            "x": 5.663229096942716,
            "y": 32.07216380445861
           },
           {
            "x": 5.6726397848826675,
            "y": 32.178842129033676
           },
           {
            "x": 5.682050472822619,
            "y": 32.28569757570374
           },
           {
            "x": 5.69146116076257,
            "y": 32.39273014446882
           },
           {
            "x": 5.700871848702521,
            "y": 32.4999398353289
           },
           {
            "x": 5.710282536642472,
            "y": 32.60732664828399
           },
           {
            "x": 5.719693224582423,
            "y": 32.71489058333408
           },
           {
            "x": 5.729103912522374,
            "y": 32.82263164047918
           },
           {
            "x": 5.7385146004623255,
            "y": 32.93054981971928
           },
           {
            "x": 5.747925288402277,
            "y": 33.038645121054394
           },
           {
            "x": 5.757335976342228,
            "y": 33.146917544484516
           },
           {
            "x": 5.766746664282179,
            "y": 33.255367090009635
           },
           {
            "x": 5.776157352222132,
            "y": 33.36399375762979
           },
           {
            "x": 5.785568040162083,
            "y": 33.472797547344925
           },
           {
            "x": 5.794978728102034,
            "y": 33.58177845915507
           },
           {
            "x": 5.804389416041985,
            "y": 33.69093649306022
           },
           {
            "x": 5.8138001039819365,
            "y": 33.80027164906038
           },
           {
            "x": 5.823210791921888,
            "y": 33.90978392715554
           },
           {
            "x": 5.832621479861839,
            "y": 34.01947332734571
           },
           {
            "x": 5.84203216780179,
            "y": 34.12933984963088
           },
           {
            "x": 5.851442855741741,
            "y": 34.239383494011065
           },
           {
            "x": 5.860853543681692,
            "y": 34.34960426048625
           },
           {
            "x": 5.870264231621643,
            "y": 34.46000214905644
           },
           {
            "x": 5.8796749195615945,
            "y": 34.570577159721644
           },
           {
            "x": 5.889085607501546,
            "y": 34.68132929248185
           },
           {
            "x": 5.898496295441497,
            "y": 34.79225854733706
           },
           {
            "x": 5.907906983381448,
            "y": 34.90336492428728
           },
           {
            "x": 5.917317671321399,
            "y": 35.0146484233325
           },
           {
            "x": 5.92672835926135,
            "y": 35.126109044472734
           },
           {
            "x": 5.936139047201301,
            "y": 35.23774678770798
           },
           {
            "x": 5.9455497351412525,
            "y": 35.349561653038215
           },
           {
            "x": 5.954960423081204,
            "y": 35.46155364046347
           },
           {
            "x": 5.964371111021155,
            "y": 35.57372274998372
           },
           {
            "x": 5.973781798961106,
            "y": 35.686068981598986
           },
           {
            "x": 5.983192486901057,
            "y": 35.79859233530926
           },
           {
            "x": 5.992603174841008,
            "y": 35.911292811114535
           },
           {
            "x": 6.002013862780959,
            "y": 36.024170409014815
           },
           {
            "x": 6.0114245507209105,
            "y": 36.1372251290101
           },
           {
            "x": 6.020835238660862,
            "y": 36.2504569711004
           },
           {
            "x": 6.030245926600813,
            "y": 36.363865935285695
           },
           {
            "x": 6.039656614540764,
            "y": 36.477452021566
           },
           {
            "x": 6.049067302480715,
            "y": 36.59121522994131
           },
           {
            "x": 6.058477990420666,
            "y": 36.70515556041163
           },
           {
            "x": 6.067888678360617,
            "y": 36.81927301297696
           },
           {
            "x": 6.0772993663005686,
            "y": 36.93356758763729
           },
           {
            "x": 6.08671005424052,
            "y": 37.04803928439263
           },
           {
            "x": 6.096120742180471,
            "y": 37.16268810324298
           },
           {
            "x": 6.105531430120422,
            "y": 37.27751404418832
           },
           {
            "x": 6.114942118060373,
            "y": 37.392517107228684
           },
           {
            "x": 6.124352806000324,
            "y": 37.50769729236404
           },
           {
            "x": 6.133763493940275,
            "y": 37.62305459959442
           },
           {
            "x": 6.143174181880227,
            "y": 37.73858902891979
           },
           {
            "x": 6.152584869820178,
            "y": 37.85430058034017
           },
           {
            "x": 6.161995557760129,
            "y": 37.97018925385556
           },
           {
            "x": 6.17140624570008,
            "y": 38.086255049465954
           },
           {
            "x": 6.180816933640031,
            "y": 38.202497967171354
           },
           {
            "x": 6.190227621579982,
            "y": 38.318918006971764
           },
           {
            "x": 6.199638309519933,
            "y": 38.43551516886718
           },
           {
            "x": 6.209048997459885,
            "y": 38.5522894528576
           },
           {
            "x": 6.218459685399836,
            "y": 38.66924085894303
           },
           {
            "x": 6.227870373339787,
            "y": 38.78636938712346
           },
           {
            "x": 6.237281061279738,
            "y": 38.9036750373989
           },
           {
            "x": 6.246691749219689,
            "y": 39.02115780976934
           },
           {
            "x": 6.25610243715964,
            "y": 39.13881770423479
           },
           {
            "x": 6.2655131250995915,
            "y": 39.25665472079525
           },
           {
            "x": 6.274923813039543,
            "y": 39.374668859450715
           },
           {
            "x": 6.284334500979494,
            "y": 39.492860120201186
           },
           {
            "x": 6.293745188919445,
            "y": 39.61122850304666
           },
           {
            "x": 6.303155876859396,
            "y": 39.72977400798714
           },
           {
            "x": 6.312566564799347,
            "y": 39.84849663502263
           },
           {
            "x": 6.321977252739298,
            "y": 39.967396384153126
           },
           {
            "x": 6.3313879406792495,
            "y": 40.08647325537863
           },
           {
            "x": 6.340798628619201,
            "y": 40.205727248699134
           },
           {
            "x": 6.350209316559152,
            "y": 40.32515836411465
           },
           {
            "x": 6.359620004499103,
            "y": 40.44476660162517
           },
           {
            "x": 6.369030692439054,
            "y": 40.5645519612307
           },
           {
            "x": 6.378441380379005,
            "y": 40.68451444293123
           },
           {
            "x": 6.387852068318956,
            "y": 40.80465404672677
           },
           {
            "x": 6.3972627562589075,
            "y": 40.924970772617314
           },
           {
            "x": 6.406673444198859,
            "y": 41.045464620602864
           },
           {
            "x": 6.416084132138812,
            "y": 41.166135590683446
           },
           {
            "x": 6.425494820078763,
            "y": 41.28698368285901
           },
           {
            "x": 6.434905508018714,
            "y": 41.408008897129584
           },
           {
            "x": 6.444316195958665,
            "y": 41.52921123349516
           },
           {
            "x": 6.453726883898616,
            "y": 41.65059069195574
           },
           {
            "x": 6.463137571838567,
            "y": 41.77214727251133
           },
           {
            "x": 6.472548259778518,
            "y": 41.89388097516193
           },
           {
            "x": 6.48195894771847,
            "y": 42.01579179990753
           },
           {
            "x": 6.491369635658421,
            "y": 42.13787974674814
           },
           {
            "x": 6.500780323598372,
            "y": 42.26014481568375
           },
           {
            "x": 6.510191011538323,
            "y": 42.382587006714374
           },
           {
            "x": 6.519601699478274,
            "y": 42.50520631984
           },
           {
            "x": 6.529012387418225,
            "y": 42.628002755060635
           },
           {
            "x": 6.5384230753581765,
            "y": 42.750976312376274
           },
           {
            "x": 6.547833763298126,
            "y": 42.874126991786895
           },
           {
            "x": 6.557244451238077,
            "y": 42.99745479329255
           },
           {
            "x": 6.566655139178028,
            "y": 43.12095971689321
           },
           {
            "x": 6.576065827117981,
            "y": 43.2446417625889
           },
           {
            "x": 6.585476515057932,
            "y": 43.36850093037957
           },
           {
            "x": 6.594887202997883,
            "y": 43.49253722026525
           },
           {
            "x": 6.6042978909378345,
            "y": 43.61675063224593
           },
           {
            "x": 6.613708578877786,
            "y": 43.74114116632162
           },
           {
            "x": 6.623119266817737,
            "y": 43.865708822492316
           },
           {
            "x": 6.632529954757688,
            "y": 43.990453600758016
           },
           {
            "x": 6.641940642697639,
            "y": 44.11537550111873
           },
           {
            "x": 6.65135133063759,
            "y": 44.24047452357444
           },
           {
            "x": 6.660762018577541,
            "y": 44.365750668125166
           },
           {
            "x": 6.6701727065174925,
            "y": 44.491203934770894
           },
           {
            "x": 6.679583394457444,
            "y": 44.616834323511625
           },
           {
            "x": 6.688994082397395,
            "y": 44.74264183434737
           },
           {
            "x": 6.698404770337346,
            "y": 44.86862646727811
           },
           {
            "x": 6.707815458277297,
            "y": 44.99478822230387
           },
           {
            "x": 6.717226146217248,
            "y": 45.121127099424626
           },
           {
            "x": 6.726636834157199,
            "y": 45.24764309864039
           },
           {
            "x": 6.7360475220971505,
            "y": 45.37433621995116
           },
           {
            "x": 6.745458210037102,
            "y": 45.50120646335694
           },
           {
            "x": 6.754868897977053,
            "y": 45.62825382885772
           },
           {
            "x": 6.764279585917004,
            "y": 45.75547831645351
           },
           {
            "x": 6.773690273856955,
            "y": 45.88287992614431
           },
           {
            "x": 6.783100961796906,
            "y": 46.010458657930116
           },
           {
            "x": 6.792511649736857,
            "y": 46.13821451181092
           },
           {
            "x": 6.8019223376768085,
            "y": 46.26614748778674
           },
           {
            "x": 6.81133302561676,
            "y": 46.39425758585756
           },
           {
            "x": 6.820743713556711,
            "y": 46.52254480602339
           },
           {
            "x": 6.830154401496662,
            "y": 46.651009148284224
           },
           {
            "x": 6.839565089436613,
            "y": 46.77965061264007
           },
           {
            "x": 6.848975777376564,
            "y": 46.90846919909091
           },
           {
            "x": 6.858386465316515,
            "y": 47.03746490763677
           },
           {
            "x": 6.867797153256467,
            "y": 47.16663773827763
           },
           {
            "x": 6.877207841196418,
            "y": 47.295987691013494
           },
           {
            "x": 6.886618529136369,
            "y": 47.42551476584436
           },
           {
            "x": 6.89602921707632,
            "y": 47.55521896277024
           },
           {
            "x": 6.905439905016271,
            "y": 47.68510028179113
           },
           {
            "x": 6.914850592956222,
            "y": 47.81515872290702
           },
           {
            "x": 6.924261280896173,
            "y": 47.94539428611792
           },
           {
            "x": 6.933671968836125,
            "y": 48.07580697142382
           },
           {
            "x": 6.943082656776076,
            "y": 48.20639677882473
           },
           {
            "x": 6.952493344716027,
            "y": 48.337163708320645
           },
           {
            "x": 6.961904032655978,
            "y": 48.46810775991157
           },
           {
            "x": 6.971314720595929,
            "y": 48.599228933597495
           },
           {
            "x": 6.98072540853588,
            "y": 48.73052722937843
           },
           {
            "x": 6.9901360964758315,
            "y": 48.86200264725437
           },
           {
            "x": 6.999546784415783,
            "y": 48.99365518722532
           },
           {
            "x": 7.008957472355734,
            "y": 49.125484849291276
           },
           {
            "x": 7.018368160295685,
            "y": 49.25749163345224
           },
           {
            "x": 7.027778848235636,
            "y": 49.3896755397082
           },
           {
            "x": 7.037189536175587,
            "y": 49.52203656805918
           },
           {
            "x": 7.046600224115538,
            "y": 49.65457471850515
           },
           {
            "x": 7.0560109120554895,
            "y": 49.78728999104614
           },
           {
            "x": 7.065421599995441,
            "y": 49.92018238568213
           },
           {
            "x": 7.074832287935392,
            "y": 50.05325190241313
           },
           {
            "x": 7.084242975875343,
            "y": 50.18649854123913
           },
           {
            "x": 7.093653663815294,
            "y": 50.319922302160144
           },
           {
            "x": 7.103064351755245,
            "y": 50.45352318517616
           },
           {
            "x": 7.112475039695196,
            "y": 50.587301190287185
           },
           {
            "x": 7.1218857276351475,
            "y": 50.721256317493214
           },
           {
            "x": 7.131296415575099,
            "y": 50.85538856679425
           },
           {
            "x": 7.14070710351505,
            "y": 50.98969793819029
           },
           {
            "x": 7.150117791455001,
            "y": 51.12418443168134
           },
           {
            "x": 7.159528479394952,
            "y": 51.25884804726739
           },
           {
            "x": 7.168939167334903,
            "y": 51.39368878494845
           },
           {
            "x": 7.178349855274854,
            "y": 51.52870664472452
           },
           {
            "x": 7.1877605432148055,
            "y": 51.663901626595596
           },
           {
            "x": 7.197171231154757,
            "y": 51.79927373056167
           },
           {
            "x": 7.206581919094708,
            "y": 51.93482295662276
           },
           {
            "x": 7.215992607034661,
            "y": 52.07054930477888
           },
           {
            "x": 7.225403294974612,
            "y": 52.20645277502998
           },
           {
            "x": 7.234813982914563,
            "y": 52.342533367376085
           },
           {
            "x": 7.244224670854514,
            "y": 52.47879108181719
           },
           {
            "x": 7.253635358794465,
            "y": 52.61522591835331
           },
           {
            "x": 7.2630460467344164,
            "y": 52.75183787698443
           },
           {
            "x": 7.272456734674368,
            "y": 52.888626957710564
           },
           {
            "x": 7.281867422614319,
            "y": 53.0255931605317
           },
           {
            "x": 7.29127811055427,
            "y": 53.162736485447844
           },
           {
            "x": 7.300688798494221,
            "y": 53.30005693245899
           },
           {
            "x": 7.310099486434172,
            "y": 53.437554501565145
           },
           {
            "x": 7.319510174374123,
            "y": 53.57522919276631
           },
           {
            "x": 7.3289208623140745,
            "y": 53.713081006062474
           },
           {
            "x": 7.338331550254026,
            "y": 53.85110994145365
           },
           {
            "x": 7.347742238193977,
            "y": 53.98931599893983
           },
           {
            "x": 7.357152926133928,
            "y": 54.12769917852102
           },
           {
            "x": 7.366563614073879,
            "y": 54.26625948019721
           },
           {
            "x": 7.37597430201383,
            "y": 54.40499690396841
           },
           {
            "x": 7.385384989953781,
            "y": 54.54391144983462
           },
           {
            "x": 7.3947956778937325,
            "y": 54.68300311779583
           },
           {
            "x": 7.404206365833684,
            "y": 54.82227190785204
           },
           {
            "x": 7.413617053773635,
            "y": 54.961717820003265
           },
           {
            "x": 7.423027741713586,
            "y": 55.1013408542495
           },
           {
            "x": 7.432438429653537,
            "y": 55.24114101059074
           },
           {
            "x": 7.441849117593488,
            "y": 55.38111828902698
           },
           {
            "x": 7.451259805533439,
            "y": 55.52127268955823
           },
           {
            "x": 7.4606704934733905,
            "y": 55.661604212184486
           },
           {
            "x": 7.470081181413342,
            "y": 55.802112856905744
           },
           {
            "x": 7.479491869353293,
            "y": 55.94279862372201
           },
           {
            "x": 7.488902557293244,
            "y": 56.08366151263329
           },
           {
            "x": 7.498313245233195,
            "y": 56.22470152363957
           },
           {
            "x": 7.507723933173146,
            "y": 56.36591865674086
           },
           {
            "x": 7.517134621113097,
            "y": 56.50731291193715
           },
           {
            "x": 7.5265453090530485,
            "y": 56.64888428922845
           },
           {
            "x": 7.535955996993,
            "y": 56.79063278861476
           },
           {
            "x": 7.545366684932951,
            "y": 56.93255841009607
           },
           {
            "x": 7.554777372872902,
            "y": 57.07466115367239
           },
           {
            "x": 7.564188060812853,
            "y": 57.216941019343714
           },
           {
            "x": 7.573598748752804,
            "y": 57.359398007110045
           },
           {
            "x": 7.583009436692755,
            "y": 57.50203211697138
           },
           {
            "x": 7.5924201246327065,
            "y": 57.64484334892772
           },
           {
            "x": 7.601830812572658,
            "y": 57.78783170297908
           },
           {
            "x": 7.611241500512609,
            "y": 57.93099717912543
           },
           {
            "x": 7.62065218845256,
            "y": 58.074339777366795
           },
           {
            "x": 7.630062876392511,
            "y": 58.21785949770316
           },
           {
            "x": 7.639473564332462,
            "y": 58.361556340134534
           },
           {
            "x": 7.648884252272413,
            "y": 58.50543030466092
           },
           {
            "x": 7.658294940212365,
            "y": 58.64948139128231
           },
           {
            "x": 7.667705628152316,
            "y": 58.7937095999987
           },
           {
            "x": 7.677116316092267,
            "y": 58.9381149308101
           },
           {
            "x": 7.686527004032218,
            "y": 59.08269738371651
           },
           {
            "x": 7.695937691972169,
            "y": 59.227456958717916
           },
           {
            "x": 7.70534837991212,
            "y": 59.372393655814335
           },
           {
            "x": 7.714759067852071,
            "y": 59.517507475005765
           },
           {
            "x": 7.724169755792023,
            "y": 59.66279841629219
           },
           {
            "x": 7.733580443731974,
            "y": 59.808266479673634
           },
           {
            "x": 7.742991131671925,
            "y": 59.95391166515007
           },
           {
            "x": 7.752401819611876,
            "y": 60.09973397272152
           },
           {
            "x": 7.761812507551827,
            "y": 60.245733402387984
           },
           {
            "x": 7.771223195491778,
            "y": 60.39190995414945
           },
           {
            "x": 7.7806338834317295,
            "y": 60.538263628005915
           },
           {
            "x": 7.790044571371681,
            "y": 60.68479442395739
           },
           {
            "x": 7.799455259311632,
            "y": 60.83150234200387
           },
           {
            "x": 7.808865947251583,
            "y": 60.978387382145364
           },
           {
            "x": 7.818276635191534,
            "y": 61.12544954438186
           },
           {
            "x": 7.827687323131485,
            "y": 61.272688828713356
           },
           {
            "x": 7.837098011071436,
            "y": 61.420105235139864
           },
           {
            "x": 7.8465086990113875,
            "y": 61.567698763661376
           },
           {
            "x": 7.85591938695134,
            "y": 61.715469414277926
           },
           {
            "x": 7.8653300748912915,
            "y": 61.86341718698945
           },
           {
            "x": 7.874740762831243,
            "y": 62.01154208179598
           },
           {
            "x": 7.884151450771194,
            "y": 62.15984409869752
           },
           {
            "x": 7.893562138711145,
            "y": 62.30832323769407
           },
           {
            "x": 7.902972826651096,
            "y": 62.456979498785614
           },
           {
            "x": 7.912383514591047,
            "y": 62.60581288197217
           },
           {
            "x": 7.921794202530998,
            "y": 62.75482338725374
           },
           {
            "x": 7.93120489047095,
            "y": 62.904011014630306
           },
           {
            "x": 7.940615578410902,
            "y": 63.0533757641019
           }
          ]
         },
         "encoding": {
          "x": {
           "field": "x",
           "type": "quantitative"
          },
          "y": {
           "field": "y",
           "type": "quantitative"
          }
         },
         "mark": {
          "color": "black",
          "opacity": 0.2,
          "type": "line"
         }
        },
        {
         "data": {
          "values": [
           {
            "label": "E[X^2]",
            "x": 2.341754177584537,
            "y": 8.939857401195804
           }
          ]
         },
         "encoding": {
          "x": {
           "field": "x",
           "type": "quantitative"
          },
          "y": {
           "field": "y",
           "type": "quantitative"
          }
         },
         "mark": {
          "color": "black",
          "filled": true,
          "opacity": 0.9,
          "size": 200,
          "type": "point"
         }
        },
        {
         "data": {
          "values": [
           {
            "label": "E[X^2]",
            "x": 2.341754177584537,
            "y": 8.939857401195804
           }
          ]
         },
         "encoding": {
          "text": {
           "field": "label",
           "type": "nominal"
          },
          "x": {
           "field": "x",
           "type": "quantitative"
          },
          "y": {
           "field": "y",
           "type": "quantitative"
          }
         },
         "mark": {
          "align": "right",
          "baseline": "middle",
          "dx": 7,
          "type": "text",
          "xOffset": -15
         }
        },
        {
         "data": {
          "values": [
           {
            "label": "E[X]",
            "x": 2.341754177584537,
            "y": 0
           }
          ]
         },
         "encoding": {
          "x": {
           "field": "x",
           "type": "quantitative"
          },
          "y": {
           "field": "y",
           "type": "quantitative"
          }
         },
         "mark": {
          "color": "blue",
          "filled": true,
          "opacity": 0.9,
          "size": 200,
          "type": "point"
         }
        },
        {
         "data": {
          "values": [
           {
            "label": "E[X]",
            "x": 2.341754177584537,
            "y": 0
           }
          ]
         },
         "encoding": {
          "text": {
           "field": "label",
           "type": "nominal"
          },
          "x": {
           "field": "x",
           "type": "quantitative"
          },
          "y": {
           "field": "y",
           "type": "quantitative"
          }
         },
         "mark": {
          "align": "left",
          "baseline": "bottom",
          "dx": 16,
          "type": "text",
          "yOffset": -4
         }
        }
       ]
      },
      "image/png": "[encoded data removed]",
      "text/plain": [
       "<VegaLite 2 object>\n",
       "\n",
       "If you see this message, it means the renderer has not been properly enabled\n",
       "for the frontend that you are using. For more information, see\n",
       "https://altair-viz.github.io/user_guide/troubleshooting.html\n"
      ]
     },
     "execution_count": 8,
     "metadata": {},
     "output_type": "execute_result"
    }
   ],
   "source": [
    "expectedx2 = np.mean([i ** 2 for i in s])\n",
    "\n",
    "\n",
    "def make_altair_object_labels(X, Y, L):\n",
    "        bi = []\n",
    "        for x, y, l in zip(X,Y,L):\n",
    "            bi.append({\"x\":x, \"y\":y, \"label\": l})\n",
    "        return alt.Data({\"values\" : bi})\n",
    "\n",
    "dt = make_altair_object_labels(X=[np.mean(s)], Y=[expectedx2], L=[\"E[X^2]\"])\n",
    "                                \n",
    "expected_x2 = alt.Chart(dt).mark_point(opacity=expectation_opacity, size=expectation_size, color=\"black\", filled=True).encode(\n",
    "    x='x:Q',  # specify ordinal data\n",
    "    y='y:Q',  # specify quantitative data\n",
    ")\n",
    "\n",
    "dt = make_altair_object_labels(X=[np.mean(s)], Y=[0], L=[\"E[X]\"])\n",
    "                                \n",
    "expected_x = alt.Chart(dt).mark_point(opacity=expectation_opacity, size=expectation_size, color=\"blue\", filled=True).encode(\n",
    "    x='x:Q',  # specify ordinal data\n",
    "    y='y:Q',  # specify quantitative data\n",
    ")\n",
    "\n",
    "text = expected_x2.mark_text(\n",
    "    align='right',\n",
    "    baseline='middle',\n",
    "    dx=7,\n",
    "    xOffset=-15,    \n",
    ").encode(\n",
    "    text='label:N'\n",
    ")\n",
    "\n",
    "\n",
    "text2 = expected_x.mark_text(\n",
    "    align='left',\n",
    "    baseline='bottom',\n",
    "    yOffset=-4,\n",
    "    dx=16\n",
    ").encode(\n",
    "    text='label:N'\n",
    ")\n",
    "\n",
    "x2 + expected_x2 + text + expected_x + text2"
   ]
  },
  {
   "cell_type": "markdown",
   "metadata": {},
   "source": [
    "If we square the expected value of the Xs we get $\\mathbb{E}[X]^2$. We show this as another blue dot. "
   ]
  },
  {
   "cell_type": "code",
   "execution_count": 9,
   "metadata": {},
   "outputs": [],
   "source": [
    "dt = make_altair_object_labels(X=[np.mean(s)], Y=[np.mean(s)** 2], L=[\"E[X]^2\"])"
   ]
  },
  {
   "cell_type": "code",
   "execution_count": 12,
   "metadata": {},
   "outputs": [
    {
     "data": {
      "application/vnd.vegalite.v2+json": {
       "$schema": "https://vega.github.io/schema/vega-lite/v2.6.0.json",
       "config": {
        "view": {
         "height": 300,
         "width": 400
        }
       },
       "layer": [
        {
         "data": {
          "values": [
           {
            "x": -1.46066167360032,
            "y": 2.1335325247248877
           },
           {
            "x": -1.4512509856603688,
            "y": 2.106129423380192
           },
           {
            "x": -1.4418402977204177,
            "y": 2.0789034441305025
           },
           {
            "x": -1.4324296097804665,
            "y": 2.0518545869758196
           },
           {
            "x": -1.4230189218405154,
            "y": 2.0249828519161426
           },
           {
            "x": -1.413608233900564,
            "y": 1.9982882389514716
           },
           {
            "x": -1.4041975459606129,
            "y": 1.9717707480818074
           },
           {
            "x": -1.3947868580206617,
            "y": 1.9454303793071495
           },
           {
            "x": -1.3853761700807106,
            "y": 1.919267132627498
           },
           {
            "x": -1.3759654821407594,
            "y": 1.8932810080428526
           },
           {
            "x": -1.3665547942008083,
            "y": 1.8674720055532135
           },
           {
            "x": -1.3571441062608571,
            "y": 1.8418401251585808
           },
           {
            "x": -1.347733418320906,
            "y": 1.8163853668589542
           },
           {
            "x": -1.3383227303809546,
            "y": 1.7911077306543333
           },
           {
            "x": -1.3289120424410035,
            "y": 1.7660072165447194
           },
           {
            "x": -1.3195013545010523,
            "y": 1.7410838245301117
           },
           {
            "x": -1.3100906665611012,
            "y": 1.7163375546105104
           },
           {
            "x": -1.30067997862115,
            "y": 1.6917684067859153
           },
           {
            "x": -1.291269290681199,
            "y": 1.6673763810563265
           },
           {
            "x": -1.2818586027412477,
            "y": 1.643161477421744
           },
           {
            "x": -1.2724479148012966,
            "y": 1.6191236958821678
           },
           {
            "x": -1.2630372268613455,
            "y": 1.595263036437598
           },
           {
            "x": -1.253626538921394,
            "y": 1.5715794990880336
           },
           {
            "x": -1.244215850981443,
            "y": 1.5480730838334762
           },
           {
            "x": -1.2348051630414918,
            "y": 1.5247437906739252
           },
           {
            "x": -1.2253944751015406,
            "y": 1.5015916196093804
           },
           {
            "x": -1.2159837871615895,
            "y": 1.4786165706398418
           },
           {
            "x": -1.2065730992216384,
            "y": 1.4558186437653096
           },
           {
            "x": -1.1971624112816872,
            "y": 1.4331978389857836
           },
           {
            "x": -1.1877517233417358,
            "y": 1.4107541563012633
           },
           {
            "x": -1.1783410354017847,
            "y": 1.38848759571175
           },
           {
            "x": -1.1689303474618336,
            "y": 1.366398157217243
           },
           {
            "x": -1.1595196595218824,
            "y": 1.344485840817742
           },
           {
            "x": -1.1501089715819313,
            "y": 1.3227506465132475
           },
           {
            "x": -1.1406982836419801,
            "y": 1.3011925743037593
           },
           {
            "x": -1.131287595702029,
            "y": 1.2798116241892774
           },
           {
            "x": -1.1218769077620778,
            "y": 1.2586077961698017
           },
           {
            "x": -1.1124662198221267,
            "y": 1.2375810902453324
           },
           {
            "x": -1.1030555318821755,
            "y": 1.2167315064158692
           },
           {
            "x": -1.0936448439422244,
            "y": 1.1960590446814123
           },
           {
            "x": -1.084234156002273,
            "y": 1.1755637050419614
           },
           {
            "x": -1.0748234680623219,
            "y": 1.155245487497517
           },
           {
            "x": -1.0654127801223707,
            "y": 1.135104392048079
           },
           {
            "x": -1.0560020921824196,
            "y": 1.1151404186936473
           },
           {
            "x": -1.0465914042424684,
            "y": 1.095353567434222
           },
           {
            "x": -1.0371807163025173,
            "y": 1.0757438382698028
           },
           {
            "x": -1.027770028362566,
            "y": 1.0563112312003895
           },
           {
            "x": -1.0183593404226148,
            "y": 1.037055746225983
           },
           {
            "x": -1.0089486524826636,
            "y": 1.0179773833465828
           },
           {
            "x": -0.9995379645427125,
            "y": 0.9990761425621888
           },
           {
            "x": -0.9901272766027613,
            "y": 0.9803520238728011
           },
           {
            "x": -0.9807165886628102,
            "y": 0.9618050272784197
           },
           {
            "x": -0.971305900722859,
            "y": 0.9434351527790446
           },
           {
            "x": -0.9618952127829079,
            "y": 0.9252424003746756
           },
           {
            "x": -0.9524845248429566,
            "y": 0.9072267700653129
           },
           {
            "x": -0.9430738369030055,
            "y": 0.8893882618509567
           },
           {
            "x": -0.9336631489630544,
            "y": 0.8717268757316067
           },
           {
            "x": -0.9242524610231032,
            "y": 0.8542426117072629
           },
           {
            "x": -0.914841773083152,
            "y": 0.8369354697779253
           },
           {
            "x": -0.9054310851432008,
            "y": 0.8198054499435942
           },
           {
            "x": -0.8960203972032497,
            "y": 0.8028525522042693
           },
           {
            "x": -0.8866097092632985,
            "y": 0.7860767765599507
           },
           {
            "x": -0.8771990213233473,
            "y": 0.7694781230106382
           },
           {
            "x": -0.8677883333833961,
            "y": 0.7530565915563322
           },
           {
            "x": -0.858377645443445,
            "y": 0.7368121821970325
           },
           {
            "x": -0.8489669575034938,
            "y": 0.7207448949327391
           },
           {
            "x": -0.8395562695635427,
            "y": 0.704854729763452
           },
           {
            "x": -0.8301455816235914,
            "y": 0.6891416866891709
           },
           {
            "x": -0.8207348936836403,
            "y": 0.6736057657098963
           },
           {
            "x": -0.8113242057436891,
            "y": 0.658246966825628
           },
           {
            "x": -0.801913517803738,
            "y": 0.643065290036366
           },
           {
            "x": -0.7925028298637867,
            "y": 0.62806073534211
           },
           {
            "x": -0.7830921419238356,
            "y": 0.6132333027428607
           },
           {
            "x": -0.7736814539838844,
            "y": 0.5985829922386174
           },
           {
            "x": -0.7642707660439333,
            "y": 0.5841098038293806
           },
           {
            "x": -0.754860078103982,
            "y": 0.5698137375151499
           },
           {
            "x": -0.7454493901640309,
            "y": 0.5556947932959255
           },
           {
            "x": -0.7360387022240797,
            "y": 0.5417529711717075
           },
           {
            "x": -0.7266280142841286,
            "y": 0.5279882711424958
           },
           {
            "x": -0.7172173263441773,
            "y": 0.5144006932082902
           },
           {
            "x": -0.7078066384042262,
            "y": 0.500990237369091
           },
           {
            "x": -0.698395950464275,
            "y": 0.48775690362489815
           },
           {
            "x": -0.6889852625243239,
            "y": 0.4747006919757115
           },
           {
            "x": -0.6795745745843728,
            "y": 0.4618216024215312
           },
           {
            "x": -0.6701638866444215,
            "y": 0.449119634962357
           },
           {
            "x": -0.6607531987044704,
            "y": 0.4365947895981893
           },
           {
            "x": -0.6513425107645192,
            "y": 0.4242470663290278
           },
           {
            "x": -0.6419318228245681,
            "y": 0.4120764651548727
           },
           {
            "x": -0.6325211348846168,
            "y": 0.4000829860757236
           },
           {
            "x": -0.6231104469446657,
            "y": 0.388266629091581
           },
           {
            "x": -0.6136997590047145,
            "y": 0.3766273942024447
           },
           {
            "x": -0.6042890710647634,
            "y": 0.3651652814083146
           },
           {
            "x": -0.5948783831248121,
            "y": 0.35388029070919075
           },
           {
            "x": -0.585467695184861,
            "y": 0.3427724221050733
           },
           {
            "x": -0.5760570072449098,
            "y": 0.3318416755959621
           },
           {
            "x": -0.5666463193049587,
            "y": 0.3210880511818572
           },
           {
            "x": -0.5572356313650075,
            "y": 0.31051154886275856
           },
           {
            "x": -0.5478249434250563,
            "y": 0.30011216863866613
           },
           {
            "x": -0.5384142554851051,
            "y": 0.2898899105095801
           },
           {
            "x": -0.529003567545154,
            "y": 0.27984477447550027
           },
           {
            "x": -0.5195928796052028,
            "y": 0.26997676053642683
           },
           {
            "x": -0.5101821916652516,
            "y": 0.2602858686923595
           },
           {
            "x": -0.5007715037253004,
            "y": 0.2507720989432986
           },
           {
            "x": -0.4913608157853493,
            "y": 0.24143545128924396
           },
           {
            "x": -0.48195012784539815,
            "y": 0.23227592573019562
           },
           {
            "x": -0.4725394399054469,
            "y": 0.22329352226615345
           },
           {
            "x": -0.46312875196549574,
            "y": 0.21448824089711768
           },
           {
            "x": -0.4537180640255445,
            "y": 0.20586008162308808
           },
           {
            "x": -0.44430737608559334,
            "y": 0.19740904444406487
           },
           {
            "x": -0.4348966881456422,
            "y": 0.18913512936004795
           },
           {
            "x": -0.42548600020569105,
            "y": 0.18103833637103733
           },
           {
            "x": -0.4160753122657399,
            "y": 0.17311866547703297
           },
           {
            "x": -0.40666462432578876,
            "y": 0.1653761166780349
           },
           {
            "x": -0.3972539363858376,
            "y": 0.15781068997404313
           },
           {
            "x": -0.38784324844588647,
            "y": 0.15042238536505761
           },
           {
            "x": -0.3784325605059353,
            "y": 0.1432112028510784
           },
           {
            "x": -0.36902187256598395,
            "y": 0.1361771424321053
           },
           {
            "x": -0.3596111846260328,
            "y": 0.12932020410813866
           },
           {
            "x": -0.35020049668608166,
            "y": 0.12264038787917829
           },
           {
            "x": -0.3407898087461305,
            "y": 0.11613769374522422
           },
           {
            "x": -0.3313791208061794,
            "y": 0.10981212170627642
           },
           {
            "x": -0.3219684328662282,
            "y": 0.10366367176233492
           },
           {
            "x": -0.3125577449262771,
            "y": 0.09769234391339969
           },
           {
            "x": -0.30314705698632594,
            "y": 0.09189813815947075
           },
           {
            "x": -0.29373636904637457,
            "y": 0.08628105450054796
           },
           {
            "x": -0.2843256811064234,
            "y": 0.08084109293663158
           },
           {
            "x": -0.2749149931664723,
            "y": 0.0755782534677215
           },
           {
            "x": -0.26550430522652113,
            "y": 0.0704925360938177
           },
           {
            "x": -0.25609361728657,
            "y": 0.06558394081492018
           },
           {
            "x": -0.24668292934661884,
            "y": 0.060852467631028945
           },
           {
            "x": -0.2372722414066677,
            "y": 0.05629811654214399
           },
           {
            "x": -0.22786155346671655,
            "y": 0.05192088754826533
           },
           {
            "x": -0.2184508655267654,
            "y": 0.04772078064939294
           },
           {
            "x": -0.20904017758681404,
            "y": 0.04369779584552675
           },
           {
            "x": -0.1996294896468629,
            "y": 0.03985193313666694
           },
           {
            "x": -0.19021880170691174,
            "y": 0.036183192522813414
           },
           {
            "x": -0.1808081137669606,
            "y": 0.03269157400396617
           },
           {
            "x": -0.17139742582700945,
            "y": 0.029377077580125206
           },
           {
            "x": -0.1619867378870583,
            "y": 0.02623970325129053
           },
           {
            "x": -0.15257604994710716,
            "y": 0.02327945101746214
           },
           {
            "x": -0.14316536200715602,
            "y": 0.02049632087864003
           },
           {
            "x": -0.13375467406720465,
            "y": 0.01789031283482415
           },
           {
            "x": -0.1243439861272535,
            "y": 0.015461426886014611
           },
           {
            "x": -0.11493329818730236,
            "y": 0.013209663032211359
           },
           {
            "x": -0.10552261024735121,
            "y": 0.01113502127341439
           },
           {
            "x": -0.09611192230740007,
            "y": 0.009237501609623706
           },
           {
            "x": -0.08670123436744892,
            "y": 0.007517104040839306
           },
           {
            "x": -0.07729054642749777,
            "y": 0.005973828567061189
           },
           {
            "x": -0.06787985848754663,
            "y": 0.004607675188289356
           },
           {
            "x": -0.058469170547595484,
            "y": 0.0034186439045238073
           },
           {
            "x": -0.049058482607644116,
            "y": 0.0024067347157645204
           },
           {
            "x": -0.03964779466769297,
            "y": 0.0015719476220115432
           },
           {
            "x": -0.030237106727741825,
            "y": 0.0009142826232648499
           },
           {
            "x": -0.02082641878779068,
            "y": 0.00043373971952444056
           },
           {
            "x": -0.011415730847839534,
            "y": 0.0001303189107903151
           },
           {
            "x": -0.002005042907888388,
            "y": 4.0201970624735225e-06
           },
           {
            "x": 0.007405645032062758,
            "y": 5.4843578340915804e-05
           },
           {
            "x": 0.016816332972013903,
            "y": 0.00028278905462564193
           },
           {
            "x": 0.02622702091196527,
            "y": 0.0006878566259166636
           },
           {
            "x": 0.035637708851916416,
            "y": 0.0012700462922139617
           },
           {
            "x": 0.04504839679186756,
            "y": 0.0020293580535175435
           },
           {
            "x": 0.05445908473181871,
            "y": 0.0029657919098274093
           },
           {
            "x": 0.06386977267176985,
            "y": 0.004079347861143559
           },
           {
            "x": 0.073280460611721,
            "y": 0.005370025907465993
           },
           {
            "x": 0.08269114855167214,
            "y": 0.00683782604879471
           },
           {
            "x": 0.09210183649162329,
            "y": 0.008482748285129712
           },
           {
            "x": 0.10151252443157444,
            "y": 0.010304792616470996
           },
           {
            "x": 0.1109232123715258,
            "y": 0.012303959042818615
           },
           {
            "x": 0.12033390031147695,
            "y": 0.014480247564172473
           },
           {
            "x": 0.1297445882514281,
            "y": 0.016833658180532615
           },
           {
            "x": 0.13915527619137924,
            "y": 0.019364190891899037
           },
           {
            "x": 0.14856596413133039,
            "y": 0.022071845698271746
           },
           {
            "x": 0.15797665207128153,
            "y": 0.02495662259965074
           },
           {
            "x": 0.16738734001123268,
            "y": 0.028018521596036017
           },
           {
            "x": 0.17679802795118382,
            "y": 0.03125754268742758
           },
           {
            "x": 0.1862087158911352,
            "y": 0.0346736858738255
           },
           {
            "x": 0.19561940383108634,
            "y": 0.038266951155229635
           },
           {
            "x": 0.20503009177103748,
            "y": 0.04203733853164005
           },
           {
            "x": 0.21444077971098863,
            "y": 0.04598484800305675
           },
           {
            "x": 0.22385146765093977,
            "y": 0.05010947956947973
           },
           {
            "x": 0.23326215559089092,
            "y": 0.054411233230909004
           },
           {
            "x": 0.24267284353084206,
            "y": 0.05889010898734456
           },
           {
            "x": 0.2520835314707932,
            "y": 0.06354610683878639
           },
           {
            "x": 0.26149421941074436,
            "y": 0.0683792267852345
           },
           {
            "x": 0.2709049073506957,
            "y": 0.07338946882668904
           },
           {
            "x": 0.28031559529064687,
            "y": 0.07857683296314973
           },
           {
            "x": 0.289726283230598,
            "y": 0.0839413191946167
           },
           {
            "x": 0.29913697117054916,
            "y": 0.08948292752108995
           },
           {
            "x": 0.3085476591105003,
            "y": 0.0952016579425695
           },
           {
            "x": 0.31795834705045145,
            "y": 0.10109751045905532
           },
           {
            "x": 0.3273690349904026,
            "y": 0.10717048507054744
           },
           {
            "x": 0.33677972293035374,
            "y": 0.11342058177704584
           },
           {
            "x": 0.3461904108703049,
            "y": 0.11984780057855052
           },
           {
            "x": 0.35560109881025626,
            "y": 0.12645214147506162
           },
           {
            "x": 0.3650117867502074,
            "y": 0.1332336044665789
           },
           {
            "x": 0.37442247469015855,
            "y": 0.14019218955310242
           },
           {
            "x": 0.3838331626301097,
            "y": 0.14732789673463223
           },
           {
            "x": 0.39324385057006084,
            "y": 0.15464072601116835
           },
           {
            "x": 0.402654538510012,
            "y": 0.16213067738271073
           },
           {
            "x": 0.41206522644996313,
            "y": 0.16979775084925938
           },
           {
            "x": 0.4214759143899143,
            "y": 0.17764194641081435
           },
           {
            "x": 0.43088660232986564,
            "y": 0.18566326406737577
           },
           {
            "x": 0.4402972902698168,
            "y": 0.1938617038189433
           },
           {
            "x": 0.44970797820976793,
            "y": 0.2022372656655171
           },
           {
            "x": 0.4591186661497191,
            "y": 0.2107899496070972
           },
           {
            "x": 0.4685293540896702,
            "y": 0.2195197556436836
           },
           {
            "x": 0.47794004202962137,
            "y": 0.22842668377527625
           },
           {
            "x": 0.4873507299695725,
            "y": 0.2375107340018752
           },
           {
            "x": 0.49676141790952366,
            "y": 0.24677190632348042
           },
           {
            "x": 0.5061721058494748,
            "y": 0.25621020074009193
           },
           {
            "x": 0.5155827937894262,
            "y": 0.26582561725170994
           },
           {
            "x": 0.5249934817293773,
            "y": 0.27561815585833405
           },
           {
            "x": 0.5344041696693285,
            "y": 0.2855878165599644
           },
           {
            "x": 0.5438148576092794,
            "y": 0.2957345993566008
           },
           {
            "x": 0.553225545549231,
            "y": 0.30605850424824427
           },
           {
            "x": 0.5626362334891821,
            "y": 0.31655953123489344
           },
           {
            "x": 0.5720469214291333,
            "y": 0.327237680316549
           },
           {
            "x": 0.5814576093690844,
            "y": 0.3380929514932108
           },
           {
            "x": 0.5908682973090356,
            "y": 0.34912534476487883
           },
           {
            "x": 0.6002789852489867,
            "y": 0.3603348601315532
           },
           {
            "x": 0.6096896731889379,
            "y": 0.37172149759323386
           },
           {
            "x": 0.619100361128889,
            "y": 0.3832852571499208
           },
           {
            "x": 0.6285110490688401,
            "y": 0.39502613880161397
           },
           {
            "x": 0.6379217370087913,
            "y": 0.40694414254831346
           },
           {
            "x": 0.6473324249487424,
            "y": 0.41903926839001926
           },
           {
            "x": 0.6567431128886936,
            "y": 0.4313115163267313
           },
           {
            "x": 0.6661538008286447,
            "y": 0.4437608863584497
           },
           {
            "x": 0.6755644887685959,
            "y": 0.4563873784851743
           },
           {
            "x": 0.684975176708547,
            "y": 0.46919099270690523
           },
           {
            "x": 0.6943858646484982,
            "y": 0.4821717290236424
           },
           {
            "x": 0.7037965525884493,
            "y": 0.4953295874353859
           },
           {
            "x": 0.7132072405284009,
            "y": 0.5086645679421363
           },
           {
            "x": 0.722617928468352,
            "y": 0.5221766705438924
           },
           {
            "x": 0.7320286164083032,
            "y": 0.5358658952406546
           },
           {
            "x": 0.7414393043482543,
            "y": 0.5497322420324233
           },
           {
            "x": 0.7508499922882055,
            "y": 0.5637757109191982
           },
           {
            "x": 0.7602606802281566,
            "y": 0.5779963019009794
           },
           {
            "x": 0.7696713681681078,
            "y": 0.5923940149777669
           },
           {
            "x": 0.7790820561080589,
            "y": 0.6069688501495607
           },
           {
            "x": 0.7884927440480101,
            "y": 0.6217208074163607
           },
           {
            "x": 0.7979034319879612,
            "y": 0.636649886778167
           },
           {
            "x": 0.8073141199279124,
            "y": 0.6517560882349797
           },
           {
            "x": 0.8167248078678635,
            "y": 0.6670394117867986
           },
           {
            "x": 0.8261354958078146,
            "y": 0.6824998574336237
           },
           {
            "x": 0.8355461837477658,
            "y": 0.6981374251754552
           },
           {
            "x": 0.8449568716877169,
            "y": 0.7139521150122929
           },
           {
            "x": 0.8543675596276681,
            "y": 0.729943926944137
           },
           {
            "x": 0.8637782475676192,
            "y": 0.7461128609709873
           },
           {
            "x": 0.8731889355075708,
            "y": 0.7624589170928446
           },
           {
            "x": 0.882599623447522,
            "y": 0.7789820953097075
           },
           {
            "x": 0.8920103113874731,
            "y": 0.7956823956215767
           },
           {
            "x": 0.9014209993274243,
            "y": 0.8125598180284522
           },
           {
            "x": 0.9108316872673754,
            "y": 0.8296143625303339
           },
           {
            "x": 0.9202423752073265,
            "y": 0.846846029127222
           },
           {
            "x": 0.9296530631472777,
            "y": 0.8642548178191163
           },
           {
            "x": 0.9390637510872288,
            "y": 0.8818407286060169
           },
           {
            "x": 0.94847443902718,
            "y": 0.8996037614879238
           },
           {
            "x": 0.9578851269671311,
            "y": 0.9175439164648369
           },
           {
            "x": 0.9672958149070823,
            "y": 0.9356611935367564
           },
           {
            "x": 0.9767065028470334,
            "y": 0.9539555927036821
           },
           {
            "x": 0.9861171907869846,
            "y": 0.9724271139656141
           },
           {
            "x": 0.9955278787269357,
            "y": 0.9910757573225524
           },
           {
            "x": 1.0049385666668869,
            "y": 1.009901522774497
           },
           {
            "x": 1.014349254606838,
            "y": 1.028904410321448
           },
           {
            "x": 1.0237599425467891,
            "y": 1.048084419963405
           },
           {
            "x": 1.0331706304867407,
            "y": 1.0674415517003695
           },
           {
            "x": 1.0425813184266919,
            "y": 1.086975805532339
           },
           {
            "x": 1.051992006366643,
            "y": 1.106687181459315
           },
           {
            "x": 1.0614026943065942,
            "y": 1.1265756794812973
           },
           {
            "x": 1.0708133822465453,
            "y": 1.146641299598286
           },
           {
            "x": 1.0802240701864965,
            "y": 1.1668840418102808
           },
           {
            "x": 1.0896347581264476,
            "y": 1.187303906117282
           },
           {
            "x": 1.0990454460663988,
            "y": 1.2079008925192893
           },
           {
            "x": 1.10845613400635,
            "y": 1.2286750010163032
           },
           {
            "x": 1.117866821946301,
            "y": 1.249626231608323
           },
           {
            "x": 1.1272775098862522,
            "y": 1.2707545842953494
           },
           {
            "x": 1.1366881978262033,
            "y": 1.292060059077382
           },
           {
            "x": 1.1460988857661545,
            "y": 1.3135426559544208
           },
           {
            "x": 1.1555095737061056,
            "y": 1.3352023749264659
           },
           {
            "x": 1.1649202616460568,
            "y": 1.3570392159935174
           },
           {
            "x": 1.174330949586008,
            "y": 1.3790531791555751
           },
           {
            "x": 1.183741637525959,
            "y": 1.401244264412639
           },
           {
            "x": 1.1931523254659107,
            "y": 1.4236124717647103
           },
           {
            "x": 1.2025630134058618,
            "y": 1.446157801211787
           },
           {
            "x": 1.211973701345813,
            "y": 1.4688802527538698
           },
           {
            "x": 1.221384389285764,
            "y": 1.491779826390959
           },
           {
            "x": 1.2307950772257152,
            "y": 1.5148565221230543
           },
           {
            "x": 1.2402057651656664,
            "y": 1.5381103399501561
           },
           {
            "x": 1.2496164531056175,
            "y": 1.561541279872264
           },
           {
            "x": 1.2590271410455687,
            "y": 1.5851493418893783
           },
           {
            "x": 1.2684378289855198,
            "y": 1.6089345260014989
           },
           {
            "x": 1.277848516925471,
            "y": 1.6328968322086257
           },
           {
            "x": 1.2872592048654221,
            "y": 1.6570362605107587
           },
           {
            "x": 1.2966698928053733,
            "y": 1.6813528109078981
           },
           {
            "x": 1.3060805807453244,
            "y": 1.705846483400044
           },
           {
            "x": 1.3154912686852755,
            "y": 1.7305172779871958
           },
           {
            "x": 1.3249019566252267,
            "y": 1.755365194669354
           },
           {
            "x": 1.3343126445651778,
            "y": 1.7803902334465187
           },
           {
            "x": 1.343723332505129,
            "y": 1.8055923943186893
           },
           {
            "x": 1.3531340204450806,
            "y": 1.8309716772858677
           },
           {
            "x": 1.3625447083850317,
            "y": 1.8565280823480512
           },
           {
            "x": 1.3719553963249829,
            "y": 1.882261609505241
           },
           {
            "x": 1.381366084264934,
            "y": 1.9081722587574368
           },
           {
            "x": 1.3907767722048852,
            "y": 1.934260030104639
           },
           {
            "x": 1.4001874601448363,
            "y": 1.9605249235468476
           },
           {
            "x": 1.4095981480847875,
            "y": 1.9869669390840623
           },
           {
            "x": 1.4190088360247386,
            "y": 2.0135860767162836
           },
           {
            "x": 1.4284195239646897,
            "y": 2.040382336443511
           },
           {
            "x": 1.4378302119046409,
            "y": 2.0673557182657447
           },
           {
            "x": 1.447240899844592,
            "y": 2.0945062221829844
           },
           {
            "x": 1.4566515877845432,
            "y": 2.1218338481952306
           },
           {
            "x": 1.4660622757244943,
            "y": 2.149338596302483
           },
           {
            "x": 1.4754729636644455,
            "y": 2.177020466504742
           },
           {
            "x": 1.4848836516043966,
            "y": 2.204879458802007
           },
           {
            "x": 1.4942943395443478,
            "y": 2.2329155731942785
           },
           {
            "x": 1.503705027484299,
            "y": 2.2611288096815563
           },
           {
            "x": 1.5131157154242505,
            "y": 2.2895191682638414
           },
           {
            "x": 1.5225264033642016,
            "y": 2.3180866489411316
           },
           {
            "x": 1.5319370913041528,
            "y": 2.346831251713428
           },
           {
            "x": 1.541347779244104,
            "y": 2.375752976580731
           },
           {
            "x": 1.550758467184055,
            "y": 2.40485182354304
           },
           {
            "x": 1.5601691551240062,
            "y": 2.4341277926003553
           },
           {
            "x": 1.5695798430639574,
            "y": 2.463580883752677
           },
           {
            "x": 1.5789905310039085,
            "y": 2.493211097000005
           },
           {
            "x": 1.5884012189438597,
            "y": 2.5230184323423392
           },
           {
            "x": 1.5978119068838108,
            "y": 2.5530028897796795
           },
           {
            "x": 1.607222594823762,
            "y": 2.5831644693120266
           },
           {
            "x": 1.616633282763713,
            "y": 2.6135031709393797
           },
           {
            "x": 1.6260439707036642,
            "y": 2.6440189946617387
           },
           {
            "x": 1.6354546586436154,
            "y": 2.6747119404791047
           },
           {
            "x": 1.6448653465835665,
            "y": 2.7055820083914766
           },
           {
            "x": 1.6542760345235177,
            "y": 2.736629198398855
           },
           {
            "x": 1.6636867224634688,
            "y": 2.767853510501239
           },
           {
            "x": 1.6730974104034204,
            "y": 2.7992549446986312
           },
           {
            "x": 1.6825080983433716,
            "y": 2.8308335009910284
           },
           {
            "x": 1.6919187862833227,
            "y": 2.862589179378432
           },
           {
            "x": 1.7013294742232739,
            "y": 2.8945219798608415
           },
           {
            "x": 1.710740162163225,
            "y": 2.9266319024382574
           },
           {
            "x": 1.7201508501031761,
            "y": 2.9589189471106794
           },
           {
            "x": 1.7295615380431273,
            "y": 2.991383113878108
           },
           {
            "x": 1.7389722259830784,
            "y": 3.024024402740543
           },
           {
            "x": 1.7483829139230296,
            "y": 3.0568428136979837
           },
           {
            "x": 1.7577936018629807,
            "y": 3.0898383467504313
           },
           {
            "x": 1.7672042898029319,
            "y": 3.123011001897885
           },
           {
            "x": 1.776614977742883,
            "y": 3.1563607791403445
           },
           {
            "x": 1.7860256656828342,
            "y": 3.189887678477811
           },
           {
            "x": 1.7954363536227853,
            "y": 3.2235916999102834
           },
           {
            "x": 1.8048470415627365,
            "y": 3.2574728434377622
           },
           {
            "x": 1.8142577295026876,
            "y": 3.291531109060247
           },
           {
            "x": 1.8236684174426387,
            "y": 3.3257664967777383
           },
           {
            "x": 1.8330791053825903,
            "y": 3.3601790065902377
           },
           {
            "x": 1.8424897933225415,
            "y": 3.394768638497742
           },
           {
            "x": 1.8519004812624926,
            "y": 3.429535392500252
           },
           {
            "x": 1.8613111692024438,
            "y": 3.4644792685977683
           },
           {
            "x": 1.870721857142395,
            "y": 3.4996002667902912
           },
           {
            "x": 1.880132545082346,
            "y": 3.53489838707782
           },
           {
            "x": 1.8895432330222972,
            "y": 3.5703736294603554
           },
           {
            "x": 1.8989539209622484,
            "y": 3.606025993937897
           },
           {
            "x": 1.9083646089021995,
            "y": 3.641855480510445
           },
           {
            "x": 1.9177752968421506,
            "y": 3.677862089177999
           },
           {
            "x": 1.9271859847821018,
            "y": 3.7140458199405595
           },
           {
            "x": 1.936596672722053,
            "y": 3.750406672798126
           },
           {
            "x": 1.946007360662004,
            "y": 3.7869446477506994
           },
           {
            "x": 1.9554180486019552,
            "y": 3.8236597447982787
           },
           {
            "x": 1.9648287365419064,
            "y": 3.860551963940864
           },
           {
            "x": 1.9742394244818575,
            "y": 3.897621305178456
           },
           {
            "x": 1.9836501124218087,
            "y": 3.934867768511054
           },
           {
            "x": 1.9930608003617603,
            "y": 3.9722913539386604
           },
           {
            "x": 2.0024714883017114,
            "y": 4.009892061461271
           },
           {
            "x": 2.0118821762416625,
            "y": 4.047669891078888
           },
           {
            "x": 2.0212928641816137,
            "y": 4.085624842791511
           },
           {
            "x": 2.030703552121565,
            "y": 4.123756916599141
           },
           {
            "x": 2.040114240061516,
            "y": 4.162066112501777
           },
           {
            "x": 2.049524928001467,
            "y": 4.200552430499419
           },
           {
            "x": 2.0589356159414183,
            "y": 4.2392158705920675
           },
           {
            "x": 2.0683463038813694,
            "y": 4.278056432779723
           },
           {
            "x": 2.0777569918213206,
            "y": 4.317074117062383
           },
           {
            "x": 2.0871676797612717,
            "y": 4.356268923440051
           },
           {
            "x": 2.096578367701223,
            "y": 4.395640851912724
           },
           {
            "x": 2.105989055641174,
            "y": 4.435189902480404
           },
           {
            "x": 2.115399743581125,
            "y": 4.47491607514309
           },
           {
            "x": 2.1248104315210763,
            "y": 4.514819369900782
           },
           {
            "x": 2.1342211194610274,
            "y": 4.554899786753481
           },
           {
            "x": 2.1436318074009786,
            "y": 4.595157325701186
           },
           {
            "x": 2.1530424953409297,
            "y": 4.635591986743897
           },
           {
            "x": 2.1624531832808813,
            "y": 4.676203769881617
           },
           {
            "x": 2.1718638712208325,
            "y": 4.716992675114341
           },
           {
            "x": 2.1812745591607836,
            "y": 4.757958702442071
           },
           {
            "x": 2.1906852471007348,
            "y": 4.799101851864807
           },
           {
            "x": 2.200095935040686,
            "y": 4.84042212338255
           },
           {
            "x": 2.209506622980637,
            "y": 4.881919516995299
           },
           {
            "x": 2.218917310920588,
            "y": 4.923594032703054
           },
           {
            "x": 2.2283279988605393,
            "y": 4.965445670505816
           },
           {
            "x": 2.2377386868004905,
            "y": 5.007474430403584
           },
           {
            "x": 2.2471493747404416,
            "y": 5.049680312396358
           },
           {
            "x": 2.2565600626803928,
            "y": 5.092063316484138
           },
           {
            "x": 2.265970750620344,
            "y": 5.134623442666925
           },
           {
            "x": 2.275381438560295,
            "y": 5.177360690944718
           },
           {
            "x": 2.284792126500246,
            "y": 5.220275061317517
           },
           {
            "x": 2.2942028144401974,
            "y": 5.263366553785323
           },
           {
            "x": 2.3036135023801485,
            "y": 5.3066351683481345
           },
           {
            "x": 2.3130241903200996,
            "y": 5.350080905005952
           },
           {
            "x": 2.3224348782600512,
            "y": 5.393703763758779
           },
           {
            "x": 2.3318455662000024,
            "y": 5.43750374460661
           },
           {
            "x": 2.3412562541399535,
            "y": 5.481480847549447
           },
           {
            "x": 2.3506669420799047,
            "y": 5.52563507258729
           },
           {
            "x": 2.360077630019856,
            "y": 5.5699664197201395
           },
           {
            "x": 2.369488317959807,
            "y": 5.614474888947996
           },
           {
            "x": 2.378899005899758,
            "y": 5.659160480270858
           },
           {
            "x": 2.3883096938397093,
            "y": 5.704023193688726
           },
           {
            "x": 2.3977203817796604,
            "y": 5.749063029201601
           },
           {
            "x": 2.4071310697196115,
            "y": 5.794279986809482
           },
           {
            "x": 2.4165417576595627,
            "y": 5.8396740665123685
           },
           {
            "x": 2.425952445599514,
            "y": 5.885245268310262
           },
           {
            "x": 2.435363133539465,
            "y": 5.930993592203162
           },
           {
            "x": 2.444773821479416,
            "y": 5.976919038191068
           },
           {
            "x": 2.4541845094193673,
            "y": 6.02302160627398
           },
           {
            "x": 2.4635951973593184,
            "y": 6.069301296451899
           },
           {
            "x": 2.4730058852992696,
            "y": 6.115758108724824
           },
           {
            "x": 2.482416573239221,
            "y": 6.1623920430927575
           },
           {
            "x": 2.4918272611791723,
            "y": 6.209203099555695
           },
           {
            "x": 2.5012379491191234,
            "y": 6.256191278113639
           },
           {
            "x": 2.5106486370590746,
            "y": 6.303356578766589
           },
           {
            "x": 2.5200593249990257,
            "y": 6.3506990015145455
           },
           {
            "x": 2.529470012938977,
            "y": 6.398218546357508
           },
           {
            "x": 2.538880700878928,
            "y": 6.445915213295477
           },
           {
            "x": 2.5482913888188787,
            "y": 6.49378900232845
           },
           {
            "x": 2.5577020767588308,
            "y": 6.541839913456436
           },
           {
            "x": 2.567112764698782,
            "y": 6.590067946679423
           },
           {
            "x": 2.576523452638733,
            "y": 6.638473101997418
           },
           {
            "x": 2.585934140578684,
            "y": 6.687055379410418
           },
           {
            "x": 2.5953448285186353,
            "y": 6.735814778918424
           },
           {
            "x": 2.6047555164585865,
            "y": 6.784751300521438
           },
           {
            "x": 2.6141662043985376,
            "y": 6.833864944219457
           },
           {
            "x": 2.623576892338489,
            "y": 6.883155710012482
           },
           {
            "x": 2.63298758027844,
            "y": 6.932623597900514
           },
           {
            "x": 2.642398268218391,
            "y": 6.982268607883552
           },
           {
            "x": 2.6518089561583422,
            "y": 7.032090739961596
           },
           {
            "x": 2.6612196440982934,
            "y": 7.082089994134647
           },
           {
            "x": 2.6706303320382445,
            "y": 7.1322663704027045
           },
           {
            "x": 2.6800410199781957,
            "y": 7.182619868765768
           },
           {
            "x": 2.689451707918147,
            "y": 7.233150489223837
           },
           {
            "x": 2.698862395858098,
            "y": 7.283858231776913
           },
           {
            "x": 2.708273083798049,
            "y": 7.334743096424995
           },
           {
            "x": 2.7176837717380002,
            "y": 7.385805083168083
           },
           {
            "x": 2.7270944596779514,
            "y": 7.437044192006177
           },
           {
            "x": 2.7365051476179025,
            "y": 7.488460422939278
           },
           {
            "x": 2.7459158355578537,
            "y": 7.540053775967386
           },
           {
            "x": 2.755326523497805,
            "y": 7.591824251090499
           },
           {
            "x": 2.764737211437756,
            "y": 7.643771848308619
           },
           {
            "x": 2.774147899377707,
            "y": 7.695896567621745
           },
           {
            "x": 2.7835585873176583,
            "y": 7.748198409029877
           },
           {
            "x": 2.7929692752576094,
            "y": 7.800677372533016
           },
           {
            "x": 2.8023799631975606,
            "y": 7.853333458131161
           },
           {
            "x": 2.8117906511375117,
            "y": 7.906166665824312
           },
           {
            "x": 2.821201339077463,
            "y": 7.959176995612469
           },
           {
            "x": 2.830612027017414,
            "y": 8.012364447495633
           },
           {
            "x": 2.840022714957365,
            "y": 8.065729021473803
           },
           {
            "x": 2.8494334028973163,
            "y": 8.11927071754698
           },
           {
            "x": 2.8588440908372674,
            "y": 8.172989535715162
           },
           {
            "x": 2.8682547787772186,
            "y": 8.226885475978351
           },
           {
            "x": 2.8776654667171706,
            "y": 8.28095853833655
           },
           {
            "x": 2.8870761546571218,
            "y": 8.335208722789753
           },
           {
            "x": 2.896486842597073,
            "y": 8.38963602933796
           },
           {
            "x": 2.905897530537024,
            "y": 8.444240457981175
           },
           {
            "x": 2.915308218476975,
            "y": 8.499022008719395
           },
           {
            "x": 2.9247189064169263,
            "y": 8.553980681552622
           },
           {
            "x": 2.9341295943568775,
            "y": 8.609116476480855
           },
           {
            "x": 2.9435402822968286,
            "y": 8.664429393504093
           },
           {
            "x": 2.9529509702367798,
            "y": 8.719919432622339
           },
           {
            "x": 2.962361658176731,
            "y": 8.775586593835591
           },
           {
            "x": 2.971772346116682,
            "y": 8.831430877143848
           },
           {
            "x": 2.981183034056633,
            "y": 8.887452282547113
           },
           {
            "x": 2.9905937219965844,
            "y": 8.943650810045384
           },
           {
            "x": 3.0000044099365355,
            "y": 9.00002645963866
           },
           {
            "x": 3.0094150978764866,
            "y": 9.056579231326944
           },
           {
            "x": 3.018825785816438,
            "y": 9.113309125110233
           },
           {
            "x": 3.028236473756389,
            "y": 9.17021614098853
           },
           {
            "x": 3.03764716169634,
            "y": 9.227300278961831
           },
           {
            "x": 3.0470578496362912,
            "y": 9.28456153903014
           },
           {
            "x": 3.0564685375762424,
            "y": 9.341999921193453
           },
           {
            "x": 3.0658792255161935,
            "y": 9.399615425451774
           },
           {
            "x": 3.0752899134561447,
            "y": 9.457408051805102
           },
           {
            "x": 3.084700601396096,
            "y": 9.515377800253436
           },
           {
            "x": 3.094111289336047,
            "y": 9.573524670796775
           },
           {
            "x": 3.103521977275998,
            "y": 9.631848663435122
           },
           {
            "x": 3.1129326652159492,
            "y": 9.690349778168473
           },
           {
            "x": 3.1223433531559004,
            "y": 9.749028014996831
           },
           {
            "x": 3.1317540410958515,
            "y": 9.807883373920196
           },
           {
            "x": 3.1411647290358027,
            "y": 9.866915854938568
           },
           {
            "x": 3.150575416975754,
            "y": 9.926125458051946
           },
           {
            "x": 3.159986104915705,
            "y": 9.98551218326033
           },
           {
            "x": 3.169396792855656,
            "y": 10.045076030563719
           },
           {
            "x": 3.1788074807956073,
            "y": 10.104816999962114
           },
           {
            "x": 3.1882181687355584,
            "y": 10.164735091455517
           },
           {
            "x": 3.1976288566755104,
            "y": 10.224830305043932
           },
           {
            "x": 3.2070395446154616,
            "y": 10.285102640727347
           },
           {
            "x": 3.2164502325554127,
            "y": 10.345552098505769
           },
           {
            "x": 3.225860920495364,
            "y": 10.406178678379197
           },
           {
            "x": 3.235271608435315,
            "y": 10.46698238034763
           },
           {
            "x": 3.244682296375266,
            "y": 10.527963204411071
           },
           {
            "x": 3.2540929843152173,
            "y": 10.589121150569516
           },
           {
            "x": 3.2635036722551685,
            "y": 10.65045621882297
           },
           {
            "x": 3.2729143601951196,
            "y": 10.71196840917143
           },
           {
            "x": 3.2823250481350708,
            "y": 10.773657721614894
           },
           {
            "x": 3.291735736075022,
            "y": 10.835524156153367
           },
           {
            "x": 3.301146424014973,
            "y": 10.897567712786843
           },
           {
            "x": 3.310557111954924,
            "y": 10.959788391515328
           },
           {
            "x": 3.3199677998948753,
            "y": 11.022186192338818
           },
           {
            "x": 3.3293784878348265,
            "y": 11.084761115257315
           },
           {
            "x": 3.3387891757747776,
            "y": 11.147513160270819
           },
           {
            "x": 3.3481998637147288,
            "y": 11.210442327379328
           },
           {
            "x": 3.35761055165468,
            "y": 11.273548616582843
           },
           {
            "x": 3.367021239594631,
            "y": 11.336832027881366
           },
           {
            "x": 3.376431927534582,
            "y": 11.400292561274894
           },
           {
            "x": 3.3858426154745334,
            "y": 11.463930216763428
           },
           {
            "x": 3.3952533034144845,
            "y": 11.52774499434697
           },
           {
            "x": 3.4046639913544356,
            "y": 11.591736894025516
           },
           {
            "x": 3.414074679294387,
            "y": 11.65590591579907
           },
           {
            "x": 3.423485367234338,
            "y": 11.72025205966763
           },
           {
            "x": 3.432896055174289,
            "y": 11.784775325631196
           },
           {
            "x": 3.4423067431142402,
            "y": 11.849475713689769
           },
           {
            "x": 3.4517174310541914,
            "y": 11.914353223843346
           },
           {
            "x": 3.4611281189941425,
            "y": 11.979407856091932
           },
           {
            "x": 3.4705388069340937,
            "y": 12.044639610435523
           },
           {
            "x": 3.479949494874045,
            "y": 12.11004848687412
           },
           {
            "x": 3.489360182813996,
            "y": 12.175634485407723
           },
           {
            "x": 3.498770870753947,
            "y": 12.241397606036333
           },
           {
            "x": 3.5081815586938982,
            "y": 12.30733784875995
           },
           {
            "x": 3.5175922466338494,
            "y": 12.373455213578572
           },
           {
            "x": 3.5270029345738014,
            "y": 12.439749700492207
           },
           {
            "x": 3.5364136225137526,
            "y": 12.506221309500843
           },
           {
            "x": 3.5458243104537037,
            "y": 12.572870040604483
           },
           {
            "x": 3.555234998393655,
            "y": 12.63969589380313
           },
           {
            "x": 3.564645686333606,
            "y": 12.706698869096785
           },
           {
            "x": 3.574056374273557,
            "y": 12.773878966485444
           },
           {
            "x": 3.5834670622135083,
            "y": 12.841236185969112
           },
           {
            "x": 3.5928777501534594,
            "y": 12.908770527547784
           },
           {
            "x": 3.6022884380934106,
            "y": 12.976481991221464
           },
           {
            "x": 3.6116991260333617,
            "y": 13.044370576990149
           },
           {
            "x": 3.621109813973313,
            "y": 13.11243628485384
           },
           {
            "x": 3.630520501913264,
            "y": 13.180679114812538
           },
           {
            "x": 3.639931189853215,
            "y": 13.249099066866243
           },
           {
            "x": 3.6493418777931663,
            "y": 13.317696141014954
           },
           {
            "x": 3.6587525657331175,
            "y": 13.38647033725867
           },
           {
            "x": 3.6681632536730686,
            "y": 13.455421655597393
           },
           {
            "x": 3.6775739416130198,
            "y": 13.524550096031122
           },
           {
            "x": 3.686984629552971,
            "y": 13.593855658559859
           },
           {
            "x": 3.696395317492922,
            "y": 13.6633383431836
           },
           {
            "x": 3.705806005432873,
            "y": 13.732998149902349
           },
           {
            "x": 3.7152166933728243,
            "y": 13.802835078716102
           },
           {
            "x": 3.7246273813127755,
            "y": 13.872849129624864
           },
           {
            "x": 3.7340380692527266,
            "y": 13.943040302628631
           },
           {
            "x": 3.743448757192678,
            "y": 14.013408597727404
           },
           {
            "x": 3.752859445132629,
            "y": 14.083954014921183
           },
           {
            "x": 3.76227013307258,
            "y": 14.154676554209969
           },
           {
            "x": 3.771680821012531,
            "y": 14.225576215593762
           },
           {
            "x": 3.7810915089524824,
            "y": 14.29665299907256
           },
           {
            "x": 3.7905021968924335,
            "y": 14.367906904646365
           },
           {
            "x": 3.7999128848323847,
            "y": 14.439337932315176
           },
           {
            "x": 3.809323572772336,
            "y": 14.510946082078993
           },
           {
            "x": 3.818734260712287,
            "y": 14.582731353937817
           },
           {
            "x": 3.828144948652238,
            "y": 14.654693747891647
           },
           {
            "x": 3.8375556365921892,
            "y": 14.726833263940483
           },
           {
            "x": 3.8469663245321413,
            "y": 14.799149902084332
           },
           {
            "x": 3.8563770124720924,
            "y": 14.87164366232318
           },
           {
            "x": 3.8657877004120436,
            "y": 14.944314544657036
           },
           {
            "x": 3.8751983883519947,
            "y": 15.017162549085898
           },
           {
            "x": 3.884609076291946,
            "y": 15.090187675609764
           },
           {
            "x": 3.894019764231897,
            "y": 15.163389924228639
           },
           {
            "x": 3.903430452171848,
            "y": 15.236769294942519
           },
           {
            "x": 3.9128411401117993,
            "y": 15.310325787751406
           },
           {
            "x": 3.9222518280517504,
            "y": 15.384059402655298
           },
           {
            "x": 3.9316625159917016,
            "y": 15.457970139654197
           },
           {
            "x": 3.9410732039316527,
            "y": 15.532057998748103
           },
           {
            "x": 3.950483891871604,
            "y": 15.606322979937014
           },
           {
            "x": 3.959894579811555,
            "y": 15.680765083220932
           },
           {
            "x": 3.969305267751506,
            "y": 15.755384308599856
           },
           {
            "x": 3.9787159556914573,
            "y": 15.830180656073786
           },
           {
            "x": 3.9881266436314085,
            "y": 15.905154125642722
           },
           {
            "x": 3.9975373315713596,
            "y": 15.980304717306666
           },
           {
            "x": 4.006948019511311,
            "y": 16.055632431065618
           },
           {
            "x": 4.016358707451262,
            "y": 16.131137266919573
           },
           {
            "x": 4.0257693953912135,
            "y": 16.206819224868536
           },
           {
            "x": 4.035180083331165,
            "y": 16.282678304912505
           },
           {
            "x": 4.044590771271116,
            "y": 16.35871450705148
           },
           {
            "x": 4.054001459211067,
            "y": 16.43492783128546
           },
           {
            "x": 4.063412147151018,
            "y": 16.511318277614446
           },
           {
            "x": 4.072822835090969,
            "y": 16.58788584603844
           },
           {
            "x": 4.08223352303092,
            "y": 16.66463053655744
           },
           {
            "x": 4.0916442109708715,
            "y": 16.741552349171446
           },
           {
            "x": 4.101054898910823,
            "y": 16.818651283880456
           },
           {
            "x": 4.110465586850774,
            "y": 16.895927340684477
           },
           {
            "x": 4.119876274790725,
            "y": 16.9733805195835
           },
           {
            "x": 4.129286962730676,
            "y": 17.05101082057753
           },
           {
            "x": 4.138697650670627,
            "y": 17.12881824366657
           },
           {
            "x": 4.148108338610578,
            "y": 17.206802788850613
           },
           {
            "x": 4.1575190265505295,
            "y": 17.284964456129664
           },
           {
            "x": 4.166929714490481,
            "y": 17.36330324550372
           },
           {
            "x": 4.176340402430432,
            "y": 17.44181915697278
           },
           {
            "x": 4.185751090370383,
            "y": 17.52051219053685
           },
           {
            "x": 4.195161778310334,
            "y": 17.599382346195924
           },
           {
            "x": 4.204572466250285,
            "y": 17.678429623950006
           },
           {
            "x": 4.213983154190236,
            "y": 17.757654023799095
           },
           {
            "x": 4.2233938421301875,
            "y": 17.837055545743187
           },
           {
            "x": 4.232804530070139,
            "y": 17.916634189782286
           },
           {
            "x": 4.24221521801009,
            "y": 17.996389955916396
           },
           {
            "x": 4.251625905950041,
            "y": 18.07632284414551
           },
           {
            "x": 4.261036593889992,
            "y": 18.156432854469625
           },
           {
            "x": 4.270447281829943,
            "y": 18.23671998688875
           },
           {
            "x": 4.279857969769894,
            "y": 18.31718424140288
           },
           {
            "x": 4.2892686577098456,
            "y": 18.39782561801202
           },
           {
            "x": 4.298679345649797,
            "y": 18.478644116716165
           },
           {
            "x": 4.308090033589748,
            "y": 18.559639737515315
           },
           {
            "x": 4.317500721529699,
            "y": 18.640812480409473
           },
           {
            "x": 4.32691140946965,
            "y": 18.722162345398633
           },
           {
            "x": 4.336322097409601,
            "y": 18.803689332482804
           },
           {
            "x": 4.345732785349552,
            "y": 18.88539344166198
           },
           {
            "x": 4.355143473289504,
            "y": 18.96727467293616
           },
           {
            "x": 4.364554161229455,
            "y": 19.049333026305348
           },
           {
            "x": 4.373964849169406,
            "y": 19.131568501769543
           },
           {
            "x": 4.383375537109357,
            "y": 19.213981099328745
           },
           {
            "x": 4.392786225049308,
            "y": 19.29657081898295
           },
           {
            "x": 4.402196912989259,
            "y": 19.379337660732165
           },
           {
            "x": 4.4116076009292104,
            "y": 19.462281624576384
           },
           {
            "x": 4.421018288869162,
            "y": 19.54540271051561
           },
           {
            "x": 4.430428976809113,
            "y": 19.628700918549843
           },
           {
            "x": 4.439839664749064,
            "y": 19.71217624867908
           },
           {
            "x": 4.449250352689015,
            "y": 19.795828700903325
           },
           {
            "x": 4.458661040628966,
            "y": 19.879658275222575
           },
           {
            "x": 4.468071728568917,
            "y": 19.96366497163683
           },
           {
            "x": 4.4774824165088685,
            "y": 20.047848790146098
           },
           {
            "x": 4.486893104448821,
            "y": 20.132209730750382
           },
           {
            "x": 4.4963037923887725,
            "y": 20.21674779344966
           },
           {
            "x": 4.505714480328724,
            "y": 20.30146297824394
           },
           {
            "x": 4.515125168268675,
            "y": 20.38635528513323
           },
           {
            "x": 4.524535856208626,
            "y": 20.471424714117525
           },
           {
            "x": 4.533946544148577,
            "y": 20.556671265196826
           },
           {
            "x": 4.543357232088528,
            "y": 20.642094938371134
           },
           {
            "x": 4.552767920028479,
            "y": 20.727695733640445
           },
           {
            "x": 4.5621786079684306,
            "y": 20.813473651004767
           },
           {
            "x": 4.571589295908382,
            "y": 20.89942869046409
           },
           {
            "x": 4.580999983848333,
            "y": 20.985560852018427
           },
           {
            "x": 4.590410671788284,
            "y": 21.071870135667766
           },
           {
            "x": 4.599821359728235,
            "y": 21.15835654141211
           },
           {
            "x": 4.609232047668186,
            "y": 21.24502006925146
           },
           {
            "x": 4.618642735608137,
            "y": 21.33186071918582
           },
           {
            "x": 4.628053423548089,
            "y": 21.41887849121518
           },
           {
            "x": 4.63746411148804,
            "y": 21.506073385339555
           },
           {
            "x": 4.646874799427991,
            "y": 21.59344540155893
           },
           {
            "x": 4.656285487367942,
            "y": 21.680994539873314
           },
           {
            "x": 4.665696175307893,
            "y": 21.768720800282704
           },
           {
            "x": 4.675106863247844,
            "y": 21.856624182787098
           },
           {
            "x": 4.6845175511877954,
            "y": 21.9447046873865
           },
           {
            "x": 4.693928239127747,
            "y": 22.03296231408091
           },
           {
            "x": 4.703338927067698,
            "y": 22.121397062870322
           },
           {
            "x": 4.712749615007649,
            "y": 22.210008933754743
           },
           {
            "x": 4.7221603029476,
            "y": 22.29879792673417
           },
           {
            "x": 4.731570990887551,
            "y": 22.3877640418086
           },
           {
            "x": 4.740981678827502,
            "y": 22.476907278978043
           },
           {
            "x": 4.7503923667674535,
            "y": 22.566227638242488
           },
           {
            "x": 4.759803054707405,
            "y": 22.65572511960194
           },
           {
            "x": 4.769213742647356,
            "y": 22.745399723056398
           },
           {
            "x": 4.778624430587307,
            "y": 22.835251448605863
           },
           {
            "x": 4.788035118527258,
            "y": 22.925280296250335
           },
           {
            "x": 4.797445806467209,
            "y": 23.01548626598981
           },
           {
            "x": 4.80685649440716,
            "y": 23.105869357824293
           },
           {
            "x": 4.8162671823471115,
            "y": 23.196429571753786
           },
           {
            "x": 4.825677870287063,
            "y": 23.287166907778282
           },
           {
            "x": 4.835088558227014,
            "y": 23.37808136589778
           },
           {
            "x": 4.844499246166965,
            "y": 23.46917294611229
           },
           {
            "x": 4.853909934106916,
            "y": 23.560441648421808
           },
           {
            "x": 4.863320622046867,
            "y": 23.651887472826328
           },
           {
            "x": 4.872731309986818,
            "y": 23.743510419325855
           },
           {
            "x": 4.8821419979267695,
            "y": 23.83531048792039
           },
           {
            "x": 4.891552685866721,
            "y": 23.92728767860993
           },
           {
            "x": 4.900963373806672,
            "y": 24.019441991394476
           },
           {
            "x": 4.910374061746623,
            "y": 24.111773426274027
           },
           {
            "x": 4.919784749686574,
            "y": 24.204281983248585
           },
           {
            "x": 4.929195437626525,
            "y": 24.296967662318153
           },
           {
            "x": 4.938606125566476,
            "y": 24.389830463482724
           },
           {
            "x": 4.9480168135064275,
            "y": 24.482870386742302
           },
           {
            "x": 4.957427501446379,
            "y": 24.576087432096884
           },
           {
            "x": 4.96683818938633,
            "y": 24.669481599546476
           },
           {
            "x": 4.976248877326281,
            "y": 24.76305288909107
           },
           {
            "x": 4.985659565266232,
            "y": 24.856801300730673
           },
           {
            "x": 4.995070253206183,
            "y": 24.950726834465282
           },
           {
            "x": 5.004480941146134,
            "y": 25.044829490294898
           },
           {
            "x": 5.0138916290860855,
            "y": 25.13910926821952
           },
           {
            "x": 5.023302317026037,
            "y": 25.23356616823915
           },
           {
            "x": 5.032713004965988,
            "y": 25.328200190353783
           },
           {
            "x": 5.042123692905939,
            "y": 25.423011334563423
           },
           {
            "x": 5.05153438084589,
            "y": 25.51799960086807
           },
           {
            "x": 5.060945068785841,
            "y": 25.613164989267723
           },
           {
            "x": 5.070355756725792,
            "y": 25.708507499762383
           },
           {
            "x": 5.079766444665744,
            "y": 25.804027132352047
           },
           {
            "x": 5.089177132605695,
            "y": 25.89972388703672
           },
           {
            "x": 5.098587820545646,
            "y": 25.9955977638164
           },
           {
            "x": 5.107998508485597,
            "y": 26.091648762691083
           },
           {
            "x": 5.117409196425548,
            "y": 26.187876883660774
           },
           {
            "x": 5.126819884365501,
            "y": 26.28428212672549
           },
           {
            "x": 5.136230572305452,
            "y": 26.380864491885195
           },
           {
            "x": 5.145641260245403,
            "y": 26.477623979139903
           },
           {
            "x": 5.1550519481853545,
            "y": 26.574560588489618
           },
           {
            "x": 5.164462636125306,
            "y": 26.67167431993434
           },
           {
            "x": 5.173873324065257,
            "y": 26.76896517347407
           },
           {
            "x": 5.183284012005208,
            "y": 26.866433149108804
           },
           {
            "x": 5.192694699945159,
            "y": 26.964078246838547
           },
           {
            "x": 5.20210538788511,
            "y": 27.061900466663293
           },
           {
            "x": 5.211516075825061,
            "y": 27.159899808583045
           },
           {
            "x": 5.2209267637650125,
            "y": 27.25807627259781
           },
           {
            "x": 5.230337451704964,
            "y": 27.356429858707575
           },
           {
            "x": 5.239748139644915,
            "y": 27.454960566912344
           },
           {
            "x": 5.249158827584866,
            "y": 27.553668397212125
           },
           {
            "x": 5.258569515524817,
            "y": 27.652553349606908
           },
           {
            "x": 5.267980203464768,
            "y": 27.751615424096702
           },
           {
            "x": 5.277390891404719,
            "y": 27.8508546206815
           },
           {
            "x": 5.2868015793446705,
            "y": 27.950270939361303
           },
           {
            "x": 5.296212267284622,
            "y": 28.049864380136114
           },
           {
            "x": 5.305622955224573,
            "y": 28.14963494300593
           },
           {
            "x": 5.315033643164524,
            "y": 28.249582627970753
           },
           {
            "x": 5.324444331104475,
            "y": 28.34970743503058
           },
           {
            "x": 5.333855019044426,
            "y": 28.450009364185416
           },
           {
            "x": 5.343265706984377,
            "y": 28.550488415435257
           },
           {
            "x": 5.352676394924329,
            "y": 28.651144588780106
           },
           {
            "x": 5.36208708286428,
            "y": 28.75197788421996
           },
           {
            "x": 5.371497770804231,
            "y": 28.85298830175482
           },
           {
            "x": 5.380908458744182,
            "y": 28.95417584138469
           },
           {
            "x": 5.390319146684133,
            "y": 29.05554050310956
           },
           {
            "x": 5.399729834624084,
            "y": 29.15708228692944
           },
           {
            "x": 5.409140522564035,
            "y": 29.258801192844327
           },
           {
            "x": 5.418551210503987,
            "y": 29.360697220854217
           },
           {
            "x": 5.427961898443938,
            "y": 29.462770370959117
           },
           {
            "x": 5.437372586383889,
            "y": 29.56502064315902
           },
           {
            "x": 5.44678327432384,
            "y": 29.667448037453934
           },
           {
            "x": 5.456193962263791,
            "y": 29.77005255384385
           },
           {
            "x": 5.465604650203742,
            "y": 29.87283419232877
           },
           {
            "x": 5.4750153381436935,
            "y": 29.9757929529087
           },
           {
            "x": 5.484426026083645,
            "y": 30.07892883558364
           },
           {
            "x": 5.493836714023596,
            "y": 30.18224184035358
           },
           {
            "x": 5.503247401963547,
            "y": 30.285731967218528
           },
           {
            "x": 5.512658089903498,
            "y": 30.389399216178482
           },
           {
            "x": 5.522068777843449,
            "y": 30.493243587233444
           },
           {
            "x": 5.5314794657834,
            "y": 30.597265080383412
           },
           {
            "x": 5.5408901537233515,
            "y": 30.701463695628387
           },
           {
            "x": 5.550300841663303,
            "y": 30.805839432968366
           },
           {
            "x": 5.559711529603254,
            "y": 30.91039229240335
           },
           {
            "x": 5.569122217543205,
            "y": 31.015122273933343
           },
           {
            "x": 5.578532905483156,
            "y": 31.120029377558343
           },
           {
            "x": 5.587943593423107,
            "y": 31.22511360327835
           },
           {
            "x": 5.597354281363058,
            "y": 31.330374951093358
           },
           {
            "x": 5.6067649693030095,
            "y": 31.435813421003377
           },
           {
            "x": 5.616175657242961,
            "y": 31.5414290130084
           },
           {
            "x": 5.625586345182912,
            "y": 31.64722172710843
           },
           {
            "x": 5.634997033122863,
            "y": 31.753191563303467
           },
           {
            "x": 5.644407721062814,
            "y": 31.85933852159351
           },
           {
            "x": 5.653818409002765,
            "y": 31.965662601978558
           },
           {
            "x": 5.663229096942716,
            "y": 32.07216380445861
           },
           {
            "x": 5.6726397848826675,
            "y": 32.178842129033676
           },
           {
            "x": 5.682050472822619,
            "y": 32.28569757570374
           },
           {
            "x": 5.69146116076257,
            "y": 32.39273014446882
           },
           {
            "x": 5.700871848702521,
            "y": 32.4999398353289
           },
           {
            "x": 5.710282536642472,
            "y": 32.60732664828399
           },
           {
            "x": 5.719693224582423,
            "y": 32.71489058333408
           },
           {
            "x": 5.729103912522374,
            "y": 32.82263164047918
           },
           {
            "x": 5.7385146004623255,
            "y": 32.93054981971928
           },
           {
            "x": 5.747925288402277,
            "y": 33.038645121054394
           },
           {
            "x": 5.757335976342228,
            "y": 33.146917544484516
           },
           {
            "x": 5.766746664282179,
            "y": 33.255367090009635
           },
           {
            "x": 5.776157352222132,
            "y": 33.36399375762979
           },
           {
            "x": 5.785568040162083,
            "y": 33.472797547344925
           },
           {
            "x": 5.794978728102034,
            "y": 33.58177845915507
           },
           {
            "x": 5.804389416041985,
            "y": 33.69093649306022
           },
           {
            "x": 5.8138001039819365,
            "y": 33.80027164906038
           },
           {
            "x": 5.823210791921888,
            "y": 33.90978392715554
           },
           {
            "x": 5.832621479861839,
            "y": 34.01947332734571
           },
           {
            "x": 5.84203216780179,
            "y": 34.12933984963088
           },
           {
            "x": 5.851442855741741,
            "y": 34.239383494011065
           },
           {
            "x": 5.860853543681692,
            "y": 34.34960426048625
           },
           {
            "x": 5.870264231621643,
            "y": 34.46000214905644
           },
           {
            "x": 5.8796749195615945,
            "y": 34.570577159721644
           },
           {
            "x": 5.889085607501546,
            "y": 34.68132929248185
           },
           {
            "x": 5.898496295441497,
            "y": 34.79225854733706
           },
           {
            "x": 5.907906983381448,
            "y": 34.90336492428728
           },
           {
            "x": 5.917317671321399,
            "y": 35.0146484233325
           },
           {
            "x": 5.92672835926135,
            "y": 35.126109044472734
           },
           {
            "x": 5.936139047201301,
            "y": 35.23774678770798
           },
           {
            "x": 5.9455497351412525,
            "y": 35.349561653038215
           },
           {
            "x": 5.954960423081204,
            "y": 35.46155364046347
           },
           {
            "x": 5.964371111021155,
            "y": 35.57372274998372
           },
           {
            "x": 5.973781798961106,
            "y": 35.686068981598986
           },
           {
            "x": 5.983192486901057,
            "y": 35.79859233530926
           },
           {
            "x": 5.992603174841008,
            "y": 35.911292811114535
           },
           {
            "x": 6.002013862780959,
            "y": 36.024170409014815
           },
           {
            "x": 6.0114245507209105,
            "y": 36.1372251290101
           },
           {
            "x": 6.020835238660862,
            "y": 36.2504569711004
           },
           {
            "x": 6.030245926600813,
            "y": 36.363865935285695
           },
           {
            "x": 6.039656614540764,
            "y": 36.477452021566
           },
           {
            "x": 6.049067302480715,
            "y": 36.59121522994131
           },
           {
            "x": 6.058477990420666,
            "y": 36.70515556041163
           },
           {
            "x": 6.067888678360617,
            "y": 36.81927301297696
           },
           {
            "x": 6.0772993663005686,
            "y": 36.93356758763729
           },
           {
            "x": 6.08671005424052,
            "y": 37.04803928439263
           },
           {
            "x": 6.096120742180471,
            "y": 37.16268810324298
           },
           {
            "x": 6.105531430120422,
            "y": 37.27751404418832
           },
           {
            "x": 6.114942118060373,
            "y": 37.392517107228684
           },
           {
            "x": 6.124352806000324,
            "y": 37.50769729236404
           },
           {
            "x": 6.133763493940275,
            "y": 37.62305459959442
           },
           {
            "x": 6.143174181880227,
            "y": 37.73858902891979
           },
           {
            "x": 6.152584869820178,
            "y": 37.85430058034017
           },
           {
            "x": 6.161995557760129,
            "y": 37.97018925385556
           },
           {
            "x": 6.17140624570008,
            "y": 38.086255049465954
           },
           {
            "x": 6.180816933640031,
            "y": 38.202497967171354
           },
           {
            "x": 6.190227621579982,
            "y": 38.318918006971764
           },
           {
            "x": 6.199638309519933,
            "y": 38.43551516886718
           },
           {
            "x": 6.209048997459885,
            "y": 38.5522894528576
           },
           {
            "x": 6.218459685399836,
            "y": 38.66924085894303
           },
           {
            "x": 6.227870373339787,
            "y": 38.78636938712346
           },
           {
            "x": 6.237281061279738,
            "y": 38.9036750373989
           },
           {
            "x": 6.246691749219689,
            "y": 39.02115780976934
           },
           {
            "x": 6.25610243715964,
            "y": 39.13881770423479
           },
           {
            "x": 6.2655131250995915,
            "y": 39.25665472079525
           },
           {
            "x": 6.274923813039543,
            "y": 39.374668859450715
           },
           {
            "x": 6.284334500979494,
            "y": 39.492860120201186
           },
           {
            "x": 6.293745188919445,
            "y": 39.61122850304666
           },
           {
            "x": 6.303155876859396,
            "y": 39.72977400798714
           },
           {
            "x": 6.312566564799347,
            "y": 39.84849663502263
           },
           {
            "x": 6.321977252739298,
            "y": 39.967396384153126
           },
           {
            "x": 6.3313879406792495,
            "y": 40.08647325537863
           },
           {
            "x": 6.340798628619201,
            "y": 40.205727248699134
           },
           {
            "x": 6.350209316559152,
            "y": 40.32515836411465
           },
           {
            "x": 6.359620004499103,
            "y": 40.44476660162517
           },
           {
            "x": 6.369030692439054,
            "y": 40.5645519612307
           },
           {
            "x": 6.378441380379005,
            "y": 40.68451444293123
           },
           {
            "x": 6.387852068318956,
            "y": 40.80465404672677
           },
           {
            "x": 6.3972627562589075,
            "y": 40.924970772617314
           },
           {
            "x": 6.406673444198859,
            "y": 41.045464620602864
           },
           {
            "x": 6.416084132138812,
            "y": 41.166135590683446
           },
           {
            "x": 6.425494820078763,
            "y": 41.28698368285901
           },
           {
            "x": 6.434905508018714,
            "y": 41.408008897129584
           },
           {
            "x": 6.444316195958665,
            "y": 41.52921123349516
           },
           {
            "x": 6.453726883898616,
            "y": 41.65059069195574
           },
           {
            "x": 6.463137571838567,
            "y": 41.77214727251133
           },
           {
            "x": 6.472548259778518,
            "y": 41.89388097516193
           },
           {
            "x": 6.48195894771847,
            "y": 42.01579179990753
           },
           {
            "x": 6.491369635658421,
            "y": 42.13787974674814
           },
           {
            "x": 6.500780323598372,
            "y": 42.26014481568375
           },
           {
            "x": 6.510191011538323,
            "y": 42.382587006714374
           },
           {
            "x": 6.519601699478274,
            "y": 42.50520631984
           },
           {
            "x": 6.529012387418225,
            "y": 42.628002755060635
           },
           {
            "x": 6.5384230753581765,
            "y": 42.750976312376274
           },
           {
            "x": 6.547833763298126,
            "y": 42.874126991786895
           },
           {
            "x": 6.557244451238077,
            "y": 42.99745479329255
           },
           {
            "x": 6.566655139178028,
            "y": 43.12095971689321
           },
           {
            "x": 6.576065827117981,
            "y": 43.2446417625889
           },
           {
            "x": 6.585476515057932,
            "y": 43.36850093037957
           },
           {
            "x": 6.594887202997883,
            "y": 43.49253722026525
           },
           {
            "x": 6.6042978909378345,
            "y": 43.61675063224593
           },
           {
            "x": 6.613708578877786,
            "y": 43.74114116632162
           },
           {
            "x": 6.623119266817737,
            "y": 43.865708822492316
           },
           {
            "x": 6.632529954757688,
            "y": 43.990453600758016
           },
           {
            "x": 6.641940642697639,
            "y": 44.11537550111873
           },
           {
            "x": 6.65135133063759,
            "y": 44.24047452357444
           },
           {
            "x": 6.660762018577541,
            "y": 44.365750668125166
           },
           {
            "x": 6.6701727065174925,
            "y": 44.491203934770894
           },
           {
            "x": 6.679583394457444,
            "y": 44.616834323511625
           },
           {
            "x": 6.688994082397395,
            "y": 44.74264183434737
           },
           {
            "x": 6.698404770337346,
            "y": 44.86862646727811
           },
           {
            "x": 6.707815458277297,
            "y": 44.99478822230387
           },
           {
            "x": 6.717226146217248,
            "y": 45.121127099424626
           },
           {
            "x": 6.726636834157199,
            "y": 45.24764309864039
           },
           {
            "x": 6.7360475220971505,
            "y": 45.37433621995116
           },
           {
            "x": 6.745458210037102,
            "y": 45.50120646335694
           },
           {
            "x": 6.754868897977053,
            "y": 45.62825382885772
           },
           {
            "x": 6.764279585917004,
            "y": 45.75547831645351
           },
           {
            "x": 6.773690273856955,
            "y": 45.88287992614431
           },
           {
            "x": 6.783100961796906,
            "y": 46.010458657930116
           },
           {
            "x": 6.792511649736857,
            "y": 46.13821451181092
           },
           {
            "x": 6.8019223376768085,
            "y": 46.26614748778674
           },
           {
            "x": 6.81133302561676,
            "y": 46.39425758585756
           },
           {
            "x": 6.820743713556711,
            "y": 46.52254480602339
           },
           {
            "x": 6.830154401496662,
            "y": 46.651009148284224
           },
           {
            "x": 6.839565089436613,
            "y": 46.77965061264007
           },
           {
            "x": 6.848975777376564,
            "y": 46.90846919909091
           },
           {
            "x": 6.858386465316515,
            "y": 47.03746490763677
           },
           {
            "x": 6.867797153256467,
            "y": 47.16663773827763
           },
           {
            "x": 6.877207841196418,
            "y": 47.295987691013494
           },
           {
            "x": 6.886618529136369,
            "y": 47.42551476584436
           },
           {
            "x": 6.89602921707632,
            "y": 47.55521896277024
           },
           {
            "x": 6.905439905016271,
            "y": 47.68510028179113
           },
           {
            "x": 6.914850592956222,
            "y": 47.81515872290702
           },
           {
            "x": 6.924261280896173,
            "y": 47.94539428611792
           },
           {
            "x": 6.933671968836125,
            "y": 48.07580697142382
           },
           {
            "x": 6.943082656776076,
            "y": 48.20639677882473
           },
           {
            "x": 6.952493344716027,
            "y": 48.337163708320645
           },
           {
            "x": 6.961904032655978,
            "y": 48.46810775991157
           },
           {
            "x": 6.971314720595929,
            "y": 48.599228933597495
           },
           {
            "x": 6.98072540853588,
            "y": 48.73052722937843
           },
           {
            "x": 6.9901360964758315,
            "y": 48.86200264725437
           },
           {
            "x": 6.999546784415783,
            "y": 48.99365518722532
           },
           {
            "x": 7.008957472355734,
            "y": 49.125484849291276
           },
           {
            "x": 7.018368160295685,
            "y": 49.25749163345224
           },
           {
            "x": 7.027778848235636,
            "y": 49.3896755397082
           },
           {
            "x": 7.037189536175587,
            "y": 49.52203656805918
           },
           {
            "x": 7.046600224115538,
            "y": 49.65457471850515
           },
           {
            "x": 7.0560109120554895,
            "y": 49.78728999104614
           },
           {
            "x": 7.065421599995441,
            "y": 49.92018238568213
           },
           {
            "x": 7.074832287935392,
            "y": 50.05325190241313
           },
           {
            "x": 7.084242975875343,
            "y": 50.18649854123913
           },
           {
            "x": 7.093653663815294,
            "y": 50.319922302160144
           },
           {
            "x": 7.103064351755245,
            "y": 50.45352318517616
           },
           {
            "x": 7.112475039695196,
            "y": 50.587301190287185
           },
           {
            "x": 7.1218857276351475,
            "y": 50.721256317493214
           },
           {
            "x": 7.131296415575099,
            "y": 50.85538856679425
           },
           {
            "x": 7.14070710351505,
            "y": 50.98969793819029
           },
           {
            "x": 7.150117791455001,
            "y": 51.12418443168134
           },
           {
            "x": 7.159528479394952,
            "y": 51.25884804726739
           },
           {
            "x": 7.168939167334903,
            "y": 51.39368878494845
           },
           {
            "x": 7.178349855274854,
            "y": 51.52870664472452
           },
           {
            "x": 7.1877605432148055,
            "y": 51.663901626595596
           },
           {
            "x": 7.197171231154757,
            "y": 51.79927373056167
           },
           {
            "x": 7.206581919094708,
            "y": 51.93482295662276
           },
           {
            "x": 7.215992607034661,
            "y": 52.07054930477888
           },
           {
            "x": 7.225403294974612,
            "y": 52.20645277502998
           },
           {
            "x": 7.234813982914563,
            "y": 52.342533367376085
           },
           {
            "x": 7.244224670854514,
            "y": 52.47879108181719
           },
           {
            "x": 7.253635358794465,
            "y": 52.61522591835331
           },
           {
            "x": 7.2630460467344164,
            "y": 52.75183787698443
           },
           {
            "x": 7.272456734674368,
            "y": 52.888626957710564
           },
           {
            "x": 7.281867422614319,
            "y": 53.0255931605317
           },
           {
            "x": 7.29127811055427,
            "y": 53.162736485447844
           },
           {
            "x": 7.300688798494221,
            "y": 53.30005693245899
           },
           {
            "x": 7.310099486434172,
            "y": 53.437554501565145
           },
           {
            "x": 7.319510174374123,
            "y": 53.57522919276631
           },
           {
            "x": 7.3289208623140745,
            "y": 53.713081006062474
           },
           {
            "x": 7.338331550254026,
            "y": 53.85110994145365
           },
           {
            "x": 7.347742238193977,
            "y": 53.98931599893983
           },
           {
            "x": 7.357152926133928,
            "y": 54.12769917852102
           },
           {
            "x": 7.366563614073879,
            "y": 54.26625948019721
           },
           {
            "x": 7.37597430201383,
            "y": 54.40499690396841
           },
           {
            "x": 7.385384989953781,
            "y": 54.54391144983462
           },
           {
            "x": 7.3947956778937325,
            "y": 54.68300311779583
           },
           {
            "x": 7.404206365833684,
            "y": 54.82227190785204
           },
           {
            "x": 7.413617053773635,
            "y": 54.961717820003265
           },
           {
            "x": 7.423027741713586,
            "y": 55.1013408542495
           },
           {
            "x": 7.432438429653537,
            "y": 55.24114101059074
           },
           {
            "x": 7.441849117593488,
            "y": 55.38111828902698
           },
           {
            "x": 7.451259805533439,
            "y": 55.52127268955823
           },
           {
            "x": 7.4606704934733905,
            "y": 55.661604212184486
           },
           {
            "x": 7.470081181413342,
            "y": 55.802112856905744
           },
           {
            "x": 7.479491869353293,
            "y": 55.94279862372201
           },
           {
            "x": 7.488902557293244,
            "y": 56.08366151263329
           },
           {
            "x": 7.498313245233195,
            "y": 56.22470152363957
           },
           {
            "x": 7.507723933173146,
            "y": 56.36591865674086
           },
           {
            "x": 7.517134621113097,
            "y": 56.50731291193715
           },
           {
            "x": 7.5265453090530485,
            "y": 56.64888428922845
           },
           {
            "x": 7.535955996993,
            "y": 56.79063278861476
           },
           {
            "x": 7.545366684932951,
            "y": 56.93255841009607
           },
           {
            "x": 7.554777372872902,
            "y": 57.07466115367239
           },
           {
            "x": 7.564188060812853,
            "y": 57.216941019343714
           },
           {
            "x": 7.573598748752804,
            "y": 57.359398007110045
           },
           {
            "x": 7.583009436692755,
            "y": 57.50203211697138
           },
           {
            "x": 7.5924201246327065,
            "y": 57.64484334892772
           },
           {
            "x": 7.601830812572658,
            "y": 57.78783170297908
           },
           {
            "x": 7.611241500512609,
            "y": 57.93099717912543
           },
           {
            "x": 7.62065218845256,
            "y": 58.074339777366795
           },
           {
            "x": 7.630062876392511,
            "y": 58.21785949770316
           },
           {
            "x": 7.639473564332462,
            "y": 58.361556340134534
           },
           {
            "x": 7.648884252272413,
            "y": 58.50543030466092
           },
           {
            "x": 7.658294940212365,
            "y": 58.64948139128231
           },
           {
            "x": 7.667705628152316,
            "y": 58.7937095999987
           },
           {
            "x": 7.677116316092267,
            "y": 58.9381149308101
           },
           {
            "x": 7.686527004032218,
            "y": 59.08269738371651
           },
           {
            "x": 7.695937691972169,
            "y": 59.227456958717916
           },
           {
            "x": 7.70534837991212,
            "y": 59.372393655814335
           },
           {
            "x": 7.714759067852071,
            "y": 59.517507475005765
           },
           {
            "x": 7.724169755792023,
            "y": 59.66279841629219
           },
           {
            "x": 7.733580443731974,
            "y": 59.808266479673634
           },
           {
            "x": 7.742991131671925,
            "y": 59.95391166515007
           },
           {
            "x": 7.752401819611876,
            "y": 60.09973397272152
           },
           {
            "x": 7.761812507551827,
            "y": 60.245733402387984
           },
           {
            "x": 7.771223195491778,
            "y": 60.39190995414945
           },
           {
            "x": 7.7806338834317295,
            "y": 60.538263628005915
           },
           {
            "x": 7.790044571371681,
            "y": 60.68479442395739
           },
           {
            "x": 7.799455259311632,
            "y": 60.83150234200387
           },
           {
            "x": 7.808865947251583,
            "y": 60.978387382145364
           },
           {
            "x": 7.818276635191534,
            "y": 61.12544954438186
           },
           {
            "x": 7.827687323131485,
            "y": 61.272688828713356
           },
           {
            "x": 7.837098011071436,
            "y": 61.420105235139864
           },
           {
            "x": 7.8465086990113875,
            "y": 61.567698763661376
           },
           {
            "x": 7.85591938695134,
            "y": 61.715469414277926
           },
           {
            "x": 7.8653300748912915,
            "y": 61.86341718698945
           },
           {
            "x": 7.874740762831243,
            "y": 62.01154208179598
           },
           {
            "x": 7.884151450771194,
            "y": 62.15984409869752
           },
           {
            "x": 7.893562138711145,
            "y": 62.30832323769407
           },
           {
            "x": 7.902972826651096,
            "y": 62.456979498785614
           },
           {
            "x": 7.912383514591047,
            "y": 62.60581288197217
           },
           {
            "x": 7.921794202530998,
            "y": 62.75482338725374
           },
           {
            "x": 7.93120489047095,
            "y": 62.904011014630306
           },
           {
            "x": 7.940615578410902,
            "y": 63.0533757641019
           }
          ]
         },
         "encoding": {
          "x": {
           "field": "x",
           "type": "quantitative"
          },
          "y": {
           "field": "y",
           "type": "quantitative"
          }
         },
         "mark": {
          "color": "black",
          "opacity": 0.2,
          "type": "line"
         }
        },
        {
         "data": {
          "values": [
           {
            "label": "E[X^2]",
            "x": 2.341754177584537,
            "y": 8.939857401195804
           }
          ]
         },
         "encoding": {
          "x": {
           "field": "x",
           "type": "quantitative"
          },
          "y": {
           "field": "y",
           "type": "quantitative"
          }
         },
         "mark": {
          "color": "black",
          "filled": true,
          "opacity": 0.9,
          "size": 200,
          "type": "point"
         }
        },
        {
         "data": {
          "values": [
           {
            "label": "E[X^2]",
            "x": 2.341754177584537,
            "y": 8.939857401195804
           }
          ]
         },
         "encoding": {
          "text": {
           "field": "label",
           "type": "nominal"
          },
          "x": {
           "field": "x",
           "type": "quantitative"
          },
          "y": {
           "field": "y",
           "type": "quantitative"
          }
         },
         "mark": {
          "align": "right",
          "baseline": "middle",
          "dx": 7,
          "type": "text",
          "xOffset": -15
         }
        },
        {
         "data": {
          "values": [
           {
            "label": "E[X]",
            "x": 2.341754177584537,
            "y": 0
           }
          ]
         },
         "encoding": {
          "text": {
           "field": "label",
           "type": "nominal"
          },
          "x": {
           "field": "x",
           "type": "quantitative"
          },
          "y": {
           "field": "y",
           "type": "quantitative"
          }
         },
         "mark": {
          "align": "left",
          "baseline": "bottom",
          "dx": 16,
          "type": "text",
          "yOffset": -4
         }
        },
        {
         "data": {
          "values": [
           {
            "label": "E[X]^2",
            "x": 2.341754177584537,
            "y": 5.483812628234632
           }
          ]
         },
         "encoding": {
          "x": {
           "field": "x",
           "type": "quantitative"
          },
          "y": {
           "field": "y",
           "type": "quantitative"
          }
         },
         "mark": {
          "color": "blue",
          "filled": true,
          "opacity": 0.9,
          "size": 200,
          "type": "point"
         }
        },
        {
         "data": {
          "values": [
           {
            "label": "E[X]^2",
            "x": 2.341754177584537,
            "y": 5.483812628234632
           }
          ]
         },
         "encoding": {
          "text": {
           "field": "label",
           "type": "nominal"
          },
          "x": {
           "field": "x",
           "type": "quantitative"
          },
          "y": {
           "field": "y",
           "type": "quantitative"
          }
         },
         "mark": {
          "align": "left",
          "baseline": "middle",
          "dx": 7,
          "type": "text"
         }
        }
       ]
      },
      "image/png": "[encoded data removed]",
      "text/plain": [
       "<VegaLite 2 object>\n",
       "\n",
       "If you see this message, it means the renderer has not been properly enabled\n",
       "for the frontend that you are using. For more information, see\n",
       "https://altair-viz.github.io/user_guide/troubleshooting.html\n"
      ]
     },
     "execution_count": 12,
     "metadata": {},
     "output_type": "execute_result"
    }
   ],
   "source": [
    "c7 = alt.Chart(dt).mark_point(opacity=expectation_opacity, size=expectation_size, color=\"blue\", filled=True).encode(\n",
    "    x='x:Q',  # specify ordinal data\n",
    "    y='y:Q',  # specify quantitative data\n",
    ")\n",
    "\n",
    "text7 = c7.mark_text(\n",
    "    align='left',\n",
    "    baseline='middle',\n",
    "    dx=7\n",
    ").encode(\n",
    "    text='label:N'\n",
    ")\n",
    "x2 + expected_x2 + text + text2 + c7 +  text7"
   ]
  },
  {
   "cell_type": "markdown",
   "metadata": {},
   "source": [
    "The distance between $\\mathbb{E}[X^2]$ and $\\mathbb{E}[X]^2$ is $\\mathbb{E}[X^2]$ - $\\mathbb{E}[X]^2$, the variance!"
   ]
  },
  {
   "cell_type": "markdown",
   "metadata": {},
   "source": [
    "Because $\\mathbb{E}[X^2]$ is always above the black squares line, this also doubles as a visual proof that the variance is always non-negative. (See also this [awesome visual proof](http://mark.reid.name/blog/behold-jensens-inequality.html) of Jensen's Inequality, which gave me the idea for this post)."
   ]
  },
  {
   "cell_type": "code",
   "execution_count": 3,
   "metadata": {},
   "outputs": [],
   "source": [
    "import altair as alt\n",
    "from vega_datasets import data\n",
    "\n",
    "import numpy as np\n",
    "\n",
    "def make_bar_chart(size, opacity, data):\n",
    "    return alt.Chart(data).mark_bar(size=10, opacity=.2).encode(\n",
    "        x='x:Q',  # specify ordinal data\n",
    "        y='y:Q',  # specify quantitative data\n",
    "    )\n",
    "    return\n",
    "\n",
    "\n",
    "def make_altair_object(X, Y):\n",
    "    bi = []\n",
    "    for x, y in zip(X,Y):\n",
    "        bi.append({\"x\":x, \"y\":y})\n",
    "    return alt.Data({\"values\" : bi})\n",
    "\n",
    "point_size = 50\n",
    "expectation_size = 200\n",
    "point_opacity = .2\n",
    "expectation_opacity = .9\n",
    "line_opacity=.2"
   ]
  },
  {
   "cell_type": "markdown",
   "metadata": {},
   "source": [
    "\n",
    "### Plowing through the algebra \n",
    "\n",
    "This post is devoted to providing a visual intution for the alternate definition of variance. If you are curious about the algebra behind the definition, here is a detailed derivation as well.\n",
    "\n",
    "Starting from the definition and expanding the square we have\n",
    "\n",
    "$$Var(X) = \\mathbb{E}[(x - \\mathbb{E}[X])^2]$$\n",
    "\n",
    "$$Var(X) = \\mathbb{E}[X^2 - 2XE[X] + \\mathbb{E}[X]^2]$$\n",
    "\n",
    "From linearity of expectation we have:\n",
    "\n",
    "$$Var(X) = \\mathbb{E}[X^2]-  \\mathbb{E}[2XE[X]] +  \\mathbb{E}[\\mathbb{E}[X]^2]$$\n",
    "\n",
    "We can pull out the constants 2 and $\\mathbb{E}[X]$ from the expectation in the middle term to get:\n",
    "\n",
    "$$Var(X) = \\mathbb{E}[X^2]-  2\\mathbb{E}[X]\\mathbb{E}E[X] +  \\mathbb{E}[\\mathbb{E}[X^2]$$\n",
    "\n",
    "We can also express the middle term as $2\\mathbb{E}[X^2]$ to get\n",
    "\n",
    "$$Var(X) = \\mathbb{E}[X^2]-  2\\mathbb{E}[X^2]+  \\mathbb{E}[X^2]$$\n",
    "\n",
    "$$Var(X) = \\mathbb{E}[X^2]-  \\mathbb{E}[X^2] -  \\mathbb{E}[X^2]+  \\mathbb{E}[X^2]$$\n",
    "\n",
    "$$Var(X) = \\mathbb{E}[X^2] -   \\mathbb{E}[X^2]$$"
   ]
  }
 ],
 "metadata": {
  "kernelspec": {
   "display_name": "Python 3",
   "language": "python",
   "name": "python3"
  },
  "language_info": {
   "codemirror_mode": {
    "name": "ipython",
    "version": 3
   },
   "file_extension": ".py",
   "mimetype": "text/x-python",
   "name": "python",
   "nbconvert_exporter": "python",
   "pygments_lexer": "ipython3",
   "version": "3.6.2"
  }
 },
 "nbformat": 4,
 "nbformat_minor": 2
}
