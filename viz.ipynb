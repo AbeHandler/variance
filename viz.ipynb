{
 "cells": [
  {
   "cell_type": "markdown",
   "metadata": {},
   "source": [
    "### Visual intuition for the other definition of variance\n",
    "\n",
    "\n",
    "I always think of the [variance](https://en.wikipedia.org/wiki/Variance) of some random variable $X$ as $X$'s expected deviation from its mean, $\\mu$. That is, I think of the variance as: $Var(X) =\\mathbb{E}[(X - \\mu)^2]$. Because $\\mu$ is the expected value or average of $X$ you can also express the variance as:\n",
    "\n",
    "$$Var(X)= \\mathbb{E}[(X - \\mathbb{E}[X])^2]$$\n",
    "\n",
    "where $\\mu = \\mathbb{E}[X]$. \n",
    "\n",
    "On Wikipedia and in textbooks the variance is also sometimes defined as:\n",
    "\n",
    "$$Var(X) =\\mathbb{E}[X^2] - \\mathbb{E}[X]^2$$\n",
    "\n",
    "which is expected value of $X$ squared, minus the expected square of $X$. I never find this second definition intuitive. This is a visual demonstration of $Var(X) =\\mathbb{E}[X^2] - \\mathbb{E}[X]^2$. (If you are curious about the algebra, I also plow through the derivation at the end of the post)."
   ]
  },
  {
   "cell_type": "markdown",
   "metadata": {},
   "source": [
    "### Get some data\n",
    "\n",
    "Let's start by drawing some data from a 1 dimensional normal with some mean and some standard deviation. I'll make a histogram to visualize the data. I'll also plot the actual data as blue dots along the x axis."
   ]
  },
  {
   "cell_type": "code",
   "execution_count": 1,
   "metadata": {},
   "outputs": [
    {
     "data": {
      "application/vnd.vegalite.v2+json": {
       "$schema": "https://vega.github.io/schema/vega-lite/v2.6.0.json",
       "config": {
        "view": {
         "height": 300,
         "width": 400
        }
       },
       "layer": [
        {
         "data": {
          "values": [
           {
            "x": -3,
            "y": 3
           },
           {
            "x": -2,
            "y": 8
           },
           {
            "x": -1,
            "y": 16
           },
           {
            "x": 0,
            "y": 39
           },
           {
            "x": 1,
            "y": 60
           },
           {
            "x": 2,
            "y": 62
           },
           {
            "x": 3,
            "y": 50
           },
           {
            "x": 4,
            "y": 32
           },
           {
            "x": 5,
            "y": 14
           },
           {
            "x": 6,
            "y": 10
           },
           {
            "x": 7,
            "y": 3
           },
           {
            "x": 8,
            "y": 0
           },
           {
            "x": 9,
            "y": 0
           }
          ]
         },
         "encoding": {
          "x": {
           "field": "x",
           "type": "quantitative"
          },
          "y": {
           "field": "y",
           "type": "quantitative"
          }
         },
         "mark": {
          "opacity": 0.2,
          "size": 10,
          "type": "bar"
         }
        },
        {
         "data": {
          "values": [
           {
            "x": 1.0323756787022422,
            "y": 0
           },
           {
            "x": 0.8354039896005354,
            "y": 0
           },
           {
            "x": 5.501086968401772,
            "y": 0
           },
           {
            "x": 1.8427929733970272,
            "y": 0
           },
           {
            "x": 2.84435852250431,
            "y": 0
           },
           {
            "x": 1.3515980084714456,
            "y": 0
           },
           {
            "x": 2.839484800408642,
            "y": 0
           },
           {
            "x": -0.08538309332219551,
            "y": 0
           },
           {
            "x": 4.306931739822586,
            "y": 0
           },
           {
            "x": 0.5572853264124391,
            "y": 0
           },
           {
            "x": 5.597439130187254,
            "y": 0
           },
           {
            "x": 1.6635630869199125,
            "y": 0
           },
           {
            "x": 1.6784646926890703,
            "y": 0
           },
           {
            "x": 0.07735947400749321,
            "y": 0
           },
           {
            "x": 2.424696157900438,
            "y": 0
           },
           {
            "x": 6.187414439506261,
            "y": 0
           },
           {
            "x": 2.235976507974666,
            "y": 0
           },
           {
            "x": 4.284348962572987,
            "y": 0
           },
           {
            "x": 1.608904501038111,
            "y": 0
           },
           {
            "x": 0.4786333862467469,
            "y": 0
           },
           {
            "x": 4.140429817260685,
            "y": 0
           },
           {
            "x": 1.5799848241010794,
            "y": 0
           },
           {
            "x": 1.0171341607376145,
            "y": 0
           },
           {
            "x": 3.7819392297852534,
            "y": 0
           },
           {
            "x": 4.1711720526297595,
            "y": 0
           },
           {
            "x": 3.540083864805946,
            "y": 0
           },
           {
            "x": 3.2859376897095722,
            "y": 0
           },
           {
            "x": -1.448975002127721,
            "y": 0
           },
           {
            "x": 5.474813178268483,
            "y": 0
           },
           {
            "x": 1.8481416519360723,
            "y": 0
           },
           {
            "x": 2.086438682448386,
            "y": 0
           },
           {
            "x": 4.215479728011749,
            "y": 0
           },
           {
            "x": 2.5464192906282217,
            "y": 0
           },
           {
            "x": 4.094046326404587,
            "y": 0
           },
           {
            "x": 3.28415176053376,
            "y": 0
           },
           {
            "x": 1.864007923871898,
            "y": 0
           },
           {
            "x": 3.7069213736419453,
            "y": 0
           },
           {
            "x": 0.30443314930133614,
            "y": 0
           },
           {
            "x": 1.5440583144519366,
            "y": 0
           },
           {
            "x": 0.47727085757300625,
            "y": 0
           },
           {
            "x": 4.891417484530369,
            "y": 0
           },
           {
            "x": 2.51331581222879,
            "y": 0
           },
           {
            "x": 5.778636633955188,
            "y": 0
           },
           {
            "x": 2.0145166343101044,
            "y": 0
           },
           {
            "x": -0.40498260439227396,
            "y": 0
           },
           {
            "x": -0.4772548530505256,
            "y": 0
           },
           {
            "x": 2.6723888696232816,
            "y": 0
           },
           {
            "x": 3.839934556127765,
            "y": 0
           },
           {
            "x": 3.1096774325969436,
            "y": 0
           },
           {
            "x": 1.563091731227707,
            "y": 0
           },
           {
            "x": 1.618287291176927,
            "y": 0
           },
           {
            "x": 0.9779371310872962,
            "y": 0
           },
           {
            "x": 2.1010975763298747,
            "y": 0
           },
           {
            "x": 4.031492972572683,
            "y": 0
           },
           {
            "x": -0.48163817656243246,
            "y": 0
           },
           {
            "x": 3.510635466704089,
            "y": 0
           },
           {
            "x": 2.5142834278581576,
            "y": 0
           },
           {
            "x": 2.2059301296946012,
            "y": 0
           },
           {
            "x": 0.15248044306138553,
            "y": 0
           },
           {
            "x": 2.2309872787718827,
            "y": 0
           },
           {
            "x": -1.8962353171434314,
            "y": 0
           },
           {
            "x": 0.26441972454096563,
            "y": 0
           },
           {
            "x": 0.9537206412975339,
            "y": 0
           },
           {
            "x": 2.9165782027526452,
            "y": 0
           },
           {
            "x": 1.145230888615756,
            "y": 0
           },
           {
            "x": 1.8890559618231295,
            "y": 0
           },
           {
            "x": 2.0811332542344743,
            "y": 0
           },
           {
            "x": 1.7483087540724218,
            "y": 0
           },
           {
            "x": 0.10480380384694366,
            "y": 0
           },
           {
            "x": 1.8821638650052444,
            "y": 0
           },
           {
            "x": 3.3362435738688285,
            "y": 0
           },
           {
            "x": 2.4983228957951136,
            "y": 0
           },
           {
            "x": 4.330880361129627,
            "y": 0
           },
           {
            "x": 4.304295864794375,
            "y": 0
           },
           {
            "x": 0.9055913630505303,
            "y": 0
           },
           {
            "x": 3.873707388086263,
            "y": 0
           },
           {
            "x": 5.076476939703948,
            "y": 0
           },
           {
            "x": 2.1660301166490075,
            "y": 0
           },
           {
            "x": 4.185070782052092,
            "y": 0
           },
           {
            "x": 3.9241825978300424,
            "y": 0
           },
           {
            "x": 4.255013136348975,
            "y": 0
           },
           {
            "x": 4.256870028414305,
            "y": 0
           },
           {
            "x": 3.0900452605218676,
            "y": 0
           },
           {
            "x": 5.32252400833082,
            "y": 0
           },
           {
            "x": 0.24391578665869273,
            "y": 0
           },
           {
            "x": 1.130716721876438,
            "y": 0
           },
           {
            "x": 1.4600703086487012,
            "y": 0
           },
           {
            "x": 4.6504725864534535,
            "y": 0
           },
           {
            "x": 3.3245952751811885,
            "y": 0
           },
           {
            "x": 0.20806186954430972,
            "y": 0
           },
           {
            "x": 6.169459224238772,
            "y": 0
           },
           {
            "x": 1.5653254140684114,
            "y": 0
           },
           {
            "x": -0.45835748676744137,
            "y": 0
           },
           {
            "x": 6.22280954651263,
            "y": 0
           },
           {
            "x": 6.514897085157576,
            "y": 0
           },
           {
            "x": 2.858766358206445,
            "y": 0
           },
           {
            "x": 3.2085630860570094,
            "y": 0
           },
           {
            "x": 1.6449213051506848,
            "y": 0
           },
           {
            "x": 2.561917167896689,
            "y": 0
           },
           {
            "x": 1.8639818993471056,
            "y": 0
           },
           {
            "x": 2.580506562704831,
            "y": 0
           },
           {
            "x": -1.2271221838691226,
            "y": 0
           },
           {
            "x": 0.9715195841961841,
            "y": 0
           },
           {
            "x": 3.212257967246785,
            "y": 0
           },
           {
            "x": 1.1664940048752694,
            "y": 0
           },
           {
            "x": 2.179786320764256,
            "y": 0
           },
           {
            "x": 2.2236623998712566,
            "y": 0
           },
           {
            "x": 7.080640923168826,
            "y": 0
           },
           {
            "x": 2.642861454442078,
            "y": 0
           },
           {
            "x": 7.574202675908728,
            "y": 0
           },
           {
            "x": 1.4135650493095933,
            "y": 0
           },
           {
            "x": 6.025836103008414,
            "y": 0
           },
           {
            "x": 2.923891097733491,
            "y": 0
           },
           {
            "x": 0.22068438306025406,
            "y": 0
           },
           {
            "x": 1.686918759534162,
            "y": 0
           },
           {
            "x": 1.7542346536408888,
            "y": 0
           },
           {
            "x": -0.9257810181551349,
            "y": 0
           },
           {
            "x": 2.9389966702959276,
            "y": 0
           },
           {
            "x": -3.2740589505112405,
            "y": 0
           },
           {
            "x": 4.187407867055754,
            "y": 0
           },
           {
            "x": 0.8323031563235541,
            "y": 0
           },
           {
            "x": 3.3023251395351645,
            "y": 0
           },
           {
            "x": -0.22758795161713108,
            "y": 0
           },
           {
            "x": -1.4290569157851238,
            "y": 0
           },
           {
            "x": 4.541669801666321,
            "y": 0
           },
           {
            "x": 4.404035775567748,
            "y": 0
           },
           {
            "x": 0.904461361150801,
            "y": 0
           },
           {
            "x": 3.830360431658237,
            "y": 0
           },
           {
            "x": 0.4167377088977462,
            "y": 0
           },
           {
            "x": 1.3983564285011758,
            "y": 0
           },
           {
            "x": 4.730445858386805,
            "y": 0
           },
           {
            "x": 6.167511209875933,
            "y": 0
           },
           {
            "x": 2.6903851496597193,
            "y": 0
           },
           {
            "x": -0.10546596492614002,
            "y": 0
           },
           {
            "x": 1.4263422347760881,
            "y": 0
           },
           {
            "x": 3.5102366324359413,
            "y": 0
           },
           {
            "x": 0.8712937291448519,
            "y": 0
           },
           {
            "x": 4.048966054582533,
            "y": 0
           },
           {
            "x": 0.7878440508966593,
            "y": 0
           },
           {
            "x": 3.4052324185843537,
            "y": 0
           },
           {
            "x": 2.449672884576901,
            "y": 0
           },
           {
            "x": 3.54879076554944,
            "y": 0
           },
           {
            "x": 3.5783501798940383,
            "y": 0
           },
           {
            "x": 6.465487026535432,
            "y": 0
           },
           {
            "x": 3.9592646959347024,
            "y": 0
           },
           {
            "x": 2.753361572585738,
            "y": 0
           },
           {
            "x": 4.982984338005819,
            "y": 0
           },
           {
            "x": 1.6501548858410866,
            "y": 0
           },
           {
            "x": 7.720081722471051,
            "y": 0
           },
           {
            "x": 2.235478051096992,
            "y": 0
           },
           {
            "x": 4.410968356573738,
            "y": 0
           },
           {
            "x": -3.1677118558313486,
            "y": 0
           },
           {
            "x": 1.6737445446338932,
            "y": 0
           },
           {
            "x": -0.5385088870296011,
            "y": 0
           },
           {
            "x": 2.9137762919490466,
            "y": 0
           },
           {
            "x": 5.702538059306933,
            "y": 0
           },
           {
            "x": 1.8085947220900236,
            "y": 0
           },
           {
            "x": 3.9186896636376987,
            "y": 0
           },
           {
            "x": 3.6325049990973524,
            "y": 0
           },
           {
            "x": 1.8344384124134243,
            "y": 0
           },
           {
            "x": 4.794607463084045,
            "y": 0
           },
           {
            "x": 2.4113330284824612,
            "y": 0
           },
           {
            "x": 2.4871706153629742,
            "y": 0
           },
           {
            "x": 1.1019138961598365,
            "y": 0
           },
           {
            "x": 3.4524053878579615,
            "y": 0
           },
           {
            "x": 1.4105822701246526,
            "y": 0
           },
           {
            "x": -1.6344517419873155,
            "y": 0
           },
           {
            "x": 1.3711589023375796,
            "y": 0
           },
           {
            "x": 0.4916159444628181,
            "y": 0
           },
           {
            "x": 0.09488234203053958,
            "y": 0
           },
           {
            "x": 2.9385384412977773,
            "y": 0
           },
           {
            "x": 4.894689027088205,
            "y": 0
           },
           {
            "x": -1.9339666994889964,
            "y": 0
           },
           {
            "x": 3.668448502971759,
            "y": 0
           },
           {
            "x": 4.415695332802262,
            "y": 0
           },
           {
            "x": 1.0861722391522277,
            "y": 0
           },
           {
            "x": 1.4586705058605198,
            "y": 0
           },
           {
            "x": 2.7062799120069587,
            "y": 0
           },
           {
            "x": 0.31856338676920704,
            "y": 0
           },
           {
            "x": 0.12375369381914325,
            "y": 0
           },
           {
            "x": 0.8944669440707687,
            "y": 0
           },
           {
            "x": 2.294039269254902,
            "y": 0
           },
           {
            "x": 0.09463670930243895,
            "y": 0
           },
           {
            "x": 3.347680900676692,
            "y": 0
           },
           {
            "x": 1.4138254303779667,
            "y": 0
           },
           {
            "x": 0.5881181043905972,
            "y": 0
           },
           {
            "x": 3.622154465604915,
            "y": 0
           },
           {
            "x": 3.9734181558436403,
            "y": 0
           },
           {
            "x": 0.1656036580993696,
            "y": 0
           },
           {
            "x": 2.7810191888361016,
            "y": 0
           },
           {
            "x": -2.5185896518998794,
            "y": 0
           },
           {
            "x": 1.78837829420136,
            "y": 0
           },
           {
            "x": 0.7913713014474857,
            "y": 0
           },
           {
            "x": 5.824988275023657,
            "y": 0
           },
           {
            "x": 0.6690110294629317,
            "y": 0
           },
           {
            "x": 2.1492366411431902,
            "y": 0
           },
           {
            "x": 1.7918840155574898,
            "y": 0
           },
           {
            "x": 2.3515973832181336,
            "y": 0
           },
           {
            "x": 3.8954239351564666,
            "y": 0
           },
           {
            "x": 1.601294661611925,
            "y": 0
           },
           {
            "x": 3.084925648872051,
            "y": 0
           },
           {
            "x": 0.6807366303692053,
            "y": 0
           },
           {
            "x": 5.826967922809947,
            "y": 0
           },
           {
            "x": 2.2991635399518606,
            "y": 0
           },
           {
            "x": 2.6686613845962133,
            "y": 0
           },
           {
            "x": -0.47263151709140905,
            "y": 0
           },
           {
            "x": 2.0664755250106475,
            "y": 0
           },
           {
            "x": 3.6211376302873752,
            "y": 0
           },
           {
            "x": 2.889142419694601,
            "y": 0
           },
           {
            "x": -1.6869239861481766,
            "y": 0
           },
           {
            "x": 5.659694397159304,
            "y": 0
           },
           {
            "x": 4.2353562589494285,
            "y": 0
           },
           {
            "x": 1.7087101001859715,
            "y": 0
           },
           {
            "x": 1.1367812634079877,
            "y": 0
           },
           {
            "x": 3.5758274513484873,
            "y": 0
           },
           {
            "x": -0.4558471754841569,
            "y": 0
           },
           {
            "x": 4.95615904538264,
            "y": 0
           },
           {
            "x": 0.5967880825526402,
            "y": 0
           },
           {
            "x": 4.258202609121273,
            "y": 0
           },
           {
            "x": 2.4709934868643133,
            "y": 0
           },
           {
            "x": 2.702923401485442,
            "y": 0
           },
           {
            "x": 1.8950782192182483,
            "y": 0
           },
           {
            "x": 2.0993201070179395,
            "y": 0
           },
           {
            "x": 4.864053029806765,
            "y": 0
           },
           {
            "x": -1.0445051956326394,
            "y": 0
           },
           {
            "x": -0.13966440137911418,
            "y": 0
           },
           {
            "x": 2.982149220709316,
            "y": 0
           },
           {
            "x": 2.910923421723292,
            "y": 0
           },
           {
            "x": 3.8521840782199233,
            "y": 0
           },
           {
            "x": 1.9915563977153337,
            "y": 0
           },
           {
            "x": -0.04647977091292921,
            "y": 0
           },
           {
            "x": 5.619533500007468,
            "y": 0
           },
           {
            "x": 0.5253131218793374,
            "y": 0
           },
           {
            "x": 2.417977240186528,
            "y": 0
           },
           {
            "x": 3.0310864503157893,
            "y": 0
           },
           {
            "x": 1.7844136640708848,
            "y": 0
           },
           {
            "x": 1.9703561621127443,
            "y": 0
           },
           {
            "x": 1.6270410341427186,
            "y": 0
           },
           {
            "x": 1.177184586173557,
            "y": 0
           },
           {
            "x": 3.3068823053855927,
            "y": 0
           },
           {
            "x": 6.627846433302709,
            "y": 0
           },
           {
            "x": 1.428319745158143,
            "y": 0
           },
           {
            "x": -0.5357681335496367,
            "y": 0
           },
           {
            "x": 1.7879392450883669,
            "y": 0
           },
           {
            "x": 2.8207086327988176,
            "y": 0
           },
           {
            "x": 3.6212122766223134,
            "y": 0
           },
           {
            "x": 4.166018795020087,
            "y": 0
           },
           {
            "x": 3.3703757088386648,
            "y": 0
           },
           {
            "x": 6.0423302658038365,
            "y": 0
           },
           {
            "x": -4.109438519832295,
            "y": 0
           },
           {
            "x": 0.1281226519524452,
            "y": 0
           },
           {
            "x": 1.9525494763077533,
            "y": 0
           },
           {
            "x": 1.1488657034137215,
            "y": 0
           },
           {
            "x": 4.322978390075248,
            "y": 0
           },
           {
            "x": 1.412750401190941,
            "y": 0
           },
           {
            "x": 4.028520117897923,
            "y": 0
           },
           {
            "x": 0.880921938802655,
            "y": 0
           },
           {
            "x": 3.9537927489830045,
            "y": 0
           },
           {
            "x": 2.2280251550345582,
            "y": 0
           },
           {
            "x": 5.378914692054603,
            "y": 0
           },
           {
            "x": 3.9438576725719905,
            "y": 0
           },
           {
            "x": 2.477655341993725,
            "y": 0
           },
           {
            "x": 3.5135159643798204,
            "y": 0
           },
           {
            "x": 1.5853857453792868,
            "y": 0
           },
           {
            "x": 4.690544619115406,
            "y": 0
           },
           {
            "x": 3.472858035345686,
            "y": 0
           },
           {
            "x": -2.5850239809040305,
            "y": 0
           },
           {
            "x": 1.731911079816295,
            "y": 0
           },
           {
            "x": 3.979129508548142,
            "y": 0
           },
           {
            "x": 1.9474102226898324,
            "y": 0
           },
           {
            "x": 2.1448762064357068,
            "y": 0
           },
           {
            "x": 1.553459445678795,
            "y": 0
           },
           {
            "x": 2.29355771769822,
            "y": 0
           },
           {
            "x": 1.2731105445638622,
            "y": 0
           },
           {
            "x": -0.2912089188681537,
            "y": 0
           },
           {
            "x": 3.3403219391888017,
            "y": 0
           },
           {
            "x": 0.7543348505822587,
            "y": 0
           },
           {
            "x": 6.074910860917229,
            "y": 0
           },
           {
            "x": 2.948705643012637,
            "y": 0
           },
           {
            "x": -2.4556692674726444,
            "y": 0
           },
           {
            "x": 2.61540387201625,
            "y": 0
           },
           {
            "x": 2.0079982960088865,
            "y": 0
           },
           {
            "x": 2.7247221649811193,
            "y": 0
           },
           {
            "x": 3.3078955892933513,
            "y": 0
           },
           {
            "x": 2.1756778869283098,
            "y": 0
           },
           {
            "x": -0.9414082027787694,
            "y": 0
           },
           {
            "x": 3.110023225015695,
            "y": 0
           },
           {
            "x": 1.0038404013031308,
            "y": 0
           },
           {
            "x": 5.006740323814091,
            "y": 0
           },
           {
            "x": 2.2641252593875993,
            "y": 0
           },
           {
            "x": 3.615312490731566,
            "y": 0
           },
           {
            "x": 5.212950752546728,
            "y": 0
           },
           {
            "x": 2.401501402320802,
            "y": 0
           },
           {
            "x": 3.3094093055582725,
            "y": 0
           },
           {
            "x": 2.281961695393038,
            "y": 0
           },
           {
            "x": 0.9674777474537952,
            "y": 0
           },
           {
            "x": 0.7404542564581615,
            "y": 0
           },
           {
            "x": 2.8070792313476813,
            "y": 0
           },
           {
            "x": 3.3661657350068936,
            "y": 0
           },
           {
            "x": 3.629494852238069,
            "y": 0
           }
          ]
         },
         "encoding": {
          "x": {
           "field": "x",
           "type": "quantitative"
          },
          "y": {
           "field": "y",
           "type": "quantitative"
          }
         },
         "mark": {
          "color": "darkblue",
          "opacity": 0.2,
          "size": 10,
          "type": "point"
         }
        }
       ]
      },
      "image/png": "[encoded data removed]",
      "text/plain": [
       "<VegaLite 2 object>\n",
       "\n",
       "If you see this message, it means the renderer has not been properly enabled\n",
       "for the frontend that you are using. For more information, see\n",
       "https://altair-viz.github.io/user_guide/troubleshooting.html\n"
      ]
     },
     "execution_count": 1,
     "metadata": {},
     "output_type": "execute_result"
    }
   ],
   "source": [
    "import numpy as np\n",
    "from helper import *\n",
    "\n",
    "\n",
    "%load_ext autoreload\n",
    "%autoreload 2\n",
    "\n",
    "\n",
    "mu, sigma = 2.5, 2 # mean and standard deviation\n",
    "N = 300\n",
    "nbins = 10\n",
    "\n",
    "s =  np.random.normal(mu, sigma, size=N)\n",
    "\n",
    "values, bins = np.histogram(s, bins=np.arange(-3, nbins + 1))\n",
    "\n",
    "histogram = make_bar_chart(size=10, opacity=.2, X=bins, Y=values)\n",
    "\n",
    "x_points = make_scatter_chart(size=10, opacity=.2, X=s, Y=np.zeros(len(s)))\n",
    "\n",
    "histogram + x_points"
   ]
  },
  {
   "cell_type": "markdown",
   "metadata": {},
   "source": [
    "Each little blue dot along the x-axis is some datapoint $x_i$. If we square each point, and display the original point $x_i$ along the x-axis and its square $x_i^2$ along the y-axis, we have a line of red dots along the curve of $X^2$. I show each $x_i$ with a little black line leading to the corresponding value of $x_i^2$."
   ]
  },
  {
   "cell_type": "code",
   "execution_count": 2,
   "metadata": {},
   "outputs": [
    {
     "data": {
      "application/vnd.vegalite.v2+json": {
       "$schema": "https://vega.github.io/schema/vega-lite/v2.6.0.json",
       "config": {
        "view": {
         "height": 300,
         "width": 400
        }
       },
       "layer": [
        {
         "data": {
          "values": [
           {
            "x": 1.0323756787022422,
            "y": 0
           },
           {
            "x": 1.0323756787022422,
            "y": 1.0657995419759152
           }
          ]
         },
         "encoding": {
          "x": {
           "field": "x",
           "type": "quantitative"
          },
          "y": {
           "field": "y",
           "type": "quantitative"
          }
         },
         "mark": {
          "color": "black",
          "opacity": 0.1,
          "type": "line"
         }
        },
        {
         "data": {
          "values": [
           {
            "x": 0.8354039896005354,
            "y": 0
           },
           {
            "x": 0.8354039896005354,
            "y": 0.6978998258404915
           }
          ]
         },
         "encoding": {
          "x": {
           "field": "x",
           "type": "quantitative"
          },
          "y": {
           "field": "y",
           "type": "quantitative"
          }
         },
         "mark": {
          "color": "black",
          "opacity": 0.1,
          "type": "line"
         }
        },
        {
         "data": {
          "values": [
           {
            "x": 5.501086968401772,
            "y": 0
           },
           {
            "x": 5.501086968401772,
            "y": 30.261957833919798
           }
          ]
         },
         "encoding": {
          "x": {
           "field": "x",
           "type": "quantitative"
          },
          "y": {
           "field": "y",
           "type": "quantitative"
          }
         },
         "mark": {
          "color": "black",
          "opacity": 0.1,
          "type": "line"
         }
        },
        {
         "data": {
          "values": [
           {
            "x": 1.8427929733970272,
            "y": 0
           },
           {
            "x": 1.8427929733970272,
            "y": 3.3958859428014567
           }
          ]
         },
         "encoding": {
          "x": {
           "field": "x",
           "type": "quantitative"
          },
          "y": {
           "field": "y",
           "type": "quantitative"
          }
         },
         "mark": {
          "color": "black",
          "opacity": 0.1,
          "type": "line"
         }
        },
        {
         "data": {
          "values": [
           {
            "x": 2.84435852250431,
            "y": 0
           },
           {
            "x": 2.84435852250431,
            "y": 8.090375404542902
           }
          ]
         },
         "encoding": {
          "x": {
           "field": "x",
           "type": "quantitative"
          },
          "y": {
           "field": "y",
           "type": "quantitative"
          }
         },
         "mark": {
          "color": "black",
          "opacity": 0.1,
          "type": "line"
         }
        },
        {
         "data": {
          "values": [
           {
            "x": 1.3515980084714456,
            "y": 0
           },
           {
            "x": 1.3515980084714456,
            "y": 1.826817176503978
           }
          ]
         },
         "encoding": {
          "x": {
           "field": "x",
           "type": "quantitative"
          },
          "y": {
           "field": "y",
           "type": "quantitative"
          }
         },
         "mark": {
          "color": "black",
          "opacity": 0.1,
          "type": "line"
         }
        },
        {
         "data": {
          "values": [
           {
            "x": 2.839484800408642,
            "y": 0
           },
           {
            "x": 2.839484800408642,
            "y": 8.062673931751707
           }
          ]
         },
         "encoding": {
          "x": {
           "field": "x",
           "type": "quantitative"
          },
          "y": {
           "field": "y",
           "type": "quantitative"
          }
         },
         "mark": {
          "color": "black",
          "opacity": 0.1,
          "type": "line"
         }
        },
        {
         "data": {
          "values": [
           {
            "x": -0.08538309332219551,
            "y": 0
           },
           {
            "x": -0.08538309332219551,
            "y": 0.0072902726252667485
           }
          ]
         },
         "encoding": {
          "x": {
           "field": "x",
           "type": "quantitative"
          },
          "y": {
           "field": "y",
           "type": "quantitative"
          }
         },
         "mark": {
          "color": "black",
          "opacity": 0.1,
          "type": "line"
         }
        },
        {
         "data": {
          "values": [
           {
            "x": 4.306931739822586,
            "y": 0
           },
           {
            "x": 4.306931739822586,
            "y": 18.549661011491207
           }
          ]
         },
         "encoding": {
          "x": {
           "field": "x",
           "type": "quantitative"
          },
          "y": {
           "field": "y",
           "type": "quantitative"
          }
         },
         "mark": {
          "color": "black",
          "opacity": 0.1,
          "type": "line"
         }
        },
        {
         "data": {
          "values": [
           {
            "x": 0.5572853264124391,
            "y": 0
           },
           {
            "x": 0.5572853264124391,
            "y": 0.3105669350346188
           }
          ]
         },
         "encoding": {
          "x": {
           "field": "x",
           "type": "quantitative"
          },
          "y": {
           "field": "y",
           "type": "quantitative"
          }
         },
         "mark": {
          "color": "black",
          "opacity": 0.1,
          "type": "line"
         }
        },
        {
         "data": {
          "values": [
           {
            "x": 5.597439130187254,
            "y": 0
           },
           {
            "x": 5.597439130187254,
            "y": 31.331324816151447
           }
          ]
         },
         "encoding": {
          "x": {
           "field": "x",
           "type": "quantitative"
          },
          "y": {
           "field": "y",
           "type": "quantitative"
          }
         },
         "mark": {
          "color": "black",
          "opacity": 0.1,
          "type": "line"
         }
        },
        {
         "data": {
          "values": [
           {
            "x": 1.6635630869199125,
            "y": 0
           },
           {
            "x": 1.6635630869199125,
            "y": 2.7674421441625086
           }
          ]
         },
         "encoding": {
          "x": {
           "field": "x",
           "type": "quantitative"
          },
          "y": {
           "field": "y",
           "type": "quantitative"
          }
         },
         "mark": {
          "color": "black",
          "opacity": 0.1,
          "type": "line"
         }
        },
        {
         "data": {
          "values": [
           {
            "x": 1.6784646926890703,
            "y": 0
           },
           {
            "x": 1.6784646926890703,
            "y": 2.817243724603815
           }
          ]
         },
         "encoding": {
          "x": {
           "field": "x",
           "type": "quantitative"
          },
          "y": {
           "field": "y",
           "type": "quantitative"
          }
         },
         "mark": {
          "color": "black",
          "opacity": 0.1,
          "type": "line"
         }
        },
        {
         "data": {
          "values": [
           {
            "x": 0.07735947400749321,
            "y": 0
           },
           {
            "x": 0.07735947400749321,
            "y": 0.005984488218716018
           }
          ]
         },
         "encoding": {
          "x": {
           "field": "x",
           "type": "quantitative"
          },
          "y": {
           "field": "y",
           "type": "quantitative"
          }
         },
         "mark": {
          "color": "black",
          "opacity": 0.1,
          "type": "line"
         }
        },
        {
         "data": {
          "values": [
           {
            "x": 2.424696157900438,
            "y": 0
           },
           {
            "x": 2.424696157900438,
            "y": 5.879151458137146
           }
          ]
         },
         "encoding": {
          "x": {
           "field": "x",
           "type": "quantitative"
          },
          "y": {
           "field": "y",
           "type": "quantitative"
          }
         },
         "mark": {
          "color": "black",
          "opacity": 0.1,
          "type": "line"
         }
        },
        {
         "data": {
          "values": [
           {
            "x": 6.187414439506261,
            "y": 0
           },
           {
            "x": 6.187414439506261,
            "y": 38.28409744621058
           }
          ]
         },
         "encoding": {
          "x": {
           "field": "x",
           "type": "quantitative"
          },
          "y": {
           "field": "y",
           "type": "quantitative"
          }
         },
         "mark": {
          "color": "black",
          "opacity": 0.1,
          "type": "line"
         }
        },
        {
         "data": {
          "values": [
           {
            "x": 2.235976507974666,
            "y": 0
           },
           {
            "x": 2.235976507974666,
            "y": 4.999590944214581
           }
          ]
         },
         "encoding": {
          "x": {
           "field": "x",
           "type": "quantitative"
          },
          "y": {
           "field": "y",
           "type": "quantitative"
          }
         },
         "mark": {
          "color": "black",
          "opacity": 0.1,
          "type": "line"
         }
        },
        {
         "data": {
          "values": [
           {
            "x": 4.284348962572987,
            "y": 0
           },
           {
            "x": 4.284348962572987,
            "y": 18.355646033100232
           }
          ]
         },
         "encoding": {
          "x": {
           "field": "x",
           "type": "quantitative"
          },
          "y": {
           "field": "y",
           "type": "quantitative"
          }
         },
         "mark": {
          "color": "black",
          "opacity": 0.1,
          "type": "line"
         }
        },
        {
         "data": {
          "values": [
           {
            "x": 1.608904501038111,
            "y": 0
           },
           {
            "x": 1.608904501038111,
            "y": 2.5885736934606927
           }
          ]
         },
         "encoding": {
          "x": {
           "field": "x",
           "type": "quantitative"
          },
          "y": {
           "field": "y",
           "type": "quantitative"
          }
         },
         "mark": {
          "color": "black",
          "opacity": 0.1,
          "type": "line"
         }
        },
        {
         "data": {
          "values": [
           {
            "x": 0.4786333862467469,
            "y": 0
           },
           {
            "x": 0.4786333862467469,
            "y": 0.2290899184300276
           }
          ]
         },
         "encoding": {
          "x": {
           "field": "x",
           "type": "quantitative"
          },
          "y": {
           "field": "y",
           "type": "quantitative"
          }
         },
         "mark": {
          "color": "black",
          "opacity": 0.1,
          "type": "line"
         }
        },
        {
         "data": {
          "values": [
           {
            "x": 4.140429817260685,
            "y": 0
           },
           {
            "x": 4.140429817260685,
            "y": 17.14315907166135
           }
          ]
         },
         "encoding": {
          "x": {
           "field": "x",
           "type": "quantitative"
          },
          "y": {
           "field": "y",
           "type": "quantitative"
          }
         },
         "mark": {
          "color": "black",
          "opacity": 0.1,
          "type": "line"
         }
        },
        {
         "data": {
          "values": [
           {
            "x": 1.5799848241010794,
            "y": 0
           },
           {
            "x": 1.5799848241010794,
            "y": 2.496352044389719
           }
          ]
         },
         "encoding": {
          "x": {
           "field": "x",
           "type": "quantitative"
          },
          "y": {
           "field": "y",
           "type": "quantitative"
          }
         },
         "mark": {
          "color": "black",
          "opacity": 0.1,
          "type": "line"
         }
        },
        {
         "data": {
          "values": [
           {
            "x": 1.0171341607376145,
            "y": 0
           },
           {
            "x": 1.0171341607376145,
            "y": 1.0345619009394116
           }
          ]
         },
         "encoding": {
          "x": {
           "field": "x",
           "type": "quantitative"
          },
          "y": {
           "field": "y",
           "type": "quantitative"
          }
         },
         "mark": {
          "color": "black",
          "opacity": 0.1,
          "type": "line"
         }
        },
        {
         "data": {
          "values": [
           {
            "x": 3.7819392297852534,
            "y": 0
           },
           {
            "x": 3.7819392297852534,
            "y": 14.303064337788676
           }
          ]
         },
         "encoding": {
          "x": {
           "field": "x",
           "type": "quantitative"
          },
          "y": {
           "field": "y",
           "type": "quantitative"
          }
         },
         "mark": {
          "color": "black",
          "opacity": 0.1,
          "type": "line"
         }
        },
        {
         "data": {
          "values": [
           {
            "x": 4.1711720526297595,
            "y": 0
           },
           {
            "x": 4.1711720526297595,
            "y": 17.39867629263956
           }
          ]
         },
         "encoding": {
          "x": {
           "field": "x",
           "type": "quantitative"
          },
          "y": {
           "field": "y",
           "type": "quantitative"
          }
         },
         "mark": {
          "color": "black",
          "opacity": 0.1,
          "type": "line"
         }
        },
        {
         "data": {
          "values": [
           {
            "x": 3.540083864805946,
            "y": 0
           },
           {
            "x": 3.540083864805946,
            "y": 12.532193769859404
           }
          ]
         },
         "encoding": {
          "x": {
           "field": "x",
           "type": "quantitative"
          },
          "y": {
           "field": "y",
           "type": "quantitative"
          }
         },
         "mark": {
          "color": "black",
          "opacity": 0.1,
          "type": "line"
         }
        },
        {
         "data": {
          "values": [
           {
            "x": 3.2859376897095722,
            "y": 0
           },
           {
            "x": 3.2859376897095722,
            "y": 10.79738650065388
           }
          ]
         },
         "encoding": {
          "x": {
           "field": "x",
           "type": "quantitative"
          },
          "y": {
           "field": "y",
           "type": "quantitative"
          }
         },
         "mark": {
          "color": "black",
          "opacity": 0.1,
          "type": "line"
         }
        },
        {
         "data": {
          "values": [
           {
            "x": -1.448975002127721,
            "y": 0
           },
           {
            "x": -1.448975002127721,
            "y": 2.099528556791029
           }
          ]
         },
         "encoding": {
          "x": {
           "field": "x",
           "type": "quantitative"
          },
          "y": {
           "field": "y",
           "type": "quantitative"
          }
         },
         "mark": {
          "color": "black",
          "opacity": 0.1,
          "type": "line"
         }
        },
        {
         "data": {
          "values": [
           {
            "x": 5.474813178268483,
            "y": 0
           },
           {
            "x": 5.474813178268483,
            "y": 29.973579336942247
           }
          ]
         },
         "encoding": {
          "x": {
           "field": "x",
           "type": "quantitative"
          },
          "y": {
           "field": "y",
           "type": "quantitative"
          }
         },
         "mark": {
          "color": "black",
          "opacity": 0.1,
          "type": "line"
         }
        },
        {
         "data": {
          "values": [
           {
            "x": 1.8481416519360723,
            "y": 0
           },
           {
            "x": 1.8481416519360723,
            "y": 3.4156275656209942
           }
          ]
         },
         "encoding": {
          "x": {
           "field": "x",
           "type": "quantitative"
          },
          "y": {
           "field": "y",
           "type": "quantitative"
          }
         },
         "mark": {
          "color": "black",
          "opacity": 0.1,
          "type": "line"
         }
        },
        {
         "data": {
          "values": [
           {
            "x": 2.086438682448386,
            "y": 0
           },
           {
            "x": 2.086438682448386,
            "y": 4.353226375616957
           }
          ]
         },
         "encoding": {
          "x": {
           "field": "x",
           "type": "quantitative"
          },
          "y": {
           "field": "y",
           "type": "quantitative"
          }
         },
         "mark": {
          "color": "black",
          "opacity": 0.1,
          "type": "line"
         }
        },
        {
         "data": {
          "values": [
           {
            "x": 4.215479728011749,
            "y": 0
           },
           {
            "x": 4.215479728011749,
            "y": 17.77026933727801
           }
          ]
         },
         "encoding": {
          "x": {
           "field": "x",
           "type": "quantitative"
          },
          "y": {
           "field": "y",
           "type": "quantitative"
          }
         },
         "mark": {
          "color": "black",
          "opacity": 0.1,
          "type": "line"
         }
        },
        {
         "data": {
          "values": [
           {
            "x": 2.5464192906282217,
            "y": 0
           },
           {
            "x": 2.5464192906282217,
            "y": 6.484251203683536
           }
          ]
         },
         "encoding": {
          "x": {
           "field": "x",
           "type": "quantitative"
          },
          "y": {
           "field": "y",
           "type": "quantitative"
          }
         },
         "mark": {
          "color": "black",
          "opacity": 0.1,
          "type": "line"
         }
        },
        {
         "data": {
          "values": [
           {
            "x": 4.094046326404587,
            "y": 0
           },
           {
            "x": 4.094046326404587,
            "y": 16.7612153227469
           }
          ]
         },
         "encoding": {
          "x": {
           "field": "x",
           "type": "quantitative"
          },
          "y": {
           "field": "y",
           "type": "quantitative"
          }
         },
         "mark": {
          "color": "black",
          "opacity": 0.1,
          "type": "line"
         }
        },
        {
         "data": {
          "values": [
           {
            "x": 3.28415176053376,
            "y": 0
           },
           {
            "x": 3.28415176053376,
            "y": 10.785652786216996
           }
          ]
         },
         "encoding": {
          "x": {
           "field": "x",
           "type": "quantitative"
          },
          "y": {
           "field": "y",
           "type": "quantitative"
          }
         },
         "mark": {
          "color": "black",
          "opacity": 0.1,
          "type": "line"
         }
        },
        {
         "data": {
          "values": [
           {
            "x": 1.864007923871898,
            "y": 0
           },
           {
            "x": 1.864007923871898,
            "y": 3.4745255402572237
           }
          ]
         },
         "encoding": {
          "x": {
           "field": "x",
           "type": "quantitative"
          },
          "y": {
           "field": "y",
           "type": "quantitative"
          }
         },
         "mark": {
          "color": "black",
          "opacity": 0.1,
          "type": "line"
         }
        },
        {
         "data": {
          "values": [
           {
            "x": 3.7069213736419453,
            "y": 0
           },
           {
            "x": 3.7069213736419453,
            "y": 13.741266070363487
           }
          ]
         },
         "encoding": {
          "x": {
           "field": "x",
           "type": "quantitative"
          },
          "y": {
           "field": "y",
           "type": "quantitative"
          }
         },
         "mark": {
          "color": "black",
          "opacity": 0.1,
          "type": "line"
         }
        },
        {
         "data": {
          "values": [
           {
            "x": 0.30443314930133614,
            "y": 0
           },
           {
            "x": 0.30443314930133614,
            "y": 0.09267954239352962
           }
          ]
         },
         "encoding": {
          "x": {
           "field": "x",
           "type": "quantitative"
          },
          "y": {
           "field": "y",
           "type": "quantitative"
          }
         },
         "mark": {
          "color": "black",
          "opacity": 0.1,
          "type": "line"
         }
        },
        {
         "data": {
          "values": [
           {
            "x": 1.5440583144519366,
            "y": 0
           },
           {
            "x": 1.5440583144519366,
            "y": 2.3841160784281556
           }
          ]
         },
         "encoding": {
          "x": {
           "field": "x",
           "type": "quantitative"
          },
          "y": {
           "field": "y",
           "type": "quantitative"
          }
         },
         "mark": {
          "color": "black",
          "opacity": 0.1,
          "type": "line"
         }
        },
        {
         "data": {
          "values": [
           {
            "x": 0.47727085757300625,
            "y": 0
           },
           {
            "x": 0.47727085757300625,
            "y": 0.2277874714884728
           }
          ]
         },
         "encoding": {
          "x": {
           "field": "x",
           "type": "quantitative"
          },
          "y": {
           "field": "y",
           "type": "quantitative"
          }
         },
         "mark": {
          "color": "black",
          "opacity": 0.1,
          "type": "line"
         }
        },
        {
         "data": {
          "values": [
           {
            "x": 4.891417484530369,
            "y": 0
           },
           {
            "x": 4.891417484530369,
            "y": 23.925965007969406
           }
          ]
         },
         "encoding": {
          "x": {
           "field": "x",
           "type": "quantitative"
          },
          "y": {
           "field": "y",
           "type": "quantitative"
          }
         },
         "mark": {
          "color": "black",
          "opacity": 0.1,
          "type": "line"
         }
        },
        {
         "data": {
          "values": [
           {
            "x": 2.51331581222879,
            "y": 0
           },
           {
            "x": 2.51331581222879,
            "y": 6.316756371999262
           }
          ]
         },
         "encoding": {
          "x": {
           "field": "x",
           "type": "quantitative"
          },
          "y": {
           "field": "y",
           "type": "quantitative"
          }
         },
         "mark": {
          "color": "black",
          "opacity": 0.1,
          "type": "line"
         }
        },
        {
         "data": {
          "values": [
           {
            "x": 5.778636633955188,
            "y": 0
           },
           {
            "x": 5.778636633955188,
            "y": 33.392641347288944
           }
          ]
         },
         "encoding": {
          "x": {
           "field": "x",
           "type": "quantitative"
          },
          "y": {
           "field": "y",
           "type": "quantitative"
          }
         },
         "mark": {
          "color": "black",
          "opacity": 0.1,
          "type": "line"
         }
        },
        {
         "data": {
          "values": [
           {
            "x": 2.0145166343101044,
            "y": 0
           },
           {
            "x": 2.0145166343101044,
            "y": 4.058277269912111
           }
          ]
         },
         "encoding": {
          "x": {
           "field": "x",
           "type": "quantitative"
          },
          "y": {
           "field": "y",
           "type": "quantitative"
          }
         },
         "mark": {
          "color": "black",
          "opacity": 0.1,
          "type": "line"
         }
        },
        {
         "data": {
          "values": [
           {
            "x": -0.40498260439227396,
            "y": 0
           },
           {
            "x": -0.40498260439227396,
            "y": 0.16401090986034908
           }
          ]
         },
         "encoding": {
          "x": {
           "field": "x",
           "type": "quantitative"
          },
          "y": {
           "field": "y",
           "type": "quantitative"
          }
         },
         "mark": {
          "color": "black",
          "opacity": 0.1,
          "type": "line"
         }
        },
        {
         "data": {
          "values": [
           {
            "x": -0.4772548530505256,
            "y": 0
           },
           {
            "x": -0.4772548530505256,
            "y": 0.2277721947602788
           }
          ]
         },
         "encoding": {
          "x": {
           "field": "x",
           "type": "quantitative"
          },
          "y": {
           "field": "y",
           "type": "quantitative"
          }
         },
         "mark": {
          "color": "black",
          "opacity": 0.1,
          "type": "line"
         }
        },
        {
         "data": {
          "values": [
           {
            "x": 2.6723888696232816,
            "y": 0
           },
           {
            "x": 2.6723888696232816,
            "y": 7.141662270486401
           }
          ]
         },
         "encoding": {
          "x": {
           "field": "x",
           "type": "quantitative"
          },
          "y": {
           "field": "y",
           "type": "quantitative"
          }
         },
         "mark": {
          "color": "black",
          "opacity": 0.1,
          "type": "line"
         }
        },
        {
         "data": {
          "values": [
           {
            "x": 3.839934556127765,
            "y": 0
           },
           {
            "x": 3.839934556127765,
            "y": 14.745097395344137
           }
          ]
         },
         "encoding": {
          "x": {
           "field": "x",
           "type": "quantitative"
          },
          "y": {
           "field": "y",
           "type": "quantitative"
          }
         },
         "mark": {
          "color": "black",
          "opacity": 0.1,
          "type": "line"
         }
        },
        {
         "data": {
          "values": [
           {
            "x": 3.1096774325969436,
            "y": 0
           },
           {
            "x": 3.1096774325969436,
            "y": 9.67009373480272
           }
          ]
         },
         "encoding": {
          "x": {
           "field": "x",
           "type": "quantitative"
          },
          "y": {
           "field": "y",
           "type": "quantitative"
          }
         },
         "mark": {
          "color": "black",
          "opacity": 0.1,
          "type": "line"
         }
        },
        {
         "data": {
          "values": [
           {
            "x": 1.563091731227707,
            "y": 0
           },
           {
            "x": 1.563091731227707,
            "y": 2.4432557602324305
           }
          ]
         },
         "encoding": {
          "x": {
           "field": "x",
           "type": "quantitative"
          },
          "y": {
           "field": "y",
           "type": "quantitative"
          }
         },
         "mark": {
          "color": "black",
          "opacity": 0.1,
          "type": "line"
         }
        },
        {
         "data": {
          "values": [
           {
            "x": 1.618287291176927,
            "y": 0
           },
           {
            "x": 1.618287291176927,
            "y": 2.6188537567847563
           }
          ]
         },
         "encoding": {
          "x": {
           "field": "x",
           "type": "quantitative"
          },
          "y": {
           "field": "y",
           "type": "quantitative"
          }
         },
         "mark": {
          "color": "black",
          "opacity": 0.1,
          "type": "line"
         }
        },
        {
         "data": {
          "values": [
           {
            "x": 0.9779371310872962,
            "y": 0
           },
           {
            "x": 0.9779371310872962,
            "y": 0.9563610323592515
           }
          ]
         },
         "encoding": {
          "x": {
           "field": "x",
           "type": "quantitative"
          },
          "y": {
           "field": "y",
           "type": "quantitative"
          }
         },
         "mark": {
          "color": "black",
          "opacity": 0.1,
          "type": "line"
         }
        },
        {
         "data": {
          "values": [
           {
            "x": 2.1010975763298747,
            "y": 0
           },
           {
            "x": 2.1010975763298747,
            "y": 4.414611025259274
           }
          ]
         },
         "encoding": {
          "x": {
           "field": "x",
           "type": "quantitative"
          },
          "y": {
           "field": "y",
           "type": "quantitative"
          }
         },
         "mark": {
          "color": "black",
          "opacity": 0.1,
          "type": "line"
         }
        },
        {
         "data": {
          "values": [
           {
            "x": 4.031492972572683,
            "y": 0
           },
           {
            "x": 4.031492972572683,
            "y": 16.252935587902925
           }
          ]
         },
         "encoding": {
          "x": {
           "field": "x",
           "type": "quantitative"
          },
          "y": {
           "field": "y",
           "type": "quantitative"
          }
         },
         "mark": {
          "color": "black",
          "opacity": 0.1,
          "type": "line"
         }
        },
        {
         "data": {
          "values": [
           {
            "x": -0.48163817656243246,
            "y": 0
           },
           {
            "x": -0.48163817656243246,
            "y": 0.23197533312238486
           }
          ]
         },
         "encoding": {
          "x": {
           "field": "x",
           "type": "quantitative"
          },
          "y": {
           "field": "y",
           "type": "quantitative"
          }
         },
         "mark": {
          "color": "black",
          "opacity": 0.1,
          "type": "line"
         }
        },
        {
         "data": {
          "values": [
           {
            "x": 3.510635466704089,
            "y": 0
           },
           {
            "x": 3.510635466704089,
            "y": 12.324561380080636
           }
          ]
         },
         "encoding": {
          "x": {
           "field": "x",
           "type": "quantitative"
          },
          "y": {
           "field": "y",
           "type": "quantitative"
          }
         },
         "mark": {
          "color": "black",
          "opacity": 0.1,
          "type": "line"
         }
        },
        {
         "data": {
          "values": [
           {
            "x": 2.5142834278581576,
            "y": 0
           },
           {
            "x": 2.5142834278581576,
            "y": 6.321621155602167
           }
          ]
         },
         "encoding": {
          "x": {
           "field": "x",
           "type": "quantitative"
          },
          "y": {
           "field": "y",
           "type": "quantitative"
          }
         },
         "mark": {
          "color": "black",
          "opacity": 0.1,
          "type": "line"
         }
        },
        {
         "data": {
          "values": [
           {
            "x": 2.2059301296946012,
            "y": 0
           },
           {
            "x": 2.2059301296946012,
            "y": 4.86612773709444
           }
          ]
         },
         "encoding": {
          "x": {
           "field": "x",
           "type": "quantitative"
          },
          "y": {
           "field": "y",
           "type": "quantitative"
          }
         },
         "mark": {
          "color": "black",
          "opacity": 0.1,
          "type": "line"
         }
        },
        {
         "data": {
          "values": [
           {
            "x": 0.15248044306138553,
            "y": 0
           },
           {
            "x": 0.15248044306138553,
            "y": 0.023250285516196435
           }
          ]
         },
         "encoding": {
          "x": {
           "field": "x",
           "type": "quantitative"
          },
          "y": {
           "field": "y",
           "type": "quantitative"
          }
         },
         "mark": {
          "color": "black",
          "opacity": 0.1,
          "type": "line"
         }
        },
        {
         "data": {
          "values": [
           {
            "x": 2.2309872787718827,
            "y": 0
           },
           {
            "x": 2.2309872787718827,
            "y": 4.97730423804197
           }
          ]
         },
         "encoding": {
          "x": {
           "field": "x",
           "type": "quantitative"
          },
          "y": {
           "field": "y",
           "type": "quantitative"
          }
         },
         "mark": {
          "color": "black",
          "opacity": 0.1,
          "type": "line"
         }
        },
        {
         "data": {
          "values": [
           {
            "x": -1.8962353171434314,
            "y": 0
           },
           {
            "x": -1.8962353171434314,
            "y": 3.59570837798205
           }
          ]
         },
         "encoding": {
          "x": {
           "field": "x",
           "type": "quantitative"
          },
          "y": {
           "field": "y",
           "type": "quantitative"
          }
         },
         "mark": {
          "color": "black",
          "opacity": 0.1,
          "type": "line"
         }
        },
        {
         "data": {
          "values": [
           {
            "x": 0.26441972454096563,
            "y": 0
           },
           {
            "x": 0.26441972454096563,
            "y": 0.06991779072632014
           }
          ]
         },
         "encoding": {
          "x": {
           "field": "x",
           "type": "quantitative"
          },
          "y": {
           "field": "y",
           "type": "quantitative"
          }
         },
         "mark": {
          "color": "black",
          "opacity": 0.1,
          "type": "line"
         }
        },
        {
         "data": {
          "values": [
           {
            "x": 0.9537206412975339,
            "y": 0
           },
           {
            "x": 0.9537206412975339,
            "y": 0.9095830616369792
           }
          ]
         },
         "encoding": {
          "x": {
           "field": "x",
           "type": "quantitative"
          },
          "y": {
           "field": "y",
           "type": "quantitative"
          }
         },
         "mark": {
          "color": "black",
          "opacity": 0.1,
          "type": "line"
         }
        },
        {
         "data": {
          "values": [
           {
            "x": 2.9165782027526452,
            "y": 0
           },
           {
            "x": 2.9165782027526452,
            "y": 8.50642841277185
           }
          ]
         },
         "encoding": {
          "x": {
           "field": "x",
           "type": "quantitative"
          },
          "y": {
           "field": "y",
           "type": "quantitative"
          }
         },
         "mark": {
          "color": "black",
          "opacity": 0.1,
          "type": "line"
         }
        },
        {
         "data": {
          "values": [
           {
            "x": 1.145230888615756,
            "y": 0
           },
           {
            "x": 1.145230888615756,
            "y": 1.3115537882396342
           }
          ]
         },
         "encoding": {
          "x": {
           "field": "x",
           "type": "quantitative"
          },
          "y": {
           "field": "y",
           "type": "quantitative"
          }
         },
         "mark": {
          "color": "black",
          "opacity": 0.1,
          "type": "line"
         }
        },
        {
         "data": {
          "values": [
           {
            "x": 1.8890559618231295,
            "y": 0
           },
           {
            "x": 1.8890559618231295,
            "y": 3.568532426899509
           }
          ]
         },
         "encoding": {
          "x": {
           "field": "x",
           "type": "quantitative"
          },
          "y": {
           "field": "y",
           "type": "quantitative"
          }
         },
         "mark": {
          "color": "black",
          "opacity": 0.1,
          "type": "line"
         }
        },
        {
         "data": {
          "values": [
           {
            "x": 2.0811332542344743,
            "y": 0
           },
           {
            "x": 2.0811332542344743,
            "y": 4.331115621880573
           }
          ]
         },
         "encoding": {
          "x": {
           "field": "x",
           "type": "quantitative"
          },
          "y": {
           "field": "y",
           "type": "quantitative"
          }
         },
         "mark": {
          "color": "black",
          "opacity": 0.1,
          "type": "line"
         }
        },
        {
         "data": {
          "values": [
           {
            "x": 1.7483087540724218,
            "y": 0
           },
           {
            "x": 1.7483087540724218,
            "y": 3.0565834995662637
           }
          ]
         },
         "encoding": {
          "x": {
           "field": "x",
           "type": "quantitative"
          },
          "y": {
           "field": "y",
           "type": "quantitative"
          }
         },
         "mark": {
          "color": "black",
          "opacity": 0.1,
          "type": "line"
         }
        },
        {
         "data": {
          "values": [
           {
            "x": 0.10480380384694366,
            "y": 0
           },
           {
            "x": 0.10480380384694366,
            "y": 0.010983837300788642
           }
          ]
         },
         "encoding": {
          "x": {
           "field": "x",
           "type": "quantitative"
          },
          "y": {
           "field": "y",
           "type": "quantitative"
          }
         },
         "mark": {
          "color": "black",
          "opacity": 0.1,
          "type": "line"
         }
        },
        {
         "data": {
          "values": [
           {
            "x": 1.8821638650052444,
            "y": 0
           },
           {
            "x": 1.8821638650052444,
            "y": 3.54254081473148
           }
          ]
         },
         "encoding": {
          "x": {
           "field": "x",
           "type": "quantitative"
          },
          "y": {
           "field": "y",
           "type": "quantitative"
          }
         },
         "mark": {
          "color": "black",
          "opacity": 0.1,
          "type": "line"
         }
        },
        {
         "data": {
          "values": [
           {
            "x": 3.3362435738688285,
            "y": 0
           },
           {
            "x": 3.3362435738688285,
            "y": 11.130521184181054
           }
          ]
         },
         "encoding": {
          "x": {
           "field": "x",
           "type": "quantitative"
          },
          "y": {
           "field": "y",
           "type": "quantitative"
          }
         },
         "mark": {
          "color": "black",
          "opacity": 0.1,
          "type": "line"
         }
        },
        {
         "data": {
          "values": [
           {
            "x": 2.4983228957951136,
            "y": 0
           },
           {
            "x": 2.4983228957951136,
            "y": 6.241617291654082
           }
          ]
         },
         "encoding": {
          "x": {
           "field": "x",
           "type": "quantitative"
          },
          "y": {
           "field": "y",
           "type": "quantitative"
          }
         },
         "mark": {
          "color": "black",
          "opacity": 0.1,
          "type": "line"
         }
        },
        {
         "data": {
          "values": [
           {
            "x": 4.330880361129627,
            "y": 0
           },
           {
            "x": 4.330880361129627,
            "y": 18.75652470241829
           }
          ]
         },
         "encoding": {
          "x": {
           "field": "x",
           "type": "quantitative"
          },
          "y": {
           "field": "y",
           "type": "quantitative"
          }
         },
         "mark": {
          "color": "black",
          "opacity": 0.1,
          "type": "line"
         }
        },
        {
         "data": {
          "values": [
           {
            "x": 4.304295864794375,
            "y": 0
           },
           {
            "x": 4.304295864794375,
            "y": 18.52696289168596
           }
          ]
         },
         "encoding": {
          "x": {
           "field": "x",
           "type": "quantitative"
          },
          "y": {
           "field": "y",
           "type": "quantitative"
          }
         },
         "mark": {
          "color": "black",
          "opacity": 0.1,
          "type": "line"
         }
        },
        {
         "data": {
          "values": [
           {
            "x": 0.9055913630505303,
            "y": 0
           },
           {
            "x": 0.9055913630505303,
            "y": 0.8200957168317174
           }
          ]
         },
         "encoding": {
          "x": {
           "field": "x",
           "type": "quantitative"
          },
          "y": {
           "field": "y",
           "type": "quantitative"
          }
         },
         "mark": {
          "color": "black",
          "opacity": 0.1,
          "type": "line"
         }
        },
        {
         "data": {
          "values": [
           {
            "x": 3.873707388086263,
            "y": 0
           },
           {
            "x": 3.873707388086263,
            "y": 15.005608928514098
           }
          ]
         },
         "encoding": {
          "x": {
           "field": "x",
           "type": "quantitative"
          },
          "y": {
           "field": "y",
           "type": "quantitative"
          }
         },
         "mark": {
          "color": "black",
          "opacity": 0.1,
          "type": "line"
         }
        },
        {
         "data": {
          "values": [
           {
            "x": 5.076476939703948,
            "y": 0
           },
           {
            "x": 5.076476939703948,
            "y": 25.77061811934596
           }
          ]
         },
         "encoding": {
          "x": {
           "field": "x",
           "type": "quantitative"
          },
          "y": {
           "field": "y",
           "type": "quantitative"
          }
         },
         "mark": {
          "color": "black",
          "opacity": 0.1,
          "type": "line"
         }
        },
        {
         "data": {
          "values": [
           {
            "x": 2.1660301166490075,
            "y": 0
           },
           {
            "x": 2.1660301166490075,
            "y": 4.691686466230513
           }
          ]
         },
         "encoding": {
          "x": {
           "field": "x",
           "type": "quantitative"
          },
          "y": {
           "field": "y",
           "type": "quantitative"
          }
         },
         "mark": {
          "color": "black",
          "opacity": 0.1,
          "type": "line"
         }
        },
        {
         "data": {
          "values": [
           {
            "x": 4.185070782052092,
            "y": 0
           },
           {
            "x": 4.185070782052092,
            "y": 17.514817450786108
           }
          ]
         },
         "encoding": {
          "x": {
           "field": "x",
           "type": "quantitative"
          },
          "y": {
           "field": "y",
           "type": "quantitative"
          }
         },
         "mark": {
          "color": "black",
          "opacity": 0.1,
          "type": "line"
         }
        },
        {
         "data": {
          "values": [
           {
            "x": 3.9241825978300424,
            "y": 0
           },
           {
            "x": 3.9241825978300424,
            "y": 15.39920906111214
           }
          ]
         },
         "encoding": {
          "x": {
           "field": "x",
           "type": "quantitative"
          },
          "y": {
           "field": "y",
           "type": "quantitative"
          }
         },
         "mark": {
          "color": "black",
          "opacity": 0.1,
          "type": "line"
         }
        },
        {
         "data": {
          "values": [
           {
            "x": 4.255013136348975,
            "y": 0
           },
           {
            "x": 4.255013136348975,
            "y": 18.10513679050234
           }
          ]
         },
         "encoding": {
          "x": {
           "field": "x",
           "type": "quantitative"
          },
          "y": {
           "field": "y",
           "type": "quantitative"
          }
         },
         "mark": {
          "color": "black",
          "opacity": 0.1,
          "type": "line"
         }
        },
        {
         "data": {
          "values": [
           {
            "x": 4.256870028414305,
            "y": 0
           },
           {
            "x": 4.256870028414305,
            "y": 18.120942438812005
           }
          ]
         },
         "encoding": {
          "x": {
           "field": "x",
           "type": "quantitative"
          },
          "y": {
           "field": "y",
           "type": "quantitative"
          }
         },
         "mark": {
          "color": "black",
          "opacity": 0.1,
          "type": "line"
         }
        },
        {
         "data": {
          "values": [
           {
            "x": 3.0900452605218676,
            "y": 0
           },
           {
            "x": 3.0900452605218676,
            "y": 9.548379712073656
           }
          ]
         },
         "encoding": {
          "x": {
           "field": "x",
           "type": "quantitative"
          },
          "y": {
           "field": "y",
           "type": "quantitative"
          }
         },
         "mark": {
          "color": "black",
          "opacity": 0.1,
          "type": "line"
         }
        },
        {
         "data": {
          "values": [
           {
            "x": 5.32252400833082,
            "y": 0
           },
           {
            "x": 5.32252400833082,
            "y": 28.32926181925798
           }
          ]
         },
         "encoding": {
          "x": {
           "field": "x",
           "type": "quantitative"
          },
          "y": {
           "field": "y",
           "type": "quantitative"
          }
         },
         "mark": {
          "color": "black",
          "opacity": 0.1,
          "type": "line"
         }
        },
        {
         "data": {
          "values": [
           {
            "x": 0.24391578665869273,
            "y": 0
           },
           {
            "x": 0.24391578665869273,
            "y": 0.05949491098132891
           }
          ]
         },
         "encoding": {
          "x": {
           "field": "x",
           "type": "quantitative"
          },
          "y": {
           "field": "y",
           "type": "quantitative"
          }
         },
         "mark": {
          "color": "black",
          "opacity": 0.1,
          "type": "line"
         }
        },
        {
         "data": {
          "values": [
           {
            "x": 1.130716721876438,
            "y": 0
           },
           {
            "x": 1.130716721876438,
            "y": 1.2785203051309981
           }
          ]
         },
         "encoding": {
          "x": {
           "field": "x",
           "type": "quantitative"
          },
          "y": {
           "field": "y",
           "type": "quantitative"
          }
         },
         "mark": {
          "color": "black",
          "opacity": 0.1,
          "type": "line"
         }
        },
        {
         "data": {
          "values": [
           {
            "x": 1.4600703086487012,
            "y": 0
           },
           {
            "x": 1.4600703086487012,
            "y": 2.1318053061975135
           }
          ]
         },
         "encoding": {
          "x": {
           "field": "x",
           "type": "quantitative"
          },
          "y": {
           "field": "y",
           "type": "quantitative"
          }
         },
         "mark": {
          "color": "black",
          "opacity": 0.1,
          "type": "line"
         }
        },
        {
         "data": {
          "values": [
           {
            "x": 4.6504725864534535,
            "y": 0
           },
           {
            "x": 4.6504725864534535,
            "y": 21.626895277355075
           }
          ]
         },
         "encoding": {
          "x": {
           "field": "x",
           "type": "quantitative"
          },
          "y": {
           "field": "y",
           "type": "quantitative"
          }
         },
         "mark": {
          "color": "black",
          "opacity": 0.1,
          "type": "line"
         }
        },
        {
         "data": {
          "values": [
           {
            "x": 3.3245952751811885,
            "y": 0
           },
           {
            "x": 3.3245952751811885,
            "y": 11.052933743757082
           }
          ]
         },
         "encoding": {
          "x": {
           "field": "x",
           "type": "quantitative"
          },
          "y": {
           "field": "y",
           "type": "quantitative"
          }
         },
         "mark": {
          "color": "black",
          "opacity": 0.1,
          "type": "line"
         }
        },
        {
         "data": {
          "values": [
           {
            "x": 0.20806186954430972,
            "y": 0
           },
           {
            "x": 0.20806186954430972,
            "y": 0.04328974155827336
           }
          ]
         },
         "encoding": {
          "x": {
           "field": "x",
           "type": "quantitative"
          },
          "y": {
           "field": "y",
           "type": "quantitative"
          }
         },
         "mark": {
          "color": "black",
          "opacity": 0.1,
          "type": "line"
         }
        },
        {
         "data": {
          "values": [
           {
            "x": 6.169459224238772,
            "y": 0
           },
           {
            "x": 6.169459224238772,
            "y": 38.06222711954487
           }
          ]
         },
         "encoding": {
          "x": {
           "field": "x",
           "type": "quantitative"
          },
          "y": {
           "field": "y",
           "type": "quantitative"
          }
         },
         "mark": {
          "color": "black",
          "opacity": 0.1,
          "type": "line"
         }
        },
        {
         "data": {
          "values": [
           {
            "x": 1.5653254140684114,
            "y": 0
           },
           {
            "x": 1.5653254140684114,
            "y": 2.4502436519284436
           }
          ]
         },
         "encoding": {
          "x": {
           "field": "x",
           "type": "quantitative"
          },
          "y": {
           "field": "y",
           "type": "quantitative"
          }
         },
         "mark": {
          "color": "black",
          "opacity": 0.1,
          "type": "line"
         }
        },
        {
         "data": {
          "values": [
           {
            "x": -0.45835748676744137,
            "y": 0
           },
           {
            "x": -0.45835748676744137,
            "y": 0.2100915856757652
           }
          ]
         },
         "encoding": {
          "x": {
           "field": "x",
           "type": "quantitative"
          },
          "y": {
           "field": "y",
           "type": "quantitative"
          }
         },
         "mark": {
          "color": "black",
          "opacity": 0.1,
          "type": "line"
         }
        },
        {
         "data": {
          "values": [
           {
            "x": 6.22280954651263,
            "y": 0
           },
           {
            "x": 6.22280954651263,
            "y": 38.72335865216872
           }
          ]
         },
         "encoding": {
          "x": {
           "field": "x",
           "type": "quantitative"
          },
          "y": {
           "field": "y",
           "type": "quantitative"
          }
         },
         "mark": {
          "color": "black",
          "opacity": 0.1,
          "type": "line"
         }
        },
        {
         "data": {
          "values": [
           {
            "x": 6.514897085157576,
            "y": 0
           },
           {
            "x": 6.514897085157576,
            "y": 42.443884030194674
           }
          ]
         },
         "encoding": {
          "x": {
           "field": "x",
           "type": "quantitative"
          },
          "y": {
           "field": "y",
           "type": "quantitative"
          }
         },
         "mark": {
          "color": "black",
          "opacity": 0.1,
          "type": "line"
         }
        },
        {
         "data": {
          "values": [
           {
            "x": 2.858766358206445,
            "y": 0
           },
           {
            "x": 2.858766358206445,
            "y": 8.17254509081294
           }
          ]
         },
         "encoding": {
          "x": {
           "field": "x",
           "type": "quantitative"
          },
          "y": {
           "field": "y",
           "type": "quantitative"
          }
         },
         "mark": {
          "color": "black",
          "opacity": 0.1,
          "type": "line"
         }
        },
        {
         "data": {
          "values": [
           {
            "x": 3.2085630860570094,
            "y": 0
           },
           {
            "x": 3.2085630860570094,
            "y": 10.29487707720768
           }
          ]
         },
         "encoding": {
          "x": {
           "field": "x",
           "type": "quantitative"
          },
          "y": {
           "field": "y",
           "type": "quantitative"
          }
         },
         "mark": {
          "color": "black",
          "opacity": 0.1,
          "type": "line"
         }
        },
        {
         "data": {
          "values": [
           {
            "x": 1.6449213051506848,
            "y": 0
           },
           {
            "x": 1.6449213051506848,
            "y": 2.705766100138632
           }
          ]
         },
         "encoding": {
          "x": {
           "field": "x",
           "type": "quantitative"
          },
          "y": {
           "field": "y",
           "type": "quantitative"
          }
         },
         "mark": {
          "color": "black",
          "opacity": 0.1,
          "type": "line"
         }
        },
        {
         "data": {
          "values": [
           {
            "x": 2.561917167896689,
            "y": 0
           },
           {
            "x": 2.561917167896689,
            "y": 6.563419575163793
           }
          ]
         },
         "encoding": {
          "x": {
           "field": "x",
           "type": "quantitative"
          },
          "y": {
           "field": "y",
           "type": "quantitative"
          }
         },
         "mark": {
          "color": "black",
          "opacity": 0.1,
          "type": "line"
         }
        },
        {
         "data": {
          "values": [
           {
            "x": 1.8639818993471056,
            "y": 0
           },
           {
            "x": 1.8639818993471056,
            "y": 3.474428521093643
           }
          ]
         },
         "encoding": {
          "x": {
           "field": "x",
           "type": "quantitative"
          },
          "y": {
           "field": "y",
           "type": "quantitative"
          }
         },
         "mark": {
          "color": "black",
          "opacity": 0.1,
          "type": "line"
         }
        },
        {
         "data": {
          "values": [
           {
            "x": 2.580506562704831,
            "y": 0
           },
           {
            "x": 2.580506562704831,
            "y": 6.659014120162701
           }
          ]
         },
         "encoding": {
          "x": {
           "field": "x",
           "type": "quantitative"
          },
          "y": {
           "field": "y",
           "type": "quantitative"
          }
         },
         "mark": {
          "color": "black",
          "opacity": 0.1,
          "type": "line"
         }
        },
        {
         "data": {
          "values": [
           {
            "x": -1.2271221838691226,
            "y": 0
           },
           {
            "x": -1.2271221838691226,
            "y": 1.5058288541437248
           }
          ]
         },
         "encoding": {
          "x": {
           "field": "x",
           "type": "quantitative"
          },
          "y": {
           "field": "y",
           "type": "quantitative"
          }
         },
         "mark": {
          "color": "black",
          "opacity": 0.1,
          "type": "line"
         }
        },
        {
         "data": {
          "values": [
           {
            "x": 0.9715195841961841,
            "y": 0
           },
           {
            "x": 0.9715195841961841,
            "y": 0.9438503024767265
           }
          ]
         },
         "encoding": {
          "x": {
           "field": "x",
           "type": "quantitative"
          },
          "y": {
           "field": "y",
           "type": "quantitative"
          }
         },
         "mark": {
          "color": "black",
          "opacity": 0.1,
          "type": "line"
         }
        },
        {
         "data": {
          "values": [
           {
            "x": 3.212257967246785,
            "y": 0
           },
           {
            "x": 3.212257967246785,
            "y": 10.318601248140448
           }
          ]
         },
         "encoding": {
          "x": {
           "field": "x",
           "type": "quantitative"
          },
          "y": {
           "field": "y",
           "type": "quantitative"
          }
         },
         "mark": {
          "color": "black",
          "opacity": 0.1,
          "type": "line"
         }
        },
        {
         "data": {
          "values": [
           {
            "x": 1.1664940048752694,
            "y": 0
           },
           {
            "x": 1.1664940048752694,
            "y": 1.3607082634099452
           }
          ]
         },
         "encoding": {
          "x": {
           "field": "x",
           "type": "quantitative"
          },
          "y": {
           "field": "y",
           "type": "quantitative"
          }
         },
         "mark": {
          "color": "black",
          "opacity": 0.1,
          "type": "line"
         }
        },
        {
         "data": {
          "values": [
           {
            "x": 2.179786320764256,
            "y": 0
           },
           {
            "x": 2.179786320764256,
            "y": 4.751468404190972
           }
          ]
         },
         "encoding": {
          "x": {
           "field": "x",
           "type": "quantitative"
          },
          "y": {
           "field": "y",
           "type": "quantitative"
          }
         },
         "mark": {
          "color": "black",
          "opacity": 0.1,
          "type": "line"
         }
        },
        {
         "data": {
          "values": [
           {
            "x": 2.2236623998712566,
            "y": 0
           },
           {
            "x": 2.2236623998712566,
            "y": 4.944674468601196
           }
          ]
         },
         "encoding": {
          "x": {
           "field": "x",
           "type": "quantitative"
          },
          "y": {
           "field": "y",
           "type": "quantitative"
          }
         },
         "mark": {
          "color": "black",
          "opacity": 0.1,
          "type": "line"
         }
        },
        {
         "data": {
          "values": [
           {
            "x": 7.080640923168826,
            "y": 0
           },
           {
            "x": 7.080640923168826,
            "y": 50.13547588285308
           }
          ]
         },
         "encoding": {
          "x": {
           "field": "x",
           "type": "quantitative"
          },
          "y": {
           "field": "y",
           "type": "quantitative"
          }
         },
         "mark": {
          "color": "black",
          "opacity": 0.1,
          "type": "line"
         }
        },
        {
         "data": {
          "values": [
           {
            "x": 2.642861454442078,
            "y": 0
           },
           {
            "x": 2.642861454442078,
            "y": 6.984716667375697
           }
          ]
         },
         "encoding": {
          "x": {
           "field": "x",
           "type": "quantitative"
          },
          "y": {
           "field": "y",
           "type": "quantitative"
          }
         },
         "mark": {
          "color": "black",
          "opacity": 0.1,
          "type": "line"
         }
        },
        {
         "data": {
          "values": [
           {
            "x": 7.574202675908728,
            "y": 0
           },
           {
            "x": 7.574202675908728,
            "y": 57.368546175742935
           }
          ]
         },
         "encoding": {
          "x": {
           "field": "x",
           "type": "quantitative"
          },
          "y": {
           "field": "y",
           "type": "quantitative"
          }
         },
         "mark": {
          "color": "black",
          "opacity": 0.1,
          "type": "line"
         }
        },
        {
         "data": {
          "values": [
           {
            "x": 1.4135650493095933,
            "y": 0
           },
           {
            "x": 1.4135650493095933,
            "y": 1.9981661486296327
           }
          ]
         },
         "encoding": {
          "x": {
           "field": "x",
           "type": "quantitative"
          },
          "y": {
           "field": "y",
           "type": "quantitative"
          }
         },
         "mark": {
          "color": "black",
          "opacity": 0.1,
          "type": "line"
         }
        },
        {
         "data": {
          "values": [
           {
            "x": 6.025836103008414,
            "y": 0
           },
           {
            "x": 6.025836103008414,
            "y": 36.31070074031963
           }
          ]
         },
         "encoding": {
          "x": {
           "field": "x",
           "type": "quantitative"
          },
          "y": {
           "field": "y",
           "type": "quantitative"
          }
         },
         "mark": {
          "color": "black",
          "opacity": 0.1,
          "type": "line"
         }
        },
        {
         "data": {
          "values": [
           {
            "x": 2.923891097733491,
            "y": 0
           },
           {
            "x": 2.923891097733491,
            "y": 8.549139151405159
           }
          ]
         },
         "encoding": {
          "x": {
           "field": "x",
           "type": "quantitative"
          },
          "y": {
           "field": "y",
           "type": "quantitative"
          }
         },
         "mark": {
          "color": "black",
          "opacity": 0.1,
          "type": "line"
         }
        },
        {
         "data": {
          "values": [
           {
            "x": 0.22068438306025406,
            "y": 0
           },
           {
            "x": 0.22068438306025406,
            "y": 0.04870159692668495
           }
          ]
         },
         "encoding": {
          "x": {
           "field": "x",
           "type": "quantitative"
          },
          "y": {
           "field": "y",
           "type": "quantitative"
          }
         },
         "mark": {
          "color": "black",
          "opacity": 0.1,
          "type": "line"
         }
        },
        {
         "data": {
          "values": [
           {
            "x": 1.686918759534162,
            "y": 0
           },
           {
            "x": 1.686918759534162,
            "y": 2.8456949012682755
           }
          ]
         },
         "encoding": {
          "x": {
           "field": "x",
           "type": "quantitative"
          },
          "y": {
           "field": "y",
           "type": "quantitative"
          }
         },
         "mark": {
          "color": "black",
          "opacity": 0.1,
          "type": "line"
         }
        },
        {
         "data": {
          "values": [
           {
            "x": 1.7542346536408888,
            "y": 0
           },
           {
            "x": 1.7542346536408888,
            "y": 3.077339220034569
           }
          ]
         },
         "encoding": {
          "x": {
           "field": "x",
           "type": "quantitative"
          },
          "y": {
           "field": "y",
           "type": "quantitative"
          }
         },
         "mark": {
          "color": "black",
          "opacity": 0.1,
          "type": "line"
         }
        },
        {
         "data": {
          "values": [
           {
            "x": -0.9257810181551349,
            "y": 0
           },
           {
            "x": -0.9257810181551349,
            "y": 0.8570704935763582
           }
          ]
         },
         "encoding": {
          "x": {
           "field": "x",
           "type": "quantitative"
          },
          "y": {
           "field": "y",
           "type": "quantitative"
          }
         },
         "mark": {
          "color": "black",
          "opacity": 0.1,
          "type": "line"
         }
        },
        {
         "data": {
          "values": [
           {
            "x": 2.9389966702959276,
            "y": 0
           },
           {
            "x": 2.9389966702959276,
            "y": 8.63770142801055
           }
          ]
         },
         "encoding": {
          "x": {
           "field": "x",
           "type": "quantitative"
          },
          "y": {
           "field": "y",
           "type": "quantitative"
          }
         },
         "mark": {
          "color": "black",
          "opacity": 0.1,
          "type": "line"
         }
        },
        {
         "data": {
          "values": [
           {
            "x": -3.2740589505112405,
            "y": 0
           },
           {
            "x": -3.2740589505112405,
            "y": 10.719462011422765
           }
          ]
         },
         "encoding": {
          "x": {
           "field": "x",
           "type": "quantitative"
          },
          "y": {
           "field": "y",
           "type": "quantitative"
          }
         },
         "mark": {
          "color": "black",
          "opacity": 0.1,
          "type": "line"
         }
        },
        {
         "data": {
          "values": [
           {
            "x": 4.187407867055754,
            "y": 0
           },
           {
            "x": 4.187407867055754,
            "y": 17.53438464508042
           }
          ]
         },
         "encoding": {
          "x": {
           "field": "x",
           "type": "quantitative"
          },
          "y": {
           "field": "y",
           "type": "quantitative"
          }
         },
         "mark": {
          "color": "black",
          "opacity": 0.1,
          "type": "line"
         }
        },
        {
         "data": {
          "values": [
           {
            "x": 0.8323031563235541,
            "y": 0
           },
           {
            "x": 0.8323031563235541,
            "y": 0.6927285440261506
           }
          ]
         },
         "encoding": {
          "x": {
           "field": "x",
           "type": "quantitative"
          },
          "y": {
           "field": "y",
           "type": "quantitative"
          }
         },
         "mark": {
          "color": "black",
          "opacity": 0.1,
          "type": "line"
         }
        },
        {
         "data": {
          "values": [
           {
            "x": 3.3023251395351645,
            "y": 0
           },
           {
            "x": 3.3023251395351645,
            "y": 10.905351327205944
           }
          ]
         },
         "encoding": {
          "x": {
           "field": "x",
           "type": "quantitative"
          },
          "y": {
           "field": "y",
           "type": "quantitative"
          }
         },
         "mark": {
          "color": "black",
          "opacity": 0.1,
          "type": "line"
         }
        },
        {
         "data": {
          "values": [
           {
            "x": -0.22758795161713108,
            "y": 0
           },
           {
            "x": -0.22758795161713108,
            "y": 0.0517962757212816
           }
          ]
         },
         "encoding": {
          "x": {
           "field": "x",
           "type": "quantitative"
          },
          "y": {
           "field": "y",
           "type": "quantitative"
          }
         },
         "mark": {
          "color": "black",
          "opacity": 0.1,
          "type": "line"
         }
        },
        {
         "data": {
          "values": [
           {
            "x": -1.4290569157851238,
            "y": 0
           },
           {
            "x": -1.4290569157851238,
            "y": 2.0422036685532907
           }
          ]
         },
         "encoding": {
          "x": {
           "field": "x",
           "type": "quantitative"
          },
          "y": {
           "field": "y",
           "type": "quantitative"
          }
         },
         "mark": {
          "color": "black",
          "opacity": 0.1,
          "type": "line"
         }
        },
        {
         "data": {
          "values": [
           {
            "x": 4.541669801666321,
            "y": 0
           },
           {
            "x": 4.541669801666321,
            "y": 20.626764587367795
           }
          ]
         },
         "encoding": {
          "x": {
           "field": "x",
           "type": "quantitative"
          },
          "y": {
           "field": "y",
           "type": "quantitative"
          }
         },
         "mark": {
          "color": "black",
          "opacity": 0.1,
          "type": "line"
         }
        },
        {
         "data": {
          "values": [
           {
            "x": 4.404035775567748,
            "y": 0
           },
           {
            "x": 4.404035775567748,
            "y": 19.39553111248062
           }
          ]
         },
         "encoding": {
          "x": {
           "field": "x",
           "type": "quantitative"
          },
          "y": {
           "field": "y",
           "type": "quantitative"
          }
         },
         "mark": {
          "color": "black",
          "opacity": 0.1,
          "type": "line"
         }
        },
        {
         "data": {
          "values": [
           {
            "x": 0.904461361150801,
            "y": 0
           },
           {
            "x": 0.904461361150801,
            "y": 0.8180503538147597
           }
          ]
         },
         "encoding": {
          "x": {
           "field": "x",
           "type": "quantitative"
          },
          "y": {
           "field": "y",
           "type": "quantitative"
          }
         },
         "mark": {
          "color": "black",
          "opacity": 0.1,
          "type": "line"
         }
        },
        {
         "data": {
          "values": [
           {
            "x": 3.830360431658237,
            "y": 0
           },
           {
            "x": 3.830360431658237,
            "y": 14.671661036413076
           }
          ]
         },
         "encoding": {
          "x": {
           "field": "x",
           "type": "quantitative"
          },
          "y": {
           "field": "y",
           "type": "quantitative"
          }
         },
         "mark": {
          "color": "black",
          "opacity": 0.1,
          "type": "line"
         }
        },
        {
         "data": {
          "values": [
           {
            "x": 0.4167377088977462,
            "y": 0
           },
           {
            "x": 0.4167377088977462,
            "y": 0.17367031801734265
           }
          ]
         },
         "encoding": {
          "x": {
           "field": "x",
           "type": "quantitative"
          },
          "y": {
           "field": "y",
           "type": "quantitative"
          }
         },
         "mark": {
          "color": "black",
          "opacity": 0.1,
          "type": "line"
         }
        },
        {
         "data": {
          "values": [
           {
            "x": 1.3983564285011758,
            "y": 0
           },
           {
            "x": 1.3983564285011758,
            "y": 1.955400701130564
           }
          ]
         },
         "encoding": {
          "x": {
           "field": "x",
           "type": "quantitative"
          },
          "y": {
           "field": "y",
           "type": "quantitative"
          }
         },
         "mark": {
          "color": "black",
          "opacity": 0.1,
          "type": "line"
         }
        },
        {
         "data": {
          "values": [
           {
            "x": 4.730445858386805,
            "y": 0
           },
           {
            "x": 4.730445858386805,
            "y": 22.377118019128876
           }
          ]
         },
         "encoding": {
          "x": {
           "field": "x",
           "type": "quantitative"
          },
          "y": {
           "field": "y",
           "type": "quantitative"
          }
         },
         "mark": {
          "color": "black",
          "opacity": 0.1,
          "type": "line"
         }
        },
        {
         "data": {
          "values": [
           {
            "x": 6.167511209875933,
            "y": 0
           },
           {
            "x": 6.167511209875933,
            "y": 38.03819452394529
           }
          ]
         },
         "encoding": {
          "x": {
           "field": "x",
           "type": "quantitative"
          },
          "y": {
           "field": "y",
           "type": "quantitative"
          }
         },
         "mark": {
          "color": "black",
          "opacity": 0.1,
          "type": "line"
         }
        },
        {
         "data": {
          "values": [
           {
            "x": 2.6903851496597193,
            "y": 0
           },
           {
            "x": 2.6903851496597193,
            "y": 7.23817225350955
           }
          ]
         },
         "encoding": {
          "x": {
           "field": "x",
           "type": "quantitative"
          },
          "y": {
           "field": "y",
           "type": "quantitative"
          }
         },
         "mark": {
          "color": "black",
          "opacity": 0.1,
          "type": "line"
         }
        },
        {
         "data": {
          "values": [
           {
            "x": -0.10546596492614002,
            "y": 0
           },
           {
            "x": -0.10546596492614002,
            "y": 0.011123069757801796
           }
          ]
         },
         "encoding": {
          "x": {
           "field": "x",
           "type": "quantitative"
          },
          "y": {
           "field": "y",
           "type": "quantitative"
          }
         },
         "mark": {
          "color": "black",
          "opacity": 0.1,
          "type": "line"
         }
        },
        {
         "data": {
          "values": [
           {
            "x": 1.4263422347760881,
            "y": 0
           },
           {
            "x": 1.4263422347760881,
            "y": 2.0344521707060452
           }
          ]
         },
         "encoding": {
          "x": {
           "field": "x",
           "type": "quantitative"
          },
          "y": {
           "field": "y",
           "type": "quantitative"
          }
         },
         "mark": {
          "color": "black",
          "opacity": 0.1,
          "type": "line"
         }
        },
        {
         "data": {
          "values": [
           {
            "x": 3.5102366324359413,
            "y": 0
           },
           {
            "x": 3.5102366324359413,
            "y": 12.321761215695219
           }
          ]
         },
         "encoding": {
          "x": {
           "field": "x",
           "type": "quantitative"
          },
          "y": {
           "field": "y",
           "type": "quantitative"
          }
         },
         "mark": {
          "color": "black",
          "opacity": 0.1,
          "type": "line"
         }
        },
        {
         "data": {
          "values": [
           {
            "x": 0.8712937291448519,
            "y": 0
           },
           {
            "x": 0.8712937291448519,
            "y": 0.7591527624471426
           }
          ]
         },
         "encoding": {
          "x": {
           "field": "x",
           "type": "quantitative"
          },
          "y": {
           "field": "y",
           "type": "quantitative"
          }
         },
         "mark": {
          "color": "black",
          "opacity": 0.1,
          "type": "line"
         }
        },
        {
         "data": {
          "values": [
           {
            "x": 4.048966054582533,
            "y": 0
           },
           {
            "x": 4.048966054582533,
            "y": 16.394126111161647
           }
          ]
         },
         "encoding": {
          "x": {
           "field": "x",
           "type": "quantitative"
          },
          "y": {
           "field": "y",
           "type": "quantitative"
          }
         },
         "mark": {
          "color": "black",
          "opacity": 0.1,
          "type": "line"
         }
        },
        {
         "data": {
          "values": [
           {
            "x": 0.7878440508966593,
            "y": 0
           },
           {
            "x": 0.7878440508966593,
            "y": 0.620698248533258
           }
          ]
         },
         "encoding": {
          "x": {
           "field": "x",
           "type": "quantitative"
          },
          "y": {
           "field": "y",
           "type": "quantitative"
          }
         },
         "mark": {
          "color": "black",
          "opacity": 0.1,
          "type": "line"
         }
        },
        {
         "data": {
          "values": [
           {
            "x": 3.4052324185843537,
            "y": 0
           },
           {
            "x": 3.4052324185843537,
            "y": 11.595607824577847
           }
          ]
         },
         "encoding": {
          "x": {
           "field": "x",
           "type": "quantitative"
          },
          "y": {
           "field": "y",
           "type": "quantitative"
          }
         },
         "mark": {
          "color": "black",
          "opacity": 0.1,
          "type": "line"
         }
        },
        {
         "data": {
          "values": [
           {
            "x": 2.449672884576901,
            "y": 0
           },
           {
            "x": 2.449672884576901,
            "y": 6.000897241431316
           }
          ]
         },
         "encoding": {
          "x": {
           "field": "x",
           "type": "quantitative"
          },
          "y": {
           "field": "y",
           "type": "quantitative"
          }
         },
         "mark": {
          "color": "black",
          "opacity": 0.1,
          "type": "line"
         }
        },
        {
         "data": {
          "values": [
           {
            "x": 3.54879076554944,
            "y": 0
           },
           {
            "x": 3.54879076554944,
            "y": 12.593915897648982
           }
          ]
         },
         "encoding": {
          "x": {
           "field": "x",
           "type": "quantitative"
          },
          "y": {
           "field": "y",
           "type": "quantitative"
          }
         },
         "mark": {
          "color": "black",
          "opacity": 0.1,
          "type": "line"
         }
        },
        {
         "data": {
          "values": [
           {
            "x": 3.5783501798940383,
            "y": 0
           },
           {
            "x": 3.5783501798940383,
            "y": 12.804590009947695
           }
          ]
         },
         "encoding": {
          "x": {
           "field": "x",
           "type": "quantitative"
          },
          "y": {
           "field": "y",
           "type": "quantitative"
          }
         },
         "mark": {
          "color": "black",
          "opacity": 0.1,
          "type": "line"
         }
        },
        {
         "data": {
          "values": [
           {
            "x": 6.465487026535432,
            "y": 0
           },
           {
            "x": 6.465487026535432,
            "y": 41.80252249029798
           }
          ]
         },
         "encoding": {
          "x": {
           "field": "x",
           "type": "quantitative"
          },
          "y": {
           "field": "y",
           "type": "quantitative"
          }
         },
         "mark": {
          "color": "black",
          "opacity": 0.1,
          "type": "line"
         }
        },
        {
         "data": {
          "values": [
           {
            "x": 3.9592646959347024,
            "y": 0
           },
           {
            "x": 3.9592646959347024,
            "y": 15.675776932474912
           }
          ]
         },
         "encoding": {
          "x": {
           "field": "x",
           "type": "quantitative"
          },
          "y": {
           "field": "y",
           "type": "quantitative"
          }
         },
         "mark": {
          "color": "black",
          "opacity": 0.1,
          "type": "line"
         }
        },
        {
         "data": {
          "values": [
           {
            "x": 2.753361572585738,
            "y": 0
           },
           {
            "x": 2.753361572585738,
            "y": 7.580999949391807
           }
          ]
         },
         "encoding": {
          "x": {
           "field": "x",
           "type": "quantitative"
          },
          "y": {
           "field": "y",
           "type": "quantitative"
          }
         },
         "mark": {
          "color": "black",
          "opacity": 0.1,
          "type": "line"
         }
        },
        {
         "data": {
          "values": [
           {
            "x": 4.982984338005819,
            "y": 0
           },
           {
            "x": 4.982984338005819,
            "y": 24.83013291281129
           }
          ]
         },
         "encoding": {
          "x": {
           "field": "x",
           "type": "quantitative"
          },
          "y": {
           "field": "y",
           "type": "quantitative"
          }
         },
         "mark": {
          "color": "black",
          "opacity": 0.1,
          "type": "line"
         }
        },
        {
         "data": {
          "values": [
           {
            "x": 1.6501548858410866,
            "y": 0
           },
           {
            "x": 1.6501548858410866,
            "y": 2.7230111472652094
           }
          ]
         },
         "encoding": {
          "x": {
           "field": "x",
           "type": "quantitative"
          },
          "y": {
           "field": "y",
           "type": "quantitative"
          }
         },
         "mark": {
          "color": "black",
          "opacity": 0.1,
          "type": "line"
         }
        },
        {
         "data": {
          "values": [
           {
            "x": 7.720081722471051,
            "y": 0
           },
           {
            "x": 7.720081722471051,
            "y": 59.5996618016316
           }
          ]
         },
         "encoding": {
          "x": {
           "field": "x",
           "type": "quantitative"
          },
          "y": {
           "field": "y",
           "type": "quantitative"
          }
         },
         "mark": {
          "color": "black",
          "opacity": 0.1,
          "type": "line"
         }
        },
        {
         "data": {
          "values": [
           {
            "x": 2.235478051096992,
            "y": 0
           },
           {
            "x": 2.235478051096992,
            "y": 4.997362116936406
           }
          ]
         },
         "encoding": {
          "x": {
           "field": "x",
           "type": "quantitative"
          },
          "y": {
           "field": "y",
           "type": "quantitative"
          }
         },
         "mark": {
          "color": "black",
          "opacity": 0.1,
          "type": "line"
         }
        },
        {
         "data": {
          "values": [
           {
            "x": 4.410968356573738,
            "y": 0
           },
           {
            "x": 4.410968356573738,
            "y": 19.456641842694825
           }
          ]
         },
         "encoding": {
          "x": {
           "field": "x",
           "type": "quantitative"
          },
          "y": {
           "field": "y",
           "type": "quantitative"
          }
         },
         "mark": {
          "color": "black",
          "opacity": 0.1,
          "type": "line"
         }
        },
        {
         "data": {
          "values": [
           {
            "x": -3.1677118558313486,
            "y": 0
           },
           {
            "x": -3.1677118558313486,
            "y": 10.034398401574487
           }
          ]
         },
         "encoding": {
          "x": {
           "field": "x",
           "type": "quantitative"
          },
          "y": {
           "field": "y",
           "type": "quantitative"
          }
         },
         "mark": {
          "color": "black",
          "opacity": 0.1,
          "type": "line"
         }
        },
        {
         "data": {
          "values": [
           {
            "x": 1.6737445446338932,
            "y": 0
           },
           {
            "x": 1.6737445446338932,
            "y": 2.8014208006917185
           }
          ]
         },
         "encoding": {
          "x": {
           "field": "x",
           "type": "quantitative"
          },
          "y": {
           "field": "y",
           "type": "quantitative"
          }
         },
         "mark": {
          "color": "black",
          "opacity": 0.1,
          "type": "line"
         }
        },
        {
         "data": {
          "values": [
           {
            "x": -0.5385088870296011,
            "y": 0
           },
           {
            "x": -0.5385088870296011,
            "y": 0.2899918214098597
           }
          ]
         },
         "encoding": {
          "x": {
           "field": "x",
           "type": "quantitative"
          },
          "y": {
           "field": "y",
           "type": "quantitative"
          }
         },
         "mark": {
          "color": "black",
          "opacity": 0.1,
          "type": "line"
         }
        },
        {
         "data": {
          "values": [
           {
            "x": 2.9137762919490466,
            "y": 0
           },
           {
            "x": 2.9137762919490466,
            "y": 8.490092279524335
           }
          ]
         },
         "encoding": {
          "x": {
           "field": "x",
           "type": "quantitative"
          },
          "y": {
           "field": "y",
           "type": "quantitative"
          }
         },
         "mark": {
          "color": "black",
          "opacity": 0.1,
          "type": "line"
         }
        },
        {
         "data": {
          "values": [
           {
            "x": 5.702538059306933,
            "y": 0
           },
           {
            "x": 5.702538059306933,
            "y": 32.518940317844084
           }
          ]
         },
         "encoding": {
          "x": {
           "field": "x",
           "type": "quantitative"
          },
          "y": {
           "field": "y",
           "type": "quantitative"
          }
         },
         "mark": {
          "color": "black",
          "opacity": 0.1,
          "type": "line"
         }
        },
        {
         "data": {
          "values": [
           {
            "x": 1.8085947220900236,
            "y": 0
           },
           {
            "x": 1.8085947220900236,
            "y": 3.2710148687718896
           }
          ]
         },
         "encoding": {
          "x": {
           "field": "x",
           "type": "quantitative"
          },
          "y": {
           "field": "y",
           "type": "quantitative"
          }
         },
         "mark": {
          "color": "black",
          "opacity": 0.1,
          "type": "line"
         }
        },
        {
         "data": {
          "values": [
           {
            "x": 3.9186896636376987,
            "y": 0
           },
           {
            "x": 3.9186896636376987,
            "y": 15.356128679900939
           }
          ]
         },
         "encoding": {
          "x": {
           "field": "x",
           "type": "quantitative"
          },
          "y": {
           "field": "y",
           "type": "quantitative"
          }
         },
         "mark": {
          "color": "black",
          "opacity": 0.1,
          "type": "line"
         }
        },
        {
         "data": {
          "values": [
           {
            "x": 3.6325049990973524,
            "y": 0
           },
           {
            "x": 3.6325049990973524,
            "y": 13.195092568467256
           }
          ]
         },
         "encoding": {
          "x": {
           "field": "x",
           "type": "quantitative"
          },
          "y": {
           "field": "y",
           "type": "quantitative"
          }
         },
         "mark": {
          "color": "black",
          "opacity": 0.1,
          "type": "line"
         }
        },
        {
         "data": {
          "values": [
           {
            "x": 1.8344384124134243,
            "y": 0
           },
           {
            "x": 1.8344384124134243,
            "y": 3.3651642889378848
           }
          ]
         },
         "encoding": {
          "x": {
           "field": "x",
           "type": "quantitative"
          },
          "y": {
           "field": "y",
           "type": "quantitative"
          }
         },
         "mark": {
          "color": "black",
          "opacity": 0.1,
          "type": "line"
         }
        },
        {
         "data": {
          "values": [
           {
            "x": 4.794607463084045,
            "y": 0
           },
           {
            "x": 4.794607463084045,
            "y": 22.98826072506122
           }
          ]
         },
         "encoding": {
          "x": {
           "field": "x",
           "type": "quantitative"
          },
          "y": {
           "field": "y",
           "type": "quantitative"
          }
         },
         "mark": {
          "color": "black",
          "opacity": 0.1,
          "type": "line"
         }
        },
        {
         "data": {
          "values": [
           {
            "x": 2.4113330284824612,
            "y": 0
           },
           {
            "x": 2.4113330284824612,
            "y": 5.814526974250398
           }
          ]
         },
         "encoding": {
          "x": {
           "field": "x",
           "type": "quantitative"
          },
          "y": {
           "field": "y",
           "type": "quantitative"
          }
         },
         "mark": {
          "color": "black",
          "opacity": 0.1,
          "type": "line"
         }
        },
        {
         "data": {
          "values": [
           {
            "x": 2.4871706153629742,
            "y": 0
           },
           {
            "x": 2.4871706153629742,
            "y": 6.186017669925036
           }
          ]
         },
         "encoding": {
          "x": {
           "field": "x",
           "type": "quantitative"
          },
          "y": {
           "field": "y",
           "type": "quantitative"
          }
         },
         "mark": {
          "color": "black",
          "opacity": 0.1,
          "type": "line"
         }
        },
        {
         "data": {
          "values": [
           {
            "x": 1.1019138961598365,
            "y": 0
           },
           {
            "x": 1.1019138961598365,
            "y": 1.214214234550151
           }
          ]
         },
         "encoding": {
          "x": {
           "field": "x",
           "type": "quantitative"
          },
          "y": {
           "field": "y",
           "type": "quantitative"
          }
         },
         "mark": {
          "color": "black",
          "opacity": 0.1,
          "type": "line"
         }
        },
        {
         "data": {
          "values": [
           {
            "x": 3.4524053878579615,
            "y": 0
           },
           {
            "x": 3.4524053878579615,
            "y": 11.919102962110681
           }
          ]
         },
         "encoding": {
          "x": {
           "field": "x",
           "type": "quantitative"
          },
          "y": {
           "field": "y",
           "type": "quantitative"
          }
         },
         "mark": {
          "color": "black",
          "opacity": 0.1,
          "type": "line"
         }
        },
        {
         "data": {
          "values": [
           {
            "x": 1.4105822701246526,
            "y": 0
           },
           {
            "x": 1.4105822701246526,
            "y": 1.9897423407900185
           }
          ]
         },
         "encoding": {
          "x": {
           "field": "x",
           "type": "quantitative"
          },
          "y": {
           "field": "y",
           "type": "quantitative"
          }
         },
         "mark": {
          "color": "black",
          "opacity": 0.1,
          "type": "line"
         }
        },
        {
         "data": {
          "values": [
           {
            "x": -1.6344517419873155,
            "y": 0
           },
           {
            "x": -1.6344517419873155,
            "y": 2.67143249688537
           }
          ]
         },
         "encoding": {
          "x": {
           "field": "x",
           "type": "quantitative"
          },
          "y": {
           "field": "y",
           "type": "quantitative"
          }
         },
         "mark": {
          "color": "black",
          "opacity": 0.1,
          "type": "line"
         }
        },
        {
         "data": {
          "values": [
           {
            "x": 1.3711589023375796,
            "y": 0
           },
           {
            "x": 1.3711589023375796,
            "y": 1.8800767354595962
           }
          ]
         },
         "encoding": {
          "x": {
           "field": "x",
           "type": "quantitative"
          },
          "y": {
           "field": "y",
           "type": "quantitative"
          }
         },
         "mark": {
          "color": "black",
          "opacity": 0.1,
          "type": "line"
         }
        },
        {
         "data": {
          "values": [
           {
            "x": 0.4916159444628181,
            "y": 0
           },
           {
            "x": 0.4916159444628181,
            "y": 0.24168623685006865
           }
          ]
         },
         "encoding": {
          "x": {
           "field": "x",
           "type": "quantitative"
          },
          "y": {
           "field": "y",
           "type": "quantitative"
          }
         },
         "mark": {
          "color": "black",
          "opacity": 0.1,
          "type": "line"
         }
        },
        {
         "data": {
          "values": [
           {
            "x": 0.09488234203053958,
            "y": 0
           },
           {
            "x": 0.09488234203053958,
            "y": 0.009002658829200297
           }
          ]
         },
         "encoding": {
          "x": {
           "field": "x",
           "type": "quantitative"
          },
          "y": {
           "field": "y",
           "type": "quantitative"
          }
         },
         "mark": {
          "color": "black",
          "opacity": 0.1,
          "type": "line"
         }
        },
        {
         "data": {
          "values": [
           {
            "x": 2.9385384412977773,
            "y": 0
           },
           {
            "x": 2.9385384412977773,
            "y": 8.63500817098477
           }
          ]
         },
         "encoding": {
          "x": {
           "field": "x",
           "type": "quantitative"
          },
          "y": {
           "field": "y",
           "type": "quantitative"
          }
         },
         "mark": {
          "color": "black",
          "opacity": 0.1,
          "type": "line"
         }
        },
        {
         "data": {
          "values": [
           {
            "x": 4.894689027088205,
            "y": 0
           },
           {
            "x": 4.894689027088205,
            "y": 23.95798067189768
           }
          ]
         },
         "encoding": {
          "x": {
           "field": "x",
           "type": "quantitative"
          },
          "y": {
           "field": "y",
           "type": "quantitative"
          }
         },
         "mark": {
          "color": "black",
          "opacity": 0.1,
          "type": "line"
         }
        },
        {
         "data": {
          "values": [
           {
            "x": -1.9339666994889964,
            "y": 0
           },
           {
            "x": -1.9339666994889964,
            "y": 3.7402271947323618
           }
          ]
         },
         "encoding": {
          "x": {
           "field": "x",
           "type": "quantitative"
          },
          "y": {
           "field": "y",
           "type": "quantitative"
          }
         },
         "mark": {
          "color": "black",
          "opacity": 0.1,
          "type": "line"
         }
        },
        {
         "data": {
          "values": [
           {
            "x": 3.668448502971759,
            "y": 0
           },
           {
            "x": 3.668448502971759,
            "y": 13.457514418955741
           }
          ]
         },
         "encoding": {
          "x": {
           "field": "x",
           "type": "quantitative"
          },
          "y": {
           "field": "y",
           "type": "quantitative"
          }
         },
         "mark": {
          "color": "black",
          "opacity": 0.1,
          "type": "line"
         }
        },
        {
         "data": {
          "values": [
           {
            "x": 4.415695332802262,
            "y": 0
           },
           {
            "x": 4.415695332802262,
            "y": 19.498365272131675
           }
          ]
         },
         "encoding": {
          "x": {
           "field": "x",
           "type": "quantitative"
          },
          "y": {
           "field": "y",
           "type": "quantitative"
          }
         },
         "mark": {
          "color": "black",
          "opacity": 0.1,
          "type": "line"
         }
        },
        {
         "data": {
          "values": [
           {
            "x": 1.0861722391522277,
            "y": 0
           },
           {
            "x": 1.0861722391522277,
            "y": 1.1797701331049641
           }
          ]
         },
         "encoding": {
          "x": {
           "field": "x",
           "type": "quantitative"
          },
          "y": {
           "field": "y",
           "type": "quantitative"
          }
         },
         "mark": {
          "color": "black",
          "opacity": 0.1,
          "type": "line"
         }
        },
        {
         "data": {
          "values": [
           {
            "x": 1.4586705058605198,
            "y": 0
           },
           {
            "x": 1.4586705058605198,
            "y": 2.1277196446673847
           }
          ]
         },
         "encoding": {
          "x": {
           "field": "x",
           "type": "quantitative"
          },
          "y": {
           "field": "y",
           "type": "quantitative"
          }
         },
         "mark": {
          "color": "black",
          "opacity": 0.1,
          "type": "line"
         }
        },
        {
         "data": {
          "values": [
           {
            "x": 2.7062799120069587,
            "y": 0
           },
           {
            "x": 2.7062799120069587,
            "y": 7.323950962132392
           }
          ]
         },
         "encoding": {
          "x": {
           "field": "x",
           "type": "quantitative"
          },
          "y": {
           "field": "y",
           "type": "quantitative"
          }
         },
         "mark": {
          "color": "black",
          "opacity": 0.1,
          "type": "line"
         }
        },
        {
         "data": {
          "values": [
           {
            "x": 0.31856338676920704,
            "y": 0
           },
           {
            "x": 0.31856338676920704,
            "y": 0.10148263138986739
           }
          ]
         },
         "encoding": {
          "x": {
           "field": "x",
           "type": "quantitative"
          },
          "y": {
           "field": "y",
           "type": "quantitative"
          }
         },
         "mark": {
          "color": "black",
          "opacity": 0.1,
          "type": "line"
         }
        },
        {
         "data": {
          "values": [
           {
            "x": 0.12375369381914325,
            "y": 0
           },
           {
            "x": 0.12375369381914325,
            "y": 0.015314976733882255
           }
          ]
         },
         "encoding": {
          "x": {
           "field": "x",
           "type": "quantitative"
          },
          "y": {
           "field": "y",
           "type": "quantitative"
          }
         },
         "mark": {
          "color": "black",
          "opacity": 0.1,
          "type": "line"
         }
        },
        {
         "data": {
          "values": [
           {
            "x": 0.8944669440707687,
            "y": 0
           },
           {
            "x": 0.8944669440707687,
            "y": 0.8000711140352996
           }
          ]
         },
         "encoding": {
          "x": {
           "field": "x",
           "type": "quantitative"
          },
          "y": {
           "field": "y",
           "type": "quantitative"
          }
         },
         "mark": {
          "color": "black",
          "opacity": 0.1,
          "type": "line"
         }
        },
        {
         "data": {
          "values": [
           {
            "x": 2.294039269254902,
            "y": 0
           },
           {
            "x": 2.294039269254902,
            "y": 5.262616168883565
           }
          ]
         },
         "encoding": {
          "x": {
           "field": "x",
           "type": "quantitative"
          },
          "y": {
           "field": "y",
           "type": "quantitative"
          }
         },
         "mark": {
          "color": "black",
          "opacity": 0.1,
          "type": "line"
         }
        },
        {
         "data": {
          "values": [
           {
            "x": 0.09463670930243895,
            "y": 0
           },
           {
            "x": 0.09463670930243895,
            "y": 0.008956106747594334
           }
          ]
         },
         "encoding": {
          "x": {
           "field": "x",
           "type": "quantitative"
          },
          "y": {
           "field": "y",
           "type": "quantitative"
          }
         },
         "mark": {
          "color": "black",
          "opacity": 0.1,
          "type": "line"
         }
        },
        {
         "data": {
          "values": [
           {
            "x": 3.347680900676692,
            "y": 0
           },
           {
            "x": 3.347680900676692,
            "y": 11.206967412755507
           }
          ]
         },
         "encoding": {
          "x": {
           "field": "x",
           "type": "quantitative"
          },
          "y": {
           "field": "y",
           "type": "quantitative"
          }
         },
         "mark": {
          "color": "black",
          "opacity": 0.1,
          "type": "line"
         }
        },
        {
         "data": {
          "values": [
           {
            "x": 1.4138254303779667,
            "y": 0
           },
           {
            "x": 1.4138254303779667,
            "y": 1.9989023475834429
           }
          ]
         },
         "encoding": {
          "x": {
           "field": "x",
           "type": "quantitative"
          },
          "y": {
           "field": "y",
           "type": "quantitative"
          }
         },
         "mark": {
          "color": "black",
          "opacity": 0.1,
          "type": "line"
         }
        },
        {
         "data": {
          "values": [
           {
            "x": 0.5881181043905972,
            "y": 0
           },
           {
            "x": 0.5881181043905972,
            "y": 0.3458829047119894
           }
          ]
         },
         "encoding": {
          "x": {
           "field": "x",
           "type": "quantitative"
          },
          "y": {
           "field": "y",
           "type": "quantitative"
          }
         },
         "mark": {
          "color": "black",
          "opacity": 0.1,
          "type": "line"
         }
        },
        {
         "data": {
          "values": [
           {
            "x": 3.622154465604915,
            "y": 0
           },
           {
            "x": 3.622154465604915,
            "y": 13.120002972701629
           }
          ]
         },
         "encoding": {
          "x": {
           "field": "x",
           "type": "quantitative"
          },
          "y": {
           "field": "y",
           "type": "quantitative"
          }
         },
         "mark": {
          "color": "black",
          "opacity": 0.1,
          "type": "line"
         }
        },
        {
         "data": {
          "values": [
           {
            "x": 3.9734181558436403,
            "y": 0
           },
           {
            "x": 3.9734181558436403,
            "y": 15.788051841187876
           }
          ]
         },
         "encoding": {
          "x": {
           "field": "x",
           "type": "quantitative"
          },
          "y": {
           "field": "y",
           "type": "quantitative"
          }
         },
         "mark": {
          "color": "black",
          "opacity": 0.1,
          "type": "line"
         }
        },
        {
         "data": {
          "values": [
           {
            "x": 0.1656036580993696,
            "y": 0
           },
           {
            "x": 0.1656036580993696,
            "y": 0.027424571575892905
           }
          ]
         },
         "encoding": {
          "x": {
           "field": "x",
           "type": "quantitative"
          },
          "y": {
           "field": "y",
           "type": "quantitative"
          }
         },
         "mark": {
          "color": "black",
          "opacity": 0.1,
          "type": "line"
         }
        },
        {
         "data": {
          "values": [
           {
            "x": 2.7810191888361016,
            "y": 0
           },
           {
            "x": 2.7810191888361016,
            "y": 7.734067728674608
           }
          ]
         },
         "encoding": {
          "x": {
           "field": "x",
           "type": "quantitative"
          },
          "y": {
           "field": "y",
           "type": "quantitative"
          }
         },
         "mark": {
          "color": "black",
          "opacity": 0.1,
          "type": "line"
         }
        },
        {
         "data": {
          "values": [
           {
            "x": -2.5185896518998794,
            "y": 0
           },
           {
            "x": -2.5185896518998794,
            "y": 6.343293834657156
           }
          ]
         },
         "encoding": {
          "x": {
           "field": "x",
           "type": "quantitative"
          },
          "y": {
           "field": "y",
           "type": "quantitative"
          }
         },
         "mark": {
          "color": "black",
          "opacity": 0.1,
          "type": "line"
         }
        },
        {
         "data": {
          "values": [
           {
            "x": 1.78837829420136,
            "y": 0
           },
           {
            "x": 1.78837829420136,
            "y": 3.198296923170566
           }
          ]
         },
         "encoding": {
          "x": {
           "field": "x",
           "type": "quantitative"
          },
          "y": {
           "field": "y",
           "type": "quantitative"
          }
         },
         "mark": {
          "color": "black",
          "opacity": 0.1,
          "type": "line"
         }
        },
        {
         "data": {
          "values": [
           {
            "x": 0.7913713014474857,
            "y": 0
           },
           {
            "x": 0.7913713014474857,
            "y": 0.6262685367546873
           }
          ]
         },
         "encoding": {
          "x": {
           "field": "x",
           "type": "quantitative"
          },
          "y": {
           "field": "y",
           "type": "quantitative"
          }
         },
         "mark": {
          "color": "black",
          "opacity": 0.1,
          "type": "line"
         }
        },
        {
         "data": {
          "values": [
           {
            "x": 5.824988275023657,
            "y": 0
           },
           {
            "x": 5.824988275023657,
            "y": 33.93048840416307
           }
          ]
         },
         "encoding": {
          "x": {
           "field": "x",
           "type": "quantitative"
          },
          "y": {
           "field": "y",
           "type": "quantitative"
          }
         },
         "mark": {
          "color": "black",
          "opacity": 0.1,
          "type": "line"
         }
        },
        {
         "data": {
          "values": [
           {
            "x": 0.6690110294629317,
            "y": 0
           },
           {
            "x": 0.6690110294629317,
            "y": 0.4475757575430516
           }
          ]
         },
         "encoding": {
          "x": {
           "field": "x",
           "type": "quantitative"
          },
          "y": {
           "field": "y",
           "type": "quantitative"
          }
         },
         "mark": {
          "color": "black",
          "opacity": 0.1,
          "type": "line"
         }
        },
        {
         "data": {
          "values": [
           {
            "x": 2.1492366411431902,
            "y": 0
           },
           {
            "x": 2.1492366411431902,
            "y": 4.619218139632462
           }
          ]
         },
         "encoding": {
          "x": {
           "field": "x",
           "type": "quantitative"
          },
          "y": {
           "field": "y",
           "type": "quantitative"
          }
         },
         "mark": {
          "color": "black",
          "opacity": 0.1,
          "type": "line"
         }
        },
        {
         "data": {
          "values": [
           {
            "x": 1.7918840155574898,
            "y": 0
           },
           {
            "x": 1.7918840155574898,
            "y": 3.210848325210434
           }
          ]
         },
         "encoding": {
          "x": {
           "field": "x",
           "type": "quantitative"
          },
          "y": {
           "field": "y",
           "type": "quantitative"
          }
         },
         "mark": {
          "color": "black",
          "opacity": 0.1,
          "type": "line"
         }
        },
        {
         "data": {
          "values": [
           {
            "x": 2.3515973832181336,
            "y": 0
           },
           {
            "x": 2.3515973832181336,
            "y": 5.530010252758373
           }
          ]
         },
         "encoding": {
          "x": {
           "field": "x",
           "type": "quantitative"
          },
          "y": {
           "field": "y",
           "type": "quantitative"
          }
         },
         "mark": {
          "color": "black",
          "opacity": 0.1,
          "type": "line"
         }
        },
        {
         "data": {
          "values": [
           {
            "x": 3.8954239351564666,
            "y": 0
           },
           {
            "x": 3.8954239351564666,
            "y": 15.174327634589892
           }
          ]
         },
         "encoding": {
          "x": {
           "field": "x",
           "type": "quantitative"
          },
          "y": {
           "field": "y",
           "type": "quantitative"
          }
         },
         "mark": {
          "color": "black",
          "opacity": 0.1,
          "type": "line"
         }
        },
        {
         "data": {
          "values": [
           {
            "x": 1.601294661611925,
            "y": 0
           },
           {
            "x": 1.601294661611925,
            "y": 2.5641445933068496
           }
          ]
         },
         "encoding": {
          "x": {
           "field": "x",
           "type": "quantitative"
          },
          "y": {
           "field": "y",
           "type": "quantitative"
          }
         },
         "mark": {
          "color": "black",
          "opacity": 0.1,
          "type": "line"
         }
        },
        {
         "data": {
          "values": [
           {
            "x": 3.084925648872051,
            "y": 0
           },
           {
            "x": 3.084925648872051,
            "y": 9.516766259068644
           }
          ]
         },
         "encoding": {
          "x": {
           "field": "x",
           "type": "quantitative"
          },
          "y": {
           "field": "y",
           "type": "quantitative"
          }
         },
         "mark": {
          "color": "black",
          "opacity": 0.1,
          "type": "line"
         }
        },
        {
         "data": {
          "values": [
           {
            "x": 0.6807366303692053,
            "y": 0
           },
           {
            "x": 0.6807366303692053,
            "y": 0.46340235992642004
           }
          ]
         },
         "encoding": {
          "x": {
           "field": "x",
           "type": "quantitative"
          },
          "y": {
           "field": "y",
           "type": "quantitative"
          }
         },
         "mark": {
          "color": "black",
          "opacity": 0.1,
          "type": "line"
         }
        },
        {
         "data": {
          "values": [
           {
            "x": 5.826967922809947,
            "y": 0
           },
           {
            "x": 5.826967922809947,
            "y": 33.953555173456074
           }
          ]
         },
         "encoding": {
          "x": {
           "field": "x",
           "type": "quantitative"
          },
          "y": {
           "field": "y",
           "type": "quantitative"
          }
         },
         "mark": {
          "color": "black",
          "opacity": 0.1,
          "type": "line"
         }
        },
        {
         "data": {
          "values": [
           {
            "x": 2.2991635399518606,
            "y": 0
           },
           {
            "x": 2.2991635399518606,
            "y": 5.286152983443971
           }
          ]
         },
         "encoding": {
          "x": {
           "field": "x",
           "type": "quantitative"
          },
          "y": {
           "field": "y",
           "type": "quantitative"
          }
         },
         "mark": {
          "color": "black",
          "opacity": 0.1,
          "type": "line"
         }
        },
        {
         "data": {
          "values": [
           {
            "x": 2.6686613845962133,
            "y": 0
           },
           {
            "x": 2.6686613845962133,
            "y": 7.121753585634978
           }
          ]
         },
         "encoding": {
          "x": {
           "field": "x",
           "type": "quantitative"
          },
          "y": {
           "field": "y",
           "type": "quantitative"
          }
         },
         "mark": {
          "color": "black",
          "opacity": 0.1,
          "type": "line"
         }
        },
        {
         "data": {
          "values": [
           {
            "x": -0.47263151709140905,
            "y": 0
           },
           {
            "x": -0.47263151709140905,
            "y": 0.2233805509481269
           }
          ]
         },
         "encoding": {
          "x": {
           "field": "x",
           "type": "quantitative"
          },
          "y": {
           "field": "y",
           "type": "quantitative"
          }
         },
         "mark": {
          "color": "black",
          "opacity": 0.1,
          "type": "line"
         }
        },
        {
         "data": {
          "values": [
           {
            "x": 2.0664755250106475,
            "y": 0
           },
           {
            "x": 2.0664755250106475,
            "y": 4.270321095468031
           }
          ]
         },
         "encoding": {
          "x": {
           "field": "x",
           "type": "quantitative"
          },
          "y": {
           "field": "y",
           "type": "quantitative"
          }
         },
         "mark": {
          "color": "black",
          "opacity": 0.1,
          "type": "line"
         }
        },
        {
         "data": {
          "values": [
           {
            "x": 3.6211376302873752,
            "y": 0
           },
           {
            "x": 3.6211376302873752,
            "y": 13.112637737483267
           }
          ]
         },
         "encoding": {
          "x": {
           "field": "x",
           "type": "quantitative"
          },
          "y": {
           "field": "y",
           "type": "quantitative"
          }
         },
         "mark": {
          "color": "black",
          "opacity": 0.1,
          "type": "line"
         }
        },
        {
         "data": {
          "values": [
           {
            "x": 2.889142419694601,
            "y": 0
           },
           {
            "x": 2.889142419694601,
            "y": 8.347143921278773
           }
          ]
         },
         "encoding": {
          "x": {
           "field": "x",
           "type": "quantitative"
          },
          "y": {
           "field": "y",
           "type": "quantitative"
          }
         },
         "mark": {
          "color": "black",
          "opacity": 0.1,
          "type": "line"
         }
        },
        {
         "data": {
          "values": [
           {
            "x": -1.6869239861481766,
            "y": 0
           },
           {
            "x": -1.6869239861481766,
            "y": 2.8457125350420536
           }
          ]
         },
         "encoding": {
          "x": {
           "field": "x",
           "type": "quantitative"
          },
          "y": {
           "field": "y",
           "type": "quantitative"
          }
         },
         "mark": {
          "color": "black",
          "opacity": 0.1,
          "type": "line"
         }
        },
        {
         "data": {
          "values": [
           {
            "x": 5.659694397159304,
            "y": 0
           },
           {
            "x": 5.659694397159304,
            "y": 32.03214066923641
           }
          ]
         },
         "encoding": {
          "x": {
           "field": "x",
           "type": "quantitative"
          },
          "y": {
           "field": "y",
           "type": "quantitative"
          }
         },
         "mark": {
          "color": "black",
          "opacity": 0.1,
          "type": "line"
         }
        },
        {
         "data": {
          "values": [
           {
            "x": 4.2353562589494285,
            "y": 0
           },
           {
            "x": 4.2353562589494285,
            "y": 17.938242640222096
           }
          ]
         },
         "encoding": {
          "x": {
           "field": "x",
           "type": "quantitative"
          },
          "y": {
           "field": "y",
           "type": "quantitative"
          }
         },
         "mark": {
          "color": "black",
          "opacity": 0.1,
          "type": "line"
         }
        },
        {
         "data": {
          "values": [
           {
            "x": 1.7087101001859715,
            "y": 0
           },
           {
            "x": 1.7087101001859715,
            "y": 2.9196902064775525
           }
          ]
         },
         "encoding": {
          "x": {
           "field": "x",
           "type": "quantitative"
          },
          "y": {
           "field": "y",
           "type": "quantitative"
          }
         },
         "mark": {
          "color": "black",
          "opacity": 0.1,
          "type": "line"
         }
        },
        {
         "data": {
          "values": [
           {
            "x": 1.1367812634079877,
            "y": 0
           },
           {
            "x": 1.1367812634079877,
            "y": 1.2922716408354606
           }
          ]
         },
         "encoding": {
          "x": {
           "field": "x",
           "type": "quantitative"
          },
          "y": {
           "field": "y",
           "type": "quantitative"
          }
         },
         "mark": {
          "color": "black",
          "opacity": 0.1,
          "type": "line"
         }
        },
        {
         "data": {
          "values": [
           {
            "x": 3.5758274513484873,
            "y": 0
           },
           {
            "x": 3.5758274513484873,
            "y": 12.786541961817418
           }
          ]
         },
         "encoding": {
          "x": {
           "field": "x",
           "type": "quantitative"
          },
          "y": {
           "field": "y",
           "type": "quantitative"
          }
         },
         "mark": {
          "color": "black",
          "opacity": 0.1,
          "type": "line"
         }
        },
        {
         "data": {
          "values": [
           {
            "x": -0.4558471754841569,
            "y": 0
           },
           {
            "x": -0.4558471754841569,
            "y": 0.20779664739688372
           }
          ]
         },
         "encoding": {
          "x": {
           "field": "x",
           "type": "quantitative"
          },
          "y": {
           "field": "y",
           "type": "quantitative"
          }
         },
         "mark": {
          "color": "black",
          "opacity": 0.1,
          "type": "line"
         }
        },
        {
         "data": {
          "values": [
           {
            "x": 4.95615904538264,
            "y": 0
           },
           {
            "x": 4.95615904538264,
            "y": 24.563512483128164
           }
          ]
         },
         "encoding": {
          "x": {
           "field": "x",
           "type": "quantitative"
          },
          "y": {
           "field": "y",
           "type": "quantitative"
          }
         },
         "mark": {
          "color": "black",
          "opacity": 0.1,
          "type": "line"
         }
        },
        {
         "data": {
          "values": [
           {
            "x": 0.5967880825526402,
            "y": 0
           },
           {
            "x": 0.5967880825526402,
            "y": 0.3561560154768568
           }
          ]
         },
         "encoding": {
          "x": {
           "field": "x",
           "type": "quantitative"
          },
          "y": {
           "field": "y",
           "type": "quantitative"
          }
         },
         "mark": {
          "color": "black",
          "opacity": 0.1,
          "type": "line"
         }
        },
        {
         "data": {
          "values": [
           {
            "x": 4.258202609121273,
            "y": 0
           },
           {
            "x": 4.258202609121273,
            "y": 18.132289460327218
           }
          ]
         },
         "encoding": {
          "x": {
           "field": "x",
           "type": "quantitative"
          },
          "y": {
           "field": "y",
           "type": "quantitative"
          }
         },
         "mark": {
          "color": "black",
          "opacity": 0.1,
          "type": "line"
         }
        },
        {
         "data": {
          "values": [
           {
            "x": 2.4709934868643133,
            "y": 0
           },
           {
            "x": 2.4709934868643133,
            "y": 6.105808812125857
           }
          ]
         },
         "encoding": {
          "x": {
           "field": "x",
           "type": "quantitative"
          },
          "y": {
           "field": "y",
           "type": "quantitative"
          }
         },
         "mark": {
          "color": "black",
          "opacity": 0.1,
          "type": "line"
         }
        },
        {
         "data": {
          "values": [
           {
            "x": 2.702923401485442,
            "y": 0
           },
           {
            "x": 2.702923401485442,
            "y": 7.305794914297632
           }
          ]
         },
         "encoding": {
          "x": {
           "field": "x",
           "type": "quantitative"
          },
          "y": {
           "field": "y",
           "type": "quantitative"
          }
         },
         "mark": {
          "color": "black",
          "opacity": 0.1,
          "type": "line"
         }
        },
        {
         "data": {
          "values": [
           {
            "x": 1.8950782192182483,
            "y": 0
           },
           {
            "x": 1.8950782192182483,
            "y": 3.591321456955407
           }
          ]
         },
         "encoding": {
          "x": {
           "field": "x",
           "type": "quantitative"
          },
          "y": {
           "field": "y",
           "type": "quantitative"
          }
         },
         "mark": {
          "color": "black",
          "opacity": 0.1,
          "type": "line"
         }
        },
        {
         "data": {
          "values": [
           {
            "x": 2.0993201070179395,
            "y": 0
           },
           {
            "x": 2.0993201070179395,
            "y": 4.407144911729813
           }
          ]
         },
         "encoding": {
          "x": {
           "field": "x",
           "type": "quantitative"
          },
          "y": {
           "field": "y",
           "type": "quantitative"
          }
         },
         "mark": {
          "color": "black",
          "opacity": 0.1,
          "type": "line"
         }
        },
        {
         "data": {
          "values": [
           {
            "x": 4.864053029806765,
            "y": 0
           },
           {
            "x": 4.864053029806765,
            "y": 23.65901187677237
           }
          ]
         },
         "encoding": {
          "x": {
           "field": "x",
           "type": "quantitative"
          },
          "y": {
           "field": "y",
           "type": "quantitative"
          }
         },
         "mark": {
          "color": "black",
          "opacity": 0.1,
          "type": "line"
         }
        },
        {
         "data": {
          "values": [
           {
            "x": -1.0445051956326394,
            "y": 0
           },
           {
            "x": -1.0445051956326394,
            "y": 1.0909911037035784
           }
          ]
         },
         "encoding": {
          "x": {
           "field": "x",
           "type": "quantitative"
          },
          "y": {
           "field": "y",
           "type": "quantitative"
          }
         },
         "mark": {
          "color": "black",
          "opacity": 0.1,
          "type": "line"
         }
        },
        {
         "data": {
          "values": [
           {
            "x": -0.13966440137911418,
            "y": 0
           },
           {
            "x": -0.13966440137911418,
            "y": 0.01950614501258631
           }
          ]
         },
         "encoding": {
          "x": {
           "field": "x",
           "type": "quantitative"
          },
          "y": {
           "field": "y",
           "type": "quantitative"
          }
         },
         "mark": {
          "color": "black",
          "opacity": 0.1,
          "type": "line"
         }
        },
        {
         "data": {
          "values": [
           {
            "x": 2.982149220709316,
            "y": 0
           },
           {
            "x": 2.982149220709316,
            "y": 8.89321397457718
           }
          ]
         },
         "encoding": {
          "x": {
           "field": "x",
           "type": "quantitative"
          },
          "y": {
           "field": "y",
           "type": "quantitative"
          }
         },
         "mark": {
          "color": "black",
          "opacity": 0.1,
          "type": "line"
         }
        },
        {
         "data": {
          "values": [
           {
            "x": 2.910923421723292,
            "y": 0
           },
           {
            "x": 2.910923421723292,
            "y": 8.47347516713724
           }
          ]
         },
         "encoding": {
          "x": {
           "field": "x",
           "type": "quantitative"
          },
          "y": {
           "field": "y",
           "type": "quantitative"
          }
         },
         "mark": {
          "color": "black",
          "opacity": 0.1,
          "type": "line"
         }
        },
        {
         "data": {
          "values": [
           {
            "x": 3.8521840782199233,
            "y": 0
           },
           {
            "x": 3.8521840782199233,
            "y": 14.83932217249108
           }
          ]
         },
         "encoding": {
          "x": {
           "field": "x",
           "type": "quantitative"
          },
          "y": {
           "field": "y",
           "type": "quantitative"
          }
         },
         "mark": {
          "color": "black",
          "opacity": 0.1,
          "type": "line"
         }
        },
        {
         "data": {
          "values": [
           {
            "x": 1.9915563977153337,
            "y": 0
           },
           {
            "x": 1.9915563977153337,
            "y": 3.9662968852808764
           }
          ]
         },
         "encoding": {
          "x": {
           "field": "x",
           "type": "quantitative"
          },
          "y": {
           "field": "y",
           "type": "quantitative"
          }
         },
         "mark": {
          "color": "black",
          "opacity": 0.1,
          "type": "line"
         }
        },
        {
         "data": {
          "values": [
           {
            "x": -0.04647977091292921,
            "y": 0
           },
           {
            "x": -0.04647977091292921,
            "y": 0.0021603691041183802
           }
          ]
         },
         "encoding": {
          "x": {
           "field": "x",
           "type": "quantitative"
          },
          "y": {
           "field": "y",
           "type": "quantitative"
          }
         },
         "mark": {
          "color": "black",
          "opacity": 0.1,
          "type": "line"
         }
        },
        {
         "data": {
          "values": [
           {
            "x": 5.619533500007468,
            "y": 0
           },
           {
            "x": 5.619533500007468,
            "y": 31.579156757706183
           }
          ]
         },
         "encoding": {
          "x": {
           "field": "x",
           "type": "quantitative"
          },
          "y": {
           "field": "y",
           "type": "quantitative"
          }
         },
         "mark": {
          "color": "black",
          "opacity": 0.1,
          "type": "line"
         }
        },
        {
         "data": {
          "values": [
           {
            "x": 0.5253131218793374,
            "y": 0
           },
           {
            "x": 0.5253131218793374,
            "y": 0.2759538760186156
           }
          ]
         },
         "encoding": {
          "x": {
           "field": "x",
           "type": "quantitative"
          },
          "y": {
           "field": "y",
           "type": "quantitative"
          }
         },
         "mark": {
          "color": "black",
          "opacity": 0.1,
          "type": "line"
         }
        },
        {
         "data": {
          "values": [
           {
            "x": 2.417977240186528,
            "y": 0
           },
           {
            "x": 2.417977240186528,
            "y": 5.846613934060059
           }
          ]
         },
         "encoding": {
          "x": {
           "field": "x",
           "type": "quantitative"
          },
          "y": {
           "field": "y",
           "type": "quantitative"
          }
         },
         "mark": {
          "color": "black",
          "opacity": 0.1,
          "type": "line"
         }
        },
        {
         "data": {
          "values": [
           {
            "x": 3.0310864503157893,
            "y": 0
           },
           {
            "x": 3.0310864503157893,
            "y": 9.187485069287971
           }
          ]
         },
         "encoding": {
          "x": {
           "field": "x",
           "type": "quantitative"
          },
          "y": {
           "field": "y",
           "type": "quantitative"
          }
         },
         "mark": {
          "color": "black",
          "opacity": 0.1,
          "type": "line"
         }
        },
        {
         "data": {
          "values": [
           {
            "x": 1.7844136640708848,
            "y": 0
           },
           {
            "x": 1.7844136640708848,
            "y": 3.1841321245228804
           }
          ]
         },
         "encoding": {
          "x": {
           "field": "x",
           "type": "quantitative"
          },
          "y": {
           "field": "y",
           "type": "quantitative"
          }
         },
         "mark": {
          "color": "black",
          "opacity": 0.1,
          "type": "line"
         }
        },
        {
         "data": {
          "values": [
           {
            "x": 1.9703561621127443,
            "y": 0
           },
           {
            "x": 1.9703561621127443,
            "y": 3.882303405575663
           }
          ]
         },
         "encoding": {
          "x": {
           "field": "x",
           "type": "quantitative"
          },
          "y": {
           "field": "y",
           "type": "quantitative"
          }
         },
         "mark": {
          "color": "black",
          "opacity": 0.1,
          "type": "line"
         }
        },
        {
         "data": {
          "values": [
           {
            "x": 1.6270410341427186,
            "y": 0
           },
           {
            "x": 1.6270410341427186,
            "y": 2.6472625267842074
           }
          ]
         },
         "encoding": {
          "x": {
           "field": "x",
           "type": "quantitative"
          },
          "y": {
           "field": "y",
           "type": "quantitative"
          }
         },
         "mark": {
          "color": "black",
          "opacity": 0.1,
          "type": "line"
         }
        },
        {
         "data": {
          "values": [
           {
            "x": 1.177184586173557,
            "y": 0
           },
           {
            "x": 1.177184586173557,
            "y": 1.3857635499246088
           }
          ]
         },
         "encoding": {
          "x": {
           "field": "x",
           "type": "quantitative"
          },
          "y": {
           "field": "y",
           "type": "quantitative"
          }
         },
         "mark": {
          "color": "black",
          "opacity": 0.1,
          "type": "line"
         }
        },
        {
         "data": {
          "values": [
           {
            "x": 3.3068823053855927,
            "y": 0
           },
           {
            "x": 3.3068823053855927,
            "y": 10.935470581672332
           }
          ]
         },
         "encoding": {
          "x": {
           "field": "x",
           "type": "quantitative"
          },
          "y": {
           "field": "y",
           "type": "quantitative"
          }
         },
         "mark": {
          "color": "black",
          "opacity": 0.1,
          "type": "line"
         }
        },
        {
         "data": {
          "values": [
           {
            "x": 6.627846433302709,
            "y": 0
           },
           {
            "x": 6.627846433302709,
            "y": 43.928348343443446
           }
          ]
         },
         "encoding": {
          "x": {
           "field": "x",
           "type": "quantitative"
          },
          "y": {
           "field": "y",
           "type": "quantitative"
          }
         },
         "mark": {
          "color": "black",
          "opacity": 0.1,
          "type": "line"
         }
        },
        {
         "data": {
          "values": [
           {
            "x": 1.428319745158143,
            "y": 0
           },
           {
            "x": 1.428319745158143,
            "y": 2.0400972944086226
           }
          ]
         },
         "encoding": {
          "x": {
           "field": "x",
           "type": "quantitative"
          },
          "y": {
           "field": "y",
           "type": "quantitative"
          }
         },
         "mark": {
          "color": "black",
          "opacity": 0.1,
          "type": "line"
         }
        },
        {
         "data": {
          "values": [
           {
            "x": -0.5357681335496367,
            "y": 0
           },
           {
            "x": -0.5357681335496367,
            "y": 0.28704749292726134
           }
          ]
         },
         "encoding": {
          "x": {
           "field": "x",
           "type": "quantitative"
          },
          "y": {
           "field": "y",
           "type": "quantitative"
          }
         },
         "mark": {
          "color": "black",
          "opacity": 0.1,
          "type": "line"
         }
        },
        {
         "data": {
          "values": [
           {
            "x": 1.7879392450883669,
            "y": 0
           },
           {
            "x": 1.7879392450883669,
            "y": 3.1967267441271594
           }
          ]
         },
         "encoding": {
          "x": {
           "field": "x",
           "type": "quantitative"
          },
          "y": {
           "field": "y",
           "type": "quantitative"
          }
         },
         "mark": {
          "color": "black",
          "opacity": 0.1,
          "type": "line"
         }
        },
        {
         "data": {
          "values": [
           {
            "x": 2.8207086327988176,
            "y": 0
           },
           {
            "x": 2.8207086327988176,
            "y": 7.956397191145775
           }
          ]
         },
         "encoding": {
          "x": {
           "field": "x",
           "type": "quantitative"
          },
          "y": {
           "field": "y",
           "type": "quantitative"
          }
         },
         "mark": {
          "color": "black",
          "opacity": 0.1,
          "type": "line"
         }
        },
        {
         "data": {
          "values": [
           {
            "x": 3.6212122766223134,
            "y": 0
           },
           {
            "x": 3.6212122766223134,
            "y": 13.113178352360158
           }
          ]
         },
         "encoding": {
          "x": {
           "field": "x",
           "type": "quantitative"
          },
          "y": {
           "field": "y",
           "type": "quantitative"
          }
         },
         "mark": {
          "color": "black",
          "opacity": 0.1,
          "type": "line"
         }
        },
        {
         "data": {
          "values": [
           {
            "x": 4.166018795020087,
            "y": 0
           },
           {
            "x": 4.166018795020087,
            "y": 17.35571260046062
           }
          ]
         },
         "encoding": {
          "x": {
           "field": "x",
           "type": "quantitative"
          },
          "y": {
           "field": "y",
           "type": "quantitative"
          }
         },
         "mark": {
          "color": "black",
          "opacity": 0.1,
          "type": "line"
         }
        },
        {
         "data": {
          "values": [
           {
            "x": 3.3703757088386648,
            "y": 0
           },
           {
            "x": 3.3703757088386648,
            "y": 11.359432418729732
           }
          ]
         },
         "encoding": {
          "x": {
           "field": "x",
           "type": "quantitative"
          },
          "y": {
           "field": "y",
           "type": "quantitative"
          }
         },
         "mark": {
          "color": "black",
          "opacity": 0.1,
          "type": "line"
         }
        },
        {
         "data": {
          "values": [
           {
            "x": 6.0423302658038365,
            "y": 0
           },
           {
            "x": 6.0423302658038365,
            "y": 36.50975504104906
           }
          ]
         },
         "encoding": {
          "x": {
           "field": "x",
           "type": "quantitative"
          },
          "y": {
           "field": "y",
           "type": "quantitative"
          }
         },
         "mark": {
          "color": "black",
          "opacity": 0.1,
          "type": "line"
         }
        },
        {
         "data": {
          "values": [
           {
            "x": -4.109438519832295,
            "y": 0
           },
           {
            "x": -4.109438519832295,
            "y": 16.887484948281447
           }
          ]
         },
         "encoding": {
          "x": {
           "field": "x",
           "type": "quantitative"
          },
          "y": {
           "field": "y",
           "type": "quantitative"
          }
         },
         "mark": {
          "color": "black",
          "opacity": 0.1,
          "type": "line"
         }
        },
        {
         "data": {
          "values": [
           {
            "x": 0.1281226519524452,
            "y": 0
           },
           {
            "x": 0.1281226519524452,
            "y": 0.016415413943327413
           }
          ]
         },
         "encoding": {
          "x": {
           "field": "x",
           "type": "quantitative"
          },
          "y": {
           "field": "y",
           "type": "quantitative"
          }
         },
         "mark": {
          "color": "black",
          "opacity": 0.1,
          "type": "line"
         }
        },
        {
         "data": {
          "values": [
           {
            "x": 1.9525494763077533,
            "y": 0
           },
           {
            "x": 1.9525494763077533,
            "y": 3.8124494574296817
           }
          ]
         },
         "encoding": {
          "x": {
           "field": "x",
           "type": "quantitative"
          },
          "y": {
           "field": "y",
           "type": "quantitative"
          }
         },
         "mark": {
          "color": "black",
          "opacity": 0.1,
          "type": "line"
         }
        },
        {
         "data": {
          "values": [
           {
            "x": 1.1488657034137215,
            "y": 0
           },
           {
            "x": 1.1488657034137215,
            "y": 1.319892404480305
           }
          ]
         },
         "encoding": {
          "x": {
           "field": "x",
           "type": "quantitative"
          },
          "y": {
           "field": "y",
           "type": "quantitative"
          }
         },
         "mark": {
          "color": "black",
          "opacity": 0.1,
          "type": "line"
         }
        },
        {
         "data": {
          "values": [
           {
            "x": 4.322978390075248,
            "y": 0
           },
           {
            "x": 4.322978390075248,
            "y": 18.68814216105758
           }
          ]
         },
         "encoding": {
          "x": {
           "field": "x",
           "type": "quantitative"
          },
          "y": {
           "field": "y",
           "type": "quantitative"
          }
         },
         "mark": {
          "color": "black",
          "opacity": 0.1,
          "type": "line"
         }
        },
        {
         "data": {
          "values": [
           {
            "x": 1.412750401190941,
            "y": 0
           },
           {
            "x": 1.412750401190941,
            "y": 1.995863696065165
           }
          ]
         },
         "encoding": {
          "x": {
           "field": "x",
           "type": "quantitative"
          },
          "y": {
           "field": "y",
           "type": "quantitative"
          }
         },
         "mark": {
          "color": "black",
          "opacity": 0.1,
          "type": "line"
         }
        },
        {
         "data": {
          "values": [
           {
            "x": 4.028520117897923,
            "y": 0
           },
           {
            "x": 4.028520117897923,
            "y": 16.228974340308294
           }
          ]
         },
         "encoding": {
          "x": {
           "field": "x",
           "type": "quantitative"
          },
          "y": {
           "field": "y",
           "type": "quantitative"
          }
         },
         "mark": {
          "color": "black",
          "opacity": 0.1,
          "type": "line"
         }
        },
        {
         "data": {
          "values": [
           {
            "x": 0.880921938802655,
            "y": 0
           },
           {
            "x": 0.880921938802655,
            "y": 0.7760234622638287
           }
          ]
         },
         "encoding": {
          "x": {
           "field": "x",
           "type": "quantitative"
          },
          "y": {
           "field": "y",
           "type": "quantitative"
          }
         },
         "mark": {
          "color": "black",
          "opacity": 0.1,
          "type": "line"
         }
        },
        {
         "data": {
          "values": [
           {
            "x": 3.9537927489830045,
            "y": 0
           },
           {
            "x": 3.9537927489830045,
            "y": 15.632477101910583
           }
          ]
         },
         "encoding": {
          "x": {
           "field": "x",
           "type": "quantitative"
          },
          "y": {
           "field": "y",
           "type": "quantitative"
          }
         },
         "mark": {
          "color": "black",
          "opacity": 0.1,
          "type": "line"
         }
        },
        {
         "data": {
          "values": [
           {
            "x": 2.2280251550345582,
            "y": 0
           },
           {
            "x": 2.2280251550345582,
            "y": 4.964096091466767
           }
          ]
         },
         "encoding": {
          "x": {
           "field": "x",
           "type": "quantitative"
          },
          "y": {
           "field": "y",
           "type": "quantitative"
          }
         },
         "mark": {
          "color": "black",
          "opacity": 0.1,
          "type": "line"
         }
        },
        {
         "data": {
          "values": [
           {
            "x": 5.378914692054603,
            "y": 0
           },
           {
            "x": 5.378914692054603,
            "y": 28.932723264400863
           }
          ]
         },
         "encoding": {
          "x": {
           "field": "x",
           "type": "quantitative"
          },
          "y": {
           "field": "y",
           "type": "quantitative"
          }
         },
         "mark": {
          "color": "black",
          "opacity": 0.1,
          "type": "line"
         }
        },
        {
         "data": {
          "values": [
           {
            "x": 3.9438576725719905,
            "y": 0
           },
           {
            "x": 3.9438576725719905,
            "y": 15.554013341504957
           }
          ]
         },
         "encoding": {
          "x": {
           "field": "x",
           "type": "quantitative"
          },
          "y": {
           "field": "y",
           "type": "quantitative"
          }
         },
         "mark": {
          "color": "black",
          "opacity": 0.1,
          "type": "line"
         }
        },
        {
         "data": {
          "values": [
           {
            "x": 2.477655341993725,
            "y": 0
           },
           {
            "x": 2.477655341993725,
            "y": 6.138775993710041
           }
          ]
         },
         "encoding": {
          "x": {
           "field": "x",
           "type": "quantitative"
          },
          "y": {
           "field": "y",
           "type": "quantitative"
          }
         },
         "mark": {
          "color": "black",
          "opacity": 0.1,
          "type": "line"
         }
        },
        {
         "data": {
          "values": [
           {
            "x": 3.5135159643798204,
            "y": 0
           },
           {
            "x": 3.5135159643798204,
            "y": 12.34479443195186
           }
          ]
         },
         "encoding": {
          "x": {
           "field": "x",
           "type": "quantitative"
          },
          "y": {
           "field": "y",
           "type": "quantitative"
          }
         },
         "mark": {
          "color": "black",
          "opacity": 0.1,
          "type": "line"
         }
        },
        {
         "data": {
          "values": [
           {
            "x": 1.5853857453792868,
            "y": 0
           },
           {
            "x": 1.5853857453792868,
            "y": 2.5134479616518366
           }
          ]
         },
         "encoding": {
          "x": {
           "field": "x",
           "type": "quantitative"
          },
          "y": {
           "field": "y",
           "type": "quantitative"
          }
         },
         "mark": {
          "color": "black",
          "opacity": 0.1,
          "type": "line"
         }
        },
        {
         "data": {
          "values": [
           {
            "x": 4.690544619115406,
            "y": 0
           },
           {
            "x": 4.690544619115406,
            "y": 22.00120882391249
           }
          ]
         },
         "encoding": {
          "x": {
           "field": "x",
           "type": "quantitative"
          },
          "y": {
           "field": "y",
           "type": "quantitative"
          }
         },
         "mark": {
          "color": "black",
          "opacity": 0.1,
          "type": "line"
         }
        },
        {
         "data": {
          "values": [
           {
            "x": 3.472858035345686,
            "y": 0
           },
           {
            "x": 3.472858035345686,
            "y": 12.060742933665098
           }
          ]
         },
         "encoding": {
          "x": {
           "field": "x",
           "type": "quantitative"
          },
          "y": {
           "field": "y",
           "type": "quantitative"
          }
         },
         "mark": {
          "color": "black",
          "opacity": 0.1,
          "type": "line"
         }
        },
        {
         "data": {
          "values": [
           {
            "x": -2.5850239809040305,
            "y": 0
           },
           {
            "x": -2.5850239809040305,
            "y": 6.6823489818489215
           }
          ]
         },
         "encoding": {
          "x": {
           "field": "x",
           "type": "quantitative"
          },
          "y": {
           "field": "y",
           "type": "quantitative"
          }
         },
         "mark": {
          "color": "black",
          "opacity": 0.1,
          "type": "line"
         }
        },
        {
         "data": {
          "values": [
           {
            "x": 1.731911079816295,
            "y": 0
           },
           {
            "x": 1.731911079816295,
            "y": 2.999515988390445
           }
          ]
         },
         "encoding": {
          "x": {
           "field": "x",
           "type": "quantitative"
          },
          "y": {
           "field": "y",
           "type": "quantitative"
          }
         },
         "mark": {
          "color": "black",
          "opacity": 0.1,
          "type": "line"
         }
        },
        {
         "data": {
          "values": [
           {
            "x": 3.979129508548142,
            "y": 0
           },
           {
            "x": 3.979129508548142,
            "y": 15.83347164579858
           }
          ]
         },
         "encoding": {
          "x": {
           "field": "x",
           "type": "quantitative"
          },
          "y": {
           "field": "y",
           "type": "quantitative"
          }
         },
         "mark": {
          "color": "black",
          "opacity": 0.1,
          "type": "line"
         }
        },
        {
         "data": {
          "values": [
           {
            "x": 1.9474102226898324,
            "y": 0
           },
           {
            "x": 1.9474102226898324,
            "y": 3.7924065754368628
           }
          ]
         },
         "encoding": {
          "x": {
           "field": "x",
           "type": "quantitative"
          },
          "y": {
           "field": "y",
           "type": "quantitative"
          }
         },
         "mark": {
          "color": "black",
          "opacity": 0.1,
          "type": "line"
         }
        },
        {
         "data": {
          "values": [
           {
            "x": 2.1448762064357068,
            "y": 0
           },
           {
            "x": 2.1448762064357068,
            "y": 4.600493940934029
           }
          ]
         },
         "encoding": {
          "x": {
           "field": "x",
           "type": "quantitative"
          },
          "y": {
           "field": "y",
           "type": "quantitative"
          }
         },
         "mark": {
          "color": "black",
          "opacity": 0.1,
          "type": "line"
         }
        },
        {
         "data": {
          "values": [
           {
            "x": 1.553459445678795,
            "y": 0
           },
           {
            "x": 1.553459445678795,
            "y": 2.4132362493686688
           }
          ]
         },
         "encoding": {
          "x": {
           "field": "x",
           "type": "quantitative"
          },
          "y": {
           "field": "y",
           "type": "quantitative"
          }
         },
         "mark": {
          "color": "black",
          "opacity": 0.1,
          "type": "line"
         }
        },
        {
         "data": {
          "values": [
           {
            "x": 2.29355771769822,
            "y": 0
           },
           {
            "x": 2.29355771769822,
            "y": 5.260407004413067
           }
          ]
         },
         "encoding": {
          "x": {
           "field": "x",
           "type": "quantitative"
          },
          "y": {
           "field": "y",
           "type": "quantitative"
          }
         },
         "mark": {
          "color": "black",
          "opacity": 0.1,
          "type": "line"
         }
        },
        {
         "data": {
          "values": [
           {
            "x": 1.2731105445638622,
            "y": 0
           },
           {
            "x": 1.2731105445638622,
            "y": 1.6208104586796936
           }
          ]
         },
         "encoding": {
          "x": {
           "field": "x",
           "type": "quantitative"
          },
          "y": {
           "field": "y",
           "type": "quantitative"
          }
         },
         "mark": {
          "color": "black",
          "opacity": 0.1,
          "type": "line"
         }
        },
        {
         "data": {
          "values": [
           {
            "x": -0.2912089188681537,
            "y": 0
           },
           {
            "x": -0.2912089188681537,
            "y": 0.08480263442835892
           }
          ]
         },
         "encoding": {
          "x": {
           "field": "x",
           "type": "quantitative"
          },
          "y": {
           "field": "y",
           "type": "quantitative"
          }
         },
         "mark": {
          "color": "black",
          "opacity": 0.1,
          "type": "line"
         }
        },
        {
         "data": {
          "values": [
           {
            "x": 3.3403219391888017,
            "y": 0
           },
           {
            "x": 3.3403219391888017,
            "y": 11.157750657426037
           }
          ]
         },
         "encoding": {
          "x": {
           "field": "x",
           "type": "quantitative"
          },
          "y": {
           "field": "y",
           "type": "quantitative"
          }
         },
         "mark": {
          "color": "black",
          "opacity": 0.1,
          "type": "line"
         }
        },
        {
         "data": {
          "values": [
           {
            "x": 0.7543348505822587,
            "y": 0
           },
           {
            "x": 0.7543348505822587,
            "y": 0.5690210668029585
           }
          ]
         },
         "encoding": {
          "x": {
           "field": "x",
           "type": "quantitative"
          },
          "y": {
           "field": "y",
           "type": "quantitative"
          }
         },
         "mark": {
          "color": "black",
          "opacity": 0.1,
          "type": "line"
         }
        },
        {
         "data": {
          "values": [
           {
            "x": 6.074910860917229,
            "y": 0
           },
           {
            "x": 6.074910860917229,
            "y": 36.90454196809011
           }
          ]
         },
         "encoding": {
          "x": {
           "field": "x",
           "type": "quantitative"
          },
          "y": {
           "field": "y",
           "type": "quantitative"
          }
         },
         "mark": {
          "color": "black",
          "opacity": 0.1,
          "type": "line"
         }
        },
        {
         "data": {
          "values": [
           {
            "x": 2.948705643012637,
            "y": 0
           },
           {
            "x": 2.948705643012637,
            "y": 8.694864969134567
           }
          ]
         },
         "encoding": {
          "x": {
           "field": "x",
           "type": "quantitative"
          },
          "y": {
           "field": "y",
           "type": "quantitative"
          }
         },
         "mark": {
          "color": "black",
          "opacity": 0.1,
          "type": "line"
         }
        },
        {
         "data": {
          "values": [
           {
            "x": -2.4556692674726444,
            "y": 0
           },
           {
            "x": -2.4556692674726444,
            "y": 6.030311551209634
           }
          ]
         },
         "encoding": {
          "x": {
           "field": "x",
           "type": "quantitative"
          },
          "y": {
           "field": "y",
           "type": "quantitative"
          }
         },
         "mark": {
          "color": "black",
          "opacity": 0.1,
          "type": "line"
         }
        },
        {
         "data": {
          "values": [
           {
            "x": 2.61540387201625,
            "y": 0
           },
           {
            "x": 2.61540387201625,
            "y": 6.840337413757593
           }
          ]
         },
         "encoding": {
          "x": {
           "field": "x",
           "type": "quantitative"
          },
          "y": {
           "field": "y",
           "type": "quantitative"
          }
         },
         "mark": {
          "color": "black",
          "opacity": 0.1,
          "type": "line"
         }
        },
        {
         "data": {
          "values": [
           {
            "x": 2.0079982960088865,
            "y": 0
           },
           {
            "x": 2.0079982960088865,
            "y": 4.0320571567745915
           }
          ]
         },
         "encoding": {
          "x": {
           "field": "x",
           "type": "quantitative"
          },
          "y": {
           "field": "y",
           "type": "quantitative"
          }
         },
         "mark": {
          "color": "black",
          "opacity": 0.1,
          "type": "line"
         }
        },
        {
         "data": {
          "values": [
           {
            "x": 2.7247221649811193,
            "y": 0
           },
           {
            "x": 2.7247221649811193,
            "y": 7.424110876339398
           }
          ]
         },
         "encoding": {
          "x": {
           "field": "x",
           "type": "quantitative"
          },
          "y": {
           "field": "y",
           "type": "quantitative"
          }
         },
         "mark": {
          "color": "black",
          "opacity": 0.1,
          "type": "line"
         }
        },
        {
         "data": {
          "values": [
           {
            "x": 3.3078955892933513,
            "y": 0
           },
           {
            "x": 3.3078955892933513,
            "y": 10.942173229666407
           }
          ]
         },
         "encoding": {
          "x": {
           "field": "x",
           "type": "quantitative"
          },
          "y": {
           "field": "y",
           "type": "quantitative"
          }
         },
         "mark": {
          "color": "black",
          "opacity": 0.1,
          "type": "line"
         }
        },
        {
         "data": {
          "values": [
           {
            "x": 2.1756778869283098,
            "y": 0
           },
           {
            "x": 2.1756778869283098,
            "y": 4.7335742676688355
           }
          ]
         },
         "encoding": {
          "x": {
           "field": "x",
           "type": "quantitative"
          },
          "y": {
           "field": "y",
           "type": "quantitative"
          }
         },
         "mark": {
          "color": "black",
          "opacity": 0.1,
          "type": "line"
         }
        },
        {
         "data": {
          "values": [
           {
            "x": -0.9414082027787694,
            "y": 0
           },
           {
            "x": -0.9414082027787694,
            "y": 0.8862494042591526
           }
          ]
         },
         "encoding": {
          "x": {
           "field": "x",
           "type": "quantitative"
          },
          "y": {
           "field": "y",
           "type": "quantitative"
          }
         },
         "mark": {
          "color": "black",
          "opacity": 0.1,
          "type": "line"
         }
        },
        {
         "data": {
          "values": [
           {
            "x": 3.110023225015695,
            "y": 0
           },
           {
            "x": 3.110023225015695,
            "y": 9.672244460137025
           }
          ]
         },
         "encoding": {
          "x": {
           "field": "x",
           "type": "quantitative"
          },
          "y": {
           "field": "y",
           "type": "quantitative"
          }
         },
         "mark": {
          "color": "black",
          "opacity": 0.1,
          "type": "line"
         }
        },
        {
         "data": {
          "values": [
           {
            "x": 1.0038404013031308,
            "y": 0
           },
           {
            "x": 1.0038404013031308,
            "y": 1.0076955512884307
           }
          ]
         },
         "encoding": {
          "x": {
           "field": "x",
           "type": "quantitative"
          },
          "y": {
           "field": "y",
           "type": "quantitative"
          }
         },
         "mark": {
          "color": "black",
          "opacity": 0.1,
          "type": "line"
         }
        },
        {
         "data": {
          "values": [
           {
            "x": 5.006740323814091,
            "y": 0
           },
           {
            "x": 5.006740323814091,
            "y": 25.067448670106028
           }
          ]
         },
         "encoding": {
          "x": {
           "field": "x",
           "type": "quantitative"
          },
          "y": {
           "field": "y",
           "type": "quantitative"
          }
         },
         "mark": {
          "color": "black",
          "opacity": 0.1,
          "type": "line"
         }
        },
        {
         "data": {
          "values": [
           {
            "x": 2.2641252593875993,
            "y": 0
           },
           {
            "x": 2.2641252593875993,
            "y": 5.126263190196964
           }
          ]
         },
         "encoding": {
          "x": {
           "field": "x",
           "type": "quantitative"
          },
          "y": {
           "field": "y",
           "type": "quantitative"
          }
         },
         "mark": {
          "color": "black",
          "opacity": 0.1,
          "type": "line"
         }
        },
        {
         "data": {
          "values": [
           {
            "x": 3.615312490731566,
            "y": 0
           },
           {
            "x": 3.615312490731566,
            "y": 13.070484405639679
           }
          ]
         },
         "encoding": {
          "x": {
           "field": "x",
           "type": "quantitative"
          },
          "y": {
           "field": "y",
           "type": "quantitative"
          }
         },
         "mark": {
          "color": "black",
          "opacity": 0.1,
          "type": "line"
         }
        },
        {
         "data": {
          "values": [
           {
            "x": 5.212950752546728,
            "y": 0
           },
           {
            "x": 5.212950752546728,
            "y": 27.1748555484775
           }
          ]
         },
         "encoding": {
          "x": {
           "field": "x",
           "type": "quantitative"
          },
          "y": {
           "field": "y",
           "type": "quantitative"
          }
         },
         "mark": {
          "color": "black",
          "opacity": 0.1,
          "type": "line"
         }
        },
        {
         "data": {
          "values": [
           {
            "x": 2.401501402320802,
            "y": 0
           },
           {
            "x": 2.401501402320802,
            "y": 5.767208985348779
           }
          ]
         },
         "encoding": {
          "x": {
           "field": "x",
           "type": "quantitative"
          },
          "y": {
           "field": "y",
           "type": "quantitative"
          }
         },
         "mark": {
          "color": "black",
          "opacity": 0.1,
          "type": "line"
         }
        },
        {
         "data": {
          "values": [
           {
            "x": 3.3094093055582725,
            "y": 0
           },
           {
            "x": 3.3094093055582725,
            "y": 10.952189951715688
           }
          ]
         },
         "encoding": {
          "x": {
           "field": "x",
           "type": "quantitative"
          },
          "y": {
           "field": "y",
           "type": "quantitative"
          }
         },
         "mark": {
          "color": "black",
          "opacity": 0.1,
          "type": "line"
         }
        },
        {
         "data": {
          "values": [
           {
            "x": 2.281961695393038,
            "y": 0
           },
           {
            "x": 2.281961695393038,
            "y": 5.207349179241069
           }
          ]
         },
         "encoding": {
          "x": {
           "field": "x",
           "type": "quantitative"
          },
          "y": {
           "field": "y",
           "type": "quantitative"
          }
         },
         "mark": {
          "color": "black",
          "opacity": 0.1,
          "type": "line"
         }
        },
        {
         "data": {
          "values": [
           {
            "x": 0.9674777474537952,
            "y": 0
           },
           {
            "x": 0.9674777474537952,
            "y": 0.9360131918182696
           }
          ]
         },
         "encoding": {
          "x": {
           "field": "x",
           "type": "quantitative"
          },
          "y": {
           "field": "y",
           "type": "quantitative"
          }
         },
         "mark": {
          "color": "black",
          "opacity": 0.1,
          "type": "line"
         }
        },
        {
         "data": {
          "values": [
           {
            "x": 0.7404542564581615,
            "y": 0
           },
           {
            "x": 0.7404542564581615,
            "y": 0.5482725059070088
           }
          ]
         },
         "encoding": {
          "x": {
           "field": "x",
           "type": "quantitative"
          },
          "y": {
           "field": "y",
           "type": "quantitative"
          }
         },
         "mark": {
          "color": "black",
          "opacity": 0.1,
          "type": "line"
         }
        },
        {
         "data": {
          "values": [
           {
            "x": 2.8070792313476813,
            "y": 0
           },
           {
            "x": 2.8070792313476813,
            "y": 7.87969381106349
           }
          ]
         },
         "encoding": {
          "x": {
           "field": "x",
           "type": "quantitative"
          },
          "y": {
           "field": "y",
           "type": "quantitative"
          }
         },
         "mark": {
          "color": "black",
          "opacity": 0.1,
          "type": "line"
         }
        },
        {
         "data": {
          "values": [
           {
            "x": 3.3661657350068936,
            "y": 0
           },
           {
            "x": 3.3661657350068936,
            "y": 11.3310717555345
           }
          ]
         },
         "encoding": {
          "x": {
           "field": "x",
           "type": "quantitative"
          },
          "y": {
           "field": "y",
           "type": "quantitative"
          }
         },
         "mark": {
          "color": "black",
          "opacity": 0.1,
          "type": "line"
         }
        },
        {
         "data": {
          "values": [
           {
            "x": 3.629494852238069,
            "y": 0
           },
           {
            "x": 3.629494852238069,
            "y": 13.17323288242264
           }
          ]
         },
         "encoding": {
          "x": {
           "field": "x",
           "type": "quantitative"
          },
          "y": {
           "field": "y",
           "type": "quantitative"
          }
         },
         "mark": {
          "color": "black",
          "opacity": 0.1,
          "type": "line"
         }
        },
        {
         "layer": [
          {
           "data": {
            "values": [
             {
              "x": 1.0323756787022422,
              "y": 0
             },
             {
              "x": 0.8354039896005354,
              "y": 0
             },
             {
              "x": 5.501086968401772,
              "y": 0
             },
             {
              "x": 1.8427929733970272,
              "y": 0
             },
             {
              "x": 2.84435852250431,
              "y": 0
             },
             {
              "x": 1.3515980084714456,
              "y": 0
             },
             {
              "x": 2.839484800408642,
              "y": 0
             },
             {
              "x": -0.08538309332219551,
              "y": 0
             },
             {
              "x": 4.306931739822586,
              "y": 0
             },
             {
              "x": 0.5572853264124391,
              "y": 0
             },
             {
              "x": 5.597439130187254,
              "y": 0
             },
             {
              "x": 1.6635630869199125,
              "y": 0
             },
             {
              "x": 1.6784646926890703,
              "y": 0
             },
             {
              "x": 0.07735947400749321,
              "y": 0
             },
             {
              "x": 2.424696157900438,
              "y": 0
             },
             {
              "x": 6.187414439506261,
              "y": 0
             },
             {
              "x": 2.235976507974666,
              "y": 0
             },
             {
              "x": 4.284348962572987,
              "y": 0
             },
             {
              "x": 1.608904501038111,
              "y": 0
             },
             {
              "x": 0.4786333862467469,
              "y": 0
             },
             {
              "x": 4.140429817260685,
              "y": 0
             },
             {
              "x": 1.5799848241010794,
              "y": 0
             },
             {
              "x": 1.0171341607376145,
              "y": 0
             },
             {
              "x": 3.7819392297852534,
              "y": 0
             },
             {
              "x": 4.1711720526297595,
              "y": 0
             },
             {
              "x": 3.540083864805946,
              "y": 0
             },
             {
              "x": 3.2859376897095722,
              "y": 0
             },
             {
              "x": -1.448975002127721,
              "y": 0
             },
             {
              "x": 5.474813178268483,
              "y": 0
             },
             {
              "x": 1.8481416519360723,
              "y": 0
             },
             {
              "x": 2.086438682448386,
              "y": 0
             },
             {
              "x": 4.215479728011749,
              "y": 0
             },
             {
              "x": 2.5464192906282217,
              "y": 0
             },
             {
              "x": 4.094046326404587,
              "y": 0
             },
             {
              "x": 3.28415176053376,
              "y": 0
             },
             {
              "x": 1.864007923871898,
              "y": 0
             },
             {
              "x": 3.7069213736419453,
              "y": 0
             },
             {
              "x": 0.30443314930133614,
              "y": 0
             },
             {
              "x": 1.5440583144519366,
              "y": 0
             },
             {
              "x": 0.47727085757300625,
              "y": 0
             },
             {
              "x": 4.891417484530369,
              "y": 0
             },
             {
              "x": 2.51331581222879,
              "y": 0
             },
             {
              "x": 5.778636633955188,
              "y": 0
             },
             {
              "x": 2.0145166343101044,
              "y": 0
             },
             {
              "x": -0.40498260439227396,
              "y": 0
             },
             {
              "x": -0.4772548530505256,
              "y": 0
             },
             {
              "x": 2.6723888696232816,
              "y": 0
             },
             {
              "x": 3.839934556127765,
              "y": 0
             },
             {
              "x": 3.1096774325969436,
              "y": 0
             },
             {
              "x": 1.563091731227707,
              "y": 0
             },
             {
              "x": 1.618287291176927,
              "y": 0
             },
             {
              "x": 0.9779371310872962,
              "y": 0
             },
             {
              "x": 2.1010975763298747,
              "y": 0
             },
             {
              "x": 4.031492972572683,
              "y": 0
             },
             {
              "x": -0.48163817656243246,
              "y": 0
             },
             {
              "x": 3.510635466704089,
              "y": 0
             },
             {
              "x": 2.5142834278581576,
              "y": 0
             },
             {
              "x": 2.2059301296946012,
              "y": 0
             },
             {
              "x": 0.15248044306138553,
              "y": 0
             },
             {
              "x": 2.2309872787718827,
              "y": 0
             },
             {
              "x": -1.8962353171434314,
              "y": 0
             },
             {
              "x": 0.26441972454096563,
              "y": 0
             },
             {
              "x": 0.9537206412975339,
              "y": 0
             },
             {
              "x": 2.9165782027526452,
              "y": 0
             },
             {
              "x": 1.145230888615756,
              "y": 0
             },
             {
              "x": 1.8890559618231295,
              "y": 0
             },
             {
              "x": 2.0811332542344743,
              "y": 0
             },
             {
              "x": 1.7483087540724218,
              "y": 0
             },
             {
              "x": 0.10480380384694366,
              "y": 0
             },
             {
              "x": 1.8821638650052444,
              "y": 0
             },
             {
              "x": 3.3362435738688285,
              "y": 0
             },
             {
              "x": 2.4983228957951136,
              "y": 0
             },
             {
              "x": 4.330880361129627,
              "y": 0
             },
             {
              "x": 4.304295864794375,
              "y": 0
             },
             {
              "x": 0.9055913630505303,
              "y": 0
             },
             {
              "x": 3.873707388086263,
              "y": 0
             },
             {
              "x": 5.076476939703948,
              "y": 0
             },
             {
              "x": 2.1660301166490075,
              "y": 0
             },
             {
              "x": 4.185070782052092,
              "y": 0
             },
             {
              "x": 3.9241825978300424,
              "y": 0
             },
             {
              "x": 4.255013136348975,
              "y": 0
             },
             {
              "x": 4.256870028414305,
              "y": 0
             },
             {
              "x": 3.0900452605218676,
              "y": 0
             },
             {
              "x": 5.32252400833082,
              "y": 0
             },
             {
              "x": 0.24391578665869273,
              "y": 0
             },
             {
              "x": 1.130716721876438,
              "y": 0
             },
             {
              "x": 1.4600703086487012,
              "y": 0
             },
             {
              "x": 4.6504725864534535,
              "y": 0
             },
             {
              "x": 3.3245952751811885,
              "y": 0
             },
             {
              "x": 0.20806186954430972,
              "y": 0
             },
             {
              "x": 6.169459224238772,
              "y": 0
             },
             {
              "x": 1.5653254140684114,
              "y": 0
             },
             {
              "x": -0.45835748676744137,
              "y": 0
             },
             {
              "x": 6.22280954651263,
              "y": 0
             },
             {
              "x": 6.514897085157576,
              "y": 0
             },
             {
              "x": 2.858766358206445,
              "y": 0
             },
             {
              "x": 3.2085630860570094,
              "y": 0
             },
             {
              "x": 1.6449213051506848,
              "y": 0
             },
             {
              "x": 2.561917167896689,
              "y": 0
             },
             {
              "x": 1.8639818993471056,
              "y": 0
             },
             {
              "x": 2.580506562704831,
              "y": 0
             },
             {
              "x": -1.2271221838691226,
              "y": 0
             },
             {
              "x": 0.9715195841961841,
              "y": 0
             },
             {
              "x": 3.212257967246785,
              "y": 0
             },
             {
              "x": 1.1664940048752694,
              "y": 0
             },
             {
              "x": 2.179786320764256,
              "y": 0
             },
             {
              "x": 2.2236623998712566,
              "y": 0
             },
             {
              "x": 7.080640923168826,
              "y": 0
             },
             {
              "x": 2.642861454442078,
              "y": 0
             },
             {
              "x": 7.574202675908728,
              "y": 0
             },
             {
              "x": 1.4135650493095933,
              "y": 0
             },
             {
              "x": 6.025836103008414,
              "y": 0
             },
             {
              "x": 2.923891097733491,
              "y": 0
             },
             {
              "x": 0.22068438306025406,
              "y": 0
             },
             {
              "x": 1.686918759534162,
              "y": 0
             },
             {
              "x": 1.7542346536408888,
              "y": 0
             },
             {
              "x": -0.9257810181551349,
              "y": 0
             },
             {
              "x": 2.9389966702959276,
              "y": 0
             },
             {
              "x": -3.2740589505112405,
              "y": 0
             },
             {
              "x": 4.187407867055754,
              "y": 0
             },
             {
              "x": 0.8323031563235541,
              "y": 0
             },
             {
              "x": 3.3023251395351645,
              "y": 0
             },
             {
              "x": -0.22758795161713108,
              "y": 0
             },
             {
              "x": -1.4290569157851238,
              "y": 0
             },
             {
              "x": 4.541669801666321,
              "y": 0
             },
             {
              "x": 4.404035775567748,
              "y": 0
             },
             {
              "x": 0.904461361150801,
              "y": 0
             },
             {
              "x": 3.830360431658237,
              "y": 0
             },
             {
              "x": 0.4167377088977462,
              "y": 0
             },
             {
              "x": 1.3983564285011758,
              "y": 0
             },
             {
              "x": 4.730445858386805,
              "y": 0
             },
             {
              "x": 6.167511209875933,
              "y": 0
             },
             {
              "x": 2.6903851496597193,
              "y": 0
             },
             {
              "x": -0.10546596492614002,
              "y": 0
             },
             {
              "x": 1.4263422347760881,
              "y": 0
             },
             {
              "x": 3.5102366324359413,
              "y": 0
             },
             {
              "x": 0.8712937291448519,
              "y": 0
             },
             {
              "x": 4.048966054582533,
              "y": 0
             },
             {
              "x": 0.7878440508966593,
              "y": 0
             },
             {
              "x": 3.4052324185843537,
              "y": 0
             },
             {
              "x": 2.449672884576901,
              "y": 0
             },
             {
              "x": 3.54879076554944,
              "y": 0
             },
             {
              "x": 3.5783501798940383,
              "y": 0
             },
             {
              "x": 6.465487026535432,
              "y": 0
             },
             {
              "x": 3.9592646959347024,
              "y": 0
             },
             {
              "x": 2.753361572585738,
              "y": 0
             },
             {
              "x": 4.982984338005819,
              "y": 0
             },
             {
              "x": 1.6501548858410866,
              "y": 0
             },
             {
              "x": 7.720081722471051,
              "y": 0
             },
             {
              "x": 2.235478051096992,
              "y": 0
             },
             {
              "x": 4.410968356573738,
              "y": 0
             },
             {
              "x": -3.1677118558313486,
              "y": 0
             },
             {
              "x": 1.6737445446338932,
              "y": 0
             },
             {
              "x": -0.5385088870296011,
              "y": 0
             },
             {
              "x": 2.9137762919490466,
              "y": 0
             },
             {
              "x": 5.702538059306933,
              "y": 0
             },
             {
              "x": 1.8085947220900236,
              "y": 0
             },
             {
              "x": 3.9186896636376987,
              "y": 0
             },
             {
              "x": 3.6325049990973524,
              "y": 0
             },
             {
              "x": 1.8344384124134243,
              "y": 0
             },
             {
              "x": 4.794607463084045,
              "y": 0
             },
             {
              "x": 2.4113330284824612,
              "y": 0
             },
             {
              "x": 2.4871706153629742,
              "y": 0
             },
             {
              "x": 1.1019138961598365,
              "y": 0
             },
             {
              "x": 3.4524053878579615,
              "y": 0
             },
             {
              "x": 1.4105822701246526,
              "y": 0
             },
             {
              "x": -1.6344517419873155,
              "y": 0
             },
             {
              "x": 1.3711589023375796,
              "y": 0
             },
             {
              "x": 0.4916159444628181,
              "y": 0
             },
             {
              "x": 0.09488234203053958,
              "y": 0
             },
             {
              "x": 2.9385384412977773,
              "y": 0
             },
             {
              "x": 4.894689027088205,
              "y": 0
             },
             {
              "x": -1.9339666994889964,
              "y": 0
             },
             {
              "x": 3.668448502971759,
              "y": 0
             },
             {
              "x": 4.415695332802262,
              "y": 0
             },
             {
              "x": 1.0861722391522277,
              "y": 0
             },
             {
              "x": 1.4586705058605198,
              "y": 0
             },
             {
              "x": 2.7062799120069587,
              "y": 0
             },
             {
              "x": 0.31856338676920704,
              "y": 0
             },
             {
              "x": 0.12375369381914325,
              "y": 0
             },
             {
              "x": 0.8944669440707687,
              "y": 0
             },
             {
              "x": 2.294039269254902,
              "y": 0
             },
             {
              "x": 0.09463670930243895,
              "y": 0
             },
             {
              "x": 3.347680900676692,
              "y": 0
             },
             {
              "x": 1.4138254303779667,
              "y": 0
             },
             {
              "x": 0.5881181043905972,
              "y": 0
             },
             {
              "x": 3.622154465604915,
              "y": 0
             },
             {
              "x": 3.9734181558436403,
              "y": 0
             },
             {
              "x": 0.1656036580993696,
              "y": 0
             },
             {
              "x": 2.7810191888361016,
              "y": 0
             },
             {
              "x": -2.5185896518998794,
              "y": 0
             },
             {
              "x": 1.78837829420136,
              "y": 0
             },
             {
              "x": 0.7913713014474857,
              "y": 0
             },
             {
              "x": 5.824988275023657,
              "y": 0
             },
             {
              "x": 0.6690110294629317,
              "y": 0
             },
             {
              "x": 2.1492366411431902,
              "y": 0
             },
             {
              "x": 1.7918840155574898,
              "y": 0
             },
             {
              "x": 2.3515973832181336,
              "y": 0
             },
             {
              "x": 3.8954239351564666,
              "y": 0
             },
             {
              "x": 1.601294661611925,
              "y": 0
             },
             {
              "x": 3.084925648872051,
              "y": 0
             },
             {
              "x": 0.6807366303692053,
              "y": 0
             },
             {
              "x": 5.826967922809947,
              "y": 0
             },
             {
              "x": 2.2991635399518606,
              "y": 0
             },
             {
              "x": 2.6686613845962133,
              "y": 0
             },
             {
              "x": -0.47263151709140905,
              "y": 0
             },
             {
              "x": 2.0664755250106475,
              "y": 0
             },
             {
              "x": 3.6211376302873752,
              "y": 0
             },
             {
              "x": 2.889142419694601,
              "y": 0
             },
             {
              "x": -1.6869239861481766,
              "y": 0
             },
             {
              "x": 5.659694397159304,
              "y": 0
             },
             {
              "x": 4.2353562589494285,
              "y": 0
             },
             {
              "x": 1.7087101001859715,
              "y": 0
             },
             {
              "x": 1.1367812634079877,
              "y": 0
             },
             {
              "x": 3.5758274513484873,
              "y": 0
             },
             {
              "x": -0.4558471754841569,
              "y": 0
             },
             {
              "x": 4.95615904538264,
              "y": 0
             },
             {
              "x": 0.5967880825526402,
              "y": 0
             },
             {
              "x": 4.258202609121273,
              "y": 0
             },
             {
              "x": 2.4709934868643133,
              "y": 0
             },
             {
              "x": 2.702923401485442,
              "y": 0
             },
             {
              "x": 1.8950782192182483,
              "y": 0
             },
             {
              "x": 2.0993201070179395,
              "y": 0
             },
             {
              "x": 4.864053029806765,
              "y": 0
             },
             {
              "x": -1.0445051956326394,
              "y": 0
             },
             {
              "x": -0.13966440137911418,
              "y": 0
             },
             {
              "x": 2.982149220709316,
              "y": 0
             },
             {
              "x": 2.910923421723292,
              "y": 0
             },
             {
              "x": 3.8521840782199233,
              "y": 0
             },
             {
              "x": 1.9915563977153337,
              "y": 0
             },
             {
              "x": -0.04647977091292921,
              "y": 0
             },
             {
              "x": 5.619533500007468,
              "y": 0
             },
             {
              "x": 0.5253131218793374,
              "y": 0
             },
             {
              "x": 2.417977240186528,
              "y": 0
             },
             {
              "x": 3.0310864503157893,
              "y": 0
             },
             {
              "x": 1.7844136640708848,
              "y": 0
             },
             {
              "x": 1.9703561621127443,
              "y": 0
             },
             {
              "x": 1.6270410341427186,
              "y": 0
             },
             {
              "x": 1.177184586173557,
              "y": 0
             },
             {
              "x": 3.3068823053855927,
              "y": 0
             },
             {
              "x": 6.627846433302709,
              "y": 0
             },
             {
              "x": 1.428319745158143,
              "y": 0
             },
             {
              "x": -0.5357681335496367,
              "y": 0
             },
             {
              "x": 1.7879392450883669,
              "y": 0
             },
             {
              "x": 2.8207086327988176,
              "y": 0
             },
             {
              "x": 3.6212122766223134,
              "y": 0
             },
             {
              "x": 4.166018795020087,
              "y": 0
             },
             {
              "x": 3.3703757088386648,
              "y": 0
             },
             {
              "x": 6.0423302658038365,
              "y": 0
             },
             {
              "x": -4.109438519832295,
              "y": 0
             },
             {
              "x": 0.1281226519524452,
              "y": 0
             },
             {
              "x": 1.9525494763077533,
              "y": 0
             },
             {
              "x": 1.1488657034137215,
              "y": 0
             },
             {
              "x": 4.322978390075248,
              "y": 0
             },
             {
              "x": 1.412750401190941,
              "y": 0
             },
             {
              "x": 4.028520117897923,
              "y": 0
             },
             {
              "x": 0.880921938802655,
              "y": 0
             },
             {
              "x": 3.9537927489830045,
              "y": 0
             },
             {
              "x": 2.2280251550345582,
              "y": 0
             },
             {
              "x": 5.378914692054603,
              "y": 0
             },
             {
              "x": 3.9438576725719905,
              "y": 0
             },
             {
              "x": 2.477655341993725,
              "y": 0
             },
             {
              "x": 3.5135159643798204,
              "y": 0
             },
             {
              "x": 1.5853857453792868,
              "y": 0
             },
             {
              "x": 4.690544619115406,
              "y": 0
             },
             {
              "x": 3.472858035345686,
              "y": 0
             },
             {
              "x": -2.5850239809040305,
              "y": 0
             },
             {
              "x": 1.731911079816295,
              "y": 0
             },
             {
              "x": 3.979129508548142,
              "y": 0
             },
             {
              "x": 1.9474102226898324,
              "y": 0
             },
             {
              "x": 2.1448762064357068,
              "y": 0
             },
             {
              "x": 1.553459445678795,
              "y": 0
             },
             {
              "x": 2.29355771769822,
              "y": 0
             },
             {
              "x": 1.2731105445638622,
              "y": 0
             },
             {
              "x": -0.2912089188681537,
              "y": 0
             },
             {
              "x": 3.3403219391888017,
              "y": 0
             },
             {
              "x": 0.7543348505822587,
              "y": 0
             },
             {
              "x": 6.074910860917229,
              "y": 0
             },
             {
              "x": 2.948705643012637,
              "y": 0
             },
             {
              "x": -2.4556692674726444,
              "y": 0
             },
             {
              "x": 2.61540387201625,
              "y": 0
             },
             {
              "x": 2.0079982960088865,
              "y": 0
             },
             {
              "x": 2.7247221649811193,
              "y": 0
             },
             {
              "x": 3.3078955892933513,
              "y": 0
             },
             {
              "x": 2.1756778869283098,
              "y": 0
             },
             {
              "x": -0.9414082027787694,
              "y": 0
             },
             {
              "x": 3.110023225015695,
              "y": 0
             },
             {
              "x": 1.0038404013031308,
              "y": 0
             },
             {
              "x": 5.006740323814091,
              "y": 0
             },
             {
              "x": 2.2641252593875993,
              "y": 0
             },
             {
              "x": 3.615312490731566,
              "y": 0
             },
             {
              "x": 5.212950752546728,
              "y": 0
             },
             {
              "x": 2.401501402320802,
              "y": 0
             },
             {
              "x": 3.3094093055582725,
              "y": 0
             },
             {
              "x": 2.281961695393038,
              "y": 0
             },
             {
              "x": 0.9674777474537952,
              "y": 0
             },
             {
              "x": 0.7404542564581615,
              "y": 0
             },
             {
              "x": 2.8070792313476813,
              "y": 0
             },
             {
              "x": 3.3661657350068936,
              "y": 0
             },
             {
              "x": 3.629494852238069,
              "y": 0
             }
            ]
           },
           "encoding": {
            "x": {
             "field": "x",
             "type": "quantitative"
            },
            "y": {
             "field": "y",
             "type": "quantitative"
            }
           },
           "mark": {
            "color": "darkblue",
            "opacity": 0.2,
            "size": 10,
            "type": "point"
           }
          },
          {
           "data": {
            "values": [
             {
              "x": 1.0323756787022422,
              "y": 1.0657995419759152
             },
             {
              "x": 0.8354039896005354,
              "y": 0.6978998258404915
             },
             {
              "x": 5.501086968401772,
              "y": 30.261957833919798
             },
             {
              "x": 1.8427929733970272,
              "y": 3.3958859428014567
             },
             {
              "x": 2.84435852250431,
              "y": 8.090375404542902
             },
             {
              "x": 1.3515980084714456,
              "y": 1.826817176503978
             },
             {
              "x": 2.839484800408642,
              "y": 8.062673931751707
             },
             {
              "x": -0.08538309332219551,
              "y": 0.0072902726252667485
             },
             {
              "x": 4.306931739822586,
              "y": 18.549661011491207
             },
             {
              "x": 0.5572853264124391,
              "y": 0.3105669350346188
             },
             {
              "x": 5.597439130187254,
              "y": 31.331324816151447
             },
             {
              "x": 1.6635630869199125,
              "y": 2.7674421441625086
             },
             {
              "x": 1.6784646926890703,
              "y": 2.817243724603815
             },
             {
              "x": 0.07735947400749321,
              "y": 0.005984488218716018
             },
             {
              "x": 2.424696157900438,
              "y": 5.879151458137146
             },
             {
              "x": 6.187414439506261,
              "y": 38.28409744621058
             },
             {
              "x": 2.235976507974666,
              "y": 4.999590944214581
             },
             {
              "x": 4.284348962572987,
              "y": 18.355646033100232
             },
             {
              "x": 1.608904501038111,
              "y": 2.5885736934606927
             },
             {
              "x": 0.4786333862467469,
              "y": 0.2290899184300276
             },
             {
              "x": 4.140429817260685,
              "y": 17.14315907166135
             },
             {
              "x": 1.5799848241010794,
              "y": 2.496352044389719
             },
             {
              "x": 1.0171341607376145,
              "y": 1.0345619009394116
             },
             {
              "x": 3.7819392297852534,
              "y": 14.303064337788676
             },
             {
              "x": 4.1711720526297595,
              "y": 17.39867629263956
             },
             {
              "x": 3.540083864805946,
              "y": 12.532193769859404
             },
             {
              "x": 3.2859376897095722,
              "y": 10.79738650065388
             },
             {
              "x": -1.448975002127721,
              "y": 2.099528556791029
             },
             {
              "x": 5.474813178268483,
              "y": 29.973579336942247
             },
             {
              "x": 1.8481416519360723,
              "y": 3.4156275656209942
             },
             {
              "x": 2.086438682448386,
              "y": 4.353226375616957
             },
             {
              "x": 4.215479728011749,
              "y": 17.77026933727801
             },
             {
              "x": 2.5464192906282217,
              "y": 6.484251203683536
             },
             {
              "x": 4.094046326404587,
              "y": 16.7612153227469
             },
             {
              "x": 3.28415176053376,
              "y": 10.785652786216996
             },
             {
              "x": 1.864007923871898,
              "y": 3.4745255402572237
             },
             {
              "x": 3.7069213736419453,
              "y": 13.741266070363487
             },
             {
              "x": 0.30443314930133614,
              "y": 0.09267954239352962
             },
             {
              "x": 1.5440583144519366,
              "y": 2.3841160784281556
             },
             {
              "x": 0.47727085757300625,
              "y": 0.2277874714884728
             },
             {
              "x": 4.891417484530369,
              "y": 23.925965007969406
             },
             {
              "x": 2.51331581222879,
              "y": 6.316756371999262
             },
             {
              "x": 5.778636633955188,
              "y": 33.392641347288944
             },
             {
              "x": 2.0145166343101044,
              "y": 4.058277269912111
             },
             {
              "x": -0.40498260439227396,
              "y": 0.16401090986034908
             },
             {
              "x": -0.4772548530505256,
              "y": 0.2277721947602788
             },
             {
              "x": 2.6723888696232816,
              "y": 7.141662270486401
             },
             {
              "x": 3.839934556127765,
              "y": 14.745097395344137
             },
             {
              "x": 3.1096774325969436,
              "y": 9.67009373480272
             },
             {
              "x": 1.563091731227707,
              "y": 2.4432557602324305
             },
             {
              "x": 1.618287291176927,
              "y": 2.6188537567847563
             },
             {
              "x": 0.9779371310872962,
              "y": 0.9563610323592515
             },
             {
              "x": 2.1010975763298747,
              "y": 4.414611025259274
             },
             {
              "x": 4.031492972572683,
              "y": 16.252935587902925
             },
             {
              "x": -0.48163817656243246,
              "y": 0.23197533312238486
             },
             {
              "x": 3.510635466704089,
              "y": 12.324561380080636
             },
             {
              "x": 2.5142834278581576,
              "y": 6.321621155602167
             },
             {
              "x": 2.2059301296946012,
              "y": 4.86612773709444
             },
             {
              "x": 0.15248044306138553,
              "y": 0.023250285516196435
             },
             {
              "x": 2.2309872787718827,
              "y": 4.97730423804197
             },
             {
              "x": -1.8962353171434314,
              "y": 3.59570837798205
             },
             {
              "x": 0.26441972454096563,
              "y": 0.06991779072632014
             },
             {
              "x": 0.9537206412975339,
              "y": 0.9095830616369792
             },
             {
              "x": 2.9165782027526452,
              "y": 8.50642841277185
             },
             {
              "x": 1.145230888615756,
              "y": 1.3115537882396342
             },
             {
              "x": 1.8890559618231295,
              "y": 3.568532426899509
             },
             {
              "x": 2.0811332542344743,
              "y": 4.331115621880573
             },
             {
              "x": 1.7483087540724218,
              "y": 3.0565834995662637
             },
             {
              "x": 0.10480380384694366,
              "y": 0.010983837300788642
             },
             {
              "x": 1.8821638650052444,
              "y": 3.54254081473148
             },
             {
              "x": 3.3362435738688285,
              "y": 11.130521184181054
             },
             {
              "x": 2.4983228957951136,
              "y": 6.241617291654082
             },
             {
              "x": 4.330880361129627,
              "y": 18.75652470241829
             },
             {
              "x": 4.304295864794375,
              "y": 18.52696289168596
             },
             {
              "x": 0.9055913630505303,
              "y": 0.8200957168317174
             },
             {
              "x": 3.873707388086263,
              "y": 15.005608928514098
             },
             {
              "x": 5.076476939703948,
              "y": 25.77061811934596
             },
             {
              "x": 2.1660301166490075,
              "y": 4.691686466230513
             },
             {
              "x": 4.185070782052092,
              "y": 17.514817450786108
             },
             {
              "x": 3.9241825978300424,
              "y": 15.39920906111214
             },
             {
              "x": 4.255013136348975,
              "y": 18.10513679050234
             },
             {
              "x": 4.256870028414305,
              "y": 18.120942438812005
             },
             {
              "x": 3.0900452605218676,
              "y": 9.548379712073656
             },
             {
              "x": 5.32252400833082,
              "y": 28.32926181925798
             },
             {
              "x": 0.24391578665869273,
              "y": 0.05949491098132891
             },
             {
              "x": 1.130716721876438,
              "y": 1.2785203051309981
             },
             {
              "x": 1.4600703086487012,
              "y": 2.1318053061975135
             },
             {
              "x": 4.6504725864534535,
              "y": 21.626895277355075
             },
             {
              "x": 3.3245952751811885,
              "y": 11.052933743757082
             },
             {
              "x": 0.20806186954430972,
              "y": 0.04328974155827336
             },
             {
              "x": 6.169459224238772,
              "y": 38.06222711954487
             },
             {
              "x": 1.5653254140684114,
              "y": 2.4502436519284436
             },
             {
              "x": -0.45835748676744137,
              "y": 0.2100915856757652
             },
             {
              "x": 6.22280954651263,
              "y": 38.72335865216872
             },
             {
              "x": 6.514897085157576,
              "y": 42.443884030194674
             },
             {
              "x": 2.858766358206445,
              "y": 8.17254509081294
             },
             {
              "x": 3.2085630860570094,
              "y": 10.29487707720768
             },
             {
              "x": 1.6449213051506848,
              "y": 2.705766100138632
             },
             {
              "x": 2.561917167896689,
              "y": 6.563419575163793
             },
             {
              "x": 1.8639818993471056,
              "y": 3.474428521093643
             },
             {
              "x": 2.580506562704831,
              "y": 6.659014120162701
             },
             {
              "x": -1.2271221838691226,
              "y": 1.5058288541437248
             },
             {
              "x": 0.9715195841961841,
              "y": 0.9438503024767265
             },
             {
              "x": 3.212257967246785,
              "y": 10.318601248140448
             },
             {
              "x": 1.1664940048752694,
              "y": 1.3607082634099452
             },
             {
              "x": 2.179786320764256,
              "y": 4.751468404190972
             },
             {
              "x": 2.2236623998712566,
              "y": 4.944674468601196
             },
             {
              "x": 7.080640923168826,
              "y": 50.13547588285308
             },
             {
              "x": 2.642861454442078,
              "y": 6.984716667375697
             },
             {
              "x": 7.574202675908728,
              "y": 57.368546175742935
             },
             {
              "x": 1.4135650493095933,
              "y": 1.9981661486296327
             },
             {
              "x": 6.025836103008414,
              "y": 36.31070074031963
             },
             {
              "x": 2.923891097733491,
              "y": 8.549139151405159
             },
             {
              "x": 0.22068438306025406,
              "y": 0.04870159692668495
             },
             {
              "x": 1.686918759534162,
              "y": 2.8456949012682755
             },
             {
              "x": 1.7542346536408888,
              "y": 3.077339220034569
             },
             {
              "x": -0.9257810181551349,
              "y": 0.8570704935763582
             },
             {
              "x": 2.9389966702959276,
              "y": 8.63770142801055
             },
             {
              "x": -3.2740589505112405,
              "y": 10.719462011422765
             },
             {
              "x": 4.187407867055754,
              "y": 17.53438464508042
             },
             {
              "x": 0.8323031563235541,
              "y": 0.6927285440261506
             },
             {
              "x": 3.3023251395351645,
              "y": 10.905351327205944
             },
             {
              "x": -0.22758795161713108,
              "y": 0.0517962757212816
             },
             {
              "x": -1.4290569157851238,
              "y": 2.0422036685532907
             },
             {
              "x": 4.541669801666321,
              "y": 20.626764587367795
             },
             {
              "x": 4.404035775567748,
              "y": 19.39553111248062
             },
             {
              "x": 0.904461361150801,
              "y": 0.8180503538147597
             },
             {
              "x": 3.830360431658237,
              "y": 14.671661036413076
             },
             {
              "x": 0.4167377088977462,
              "y": 0.17367031801734265
             },
             {
              "x": 1.3983564285011758,
              "y": 1.955400701130564
             },
             {
              "x": 4.730445858386805,
              "y": 22.377118019128876
             },
             {
              "x": 6.167511209875933,
              "y": 38.03819452394529
             },
             {
              "x": 2.6903851496597193,
              "y": 7.23817225350955
             },
             {
              "x": -0.10546596492614002,
              "y": 0.011123069757801796
             },
             {
              "x": 1.4263422347760881,
              "y": 2.0344521707060452
             },
             {
              "x": 3.5102366324359413,
              "y": 12.321761215695219
             },
             {
              "x": 0.8712937291448519,
              "y": 0.7591527624471426
             },
             {
              "x": 4.048966054582533,
              "y": 16.394126111161647
             },
             {
              "x": 0.7878440508966593,
              "y": 0.620698248533258
             },
             {
              "x": 3.4052324185843537,
              "y": 11.595607824577847
             },
             {
              "x": 2.449672884576901,
              "y": 6.000897241431316
             },
             {
              "x": 3.54879076554944,
              "y": 12.593915897648982
             },
             {
              "x": 3.5783501798940383,
              "y": 12.804590009947695
             },
             {
              "x": 6.465487026535432,
              "y": 41.80252249029798
             },
             {
              "x": 3.9592646959347024,
              "y": 15.675776932474912
             },
             {
              "x": 2.753361572585738,
              "y": 7.580999949391807
             },
             {
              "x": 4.982984338005819,
              "y": 24.83013291281129
             },
             {
              "x": 1.6501548858410866,
              "y": 2.7230111472652094
             },
             {
              "x": 7.720081722471051,
              "y": 59.5996618016316
             },
             {
              "x": 2.235478051096992,
              "y": 4.997362116936406
             },
             {
              "x": 4.410968356573738,
              "y": 19.456641842694825
             },
             {
              "x": -3.1677118558313486,
              "y": 10.034398401574487
             },
             {
              "x": 1.6737445446338932,
              "y": 2.8014208006917185
             },
             {
              "x": -0.5385088870296011,
              "y": 0.2899918214098597
             },
             {
              "x": 2.9137762919490466,
              "y": 8.490092279524335
             },
             {
              "x": 5.702538059306933,
              "y": 32.518940317844084
             },
             {
              "x": 1.8085947220900236,
              "y": 3.2710148687718896
             },
             {
              "x": 3.9186896636376987,
              "y": 15.356128679900939
             },
             {
              "x": 3.6325049990973524,
              "y": 13.195092568467256
             },
             {
              "x": 1.8344384124134243,
              "y": 3.3651642889378848
             },
             {
              "x": 4.794607463084045,
              "y": 22.98826072506122
             },
             {
              "x": 2.4113330284824612,
              "y": 5.814526974250398
             },
             {
              "x": 2.4871706153629742,
              "y": 6.186017669925036
             },
             {
              "x": 1.1019138961598365,
              "y": 1.214214234550151
             },
             {
              "x": 3.4524053878579615,
              "y": 11.919102962110681
             },
             {
              "x": 1.4105822701246526,
              "y": 1.9897423407900185
             },
             {
              "x": -1.6344517419873155,
              "y": 2.67143249688537
             },
             {
              "x": 1.3711589023375796,
              "y": 1.8800767354595962
             },
             {
              "x": 0.4916159444628181,
              "y": 0.24168623685006865
             },
             {
              "x": 0.09488234203053958,
              "y": 0.009002658829200297
             },
             {
              "x": 2.9385384412977773,
              "y": 8.63500817098477
             },
             {
              "x": 4.894689027088205,
              "y": 23.95798067189768
             },
             {
              "x": -1.9339666994889964,
              "y": 3.7402271947323618
             },
             {
              "x": 3.668448502971759,
              "y": 13.457514418955741
             },
             {
              "x": 4.415695332802262,
              "y": 19.498365272131675
             },
             {
              "x": 1.0861722391522277,
              "y": 1.1797701331049641
             },
             {
              "x": 1.4586705058605198,
              "y": 2.1277196446673847
             },
             {
              "x": 2.7062799120069587,
              "y": 7.323950962132392
             },
             {
              "x": 0.31856338676920704,
              "y": 0.10148263138986739
             },
             {
              "x": 0.12375369381914325,
              "y": 0.015314976733882255
             },
             {
              "x": 0.8944669440707687,
              "y": 0.8000711140352996
             },
             {
              "x": 2.294039269254902,
              "y": 5.262616168883565
             },
             {
              "x": 0.09463670930243895,
              "y": 0.008956106747594334
             },
             {
              "x": 3.347680900676692,
              "y": 11.206967412755507
             },
             {
              "x": 1.4138254303779667,
              "y": 1.9989023475834429
             },
             {
              "x": 0.5881181043905972,
              "y": 0.3458829047119894
             },
             {
              "x": 3.622154465604915,
              "y": 13.120002972701629
             },
             {
              "x": 3.9734181558436403,
              "y": 15.788051841187876
             },
             {
              "x": 0.1656036580993696,
              "y": 0.027424571575892905
             },
             {
              "x": 2.7810191888361016,
              "y": 7.734067728674608
             },
             {
              "x": -2.5185896518998794,
              "y": 6.343293834657156
             },
             {
              "x": 1.78837829420136,
              "y": 3.198296923170566
             },
             {
              "x": 0.7913713014474857,
              "y": 0.6262685367546873
             },
             {
              "x": 5.824988275023657,
              "y": 33.93048840416307
             },
             {
              "x": 0.6690110294629317,
              "y": 0.4475757575430516
             },
             {
              "x": 2.1492366411431902,
              "y": 4.619218139632462
             },
             {
              "x": 1.7918840155574898,
              "y": 3.210848325210434
             },
             {
              "x": 2.3515973832181336,
              "y": 5.530010252758373
             },
             {
              "x": 3.8954239351564666,
              "y": 15.174327634589892
             },
             {
              "x": 1.601294661611925,
              "y": 2.5641445933068496
             },
             {
              "x": 3.084925648872051,
              "y": 9.516766259068644
             },
             {
              "x": 0.6807366303692053,
              "y": 0.46340235992642004
             },
             {
              "x": 5.826967922809947,
              "y": 33.953555173456074
             },
             {
              "x": 2.2991635399518606,
              "y": 5.286152983443971
             },
             {
              "x": 2.6686613845962133,
              "y": 7.121753585634978
             },
             {
              "x": -0.47263151709140905,
              "y": 0.2233805509481269
             },
             {
              "x": 2.0664755250106475,
              "y": 4.270321095468031
             },
             {
              "x": 3.6211376302873752,
              "y": 13.112637737483267
             },
             {
              "x": 2.889142419694601,
              "y": 8.347143921278773
             },
             {
              "x": -1.6869239861481766,
              "y": 2.8457125350420536
             },
             {
              "x": 5.659694397159304,
              "y": 32.03214066923641
             },
             {
              "x": 4.2353562589494285,
              "y": 17.938242640222096
             },
             {
              "x": 1.7087101001859715,
              "y": 2.9196902064775525
             },
             {
              "x": 1.1367812634079877,
              "y": 1.2922716408354606
             },
             {
              "x": 3.5758274513484873,
              "y": 12.786541961817418
             },
             {
              "x": -0.4558471754841569,
              "y": 0.20779664739688372
             },
             {
              "x": 4.95615904538264,
              "y": 24.563512483128164
             },
             {
              "x": 0.5967880825526402,
              "y": 0.3561560154768568
             },
             {
              "x": 4.258202609121273,
              "y": 18.132289460327218
             },
             {
              "x": 2.4709934868643133,
              "y": 6.105808812125857
             },
             {
              "x": 2.702923401485442,
              "y": 7.305794914297632
             },
             {
              "x": 1.8950782192182483,
              "y": 3.591321456955407
             },
             {
              "x": 2.0993201070179395,
              "y": 4.407144911729813
             },
             {
              "x": 4.864053029806765,
              "y": 23.65901187677237
             },
             {
              "x": -1.0445051956326394,
              "y": 1.0909911037035784
             },
             {
              "x": -0.13966440137911418,
              "y": 0.01950614501258631
             },
             {
              "x": 2.982149220709316,
              "y": 8.89321397457718
             },
             {
              "x": 2.910923421723292,
              "y": 8.47347516713724
             },
             {
              "x": 3.8521840782199233,
              "y": 14.83932217249108
             },
             {
              "x": 1.9915563977153337,
              "y": 3.9662968852808764
             },
             {
              "x": -0.04647977091292921,
              "y": 0.0021603691041183802
             },
             {
              "x": 5.619533500007468,
              "y": 31.579156757706183
             },
             {
              "x": 0.5253131218793374,
              "y": 0.2759538760186156
             },
             {
              "x": 2.417977240186528,
              "y": 5.846613934060059
             },
             {
              "x": 3.0310864503157893,
              "y": 9.187485069287971
             },
             {
              "x": 1.7844136640708848,
              "y": 3.1841321245228804
             },
             {
              "x": 1.9703561621127443,
              "y": 3.882303405575663
             },
             {
              "x": 1.6270410341427186,
              "y": 2.6472625267842074
             },
             {
              "x": 1.177184586173557,
              "y": 1.3857635499246088
             },
             {
              "x": 3.3068823053855927,
              "y": 10.935470581672332
             },
             {
              "x": 6.627846433302709,
              "y": 43.928348343443446
             },
             {
              "x": 1.428319745158143,
              "y": 2.0400972944086226
             },
             {
              "x": -0.5357681335496367,
              "y": 0.28704749292726134
             },
             {
              "x": 1.7879392450883669,
              "y": 3.1967267441271594
             },
             {
              "x": 2.8207086327988176,
              "y": 7.956397191145775
             },
             {
              "x": 3.6212122766223134,
              "y": 13.113178352360158
             },
             {
              "x": 4.166018795020087,
              "y": 17.35571260046062
             },
             {
              "x": 3.3703757088386648,
              "y": 11.359432418729732
             },
             {
              "x": 6.0423302658038365,
              "y": 36.50975504104906
             },
             {
              "x": -4.109438519832295,
              "y": 16.887484948281447
             },
             {
              "x": 0.1281226519524452,
              "y": 0.016415413943327413
             },
             {
              "x": 1.9525494763077533,
              "y": 3.8124494574296817
             },
             {
              "x": 1.1488657034137215,
              "y": 1.319892404480305
             },
             {
              "x": 4.322978390075248,
              "y": 18.68814216105758
             },
             {
              "x": 1.412750401190941,
              "y": 1.995863696065165
             },
             {
              "x": 4.028520117897923,
              "y": 16.228974340308294
             },
             {
              "x": 0.880921938802655,
              "y": 0.7760234622638287
             },
             {
              "x": 3.9537927489830045,
              "y": 15.632477101910583
             },
             {
              "x": 2.2280251550345582,
              "y": 4.964096091466767
             },
             {
              "x": 5.378914692054603,
              "y": 28.932723264400863
             },
             {
              "x": 3.9438576725719905,
              "y": 15.554013341504957
             },
             {
              "x": 2.477655341993725,
              "y": 6.138775993710041
             },
             {
              "x": 3.5135159643798204,
              "y": 12.34479443195186
             },
             {
              "x": 1.5853857453792868,
              "y": 2.5134479616518366
             },
             {
              "x": 4.690544619115406,
              "y": 22.00120882391249
             },
             {
              "x": 3.472858035345686,
              "y": 12.060742933665098
             },
             {
              "x": -2.5850239809040305,
              "y": 6.6823489818489215
             },
             {
              "x": 1.731911079816295,
              "y": 2.999515988390445
             },
             {
              "x": 3.979129508548142,
              "y": 15.83347164579858
             },
             {
              "x": 1.9474102226898324,
              "y": 3.7924065754368628
             },
             {
              "x": 2.1448762064357068,
              "y": 4.600493940934029
             },
             {
              "x": 1.553459445678795,
              "y": 2.4132362493686688
             },
             {
              "x": 2.29355771769822,
              "y": 5.260407004413067
             },
             {
              "x": 1.2731105445638622,
              "y": 1.6208104586796936
             },
             {
              "x": -0.2912089188681537,
              "y": 0.08480263442835892
             },
             {
              "x": 3.3403219391888017,
              "y": 11.157750657426037
             },
             {
              "x": 0.7543348505822587,
              "y": 0.5690210668029585
             },
             {
              "x": 6.074910860917229,
              "y": 36.90454196809011
             },
             {
              "x": 2.948705643012637,
              "y": 8.694864969134567
             },
             {
              "x": -2.4556692674726444,
              "y": 6.030311551209634
             },
             {
              "x": 2.61540387201625,
              "y": 6.840337413757593
             },
             {
              "x": 2.0079982960088865,
              "y": 4.0320571567745915
             },
             {
              "x": 2.7247221649811193,
              "y": 7.424110876339398
             },
             {
              "x": 3.3078955892933513,
              "y": 10.942173229666407
             },
             {
              "x": 2.1756778869283098,
              "y": 4.7335742676688355
             },
             {
              "x": -0.9414082027787694,
              "y": 0.8862494042591526
             },
             {
              "x": 3.110023225015695,
              "y": 9.672244460137025
             },
             {
              "x": 1.0038404013031308,
              "y": 1.0076955512884307
             },
             {
              "x": 5.006740323814091,
              "y": 25.067448670106028
             },
             {
              "x": 2.2641252593875993,
              "y": 5.126263190196964
             },
             {
              "x": 3.615312490731566,
              "y": 13.070484405639679
             },
             {
              "x": 5.212950752546728,
              "y": 27.1748555484775
             },
             {
              "x": 2.401501402320802,
              "y": 5.767208985348779
             },
             {
              "x": 3.3094093055582725,
              "y": 10.952189951715688
             },
             {
              "x": 2.281961695393038,
              "y": 5.207349179241069
             },
             {
              "x": 0.9674777474537952,
              "y": 0.9360131918182696
             },
             {
              "x": 0.7404542564581615,
              "y": 0.5482725059070088
             },
             {
              "x": 2.8070792313476813,
              "y": 7.87969381106349
             },
             {
              "x": 3.3661657350068936,
              "y": 11.3310717555345
             },
             {
              "x": 3.629494852238069,
              "y": 13.17323288242264
             }
            ]
           },
           "encoding": {
            "x": {
             "field": "x",
             "type": "quantitative"
            },
            "y": {
             "field": "y",
             "type": "quantitative"
            }
           },
           "mark": {
            "color": "firebrick",
            "opacity": 0.2,
            "size": 10,
            "type": "point"
           }
          }
         ]
        }
       ]
      },
      "image/png": "[encoded data removed]",
      "text/plain": [
       "<VegaLite 2 object>\n",
       "\n",
       "If you see this message, it means the renderer has not been properly enabled\n",
       "for the frontend that you are using. For more information, see\n",
       "https://altair-viz.github.io/user_guide/troubleshooting.html\n"
      ]
     },
     "execution_count": 2,
     "metadata": {},
     "output_type": "execute_result"
    }
   ],
   "source": [
    "x2_points = make_scatter_chart(size=10, opacity=.2, X=s, Y=[i ** 2 for i in s], color=\"firebrick\")\n",
    "\n",
    "guide_lines = make_guide_lines(s)\n",
    "\n",
    "functools.reduce(lambda a,b : a+b,guide_lines + [x_points  + x2_points])"
   ]
  },
  {
   "cell_type": "markdown",
   "metadata": {},
   "source": [
    "Each black dot represents the value of some blue $x$, squared. Because each $x$ has equal probability mass (i.e. $\\frac{1}{|S|}$) if we simple average the y-coordinates of the black dots, we get the expected value of $X^2$. That is, we get $\\mathbb{E}[X^2]$. We show this as a black dot on the chart. We can also plot the expected value of each $x_i$ as a blue dot. This is $\\mathbb{E}[X]$."
   ]
  },
  {
   "cell_type": "code",
   "execution_count": 4,
   "metadata": {},
   "outputs": [
    {
     "data": {
      "application/vnd.vegalite.v2+json": {
       "$schema": "https://vega.github.io/schema/vega-lite/v2.6.0.json",
       "config": {
        "view": {
         "height": 300,
         "width": 400
        }
       },
       "layer": [
        {
         "data": {
          "values": [
           {
            "x": 1.0323756787022422,
            "y": 0
           },
           {
            "x": 0.8354039896005354,
            "y": 0
           },
           {
            "x": 5.501086968401772,
            "y": 0
           },
           {
            "x": 1.8427929733970272,
            "y": 0
           },
           {
            "x": 2.84435852250431,
            "y": 0
           },
           {
            "x": 1.3515980084714456,
            "y": 0
           },
           {
            "x": 2.839484800408642,
            "y": 0
           },
           {
            "x": -0.08538309332219551,
            "y": 0
           },
           {
            "x": 4.306931739822586,
            "y": 0
           },
           {
            "x": 0.5572853264124391,
            "y": 0
           },
           {
            "x": 5.597439130187254,
            "y": 0
           },
           {
            "x": 1.6635630869199125,
            "y": 0
           },
           {
            "x": 1.6784646926890703,
            "y": 0
           },
           {
            "x": 0.07735947400749321,
            "y": 0
           },
           {
            "x": 2.424696157900438,
            "y": 0
           },
           {
            "x": 6.187414439506261,
            "y": 0
           },
           {
            "x": 2.235976507974666,
            "y": 0
           },
           {
            "x": 4.284348962572987,
            "y": 0
           },
           {
            "x": 1.608904501038111,
            "y": 0
           },
           {
            "x": 0.4786333862467469,
            "y": 0
           },
           {
            "x": 4.140429817260685,
            "y": 0
           },
           {
            "x": 1.5799848241010794,
            "y": 0
           },
           {
            "x": 1.0171341607376145,
            "y": 0
           },
           {
            "x": 3.7819392297852534,
            "y": 0
           },
           {
            "x": 4.1711720526297595,
            "y": 0
           },
           {
            "x": 3.540083864805946,
            "y": 0
           },
           {
            "x": 3.2859376897095722,
            "y": 0
           },
           {
            "x": -1.448975002127721,
            "y": 0
           },
           {
            "x": 5.474813178268483,
            "y": 0
           },
           {
            "x": 1.8481416519360723,
            "y": 0
           },
           {
            "x": 2.086438682448386,
            "y": 0
           },
           {
            "x": 4.215479728011749,
            "y": 0
           },
           {
            "x": 2.5464192906282217,
            "y": 0
           },
           {
            "x": 4.094046326404587,
            "y": 0
           },
           {
            "x": 3.28415176053376,
            "y": 0
           },
           {
            "x": 1.864007923871898,
            "y": 0
           },
           {
            "x": 3.7069213736419453,
            "y": 0
           },
           {
            "x": 0.30443314930133614,
            "y": 0
           },
           {
            "x": 1.5440583144519366,
            "y": 0
           },
           {
            "x": 0.47727085757300625,
            "y": 0
           },
           {
            "x": 4.891417484530369,
            "y": 0
           },
           {
            "x": 2.51331581222879,
            "y": 0
           },
           {
            "x": 5.778636633955188,
            "y": 0
           },
           {
            "x": 2.0145166343101044,
            "y": 0
           },
           {
            "x": -0.40498260439227396,
            "y": 0
           },
           {
            "x": -0.4772548530505256,
            "y": 0
           },
           {
            "x": 2.6723888696232816,
            "y": 0
           },
           {
            "x": 3.839934556127765,
            "y": 0
           },
           {
            "x": 3.1096774325969436,
            "y": 0
           },
           {
            "x": 1.563091731227707,
            "y": 0
           },
           {
            "x": 1.618287291176927,
            "y": 0
           },
           {
            "x": 0.9779371310872962,
            "y": 0
           },
           {
            "x": 2.1010975763298747,
            "y": 0
           },
           {
            "x": 4.031492972572683,
            "y": 0
           },
           {
            "x": -0.48163817656243246,
            "y": 0
           },
           {
            "x": 3.510635466704089,
            "y": 0
           },
           {
            "x": 2.5142834278581576,
            "y": 0
           },
           {
            "x": 2.2059301296946012,
            "y": 0
           },
           {
            "x": 0.15248044306138553,
            "y": 0
           },
           {
            "x": 2.2309872787718827,
            "y": 0
           },
           {
            "x": -1.8962353171434314,
            "y": 0
           },
           {
            "x": 0.26441972454096563,
            "y": 0
           },
           {
            "x": 0.9537206412975339,
            "y": 0
           },
           {
            "x": 2.9165782027526452,
            "y": 0
           },
           {
            "x": 1.145230888615756,
            "y": 0
           },
           {
            "x": 1.8890559618231295,
            "y": 0
           },
           {
            "x": 2.0811332542344743,
            "y": 0
           },
           {
            "x": 1.7483087540724218,
            "y": 0
           },
           {
            "x": 0.10480380384694366,
            "y": 0
           },
           {
            "x": 1.8821638650052444,
            "y": 0
           },
           {
            "x": 3.3362435738688285,
            "y": 0
           },
           {
            "x": 2.4983228957951136,
            "y": 0
           },
           {
            "x": 4.330880361129627,
            "y": 0
           },
           {
            "x": 4.304295864794375,
            "y": 0
           },
           {
            "x": 0.9055913630505303,
            "y": 0
           },
           {
            "x": 3.873707388086263,
            "y": 0
           },
           {
            "x": 5.076476939703948,
            "y": 0
           },
           {
            "x": 2.1660301166490075,
            "y": 0
           },
           {
            "x": 4.185070782052092,
            "y": 0
           },
           {
            "x": 3.9241825978300424,
            "y": 0
           },
           {
            "x": 4.255013136348975,
            "y": 0
           },
           {
            "x": 4.256870028414305,
            "y": 0
           },
           {
            "x": 3.0900452605218676,
            "y": 0
           },
           {
            "x": 5.32252400833082,
            "y": 0
           },
           {
            "x": 0.24391578665869273,
            "y": 0
           },
           {
            "x": 1.130716721876438,
            "y": 0
           },
           {
            "x": 1.4600703086487012,
            "y": 0
           },
           {
            "x": 4.6504725864534535,
            "y": 0
           },
           {
            "x": 3.3245952751811885,
            "y": 0
           },
           {
            "x": 0.20806186954430972,
            "y": 0
           },
           {
            "x": 6.169459224238772,
            "y": 0
           },
           {
            "x": 1.5653254140684114,
            "y": 0
           },
           {
            "x": -0.45835748676744137,
            "y": 0
           },
           {
            "x": 6.22280954651263,
            "y": 0
           },
           {
            "x": 6.514897085157576,
            "y": 0
           },
           {
            "x": 2.858766358206445,
            "y": 0
           },
           {
            "x": 3.2085630860570094,
            "y": 0
           },
           {
            "x": 1.6449213051506848,
            "y": 0
           },
           {
            "x": 2.561917167896689,
            "y": 0
           },
           {
            "x": 1.8639818993471056,
            "y": 0
           },
           {
            "x": 2.580506562704831,
            "y": 0
           },
           {
            "x": -1.2271221838691226,
            "y": 0
           },
           {
            "x": 0.9715195841961841,
            "y": 0
           },
           {
            "x": 3.212257967246785,
            "y": 0
           },
           {
            "x": 1.1664940048752694,
            "y": 0
           },
           {
            "x": 2.179786320764256,
            "y": 0
           },
           {
            "x": 2.2236623998712566,
            "y": 0
           },
           {
            "x": 7.080640923168826,
            "y": 0
           },
           {
            "x": 2.642861454442078,
            "y": 0
           },
           {
            "x": 7.574202675908728,
            "y": 0
           },
           {
            "x": 1.4135650493095933,
            "y": 0
           },
           {
            "x": 6.025836103008414,
            "y": 0
           },
           {
            "x": 2.923891097733491,
            "y": 0
           },
           {
            "x": 0.22068438306025406,
            "y": 0
           },
           {
            "x": 1.686918759534162,
            "y": 0
           },
           {
            "x": 1.7542346536408888,
            "y": 0
           },
           {
            "x": -0.9257810181551349,
            "y": 0
           },
           {
            "x": 2.9389966702959276,
            "y": 0
           },
           {
            "x": -3.2740589505112405,
            "y": 0
           },
           {
            "x": 4.187407867055754,
            "y": 0
           },
           {
            "x": 0.8323031563235541,
            "y": 0
           },
           {
            "x": 3.3023251395351645,
            "y": 0
           },
           {
            "x": -0.22758795161713108,
            "y": 0
           },
           {
            "x": -1.4290569157851238,
            "y": 0
           },
           {
            "x": 4.541669801666321,
            "y": 0
           },
           {
            "x": 4.404035775567748,
            "y": 0
           },
           {
            "x": 0.904461361150801,
            "y": 0
           },
           {
            "x": 3.830360431658237,
            "y": 0
           },
           {
            "x": 0.4167377088977462,
            "y": 0
           },
           {
            "x": 1.3983564285011758,
            "y": 0
           },
           {
            "x": 4.730445858386805,
            "y": 0
           },
           {
            "x": 6.167511209875933,
            "y": 0
           },
           {
            "x": 2.6903851496597193,
            "y": 0
           },
           {
            "x": -0.10546596492614002,
            "y": 0
           },
           {
            "x": 1.4263422347760881,
            "y": 0
           },
           {
            "x": 3.5102366324359413,
            "y": 0
           },
           {
            "x": 0.8712937291448519,
            "y": 0
           },
           {
            "x": 4.048966054582533,
            "y": 0
           },
           {
            "x": 0.7878440508966593,
            "y": 0
           },
           {
            "x": 3.4052324185843537,
            "y": 0
           },
           {
            "x": 2.449672884576901,
            "y": 0
           },
           {
            "x": 3.54879076554944,
            "y": 0
           },
           {
            "x": 3.5783501798940383,
            "y": 0
           },
           {
            "x": 6.465487026535432,
            "y": 0
           },
           {
            "x": 3.9592646959347024,
            "y": 0
           },
           {
            "x": 2.753361572585738,
            "y": 0
           },
           {
            "x": 4.982984338005819,
            "y": 0
           },
           {
            "x": 1.6501548858410866,
            "y": 0
           },
           {
            "x": 7.720081722471051,
            "y": 0
           },
           {
            "x": 2.235478051096992,
            "y": 0
           },
           {
            "x": 4.410968356573738,
            "y": 0
           },
           {
            "x": -3.1677118558313486,
            "y": 0
           },
           {
            "x": 1.6737445446338932,
            "y": 0
           },
           {
            "x": -0.5385088870296011,
            "y": 0
           },
           {
            "x": 2.9137762919490466,
            "y": 0
           },
           {
            "x": 5.702538059306933,
            "y": 0
           },
           {
            "x": 1.8085947220900236,
            "y": 0
           },
           {
            "x": 3.9186896636376987,
            "y": 0
           },
           {
            "x": 3.6325049990973524,
            "y": 0
           },
           {
            "x": 1.8344384124134243,
            "y": 0
           },
           {
            "x": 4.794607463084045,
            "y": 0
           },
           {
            "x": 2.4113330284824612,
            "y": 0
           },
           {
            "x": 2.4871706153629742,
            "y": 0
           },
           {
            "x": 1.1019138961598365,
            "y": 0
           },
           {
            "x": 3.4524053878579615,
            "y": 0
           },
           {
            "x": 1.4105822701246526,
            "y": 0
           },
           {
            "x": -1.6344517419873155,
            "y": 0
           },
           {
            "x": 1.3711589023375796,
            "y": 0
           },
           {
            "x": 0.4916159444628181,
            "y": 0
           },
           {
            "x": 0.09488234203053958,
            "y": 0
           },
           {
            "x": 2.9385384412977773,
            "y": 0
           },
           {
            "x": 4.894689027088205,
            "y": 0
           },
           {
            "x": -1.9339666994889964,
            "y": 0
           },
           {
            "x": 3.668448502971759,
            "y": 0
           },
           {
            "x": 4.415695332802262,
            "y": 0
           },
           {
            "x": 1.0861722391522277,
            "y": 0
           },
           {
            "x": 1.4586705058605198,
            "y": 0
           },
           {
            "x": 2.7062799120069587,
            "y": 0
           },
           {
            "x": 0.31856338676920704,
            "y": 0
           },
           {
            "x": 0.12375369381914325,
            "y": 0
           },
           {
            "x": 0.8944669440707687,
            "y": 0
           },
           {
            "x": 2.294039269254902,
            "y": 0
           },
           {
            "x": 0.09463670930243895,
            "y": 0
           },
           {
            "x": 3.347680900676692,
            "y": 0
           },
           {
            "x": 1.4138254303779667,
            "y": 0
           },
           {
            "x": 0.5881181043905972,
            "y": 0
           },
           {
            "x": 3.622154465604915,
            "y": 0
           },
           {
            "x": 3.9734181558436403,
            "y": 0
           },
           {
            "x": 0.1656036580993696,
            "y": 0
           },
           {
            "x": 2.7810191888361016,
            "y": 0
           },
           {
            "x": -2.5185896518998794,
            "y": 0
           },
           {
            "x": 1.78837829420136,
            "y": 0
           },
           {
            "x": 0.7913713014474857,
            "y": 0
           },
           {
            "x": 5.824988275023657,
            "y": 0
           },
           {
            "x": 0.6690110294629317,
            "y": 0
           },
           {
            "x": 2.1492366411431902,
            "y": 0
           },
           {
            "x": 1.7918840155574898,
            "y": 0
           },
           {
            "x": 2.3515973832181336,
            "y": 0
           },
           {
            "x": 3.8954239351564666,
            "y": 0
           },
           {
            "x": 1.601294661611925,
            "y": 0
           },
           {
            "x": 3.084925648872051,
            "y": 0
           },
           {
            "x": 0.6807366303692053,
            "y": 0
           },
           {
            "x": 5.826967922809947,
            "y": 0
           },
           {
            "x": 2.2991635399518606,
            "y": 0
           },
           {
            "x": 2.6686613845962133,
            "y": 0
           },
           {
            "x": -0.47263151709140905,
            "y": 0
           },
           {
            "x": 2.0664755250106475,
            "y": 0
           },
           {
            "x": 3.6211376302873752,
            "y": 0
           },
           {
            "x": 2.889142419694601,
            "y": 0
           },
           {
            "x": -1.6869239861481766,
            "y": 0
           },
           {
            "x": 5.659694397159304,
            "y": 0
           },
           {
            "x": 4.2353562589494285,
            "y": 0
           },
           {
            "x": 1.7087101001859715,
            "y": 0
           },
           {
            "x": 1.1367812634079877,
            "y": 0
           },
           {
            "x": 3.5758274513484873,
            "y": 0
           },
           {
            "x": -0.4558471754841569,
            "y": 0
           },
           {
            "x": 4.95615904538264,
            "y": 0
           },
           {
            "x": 0.5967880825526402,
            "y": 0
           },
           {
            "x": 4.258202609121273,
            "y": 0
           },
           {
            "x": 2.4709934868643133,
            "y": 0
           },
           {
            "x": 2.702923401485442,
            "y": 0
           },
           {
            "x": 1.8950782192182483,
            "y": 0
           },
           {
            "x": 2.0993201070179395,
            "y": 0
           },
           {
            "x": 4.864053029806765,
            "y": 0
           },
           {
            "x": -1.0445051956326394,
            "y": 0
           },
           {
            "x": -0.13966440137911418,
            "y": 0
           },
           {
            "x": 2.982149220709316,
            "y": 0
           },
           {
            "x": 2.910923421723292,
            "y": 0
           },
           {
            "x": 3.8521840782199233,
            "y": 0
           },
           {
            "x": 1.9915563977153337,
            "y": 0
           },
           {
            "x": -0.04647977091292921,
            "y": 0
           },
           {
            "x": 5.619533500007468,
            "y": 0
           },
           {
            "x": 0.5253131218793374,
            "y": 0
           },
           {
            "x": 2.417977240186528,
            "y": 0
           },
           {
            "x": 3.0310864503157893,
            "y": 0
           },
           {
            "x": 1.7844136640708848,
            "y": 0
           },
           {
            "x": 1.9703561621127443,
            "y": 0
           },
           {
            "x": 1.6270410341427186,
            "y": 0
           },
           {
            "x": 1.177184586173557,
            "y": 0
           },
           {
            "x": 3.3068823053855927,
            "y": 0
           },
           {
            "x": 6.627846433302709,
            "y": 0
           },
           {
            "x": 1.428319745158143,
            "y": 0
           },
           {
            "x": -0.5357681335496367,
            "y": 0
           },
           {
            "x": 1.7879392450883669,
            "y": 0
           },
           {
            "x": 2.8207086327988176,
            "y": 0
           },
           {
            "x": 3.6212122766223134,
            "y": 0
           },
           {
            "x": 4.166018795020087,
            "y": 0
           },
           {
            "x": 3.3703757088386648,
            "y": 0
           },
           {
            "x": 6.0423302658038365,
            "y": 0
           },
           {
            "x": -4.109438519832295,
            "y": 0
           },
           {
            "x": 0.1281226519524452,
            "y": 0
           },
           {
            "x": 1.9525494763077533,
            "y": 0
           },
           {
            "x": 1.1488657034137215,
            "y": 0
           },
           {
            "x": 4.322978390075248,
            "y": 0
           },
           {
            "x": 1.412750401190941,
            "y": 0
           },
           {
            "x": 4.028520117897923,
            "y": 0
           },
           {
            "x": 0.880921938802655,
            "y": 0
           },
           {
            "x": 3.9537927489830045,
            "y": 0
           },
           {
            "x": 2.2280251550345582,
            "y": 0
           },
           {
            "x": 5.378914692054603,
            "y": 0
           },
           {
            "x": 3.9438576725719905,
            "y": 0
           },
           {
            "x": 2.477655341993725,
            "y": 0
           },
           {
            "x": 3.5135159643798204,
            "y": 0
           },
           {
            "x": 1.5853857453792868,
            "y": 0
           },
           {
            "x": 4.690544619115406,
            "y": 0
           },
           {
            "x": 3.472858035345686,
            "y": 0
           },
           {
            "x": -2.5850239809040305,
            "y": 0
           },
           {
            "x": 1.731911079816295,
            "y": 0
           },
           {
            "x": 3.979129508548142,
            "y": 0
           },
           {
            "x": 1.9474102226898324,
            "y": 0
           },
           {
            "x": 2.1448762064357068,
            "y": 0
           },
           {
            "x": 1.553459445678795,
            "y": 0
           },
           {
            "x": 2.29355771769822,
            "y": 0
           },
           {
            "x": 1.2731105445638622,
            "y": 0
           },
           {
            "x": -0.2912089188681537,
            "y": 0
           },
           {
            "x": 3.3403219391888017,
            "y": 0
           },
           {
            "x": 0.7543348505822587,
            "y": 0
           },
           {
            "x": 6.074910860917229,
            "y": 0
           },
           {
            "x": 2.948705643012637,
            "y": 0
           },
           {
            "x": -2.4556692674726444,
            "y": 0
           },
           {
            "x": 2.61540387201625,
            "y": 0
           },
           {
            "x": 2.0079982960088865,
            "y": 0
           },
           {
            "x": 2.7247221649811193,
            "y": 0
           },
           {
            "x": 3.3078955892933513,
            "y": 0
           },
           {
            "x": 2.1756778869283098,
            "y": 0
           },
           {
            "x": -0.9414082027787694,
            "y": 0
           },
           {
            "x": 3.110023225015695,
            "y": 0
           },
           {
            "x": 1.0038404013031308,
            "y": 0
           },
           {
            "x": 5.006740323814091,
            "y": 0
           },
           {
            "x": 2.2641252593875993,
            "y": 0
           },
           {
            "x": 3.615312490731566,
            "y": 0
           },
           {
            "x": 5.212950752546728,
            "y": 0
           },
           {
            "x": 2.401501402320802,
            "y": 0
           },
           {
            "x": 3.3094093055582725,
            "y": 0
           },
           {
            "x": 2.281961695393038,
            "y": 0
           },
           {
            "x": 0.9674777474537952,
            "y": 0
           },
           {
            "x": 0.7404542564581615,
            "y": 0
           },
           {
            "x": 2.8070792313476813,
            "y": 0
           },
           {
            "x": 3.3661657350068936,
            "y": 0
           },
           {
            "x": 3.629494852238069,
            "y": 0
           }
          ]
         },
         "encoding": {
          "x": {
           "field": "x",
           "type": "quantitative"
          },
          "y": {
           "field": "y",
           "type": "quantitative"
          }
         },
         "mark": {
          "color": "darkblue",
          "opacity": 0.2,
          "size": 10,
          "type": "point"
         }
        },
        {
         "data": {
          "values": [
           {
            "label": "E[X^2]",
            "x": 2.372665647881236,
            "y": 9.570857344048342
           }
          ]
         },
         "encoding": {
          "x": {
           "field": "x",
           "type": "quantitative"
          },
          "y": {
           "field": "y",
           "type": "quantitative"
          }
         },
         "mark": {
          "color": "black",
          "filled": true,
          "opacity": 0.9,
          "size": 200,
          "type": "point"
         }
        },
        {
         "data": {
          "values": [
           {
            "label": "E[X^2]",
            "x": 2.372665647881236,
            "y": 9.570857344048342
           }
          ]
         },
         "encoding": {
          "text": {
           "field": "label",
           "type": "nominal"
          },
          "x": {
           "field": "x",
           "type": "quantitative"
          },
          "y": {
           "field": "y",
           "type": "quantitative"
          }
         },
         "mark": {
          "align": "right",
          "baseline": "middle",
          "dx": 7,
          "type": "text",
          "xOffset": -15
         }
        },
        {
         "data": {
          "values": [
           {
            "label": "E[X]",
            "x": 2.372665647881236,
            "y": 0
           }
          ]
         },
         "encoding": {
          "x": {
           "field": "x",
           "type": "quantitative"
          },
          "y": {
           "field": "y",
           "type": "quantitative"
          }
         },
         "mark": {
          "color": "blue",
          "filled": true,
          "opacity": 0.9,
          "size": 200,
          "type": "point"
         }
        },
        {
         "data": {
          "values": [
           {
            "label": "E[X]",
            "x": 2.372665647881236,
            "y": 0
           }
          ]
         },
         "encoding": {
          "text": {
           "field": "label",
           "type": "nominal"
          },
          "x": {
           "field": "x",
           "type": "quantitative"
          },
          "y": {
           "field": "y",
           "type": "quantitative"
          }
         },
         "mark": {
          "align": "left",
          "baseline": "bottom",
          "dx": 16,
          "type": "text",
          "yOffset": -4
         }
        },
        {
         "data": {
          "values": [
           {
            "x": 1.0323756787022422,
            "y": 1.0657995419759152
           },
           {
            "x": 0.8354039896005354,
            "y": 0.6978998258404915
           },
           {
            "x": 5.501086968401772,
            "y": 30.261957833919798
           },
           {
            "x": 1.8427929733970272,
            "y": 3.3958859428014567
           },
           {
            "x": 2.84435852250431,
            "y": 8.090375404542902
           },
           {
            "x": 1.3515980084714456,
            "y": 1.826817176503978
           },
           {
            "x": 2.839484800408642,
            "y": 8.062673931751707
           },
           {
            "x": -0.08538309332219551,
            "y": 0.0072902726252667485
           },
           {
            "x": 4.306931739822586,
            "y": 18.549661011491207
           },
           {
            "x": 0.5572853264124391,
            "y": 0.3105669350346188
           },
           {
            "x": 5.597439130187254,
            "y": 31.331324816151447
           },
           {
            "x": 1.6635630869199125,
            "y": 2.7674421441625086
           },
           {
            "x": 1.6784646926890703,
            "y": 2.817243724603815
           },
           {
            "x": 0.07735947400749321,
            "y": 0.005984488218716018
           },
           {
            "x": 2.424696157900438,
            "y": 5.879151458137146
           },
           {
            "x": 6.187414439506261,
            "y": 38.28409744621058
           },
           {
            "x": 2.235976507974666,
            "y": 4.999590944214581
           },
           {
            "x": 4.284348962572987,
            "y": 18.355646033100232
           },
           {
            "x": 1.608904501038111,
            "y": 2.5885736934606927
           },
           {
            "x": 0.4786333862467469,
            "y": 0.2290899184300276
           },
           {
            "x": 4.140429817260685,
            "y": 17.14315907166135
           },
           {
            "x": 1.5799848241010794,
            "y": 2.496352044389719
           },
           {
            "x": 1.0171341607376145,
            "y": 1.0345619009394116
           },
           {
            "x": 3.7819392297852534,
            "y": 14.303064337788676
           },
           {
            "x": 4.1711720526297595,
            "y": 17.39867629263956
           },
           {
            "x": 3.540083864805946,
            "y": 12.532193769859404
           },
           {
            "x": 3.2859376897095722,
            "y": 10.79738650065388
           },
           {
            "x": -1.448975002127721,
            "y": 2.099528556791029
           },
           {
            "x": 5.474813178268483,
            "y": 29.973579336942247
           },
           {
            "x": 1.8481416519360723,
            "y": 3.4156275656209942
           },
           {
            "x": 2.086438682448386,
            "y": 4.353226375616957
           },
           {
            "x": 4.215479728011749,
            "y": 17.77026933727801
           },
           {
            "x": 2.5464192906282217,
            "y": 6.484251203683536
           },
           {
            "x": 4.094046326404587,
            "y": 16.7612153227469
           },
           {
            "x": 3.28415176053376,
            "y": 10.785652786216996
           },
           {
            "x": 1.864007923871898,
            "y": 3.4745255402572237
           },
           {
            "x": 3.7069213736419453,
            "y": 13.741266070363487
           },
           {
            "x": 0.30443314930133614,
            "y": 0.09267954239352962
           },
           {
            "x": 1.5440583144519366,
            "y": 2.3841160784281556
           },
           {
            "x": 0.47727085757300625,
            "y": 0.2277874714884728
           },
           {
            "x": 4.891417484530369,
            "y": 23.925965007969406
           },
           {
            "x": 2.51331581222879,
            "y": 6.316756371999262
           },
           {
            "x": 5.778636633955188,
            "y": 33.392641347288944
           },
           {
            "x": 2.0145166343101044,
            "y": 4.058277269912111
           },
           {
            "x": -0.40498260439227396,
            "y": 0.16401090986034908
           },
           {
            "x": -0.4772548530505256,
            "y": 0.2277721947602788
           },
           {
            "x": 2.6723888696232816,
            "y": 7.141662270486401
           },
           {
            "x": 3.839934556127765,
            "y": 14.745097395344137
           },
           {
            "x": 3.1096774325969436,
            "y": 9.67009373480272
           },
           {
            "x": 1.563091731227707,
            "y": 2.4432557602324305
           },
           {
            "x": 1.618287291176927,
            "y": 2.6188537567847563
           },
           {
            "x": 0.9779371310872962,
            "y": 0.9563610323592515
           },
           {
            "x": 2.1010975763298747,
            "y": 4.414611025259274
           },
           {
            "x": 4.031492972572683,
            "y": 16.252935587902925
           },
           {
            "x": -0.48163817656243246,
            "y": 0.23197533312238486
           },
           {
            "x": 3.510635466704089,
            "y": 12.324561380080636
           },
           {
            "x": 2.5142834278581576,
            "y": 6.321621155602167
           },
           {
            "x": 2.2059301296946012,
            "y": 4.86612773709444
           },
           {
            "x": 0.15248044306138553,
            "y": 0.023250285516196435
           },
           {
            "x": 2.2309872787718827,
            "y": 4.97730423804197
           },
           {
            "x": -1.8962353171434314,
            "y": 3.59570837798205
           },
           {
            "x": 0.26441972454096563,
            "y": 0.06991779072632014
           },
           {
            "x": 0.9537206412975339,
            "y": 0.9095830616369792
           },
           {
            "x": 2.9165782027526452,
            "y": 8.50642841277185
           },
           {
            "x": 1.145230888615756,
            "y": 1.3115537882396342
           },
           {
            "x": 1.8890559618231295,
            "y": 3.568532426899509
           },
           {
            "x": 2.0811332542344743,
            "y": 4.331115621880573
           },
           {
            "x": 1.7483087540724218,
            "y": 3.0565834995662637
           },
           {
            "x": 0.10480380384694366,
            "y": 0.010983837300788642
           },
           {
            "x": 1.8821638650052444,
            "y": 3.54254081473148
           },
           {
            "x": 3.3362435738688285,
            "y": 11.130521184181054
           },
           {
            "x": 2.4983228957951136,
            "y": 6.241617291654082
           },
           {
            "x": 4.330880361129627,
            "y": 18.75652470241829
           },
           {
            "x": 4.304295864794375,
            "y": 18.52696289168596
           },
           {
            "x": 0.9055913630505303,
            "y": 0.8200957168317174
           },
           {
            "x": 3.873707388086263,
            "y": 15.005608928514098
           },
           {
            "x": 5.076476939703948,
            "y": 25.77061811934596
           },
           {
            "x": 2.1660301166490075,
            "y": 4.691686466230513
           },
           {
            "x": 4.185070782052092,
            "y": 17.514817450786108
           },
           {
            "x": 3.9241825978300424,
            "y": 15.39920906111214
           },
           {
            "x": 4.255013136348975,
            "y": 18.10513679050234
           },
           {
            "x": 4.256870028414305,
            "y": 18.120942438812005
           },
           {
            "x": 3.0900452605218676,
            "y": 9.548379712073656
           },
           {
            "x": 5.32252400833082,
            "y": 28.32926181925798
           },
           {
            "x": 0.24391578665869273,
            "y": 0.05949491098132891
           },
           {
            "x": 1.130716721876438,
            "y": 1.2785203051309981
           },
           {
            "x": 1.4600703086487012,
            "y": 2.1318053061975135
           },
           {
            "x": 4.6504725864534535,
            "y": 21.626895277355075
           },
           {
            "x": 3.3245952751811885,
            "y": 11.052933743757082
           },
           {
            "x": 0.20806186954430972,
            "y": 0.04328974155827336
           },
           {
            "x": 6.169459224238772,
            "y": 38.06222711954487
           },
           {
            "x": 1.5653254140684114,
            "y": 2.4502436519284436
           },
           {
            "x": -0.45835748676744137,
            "y": 0.2100915856757652
           },
           {
            "x": 6.22280954651263,
            "y": 38.72335865216872
           },
           {
            "x": 6.514897085157576,
            "y": 42.443884030194674
           },
           {
            "x": 2.858766358206445,
            "y": 8.17254509081294
           },
           {
            "x": 3.2085630860570094,
            "y": 10.29487707720768
           },
           {
            "x": 1.6449213051506848,
            "y": 2.705766100138632
           },
           {
            "x": 2.561917167896689,
            "y": 6.563419575163793
           },
           {
            "x": 1.8639818993471056,
            "y": 3.474428521093643
           },
           {
            "x": 2.580506562704831,
            "y": 6.659014120162701
           },
           {
            "x": -1.2271221838691226,
            "y": 1.5058288541437248
           },
           {
            "x": 0.9715195841961841,
            "y": 0.9438503024767265
           },
           {
            "x": 3.212257967246785,
            "y": 10.318601248140448
           },
           {
            "x": 1.1664940048752694,
            "y": 1.3607082634099452
           },
           {
            "x": 2.179786320764256,
            "y": 4.751468404190972
           },
           {
            "x": 2.2236623998712566,
            "y": 4.944674468601196
           },
           {
            "x": 7.080640923168826,
            "y": 50.13547588285308
           },
           {
            "x": 2.642861454442078,
            "y": 6.984716667375697
           },
           {
            "x": 7.574202675908728,
            "y": 57.368546175742935
           },
           {
            "x": 1.4135650493095933,
            "y": 1.9981661486296327
           },
           {
            "x": 6.025836103008414,
            "y": 36.31070074031963
           },
           {
            "x": 2.923891097733491,
            "y": 8.549139151405159
           },
           {
            "x": 0.22068438306025406,
            "y": 0.04870159692668495
           },
           {
            "x": 1.686918759534162,
            "y": 2.8456949012682755
           },
           {
            "x": 1.7542346536408888,
            "y": 3.077339220034569
           },
           {
            "x": -0.9257810181551349,
            "y": 0.8570704935763582
           },
           {
            "x": 2.9389966702959276,
            "y": 8.63770142801055
           },
           {
            "x": -3.2740589505112405,
            "y": 10.719462011422765
           },
           {
            "x": 4.187407867055754,
            "y": 17.53438464508042
           },
           {
            "x": 0.8323031563235541,
            "y": 0.6927285440261506
           },
           {
            "x": 3.3023251395351645,
            "y": 10.905351327205944
           },
           {
            "x": -0.22758795161713108,
            "y": 0.0517962757212816
           },
           {
            "x": -1.4290569157851238,
            "y": 2.0422036685532907
           },
           {
            "x": 4.541669801666321,
            "y": 20.626764587367795
           },
           {
            "x": 4.404035775567748,
            "y": 19.39553111248062
           },
           {
            "x": 0.904461361150801,
            "y": 0.8180503538147597
           },
           {
            "x": 3.830360431658237,
            "y": 14.671661036413076
           },
           {
            "x": 0.4167377088977462,
            "y": 0.17367031801734265
           },
           {
            "x": 1.3983564285011758,
            "y": 1.955400701130564
           },
           {
            "x": 4.730445858386805,
            "y": 22.377118019128876
           },
           {
            "x": 6.167511209875933,
            "y": 38.03819452394529
           },
           {
            "x": 2.6903851496597193,
            "y": 7.23817225350955
           },
           {
            "x": -0.10546596492614002,
            "y": 0.011123069757801796
           },
           {
            "x": 1.4263422347760881,
            "y": 2.0344521707060452
           },
           {
            "x": 3.5102366324359413,
            "y": 12.321761215695219
           },
           {
            "x": 0.8712937291448519,
            "y": 0.7591527624471426
           },
           {
            "x": 4.048966054582533,
            "y": 16.394126111161647
           },
           {
            "x": 0.7878440508966593,
            "y": 0.620698248533258
           },
           {
            "x": 3.4052324185843537,
            "y": 11.595607824577847
           },
           {
            "x": 2.449672884576901,
            "y": 6.000897241431316
           },
           {
            "x": 3.54879076554944,
            "y": 12.593915897648982
           },
           {
            "x": 3.5783501798940383,
            "y": 12.804590009947695
           },
           {
            "x": 6.465487026535432,
            "y": 41.80252249029798
           },
           {
            "x": 3.9592646959347024,
            "y": 15.675776932474912
           },
           {
            "x": 2.753361572585738,
            "y": 7.580999949391807
           },
           {
            "x": 4.982984338005819,
            "y": 24.83013291281129
           },
           {
            "x": 1.6501548858410866,
            "y": 2.7230111472652094
           },
           {
            "x": 7.720081722471051,
            "y": 59.5996618016316
           },
           {
            "x": 2.235478051096992,
            "y": 4.997362116936406
           },
           {
            "x": 4.410968356573738,
            "y": 19.456641842694825
           },
           {
            "x": -3.1677118558313486,
            "y": 10.034398401574487
           },
           {
            "x": 1.6737445446338932,
            "y": 2.8014208006917185
           },
           {
            "x": -0.5385088870296011,
            "y": 0.2899918214098597
           },
           {
            "x": 2.9137762919490466,
            "y": 8.490092279524335
           },
           {
            "x": 5.702538059306933,
            "y": 32.518940317844084
           },
           {
            "x": 1.8085947220900236,
            "y": 3.2710148687718896
           },
           {
            "x": 3.9186896636376987,
            "y": 15.356128679900939
           },
           {
            "x": 3.6325049990973524,
            "y": 13.195092568467256
           },
           {
            "x": 1.8344384124134243,
            "y": 3.3651642889378848
           },
           {
            "x": 4.794607463084045,
            "y": 22.98826072506122
           },
           {
            "x": 2.4113330284824612,
            "y": 5.814526974250398
           },
           {
            "x": 2.4871706153629742,
            "y": 6.186017669925036
           },
           {
            "x": 1.1019138961598365,
            "y": 1.214214234550151
           },
           {
            "x": 3.4524053878579615,
            "y": 11.919102962110681
           },
           {
            "x": 1.4105822701246526,
            "y": 1.9897423407900185
           },
           {
            "x": -1.6344517419873155,
            "y": 2.67143249688537
           },
           {
            "x": 1.3711589023375796,
            "y": 1.8800767354595962
           },
           {
            "x": 0.4916159444628181,
            "y": 0.24168623685006865
           },
           {
            "x": 0.09488234203053958,
            "y": 0.009002658829200297
           },
           {
            "x": 2.9385384412977773,
            "y": 8.63500817098477
           },
           {
            "x": 4.894689027088205,
            "y": 23.95798067189768
           },
           {
            "x": -1.9339666994889964,
            "y": 3.7402271947323618
           },
           {
            "x": 3.668448502971759,
            "y": 13.457514418955741
           },
           {
            "x": 4.415695332802262,
            "y": 19.498365272131675
           },
           {
            "x": 1.0861722391522277,
            "y": 1.1797701331049641
           },
           {
            "x": 1.4586705058605198,
            "y": 2.1277196446673847
           },
           {
            "x": 2.7062799120069587,
            "y": 7.323950962132392
           },
           {
            "x": 0.31856338676920704,
            "y": 0.10148263138986739
           },
           {
            "x": 0.12375369381914325,
            "y": 0.015314976733882255
           },
           {
            "x": 0.8944669440707687,
            "y": 0.8000711140352996
           },
           {
            "x": 2.294039269254902,
            "y": 5.262616168883565
           },
           {
            "x": 0.09463670930243895,
            "y": 0.008956106747594334
           },
           {
            "x": 3.347680900676692,
            "y": 11.206967412755507
           },
           {
            "x": 1.4138254303779667,
            "y": 1.9989023475834429
           },
           {
            "x": 0.5881181043905972,
            "y": 0.3458829047119894
           },
           {
            "x": 3.622154465604915,
            "y": 13.120002972701629
           },
           {
            "x": 3.9734181558436403,
            "y": 15.788051841187876
           },
           {
            "x": 0.1656036580993696,
            "y": 0.027424571575892905
           },
           {
            "x": 2.7810191888361016,
            "y": 7.734067728674608
           },
           {
            "x": -2.5185896518998794,
            "y": 6.343293834657156
           },
           {
            "x": 1.78837829420136,
            "y": 3.198296923170566
           },
           {
            "x": 0.7913713014474857,
            "y": 0.6262685367546873
           },
           {
            "x": 5.824988275023657,
            "y": 33.93048840416307
           },
           {
            "x": 0.6690110294629317,
            "y": 0.4475757575430516
           },
           {
            "x": 2.1492366411431902,
            "y": 4.619218139632462
           },
           {
            "x": 1.7918840155574898,
            "y": 3.210848325210434
           },
           {
            "x": 2.3515973832181336,
            "y": 5.530010252758373
           },
           {
            "x": 3.8954239351564666,
            "y": 15.174327634589892
           },
           {
            "x": 1.601294661611925,
            "y": 2.5641445933068496
           },
           {
            "x": 3.084925648872051,
            "y": 9.516766259068644
           },
           {
            "x": 0.6807366303692053,
            "y": 0.46340235992642004
           },
           {
            "x": 5.826967922809947,
            "y": 33.953555173456074
           },
           {
            "x": 2.2991635399518606,
            "y": 5.286152983443971
           },
           {
            "x": 2.6686613845962133,
            "y": 7.121753585634978
           },
           {
            "x": -0.47263151709140905,
            "y": 0.2233805509481269
           },
           {
            "x": 2.0664755250106475,
            "y": 4.270321095468031
           },
           {
            "x": 3.6211376302873752,
            "y": 13.112637737483267
           },
           {
            "x": 2.889142419694601,
            "y": 8.347143921278773
           },
           {
            "x": -1.6869239861481766,
            "y": 2.8457125350420536
           },
           {
            "x": 5.659694397159304,
            "y": 32.03214066923641
           },
           {
            "x": 4.2353562589494285,
            "y": 17.938242640222096
           },
           {
            "x": 1.7087101001859715,
            "y": 2.9196902064775525
           },
           {
            "x": 1.1367812634079877,
            "y": 1.2922716408354606
           },
           {
            "x": 3.5758274513484873,
            "y": 12.786541961817418
           },
           {
            "x": -0.4558471754841569,
            "y": 0.20779664739688372
           },
           {
            "x": 4.95615904538264,
            "y": 24.563512483128164
           },
           {
            "x": 0.5967880825526402,
            "y": 0.3561560154768568
           },
           {
            "x": 4.258202609121273,
            "y": 18.132289460327218
           },
           {
            "x": 2.4709934868643133,
            "y": 6.105808812125857
           },
           {
            "x": 2.702923401485442,
            "y": 7.305794914297632
           },
           {
            "x": 1.8950782192182483,
            "y": 3.591321456955407
           },
           {
            "x": 2.0993201070179395,
            "y": 4.407144911729813
           },
           {
            "x": 4.864053029806765,
            "y": 23.65901187677237
           },
           {
            "x": -1.0445051956326394,
            "y": 1.0909911037035784
           },
           {
            "x": -0.13966440137911418,
            "y": 0.01950614501258631
           },
           {
            "x": 2.982149220709316,
            "y": 8.89321397457718
           },
           {
            "x": 2.910923421723292,
            "y": 8.47347516713724
           },
           {
            "x": 3.8521840782199233,
            "y": 14.83932217249108
           },
           {
            "x": 1.9915563977153337,
            "y": 3.9662968852808764
           },
           {
            "x": -0.04647977091292921,
            "y": 0.0021603691041183802
           },
           {
            "x": 5.619533500007468,
            "y": 31.579156757706183
           },
           {
            "x": 0.5253131218793374,
            "y": 0.2759538760186156
           },
           {
            "x": 2.417977240186528,
            "y": 5.846613934060059
           },
           {
            "x": 3.0310864503157893,
            "y": 9.187485069287971
           },
           {
            "x": 1.7844136640708848,
            "y": 3.1841321245228804
           },
           {
            "x": 1.9703561621127443,
            "y": 3.882303405575663
           },
           {
            "x": 1.6270410341427186,
            "y": 2.6472625267842074
           },
           {
            "x": 1.177184586173557,
            "y": 1.3857635499246088
           },
           {
            "x": 3.3068823053855927,
            "y": 10.935470581672332
           },
           {
            "x": 6.627846433302709,
            "y": 43.928348343443446
           },
           {
            "x": 1.428319745158143,
            "y": 2.0400972944086226
           },
           {
            "x": -0.5357681335496367,
            "y": 0.28704749292726134
           },
           {
            "x": 1.7879392450883669,
            "y": 3.1967267441271594
           },
           {
            "x": 2.8207086327988176,
            "y": 7.956397191145775
           },
           {
            "x": 3.6212122766223134,
            "y": 13.113178352360158
           },
           {
            "x": 4.166018795020087,
            "y": 17.35571260046062
           },
           {
            "x": 3.3703757088386648,
            "y": 11.359432418729732
           },
           {
            "x": 6.0423302658038365,
            "y": 36.50975504104906
           },
           {
            "x": -4.109438519832295,
            "y": 16.887484948281447
           },
           {
            "x": 0.1281226519524452,
            "y": 0.016415413943327413
           },
           {
            "x": 1.9525494763077533,
            "y": 3.8124494574296817
           },
           {
            "x": 1.1488657034137215,
            "y": 1.319892404480305
           },
           {
            "x": 4.322978390075248,
            "y": 18.68814216105758
           },
           {
            "x": 1.412750401190941,
            "y": 1.995863696065165
           },
           {
            "x": 4.028520117897923,
            "y": 16.228974340308294
           },
           {
            "x": 0.880921938802655,
            "y": 0.7760234622638287
           },
           {
            "x": 3.9537927489830045,
            "y": 15.632477101910583
           },
           {
            "x": 2.2280251550345582,
            "y": 4.964096091466767
           },
           {
            "x": 5.378914692054603,
            "y": 28.932723264400863
           },
           {
            "x": 3.9438576725719905,
            "y": 15.554013341504957
           },
           {
            "x": 2.477655341993725,
            "y": 6.138775993710041
           },
           {
            "x": 3.5135159643798204,
            "y": 12.34479443195186
           },
           {
            "x": 1.5853857453792868,
            "y": 2.5134479616518366
           },
           {
            "x": 4.690544619115406,
            "y": 22.00120882391249
           },
           {
            "x": 3.472858035345686,
            "y": 12.060742933665098
           },
           {
            "x": -2.5850239809040305,
            "y": 6.6823489818489215
           },
           {
            "x": 1.731911079816295,
            "y": 2.999515988390445
           },
           {
            "x": 3.979129508548142,
            "y": 15.83347164579858
           },
           {
            "x": 1.9474102226898324,
            "y": 3.7924065754368628
           },
           {
            "x": 2.1448762064357068,
            "y": 4.600493940934029
           },
           {
            "x": 1.553459445678795,
            "y": 2.4132362493686688
           },
           {
            "x": 2.29355771769822,
            "y": 5.260407004413067
           },
           {
            "x": 1.2731105445638622,
            "y": 1.6208104586796936
           },
           {
            "x": -0.2912089188681537,
            "y": 0.08480263442835892
           },
           {
            "x": 3.3403219391888017,
            "y": 11.157750657426037
           },
           {
            "x": 0.7543348505822587,
            "y": 0.5690210668029585
           },
           {
            "x": 6.074910860917229,
            "y": 36.90454196809011
           },
           {
            "x": 2.948705643012637,
            "y": 8.694864969134567
           },
           {
            "x": -2.4556692674726444,
            "y": 6.030311551209634
           },
           {
            "x": 2.61540387201625,
            "y": 6.840337413757593
           },
           {
            "x": 2.0079982960088865,
            "y": 4.0320571567745915
           },
           {
            "x": 2.7247221649811193,
            "y": 7.424110876339398
           },
           {
            "x": 3.3078955892933513,
            "y": 10.942173229666407
           },
           {
            "x": 2.1756778869283098,
            "y": 4.7335742676688355
           },
           {
            "x": -0.9414082027787694,
            "y": 0.8862494042591526
           },
           {
            "x": 3.110023225015695,
            "y": 9.672244460137025
           },
           {
            "x": 1.0038404013031308,
            "y": 1.0076955512884307
           },
           {
            "x": 5.006740323814091,
            "y": 25.067448670106028
           },
           {
            "x": 2.2641252593875993,
            "y": 5.126263190196964
           },
           {
            "x": 3.615312490731566,
            "y": 13.070484405639679
           },
           {
            "x": 5.212950752546728,
            "y": 27.1748555484775
           },
           {
            "x": 2.401501402320802,
            "y": 5.767208985348779
           },
           {
            "x": 3.3094093055582725,
            "y": 10.952189951715688
           },
           {
            "x": 2.281961695393038,
            "y": 5.207349179241069
           },
           {
            "x": 0.9674777474537952,
            "y": 0.9360131918182696
           },
           {
            "x": 0.7404542564581615,
            "y": 0.5482725059070088
           },
           {
            "x": 2.8070792313476813,
            "y": 7.87969381106349
           },
           {
            "x": 3.3661657350068936,
            "y": 11.3310717555345
           },
           {
            "x": 3.629494852238069,
            "y": 13.17323288242264
           }
          ]
         },
         "encoding": {
          "x": {
           "field": "x",
           "type": "quantitative"
          },
          "y": {
           "field": "y",
           "type": "quantitative"
          }
         },
         "mark": {
          "color": "firebrick",
          "opacity": 0.2,
          "size": 10,
          "type": "point"
         }
        }
       ]
      },
      "image/png": "[encoded data removed]",
      "text/plain": [
       "<VegaLite 2 object>\n",
       "\n",
       "If you see this message, it means the renderer has not been properly enabled\n",
       "for the frontend that you are using. For more information, see\n",
       "https://altair-viz.github.io/user_guide/troubleshooting.html\n"
      ]
     },
     "execution_count": 4,
     "metadata": {},
     "output_type": "execute_result"
    }
   ],
   "source": [
    "expectedx2 = np.mean([i ** 2 for i in s])\n",
    "\n",
    "\n",
    "dt = make_altair_object_labels(X=[np.mean(s)], Y=[expectedx2], L=[\"E[X^2]\"])\n",
    "                                \n",
    "expected_x2 = alt.Chart(dt).mark_point(opacity=expectation_opacity, size=expectation_size, color=\"black\", filled=True).encode(\n",
    "    x='x:Q',  # specify ordinal data\n",
    "    y='y:Q',  # specify quantitative data\n",
    ")\n",
    "\n",
    "dt = make_altair_object_labels(X=[np.mean(s)], Y=[0], L=[\"E[X]\"])\n",
    "                                \n",
    "expected_x = alt.Chart(dt).mark_point(opacity=expectation_opacity, size=expectation_size, color=\"blue\", filled=True).encode(\n",
    "    x='x:Q',  # specify ordinal data\n",
    "    y='y:Q',  # specify quantitative data\n",
    ")\n",
    "\n",
    "text = expected_x2.mark_text(\n",
    "    align='right',\n",
    "    baseline='middle',\n",
    "    dx=7,\n",
    "    xOffset=-15,    \n",
    ").encode(\n",
    "    text='label:N'\n",
    ")\n",
    "\n",
    "\n",
    "text2 = expected_x.mark_text(\n",
    "    align='left',\n",
    "    baseline='bottom',\n",
    "    yOffset=-4,\n",
    "    dx=16\n",
    ").encode(\n",
    "    text='label:N'\n",
    ")\n",
    "\n",
    "x_points + expected_x2 + text + expected_x + text2 + x2_points"
   ]
  },
  {
   "cell_type": "markdown",
   "metadata": {},
   "source": [
    "If we square the expected value of the Xs we get $\\mathbb{E}[X]^2$. We show this as another blue dot. "
   ]
  },
  {
   "cell_type": "code",
   "execution_count": 9,
   "metadata": {},
   "outputs": [
    {
     "data": {
      "application/vnd.vegalite.v2+json": {
       "$schema": "https://vega.github.io/schema/vega-lite/v2.6.0.json",
       "config": {
        "view": {
         "height": 300,
         "width": 400
        }
       },
       "layer": [
        {
         "data": {
          "values": [
           {
            "x": 1.0323756787022422,
            "y": 1.0657995419759152
           },
           {
            "x": 0.8354039896005354,
            "y": 0.6978998258404915
           },
           {
            "x": 5.501086968401772,
            "y": 30.261957833919798
           },
           {
            "x": 1.8427929733970272,
            "y": 3.3958859428014567
           },
           {
            "x": 2.84435852250431,
            "y": 8.090375404542902
           },
           {
            "x": 1.3515980084714456,
            "y": 1.826817176503978
           },
           {
            "x": 2.839484800408642,
            "y": 8.062673931751707
           },
           {
            "x": -0.08538309332219551,
            "y": 0.0072902726252667485
           },
           {
            "x": 4.306931739822586,
            "y": 18.549661011491207
           },
           {
            "x": 0.5572853264124391,
            "y": 0.3105669350346188
           },
           {
            "x": 5.597439130187254,
            "y": 31.331324816151447
           },
           {
            "x": 1.6635630869199125,
            "y": 2.7674421441625086
           },
           {
            "x": 1.6784646926890703,
            "y": 2.817243724603815
           },
           {
            "x": 0.07735947400749321,
            "y": 0.005984488218716018
           },
           {
            "x": 2.424696157900438,
            "y": 5.879151458137146
           },
           {
            "x": 6.187414439506261,
            "y": 38.28409744621058
           },
           {
            "x": 2.235976507974666,
            "y": 4.999590944214581
           },
           {
            "x": 4.284348962572987,
            "y": 18.355646033100232
           },
           {
            "x": 1.608904501038111,
            "y": 2.5885736934606927
           },
           {
            "x": 0.4786333862467469,
            "y": 0.2290899184300276
           },
           {
            "x": 4.140429817260685,
            "y": 17.14315907166135
           },
           {
            "x": 1.5799848241010794,
            "y": 2.496352044389719
           },
           {
            "x": 1.0171341607376145,
            "y": 1.0345619009394116
           },
           {
            "x": 3.7819392297852534,
            "y": 14.303064337788676
           },
           {
            "x": 4.1711720526297595,
            "y": 17.39867629263956
           },
           {
            "x": 3.540083864805946,
            "y": 12.532193769859404
           },
           {
            "x": 3.2859376897095722,
            "y": 10.79738650065388
           },
           {
            "x": -1.448975002127721,
            "y": 2.099528556791029
           },
           {
            "x": 5.474813178268483,
            "y": 29.973579336942247
           },
           {
            "x": 1.8481416519360723,
            "y": 3.4156275656209942
           },
           {
            "x": 2.086438682448386,
            "y": 4.353226375616957
           },
           {
            "x": 4.215479728011749,
            "y": 17.77026933727801
           },
           {
            "x": 2.5464192906282217,
            "y": 6.484251203683536
           },
           {
            "x": 4.094046326404587,
            "y": 16.7612153227469
           },
           {
            "x": 3.28415176053376,
            "y": 10.785652786216996
           },
           {
            "x": 1.864007923871898,
            "y": 3.4745255402572237
           },
           {
            "x": 3.7069213736419453,
            "y": 13.741266070363487
           },
           {
            "x": 0.30443314930133614,
            "y": 0.09267954239352962
           },
           {
            "x": 1.5440583144519366,
            "y": 2.3841160784281556
           },
           {
            "x": 0.47727085757300625,
            "y": 0.2277874714884728
           },
           {
            "x": 4.891417484530369,
            "y": 23.925965007969406
           },
           {
            "x": 2.51331581222879,
            "y": 6.316756371999262
           },
           {
            "x": 5.778636633955188,
            "y": 33.392641347288944
           },
           {
            "x": 2.0145166343101044,
            "y": 4.058277269912111
           },
           {
            "x": -0.40498260439227396,
            "y": 0.16401090986034908
           },
           {
            "x": -0.4772548530505256,
            "y": 0.2277721947602788
           },
           {
            "x": 2.6723888696232816,
            "y": 7.141662270486401
           },
           {
            "x": 3.839934556127765,
            "y": 14.745097395344137
           },
           {
            "x": 3.1096774325969436,
            "y": 9.67009373480272
           },
           {
            "x": 1.563091731227707,
            "y": 2.4432557602324305
           },
           {
            "x": 1.618287291176927,
            "y": 2.6188537567847563
           },
           {
            "x": 0.9779371310872962,
            "y": 0.9563610323592515
           },
           {
            "x": 2.1010975763298747,
            "y": 4.414611025259274
           },
           {
            "x": 4.031492972572683,
            "y": 16.252935587902925
           },
           {
            "x": -0.48163817656243246,
            "y": 0.23197533312238486
           },
           {
            "x": 3.510635466704089,
            "y": 12.324561380080636
           },
           {
            "x": 2.5142834278581576,
            "y": 6.321621155602167
           },
           {
            "x": 2.2059301296946012,
            "y": 4.86612773709444
           },
           {
            "x": 0.15248044306138553,
            "y": 0.023250285516196435
           },
           {
            "x": 2.2309872787718827,
            "y": 4.97730423804197
           },
           {
            "x": -1.8962353171434314,
            "y": 3.59570837798205
           },
           {
            "x": 0.26441972454096563,
            "y": 0.06991779072632014
           },
           {
            "x": 0.9537206412975339,
            "y": 0.9095830616369792
           },
           {
            "x": 2.9165782027526452,
            "y": 8.50642841277185
           },
           {
            "x": 1.145230888615756,
            "y": 1.3115537882396342
           },
           {
            "x": 1.8890559618231295,
            "y": 3.568532426899509
           },
           {
            "x": 2.0811332542344743,
            "y": 4.331115621880573
           },
           {
            "x": 1.7483087540724218,
            "y": 3.0565834995662637
           },
           {
            "x": 0.10480380384694366,
            "y": 0.010983837300788642
           },
           {
            "x": 1.8821638650052444,
            "y": 3.54254081473148
           },
           {
            "x": 3.3362435738688285,
            "y": 11.130521184181054
           },
           {
            "x": 2.4983228957951136,
            "y": 6.241617291654082
           },
           {
            "x": 4.330880361129627,
            "y": 18.75652470241829
           },
           {
            "x": 4.304295864794375,
            "y": 18.52696289168596
           },
           {
            "x": 0.9055913630505303,
            "y": 0.8200957168317174
           },
           {
            "x": 3.873707388086263,
            "y": 15.005608928514098
           },
           {
            "x": 5.076476939703948,
            "y": 25.77061811934596
           },
           {
            "x": 2.1660301166490075,
            "y": 4.691686466230513
           },
           {
            "x": 4.185070782052092,
            "y": 17.514817450786108
           },
           {
            "x": 3.9241825978300424,
            "y": 15.39920906111214
           },
           {
            "x": 4.255013136348975,
            "y": 18.10513679050234
           },
           {
            "x": 4.256870028414305,
            "y": 18.120942438812005
           },
           {
            "x": 3.0900452605218676,
            "y": 9.548379712073656
           },
           {
            "x": 5.32252400833082,
            "y": 28.32926181925798
           },
           {
            "x": 0.24391578665869273,
            "y": 0.05949491098132891
           },
           {
            "x": 1.130716721876438,
            "y": 1.2785203051309981
           },
           {
            "x": 1.4600703086487012,
            "y": 2.1318053061975135
           },
           {
            "x": 4.6504725864534535,
            "y": 21.626895277355075
           },
           {
            "x": 3.3245952751811885,
            "y": 11.052933743757082
           },
           {
            "x": 0.20806186954430972,
            "y": 0.04328974155827336
           },
           {
            "x": 6.169459224238772,
            "y": 38.06222711954487
           },
           {
            "x": 1.5653254140684114,
            "y": 2.4502436519284436
           },
           {
            "x": -0.45835748676744137,
            "y": 0.2100915856757652
           },
           {
            "x": 6.22280954651263,
            "y": 38.72335865216872
           },
           {
            "x": 6.514897085157576,
            "y": 42.443884030194674
           },
           {
            "x": 2.858766358206445,
            "y": 8.17254509081294
           },
           {
            "x": 3.2085630860570094,
            "y": 10.29487707720768
           },
           {
            "x": 1.6449213051506848,
            "y": 2.705766100138632
           },
           {
            "x": 2.561917167896689,
            "y": 6.563419575163793
           },
           {
            "x": 1.8639818993471056,
            "y": 3.474428521093643
           },
           {
            "x": 2.580506562704831,
            "y": 6.659014120162701
           },
           {
            "x": -1.2271221838691226,
            "y": 1.5058288541437248
           },
           {
            "x": 0.9715195841961841,
            "y": 0.9438503024767265
           },
           {
            "x": 3.212257967246785,
            "y": 10.318601248140448
           },
           {
            "x": 1.1664940048752694,
            "y": 1.3607082634099452
           },
           {
            "x": 2.179786320764256,
            "y": 4.751468404190972
           },
           {
            "x": 2.2236623998712566,
            "y": 4.944674468601196
           },
           {
            "x": 7.080640923168826,
            "y": 50.13547588285308
           },
           {
            "x": 2.642861454442078,
            "y": 6.984716667375697
           },
           {
            "x": 7.574202675908728,
            "y": 57.368546175742935
           },
           {
            "x": 1.4135650493095933,
            "y": 1.9981661486296327
           },
           {
            "x": 6.025836103008414,
            "y": 36.31070074031963
           },
           {
            "x": 2.923891097733491,
            "y": 8.549139151405159
           },
           {
            "x": 0.22068438306025406,
            "y": 0.04870159692668495
           },
           {
            "x": 1.686918759534162,
            "y": 2.8456949012682755
           },
           {
            "x": 1.7542346536408888,
            "y": 3.077339220034569
           },
           {
            "x": -0.9257810181551349,
            "y": 0.8570704935763582
           },
           {
            "x": 2.9389966702959276,
            "y": 8.63770142801055
           },
           {
            "x": -3.2740589505112405,
            "y": 10.719462011422765
           },
           {
            "x": 4.187407867055754,
            "y": 17.53438464508042
           },
           {
            "x": 0.8323031563235541,
            "y": 0.6927285440261506
           },
           {
            "x": 3.3023251395351645,
            "y": 10.905351327205944
           },
           {
            "x": -0.22758795161713108,
            "y": 0.0517962757212816
           },
           {
            "x": -1.4290569157851238,
            "y": 2.0422036685532907
           },
           {
            "x": 4.541669801666321,
            "y": 20.626764587367795
           },
           {
            "x": 4.404035775567748,
            "y": 19.39553111248062
           },
           {
            "x": 0.904461361150801,
            "y": 0.8180503538147597
           },
           {
            "x": 3.830360431658237,
            "y": 14.671661036413076
           },
           {
            "x": 0.4167377088977462,
            "y": 0.17367031801734265
           },
           {
            "x": 1.3983564285011758,
            "y": 1.955400701130564
           },
           {
            "x": 4.730445858386805,
            "y": 22.377118019128876
           },
           {
            "x": 6.167511209875933,
            "y": 38.03819452394529
           },
           {
            "x": 2.6903851496597193,
            "y": 7.23817225350955
           },
           {
            "x": -0.10546596492614002,
            "y": 0.011123069757801796
           },
           {
            "x": 1.4263422347760881,
            "y": 2.0344521707060452
           },
           {
            "x": 3.5102366324359413,
            "y": 12.321761215695219
           },
           {
            "x": 0.8712937291448519,
            "y": 0.7591527624471426
           },
           {
            "x": 4.048966054582533,
            "y": 16.394126111161647
           },
           {
            "x": 0.7878440508966593,
            "y": 0.620698248533258
           },
           {
            "x": 3.4052324185843537,
            "y": 11.595607824577847
           },
           {
            "x": 2.449672884576901,
            "y": 6.000897241431316
           },
           {
            "x": 3.54879076554944,
            "y": 12.593915897648982
           },
           {
            "x": 3.5783501798940383,
            "y": 12.804590009947695
           },
           {
            "x": 6.465487026535432,
            "y": 41.80252249029798
           },
           {
            "x": 3.9592646959347024,
            "y": 15.675776932474912
           },
           {
            "x": 2.753361572585738,
            "y": 7.580999949391807
           },
           {
            "x": 4.982984338005819,
            "y": 24.83013291281129
           },
           {
            "x": 1.6501548858410866,
            "y": 2.7230111472652094
           },
           {
            "x": 7.720081722471051,
            "y": 59.5996618016316
           },
           {
            "x": 2.235478051096992,
            "y": 4.997362116936406
           },
           {
            "x": 4.410968356573738,
            "y": 19.456641842694825
           },
           {
            "x": -3.1677118558313486,
            "y": 10.034398401574487
           },
           {
            "x": 1.6737445446338932,
            "y": 2.8014208006917185
           },
           {
            "x": -0.5385088870296011,
            "y": 0.2899918214098597
           },
           {
            "x": 2.9137762919490466,
            "y": 8.490092279524335
           },
           {
            "x": 5.702538059306933,
            "y": 32.518940317844084
           },
           {
            "x": 1.8085947220900236,
            "y": 3.2710148687718896
           },
           {
            "x": 3.9186896636376987,
            "y": 15.356128679900939
           },
           {
            "x": 3.6325049990973524,
            "y": 13.195092568467256
           },
           {
            "x": 1.8344384124134243,
            "y": 3.3651642889378848
           },
           {
            "x": 4.794607463084045,
            "y": 22.98826072506122
           },
           {
            "x": 2.4113330284824612,
            "y": 5.814526974250398
           },
           {
            "x": 2.4871706153629742,
            "y": 6.186017669925036
           },
           {
            "x": 1.1019138961598365,
            "y": 1.214214234550151
           },
           {
            "x": 3.4524053878579615,
            "y": 11.919102962110681
           },
           {
            "x": 1.4105822701246526,
            "y": 1.9897423407900185
           },
           {
            "x": -1.6344517419873155,
            "y": 2.67143249688537
           },
           {
            "x": 1.3711589023375796,
            "y": 1.8800767354595962
           },
           {
            "x": 0.4916159444628181,
            "y": 0.24168623685006865
           },
           {
            "x": 0.09488234203053958,
            "y": 0.009002658829200297
           },
           {
            "x": 2.9385384412977773,
            "y": 8.63500817098477
           },
           {
            "x": 4.894689027088205,
            "y": 23.95798067189768
           },
           {
            "x": -1.9339666994889964,
            "y": 3.7402271947323618
           },
           {
            "x": 3.668448502971759,
            "y": 13.457514418955741
           },
           {
            "x": 4.415695332802262,
            "y": 19.498365272131675
           },
           {
            "x": 1.0861722391522277,
            "y": 1.1797701331049641
           },
           {
            "x": 1.4586705058605198,
            "y": 2.1277196446673847
           },
           {
            "x": 2.7062799120069587,
            "y": 7.323950962132392
           },
           {
            "x": 0.31856338676920704,
            "y": 0.10148263138986739
           },
           {
            "x": 0.12375369381914325,
            "y": 0.015314976733882255
           },
           {
            "x": 0.8944669440707687,
            "y": 0.8000711140352996
           },
           {
            "x": 2.294039269254902,
            "y": 5.262616168883565
           },
           {
            "x": 0.09463670930243895,
            "y": 0.008956106747594334
           },
           {
            "x": 3.347680900676692,
            "y": 11.206967412755507
           },
           {
            "x": 1.4138254303779667,
            "y": 1.9989023475834429
           },
           {
            "x": 0.5881181043905972,
            "y": 0.3458829047119894
           },
           {
            "x": 3.622154465604915,
            "y": 13.120002972701629
           },
           {
            "x": 3.9734181558436403,
            "y": 15.788051841187876
           },
           {
            "x": 0.1656036580993696,
            "y": 0.027424571575892905
           },
           {
            "x": 2.7810191888361016,
            "y": 7.734067728674608
           },
           {
            "x": -2.5185896518998794,
            "y": 6.343293834657156
           },
           {
            "x": 1.78837829420136,
            "y": 3.198296923170566
           },
           {
            "x": 0.7913713014474857,
            "y": 0.6262685367546873
           },
           {
            "x": 5.824988275023657,
            "y": 33.93048840416307
           },
           {
            "x": 0.6690110294629317,
            "y": 0.4475757575430516
           },
           {
            "x": 2.1492366411431902,
            "y": 4.619218139632462
           },
           {
            "x": 1.7918840155574898,
            "y": 3.210848325210434
           },
           {
            "x": 2.3515973832181336,
            "y": 5.530010252758373
           },
           {
            "x": 3.8954239351564666,
            "y": 15.174327634589892
           },
           {
            "x": 1.601294661611925,
            "y": 2.5641445933068496
           },
           {
            "x": 3.084925648872051,
            "y": 9.516766259068644
           },
           {
            "x": 0.6807366303692053,
            "y": 0.46340235992642004
           },
           {
            "x": 5.826967922809947,
            "y": 33.953555173456074
           },
           {
            "x": 2.2991635399518606,
            "y": 5.286152983443971
           },
           {
            "x": 2.6686613845962133,
            "y": 7.121753585634978
           },
           {
            "x": -0.47263151709140905,
            "y": 0.2233805509481269
           },
           {
            "x": 2.0664755250106475,
            "y": 4.270321095468031
           },
           {
            "x": 3.6211376302873752,
            "y": 13.112637737483267
           },
           {
            "x": 2.889142419694601,
            "y": 8.347143921278773
           },
           {
            "x": -1.6869239861481766,
            "y": 2.8457125350420536
           },
           {
            "x": 5.659694397159304,
            "y": 32.03214066923641
           },
           {
            "x": 4.2353562589494285,
            "y": 17.938242640222096
           },
           {
            "x": 1.7087101001859715,
            "y": 2.9196902064775525
           },
           {
            "x": 1.1367812634079877,
            "y": 1.2922716408354606
           },
           {
            "x": 3.5758274513484873,
            "y": 12.786541961817418
           },
           {
            "x": -0.4558471754841569,
            "y": 0.20779664739688372
           },
           {
            "x": 4.95615904538264,
            "y": 24.563512483128164
           },
           {
            "x": 0.5967880825526402,
            "y": 0.3561560154768568
           },
           {
            "x": 4.258202609121273,
            "y": 18.132289460327218
           },
           {
            "x": 2.4709934868643133,
            "y": 6.105808812125857
           },
           {
            "x": 2.702923401485442,
            "y": 7.305794914297632
           },
           {
            "x": 1.8950782192182483,
            "y": 3.591321456955407
           },
           {
            "x": 2.0993201070179395,
            "y": 4.407144911729813
           },
           {
            "x": 4.864053029806765,
            "y": 23.65901187677237
           },
           {
            "x": -1.0445051956326394,
            "y": 1.0909911037035784
           },
           {
            "x": -0.13966440137911418,
            "y": 0.01950614501258631
           },
           {
            "x": 2.982149220709316,
            "y": 8.89321397457718
           },
           {
            "x": 2.910923421723292,
            "y": 8.47347516713724
           },
           {
            "x": 3.8521840782199233,
            "y": 14.83932217249108
           },
           {
            "x": 1.9915563977153337,
            "y": 3.9662968852808764
           },
           {
            "x": -0.04647977091292921,
            "y": 0.0021603691041183802
           },
           {
            "x": 5.619533500007468,
            "y": 31.579156757706183
           },
           {
            "x": 0.5253131218793374,
            "y": 0.2759538760186156
           },
           {
            "x": 2.417977240186528,
            "y": 5.846613934060059
           },
           {
            "x": 3.0310864503157893,
            "y": 9.187485069287971
           },
           {
            "x": 1.7844136640708848,
            "y": 3.1841321245228804
           },
           {
            "x": 1.9703561621127443,
            "y": 3.882303405575663
           },
           {
            "x": 1.6270410341427186,
            "y": 2.6472625267842074
           },
           {
            "x": 1.177184586173557,
            "y": 1.3857635499246088
           },
           {
            "x": 3.3068823053855927,
            "y": 10.935470581672332
           },
           {
            "x": 6.627846433302709,
            "y": 43.928348343443446
           },
           {
            "x": 1.428319745158143,
            "y": 2.0400972944086226
           },
           {
            "x": -0.5357681335496367,
            "y": 0.28704749292726134
           },
           {
            "x": 1.7879392450883669,
            "y": 3.1967267441271594
           },
           {
            "x": 2.8207086327988176,
            "y": 7.956397191145775
           },
           {
            "x": 3.6212122766223134,
            "y": 13.113178352360158
           },
           {
            "x": 4.166018795020087,
            "y": 17.35571260046062
           },
           {
            "x": 3.3703757088386648,
            "y": 11.359432418729732
           },
           {
            "x": 6.0423302658038365,
            "y": 36.50975504104906
           },
           {
            "x": -4.109438519832295,
            "y": 16.887484948281447
           },
           {
            "x": 0.1281226519524452,
            "y": 0.016415413943327413
           },
           {
            "x": 1.9525494763077533,
            "y": 3.8124494574296817
           },
           {
            "x": 1.1488657034137215,
            "y": 1.319892404480305
           },
           {
            "x": 4.322978390075248,
            "y": 18.68814216105758
           },
           {
            "x": 1.412750401190941,
            "y": 1.995863696065165
           },
           {
            "x": 4.028520117897923,
            "y": 16.228974340308294
           },
           {
            "x": 0.880921938802655,
            "y": 0.7760234622638287
           },
           {
            "x": 3.9537927489830045,
            "y": 15.632477101910583
           },
           {
            "x": 2.2280251550345582,
            "y": 4.964096091466767
           },
           {
            "x": 5.378914692054603,
            "y": 28.932723264400863
           },
           {
            "x": 3.9438576725719905,
            "y": 15.554013341504957
           },
           {
            "x": 2.477655341993725,
            "y": 6.138775993710041
           },
           {
            "x": 3.5135159643798204,
            "y": 12.34479443195186
           },
           {
            "x": 1.5853857453792868,
            "y": 2.5134479616518366
           },
           {
            "x": 4.690544619115406,
            "y": 22.00120882391249
           },
           {
            "x": 3.472858035345686,
            "y": 12.060742933665098
           },
           {
            "x": -2.5850239809040305,
            "y": 6.6823489818489215
           },
           {
            "x": 1.731911079816295,
            "y": 2.999515988390445
           },
           {
            "x": 3.979129508548142,
            "y": 15.83347164579858
           },
           {
            "x": 1.9474102226898324,
            "y": 3.7924065754368628
           },
           {
            "x": 2.1448762064357068,
            "y": 4.600493940934029
           },
           {
            "x": 1.553459445678795,
            "y": 2.4132362493686688
           },
           {
            "x": 2.29355771769822,
            "y": 5.260407004413067
           },
           {
            "x": 1.2731105445638622,
            "y": 1.6208104586796936
           },
           {
            "x": -0.2912089188681537,
            "y": 0.08480263442835892
           },
           {
            "x": 3.3403219391888017,
            "y": 11.157750657426037
           },
           {
            "x": 0.7543348505822587,
            "y": 0.5690210668029585
           },
           {
            "x": 6.074910860917229,
            "y": 36.90454196809011
           },
           {
            "x": 2.948705643012637,
            "y": 8.694864969134567
           },
           {
            "x": -2.4556692674726444,
            "y": 6.030311551209634
           },
           {
            "x": 2.61540387201625,
            "y": 6.840337413757593
           },
           {
            "x": 2.0079982960088865,
            "y": 4.0320571567745915
           },
           {
            "x": 2.7247221649811193,
            "y": 7.424110876339398
           },
           {
            "x": 3.3078955892933513,
            "y": 10.942173229666407
           },
           {
            "x": 2.1756778869283098,
            "y": 4.7335742676688355
           },
           {
            "x": -0.9414082027787694,
            "y": 0.8862494042591526
           },
           {
            "x": 3.110023225015695,
            "y": 9.672244460137025
           },
           {
            "x": 1.0038404013031308,
            "y": 1.0076955512884307
           },
           {
            "x": 5.006740323814091,
            "y": 25.067448670106028
           },
           {
            "x": 2.2641252593875993,
            "y": 5.126263190196964
           },
           {
            "x": 3.615312490731566,
            "y": 13.070484405639679
           },
           {
            "x": 5.212950752546728,
            "y": 27.1748555484775
           },
           {
            "x": 2.401501402320802,
            "y": 5.767208985348779
           },
           {
            "x": 3.3094093055582725,
            "y": 10.952189951715688
           },
           {
            "x": 2.281961695393038,
            "y": 5.207349179241069
           },
           {
            "x": 0.9674777474537952,
            "y": 0.9360131918182696
           },
           {
            "x": 0.7404542564581615,
            "y": 0.5482725059070088
           },
           {
            "x": 2.8070792313476813,
            "y": 7.87969381106349
           },
           {
            "x": 3.3661657350068936,
            "y": 11.3310717555345
           },
           {
            "x": 3.629494852238069,
            "y": 13.17323288242264
           }
          ]
         },
         "encoding": {
          "x": {
           "field": "x",
           "type": "quantitative"
          },
          "y": {
           "field": "y",
           "type": "quantitative"
          }
         },
         "mark": {
          "color": "firebrick",
          "opacity": 0.2,
          "size": 10,
          "type": "point"
         }
        },
        {
         "data": {
          "values": [
           {
            "label": "E[X^2]",
            "x": 2.372665647881236,
            "y": 9.570857344048342
           }
          ]
         },
         "encoding": {
          "x": {
           "field": "x",
           "type": "quantitative"
          },
          "y": {
           "field": "y",
           "type": "quantitative"
          }
         },
         "mark": {
          "color": "black",
          "filled": true,
          "opacity": 0.9,
          "size": 200,
          "type": "point"
         }
        },
        {
         "data": {
          "values": [
           {
            "label": "E[X^2]",
            "x": 2.372665647881236,
            "y": 9.570857344048342
           }
          ]
         },
         "encoding": {
          "text": {
           "field": "label",
           "type": "nominal"
          },
          "x": {
           "field": "x",
           "type": "quantitative"
          },
          "y": {
           "field": "y",
           "type": "quantitative"
          }
         },
         "mark": {
          "align": "right",
          "baseline": "middle",
          "dx": 7,
          "type": "text",
          "xOffset": -15
         }
        },
        {
         "data": {
          "values": [
           {
            "label": "E[X]",
            "x": 2.372665647881236,
            "y": 0
           }
          ]
         },
         "encoding": {
          "text": {
           "field": "label",
           "type": "nominal"
          },
          "x": {
           "field": "x",
           "type": "quantitative"
          },
          "y": {
           "field": "y",
           "type": "quantitative"
          }
         },
         "mark": {
          "align": "left",
          "baseline": "bottom",
          "dx": 16,
          "type": "text",
          "yOffset": -4
         }
        },
        {
         "data": {
          "values": [
           {
            "label": "E[X]^2",
            "x": 2.372665647881236,
            "y": 5.629542276635685
           }
          ]
         },
         "encoding": {
          "x": {
           "field": "x",
           "type": "quantitative"
          },
          "y": {
           "field": "y",
           "type": "quantitative"
          }
         },
         "mark": {
          "color": "blue",
          "filled": true,
          "opacity": 0.9,
          "size": 200,
          "type": "point"
         }
        },
        {
         "data": {
          "values": [
           {
            "label": "E[X]^2",
            "x": 2.372665647881236,
            "y": 5.629542276635685
           }
          ]
         },
         "encoding": {
          "text": {
           "field": "label",
           "type": "nominal"
          },
          "x": {
           "field": "x",
           "type": "quantitative"
          },
          "y": {
           "field": "y",
           "type": "quantitative"
          }
         },
         "mark": {
          "align": "left",
          "baseline": "middle",
          "dx": 7,
          "type": "text"
         }
        },
        {
         "data": {
          "values": [
           {
            "x": 1.0323756787022422,
            "y": 0
           },
           {
            "x": 0.8354039896005354,
            "y": 0
           },
           {
            "x": 5.501086968401772,
            "y": 0
           },
           {
            "x": 1.8427929733970272,
            "y": 0
           },
           {
            "x": 2.84435852250431,
            "y": 0
           },
           {
            "x": 1.3515980084714456,
            "y": 0
           },
           {
            "x": 2.839484800408642,
            "y": 0
           },
           {
            "x": -0.08538309332219551,
            "y": 0
           },
           {
            "x": 4.306931739822586,
            "y": 0
           },
           {
            "x": 0.5572853264124391,
            "y": 0
           },
           {
            "x": 5.597439130187254,
            "y": 0
           },
           {
            "x": 1.6635630869199125,
            "y": 0
           },
           {
            "x": 1.6784646926890703,
            "y": 0
           },
           {
            "x": 0.07735947400749321,
            "y": 0
           },
           {
            "x": 2.424696157900438,
            "y": 0
           },
           {
            "x": 6.187414439506261,
            "y": 0
           },
           {
            "x": 2.235976507974666,
            "y": 0
           },
           {
            "x": 4.284348962572987,
            "y": 0
           },
           {
            "x": 1.608904501038111,
            "y": 0
           },
           {
            "x": 0.4786333862467469,
            "y": 0
           },
           {
            "x": 4.140429817260685,
            "y": 0
           },
           {
            "x": 1.5799848241010794,
            "y": 0
           },
           {
            "x": 1.0171341607376145,
            "y": 0
           },
           {
            "x": 3.7819392297852534,
            "y": 0
           },
           {
            "x": 4.1711720526297595,
            "y": 0
           },
           {
            "x": 3.540083864805946,
            "y": 0
           },
           {
            "x": 3.2859376897095722,
            "y": 0
           },
           {
            "x": -1.448975002127721,
            "y": 0
           },
           {
            "x": 5.474813178268483,
            "y": 0
           },
           {
            "x": 1.8481416519360723,
            "y": 0
           },
           {
            "x": 2.086438682448386,
            "y": 0
           },
           {
            "x": 4.215479728011749,
            "y": 0
           },
           {
            "x": 2.5464192906282217,
            "y": 0
           },
           {
            "x": 4.094046326404587,
            "y": 0
           },
           {
            "x": 3.28415176053376,
            "y": 0
           },
           {
            "x": 1.864007923871898,
            "y": 0
           },
           {
            "x": 3.7069213736419453,
            "y": 0
           },
           {
            "x": 0.30443314930133614,
            "y": 0
           },
           {
            "x": 1.5440583144519366,
            "y": 0
           },
           {
            "x": 0.47727085757300625,
            "y": 0
           },
           {
            "x": 4.891417484530369,
            "y": 0
           },
           {
            "x": 2.51331581222879,
            "y": 0
           },
           {
            "x": 5.778636633955188,
            "y": 0
           },
           {
            "x": 2.0145166343101044,
            "y": 0
           },
           {
            "x": -0.40498260439227396,
            "y": 0
           },
           {
            "x": -0.4772548530505256,
            "y": 0
           },
           {
            "x": 2.6723888696232816,
            "y": 0
           },
           {
            "x": 3.839934556127765,
            "y": 0
           },
           {
            "x": 3.1096774325969436,
            "y": 0
           },
           {
            "x": 1.563091731227707,
            "y": 0
           },
           {
            "x": 1.618287291176927,
            "y": 0
           },
           {
            "x": 0.9779371310872962,
            "y": 0
           },
           {
            "x": 2.1010975763298747,
            "y": 0
           },
           {
            "x": 4.031492972572683,
            "y": 0
           },
           {
            "x": -0.48163817656243246,
            "y": 0
           },
           {
            "x": 3.510635466704089,
            "y": 0
           },
           {
            "x": 2.5142834278581576,
            "y": 0
           },
           {
            "x": 2.2059301296946012,
            "y": 0
           },
           {
            "x": 0.15248044306138553,
            "y": 0
           },
           {
            "x": 2.2309872787718827,
            "y": 0
           },
           {
            "x": -1.8962353171434314,
            "y": 0
           },
           {
            "x": 0.26441972454096563,
            "y": 0
           },
           {
            "x": 0.9537206412975339,
            "y": 0
           },
           {
            "x": 2.9165782027526452,
            "y": 0
           },
           {
            "x": 1.145230888615756,
            "y": 0
           },
           {
            "x": 1.8890559618231295,
            "y": 0
           },
           {
            "x": 2.0811332542344743,
            "y": 0
           },
           {
            "x": 1.7483087540724218,
            "y": 0
           },
           {
            "x": 0.10480380384694366,
            "y": 0
           },
           {
            "x": 1.8821638650052444,
            "y": 0
           },
           {
            "x": 3.3362435738688285,
            "y": 0
           },
           {
            "x": 2.4983228957951136,
            "y": 0
           },
           {
            "x": 4.330880361129627,
            "y": 0
           },
           {
            "x": 4.304295864794375,
            "y": 0
           },
           {
            "x": 0.9055913630505303,
            "y": 0
           },
           {
            "x": 3.873707388086263,
            "y": 0
           },
           {
            "x": 5.076476939703948,
            "y": 0
           },
           {
            "x": 2.1660301166490075,
            "y": 0
           },
           {
            "x": 4.185070782052092,
            "y": 0
           },
           {
            "x": 3.9241825978300424,
            "y": 0
           },
           {
            "x": 4.255013136348975,
            "y": 0
           },
           {
            "x": 4.256870028414305,
            "y": 0
           },
           {
            "x": 3.0900452605218676,
            "y": 0
           },
           {
            "x": 5.32252400833082,
            "y": 0
           },
           {
            "x": 0.24391578665869273,
            "y": 0
           },
           {
            "x": 1.130716721876438,
            "y": 0
           },
           {
            "x": 1.4600703086487012,
            "y": 0
           },
           {
            "x": 4.6504725864534535,
            "y": 0
           },
           {
            "x": 3.3245952751811885,
            "y": 0
           },
           {
            "x": 0.20806186954430972,
            "y": 0
           },
           {
            "x": 6.169459224238772,
            "y": 0
           },
           {
            "x": 1.5653254140684114,
            "y": 0
           },
           {
            "x": -0.45835748676744137,
            "y": 0
           },
           {
            "x": 6.22280954651263,
            "y": 0
           },
           {
            "x": 6.514897085157576,
            "y": 0
           },
           {
            "x": 2.858766358206445,
            "y": 0
           },
           {
            "x": 3.2085630860570094,
            "y": 0
           },
           {
            "x": 1.6449213051506848,
            "y": 0
           },
           {
            "x": 2.561917167896689,
            "y": 0
           },
           {
            "x": 1.8639818993471056,
            "y": 0
           },
           {
            "x": 2.580506562704831,
            "y": 0
           },
           {
            "x": -1.2271221838691226,
            "y": 0
           },
           {
            "x": 0.9715195841961841,
            "y": 0
           },
           {
            "x": 3.212257967246785,
            "y": 0
           },
           {
            "x": 1.1664940048752694,
            "y": 0
           },
           {
            "x": 2.179786320764256,
            "y": 0
           },
           {
            "x": 2.2236623998712566,
            "y": 0
           },
           {
            "x": 7.080640923168826,
            "y": 0
           },
           {
            "x": 2.642861454442078,
            "y": 0
           },
           {
            "x": 7.574202675908728,
            "y": 0
           },
           {
            "x": 1.4135650493095933,
            "y": 0
           },
           {
            "x": 6.025836103008414,
            "y": 0
           },
           {
            "x": 2.923891097733491,
            "y": 0
           },
           {
            "x": 0.22068438306025406,
            "y": 0
           },
           {
            "x": 1.686918759534162,
            "y": 0
           },
           {
            "x": 1.7542346536408888,
            "y": 0
           },
           {
            "x": -0.9257810181551349,
            "y": 0
           },
           {
            "x": 2.9389966702959276,
            "y": 0
           },
           {
            "x": -3.2740589505112405,
            "y": 0
           },
           {
            "x": 4.187407867055754,
            "y": 0
           },
           {
            "x": 0.8323031563235541,
            "y": 0
           },
           {
            "x": 3.3023251395351645,
            "y": 0
           },
           {
            "x": -0.22758795161713108,
            "y": 0
           },
           {
            "x": -1.4290569157851238,
            "y": 0
           },
           {
            "x": 4.541669801666321,
            "y": 0
           },
           {
            "x": 4.404035775567748,
            "y": 0
           },
           {
            "x": 0.904461361150801,
            "y": 0
           },
           {
            "x": 3.830360431658237,
            "y": 0
           },
           {
            "x": 0.4167377088977462,
            "y": 0
           },
           {
            "x": 1.3983564285011758,
            "y": 0
           },
           {
            "x": 4.730445858386805,
            "y": 0
           },
           {
            "x": 6.167511209875933,
            "y": 0
           },
           {
            "x": 2.6903851496597193,
            "y": 0
           },
           {
            "x": -0.10546596492614002,
            "y": 0
           },
           {
            "x": 1.4263422347760881,
            "y": 0
           },
           {
            "x": 3.5102366324359413,
            "y": 0
           },
           {
            "x": 0.8712937291448519,
            "y": 0
           },
           {
            "x": 4.048966054582533,
            "y": 0
           },
           {
            "x": 0.7878440508966593,
            "y": 0
           },
           {
            "x": 3.4052324185843537,
            "y": 0
           },
           {
            "x": 2.449672884576901,
            "y": 0
           },
           {
            "x": 3.54879076554944,
            "y": 0
           },
           {
            "x": 3.5783501798940383,
            "y": 0
           },
           {
            "x": 6.465487026535432,
            "y": 0
           },
           {
            "x": 3.9592646959347024,
            "y": 0
           },
           {
            "x": 2.753361572585738,
            "y": 0
           },
           {
            "x": 4.982984338005819,
            "y": 0
           },
           {
            "x": 1.6501548858410866,
            "y": 0
           },
           {
            "x": 7.720081722471051,
            "y": 0
           },
           {
            "x": 2.235478051096992,
            "y": 0
           },
           {
            "x": 4.410968356573738,
            "y": 0
           },
           {
            "x": -3.1677118558313486,
            "y": 0
           },
           {
            "x": 1.6737445446338932,
            "y": 0
           },
           {
            "x": -0.5385088870296011,
            "y": 0
           },
           {
            "x": 2.9137762919490466,
            "y": 0
           },
           {
            "x": 5.702538059306933,
            "y": 0
           },
           {
            "x": 1.8085947220900236,
            "y": 0
           },
           {
            "x": 3.9186896636376987,
            "y": 0
           },
           {
            "x": 3.6325049990973524,
            "y": 0
           },
           {
            "x": 1.8344384124134243,
            "y": 0
           },
           {
            "x": 4.794607463084045,
            "y": 0
           },
           {
            "x": 2.4113330284824612,
            "y": 0
           },
           {
            "x": 2.4871706153629742,
            "y": 0
           },
           {
            "x": 1.1019138961598365,
            "y": 0
           },
           {
            "x": 3.4524053878579615,
            "y": 0
           },
           {
            "x": 1.4105822701246526,
            "y": 0
           },
           {
            "x": -1.6344517419873155,
            "y": 0
           },
           {
            "x": 1.3711589023375796,
            "y": 0
           },
           {
            "x": 0.4916159444628181,
            "y": 0
           },
           {
            "x": 0.09488234203053958,
            "y": 0
           },
           {
            "x": 2.9385384412977773,
            "y": 0
           },
           {
            "x": 4.894689027088205,
            "y": 0
           },
           {
            "x": -1.9339666994889964,
            "y": 0
           },
           {
            "x": 3.668448502971759,
            "y": 0
           },
           {
            "x": 4.415695332802262,
            "y": 0
           },
           {
            "x": 1.0861722391522277,
            "y": 0
           },
           {
            "x": 1.4586705058605198,
            "y": 0
           },
           {
            "x": 2.7062799120069587,
            "y": 0
           },
           {
            "x": 0.31856338676920704,
            "y": 0
           },
           {
            "x": 0.12375369381914325,
            "y": 0
           },
           {
            "x": 0.8944669440707687,
            "y": 0
           },
           {
            "x": 2.294039269254902,
            "y": 0
           },
           {
            "x": 0.09463670930243895,
            "y": 0
           },
           {
            "x": 3.347680900676692,
            "y": 0
           },
           {
            "x": 1.4138254303779667,
            "y": 0
           },
           {
            "x": 0.5881181043905972,
            "y": 0
           },
           {
            "x": 3.622154465604915,
            "y": 0
           },
           {
            "x": 3.9734181558436403,
            "y": 0
           },
           {
            "x": 0.1656036580993696,
            "y": 0
           },
           {
            "x": 2.7810191888361016,
            "y": 0
           },
           {
            "x": -2.5185896518998794,
            "y": 0
           },
           {
            "x": 1.78837829420136,
            "y": 0
           },
           {
            "x": 0.7913713014474857,
            "y": 0
           },
           {
            "x": 5.824988275023657,
            "y": 0
           },
           {
            "x": 0.6690110294629317,
            "y": 0
           },
           {
            "x": 2.1492366411431902,
            "y": 0
           },
           {
            "x": 1.7918840155574898,
            "y": 0
           },
           {
            "x": 2.3515973832181336,
            "y": 0
           },
           {
            "x": 3.8954239351564666,
            "y": 0
           },
           {
            "x": 1.601294661611925,
            "y": 0
           },
           {
            "x": 3.084925648872051,
            "y": 0
           },
           {
            "x": 0.6807366303692053,
            "y": 0
           },
           {
            "x": 5.826967922809947,
            "y": 0
           },
           {
            "x": 2.2991635399518606,
            "y": 0
           },
           {
            "x": 2.6686613845962133,
            "y": 0
           },
           {
            "x": -0.47263151709140905,
            "y": 0
           },
           {
            "x": 2.0664755250106475,
            "y": 0
           },
           {
            "x": 3.6211376302873752,
            "y": 0
           },
           {
            "x": 2.889142419694601,
            "y": 0
           },
           {
            "x": -1.6869239861481766,
            "y": 0
           },
           {
            "x": 5.659694397159304,
            "y": 0
           },
           {
            "x": 4.2353562589494285,
            "y": 0
           },
           {
            "x": 1.7087101001859715,
            "y": 0
           },
           {
            "x": 1.1367812634079877,
            "y": 0
           },
           {
            "x": 3.5758274513484873,
            "y": 0
           },
           {
            "x": -0.4558471754841569,
            "y": 0
           },
           {
            "x": 4.95615904538264,
            "y": 0
           },
           {
            "x": 0.5967880825526402,
            "y": 0
           },
           {
            "x": 4.258202609121273,
            "y": 0
           },
           {
            "x": 2.4709934868643133,
            "y": 0
           },
           {
            "x": 2.702923401485442,
            "y": 0
           },
           {
            "x": 1.8950782192182483,
            "y": 0
           },
           {
            "x": 2.0993201070179395,
            "y": 0
           },
           {
            "x": 4.864053029806765,
            "y": 0
           },
           {
            "x": -1.0445051956326394,
            "y": 0
           },
           {
            "x": -0.13966440137911418,
            "y": 0
           },
           {
            "x": 2.982149220709316,
            "y": 0
           },
           {
            "x": 2.910923421723292,
            "y": 0
           },
           {
            "x": 3.8521840782199233,
            "y": 0
           },
           {
            "x": 1.9915563977153337,
            "y": 0
           },
           {
            "x": -0.04647977091292921,
            "y": 0
           },
           {
            "x": 5.619533500007468,
            "y": 0
           },
           {
            "x": 0.5253131218793374,
            "y": 0
           },
           {
            "x": 2.417977240186528,
            "y": 0
           },
           {
            "x": 3.0310864503157893,
            "y": 0
           },
           {
            "x": 1.7844136640708848,
            "y": 0
           },
           {
            "x": 1.9703561621127443,
            "y": 0
           },
           {
            "x": 1.6270410341427186,
            "y": 0
           },
           {
            "x": 1.177184586173557,
            "y": 0
           },
           {
            "x": 3.3068823053855927,
            "y": 0
           },
           {
            "x": 6.627846433302709,
            "y": 0
           },
           {
            "x": 1.428319745158143,
            "y": 0
           },
           {
            "x": -0.5357681335496367,
            "y": 0
           },
           {
            "x": 1.7879392450883669,
            "y": 0
           },
           {
            "x": 2.8207086327988176,
            "y": 0
           },
           {
            "x": 3.6212122766223134,
            "y": 0
           },
           {
            "x": 4.166018795020087,
            "y": 0
           },
           {
            "x": 3.3703757088386648,
            "y": 0
           },
           {
            "x": 6.0423302658038365,
            "y": 0
           },
           {
            "x": -4.109438519832295,
            "y": 0
           },
           {
            "x": 0.1281226519524452,
            "y": 0
           },
           {
            "x": 1.9525494763077533,
            "y": 0
           },
           {
            "x": 1.1488657034137215,
            "y": 0
           },
           {
            "x": 4.322978390075248,
            "y": 0
           },
           {
            "x": 1.412750401190941,
            "y": 0
           },
           {
            "x": 4.028520117897923,
            "y": 0
           },
           {
            "x": 0.880921938802655,
            "y": 0
           },
           {
            "x": 3.9537927489830045,
            "y": 0
           },
           {
            "x": 2.2280251550345582,
            "y": 0
           },
           {
            "x": 5.378914692054603,
            "y": 0
           },
           {
            "x": 3.9438576725719905,
            "y": 0
           },
           {
            "x": 2.477655341993725,
            "y": 0
           },
           {
            "x": 3.5135159643798204,
            "y": 0
           },
           {
            "x": 1.5853857453792868,
            "y": 0
           },
           {
            "x": 4.690544619115406,
            "y": 0
           },
           {
            "x": 3.472858035345686,
            "y": 0
           },
           {
            "x": -2.5850239809040305,
            "y": 0
           },
           {
            "x": 1.731911079816295,
            "y": 0
           },
           {
            "x": 3.979129508548142,
            "y": 0
           },
           {
            "x": 1.9474102226898324,
            "y": 0
           },
           {
            "x": 2.1448762064357068,
            "y": 0
           },
           {
            "x": 1.553459445678795,
            "y": 0
           },
           {
            "x": 2.29355771769822,
            "y": 0
           },
           {
            "x": 1.2731105445638622,
            "y": 0
           },
           {
            "x": -0.2912089188681537,
            "y": 0
           },
           {
            "x": 3.3403219391888017,
            "y": 0
           },
           {
            "x": 0.7543348505822587,
            "y": 0
           },
           {
            "x": 6.074910860917229,
            "y": 0
           },
           {
            "x": 2.948705643012637,
            "y": 0
           },
           {
            "x": -2.4556692674726444,
            "y": 0
           },
           {
            "x": 2.61540387201625,
            "y": 0
           },
           {
            "x": 2.0079982960088865,
            "y": 0
           },
           {
            "x": 2.7247221649811193,
            "y": 0
           },
           {
            "x": 3.3078955892933513,
            "y": 0
           },
           {
            "x": 2.1756778869283098,
            "y": 0
           },
           {
            "x": -0.9414082027787694,
            "y": 0
           },
           {
            "x": 3.110023225015695,
            "y": 0
           },
           {
            "x": 1.0038404013031308,
            "y": 0
           },
           {
            "x": 5.006740323814091,
            "y": 0
           },
           {
            "x": 2.2641252593875993,
            "y": 0
           },
           {
            "x": 3.615312490731566,
            "y": 0
           },
           {
            "x": 5.212950752546728,
            "y": 0
           },
           {
            "x": 2.401501402320802,
            "y": 0
           },
           {
            "x": 3.3094093055582725,
            "y": 0
           },
           {
            "x": 2.281961695393038,
            "y": 0
           },
           {
            "x": 0.9674777474537952,
            "y": 0
           },
           {
            "x": 0.7404542564581615,
            "y": 0
           },
           {
            "x": 2.8070792313476813,
            "y": 0
           },
           {
            "x": 3.3661657350068936,
            "y": 0
           },
           {
            "x": 3.629494852238069,
            "y": 0
           }
          ]
         },
         "encoding": {
          "x": {
           "field": "x",
           "type": "quantitative"
          },
          "y": {
           "field": "y",
           "type": "quantitative"
          }
         },
         "mark": {
          "color": "darkblue",
          "opacity": 0.2,
          "size": 10,
          "type": "point"
         }
        }
       ]
      },
      "image/png": "[encoded data removed]",
      "text/plain": [
       "<VegaLite 2 object>\n",
       "\n",
       "If you see this message, it means the renderer has not been properly enabled\n",
       "for the frontend that you are using. For more information, see\n",
       "https://altair-viz.github.io/user_guide/troubleshooting.html\n"
      ]
     },
     "execution_count": 9,
     "metadata": {},
     "output_type": "execute_result"
    }
   ],
   "source": [
    "dt = make_altair_object_labels(X=[np.mean(s)], Y=[np.mean(s)** 2], L=[\"E[X]^2\"])\n",
    "\n",
    "c7 = alt.Chart(dt).mark_point(opacity=expectation_opacity, size=expectation_size, color=\"blue\", filled=True).encode(\n",
    "    x='x:Q',  # specify ordinal data\n",
    "    y='y:Q',  # specify quantitative data\n",
    ")\n",
    "\n",
    "text7 = c7.mark_text(\n",
    "    align='left',\n",
    "    baseline='middle',\n",
    "    dx=7\n",
    ").encode(\n",
    "    text='label:N'\n",
    ")\n",
    "x2_points + expected_x2 + text + text2 + c7 +  text7 + x_points"
   ]
  },
  {
   "cell_type": "markdown",
   "metadata": {},
   "source": [
    "The distance between $\\mathbb{E}[X^2]$ and $\\mathbb{E}[X]^2$ is $\\mathbb{E}[X^2]$ - $\\mathbb{E}[X]^2$, the variance!"
   ]
  },
  {
   "cell_type": "markdown",
   "metadata": {},
   "source": [
    "Because $\\mathbb{E}[X^2]$ is always above the black squares line, this also doubles as a visual proof that the variance is always non-negative. (See also this [awesome visual proof](http://mark.reid.name/blog/behold-jensens-inequality.html) of Jensen's Inequality, which gave me the idea for this post)."
   ]
  },
  {
   "cell_type": "markdown",
   "metadata": {},
   "source": [
    "\n",
    "### Plowing through the algebra \n",
    "\n",
    "This post is devoted to providing a visual intution for the alternate definition of variance. If you are curious about the algebra behind the definition, here is a detailed derivation as well.\n",
    "\n",
    "Starting from the definition and expanding the square we have\n",
    "\n",
    "$$Var(X) = \\mathbb{E}[(x - \\mathbb{E}[X])^2]$$\n",
    "\n",
    "$$Var(X) = \\mathbb{E}[X^2 - 2XE[X] + \\mathbb{E}[X]^2]$$\n",
    "\n",
    "From linearity of expectation we have:\n",
    "\n",
    "$$Var(X) = \\mathbb{E}[X^2]-  \\mathbb{E}[2XE[X]] +  \\mathbb{E}[\\mathbb{E}[X]^2]$$\n",
    "\n",
    "We can pull out the constants 2 and $\\mathbb{E}[X]$ from the expectation in the middle term to get:\n",
    "\n",
    "$$Var(X) = \\mathbb{E}[X^2]-  2\\mathbb{E}[X]\\mathbb{E}E[X] +  \\mathbb{E}[\\mathbb{E}[X^2]$$\n",
    "\n",
    "We can also express the middle term as $2\\mathbb{E}[X^2]$ to get\n",
    "\n",
    "$$Var(X) = \\mathbb{E}[X^2]-  2\\mathbb{E}[X^2]+  \\mathbb{E}[X^2]$$\n",
    "\n",
    "$$Var(X) = \\mathbb{E}[X^2]-  \\mathbb{E}[X^2] -  \\mathbb{E}[X^2]+  \\mathbb{E}[X^2]$$\n",
    "\n",
    "$$Var(X) = \\mathbb{E}[X^2] -   \\mathbb{E}[X^2]$$"
   ]
  }
 ],
 "metadata": {
  "kernelspec": {
   "display_name": "Python 3",
   "language": "python",
   "name": "python3"
  },
  "language_info": {
   "codemirror_mode": {
    "name": "ipython",
    "version": 3
   },
   "file_extension": ".py",
   "mimetype": "text/x-python",
   "name": "python",
   "nbconvert_exporter": "python",
   "pygments_lexer": "ipython3",
   "version": "3.6.2"
  }
 },
 "nbformat": 4,
 "nbformat_minor": 2
}
