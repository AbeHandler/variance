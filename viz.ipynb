{
 "cells": [
  {
   "cell_type": "markdown",
   "metadata": {},
   "source": [
    "### Visual intuition for the other definition of variance\n",
    "\n",
    "\n",
    "I always think of the [variance](https://en.wikipedia.org/wiki/Variance) of some random variable $X$ as $X$'s expected deviation from its mean, $\\mu$. That is, I think of the variance as: $Var(X) =\\mathbb{E}[(X - \\mu)^2]$. Because $\\mu$ is the expected value or average of $X$ you can also express the variance as:\n",
    "\n",
    "$$Var(X)= \\mathbb{E}[(X - \\mathbb{E}[X])^2]$$\n",
    "\n",
    "where $\\mu = \\mathbb{E}[X]$. \n",
    "\n",
    "On Wikipedia and in textbooks the variance is also sometimes defined as:\n",
    "\n",
    "$$Var(X) =\\mathbb{E}[X^2] - \\mathbb{E}[X]^2$$\n",
    "\n",
    "which is expected value of $X$ squared, minus the expected square of $X$. I never find this second definition intuitive. This is a visual demonstration of $Var(X) =\\mathbb{E}[X^2] - \\mathbb{E}[X]^2$. (If you are curious about the algebra too, see the end of the post)."
   ]
  },
  {
   "cell_type": "markdown",
   "metadata": {},
   "source": [
    "### Get some data\n",
    "\n",
    "Let's start by drawing some data from a 1 dimensional normal with some mean and some standard deviation. I'll make a histogram to visualize the data. I'll also plot the actual data as blue dots along the x axis. Each little blue dot along the x-axis is some datapoint $x_i$."
   ]
  },
  {
   "cell_type": "code",
   "execution_count": 32,
   "metadata": {},
   "outputs": [
    {
     "data": {
      "application/vnd.vegalite.v2+json": {
       "$schema": "https://vega.github.io/schema/vega-lite/v2.6.0.json",
       "config": {
        "view": {
         "height": 300,
         "width": 400
        }
       },
       "layer": [
        {
         "data": {
          "values": [
           {
            "x": -3,
            "y": 2
           },
           {
            "x": -2,
            "y": 10
           },
           {
            "x": -1,
            "y": 13
           },
           {
            "x": 0,
            "y": 31
           },
           {
            "x": 1,
            "y": 50
           },
           {
            "x": 2,
            "y": 64
           },
           {
            "x": 3,
            "y": 59
           },
           {
            "x": 4,
            "y": 31
           },
           {
            "x": 5,
            "y": 17
           },
           {
            "x": 6,
            "y": 19
           },
           {
            "x": 7,
            "y": 2
           },
           {
            "x": 8,
            "y": 1
           },
           {
            "x": 9,
            "y": 0
           }
          ]
         },
         "encoding": {
          "x": {
           "field": "x",
           "type": "quantitative"
          },
          "y": {
           "field": "y",
           "type": "quantitative"
          }
         },
         "mark": {
          "opacity": 0.2,
          "size": 10,
          "type": "bar"
         }
        },
        {
         "data": {
          "values": [
           {
            "x": 2.37337722079871,
            "y": 0
           },
           {
            "x": 2.9784554270049504,
            "y": 0
           },
           {
            "x": 4.235446201825997,
            "y": 0
           },
           {
            "x": 1.7371840621530217,
            "y": 0
           },
           {
            "x": 4.286317394517771,
            "y": 0
           },
           {
            "x": 2.1068195116120925,
            "y": 0
           },
           {
            "x": 4.721218871515101,
            "y": 0
           },
           {
            "x": 2.2598473211951964,
            "y": 0
           },
           {
            "x": 6.250545856889687,
            "y": 0
           },
           {
            "x": 3.1432216991785284,
            "y": 0
           },
           {
            "x": 1.1574798049214892,
            "y": 0
           },
           {
            "x": 2.5588753409120195,
            "y": 0
           },
           {
            "x": 5.592803838785921,
            "y": 0
           },
           {
            "x": 6.119340394658194,
            "y": 0
           },
           {
            "x": 2.5057853206435095,
            "y": 0
           },
           {
            "x": 2.0139465060049027,
            "y": 0
           },
           {
            "x": 0.6559481324696501,
            "y": 0
           },
           {
            "x": 0.237247718619916,
            "y": 0
           },
           {
            "x": 1.9480786381738562,
            "y": 0
           },
           {
            "x": 2.933794070173715,
            "y": 0
           },
           {
            "x": 2.394712743843618,
            "y": 0
           },
           {
            "x": 1.4871419538742479,
            "y": 0
           },
           {
            "x": 5.762919206108333,
            "y": 0
           },
           {
            "x": 3.1750126116949575,
            "y": 0
           },
           {
            "x": 0.05124440816508713,
            "y": 0
           },
           {
            "x": -0.046081954510100775,
            "y": 0
           },
           {
            "x": 2.3811845509448415,
            "y": 0
           },
           {
            "x": 6.244946680628971,
            "y": 0
           },
           {
            "x": 8.178115107083503,
            "y": 0
           },
           {
            "x": 4.53098421694458,
            "y": 0
           },
           {
            "x": 6.654285572057219,
            "y": 0
           },
           {
            "x": 2.4619973291873847,
            "y": 0
           },
           {
            "x": 5.268802373015124,
            "y": 0
           },
           {
            "x": 1.881249664334684,
            "y": 0
           },
           {
            "x": -3.006281965515515,
            "y": 0
           },
           {
            "x": 1.6930390225640144,
            "y": 0
           },
           {
            "x": 4.542569809671283,
            "y": 0
           },
           {
            "x": 2.7853576817273393,
            "y": 0
           },
           {
            "x": 1.4171228104604505,
            "y": 0
           },
           {
            "x": 3.6719505262051078,
            "y": 0
           },
           {
            "x": 2.8438256465921468,
            "y": 0
           },
           {
            "x": 2.6429629782598756,
            "y": 0
           },
           {
            "x": 1.3245749755797322,
            "y": 0
           },
           {
            "x": 3.2083412793665893,
            "y": 0
           },
           {
            "x": 3.646358841932728,
            "y": 0
           },
           {
            "x": 5.17661394376422,
            "y": 0
           },
           {
            "x": 5.484984315382521,
            "y": 0
           },
           {
            "x": -0.646326968338629,
            "y": 0
           },
           {
            "x": 4.952788828273748,
            "y": 0
           },
           {
            "x": 2.979244407786675,
            "y": 0
           },
           {
            "x": 5.773002941452775,
            "y": 0
           },
           {
            "x": 2.273292153365698,
            "y": 0
           },
           {
            "x": 2.947565615255768,
            "y": 0
           },
           {
            "x": 1.738120888629315,
            "y": 0
           },
           {
            "x": 1.8098414171530979,
            "y": 0
           },
           {
            "x": 2.886562658865613,
            "y": 0
           },
           {
            "x": 4.847604135203426,
            "y": 0
           },
           {
            "x": 0.1756364174888594,
            "y": 0
           },
           {
            "x": 1.4790322134048437,
            "y": 0
           },
           {
            "x": 3.1992811769835336,
            "y": 0
           },
           {
            "x": 3.660071665182058,
            "y": 0
           },
           {
            "x": 2.623835178593729,
            "y": 0
           },
           {
            "x": 0.4710963116121918,
            "y": 0
           },
           {
            "x": 4.729363749278208,
            "y": 0
           },
           {
            "x": 5.716681191277628,
            "y": 0
           },
           {
            "x": 0.1960528637770893,
            "y": 0
           },
           {
            "x": 3.60025926463608,
            "y": 0
           },
           {
            "x": 1.9864840257593284,
            "y": 0
           },
           {
            "x": 1.8455814282974945,
            "y": 0
           },
           {
            "x": 1.6451783856889302,
            "y": 0
           },
           {
            "x": 3.480618072621017,
            "y": 0
           },
           {
            "x": 3.67939378182192,
            "y": 0
           },
           {
            "x": 2.786351370712023,
            "y": 0
           },
           {
            "x": 2.561064072562988,
            "y": 0
           },
           {
            "x": 0.10199518493282023,
            "y": 0
           },
           {
            "x": 0.5121022855258148,
            "y": 0
           },
           {
            "x": 4.101310548795579,
            "y": 0
           },
           {
            "x": 0.19966737330499118,
            "y": 0
           },
           {
            "x": 2.9047999449400352,
            "y": 0
           },
           {
            "x": 5.105028744207237,
            "y": 0
           },
           {
            "x": 2.5826386529924306,
            "y": 0
           },
           {
            "x": 1.8092062163131386,
            "y": 0
           },
           {
            "x": 4.080462881510129,
            "y": 0
           },
           {
            "x": -0.879385319627795,
            "y": 0
           },
           {
            "x": 3.8362650049693916,
            "y": 0
           },
           {
            "x": 3.145277370260584,
            "y": 0
           },
           {
            "x": 6.125516474542396,
            "y": 0
           },
           {
            "x": 1.9591623318381943,
            "y": 0
           },
           {
            "x": 6.0032207778941995,
            "y": 0
           },
           {
            "x": 1.3419930079066689,
            "y": 0
           },
           {
            "x": 6.344616876968555,
            "y": 0
           },
           {
            "x": 6.9870484381561875,
            "y": 0
           },
           {
            "x": 4.35625624670266,
            "y": 0
           },
           {
            "x": 3.814288475820484,
            "y": 0
           },
           {
            "x": 4.170792141706354,
            "y": 0
           },
           {
            "x": 0.014697495714829145,
            "y": 0
           },
           {
            "x": 2.2253311085180423,
            "y": 0
           },
           {
            "x": 3.297486986613833,
            "y": 0
           },
           {
            "x": 5.296342355589292,
            "y": 0
           },
           {
            "x": 1.5264681119449235,
            "y": 0
           },
           {
            "x": 1.8298440637350382,
            "y": 0
           },
           {
            "x": 5.7273315789663695,
            "y": 0
           },
           {
            "x": 3.4706059281837427,
            "y": 0
           },
           {
            "x": 0.6982395532924619,
            "y": 0
           },
           {
            "x": 0.7993334126074676,
            "y": 0
           },
           {
            "x": 3.576256707125599,
            "y": 0
           },
           {
            "x": 4.0014161433879,
            "y": 0
           },
           {
            "x": 3.5494471137429473,
            "y": 0
           },
           {
            "x": 4.533073670902369,
            "y": 0
           },
           {
            "x": 6.368428689039806,
            "y": 0
           },
           {
            "x": 4.223160272963442,
            "y": 0
           },
           {
            "x": 3.400676749015261,
            "y": 0
           },
           {
            "x": 1.668688221558817,
            "y": 0
           },
           {
            "x": 1.095978377613091,
            "y": 0
           },
           {
            "x": 3.779933714737611,
            "y": 0
           },
           {
            "x": 4.3128694822865175,
            "y": 0
           },
           {
            "x": 6.671587902307065,
            "y": 0
           },
           {
            "x": 3.0084589326257927,
            "y": 0
           },
           {
            "x": 1.0795304946235063,
            "y": 0
           },
           {
            "x": 2.1779091043238186,
            "y": 0
           },
           {
            "x": 1.956789442754959,
            "y": 0
           },
           {
            "x": 1.5500764596023817,
            "y": 0
           },
           {
            "x": 1.5921122107380072,
            "y": 0
           },
           {
            "x": 3.87708811608638,
            "y": 0
           },
           {
            "x": 2.1006336343646326,
            "y": 0
           },
           {
            "x": 0.823484679481876,
            "y": 0
           },
           {
            "x": 1.4687183734048184,
            "y": 0
           },
           {
            "x": 2.4869369427529118,
            "y": 0
           },
           {
            "x": 3.4615284927121968,
            "y": 0
           },
           {
            "x": 3.2865173260970857,
            "y": 0
           },
           {
            "x": 1.0551058334117456,
            "y": 0
           },
           {
            "x": 2.1163692260375293,
            "y": 0
           },
           {
            "x": -0.42290216863207597,
            "y": 0
           },
           {
            "x": 3.038620814900092,
            "y": 0
           },
           {
            "x": 5.819922494622993,
            "y": 0
           },
           {
            "x": -0.16103460504808353,
            "y": 0
           },
           {
            "x": -0.09066674751330961,
            "y": 0
           },
           {
            "x": 7.577180348394015,
            "y": 0
           },
           {
            "x": 4.381901321375742,
            "y": 0
           },
           {
            "x": 1.9480478051012722,
            "y": 0
           },
           {
            "x": 2.7564669364488843,
            "y": 0
           },
           {
            "x": 0.8422522281147933,
            "y": 0
           },
           {
            "x": 2.703161108895836,
            "y": 0
           },
           {
            "x": 0.6479070632333885,
            "y": 0
           },
           {
            "x": 2.866175561088819,
            "y": 0
           },
           {
            "x": -2.423658822778183,
            "y": 0
           },
           {
            "x": 1.435141142032679,
            "y": 0
           },
           {
            "x": 4.47148813407113,
            "y": 0
           },
           {
            "x": 1.4870330458345504,
            "y": 0
           },
           {
            "x": 1.4510514018430354,
            "y": 0
           },
           {
            "x": 3.564081207260699,
            "y": 0
           },
           {
            "x": 3.2523090965370045,
            "y": 0
           },
           {
            "x": 0.10512144260410938,
            "y": 0
           },
           {
            "x": 2.7846769625548173,
            "y": 0
           },
           {
            "x": 3.020887548681272,
            "y": 0
           },
           {
            "x": 2.0357899038969323,
            "y": 0
           },
           {
            "x": 3.48606957452612,
            "y": 0
           },
           {
            "x": -0.09922218680067241,
            "y": 0
           },
           {
            "x": 3.523805775204787,
            "y": 0
           },
           {
            "x": -0.1409292819483854,
            "y": 0
           },
           {
            "x": 3.4289559113058754,
            "y": 0
           },
           {
            "x": 2.2469446747176063,
            "y": 0
           },
           {
            "x": 5.732034991806794,
            "y": 0
           },
           {
            "x": 2.9821118883493174,
            "y": 0
           },
           {
            "x": 6.244689252369791,
            "y": 0
           },
           {
            "x": 3.954312383876582,
            "y": 0
           },
           {
            "x": 3.425731306331835,
            "y": 0
           },
           {
            "x": 1.5814430044643697,
            "y": 0
           },
           {
            "x": 6.351506353277974,
            "y": 0
           },
           {
            "x": 2.156001625392464,
            "y": 0
           },
           {
            "x": -1.3670438985428355,
            "y": 0
           },
           {
            "x": 0.1481213296901993,
            "y": 0
           },
           {
            "x": 4.737196432505138,
            "y": 0
           },
           {
            "x": 1.1279313789654974,
            "y": 0
           },
           {
            "x": 6.4482448436150825,
            "y": 0
           },
           {
            "x": 6.9994933468348774,
            "y": 0
           },
           {
            "x": 2.1461831454988927,
            "y": 0
           },
           {
            "x": 4.226748651478719,
            "y": 0
           },
           {
            "x": -0.4384678828359725,
            "y": 0
           },
           {
            "x": 5.277814153629656,
            "y": 0
           },
           {
            "x": 3.343791803648981,
            "y": 0
           },
           {
            "x": 2.616881747462988,
            "y": 0
           },
           {
            "x": 1.3481661646401866,
            "y": 0
           },
           {
            "x": 4.8533026774901495,
            "y": 0
           },
           {
            "x": 2.3145573326282913,
            "y": 0
           },
           {
            "x": 3.8826703145730534,
            "y": 0
           },
           {
            "x": -0.3186995035880167,
            "y": 0
           },
           {
            "x": 5.720742390376161,
            "y": 0
           },
           {
            "x": 4.8728577245464315,
            "y": 0
           },
           {
            "x": 1.167881174042025,
            "y": 0
           },
           {
            "x": 2.9021125438989137,
            "y": 0
           },
           {
            "x": -1.4193989276940906,
            "y": 0
           },
           {
            "x": 2.27808801887151,
            "y": 0
           },
           {
            "x": 1.2812509244427883,
            "y": 0
           },
           {
            "x": 0.00016496918049968556,
            "y": 0
           },
           {
            "x": 2.65169318476201,
            "y": 0
           },
           {
            "x": 4.0187450440720545,
            "y": 0
           },
           {
            "x": 1.0474158990150653,
            "y": 0
           },
           {
            "x": -1.3596295493145596,
            "y": 0
           },
           {
            "x": 0.42436832025625026,
            "y": 0
           },
           {
            "x": 0.8784362472138607,
            "y": 0
           },
           {
            "x": 0.34051099206567903,
            "y": 0
           },
           {
            "x": 3.2156548614059743,
            "y": 0
           },
           {
            "x": 3.9803301744834014,
            "y": 0
           },
           {
            "x": 1.2853106617678283,
            "y": 0
           },
           {
            "x": 2.026562077000961,
            "y": 0
           },
           {
            "x": 0.4610364927242774,
            "y": 0
           },
           {
            "x": -1.2355751630836758,
            "y": 0
           },
           {
            "x": 2.784805930855517,
            "y": 0
           },
           {
            "x": 3.7897922455594917,
            "y": 0
           },
           {
            "x": 6.1066159110528915,
            "y": 0
           },
           {
            "x": 0.3180663121947016,
            "y": 0
           },
           {
            "x": 3.6691498063965367,
            "y": 0
           },
           {
            "x": 0.8934584334344828,
            "y": 0
           },
           {
            "x": 3.92580984852297,
            "y": 0
           },
           {
            "x": 4.6860360926641444,
            "y": 0
           },
           {
            "x": 4.200482732775959,
            "y": 0
           },
           {
            "x": 7.706778060624478,
            "y": 0
           },
           {
            "x": -1.3907099997359453,
            "y": 0
           },
           {
            "x": 2.828648672320914,
            "y": 0
           },
           {
            "x": 2.4440583218662972,
            "y": 0
           },
           {
            "x": 2.8909139577570167,
            "y": 0
           },
           {
            "x": 3.3750568602575575,
            "y": 0
           },
           {
            "x": 0.6417303648706987,
            "y": 0
           },
           {
            "x": -1.0135571340632619,
            "y": 0
           },
           {
            "x": -0.5590067645804715,
            "y": 0
           },
           {
            "x": 2.402237187925652,
            "y": 0
           },
           {
            "x": 3.837225729794694,
            "y": 0
           },
           {
            "x": 4.0108172469122465,
            "y": 0
           },
           {
            "x": 0.524530381385031,
            "y": 0
           },
           {
            "x": 3.8478755124427932,
            "y": 0
           },
           {
            "x": -1.4297211842126627,
            "y": 0
           },
           {
            "x": 3.532245785676531,
            "y": 0
           },
           {
            "x": 3.0192269473047464,
            "y": 0
           },
           {
            "x": 3.736228821639426,
            "y": 0
           },
           {
            "x": 3.445651934365314,
            "y": 0
           },
           {
            "x": 1.3654232624186067,
            "y": 0
           },
           {
            "x": 2.7523264173148267,
            "y": 0
           },
           {
            "x": -1.7134090658991266,
            "y": 0
           },
           {
            "x": 2.256993376451378,
            "y": 0
           },
           {
            "x": 4.200811767681168,
            "y": 0
           },
           {
            "x": -1.2908273861873898,
            "y": 0
           },
           {
            "x": 3.958202123437546,
            "y": 0
           },
           {
            "x": -0.4015343093956414,
            "y": 0
           },
           {
            "x": 1.1569275474332477,
            "y": 0
           },
           {
            "x": 2.9227559369430556,
            "y": 0
           },
           {
            "x": 3.671337573449052,
            "y": 0
           },
           {
            "x": 2.9512818504371503,
            "y": 0
           },
           {
            "x": 1.435263402747954,
            "y": 0
           },
           {
            "x": 0.6786707319029568,
            "y": 0
           },
           {
            "x": 4.795193331380724,
            "y": 0
           },
           {
            "x": -0.3224218094382336,
            "y": 0
           },
           {
            "x": 1.1987470298780933,
            "y": 0
           },
           {
            "x": 2.738389808010069,
            "y": 0
           },
           {
            "x": 3.0295327956832705,
            "y": 0
           },
           {
            "x": 2.7539781403907972,
            "y": 0
           },
           {
            "x": 1.6410146560533456,
            "y": 0
           },
           {
            "x": 3.6399620974490254,
            "y": 0
           },
           {
            "x": 1.8352579411149499,
            "y": 0
           },
           {
            "x": 0.3819610140052978,
            "y": 0
           },
           {
            "x": 0.4603297412168055,
            "y": 0
           },
           {
            "x": 2.291836281621664,
            "y": 0
           },
           {
            "x": 2.2493775009798562,
            "y": 0
           },
           {
            "x": 1.1025429675782654,
            "y": 0
           },
           {
            "x": 1.350354437721884,
            "y": 0
           },
           {
            "x": 2.726316727366597,
            "y": 0
           },
           {
            "x": 3.4077332298002743,
            "y": 0
           },
           {
            "x": 6.300032839801595,
            "y": 0
           },
           {
            "x": -1.5566910424225,
            "y": 0
           },
           {
            "x": 1.5162121959394876,
            "y": 0
           },
           {
            "x": 3.0258847018637125,
            "y": 0
           },
           {
            "x": 3.9036026389064418,
            "y": 0
           },
           {
            "x": 3.504857048997807,
            "y": 0
           },
           {
            "x": 2.933555970455906,
            "y": 0
           },
           {
            "x": 3.9859697264701426,
            "y": 0
           },
           {
            "x": 3.1322061394560685,
            "y": 0
           },
           {
            "x": 2.174477616730395,
            "y": 0
           },
           {
            "x": 1.1975521508437974,
            "y": 0
           },
           {
            "x": 3.2442635035532783,
            "y": 0
           },
           {
            "x": 4.798905400057018,
            "y": 0
           },
           {
            "x": 0.19896042255404112,
            "y": 0
           },
           {
            "x": 2.740192458455099,
            "y": 0
           },
           {
            "x": 2.7475092685988587,
            "y": 0
           },
           {
            "x": 6.024842764303787,
            "y": 0
           },
           {
            "x": -2.7940894558759366,
            "y": 0
           },
           {
            "x": 4.521109227353685,
            "y": 0
           },
           {
            "x": 2.104000536255618,
            "y": 0
           },
           {
            "x": 4.109097204372775,
            "y": 0
           },
           {
            "x": 6.909848012701973,
            "y": 0
           },
           {
            "x": 2.445270569848773,
            "y": 0
           },
           {
            "x": 3.868600773144867,
            "y": 0
           },
           {
            "x": 5.046498628992644,
            "y": 0
           },
           {
            "x": 5.4579514559287325,
            "y": 0
           },
           {
            "x": 1.4351675554455146,
            "y": 0
           },
           {
            "x": 5.5532555580723795,
            "y": 0
           },
           {
            "x": 3.4824771626622364,
            "y": 0
           },
           {
            "x": 2.6603080792848965,
            "y": 0
           },
           {
            "x": 1.7225169509952418,
            "y": 0
           },
           {
            "x": 6.401247738633776,
            "y": 0
           },
           {
            "x": 0.36095829044504946,
            "y": 0
           }
          ]
         },
         "encoding": {
          "x": {
           "field": "x",
           "type": "quantitative"
          },
          "y": {
           "field": "y",
           "type": "quantitative"
          }
         },
         "mark": {
          "color": "darkblue",
          "opacity": 0.2,
          "size": 10,
          "type": "point"
         }
        }
       ]
      },
      "image/png": "[encoded data removed]",
      "text/plain": [
       "<VegaLite 2 object>\n",
       "\n",
       "If you see this message, it means the renderer has not been properly enabled\n",
       "for the frontend that you are using. For more information, see\n",
       "https://altair-viz.github.io/user_guide/troubleshooting.html\n"
      ]
     },
     "execution_count": 32,
     "metadata": {},
     "output_type": "execute_result"
    }
   ],
   "source": [
    "import numpy as np\n",
    "from helper import *\n",
    "\n",
    "mu, sigma = 2.5, 2 # mean and standard deviation\n",
    "N = 300\n",
    "nbins = 10\n",
    "\n",
    "s =  np.random.normal(mu, sigma, size=N)\n",
    "\n",
    "values, bins = np.histogram(s, bins=np.arange(-3, nbins + 1))\n",
    "\n",
    "histogram = make_bar_chart(size=10, opacity=.2, X=bins, Y=values)\n",
    "\n",
    "x_points = make_scatter_chart(size=10, opacity=.2, X=s, Y=np.zeros(len(s)))\n",
    "\n",
    "histogram + x_points"
   ]
  },
  {
   "cell_type": "markdown",
   "metadata": {},
   "source": [
    "If we display each $x_i^2$ corresponding to each $x_i$ along the y-axis with a red dot, along the curve of $X^2$. I show a little black line leading from each $x_i$ to its corresponding $x_i^2$."
   ]
  },
  {
   "cell_type": "code",
   "execution_count": 33,
   "metadata": {},
   "outputs": [
    {
     "data": {
      "application/vnd.vegalite.v2+json": {
       "$schema": "https://vega.github.io/schema/vega-lite/v2.6.0.json",
       "config": {
        "view": {
         "height": 300,
         "width": 400
        }
       },
       "layer": [
        {
         "data": {
          "values": [
           {
            "x": 2.37337722079871,
            "y": 0
           },
           {
            "x": 2.37337722079871,
            "y": 5.632919432206209
           }
          ]
         },
         "encoding": {
          "x": {
           "field": "x",
           "type": "quantitative"
          },
          "y": {
           "field": "y",
           "type": "quantitative"
          }
         },
         "mark": {
          "color": "black",
          "opacity": 0.1,
          "type": "line"
         }
        },
        {
         "data": {
          "values": [
           {
            "x": 2.9784554270049504,
            "y": 0
           },
           {
            "x": 2.9784554270049504,
            "y": 8.87119673065524
           }
          ]
         },
         "encoding": {
          "x": {
           "field": "x",
           "type": "quantitative"
          },
          "y": {
           "field": "y",
           "type": "quantitative"
          }
         },
         "mark": {
          "color": "black",
          "opacity": 0.1,
          "type": "line"
         }
        },
        {
         "data": {
          "values": [
           {
            "x": 4.235446201825997,
            "y": 0
           },
           {
            "x": 4.235446201825997,
            "y": 17.93900452856227
           }
          ]
         },
         "encoding": {
          "x": {
           "field": "x",
           "type": "quantitative"
          },
          "y": {
           "field": "y",
           "type": "quantitative"
          }
         },
         "mark": {
          "color": "black",
          "opacity": 0.1,
          "type": "line"
         }
        },
        {
         "data": {
          "values": [
           {
            "x": 1.7371840621530217,
            "y": 0
           },
           {
            "x": 1.7371840621530217,
            "y": 3.0178084657984736
           }
          ]
         },
         "encoding": {
          "x": {
           "field": "x",
           "type": "quantitative"
          },
          "y": {
           "field": "y",
           "type": "quantitative"
          }
         },
         "mark": {
          "color": "black",
          "opacity": 0.1,
          "type": "line"
         }
        },
        {
         "data": {
          "values": [
           {
            "x": 4.286317394517771,
            "y": 0
           },
           {
            "x": 4.286317394517771,
            "y": 18.37251680654561
           }
          ]
         },
         "encoding": {
          "x": {
           "field": "x",
           "type": "quantitative"
          },
          "y": {
           "field": "y",
           "type": "quantitative"
          }
         },
         "mark": {
          "color": "black",
          "opacity": 0.1,
          "type": "line"
         }
        },
        {
         "data": {
          "values": [
           {
            "x": 2.1068195116120925,
            "y": 0
           },
           {
            "x": 2.1068195116120925,
            "y": 4.438688454509416
           }
          ]
         },
         "encoding": {
          "x": {
           "field": "x",
           "type": "quantitative"
          },
          "y": {
           "field": "y",
           "type": "quantitative"
          }
         },
         "mark": {
          "color": "black",
          "opacity": 0.1,
          "type": "line"
         }
        },
        {
         "data": {
          "values": [
           {
            "x": 4.721218871515101,
            "y": 0
           },
           {
            "x": 4.721218871515101,
            "y": 22.289907632750328
           }
          ]
         },
         "encoding": {
          "x": {
           "field": "x",
           "type": "quantitative"
          },
          "y": {
           "field": "y",
           "type": "quantitative"
          }
         },
         "mark": {
          "color": "black",
          "opacity": 0.1,
          "type": "line"
         }
        },
        {
         "data": {
          "values": [
           {
            "x": 2.2598473211951964,
            "y": 0
           },
           {
            "x": 2.2598473211951964,
            "y": 5.106909915113105
           }
          ]
         },
         "encoding": {
          "x": {
           "field": "x",
           "type": "quantitative"
          },
          "y": {
           "field": "y",
           "type": "quantitative"
          }
         },
         "mark": {
          "color": "black",
          "opacity": 0.1,
          "type": "line"
         }
        },
        {
         "data": {
          "values": [
           {
            "x": 6.250545856889687,
            "y": 0
           },
           {
            "x": 6.250545856889687,
            "y": 39.06932350908083
           }
          ]
         },
         "encoding": {
          "x": {
           "field": "x",
           "type": "quantitative"
          },
          "y": {
           "field": "y",
           "type": "quantitative"
          }
         },
         "mark": {
          "color": "black",
          "opacity": 0.1,
          "type": "line"
         }
        },
        {
         "data": {
          "values": [
           {
            "x": 3.1432216991785284,
            "y": 0
           },
           {
            "x": 3.1432216991785284,
            "y": 9.879842650186756
           }
          ]
         },
         "encoding": {
          "x": {
           "field": "x",
           "type": "quantitative"
          },
          "y": {
           "field": "y",
           "type": "quantitative"
          }
         },
         "mark": {
          "color": "black",
          "opacity": 0.1,
          "type": "line"
         }
        },
        {
         "data": {
          "values": [
           {
            "x": 1.1574798049214892,
            "y": 0
           },
           {
            "x": 1.1574798049214892,
            "y": 1.3397594988010886
           }
          ]
         },
         "encoding": {
          "x": {
           "field": "x",
           "type": "quantitative"
          },
          "y": {
           "field": "y",
           "type": "quantitative"
          }
         },
         "mark": {
          "color": "black",
          "opacity": 0.1,
          "type": "line"
         }
        },
        {
         "data": {
          "values": [
           {
            "x": 2.5588753409120195,
            "y": 0
           },
           {
            "x": 2.5588753409120195,
            "y": 6.547843010327604
           }
          ]
         },
         "encoding": {
          "x": {
           "field": "x",
           "type": "quantitative"
          },
          "y": {
           "field": "y",
           "type": "quantitative"
          }
         },
         "mark": {
          "color": "black",
          "opacity": 0.1,
          "type": "line"
         }
        },
        {
         "data": {
          "values": [
           {
            "x": 5.592803838785921,
            "y": 0
           },
           {
            "x": 5.592803838785921,
            "y": 31.27945477913853
           }
          ]
         },
         "encoding": {
          "x": {
           "field": "x",
           "type": "quantitative"
          },
          "y": {
           "field": "y",
           "type": "quantitative"
          }
         },
         "mark": {
          "color": "black",
          "opacity": 0.1,
          "type": "line"
         }
        },
        {
         "data": {
          "values": [
           {
            "x": 6.119340394658194,
            "y": 0
           },
           {
            "x": 6.119340394658194,
            "y": 37.446326865695504
           }
          ]
         },
         "encoding": {
          "x": {
           "field": "x",
           "type": "quantitative"
          },
          "y": {
           "field": "y",
           "type": "quantitative"
          }
         },
         "mark": {
          "color": "black",
          "opacity": 0.1,
          "type": "line"
         }
        },
        {
         "data": {
          "values": [
           {
            "x": 2.5057853206435095,
            "y": 0
           },
           {
            "x": 2.5057853206435095,
            "y": 6.278960073152495
           }
          ]
         },
         "encoding": {
          "x": {
           "field": "x",
           "type": "quantitative"
          },
          "y": {
           "field": "y",
           "type": "quantitative"
          }
         },
         "mark": {
          "color": "black",
          "opacity": 0.1,
          "type": "line"
         }
        },
        {
         "data": {
          "values": [
           {
            "x": 2.0139465060049027,
            "y": 0
           },
           {
            "x": 2.0139465060049027,
            "y": 4.055980529049355
           }
          ]
         },
         "encoding": {
          "x": {
           "field": "x",
           "type": "quantitative"
          },
          "y": {
           "field": "y",
           "type": "quantitative"
          }
         },
         "mark": {
          "color": "black",
          "opacity": 0.1,
          "type": "line"
         }
        },
        {
         "data": {
          "values": [
           {
            "x": 0.6559481324696501,
            "y": 0
           },
           {
            "x": 0.6559481324696501,
            "y": 0.43026795249042166
           }
          ]
         },
         "encoding": {
          "x": {
           "field": "x",
           "type": "quantitative"
          },
          "y": {
           "field": "y",
           "type": "quantitative"
          }
         },
         "mark": {
          "color": "black",
          "opacity": 0.1,
          "type": "line"
         }
        },
        {
         "data": {
          "values": [
           {
            "x": 0.237247718619916,
            "y": 0
           },
           {
            "x": 0.237247718619916,
            "y": 0.05628647999035484
           }
          ]
         },
         "encoding": {
          "x": {
           "field": "x",
           "type": "quantitative"
          },
          "y": {
           "field": "y",
           "type": "quantitative"
          }
         },
         "mark": {
          "color": "black",
          "opacity": 0.1,
          "type": "line"
         }
        },
        {
         "data": {
          "values": [
           {
            "x": 1.9480786381738562,
            "y": 0
           },
           {
            "x": 1.9480786381738562,
            "y": 3.7950103805093063
           }
          ]
         },
         "encoding": {
          "x": {
           "field": "x",
           "type": "quantitative"
          },
          "y": {
           "field": "y",
           "type": "quantitative"
          }
         },
         "mark": {
          "color": "black",
          "opacity": 0.1,
          "type": "line"
         }
        },
        {
         "data": {
          "values": [
           {
            "x": 2.933794070173715,
            "y": 0
           },
           {
            "x": 2.933794070173715,
            "y": 8.607147646186453
           }
          ]
         },
         "encoding": {
          "x": {
           "field": "x",
           "type": "quantitative"
          },
          "y": {
           "field": "y",
           "type": "quantitative"
          }
         },
         "mark": {
          "color": "black",
          "opacity": 0.1,
          "type": "line"
         }
        },
        {
         "data": {
          "values": [
           {
            "x": 2.394712743843618,
            "y": 0
           },
           {
            "x": 2.394712743843618,
            "y": 5.73464912552703
           }
          ]
         },
         "encoding": {
          "x": {
           "field": "x",
           "type": "quantitative"
          },
          "y": {
           "field": "y",
           "type": "quantitative"
          }
         },
         "mark": {
          "color": "black",
          "opacity": 0.1,
          "type": "line"
         }
        },
        {
         "data": {
          "values": [
           {
            "x": 1.4871419538742479,
            "y": 0
           },
           {
            "x": 1.4871419538742479,
            "y": 2.2115911909729156
           }
          ]
         },
         "encoding": {
          "x": {
           "field": "x",
           "type": "quantitative"
          },
          "y": {
           "field": "y",
           "type": "quantitative"
          }
         },
         "mark": {
          "color": "black",
          "opacity": 0.1,
          "type": "line"
         }
        },
        {
         "data": {
          "values": [
           {
            "x": 5.762919206108333,
            "y": 0
           },
           {
            "x": 5.762919206108333,
            "y": 33.2112377761323
           }
          ]
         },
         "encoding": {
          "x": {
           "field": "x",
           "type": "quantitative"
          },
          "y": {
           "field": "y",
           "type": "quantitative"
          }
         },
         "mark": {
          "color": "black",
          "opacity": 0.1,
          "type": "line"
         }
        },
        {
         "data": {
          "values": [
           {
            "x": 3.1750126116949575,
            "y": 0
           },
           {
            "x": 3.1750126116949575,
            "y": 10.080705084422036
           }
          ]
         },
         "encoding": {
          "x": {
           "field": "x",
           "type": "quantitative"
          },
          "y": {
           "field": "y",
           "type": "quantitative"
          }
         },
         "mark": {
          "color": "black",
          "opacity": 0.1,
          "type": "line"
         }
        },
        {
         "data": {
          "values": [
           {
            "x": 0.05124440816508713,
            "y": 0
           },
           {
            "x": 0.05124440816508713,
            "y": 0.0026259893681900483
           }
          ]
         },
         "encoding": {
          "x": {
           "field": "x",
           "type": "quantitative"
          },
          "y": {
           "field": "y",
           "type": "quantitative"
          }
         },
         "mark": {
          "color": "black",
          "opacity": 0.1,
          "type": "line"
         }
        },
        {
         "data": {
          "values": [
           {
            "x": -0.046081954510100775,
            "y": 0
           },
           {
            "x": -0.046081954510100775,
            "y": 0.002123546531470997
           }
          ]
         },
         "encoding": {
          "x": {
           "field": "x",
           "type": "quantitative"
          },
          "y": {
           "field": "y",
           "type": "quantitative"
          }
         },
         "mark": {
          "color": "black",
          "opacity": 0.1,
          "type": "line"
         }
        },
        {
         "data": {
          "values": [
           {
            "x": 2.3811845509448415,
            "y": 0
           },
           {
            "x": 2.3811845509448415,
            "y": 5.670039865658387
           }
          ]
         },
         "encoding": {
          "x": {
           "field": "x",
           "type": "quantitative"
          },
          "y": {
           "field": "y",
           "type": "quantitative"
          }
         },
         "mark": {
          "color": "black",
          "opacity": 0.1,
          "type": "line"
         }
        },
        {
         "data": {
          "values": [
           {
            "x": 6.244946680628971,
            "y": 0
           },
           {
            "x": 6.244946680628971,
            "y": 38.9993590438988
           }
          ]
         },
         "encoding": {
          "x": {
           "field": "x",
           "type": "quantitative"
          },
          "y": {
           "field": "y",
           "type": "quantitative"
          }
         },
         "mark": {
          "color": "black",
          "opacity": 0.1,
          "type": "line"
         }
        },
        {
         "data": {
          "values": [
           {
            "x": 8.178115107083503,
            "y": 0
           },
           {
            "x": 8.178115107083503,
            "y": 66.88156670470741
           }
          ]
         },
         "encoding": {
          "x": {
           "field": "x",
           "type": "quantitative"
          },
          "y": {
           "field": "y",
           "type": "quantitative"
          }
         },
         "mark": {
          "color": "black",
          "opacity": 0.1,
          "type": "line"
         }
        },
        {
         "data": {
          "values": [
           {
            "x": 4.53098421694458,
            "y": 0
           },
           {
            "x": 4.53098421694458,
            "y": 20.529817974200885
           }
          ]
         },
         "encoding": {
          "x": {
           "field": "x",
           "type": "quantitative"
          },
          "y": {
           "field": "y",
           "type": "quantitative"
          }
         },
         "mark": {
          "color": "black",
          "opacity": 0.1,
          "type": "line"
         }
        },
        {
         "data": {
          "values": [
           {
            "x": 6.654285572057219,
            "y": 0
           },
           {
            "x": 6.654285572057219,
            "y": 44.27951647448887
           }
          ]
         },
         "encoding": {
          "x": {
           "field": "x",
           "type": "quantitative"
          },
          "y": {
           "field": "y",
           "type": "quantitative"
          }
         },
         "mark": {
          "color": "black",
          "opacity": 0.1,
          "type": "line"
         }
        },
        {
         "data": {
          "values": [
           {
            "x": 2.4619973291873847,
            "y": 0
           },
           {
            "x": 2.4619973291873847,
            "y": 6.0614308489258155
           }
          ]
         },
         "encoding": {
          "x": {
           "field": "x",
           "type": "quantitative"
          },
          "y": {
           "field": "y",
           "type": "quantitative"
          }
         },
         "mark": {
          "color": "black",
          "opacity": 0.1,
          "type": "line"
         }
        },
        {
         "data": {
          "values": [
           {
            "x": 5.268802373015124,
            "y": 0
           },
           {
            "x": 5.268802373015124,
            "y": 27.7602784458898
           }
          ]
         },
         "encoding": {
          "x": {
           "field": "x",
           "type": "quantitative"
          },
          "y": {
           "field": "y",
           "type": "quantitative"
          }
         },
         "mark": {
          "color": "black",
          "opacity": 0.1,
          "type": "line"
         }
        },
        {
         "data": {
          "values": [
           {
            "x": 1.881249664334684,
            "y": 0
           },
           {
            "x": 1.881249664334684,
            "y": 3.5391002995593617
           }
          ]
         },
         "encoding": {
          "x": {
           "field": "x",
           "type": "quantitative"
          },
          "y": {
           "field": "y",
           "type": "quantitative"
          }
         },
         "mark": {
          "color": "black",
          "opacity": 0.1,
          "type": "line"
         }
        },
        {
         "data": {
          "values": [
           {
            "x": -3.006281965515515,
            "y": 0
           },
           {
            "x": -3.006281965515515,
            "y": 9.037731256183829
           }
          ]
         },
         "encoding": {
          "x": {
           "field": "x",
           "type": "quantitative"
          },
          "y": {
           "field": "y",
           "type": "quantitative"
          }
         },
         "mark": {
          "color": "black",
          "opacity": 0.1,
          "type": "line"
         }
        },
        {
         "data": {
          "values": [
           {
            "x": 1.6930390225640144,
            "y": 0
           },
           {
            "x": 1.6930390225640144,
            "y": 2.866381131924513
           }
          ]
         },
         "encoding": {
          "x": {
           "field": "x",
           "type": "quantitative"
          },
          "y": {
           "field": "y",
           "type": "quantitative"
          }
         },
         "mark": {
          "color": "black",
          "opacity": 0.1,
          "type": "line"
         }
        },
        {
         "data": {
          "values": [
           {
            "x": 4.542569809671283,
            "y": 0
           },
           {
            "x": 4.542569809671283,
            "y": 20.634940475736997
           }
          ]
         },
         "encoding": {
          "x": {
           "field": "x",
           "type": "quantitative"
          },
          "y": {
           "field": "y",
           "type": "quantitative"
          }
         },
         "mark": {
          "color": "black",
          "opacity": 0.1,
          "type": "line"
         }
        },
        {
         "data": {
          "values": [
           {
            "x": 2.7853576817273393,
            "y": 0
           },
           {
            "x": 2.7853576817273393,
            "y": 7.758217415157498
           }
          ]
         },
         "encoding": {
          "x": {
           "field": "x",
           "type": "quantitative"
          },
          "y": {
           "field": "y",
           "type": "quantitative"
          }
         },
         "mark": {
          "color": "black",
          "opacity": 0.1,
          "type": "line"
         }
        },
        {
         "data": {
          "values": [
           {
            "x": 1.4171228104604505,
            "y": 0
           },
           {
            "x": 1.4171228104604505,
            "y": 2.008237059927326
           }
          ]
         },
         "encoding": {
          "x": {
           "field": "x",
           "type": "quantitative"
          },
          "y": {
           "field": "y",
           "type": "quantitative"
          }
         },
         "mark": {
          "color": "black",
          "opacity": 0.1,
          "type": "line"
         }
        },
        {
         "data": {
          "values": [
           {
            "x": 3.6719505262051078,
            "y": 0
           },
           {
            "x": 3.6719505262051078,
            "y": 13.483220666897967
           }
          ]
         },
         "encoding": {
          "x": {
           "field": "x",
           "type": "quantitative"
          },
          "y": {
           "field": "y",
           "type": "quantitative"
          }
         },
         "mark": {
          "color": "black",
          "opacity": 0.1,
          "type": "line"
         }
        },
        {
         "data": {
          "values": [
           {
            "x": 2.8438256465921468,
            "y": 0
           },
           {
            "x": 2.8438256465921468,
            "y": 8.087344308215242
           }
          ]
         },
         "encoding": {
          "x": {
           "field": "x",
           "type": "quantitative"
          },
          "y": {
           "field": "y",
           "type": "quantitative"
          }
         },
         "mark": {
          "color": "black",
          "opacity": 0.1,
          "type": "line"
         }
        },
        {
         "data": {
          "values": [
           {
            "x": 2.6429629782598756,
            "y": 0
           },
           {
            "x": 2.6429629782598756,
            "y": 6.9852533044523115
           }
          ]
         },
         "encoding": {
          "x": {
           "field": "x",
           "type": "quantitative"
          },
          "y": {
           "field": "y",
           "type": "quantitative"
          }
         },
         "mark": {
          "color": "black",
          "opacity": 0.1,
          "type": "line"
         }
        },
        {
         "data": {
          "values": [
           {
            "x": 1.3245749755797322,
            "y": 0
           },
           {
            "x": 1.3245749755797322,
            "y": 1.7544988659320482
           }
          ]
         },
         "encoding": {
          "x": {
           "field": "x",
           "type": "quantitative"
          },
          "y": {
           "field": "y",
           "type": "quantitative"
          }
         },
         "mark": {
          "color": "black",
          "opacity": 0.1,
          "type": "line"
         }
        },
        {
         "data": {
          "values": [
           {
            "x": 3.2083412793665893,
            "y": 0
           },
           {
            "x": 3.2083412793665893,
            "y": 10.293453764887643
           }
          ]
         },
         "encoding": {
          "x": {
           "field": "x",
           "type": "quantitative"
          },
          "y": {
           "field": "y",
           "type": "quantitative"
          }
         },
         "mark": {
          "color": "black",
          "opacity": 0.1,
          "type": "line"
         }
        },
        {
         "data": {
          "values": [
           {
            "x": 3.646358841932728,
            "y": 0
           },
           {
            "x": 3.646358841932728,
            "y": 13.295932804140987
           }
          ]
         },
         "encoding": {
          "x": {
           "field": "x",
           "type": "quantitative"
          },
          "y": {
           "field": "y",
           "type": "quantitative"
          }
         },
         "mark": {
          "color": "black",
          "opacity": 0.1,
          "type": "line"
         }
        },
        {
         "data": {
          "values": [
           {
            "x": 5.17661394376422,
            "y": 0
           },
           {
            "x": 5.17661394376422,
            "y": 26.797331922774152
           }
          ]
         },
         "encoding": {
          "x": {
           "field": "x",
           "type": "quantitative"
          },
          "y": {
           "field": "y",
           "type": "quantitative"
          }
         },
         "mark": {
          "color": "black",
          "opacity": 0.1,
          "type": "line"
         }
        },
        {
         "data": {
          "values": [
           {
            "x": 5.484984315382521,
            "y": 0
           },
           {
            "x": 5.484984315382521,
            "y": 30.08505293999226
           }
          ]
         },
         "encoding": {
          "x": {
           "field": "x",
           "type": "quantitative"
          },
          "y": {
           "field": "y",
           "type": "quantitative"
          }
         },
         "mark": {
          "color": "black",
          "opacity": 0.1,
          "type": "line"
         }
        },
        {
         "data": {
          "values": [
           {
            "x": -0.646326968338629,
            "y": 0
           },
           {
            "x": -0.646326968338629,
            "y": 0.41773855000180315
           }
          ]
         },
         "encoding": {
          "x": {
           "field": "x",
           "type": "quantitative"
          },
          "y": {
           "field": "y",
           "type": "quantitative"
          }
         },
         "mark": {
          "color": "black",
          "opacity": 0.1,
          "type": "line"
         }
        },
        {
         "data": {
          "values": [
           {
            "x": 4.952788828273748,
            "y": 0
           },
           {
            "x": 4.952788828273748,
            "y": 24.530117177473247
           }
          ]
         },
         "encoding": {
          "x": {
           "field": "x",
           "type": "quantitative"
          },
          "y": {
           "field": "y",
           "type": "quantitative"
          }
         },
         "mark": {
          "color": "black",
          "opacity": 0.1,
          "type": "line"
         }
        },
        {
         "data": {
          "values": [
           {
            "x": 2.979244407786675,
            "y": 0
           },
           {
            "x": 2.979244407786675,
            "y": 8.875897241328177
           }
          ]
         },
         "encoding": {
          "x": {
           "field": "x",
           "type": "quantitative"
          },
          "y": {
           "field": "y",
           "type": "quantitative"
          }
         },
         "mark": {
          "color": "black",
          "opacity": 0.1,
          "type": "line"
         }
        },
        {
         "data": {
          "values": [
           {
            "x": 5.773002941452775,
            "y": 0
           },
           {
            "x": 5.773002941452775,
            "y": 33.3275629620224
           }
          ]
         },
         "encoding": {
          "x": {
           "field": "x",
           "type": "quantitative"
          },
          "y": {
           "field": "y",
           "type": "quantitative"
          }
         },
         "mark": {
          "color": "black",
          "opacity": 0.1,
          "type": "line"
         }
        },
        {
         "data": {
          "values": [
           {
            "x": 2.273292153365698,
            "y": 0
           },
           {
            "x": 2.273292153365698,
            "y": 5.1678572145540524
           }
          ]
         },
         "encoding": {
          "x": {
           "field": "x",
           "type": "quantitative"
          },
          "y": {
           "field": "y",
           "type": "quantitative"
          }
         },
         "mark": {
          "color": "black",
          "opacity": 0.1,
          "type": "line"
         }
        },
        {
         "data": {
          "values": [
           {
            "x": 2.947565615255768,
            "y": 0
           },
           {
            "x": 2.947565615255768,
            "y": 8.688143056238115
           }
          ]
         },
         "encoding": {
          "x": {
           "field": "x",
           "type": "quantitative"
          },
          "y": {
           "field": "y",
           "type": "quantitative"
          }
         },
         "mark": {
          "color": "black",
          "opacity": 0.1,
          "type": "line"
         }
        },
        {
         "data": {
          "values": [
           {
            "x": 1.738120888629315,
            "y": 0
           },
           {
            "x": 1.738120888629315,
            "y": 3.0210642234895593
           }
          ]
         },
         "encoding": {
          "x": {
           "field": "x",
           "type": "quantitative"
          },
          "y": {
           "field": "y",
           "type": "quantitative"
          }
         },
         "mark": {
          "color": "black",
          "opacity": 0.1,
          "type": "line"
         }
        },
        {
         "data": {
          "values": [
           {
            "x": 1.8098414171530979,
            "y": 0
           },
           {
            "x": 1.8098414171530979,
            "y": 3.275525955242734
           }
          ]
         },
         "encoding": {
          "x": {
           "field": "x",
           "type": "quantitative"
          },
          "y": {
           "field": "y",
           "type": "quantitative"
          }
         },
         "mark": {
          "color": "black",
          "opacity": 0.1,
          "type": "line"
         }
        },
        {
         "data": {
          "values": [
           {
            "x": 2.886562658865613,
            "y": 0
           },
           {
            "x": 2.886562658865613,
            "y": 8.332243983557316
           }
          ]
         },
         "encoding": {
          "x": {
           "field": "x",
           "type": "quantitative"
          },
          "y": {
           "field": "y",
           "type": "quantitative"
          }
         },
         "mark": {
          "color": "black",
          "opacity": 0.1,
          "type": "line"
         }
        },
        {
         "data": {
          "values": [
           {
            "x": 4.847604135203426,
            "y": 0
           },
           {
            "x": 4.847604135203426,
            "y": 23.499265851641354
           }
          ]
         },
         "encoding": {
          "x": {
           "field": "x",
           "type": "quantitative"
          },
          "y": {
           "field": "y",
           "type": "quantitative"
          }
         },
         "mark": {
          "color": "black",
          "opacity": 0.1,
          "type": "line"
         }
        },
        {
         "data": {
          "values": [
           {
            "x": 0.1756364174888594,
            "y": 0
           },
           {
            "x": 0.1756364174888594,
            "y": 0.030848151148320912
           }
          ]
         },
         "encoding": {
          "x": {
           "field": "x",
           "type": "quantitative"
          },
          "y": {
           "field": "y",
           "type": "quantitative"
          }
         },
         "mark": {
          "color": "black",
          "opacity": 0.1,
          "type": "line"
         }
        },
        {
         "data": {
          "values": [
           {
            "x": 1.4790322134048437,
            "y": 0
           },
           {
            "x": 1.4790322134048437,
            "y": 2.1875362882892313
           }
          ]
         },
         "encoding": {
          "x": {
           "field": "x",
           "type": "quantitative"
          },
          "y": {
           "field": "y",
           "type": "quantitative"
          }
         },
         "mark": {
          "color": "black",
          "opacity": 0.1,
          "type": "line"
         }
        },
        {
         "data": {
          "values": [
           {
            "x": 3.1992811769835336,
            "y": 0
           },
           {
            "x": 3.1992811769835336,
            "y": 10.235400049401145
           }
          ]
         },
         "encoding": {
          "x": {
           "field": "x",
           "type": "quantitative"
          },
          "y": {
           "field": "y",
           "type": "quantitative"
          }
         },
         "mark": {
          "color": "black",
          "opacity": 0.1,
          "type": "line"
         }
        },
        {
         "data": {
          "values": [
           {
            "x": 3.660071665182058,
            "y": 0
           },
           {
            "x": 3.660071665182058,
            "y": 13.396124594268564
           }
          ]
         },
         "encoding": {
          "x": {
           "field": "x",
           "type": "quantitative"
          },
          "y": {
           "field": "y",
           "type": "quantitative"
          }
         },
         "mark": {
          "color": "black",
          "opacity": 0.1,
          "type": "line"
         }
        },
        {
         "data": {
          "values": [
           {
            "x": 2.623835178593729,
            "y": 0
           },
           {
            "x": 2.623835178593729,
            "y": 6.8845110444259845
           }
          ]
         },
         "encoding": {
          "x": {
           "field": "x",
           "type": "quantitative"
          },
          "y": {
           "field": "y",
           "type": "quantitative"
          }
         },
         "mark": {
          "color": "black",
          "opacity": 0.1,
          "type": "line"
         }
        },
        {
         "data": {
          "values": [
           {
            "x": 0.4710963116121918,
            "y": 0
           },
           {
            "x": 0.4710963116121918,
            "y": 0.22193173481461131
           }
          ]
         },
         "encoding": {
          "x": {
           "field": "x",
           "type": "quantitative"
          },
          "y": {
           "field": "y",
           "type": "quantitative"
          }
         },
         "mark": {
          "color": "black",
          "opacity": 0.1,
          "type": "line"
         }
        },
        {
         "data": {
          "values": [
           {
            "x": 4.729363749278208,
            "y": 0
           },
           {
            "x": 4.729363749278208,
            "y": 22.366881472986826
           }
          ]
         },
         "encoding": {
          "x": {
           "field": "x",
           "type": "quantitative"
          },
          "y": {
           "field": "y",
           "type": "quantitative"
          }
         },
         "mark": {
          "color": "black",
          "opacity": 0.1,
          "type": "line"
         }
        },
        {
         "data": {
          "values": [
           {
            "x": 5.716681191277628,
            "y": 0
           },
           {
            "x": 5.716681191277628,
            "y": 32.6804438427074
           }
          ]
         },
         "encoding": {
          "x": {
           "field": "x",
           "type": "quantitative"
          },
          "y": {
           "field": "y",
           "type": "quantitative"
          }
         },
         "mark": {
          "color": "black",
          "opacity": 0.1,
          "type": "line"
         }
        },
        {
         "data": {
          "values": [
           {
            "x": 0.1960528637770893,
            "y": 0
           },
           {
            "x": 0.1960528637770893,
            "y": 0.038436725395197935
           }
          ]
         },
         "encoding": {
          "x": {
           "field": "x",
           "type": "quantitative"
          },
          "y": {
           "field": "y",
           "type": "quantitative"
          }
         },
         "mark": {
          "color": "black",
          "opacity": 0.1,
          "type": "line"
         }
        },
        {
         "data": {
          "values": [
           {
            "x": 3.60025926463608,
            "y": 0
           },
           {
            "x": 3.60025926463608,
            "y": 12.961866772597928
           }
          ]
         },
         "encoding": {
          "x": {
           "field": "x",
           "type": "quantitative"
          },
          "y": {
           "field": "y",
           "type": "quantitative"
          }
         },
         "mark": {
          "color": "black",
          "opacity": 0.1,
          "type": "line"
         }
        },
        {
         "data": {
          "values": [
           {
            "x": 1.9864840257593284,
            "y": 0
           },
           {
            "x": 1.9864840257593284,
            "y": 3.946118784596988
           }
          ]
         },
         "encoding": {
          "x": {
           "field": "x",
           "type": "quantitative"
          },
          "y": {
           "field": "y",
           "type": "quantitative"
          }
         },
         "mark": {
          "color": "black",
          "opacity": 0.1,
          "type": "line"
         }
        },
        {
         "data": {
          "values": [
           {
            "x": 1.8455814282974945,
            "y": 0
           },
           {
            "x": 1.8455814282974945,
            "y": 3.40617080847662
           }
          ]
         },
         "encoding": {
          "x": {
           "field": "x",
           "type": "quantitative"
          },
          "y": {
           "field": "y",
           "type": "quantitative"
          }
         },
         "mark": {
          "color": "black",
          "opacity": 0.1,
          "type": "line"
         }
        },
        {
         "data": {
          "values": [
           {
            "x": 1.6451783856889302,
            "y": 0
           },
           {
            "x": 1.6451783856889302,
            "y": 2.7066119207380344
           }
          ]
         },
         "encoding": {
          "x": {
           "field": "x",
           "type": "quantitative"
          },
          "y": {
           "field": "y",
           "type": "quantitative"
          }
         },
         "mark": {
          "color": "black",
          "opacity": 0.1,
          "type": "line"
         }
        },
        {
         "data": {
          "values": [
           {
            "x": 3.480618072621017,
            "y": 0
           },
           {
            "x": 3.480618072621017,
            "y": 12.114702167456043
           }
          ]
         },
         "encoding": {
          "x": {
           "field": "x",
           "type": "quantitative"
          },
          "y": {
           "field": "y",
           "type": "quantitative"
          }
         },
         "mark": {
          "color": "black",
          "opacity": 0.1,
          "type": "line"
         }
        },
        {
         "data": {
          "values": [
           {
            "x": 3.67939378182192,
            "y": 0
           },
           {
            "x": 3.67939378182192,
            "y": 13.53793860170981
           }
          ]
         },
         "encoding": {
          "x": {
           "field": "x",
           "type": "quantitative"
          },
          "y": {
           "field": "y",
           "type": "quantitative"
          }
         },
         "mark": {
          "color": "black",
          "opacity": 0.1,
          "type": "line"
         }
        },
        {
         "data": {
          "values": [
           {
            "x": 2.786351370712023,
            "y": 0
           },
           {
            "x": 2.786351370712023,
            "y": 7.76375396106877
           }
          ]
         },
         "encoding": {
          "x": {
           "field": "x",
           "type": "quantitative"
          },
          "y": {
           "field": "y",
           "type": "quantitative"
          }
         },
         "mark": {
          "color": "black",
          "opacity": 0.1,
          "type": "line"
         }
        },
        {
         "data": {
          "values": [
           {
            "x": 2.561064072562988,
            "y": 0
           },
           {
            "x": 2.561064072562988,
            "y": 6.559049183772919
           }
          ]
         },
         "encoding": {
          "x": {
           "field": "x",
           "type": "quantitative"
          },
          "y": {
           "field": "y",
           "type": "quantitative"
          }
         },
         "mark": {
          "color": "black",
          "opacity": 0.1,
          "type": "line"
         }
        },
        {
         "data": {
          "values": [
           {
            "x": 0.10199518493282023,
            "y": 0
           },
           {
            "x": 0.10199518493282023,
            "y": 0.010403017749480199
           }
          ]
         },
         "encoding": {
          "x": {
           "field": "x",
           "type": "quantitative"
          },
          "y": {
           "field": "y",
           "type": "quantitative"
          }
         },
         "mark": {
          "color": "black",
          "opacity": 0.1,
          "type": "line"
         }
        },
        {
         "data": {
          "values": [
           {
            "x": 0.5121022855258148,
            "y": 0
           },
           {
            "x": 0.5121022855258148,
            "y": 0.26224875084076316
           }
          ]
         },
         "encoding": {
          "x": {
           "field": "x",
           "type": "quantitative"
          },
          "y": {
           "field": "y",
           "type": "quantitative"
          }
         },
         "mark": {
          "color": "black",
          "opacity": 0.1,
          "type": "line"
         }
        },
        {
         "data": {
          "values": [
           {
            "x": 4.101310548795579,
            "y": 0
           },
           {
            "x": 4.101310548795579,
            "y": 16.820748217661897
           }
          ]
         },
         "encoding": {
          "x": {
           "field": "x",
           "type": "quantitative"
          },
          "y": {
           "field": "y",
           "type": "quantitative"
          }
         },
         "mark": {
          "color": "black",
          "opacity": 0.1,
          "type": "line"
         }
        },
        {
         "data": {
          "values": [
           {
            "x": 0.19966737330499118,
            "y": 0
           },
           {
            "x": 0.19966737330499118,
            "y": 0.0398670599625147
           }
          ]
         },
         "encoding": {
          "x": {
           "field": "x",
           "type": "quantitative"
          },
          "y": {
           "field": "y",
           "type": "quantitative"
          }
         },
         "mark": {
          "color": "black",
          "opacity": 0.1,
          "type": "line"
         }
        },
        {
         "data": {
          "values": [
           {
            "x": 2.9047999449400352,
            "y": 0
           },
           {
            "x": 2.9047999449400352,
            "y": 8.437862720123631
           }
          ]
         },
         "encoding": {
          "x": {
           "field": "x",
           "type": "quantitative"
          },
          "y": {
           "field": "y",
           "type": "quantitative"
          }
         },
         "mark": {
          "color": "black",
          "opacity": 0.1,
          "type": "line"
         }
        },
        {
         "data": {
          "values": [
           {
            "x": 5.105028744207237,
            "y": 0
           },
           {
            "x": 5.105028744207237,
            "y": 26.06131847918212
           }
          ]
         },
         "encoding": {
          "x": {
           "field": "x",
           "type": "quantitative"
          },
          "y": {
           "field": "y",
           "type": "quantitative"
          }
         },
         "mark": {
          "color": "black",
          "opacity": 0.1,
          "type": "line"
         }
        },
        {
         "data": {
          "values": [
           {
            "x": 2.5826386529924306,
            "y": 0
           },
           {
            "x": 2.5826386529924306,
            "y": 6.670022411930556
           }
          ]
         },
         "encoding": {
          "x": {
           "field": "x",
           "type": "quantitative"
          },
          "y": {
           "field": "y",
           "type": "quantitative"
          }
         },
         "mark": {
          "color": "black",
          "opacity": 0.1,
          "type": "line"
         }
        },
        {
         "data": {
          "values": [
           {
            "x": 1.8092062163131386,
            "y": 0
           },
           {
            "x": 1.8092062163131386,
            "y": 3.2732271331461034
           }
          ]
         },
         "encoding": {
          "x": {
           "field": "x",
           "type": "quantitative"
          },
          "y": {
           "field": "y",
           "type": "quantitative"
          }
         },
         "mark": {
          "color": "black",
          "opacity": 0.1,
          "type": "line"
         }
        },
        {
         "data": {
          "values": [
           {
            "x": 4.080462881510129,
            "y": 0
           },
           {
            "x": 4.080462881510129,
            "y": 16.650177327381943
           }
          ]
         },
         "encoding": {
          "x": {
           "field": "x",
           "type": "quantitative"
          },
          "y": {
           "field": "y",
           "type": "quantitative"
          }
         },
         "mark": {
          "color": "black",
          "opacity": 0.1,
          "type": "line"
         }
        },
        {
         "data": {
          "values": [
           {
            "x": -0.879385319627795,
            "y": 0
           },
           {
            "x": -0.879385319627795,
            "y": 0.7733185403768792
           }
          ]
         },
         "encoding": {
          "x": {
           "field": "x",
           "type": "quantitative"
          },
          "y": {
           "field": "y",
           "type": "quantitative"
          }
         },
         "mark": {
          "color": "black",
          "opacity": 0.1,
          "type": "line"
         }
        },
        {
         "data": {
          "values": [
           {
            "x": 3.8362650049693916,
            "y": 0
           },
           {
            "x": 3.8362650049693916,
            "y": 14.716929188352806
           }
          ]
         },
         "encoding": {
          "x": {
           "field": "x",
           "type": "quantitative"
          },
          "y": {
           "field": "y",
           "type": "quantitative"
          }
         },
         "mark": {
          "color": "black",
          "opacity": 0.1,
          "type": "line"
         }
        },
        {
         "data": {
          "values": [
           {
            "x": 3.145277370260584,
            "y": 0
           },
           {
            "x": 3.145277370260584,
            "y": 9.892769735873335
           }
          ]
         },
         "encoding": {
          "x": {
           "field": "x",
           "type": "quantitative"
          },
          "y": {
           "field": "y",
           "type": "quantitative"
          }
         },
         "mark": {
          "color": "black",
          "opacity": 0.1,
          "type": "line"
         }
        },
        {
         "data": {
          "values": [
           {
            "x": 6.125516474542396,
            "y": 0
           },
           {
            "x": 6.125516474542396,
            "y": 37.521952079890305
           }
          ]
         },
         "encoding": {
          "x": {
           "field": "x",
           "type": "quantitative"
          },
          "y": {
           "field": "y",
           "type": "quantitative"
          }
         },
         "mark": {
          "color": "black",
          "opacity": 0.1,
          "type": "line"
         }
        },
        {
         "data": {
          "values": [
           {
            "x": 1.9591623318381943,
            "y": 0
           },
           {
            "x": 1.9591623318381943,
            "y": 3.8383170424936712
           }
          ]
         },
         "encoding": {
          "x": {
           "field": "x",
           "type": "quantitative"
          },
          "y": {
           "field": "y",
           "type": "quantitative"
          }
         },
         "mark": {
          "color": "black",
          "opacity": 0.1,
          "type": "line"
         }
        },
        {
         "data": {
          "values": [
           {
            "x": 6.0032207778941995,
            "y": 0
           },
           {
            "x": 6.0032207778941995,
            "y": 36.038659708140635
           }
          ]
         },
         "encoding": {
          "x": {
           "field": "x",
           "type": "quantitative"
          },
          "y": {
           "field": "y",
           "type": "quantitative"
          }
         },
         "mark": {
          "color": "black",
          "opacity": 0.1,
          "type": "line"
         }
        },
        {
         "data": {
          "values": [
           {
            "x": 1.3419930079066689,
            "y": 0
           },
           {
            "x": 1.3419930079066689,
            "y": 1.8009452332703886
           }
          ]
         },
         "encoding": {
          "x": {
           "field": "x",
           "type": "quantitative"
          },
          "y": {
           "field": "y",
           "type": "quantitative"
          }
         },
         "mark": {
          "color": "black",
          "opacity": 0.1,
          "type": "line"
         }
        },
        {
         "data": {
          "values": [
           {
            "x": 6.344616876968555,
            "y": 0
           },
           {
            "x": 6.344616876968555,
            "y": 40.25416331551422
           }
          ]
         },
         "encoding": {
          "x": {
           "field": "x",
           "type": "quantitative"
          },
          "y": {
           "field": "y",
           "type": "quantitative"
          }
         },
         "mark": {
          "color": "black",
          "opacity": 0.1,
          "type": "line"
         }
        },
        {
         "data": {
          "values": [
           {
            "x": 6.9870484381561875,
            "y": 0
           },
           {
            "x": 6.9870484381561875,
            "y": 48.81884587714082
           }
          ]
         },
         "encoding": {
          "x": {
           "field": "x",
           "type": "quantitative"
          },
          "y": {
           "field": "y",
           "type": "quantitative"
          }
         },
         "mark": {
          "color": "black",
          "opacity": 0.1,
          "type": "line"
         }
        },
        {
         "data": {
          "values": [
           {
            "x": 4.35625624670266,
            "y": 0
           },
           {
            "x": 4.35625624670266,
            "y": 18.97696848693595
           }
          ]
         },
         "encoding": {
          "x": {
           "field": "x",
           "type": "quantitative"
          },
          "y": {
           "field": "y",
           "type": "quantitative"
          }
         },
         "mark": {
          "color": "black",
          "opacity": 0.1,
          "type": "line"
         }
        },
        {
         "data": {
          "values": [
           {
            "x": 3.814288475820484,
            "y": 0
           },
           {
            "x": 3.814288475820484,
            "y": 14.54879657677695
           }
          ]
         },
         "encoding": {
          "x": {
           "field": "x",
           "type": "quantitative"
          },
          "y": {
           "field": "y",
           "type": "quantitative"
          }
         },
         "mark": {
          "color": "black",
          "opacity": 0.1,
          "type": "line"
         }
        },
        {
         "data": {
          "values": [
           {
            "x": 4.170792141706354,
            "y": 0
           },
           {
            "x": 4.170792141706354,
            "y": 17.395507089319473
           }
          ]
         },
         "encoding": {
          "x": {
           "field": "x",
           "type": "quantitative"
          },
          "y": {
           "field": "y",
           "type": "quantitative"
          }
         },
         "mark": {
          "color": "black",
          "opacity": 0.1,
          "type": "line"
         }
        },
        {
         "data": {
          "values": [
           {
            "x": 0.014697495714829145,
            "y": 0
           },
           {
            "x": 0.014697495714829145,
            "y": 0.00021601638028742107
           }
          ]
         },
         "encoding": {
          "x": {
           "field": "x",
           "type": "quantitative"
          },
          "y": {
           "field": "y",
           "type": "quantitative"
          }
         },
         "mark": {
          "color": "black",
          "opacity": 0.1,
          "type": "line"
         }
        },
        {
         "data": {
          "values": [
           {
            "x": 2.2253311085180423,
            "y": 0
           },
           {
            "x": 2.2253311085180423,
            "y": 4.952098542538139
           }
          ]
         },
         "encoding": {
          "x": {
           "field": "x",
           "type": "quantitative"
          },
          "y": {
           "field": "y",
           "type": "quantitative"
          }
         },
         "mark": {
          "color": "black",
          "opacity": 0.1,
          "type": "line"
         }
        },
        {
         "data": {
          "values": [
           {
            "x": 3.297486986613833,
            "y": 0
           },
           {
            "x": 3.297486986613833,
            "y": 10.873420426887577
           }
          ]
         },
         "encoding": {
          "x": {
           "field": "x",
           "type": "quantitative"
          },
          "y": {
           "field": "y",
           "type": "quantitative"
          }
         },
         "mark": {
          "color": "black",
          "opacity": 0.1,
          "type": "line"
         }
        },
        {
         "data": {
          "values": [
           {
            "x": 5.296342355589292,
            "y": 0
           },
           {
            "x": 5.296342355589292,
            "y": 28.051242347609133
           }
          ]
         },
         "encoding": {
          "x": {
           "field": "x",
           "type": "quantitative"
          },
          "y": {
           "field": "y",
           "type": "quantitative"
          }
         },
         "mark": {
          "color": "black",
          "opacity": 0.1,
          "type": "line"
         }
        },
        {
         "data": {
          "values": [
           {
            "x": 1.5264681119449235,
            "y": 0
           },
           {
            "x": 1.5264681119449235,
            "y": 2.3301048967846993
           }
          ]
         },
         "encoding": {
          "x": {
           "field": "x",
           "type": "quantitative"
          },
          "y": {
           "field": "y",
           "type": "quantitative"
          }
         },
         "mark": {
          "color": "black",
          "opacity": 0.1,
          "type": "line"
         }
        },
        {
         "data": {
          "values": [
           {
            "x": 1.8298440637350382,
            "y": 0
           },
           {
            "x": 1.8298440637350382,
            "y": 3.3483292975863583
           }
          ]
         },
         "encoding": {
          "x": {
           "field": "x",
           "type": "quantitative"
          },
          "y": {
           "field": "y",
           "type": "quantitative"
          }
         },
         "mark": {
          "color": "black",
          "opacity": 0.1,
          "type": "line"
         }
        },
        {
         "data": {
          "values": [
           {
            "x": 5.7273315789663695,
            "y": 0
           },
           {
            "x": 5.7273315789663695,
            "y": 32.802327015425405
           }
          ]
         },
         "encoding": {
          "x": {
           "field": "x",
           "type": "quantitative"
          },
          "y": {
           "field": "y",
           "type": "quantitative"
          }
         },
         "mark": {
          "color": "black",
          "opacity": 0.1,
          "type": "line"
         }
        },
        {
         "data": {
          "values": [
           {
            "x": 3.4706059281837427,
            "y": 0
           },
           {
            "x": 3.4706059281837427,
            "y": 12.045105508744138
           }
          ]
         },
         "encoding": {
          "x": {
           "field": "x",
           "type": "quantitative"
          },
          "y": {
           "field": "y",
           "type": "quantitative"
          }
         },
         "mark": {
          "color": "black",
          "opacity": 0.1,
          "type": "line"
         }
        },
        {
         "data": {
          "values": [
           {
            "x": 0.6982395532924619,
            "y": 0
           },
           {
            "x": 0.6982395532924619,
            "y": 0.4875384737820567
           }
          ]
         },
         "encoding": {
          "x": {
           "field": "x",
           "type": "quantitative"
          },
          "y": {
           "field": "y",
           "type": "quantitative"
          }
         },
         "mark": {
          "color": "black",
          "opacity": 0.1,
          "type": "line"
         }
        },
        {
         "data": {
          "values": [
           {
            "x": 0.7993334126074676,
            "y": 0
           },
           {
            "x": 0.7993334126074676,
            "y": 0.6389339045107001
           }
          ]
         },
         "encoding": {
          "x": {
           "field": "x",
           "type": "quantitative"
          },
          "y": {
           "field": "y",
           "type": "quantitative"
          }
         },
         "mark": {
          "color": "black",
          "opacity": 0.1,
          "type": "line"
         }
        },
        {
         "data": {
          "values": [
           {
            "x": 3.576256707125599,
            "y": 0
           },
           {
            "x": 3.576256707125599,
            "y": 12.78961203526083
           }
          ]
         },
         "encoding": {
          "x": {
           "field": "x",
           "type": "quantitative"
          },
          "y": {
           "field": "y",
           "type": "quantitative"
          }
         },
         "mark": {
          "color": "black",
          "opacity": 0.1,
          "type": "line"
         }
        },
        {
         "data": {
          "values": [
           {
            "x": 4.0014161433879,
            "y": 0
           },
           {
            "x": 4.0014161433879,
            "y": 16.011331152565294
           }
          ]
         },
         "encoding": {
          "x": {
           "field": "x",
           "type": "quantitative"
          },
          "y": {
           "field": "y",
           "type": "quantitative"
          }
         },
         "mark": {
          "color": "black",
          "opacity": 0.1,
          "type": "line"
         }
        },
        {
         "data": {
          "values": [
           {
            "x": 3.5494471137429473,
            "y": 0
           },
           {
            "x": 3.5494471137429473,
            "y": 12.59857481325814
           }
          ]
         },
         "encoding": {
          "x": {
           "field": "x",
           "type": "quantitative"
          },
          "y": {
           "field": "y",
           "type": "quantitative"
          }
         },
         "mark": {
          "color": "black",
          "opacity": 0.1,
          "type": "line"
         }
        },
        {
         "data": {
          "values": [
           {
            "x": 4.533073670902369,
            "y": 0
           },
           {
            "x": 4.533073670902369,
            "y": 20.54875690582828
           }
          ]
         },
         "encoding": {
          "x": {
           "field": "x",
           "type": "quantitative"
          },
          "y": {
           "field": "y",
           "type": "quantitative"
          }
         },
         "mark": {
          "color": "black",
          "opacity": 0.1,
          "type": "line"
         }
        },
        {
         "data": {
          "values": [
           {
            "x": 6.368428689039806,
            "y": 0
           },
           {
            "x": 6.368428689039806,
            "y": 40.55688396738527
           }
          ]
         },
         "encoding": {
          "x": {
           "field": "x",
           "type": "quantitative"
          },
          "y": {
           "field": "y",
           "type": "quantitative"
          }
         },
         "mark": {
          "color": "black",
          "opacity": 0.1,
          "type": "line"
         }
        },
        {
         "data": {
          "values": [
           {
            "x": 4.223160272963442,
            "y": 0
           },
           {
            "x": 4.223160272963442,
            "y": 17.835082691136655
           }
          ]
         },
         "encoding": {
          "x": {
           "field": "x",
           "type": "quantitative"
          },
          "y": {
           "field": "y",
           "type": "quantitative"
          }
         },
         "mark": {
          "color": "black",
          "opacity": 0.1,
          "type": "line"
         }
        },
        {
         "data": {
          "values": [
           {
            "x": 3.400676749015261,
            "y": 0
           },
           {
            "x": 3.400676749015261,
            "y": 11.564602351293006
           }
          ]
         },
         "encoding": {
          "x": {
           "field": "x",
           "type": "quantitative"
          },
          "y": {
           "field": "y",
           "type": "quantitative"
          }
         },
         "mark": {
          "color": "black",
          "opacity": 0.1,
          "type": "line"
         }
        },
        {
         "data": {
          "values": [
           {
            "x": 1.668688221558817,
            "y": 0
           },
           {
            "x": 1.668688221558817,
            "y": 2.7845203807691274
           }
          ]
         },
         "encoding": {
          "x": {
           "field": "x",
           "type": "quantitative"
          },
          "y": {
           "field": "y",
           "type": "quantitative"
          }
         },
         "mark": {
          "color": "black",
          "opacity": 0.1,
          "type": "line"
         }
        },
        {
         "data": {
          "values": [
           {
            "x": 1.095978377613091,
            "y": 0
           },
           {
            "x": 1.095978377613091,
            "y": 1.2011686041954228
           }
          ]
         },
         "encoding": {
          "x": {
           "field": "x",
           "type": "quantitative"
          },
          "y": {
           "field": "y",
           "type": "quantitative"
          }
         },
         "mark": {
          "color": "black",
          "opacity": 0.1,
          "type": "line"
         }
        },
        {
         "data": {
          "values": [
           {
            "x": 3.779933714737611,
            "y": 0
           },
           {
            "x": 3.779933714737611,
            "y": 14.287898887810076
           }
          ]
         },
         "encoding": {
          "x": {
           "field": "x",
           "type": "quantitative"
          },
          "y": {
           "field": "y",
           "type": "quantitative"
          }
         },
         "mark": {
          "color": "black",
          "opacity": 0.1,
          "type": "line"
         }
        },
        {
         "data": {
          "values": [
           {
            "x": 4.3128694822865175,
            "y": 0
           },
           {
            "x": 4.3128694822865175,
            "y": 18.600843171238374
           }
          ]
         },
         "encoding": {
          "x": {
           "field": "x",
           "type": "quantitative"
          },
          "y": {
           "field": "y",
           "type": "quantitative"
          }
         },
         "mark": {
          "color": "black",
          "opacity": 0.1,
          "type": "line"
         }
        },
        {
         "data": {
          "values": [
           {
            "x": 6.671587902307065,
            "y": 0
           },
           {
            "x": 6.671587902307065,
            "y": 44.51008513820999
           }
          ]
         },
         "encoding": {
          "x": {
           "field": "x",
           "type": "quantitative"
          },
          "y": {
           "field": "y",
           "type": "quantitative"
          }
         },
         "mark": {
          "color": "black",
          "opacity": 0.1,
          "type": "line"
         }
        },
        {
         "data": {
          "values": [
           {
            "x": 3.0084589326257927,
            "y": 0
           },
           {
            "x": 3.0084589326257927,
            "y": 9.050825149295923
           }
          ]
         },
         "encoding": {
          "x": {
           "field": "x",
           "type": "quantitative"
          },
          "y": {
           "field": "y",
           "type": "quantitative"
          }
         },
         "mark": {
          "color": "black",
          "opacity": 0.1,
          "type": "line"
         }
        },
        {
         "data": {
          "values": [
           {
            "x": 1.0795304946235063,
            "y": 0
           },
           {
            "x": 1.0795304946235063,
            "y": 1.1653860888220722
           }
          ]
         },
         "encoding": {
          "x": {
           "field": "x",
           "type": "quantitative"
          },
          "y": {
           "field": "y",
           "type": "quantitative"
          }
         },
         "mark": {
          "color": "black",
          "opacity": 0.1,
          "type": "line"
         }
        },
        {
         "data": {
          "values": [
           {
            "x": 2.1779091043238186,
            "y": 0
           },
           {
            "x": 2.1779091043238186,
            "y": 4.743288066696578
           }
          ]
         },
         "encoding": {
          "x": {
           "field": "x",
           "type": "quantitative"
          },
          "y": {
           "field": "y",
           "type": "quantitative"
          }
         },
         "mark": {
          "color": "black",
          "opacity": 0.1,
          "type": "line"
         }
        },
        {
         "data": {
          "values": [
           {
            "x": 1.956789442754959,
            "y": 0
           },
           {
            "x": 1.956789442754959,
            "y": 3.829024923277263
           }
          ]
         },
         "encoding": {
          "x": {
           "field": "x",
           "type": "quantitative"
          },
          "y": {
           "field": "y",
           "type": "quantitative"
          }
         },
         "mark": {
          "color": "black",
          "opacity": 0.1,
          "type": "line"
         }
        },
        {
         "data": {
          "values": [
           {
            "x": 1.5500764596023817,
            "y": 0
           },
           {
            "x": 1.5500764596023817,
            "y": 2.402737030613454
           }
          ]
         },
         "encoding": {
          "x": {
           "field": "x",
           "type": "quantitative"
          },
          "y": {
           "field": "y",
           "type": "quantitative"
          }
         },
         "mark": {
          "color": "black",
          "opacity": 0.1,
          "type": "line"
         }
        },
        {
         "data": {
          "values": [
           {
            "x": 1.5921122107380072,
            "y": 0
           },
           {
            "x": 1.5921122107380072,
            "y": 2.5348212915810646
           }
          ]
         },
         "encoding": {
          "x": {
           "field": "x",
           "type": "quantitative"
          },
          "y": {
           "field": "y",
           "type": "quantitative"
          }
         },
         "mark": {
          "color": "black",
          "opacity": 0.1,
          "type": "line"
         }
        },
        {
         "data": {
          "values": [
           {
            "x": 3.87708811608638,
            "y": 0
           },
           {
            "x": 3.87708811608638,
            "y": 15.031812259898237
           }
          ]
         },
         "encoding": {
          "x": {
           "field": "x",
           "type": "quantitative"
          },
          "y": {
           "field": "y",
           "type": "quantitative"
          }
         },
         "mark": {
          "color": "black",
          "opacity": 0.1,
          "type": "line"
         }
        },
        {
         "data": {
          "values": [
           {
            "x": 2.1006336343646326,
            "y": 0
           },
           {
            "x": 2.1006336343646326,
            "y": 4.412661665823965
           }
          ]
         },
         "encoding": {
          "x": {
           "field": "x",
           "type": "quantitative"
          },
          "y": {
           "field": "y",
           "type": "quantitative"
          }
         },
         "mark": {
          "color": "black",
          "opacity": 0.1,
          "type": "line"
         }
        },
        {
         "data": {
          "values": [
           {
            "x": 0.823484679481876,
            "y": 0
           },
           {
            "x": 0.823484679481876,
            "y": 0.678127017341368
           }
          ]
         },
         "encoding": {
          "x": {
           "field": "x",
           "type": "quantitative"
          },
          "y": {
           "field": "y",
           "type": "quantitative"
          }
         },
         "mark": {
          "color": "black",
          "opacity": 0.1,
          "type": "line"
         }
        },
        {
         "data": {
          "values": [
           {
            "x": 1.4687183734048184,
            "y": 0
           },
           {
            "x": 1.4687183734048184,
            "y": 2.1571336603768954
           }
          ]
         },
         "encoding": {
          "x": {
           "field": "x",
           "type": "quantitative"
          },
          "y": {
           "field": "y",
           "type": "quantitative"
          }
         },
         "mark": {
          "color": "black",
          "opacity": 0.1,
          "type": "line"
         }
        },
        {
         "data": {
          "values": [
           {
            "x": 2.4869369427529118,
            "y": 0
           },
           {
            "x": 2.4869369427529118,
            "y": 6.1848553572292
           }
          ]
         },
         "encoding": {
          "x": {
           "field": "x",
           "type": "quantitative"
          },
          "y": {
           "field": "y",
           "type": "quantitative"
          }
         },
         "mark": {
          "color": "black",
          "opacity": 0.1,
          "type": "line"
         }
        },
        {
         "data": {
          "values": [
           {
            "x": 3.4615284927121968,
            "y": 0
           },
           {
            "x": 3.4615284927121968,
            "y": 11.982179505858372
           }
          ]
         },
         "encoding": {
          "x": {
           "field": "x",
           "type": "quantitative"
          },
          "y": {
           "field": "y",
           "type": "quantitative"
          }
         },
         "mark": {
          "color": "black",
          "opacity": 0.1,
          "type": "line"
         }
        },
        {
         "data": {
          "values": [
           {
            "x": 3.2865173260970857,
            "y": 0
           },
           {
            "x": 3.2865173260970857,
            "y": 10.801196134736339
           }
          ]
         },
         "encoding": {
          "x": {
           "field": "x",
           "type": "quantitative"
          },
          "y": {
           "field": "y",
           "type": "quantitative"
          }
         },
         "mark": {
          "color": "black",
          "opacity": 0.1,
          "type": "line"
         }
        },
        {
         "data": {
          "values": [
           {
            "x": 1.0551058334117456,
            "y": 0
           },
           {
            "x": 1.0551058334117456,
            "y": 1.1132483196994942
           }
          ]
         },
         "encoding": {
          "x": {
           "field": "x",
           "type": "quantitative"
          },
          "y": {
           "field": "y",
           "type": "quantitative"
          }
         },
         "mark": {
          "color": "black",
          "opacity": 0.1,
          "type": "line"
         }
        },
        {
         "data": {
          "values": [
           {
            "x": 2.1163692260375293,
            "y": 0
           },
           {
            "x": 2.1163692260375293,
            "y": 4.479018700918691
           }
          ]
         },
         "encoding": {
          "x": {
           "field": "x",
           "type": "quantitative"
          },
          "y": {
           "field": "y",
           "type": "quantitative"
          }
         },
         "mark": {
          "color": "black",
          "opacity": 0.1,
          "type": "line"
         }
        },
        {
         "data": {
          "values": [
           {
            "x": -0.42290216863207597,
            "y": 0
           },
           {
            "x": -0.42290216863207597,
            "y": 0.17884624423371281
           }
          ]
         },
         "encoding": {
          "x": {
           "field": "x",
           "type": "quantitative"
          },
          "y": {
           "field": "y",
           "type": "quantitative"
          }
         },
         "mark": {
          "color": "black",
          "opacity": 0.1,
          "type": "line"
         }
        },
        {
         "data": {
          "values": [
           {
            "x": 3.038620814900092,
            "y": 0
           },
           {
            "x": 3.038620814900092,
            "y": 9.2332164567441
           }
          ]
         },
         "encoding": {
          "x": {
           "field": "x",
           "type": "quantitative"
          },
          "y": {
           "field": "y",
           "type": "quantitative"
          }
         },
         "mark": {
          "color": "black",
          "opacity": 0.1,
          "type": "line"
         }
        },
        {
         "data": {
          "values": [
           {
            "x": 5.819922494622993,
            "y": 0
           },
           {
            "x": 5.819922494622993,
            "y": 33.87149784341872
           }
          ]
         },
         "encoding": {
          "x": {
           "field": "x",
           "type": "quantitative"
          },
          "y": {
           "field": "y",
           "type": "quantitative"
          }
         },
         "mark": {
          "color": "black",
          "opacity": 0.1,
          "type": "line"
         }
        },
        {
         "data": {
          "values": [
           {
            "x": -0.16103460504808353,
            "y": 0
           },
           {
            "x": -0.16103460504808353,
            "y": 0.02593214402299225
           }
          ]
         },
         "encoding": {
          "x": {
           "field": "x",
           "type": "quantitative"
          },
          "y": {
           "field": "y",
           "type": "quantitative"
          }
         },
         "mark": {
          "color": "black",
          "opacity": 0.1,
          "type": "line"
         }
        },
        {
         "data": {
          "values": [
           {
            "x": -0.09066674751330961,
            "y": 0
           },
           {
            "x": -0.09066674751330961,
            "y": 0.008220459104642234
           }
          ]
         },
         "encoding": {
          "x": {
           "field": "x",
           "type": "quantitative"
          },
          "y": {
           "field": "y",
           "type": "quantitative"
          }
         },
         "mark": {
          "color": "black",
          "opacity": 0.1,
          "type": "line"
         }
        },
        {
         "data": {
          "values": [
           {
            "x": 7.577180348394015,
            "y": 0
           },
           {
            "x": 7.577180348394015,
            "y": 57.41366203208845
           }
          ]
         },
         "encoding": {
          "x": {
           "field": "x",
           "type": "quantitative"
          },
          "y": {
           "field": "y",
           "type": "quantitative"
          }
         },
         "mark": {
          "color": "black",
          "opacity": 0.1,
          "type": "line"
         }
        },
        {
         "data": {
          "values": [
           {
            "x": 4.381901321375742,
            "y": 0
           },
           {
            "x": 4.381901321375742,
            "y": 19.201059190274474
           }
          ]
         },
         "encoding": {
          "x": {
           "field": "x",
           "type": "quantitative"
          },
          "y": {
           "field": "y",
           "type": "quantitative"
          }
         },
         "mark": {
          "color": "black",
          "opacity": 0.1,
          "type": "line"
         }
        },
        {
         "data": {
          "values": [
           {
            "x": 1.9480478051012722,
            "y": 0
           },
           {
            "x": 1.9480478051012722,
            "y": 3.794890250959884
           }
          ]
         },
         "encoding": {
          "x": {
           "field": "x",
           "type": "quantitative"
          },
          "y": {
           "field": "y",
           "type": "quantitative"
          }
         },
         "mark": {
          "color": "black",
          "opacity": 0.1,
          "type": "line"
         }
        },
        {
         "data": {
          "values": [
           {
            "x": 2.7564669364488843,
            "y": 0
           },
           {
            "x": 2.7564669364488843,
            "y": 7.598109971735898
           }
          ]
         },
         "encoding": {
          "x": {
           "field": "x",
           "type": "quantitative"
          },
          "y": {
           "field": "y",
           "type": "quantitative"
          }
         },
         "mark": {
          "color": "black",
          "opacity": 0.1,
          "type": "line"
         }
        },
        {
         "data": {
          "values": [
           {
            "x": 0.8422522281147933,
            "y": 0
           },
           {
            "x": 0.8422522281147933,
            "y": 0.7093888157643338
           }
          ]
         },
         "encoding": {
          "x": {
           "field": "x",
           "type": "quantitative"
          },
          "y": {
           "field": "y",
           "type": "quantitative"
          }
         },
         "mark": {
          "color": "black",
          "opacity": 0.1,
          "type": "line"
         }
        },
        {
         "data": {
          "values": [
           {
            "x": 2.703161108895836,
            "y": 0
           },
           {
            "x": 2.703161108895836,
            "y": 7.307079980646966
           }
          ]
         },
         "encoding": {
          "x": {
           "field": "x",
           "type": "quantitative"
          },
          "y": {
           "field": "y",
           "type": "quantitative"
          }
         },
         "mark": {
          "color": "black",
          "opacity": 0.1,
          "type": "line"
         }
        },
        {
         "data": {
          "values": [
           {
            "x": 0.6479070632333885,
            "y": 0
           },
           {
            "x": 0.6479070632333885,
            "y": 0.41978356258771415
           }
          ]
         },
         "encoding": {
          "x": {
           "field": "x",
           "type": "quantitative"
          },
          "y": {
           "field": "y",
           "type": "quantitative"
          }
         },
         "mark": {
          "color": "black",
          "opacity": 0.1,
          "type": "line"
         }
        },
        {
         "data": {
          "values": [
           {
            "x": 2.866175561088819,
            "y": 0
           },
           {
            "x": 2.866175561088819,
            "y": 8.214962346982807
           }
          ]
         },
         "encoding": {
          "x": {
           "field": "x",
           "type": "quantitative"
          },
          "y": {
           "field": "y",
           "type": "quantitative"
          }
         },
         "mark": {
          "color": "black",
          "opacity": 0.1,
          "type": "line"
         }
        },
        {
         "data": {
          "values": [
           {
            "x": -2.423658822778183,
            "y": 0
           },
           {
            "x": -2.423658822778183,
            "y": 5.874122089230528
           }
          ]
         },
         "encoding": {
          "x": {
           "field": "x",
           "type": "quantitative"
          },
          "y": {
           "field": "y",
           "type": "quantitative"
          }
         },
         "mark": {
          "color": "black",
          "opacity": 0.1,
          "type": "line"
         }
        },
        {
         "data": {
          "values": [
           {
            "x": 1.435141142032679,
            "y": 0
           },
           {
            "x": 1.435141142032679,
            "y": 2.059630097554862
           }
          ]
         },
         "encoding": {
          "x": {
           "field": "x",
           "type": "quantitative"
          },
          "y": {
           "field": "y",
           "type": "quantitative"
          }
         },
         "mark": {
          "color": "black",
          "opacity": 0.1,
          "type": "line"
         }
        },
        {
         "data": {
          "values": [
           {
            "x": 4.47148813407113,
            "y": 0
           },
           {
            "x": 4.47148813407113,
            "y": 19.994206133138917
           }
          ]
         },
         "encoding": {
          "x": {
           "field": "x",
           "type": "quantitative"
          },
          "y": {
           "field": "y",
           "type": "quantitative"
          }
         },
         "mark": {
          "color": "black",
          "opacity": 0.1,
          "type": "line"
         }
        },
        {
         "data": {
          "values": [
           {
            "x": 1.4870330458345504,
            "y": 0
           },
           {
            "x": 1.4870330458345504,
            "y": 2.2112672794039803
           }
          ]
         },
         "encoding": {
          "x": {
           "field": "x",
           "type": "quantitative"
          },
          "y": {
           "field": "y",
           "type": "quantitative"
          }
         },
         "mark": {
          "color": "black",
          "opacity": 0.1,
          "type": "line"
         }
        },
        {
         "data": {
          "values": [
           {
            "x": 1.4510514018430354,
            "y": 0
           },
           {
            "x": 1.4510514018430354,
            "y": 2.105550170790638
           }
          ]
         },
         "encoding": {
          "x": {
           "field": "x",
           "type": "quantitative"
          },
          "y": {
           "field": "y",
           "type": "quantitative"
          }
         },
         "mark": {
          "color": "black",
          "opacity": 0.1,
          "type": "line"
         }
        },
        {
         "data": {
          "values": [
           {
            "x": 3.564081207260699,
            "y": 0
           },
           {
            "x": 3.564081207260699,
            "y": 12.702674851948883
           }
          ]
         },
         "encoding": {
          "x": {
           "field": "x",
           "type": "quantitative"
          },
          "y": {
           "field": "y",
           "type": "quantitative"
          }
         },
         "mark": {
          "color": "black",
          "opacity": 0.1,
          "type": "line"
         }
        },
        {
         "data": {
          "values": [
           {
            "x": 3.2523090965370045,
            "y": 0
           },
           {
            "x": 3.2523090965370045,
            "y": 10.577514459417346
           }
          ]
         },
         "encoding": {
          "x": {
           "field": "x",
           "type": "quantitative"
          },
          "y": {
           "field": "y",
           "type": "quantitative"
          }
         },
         "mark": {
          "color": "black",
          "opacity": 0.1,
          "type": "line"
         }
        },
        {
         "data": {
          "values": [
           {
            "x": 0.10512144260410938,
            "y": 0
           },
           {
            "x": 0.10512144260410938,
            "y": 0.011050517695169064
           }
          ]
         },
         "encoding": {
          "x": {
           "field": "x",
           "type": "quantitative"
          },
          "y": {
           "field": "y",
           "type": "quantitative"
          }
         },
         "mark": {
          "color": "black",
          "opacity": 0.1,
          "type": "line"
         }
        },
        {
         "data": {
          "values": [
           {
            "x": 2.7846769625548173,
            "y": 0
           },
           {
            "x": 2.7846769625548173,
            "y": 7.754425785783524
           }
          ]
         },
         "encoding": {
          "x": {
           "field": "x",
           "type": "quantitative"
          },
          "y": {
           "field": "y",
           "type": "quantitative"
          }
         },
         "mark": {
          "color": "black",
          "opacity": 0.1,
          "type": "line"
         }
        },
        {
         "data": {
          "values": [
           {
            "x": 3.020887548681272,
            "y": 0
           },
           {
            "x": 3.020887548681272,
            "y": 9.125761581777544
           }
          ]
         },
         "encoding": {
          "x": {
           "field": "x",
           "type": "quantitative"
          },
          "y": {
           "field": "y",
           "type": "quantitative"
          }
         },
         "mark": {
          "color": "black",
          "opacity": 0.1,
          "type": "line"
         }
        },
        {
         "data": {
          "values": [
           {
            "x": 2.0357899038969323,
            "y": 0
           },
           {
            "x": 2.0357899038969323,
            "y": 4.144440532808681
           }
          ]
         },
         "encoding": {
          "x": {
           "field": "x",
           "type": "quantitative"
          },
          "y": {
           "field": "y",
           "type": "quantitative"
          }
         },
         "mark": {
          "color": "black",
          "opacity": 0.1,
          "type": "line"
         }
        },
        {
         "data": {
          "values": [
           {
            "x": 3.48606957452612,
            "y": 0
           },
           {
            "x": 3.48606957452612,
            "y": 12.152681078436723
           }
          ]
         },
         "encoding": {
          "x": {
           "field": "x",
           "type": "quantitative"
          },
          "y": {
           "field": "y",
           "type": "quantitative"
          }
         },
         "mark": {
          "color": "black",
          "opacity": 0.1,
          "type": "line"
         }
        },
        {
         "data": {
          "values": [
           {
            "x": -0.09922218680067241,
            "y": 0
           },
           {
            "x": -0.09922218680067241,
            "y": 0.009845042353507529
           }
          ]
         },
         "encoding": {
          "x": {
           "field": "x",
           "type": "quantitative"
          },
          "y": {
           "field": "y",
           "type": "quantitative"
          }
         },
         "mark": {
          "color": "black",
          "opacity": 0.1,
          "type": "line"
         }
        },
        {
         "data": {
          "values": [
           {
            "x": 3.523805775204787,
            "y": 0
           },
           {
            "x": 3.523805775204787,
            "y": 12.417207141366609
           }
          ]
         },
         "encoding": {
          "x": {
           "field": "x",
           "type": "quantitative"
          },
          "y": {
           "field": "y",
           "type": "quantitative"
          }
         },
         "mark": {
          "color": "black",
          "opacity": 0.1,
          "type": "line"
         }
        },
        {
         "data": {
          "values": [
           {
            "x": -0.1409292819483854,
            "y": 0
           },
           {
            "x": -0.1409292819483854,
            "y": 0.019861062510487502
           }
          ]
         },
         "encoding": {
          "x": {
           "field": "x",
           "type": "quantitative"
          },
          "y": {
           "field": "y",
           "type": "quantitative"
          }
         },
         "mark": {
          "color": "black",
          "opacity": 0.1,
          "type": "line"
         }
        },
        {
         "data": {
          "values": [
           {
            "x": 3.4289559113058754,
            "y": 0
           },
           {
            "x": 3.4289559113058754,
            "y": 11.757738641679506
           }
          ]
         },
         "encoding": {
          "x": {
           "field": "x",
           "type": "quantitative"
          },
          "y": {
           "field": "y",
           "type": "quantitative"
          }
         },
         "mark": {
          "color": "black",
          "opacity": 0.1,
          "type": "line"
         }
        },
        {
         "data": {
          "values": [
           {
            "x": 2.2469446747176063,
            "y": 0
           },
           {
            "x": 2.2469446747176063,
            "y": 5.048760371241809
           }
          ]
         },
         "encoding": {
          "x": {
           "field": "x",
           "type": "quantitative"
          },
          "y": {
           "field": "y",
           "type": "quantitative"
          }
         },
         "mark": {
          "color": "black",
          "opacity": 0.1,
          "type": "line"
         }
        },
        {
         "data": {
          "values": [
           {
            "x": 5.732034991806794,
            "y": 0
           },
           {
            "x": 5.732034991806794,
            "y": 32.85622514729751
           }
          ]
         },
         "encoding": {
          "x": {
           "field": "x",
           "type": "quantitative"
          },
          "y": {
           "field": "y",
           "type": "quantitative"
          }
         },
         "mark": {
          "color": "black",
          "opacity": 0.1,
          "type": "line"
         }
        },
        {
         "data": {
          "values": [
           {
            "x": 2.9821118883493174,
            "y": 0
           },
           {
            "x": 2.9821118883493174,
            "y": 8.892991314634331
           }
          ]
         },
         "encoding": {
          "x": {
           "field": "x",
           "type": "quantitative"
          },
          "y": {
           "field": "y",
           "type": "quantitative"
          }
         },
         "mark": {
          "color": "black",
          "opacity": 0.1,
          "type": "line"
         }
        },
        {
         "data": {
          "values": [
           {
            "x": 6.244689252369791,
            "y": 0
           },
           {
            "x": 6.244689252369791,
            "y": 38.996143858662776
           }
          ]
         },
         "encoding": {
          "x": {
           "field": "x",
           "type": "quantitative"
          },
          "y": {
           "field": "y",
           "type": "quantitative"
          }
         },
         "mark": {
          "color": "black",
          "opacity": 0.1,
          "type": "line"
         }
        },
        {
         "data": {
          "values": [
           {
            "x": 3.954312383876582,
            "y": 0
           },
           {
            "x": 3.954312383876582,
            "y": 15.636586429279696
           }
          ]
         },
         "encoding": {
          "x": {
           "field": "x",
           "type": "quantitative"
          },
          "y": {
           "field": "y",
           "type": "quantitative"
          }
         },
         "mark": {
          "color": "black",
          "opacity": 0.1,
          "type": "line"
         }
        },
        {
         "data": {
          "values": [
           {
            "x": 3.425731306331835,
            "y": 0
           },
           {
            "x": 3.425731306331835,
            "y": 11.73563498318202
           }
          ]
         },
         "encoding": {
          "x": {
           "field": "x",
           "type": "quantitative"
          },
          "y": {
           "field": "y",
           "type": "quantitative"
          }
         },
         "mark": {
          "color": "black",
          "opacity": 0.1,
          "type": "line"
         }
        },
        {
         "data": {
          "values": [
           {
            "x": 1.5814430044643697,
            "y": 0
           },
           {
            "x": 1.5814430044643697,
            "y": 2.5009619763692923
           }
          ]
         },
         "encoding": {
          "x": {
           "field": "x",
           "type": "quantitative"
          },
          "y": {
           "field": "y",
           "type": "quantitative"
          }
         },
         "mark": {
          "color": "black",
          "opacity": 0.1,
          "type": "line"
         }
        },
        {
         "data": {
          "values": [
           {
            "x": 6.351506353277974,
            "y": 0
           },
           {
            "x": 6.351506353277974,
            "y": 40.34163295573046
           }
          ]
         },
         "encoding": {
          "x": {
           "field": "x",
           "type": "quantitative"
          },
          "y": {
           "field": "y",
           "type": "quantitative"
          }
         },
         "mark": {
          "color": "black",
          "opacity": 0.1,
          "type": "line"
         }
        },
        {
         "data": {
          "values": [
           {
            "x": 2.156001625392464,
            "y": 0
           },
           {
            "x": 2.156001625392464,
            "y": 4.648343008694946
           }
          ]
         },
         "encoding": {
          "x": {
           "field": "x",
           "type": "quantitative"
          },
          "y": {
           "field": "y",
           "type": "quantitative"
          }
         },
         "mark": {
          "color": "black",
          "opacity": 0.1,
          "type": "line"
         }
        },
        {
         "data": {
          "values": [
           {
            "x": -1.3670438985428355,
            "y": 0
           },
           {
            "x": -1.3670438985428355,
            "y": 1.8688090205431942
           }
          ]
         },
         "encoding": {
          "x": {
           "field": "x",
           "type": "quantitative"
          },
          "y": {
           "field": "y",
           "type": "quantitative"
          }
         },
         "mark": {
          "color": "black",
          "opacity": 0.1,
          "type": "line"
         }
        },
        {
         "data": {
          "values": [
           {
            "x": 0.1481213296901993,
            "y": 0
           },
           {
            "x": 0.1481213296901993,
            "y": 0.02193992830919272
           }
          ]
         },
         "encoding": {
          "x": {
           "field": "x",
           "type": "quantitative"
          },
          "y": {
           "field": "y",
           "type": "quantitative"
          }
         },
         "mark": {
          "color": "black",
          "opacity": 0.1,
          "type": "line"
         }
        },
        {
         "data": {
          "values": [
           {
            "x": 4.737196432505138,
            "y": 0
           },
           {
            "x": 4.737196432505138,
            "y": 22.44103004013941
           }
          ]
         },
         "encoding": {
          "x": {
           "field": "x",
           "type": "quantitative"
          },
          "y": {
           "field": "y",
           "type": "quantitative"
          }
         },
         "mark": {
          "color": "black",
          "opacity": 0.1,
          "type": "line"
         }
        },
        {
         "data": {
          "values": [
           {
            "x": 1.1279313789654974,
            "y": 0
           },
           {
            "x": 1.1279313789654974,
            "y": 1.2722291956550087
           }
          ]
         },
         "encoding": {
          "x": {
           "field": "x",
           "type": "quantitative"
          },
          "y": {
           "field": "y",
           "type": "quantitative"
          }
         },
         "mark": {
          "color": "black",
          "opacity": 0.1,
          "type": "line"
         }
        },
        {
         "data": {
          "values": [
           {
            "x": 6.4482448436150825,
            "y": 0
           },
           {
            "x": 6.4482448436150825,
            "y": 41.5798615632085
           }
          ]
         },
         "encoding": {
          "x": {
           "field": "x",
           "type": "quantitative"
          },
          "y": {
           "field": "y",
           "type": "quantitative"
          }
         },
         "mark": {
          "color": "black",
          "opacity": 0.1,
          "type": "line"
         }
        },
        {
         "data": {
          "values": [
           {
            "x": 6.9994933468348774,
            "y": 0
           },
           {
            "x": 6.9994933468348774,
            "y": 48.992907112385716
           }
          ]
         },
         "encoding": {
          "x": {
           "field": "x",
           "type": "quantitative"
          },
          "y": {
           "field": "y",
           "type": "quantitative"
          }
         },
         "mark": {
          "color": "black",
          "opacity": 0.1,
          "type": "line"
         }
        },
        {
         "data": {
          "values": [
           {
            "x": 2.1461831454988927,
            "y": 0
           },
           {
            "x": 2.1461831454988927,
            "y": 4.606102094023521
           }
          ]
         },
         "encoding": {
          "x": {
           "field": "x",
           "type": "quantitative"
          },
          "y": {
           "field": "y",
           "type": "quantitative"
          }
         },
         "mark": {
          "color": "black",
          "opacity": 0.1,
          "type": "line"
         }
        },
        {
         "data": {
          "values": [
           {
            "x": 4.226748651478719,
            "y": 0
           },
           {
            "x": 4.226748651478719,
            "y": 17.865404162777168
           }
          ]
         },
         "encoding": {
          "x": {
           "field": "x",
           "type": "quantitative"
          },
          "y": {
           "field": "y",
           "type": "quantitative"
          }
         },
         "mark": {
          "color": "black",
          "opacity": 0.1,
          "type": "line"
         }
        },
        {
         "data": {
          "values": [
           {
            "x": -0.4384678828359725,
            "y": 0
           },
           {
            "x": -0.4384678828359725,
            "y": 0.1922540842786601
           }
          ]
         },
         "encoding": {
          "x": {
           "field": "x",
           "type": "quantitative"
          },
          "y": {
           "field": "y",
           "type": "quantitative"
          }
         },
         "mark": {
          "color": "black",
          "opacity": 0.1,
          "type": "line"
         }
        },
        {
         "data": {
          "values": [
           {
            "x": 5.277814153629656,
            "y": 0
           },
           {
            "x": 5.277814153629656,
            "y": 27.85532224025352
           }
          ]
         },
         "encoding": {
          "x": {
           "field": "x",
           "type": "quantitative"
          },
          "y": {
           "field": "y",
           "type": "quantitative"
          }
         },
         "mark": {
          "color": "black",
          "opacity": 0.1,
          "type": "line"
         }
        },
        {
         "data": {
          "values": [
           {
            "x": 3.343791803648981,
            "y": 0
           },
           {
            "x": 3.343791803648981,
            "y": 11.180943626150107
           }
          ]
         },
         "encoding": {
          "x": {
           "field": "x",
           "type": "quantitative"
          },
          "y": {
           "field": "y",
           "type": "quantitative"
          }
         },
         "mark": {
          "color": "black",
          "opacity": 0.1,
          "type": "line"
         }
        },
        {
         "data": {
          "values": [
           {
            "x": 2.616881747462988,
            "y": 0
           },
           {
            "x": 2.616881747462988,
            "y": 6.848070080204943
           }
          ]
         },
         "encoding": {
          "x": {
           "field": "x",
           "type": "quantitative"
          },
          "y": {
           "field": "y",
           "type": "quantitative"
          }
         },
         "mark": {
          "color": "black",
          "opacity": 0.1,
          "type": "line"
         }
        },
        {
         "data": {
          "values": [
           {
            "x": 1.3481661646401866,
            "y": 0
           },
           {
            "x": 1.3481661646401866,
            "y": 1.8175520074806306
           }
          ]
         },
         "encoding": {
          "x": {
           "field": "x",
           "type": "quantitative"
          },
          "y": {
           "field": "y",
           "type": "quantitative"
          }
         },
         "mark": {
          "color": "black",
          "opacity": 0.1,
          "type": "line"
         }
        },
        {
         "data": {
          "values": [
           {
            "x": 4.8533026774901495,
            "y": 0
           },
           {
            "x": 4.8533026774901495,
            "y": 23.554546879333053
           }
          ]
         },
         "encoding": {
          "x": {
           "field": "x",
           "type": "quantitative"
          },
          "y": {
           "field": "y",
           "type": "quantitative"
          }
         },
         "mark": {
          "color": "black",
          "opacity": 0.1,
          "type": "line"
         }
        },
        {
         "data": {
          "values": [
           {
            "x": 2.3145573326282913,
            "y": 0
           },
           {
            "x": 2.3145573326282913,
            "y": 5.357175646023391
           }
          ]
         },
         "encoding": {
          "x": {
           "field": "x",
           "type": "quantitative"
          },
          "y": {
           "field": "y",
           "type": "quantitative"
          }
         },
         "mark": {
          "color": "black",
          "opacity": 0.1,
          "type": "line"
         }
        },
        {
         "data": {
          "values": [
           {
            "x": 3.8826703145730534,
            "y": 0
           },
           {
            "x": 3.8826703145730534,
            "y": 15.075128771666813
           }
          ]
         },
         "encoding": {
          "x": {
           "field": "x",
           "type": "quantitative"
          },
          "y": {
           "field": "y",
           "type": "quantitative"
          }
         },
         "mark": {
          "color": "black",
          "opacity": 0.1,
          "type": "line"
         }
        },
        {
         "data": {
          "values": [
           {
            "x": -0.3186995035880167,
            "y": 0
           },
           {
            "x": -0.3186995035880167,
            "y": 0.10156937358724825
           }
          ]
         },
         "encoding": {
          "x": {
           "field": "x",
           "type": "quantitative"
          },
          "y": {
           "field": "y",
           "type": "quantitative"
          }
         },
         "mark": {
          "color": "black",
          "opacity": 0.1,
          "type": "line"
         }
        },
        {
         "data": {
          "values": [
           {
            "x": 5.720742390376161,
            "y": 0
           },
           {
            "x": 5.720742390376161,
            "y": 32.72689349704675
           }
          ]
         },
         "encoding": {
          "x": {
           "field": "x",
           "type": "quantitative"
          },
          "y": {
           "field": "y",
           "type": "quantitative"
          }
         },
         "mark": {
          "color": "black",
          "opacity": 0.1,
          "type": "line"
         }
        },
        {
         "data": {
          "values": [
           {
            "x": 4.8728577245464315,
            "y": 0
           },
           {
            "x": 4.8728577245464315,
            "y": 23.744742403671825
           }
          ]
         },
         "encoding": {
          "x": {
           "field": "x",
           "type": "quantitative"
          },
          "y": {
           "field": "y",
           "type": "quantitative"
          }
         },
         "mark": {
          "color": "black",
          "opacity": 0.1,
          "type": "line"
         }
        },
        {
         "data": {
          "values": [
           {
            "x": 1.167881174042025,
            "y": 0
           },
           {
            "x": 1.167881174042025,
            "y": 1.3639464366817786
           }
          ]
         },
         "encoding": {
          "x": {
           "field": "x",
           "type": "quantitative"
          },
          "y": {
           "field": "y",
           "type": "quantitative"
          }
         },
         "mark": {
          "color": "black",
          "opacity": 0.1,
          "type": "line"
         }
        },
        {
         "data": {
          "values": [
           {
            "x": 2.9021125438989137,
            "y": 0
           },
           {
            "x": 2.9021125438989137,
            "y": 8.422257217455424
           }
          ]
         },
         "encoding": {
          "x": {
           "field": "x",
           "type": "quantitative"
          },
          "y": {
           "field": "y",
           "type": "quantitative"
          }
         },
         "mark": {
          "color": "black",
          "opacity": 0.1,
          "type": "line"
         }
        },
        {
         "data": {
          "values": [
           {
            "x": -1.4193989276940906,
            "y": 0
           },
           {
            "x": -1.4193989276940906,
            "y": 2.0146933159391343
           }
          ]
         },
         "encoding": {
          "x": {
           "field": "x",
           "type": "quantitative"
          },
          "y": {
           "field": "y",
           "type": "quantitative"
          }
         },
         "mark": {
          "color": "black",
          "opacity": 0.1,
          "type": "line"
         }
        },
        {
         "data": {
          "values": [
           {
            "x": 2.27808801887151,
            "y": 0
           },
           {
            "x": 2.27808801887151,
            "y": 5.189685021725921
           }
          ]
         },
         "encoding": {
          "x": {
           "field": "x",
           "type": "quantitative"
          },
          "y": {
           "field": "y",
           "type": "quantitative"
          }
         },
         "mark": {
          "color": "black",
          "opacity": 0.1,
          "type": "line"
         }
        },
        {
         "data": {
          "values": [
           {
            "x": 1.2812509244427883,
            "y": 0
           },
           {
            "x": 1.2812509244427883,
            "y": 1.6416039313854998
           }
          ]
         },
         "encoding": {
          "x": {
           "field": "x",
           "type": "quantitative"
          },
          "y": {
           "field": "y",
           "type": "quantitative"
          }
         },
         "mark": {
          "color": "black",
          "opacity": 0.1,
          "type": "line"
         }
        },
        {
         "data": {
          "values": [
           {
            "x": 0.00016496918049968556,
            "y": 0
           },
           {
            "x": 0.00016496918049968556,
            "y": 2.7214830514737837e-08
           }
          ]
         },
         "encoding": {
          "x": {
           "field": "x",
           "type": "quantitative"
          },
          "y": {
           "field": "y",
           "type": "quantitative"
          }
         },
         "mark": {
          "color": "black",
          "opacity": 0.1,
          "type": "line"
         }
        },
        {
         "data": {
          "values": [
           {
            "x": 2.65169318476201,
            "y": 0
           },
           {
            "x": 2.65169318476201,
            "y": 7.031476746113292
           }
          ]
         },
         "encoding": {
          "x": {
           "field": "x",
           "type": "quantitative"
          },
          "y": {
           "field": "y",
           "type": "quantitative"
          }
         },
         "mark": {
          "color": "black",
          "opacity": 0.1,
          "type": "line"
         }
        },
        {
         "data": {
          "values": [
           {
            "x": 4.0187450440720545,
            "y": 0
           },
           {
            "x": 4.0187450440720545,
            "y": 16.150311729253698
           }
          ]
         },
         "encoding": {
          "x": {
           "field": "x",
           "type": "quantitative"
          },
          "y": {
           "field": "y",
           "type": "quantitative"
          }
         },
         "mark": {
          "color": "black",
          "opacity": 0.1,
          "type": "line"
         }
        },
        {
         "data": {
          "values": [
           {
            "x": 1.0474158990150653,
            "y": 0
           },
           {
            "x": 1.0474158990150653,
            "y": 1.0970800655095374
           }
          ]
         },
         "encoding": {
          "x": {
           "field": "x",
           "type": "quantitative"
          },
          "y": {
           "field": "y",
           "type": "quantitative"
          }
         },
         "mark": {
          "color": "black",
          "opacity": 0.1,
          "type": "line"
         }
        },
        {
         "data": {
          "values": [
           {
            "x": -1.3596295493145596,
            "y": 0
           },
           {
            "x": -1.3596295493145596,
            "y": 1.8485925113693125
           }
          ]
         },
         "encoding": {
          "x": {
           "field": "x",
           "type": "quantitative"
          },
          "y": {
           "field": "y",
           "type": "quantitative"
          }
         },
         "mark": {
          "color": "black",
          "opacity": 0.1,
          "type": "line"
         }
        },
        {
         "data": {
          "values": [
           {
            "x": 0.42436832025625026,
            "y": 0
           },
           {
            "x": 0.42436832025625026,
            "y": 0.18008847123711139
           }
          ]
         },
         "encoding": {
          "x": {
           "field": "x",
           "type": "quantitative"
          },
          "y": {
           "field": "y",
           "type": "quantitative"
          }
         },
         "mark": {
          "color": "black",
          "opacity": 0.1,
          "type": "line"
         }
        },
        {
         "data": {
          "values": [
           {
            "x": 0.8784362472138607,
            "y": 0
           },
           {
            "x": 0.8784362472138607,
            "y": 0.771650240419171
           }
          ]
         },
         "encoding": {
          "x": {
           "field": "x",
           "type": "quantitative"
          },
          "y": {
           "field": "y",
           "type": "quantitative"
          }
         },
         "mark": {
          "color": "black",
          "opacity": 0.1,
          "type": "line"
         }
        },
        {
         "data": {
          "values": [
           {
            "x": 0.34051099206567903,
            "y": 0
           },
           {
            "x": 0.34051099206567903,
            "y": 0.11594773571755293
           }
          ]
         },
         "encoding": {
          "x": {
           "field": "x",
           "type": "quantitative"
          },
          "y": {
           "field": "y",
           "type": "quantitative"
          }
         },
         "mark": {
          "color": "black",
          "opacity": 0.1,
          "type": "line"
         }
        },
        {
         "data": {
          "values": [
           {
            "x": 3.2156548614059743,
            "y": 0
           },
           {
            "x": 3.2156548614059743,
            "y": 10.340436187683876
           }
          ]
         },
         "encoding": {
          "x": {
           "field": "x",
           "type": "quantitative"
          },
          "y": {
           "field": "y",
           "type": "quantitative"
          }
         },
         "mark": {
          "color": "black",
          "opacity": 0.1,
          "type": "line"
         }
        },
        {
         "data": {
          "values": [
           {
            "x": 3.9803301744834014,
            "y": 0
           },
           {
            "x": 3.9803301744834014,
            "y": 15.843028297903064
           }
          ]
         },
         "encoding": {
          "x": {
           "field": "x",
           "type": "quantitative"
          },
          "y": {
           "field": "y",
           "type": "quantitative"
          }
         },
         "mark": {
          "color": "black",
          "opacity": 0.1,
          "type": "line"
         }
        },
        {
         "data": {
          "values": [
           {
            "x": 1.2853106617678283,
            "y": 0
           },
           {
            "x": 1.2853106617678283,
            "y": 1.6520234972540526
           }
          ]
         },
         "encoding": {
          "x": {
           "field": "x",
           "type": "quantitative"
          },
          "y": {
           "field": "y",
           "type": "quantitative"
          }
         },
         "mark": {
          "color": "black",
          "opacity": 0.1,
          "type": "line"
         }
        },
        {
         "data": {
          "values": [
           {
            "x": 2.026562077000961,
            "y": 0
           },
           {
            "x": 2.026562077000961,
            "y": 4.1069538519384485
           }
          ]
         },
         "encoding": {
          "x": {
           "field": "x",
           "type": "quantitative"
          },
          "y": {
           "field": "y",
           "type": "quantitative"
          }
         },
         "mark": {
          "color": "black",
          "opacity": 0.1,
          "type": "line"
         }
        },
        {
         "data": {
          "values": [
           {
            "x": 0.4610364927242774,
            "y": 0
           },
           {
            "x": 0.4610364927242774,
            "y": 0.21255464762350268
           }
          ]
         },
         "encoding": {
          "x": {
           "field": "x",
           "type": "quantitative"
          },
          "y": {
           "field": "y",
           "type": "quantitative"
          }
         },
         "mark": {
          "color": "black",
          "opacity": 0.1,
          "type": "line"
         }
        },
        {
         "data": {
          "values": [
           {
            "x": -1.2355751630836758,
            "y": 0
           },
           {
            "x": -1.2355751630836758,
            "y": 1.5266459836292519
           }
          ]
         },
         "encoding": {
          "x": {
           "field": "x",
           "type": "quantitative"
          },
          "y": {
           "field": "y",
           "type": "quantitative"
          }
         },
         "mark": {
          "color": "black",
          "opacity": 0.1,
          "type": "line"
         }
        },
        {
         "data": {
          "values": [
           {
            "x": 2.784805930855517,
            "y": 0
           },
           {
            "x": 2.784805930855517,
            "y": 7.755144072528063
           }
          ]
         },
         "encoding": {
          "x": {
           "field": "x",
           "type": "quantitative"
          },
          "y": {
           "field": "y",
           "type": "quantitative"
          }
         },
         "mark": {
          "color": "black",
          "opacity": 0.1,
          "type": "line"
         }
        },
        {
         "data": {
          "values": [
           {
            "x": 3.7897922455594917,
            "y": 0
           },
           {
            "x": 3.7897922455594917,
            "y": 14.362525264502855
           }
          ]
         },
         "encoding": {
          "x": {
           "field": "x",
           "type": "quantitative"
          },
          "y": {
           "field": "y",
           "type": "quantitative"
          }
         },
         "mark": {
          "color": "black",
          "opacity": 0.1,
          "type": "line"
         }
        },
        {
         "data": {
          "values": [
           {
            "x": 6.1066159110528915,
            "y": 0
           },
           {
            "x": 6.1066159110528915,
            "y": 37.290757885124336
           }
          ]
         },
         "encoding": {
          "x": {
           "field": "x",
           "type": "quantitative"
          },
          "y": {
           "field": "y",
           "type": "quantitative"
          }
         },
         "mark": {
          "color": "black",
          "opacity": 0.1,
          "type": "line"
         }
        },
        {
         "data": {
          "values": [
           {
            "x": 0.3180663121947016,
            "y": 0
           },
           {
            "x": 0.3180663121947016,
            "y": 0.10116617895313738
           }
          ]
         },
         "encoding": {
          "x": {
           "field": "x",
           "type": "quantitative"
          },
          "y": {
           "field": "y",
           "type": "quantitative"
          }
         },
         "mark": {
          "color": "black",
          "opacity": 0.1,
          "type": "line"
         }
        },
        {
         "data": {
          "values": [
           {
            "x": 3.6691498063965367,
            "y": 0
           },
           {
            "x": 3.6691498063965367,
            "y": 13.462660301779742
           }
          ]
         },
         "encoding": {
          "x": {
           "field": "x",
           "type": "quantitative"
          },
          "y": {
           "field": "y",
           "type": "quantitative"
          }
         },
         "mark": {
          "color": "black",
          "opacity": 0.1,
          "type": "line"
         }
        },
        {
         "data": {
          "values": [
           {
            "x": 0.8934584334344828,
            "y": 0
           },
           {
            "x": 0.8934584334344828,
            "y": 0.7982679722752002
           }
          ]
         },
         "encoding": {
          "x": {
           "field": "x",
           "type": "quantitative"
          },
          "y": {
           "field": "y",
           "type": "quantitative"
          }
         },
         "mark": {
          "color": "black",
          "opacity": 0.1,
          "type": "line"
         }
        },
        {
         "data": {
          "values": [
           {
            "x": 3.92580984852297,
            "y": 0
           },
           {
            "x": 3.92580984852297,
            "y": 15.411982966759947
           }
          ]
         },
         "encoding": {
          "x": {
           "field": "x",
           "type": "quantitative"
          },
          "y": {
           "field": "y",
           "type": "quantitative"
          }
         },
         "mark": {
          "color": "black",
          "opacity": 0.1,
          "type": "line"
         }
        },
        {
         "data": {
          "values": [
           {
            "x": 4.6860360926641444,
            "y": 0
           },
           {
            "x": 4.6860360926641444,
            "y": 21.958934261751043
           }
          ]
         },
         "encoding": {
          "x": {
           "field": "x",
           "type": "quantitative"
          },
          "y": {
           "field": "y",
           "type": "quantitative"
          }
         },
         "mark": {
          "color": "black",
          "opacity": 0.1,
          "type": "line"
         }
        },
        {
         "data": {
          "values": [
           {
            "x": 4.200482732775959,
            "y": 0
           },
           {
            "x": 4.200482732775959,
            "y": 17.64405518834899
           }
          ]
         },
         "encoding": {
          "x": {
           "field": "x",
           "type": "quantitative"
          },
          "y": {
           "field": "y",
           "type": "quantitative"
          }
         },
         "mark": {
          "color": "black",
          "opacity": 0.1,
          "type": "line"
         }
        },
        {
         "data": {
          "values": [
           {
            "x": 7.706778060624478,
            "y": 0
           },
           {
            "x": 7.706778060624478,
            "y": 59.394428075722786
           }
          ]
         },
         "encoding": {
          "x": {
           "field": "x",
           "type": "quantitative"
          },
          "y": {
           "field": "y",
           "type": "quantitative"
          }
         },
         "mark": {
          "color": "black",
          "opacity": 0.1,
          "type": "line"
         }
        },
        {
         "data": {
          "values": [
           {
            "x": -1.3907099997359453,
            "y": 0
           },
           {
            "x": -1.3907099997359453,
            "y": 1.934074303365553
           }
          ]
         },
         "encoding": {
          "x": {
           "field": "x",
           "type": "quantitative"
          },
          "y": {
           "field": "y",
           "type": "quantitative"
          }
         },
         "mark": {
          "color": "black",
          "opacity": 0.1,
          "type": "line"
         }
        },
        {
         "data": {
          "values": [
           {
            "x": 2.828648672320914,
            "y": 0
           },
           {
            "x": 2.828648672320914,
            "y": 8.001253311422868
           }
          ]
         },
         "encoding": {
          "x": {
           "field": "x",
           "type": "quantitative"
          },
          "y": {
           "field": "y",
           "type": "quantitative"
          }
         },
         "mark": {
          "color": "black",
          "opacity": 0.1,
          "type": "line"
         }
        },
        {
         "data": {
          "values": [
           {
            "x": 2.4440583218662972,
            "y": 0
           },
           {
            "x": 2.4440583218662972,
            "y": 5.9734210806839005
           }
          ]
         },
         "encoding": {
          "x": {
           "field": "x",
           "type": "quantitative"
          },
          "y": {
           "field": "y",
           "type": "quantitative"
          }
         },
         "mark": {
          "color": "black",
          "opacity": 0.1,
          "type": "line"
         }
        },
        {
         "data": {
          "values": [
           {
            "x": 2.8909139577570167,
            "y": 0
           },
           {
            "x": 2.8909139577570167,
            "y": 8.357383511154337
           }
          ]
         },
         "encoding": {
          "x": {
           "field": "x",
           "type": "quantitative"
          },
          "y": {
           "field": "y",
           "type": "quantitative"
          }
         },
         "mark": {
          "color": "black",
          "opacity": 0.1,
          "type": "line"
         }
        },
        {
         "data": {
          "values": [
           {
            "x": 3.3750568602575575,
            "y": 0
           },
           {
            "x": 3.3750568602575575,
            "y": 11.391008809971602
           }
          ]
         },
         "encoding": {
          "x": {
           "field": "x",
           "type": "quantitative"
          },
          "y": {
           "field": "y",
           "type": "quantitative"
          }
         },
         "mark": {
          "color": "black",
          "opacity": 0.1,
          "type": "line"
         }
        },
        {
         "data": {
          "values": [
           {
            "x": 0.6417303648706987,
            "y": 0
           },
           {
            "x": 0.6417303648706987,
            "y": 0.4118178611970801
           }
          ]
         },
         "encoding": {
          "x": {
           "field": "x",
           "type": "quantitative"
          },
          "y": {
           "field": "y",
           "type": "quantitative"
          }
         },
         "mark": {
          "color": "black",
          "opacity": 0.1,
          "type": "line"
         }
        },
        {
         "data": {
          "values": [
           {
            "x": -1.0135571340632619,
            "y": 0
           },
           {
            "x": -1.0135571340632619,
            "y": 1.027298064010533
           }
          ]
         },
         "encoding": {
          "x": {
           "field": "x",
           "type": "quantitative"
          },
          "y": {
           "field": "y",
           "type": "quantitative"
          }
         },
         "mark": {
          "color": "black",
          "opacity": 0.1,
          "type": "line"
         }
        },
        {
         "data": {
          "values": [
           {
            "x": -0.5590067645804715,
            "y": 0
           },
           {
            "x": -0.5590067645804715,
            "y": 0.31248856284672666
           }
          ]
         },
         "encoding": {
          "x": {
           "field": "x",
           "type": "quantitative"
          },
          "y": {
           "field": "y",
           "type": "quantitative"
          }
         },
         "mark": {
          "color": "black",
          "opacity": 0.1,
          "type": "line"
         }
        },
        {
         "data": {
          "values": [
           {
            "x": 2.402237187925652,
            "y": 0
           },
           {
            "x": 2.402237187925652,
            "y": 5.770743507052944
           }
          ]
         },
         "encoding": {
          "x": {
           "field": "x",
           "type": "quantitative"
          },
          "y": {
           "field": "y",
           "type": "quantitative"
          }
         },
         "mark": {
          "color": "black",
          "opacity": 0.1,
          "type": "line"
         }
        },
        {
         "data": {
          "values": [
           {
            "x": 3.837225729794694,
            "y": 0
           },
           {
            "x": 3.837225729794694,
            "y": 14.724301301398423
           }
          ]
         },
         "encoding": {
          "x": {
           "field": "x",
           "type": "quantitative"
          },
          "y": {
           "field": "y",
           "type": "quantitative"
          }
         },
         "mark": {
          "color": "black",
          "opacity": 0.1,
          "type": "line"
         }
        },
        {
         "data": {
          "values": [
           {
            "x": 4.0108172469122465,
            "y": 0
           },
           {
            "x": 4.0108172469122465,
            "y": 16.086654988128732
           }
          ]
         },
         "encoding": {
          "x": {
           "field": "x",
           "type": "quantitative"
          },
          "y": {
           "field": "y",
           "type": "quantitative"
          }
         },
         "mark": {
          "color": "black",
          "opacity": 0.1,
          "type": "line"
         }
        },
        {
         "data": {
          "values": [
           {
            "x": 0.524530381385031,
            "y": 0
           },
           {
            "x": 0.524530381385031,
            "y": 0.27513212099592615
           }
          ]
         },
         "encoding": {
          "x": {
           "field": "x",
           "type": "quantitative"
          },
          "y": {
           "field": "y",
           "type": "quantitative"
          }
         },
         "mark": {
          "color": "black",
          "opacity": 0.1,
          "type": "line"
         }
        },
        {
         "data": {
          "values": [
           {
            "x": 3.8478755124427932,
            "y": 0
           },
           {
            "x": 3.8478755124427932,
            "y": 14.806145959256888
           }
          ]
         },
         "encoding": {
          "x": {
           "field": "x",
           "type": "quantitative"
          },
          "y": {
           "field": "y",
           "type": "quantitative"
          }
         },
         "mark": {
          "color": "black",
          "opacity": 0.1,
          "type": "line"
         }
        },
        {
         "data": {
          "values": [
           {
            "x": -1.4297211842126627,
            "y": 0
           },
           {
            "x": -1.4297211842126627,
            "y": 2.0441026645864584
           }
          ]
         },
         "encoding": {
          "x": {
           "field": "x",
           "type": "quantitative"
          },
          "y": {
           "field": "y",
           "type": "quantitative"
          }
         },
         "mark": {
          "color": "black",
          "opacity": 0.1,
          "type": "line"
         }
        },
        {
         "data": {
          "values": [
           {
            "x": 3.532245785676531,
            "y": 0
           },
           {
            "x": 3.532245785676531,
            "y": 12.476760290429613
           }
          ]
         },
         "encoding": {
          "x": {
           "field": "x",
           "type": "quantitative"
          },
          "y": {
           "field": "y",
           "type": "quantitative"
          }
         },
         "mark": {
          "color": "black",
          "opacity": 0.1,
          "type": "line"
         }
        },
        {
         "data": {
          "values": [
           {
            "x": 3.0192269473047464,
            "y": 0
           },
           {
            "x": 3.0192269473047464,
            "y": 9.115731359331138
           }
          ]
         },
         "encoding": {
          "x": {
           "field": "x",
           "type": "quantitative"
          },
          "y": {
           "field": "y",
           "type": "quantitative"
          }
         },
         "mark": {
          "color": "black",
          "opacity": 0.1,
          "type": "line"
         }
        },
        {
         "data": {
          "values": [
           {
            "x": 3.736228821639426,
            "y": 0
           },
           {
            "x": 3.736228821639426,
            "y": 13.959405807649134
           }
          ]
         },
         "encoding": {
          "x": {
           "field": "x",
           "type": "quantitative"
          },
          "y": {
           "field": "y",
           "type": "quantitative"
          }
         },
         "mark": {
          "color": "black",
          "opacity": 0.1,
          "type": "line"
         }
        },
        {
         "data": {
          "values": [
           {
            "x": 3.445651934365314,
            "y": 0
           },
           {
            "x": 3.445651934365314,
            "y": 11.87251725279543
           }
          ]
         },
         "encoding": {
          "x": {
           "field": "x",
           "type": "quantitative"
          },
          "y": {
           "field": "y",
           "type": "quantitative"
          }
         },
         "mark": {
          "color": "black",
          "opacity": 0.1,
          "type": "line"
         }
        },
        {
         "data": {
          "values": [
           {
            "x": 1.3654232624186067,
            "y": 0
           },
           {
            "x": 1.3654232624186067,
            "y": 1.8643806855538712
           }
          ]
         },
         "encoding": {
          "x": {
           "field": "x",
           "type": "quantitative"
          },
          "y": {
           "field": "y",
           "type": "quantitative"
          }
         },
         "mark": {
          "color": "black",
          "opacity": 0.1,
          "type": "line"
         }
        },
        {
         "data": {
          "values": [
           {
            "x": 2.7523264173148267,
            "y": 0
           },
           {
            "x": 2.7523264173148267,
            "y": 7.5753007074490695
           }
          ]
         },
         "encoding": {
          "x": {
           "field": "x",
           "type": "quantitative"
          },
          "y": {
           "field": "y",
           "type": "quantitative"
          }
         },
         "mark": {
          "color": "black",
          "opacity": 0.1,
          "type": "line"
         }
        },
        {
         "data": {
          "values": [
           {
            "x": -1.7134090658991266,
            "y": 0
           },
           {
            "x": -1.7134090658991266,
            "y": 2.935770627105317
           }
          ]
         },
         "encoding": {
          "x": {
           "field": "x",
           "type": "quantitative"
          },
          "y": {
           "field": "y",
           "type": "quantitative"
          }
         },
         "mark": {
          "color": "black",
          "opacity": 0.1,
          "type": "line"
         }
        },
        {
         "data": {
          "values": [
           {
            "x": 2.256993376451378,
            "y": 0
           },
           {
            "x": 2.256993376451378,
            "y": 5.094019101345392
           }
          ]
         },
         "encoding": {
          "x": {
           "field": "x",
           "type": "quantitative"
          },
          "y": {
           "field": "y",
           "type": "quantitative"
          }
         },
         "mark": {
          "color": "black",
          "opacity": 0.1,
          "type": "line"
         }
        },
        {
         "data": {
          "values": [
           {
            "x": 4.200811767681168,
            "y": 0
           },
           {
            "x": 4.200811767681168,
            "y": 17.64681950748858
           }
          ]
         },
         "encoding": {
          "x": {
           "field": "x",
           "type": "quantitative"
          },
          "y": {
           "field": "y",
           "type": "quantitative"
          }
         },
         "mark": {
          "color": "black",
          "opacity": 0.1,
          "type": "line"
         }
        },
        {
         "data": {
          "values": [
           {
            "x": -1.2908273861873898,
            "y": 0
           },
           {
            "x": -1.2908273861873898,
            "y": 1.6662353409313688
           }
          ]
         },
         "encoding": {
          "x": {
           "field": "x",
           "type": "quantitative"
          },
          "y": {
           "field": "y",
           "type": "quantitative"
          }
         },
         "mark": {
          "color": "black",
          "opacity": 0.1,
          "type": "line"
         }
        },
        {
         "data": {
          "values": [
           {
            "x": 3.958202123437546,
            "y": 0
           },
           {
            "x": 3.958202123437546,
            "y": 15.667364049985498
           }
          ]
         },
         "encoding": {
          "x": {
           "field": "x",
           "type": "quantitative"
          },
          "y": {
           "field": "y",
           "type": "quantitative"
          }
         },
         "mark": {
          "color": "black",
          "opacity": 0.1,
          "type": "line"
         }
        },
        {
         "data": {
          "values": [
           {
            "x": -0.4015343093956414,
            "y": 0
           },
           {
            "x": -0.4015343093956414,
            "y": 0.16122980162183467
           }
          ]
         },
         "encoding": {
          "x": {
           "field": "x",
           "type": "quantitative"
          },
          "y": {
           "field": "y",
           "type": "quantitative"
          }
         },
         "mark": {
          "color": "black",
          "opacity": 0.1,
          "type": "line"
         }
        },
        {
         "data": {
          "values": [
           {
            "x": 1.1569275474332477,
            "y": 0
           },
           {
            "x": 1.1569275474332477,
            "y": 1.3384813500099095
           }
          ]
         },
         "encoding": {
          "x": {
           "field": "x",
           "type": "quantitative"
          },
          "y": {
           "field": "y",
           "type": "quantitative"
          }
         },
         "mark": {
          "color": "black",
          "opacity": 0.1,
          "type": "line"
         }
        },
        {
         "data": {
          "values": [
           {
            "x": 2.9227559369430556,
            "y": 0
           },
           {
            "x": 2.9227559369430556,
            "y": 8.542502266935879
           }
          ]
         },
         "encoding": {
          "x": {
           "field": "x",
           "type": "quantitative"
          },
          "y": {
           "field": "y",
           "type": "quantitative"
          }
         },
         "mark": {
          "color": "black",
          "opacity": 0.1,
          "type": "line"
         }
        },
        {
         "data": {
          "values": [
           {
            "x": 3.671337573449052,
            "y": 0
           },
           {
            "x": 3.671337573449052,
            "y": 13.478719578218774
           }
          ]
         },
         "encoding": {
          "x": {
           "field": "x",
           "type": "quantitative"
          },
          "y": {
           "field": "y",
           "type": "quantitative"
          }
         },
         "mark": {
          "color": "black",
          "opacity": 0.1,
          "type": "line"
         }
        },
        {
         "data": {
          "values": [
           {
            "x": 2.9512818504371503,
            "y": 0
           },
           {
            "x": 2.9512818504371503,
            "y": 8.71006456071973
           }
          ]
         },
         "encoding": {
          "x": {
           "field": "x",
           "type": "quantitative"
          },
          "y": {
           "field": "y",
           "type": "quantitative"
          }
         },
         "mark": {
          "color": "black",
          "opacity": 0.1,
          "type": "line"
         }
        },
        {
         "data": {
          "values": [
           {
            "x": 1.435263402747954,
            "y": 0
           },
           {
            "x": 1.435263402747954,
            "y": 2.059981035267636
           }
          ]
         },
         "encoding": {
          "x": {
           "field": "x",
           "type": "quantitative"
          },
          "y": {
           "field": "y",
           "type": "quantitative"
          }
         },
         "mark": {
          "color": "black",
          "opacity": 0.1,
          "type": "line"
         }
        },
        {
         "data": {
          "values": [
           {
            "x": 0.6786707319029568,
            "y": 0
           },
           {
            "x": 0.6786707319029568,
            "y": 0.46059396234169503
           }
          ]
         },
         "encoding": {
          "x": {
           "field": "x",
           "type": "quantitative"
          },
          "y": {
           "field": "y",
           "type": "quantitative"
          }
         },
         "mark": {
          "color": "black",
          "opacity": 0.1,
          "type": "line"
         }
        },
        {
         "data": {
          "values": [
           {
            "x": 4.795193331380724,
            "y": 0
           },
           {
            "x": 4.795193331380724,
            "y": 22.993879085318166
           }
          ]
         },
         "encoding": {
          "x": {
           "field": "x",
           "type": "quantitative"
          },
          "y": {
           "field": "y",
           "type": "quantitative"
          }
         },
         "mark": {
          "color": "black",
          "opacity": 0.1,
          "type": "line"
         }
        },
        {
         "data": {
          "values": [
           {
            "x": -0.3224218094382336,
            "y": 0
           },
           {
            "x": -0.3224218094382336,
            "y": 0.10395582320142463
           }
          ]
         },
         "encoding": {
          "x": {
           "field": "x",
           "type": "quantitative"
          },
          "y": {
           "field": "y",
           "type": "quantitative"
          }
         },
         "mark": {
          "color": "black",
          "opacity": 0.1,
          "type": "line"
         }
        },
        {
         "data": {
          "values": [
           {
            "x": 1.1987470298780933,
            "y": 0
           },
           {
            "x": 1.1987470298780933,
            "y": 1.4369944416415503
           }
          ]
         },
         "encoding": {
          "x": {
           "field": "x",
           "type": "quantitative"
          },
          "y": {
           "field": "y",
           "type": "quantitative"
          }
         },
         "mark": {
          "color": "black",
          "opacity": 0.1,
          "type": "line"
         }
        },
        {
         "data": {
          "values": [
           {
            "x": 2.738389808010069,
            "y": 0
           },
           {
            "x": 2.738389808010069,
            "y": 7.498778740613422
           }
          ]
         },
         "encoding": {
          "x": {
           "field": "x",
           "type": "quantitative"
          },
          "y": {
           "field": "y",
           "type": "quantitative"
          }
         },
         "mark": {
          "color": "black",
          "opacity": 0.1,
          "type": "line"
         }
        },
        {
         "data": {
          "values": [
           {
            "x": 3.0295327956832705,
            "y": 0
           },
           {
            "x": 3.0295327956832705,
            "y": 9.178068960120493
           }
          ]
         },
         "encoding": {
          "x": {
           "field": "x",
           "type": "quantitative"
          },
          "y": {
           "field": "y",
           "type": "quantitative"
          }
         },
         "mark": {
          "color": "black",
          "opacity": 0.1,
          "type": "line"
         }
        },
        {
         "data": {
          "values": [
           {
            "x": 2.7539781403907972,
            "y": 0
           },
           {
            "x": 2.7539781403907972,
            "y": 7.584395597750354
           }
          ]
         },
         "encoding": {
          "x": {
           "field": "x",
           "type": "quantitative"
          },
          "y": {
           "field": "y",
           "type": "quantitative"
          }
         },
         "mark": {
          "color": "black",
          "opacity": 0.1,
          "type": "line"
         }
        },
        {
         "data": {
          "values": [
           {
            "x": 1.6410146560533456,
            "y": 0
           },
           {
            "x": 1.6410146560533456,
            "y": 2.69292910138188
           }
          ]
         },
         "encoding": {
          "x": {
           "field": "x",
           "type": "quantitative"
          },
          "y": {
           "field": "y",
           "type": "quantitative"
          }
         },
         "mark": {
          "color": "black",
          "opacity": 0.1,
          "type": "line"
         }
        },
        {
         "data": {
          "values": [
           {
            "x": 3.6399620974490254,
            "y": 0
           },
           {
            "x": 3.6399620974490254,
            "y": 13.249324070865509
           }
          ]
         },
         "encoding": {
          "x": {
           "field": "x",
           "type": "quantitative"
          },
          "y": {
           "field": "y",
           "type": "quantitative"
          }
         },
         "mark": {
          "color": "black",
          "opacity": 0.1,
          "type": "line"
         }
        },
        {
         "data": {
          "values": [
           {
            "x": 1.8352579411149499,
            "y": 0
           },
           {
            "x": 1.8352579411149499,
            "y": 3.368171710425485
           }
          ]
         },
         "encoding": {
          "x": {
           "field": "x",
           "type": "quantitative"
          },
          "y": {
           "field": "y",
           "type": "quantitative"
          }
         },
         "mark": {
          "color": "black",
          "opacity": 0.1,
          "type": "line"
         }
        },
        {
         "data": {
          "values": [
           {
            "x": 0.3819610140052978,
            "y": 0
           },
           {
            "x": 0.3819610140052978,
            "y": 0.1458942162199553
           }
          ]
         },
         "encoding": {
          "x": {
           "field": "x",
           "type": "quantitative"
          },
          "y": {
           "field": "y",
           "type": "quantitative"
          }
         },
         "mark": {
          "color": "black",
          "opacity": 0.1,
          "type": "line"
         }
        },
        {
         "data": {
          "values": [
           {
            "x": 0.4603297412168055,
            "y": 0
           },
           {
            "x": 0.4603297412168055,
            "y": 0.2119034706487311
           }
          ]
         },
         "encoding": {
          "x": {
           "field": "x",
           "type": "quantitative"
          },
          "y": {
           "field": "y",
           "type": "quantitative"
          }
         },
         "mark": {
          "color": "black",
          "opacity": 0.1,
          "type": "line"
         }
        },
        {
         "data": {
          "values": [
           {
            "x": 2.291836281621664,
            "y": 0
           },
           {
            "x": 2.291836281621664,
            "y": 5.252513541757416
           }
          ]
         },
         "encoding": {
          "x": {
           "field": "x",
           "type": "quantitative"
          },
          "y": {
           "field": "y",
           "type": "quantitative"
          }
         },
         "mark": {
          "color": "black",
          "opacity": 0.1,
          "type": "line"
         }
        },
        {
         "data": {
          "values": [
           {
            "x": 2.2493775009798562,
            "y": 0
           },
           {
            "x": 2.2493775009798562,
            "y": 5.0596991419143835
           }
          ]
         },
         "encoding": {
          "x": {
           "field": "x",
           "type": "quantitative"
          },
          "y": {
           "field": "y",
           "type": "quantitative"
          }
         },
         "mark": {
          "color": "black",
          "opacity": 0.1,
          "type": "line"
         }
        },
        {
         "data": {
          "values": [
           {
            "x": 1.1025429675782654,
            "y": 0
           },
           {
            "x": 1.1025429675782654,
            "y": 1.215600995356288
           }
          ]
         },
         "encoding": {
          "x": {
           "field": "x",
           "type": "quantitative"
          },
          "y": {
           "field": "y",
           "type": "quantitative"
          }
         },
         "mark": {
          "color": "black",
          "opacity": 0.1,
          "type": "line"
         }
        },
        {
         "data": {
          "values": [
           {
            "x": 1.350354437721884,
            "y": 0
           },
           {
            "x": 1.350354437721884,
            "y": 1.8234571074751853
           }
          ]
         },
         "encoding": {
          "x": {
           "field": "x",
           "type": "quantitative"
          },
          "y": {
           "field": "y",
           "type": "quantitative"
          }
         },
         "mark": {
          "color": "black",
          "opacity": 0.1,
          "type": "line"
         }
        },
        {
         "data": {
          "values": [
           {
            "x": 2.726316727366597,
            "y": 0
           },
           {
            "x": 2.726316727366597,
            "y": 7.432802897918911
           }
          ]
         },
         "encoding": {
          "x": {
           "field": "x",
           "type": "quantitative"
          },
          "y": {
           "field": "y",
           "type": "quantitative"
          }
         },
         "mark": {
          "color": "black",
          "opacity": 0.1,
          "type": "line"
         }
        },
        {
         "data": {
          "values": [
           {
            "x": 3.4077332298002743,
            "y": 0
           },
           {
            "x": 3.4077332298002743,
            "y": 11.61264576548501
           }
          ]
         },
         "encoding": {
          "x": {
           "field": "x",
           "type": "quantitative"
          },
          "y": {
           "field": "y",
           "type": "quantitative"
          }
         },
         "mark": {
          "color": "black",
          "opacity": 0.1,
          "type": "line"
         }
        },
        {
         "data": {
          "values": [
           {
            "x": 6.300032839801595,
            "y": 0
           },
           {
            "x": 6.300032839801595,
            "y": 39.69041378257855
           }
          ]
         },
         "encoding": {
          "x": {
           "field": "x",
           "type": "quantitative"
          },
          "y": {
           "field": "y",
           "type": "quantitative"
          }
         },
         "mark": {
          "color": "black",
          "opacity": 0.1,
          "type": "line"
         }
        },
        {
         "data": {
          "values": [
           {
            "x": -1.5566910424225,
            "y": 0
           },
           {
            "x": -1.5566910424225,
            "y": 2.4232870015584496
           }
          ]
         },
         "encoding": {
          "x": {
           "field": "x",
           "type": "quantitative"
          },
          "y": {
           "field": "y",
           "type": "quantitative"
          }
         },
         "mark": {
          "color": "black",
          "opacity": 0.1,
          "type": "line"
         }
        },
        {
         "data": {
          "values": [
           {
            "x": 1.5162121959394876,
            "y": 0
           },
           {
            "x": 1.5162121959394876,
            "y": 2.2988994231156434
           }
          ]
         },
         "encoding": {
          "x": {
           "field": "x",
           "type": "quantitative"
          },
          "y": {
           "field": "y",
           "type": "quantitative"
          }
         },
         "mark": {
          "color": "black",
          "opacity": 0.1,
          "type": "line"
         }
        },
        {
         "data": {
          "values": [
           {
            "x": 3.0258847018637125,
            "y": 0
           },
           {
            "x": 3.0258847018637125,
            "y": 9.155978228972849
           }
          ]
         },
         "encoding": {
          "x": {
           "field": "x",
           "type": "quantitative"
          },
          "y": {
           "field": "y",
           "type": "quantitative"
          }
         },
         "mark": {
          "color": "black",
          "opacity": 0.1,
          "type": "line"
         }
        },
        {
         "data": {
          "values": [
           {
            "x": 3.9036026389064418,
            "y": 0
           },
           {
            "x": 3.9036026389064418,
            "y": 15.238113562477336
           }
          ]
         },
         "encoding": {
          "x": {
           "field": "x",
           "type": "quantitative"
          },
          "y": {
           "field": "y",
           "type": "quantitative"
          }
         },
         "mark": {
          "color": "black",
          "opacity": 0.1,
          "type": "line"
         }
        },
        {
         "data": {
          "values": [
           {
            "x": 3.504857048997807,
            "y": 0
           },
           {
            "x": 3.504857048997807,
            "y": 12.284022933909617
           }
          ]
         },
         "encoding": {
          "x": {
           "field": "x",
           "type": "quantitative"
          },
          "y": {
           "field": "y",
           "type": "quantitative"
          }
         },
         "mark": {
          "color": "black",
          "opacity": 0.1,
          "type": "line"
         }
        },
        {
         "data": {
          "values": [
           {
            "x": 2.933555970455906,
            "y": 0
           },
           {
            "x": 2.933555970455906,
            "y": 8.605750631797493
           }
          ]
         },
         "encoding": {
          "x": {
           "field": "x",
           "type": "quantitative"
          },
          "y": {
           "field": "y",
           "type": "quantitative"
          }
         },
         "mark": {
          "color": "black",
          "opacity": 0.1,
          "type": "line"
         }
        },
        {
         "data": {
          "values": [
           {
            "x": 3.9859697264701426,
            "y": 0
           },
           {
            "x": 3.9859697264701426,
            "y": 15.887954660336463
           }
          ]
         },
         "encoding": {
          "x": {
           "field": "x",
           "type": "quantitative"
          },
          "y": {
           "field": "y",
           "type": "quantitative"
          }
         },
         "mark": {
          "color": "black",
          "opacity": 0.1,
          "type": "line"
         }
        },
        {
         "data": {
          "values": [
           {
            "x": 3.1322061394560685,
            "y": 0
           },
           {
            "x": 3.1322061394560685,
            "y": 9.810715300046288
           }
          ]
         },
         "encoding": {
          "x": {
           "field": "x",
           "type": "quantitative"
          },
          "y": {
           "field": "y",
           "type": "quantitative"
          }
         },
         "mark": {
          "color": "black",
          "opacity": 0.1,
          "type": "line"
         }
        },
        {
         "data": {
          "values": [
           {
            "x": 2.174477616730395,
            "y": 0
           },
           {
            "x": 2.174477616730395,
            "y": 4.7283529056615
           }
          ]
         },
         "encoding": {
          "x": {
           "field": "x",
           "type": "quantitative"
          },
          "y": {
           "field": "y",
           "type": "quantitative"
          }
         },
         "mark": {
          "color": "black",
          "opacity": 0.1,
          "type": "line"
         }
        },
        {
         "data": {
          "values": [
           {
            "x": 1.1975521508437974,
            "y": 0
           },
           {
            "x": 1.1975521508437974,
            "y": 1.4341311539906052
           }
          ]
         },
         "encoding": {
          "x": {
           "field": "x",
           "type": "quantitative"
          },
          "y": {
           "field": "y",
           "type": "quantitative"
          }
         },
         "mark": {
          "color": "black",
          "opacity": 0.1,
          "type": "line"
         }
        },
        {
         "data": {
          "values": [
           {
            "x": 3.2442635035532783,
            "y": 0
           },
           {
            "x": 3.2442635035532783,
            "y": 10.525245680487792
           }
          ]
         },
         "encoding": {
          "x": {
           "field": "x",
           "type": "quantitative"
          },
          "y": {
           "field": "y",
           "type": "quantitative"
          }
         },
         "mark": {
          "color": "black",
          "opacity": 0.1,
          "type": "line"
         }
        },
        {
         "data": {
          "values": [
           {
            "x": 4.798905400057018,
            "y": 0
           },
           {
            "x": 4.798905400057018,
            "y": 23.02949303869641
           }
          ]
         },
         "encoding": {
          "x": {
           "field": "x",
           "type": "quantitative"
          },
          "y": {
           "field": "y",
           "type": "quantitative"
          }
         },
         "mark": {
          "color": "black",
          "opacity": 0.1,
          "type": "line"
         }
        },
        {
         "data": {
          "values": [
           {
            "x": 0.19896042255404112,
            "y": 0
           },
           {
            "x": 0.19896042255404112,
            "y": 0.03958524974288259
           }
          ]
         },
         "encoding": {
          "x": {
           "field": "x",
           "type": "quantitative"
          },
          "y": {
           "field": "y",
           "type": "quantitative"
          }
         },
         "mark": {
          "color": "black",
          "opacity": 0.1,
          "type": "line"
         }
        },
        {
         "data": {
          "values": [
           {
            "x": 2.740192458455099,
            "y": 0
           },
           {
            "x": 2.740192458455099,
            "y": 7.5086547093742
           }
          ]
         },
         "encoding": {
          "x": {
           "field": "x",
           "type": "quantitative"
          },
          "y": {
           "field": "y",
           "type": "quantitative"
          }
         },
         "mark": {
          "color": "black",
          "opacity": 0.1,
          "type": "line"
         }
        },
        {
         "data": {
          "values": [
           {
            "x": 2.7475092685988587,
            "y": 0
           },
           {
            "x": 2.7475092685988587,
            "y": 7.5488071810366355
           }
          ]
         },
         "encoding": {
          "x": {
           "field": "x",
           "type": "quantitative"
          },
          "y": {
           "field": "y",
           "type": "quantitative"
          }
         },
         "mark": {
          "color": "black",
          "opacity": 0.1,
          "type": "line"
         }
        },
        {
         "data": {
          "values": [
           {
            "x": 6.024842764303787,
            "y": 0
           },
           {
            "x": 6.024842764303787,
            "y": 36.298730334583695
           }
          ]
         },
         "encoding": {
          "x": {
           "field": "x",
           "type": "quantitative"
          },
          "y": {
           "field": "y",
           "type": "quantitative"
          }
         },
         "mark": {
          "color": "black",
          "opacity": 0.1,
          "type": "line"
         }
        },
        {
         "data": {
          "values": [
           {
            "x": -2.7940894558759366,
            "y": 0
           },
           {
            "x": -2.7940894558759366,
            "y": 7.8069358874370876
           }
          ]
         },
         "encoding": {
          "x": {
           "field": "x",
           "type": "quantitative"
          },
          "y": {
           "field": "y",
           "type": "quantitative"
          }
         },
         "mark": {
          "color": "black",
          "opacity": 0.1,
          "type": "line"
         }
        },
        {
         "data": {
          "values": [
           {
            "x": 4.521109227353685,
            "y": 0
           },
           {
            "x": 4.521109227353685,
            "y": 20.440428645662635
           }
          ]
         },
         "encoding": {
          "x": {
           "field": "x",
           "type": "quantitative"
          },
          "y": {
           "field": "y",
           "type": "quantitative"
          }
         },
         "mark": {
          "color": "black",
          "opacity": 0.1,
          "type": "line"
         }
        },
        {
         "data": {
          "values": [
           {
            "x": 2.104000536255618,
            "y": 0
           },
           {
            "x": 2.104000536255618,
            "y": 4.426818256563927
           }
          ]
         },
         "encoding": {
          "x": {
           "field": "x",
           "type": "quantitative"
          },
          "y": {
           "field": "y",
           "type": "quantitative"
          }
         },
         "mark": {
          "color": "black",
          "opacity": 0.1,
          "type": "line"
         }
        },
        {
         "data": {
          "values": [
           {
            "x": 4.109097204372775,
            "y": 0
           },
           {
            "x": 4.109097204372775,
            "y": 16.884679834984155
           }
          ]
         },
         "encoding": {
          "x": {
           "field": "x",
           "type": "quantitative"
          },
          "y": {
           "field": "y",
           "type": "quantitative"
          }
         },
         "mark": {
          "color": "black",
          "opacity": 0.1,
          "type": "line"
         }
        },
        {
         "data": {
          "values": [
           {
            "x": 6.909848012701973,
            "y": 0
           },
           {
            "x": 6.909848012701973,
            "y": 47.74599955864141
           }
          ]
         },
         "encoding": {
          "x": {
           "field": "x",
           "type": "quantitative"
          },
          "y": {
           "field": "y",
           "type": "quantitative"
          }
         },
         "mark": {
          "color": "black",
          "opacity": 0.1,
          "type": "line"
         }
        },
        {
         "data": {
          "values": [
           {
            "x": 2.445270569848773,
            "y": 0
           },
           {
            "x": 2.445270569848773,
            "y": 5.979348159768542
           }
          ]
         },
         "encoding": {
          "x": {
           "field": "x",
           "type": "quantitative"
          },
          "y": {
           "field": "y",
           "type": "quantitative"
          }
         },
         "mark": {
          "color": "black",
          "opacity": 0.1,
          "type": "line"
         }
        },
        {
         "data": {
          "values": [
           {
            "x": 3.868600773144867,
            "y": 0
           },
           {
            "x": 3.868600773144867,
            "y": 14.966071941977063
           }
          ]
         },
         "encoding": {
          "x": {
           "field": "x",
           "type": "quantitative"
          },
          "y": {
           "field": "y",
           "type": "quantitative"
          }
         },
         "mark": {
          "color": "black",
          "opacity": 0.1,
          "type": "line"
         }
        },
        {
         "data": {
          "values": [
           {
            "x": 5.046498628992644,
            "y": 0
           },
           {
            "x": 5.046498628992644,
            "y": 25.46714841242464
           }
          ]
         },
         "encoding": {
          "x": {
           "field": "x",
           "type": "quantitative"
          },
          "y": {
           "field": "y",
           "type": "quantitative"
          }
         },
         "mark": {
          "color": "black",
          "opacity": 0.1,
          "type": "line"
         }
        },
        {
         "data": {
          "values": [
           {
            "x": 5.4579514559287325,
            "y": 0
           },
           {
            "x": 5.4579514559287325,
            "y": 29.789234095274573
           }
          ]
         },
         "encoding": {
          "x": {
           "field": "x",
           "type": "quantitative"
          },
          "y": {
           "field": "y",
           "type": "quantitative"
          }
         },
         "mark": {
          "color": "black",
          "opacity": 0.1,
          "type": "line"
         }
        },
        {
         "data": {
          "values": [
           {
            "x": 1.4351675554455146,
            "y": 0
           },
           {
            "x": 1.4351675554455146,
            "y": 2.0597059122034542
           }
          ]
         },
         "encoding": {
          "x": {
           "field": "x",
           "type": "quantitative"
          },
          "y": {
           "field": "y",
           "type": "quantitative"
          }
         },
         "mark": {
          "color": "black",
          "opacity": 0.1,
          "type": "line"
         }
        },
        {
         "data": {
          "values": [
           {
            "x": 5.5532555580723795,
            "y": 0
           },
           {
            "x": 5.5532555580723795,
            "y": 30.838647293261776
           }
          ]
         },
         "encoding": {
          "x": {
           "field": "x",
           "type": "quantitative"
          },
          "y": {
           "field": "y",
           "type": "quantitative"
          }
         },
         "mark": {
          "color": "black",
          "opacity": 0.1,
          "type": "line"
         }
        },
        {
         "data": {
          "values": [
           {
            "x": 3.4824771626622364,
            "y": 0
           },
           {
            "x": 3.4824771626622364,
            "y": 12.127647188464021
           }
          ]
         },
         "encoding": {
          "x": {
           "field": "x",
           "type": "quantitative"
          },
          "y": {
           "field": "y",
           "type": "quantitative"
          }
         },
         "mark": {
          "color": "black",
          "opacity": 0.1,
          "type": "line"
         }
        },
        {
         "data": {
          "values": [
           {
            "x": 2.6603080792848965,
            "y": 0
           },
           {
            "x": 2.6603080792848965,
            "y": 7.077239076708495
           }
          ]
         },
         "encoding": {
          "x": {
           "field": "x",
           "type": "quantitative"
          },
          "y": {
           "field": "y",
           "type": "quantitative"
          }
         },
         "mark": {
          "color": "black",
          "opacity": 0.1,
          "type": "line"
         }
        },
        {
         "data": {
          "values": [
           {
            "x": 1.7225169509952418,
            "y": 0
           },
           {
            "x": 1.7225169509952418,
            "y": 2.9670646464659445
           }
          ]
         },
         "encoding": {
          "x": {
           "field": "x",
           "type": "quantitative"
          },
          "y": {
           "field": "y",
           "type": "quantitative"
          }
         },
         "mark": {
          "color": "black",
          "opacity": 0.1,
          "type": "line"
         }
        },
        {
         "data": {
          "values": [
           {
            "x": 6.401247738633776,
            "y": 0
           },
           {
            "x": 6.401247738633776,
            "y": 40.97597261136403
           }
          ]
         },
         "encoding": {
          "x": {
           "field": "x",
           "type": "quantitative"
          },
          "y": {
           "field": "y",
           "type": "quantitative"
          }
         },
         "mark": {
          "color": "black",
          "opacity": 0.1,
          "type": "line"
         }
        },
        {
         "data": {
          "values": [
           {
            "x": 0.36095829044504946,
            "y": 0
           },
           {
            "x": 0.36095829044504946,
            "y": 0.1302908874410127
           }
          ]
         },
         "encoding": {
          "x": {
           "field": "x",
           "type": "quantitative"
          },
          "y": {
           "field": "y",
           "type": "quantitative"
          }
         },
         "mark": {
          "color": "black",
          "opacity": 0.1,
          "type": "line"
         }
        },
        {
         "layer": [
          {
           "data": {
            "values": [
             {
              "x": 2.37337722079871,
              "y": 0
             },
             {
              "x": 2.9784554270049504,
              "y": 0
             },
             {
              "x": 4.235446201825997,
              "y": 0
             },
             {
              "x": 1.7371840621530217,
              "y": 0
             },
             {
              "x": 4.286317394517771,
              "y": 0
             },
             {
              "x": 2.1068195116120925,
              "y": 0
             },
             {
              "x": 4.721218871515101,
              "y": 0
             },
             {
              "x": 2.2598473211951964,
              "y": 0
             },
             {
              "x": 6.250545856889687,
              "y": 0
             },
             {
              "x": 3.1432216991785284,
              "y": 0
             },
             {
              "x": 1.1574798049214892,
              "y": 0
             },
             {
              "x": 2.5588753409120195,
              "y": 0
             },
             {
              "x": 5.592803838785921,
              "y": 0
             },
             {
              "x": 6.119340394658194,
              "y": 0
             },
             {
              "x": 2.5057853206435095,
              "y": 0
             },
             {
              "x": 2.0139465060049027,
              "y": 0
             },
             {
              "x": 0.6559481324696501,
              "y": 0
             },
             {
              "x": 0.237247718619916,
              "y": 0
             },
             {
              "x": 1.9480786381738562,
              "y": 0
             },
             {
              "x": 2.933794070173715,
              "y": 0
             },
             {
              "x": 2.394712743843618,
              "y": 0
             },
             {
              "x": 1.4871419538742479,
              "y": 0
             },
             {
              "x": 5.762919206108333,
              "y": 0
             },
             {
              "x": 3.1750126116949575,
              "y": 0
             },
             {
              "x": 0.05124440816508713,
              "y": 0
             },
             {
              "x": -0.046081954510100775,
              "y": 0
             },
             {
              "x": 2.3811845509448415,
              "y": 0
             },
             {
              "x": 6.244946680628971,
              "y": 0
             },
             {
              "x": 8.178115107083503,
              "y": 0
             },
             {
              "x": 4.53098421694458,
              "y": 0
             },
             {
              "x": 6.654285572057219,
              "y": 0
             },
             {
              "x": 2.4619973291873847,
              "y": 0
             },
             {
              "x": 5.268802373015124,
              "y": 0
             },
             {
              "x": 1.881249664334684,
              "y": 0
             },
             {
              "x": -3.006281965515515,
              "y": 0
             },
             {
              "x": 1.6930390225640144,
              "y": 0
             },
             {
              "x": 4.542569809671283,
              "y": 0
             },
             {
              "x": 2.7853576817273393,
              "y": 0
             },
             {
              "x": 1.4171228104604505,
              "y": 0
             },
             {
              "x": 3.6719505262051078,
              "y": 0
             },
             {
              "x": 2.8438256465921468,
              "y": 0
             },
             {
              "x": 2.6429629782598756,
              "y": 0
             },
             {
              "x": 1.3245749755797322,
              "y": 0
             },
             {
              "x": 3.2083412793665893,
              "y": 0
             },
             {
              "x": 3.646358841932728,
              "y": 0
             },
             {
              "x": 5.17661394376422,
              "y": 0
             },
             {
              "x": 5.484984315382521,
              "y": 0
             },
             {
              "x": -0.646326968338629,
              "y": 0
             },
             {
              "x": 4.952788828273748,
              "y": 0
             },
             {
              "x": 2.979244407786675,
              "y": 0
             },
             {
              "x": 5.773002941452775,
              "y": 0
             },
             {
              "x": 2.273292153365698,
              "y": 0
             },
             {
              "x": 2.947565615255768,
              "y": 0
             },
             {
              "x": 1.738120888629315,
              "y": 0
             },
             {
              "x": 1.8098414171530979,
              "y": 0
             },
             {
              "x": 2.886562658865613,
              "y": 0
             },
             {
              "x": 4.847604135203426,
              "y": 0
             },
             {
              "x": 0.1756364174888594,
              "y": 0
             },
             {
              "x": 1.4790322134048437,
              "y": 0
             },
             {
              "x": 3.1992811769835336,
              "y": 0
             },
             {
              "x": 3.660071665182058,
              "y": 0
             },
             {
              "x": 2.623835178593729,
              "y": 0
             },
             {
              "x": 0.4710963116121918,
              "y": 0
             },
             {
              "x": 4.729363749278208,
              "y": 0
             },
             {
              "x": 5.716681191277628,
              "y": 0
             },
             {
              "x": 0.1960528637770893,
              "y": 0
             },
             {
              "x": 3.60025926463608,
              "y": 0
             },
             {
              "x": 1.9864840257593284,
              "y": 0
             },
             {
              "x": 1.8455814282974945,
              "y": 0
             },
             {
              "x": 1.6451783856889302,
              "y": 0
             },
             {
              "x": 3.480618072621017,
              "y": 0
             },
             {
              "x": 3.67939378182192,
              "y": 0
             },
             {
              "x": 2.786351370712023,
              "y": 0
             },
             {
              "x": 2.561064072562988,
              "y": 0
             },
             {
              "x": 0.10199518493282023,
              "y": 0
             },
             {
              "x": 0.5121022855258148,
              "y": 0
             },
             {
              "x": 4.101310548795579,
              "y": 0
             },
             {
              "x": 0.19966737330499118,
              "y": 0
             },
             {
              "x": 2.9047999449400352,
              "y": 0
             },
             {
              "x": 5.105028744207237,
              "y": 0
             },
             {
              "x": 2.5826386529924306,
              "y": 0
             },
             {
              "x": 1.8092062163131386,
              "y": 0
             },
             {
              "x": 4.080462881510129,
              "y": 0
             },
             {
              "x": -0.879385319627795,
              "y": 0
             },
             {
              "x": 3.8362650049693916,
              "y": 0
             },
             {
              "x": 3.145277370260584,
              "y": 0
             },
             {
              "x": 6.125516474542396,
              "y": 0
             },
             {
              "x": 1.9591623318381943,
              "y": 0
             },
             {
              "x": 6.0032207778941995,
              "y": 0
             },
             {
              "x": 1.3419930079066689,
              "y": 0
             },
             {
              "x": 6.344616876968555,
              "y": 0
             },
             {
              "x": 6.9870484381561875,
              "y": 0
             },
             {
              "x": 4.35625624670266,
              "y": 0
             },
             {
              "x": 3.814288475820484,
              "y": 0
             },
             {
              "x": 4.170792141706354,
              "y": 0
             },
             {
              "x": 0.014697495714829145,
              "y": 0
             },
             {
              "x": 2.2253311085180423,
              "y": 0
             },
             {
              "x": 3.297486986613833,
              "y": 0
             },
             {
              "x": 5.296342355589292,
              "y": 0
             },
             {
              "x": 1.5264681119449235,
              "y": 0
             },
             {
              "x": 1.8298440637350382,
              "y": 0
             },
             {
              "x": 5.7273315789663695,
              "y": 0
             },
             {
              "x": 3.4706059281837427,
              "y": 0
             },
             {
              "x": 0.6982395532924619,
              "y": 0
             },
             {
              "x": 0.7993334126074676,
              "y": 0
             },
             {
              "x": 3.576256707125599,
              "y": 0
             },
             {
              "x": 4.0014161433879,
              "y": 0
             },
             {
              "x": 3.5494471137429473,
              "y": 0
             },
             {
              "x": 4.533073670902369,
              "y": 0
             },
             {
              "x": 6.368428689039806,
              "y": 0
             },
             {
              "x": 4.223160272963442,
              "y": 0
             },
             {
              "x": 3.400676749015261,
              "y": 0
             },
             {
              "x": 1.668688221558817,
              "y": 0
             },
             {
              "x": 1.095978377613091,
              "y": 0
             },
             {
              "x": 3.779933714737611,
              "y": 0
             },
             {
              "x": 4.3128694822865175,
              "y": 0
             },
             {
              "x": 6.671587902307065,
              "y": 0
             },
             {
              "x": 3.0084589326257927,
              "y": 0
             },
             {
              "x": 1.0795304946235063,
              "y": 0
             },
             {
              "x": 2.1779091043238186,
              "y": 0
             },
             {
              "x": 1.956789442754959,
              "y": 0
             },
             {
              "x": 1.5500764596023817,
              "y": 0
             },
             {
              "x": 1.5921122107380072,
              "y": 0
             },
             {
              "x": 3.87708811608638,
              "y": 0
             },
             {
              "x": 2.1006336343646326,
              "y": 0
             },
             {
              "x": 0.823484679481876,
              "y": 0
             },
             {
              "x": 1.4687183734048184,
              "y": 0
             },
             {
              "x": 2.4869369427529118,
              "y": 0
             },
             {
              "x": 3.4615284927121968,
              "y": 0
             },
             {
              "x": 3.2865173260970857,
              "y": 0
             },
             {
              "x": 1.0551058334117456,
              "y": 0
             },
             {
              "x": 2.1163692260375293,
              "y": 0
             },
             {
              "x": -0.42290216863207597,
              "y": 0
             },
             {
              "x": 3.038620814900092,
              "y": 0
             },
             {
              "x": 5.819922494622993,
              "y": 0
             },
             {
              "x": -0.16103460504808353,
              "y": 0
             },
             {
              "x": -0.09066674751330961,
              "y": 0
             },
             {
              "x": 7.577180348394015,
              "y": 0
             },
             {
              "x": 4.381901321375742,
              "y": 0
             },
             {
              "x": 1.9480478051012722,
              "y": 0
             },
             {
              "x": 2.7564669364488843,
              "y": 0
             },
             {
              "x": 0.8422522281147933,
              "y": 0
             },
             {
              "x": 2.703161108895836,
              "y": 0
             },
             {
              "x": 0.6479070632333885,
              "y": 0
             },
             {
              "x": 2.866175561088819,
              "y": 0
             },
             {
              "x": -2.423658822778183,
              "y": 0
             },
             {
              "x": 1.435141142032679,
              "y": 0
             },
             {
              "x": 4.47148813407113,
              "y": 0
             },
             {
              "x": 1.4870330458345504,
              "y": 0
             },
             {
              "x": 1.4510514018430354,
              "y": 0
             },
             {
              "x": 3.564081207260699,
              "y": 0
             },
             {
              "x": 3.2523090965370045,
              "y": 0
             },
             {
              "x": 0.10512144260410938,
              "y": 0
             },
             {
              "x": 2.7846769625548173,
              "y": 0
             },
             {
              "x": 3.020887548681272,
              "y": 0
             },
             {
              "x": 2.0357899038969323,
              "y": 0
             },
             {
              "x": 3.48606957452612,
              "y": 0
             },
             {
              "x": -0.09922218680067241,
              "y": 0
             },
             {
              "x": 3.523805775204787,
              "y": 0
             },
             {
              "x": -0.1409292819483854,
              "y": 0
             },
             {
              "x": 3.4289559113058754,
              "y": 0
             },
             {
              "x": 2.2469446747176063,
              "y": 0
             },
             {
              "x": 5.732034991806794,
              "y": 0
             },
             {
              "x": 2.9821118883493174,
              "y": 0
             },
             {
              "x": 6.244689252369791,
              "y": 0
             },
             {
              "x": 3.954312383876582,
              "y": 0
             },
             {
              "x": 3.425731306331835,
              "y": 0
             },
             {
              "x": 1.5814430044643697,
              "y": 0
             },
             {
              "x": 6.351506353277974,
              "y": 0
             },
             {
              "x": 2.156001625392464,
              "y": 0
             },
             {
              "x": -1.3670438985428355,
              "y": 0
             },
             {
              "x": 0.1481213296901993,
              "y": 0
             },
             {
              "x": 4.737196432505138,
              "y": 0
             },
             {
              "x": 1.1279313789654974,
              "y": 0
             },
             {
              "x": 6.4482448436150825,
              "y": 0
             },
             {
              "x": 6.9994933468348774,
              "y": 0
             },
             {
              "x": 2.1461831454988927,
              "y": 0
             },
             {
              "x": 4.226748651478719,
              "y": 0
             },
             {
              "x": -0.4384678828359725,
              "y": 0
             },
             {
              "x": 5.277814153629656,
              "y": 0
             },
             {
              "x": 3.343791803648981,
              "y": 0
             },
             {
              "x": 2.616881747462988,
              "y": 0
             },
             {
              "x": 1.3481661646401866,
              "y": 0
             },
             {
              "x": 4.8533026774901495,
              "y": 0
             },
             {
              "x": 2.3145573326282913,
              "y": 0
             },
             {
              "x": 3.8826703145730534,
              "y": 0
             },
             {
              "x": -0.3186995035880167,
              "y": 0
             },
             {
              "x": 5.720742390376161,
              "y": 0
             },
             {
              "x": 4.8728577245464315,
              "y": 0
             },
             {
              "x": 1.167881174042025,
              "y": 0
             },
             {
              "x": 2.9021125438989137,
              "y": 0
             },
             {
              "x": -1.4193989276940906,
              "y": 0
             },
             {
              "x": 2.27808801887151,
              "y": 0
             },
             {
              "x": 1.2812509244427883,
              "y": 0
             },
             {
              "x": 0.00016496918049968556,
              "y": 0
             },
             {
              "x": 2.65169318476201,
              "y": 0
             },
             {
              "x": 4.0187450440720545,
              "y": 0
             },
             {
              "x": 1.0474158990150653,
              "y": 0
             },
             {
              "x": -1.3596295493145596,
              "y": 0
             },
             {
              "x": 0.42436832025625026,
              "y": 0
             },
             {
              "x": 0.8784362472138607,
              "y": 0
             },
             {
              "x": 0.34051099206567903,
              "y": 0
             },
             {
              "x": 3.2156548614059743,
              "y": 0
             },
             {
              "x": 3.9803301744834014,
              "y": 0
             },
             {
              "x": 1.2853106617678283,
              "y": 0
             },
             {
              "x": 2.026562077000961,
              "y": 0
             },
             {
              "x": 0.4610364927242774,
              "y": 0
             },
             {
              "x": -1.2355751630836758,
              "y": 0
             },
             {
              "x": 2.784805930855517,
              "y": 0
             },
             {
              "x": 3.7897922455594917,
              "y": 0
             },
             {
              "x": 6.1066159110528915,
              "y": 0
             },
             {
              "x": 0.3180663121947016,
              "y": 0
             },
             {
              "x": 3.6691498063965367,
              "y": 0
             },
             {
              "x": 0.8934584334344828,
              "y": 0
             },
             {
              "x": 3.92580984852297,
              "y": 0
             },
             {
              "x": 4.6860360926641444,
              "y": 0
             },
             {
              "x": 4.200482732775959,
              "y": 0
             },
             {
              "x": 7.706778060624478,
              "y": 0
             },
             {
              "x": -1.3907099997359453,
              "y": 0
             },
             {
              "x": 2.828648672320914,
              "y": 0
             },
             {
              "x": 2.4440583218662972,
              "y": 0
             },
             {
              "x": 2.8909139577570167,
              "y": 0
             },
             {
              "x": 3.3750568602575575,
              "y": 0
             },
             {
              "x": 0.6417303648706987,
              "y": 0
             },
             {
              "x": -1.0135571340632619,
              "y": 0
             },
             {
              "x": -0.5590067645804715,
              "y": 0
             },
             {
              "x": 2.402237187925652,
              "y": 0
             },
             {
              "x": 3.837225729794694,
              "y": 0
             },
             {
              "x": 4.0108172469122465,
              "y": 0
             },
             {
              "x": 0.524530381385031,
              "y": 0
             },
             {
              "x": 3.8478755124427932,
              "y": 0
             },
             {
              "x": -1.4297211842126627,
              "y": 0
             },
             {
              "x": 3.532245785676531,
              "y": 0
             },
             {
              "x": 3.0192269473047464,
              "y": 0
             },
             {
              "x": 3.736228821639426,
              "y": 0
             },
             {
              "x": 3.445651934365314,
              "y": 0
             },
             {
              "x": 1.3654232624186067,
              "y": 0
             },
             {
              "x": 2.7523264173148267,
              "y": 0
             },
             {
              "x": -1.7134090658991266,
              "y": 0
             },
             {
              "x": 2.256993376451378,
              "y": 0
             },
             {
              "x": 4.200811767681168,
              "y": 0
             },
             {
              "x": -1.2908273861873898,
              "y": 0
             },
             {
              "x": 3.958202123437546,
              "y": 0
             },
             {
              "x": -0.4015343093956414,
              "y": 0
             },
             {
              "x": 1.1569275474332477,
              "y": 0
             },
             {
              "x": 2.9227559369430556,
              "y": 0
             },
             {
              "x": 3.671337573449052,
              "y": 0
             },
             {
              "x": 2.9512818504371503,
              "y": 0
             },
             {
              "x": 1.435263402747954,
              "y": 0
             },
             {
              "x": 0.6786707319029568,
              "y": 0
             },
             {
              "x": 4.795193331380724,
              "y": 0
             },
             {
              "x": -0.3224218094382336,
              "y": 0
             },
             {
              "x": 1.1987470298780933,
              "y": 0
             },
             {
              "x": 2.738389808010069,
              "y": 0
             },
             {
              "x": 3.0295327956832705,
              "y": 0
             },
             {
              "x": 2.7539781403907972,
              "y": 0
             },
             {
              "x": 1.6410146560533456,
              "y": 0
             },
             {
              "x": 3.6399620974490254,
              "y": 0
             },
             {
              "x": 1.8352579411149499,
              "y": 0
             },
             {
              "x": 0.3819610140052978,
              "y": 0
             },
             {
              "x": 0.4603297412168055,
              "y": 0
             },
             {
              "x": 2.291836281621664,
              "y": 0
             },
             {
              "x": 2.2493775009798562,
              "y": 0
             },
             {
              "x": 1.1025429675782654,
              "y": 0
             },
             {
              "x": 1.350354437721884,
              "y": 0
             },
             {
              "x": 2.726316727366597,
              "y": 0
             },
             {
              "x": 3.4077332298002743,
              "y": 0
             },
             {
              "x": 6.300032839801595,
              "y": 0
             },
             {
              "x": -1.5566910424225,
              "y": 0
             },
             {
              "x": 1.5162121959394876,
              "y": 0
             },
             {
              "x": 3.0258847018637125,
              "y": 0
             },
             {
              "x": 3.9036026389064418,
              "y": 0
             },
             {
              "x": 3.504857048997807,
              "y": 0
             },
             {
              "x": 2.933555970455906,
              "y": 0
             },
             {
              "x": 3.9859697264701426,
              "y": 0
             },
             {
              "x": 3.1322061394560685,
              "y": 0
             },
             {
              "x": 2.174477616730395,
              "y": 0
             },
             {
              "x": 1.1975521508437974,
              "y": 0
             },
             {
              "x": 3.2442635035532783,
              "y": 0
             },
             {
              "x": 4.798905400057018,
              "y": 0
             },
             {
              "x": 0.19896042255404112,
              "y": 0
             },
             {
              "x": 2.740192458455099,
              "y": 0
             },
             {
              "x": 2.7475092685988587,
              "y": 0
             },
             {
              "x": 6.024842764303787,
              "y": 0
             },
             {
              "x": -2.7940894558759366,
              "y": 0
             },
             {
              "x": 4.521109227353685,
              "y": 0
             },
             {
              "x": 2.104000536255618,
              "y": 0
             },
             {
              "x": 4.109097204372775,
              "y": 0
             },
             {
              "x": 6.909848012701973,
              "y": 0
             },
             {
              "x": 2.445270569848773,
              "y": 0
             },
             {
              "x": 3.868600773144867,
              "y": 0
             },
             {
              "x": 5.046498628992644,
              "y": 0
             },
             {
              "x": 5.4579514559287325,
              "y": 0
             },
             {
              "x": 1.4351675554455146,
              "y": 0
             },
             {
              "x": 5.5532555580723795,
              "y": 0
             },
             {
              "x": 3.4824771626622364,
              "y": 0
             },
             {
              "x": 2.6603080792848965,
              "y": 0
             },
             {
              "x": 1.7225169509952418,
              "y": 0
             },
             {
              "x": 6.401247738633776,
              "y": 0
             },
             {
              "x": 0.36095829044504946,
              "y": 0
             }
            ]
           },
           "encoding": {
            "x": {
             "field": "x",
             "type": "quantitative"
            },
            "y": {
             "field": "y",
             "type": "quantitative"
            }
           },
           "mark": {
            "color": "darkblue",
            "opacity": 0.2,
            "size": 10,
            "type": "point"
           }
          },
          {
           "data": {
            "values": [
             {
              "x": 2.37337722079871,
              "y": 5.632919432206209
             },
             {
              "x": 2.9784554270049504,
              "y": 8.87119673065524
             },
             {
              "x": 4.235446201825997,
              "y": 17.93900452856227
             },
             {
              "x": 1.7371840621530217,
              "y": 3.0178084657984736
             },
             {
              "x": 4.286317394517771,
              "y": 18.37251680654561
             },
             {
              "x": 2.1068195116120925,
              "y": 4.438688454509416
             },
             {
              "x": 4.721218871515101,
              "y": 22.289907632750328
             },
             {
              "x": 2.2598473211951964,
              "y": 5.106909915113105
             },
             {
              "x": 6.250545856889687,
              "y": 39.06932350908083
             },
             {
              "x": 3.1432216991785284,
              "y": 9.879842650186756
             },
             {
              "x": 1.1574798049214892,
              "y": 1.3397594988010886
             },
             {
              "x": 2.5588753409120195,
              "y": 6.547843010327604
             },
             {
              "x": 5.592803838785921,
              "y": 31.27945477913853
             },
             {
              "x": 6.119340394658194,
              "y": 37.446326865695504
             },
             {
              "x": 2.5057853206435095,
              "y": 6.278960073152495
             },
             {
              "x": 2.0139465060049027,
              "y": 4.055980529049355
             },
             {
              "x": 0.6559481324696501,
              "y": 0.43026795249042166
             },
             {
              "x": 0.237247718619916,
              "y": 0.05628647999035484
             },
             {
              "x": 1.9480786381738562,
              "y": 3.7950103805093063
             },
             {
              "x": 2.933794070173715,
              "y": 8.607147646186453
             },
             {
              "x": 2.394712743843618,
              "y": 5.73464912552703
             },
             {
              "x": 1.4871419538742479,
              "y": 2.2115911909729156
             },
             {
              "x": 5.762919206108333,
              "y": 33.2112377761323
             },
             {
              "x": 3.1750126116949575,
              "y": 10.080705084422036
             },
             {
              "x": 0.05124440816508713,
              "y": 0.0026259893681900483
             },
             {
              "x": -0.046081954510100775,
              "y": 0.002123546531470997
             },
             {
              "x": 2.3811845509448415,
              "y": 5.670039865658387
             },
             {
              "x": 6.244946680628971,
              "y": 38.9993590438988
             },
             {
              "x": 8.178115107083503,
              "y": 66.88156670470741
             },
             {
              "x": 4.53098421694458,
              "y": 20.529817974200885
             },
             {
              "x": 6.654285572057219,
              "y": 44.27951647448887
             },
             {
              "x": 2.4619973291873847,
              "y": 6.0614308489258155
             },
             {
              "x": 5.268802373015124,
              "y": 27.7602784458898
             },
             {
              "x": 1.881249664334684,
              "y": 3.5391002995593617
             },
             {
              "x": -3.006281965515515,
              "y": 9.037731256183829
             },
             {
              "x": 1.6930390225640144,
              "y": 2.866381131924513
             },
             {
              "x": 4.542569809671283,
              "y": 20.634940475736997
             },
             {
              "x": 2.7853576817273393,
              "y": 7.758217415157498
             },
             {
              "x": 1.4171228104604505,
              "y": 2.008237059927326
             },
             {
              "x": 3.6719505262051078,
              "y": 13.483220666897967
             },
             {
              "x": 2.8438256465921468,
              "y": 8.087344308215242
             },
             {
              "x": 2.6429629782598756,
              "y": 6.9852533044523115
             },
             {
              "x": 1.3245749755797322,
              "y": 1.7544988659320482
             },
             {
              "x": 3.2083412793665893,
              "y": 10.293453764887643
             },
             {
              "x": 3.646358841932728,
              "y": 13.295932804140987
             },
             {
              "x": 5.17661394376422,
              "y": 26.797331922774152
             },
             {
              "x": 5.484984315382521,
              "y": 30.08505293999226
             },
             {
              "x": -0.646326968338629,
              "y": 0.41773855000180315
             },
             {
              "x": 4.952788828273748,
              "y": 24.530117177473247
             },
             {
              "x": 2.979244407786675,
              "y": 8.875897241328177
             },
             {
              "x": 5.773002941452775,
              "y": 33.3275629620224
             },
             {
              "x": 2.273292153365698,
              "y": 5.1678572145540524
             },
             {
              "x": 2.947565615255768,
              "y": 8.688143056238115
             },
             {
              "x": 1.738120888629315,
              "y": 3.0210642234895593
             },
             {
              "x": 1.8098414171530979,
              "y": 3.275525955242734
             },
             {
              "x": 2.886562658865613,
              "y": 8.332243983557316
             },
             {
              "x": 4.847604135203426,
              "y": 23.499265851641354
             },
             {
              "x": 0.1756364174888594,
              "y": 0.030848151148320912
             },
             {
              "x": 1.4790322134048437,
              "y": 2.1875362882892313
             },
             {
              "x": 3.1992811769835336,
              "y": 10.235400049401145
             },
             {
              "x": 3.660071665182058,
              "y": 13.396124594268564
             },
             {
              "x": 2.623835178593729,
              "y": 6.8845110444259845
             },
             {
              "x": 0.4710963116121918,
              "y": 0.22193173481461131
             },
             {
              "x": 4.729363749278208,
              "y": 22.366881472986826
             },
             {
              "x": 5.716681191277628,
              "y": 32.6804438427074
             },
             {
              "x": 0.1960528637770893,
              "y": 0.038436725395197935
             },
             {
              "x": 3.60025926463608,
              "y": 12.961866772597928
             },
             {
              "x": 1.9864840257593284,
              "y": 3.946118784596988
             },
             {
              "x": 1.8455814282974945,
              "y": 3.40617080847662
             },
             {
              "x": 1.6451783856889302,
              "y": 2.7066119207380344
             },
             {
              "x": 3.480618072621017,
              "y": 12.114702167456043
             },
             {
              "x": 3.67939378182192,
              "y": 13.53793860170981
             },
             {
              "x": 2.786351370712023,
              "y": 7.76375396106877
             },
             {
              "x": 2.561064072562988,
              "y": 6.559049183772919
             },
             {
              "x": 0.10199518493282023,
              "y": 0.010403017749480199
             },
             {
              "x": 0.5121022855258148,
              "y": 0.26224875084076316
             },
             {
              "x": 4.101310548795579,
              "y": 16.820748217661897
             },
             {
              "x": 0.19966737330499118,
              "y": 0.0398670599625147
             },
             {
              "x": 2.9047999449400352,
              "y": 8.437862720123631
             },
             {
              "x": 5.105028744207237,
              "y": 26.06131847918212
             },
             {
              "x": 2.5826386529924306,
              "y": 6.670022411930556
             },
             {
              "x": 1.8092062163131386,
              "y": 3.2732271331461034
             },
             {
              "x": 4.080462881510129,
              "y": 16.650177327381943
             },
             {
              "x": -0.879385319627795,
              "y": 0.7733185403768792
             },
             {
              "x": 3.8362650049693916,
              "y": 14.716929188352806
             },
             {
              "x": 3.145277370260584,
              "y": 9.892769735873335
             },
             {
              "x": 6.125516474542396,
              "y": 37.521952079890305
             },
             {
              "x": 1.9591623318381943,
              "y": 3.8383170424936712
             },
             {
              "x": 6.0032207778941995,
              "y": 36.038659708140635
             },
             {
              "x": 1.3419930079066689,
              "y": 1.8009452332703886
             },
             {
              "x": 6.344616876968555,
              "y": 40.25416331551422
             },
             {
              "x": 6.9870484381561875,
              "y": 48.81884587714082
             },
             {
              "x": 4.35625624670266,
              "y": 18.97696848693595
             },
             {
              "x": 3.814288475820484,
              "y": 14.54879657677695
             },
             {
              "x": 4.170792141706354,
              "y": 17.395507089319473
             },
             {
              "x": 0.014697495714829145,
              "y": 0.00021601638028742107
             },
             {
              "x": 2.2253311085180423,
              "y": 4.952098542538139
             },
             {
              "x": 3.297486986613833,
              "y": 10.873420426887577
             },
             {
              "x": 5.296342355589292,
              "y": 28.051242347609133
             },
             {
              "x": 1.5264681119449235,
              "y": 2.3301048967846993
             },
             {
              "x": 1.8298440637350382,
              "y": 3.3483292975863583
             },
             {
              "x": 5.7273315789663695,
              "y": 32.802327015425405
             },
             {
              "x": 3.4706059281837427,
              "y": 12.045105508744138
             },
             {
              "x": 0.6982395532924619,
              "y": 0.4875384737820567
             },
             {
              "x": 0.7993334126074676,
              "y": 0.6389339045107001
             },
             {
              "x": 3.576256707125599,
              "y": 12.78961203526083
             },
             {
              "x": 4.0014161433879,
              "y": 16.011331152565294
             },
             {
              "x": 3.5494471137429473,
              "y": 12.59857481325814
             },
             {
              "x": 4.533073670902369,
              "y": 20.54875690582828
             },
             {
              "x": 6.368428689039806,
              "y": 40.55688396738527
             },
             {
              "x": 4.223160272963442,
              "y": 17.835082691136655
             },
             {
              "x": 3.400676749015261,
              "y": 11.564602351293006
             },
             {
              "x": 1.668688221558817,
              "y": 2.7845203807691274
             },
             {
              "x": 1.095978377613091,
              "y": 1.2011686041954228
             },
             {
              "x": 3.779933714737611,
              "y": 14.287898887810076
             },
             {
              "x": 4.3128694822865175,
              "y": 18.600843171238374
             },
             {
              "x": 6.671587902307065,
              "y": 44.51008513820999
             },
             {
              "x": 3.0084589326257927,
              "y": 9.050825149295923
             },
             {
              "x": 1.0795304946235063,
              "y": 1.1653860888220722
             },
             {
              "x": 2.1779091043238186,
              "y": 4.743288066696578
             },
             {
              "x": 1.956789442754959,
              "y": 3.829024923277263
             },
             {
              "x": 1.5500764596023817,
              "y": 2.402737030613454
             },
             {
              "x": 1.5921122107380072,
              "y": 2.5348212915810646
             },
             {
              "x": 3.87708811608638,
              "y": 15.031812259898237
             },
             {
              "x": 2.1006336343646326,
              "y": 4.412661665823965
             },
             {
              "x": 0.823484679481876,
              "y": 0.678127017341368
             },
             {
              "x": 1.4687183734048184,
              "y": 2.1571336603768954
             },
             {
              "x": 2.4869369427529118,
              "y": 6.1848553572292
             },
             {
              "x": 3.4615284927121968,
              "y": 11.982179505858372
             },
             {
              "x": 3.2865173260970857,
              "y": 10.801196134736339
             },
             {
              "x": 1.0551058334117456,
              "y": 1.1132483196994942
             },
             {
              "x": 2.1163692260375293,
              "y": 4.479018700918691
             },
             {
              "x": -0.42290216863207597,
              "y": 0.17884624423371281
             },
             {
              "x": 3.038620814900092,
              "y": 9.2332164567441
             },
             {
              "x": 5.819922494622993,
              "y": 33.87149784341872
             },
             {
              "x": -0.16103460504808353,
              "y": 0.02593214402299225
             },
             {
              "x": -0.09066674751330961,
              "y": 0.008220459104642234
             },
             {
              "x": 7.577180348394015,
              "y": 57.41366203208845
             },
             {
              "x": 4.381901321375742,
              "y": 19.201059190274474
             },
             {
              "x": 1.9480478051012722,
              "y": 3.794890250959884
             },
             {
              "x": 2.7564669364488843,
              "y": 7.598109971735898
             },
             {
              "x": 0.8422522281147933,
              "y": 0.7093888157643338
             },
             {
              "x": 2.703161108895836,
              "y": 7.307079980646966
             },
             {
              "x": 0.6479070632333885,
              "y": 0.41978356258771415
             },
             {
              "x": 2.866175561088819,
              "y": 8.214962346982807
             },
             {
              "x": -2.423658822778183,
              "y": 5.874122089230528
             },
             {
              "x": 1.435141142032679,
              "y": 2.059630097554862
             },
             {
              "x": 4.47148813407113,
              "y": 19.994206133138917
             },
             {
              "x": 1.4870330458345504,
              "y": 2.2112672794039803
             },
             {
              "x": 1.4510514018430354,
              "y": 2.105550170790638
             },
             {
              "x": 3.564081207260699,
              "y": 12.702674851948883
             },
             {
              "x": 3.2523090965370045,
              "y": 10.577514459417346
             },
             {
              "x": 0.10512144260410938,
              "y": 0.011050517695169064
             },
             {
              "x": 2.7846769625548173,
              "y": 7.754425785783524
             },
             {
              "x": 3.020887548681272,
              "y": 9.125761581777544
             },
             {
              "x": 2.0357899038969323,
              "y": 4.144440532808681
             },
             {
              "x": 3.48606957452612,
              "y": 12.152681078436723
             },
             {
              "x": -0.09922218680067241,
              "y": 0.009845042353507529
             },
             {
              "x": 3.523805775204787,
              "y": 12.417207141366609
             },
             {
              "x": -0.1409292819483854,
              "y": 0.019861062510487502
             },
             {
              "x": 3.4289559113058754,
              "y": 11.757738641679506
             },
             {
              "x": 2.2469446747176063,
              "y": 5.048760371241809
             },
             {
              "x": 5.732034991806794,
              "y": 32.85622514729751
             },
             {
              "x": 2.9821118883493174,
              "y": 8.892991314634331
             },
             {
              "x": 6.244689252369791,
              "y": 38.996143858662776
             },
             {
              "x": 3.954312383876582,
              "y": 15.636586429279696
             },
             {
              "x": 3.425731306331835,
              "y": 11.73563498318202
             },
             {
              "x": 1.5814430044643697,
              "y": 2.5009619763692923
             },
             {
              "x": 6.351506353277974,
              "y": 40.34163295573046
             },
             {
              "x": 2.156001625392464,
              "y": 4.648343008694946
             },
             {
              "x": -1.3670438985428355,
              "y": 1.8688090205431942
             },
             {
              "x": 0.1481213296901993,
              "y": 0.02193992830919272
             },
             {
              "x": 4.737196432505138,
              "y": 22.44103004013941
             },
             {
              "x": 1.1279313789654974,
              "y": 1.2722291956550087
             },
             {
              "x": 6.4482448436150825,
              "y": 41.5798615632085
             },
             {
              "x": 6.9994933468348774,
              "y": 48.992907112385716
             },
             {
              "x": 2.1461831454988927,
              "y": 4.606102094023521
             },
             {
              "x": 4.226748651478719,
              "y": 17.865404162777168
             },
             {
              "x": -0.4384678828359725,
              "y": 0.1922540842786601
             },
             {
              "x": 5.277814153629656,
              "y": 27.85532224025352
             },
             {
              "x": 3.343791803648981,
              "y": 11.180943626150107
             },
             {
              "x": 2.616881747462988,
              "y": 6.848070080204943
             },
             {
              "x": 1.3481661646401866,
              "y": 1.8175520074806306
             },
             {
              "x": 4.8533026774901495,
              "y": 23.554546879333053
             },
             {
              "x": 2.3145573326282913,
              "y": 5.357175646023391
             },
             {
              "x": 3.8826703145730534,
              "y": 15.075128771666813
             },
             {
              "x": -0.3186995035880167,
              "y": 0.10156937358724825
             },
             {
              "x": 5.720742390376161,
              "y": 32.72689349704675
             },
             {
              "x": 4.8728577245464315,
              "y": 23.744742403671825
             },
             {
              "x": 1.167881174042025,
              "y": 1.3639464366817786
             },
             {
              "x": 2.9021125438989137,
              "y": 8.422257217455424
             },
             {
              "x": -1.4193989276940906,
              "y": 2.0146933159391343
             },
             {
              "x": 2.27808801887151,
              "y": 5.189685021725921
             },
             {
              "x": 1.2812509244427883,
              "y": 1.6416039313854998
             },
             {
              "x": 0.00016496918049968556,
              "y": 2.7214830514737837e-08
             },
             {
              "x": 2.65169318476201,
              "y": 7.031476746113292
             },
             {
              "x": 4.0187450440720545,
              "y": 16.150311729253698
             },
             {
              "x": 1.0474158990150653,
              "y": 1.0970800655095374
             },
             {
              "x": -1.3596295493145596,
              "y": 1.8485925113693125
             },
             {
              "x": 0.42436832025625026,
              "y": 0.18008847123711139
             },
             {
              "x": 0.8784362472138607,
              "y": 0.771650240419171
             },
             {
              "x": 0.34051099206567903,
              "y": 0.11594773571755293
             },
             {
              "x": 3.2156548614059743,
              "y": 10.340436187683876
             },
             {
              "x": 3.9803301744834014,
              "y": 15.843028297903064
             },
             {
              "x": 1.2853106617678283,
              "y": 1.6520234972540526
             },
             {
              "x": 2.026562077000961,
              "y": 4.1069538519384485
             },
             {
              "x": 0.4610364927242774,
              "y": 0.21255464762350268
             },
             {
              "x": -1.2355751630836758,
              "y": 1.5266459836292519
             },
             {
              "x": 2.784805930855517,
              "y": 7.755144072528063
             },
             {
              "x": 3.7897922455594917,
              "y": 14.362525264502855
             },
             {
              "x": 6.1066159110528915,
              "y": 37.290757885124336
             },
             {
              "x": 0.3180663121947016,
              "y": 0.10116617895313738
             },
             {
              "x": 3.6691498063965367,
              "y": 13.462660301779742
             },
             {
              "x": 0.8934584334344828,
              "y": 0.7982679722752002
             },
             {
              "x": 3.92580984852297,
              "y": 15.411982966759947
             },
             {
              "x": 4.6860360926641444,
              "y": 21.958934261751043
             },
             {
              "x": 4.200482732775959,
              "y": 17.64405518834899
             },
             {
              "x": 7.706778060624478,
              "y": 59.394428075722786
             },
             {
              "x": -1.3907099997359453,
              "y": 1.934074303365553
             },
             {
              "x": 2.828648672320914,
              "y": 8.001253311422868
             },
             {
              "x": 2.4440583218662972,
              "y": 5.9734210806839005
             },
             {
              "x": 2.8909139577570167,
              "y": 8.357383511154337
             },
             {
              "x": 3.3750568602575575,
              "y": 11.391008809971602
             },
             {
              "x": 0.6417303648706987,
              "y": 0.4118178611970801
             },
             {
              "x": -1.0135571340632619,
              "y": 1.027298064010533
             },
             {
              "x": -0.5590067645804715,
              "y": 0.31248856284672666
             },
             {
              "x": 2.402237187925652,
              "y": 5.770743507052944
             },
             {
              "x": 3.837225729794694,
              "y": 14.724301301398423
             },
             {
              "x": 4.0108172469122465,
              "y": 16.086654988128732
             },
             {
              "x": 0.524530381385031,
              "y": 0.27513212099592615
             },
             {
              "x": 3.8478755124427932,
              "y": 14.806145959256888
             },
             {
              "x": -1.4297211842126627,
              "y": 2.0441026645864584
             },
             {
              "x": 3.532245785676531,
              "y": 12.476760290429613
             },
             {
              "x": 3.0192269473047464,
              "y": 9.115731359331138
             },
             {
              "x": 3.736228821639426,
              "y": 13.959405807649134
             },
             {
              "x": 3.445651934365314,
              "y": 11.87251725279543
             },
             {
              "x": 1.3654232624186067,
              "y": 1.8643806855538712
             },
             {
              "x": 2.7523264173148267,
              "y": 7.5753007074490695
             },
             {
              "x": -1.7134090658991266,
              "y": 2.935770627105317
             },
             {
              "x": 2.256993376451378,
              "y": 5.094019101345392
             },
             {
              "x": 4.200811767681168,
              "y": 17.64681950748858
             },
             {
              "x": -1.2908273861873898,
              "y": 1.6662353409313688
             },
             {
              "x": 3.958202123437546,
              "y": 15.667364049985498
             },
             {
              "x": -0.4015343093956414,
              "y": 0.16122980162183467
             },
             {
              "x": 1.1569275474332477,
              "y": 1.3384813500099095
             },
             {
              "x": 2.9227559369430556,
              "y": 8.542502266935879
             },
             {
              "x": 3.671337573449052,
              "y": 13.478719578218774
             },
             {
              "x": 2.9512818504371503,
              "y": 8.71006456071973
             },
             {
              "x": 1.435263402747954,
              "y": 2.059981035267636
             },
             {
              "x": 0.6786707319029568,
              "y": 0.46059396234169503
             },
             {
              "x": 4.795193331380724,
              "y": 22.993879085318166
             },
             {
              "x": -0.3224218094382336,
              "y": 0.10395582320142463
             },
             {
              "x": 1.1987470298780933,
              "y": 1.4369944416415503
             },
             {
              "x": 2.738389808010069,
              "y": 7.498778740613422
             },
             {
              "x": 3.0295327956832705,
              "y": 9.178068960120493
             },
             {
              "x": 2.7539781403907972,
              "y": 7.584395597750354
             },
             {
              "x": 1.6410146560533456,
              "y": 2.69292910138188
             },
             {
              "x": 3.6399620974490254,
              "y": 13.249324070865509
             },
             {
              "x": 1.8352579411149499,
              "y": 3.368171710425485
             },
             {
              "x": 0.3819610140052978,
              "y": 0.1458942162199553
             },
             {
              "x": 0.4603297412168055,
              "y": 0.2119034706487311
             },
             {
              "x": 2.291836281621664,
              "y": 5.252513541757416
             },
             {
              "x": 2.2493775009798562,
              "y": 5.0596991419143835
             },
             {
              "x": 1.1025429675782654,
              "y": 1.215600995356288
             },
             {
              "x": 1.350354437721884,
              "y": 1.8234571074751853
             },
             {
              "x": 2.726316727366597,
              "y": 7.432802897918911
             },
             {
              "x": 3.4077332298002743,
              "y": 11.61264576548501
             },
             {
              "x": 6.300032839801595,
              "y": 39.69041378257855
             },
             {
              "x": -1.5566910424225,
              "y": 2.4232870015584496
             },
             {
              "x": 1.5162121959394876,
              "y": 2.2988994231156434
             },
             {
              "x": 3.0258847018637125,
              "y": 9.155978228972849
             },
             {
              "x": 3.9036026389064418,
              "y": 15.238113562477336
             },
             {
              "x": 3.504857048997807,
              "y": 12.284022933909617
             },
             {
              "x": 2.933555970455906,
              "y": 8.605750631797493
             },
             {
              "x": 3.9859697264701426,
              "y": 15.887954660336463
             },
             {
              "x": 3.1322061394560685,
              "y": 9.810715300046288
             },
             {
              "x": 2.174477616730395,
              "y": 4.7283529056615
             },
             {
              "x": 1.1975521508437974,
              "y": 1.4341311539906052
             },
             {
              "x": 3.2442635035532783,
              "y": 10.525245680487792
             },
             {
              "x": 4.798905400057018,
              "y": 23.02949303869641
             },
             {
              "x": 0.19896042255404112,
              "y": 0.03958524974288259
             },
             {
              "x": 2.740192458455099,
              "y": 7.5086547093742
             },
             {
              "x": 2.7475092685988587,
              "y": 7.5488071810366355
             },
             {
              "x": 6.024842764303787,
              "y": 36.298730334583695
             },
             {
              "x": -2.7940894558759366,
              "y": 7.8069358874370876
             },
             {
              "x": 4.521109227353685,
              "y": 20.440428645662635
             },
             {
              "x": 2.104000536255618,
              "y": 4.426818256563927
             },
             {
              "x": 4.109097204372775,
              "y": 16.884679834984155
             },
             {
              "x": 6.909848012701973,
              "y": 47.74599955864141
             },
             {
              "x": 2.445270569848773,
              "y": 5.979348159768542
             },
             {
              "x": 3.868600773144867,
              "y": 14.966071941977063
             },
             {
              "x": 5.046498628992644,
              "y": 25.46714841242464
             },
             {
              "x": 5.4579514559287325,
              "y": 29.789234095274573
             },
             {
              "x": 1.4351675554455146,
              "y": 2.0597059122034542
             },
             {
              "x": 5.5532555580723795,
              "y": 30.838647293261776
             },
             {
              "x": 3.4824771626622364,
              "y": 12.127647188464021
             },
             {
              "x": 2.6603080792848965,
              "y": 7.077239076708495
             },
             {
              "x": 1.7225169509952418,
              "y": 2.9670646464659445
             },
             {
              "x": 6.401247738633776,
              "y": 40.97597261136403
             },
             {
              "x": 0.36095829044504946,
              "y": 0.1302908874410127
             }
            ]
           },
           "encoding": {
            "x": {
             "field": "x",
             "type": "quantitative"
            },
            "y": {
             "field": "y",
             "type": "quantitative"
            }
           },
           "mark": {
            "color": "firebrick",
            "opacity": 0.2,
            "size": 10,
            "type": "point"
           }
          }
         ]
        }
       ]
      },
      "image/png": "[encoded data removed]",
      "text/plain": [
       "<VegaLite 2 object>\n",
       "\n",
       "If you see this message, it means the renderer has not been properly enabled\n",
       "for the frontend that you are using. For more information, see\n",
       "https://altair-viz.github.io/user_guide/troubleshooting.html\n"
      ]
     },
     "execution_count": 33,
     "metadata": {},
     "output_type": "execute_result"
    }
   ],
   "source": [
    "x2_points = make_scatter_chart(size=10, opacity=.2, X=s, Y=[i ** 2 for i in s], color=\"firebrick\")\n",
    "\n",
    "guide_lines = make_guide_lines(s)\n",
    "\n",
    "functools.reduce(lambda a,b : a+b,guide_lines + [x_points  + x2_points])"
   ]
  },
  {
   "cell_type": "markdown",
   "metadata": {},
   "source": [
    "Because each $x$ has equal probability, if we simple average the y-coordinates of the black dots, we get the expected value of $X^2$. That is, we get $\\mathbb{E}[X^2]$. We show this as a big dot on the chart. \n",
    "\n",
    "We can also plot the expected value of each $x_i$, which is equal to $\\mathbb{E}[X]$. We show this as a big blue dot."
   ]
  },
  {
   "cell_type": "code",
   "execution_count": 38,
   "metadata": {},
   "outputs": [
    {
     "data": {
      "application/vnd.vegalite.v2+json": {
       "$schema": "https://vega.github.io/schema/vega-lite/v2.6.0.json",
       "config": {
        "view": {
         "height": 300,
         "width": 400
        }
       },
       "layer": [
        {
         "data": {
          "values": [
           {
            "label": "E[X]",
            "x": 2.694124177665974,
            "y": 0
           }
          ]
         },
         "encoding": {
          "x": {
           "field": "x",
           "type": "quantitative"
          },
          "y": {
           "field": "y",
           "type": "quantitative"
          }
         },
         "mark": {
          "color": "blue",
          "filled": true,
          "opacity": 0.9,
          "size": 200,
          "type": "point"
         }
        },
        {
         "data": {
          "values": [
           {
            "label": "E[X]",
            "x": 2.694124177665974,
            "y": 0
           }
          ]
         },
         "encoding": {
          "text": {
           "field": "label",
           "type": "nominal"
          },
          "x": {
           "field": "x",
           "type": "quantitative"
          },
          "y": {
           "field": "y",
           "type": "quantitative"
          }
         },
         "mark": {
          "align": "left",
          "baseline": "bottom",
          "dx": 16,
          "type": "text",
          "xOffset": -20,
          "yOffset": -4
         }
        },
        {
         "data": {
          "values": [
           {
            "label": "E[X^2]",
            "x": 2.694124177665974,
            "y": 11.3800198248218
           }
          ]
         },
         "encoding": {
          "x": {
           "field": "x",
           "type": "quantitative"
          },
          "y": {
           "field": "y",
           "type": "quantitative"
          }
         },
         "mark": {
          "color": "firebrick",
          "filled": true,
          "opacity": 0.9,
          "size": 200,
          "type": "point"
         }
        },
        {
         "data": {
          "values": [
           {
            "label": "E[X^2]",
            "x": 2.694124177665974,
            "y": 11.3800198248218
           }
          ]
         },
         "encoding": {
          "text": {
           "field": "label",
           "type": "nominal"
          },
          "x": {
           "field": "x",
           "type": "quantitative"
          },
          "y": {
           "field": "y",
           "type": "quantitative"
          }
         },
         "mark": {
          "align": "left",
          "baseline": "bottom",
          "dx": 16,
          "type": "text",
          "xOffset": -20,
          "yOffset": -4
         }
        },
        {
         "data": {
          "values": [
           {
            "x": 2.37337722079871,
            "y": 5.632919432206209
           },
           {
            "x": 2.9784554270049504,
            "y": 8.87119673065524
           },
           {
            "x": 4.235446201825997,
            "y": 17.93900452856227
           },
           {
            "x": 1.7371840621530217,
            "y": 3.0178084657984736
           },
           {
            "x": 4.286317394517771,
            "y": 18.37251680654561
           },
           {
            "x": 2.1068195116120925,
            "y": 4.438688454509416
           },
           {
            "x": 4.721218871515101,
            "y": 22.289907632750328
           },
           {
            "x": 2.2598473211951964,
            "y": 5.106909915113105
           },
           {
            "x": 6.250545856889687,
            "y": 39.06932350908083
           },
           {
            "x": 3.1432216991785284,
            "y": 9.879842650186756
           },
           {
            "x": 1.1574798049214892,
            "y": 1.3397594988010886
           },
           {
            "x": 2.5588753409120195,
            "y": 6.547843010327604
           },
           {
            "x": 5.592803838785921,
            "y": 31.27945477913853
           },
           {
            "x": 6.119340394658194,
            "y": 37.446326865695504
           },
           {
            "x": 2.5057853206435095,
            "y": 6.278960073152495
           },
           {
            "x": 2.0139465060049027,
            "y": 4.055980529049355
           },
           {
            "x": 0.6559481324696501,
            "y": 0.43026795249042166
           },
           {
            "x": 0.237247718619916,
            "y": 0.05628647999035484
           },
           {
            "x": 1.9480786381738562,
            "y": 3.7950103805093063
           },
           {
            "x": 2.933794070173715,
            "y": 8.607147646186453
           },
           {
            "x": 2.394712743843618,
            "y": 5.73464912552703
           },
           {
            "x": 1.4871419538742479,
            "y": 2.2115911909729156
           },
           {
            "x": 5.762919206108333,
            "y": 33.2112377761323
           },
           {
            "x": 3.1750126116949575,
            "y": 10.080705084422036
           },
           {
            "x": 0.05124440816508713,
            "y": 0.0026259893681900483
           },
           {
            "x": -0.046081954510100775,
            "y": 0.002123546531470997
           },
           {
            "x": 2.3811845509448415,
            "y": 5.670039865658387
           },
           {
            "x": 6.244946680628971,
            "y": 38.9993590438988
           },
           {
            "x": 8.178115107083503,
            "y": 66.88156670470741
           },
           {
            "x": 4.53098421694458,
            "y": 20.529817974200885
           },
           {
            "x": 6.654285572057219,
            "y": 44.27951647448887
           },
           {
            "x": 2.4619973291873847,
            "y": 6.0614308489258155
           },
           {
            "x": 5.268802373015124,
            "y": 27.7602784458898
           },
           {
            "x": 1.881249664334684,
            "y": 3.5391002995593617
           },
           {
            "x": -3.006281965515515,
            "y": 9.037731256183829
           },
           {
            "x": 1.6930390225640144,
            "y": 2.866381131924513
           },
           {
            "x": 4.542569809671283,
            "y": 20.634940475736997
           },
           {
            "x": 2.7853576817273393,
            "y": 7.758217415157498
           },
           {
            "x": 1.4171228104604505,
            "y": 2.008237059927326
           },
           {
            "x": 3.6719505262051078,
            "y": 13.483220666897967
           },
           {
            "x": 2.8438256465921468,
            "y": 8.087344308215242
           },
           {
            "x": 2.6429629782598756,
            "y": 6.9852533044523115
           },
           {
            "x": 1.3245749755797322,
            "y": 1.7544988659320482
           },
           {
            "x": 3.2083412793665893,
            "y": 10.293453764887643
           },
           {
            "x": 3.646358841932728,
            "y": 13.295932804140987
           },
           {
            "x": 5.17661394376422,
            "y": 26.797331922774152
           },
           {
            "x": 5.484984315382521,
            "y": 30.08505293999226
           },
           {
            "x": -0.646326968338629,
            "y": 0.41773855000180315
           },
           {
            "x": 4.952788828273748,
            "y": 24.530117177473247
           },
           {
            "x": 2.979244407786675,
            "y": 8.875897241328177
           },
           {
            "x": 5.773002941452775,
            "y": 33.3275629620224
           },
           {
            "x": 2.273292153365698,
            "y": 5.1678572145540524
           },
           {
            "x": 2.947565615255768,
            "y": 8.688143056238115
           },
           {
            "x": 1.738120888629315,
            "y": 3.0210642234895593
           },
           {
            "x": 1.8098414171530979,
            "y": 3.275525955242734
           },
           {
            "x": 2.886562658865613,
            "y": 8.332243983557316
           },
           {
            "x": 4.847604135203426,
            "y": 23.499265851641354
           },
           {
            "x": 0.1756364174888594,
            "y": 0.030848151148320912
           },
           {
            "x": 1.4790322134048437,
            "y": 2.1875362882892313
           },
           {
            "x": 3.1992811769835336,
            "y": 10.235400049401145
           },
           {
            "x": 3.660071665182058,
            "y": 13.396124594268564
           },
           {
            "x": 2.623835178593729,
            "y": 6.8845110444259845
           },
           {
            "x": 0.4710963116121918,
            "y": 0.22193173481461131
           },
           {
            "x": 4.729363749278208,
            "y": 22.366881472986826
           },
           {
            "x": 5.716681191277628,
            "y": 32.6804438427074
           },
           {
            "x": 0.1960528637770893,
            "y": 0.038436725395197935
           },
           {
            "x": 3.60025926463608,
            "y": 12.961866772597928
           },
           {
            "x": 1.9864840257593284,
            "y": 3.946118784596988
           },
           {
            "x": 1.8455814282974945,
            "y": 3.40617080847662
           },
           {
            "x": 1.6451783856889302,
            "y": 2.7066119207380344
           },
           {
            "x": 3.480618072621017,
            "y": 12.114702167456043
           },
           {
            "x": 3.67939378182192,
            "y": 13.53793860170981
           },
           {
            "x": 2.786351370712023,
            "y": 7.76375396106877
           },
           {
            "x": 2.561064072562988,
            "y": 6.559049183772919
           },
           {
            "x": 0.10199518493282023,
            "y": 0.010403017749480199
           },
           {
            "x": 0.5121022855258148,
            "y": 0.26224875084076316
           },
           {
            "x": 4.101310548795579,
            "y": 16.820748217661897
           },
           {
            "x": 0.19966737330499118,
            "y": 0.0398670599625147
           },
           {
            "x": 2.9047999449400352,
            "y": 8.437862720123631
           },
           {
            "x": 5.105028744207237,
            "y": 26.06131847918212
           },
           {
            "x": 2.5826386529924306,
            "y": 6.670022411930556
           },
           {
            "x": 1.8092062163131386,
            "y": 3.2732271331461034
           },
           {
            "x": 4.080462881510129,
            "y": 16.650177327381943
           },
           {
            "x": -0.879385319627795,
            "y": 0.7733185403768792
           },
           {
            "x": 3.8362650049693916,
            "y": 14.716929188352806
           },
           {
            "x": 3.145277370260584,
            "y": 9.892769735873335
           },
           {
            "x": 6.125516474542396,
            "y": 37.521952079890305
           },
           {
            "x": 1.9591623318381943,
            "y": 3.8383170424936712
           },
           {
            "x": 6.0032207778941995,
            "y": 36.038659708140635
           },
           {
            "x": 1.3419930079066689,
            "y": 1.8009452332703886
           },
           {
            "x": 6.344616876968555,
            "y": 40.25416331551422
           },
           {
            "x": 6.9870484381561875,
            "y": 48.81884587714082
           },
           {
            "x": 4.35625624670266,
            "y": 18.97696848693595
           },
           {
            "x": 3.814288475820484,
            "y": 14.54879657677695
           },
           {
            "x": 4.170792141706354,
            "y": 17.395507089319473
           },
           {
            "x": 0.014697495714829145,
            "y": 0.00021601638028742107
           },
           {
            "x": 2.2253311085180423,
            "y": 4.952098542538139
           },
           {
            "x": 3.297486986613833,
            "y": 10.873420426887577
           },
           {
            "x": 5.296342355589292,
            "y": 28.051242347609133
           },
           {
            "x": 1.5264681119449235,
            "y": 2.3301048967846993
           },
           {
            "x": 1.8298440637350382,
            "y": 3.3483292975863583
           },
           {
            "x": 5.7273315789663695,
            "y": 32.802327015425405
           },
           {
            "x": 3.4706059281837427,
            "y": 12.045105508744138
           },
           {
            "x": 0.6982395532924619,
            "y": 0.4875384737820567
           },
           {
            "x": 0.7993334126074676,
            "y": 0.6389339045107001
           },
           {
            "x": 3.576256707125599,
            "y": 12.78961203526083
           },
           {
            "x": 4.0014161433879,
            "y": 16.011331152565294
           },
           {
            "x": 3.5494471137429473,
            "y": 12.59857481325814
           },
           {
            "x": 4.533073670902369,
            "y": 20.54875690582828
           },
           {
            "x": 6.368428689039806,
            "y": 40.55688396738527
           },
           {
            "x": 4.223160272963442,
            "y": 17.835082691136655
           },
           {
            "x": 3.400676749015261,
            "y": 11.564602351293006
           },
           {
            "x": 1.668688221558817,
            "y": 2.7845203807691274
           },
           {
            "x": 1.095978377613091,
            "y": 1.2011686041954228
           },
           {
            "x": 3.779933714737611,
            "y": 14.287898887810076
           },
           {
            "x": 4.3128694822865175,
            "y": 18.600843171238374
           },
           {
            "x": 6.671587902307065,
            "y": 44.51008513820999
           },
           {
            "x": 3.0084589326257927,
            "y": 9.050825149295923
           },
           {
            "x": 1.0795304946235063,
            "y": 1.1653860888220722
           },
           {
            "x": 2.1779091043238186,
            "y": 4.743288066696578
           },
           {
            "x": 1.956789442754959,
            "y": 3.829024923277263
           },
           {
            "x": 1.5500764596023817,
            "y": 2.402737030613454
           },
           {
            "x": 1.5921122107380072,
            "y": 2.5348212915810646
           },
           {
            "x": 3.87708811608638,
            "y": 15.031812259898237
           },
           {
            "x": 2.1006336343646326,
            "y": 4.412661665823965
           },
           {
            "x": 0.823484679481876,
            "y": 0.678127017341368
           },
           {
            "x": 1.4687183734048184,
            "y": 2.1571336603768954
           },
           {
            "x": 2.4869369427529118,
            "y": 6.1848553572292
           },
           {
            "x": 3.4615284927121968,
            "y": 11.982179505858372
           },
           {
            "x": 3.2865173260970857,
            "y": 10.801196134736339
           },
           {
            "x": 1.0551058334117456,
            "y": 1.1132483196994942
           },
           {
            "x": 2.1163692260375293,
            "y": 4.479018700918691
           },
           {
            "x": -0.42290216863207597,
            "y": 0.17884624423371281
           },
           {
            "x": 3.038620814900092,
            "y": 9.2332164567441
           },
           {
            "x": 5.819922494622993,
            "y": 33.87149784341872
           },
           {
            "x": -0.16103460504808353,
            "y": 0.02593214402299225
           },
           {
            "x": -0.09066674751330961,
            "y": 0.008220459104642234
           },
           {
            "x": 7.577180348394015,
            "y": 57.41366203208845
           },
           {
            "x": 4.381901321375742,
            "y": 19.201059190274474
           },
           {
            "x": 1.9480478051012722,
            "y": 3.794890250959884
           },
           {
            "x": 2.7564669364488843,
            "y": 7.598109971735898
           },
           {
            "x": 0.8422522281147933,
            "y": 0.7093888157643338
           },
           {
            "x": 2.703161108895836,
            "y": 7.307079980646966
           },
           {
            "x": 0.6479070632333885,
            "y": 0.41978356258771415
           },
           {
            "x": 2.866175561088819,
            "y": 8.214962346982807
           },
           {
            "x": -2.423658822778183,
            "y": 5.874122089230528
           },
           {
            "x": 1.435141142032679,
            "y": 2.059630097554862
           },
           {
            "x": 4.47148813407113,
            "y": 19.994206133138917
           },
           {
            "x": 1.4870330458345504,
            "y": 2.2112672794039803
           },
           {
            "x": 1.4510514018430354,
            "y": 2.105550170790638
           },
           {
            "x": 3.564081207260699,
            "y": 12.702674851948883
           },
           {
            "x": 3.2523090965370045,
            "y": 10.577514459417346
           },
           {
            "x": 0.10512144260410938,
            "y": 0.011050517695169064
           },
           {
            "x": 2.7846769625548173,
            "y": 7.754425785783524
           },
           {
            "x": 3.020887548681272,
            "y": 9.125761581777544
           },
           {
            "x": 2.0357899038969323,
            "y": 4.144440532808681
           },
           {
            "x": 3.48606957452612,
            "y": 12.152681078436723
           },
           {
            "x": -0.09922218680067241,
            "y": 0.009845042353507529
           },
           {
            "x": 3.523805775204787,
            "y": 12.417207141366609
           },
           {
            "x": -0.1409292819483854,
            "y": 0.019861062510487502
           },
           {
            "x": 3.4289559113058754,
            "y": 11.757738641679506
           },
           {
            "x": 2.2469446747176063,
            "y": 5.048760371241809
           },
           {
            "x": 5.732034991806794,
            "y": 32.85622514729751
           },
           {
            "x": 2.9821118883493174,
            "y": 8.892991314634331
           },
           {
            "x": 6.244689252369791,
            "y": 38.996143858662776
           },
           {
            "x": 3.954312383876582,
            "y": 15.636586429279696
           },
           {
            "x": 3.425731306331835,
            "y": 11.73563498318202
           },
           {
            "x": 1.5814430044643697,
            "y": 2.5009619763692923
           },
           {
            "x": 6.351506353277974,
            "y": 40.34163295573046
           },
           {
            "x": 2.156001625392464,
            "y": 4.648343008694946
           },
           {
            "x": -1.3670438985428355,
            "y": 1.8688090205431942
           },
           {
            "x": 0.1481213296901993,
            "y": 0.02193992830919272
           },
           {
            "x": 4.737196432505138,
            "y": 22.44103004013941
           },
           {
            "x": 1.1279313789654974,
            "y": 1.2722291956550087
           },
           {
            "x": 6.4482448436150825,
            "y": 41.5798615632085
           },
           {
            "x": 6.9994933468348774,
            "y": 48.992907112385716
           },
           {
            "x": 2.1461831454988927,
            "y": 4.606102094023521
           },
           {
            "x": 4.226748651478719,
            "y": 17.865404162777168
           },
           {
            "x": -0.4384678828359725,
            "y": 0.1922540842786601
           },
           {
            "x": 5.277814153629656,
            "y": 27.85532224025352
           },
           {
            "x": 3.343791803648981,
            "y": 11.180943626150107
           },
           {
            "x": 2.616881747462988,
            "y": 6.848070080204943
           },
           {
            "x": 1.3481661646401866,
            "y": 1.8175520074806306
           },
           {
            "x": 4.8533026774901495,
            "y": 23.554546879333053
           },
           {
            "x": 2.3145573326282913,
            "y": 5.357175646023391
           },
           {
            "x": 3.8826703145730534,
            "y": 15.075128771666813
           },
           {
            "x": -0.3186995035880167,
            "y": 0.10156937358724825
           },
           {
            "x": 5.720742390376161,
            "y": 32.72689349704675
           },
           {
            "x": 4.8728577245464315,
            "y": 23.744742403671825
           },
           {
            "x": 1.167881174042025,
            "y": 1.3639464366817786
           },
           {
            "x": 2.9021125438989137,
            "y": 8.422257217455424
           },
           {
            "x": -1.4193989276940906,
            "y": 2.0146933159391343
           },
           {
            "x": 2.27808801887151,
            "y": 5.189685021725921
           },
           {
            "x": 1.2812509244427883,
            "y": 1.6416039313854998
           },
           {
            "x": 0.00016496918049968556,
            "y": 2.7214830514737837e-08
           },
           {
            "x": 2.65169318476201,
            "y": 7.031476746113292
           },
           {
            "x": 4.0187450440720545,
            "y": 16.150311729253698
           },
           {
            "x": 1.0474158990150653,
            "y": 1.0970800655095374
           },
           {
            "x": -1.3596295493145596,
            "y": 1.8485925113693125
           },
           {
            "x": 0.42436832025625026,
            "y": 0.18008847123711139
           },
           {
            "x": 0.8784362472138607,
            "y": 0.771650240419171
           },
           {
            "x": 0.34051099206567903,
            "y": 0.11594773571755293
           },
           {
            "x": 3.2156548614059743,
            "y": 10.340436187683876
           },
           {
            "x": 3.9803301744834014,
            "y": 15.843028297903064
           },
           {
            "x": 1.2853106617678283,
            "y": 1.6520234972540526
           },
           {
            "x": 2.026562077000961,
            "y": 4.1069538519384485
           },
           {
            "x": 0.4610364927242774,
            "y": 0.21255464762350268
           },
           {
            "x": -1.2355751630836758,
            "y": 1.5266459836292519
           },
           {
            "x": 2.784805930855517,
            "y": 7.755144072528063
           },
           {
            "x": 3.7897922455594917,
            "y": 14.362525264502855
           },
           {
            "x": 6.1066159110528915,
            "y": 37.290757885124336
           },
           {
            "x": 0.3180663121947016,
            "y": 0.10116617895313738
           },
           {
            "x": 3.6691498063965367,
            "y": 13.462660301779742
           },
           {
            "x": 0.8934584334344828,
            "y": 0.7982679722752002
           },
           {
            "x": 3.92580984852297,
            "y": 15.411982966759947
           },
           {
            "x": 4.6860360926641444,
            "y": 21.958934261751043
           },
           {
            "x": 4.200482732775959,
            "y": 17.64405518834899
           },
           {
            "x": 7.706778060624478,
            "y": 59.394428075722786
           },
           {
            "x": -1.3907099997359453,
            "y": 1.934074303365553
           },
           {
            "x": 2.828648672320914,
            "y": 8.001253311422868
           },
           {
            "x": 2.4440583218662972,
            "y": 5.9734210806839005
           },
           {
            "x": 2.8909139577570167,
            "y": 8.357383511154337
           },
           {
            "x": 3.3750568602575575,
            "y": 11.391008809971602
           },
           {
            "x": 0.6417303648706987,
            "y": 0.4118178611970801
           },
           {
            "x": -1.0135571340632619,
            "y": 1.027298064010533
           },
           {
            "x": -0.5590067645804715,
            "y": 0.31248856284672666
           },
           {
            "x": 2.402237187925652,
            "y": 5.770743507052944
           },
           {
            "x": 3.837225729794694,
            "y": 14.724301301398423
           },
           {
            "x": 4.0108172469122465,
            "y": 16.086654988128732
           },
           {
            "x": 0.524530381385031,
            "y": 0.27513212099592615
           },
           {
            "x": 3.8478755124427932,
            "y": 14.806145959256888
           },
           {
            "x": -1.4297211842126627,
            "y": 2.0441026645864584
           },
           {
            "x": 3.532245785676531,
            "y": 12.476760290429613
           },
           {
            "x": 3.0192269473047464,
            "y": 9.115731359331138
           },
           {
            "x": 3.736228821639426,
            "y": 13.959405807649134
           },
           {
            "x": 3.445651934365314,
            "y": 11.87251725279543
           },
           {
            "x": 1.3654232624186067,
            "y": 1.8643806855538712
           },
           {
            "x": 2.7523264173148267,
            "y": 7.5753007074490695
           },
           {
            "x": -1.7134090658991266,
            "y": 2.935770627105317
           },
           {
            "x": 2.256993376451378,
            "y": 5.094019101345392
           },
           {
            "x": 4.200811767681168,
            "y": 17.64681950748858
           },
           {
            "x": -1.2908273861873898,
            "y": 1.6662353409313688
           },
           {
            "x": 3.958202123437546,
            "y": 15.667364049985498
           },
           {
            "x": -0.4015343093956414,
            "y": 0.16122980162183467
           },
           {
            "x": 1.1569275474332477,
            "y": 1.3384813500099095
           },
           {
            "x": 2.9227559369430556,
            "y": 8.542502266935879
           },
           {
            "x": 3.671337573449052,
            "y": 13.478719578218774
           },
           {
            "x": 2.9512818504371503,
            "y": 8.71006456071973
           },
           {
            "x": 1.435263402747954,
            "y": 2.059981035267636
           },
           {
            "x": 0.6786707319029568,
            "y": 0.46059396234169503
           },
           {
            "x": 4.795193331380724,
            "y": 22.993879085318166
           },
           {
            "x": -0.3224218094382336,
            "y": 0.10395582320142463
           },
           {
            "x": 1.1987470298780933,
            "y": 1.4369944416415503
           },
           {
            "x": 2.738389808010069,
            "y": 7.498778740613422
           },
           {
            "x": 3.0295327956832705,
            "y": 9.178068960120493
           },
           {
            "x": 2.7539781403907972,
            "y": 7.584395597750354
           },
           {
            "x": 1.6410146560533456,
            "y": 2.69292910138188
           },
           {
            "x": 3.6399620974490254,
            "y": 13.249324070865509
           },
           {
            "x": 1.8352579411149499,
            "y": 3.368171710425485
           },
           {
            "x": 0.3819610140052978,
            "y": 0.1458942162199553
           },
           {
            "x": 0.4603297412168055,
            "y": 0.2119034706487311
           },
           {
            "x": 2.291836281621664,
            "y": 5.252513541757416
           },
           {
            "x": 2.2493775009798562,
            "y": 5.0596991419143835
           },
           {
            "x": 1.1025429675782654,
            "y": 1.215600995356288
           },
           {
            "x": 1.350354437721884,
            "y": 1.8234571074751853
           },
           {
            "x": 2.726316727366597,
            "y": 7.432802897918911
           },
           {
            "x": 3.4077332298002743,
            "y": 11.61264576548501
           },
           {
            "x": 6.300032839801595,
            "y": 39.69041378257855
           },
           {
            "x": -1.5566910424225,
            "y": 2.4232870015584496
           },
           {
            "x": 1.5162121959394876,
            "y": 2.2988994231156434
           },
           {
            "x": 3.0258847018637125,
            "y": 9.155978228972849
           },
           {
            "x": 3.9036026389064418,
            "y": 15.238113562477336
           },
           {
            "x": 3.504857048997807,
            "y": 12.284022933909617
           },
           {
            "x": 2.933555970455906,
            "y": 8.605750631797493
           },
           {
            "x": 3.9859697264701426,
            "y": 15.887954660336463
           },
           {
            "x": 3.1322061394560685,
            "y": 9.810715300046288
           },
           {
            "x": 2.174477616730395,
            "y": 4.7283529056615
           },
           {
            "x": 1.1975521508437974,
            "y": 1.4341311539906052
           },
           {
            "x": 3.2442635035532783,
            "y": 10.525245680487792
           },
           {
            "x": 4.798905400057018,
            "y": 23.02949303869641
           },
           {
            "x": 0.19896042255404112,
            "y": 0.03958524974288259
           },
           {
            "x": 2.740192458455099,
            "y": 7.5086547093742
           },
           {
            "x": 2.7475092685988587,
            "y": 7.5488071810366355
           },
           {
            "x": 6.024842764303787,
            "y": 36.298730334583695
           },
           {
            "x": -2.7940894558759366,
            "y": 7.8069358874370876
           },
           {
            "x": 4.521109227353685,
            "y": 20.440428645662635
           },
           {
            "x": 2.104000536255618,
            "y": 4.426818256563927
           },
           {
            "x": 4.109097204372775,
            "y": 16.884679834984155
           },
           {
            "x": 6.909848012701973,
            "y": 47.74599955864141
           },
           {
            "x": 2.445270569848773,
            "y": 5.979348159768542
           },
           {
            "x": 3.868600773144867,
            "y": 14.966071941977063
           },
           {
            "x": 5.046498628992644,
            "y": 25.46714841242464
           },
           {
            "x": 5.4579514559287325,
            "y": 29.789234095274573
           },
           {
            "x": 1.4351675554455146,
            "y": 2.0597059122034542
           },
           {
            "x": 5.5532555580723795,
            "y": 30.838647293261776
           },
           {
            "x": 3.4824771626622364,
            "y": 12.127647188464021
           },
           {
            "x": 2.6603080792848965,
            "y": 7.077239076708495
           },
           {
            "x": 1.7225169509952418,
            "y": 2.9670646464659445
           },
           {
            "x": 6.401247738633776,
            "y": 40.97597261136403
           },
           {
            "x": 0.36095829044504946,
            "y": 0.1302908874410127
           }
          ]
         },
         "encoding": {
          "x": {
           "field": "x",
           "type": "quantitative"
          },
          "y": {
           "field": "y",
           "type": "quantitative"
          }
         },
         "mark": {
          "color": "firebrick",
          "opacity": 0.2,
          "size": 10,
          "type": "point"
         }
        },
        {
         "data": {
          "values": [
           {
            "x": 2.37337722079871,
            "y": 0
           },
           {
            "x": 2.9784554270049504,
            "y": 0
           },
           {
            "x": 4.235446201825997,
            "y": 0
           },
           {
            "x": 1.7371840621530217,
            "y": 0
           },
           {
            "x": 4.286317394517771,
            "y": 0
           },
           {
            "x": 2.1068195116120925,
            "y": 0
           },
           {
            "x": 4.721218871515101,
            "y": 0
           },
           {
            "x": 2.2598473211951964,
            "y": 0
           },
           {
            "x": 6.250545856889687,
            "y": 0
           },
           {
            "x": 3.1432216991785284,
            "y": 0
           },
           {
            "x": 1.1574798049214892,
            "y": 0
           },
           {
            "x": 2.5588753409120195,
            "y": 0
           },
           {
            "x": 5.592803838785921,
            "y": 0
           },
           {
            "x": 6.119340394658194,
            "y": 0
           },
           {
            "x": 2.5057853206435095,
            "y": 0
           },
           {
            "x": 2.0139465060049027,
            "y": 0
           },
           {
            "x": 0.6559481324696501,
            "y": 0
           },
           {
            "x": 0.237247718619916,
            "y": 0
           },
           {
            "x": 1.9480786381738562,
            "y": 0
           },
           {
            "x": 2.933794070173715,
            "y": 0
           },
           {
            "x": 2.394712743843618,
            "y": 0
           },
           {
            "x": 1.4871419538742479,
            "y": 0
           },
           {
            "x": 5.762919206108333,
            "y": 0
           },
           {
            "x": 3.1750126116949575,
            "y": 0
           },
           {
            "x": 0.05124440816508713,
            "y": 0
           },
           {
            "x": -0.046081954510100775,
            "y": 0
           },
           {
            "x": 2.3811845509448415,
            "y": 0
           },
           {
            "x": 6.244946680628971,
            "y": 0
           },
           {
            "x": 8.178115107083503,
            "y": 0
           },
           {
            "x": 4.53098421694458,
            "y": 0
           },
           {
            "x": 6.654285572057219,
            "y": 0
           },
           {
            "x": 2.4619973291873847,
            "y": 0
           },
           {
            "x": 5.268802373015124,
            "y": 0
           },
           {
            "x": 1.881249664334684,
            "y": 0
           },
           {
            "x": -3.006281965515515,
            "y": 0
           },
           {
            "x": 1.6930390225640144,
            "y": 0
           },
           {
            "x": 4.542569809671283,
            "y": 0
           },
           {
            "x": 2.7853576817273393,
            "y": 0
           },
           {
            "x": 1.4171228104604505,
            "y": 0
           },
           {
            "x": 3.6719505262051078,
            "y": 0
           },
           {
            "x": 2.8438256465921468,
            "y": 0
           },
           {
            "x": 2.6429629782598756,
            "y": 0
           },
           {
            "x": 1.3245749755797322,
            "y": 0
           },
           {
            "x": 3.2083412793665893,
            "y": 0
           },
           {
            "x": 3.646358841932728,
            "y": 0
           },
           {
            "x": 5.17661394376422,
            "y": 0
           },
           {
            "x": 5.484984315382521,
            "y": 0
           },
           {
            "x": -0.646326968338629,
            "y": 0
           },
           {
            "x": 4.952788828273748,
            "y": 0
           },
           {
            "x": 2.979244407786675,
            "y": 0
           },
           {
            "x": 5.773002941452775,
            "y": 0
           },
           {
            "x": 2.273292153365698,
            "y": 0
           },
           {
            "x": 2.947565615255768,
            "y": 0
           },
           {
            "x": 1.738120888629315,
            "y": 0
           },
           {
            "x": 1.8098414171530979,
            "y": 0
           },
           {
            "x": 2.886562658865613,
            "y": 0
           },
           {
            "x": 4.847604135203426,
            "y": 0
           },
           {
            "x": 0.1756364174888594,
            "y": 0
           },
           {
            "x": 1.4790322134048437,
            "y": 0
           },
           {
            "x": 3.1992811769835336,
            "y": 0
           },
           {
            "x": 3.660071665182058,
            "y": 0
           },
           {
            "x": 2.623835178593729,
            "y": 0
           },
           {
            "x": 0.4710963116121918,
            "y": 0
           },
           {
            "x": 4.729363749278208,
            "y": 0
           },
           {
            "x": 5.716681191277628,
            "y": 0
           },
           {
            "x": 0.1960528637770893,
            "y": 0
           },
           {
            "x": 3.60025926463608,
            "y": 0
           },
           {
            "x": 1.9864840257593284,
            "y": 0
           },
           {
            "x": 1.8455814282974945,
            "y": 0
           },
           {
            "x": 1.6451783856889302,
            "y": 0
           },
           {
            "x": 3.480618072621017,
            "y": 0
           },
           {
            "x": 3.67939378182192,
            "y": 0
           },
           {
            "x": 2.786351370712023,
            "y": 0
           },
           {
            "x": 2.561064072562988,
            "y": 0
           },
           {
            "x": 0.10199518493282023,
            "y": 0
           },
           {
            "x": 0.5121022855258148,
            "y": 0
           },
           {
            "x": 4.101310548795579,
            "y": 0
           },
           {
            "x": 0.19966737330499118,
            "y": 0
           },
           {
            "x": 2.9047999449400352,
            "y": 0
           },
           {
            "x": 5.105028744207237,
            "y": 0
           },
           {
            "x": 2.5826386529924306,
            "y": 0
           },
           {
            "x": 1.8092062163131386,
            "y": 0
           },
           {
            "x": 4.080462881510129,
            "y": 0
           },
           {
            "x": -0.879385319627795,
            "y": 0
           },
           {
            "x": 3.8362650049693916,
            "y": 0
           },
           {
            "x": 3.145277370260584,
            "y": 0
           },
           {
            "x": 6.125516474542396,
            "y": 0
           },
           {
            "x": 1.9591623318381943,
            "y": 0
           },
           {
            "x": 6.0032207778941995,
            "y": 0
           },
           {
            "x": 1.3419930079066689,
            "y": 0
           },
           {
            "x": 6.344616876968555,
            "y": 0
           },
           {
            "x": 6.9870484381561875,
            "y": 0
           },
           {
            "x": 4.35625624670266,
            "y": 0
           },
           {
            "x": 3.814288475820484,
            "y": 0
           },
           {
            "x": 4.170792141706354,
            "y": 0
           },
           {
            "x": 0.014697495714829145,
            "y": 0
           },
           {
            "x": 2.2253311085180423,
            "y": 0
           },
           {
            "x": 3.297486986613833,
            "y": 0
           },
           {
            "x": 5.296342355589292,
            "y": 0
           },
           {
            "x": 1.5264681119449235,
            "y": 0
           },
           {
            "x": 1.8298440637350382,
            "y": 0
           },
           {
            "x": 5.7273315789663695,
            "y": 0
           },
           {
            "x": 3.4706059281837427,
            "y": 0
           },
           {
            "x": 0.6982395532924619,
            "y": 0
           },
           {
            "x": 0.7993334126074676,
            "y": 0
           },
           {
            "x": 3.576256707125599,
            "y": 0
           },
           {
            "x": 4.0014161433879,
            "y": 0
           },
           {
            "x": 3.5494471137429473,
            "y": 0
           },
           {
            "x": 4.533073670902369,
            "y": 0
           },
           {
            "x": 6.368428689039806,
            "y": 0
           },
           {
            "x": 4.223160272963442,
            "y": 0
           },
           {
            "x": 3.400676749015261,
            "y": 0
           },
           {
            "x": 1.668688221558817,
            "y": 0
           },
           {
            "x": 1.095978377613091,
            "y": 0
           },
           {
            "x": 3.779933714737611,
            "y": 0
           },
           {
            "x": 4.3128694822865175,
            "y": 0
           },
           {
            "x": 6.671587902307065,
            "y": 0
           },
           {
            "x": 3.0084589326257927,
            "y": 0
           },
           {
            "x": 1.0795304946235063,
            "y": 0
           },
           {
            "x": 2.1779091043238186,
            "y": 0
           },
           {
            "x": 1.956789442754959,
            "y": 0
           },
           {
            "x": 1.5500764596023817,
            "y": 0
           },
           {
            "x": 1.5921122107380072,
            "y": 0
           },
           {
            "x": 3.87708811608638,
            "y": 0
           },
           {
            "x": 2.1006336343646326,
            "y": 0
           },
           {
            "x": 0.823484679481876,
            "y": 0
           },
           {
            "x": 1.4687183734048184,
            "y": 0
           },
           {
            "x": 2.4869369427529118,
            "y": 0
           },
           {
            "x": 3.4615284927121968,
            "y": 0
           },
           {
            "x": 3.2865173260970857,
            "y": 0
           },
           {
            "x": 1.0551058334117456,
            "y": 0
           },
           {
            "x": 2.1163692260375293,
            "y": 0
           },
           {
            "x": -0.42290216863207597,
            "y": 0
           },
           {
            "x": 3.038620814900092,
            "y": 0
           },
           {
            "x": 5.819922494622993,
            "y": 0
           },
           {
            "x": -0.16103460504808353,
            "y": 0
           },
           {
            "x": -0.09066674751330961,
            "y": 0
           },
           {
            "x": 7.577180348394015,
            "y": 0
           },
           {
            "x": 4.381901321375742,
            "y": 0
           },
           {
            "x": 1.9480478051012722,
            "y": 0
           },
           {
            "x": 2.7564669364488843,
            "y": 0
           },
           {
            "x": 0.8422522281147933,
            "y": 0
           },
           {
            "x": 2.703161108895836,
            "y": 0
           },
           {
            "x": 0.6479070632333885,
            "y": 0
           },
           {
            "x": 2.866175561088819,
            "y": 0
           },
           {
            "x": -2.423658822778183,
            "y": 0
           },
           {
            "x": 1.435141142032679,
            "y": 0
           },
           {
            "x": 4.47148813407113,
            "y": 0
           },
           {
            "x": 1.4870330458345504,
            "y": 0
           },
           {
            "x": 1.4510514018430354,
            "y": 0
           },
           {
            "x": 3.564081207260699,
            "y": 0
           },
           {
            "x": 3.2523090965370045,
            "y": 0
           },
           {
            "x": 0.10512144260410938,
            "y": 0
           },
           {
            "x": 2.7846769625548173,
            "y": 0
           },
           {
            "x": 3.020887548681272,
            "y": 0
           },
           {
            "x": 2.0357899038969323,
            "y": 0
           },
           {
            "x": 3.48606957452612,
            "y": 0
           },
           {
            "x": -0.09922218680067241,
            "y": 0
           },
           {
            "x": 3.523805775204787,
            "y": 0
           },
           {
            "x": -0.1409292819483854,
            "y": 0
           },
           {
            "x": 3.4289559113058754,
            "y": 0
           },
           {
            "x": 2.2469446747176063,
            "y": 0
           },
           {
            "x": 5.732034991806794,
            "y": 0
           },
           {
            "x": 2.9821118883493174,
            "y": 0
           },
           {
            "x": 6.244689252369791,
            "y": 0
           },
           {
            "x": 3.954312383876582,
            "y": 0
           },
           {
            "x": 3.425731306331835,
            "y": 0
           },
           {
            "x": 1.5814430044643697,
            "y": 0
           },
           {
            "x": 6.351506353277974,
            "y": 0
           },
           {
            "x": 2.156001625392464,
            "y": 0
           },
           {
            "x": -1.3670438985428355,
            "y": 0
           },
           {
            "x": 0.1481213296901993,
            "y": 0
           },
           {
            "x": 4.737196432505138,
            "y": 0
           },
           {
            "x": 1.1279313789654974,
            "y": 0
           },
           {
            "x": 6.4482448436150825,
            "y": 0
           },
           {
            "x": 6.9994933468348774,
            "y": 0
           },
           {
            "x": 2.1461831454988927,
            "y": 0
           },
           {
            "x": 4.226748651478719,
            "y": 0
           },
           {
            "x": -0.4384678828359725,
            "y": 0
           },
           {
            "x": 5.277814153629656,
            "y": 0
           },
           {
            "x": 3.343791803648981,
            "y": 0
           },
           {
            "x": 2.616881747462988,
            "y": 0
           },
           {
            "x": 1.3481661646401866,
            "y": 0
           },
           {
            "x": 4.8533026774901495,
            "y": 0
           },
           {
            "x": 2.3145573326282913,
            "y": 0
           },
           {
            "x": 3.8826703145730534,
            "y": 0
           },
           {
            "x": -0.3186995035880167,
            "y": 0
           },
           {
            "x": 5.720742390376161,
            "y": 0
           },
           {
            "x": 4.8728577245464315,
            "y": 0
           },
           {
            "x": 1.167881174042025,
            "y": 0
           },
           {
            "x": 2.9021125438989137,
            "y": 0
           },
           {
            "x": -1.4193989276940906,
            "y": 0
           },
           {
            "x": 2.27808801887151,
            "y": 0
           },
           {
            "x": 1.2812509244427883,
            "y": 0
           },
           {
            "x": 0.00016496918049968556,
            "y": 0
           },
           {
            "x": 2.65169318476201,
            "y": 0
           },
           {
            "x": 4.0187450440720545,
            "y": 0
           },
           {
            "x": 1.0474158990150653,
            "y": 0
           },
           {
            "x": -1.3596295493145596,
            "y": 0
           },
           {
            "x": 0.42436832025625026,
            "y": 0
           },
           {
            "x": 0.8784362472138607,
            "y": 0
           },
           {
            "x": 0.34051099206567903,
            "y": 0
           },
           {
            "x": 3.2156548614059743,
            "y": 0
           },
           {
            "x": 3.9803301744834014,
            "y": 0
           },
           {
            "x": 1.2853106617678283,
            "y": 0
           },
           {
            "x": 2.026562077000961,
            "y": 0
           },
           {
            "x": 0.4610364927242774,
            "y": 0
           },
           {
            "x": -1.2355751630836758,
            "y": 0
           },
           {
            "x": 2.784805930855517,
            "y": 0
           },
           {
            "x": 3.7897922455594917,
            "y": 0
           },
           {
            "x": 6.1066159110528915,
            "y": 0
           },
           {
            "x": 0.3180663121947016,
            "y": 0
           },
           {
            "x": 3.6691498063965367,
            "y": 0
           },
           {
            "x": 0.8934584334344828,
            "y": 0
           },
           {
            "x": 3.92580984852297,
            "y": 0
           },
           {
            "x": 4.6860360926641444,
            "y": 0
           },
           {
            "x": 4.200482732775959,
            "y": 0
           },
           {
            "x": 7.706778060624478,
            "y": 0
           },
           {
            "x": -1.3907099997359453,
            "y": 0
           },
           {
            "x": 2.828648672320914,
            "y": 0
           },
           {
            "x": 2.4440583218662972,
            "y": 0
           },
           {
            "x": 2.8909139577570167,
            "y": 0
           },
           {
            "x": 3.3750568602575575,
            "y": 0
           },
           {
            "x": 0.6417303648706987,
            "y": 0
           },
           {
            "x": -1.0135571340632619,
            "y": 0
           },
           {
            "x": -0.5590067645804715,
            "y": 0
           },
           {
            "x": 2.402237187925652,
            "y": 0
           },
           {
            "x": 3.837225729794694,
            "y": 0
           },
           {
            "x": 4.0108172469122465,
            "y": 0
           },
           {
            "x": 0.524530381385031,
            "y": 0
           },
           {
            "x": 3.8478755124427932,
            "y": 0
           },
           {
            "x": -1.4297211842126627,
            "y": 0
           },
           {
            "x": 3.532245785676531,
            "y": 0
           },
           {
            "x": 3.0192269473047464,
            "y": 0
           },
           {
            "x": 3.736228821639426,
            "y": 0
           },
           {
            "x": 3.445651934365314,
            "y": 0
           },
           {
            "x": 1.3654232624186067,
            "y": 0
           },
           {
            "x": 2.7523264173148267,
            "y": 0
           },
           {
            "x": -1.7134090658991266,
            "y": 0
           },
           {
            "x": 2.256993376451378,
            "y": 0
           },
           {
            "x": 4.200811767681168,
            "y": 0
           },
           {
            "x": -1.2908273861873898,
            "y": 0
           },
           {
            "x": 3.958202123437546,
            "y": 0
           },
           {
            "x": -0.4015343093956414,
            "y": 0
           },
           {
            "x": 1.1569275474332477,
            "y": 0
           },
           {
            "x": 2.9227559369430556,
            "y": 0
           },
           {
            "x": 3.671337573449052,
            "y": 0
           },
           {
            "x": 2.9512818504371503,
            "y": 0
           },
           {
            "x": 1.435263402747954,
            "y": 0
           },
           {
            "x": 0.6786707319029568,
            "y": 0
           },
           {
            "x": 4.795193331380724,
            "y": 0
           },
           {
            "x": -0.3224218094382336,
            "y": 0
           },
           {
            "x": 1.1987470298780933,
            "y": 0
           },
           {
            "x": 2.738389808010069,
            "y": 0
           },
           {
            "x": 3.0295327956832705,
            "y": 0
           },
           {
            "x": 2.7539781403907972,
            "y": 0
           },
           {
            "x": 1.6410146560533456,
            "y": 0
           },
           {
            "x": 3.6399620974490254,
            "y": 0
           },
           {
            "x": 1.8352579411149499,
            "y": 0
           },
           {
            "x": 0.3819610140052978,
            "y": 0
           },
           {
            "x": 0.4603297412168055,
            "y": 0
           },
           {
            "x": 2.291836281621664,
            "y": 0
           },
           {
            "x": 2.2493775009798562,
            "y": 0
           },
           {
            "x": 1.1025429675782654,
            "y": 0
           },
           {
            "x": 1.350354437721884,
            "y": 0
           },
           {
            "x": 2.726316727366597,
            "y": 0
           },
           {
            "x": 3.4077332298002743,
            "y": 0
           },
           {
            "x": 6.300032839801595,
            "y": 0
           },
           {
            "x": -1.5566910424225,
            "y": 0
           },
           {
            "x": 1.5162121959394876,
            "y": 0
           },
           {
            "x": 3.0258847018637125,
            "y": 0
           },
           {
            "x": 3.9036026389064418,
            "y": 0
           },
           {
            "x": 3.504857048997807,
            "y": 0
           },
           {
            "x": 2.933555970455906,
            "y": 0
           },
           {
            "x": 3.9859697264701426,
            "y": 0
           },
           {
            "x": 3.1322061394560685,
            "y": 0
           },
           {
            "x": 2.174477616730395,
            "y": 0
           },
           {
            "x": 1.1975521508437974,
            "y": 0
           },
           {
            "x": 3.2442635035532783,
            "y": 0
           },
           {
            "x": 4.798905400057018,
            "y": 0
           },
           {
            "x": 0.19896042255404112,
            "y": 0
           },
           {
            "x": 2.740192458455099,
            "y": 0
           },
           {
            "x": 2.7475092685988587,
            "y": 0
           },
           {
            "x": 6.024842764303787,
            "y": 0
           },
           {
            "x": -2.7940894558759366,
            "y": 0
           },
           {
            "x": 4.521109227353685,
            "y": 0
           },
           {
            "x": 2.104000536255618,
            "y": 0
           },
           {
            "x": 4.109097204372775,
            "y": 0
           },
           {
            "x": 6.909848012701973,
            "y": 0
           },
           {
            "x": 2.445270569848773,
            "y": 0
           },
           {
            "x": 3.868600773144867,
            "y": 0
           },
           {
            "x": 5.046498628992644,
            "y": 0
           },
           {
            "x": 5.4579514559287325,
            "y": 0
           },
           {
            "x": 1.4351675554455146,
            "y": 0
           },
           {
            "x": 5.5532555580723795,
            "y": 0
           },
           {
            "x": 3.4824771626622364,
            "y": 0
           },
           {
            "x": 2.6603080792848965,
            "y": 0
           },
           {
            "x": 1.7225169509952418,
            "y": 0
           },
           {
            "x": 6.401247738633776,
            "y": 0
           },
           {
            "x": 0.36095829044504946,
            "y": 0
           }
          ]
         },
         "encoding": {
          "x": {
           "field": "x",
           "type": "quantitative"
          },
          "y": {
           "field": "y",
           "type": "quantitative"
          }
         },
         "mark": {
          "color": "darkblue",
          "opacity": 0.2,
          "size": 10,
          "type": "point"
         }
        }
       ]
      },
      "image/png": "[encoded data removed]",
      "text/plain": [
       "<VegaLite 2 object>\n",
       "\n",
       "If you see this message, it means the renderer has not been properly enabled\n",
       "for the frontend that you are using. For more information, see\n",
       "https://altair-viz.github.io/user_guide/troubleshooting.html\n"
      ]
     },
     "execution_count": 38,
     "metadata": {},
     "output_type": "execute_result"
    }
   ],
   "source": [
    "expected_x2, labels2 = make_scatter_chart_with_labels(X=[np.mean(s)], Y=[np.mean([i ** 2 for i in s])], L=[\"E[X^2]\"], color=\"firebrick\")\n",
    "expected_x, labels = make_scatter_chart_with_labels(X=[np.mean(s)], Y=[0], L=[\"E[X]\"])\n",
    "\n",
    "expected_x + labels + expected_x2 + labels2 + x2_points + x_points"
   ]
  },
  {
   "cell_type": "markdown",
   "metadata": {},
   "source": [
    "If we square the blue dot $\\mathbb{E}[X]$ we get $\\mathbb{E}[X]^2$. We show this as a big black dot. "
   ]
  },
  {
   "cell_type": "code",
   "execution_count": 39,
   "metadata": {},
   "outputs": [
    {
     "data": {
      "application/vnd.vegalite.v2+json": {
       "$schema": "https://vega.github.io/schema/vega-lite/v2.6.0.json",
       "config": {
        "view": {
         "height": 300,
         "width": 400
        }
       },
       "layer": [
        {
         "data": {
          "values": [
           {
            "label": "E[X]",
            "x": 2.694124177665974,
            "y": 0
           }
          ]
         },
         "encoding": {
          "x": {
           "field": "x",
           "type": "quantitative"
          },
          "y": {
           "field": "y",
           "type": "quantitative"
          }
         },
         "mark": {
          "color": "blue",
          "filled": true,
          "opacity": 0.9,
          "size": 200,
          "type": "point"
         }
        },
        {
         "data": {
          "values": [
           {
            "label": "E[X]",
            "x": 2.694124177665974,
            "y": 0
           }
          ]
         },
         "encoding": {
          "text": {
           "field": "label",
           "type": "nominal"
          },
          "x": {
           "field": "x",
           "type": "quantitative"
          },
          "y": {
           "field": "y",
           "type": "quantitative"
          }
         },
         "mark": {
          "align": "left",
          "baseline": "bottom",
          "dx": 16,
          "type": "text",
          "xOffset": -20,
          "yOffset": -4
         }
        },
        {
         "data": {
          "values": [
           {
            "label": "E[X^2]",
            "x": 2.694124177665974,
            "y": 11.3800198248218
           }
          ]
         },
         "encoding": {
          "x": {
           "field": "x",
           "type": "quantitative"
          },
          "y": {
           "field": "y",
           "type": "quantitative"
          }
         },
         "mark": {
          "color": "firebrick",
          "filled": true,
          "opacity": 0.9,
          "size": 200,
          "type": "point"
         }
        },
        {
         "data": {
          "values": [
           {
            "label": "E[X^2]",
            "x": 2.694124177665974,
            "y": 11.3800198248218
           }
          ]
         },
         "encoding": {
          "text": {
           "field": "label",
           "type": "nominal"
          },
          "x": {
           "field": "x",
           "type": "quantitative"
          },
          "y": {
           "field": "y",
           "type": "quantitative"
          }
         },
         "mark": {
          "align": "left",
          "baseline": "bottom",
          "dx": 16,
          "type": "text",
          "xOffset": -20,
          "yOffset": -4
         }
        },
        {
         "data": {
          "values": [
           {
            "x": 2.37337722079871,
            "y": 5.632919432206209
           },
           {
            "x": 2.9784554270049504,
            "y": 8.87119673065524
           },
           {
            "x": 4.235446201825997,
            "y": 17.93900452856227
           },
           {
            "x": 1.7371840621530217,
            "y": 3.0178084657984736
           },
           {
            "x": 4.286317394517771,
            "y": 18.37251680654561
           },
           {
            "x": 2.1068195116120925,
            "y": 4.438688454509416
           },
           {
            "x": 4.721218871515101,
            "y": 22.289907632750328
           },
           {
            "x": 2.2598473211951964,
            "y": 5.106909915113105
           },
           {
            "x": 6.250545856889687,
            "y": 39.06932350908083
           },
           {
            "x": 3.1432216991785284,
            "y": 9.879842650186756
           },
           {
            "x": 1.1574798049214892,
            "y": 1.3397594988010886
           },
           {
            "x": 2.5588753409120195,
            "y": 6.547843010327604
           },
           {
            "x": 5.592803838785921,
            "y": 31.27945477913853
           },
           {
            "x": 6.119340394658194,
            "y": 37.446326865695504
           },
           {
            "x": 2.5057853206435095,
            "y": 6.278960073152495
           },
           {
            "x": 2.0139465060049027,
            "y": 4.055980529049355
           },
           {
            "x": 0.6559481324696501,
            "y": 0.43026795249042166
           },
           {
            "x": 0.237247718619916,
            "y": 0.05628647999035484
           },
           {
            "x": 1.9480786381738562,
            "y": 3.7950103805093063
           },
           {
            "x": 2.933794070173715,
            "y": 8.607147646186453
           },
           {
            "x": 2.394712743843618,
            "y": 5.73464912552703
           },
           {
            "x": 1.4871419538742479,
            "y": 2.2115911909729156
           },
           {
            "x": 5.762919206108333,
            "y": 33.2112377761323
           },
           {
            "x": 3.1750126116949575,
            "y": 10.080705084422036
           },
           {
            "x": 0.05124440816508713,
            "y": 0.0026259893681900483
           },
           {
            "x": -0.046081954510100775,
            "y": 0.002123546531470997
           },
           {
            "x": 2.3811845509448415,
            "y": 5.670039865658387
           },
           {
            "x": 6.244946680628971,
            "y": 38.9993590438988
           },
           {
            "x": 8.178115107083503,
            "y": 66.88156670470741
           },
           {
            "x": 4.53098421694458,
            "y": 20.529817974200885
           },
           {
            "x": 6.654285572057219,
            "y": 44.27951647448887
           },
           {
            "x": 2.4619973291873847,
            "y": 6.0614308489258155
           },
           {
            "x": 5.268802373015124,
            "y": 27.7602784458898
           },
           {
            "x": 1.881249664334684,
            "y": 3.5391002995593617
           },
           {
            "x": -3.006281965515515,
            "y": 9.037731256183829
           },
           {
            "x": 1.6930390225640144,
            "y": 2.866381131924513
           },
           {
            "x": 4.542569809671283,
            "y": 20.634940475736997
           },
           {
            "x": 2.7853576817273393,
            "y": 7.758217415157498
           },
           {
            "x": 1.4171228104604505,
            "y": 2.008237059927326
           },
           {
            "x": 3.6719505262051078,
            "y": 13.483220666897967
           },
           {
            "x": 2.8438256465921468,
            "y": 8.087344308215242
           },
           {
            "x": 2.6429629782598756,
            "y": 6.9852533044523115
           },
           {
            "x": 1.3245749755797322,
            "y": 1.7544988659320482
           },
           {
            "x": 3.2083412793665893,
            "y": 10.293453764887643
           },
           {
            "x": 3.646358841932728,
            "y": 13.295932804140987
           },
           {
            "x": 5.17661394376422,
            "y": 26.797331922774152
           },
           {
            "x": 5.484984315382521,
            "y": 30.08505293999226
           },
           {
            "x": -0.646326968338629,
            "y": 0.41773855000180315
           },
           {
            "x": 4.952788828273748,
            "y": 24.530117177473247
           },
           {
            "x": 2.979244407786675,
            "y": 8.875897241328177
           },
           {
            "x": 5.773002941452775,
            "y": 33.3275629620224
           },
           {
            "x": 2.273292153365698,
            "y": 5.1678572145540524
           },
           {
            "x": 2.947565615255768,
            "y": 8.688143056238115
           },
           {
            "x": 1.738120888629315,
            "y": 3.0210642234895593
           },
           {
            "x": 1.8098414171530979,
            "y": 3.275525955242734
           },
           {
            "x": 2.886562658865613,
            "y": 8.332243983557316
           },
           {
            "x": 4.847604135203426,
            "y": 23.499265851641354
           },
           {
            "x": 0.1756364174888594,
            "y": 0.030848151148320912
           },
           {
            "x": 1.4790322134048437,
            "y": 2.1875362882892313
           },
           {
            "x": 3.1992811769835336,
            "y": 10.235400049401145
           },
           {
            "x": 3.660071665182058,
            "y": 13.396124594268564
           },
           {
            "x": 2.623835178593729,
            "y": 6.8845110444259845
           },
           {
            "x": 0.4710963116121918,
            "y": 0.22193173481461131
           },
           {
            "x": 4.729363749278208,
            "y": 22.366881472986826
           },
           {
            "x": 5.716681191277628,
            "y": 32.6804438427074
           },
           {
            "x": 0.1960528637770893,
            "y": 0.038436725395197935
           },
           {
            "x": 3.60025926463608,
            "y": 12.961866772597928
           },
           {
            "x": 1.9864840257593284,
            "y": 3.946118784596988
           },
           {
            "x": 1.8455814282974945,
            "y": 3.40617080847662
           },
           {
            "x": 1.6451783856889302,
            "y": 2.7066119207380344
           },
           {
            "x": 3.480618072621017,
            "y": 12.114702167456043
           },
           {
            "x": 3.67939378182192,
            "y": 13.53793860170981
           },
           {
            "x": 2.786351370712023,
            "y": 7.76375396106877
           },
           {
            "x": 2.561064072562988,
            "y": 6.559049183772919
           },
           {
            "x": 0.10199518493282023,
            "y": 0.010403017749480199
           },
           {
            "x": 0.5121022855258148,
            "y": 0.26224875084076316
           },
           {
            "x": 4.101310548795579,
            "y": 16.820748217661897
           },
           {
            "x": 0.19966737330499118,
            "y": 0.0398670599625147
           },
           {
            "x": 2.9047999449400352,
            "y": 8.437862720123631
           },
           {
            "x": 5.105028744207237,
            "y": 26.06131847918212
           },
           {
            "x": 2.5826386529924306,
            "y": 6.670022411930556
           },
           {
            "x": 1.8092062163131386,
            "y": 3.2732271331461034
           },
           {
            "x": 4.080462881510129,
            "y": 16.650177327381943
           },
           {
            "x": -0.879385319627795,
            "y": 0.7733185403768792
           },
           {
            "x": 3.8362650049693916,
            "y": 14.716929188352806
           },
           {
            "x": 3.145277370260584,
            "y": 9.892769735873335
           },
           {
            "x": 6.125516474542396,
            "y": 37.521952079890305
           },
           {
            "x": 1.9591623318381943,
            "y": 3.8383170424936712
           },
           {
            "x": 6.0032207778941995,
            "y": 36.038659708140635
           },
           {
            "x": 1.3419930079066689,
            "y": 1.8009452332703886
           },
           {
            "x": 6.344616876968555,
            "y": 40.25416331551422
           },
           {
            "x": 6.9870484381561875,
            "y": 48.81884587714082
           },
           {
            "x": 4.35625624670266,
            "y": 18.97696848693595
           },
           {
            "x": 3.814288475820484,
            "y": 14.54879657677695
           },
           {
            "x": 4.170792141706354,
            "y": 17.395507089319473
           },
           {
            "x": 0.014697495714829145,
            "y": 0.00021601638028742107
           },
           {
            "x": 2.2253311085180423,
            "y": 4.952098542538139
           },
           {
            "x": 3.297486986613833,
            "y": 10.873420426887577
           },
           {
            "x": 5.296342355589292,
            "y": 28.051242347609133
           },
           {
            "x": 1.5264681119449235,
            "y": 2.3301048967846993
           },
           {
            "x": 1.8298440637350382,
            "y": 3.3483292975863583
           },
           {
            "x": 5.7273315789663695,
            "y": 32.802327015425405
           },
           {
            "x": 3.4706059281837427,
            "y": 12.045105508744138
           },
           {
            "x": 0.6982395532924619,
            "y": 0.4875384737820567
           },
           {
            "x": 0.7993334126074676,
            "y": 0.6389339045107001
           },
           {
            "x": 3.576256707125599,
            "y": 12.78961203526083
           },
           {
            "x": 4.0014161433879,
            "y": 16.011331152565294
           },
           {
            "x": 3.5494471137429473,
            "y": 12.59857481325814
           },
           {
            "x": 4.533073670902369,
            "y": 20.54875690582828
           },
           {
            "x": 6.368428689039806,
            "y": 40.55688396738527
           },
           {
            "x": 4.223160272963442,
            "y": 17.835082691136655
           },
           {
            "x": 3.400676749015261,
            "y": 11.564602351293006
           },
           {
            "x": 1.668688221558817,
            "y": 2.7845203807691274
           },
           {
            "x": 1.095978377613091,
            "y": 1.2011686041954228
           },
           {
            "x": 3.779933714737611,
            "y": 14.287898887810076
           },
           {
            "x": 4.3128694822865175,
            "y": 18.600843171238374
           },
           {
            "x": 6.671587902307065,
            "y": 44.51008513820999
           },
           {
            "x": 3.0084589326257927,
            "y": 9.050825149295923
           },
           {
            "x": 1.0795304946235063,
            "y": 1.1653860888220722
           },
           {
            "x": 2.1779091043238186,
            "y": 4.743288066696578
           },
           {
            "x": 1.956789442754959,
            "y": 3.829024923277263
           },
           {
            "x": 1.5500764596023817,
            "y": 2.402737030613454
           },
           {
            "x": 1.5921122107380072,
            "y": 2.5348212915810646
           },
           {
            "x": 3.87708811608638,
            "y": 15.031812259898237
           },
           {
            "x": 2.1006336343646326,
            "y": 4.412661665823965
           },
           {
            "x": 0.823484679481876,
            "y": 0.678127017341368
           },
           {
            "x": 1.4687183734048184,
            "y": 2.1571336603768954
           },
           {
            "x": 2.4869369427529118,
            "y": 6.1848553572292
           },
           {
            "x": 3.4615284927121968,
            "y": 11.982179505858372
           },
           {
            "x": 3.2865173260970857,
            "y": 10.801196134736339
           },
           {
            "x": 1.0551058334117456,
            "y": 1.1132483196994942
           },
           {
            "x": 2.1163692260375293,
            "y": 4.479018700918691
           },
           {
            "x": -0.42290216863207597,
            "y": 0.17884624423371281
           },
           {
            "x": 3.038620814900092,
            "y": 9.2332164567441
           },
           {
            "x": 5.819922494622993,
            "y": 33.87149784341872
           },
           {
            "x": -0.16103460504808353,
            "y": 0.02593214402299225
           },
           {
            "x": -0.09066674751330961,
            "y": 0.008220459104642234
           },
           {
            "x": 7.577180348394015,
            "y": 57.41366203208845
           },
           {
            "x": 4.381901321375742,
            "y": 19.201059190274474
           },
           {
            "x": 1.9480478051012722,
            "y": 3.794890250959884
           },
           {
            "x": 2.7564669364488843,
            "y": 7.598109971735898
           },
           {
            "x": 0.8422522281147933,
            "y": 0.7093888157643338
           },
           {
            "x": 2.703161108895836,
            "y": 7.307079980646966
           },
           {
            "x": 0.6479070632333885,
            "y": 0.41978356258771415
           },
           {
            "x": 2.866175561088819,
            "y": 8.214962346982807
           },
           {
            "x": -2.423658822778183,
            "y": 5.874122089230528
           },
           {
            "x": 1.435141142032679,
            "y": 2.059630097554862
           },
           {
            "x": 4.47148813407113,
            "y": 19.994206133138917
           },
           {
            "x": 1.4870330458345504,
            "y": 2.2112672794039803
           },
           {
            "x": 1.4510514018430354,
            "y": 2.105550170790638
           },
           {
            "x": 3.564081207260699,
            "y": 12.702674851948883
           },
           {
            "x": 3.2523090965370045,
            "y": 10.577514459417346
           },
           {
            "x": 0.10512144260410938,
            "y": 0.011050517695169064
           },
           {
            "x": 2.7846769625548173,
            "y": 7.754425785783524
           },
           {
            "x": 3.020887548681272,
            "y": 9.125761581777544
           },
           {
            "x": 2.0357899038969323,
            "y": 4.144440532808681
           },
           {
            "x": 3.48606957452612,
            "y": 12.152681078436723
           },
           {
            "x": -0.09922218680067241,
            "y": 0.009845042353507529
           },
           {
            "x": 3.523805775204787,
            "y": 12.417207141366609
           },
           {
            "x": -0.1409292819483854,
            "y": 0.019861062510487502
           },
           {
            "x": 3.4289559113058754,
            "y": 11.757738641679506
           },
           {
            "x": 2.2469446747176063,
            "y": 5.048760371241809
           },
           {
            "x": 5.732034991806794,
            "y": 32.85622514729751
           },
           {
            "x": 2.9821118883493174,
            "y": 8.892991314634331
           },
           {
            "x": 6.244689252369791,
            "y": 38.996143858662776
           },
           {
            "x": 3.954312383876582,
            "y": 15.636586429279696
           },
           {
            "x": 3.425731306331835,
            "y": 11.73563498318202
           },
           {
            "x": 1.5814430044643697,
            "y": 2.5009619763692923
           },
           {
            "x": 6.351506353277974,
            "y": 40.34163295573046
           },
           {
            "x": 2.156001625392464,
            "y": 4.648343008694946
           },
           {
            "x": -1.3670438985428355,
            "y": 1.8688090205431942
           },
           {
            "x": 0.1481213296901993,
            "y": 0.02193992830919272
           },
           {
            "x": 4.737196432505138,
            "y": 22.44103004013941
           },
           {
            "x": 1.1279313789654974,
            "y": 1.2722291956550087
           },
           {
            "x": 6.4482448436150825,
            "y": 41.5798615632085
           },
           {
            "x": 6.9994933468348774,
            "y": 48.992907112385716
           },
           {
            "x": 2.1461831454988927,
            "y": 4.606102094023521
           },
           {
            "x": 4.226748651478719,
            "y": 17.865404162777168
           },
           {
            "x": -0.4384678828359725,
            "y": 0.1922540842786601
           },
           {
            "x": 5.277814153629656,
            "y": 27.85532224025352
           },
           {
            "x": 3.343791803648981,
            "y": 11.180943626150107
           },
           {
            "x": 2.616881747462988,
            "y": 6.848070080204943
           },
           {
            "x": 1.3481661646401866,
            "y": 1.8175520074806306
           },
           {
            "x": 4.8533026774901495,
            "y": 23.554546879333053
           },
           {
            "x": 2.3145573326282913,
            "y": 5.357175646023391
           },
           {
            "x": 3.8826703145730534,
            "y": 15.075128771666813
           },
           {
            "x": -0.3186995035880167,
            "y": 0.10156937358724825
           },
           {
            "x": 5.720742390376161,
            "y": 32.72689349704675
           },
           {
            "x": 4.8728577245464315,
            "y": 23.744742403671825
           },
           {
            "x": 1.167881174042025,
            "y": 1.3639464366817786
           },
           {
            "x": 2.9021125438989137,
            "y": 8.422257217455424
           },
           {
            "x": -1.4193989276940906,
            "y": 2.0146933159391343
           },
           {
            "x": 2.27808801887151,
            "y": 5.189685021725921
           },
           {
            "x": 1.2812509244427883,
            "y": 1.6416039313854998
           },
           {
            "x": 0.00016496918049968556,
            "y": 2.7214830514737837e-08
           },
           {
            "x": 2.65169318476201,
            "y": 7.031476746113292
           },
           {
            "x": 4.0187450440720545,
            "y": 16.150311729253698
           },
           {
            "x": 1.0474158990150653,
            "y": 1.0970800655095374
           },
           {
            "x": -1.3596295493145596,
            "y": 1.8485925113693125
           },
           {
            "x": 0.42436832025625026,
            "y": 0.18008847123711139
           },
           {
            "x": 0.8784362472138607,
            "y": 0.771650240419171
           },
           {
            "x": 0.34051099206567903,
            "y": 0.11594773571755293
           },
           {
            "x": 3.2156548614059743,
            "y": 10.340436187683876
           },
           {
            "x": 3.9803301744834014,
            "y": 15.843028297903064
           },
           {
            "x": 1.2853106617678283,
            "y": 1.6520234972540526
           },
           {
            "x": 2.026562077000961,
            "y": 4.1069538519384485
           },
           {
            "x": 0.4610364927242774,
            "y": 0.21255464762350268
           },
           {
            "x": -1.2355751630836758,
            "y": 1.5266459836292519
           },
           {
            "x": 2.784805930855517,
            "y": 7.755144072528063
           },
           {
            "x": 3.7897922455594917,
            "y": 14.362525264502855
           },
           {
            "x": 6.1066159110528915,
            "y": 37.290757885124336
           },
           {
            "x": 0.3180663121947016,
            "y": 0.10116617895313738
           },
           {
            "x": 3.6691498063965367,
            "y": 13.462660301779742
           },
           {
            "x": 0.8934584334344828,
            "y": 0.7982679722752002
           },
           {
            "x": 3.92580984852297,
            "y": 15.411982966759947
           },
           {
            "x": 4.6860360926641444,
            "y": 21.958934261751043
           },
           {
            "x": 4.200482732775959,
            "y": 17.64405518834899
           },
           {
            "x": 7.706778060624478,
            "y": 59.394428075722786
           },
           {
            "x": -1.3907099997359453,
            "y": 1.934074303365553
           },
           {
            "x": 2.828648672320914,
            "y": 8.001253311422868
           },
           {
            "x": 2.4440583218662972,
            "y": 5.9734210806839005
           },
           {
            "x": 2.8909139577570167,
            "y": 8.357383511154337
           },
           {
            "x": 3.3750568602575575,
            "y": 11.391008809971602
           },
           {
            "x": 0.6417303648706987,
            "y": 0.4118178611970801
           },
           {
            "x": -1.0135571340632619,
            "y": 1.027298064010533
           },
           {
            "x": -0.5590067645804715,
            "y": 0.31248856284672666
           },
           {
            "x": 2.402237187925652,
            "y": 5.770743507052944
           },
           {
            "x": 3.837225729794694,
            "y": 14.724301301398423
           },
           {
            "x": 4.0108172469122465,
            "y": 16.086654988128732
           },
           {
            "x": 0.524530381385031,
            "y": 0.27513212099592615
           },
           {
            "x": 3.8478755124427932,
            "y": 14.806145959256888
           },
           {
            "x": -1.4297211842126627,
            "y": 2.0441026645864584
           },
           {
            "x": 3.532245785676531,
            "y": 12.476760290429613
           },
           {
            "x": 3.0192269473047464,
            "y": 9.115731359331138
           },
           {
            "x": 3.736228821639426,
            "y": 13.959405807649134
           },
           {
            "x": 3.445651934365314,
            "y": 11.87251725279543
           },
           {
            "x": 1.3654232624186067,
            "y": 1.8643806855538712
           },
           {
            "x": 2.7523264173148267,
            "y": 7.5753007074490695
           },
           {
            "x": -1.7134090658991266,
            "y": 2.935770627105317
           },
           {
            "x": 2.256993376451378,
            "y": 5.094019101345392
           },
           {
            "x": 4.200811767681168,
            "y": 17.64681950748858
           },
           {
            "x": -1.2908273861873898,
            "y": 1.6662353409313688
           },
           {
            "x": 3.958202123437546,
            "y": 15.667364049985498
           },
           {
            "x": -0.4015343093956414,
            "y": 0.16122980162183467
           },
           {
            "x": 1.1569275474332477,
            "y": 1.3384813500099095
           },
           {
            "x": 2.9227559369430556,
            "y": 8.542502266935879
           },
           {
            "x": 3.671337573449052,
            "y": 13.478719578218774
           },
           {
            "x": 2.9512818504371503,
            "y": 8.71006456071973
           },
           {
            "x": 1.435263402747954,
            "y": 2.059981035267636
           },
           {
            "x": 0.6786707319029568,
            "y": 0.46059396234169503
           },
           {
            "x": 4.795193331380724,
            "y": 22.993879085318166
           },
           {
            "x": -0.3224218094382336,
            "y": 0.10395582320142463
           },
           {
            "x": 1.1987470298780933,
            "y": 1.4369944416415503
           },
           {
            "x": 2.738389808010069,
            "y": 7.498778740613422
           },
           {
            "x": 3.0295327956832705,
            "y": 9.178068960120493
           },
           {
            "x": 2.7539781403907972,
            "y": 7.584395597750354
           },
           {
            "x": 1.6410146560533456,
            "y": 2.69292910138188
           },
           {
            "x": 3.6399620974490254,
            "y": 13.249324070865509
           },
           {
            "x": 1.8352579411149499,
            "y": 3.368171710425485
           },
           {
            "x": 0.3819610140052978,
            "y": 0.1458942162199553
           },
           {
            "x": 0.4603297412168055,
            "y": 0.2119034706487311
           },
           {
            "x": 2.291836281621664,
            "y": 5.252513541757416
           },
           {
            "x": 2.2493775009798562,
            "y": 5.0596991419143835
           },
           {
            "x": 1.1025429675782654,
            "y": 1.215600995356288
           },
           {
            "x": 1.350354437721884,
            "y": 1.8234571074751853
           },
           {
            "x": 2.726316727366597,
            "y": 7.432802897918911
           },
           {
            "x": 3.4077332298002743,
            "y": 11.61264576548501
           },
           {
            "x": 6.300032839801595,
            "y": 39.69041378257855
           },
           {
            "x": -1.5566910424225,
            "y": 2.4232870015584496
           },
           {
            "x": 1.5162121959394876,
            "y": 2.2988994231156434
           },
           {
            "x": 3.0258847018637125,
            "y": 9.155978228972849
           },
           {
            "x": 3.9036026389064418,
            "y": 15.238113562477336
           },
           {
            "x": 3.504857048997807,
            "y": 12.284022933909617
           },
           {
            "x": 2.933555970455906,
            "y": 8.605750631797493
           },
           {
            "x": 3.9859697264701426,
            "y": 15.887954660336463
           },
           {
            "x": 3.1322061394560685,
            "y": 9.810715300046288
           },
           {
            "x": 2.174477616730395,
            "y": 4.7283529056615
           },
           {
            "x": 1.1975521508437974,
            "y": 1.4341311539906052
           },
           {
            "x": 3.2442635035532783,
            "y": 10.525245680487792
           },
           {
            "x": 4.798905400057018,
            "y": 23.02949303869641
           },
           {
            "x": 0.19896042255404112,
            "y": 0.03958524974288259
           },
           {
            "x": 2.740192458455099,
            "y": 7.5086547093742
           },
           {
            "x": 2.7475092685988587,
            "y": 7.5488071810366355
           },
           {
            "x": 6.024842764303787,
            "y": 36.298730334583695
           },
           {
            "x": -2.7940894558759366,
            "y": 7.8069358874370876
           },
           {
            "x": 4.521109227353685,
            "y": 20.440428645662635
           },
           {
            "x": 2.104000536255618,
            "y": 4.426818256563927
           },
           {
            "x": 4.109097204372775,
            "y": 16.884679834984155
           },
           {
            "x": 6.909848012701973,
            "y": 47.74599955864141
           },
           {
            "x": 2.445270569848773,
            "y": 5.979348159768542
           },
           {
            "x": 3.868600773144867,
            "y": 14.966071941977063
           },
           {
            "x": 5.046498628992644,
            "y": 25.46714841242464
           },
           {
            "x": 5.4579514559287325,
            "y": 29.789234095274573
           },
           {
            "x": 1.4351675554455146,
            "y": 2.0597059122034542
           },
           {
            "x": 5.5532555580723795,
            "y": 30.838647293261776
           },
           {
            "x": 3.4824771626622364,
            "y": 12.127647188464021
           },
           {
            "x": 2.6603080792848965,
            "y": 7.077239076708495
           },
           {
            "x": 1.7225169509952418,
            "y": 2.9670646464659445
           },
           {
            "x": 6.401247738633776,
            "y": 40.97597261136403
           },
           {
            "x": 0.36095829044504946,
            "y": 0.1302908874410127
           }
          ]
         },
         "encoding": {
          "x": {
           "field": "x",
           "type": "quantitative"
          },
          "y": {
           "field": "y",
           "type": "quantitative"
          }
         },
         "mark": {
          "color": "firebrick",
          "opacity": 0.2,
          "size": 10,
          "type": "point"
         }
        },
        {
         "data": {
          "values": [
           {
            "x": 2.37337722079871,
            "y": 0
           },
           {
            "x": 2.9784554270049504,
            "y": 0
           },
           {
            "x": 4.235446201825997,
            "y": 0
           },
           {
            "x": 1.7371840621530217,
            "y": 0
           },
           {
            "x": 4.286317394517771,
            "y": 0
           },
           {
            "x": 2.1068195116120925,
            "y": 0
           },
           {
            "x": 4.721218871515101,
            "y": 0
           },
           {
            "x": 2.2598473211951964,
            "y": 0
           },
           {
            "x": 6.250545856889687,
            "y": 0
           },
           {
            "x": 3.1432216991785284,
            "y": 0
           },
           {
            "x": 1.1574798049214892,
            "y": 0
           },
           {
            "x": 2.5588753409120195,
            "y": 0
           },
           {
            "x": 5.592803838785921,
            "y": 0
           },
           {
            "x": 6.119340394658194,
            "y": 0
           },
           {
            "x": 2.5057853206435095,
            "y": 0
           },
           {
            "x": 2.0139465060049027,
            "y": 0
           },
           {
            "x": 0.6559481324696501,
            "y": 0
           },
           {
            "x": 0.237247718619916,
            "y": 0
           },
           {
            "x": 1.9480786381738562,
            "y": 0
           },
           {
            "x": 2.933794070173715,
            "y": 0
           },
           {
            "x": 2.394712743843618,
            "y": 0
           },
           {
            "x": 1.4871419538742479,
            "y": 0
           },
           {
            "x": 5.762919206108333,
            "y": 0
           },
           {
            "x": 3.1750126116949575,
            "y": 0
           },
           {
            "x": 0.05124440816508713,
            "y": 0
           },
           {
            "x": -0.046081954510100775,
            "y": 0
           },
           {
            "x": 2.3811845509448415,
            "y": 0
           },
           {
            "x": 6.244946680628971,
            "y": 0
           },
           {
            "x": 8.178115107083503,
            "y": 0
           },
           {
            "x": 4.53098421694458,
            "y": 0
           },
           {
            "x": 6.654285572057219,
            "y": 0
           },
           {
            "x": 2.4619973291873847,
            "y": 0
           },
           {
            "x": 5.268802373015124,
            "y": 0
           },
           {
            "x": 1.881249664334684,
            "y": 0
           },
           {
            "x": -3.006281965515515,
            "y": 0
           },
           {
            "x": 1.6930390225640144,
            "y": 0
           },
           {
            "x": 4.542569809671283,
            "y": 0
           },
           {
            "x": 2.7853576817273393,
            "y": 0
           },
           {
            "x": 1.4171228104604505,
            "y": 0
           },
           {
            "x": 3.6719505262051078,
            "y": 0
           },
           {
            "x": 2.8438256465921468,
            "y": 0
           },
           {
            "x": 2.6429629782598756,
            "y": 0
           },
           {
            "x": 1.3245749755797322,
            "y": 0
           },
           {
            "x": 3.2083412793665893,
            "y": 0
           },
           {
            "x": 3.646358841932728,
            "y": 0
           },
           {
            "x": 5.17661394376422,
            "y": 0
           },
           {
            "x": 5.484984315382521,
            "y": 0
           },
           {
            "x": -0.646326968338629,
            "y": 0
           },
           {
            "x": 4.952788828273748,
            "y": 0
           },
           {
            "x": 2.979244407786675,
            "y": 0
           },
           {
            "x": 5.773002941452775,
            "y": 0
           },
           {
            "x": 2.273292153365698,
            "y": 0
           },
           {
            "x": 2.947565615255768,
            "y": 0
           },
           {
            "x": 1.738120888629315,
            "y": 0
           },
           {
            "x": 1.8098414171530979,
            "y": 0
           },
           {
            "x": 2.886562658865613,
            "y": 0
           },
           {
            "x": 4.847604135203426,
            "y": 0
           },
           {
            "x": 0.1756364174888594,
            "y": 0
           },
           {
            "x": 1.4790322134048437,
            "y": 0
           },
           {
            "x": 3.1992811769835336,
            "y": 0
           },
           {
            "x": 3.660071665182058,
            "y": 0
           },
           {
            "x": 2.623835178593729,
            "y": 0
           },
           {
            "x": 0.4710963116121918,
            "y": 0
           },
           {
            "x": 4.729363749278208,
            "y": 0
           },
           {
            "x": 5.716681191277628,
            "y": 0
           },
           {
            "x": 0.1960528637770893,
            "y": 0
           },
           {
            "x": 3.60025926463608,
            "y": 0
           },
           {
            "x": 1.9864840257593284,
            "y": 0
           },
           {
            "x": 1.8455814282974945,
            "y": 0
           },
           {
            "x": 1.6451783856889302,
            "y": 0
           },
           {
            "x": 3.480618072621017,
            "y": 0
           },
           {
            "x": 3.67939378182192,
            "y": 0
           },
           {
            "x": 2.786351370712023,
            "y": 0
           },
           {
            "x": 2.561064072562988,
            "y": 0
           },
           {
            "x": 0.10199518493282023,
            "y": 0
           },
           {
            "x": 0.5121022855258148,
            "y": 0
           },
           {
            "x": 4.101310548795579,
            "y": 0
           },
           {
            "x": 0.19966737330499118,
            "y": 0
           },
           {
            "x": 2.9047999449400352,
            "y": 0
           },
           {
            "x": 5.105028744207237,
            "y": 0
           },
           {
            "x": 2.5826386529924306,
            "y": 0
           },
           {
            "x": 1.8092062163131386,
            "y": 0
           },
           {
            "x": 4.080462881510129,
            "y": 0
           },
           {
            "x": -0.879385319627795,
            "y": 0
           },
           {
            "x": 3.8362650049693916,
            "y": 0
           },
           {
            "x": 3.145277370260584,
            "y": 0
           },
           {
            "x": 6.125516474542396,
            "y": 0
           },
           {
            "x": 1.9591623318381943,
            "y": 0
           },
           {
            "x": 6.0032207778941995,
            "y": 0
           },
           {
            "x": 1.3419930079066689,
            "y": 0
           },
           {
            "x": 6.344616876968555,
            "y": 0
           },
           {
            "x": 6.9870484381561875,
            "y": 0
           },
           {
            "x": 4.35625624670266,
            "y": 0
           },
           {
            "x": 3.814288475820484,
            "y": 0
           },
           {
            "x": 4.170792141706354,
            "y": 0
           },
           {
            "x": 0.014697495714829145,
            "y": 0
           },
           {
            "x": 2.2253311085180423,
            "y": 0
           },
           {
            "x": 3.297486986613833,
            "y": 0
           },
           {
            "x": 5.296342355589292,
            "y": 0
           },
           {
            "x": 1.5264681119449235,
            "y": 0
           },
           {
            "x": 1.8298440637350382,
            "y": 0
           },
           {
            "x": 5.7273315789663695,
            "y": 0
           },
           {
            "x": 3.4706059281837427,
            "y": 0
           },
           {
            "x": 0.6982395532924619,
            "y": 0
           },
           {
            "x": 0.7993334126074676,
            "y": 0
           },
           {
            "x": 3.576256707125599,
            "y": 0
           },
           {
            "x": 4.0014161433879,
            "y": 0
           },
           {
            "x": 3.5494471137429473,
            "y": 0
           },
           {
            "x": 4.533073670902369,
            "y": 0
           },
           {
            "x": 6.368428689039806,
            "y": 0
           },
           {
            "x": 4.223160272963442,
            "y": 0
           },
           {
            "x": 3.400676749015261,
            "y": 0
           },
           {
            "x": 1.668688221558817,
            "y": 0
           },
           {
            "x": 1.095978377613091,
            "y": 0
           },
           {
            "x": 3.779933714737611,
            "y": 0
           },
           {
            "x": 4.3128694822865175,
            "y": 0
           },
           {
            "x": 6.671587902307065,
            "y": 0
           },
           {
            "x": 3.0084589326257927,
            "y": 0
           },
           {
            "x": 1.0795304946235063,
            "y": 0
           },
           {
            "x": 2.1779091043238186,
            "y": 0
           },
           {
            "x": 1.956789442754959,
            "y": 0
           },
           {
            "x": 1.5500764596023817,
            "y": 0
           },
           {
            "x": 1.5921122107380072,
            "y": 0
           },
           {
            "x": 3.87708811608638,
            "y": 0
           },
           {
            "x": 2.1006336343646326,
            "y": 0
           },
           {
            "x": 0.823484679481876,
            "y": 0
           },
           {
            "x": 1.4687183734048184,
            "y": 0
           },
           {
            "x": 2.4869369427529118,
            "y": 0
           },
           {
            "x": 3.4615284927121968,
            "y": 0
           },
           {
            "x": 3.2865173260970857,
            "y": 0
           },
           {
            "x": 1.0551058334117456,
            "y": 0
           },
           {
            "x": 2.1163692260375293,
            "y": 0
           },
           {
            "x": -0.42290216863207597,
            "y": 0
           },
           {
            "x": 3.038620814900092,
            "y": 0
           },
           {
            "x": 5.819922494622993,
            "y": 0
           },
           {
            "x": -0.16103460504808353,
            "y": 0
           },
           {
            "x": -0.09066674751330961,
            "y": 0
           },
           {
            "x": 7.577180348394015,
            "y": 0
           },
           {
            "x": 4.381901321375742,
            "y": 0
           },
           {
            "x": 1.9480478051012722,
            "y": 0
           },
           {
            "x": 2.7564669364488843,
            "y": 0
           },
           {
            "x": 0.8422522281147933,
            "y": 0
           },
           {
            "x": 2.703161108895836,
            "y": 0
           },
           {
            "x": 0.6479070632333885,
            "y": 0
           },
           {
            "x": 2.866175561088819,
            "y": 0
           },
           {
            "x": -2.423658822778183,
            "y": 0
           },
           {
            "x": 1.435141142032679,
            "y": 0
           },
           {
            "x": 4.47148813407113,
            "y": 0
           },
           {
            "x": 1.4870330458345504,
            "y": 0
           },
           {
            "x": 1.4510514018430354,
            "y": 0
           },
           {
            "x": 3.564081207260699,
            "y": 0
           },
           {
            "x": 3.2523090965370045,
            "y": 0
           },
           {
            "x": 0.10512144260410938,
            "y": 0
           },
           {
            "x": 2.7846769625548173,
            "y": 0
           },
           {
            "x": 3.020887548681272,
            "y": 0
           },
           {
            "x": 2.0357899038969323,
            "y": 0
           },
           {
            "x": 3.48606957452612,
            "y": 0
           },
           {
            "x": -0.09922218680067241,
            "y": 0
           },
           {
            "x": 3.523805775204787,
            "y": 0
           },
           {
            "x": -0.1409292819483854,
            "y": 0
           },
           {
            "x": 3.4289559113058754,
            "y": 0
           },
           {
            "x": 2.2469446747176063,
            "y": 0
           },
           {
            "x": 5.732034991806794,
            "y": 0
           },
           {
            "x": 2.9821118883493174,
            "y": 0
           },
           {
            "x": 6.244689252369791,
            "y": 0
           },
           {
            "x": 3.954312383876582,
            "y": 0
           },
           {
            "x": 3.425731306331835,
            "y": 0
           },
           {
            "x": 1.5814430044643697,
            "y": 0
           },
           {
            "x": 6.351506353277974,
            "y": 0
           },
           {
            "x": 2.156001625392464,
            "y": 0
           },
           {
            "x": -1.3670438985428355,
            "y": 0
           },
           {
            "x": 0.1481213296901993,
            "y": 0
           },
           {
            "x": 4.737196432505138,
            "y": 0
           },
           {
            "x": 1.1279313789654974,
            "y": 0
           },
           {
            "x": 6.4482448436150825,
            "y": 0
           },
           {
            "x": 6.9994933468348774,
            "y": 0
           },
           {
            "x": 2.1461831454988927,
            "y": 0
           },
           {
            "x": 4.226748651478719,
            "y": 0
           },
           {
            "x": -0.4384678828359725,
            "y": 0
           },
           {
            "x": 5.277814153629656,
            "y": 0
           },
           {
            "x": 3.343791803648981,
            "y": 0
           },
           {
            "x": 2.616881747462988,
            "y": 0
           },
           {
            "x": 1.3481661646401866,
            "y": 0
           },
           {
            "x": 4.8533026774901495,
            "y": 0
           },
           {
            "x": 2.3145573326282913,
            "y": 0
           },
           {
            "x": 3.8826703145730534,
            "y": 0
           },
           {
            "x": -0.3186995035880167,
            "y": 0
           },
           {
            "x": 5.720742390376161,
            "y": 0
           },
           {
            "x": 4.8728577245464315,
            "y": 0
           },
           {
            "x": 1.167881174042025,
            "y": 0
           },
           {
            "x": 2.9021125438989137,
            "y": 0
           },
           {
            "x": -1.4193989276940906,
            "y": 0
           },
           {
            "x": 2.27808801887151,
            "y": 0
           },
           {
            "x": 1.2812509244427883,
            "y": 0
           },
           {
            "x": 0.00016496918049968556,
            "y": 0
           },
           {
            "x": 2.65169318476201,
            "y": 0
           },
           {
            "x": 4.0187450440720545,
            "y": 0
           },
           {
            "x": 1.0474158990150653,
            "y": 0
           },
           {
            "x": -1.3596295493145596,
            "y": 0
           },
           {
            "x": 0.42436832025625026,
            "y": 0
           },
           {
            "x": 0.8784362472138607,
            "y": 0
           },
           {
            "x": 0.34051099206567903,
            "y": 0
           },
           {
            "x": 3.2156548614059743,
            "y": 0
           },
           {
            "x": 3.9803301744834014,
            "y": 0
           },
           {
            "x": 1.2853106617678283,
            "y": 0
           },
           {
            "x": 2.026562077000961,
            "y": 0
           },
           {
            "x": 0.4610364927242774,
            "y": 0
           },
           {
            "x": -1.2355751630836758,
            "y": 0
           },
           {
            "x": 2.784805930855517,
            "y": 0
           },
           {
            "x": 3.7897922455594917,
            "y": 0
           },
           {
            "x": 6.1066159110528915,
            "y": 0
           },
           {
            "x": 0.3180663121947016,
            "y": 0
           },
           {
            "x": 3.6691498063965367,
            "y": 0
           },
           {
            "x": 0.8934584334344828,
            "y": 0
           },
           {
            "x": 3.92580984852297,
            "y": 0
           },
           {
            "x": 4.6860360926641444,
            "y": 0
           },
           {
            "x": 4.200482732775959,
            "y": 0
           },
           {
            "x": 7.706778060624478,
            "y": 0
           },
           {
            "x": -1.3907099997359453,
            "y": 0
           },
           {
            "x": 2.828648672320914,
            "y": 0
           },
           {
            "x": 2.4440583218662972,
            "y": 0
           },
           {
            "x": 2.8909139577570167,
            "y": 0
           },
           {
            "x": 3.3750568602575575,
            "y": 0
           },
           {
            "x": 0.6417303648706987,
            "y": 0
           },
           {
            "x": -1.0135571340632619,
            "y": 0
           },
           {
            "x": -0.5590067645804715,
            "y": 0
           },
           {
            "x": 2.402237187925652,
            "y": 0
           },
           {
            "x": 3.837225729794694,
            "y": 0
           },
           {
            "x": 4.0108172469122465,
            "y": 0
           },
           {
            "x": 0.524530381385031,
            "y": 0
           },
           {
            "x": 3.8478755124427932,
            "y": 0
           },
           {
            "x": -1.4297211842126627,
            "y": 0
           },
           {
            "x": 3.532245785676531,
            "y": 0
           },
           {
            "x": 3.0192269473047464,
            "y": 0
           },
           {
            "x": 3.736228821639426,
            "y": 0
           },
           {
            "x": 3.445651934365314,
            "y": 0
           },
           {
            "x": 1.3654232624186067,
            "y": 0
           },
           {
            "x": 2.7523264173148267,
            "y": 0
           },
           {
            "x": -1.7134090658991266,
            "y": 0
           },
           {
            "x": 2.256993376451378,
            "y": 0
           },
           {
            "x": 4.200811767681168,
            "y": 0
           },
           {
            "x": -1.2908273861873898,
            "y": 0
           },
           {
            "x": 3.958202123437546,
            "y": 0
           },
           {
            "x": -0.4015343093956414,
            "y": 0
           },
           {
            "x": 1.1569275474332477,
            "y": 0
           },
           {
            "x": 2.9227559369430556,
            "y": 0
           },
           {
            "x": 3.671337573449052,
            "y": 0
           },
           {
            "x": 2.9512818504371503,
            "y": 0
           },
           {
            "x": 1.435263402747954,
            "y": 0
           },
           {
            "x": 0.6786707319029568,
            "y": 0
           },
           {
            "x": 4.795193331380724,
            "y": 0
           },
           {
            "x": -0.3224218094382336,
            "y": 0
           },
           {
            "x": 1.1987470298780933,
            "y": 0
           },
           {
            "x": 2.738389808010069,
            "y": 0
           },
           {
            "x": 3.0295327956832705,
            "y": 0
           },
           {
            "x": 2.7539781403907972,
            "y": 0
           },
           {
            "x": 1.6410146560533456,
            "y": 0
           },
           {
            "x": 3.6399620974490254,
            "y": 0
           },
           {
            "x": 1.8352579411149499,
            "y": 0
           },
           {
            "x": 0.3819610140052978,
            "y": 0
           },
           {
            "x": 0.4603297412168055,
            "y": 0
           },
           {
            "x": 2.291836281621664,
            "y": 0
           },
           {
            "x": 2.2493775009798562,
            "y": 0
           },
           {
            "x": 1.1025429675782654,
            "y": 0
           },
           {
            "x": 1.350354437721884,
            "y": 0
           },
           {
            "x": 2.726316727366597,
            "y": 0
           },
           {
            "x": 3.4077332298002743,
            "y": 0
           },
           {
            "x": 6.300032839801595,
            "y": 0
           },
           {
            "x": -1.5566910424225,
            "y": 0
           },
           {
            "x": 1.5162121959394876,
            "y": 0
           },
           {
            "x": 3.0258847018637125,
            "y": 0
           },
           {
            "x": 3.9036026389064418,
            "y": 0
           },
           {
            "x": 3.504857048997807,
            "y": 0
           },
           {
            "x": 2.933555970455906,
            "y": 0
           },
           {
            "x": 3.9859697264701426,
            "y": 0
           },
           {
            "x": 3.1322061394560685,
            "y": 0
           },
           {
            "x": 2.174477616730395,
            "y": 0
           },
           {
            "x": 1.1975521508437974,
            "y": 0
           },
           {
            "x": 3.2442635035532783,
            "y": 0
           },
           {
            "x": 4.798905400057018,
            "y": 0
           },
           {
            "x": 0.19896042255404112,
            "y": 0
           },
           {
            "x": 2.740192458455099,
            "y": 0
           },
           {
            "x": 2.7475092685988587,
            "y": 0
           },
           {
            "x": 6.024842764303787,
            "y": 0
           },
           {
            "x": -2.7940894558759366,
            "y": 0
           },
           {
            "x": 4.521109227353685,
            "y": 0
           },
           {
            "x": 2.104000536255618,
            "y": 0
           },
           {
            "x": 4.109097204372775,
            "y": 0
           },
           {
            "x": 6.909848012701973,
            "y": 0
           },
           {
            "x": 2.445270569848773,
            "y": 0
           },
           {
            "x": 3.868600773144867,
            "y": 0
           },
           {
            "x": 5.046498628992644,
            "y": 0
           },
           {
            "x": 5.4579514559287325,
            "y": 0
           },
           {
            "x": 1.4351675554455146,
            "y": 0
           },
           {
            "x": 5.5532555580723795,
            "y": 0
           },
           {
            "x": 3.4824771626622364,
            "y": 0
           },
           {
            "x": 2.6603080792848965,
            "y": 0
           },
           {
            "x": 1.7225169509952418,
            "y": 0
           },
           {
            "x": 6.401247738633776,
            "y": 0
           },
           {
            "x": 0.36095829044504946,
            "y": 0
           }
          ]
         },
         "encoding": {
          "x": {
           "field": "x",
           "type": "quantitative"
          },
          "y": {
           "field": "y",
           "type": "quantitative"
          }
         },
         "mark": {
          "color": "darkblue",
          "opacity": 0.2,
          "size": 10,
          "type": "point"
         }
        },
        {
         "data": {
          "values": [
           {
            "label": "E[X]^2",
            "x": 2.694124177665974,
            "y": 7.25830508468436
           }
          ]
         },
         "encoding": {
          "x": {
           "field": "x",
           "type": "quantitative"
          },
          "y": {
           "field": "y",
           "type": "quantitative"
          }
         },
         "mark": {
          "color": "black",
          "filled": true,
          "opacity": 0.9,
          "size": 200,
          "type": "point"
         }
        },
        {
         "data": {
          "values": [
           {
            "label": "E[X]^2",
            "x": 2.694124177665974,
            "y": 7.25830508468436
           }
          ]
         },
         "encoding": {
          "text": {
           "field": "label",
           "type": "nominal"
          },
          "x": {
           "field": "x",
           "type": "quantitative"
          },
          "y": {
           "field": "y",
           "type": "quantitative"
          }
         },
         "mark": {
          "align": "left",
          "baseline": "middle",
          "dx": 7,
          "type": "text"
         }
        }
       ]
      },
      "image/png": "[encoded data removed]",
      "text/plain": [
       "<VegaLite 2 object>\n",
       "\n",
       "If you see this message, it means the renderer has not been properly enabled\n",
       "for the frontend that you are using. For more information, see\n",
       "https://altair-viz.github.io/user_guide/troubleshooting.html\n"
      ]
     },
     "execution_count": 39,
     "metadata": {},
     "output_type": "execute_result"
    }
   ],
   "source": [
    "dt = make_altair_object_labels(X=[np.mean(s)], Y=[np.mean(s)** 2], L=[\"E[X]^2\"])\n",
    "\n",
    "c7 = alt.Chart(dt).mark_point(opacity=expectation_opacity, size=expectation_size, color=\"black\", filled=True).encode(\n",
    "    x='x:Q',  # specify ordinal data\n",
    "    y='y:Q',  # specify quantitative data\n",
    ")\n",
    "\n",
    "text7 = c7.mark_text(\n",
    "    align='left',\n",
    "    baseline='middle',\n",
    "    dx=7\n",
    ").encode(\n",
    "    text='label:N'\n",
    ")\n",
    "\n",
    "\n",
    "expected_x + labels + expected_x2 + labels2 + x2_points + x_points + c7 + text7"
   ]
  },
  {
   "cell_type": "markdown",
   "metadata": {},
   "source": [
    "The distance between $\\mathbb{E}[X^2]$ and $\\mathbb{E}[X]^2$ is $\\mathbb{E}[X^2]$ - $\\mathbb{E}[X]^2$, the variance!"
   ]
  },
  {
   "cell_type": "markdown",
   "metadata": {},
   "source": [
    "Because $\\mathbb{E}[X^2]$ is always above the black squares line, this also doubles as a visual proof that the variance is always non-negative. (See also this [awesome visual proof](http://mark.reid.name/blog/behold-jensens-inequality.html) of Jensen's Inequality, which gave me the idea for this post)."
   ]
  },
  {
   "cell_type": "markdown",
   "metadata": {},
   "source": [
    "\n",
    "### Plowing through the algebra \n",
    "\n",
    "This post is devoted to providing a visual intution for the alternate definition of variance. If you are curious about the algebra behind the definition, here is a detailed derivation as well.\n",
    "\n",
    "Starting from the definition and expanding the square we have\n",
    "\n",
    "$$Var(X) = \\mathbb{E}[(x - \\mathbb{E}[X])^2]$$\n",
    "\n",
    "$$Var(X) = \\mathbb{E}[X^2 - 2XE[X] + \\mathbb{E}[X]^2]$$\n",
    "\n",
    "From linearity of expectation we have:\n",
    "\n",
    "$$Var(X) = \\mathbb{E}[X^2]-  \\mathbb{E}[2XE[X]] +  \\mathbb{E}[\\mathbb{E}[X]^2]$$\n",
    "\n",
    "We can pull out the constants 2 and $\\mathbb{E}[X]$ from the expectation in the middle term to get:\n",
    "\n",
    "$$Var(X) = \\mathbb{E}[X^2]-  2\\mathbb{E}[X]\\mathbb{E}E[X] +  \\mathbb{E}[\\mathbb{E}[X^2]$$\n",
    "\n",
    "We can also express the middle term as $2\\mathbb{E}[X^2]$ to get\n",
    "\n",
    "$$Var(X) = \\mathbb{E}[X^2]-  2\\mathbb{E}[X^2]+  \\mathbb{E}[X^2]$$\n",
    "\n",
    "$$Var(X) = \\mathbb{E}[X^2]-  \\mathbb{E}[X^2] -  \\mathbb{E}[X^2]+  \\mathbb{E}[X^2]$$\n",
    "\n",
    "$$Var(X) = \\mathbb{E}[X^2] -   \\mathbb{E}[X^2]$$"
   ]
  }
 ],
 "metadata": {
  "kernelspec": {
   "display_name": "Python 3",
   "language": "python",
   "name": "python3"
  },
  "language_info": {
   "codemirror_mode": {
    "name": "ipython",
    "version": 3
   },
   "file_extension": ".py",
   "mimetype": "text/x-python",
   "name": "python",
   "nbconvert_exporter": "python",
   "pygments_lexer": "ipython3",
   "version": "3.6.2"
  }
 },
 "nbformat": 4,
 "nbformat_minor": 2
}
