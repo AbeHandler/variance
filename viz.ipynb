{
 "cells": [
  {
   "cell_type": "markdown",
   "metadata": {},
   "source": [
    "### Visual intuition for the other definition of variance\n",
    "\n",
    "\n",
    "I always think of the [variance](https://en.wikipedia.org/wiki/Variance) of some random variable $X$ as the variable's expected deviation from its mean $\\mathbb{E}[X]$. That is, I think of the variance as:\n",
    "\n",
    "\n",
    "$$Var(X)= \\mathbb{E}[(X - \\mathbb{E}[X])^2]$$\n",
    "\n",
    "where the squared term ensures that the variance is non-negative. However, on Wikipedia and in textbooks the variance is also sometimes defined as:\n",
    "\n",
    "$$Var(X) =\\mathbb{E}[X^2] - \\mathbb{E}[X]^2$$\n",
    "\n",
    "which is expected value of $X$ squared, minus the expected square of $X$. I never find this second definition intuitive. This is a visual demonstration of why the variance can be expressed in this way. (If you are curious about the algebra too, see the end of the post)."
   ]
  },
  {
   "cell_type": "markdown",
   "metadata": {},
   "source": [
    "### Get some data\n",
    "\n",
    "Let's start by drawing some data from a 1 dimensional normal with some mean and some standard deviation. Below, I make a histogram to visualize the data and plot the data as blue dots along the x axis. Each little blue dot along the x-axis is some datapoint $x_i$."
   ]
  },
  {
   "cell_type": "code",
   "execution_count": 1,
   "metadata": {},
   "outputs": [
    {
     "data": {
      "application/vnd.vegalite.v2+json": {
       "$schema": "https://vega.github.io/schema/vega-lite/v2.6.0.json",
       "config": {
        "view": {
         "height": 300,
         "width": 400
        }
       },
       "layer": [
        {
         "data": {
          "values": [
           {
            "x": -20,
            "y": 0
           },
           {
            "x": -19,
            "y": 0
           },
           {
            "x": -18,
            "y": 0
           },
           {
            "x": -17,
            "y": 0
           },
           {
            "x": -16,
            "y": 1
           },
           {
            "x": -15,
            "y": 0
           },
           {
            "x": -14,
            "y": 0
           },
           {
            "x": -13,
            "y": 0
           },
           {
            "x": -12,
            "y": 0
           },
           {
            "x": -11,
            "y": 0
           },
           {
            "x": -10,
            "y": 0
           },
           {
            "x": -9,
            "y": 0
           },
           {
            "x": -8,
            "y": 1
           },
           {
            "x": -7,
            "y": 1
           },
           {
            "x": -6,
            "y": 1
           },
           {
            "x": -5,
            "y": 3
           },
           {
            "x": -4,
            "y": 1
           },
           {
            "x": -3,
            "y": 3
           },
           {
            "x": -2,
            "y": 6
           },
           {
            "x": -1,
            "y": 1
           },
           {
            "x": 0,
            "y": 3
           },
           {
            "x": 1,
            "y": 7
           },
           {
            "x": 2,
            "y": 6
           },
           {
            "x": 3,
            "y": 2
           },
           {
            "x": 4,
            "y": 1
           },
           {
            "x": 5,
            "y": 8
           },
           {
            "x": 6,
            "y": 6
           },
           {
            "x": 7,
            "y": 8
           },
           {
            "x": 8,
            "y": 4
           },
           {
            "x": 9,
            "y": 7
           },
           {
            "x": 10,
            "y": 6
           },
           {
            "x": 11,
            "y": 5
           },
           {
            "x": 12,
            "y": 2
           },
           {
            "x": 13,
            "y": 2
           },
           {
            "x": 14,
            "y": 1
           },
           {
            "x": 15,
            "y": 4
           },
           {
            "x": 16,
            "y": 4
           },
           {
            "x": 17,
            "y": 1
           },
           {
            "x": 18,
            "y": 1
           },
           {
            "x": 19,
            "y": 2
           },
           {
            "x": 20,
            "y": 0
           },
           {
            "x": 21,
            "y": 0
           },
           {
            "x": 22,
            "y": 0
           },
           {
            "x": 23,
            "y": 0
           },
           {
            "x": 24,
            "y": 1
           }
          ]
         },
         "encoding": {
          "x": {
           "field": "x",
           "type": "quantitative"
          },
          "y": {
           "field": "y",
           "type": "quantitative"
          }
         },
         "mark": {
          "opacity": 0.2,
          "size": 10,
          "type": "bar"
         }
        },
        {
         "data": {
          "values": [
           {
            "x": 16.356302498103545,
            "y": 0
           },
           {
            "x": 2.067458102432533,
            "y": 0
           },
           {
            "x": 5.266201911665572,
            "y": 0
           },
           {
            "x": -1.13473893131322,
            "y": 0
           },
           {
            "x": 13.476820178500752,
            "y": 0
           },
           {
            "x": -1.0151401021709354,
            "y": 0
           },
           {
            "x": 15.310295714179553,
            "y": 0
           },
           {
            "x": 9.283842177026603,
            "y": 0
           },
           {
            "x": 6.526117879842467,
            "y": 0
           },
           {
            "x": 10.562726253296571,
            "y": 0
           },
           {
            "x": 6.129041638472524,
            "y": 0
           },
           {
            "x": 5.232932853929884,
            "y": 0
           },
           {
            "x": 2.1056311266609056,
            "y": 0
           },
           {
            "x": 8.303727733356641,
            "y": 0
           },
           {
            "x": 5.632473345444494,
            "y": 0
           },
           {
            "x": 0.8890230707468287,
            "y": 0
           },
           {
            "x": -4.16322812204719,
            "y": 0
           },
           {
            "x": 2.437630868225089,
            "y": 0
           },
           {
            "x": 6.864344199157076,
            "y": 0
           },
           {
            "x": 5.8769032165341,
            "y": 0
           },
           {
            "x": 1.5544348062788753,
            "y": 0
           },
           {
            "x": 2.1231611537687747,
            "y": 0
           },
           {
            "x": -1.3816946741768392,
            "y": 0
           },
           {
            "x": 6.555531900347834,
            "y": 0
           },
           {
            "x": 2.9254492393440117,
            "y": 0
           },
           {
            "x": 9.81865670907255,
            "y": 0
           },
           {
            "x": 9.685836370015295,
            "y": 0
           },
           {
            "x": -2.201282892181043,
            "y": 0
           },
           {
            "x": -5.72077462517707,
            "y": 0
           },
           {
            "x": 1.9709159619446153,
            "y": 0
           },
           {
            "x": 15.330645645479603,
            "y": 0
           },
           {
            "x": 7.6367488427929535,
            "y": 0
           },
           {
            "x": 18.671887751785253,
            "y": 0
           },
           {
            "x": 2.5013319660664752,
            "y": 0
           },
           {
            "x": -6.807342713250446,
            "y": 0
           },
           {
            "x": 24.498522922226993,
            "y": 0
           },
           {
            "x": -15.132344575910558,
            "y": 0
           },
           {
            "x": 7.208786749660025,
            "y": 0
           },
           {
            "x": -7.095991810103573,
            "y": 0
           },
           {
            "x": 11.671280548409566,
            "y": 0
           },
           {
            "x": -1.1263481660835257,
            "y": 0
           },
           {
            "x": 7.564895772728277,
            "y": 0
           },
           {
            "x": 7.684106094135782,
            "y": 0
           },
           {
            "x": 1.9857740491496134,
            "y": 0
           },
           {
            "x": 15.731727373012278,
            "y": 0
           },
           {
            "x": 8.867417245146402,
            "y": 0
           },
           {
            "x": 14.198342196076913,
            "y": 0
           },
           {
            "x": 13.097977112246445,
            "y": 0
           },
           {
            "x": 6.149285625274405,
            "y": 0
           },
           {
            "x": 9.275867176400661,
            "y": 0
           },
           {
            "x": 0.7951464519006013,
            "y": 0
           },
           {
            "x": 8.793341423759562,
            "y": 0
           },
           {
            "x": 12.219415493413889,
            "y": 0
           },
           {
            "x": -3.8154779728003305,
            "y": 0
           },
           {
            "x": 10.953745056276414,
            "y": 0
           },
           {
            "x": -2.163484914471015,
            "y": 0
           },
           {
            "x": 1.4276660812116209,
            "y": 0
           },
           {
            "x": 16.79637113282053,
            "y": 0
           },
           {
            "x": 5.099441209429912,
            "y": 0
           },
           {
            "x": 9.435672677470606,
            "y": 0
           },
           {
            "x": -4.676237888922678,
            "y": 0
           },
           {
            "x": 16.35550691244142,
            "y": 0
           },
           {
            "x": 11.586478785827342,
            "y": 0
           },
           {
            "x": -2.619892440042058,
            "y": 0
           },
           {
            "x": 16.94282355478218,
            "y": 0
           },
           {
            "x": 4.5524615143177884,
            "y": 0
           },
           {
            "x": 11.979398248537427,
            "y": 0
           },
           {
            "x": 5.683879004757185,
            "y": 0
           },
           {
            "x": 28.09358139432494,
            "y": 0
           },
           {
            "x": 7.895521281029026,
            "y": 0
           },
           {
            "x": 17.94748073162393,
            "y": 0
           },
           {
            "x": 19.82778624104938,
            "y": 0
           },
           {
            "x": 9.874699565112007,
            "y": 0
           },
           {
            "x": 11.056751729335843,
            "y": 0
           },
           {
            "x": -4.619918327915892,
            "y": 0
           },
           {
            "x": 10.752938464509846,
            "y": 0
           },
           {
            "x": 5.711684427672403,
            "y": 0
           },
           {
            "x": 8.49458972328006,
            "y": 0
           },
           {
            "x": 7.094614302990719,
            "y": 0
           },
           {
            "x": -1.4058286698721716,
            "y": 0
           },
           {
            "x": 19.495403084500882,
            "y": 0
           },
           {
            "x": 10.700022846484615,
            "y": 0
           },
           {
            "x": 11.99313816126925,
            "y": 0
           },
           {
            "x": 5.257709712872742,
            "y": 0
           },
           {
            "x": 15.374269552550603,
            "y": 0
           },
           {
            "x": 10.12049466199234,
            "y": 0
           },
           {
            "x": 1.0731129062244884,
            "y": 0
           },
           {
            "x": 7.064563152386798,
            "y": 0
           },
           {
            "x": -1.0234802546191393,
            "y": 0
           },
           {
            "x": -0.8237732504492481,
            "y": 0
           },
           {
            "x": 1.0959819815775207,
            "y": 0
           },
           {
            "x": 10.858666138143452,
            "y": 0
           },
           {
            "x": 6.939391522685215,
            "y": 0
           },
           {
            "x": 1.9504983137568317,
            "y": 0
           },
           {
            "x": 0.8161969849442503,
            "y": 0
           },
           {
            "x": 12.266025787794472,
            "y": 0
           },
           {
            "x": 9.251105684761766,
            "y": 0
           },
           {
            "x": 3.654877717248665,
            "y": 0
           },
           {
            "x": 7.0294460421810605,
            "y": 0
           },
           {
            "x": 3.88388074314642,
            "y": 0
           }
          ]
         },
         "encoding": {
          "x": {
           "field": "x",
           "type": "quantitative"
          },
          "y": {
           "field": "y",
           "type": "quantitative"
          }
         },
         "mark": {
          "clip": true,
          "color": "darkblue",
          "filled": true,
          "opacity": 0.2,
          "size": 100,
          "type": "point"
         }
        }
       ]
      },
      "image/png": "[encoded data removed]",
      "text/plain": [
       "<VegaLite 2 object>\n",
       "\n",
       "If you see this message, it means the renderer has not been properly enabled\n",
       "for the frontend that you are using. For more information, see\n",
       "https://altair-viz.github.io/user_guide/troubleshooting.html\n"
      ]
     },
     "execution_count": 1,
     "metadata": {},
     "output_type": "execute_result"
    }
   ],
   "source": [
    "import numpy as np\n",
    "from helper import *\n",
    "\n",
    "mu, sigma = 6, 7 # mean and standard deviation\n",
    "N = 100\n",
    "nbins = 25\n",
    "\n",
    "s =  np.random.normal(mu, sigma, size=N)\n",
    "\n",
    "values, bins = np.histogram(s, bins=np.arange(-20, nbins + 1))\n",
    "\n",
    "histogram = make_bar_chart(size=10, opacity=.1, X=bins, Y=values)\n",
    "\n",
    "x_points = make_scatter_chart(opacity=.2, X=s, Y=np.zeros(len(s)))\n",
    "\n",
    "histogram + x_points"
   ]
  },
  {
   "cell_type": "markdown",
   "metadata": {},
   "source": [
    "### Square the data\n",
    "\n",
    "The second definition of variance includes the square of each $x_i^2$ in the sample. I show the square of each $x_i$ along the y-axis with a red dot. We can see that the red dots sketch the curve of the function $x^2$. I show a little black line leading from each $x_i$ to its corresponding $x_i^2$."
   ]
  },
  {
   "cell_type": "code",
   "execution_count": 54,
   "metadata": {},
   "outputs": [
    {
     "data": {
      "application/vnd.vegalite.v2+json": {
       "$schema": "https://vega.github.io/schema/vega-lite/v2.6.0.json",
       "config": {
        "view": {
         "height": 300,
         "width": 400
        }
       },
       "layer": [
        {
         "data": {
          "values": [
           {
            "x": 16.356302498103545,
            "y": 0
           },
           {
            "x": 16.356302498103545,
            "y": 267.5286314094683
           }
          ]
         },
         "encoding": {
          "x": {
           "field": "x",
           "type": "quantitative"
          },
          "y": {
           "field": "y",
           "type": "quantitative"
          }
         },
         "mark": {
          "color": "black",
          "opacity": 0.1,
          "type": "line"
         }
        },
        {
         "data": {
          "values": [
           {
            "x": 2.067458102432533,
            "y": 0
           },
           {
            "x": 2.067458102432533,
            "y": 4.27438300531393
           }
          ]
         },
         "encoding": {
          "x": {
           "field": "x",
           "type": "quantitative"
          },
          "y": {
           "field": "y",
           "type": "quantitative"
          }
         },
         "mark": {
          "color": "black",
          "opacity": 0.1,
          "type": "line"
         }
        },
        {
         "data": {
          "values": [
           {
            "x": 5.266201911665572,
            "y": 0
           },
           {
            "x": 5.266201911665572,
            "y": 27.732882574430125
           }
          ]
         },
         "encoding": {
          "x": {
           "field": "x",
           "type": "quantitative"
          },
          "y": {
           "field": "y",
           "type": "quantitative"
          }
         },
         "mark": {
          "color": "black",
          "opacity": 0.1,
          "type": "line"
         }
        },
        {
         "data": {
          "values": [
           {
            "x": -1.13473893131322,
            "y": 0
           },
           {
            "x": -1.13473893131322,
            "y": 1.2876324422378684
           }
          ]
         },
         "encoding": {
          "x": {
           "field": "x",
           "type": "quantitative"
          },
          "y": {
           "field": "y",
           "type": "quantitative"
          }
         },
         "mark": {
          "color": "black",
          "opacity": 0.1,
          "type": "line"
         }
        },
        {
         "data": {
          "values": [
           {
            "x": 13.476820178500752,
            "y": 0
           },
           {
            "x": 13.476820178500752,
            "y": 181.62468212364504
           }
          ]
         },
         "encoding": {
          "x": {
           "field": "x",
           "type": "quantitative"
          },
          "y": {
           "field": "y",
           "type": "quantitative"
          }
         },
         "mark": {
          "color": "black",
          "opacity": 0.1,
          "type": "line"
         }
        },
        {
         "data": {
          "values": [
           {
            "x": -1.0151401021709354,
            "y": 0
           },
           {
            "x": -1.0151401021709354,
            "y": 1.0305094270356172
           }
          ]
         },
         "encoding": {
          "x": {
           "field": "x",
           "type": "quantitative"
          },
          "y": {
           "field": "y",
           "type": "quantitative"
          }
         },
         "mark": {
          "color": "black",
          "opacity": 0.1,
          "type": "line"
         }
        },
        {
         "data": {
          "values": [
           {
            "x": 15.310295714179553,
            "y": 0
           },
           {
            "x": 15.310295714179553,
            "y": 234.40515485562477
           }
          ]
         },
         "encoding": {
          "x": {
           "field": "x",
           "type": "quantitative"
          },
          "y": {
           "field": "y",
           "type": "quantitative"
          }
         },
         "mark": {
          "color": "black",
          "opacity": 0.1,
          "type": "line"
         }
        },
        {
         "data": {
          "values": [
           {
            "x": 9.283842177026603,
            "y": 0
           },
           {
            "x": 9.283842177026603,
            "y": 86.18972556793805
           }
          ]
         },
         "encoding": {
          "x": {
           "field": "x",
           "type": "quantitative"
          },
          "y": {
           "field": "y",
           "type": "quantitative"
          }
         },
         "mark": {
          "color": "black",
          "opacity": 0.1,
          "type": "line"
         }
        },
        {
         "data": {
          "values": [
           {
            "x": 6.526117879842467,
            "y": 0
           },
           {
            "x": 6.526117879842467,
            "y": 42.59021458159953
           }
          ]
         },
         "encoding": {
          "x": {
           "field": "x",
           "type": "quantitative"
          },
          "y": {
           "field": "y",
           "type": "quantitative"
          }
         },
         "mark": {
          "color": "black",
          "opacity": 0.1,
          "type": "line"
         }
        },
        {
         "data": {
          "values": [
           {
            "x": 10.562726253296571,
            "y": 0
           },
           {
            "x": 10.562726253296571,
            "y": 111.57118590208061
           }
          ]
         },
         "encoding": {
          "x": {
           "field": "x",
           "type": "quantitative"
          },
          "y": {
           "field": "y",
           "type": "quantitative"
          }
         },
         "mark": {
          "color": "black",
          "opacity": 0.1,
          "type": "line"
         }
        },
        {
         "data": {
          "values": [
           {
            "x": 6.129041638472524,
            "y": 0
           },
           {
            "x": 6.129041638472524,
            "y": 37.56515140612996
           }
          ]
         },
         "encoding": {
          "x": {
           "field": "x",
           "type": "quantitative"
          },
          "y": {
           "field": "y",
           "type": "quantitative"
          }
         },
         "mark": {
          "color": "black",
          "opacity": 0.1,
          "type": "line"
         }
        },
        {
         "data": {
          "values": [
           {
            "x": 5.232932853929884,
            "y": 0
           },
           {
            "x": 5.232932853929884,
            "y": 27.383586253738763
           }
          ]
         },
         "encoding": {
          "x": {
           "field": "x",
           "type": "quantitative"
          },
          "y": {
           "field": "y",
           "type": "quantitative"
          }
         },
         "mark": {
          "color": "black",
          "opacity": 0.1,
          "type": "line"
         }
        },
        {
         "data": {
          "values": [
           {
            "x": 2.1056311266609056,
            "y": 0
           },
           {
            "x": 2.1056311266609056,
            "y": 4.433682441563275
           }
          ]
         },
         "encoding": {
          "x": {
           "field": "x",
           "type": "quantitative"
          },
          "y": {
           "field": "y",
           "type": "quantitative"
          }
         },
         "mark": {
          "color": "black",
          "opacity": 0.1,
          "type": "line"
         }
        },
        {
         "data": {
          "values": [
           {
            "x": 8.303727733356641,
            "y": 0
           },
           {
            "x": 8.303727733356641,
            "y": 68.95189426971622
           }
          ]
         },
         "encoding": {
          "x": {
           "field": "x",
           "type": "quantitative"
          },
          "y": {
           "field": "y",
           "type": "quantitative"
          }
         },
         "mark": {
          "color": "black",
          "opacity": 0.1,
          "type": "line"
         }
        },
        {
         "data": {
          "values": [
           {
            "x": 5.632473345444494,
            "y": 0
           },
           {
            "x": 5.632473345444494,
            "y": 31.724755987142697
           }
          ]
         },
         "encoding": {
          "x": {
           "field": "x",
           "type": "quantitative"
          },
          "y": {
           "field": "y",
           "type": "quantitative"
          }
         },
         "mark": {
          "color": "black",
          "opacity": 0.1,
          "type": "line"
         }
        },
        {
         "data": {
          "values": [
           {
            "x": 0.8890230707468287,
            "y": 0
           },
           {
            "x": 0.8890230707468287,
            "y": 0.7903620203201208
           }
          ]
         },
         "encoding": {
          "x": {
           "field": "x",
           "type": "quantitative"
          },
          "y": {
           "field": "y",
           "type": "quantitative"
          }
         },
         "mark": {
          "color": "black",
          "opacity": 0.1,
          "type": "line"
         }
        },
        {
         "data": {
          "values": [
           {
            "x": -4.16322812204719,
            "y": 0
           },
           {
            "x": -4.16322812204719,
            "y": 17.332468396204575
           }
          ]
         },
         "encoding": {
          "x": {
           "field": "x",
           "type": "quantitative"
          },
          "y": {
           "field": "y",
           "type": "quantitative"
          }
         },
         "mark": {
          "color": "black",
          "opacity": 0.1,
          "type": "line"
         }
        },
        {
         "data": {
          "values": [
           {
            "x": 2.437630868225089,
            "y": 0
           },
           {
            "x": 2.437630868225089,
            "y": 5.942044249723802
           }
          ]
         },
         "encoding": {
          "x": {
           "field": "x",
           "type": "quantitative"
          },
          "y": {
           "field": "y",
           "type": "quantitative"
          }
         },
         "mark": {
          "color": "black",
          "opacity": 0.1,
          "type": "line"
         }
        },
        {
         "data": {
          "values": [
           {
            "x": 6.864344199157076,
            "y": 0
           },
           {
            "x": 6.864344199157076,
            "y": 47.11922128450139
           }
          ]
         },
         "encoding": {
          "x": {
           "field": "x",
           "type": "quantitative"
          },
          "y": {
           "field": "y",
           "type": "quantitative"
          }
         },
         "mark": {
          "color": "black",
          "opacity": 0.1,
          "type": "line"
         }
        },
        {
         "data": {
          "values": [
           {
            "x": 5.8769032165341,
            "y": 0
           },
           {
            "x": 5.8769032165341,
            "y": 34.53799141650885
           }
          ]
         },
         "encoding": {
          "x": {
           "field": "x",
           "type": "quantitative"
          },
          "y": {
           "field": "y",
           "type": "quantitative"
          }
         },
         "mark": {
          "color": "black",
          "opacity": 0.1,
          "type": "line"
         }
        },
        {
         "data": {
          "values": [
           {
            "x": 1.5544348062788753,
            "y": 0
           },
           {
            "x": 1.5544348062788753,
            "y": 2.4162675669712446
           }
          ]
         },
         "encoding": {
          "x": {
           "field": "x",
           "type": "quantitative"
          },
          "y": {
           "field": "y",
           "type": "quantitative"
          }
         },
         "mark": {
          "color": "black",
          "opacity": 0.1,
          "type": "line"
         }
        },
        {
         "data": {
          "values": [
           {
            "x": 2.1231611537687747,
            "y": 0
           },
           {
            "x": 2.1231611537687747,
            "y": 4.507813284872754
           }
          ]
         },
         "encoding": {
          "x": {
           "field": "x",
           "type": "quantitative"
          },
          "y": {
           "field": "y",
           "type": "quantitative"
          }
         },
         "mark": {
          "color": "black",
          "opacity": 0.1,
          "type": "line"
         }
        },
        {
         "data": {
          "values": [
           {
            "x": -1.3816946741768392,
            "y": 0
           },
           {
            "x": -1.3816946741768392,
            "y": 1.909080172648642
           }
          ]
         },
         "encoding": {
          "x": {
           "field": "x",
           "type": "quantitative"
          },
          "y": {
           "field": "y",
           "type": "quantitative"
          }
         },
         "mark": {
          "color": "black",
          "opacity": 0.1,
          "type": "line"
         }
        },
        {
         "data": {
          "values": [
           {
            "x": 6.555531900347834,
            "y": 0
           },
           {
            "x": 6.555531900347834,
            "y": 42.97499849647808
           }
          ]
         },
         "encoding": {
          "x": {
           "field": "x",
           "type": "quantitative"
          },
          "y": {
           "field": "y",
           "type": "quantitative"
          }
         },
         "mark": {
          "color": "black",
          "opacity": 0.1,
          "type": "line"
         }
        },
        {
         "data": {
          "values": [
           {
            "x": 2.9254492393440117,
            "y": 0
           },
           {
            "x": 2.9254492393440117,
            "y": 8.558253251978456
           }
          ]
         },
         "encoding": {
          "x": {
           "field": "x",
           "type": "quantitative"
          },
          "y": {
           "field": "y",
           "type": "quantitative"
          }
         },
         "mark": {
          "color": "black",
          "opacity": 0.1,
          "type": "line"
         }
        },
        {
         "data": {
          "values": [
           {
            "x": 9.81865670907255,
            "y": 0
           },
           {
            "x": 9.81865670907255,
            "y": 96.40601957061541
           }
          ]
         },
         "encoding": {
          "x": {
           "field": "x",
           "type": "quantitative"
          },
          "y": {
           "field": "y",
           "type": "quantitative"
          }
         },
         "mark": {
          "color": "black",
          "opacity": 0.1,
          "type": "line"
         }
        },
        {
         "data": {
          "values": [
           {
            "x": 9.685836370015295,
            "y": 0
           },
           {
            "x": 9.685836370015295,
            "y": 93.81542618671106
           }
          ]
         },
         "encoding": {
          "x": {
           "field": "x",
           "type": "quantitative"
          },
          "y": {
           "field": "y",
           "type": "quantitative"
          }
         },
         "mark": {
          "color": "black",
          "opacity": 0.1,
          "type": "line"
         }
        },
        {
         "data": {
          "values": [
           {
            "x": -2.201282892181043,
            "y": 0
           },
           {
            "x": -2.201282892181043,
            "y": 4.845646371408937
           }
          ]
         },
         "encoding": {
          "x": {
           "field": "x",
           "type": "quantitative"
          },
          "y": {
           "field": "y",
           "type": "quantitative"
          }
         },
         "mark": {
          "color": "black",
          "opacity": 0.1,
          "type": "line"
         }
        },
        {
         "data": {
          "values": [
           {
            "x": -5.72077462517707,
            "y": 0
           },
           {
            "x": -5.72077462517707,
            "y": 32.72726231206984
           }
          ]
         },
         "encoding": {
          "x": {
           "field": "x",
           "type": "quantitative"
          },
          "y": {
           "field": "y",
           "type": "quantitative"
          }
         },
         "mark": {
          "color": "black",
          "opacity": 0.1,
          "type": "line"
         }
        },
        {
         "data": {
          "values": [
           {
            "x": 1.9709159619446153,
            "y": 0
           },
           {
            "x": 1.9709159619446153,
            "y": 3.884509729048068
           }
          ]
         },
         "encoding": {
          "x": {
           "field": "x",
           "type": "quantitative"
          },
          "y": {
           "field": "y",
           "type": "quantitative"
          }
         },
         "mark": {
          "color": "black",
          "opacity": 0.1,
          "type": "line"
         }
        },
        {
         "data": {
          "values": [
           {
            "x": 15.330645645479603,
            "y": 0
           },
           {
            "x": 15.330645645479603,
            "y": 235.02869590726272
           }
          ]
         },
         "encoding": {
          "x": {
           "field": "x",
           "type": "quantitative"
          },
          "y": {
           "field": "y",
           "type": "quantitative"
          }
         },
         "mark": {
          "color": "black",
          "opacity": 0.1,
          "type": "line"
         }
        },
        {
         "data": {
          "values": [
           {
            "x": 7.6367488427929535,
            "y": 0
           },
           {
            "x": 7.6367488427929535,
            "y": 58.31993288789951
           }
          ]
         },
         "encoding": {
          "x": {
           "field": "x",
           "type": "quantitative"
          },
          "y": {
           "field": "y",
           "type": "quantitative"
          }
         },
         "mark": {
          "color": "black",
          "opacity": 0.1,
          "type": "line"
         }
        },
        {
         "data": {
          "values": [
           {
            "x": 18.671887751785253,
            "y": 0
           },
           {
            "x": 18.671887751785253,
            "y": 348.6393922152681
           }
          ]
         },
         "encoding": {
          "x": {
           "field": "x",
           "type": "quantitative"
          },
          "y": {
           "field": "y",
           "type": "quantitative"
          }
         },
         "mark": {
          "color": "black",
          "opacity": 0.1,
          "type": "line"
         }
        },
        {
         "data": {
          "values": [
           {
            "x": 2.5013319660664752,
            "y": 0
           },
           {
            "x": 2.5013319660664752,
            "y": 6.256661604465978
           }
          ]
         },
         "encoding": {
          "x": {
           "field": "x",
           "type": "quantitative"
          },
          "y": {
           "field": "y",
           "type": "quantitative"
          }
         },
         "mark": {
          "color": "black",
          "opacity": 0.1,
          "type": "line"
         }
        },
        {
         "data": {
          "values": [
           {
            "x": -6.807342713250446,
            "y": 0
           },
           {
            "x": -6.807342713250446,
            "y": 46.33991481564394
           }
          ]
         },
         "encoding": {
          "x": {
           "field": "x",
           "type": "quantitative"
          },
          "y": {
           "field": "y",
           "type": "quantitative"
          }
         },
         "mark": {
          "color": "black",
          "opacity": 0.1,
          "type": "line"
         }
        },
        {
         "data": {
          "values": [
           {
            "x": 24.498522922226993,
            "y": 0
           },
           {
            "x": 24.498522922226993,
            "y": 600.1776253708814
           }
          ]
         },
         "encoding": {
          "x": {
           "field": "x",
           "type": "quantitative"
          },
          "y": {
           "field": "y",
           "type": "quantitative"
          }
         },
         "mark": {
          "color": "black",
          "opacity": 0.1,
          "type": "line"
         }
        },
        {
         "data": {
          "values": [
           {
            "x": -15.132344575910558,
            "y": 0
           },
           {
            "x": -15.132344575910558,
            "y": 228.9878523640897
           }
          ]
         },
         "encoding": {
          "x": {
           "field": "x",
           "type": "quantitative"
          },
          "y": {
           "field": "y",
           "type": "quantitative"
          }
         },
         "mark": {
          "color": "black",
          "opacity": 0.1,
          "type": "line"
         }
        },
        {
         "data": {
          "values": [
           {
            "x": 7.208786749660025,
            "y": 0
           },
           {
            "x": 7.208786749660025,
            "y": 51.96660640207394
           }
          ]
         },
         "encoding": {
          "x": {
           "field": "x",
           "type": "quantitative"
          },
          "y": {
           "field": "y",
           "type": "quantitative"
          }
         },
         "mark": {
          "color": "black",
          "opacity": 0.1,
          "type": "line"
         }
        },
        {
         "data": {
          "values": [
           {
            "x": -7.095991810103573,
            "y": 0
           },
           {
            "x": -7.095991810103573,
            "y": 50.35309976905699
           }
          ]
         },
         "encoding": {
          "x": {
           "field": "x",
           "type": "quantitative"
          },
          "y": {
           "field": "y",
           "type": "quantitative"
          }
         },
         "mark": {
          "color": "black",
          "opacity": 0.1,
          "type": "line"
         }
        },
        {
         "data": {
          "values": [
           {
            "x": 11.671280548409566,
            "y": 0
           },
           {
            "x": 11.671280548409566,
            "y": 136.2187896396835
           }
          ]
         },
         "encoding": {
          "x": {
           "field": "x",
           "type": "quantitative"
          },
          "y": {
           "field": "y",
           "type": "quantitative"
          }
         },
         "mark": {
          "color": "black",
          "opacity": 0.1,
          "type": "line"
         }
        },
        {
         "data": {
          "values": [
           {
            "x": -1.1263481660835257,
            "y": 0
           },
           {
            "x": -1.1263481660835257,
            "y": 1.2686601912397217
           }
          ]
         },
         "encoding": {
          "x": {
           "field": "x",
           "type": "quantitative"
          },
          "y": {
           "field": "y",
           "type": "quantitative"
          }
         },
         "mark": {
          "color": "black",
          "opacity": 0.1,
          "type": "line"
         }
        },
        {
         "data": {
          "values": [
           {
            "x": 7.564895772728277,
            "y": 0
           },
           {
            "x": 7.564895772728277,
            "y": 57.22764805224215
           }
          ]
         },
         "encoding": {
          "x": {
           "field": "x",
           "type": "quantitative"
          },
          "y": {
           "field": "y",
           "type": "quantitative"
          }
         },
         "mark": {
          "color": "black",
          "opacity": 0.1,
          "type": "line"
         }
        },
        {
         "data": {
          "values": [
           {
            "x": 7.684106094135782,
            "y": 0
           },
           {
            "x": 7.684106094135782,
            "y": 59.04548646593466
           }
          ]
         },
         "encoding": {
          "x": {
           "field": "x",
           "type": "quantitative"
          },
          "y": {
           "field": "y",
           "type": "quantitative"
          }
         },
         "mark": {
          "color": "black",
          "opacity": 0.1,
          "type": "line"
         }
        },
        {
         "data": {
          "values": [
           {
            "x": 1.9857740491496134,
            "y": 0
           },
           {
            "x": 1.9857740491496134,
            "y": 3.943298574276051
           }
          ]
         },
         "encoding": {
          "x": {
           "field": "x",
           "type": "quantitative"
          },
          "y": {
           "field": "y",
           "type": "quantitative"
          }
         },
         "mark": {
          "color": "black",
          "opacity": 0.1,
          "type": "line"
         }
        },
        {
         "data": {
          "values": [
           {
            "x": 15.731727373012278,
            "y": 0
           },
           {
            "x": 15.731727373012278,
            "y": 247.4872461387838
           }
          ]
         },
         "encoding": {
          "x": {
           "field": "x",
           "type": "quantitative"
          },
          "y": {
           "field": "y",
           "type": "quantitative"
          }
         },
         "mark": {
          "color": "black",
          "opacity": 0.1,
          "type": "line"
         }
        },
        {
         "data": {
          "values": [
           {
            "x": 8.867417245146402,
            "y": 0
           },
           {
            "x": 8.867417245146402,
            "y": 78.63108859951981
           }
          ]
         },
         "encoding": {
          "x": {
           "field": "x",
           "type": "quantitative"
          },
          "y": {
           "field": "y",
           "type": "quantitative"
          }
         },
         "mark": {
          "color": "black",
          "opacity": 0.1,
          "type": "line"
         }
        },
        {
         "data": {
          "values": [
           {
            "x": 14.198342196076913,
            "y": 0
           },
           {
            "x": 14.198342196076913,
            "y": 201.59292111689817
           }
          ]
         },
         "encoding": {
          "x": {
           "field": "x",
           "type": "quantitative"
          },
          "y": {
           "field": "y",
           "type": "quantitative"
          }
         },
         "mark": {
          "color": "black",
          "opacity": 0.1,
          "type": "line"
         }
        },
        {
         "data": {
          "values": [
           {
            "x": 13.097977112246445,
            "y": 0
           },
           {
            "x": 13.097977112246445,
            "y": 171.55700443293173
           }
          ]
         },
         "encoding": {
          "x": {
           "field": "x",
           "type": "quantitative"
          },
          "y": {
           "field": "y",
           "type": "quantitative"
          }
         },
         "mark": {
          "color": "black",
          "opacity": 0.1,
          "type": "line"
         }
        },
        {
         "data": {
          "values": [
           {
            "x": 6.149285625274405,
            "y": 0
           },
           {
            "x": 6.149285625274405,
            "y": 37.813713701206424
           }
          ]
         },
         "encoding": {
          "x": {
           "field": "x",
           "type": "quantitative"
          },
          "y": {
           "field": "y",
           "type": "quantitative"
          }
         },
         "mark": {
          "color": "black",
          "opacity": 0.1,
          "type": "line"
         }
        },
        {
         "data": {
          "values": [
           {
            "x": 9.275867176400661,
            "y": 0
           },
           {
            "x": 9.275867176400661,
            "y": 86.04171187422718
           }
          ]
         },
         "encoding": {
          "x": {
           "field": "x",
           "type": "quantitative"
          },
          "y": {
           "field": "y",
           "type": "quantitative"
          }
         },
         "mark": {
          "color": "black",
          "opacity": 0.1,
          "type": "line"
         }
        },
        {
         "data": {
          "values": [
           {
            "x": 0.7951464519006013,
            "y": 0
           },
           {
            "x": 0.7951464519006013,
            "y": 0.6322578799701153
           }
          ]
         },
         "encoding": {
          "x": {
           "field": "x",
           "type": "quantitative"
          },
          "y": {
           "field": "y",
           "type": "quantitative"
          }
         },
         "mark": {
          "color": "black",
          "opacity": 0.1,
          "type": "line"
         }
        },
        {
         "data": {
          "values": [
           {
            "x": 8.793341423759562,
            "y": 0
           },
           {
            "x": 8.793341423759562,
            "y": 77.32285339480585
           }
          ]
         },
         "encoding": {
          "x": {
           "field": "x",
           "type": "quantitative"
          },
          "y": {
           "field": "y",
           "type": "quantitative"
          }
         },
         "mark": {
          "color": "black",
          "opacity": 0.1,
          "type": "line"
         }
        },
        {
         "data": {
          "values": [
           {
            "x": 12.219415493413889,
            "y": 0
           },
           {
            "x": 12.219415493413889,
            "y": 149.3141150006834
           }
          ]
         },
         "encoding": {
          "x": {
           "field": "x",
           "type": "quantitative"
          },
          "y": {
           "field": "y",
           "type": "quantitative"
          }
         },
         "mark": {
          "color": "black",
          "opacity": 0.1,
          "type": "line"
         }
        },
        {
         "data": {
          "values": [
           {
            "x": -3.8154779728003305,
            "y": 0
           },
           {
            "x": -3.8154779728003305,
            "y": 14.55787216092452
           }
          ]
         },
         "encoding": {
          "x": {
           "field": "x",
           "type": "quantitative"
          },
          "y": {
           "field": "y",
           "type": "quantitative"
          }
         },
         "mark": {
          "color": "black",
          "opacity": 0.1,
          "type": "line"
         }
        },
        {
         "data": {
          "values": [
           {
            "x": 10.953745056276414,
            "y": 0
           },
           {
            "x": 10.953745056276414,
            "y": 119.98453075789999
           }
          ]
         },
         "encoding": {
          "x": {
           "field": "x",
           "type": "quantitative"
          },
          "y": {
           "field": "y",
           "type": "quantitative"
          }
         },
         "mark": {
          "color": "black",
          "opacity": 0.1,
          "type": "line"
         }
        },
        {
         "data": {
          "values": [
           {
            "x": -2.163484914471015,
            "y": 0
           },
           {
            "x": -2.163484914471015,
            "y": 4.680666975143654
           }
          ]
         },
         "encoding": {
          "x": {
           "field": "x",
           "type": "quantitative"
          },
          "y": {
           "field": "y",
           "type": "quantitative"
          }
         },
         "mark": {
          "color": "black",
          "opacity": 0.1,
          "type": "line"
         }
        },
        {
         "data": {
          "values": [
           {
            "x": 1.4276660812116209,
            "y": 0
           },
           {
            "x": 1.4276660812116209,
            "y": 2.038230439442146
           }
          ]
         },
         "encoding": {
          "x": {
           "field": "x",
           "type": "quantitative"
          },
          "y": {
           "field": "y",
           "type": "quantitative"
          }
         },
         "mark": {
          "color": "black",
          "opacity": 0.1,
          "type": "line"
         }
        },
        {
         "data": {
          "values": [
           {
            "x": 16.79637113282053,
            "y": 0
           },
           {
            "x": 16.79637113282053,
            "y": 282.11808323144675
           }
          ]
         },
         "encoding": {
          "x": {
           "field": "x",
           "type": "quantitative"
          },
          "y": {
           "field": "y",
           "type": "quantitative"
          }
         },
         "mark": {
          "color": "black",
          "opacity": 0.1,
          "type": "line"
         }
        },
        {
         "data": {
          "values": [
           {
            "x": 5.099441209429912,
            "y": 0
           },
           {
            "x": 5.099441209429912,
            "y": 26.004300648432004
           }
          ]
         },
         "encoding": {
          "x": {
           "field": "x",
           "type": "quantitative"
          },
          "y": {
           "field": "y",
           "type": "quantitative"
          }
         },
         "mark": {
          "color": "black",
          "opacity": 0.1,
          "type": "line"
         }
        },
        {
         "data": {
          "values": [
           {
            "x": 9.435672677470606,
            "y": 0
           },
           {
            "x": 9.435672677470606,
            "y": 89.03191887636531
           }
          ]
         },
         "encoding": {
          "x": {
           "field": "x",
           "type": "quantitative"
          },
          "y": {
           "field": "y",
           "type": "quantitative"
          }
         },
         "mark": {
          "color": "black",
          "opacity": 0.1,
          "type": "line"
         }
        },
        {
         "data": {
          "values": [
           {
            "x": -4.676237888922678,
            "y": 0
           },
           {
            "x": -4.676237888922678,
            "y": 21.867200793796027
           }
          ]
         },
         "encoding": {
          "x": {
           "field": "x",
           "type": "quantitative"
          },
          "y": {
           "field": "y",
           "type": "quantitative"
          }
         },
         "mark": {
          "color": "black",
          "opacity": 0.1,
          "type": "line"
         }
        },
        {
         "data": {
          "values": [
           {
            "x": 16.35550691244142,
            "y": 0
           },
           {
            "x": 16.35550691244142,
            "y": 267.5026063629191
           }
          ]
         },
         "encoding": {
          "x": {
           "field": "x",
           "type": "quantitative"
          },
          "y": {
           "field": "y",
           "type": "quantitative"
          }
         },
         "mark": {
          "color": "black",
          "opacity": 0.1,
          "type": "line"
         }
        },
        {
         "data": {
          "values": [
           {
            "x": 11.586478785827342,
            "y": 0
           },
           {
            "x": 11.586478785827342,
            "y": 134.24649065442705
           }
          ]
         },
         "encoding": {
          "x": {
           "field": "x",
           "type": "quantitative"
          },
          "y": {
           "field": "y",
           "type": "quantitative"
          }
         },
         "mark": {
          "color": "black",
          "opacity": 0.1,
          "type": "line"
         }
        },
        {
         "data": {
          "values": [
           {
            "x": -2.619892440042058,
            "y": 0
           },
           {
            "x": -2.619892440042058,
            "y": 6.863836397389528
           }
          ]
         },
         "encoding": {
          "x": {
           "field": "x",
           "type": "quantitative"
          },
          "y": {
           "field": "y",
           "type": "quantitative"
          }
         },
         "mark": {
          "color": "black",
          "opacity": 0.1,
          "type": "line"
         }
        },
        {
         "data": {
          "values": [
           {
            "x": 16.94282355478218,
            "y": 0
           },
           {
            "x": 16.94282355478218,
            "y": 287.05927000848186
           }
          ]
         },
         "encoding": {
          "x": {
           "field": "x",
           "type": "quantitative"
          },
          "y": {
           "field": "y",
           "type": "quantitative"
          }
         },
         "mark": {
          "color": "black",
          "opacity": 0.1,
          "type": "line"
         }
        },
        {
         "data": {
          "values": [
           {
            "x": 4.5524615143177884,
            "y": 0
           },
           {
            "x": 4.5524615143177884,
            "y": 20.72490583934461
           }
          ]
         },
         "encoding": {
          "x": {
           "field": "x",
           "type": "quantitative"
          },
          "y": {
           "field": "y",
           "type": "quantitative"
          }
         },
         "mark": {
          "color": "black",
          "opacity": 0.1,
          "type": "line"
         }
        },
        {
         "data": {
          "values": [
           {
            "x": 11.979398248537427,
            "y": 0
           },
           {
            "x": 11.979398248537427,
            "y": 143.50598239706156
           }
          ]
         },
         "encoding": {
          "x": {
           "field": "x",
           "type": "quantitative"
          },
          "y": {
           "field": "y",
           "type": "quantitative"
          }
         },
         "mark": {
          "color": "black",
          "opacity": 0.1,
          "type": "line"
         }
        },
        {
         "data": {
          "values": [
           {
            "x": 5.683879004757185,
            "y": 0
           },
           {
            "x": 5.683879004757185,
            "y": 32.30648054071953
           }
          ]
         },
         "encoding": {
          "x": {
           "field": "x",
           "type": "quantitative"
          },
          "y": {
           "field": "y",
           "type": "quantitative"
          }
         },
         "mark": {
          "color": "black",
          "opacity": 0.1,
          "type": "line"
         }
        },
        {
         "data": {
          "values": [
           {
            "x": 28.09358139432494,
            "y": 0
           },
           {
            "x": 28.09358139432494,
            "y": 789.2493155595604
           }
          ]
         },
         "encoding": {
          "x": {
           "field": "x",
           "type": "quantitative"
          },
          "y": {
           "field": "y",
           "type": "quantitative"
          }
         },
         "mark": {
          "color": "black",
          "opacity": 0.1,
          "type": "line"
         }
        },
        {
         "data": {
          "values": [
           {
            "x": 7.895521281029026,
            "y": 0
           },
           {
            "x": 7.895521281029026,
            "y": 62.33925629918224
           }
          ]
         },
         "encoding": {
          "x": {
           "field": "x",
           "type": "quantitative"
          },
          "y": {
           "field": "y",
           "type": "quantitative"
          }
         },
         "mark": {
          "color": "black",
          "opacity": 0.1,
          "type": "line"
         }
        },
        {
         "data": {
          "values": [
           {
            "x": 17.94748073162393,
            "y": 0
           },
           {
            "x": 17.94748073162393,
            "y": 322.11206461201226
           }
          ]
         },
         "encoding": {
          "x": {
           "field": "x",
           "type": "quantitative"
          },
          "y": {
           "field": "y",
           "type": "quantitative"
          }
         },
         "mark": {
          "color": "black",
          "opacity": 0.1,
          "type": "line"
         }
        },
        {
         "data": {
          "values": [
           {
            "x": 19.82778624104938,
            "y": 0
           },
           {
            "x": 19.82778624104938,
            "y": 393.14110722074713
           }
          ]
         },
         "encoding": {
          "x": {
           "field": "x",
           "type": "quantitative"
          },
          "y": {
           "field": "y",
           "type": "quantitative"
          }
         },
         "mark": {
          "color": "black",
          "opacity": 0.1,
          "type": "line"
         }
        },
        {
         "data": {
          "values": [
           {
            "x": 9.874699565112007,
            "y": 0
           },
           {
            "x": 9.874699565112007,
            "y": 97.50969150122326
           }
          ]
         },
         "encoding": {
          "x": {
           "field": "x",
           "type": "quantitative"
          },
          "y": {
           "field": "y",
           "type": "quantitative"
          }
         },
         "mark": {
          "color": "black",
          "opacity": 0.1,
          "type": "line"
         }
        },
        {
         "data": {
          "values": [
           {
            "x": 11.056751729335843,
            "y": 0
           },
           {
            "x": 11.056751729335843,
            "y": 122.25175880417116
           }
          ]
         },
         "encoding": {
          "x": {
           "field": "x",
           "type": "quantitative"
          },
          "y": {
           "field": "y",
           "type": "quantitative"
          }
         },
         "mark": {
          "color": "black",
          "opacity": 0.1,
          "type": "line"
         }
        },
        {
         "data": {
          "values": [
           {
            "x": -4.619918327915892,
            "y": 0
           },
           {
            "x": -4.619918327915892,
            "y": 21.34364535661317
           }
          ]
         },
         "encoding": {
          "x": {
           "field": "x",
           "type": "quantitative"
          },
          "y": {
           "field": "y",
           "type": "quantitative"
          }
         },
         "mark": {
          "color": "black",
          "opacity": 0.1,
          "type": "line"
         }
        },
        {
         "data": {
          "values": [
           {
            "x": 10.752938464509846,
            "y": 0
           },
           {
            "x": 10.752938464509846,
            "y": 115.62568562153537
           }
          ]
         },
         "encoding": {
          "x": {
           "field": "x",
           "type": "quantitative"
          },
          "y": {
           "field": "y",
           "type": "quantitative"
          }
         },
         "mark": {
          "color": "black",
          "opacity": 0.1,
          "type": "line"
         }
        },
        {
         "data": {
          "values": [
           {
            "x": 5.711684427672403,
            "y": 0
           },
           {
            "x": 5.711684427672403,
            "y": 32.62333900131543
           }
          ]
         },
         "encoding": {
          "x": {
           "field": "x",
           "type": "quantitative"
          },
          "y": {
           "field": "y",
           "type": "quantitative"
          }
         },
         "mark": {
          "color": "black",
          "opacity": 0.1,
          "type": "line"
         }
        },
        {
         "data": {
          "values": [
           {
            "x": 8.49458972328006,
            "y": 0
           },
           {
            "x": 8.49458972328006,
            "y": 72.1580545668552
           }
          ]
         },
         "encoding": {
          "x": {
           "field": "x",
           "type": "quantitative"
          },
          "y": {
           "field": "y",
           "type": "quantitative"
          }
         },
         "mark": {
          "color": "black",
          "opacity": 0.1,
          "type": "line"
         }
        },
        {
         "data": {
          "values": [
           {
            "x": 7.094614302990719,
            "y": 0
           },
           {
            "x": 7.094614302990719,
            "y": 50.33355210820048
           }
          ]
         },
         "encoding": {
          "x": {
           "field": "x",
           "type": "quantitative"
          },
          "y": {
           "field": "y",
           "type": "quantitative"
          }
         },
         "mark": {
          "color": "black",
          "opacity": 0.1,
          "type": "line"
         }
        },
        {
         "data": {
          "values": [
           {
            "x": -1.4058286698721716,
            "y": 0
           },
           {
            "x": -1.4058286698721716,
            "y": 1.9763542490345591
           }
          ]
         },
         "encoding": {
          "x": {
           "field": "x",
           "type": "quantitative"
          },
          "y": {
           "field": "y",
           "type": "quantitative"
          }
         },
         "mark": {
          "color": "black",
          "opacity": 0.1,
          "type": "line"
         }
        },
        {
         "data": {
          "values": [
           {
            "x": 19.495403084500882,
            "y": 0
           },
           {
            "x": 19.495403084500882,
            "y": 380.0707414271665
           }
          ]
         },
         "encoding": {
          "x": {
           "field": "x",
           "type": "quantitative"
          },
          "y": {
           "field": "y",
           "type": "quantitative"
          }
         },
         "mark": {
          "color": "black",
          "opacity": 0.1,
          "type": "line"
         }
        },
        {
         "data": {
          "values": [
           {
            "x": 10.700022846484615,
            "y": 0
           },
           {
            "x": 10.700022846484615,
            "y": 114.49048891529272
           }
          ]
         },
         "encoding": {
          "x": {
           "field": "x",
           "type": "quantitative"
          },
          "y": {
           "field": "y",
           "type": "quantitative"
          }
         },
         "mark": {
          "color": "black",
          "opacity": 0.1,
          "type": "line"
         }
        },
        {
         "data": {
          "values": [
           {
            "x": 11.99313816126925,
            "y": 0
           },
           {
            "x": 11.99313816126925,
            "y": 143.83536295529277
           }
          ]
         },
         "encoding": {
          "x": {
           "field": "x",
           "type": "quantitative"
          },
          "y": {
           "field": "y",
           "type": "quantitative"
          }
         },
         "mark": {
          "color": "black",
          "opacity": 0.1,
          "type": "line"
         }
        },
        {
         "data": {
          "values": [
           {
            "x": 5.257709712872742,
            "y": 0
           },
           {
            "x": 5.257709712872742,
            "y": 27.643511424836376
           }
          ]
         },
         "encoding": {
          "x": {
           "field": "x",
           "type": "quantitative"
          },
          "y": {
           "field": "y",
           "type": "quantitative"
          }
         },
         "mark": {
          "color": "black",
          "opacity": 0.1,
          "type": "line"
         }
        },
        {
         "data": {
          "values": [
           {
            "x": 15.374269552550603,
            "y": 0
           },
           {
            "x": 15.374269552550603,
            "y": 236.3681642744845
           }
          ]
         },
         "encoding": {
          "x": {
           "field": "x",
           "type": "quantitative"
          },
          "y": {
           "field": "y",
           "type": "quantitative"
          }
         },
         "mark": {
          "color": "black",
          "opacity": 0.1,
          "type": "line"
         }
        },
        {
         "data": {
          "values": [
           {
            "x": 10.12049466199234,
            "y": 0
           },
           {
            "x": 10.12049466199234,
            "y": 102.42441220341547
           }
          ]
         },
         "encoding": {
          "x": {
           "field": "x",
           "type": "quantitative"
          },
          "y": {
           "field": "y",
           "type": "quantitative"
          }
         },
         "mark": {
          "color": "black",
          "opacity": 0.1,
          "type": "line"
         }
        },
        {
         "data": {
          "values": [
           {
            "x": 1.0731129062244884,
            "y": 0
           },
           {
            "x": 1.0731129062244884,
            "y": 1.1515713095055677
           }
          ]
         },
         "encoding": {
          "x": {
           "field": "x",
           "type": "quantitative"
          },
          "y": {
           "field": "y",
           "type": "quantitative"
          }
         },
         "mark": {
          "color": "black",
          "opacity": 0.1,
          "type": "line"
         }
        },
        {
         "data": {
          "values": [
           {
            "x": 7.064563152386798,
            "y": 0
           },
           {
            "x": 7.064563152386798,
            "y": 49.90805253406129
           }
          ]
         },
         "encoding": {
          "x": {
           "field": "x",
           "type": "quantitative"
          },
          "y": {
           "field": "y",
           "type": "quantitative"
          }
         },
         "mark": {
          "color": "black",
          "opacity": 0.1,
          "type": "line"
         }
        },
        {
         "data": {
          "values": [
           {
            "x": -1.0234802546191393,
            "y": 0
           },
           {
            "x": -1.0234802546191393,
            "y": 1.047511831595258
           }
          ]
         },
         "encoding": {
          "x": {
           "field": "x",
           "type": "quantitative"
          },
          "y": {
           "field": "y",
           "type": "quantitative"
          }
         },
         "mark": {
          "color": "black",
          "opacity": 0.1,
          "type": "line"
         }
        },
        {
         "data": {
          "values": [
           {
            "x": -0.8237732504492481,
            "y": 0
           },
           {
            "x": -0.8237732504492481,
            "y": 0.6786023681557196
           }
          ]
         },
         "encoding": {
          "x": {
           "field": "x",
           "type": "quantitative"
          },
          "y": {
           "field": "y",
           "type": "quantitative"
          }
         },
         "mark": {
          "color": "black",
          "opacity": 0.1,
          "type": "line"
         }
        },
        {
         "data": {
          "values": [
           {
            "x": 1.0959819815775207,
            "y": 0
           },
           {
            "x": 1.0959819815775207,
            "y": 1.201176503942589
           }
          ]
         },
         "encoding": {
          "x": {
           "field": "x",
           "type": "quantitative"
          },
          "y": {
           "field": "y",
           "type": "quantitative"
          }
         },
         "mark": {
          "color": "black",
          "opacity": 0.1,
          "type": "line"
         }
        },
        {
         "data": {
          "values": [
           {
            "x": 10.858666138143452,
            "y": 0
           },
           {
            "x": 10.858666138143452,
            "y": 117.91063029966323
           }
          ]
         },
         "encoding": {
          "x": {
           "field": "x",
           "type": "quantitative"
          },
          "y": {
           "field": "y",
           "type": "quantitative"
          }
         },
         "mark": {
          "color": "black",
          "opacity": 0.1,
          "type": "line"
         }
        },
        {
         "data": {
          "values": [
           {
            "x": 6.939391522685215,
            "y": 0
           },
           {
            "x": 6.939391522685215,
            "y": 48.15515470511542
           }
          ]
         },
         "encoding": {
          "x": {
           "field": "x",
           "type": "quantitative"
          },
          "y": {
           "field": "y",
           "type": "quantitative"
          }
         },
         "mark": {
          "color": "black",
          "opacity": 0.1,
          "type": "line"
         }
        },
        {
         "data": {
          "values": [
           {
            "x": 1.9504983137568317,
            "y": 0
           },
           {
            "x": 1.9504983137568317,
            "y": 3.8044436719682437
           }
          ]
         },
         "encoding": {
          "x": {
           "field": "x",
           "type": "quantitative"
          },
          "y": {
           "field": "y",
           "type": "quantitative"
          }
         },
         "mark": {
          "color": "black",
          "opacity": 0.1,
          "type": "line"
         }
        },
        {
         "data": {
          "values": [
           {
            "x": 0.8161969849442503,
            "y": 0
           },
           {
            "x": 0.8161969849442503,
            "y": 0.6661775182320847
           }
          ]
         },
         "encoding": {
          "x": {
           "field": "x",
           "type": "quantitative"
          },
          "y": {
           "field": "y",
           "type": "quantitative"
          }
         },
         "mark": {
          "color": "black",
          "opacity": 0.1,
          "type": "line"
         }
        },
        {
         "data": {
          "values": [
           {
            "x": 12.266025787794472,
            "y": 0
           },
           {
            "x": 12.266025787794472,
            "y": 150.455388626839
           }
          ]
         },
         "encoding": {
          "x": {
           "field": "x",
           "type": "quantitative"
          },
          "y": {
           "field": "y",
           "type": "quantitative"
          }
         },
         "mark": {
          "color": "black",
          "opacity": 0.1,
          "type": "line"
         }
        },
        {
         "data": {
          "values": [
           {
            "x": 9.251105684761766,
            "y": 0
           },
           {
            "x": 9.251105684761766,
            "y": 85.58295639063147
           }
          ]
         },
         "encoding": {
          "x": {
           "field": "x",
           "type": "quantitative"
          },
          "y": {
           "field": "y",
           "type": "quantitative"
          }
         },
         "mark": {
          "color": "black",
          "opacity": 0.1,
          "type": "line"
         }
        },
        {
         "data": {
          "values": [
           {
            "x": 3.654877717248665,
            "y": 0
           },
           {
            "x": 3.654877717248665,
            "y": 13.358131128040812
           }
          ]
         },
         "encoding": {
          "x": {
           "field": "x",
           "type": "quantitative"
          },
          "y": {
           "field": "y",
           "type": "quantitative"
          }
         },
         "mark": {
          "color": "black",
          "opacity": 0.1,
          "type": "line"
         }
        },
        {
         "data": {
          "values": [
           {
            "x": 7.0294460421810605,
            "y": 0
           },
           {
            "x": 7.0294460421810605,
            "y": 49.41311165993498
           }
          ]
         },
         "encoding": {
          "x": {
           "field": "x",
           "type": "quantitative"
          },
          "y": {
           "field": "y",
           "type": "quantitative"
          }
         },
         "mark": {
          "color": "black",
          "opacity": 0.1,
          "type": "line"
         }
        },
        {
         "data": {
          "values": [
           {
            "x": 3.88388074314642,
            "y": 0
           },
           {
            "x": 3.88388074314642,
            "y": 15.084529626983587
           }
          ]
         },
         "encoding": {
          "x": {
           "field": "x",
           "type": "quantitative"
          },
          "y": {
           "field": "y",
           "type": "quantitative"
          }
         },
         "mark": {
          "color": "black",
          "opacity": 0.1,
          "type": "line"
         }
        },
        {
         "layer": [
          {
           "data": {
            "values": [
             {
              "x": 16.356302498103545,
              "y": 0
             },
             {
              "x": 2.067458102432533,
              "y": 0
             },
             {
              "x": 5.266201911665572,
              "y": 0
             },
             {
              "x": -1.13473893131322,
              "y": 0
             },
             {
              "x": 13.476820178500752,
              "y": 0
             },
             {
              "x": -1.0151401021709354,
              "y": 0
             },
             {
              "x": 15.310295714179553,
              "y": 0
             },
             {
              "x": 9.283842177026603,
              "y": 0
             },
             {
              "x": 6.526117879842467,
              "y": 0
             },
             {
              "x": 10.562726253296571,
              "y": 0
             },
             {
              "x": 6.129041638472524,
              "y": 0
             },
             {
              "x": 5.232932853929884,
              "y": 0
             },
             {
              "x": 2.1056311266609056,
              "y": 0
             },
             {
              "x": 8.303727733356641,
              "y": 0
             },
             {
              "x": 5.632473345444494,
              "y": 0
             },
             {
              "x": 0.8890230707468287,
              "y": 0
             },
             {
              "x": -4.16322812204719,
              "y": 0
             },
             {
              "x": 2.437630868225089,
              "y": 0
             },
             {
              "x": 6.864344199157076,
              "y": 0
             },
             {
              "x": 5.8769032165341,
              "y": 0
             },
             {
              "x": 1.5544348062788753,
              "y": 0
             },
             {
              "x": 2.1231611537687747,
              "y": 0
             },
             {
              "x": -1.3816946741768392,
              "y": 0
             },
             {
              "x": 6.555531900347834,
              "y": 0
             },
             {
              "x": 2.9254492393440117,
              "y": 0
             },
             {
              "x": 9.81865670907255,
              "y": 0
             },
             {
              "x": 9.685836370015295,
              "y": 0
             },
             {
              "x": -2.201282892181043,
              "y": 0
             },
             {
              "x": -5.72077462517707,
              "y": 0
             },
             {
              "x": 1.9709159619446153,
              "y": 0
             },
             {
              "x": 15.330645645479603,
              "y": 0
             },
             {
              "x": 7.6367488427929535,
              "y": 0
             },
             {
              "x": 18.671887751785253,
              "y": 0
             },
             {
              "x": 2.5013319660664752,
              "y": 0
             },
             {
              "x": -6.807342713250446,
              "y": 0
             },
             {
              "x": 24.498522922226993,
              "y": 0
             },
             {
              "x": -15.132344575910558,
              "y": 0
             },
             {
              "x": 7.208786749660025,
              "y": 0
             },
             {
              "x": -7.095991810103573,
              "y": 0
             },
             {
              "x": 11.671280548409566,
              "y": 0
             },
             {
              "x": -1.1263481660835257,
              "y": 0
             },
             {
              "x": 7.564895772728277,
              "y": 0
             },
             {
              "x": 7.684106094135782,
              "y": 0
             },
             {
              "x": 1.9857740491496134,
              "y": 0
             },
             {
              "x": 15.731727373012278,
              "y": 0
             },
             {
              "x": 8.867417245146402,
              "y": 0
             },
             {
              "x": 14.198342196076913,
              "y": 0
             },
             {
              "x": 13.097977112246445,
              "y": 0
             },
             {
              "x": 6.149285625274405,
              "y": 0
             },
             {
              "x": 9.275867176400661,
              "y": 0
             },
             {
              "x": 0.7951464519006013,
              "y": 0
             },
             {
              "x": 8.793341423759562,
              "y": 0
             },
             {
              "x": 12.219415493413889,
              "y": 0
             },
             {
              "x": -3.8154779728003305,
              "y": 0
             },
             {
              "x": 10.953745056276414,
              "y": 0
             },
             {
              "x": -2.163484914471015,
              "y": 0
             },
             {
              "x": 1.4276660812116209,
              "y": 0
             },
             {
              "x": 16.79637113282053,
              "y": 0
             },
             {
              "x": 5.099441209429912,
              "y": 0
             },
             {
              "x": 9.435672677470606,
              "y": 0
             },
             {
              "x": -4.676237888922678,
              "y": 0
             },
             {
              "x": 16.35550691244142,
              "y": 0
             },
             {
              "x": 11.586478785827342,
              "y": 0
             },
             {
              "x": -2.619892440042058,
              "y": 0
             },
             {
              "x": 16.94282355478218,
              "y": 0
             },
             {
              "x": 4.5524615143177884,
              "y": 0
             },
             {
              "x": 11.979398248537427,
              "y": 0
             },
             {
              "x": 5.683879004757185,
              "y": 0
             },
             {
              "x": 28.09358139432494,
              "y": 0
             },
             {
              "x": 7.895521281029026,
              "y": 0
             },
             {
              "x": 17.94748073162393,
              "y": 0
             },
             {
              "x": 19.82778624104938,
              "y": 0
             },
             {
              "x": 9.874699565112007,
              "y": 0
             },
             {
              "x": 11.056751729335843,
              "y": 0
             },
             {
              "x": -4.619918327915892,
              "y": 0
             },
             {
              "x": 10.752938464509846,
              "y": 0
             },
             {
              "x": 5.711684427672403,
              "y": 0
             },
             {
              "x": 8.49458972328006,
              "y": 0
             },
             {
              "x": 7.094614302990719,
              "y": 0
             },
             {
              "x": -1.4058286698721716,
              "y": 0
             },
             {
              "x": 19.495403084500882,
              "y": 0
             },
             {
              "x": 10.700022846484615,
              "y": 0
             },
             {
              "x": 11.99313816126925,
              "y": 0
             },
             {
              "x": 5.257709712872742,
              "y": 0
             },
             {
              "x": 15.374269552550603,
              "y": 0
             },
             {
              "x": 10.12049466199234,
              "y": 0
             },
             {
              "x": 1.0731129062244884,
              "y": 0
             },
             {
              "x": 7.064563152386798,
              "y": 0
             },
             {
              "x": -1.0234802546191393,
              "y": 0
             },
             {
              "x": -0.8237732504492481,
              "y": 0
             },
             {
              "x": 1.0959819815775207,
              "y": 0
             },
             {
              "x": 10.858666138143452,
              "y": 0
             },
             {
              "x": 6.939391522685215,
              "y": 0
             },
             {
              "x": 1.9504983137568317,
              "y": 0
             },
             {
              "x": 0.8161969849442503,
              "y": 0
             },
             {
              "x": 12.266025787794472,
              "y": 0
             },
             {
              "x": 9.251105684761766,
              "y": 0
             },
             {
              "x": 3.654877717248665,
              "y": 0
             },
             {
              "x": 7.0294460421810605,
              "y": 0
             },
             {
              "x": 3.88388074314642,
              "y": 0
             }
            ]
           },
           "encoding": {
            "x": {
             "field": "x",
             "scale": {
              "domain": [
               1,
               20
              ]
             },
             "type": "quantitative"
            },
            "y": {
             "field": "y",
             "type": "quantitative"
            }
           },
           "mark": {
            "clip": true,
            "color": "darkblue",
            "filled": true,
            "opacity": 0.2,
            "size": 100,
            "type": "point"
           }
          },
          {
           "data": {
            "values": [
             {
              "x": 16.356302498103545,
              "y": 267.5286314094683
             },
             {
              "x": 2.067458102432533,
              "y": 4.27438300531393
             },
             {
              "x": 5.266201911665572,
              "y": 27.732882574430125
             },
             {
              "x": -1.13473893131322,
              "y": 1.2876324422378684
             },
             {
              "x": 13.476820178500752,
              "y": 181.62468212364504
             },
             {
              "x": -1.0151401021709354,
              "y": 1.0305094270356172
             },
             {
              "x": 15.310295714179553,
              "y": 234.40515485562477
             },
             {
              "x": 9.283842177026603,
              "y": 86.18972556793805
             },
             {
              "x": 6.526117879842467,
              "y": 42.59021458159953
             },
             {
              "x": 10.562726253296571,
              "y": 111.57118590208061
             },
             {
              "x": 6.129041638472524,
              "y": 37.56515140612996
             },
             {
              "x": 5.232932853929884,
              "y": 27.383586253738763
             },
             {
              "x": 2.1056311266609056,
              "y": 4.433682441563275
             },
             {
              "x": 8.303727733356641,
              "y": 68.95189426971622
             },
             {
              "x": 5.632473345444494,
              "y": 31.724755987142697
             },
             {
              "x": 0.8890230707468287,
              "y": 0.7903620203201208
             },
             {
              "x": -4.16322812204719,
              "y": 17.332468396204575
             },
             {
              "x": 2.437630868225089,
              "y": 5.942044249723802
             },
             {
              "x": 6.864344199157076,
              "y": 47.11922128450139
             },
             {
              "x": 5.8769032165341,
              "y": 34.53799141650885
             },
             {
              "x": 1.5544348062788753,
              "y": 2.4162675669712446
             },
             {
              "x": 2.1231611537687747,
              "y": 4.507813284872754
             },
             {
              "x": -1.3816946741768392,
              "y": 1.909080172648642
             },
             {
              "x": 6.555531900347834,
              "y": 42.97499849647808
             },
             {
              "x": 2.9254492393440117,
              "y": 8.558253251978456
             },
             {
              "x": 9.81865670907255,
              "y": 96.40601957061541
             },
             {
              "x": 9.685836370015295,
              "y": 93.81542618671106
             },
             {
              "x": -2.201282892181043,
              "y": 4.845646371408937
             },
             {
              "x": -5.72077462517707,
              "y": 32.72726231206984
             },
             {
              "x": 1.9709159619446153,
              "y": 3.884509729048068
             },
             {
              "x": 15.330645645479603,
              "y": 235.02869590726272
             },
             {
              "x": 7.6367488427929535,
              "y": 58.31993288789951
             },
             {
              "x": 18.671887751785253,
              "y": 348.6393922152681
             },
             {
              "x": 2.5013319660664752,
              "y": 6.256661604465978
             },
             {
              "x": -6.807342713250446,
              "y": 46.33991481564394
             },
             {
              "x": 24.498522922226993,
              "y": 600.1776253708814
             },
             {
              "x": -15.132344575910558,
              "y": 228.9878523640897
             },
             {
              "x": 7.208786749660025,
              "y": 51.96660640207394
             },
             {
              "x": -7.095991810103573,
              "y": 50.35309976905699
             },
             {
              "x": 11.671280548409566,
              "y": 136.2187896396835
             },
             {
              "x": -1.1263481660835257,
              "y": 1.2686601912397217
             },
             {
              "x": 7.564895772728277,
              "y": 57.22764805224215
             },
             {
              "x": 7.684106094135782,
              "y": 59.04548646593466
             },
             {
              "x": 1.9857740491496134,
              "y": 3.943298574276051
             },
             {
              "x": 15.731727373012278,
              "y": 247.4872461387838
             },
             {
              "x": 8.867417245146402,
              "y": 78.63108859951981
             },
             {
              "x": 14.198342196076913,
              "y": 201.59292111689817
             },
             {
              "x": 13.097977112246445,
              "y": 171.55700443293173
             },
             {
              "x": 6.149285625274405,
              "y": 37.813713701206424
             },
             {
              "x": 9.275867176400661,
              "y": 86.04171187422718
             },
             {
              "x": 0.7951464519006013,
              "y": 0.6322578799701153
             },
             {
              "x": 8.793341423759562,
              "y": 77.32285339480585
             },
             {
              "x": 12.219415493413889,
              "y": 149.3141150006834
             },
             {
              "x": -3.8154779728003305,
              "y": 14.55787216092452
             },
             {
              "x": 10.953745056276414,
              "y": 119.98453075789999
             },
             {
              "x": -2.163484914471015,
              "y": 4.680666975143654
             },
             {
              "x": 1.4276660812116209,
              "y": 2.038230439442146
             },
             {
              "x": 16.79637113282053,
              "y": 282.11808323144675
             },
             {
              "x": 5.099441209429912,
              "y": 26.004300648432004
             },
             {
              "x": 9.435672677470606,
              "y": 89.03191887636531
             },
             {
              "x": -4.676237888922678,
              "y": 21.867200793796027
             },
             {
              "x": 16.35550691244142,
              "y": 267.5026063629191
             },
             {
              "x": 11.586478785827342,
              "y": 134.24649065442705
             },
             {
              "x": -2.619892440042058,
              "y": 6.863836397389528
             },
             {
              "x": 16.94282355478218,
              "y": 287.05927000848186
             },
             {
              "x": 4.5524615143177884,
              "y": 20.72490583934461
             },
             {
              "x": 11.979398248537427,
              "y": 143.50598239706156
             },
             {
              "x": 5.683879004757185,
              "y": 32.30648054071953
             },
             {
              "x": 28.09358139432494,
              "y": 789.2493155595604
             },
             {
              "x": 7.895521281029026,
              "y": 62.33925629918224
             },
             {
              "x": 17.94748073162393,
              "y": 322.11206461201226
             },
             {
              "x": 19.82778624104938,
              "y": 393.14110722074713
             },
             {
              "x": 9.874699565112007,
              "y": 97.50969150122326
             },
             {
              "x": 11.056751729335843,
              "y": 122.25175880417116
             },
             {
              "x": -4.619918327915892,
              "y": 21.34364535661317
             },
             {
              "x": 10.752938464509846,
              "y": 115.62568562153537
             },
             {
              "x": 5.711684427672403,
              "y": 32.62333900131543
             },
             {
              "x": 8.49458972328006,
              "y": 72.1580545668552
             },
             {
              "x": 7.094614302990719,
              "y": 50.33355210820048
             },
             {
              "x": -1.4058286698721716,
              "y": 1.9763542490345591
             },
             {
              "x": 19.495403084500882,
              "y": 380.0707414271665
             },
             {
              "x": 10.700022846484615,
              "y": 114.49048891529272
             },
             {
              "x": 11.99313816126925,
              "y": 143.83536295529277
             },
             {
              "x": 5.257709712872742,
              "y": 27.643511424836376
             },
             {
              "x": 15.374269552550603,
              "y": 236.3681642744845
             },
             {
              "x": 10.12049466199234,
              "y": 102.42441220341547
             },
             {
              "x": 1.0731129062244884,
              "y": 1.1515713095055677
             },
             {
              "x": 7.064563152386798,
              "y": 49.90805253406129
             },
             {
              "x": -1.0234802546191393,
              "y": 1.047511831595258
             },
             {
              "x": -0.8237732504492481,
              "y": 0.6786023681557196
             },
             {
              "x": 1.0959819815775207,
              "y": 1.201176503942589
             },
             {
              "x": 10.858666138143452,
              "y": 117.91063029966323
             },
             {
              "x": 6.939391522685215,
              "y": 48.15515470511542
             },
             {
              "x": 1.9504983137568317,
              "y": 3.8044436719682437
             },
             {
              "x": 0.8161969849442503,
              "y": 0.6661775182320847
             },
             {
              "x": 12.266025787794472,
              "y": 150.455388626839
             },
             {
              "x": 9.251105684761766,
              "y": 85.58295639063147
             },
             {
              "x": 3.654877717248665,
              "y": 13.358131128040812
             },
             {
              "x": 7.0294460421810605,
              "y": 49.41311165993498
             },
             {
              "x": 3.88388074314642,
              "y": 15.084529626983587
             }
            ]
           },
           "encoding": {
            "x": {
             "field": "x",
             "type": "quantitative"
            },
            "y": {
             "field": "y",
             "type": "quantitative"
            }
           },
           "mark": {
            "clip": true,
            "color": "firebrick",
            "filled": true,
            "opacity": 0.2,
            "size": 100,
            "type": "point"
           }
          }
         ]
        }
       ]
      },
      "image/png": "[encoded data removed]",
      "text/plain": [
       "<VegaLite 2 object>\n",
       "\n",
       "If you see this message, it means the renderer has not been properly enabled\n",
       "for the frontend that you are using. For more information, see\n",
       "https://altair-viz.github.io/user_guide/troubleshooting.html\n"
      ]
     },
     "execution_count": 54,
     "metadata": {},
     "output_type": "execute_result"
    }
   ],
   "source": [
    "x2_points = make_scatter_chart(X=s, Y=[i ** 2 for i in s], color=\"firebrick\")\n",
    "\n",
    "guide_lines = make_guide_lines(s)\n",
    "\n",
    "functools.reduce(lambda a,b : a+b,guide_lines + [x_points  + x2_points])"
   ]
  },
  {
   "cell_type": "markdown",
   "metadata": {},
   "source": [
    "### Find the expectation of the squares\n",
    "\n",
    "Because each $x_i$ has equal probability, if we average the y-coordinates of the black dots, we get the expected value of $x_i^2$, which is $\\mathbb{E}[X^2] = \\frac{\\Sigma_i^N[x_i]}{N}$. We show $\\mathbb{E}[X^2]$ as a big red dot on the chart. For clarity, I shift the axis a bit to zoom in."
   ]
  },
  {
   "cell_type": "code",
   "execution_count": 71,
   "metadata": {},
   "outputs": [
    {
     "data": {
      "application/vnd.vegalite.v2+json": {
       "$schema": "https://vega.github.io/schema/vega-lite/v2.6.0.json",
       "config": {
        "view": {
         "height": 300,
         "width": 400
        }
       },
       "layer": [
        {
         "data": {
          "values": [
           {
            "label": "E[X^2]",
            "x": 6.602988560498277,
            "y": 95.36634333316174
           }
          ]
         },
         "encoding": {
          "x": {
           "field": "x",
           "scale": {
            "domain": [
             -10,
             20
            ]
           },
           "type": "quantitative"
          },
          "y": {
           "field": "y",
           "type": "quantitative"
          }
         },
         "mark": {
          "clip": true,
          "color": "firebrick",
          "filled": true,
          "opacity": 1,
          "size": 200,
          "type": "point"
         }
        },
        {
         "data": {
          "values": [
           {
            "label": "E[X^2]",
            "x": 6.602988560498277,
            "y": 95.36634333316174
           }
          ]
         },
         "encoding": {
          "text": {
           "field": "label",
           "type": "nominal"
          },
          "x": {
           "field": "x",
           "scale": {
            "domain": [
             -10,
             20
            ]
           },
           "type": "quantitative"
          },
          "y": {
           "field": "y",
           "type": "quantitative"
          }
         },
         "mark": {
          "align": "left",
          "baseline": "bottom",
          "dx": 16,
          "fill": "white",
          "fillOpacity": 1,
          "opacity": 1,
          "stroke": "black",
          "type": "text",
          "xOffset": -2,
          "yOffset": -4
         }
        },
        {
         "data": {
          "values": [
           {
            "x": 16.356302498103545,
            "y": 267.5286314094683
           },
           {
            "x": 2.067458102432533,
            "y": 4.27438300531393
           },
           {
            "x": 5.266201911665572,
            "y": 27.732882574430125
           },
           {
            "x": -1.13473893131322,
            "y": 1.2876324422378684
           },
           {
            "x": 13.476820178500752,
            "y": 181.62468212364504
           },
           {
            "x": -1.0151401021709354,
            "y": 1.0305094270356172
           },
           {
            "x": 15.310295714179553,
            "y": 234.40515485562477
           },
           {
            "x": 9.283842177026603,
            "y": 86.18972556793805
           },
           {
            "x": 6.526117879842467,
            "y": 42.59021458159953
           },
           {
            "x": 10.562726253296571,
            "y": 111.57118590208061
           },
           {
            "x": 6.129041638472524,
            "y": 37.56515140612996
           },
           {
            "x": 5.232932853929884,
            "y": 27.383586253738763
           },
           {
            "x": 2.1056311266609056,
            "y": 4.433682441563275
           },
           {
            "x": 8.303727733356641,
            "y": 68.95189426971622
           },
           {
            "x": 5.632473345444494,
            "y": 31.724755987142697
           },
           {
            "x": 0.8890230707468287,
            "y": 0.7903620203201208
           },
           {
            "x": -4.16322812204719,
            "y": 17.332468396204575
           },
           {
            "x": 2.437630868225089,
            "y": 5.942044249723802
           },
           {
            "x": 6.864344199157076,
            "y": 47.11922128450139
           },
           {
            "x": 5.8769032165341,
            "y": 34.53799141650885
           },
           {
            "x": 1.5544348062788753,
            "y": 2.4162675669712446
           },
           {
            "x": 2.1231611537687747,
            "y": 4.507813284872754
           },
           {
            "x": -1.3816946741768392,
            "y": 1.909080172648642
           },
           {
            "x": 6.555531900347834,
            "y": 42.97499849647808
           },
           {
            "x": 2.9254492393440117,
            "y": 8.558253251978456
           },
           {
            "x": 9.81865670907255,
            "y": 96.40601957061541
           },
           {
            "x": 9.685836370015295,
            "y": 93.81542618671106
           },
           {
            "x": -2.201282892181043,
            "y": 4.845646371408937
           },
           {
            "x": -5.72077462517707,
            "y": 32.72726231206984
           },
           {
            "x": 1.9709159619446153,
            "y": 3.884509729048068
           },
           {
            "x": 15.330645645479603,
            "y": 235.02869590726272
           },
           {
            "x": 7.6367488427929535,
            "y": 58.31993288789951
           },
           {
            "x": 18.671887751785253,
            "y": 348.6393922152681
           },
           {
            "x": 2.5013319660664752,
            "y": 6.256661604465978
           },
           {
            "x": -6.807342713250446,
            "y": 46.33991481564394
           },
           {
            "x": 24.498522922226993,
            "y": 600.1776253708814
           },
           {
            "x": -15.132344575910558,
            "y": 228.9878523640897
           },
           {
            "x": 7.208786749660025,
            "y": 51.96660640207394
           },
           {
            "x": -7.095991810103573,
            "y": 50.35309976905699
           },
           {
            "x": 11.671280548409566,
            "y": 136.2187896396835
           },
           {
            "x": -1.1263481660835257,
            "y": 1.2686601912397217
           },
           {
            "x": 7.564895772728277,
            "y": 57.22764805224215
           },
           {
            "x": 7.684106094135782,
            "y": 59.04548646593466
           },
           {
            "x": 1.9857740491496134,
            "y": 3.943298574276051
           },
           {
            "x": 15.731727373012278,
            "y": 247.4872461387838
           },
           {
            "x": 8.867417245146402,
            "y": 78.63108859951981
           },
           {
            "x": 14.198342196076913,
            "y": 201.59292111689817
           },
           {
            "x": 13.097977112246445,
            "y": 171.55700443293173
           },
           {
            "x": 6.149285625274405,
            "y": 37.813713701206424
           },
           {
            "x": 9.275867176400661,
            "y": 86.04171187422718
           },
           {
            "x": 0.7951464519006013,
            "y": 0.6322578799701153
           },
           {
            "x": 8.793341423759562,
            "y": 77.32285339480585
           },
           {
            "x": 12.219415493413889,
            "y": 149.3141150006834
           },
           {
            "x": -3.8154779728003305,
            "y": 14.55787216092452
           },
           {
            "x": 10.953745056276414,
            "y": 119.98453075789999
           },
           {
            "x": -2.163484914471015,
            "y": 4.680666975143654
           },
           {
            "x": 1.4276660812116209,
            "y": 2.038230439442146
           },
           {
            "x": 16.79637113282053,
            "y": 282.11808323144675
           },
           {
            "x": 5.099441209429912,
            "y": 26.004300648432004
           },
           {
            "x": 9.435672677470606,
            "y": 89.03191887636531
           },
           {
            "x": -4.676237888922678,
            "y": 21.867200793796027
           },
           {
            "x": 16.35550691244142,
            "y": 267.5026063629191
           },
           {
            "x": 11.586478785827342,
            "y": 134.24649065442705
           },
           {
            "x": -2.619892440042058,
            "y": 6.863836397389528
           },
           {
            "x": 16.94282355478218,
            "y": 287.05927000848186
           },
           {
            "x": 4.5524615143177884,
            "y": 20.72490583934461
           },
           {
            "x": 11.979398248537427,
            "y": 143.50598239706156
           },
           {
            "x": 5.683879004757185,
            "y": 32.30648054071953
           },
           {
            "x": 28.09358139432494,
            "y": 789.2493155595604
           },
           {
            "x": 7.895521281029026,
            "y": 62.33925629918224
           },
           {
            "x": 17.94748073162393,
            "y": 322.11206461201226
           },
           {
            "x": 19.82778624104938,
            "y": 393.14110722074713
           },
           {
            "x": 9.874699565112007,
            "y": 97.50969150122326
           },
           {
            "x": 11.056751729335843,
            "y": 122.25175880417116
           },
           {
            "x": -4.619918327915892,
            "y": 21.34364535661317
           },
           {
            "x": 10.752938464509846,
            "y": 115.62568562153537
           },
           {
            "x": 5.711684427672403,
            "y": 32.62333900131543
           },
           {
            "x": 8.49458972328006,
            "y": 72.1580545668552
           },
           {
            "x": 7.094614302990719,
            "y": 50.33355210820048
           },
           {
            "x": -1.4058286698721716,
            "y": 1.9763542490345591
           },
           {
            "x": 19.495403084500882,
            "y": 380.0707414271665
           },
           {
            "x": 10.700022846484615,
            "y": 114.49048891529272
           },
           {
            "x": 11.99313816126925,
            "y": 143.83536295529277
           },
           {
            "x": 5.257709712872742,
            "y": 27.643511424836376
           },
           {
            "x": 15.374269552550603,
            "y": 236.3681642744845
           },
           {
            "x": 10.12049466199234,
            "y": 102.42441220341547
           },
           {
            "x": 1.0731129062244884,
            "y": 1.1515713095055677
           },
           {
            "x": 7.064563152386798,
            "y": 49.90805253406129
           },
           {
            "x": -1.0234802546191393,
            "y": 1.047511831595258
           },
           {
            "x": -0.8237732504492481,
            "y": 0.6786023681557196
           },
           {
            "x": 1.0959819815775207,
            "y": 1.201176503942589
           },
           {
            "x": 10.858666138143452,
            "y": 117.91063029966323
           },
           {
            "x": 6.939391522685215,
            "y": 48.15515470511542
           },
           {
            "x": 1.9504983137568317,
            "y": 3.8044436719682437
           },
           {
            "x": 0.8161969849442503,
            "y": 0.6661775182320847
           },
           {
            "x": 12.266025787794472,
            "y": 150.455388626839
           },
           {
            "x": 9.251105684761766,
            "y": 85.58295639063147
           },
           {
            "x": 3.654877717248665,
            "y": 13.358131128040812
           },
           {
            "x": 7.0294460421810605,
            "y": 49.41311165993498
           },
           {
            "x": 3.88388074314642,
            "y": 15.084529626983587
           }
          ]
         },
         "encoding": {
          "x": {
           "field": "x",
           "scale": {
            "domain": [
             -10,
             20
            ]
           },
           "type": "quantitative"
          },
          "y": {
           "field": "y",
           "type": "quantitative"
          }
         },
         "mark": {
          "clip": true,
          "color": "firebrick",
          "filled": true,
          "opacity": 0.2,
          "size": 100,
          "type": "point"
         }
        },
        {
         "data": {
          "values": [
           {
            "x": 16.356302498103545,
            "y": 0
           },
           {
            "x": 2.067458102432533,
            "y": 0
           },
           {
            "x": 5.266201911665572,
            "y": 0
           },
           {
            "x": -1.13473893131322,
            "y": 0
           },
           {
            "x": 13.476820178500752,
            "y": 0
           },
           {
            "x": -1.0151401021709354,
            "y": 0
           },
           {
            "x": 15.310295714179553,
            "y": 0
           },
           {
            "x": 9.283842177026603,
            "y": 0
           },
           {
            "x": 6.526117879842467,
            "y": 0
           },
           {
            "x": 10.562726253296571,
            "y": 0
           },
           {
            "x": 6.129041638472524,
            "y": 0
           },
           {
            "x": 5.232932853929884,
            "y": 0
           },
           {
            "x": 2.1056311266609056,
            "y": 0
           },
           {
            "x": 8.303727733356641,
            "y": 0
           },
           {
            "x": 5.632473345444494,
            "y": 0
           },
           {
            "x": 0.8890230707468287,
            "y": 0
           },
           {
            "x": -4.16322812204719,
            "y": 0
           },
           {
            "x": 2.437630868225089,
            "y": 0
           },
           {
            "x": 6.864344199157076,
            "y": 0
           },
           {
            "x": 5.8769032165341,
            "y": 0
           },
           {
            "x": 1.5544348062788753,
            "y": 0
           },
           {
            "x": 2.1231611537687747,
            "y": 0
           },
           {
            "x": -1.3816946741768392,
            "y": 0
           },
           {
            "x": 6.555531900347834,
            "y": 0
           },
           {
            "x": 2.9254492393440117,
            "y": 0
           },
           {
            "x": 9.81865670907255,
            "y": 0
           },
           {
            "x": 9.685836370015295,
            "y": 0
           },
           {
            "x": -2.201282892181043,
            "y": 0
           },
           {
            "x": -5.72077462517707,
            "y": 0
           },
           {
            "x": 1.9709159619446153,
            "y": 0
           },
           {
            "x": 15.330645645479603,
            "y": 0
           },
           {
            "x": 7.6367488427929535,
            "y": 0
           },
           {
            "x": 18.671887751785253,
            "y": 0
           },
           {
            "x": 2.5013319660664752,
            "y": 0
           },
           {
            "x": -6.807342713250446,
            "y": 0
           },
           {
            "x": 24.498522922226993,
            "y": 0
           },
           {
            "x": -15.132344575910558,
            "y": 0
           },
           {
            "x": 7.208786749660025,
            "y": 0
           },
           {
            "x": -7.095991810103573,
            "y": 0
           },
           {
            "x": 11.671280548409566,
            "y": 0
           },
           {
            "x": -1.1263481660835257,
            "y": 0
           },
           {
            "x": 7.564895772728277,
            "y": 0
           },
           {
            "x": 7.684106094135782,
            "y": 0
           },
           {
            "x": 1.9857740491496134,
            "y": 0
           },
           {
            "x": 15.731727373012278,
            "y": 0
           },
           {
            "x": 8.867417245146402,
            "y": 0
           },
           {
            "x": 14.198342196076913,
            "y": 0
           },
           {
            "x": 13.097977112246445,
            "y": 0
           },
           {
            "x": 6.149285625274405,
            "y": 0
           },
           {
            "x": 9.275867176400661,
            "y": 0
           },
           {
            "x": 0.7951464519006013,
            "y": 0
           },
           {
            "x": 8.793341423759562,
            "y": 0
           },
           {
            "x": 12.219415493413889,
            "y": 0
           },
           {
            "x": -3.8154779728003305,
            "y": 0
           },
           {
            "x": 10.953745056276414,
            "y": 0
           },
           {
            "x": -2.163484914471015,
            "y": 0
           },
           {
            "x": 1.4276660812116209,
            "y": 0
           },
           {
            "x": 16.79637113282053,
            "y": 0
           },
           {
            "x": 5.099441209429912,
            "y": 0
           },
           {
            "x": 9.435672677470606,
            "y": 0
           },
           {
            "x": -4.676237888922678,
            "y": 0
           },
           {
            "x": 16.35550691244142,
            "y": 0
           },
           {
            "x": 11.586478785827342,
            "y": 0
           },
           {
            "x": -2.619892440042058,
            "y": 0
           },
           {
            "x": 16.94282355478218,
            "y": 0
           },
           {
            "x": 4.5524615143177884,
            "y": 0
           },
           {
            "x": 11.979398248537427,
            "y": 0
           },
           {
            "x": 5.683879004757185,
            "y": 0
           },
           {
            "x": 28.09358139432494,
            "y": 0
           },
           {
            "x": 7.895521281029026,
            "y": 0
           },
           {
            "x": 17.94748073162393,
            "y": 0
           },
           {
            "x": 19.82778624104938,
            "y": 0
           },
           {
            "x": 9.874699565112007,
            "y": 0
           },
           {
            "x": 11.056751729335843,
            "y": 0
           },
           {
            "x": -4.619918327915892,
            "y": 0
           },
           {
            "x": 10.752938464509846,
            "y": 0
           },
           {
            "x": 5.711684427672403,
            "y": 0
           },
           {
            "x": 8.49458972328006,
            "y": 0
           },
           {
            "x": 7.094614302990719,
            "y": 0
           },
           {
            "x": -1.4058286698721716,
            "y": 0
           },
           {
            "x": 19.495403084500882,
            "y": 0
           },
           {
            "x": 10.700022846484615,
            "y": 0
           },
           {
            "x": 11.99313816126925,
            "y": 0
           },
           {
            "x": 5.257709712872742,
            "y": 0
           },
           {
            "x": 15.374269552550603,
            "y": 0
           },
           {
            "x": 10.12049466199234,
            "y": 0
           },
           {
            "x": 1.0731129062244884,
            "y": 0
           },
           {
            "x": 7.064563152386798,
            "y": 0
           },
           {
            "x": -1.0234802546191393,
            "y": 0
           },
           {
            "x": -0.8237732504492481,
            "y": 0
           },
           {
            "x": 1.0959819815775207,
            "y": 0
           },
           {
            "x": 10.858666138143452,
            "y": 0
           },
           {
            "x": 6.939391522685215,
            "y": 0
           },
           {
            "x": 1.9504983137568317,
            "y": 0
           },
           {
            "x": 0.8161969849442503,
            "y": 0
           },
           {
            "x": 12.266025787794472,
            "y": 0
           },
           {
            "x": 9.251105684761766,
            "y": 0
           },
           {
            "x": 3.654877717248665,
            "y": 0
           },
           {
            "x": 7.0294460421810605,
            "y": 0
           },
           {
            "x": 3.88388074314642,
            "y": 0
           }
          ]
         },
         "encoding": {
          "x": {
           "field": "x",
           "scale": {
            "domain": [
             -10,
             20
            ]
           },
           "type": "quantitative"
          },
          "y": {
           "field": "y",
           "type": "quantitative"
          }
         },
         "mark": {
          "clip": true,
          "color": "darkblue",
          "filled": true,
          "opacity": 0.2,
          "size": 100,
          "type": "point"
         }
        }
       ]
      },
      "image/png": "[encoded data removed]",
      "text/plain": [
       "<VegaLite 2 object>\n",
       "\n",
       "If you see this message, it means the renderer has not been properly enabled\n",
       "for the frontend that you are using. For more information, see\n",
       "https://altair-viz.github.io/user_guide/troubleshooting.html\n"
      ]
     },
     "execution_count": 71,
     "metadata": {},
     "output_type": "execute_result"
    }
   ],
   "source": [
    "expected_x2, labels2 = make_scatter_chart_with_labels(X=[np.mean(s)], size=200, opacity=1, domain=(-10, 20), Y=[np.mean([i ** 2 for i in s])], L=[\"E[X^2]\"], color=\"firebrick\")\n",
    "x2_points = make_scatter_chart(X=s, Y=[i ** 2 for i in s], color=\"firebrick\", domain=(-10, 20))\n",
    "x_points = make_scatter_chart(opacity=.2, X=s, Y=np.zeros(len(s)), domain=(-10, 20))\n",
    "\n",
    "expected_x2 + labels2 + x2_points + x_points"
   ]
  },
  {
   "cell_type": "markdown",
   "metadata": {},
   "source": [
    "### Finding the expectation of the sample\n",
    "\n",
    "By the same logic, we can also simply average each $x_i$ to find the expected value of the sample $\\mathbb{E}[X]$: shown as a half blue dot."
   ]
  },
  {
   "cell_type": "code",
   "execution_count": 78,
   "metadata": {},
   "outputs": [
    {
     "data": {
      "application/vnd.vegalite.v2+json": {
       "$schema": "https://vega.github.io/schema/vega-lite/v2.6.0.json",
       "config": {
        "view": {
         "height": 300,
         "width": 400
        }
       },
       "layer": [
        {
         "data": {
          "values": [
           {
            "label": "E[X]",
            "x": 6.602988560498277,
            "y": 0
           }
          ]
         },
         "encoding": {
          "x": {
           "field": "x",
           "type": "quantitative"
          },
          "y": {
           "field": "y",
           "type": "quantitative"
          }
         },
         "mark": {
          "clip": true,
          "color": "blue",
          "filled": true,
          "opacity": 1,
          "size": 300,
          "type": "point"
         }
        },
        {
         "data": {
          "values": [
           {
            "label": "E[X]",
            "x": 6.602988560498277,
            "y": 0
           }
          ]
         },
         "encoding": {
          "text": {
           "field": "label",
           "type": "nominal"
          },
          "x": {
           "field": "x",
           "type": "quantitative"
          },
          "y": {
           "field": "y",
           "type": "quantitative"
          }
         },
         "mark": {
          "align": "left",
          "baseline": "bottom",
          "dx": 16,
          "fill": "white",
          "fillOpacity": 1,
          "opacity": 1,
          "stroke": "black",
          "type": "text",
          "xOffset": -2,
          "yOffset": -4
         }
        },
        {
         "data": {
          "values": [
           {
            "x": 16.356302498103545,
            "y": 0
           },
           {
            "x": 2.067458102432533,
            "y": 0
           },
           {
            "x": 5.266201911665572,
            "y": 0
           },
           {
            "x": -1.13473893131322,
            "y": 0
           },
           {
            "x": 13.476820178500752,
            "y": 0
           },
           {
            "x": -1.0151401021709354,
            "y": 0
           },
           {
            "x": 15.310295714179553,
            "y": 0
           },
           {
            "x": 9.283842177026603,
            "y": 0
           },
           {
            "x": 6.526117879842467,
            "y": 0
           },
           {
            "x": 10.562726253296571,
            "y": 0
           },
           {
            "x": 6.129041638472524,
            "y": 0
           },
           {
            "x": 5.232932853929884,
            "y": 0
           },
           {
            "x": 2.1056311266609056,
            "y": 0
           },
           {
            "x": 8.303727733356641,
            "y": 0
           },
           {
            "x": 5.632473345444494,
            "y": 0
           },
           {
            "x": 0.8890230707468287,
            "y": 0
           },
           {
            "x": -4.16322812204719,
            "y": 0
           },
           {
            "x": 2.437630868225089,
            "y": 0
           },
           {
            "x": 6.864344199157076,
            "y": 0
           },
           {
            "x": 5.8769032165341,
            "y": 0
           },
           {
            "x": 1.5544348062788753,
            "y": 0
           },
           {
            "x": 2.1231611537687747,
            "y": 0
           },
           {
            "x": -1.3816946741768392,
            "y": 0
           },
           {
            "x": 6.555531900347834,
            "y": 0
           },
           {
            "x": 2.9254492393440117,
            "y": 0
           },
           {
            "x": 9.81865670907255,
            "y": 0
           },
           {
            "x": 9.685836370015295,
            "y": 0
           },
           {
            "x": -2.201282892181043,
            "y": 0
           },
           {
            "x": -5.72077462517707,
            "y": 0
           },
           {
            "x": 1.9709159619446153,
            "y": 0
           },
           {
            "x": 15.330645645479603,
            "y": 0
           },
           {
            "x": 7.6367488427929535,
            "y": 0
           },
           {
            "x": 18.671887751785253,
            "y": 0
           },
           {
            "x": 2.5013319660664752,
            "y": 0
           },
           {
            "x": -6.807342713250446,
            "y": 0
           },
           {
            "x": 24.498522922226993,
            "y": 0
           },
           {
            "x": -15.132344575910558,
            "y": 0
           },
           {
            "x": 7.208786749660025,
            "y": 0
           },
           {
            "x": -7.095991810103573,
            "y": 0
           },
           {
            "x": 11.671280548409566,
            "y": 0
           },
           {
            "x": -1.1263481660835257,
            "y": 0
           },
           {
            "x": 7.564895772728277,
            "y": 0
           },
           {
            "x": 7.684106094135782,
            "y": 0
           },
           {
            "x": 1.9857740491496134,
            "y": 0
           },
           {
            "x": 15.731727373012278,
            "y": 0
           },
           {
            "x": 8.867417245146402,
            "y": 0
           },
           {
            "x": 14.198342196076913,
            "y": 0
           },
           {
            "x": 13.097977112246445,
            "y": 0
           },
           {
            "x": 6.149285625274405,
            "y": 0
           },
           {
            "x": 9.275867176400661,
            "y": 0
           },
           {
            "x": 0.7951464519006013,
            "y": 0
           },
           {
            "x": 8.793341423759562,
            "y": 0
           },
           {
            "x": 12.219415493413889,
            "y": 0
           },
           {
            "x": -3.8154779728003305,
            "y": 0
           },
           {
            "x": 10.953745056276414,
            "y": 0
           },
           {
            "x": -2.163484914471015,
            "y": 0
           },
           {
            "x": 1.4276660812116209,
            "y": 0
           },
           {
            "x": 16.79637113282053,
            "y": 0
           },
           {
            "x": 5.099441209429912,
            "y": 0
           },
           {
            "x": 9.435672677470606,
            "y": 0
           },
           {
            "x": -4.676237888922678,
            "y": 0
           },
           {
            "x": 16.35550691244142,
            "y": 0
           },
           {
            "x": 11.586478785827342,
            "y": 0
           },
           {
            "x": -2.619892440042058,
            "y": 0
           },
           {
            "x": 16.94282355478218,
            "y": 0
           },
           {
            "x": 4.5524615143177884,
            "y": 0
           },
           {
            "x": 11.979398248537427,
            "y": 0
           },
           {
            "x": 5.683879004757185,
            "y": 0
           },
           {
            "x": 28.09358139432494,
            "y": 0
           },
           {
            "x": 7.895521281029026,
            "y": 0
           },
           {
            "x": 17.94748073162393,
            "y": 0
           },
           {
            "x": 19.82778624104938,
            "y": 0
           },
           {
            "x": 9.874699565112007,
            "y": 0
           },
           {
            "x": 11.056751729335843,
            "y": 0
           },
           {
            "x": -4.619918327915892,
            "y": 0
           },
           {
            "x": 10.752938464509846,
            "y": 0
           },
           {
            "x": 5.711684427672403,
            "y": 0
           },
           {
            "x": 8.49458972328006,
            "y": 0
           },
           {
            "x": 7.094614302990719,
            "y": 0
           },
           {
            "x": -1.4058286698721716,
            "y": 0
           },
           {
            "x": 19.495403084500882,
            "y": 0
           },
           {
            "x": 10.700022846484615,
            "y": 0
           },
           {
            "x": 11.99313816126925,
            "y": 0
           },
           {
            "x": 5.257709712872742,
            "y": 0
           },
           {
            "x": 15.374269552550603,
            "y": 0
           },
           {
            "x": 10.12049466199234,
            "y": 0
           },
           {
            "x": 1.0731129062244884,
            "y": 0
           },
           {
            "x": 7.064563152386798,
            "y": 0
           },
           {
            "x": -1.0234802546191393,
            "y": 0
           },
           {
            "x": -0.8237732504492481,
            "y": 0
           },
           {
            "x": 1.0959819815775207,
            "y": 0
           },
           {
            "x": 10.858666138143452,
            "y": 0
           },
           {
            "x": 6.939391522685215,
            "y": 0
           },
           {
            "x": 1.9504983137568317,
            "y": 0
           },
           {
            "x": 0.8161969849442503,
            "y": 0
           },
           {
            "x": 12.266025787794472,
            "y": 0
           },
           {
            "x": 9.251105684761766,
            "y": 0
           },
           {
            "x": 3.654877717248665,
            "y": 0
           },
           {
            "x": 7.0294460421810605,
            "y": 0
           },
           {
            "x": 3.88388074314642,
            "y": 0
           }
          ]
         },
         "encoding": {
          "x": {
           "field": "x",
           "scale": {
            "domain": [
             -10,
             20
            ]
           },
           "type": "quantitative"
          },
          "y": {
           "field": "y",
           "type": "quantitative"
          }
         },
         "mark": {
          "clip": true,
          "color": "darkblue",
          "filled": true,
          "opacity": 0.2,
          "size": 100,
          "type": "point"
         }
        },
        {
         "data": {
          "values": [
           {
            "label": "E[X^2]",
            "x": 6.602988560498277,
            "y": 95.36634333316174
           }
          ]
         },
         "encoding": {
          "x": {
           "field": "x",
           "scale": {
            "domain": [
             -10,
             20
            ]
           },
           "type": "quantitative"
          },
          "y": {
           "field": "y",
           "type": "quantitative"
          }
         },
         "mark": {
          "clip": true,
          "color": "firebrick",
          "filled": true,
          "opacity": 1,
          "size": 200,
          "type": "point"
         }
        },
        {
         "data": {
          "values": [
           {
            "label": "E[X^2]",
            "x": 6.602988560498277,
            "y": 95.36634333316174
           }
          ]
         },
         "encoding": {
          "text": {
           "field": "label",
           "type": "nominal"
          },
          "x": {
           "field": "x",
           "scale": {
            "domain": [
             -10,
             20
            ]
           },
           "type": "quantitative"
          },
          "y": {
           "field": "y",
           "type": "quantitative"
          }
         },
         "mark": {
          "align": "left",
          "baseline": "bottom",
          "dx": 16,
          "fill": "white",
          "fillOpacity": 1,
          "opacity": 1,
          "stroke": "black",
          "type": "text",
          "xOffset": -2,
          "yOffset": -4
         }
        },
        {
         "data": {
          "values": [
           {
            "x": 16.356302498103545,
            "y": 267.5286314094683
           },
           {
            "x": 2.067458102432533,
            "y": 4.27438300531393
           },
           {
            "x": 5.266201911665572,
            "y": 27.732882574430125
           },
           {
            "x": -1.13473893131322,
            "y": 1.2876324422378684
           },
           {
            "x": 13.476820178500752,
            "y": 181.62468212364504
           },
           {
            "x": -1.0151401021709354,
            "y": 1.0305094270356172
           },
           {
            "x": 15.310295714179553,
            "y": 234.40515485562477
           },
           {
            "x": 9.283842177026603,
            "y": 86.18972556793805
           },
           {
            "x": 6.526117879842467,
            "y": 42.59021458159953
           },
           {
            "x": 10.562726253296571,
            "y": 111.57118590208061
           },
           {
            "x": 6.129041638472524,
            "y": 37.56515140612996
           },
           {
            "x": 5.232932853929884,
            "y": 27.383586253738763
           },
           {
            "x": 2.1056311266609056,
            "y": 4.433682441563275
           },
           {
            "x": 8.303727733356641,
            "y": 68.95189426971622
           },
           {
            "x": 5.632473345444494,
            "y": 31.724755987142697
           },
           {
            "x": 0.8890230707468287,
            "y": 0.7903620203201208
           },
           {
            "x": -4.16322812204719,
            "y": 17.332468396204575
           },
           {
            "x": 2.437630868225089,
            "y": 5.942044249723802
           },
           {
            "x": 6.864344199157076,
            "y": 47.11922128450139
           },
           {
            "x": 5.8769032165341,
            "y": 34.53799141650885
           },
           {
            "x": 1.5544348062788753,
            "y": 2.4162675669712446
           },
           {
            "x": 2.1231611537687747,
            "y": 4.507813284872754
           },
           {
            "x": -1.3816946741768392,
            "y": 1.909080172648642
           },
           {
            "x": 6.555531900347834,
            "y": 42.97499849647808
           },
           {
            "x": 2.9254492393440117,
            "y": 8.558253251978456
           },
           {
            "x": 9.81865670907255,
            "y": 96.40601957061541
           },
           {
            "x": 9.685836370015295,
            "y": 93.81542618671106
           },
           {
            "x": -2.201282892181043,
            "y": 4.845646371408937
           },
           {
            "x": -5.72077462517707,
            "y": 32.72726231206984
           },
           {
            "x": 1.9709159619446153,
            "y": 3.884509729048068
           },
           {
            "x": 15.330645645479603,
            "y": 235.02869590726272
           },
           {
            "x": 7.6367488427929535,
            "y": 58.31993288789951
           },
           {
            "x": 18.671887751785253,
            "y": 348.6393922152681
           },
           {
            "x": 2.5013319660664752,
            "y": 6.256661604465978
           },
           {
            "x": -6.807342713250446,
            "y": 46.33991481564394
           },
           {
            "x": 24.498522922226993,
            "y": 600.1776253708814
           },
           {
            "x": -15.132344575910558,
            "y": 228.9878523640897
           },
           {
            "x": 7.208786749660025,
            "y": 51.96660640207394
           },
           {
            "x": -7.095991810103573,
            "y": 50.35309976905699
           },
           {
            "x": 11.671280548409566,
            "y": 136.2187896396835
           },
           {
            "x": -1.1263481660835257,
            "y": 1.2686601912397217
           },
           {
            "x": 7.564895772728277,
            "y": 57.22764805224215
           },
           {
            "x": 7.684106094135782,
            "y": 59.04548646593466
           },
           {
            "x": 1.9857740491496134,
            "y": 3.943298574276051
           },
           {
            "x": 15.731727373012278,
            "y": 247.4872461387838
           },
           {
            "x": 8.867417245146402,
            "y": 78.63108859951981
           },
           {
            "x": 14.198342196076913,
            "y": 201.59292111689817
           },
           {
            "x": 13.097977112246445,
            "y": 171.55700443293173
           },
           {
            "x": 6.149285625274405,
            "y": 37.813713701206424
           },
           {
            "x": 9.275867176400661,
            "y": 86.04171187422718
           },
           {
            "x": 0.7951464519006013,
            "y": 0.6322578799701153
           },
           {
            "x": 8.793341423759562,
            "y": 77.32285339480585
           },
           {
            "x": 12.219415493413889,
            "y": 149.3141150006834
           },
           {
            "x": -3.8154779728003305,
            "y": 14.55787216092452
           },
           {
            "x": 10.953745056276414,
            "y": 119.98453075789999
           },
           {
            "x": -2.163484914471015,
            "y": 4.680666975143654
           },
           {
            "x": 1.4276660812116209,
            "y": 2.038230439442146
           },
           {
            "x": 16.79637113282053,
            "y": 282.11808323144675
           },
           {
            "x": 5.099441209429912,
            "y": 26.004300648432004
           },
           {
            "x": 9.435672677470606,
            "y": 89.03191887636531
           },
           {
            "x": -4.676237888922678,
            "y": 21.867200793796027
           },
           {
            "x": 16.35550691244142,
            "y": 267.5026063629191
           },
           {
            "x": 11.586478785827342,
            "y": 134.24649065442705
           },
           {
            "x": -2.619892440042058,
            "y": 6.863836397389528
           },
           {
            "x": 16.94282355478218,
            "y": 287.05927000848186
           },
           {
            "x": 4.5524615143177884,
            "y": 20.72490583934461
           },
           {
            "x": 11.979398248537427,
            "y": 143.50598239706156
           },
           {
            "x": 5.683879004757185,
            "y": 32.30648054071953
           },
           {
            "x": 28.09358139432494,
            "y": 789.2493155595604
           },
           {
            "x": 7.895521281029026,
            "y": 62.33925629918224
           },
           {
            "x": 17.94748073162393,
            "y": 322.11206461201226
           },
           {
            "x": 19.82778624104938,
            "y": 393.14110722074713
           },
           {
            "x": 9.874699565112007,
            "y": 97.50969150122326
           },
           {
            "x": 11.056751729335843,
            "y": 122.25175880417116
           },
           {
            "x": -4.619918327915892,
            "y": 21.34364535661317
           },
           {
            "x": 10.752938464509846,
            "y": 115.62568562153537
           },
           {
            "x": 5.711684427672403,
            "y": 32.62333900131543
           },
           {
            "x": 8.49458972328006,
            "y": 72.1580545668552
           },
           {
            "x": 7.094614302990719,
            "y": 50.33355210820048
           },
           {
            "x": -1.4058286698721716,
            "y": 1.9763542490345591
           },
           {
            "x": 19.495403084500882,
            "y": 380.0707414271665
           },
           {
            "x": 10.700022846484615,
            "y": 114.49048891529272
           },
           {
            "x": 11.99313816126925,
            "y": 143.83536295529277
           },
           {
            "x": 5.257709712872742,
            "y": 27.643511424836376
           },
           {
            "x": 15.374269552550603,
            "y": 236.3681642744845
           },
           {
            "x": 10.12049466199234,
            "y": 102.42441220341547
           },
           {
            "x": 1.0731129062244884,
            "y": 1.1515713095055677
           },
           {
            "x": 7.064563152386798,
            "y": 49.90805253406129
           },
           {
            "x": -1.0234802546191393,
            "y": 1.047511831595258
           },
           {
            "x": -0.8237732504492481,
            "y": 0.6786023681557196
           },
           {
            "x": 1.0959819815775207,
            "y": 1.201176503942589
           },
           {
            "x": 10.858666138143452,
            "y": 117.91063029966323
           },
           {
            "x": 6.939391522685215,
            "y": 48.15515470511542
           },
           {
            "x": 1.9504983137568317,
            "y": 3.8044436719682437
           },
           {
            "x": 0.8161969849442503,
            "y": 0.6661775182320847
           },
           {
            "x": 12.266025787794472,
            "y": 150.455388626839
           },
           {
            "x": 9.251105684761766,
            "y": 85.58295639063147
           },
           {
            "x": 3.654877717248665,
            "y": 13.358131128040812
           },
           {
            "x": 7.0294460421810605,
            "y": 49.41311165993498
           },
           {
            "x": 3.88388074314642,
            "y": 15.084529626983587
           }
          ]
         },
         "encoding": {
          "x": {
           "field": "x",
           "scale": {
            "domain": [
             -10,
             20
            ]
           },
           "type": "quantitative"
          },
          "y": {
           "field": "y",
           "type": "quantitative"
          }
         },
         "mark": {
          "clip": true,
          "color": "firebrick",
          "filled": true,
          "opacity": 0.2,
          "size": 100,
          "type": "point"
         }
        }
       ]
      },
      "image/png": "[encoded data removed]",
      "text/plain": [
       "<VegaLite 2 object>\n",
       "\n",
       "If you see this message, it means the renderer has not been properly enabled\n",
       "for the frontend that you are using. For more information, see\n",
       "https://altair-viz.github.io/user_guide/troubleshooting.html\n"
      ]
     },
     "execution_count": 78,
     "metadata": {},
     "output_type": "execute_result"
    }
   ],
   "source": [
    "expected_x, labels = make_scatter_chart_with_labels(X=[np.mean(s)], Y=[0], L=[\"E[X]\"],size=300, opacity =1) \n",
    "expected_x + labels + x_points + expected_x2 + labels2 + x2_points"
   ]
  },
  {
   "cell_type": "markdown",
   "metadata": {},
   "source": [
    "### Square the expected value of the sample.\n",
    "\n",
    "If we square the expected value of the sample (i.e. the blue dot) we get the value $\\mathbb{E}[X]^2$. This will be a point along the red curve. We show this as a big black dot."
   ]
  },
  {
   "cell_type": "code",
   "execution_count": 83,
   "metadata": {},
   "outputs": [
    {
     "name": "stdout",
     "output_type": "stream",
     "text": [
      "The autoreload extension is already loaded. To reload it, use:\n",
      "  %reload_ext autoreload\n"
     ]
    },
    {
     "data": {
      "application/vnd.vegalite.v2+json": {
       "$schema": "https://vega.github.io/schema/vega-lite/v2.6.0.json",
       "config": {
        "view": {
         "height": 300,
         "width": 400
        }
       },
       "layer": [
        {
         "data": {
          "values": [
           {
            "x": 16.356302498103545,
            "y": 0
           },
           {
            "x": 2.067458102432533,
            "y": 0
           },
           {
            "x": 5.266201911665572,
            "y": 0
           },
           {
            "x": -1.13473893131322,
            "y": 0
           },
           {
            "x": 13.476820178500752,
            "y": 0
           },
           {
            "x": -1.0151401021709354,
            "y": 0
           },
           {
            "x": 15.310295714179553,
            "y": 0
           },
           {
            "x": 9.283842177026603,
            "y": 0
           },
           {
            "x": 6.526117879842467,
            "y": 0
           },
           {
            "x": 10.562726253296571,
            "y": 0
           },
           {
            "x": 6.129041638472524,
            "y": 0
           },
           {
            "x": 5.232932853929884,
            "y": 0
           },
           {
            "x": 2.1056311266609056,
            "y": 0
           },
           {
            "x": 8.303727733356641,
            "y": 0
           },
           {
            "x": 5.632473345444494,
            "y": 0
           },
           {
            "x": 0.8890230707468287,
            "y": 0
           },
           {
            "x": -4.16322812204719,
            "y": 0
           },
           {
            "x": 2.437630868225089,
            "y": 0
           },
           {
            "x": 6.864344199157076,
            "y": 0
           },
           {
            "x": 5.8769032165341,
            "y": 0
           },
           {
            "x": 1.5544348062788753,
            "y": 0
           },
           {
            "x": 2.1231611537687747,
            "y": 0
           },
           {
            "x": -1.3816946741768392,
            "y": 0
           },
           {
            "x": 6.555531900347834,
            "y": 0
           },
           {
            "x": 2.9254492393440117,
            "y": 0
           },
           {
            "x": 9.81865670907255,
            "y": 0
           },
           {
            "x": 9.685836370015295,
            "y": 0
           },
           {
            "x": -2.201282892181043,
            "y": 0
           },
           {
            "x": -5.72077462517707,
            "y": 0
           },
           {
            "x": 1.9709159619446153,
            "y": 0
           },
           {
            "x": 15.330645645479603,
            "y": 0
           },
           {
            "x": 7.6367488427929535,
            "y": 0
           },
           {
            "x": 18.671887751785253,
            "y": 0
           },
           {
            "x": 2.5013319660664752,
            "y": 0
           },
           {
            "x": -6.807342713250446,
            "y": 0
           },
           {
            "x": 24.498522922226993,
            "y": 0
           },
           {
            "x": -15.132344575910558,
            "y": 0
           },
           {
            "x": 7.208786749660025,
            "y": 0
           },
           {
            "x": -7.095991810103573,
            "y": 0
           },
           {
            "x": 11.671280548409566,
            "y": 0
           },
           {
            "x": -1.1263481660835257,
            "y": 0
           },
           {
            "x": 7.564895772728277,
            "y": 0
           },
           {
            "x": 7.684106094135782,
            "y": 0
           },
           {
            "x": 1.9857740491496134,
            "y": 0
           },
           {
            "x": 15.731727373012278,
            "y": 0
           },
           {
            "x": 8.867417245146402,
            "y": 0
           },
           {
            "x": 14.198342196076913,
            "y": 0
           },
           {
            "x": 13.097977112246445,
            "y": 0
           },
           {
            "x": 6.149285625274405,
            "y": 0
           },
           {
            "x": 9.275867176400661,
            "y": 0
           },
           {
            "x": 0.7951464519006013,
            "y": 0
           },
           {
            "x": 8.793341423759562,
            "y": 0
           },
           {
            "x": 12.219415493413889,
            "y": 0
           },
           {
            "x": -3.8154779728003305,
            "y": 0
           },
           {
            "x": 10.953745056276414,
            "y": 0
           },
           {
            "x": -2.163484914471015,
            "y": 0
           },
           {
            "x": 1.4276660812116209,
            "y": 0
           },
           {
            "x": 16.79637113282053,
            "y": 0
           },
           {
            "x": 5.099441209429912,
            "y": 0
           },
           {
            "x": 9.435672677470606,
            "y": 0
           },
           {
            "x": -4.676237888922678,
            "y": 0
           },
           {
            "x": 16.35550691244142,
            "y": 0
           },
           {
            "x": 11.586478785827342,
            "y": 0
           },
           {
            "x": -2.619892440042058,
            "y": 0
           },
           {
            "x": 16.94282355478218,
            "y": 0
           },
           {
            "x": 4.5524615143177884,
            "y": 0
           },
           {
            "x": 11.979398248537427,
            "y": 0
           },
           {
            "x": 5.683879004757185,
            "y": 0
           },
           {
            "x": 28.09358139432494,
            "y": 0
           },
           {
            "x": 7.895521281029026,
            "y": 0
           },
           {
            "x": 17.94748073162393,
            "y": 0
           },
           {
            "x": 19.82778624104938,
            "y": 0
           },
           {
            "x": 9.874699565112007,
            "y": 0
           },
           {
            "x": 11.056751729335843,
            "y": 0
           },
           {
            "x": -4.619918327915892,
            "y": 0
           },
           {
            "x": 10.752938464509846,
            "y": 0
           },
           {
            "x": 5.711684427672403,
            "y": 0
           },
           {
            "x": 8.49458972328006,
            "y": 0
           },
           {
            "x": 7.094614302990719,
            "y": 0
           },
           {
            "x": -1.4058286698721716,
            "y": 0
           },
           {
            "x": 19.495403084500882,
            "y": 0
           },
           {
            "x": 10.700022846484615,
            "y": 0
           },
           {
            "x": 11.99313816126925,
            "y": 0
           },
           {
            "x": 5.257709712872742,
            "y": 0
           },
           {
            "x": 15.374269552550603,
            "y": 0
           },
           {
            "x": 10.12049466199234,
            "y": 0
           },
           {
            "x": 1.0731129062244884,
            "y": 0
           },
           {
            "x": 7.064563152386798,
            "y": 0
           },
           {
            "x": -1.0234802546191393,
            "y": 0
           },
           {
            "x": -0.8237732504492481,
            "y": 0
           },
           {
            "x": 1.0959819815775207,
            "y": 0
           },
           {
            "x": 10.858666138143452,
            "y": 0
           },
           {
            "x": 6.939391522685215,
            "y": 0
           },
           {
            "x": 1.9504983137568317,
            "y": 0
           },
           {
            "x": 0.8161969849442503,
            "y": 0
           },
           {
            "x": 12.266025787794472,
            "y": 0
           },
           {
            "x": 9.251105684761766,
            "y": 0
           },
           {
            "x": 3.654877717248665,
            "y": 0
           },
           {
            "x": 7.0294460421810605,
            "y": 0
           },
           {
            "x": 3.88388074314642,
            "y": 0
           }
          ]
         },
         "encoding": {
          "x": {
           "field": "x",
           "scale": {
            "domain": [
             -10,
             20
            ]
           },
           "type": "quantitative"
          },
          "y": {
           "field": "y",
           "type": "quantitative"
          }
         },
         "mark": {
          "clip": true,
          "color": "darkblue",
          "filled": true,
          "opacity": 0.2,
          "size": 100,
          "type": "point"
         }
        },
        {
         "data": {
          "values": [
           {
            "label": "E[X]",
            "x": 6.602988560498277,
            "y": 0
           }
          ]
         },
         "encoding": {
          "x": {
           "field": "x",
           "scale": {
            "domain": [
             -10,
             20
            ]
           },
           "type": "quantitative"
          },
          "y": {
           "field": "y",
           "type": "quantitative"
          }
         },
         "mark": {
          "clip": true,
          "color": "blue",
          "filled": true,
          "opacity": 1,
          "size": 200,
          "type": "point"
         }
        },
        {
         "data": {
          "values": [
           {
            "label": "E[X]",
            "x": 6.602988560498277,
            "y": 0
           }
          ]
         },
         "encoding": {
          "text": {
           "field": "label",
           "type": "nominal"
          },
          "x": {
           "field": "x",
           "scale": {
            "domain": [
             -10,
             20
            ]
           },
           "type": "quantitative"
          },
          "y": {
           "field": "y",
           "type": "quantitative"
          }
         },
         "mark": {
          "align": "left",
          "baseline": "bottom",
          "dx": 16,
          "fill": "white",
          "fillOpacity": 1,
          "opacity": 1,
          "stroke": "black",
          "type": "text",
          "xOffset": -2,
          "yOffset": -4
         }
        },
        {
         "data": {
          "values": [
           {
            "label": "E[X^2]",
            "x": 6.602988560498277,
            "y": 95.36634333316174
           }
          ]
         },
         "encoding": {
          "x": {
           "field": "x",
           "scale": {
            "domain": [
             -10,
             20
            ]
           },
           "type": "quantitative"
          },
          "y": {
           "field": "y",
           "type": "quantitative"
          }
         },
         "mark": {
          "clip": true,
          "color": "firebrick",
          "filled": true,
          "opacity": 1,
          "size": 200,
          "type": "point"
         }
        },
        {
         "data": {
          "values": [
           {
            "label": "E[X^2]",
            "x": 6.602988560498277,
            "y": 95.36634333316174
           }
          ]
         },
         "encoding": {
          "text": {
           "field": "label",
           "type": "nominal"
          },
          "x": {
           "field": "x",
           "scale": {
            "domain": [
             -10,
             20
            ]
           },
           "type": "quantitative"
          },
          "y": {
           "field": "y",
           "type": "quantitative"
          }
         },
         "mark": {
          "align": "left",
          "baseline": "bottom",
          "dx": 16,
          "fill": "white",
          "fillOpacity": 1,
          "opacity": 1,
          "stroke": "black",
          "type": "text",
          "xOffset": -2,
          "yOffset": -4
         }
        },
        {
         "data": {
          "values": [
           {
            "x": 16.356302498103545,
            "y": 267.5286314094683
           },
           {
            "x": 2.067458102432533,
            "y": 4.27438300531393
           },
           {
            "x": 5.266201911665572,
            "y": 27.732882574430125
           },
           {
            "x": -1.13473893131322,
            "y": 1.2876324422378684
           },
           {
            "x": 13.476820178500752,
            "y": 181.62468212364504
           },
           {
            "x": -1.0151401021709354,
            "y": 1.0305094270356172
           },
           {
            "x": 15.310295714179553,
            "y": 234.40515485562477
           },
           {
            "x": 9.283842177026603,
            "y": 86.18972556793805
           },
           {
            "x": 6.526117879842467,
            "y": 42.59021458159953
           },
           {
            "x": 10.562726253296571,
            "y": 111.57118590208061
           },
           {
            "x": 6.129041638472524,
            "y": 37.56515140612996
           },
           {
            "x": 5.232932853929884,
            "y": 27.383586253738763
           },
           {
            "x": 2.1056311266609056,
            "y": 4.433682441563275
           },
           {
            "x": 8.303727733356641,
            "y": 68.95189426971622
           },
           {
            "x": 5.632473345444494,
            "y": 31.724755987142697
           },
           {
            "x": 0.8890230707468287,
            "y": 0.7903620203201208
           },
           {
            "x": -4.16322812204719,
            "y": 17.332468396204575
           },
           {
            "x": 2.437630868225089,
            "y": 5.942044249723802
           },
           {
            "x": 6.864344199157076,
            "y": 47.11922128450139
           },
           {
            "x": 5.8769032165341,
            "y": 34.53799141650885
           },
           {
            "x": 1.5544348062788753,
            "y": 2.4162675669712446
           },
           {
            "x": 2.1231611537687747,
            "y": 4.507813284872754
           },
           {
            "x": -1.3816946741768392,
            "y": 1.909080172648642
           },
           {
            "x": 6.555531900347834,
            "y": 42.97499849647808
           },
           {
            "x": 2.9254492393440117,
            "y": 8.558253251978456
           },
           {
            "x": 9.81865670907255,
            "y": 96.40601957061541
           },
           {
            "x": 9.685836370015295,
            "y": 93.81542618671106
           },
           {
            "x": -2.201282892181043,
            "y": 4.845646371408937
           },
           {
            "x": -5.72077462517707,
            "y": 32.72726231206984
           },
           {
            "x": 1.9709159619446153,
            "y": 3.884509729048068
           },
           {
            "x": 15.330645645479603,
            "y": 235.02869590726272
           },
           {
            "x": 7.6367488427929535,
            "y": 58.31993288789951
           },
           {
            "x": 18.671887751785253,
            "y": 348.6393922152681
           },
           {
            "x": 2.5013319660664752,
            "y": 6.256661604465978
           },
           {
            "x": -6.807342713250446,
            "y": 46.33991481564394
           },
           {
            "x": 24.498522922226993,
            "y": 600.1776253708814
           },
           {
            "x": -15.132344575910558,
            "y": 228.9878523640897
           },
           {
            "x": 7.208786749660025,
            "y": 51.96660640207394
           },
           {
            "x": -7.095991810103573,
            "y": 50.35309976905699
           },
           {
            "x": 11.671280548409566,
            "y": 136.2187896396835
           },
           {
            "x": -1.1263481660835257,
            "y": 1.2686601912397217
           },
           {
            "x": 7.564895772728277,
            "y": 57.22764805224215
           },
           {
            "x": 7.684106094135782,
            "y": 59.04548646593466
           },
           {
            "x": 1.9857740491496134,
            "y": 3.943298574276051
           },
           {
            "x": 15.731727373012278,
            "y": 247.4872461387838
           },
           {
            "x": 8.867417245146402,
            "y": 78.63108859951981
           },
           {
            "x": 14.198342196076913,
            "y": 201.59292111689817
           },
           {
            "x": 13.097977112246445,
            "y": 171.55700443293173
           },
           {
            "x": 6.149285625274405,
            "y": 37.813713701206424
           },
           {
            "x": 9.275867176400661,
            "y": 86.04171187422718
           },
           {
            "x": 0.7951464519006013,
            "y": 0.6322578799701153
           },
           {
            "x": 8.793341423759562,
            "y": 77.32285339480585
           },
           {
            "x": 12.219415493413889,
            "y": 149.3141150006834
           },
           {
            "x": -3.8154779728003305,
            "y": 14.55787216092452
           },
           {
            "x": 10.953745056276414,
            "y": 119.98453075789999
           },
           {
            "x": -2.163484914471015,
            "y": 4.680666975143654
           },
           {
            "x": 1.4276660812116209,
            "y": 2.038230439442146
           },
           {
            "x": 16.79637113282053,
            "y": 282.11808323144675
           },
           {
            "x": 5.099441209429912,
            "y": 26.004300648432004
           },
           {
            "x": 9.435672677470606,
            "y": 89.03191887636531
           },
           {
            "x": -4.676237888922678,
            "y": 21.867200793796027
           },
           {
            "x": 16.35550691244142,
            "y": 267.5026063629191
           },
           {
            "x": 11.586478785827342,
            "y": 134.24649065442705
           },
           {
            "x": -2.619892440042058,
            "y": 6.863836397389528
           },
           {
            "x": 16.94282355478218,
            "y": 287.05927000848186
           },
           {
            "x": 4.5524615143177884,
            "y": 20.72490583934461
           },
           {
            "x": 11.979398248537427,
            "y": 143.50598239706156
           },
           {
            "x": 5.683879004757185,
            "y": 32.30648054071953
           },
           {
            "x": 28.09358139432494,
            "y": 789.2493155595604
           },
           {
            "x": 7.895521281029026,
            "y": 62.33925629918224
           },
           {
            "x": 17.94748073162393,
            "y": 322.11206461201226
           },
           {
            "x": 19.82778624104938,
            "y": 393.14110722074713
           },
           {
            "x": 9.874699565112007,
            "y": 97.50969150122326
           },
           {
            "x": 11.056751729335843,
            "y": 122.25175880417116
           },
           {
            "x": -4.619918327915892,
            "y": 21.34364535661317
           },
           {
            "x": 10.752938464509846,
            "y": 115.62568562153537
           },
           {
            "x": 5.711684427672403,
            "y": 32.62333900131543
           },
           {
            "x": 8.49458972328006,
            "y": 72.1580545668552
           },
           {
            "x": 7.094614302990719,
            "y": 50.33355210820048
           },
           {
            "x": -1.4058286698721716,
            "y": 1.9763542490345591
           },
           {
            "x": 19.495403084500882,
            "y": 380.0707414271665
           },
           {
            "x": 10.700022846484615,
            "y": 114.49048891529272
           },
           {
            "x": 11.99313816126925,
            "y": 143.83536295529277
           },
           {
            "x": 5.257709712872742,
            "y": 27.643511424836376
           },
           {
            "x": 15.374269552550603,
            "y": 236.3681642744845
           },
           {
            "x": 10.12049466199234,
            "y": 102.42441220341547
           },
           {
            "x": 1.0731129062244884,
            "y": 1.1515713095055677
           },
           {
            "x": 7.064563152386798,
            "y": 49.90805253406129
           },
           {
            "x": -1.0234802546191393,
            "y": 1.047511831595258
           },
           {
            "x": -0.8237732504492481,
            "y": 0.6786023681557196
           },
           {
            "x": 1.0959819815775207,
            "y": 1.201176503942589
           },
           {
            "x": 10.858666138143452,
            "y": 117.91063029966323
           },
           {
            "x": 6.939391522685215,
            "y": 48.15515470511542
           },
           {
            "x": 1.9504983137568317,
            "y": 3.8044436719682437
           },
           {
            "x": 0.8161969849442503,
            "y": 0.6661775182320847
           },
           {
            "x": 12.266025787794472,
            "y": 150.455388626839
           },
           {
            "x": 9.251105684761766,
            "y": 85.58295639063147
           },
           {
            "x": 3.654877717248665,
            "y": 13.358131128040812
           },
           {
            "x": 7.0294460421810605,
            "y": 49.41311165993498
           },
           {
            "x": 3.88388074314642,
            "y": 15.084529626983587
           }
          ]
         },
         "encoding": {
          "x": {
           "field": "x",
           "scale": {
            "domain": [
             -10,
             20
            ]
           },
           "type": "quantitative"
          },
          "y": {
           "field": "y",
           "type": "quantitative"
          }
         },
         "mark": {
          "clip": true,
          "color": "firebrick",
          "filled": true,
          "opacity": 0.2,
          "size": 100,
          "type": "point"
         }
        },
        {
         "data": {
          "values": [
           {
            "label": "E[X]^2",
            "x": 6.602988560498277,
            "y": 43.59945793007111
           }
          ]
         },
         "encoding": {
          "x": {
           "field": "x",
           "scale": {
            "domain": [
             -10,
             20
            ]
           },
           "type": "quantitative"
          },
          "y": {
           "field": "y",
           "type": "quantitative"
          }
         },
         "mark": {
          "clip": true,
          "color": "black",
          "filled": true,
          "opacity": 1,
          "size": 200,
          "type": "point"
         }
        },
        {
         "data": {
          "values": [
           {
            "label": "E[X]^2",
            "x": 6.602988560498277,
            "y": 43.59945793007111
           }
          ]
         },
         "encoding": {
          "text": {
           "field": "label",
           "type": "nominal"
          },
          "x": {
           "field": "x",
           "scale": {
            "domain": [
             -10,
             20
            ]
           },
           "type": "quantitative"
          },
          "y": {
           "field": "y",
           "type": "quantitative"
          }
         },
         "mark": {
          "align": "left",
          "baseline": "bottom",
          "dx": 16,
          "fill": "white",
          "fillOpacity": 1,
          "opacity": 1,
          "stroke": "black",
          "type": "text",
          "xOffset": -2,
          "yOffset": -4
         }
        }
       ]
      },
      "image/png": "[encoded data removed]",
      "text/plain": [
       "<VegaLite 2 object>\n",
       "\n",
       "If you see this message, it means the renderer has not been properly enabled\n",
       "for the frontend that you are using. For more information, see\n",
       "https://altair-viz.github.io/user_guide/troubleshooting.html\n"
      ]
     },
     "execution_count": 83,
     "metadata": {},
     "output_type": "execute_result"
    }
   ],
   "source": [
    "%load_ext autoreload\n",
    "%autoreload 2\n",
    "\n",
    "domain = (-10, 20)\n",
    "x_points = make_scatter_chart(opacity=.2, X=s, Y=np.zeros(len(s)), domain=domain)\n",
    "expected_x, labels = make_scatter_chart_with_labels(X=[np.mean(s)], Y=[0], L=[\"E[X]\"], domain=domain, opacity=1)\n",
    "expectedx2, labelsx2 = make_scatter_chart_with_labels(X=[np.mean(s)], Y=[np.mean(s) ** 2], L=[\"E[X]^2\"], domain=domain, color=\"black\", opacity=1)\n",
    "expected_x2, labels2 = make_scatter_chart_with_labels(X=[np.mean(s)], Y=[np.mean([i ** 2 for i in s])], L=[\"E[X^2]\"], domain=domain, opacity=1, color=\"firebrick\")\n",
    "x2_points = make_scatter_chart(opacity=.2, X=s, Y=[i ** 2 for i in s], color=\"firebrick\", domain=domain, size=100)\n",
    "\n",
    "x_points + expected_x + labels + expected_x2 + labels2 + x2_points + expectedx2 + labelsx2"
   ]
  },
  {
   "cell_type": "markdown",
   "metadata": {},
   "source": [
    "### A visual intition for the variance\n",
    "\n",
    "The distance between the red dot and the black dot is $\\mathbb{E}[X^2]$ - $\\mathbb{E}[X]^2$ is equal to $Var(X)$: the variance!"
   ]
  },
  {
   "cell_type": "markdown",
   "metadata": {},
   "source": [
    "Because $\\mathbb{E}[X^2]$ is always above the black squares line, this also doubles as a visual proof that the variance is always non-negative. (See also this [awesome visual proof](http://mark.reid.name/blog/behold-jensens-inequality.html) of Jensen's Inequality, which gave me the idea for this post)."
   ]
  },
  {
   "cell_type": "markdown",
   "metadata": {},
   "source": [
    "\n",
    "### Plowing through the algebra \n",
    "\n",
    "This post is devoted to providing a visual intution for the alternate definition of variance. If you are curious about the algebra behind the definition, here is a detailed derivation as well.\n",
    "\n",
    "Starting from the definition and expanding the square we have\n",
    "\n",
    "$$Var(X) = \\mathbb{E}[(x - \\mathbb{E}[X])^2]$$\n",
    "\n",
    "$$Var(X) = \\mathbb{E}[X^2 - 2XE[X] + \\mathbb{E}[X]^2]$$\n",
    "\n",
    "From linearity of expectation we have:\n",
    "\n",
    "$$Var(X) = \\mathbb{E}[X^2]-  \\mathbb{E}[2XE[X]] +  \\mathbb{E}[\\mathbb{E}[X]^2]$$\n",
    "\n",
    "We can pull out the constants 2 and $\\mathbb{E}[X]$ from the expectation in the middle term to get:\n",
    "\n",
    "$$Var(X) = \\mathbb{E}[X^2]-  2\\mathbb{E}[X]\\mathbb{E}E[X] +  \\mathbb{E}[\\mathbb{E}[X^2]$$\n",
    "\n",
    "We can also express the middle term as $2\\mathbb{E}[X^2]$ to get\n",
    "\n",
    "$$Var(X) = \\mathbb{E}[X^2]-  2\\mathbb{E}[X^2]+  \\mathbb{E}[X^2]$$\n",
    "\n",
    "$$Var(X) = \\mathbb{E}[X^2]-  \\mathbb{E}[X^2] -  \\mathbb{E}[X^2]+  \\mathbb{E}[X^2]$$\n",
    "\n",
    "$$Var(X) = \\mathbb{E}[X^2] -   \\mathbb{E}[X^2]$$"
   ]
  }
 ],
 "metadata": {
  "kernelspec": {
   "display_name": "Python 3",
   "language": "python",
   "name": "python3"
  },
  "language_info": {
   "codemirror_mode": {
    "name": "ipython",
    "version": 3
   },
   "file_extension": ".py",
   "mimetype": "text/x-python",
   "name": "python",
   "nbconvert_exporter": "python",
   "pygments_lexer": "ipython3",
   "version": "3.6.2"
  }
 },
 "nbformat": 4,
 "nbformat_minor": 2
}
