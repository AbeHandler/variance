{
 "cells": [
  {
   "cell_type": "markdown",
   "metadata": {},
   "source": [
    "### Visual intuition for the other definition of variance\n",
    "\n",
    "\n",
    "I always think of the [variance](https://en.wikipedia.org/wiki/Variance) of some random variable $X$ as the variable's expected deviation from its mean $\\mathbb{E}[X]$. That is, I think of the variance as:\n",
    "\n",
    "\n",
    "$$Var(X)= \\mathbb{E}[(X - \\mathbb{E}[X])^2]$$\n",
    "\n",
    "where the squared term ensures that the variance is non-negative. However, on Wikipedia and in textbooks the variance is also sometimes defined as:\n",
    "\n",
    "$$Var(X) =\\mathbb{E}[X^2] - \\mathbb{E}[X]^2$$\n",
    "\n",
    "which is expected value of $X$ squared, minus the expected square of $X$. I never find this second definition intuitive. This is a visual demonstration of why the variance can be expressed in this way. (If you are curious about the algebra too, see the end of the post)."
   ]
  },
  {
   "cell_type": "markdown",
   "metadata": {},
   "source": [
    "### Get some data\n",
    "\n",
    "Let's start by drawing some data from a 1 dimensional normal with some mean and some standard deviation. Below, I make a histogram to visualize the data and plot the data as blue dots along the x axis. Each little blue dot along the x-axis is some datapoint $x_i$."
   ]
  },
  {
   "cell_type": "code",
   "execution_count": 7,
   "metadata": {},
   "outputs": [
    {
     "data": {
      "application/vnd.vegalite.v2+json": {
       "$schema": "https://vega.github.io/schema/vega-lite/v2.6.0.json",
       "config": {
        "view": {
         "height": 300,
         "width": 400
        }
       },
       "layer": [
        {
         "data": {
          "values": [
           {
            "x": -20,
            "y": 0
           },
           {
            "x": -19,
            "y": 0
           },
           {
            "x": -18,
            "y": 0
           },
           {
            "x": -17,
            "y": 1
           },
           {
            "x": -16,
            "y": 0
           },
           {
            "x": -15,
            "y": 0
           },
           {
            "x": -14,
            "y": 1
           },
           {
            "x": -13,
            "y": 0
           },
           {
            "x": -12,
            "y": 0
           },
           {
            "x": -11,
            "y": 1
           },
           {
            "x": -10,
            "y": 0
           },
           {
            "x": -9,
            "y": 0
           },
           {
            "x": -8,
            "y": 1
           },
           {
            "x": -7,
            "y": 0
           },
           {
            "x": -6,
            "y": 2
           },
           {
            "x": -5,
            "y": 5
           },
           {
            "x": -4,
            "y": 0
           },
           {
            "x": -3,
            "y": 5
           },
           {
            "x": -2,
            "y": 0
           },
           {
            "x": -1,
            "y": 2
           },
           {
            "x": 0,
            "y": 3
           },
           {
            "x": 1,
            "y": 6
           },
           {
            "x": 2,
            "y": 6
           },
           {
            "x": 3,
            "y": 5
           },
           {
            "x": 4,
            "y": 2
           },
           {
            "x": 5,
            "y": 8
           },
           {
            "x": 6,
            "y": 8
           },
           {
            "x": 7,
            "y": 4
           },
           {
            "x": 8,
            "y": 5
           },
           {
            "x": 9,
            "y": 8
           },
           {
            "x": 10,
            "y": 6
           },
           {
            "x": 11,
            "y": 5
           },
           {
            "x": 12,
            "y": 2
           },
           {
            "x": 13,
            "y": 1
           },
           {
            "x": 14,
            "y": 4
           },
           {
            "x": 15,
            "y": 2
           },
           {
            "x": 16,
            "y": 2
           },
           {
            "x": 17,
            "y": 1
           },
           {
            "x": 18,
            "y": 0
           },
           {
            "x": 19,
            "y": 0
           },
           {
            "x": 20,
            "y": 0
           },
           {
            "x": 21,
            "y": 4
           },
           {
            "x": 22,
            "y": 0
           },
           {
            "x": 23,
            "y": 0
           },
           {
            "x": 24,
            "y": 0
           }
          ]
         },
         "encoding": {
          "x": {
           "field": "x",
           "type": "quantitative"
          },
          "y": {
           "field": "y",
           "type": "quantitative"
          }
         },
         "mark": {
          "opacity": 0.2,
          "size": 10,
          "type": "bar"
         }
        },
        {
         "data": {
          "values": [
           {
            "x": 10.067676953162362,
            "y": 0
           },
           {
            "x": 21.559491794932438,
            "y": 0
           },
           {
            "x": 6.781341989740184,
            "y": 0
           },
           {
            "x": 2.3949834398582786,
            "y": 0
           },
           {
            "x": 5.35543670133573,
            "y": 0
           },
           {
            "x": 0.6463195681906626,
            "y": 0
           },
           {
            "x": 5.817203329463901,
            "y": 0
           },
           {
            "x": 9.885158691689753,
            "y": 0
           },
           {
            "x": 10.297765577053672,
            "y": 0
           },
           {
            "x": 10.522666156501302,
            "y": 0
           },
           {
            "x": -4.645952009483576,
            "y": 0
           },
           {
            "x": 10.662363959401645,
            "y": 0
           },
           {
            "x": 0.8263194185821545,
            "y": 0
           },
           {
            "x": 16.308378182446983,
            "y": 0
           },
           {
            "x": 6.114573234210823,
            "y": 0
           },
           {
            "x": 0.8368116826887046,
            "y": 0
           },
           {
            "x": -2.3337959848039134,
            "y": 0
           },
           {
            "x": 21.876780868256922,
            "y": 0
           },
           {
            "x": -4.463309963417018,
            "y": 0
           },
           {
            "x": 1.562696104656359,
            "y": 0
           },
           {
            "x": 8.511427514838788,
            "y": 0
           },
           {
            "x": 7.910496592640839,
            "y": 0
           },
           {
            "x": -2.9027386563773696,
            "y": 0
           },
           {
            "x": 5.301566228841112,
            "y": 0
           },
           {
            "x": -2.0503030382948957,
            "y": 0
           },
           {
            "x": 2.508435593413277,
            "y": 0
           },
           {
            "x": 5.852058832593336,
            "y": 0
           },
           {
            "x": 14.811343329949851,
            "y": 0
           },
           {
            "x": -16.90574130258447,
            "y": 0
           },
           {
            "x": -4.08496541723663,
            "y": 0
           },
           {
            "x": 1.9086175116657262,
            "y": 0
           },
           {
            "x": 6.132456278972009,
            "y": 0
           },
           {
            "x": 10.165782122227089,
            "y": 0
           },
           {
            "x": 8.387599393125875,
            "y": 0
           },
           {
            "x": 15.649061832578564,
            "y": 0
           },
           {
            "x": -2.812594417382563,
            "y": 0
           },
           {
            "x": 9.801847806839927,
            "y": 0
           },
           {
            "x": 4.514444386074738,
            "y": 0
           },
           {
            "x": 6.89781984800963,
            "y": 0
           },
           {
            "x": 14.03039593566514,
            "y": 0
           },
           {
            "x": -10.239473179981964,
            "y": 0
           },
           {
            "x": 11.777645520983262,
            "y": 0
           },
           {
            "x": -7.971154082224116,
            "y": 0
           },
           {
            "x": 3.940766018168145,
            "y": 0
           },
           {
            "x": 10.891026669366635,
            "y": 0
           },
           {
            "x": 1.3029606609531275,
            "y": 0
           },
           {
            "x": 7.561229379559038,
            "y": 0
           },
           {
            "x": 6.284742041322816,
            "y": 0
           },
           {
            "x": 4.207670986729433,
            "y": 0
           },
           {
            "x": 2.1464830007779065,
            "y": 0
           },
           {
            "x": 8.455264329783958,
            "y": 0
           },
           {
            "x": 3.383029570859533,
            "y": 0
           },
           {
            "x": -0.802185794340943,
            "y": 0
           },
           {
            "x": 12.678139209733562,
            "y": 0
           },
           {
            "x": 5.863952248392404,
            "y": 0
           },
           {
            "x": 11.660937967960708,
            "y": 0
           },
           {
            "x": 3.915483501966642,
            "y": 0
           },
           {
            "x": -2.784749183818823,
            "y": 0
           },
           {
            "x": 6.2955702021623265,
            "y": 0
           },
           {
            "x": 17.311334146699572,
            "y": 0
           },
           {
            "x": 9.525359782910002,
            "y": 0
           },
           {
            "x": 21.120722457225796,
            "y": 0
           },
           {
            "x": -5.639422719773293,
            "y": 0
           },
           {
            "x": 11.81884502984888,
            "y": 0
           },
           {
            "x": 9.870877871074619,
            "y": 0
           },
           {
            "x": 12.256973593524568,
            "y": 0
           },
           {
            "x": 5.035076067269294,
            "y": 0
           },
           {
            "x": 2.299756492473204,
            "y": 0
           },
           {
            "x": 8.353766949177723,
            "y": 0
           },
           {
            "x": 6.727970593992055,
            "y": 0
           },
           {
            "x": 14.838035127944273,
            "y": 0
           },
           {
            "x": -4.35547425138777,
            "y": 0
           },
           {
            "x": 15.66769112688218,
            "y": 0
           },
           {
            "x": 21.579104878193334,
            "y": 0
           },
           {
            "x": 14.564321453575308,
            "y": 0
           },
           {
            "x": 7.007755691349382,
            "y": 0
           },
           {
            "x": 2.9705156998976627,
            "y": 0
           },
           {
            "x": 8.088182238935545,
            "y": 0
           },
           {
            "x": 1.7753485607258366,
            "y": 0
           },
           {
            "x": -0.033344802610548285,
            "y": 0
           },
           {
            "x": 16.563497959311423,
            "y": 0
           },
           {
            "x": 1.1935310190453716,
            "y": 0
           },
           {
            "x": -5.737942391820194,
            "y": 0
           },
           {
            "x": 9.880460060953805,
            "y": 0
           },
           {
            "x": 2.6757029360729168,
            "y": 0
           },
           {
            "x": 13.595631429923689,
            "y": 0
           },
           {
            "x": 7.997455221327863,
            "y": 0
           },
           {
            "x": 6.12361180676201,
            "y": 0
           },
           {
            "x": -4.354939308922905,
            "y": 0
           },
           {
            "x": 9.447446021443058,
            "y": 0
           },
           {
            "x": 5.887753475446514,
            "y": 0
           },
           {
            "x": 1.4884286407519403,
            "y": 0
           },
           {
            "x": 3.2962824216002438,
            "y": 0
           },
           {
            "x": -13.96237926254937,
            "y": 0
           },
           {
            "x": 5.11843149841739,
            "y": 0
           },
           {
            "x": 9.684119830886111,
            "y": 0
           },
           {
            "x": 9.145080058916285,
            "y": 0
           },
           {
            "x": 11.200743130448444,
            "y": 0
           },
           {
            "x": 11.324072622577754,
            "y": 0
           },
           {
            "x": 3.3355765370744663,
            "y": 0
           }
          ]
         },
         "encoding": {
          "x": {
           "field": "x",
           "type": "quantitative"
          },
          "y": {
           "field": "y",
           "type": "quantitative"
          }
         },
         "mark": {
          "clip": true,
          "color": "darkblue",
          "opacity": 0.2,
          "size": 10,
          "type": "point"
         }
        }
       ]
      },
      "image/png": "[encoded data removed]",
      "text/plain": [
       "<VegaLite 2 object>\n",
       "\n",
       "If you see this message, it means the renderer has not been properly enabled\n",
       "for the frontend that you are using. For more information, see\n",
       "https://altair-viz.github.io/user_guide/troubleshooting.html\n"
      ]
     },
     "execution_count": 7,
     "metadata": {},
     "output_type": "execute_result"
    }
   ],
   "source": [
    "import numpy as np\n",
    "from helper import *\n",
    "\n",
    "mu, sigma = 6, 7 # mean and standard deviation\n",
    "N = 100\n",
    "nbins = 25\n",
    "\n",
    "s =  np.random.normal(mu, sigma, size=N)\n",
    "\n",
    "values, bins = np.histogram(s, bins=np.arange(-20, nbins + 1))\n",
    "\n",
    "histogram = make_bar_chart(size=10, opacity=.2, X=bins, Y=values)\n",
    "\n",
    "x_points = make_scatter_chart(size=10, opacity=.2, X=s, Y=np.zeros(len(s)))\n",
    "\n",
    "histogram + x_points"
   ]
  },
  {
   "cell_type": "markdown",
   "metadata": {},
   "source": [
    "### Square the data\n",
    "\n",
    "The second definitionl of variance includes the square of each $x_i^2$ in the sample. I show the square of each $x_i$ along the y-axis with a red dot. We can see that the red dots sketch the curve of the function $x^2$. I show a little black line leading from each $x_i$ to its corresponding $x_i^2$."
   ]
  },
  {
   "cell_type": "code",
   "execution_count": 8,
   "metadata": {},
   "outputs": [
    {
     "data": {
      "application/vnd.vegalite.v2+json": {
       "$schema": "https://vega.github.io/schema/vega-lite/v2.6.0.json",
       "config": {
        "view": {
         "height": 300,
         "width": 400
        }
       },
       "layer": [
        {
         "data": {
          "values": [
           {
            "x": 10.067676953162362,
            "y": 0
           },
           {
            "x": 10.067676953162362,
            "y": 101.35811923323658
           }
          ]
         },
         "encoding": {
          "x": {
           "field": "x",
           "type": "quantitative"
          },
          "y": {
           "field": "y",
           "type": "quantitative"
          }
         },
         "mark": {
          "color": "black",
          "opacity": 0.1,
          "type": "line"
         }
        },
        {
         "data": {
          "values": [
           {
            "x": 21.559491794932438,
            "y": 0
           },
           {
            "x": 21.559491794932438,
            "y": 464.8116864557591
           }
          ]
         },
         "encoding": {
          "x": {
           "field": "x",
           "type": "quantitative"
          },
          "y": {
           "field": "y",
           "type": "quantitative"
          }
         },
         "mark": {
          "color": "black",
          "opacity": 0.1,
          "type": "line"
         }
        },
        {
         "data": {
          "values": [
           {
            "x": 6.781341989740184,
            "y": 0
           },
           {
            "x": 6.781341989740184,
            "y": 45.98659918181336
           }
          ]
         },
         "encoding": {
          "x": {
           "field": "x",
           "type": "quantitative"
          },
          "y": {
           "field": "y",
           "type": "quantitative"
          }
         },
         "mark": {
          "color": "black",
          "opacity": 0.1,
          "type": "line"
         }
        },
        {
         "data": {
          "values": [
           {
            "x": 2.3949834398582786,
            "y": 0
           },
           {
            "x": 2.3949834398582786,
            "y": 5.735945677195392
           }
          ]
         },
         "encoding": {
          "x": {
           "field": "x",
           "type": "quantitative"
          },
          "y": {
           "field": "y",
           "type": "quantitative"
          }
         },
         "mark": {
          "color": "black",
          "opacity": 0.1,
          "type": "line"
         }
        },
        {
         "data": {
          "values": [
           {
            "x": 5.35543670133573,
            "y": 0
           },
           {
            "x": 5.35543670133573,
            "y": 28.680702262013725
           }
          ]
         },
         "encoding": {
          "x": {
           "field": "x",
           "type": "quantitative"
          },
          "y": {
           "field": "y",
           "type": "quantitative"
          }
         },
         "mark": {
          "color": "black",
          "opacity": 0.1,
          "type": "line"
         }
        },
        {
         "data": {
          "values": [
           {
            "x": 0.6463195681906626,
            "y": 0
           },
           {
            "x": 0.6463195681906626,
            "y": 0.41772898422616456
           }
          ]
         },
         "encoding": {
          "x": {
           "field": "x",
           "type": "quantitative"
          },
          "y": {
           "field": "y",
           "type": "quantitative"
          }
         },
         "mark": {
          "color": "black",
          "opacity": 0.1,
          "type": "line"
         }
        },
        {
         "data": {
          "values": [
           {
            "x": 5.817203329463901,
            "y": 0
           },
           {
            "x": 5.817203329463901,
            "y": 33.83985457632589
           }
          ]
         },
         "encoding": {
          "x": {
           "field": "x",
           "type": "quantitative"
          },
          "y": {
           "field": "y",
           "type": "quantitative"
          }
         },
         "mark": {
          "color": "black",
          "opacity": 0.1,
          "type": "line"
         }
        },
        {
         "data": {
          "values": [
           {
            "x": 9.885158691689753,
            "y": 0
           },
           {
            "x": 9.885158691689753,
            "y": 97.71636235988947
           }
          ]
         },
         "encoding": {
          "x": {
           "field": "x",
           "type": "quantitative"
          },
          "y": {
           "field": "y",
           "type": "quantitative"
          }
         },
         "mark": {
          "color": "black",
          "opacity": 0.1,
          "type": "line"
         }
        },
        {
         "data": {
          "values": [
           {
            "x": 10.297765577053672,
            "y": 0
           },
           {
            "x": 10.297765577053672,
            "y": 106.04397587995156
           }
          ]
         },
         "encoding": {
          "x": {
           "field": "x",
           "type": "quantitative"
          },
          "y": {
           "field": "y",
           "type": "quantitative"
          }
         },
         "mark": {
          "color": "black",
          "opacity": 0.1,
          "type": "line"
         }
        },
        {
         "data": {
          "values": [
           {
            "x": 10.522666156501302,
            "y": 0
           },
           {
            "x": 10.522666156501302,
            "y": 110.72650304117788
           }
          ]
         },
         "encoding": {
          "x": {
           "field": "x",
           "type": "quantitative"
          },
          "y": {
           "field": "y",
           "type": "quantitative"
          }
         },
         "mark": {
          "color": "black",
          "opacity": 0.1,
          "type": "line"
         }
        },
        {
         "data": {
          "values": [
           {
            "x": -4.645952009483576,
            "y": 0
           },
           {
            "x": -4.645952009483576,
            "y": 21.58487007442448
           }
          ]
         },
         "encoding": {
          "x": {
           "field": "x",
           "type": "quantitative"
          },
          "y": {
           "field": "y",
           "type": "quantitative"
          }
         },
         "mark": {
          "color": "black",
          "opacity": 0.1,
          "type": "line"
         }
        },
        {
         "data": {
          "values": [
           {
            "x": 10.662363959401645,
            "y": 0
           },
           {
            "x": 10.662363959401645,
            "y": 113.68600520274713
           }
          ]
         },
         "encoding": {
          "x": {
           "field": "x",
           "type": "quantitative"
          },
          "y": {
           "field": "y",
           "type": "quantitative"
          }
         },
         "mark": {
          "color": "black",
          "opacity": 0.1,
          "type": "line"
         }
        },
        {
         "data": {
          "values": [
           {
            "x": 0.8263194185821545,
            "y": 0
           },
           {
            "x": 0.8263194185821545,
            "y": 0.6828037815259499
           }
          ]
         },
         "encoding": {
          "x": {
           "field": "x",
           "type": "quantitative"
          },
          "y": {
           "field": "y",
           "type": "quantitative"
          }
         },
         "mark": {
          "color": "black",
          "opacity": 0.1,
          "type": "line"
         }
        },
        {
         "data": {
          "values": [
           {
            "x": 16.308378182446983,
            "y": 0
           },
           {
            "x": 16.308378182446983,
            "y": 265.9631989417128
           }
          ]
         },
         "encoding": {
          "x": {
           "field": "x",
           "type": "quantitative"
          },
          "y": {
           "field": "y",
           "type": "quantitative"
          }
         },
         "mark": {
          "color": "black",
          "opacity": 0.1,
          "type": "line"
         }
        },
        {
         "data": {
          "values": [
           {
            "x": 6.114573234210823,
            "y": 0
           },
           {
            "x": 6.114573234210823,
            "y": 37.388005836527405
           }
          ]
         },
         "encoding": {
          "x": {
           "field": "x",
           "type": "quantitative"
          },
          "y": {
           "field": "y",
           "type": "quantitative"
          }
         },
         "mark": {
          "color": "black",
          "opacity": 0.1,
          "type": "line"
         }
        },
        {
         "data": {
          "values": [
           {
            "x": 0.8368116826887046,
            "y": 0
           },
           {
            "x": 0.8368116826887046,
            "y": 0.7002537922843013
           }
          ]
         },
         "encoding": {
          "x": {
           "field": "x",
           "type": "quantitative"
          },
          "y": {
           "field": "y",
           "type": "quantitative"
          }
         },
         "mark": {
          "color": "black",
          "opacity": 0.1,
          "type": "line"
         }
        },
        {
         "data": {
          "values": [
           {
            "x": -2.3337959848039134,
            "y": 0
           },
           {
            "x": -2.3337959848039134,
            "y": 5.446603698686868
           }
          ]
         },
         "encoding": {
          "x": {
           "field": "x",
           "type": "quantitative"
          },
          "y": {
           "field": "y",
           "type": "quantitative"
          }
         },
         "mark": {
          "color": "black",
          "opacity": 0.1,
          "type": "line"
         }
        },
        {
         "data": {
          "values": [
           {
            "x": 21.876780868256922,
            "y": 0
           },
           {
            "x": 21.876780868256922,
            "y": 478.5935411577321
           }
          ]
         },
         "encoding": {
          "x": {
           "field": "x",
           "type": "quantitative"
          },
          "y": {
           "field": "y",
           "type": "quantitative"
          }
         },
         "mark": {
          "color": "black",
          "opacity": 0.1,
          "type": "line"
         }
        },
        {
         "data": {
          "values": [
           {
            "x": -4.463309963417018,
            "y": 0
           },
           {
            "x": -4.463309963417018,
            "y": 19.921135829537622
           }
          ]
         },
         "encoding": {
          "x": {
           "field": "x",
           "type": "quantitative"
          },
          "y": {
           "field": "y",
           "type": "quantitative"
          }
         },
         "mark": {
          "color": "black",
          "opacity": 0.1,
          "type": "line"
         }
        },
        {
         "data": {
          "values": [
           {
            "x": 1.562696104656359,
            "y": 0
           },
           {
            "x": 1.562696104656359,
            "y": 2.4420191155081583
           }
          ]
         },
         "encoding": {
          "x": {
           "field": "x",
           "type": "quantitative"
          },
          "y": {
           "field": "y",
           "type": "quantitative"
          }
         },
         "mark": {
          "color": "black",
          "opacity": 0.1,
          "type": "line"
         }
        },
        {
         "data": {
          "values": [
           {
            "x": 8.511427514838788,
            "y": 0
           },
           {
            "x": 8.511427514838788,
            "y": 72.44439834035478
           }
          ]
         },
         "encoding": {
          "x": {
           "field": "x",
           "type": "quantitative"
          },
          "y": {
           "field": "y",
           "type": "quantitative"
          }
         },
         "mark": {
          "color": "black",
          "opacity": 0.1,
          "type": "line"
         }
        },
        {
         "data": {
          "values": [
           {
            "x": 7.910496592640839,
            "y": 0
           },
           {
            "x": 7.910496592640839,
            "y": 62.57595634218232
           }
          ]
         },
         "encoding": {
          "x": {
           "field": "x",
           "type": "quantitative"
          },
          "y": {
           "field": "y",
           "type": "quantitative"
          }
         },
         "mark": {
          "color": "black",
          "opacity": 0.1,
          "type": "line"
         }
        },
        {
         "data": {
          "values": [
           {
            "x": -2.9027386563773696,
            "y": 0
           },
           {
            "x": -2.9027386563773696,
            "y": 8.425891707227498
           }
          ]
         },
         "encoding": {
          "x": {
           "field": "x",
           "type": "quantitative"
          },
          "y": {
           "field": "y",
           "type": "quantitative"
          }
         },
         "mark": {
          "color": "black",
          "opacity": 0.1,
          "type": "line"
         }
        },
        {
         "data": {
          "values": [
           {
            "x": 5.301566228841112,
            "y": 0
           },
           {
            "x": 5.301566228841112,
            "y": 28.106604478788565
           }
          ]
         },
         "encoding": {
          "x": {
           "field": "x",
           "type": "quantitative"
          },
          "y": {
           "field": "y",
           "type": "quantitative"
          }
         },
         "mark": {
          "color": "black",
          "opacity": 0.1,
          "type": "line"
         }
        },
        {
         "data": {
          "values": [
           {
            "x": -2.0503030382948957,
            "y": 0
           },
           {
            "x": -2.0503030382948957,
            "y": 4.20374254884128
           }
          ]
         },
         "encoding": {
          "x": {
           "field": "x",
           "type": "quantitative"
          },
          "y": {
           "field": "y",
           "type": "quantitative"
          }
         },
         "mark": {
          "color": "black",
          "opacity": 0.1,
          "type": "line"
         }
        },
        {
         "data": {
          "values": [
           {
            "x": 2.508435593413277,
            "y": 0
           },
           {
            "x": 2.508435593413277,
            "y": 6.29224912630262
           }
          ]
         },
         "encoding": {
          "x": {
           "field": "x",
           "type": "quantitative"
          },
          "y": {
           "field": "y",
           "type": "quantitative"
          }
         },
         "mark": {
          "color": "black",
          "opacity": 0.1,
          "type": "line"
         }
        },
        {
         "data": {
          "values": [
           {
            "x": 5.852058832593336,
            "y": 0
           },
           {
            "x": 5.852058832593336,
            "y": 34.24659258013368
           }
          ]
         },
         "encoding": {
          "x": {
           "field": "x",
           "type": "quantitative"
          },
          "y": {
           "field": "y",
           "type": "quantitative"
          }
         },
         "mark": {
          "color": "black",
          "opacity": 0.1,
          "type": "line"
         }
        },
        {
         "data": {
          "values": [
           {
            "x": 14.811343329949851,
            "y": 0
           },
           {
            "x": 14.811343329949851,
            "y": 219.37589123764994
           }
          ]
         },
         "encoding": {
          "x": {
           "field": "x",
           "type": "quantitative"
          },
          "y": {
           "field": "y",
           "type": "quantitative"
          }
         },
         "mark": {
          "color": "black",
          "opacity": 0.1,
          "type": "line"
         }
        },
        {
         "data": {
          "values": [
           {
            "x": -16.90574130258447,
            "y": 0
           },
           {
            "x": -16.90574130258447,
            "y": 285.80408898991044
           }
          ]
         },
         "encoding": {
          "x": {
           "field": "x",
           "type": "quantitative"
          },
          "y": {
           "field": "y",
           "type": "quantitative"
          }
         },
         "mark": {
          "color": "black",
          "opacity": 0.1,
          "type": "line"
         }
        },
        {
         "data": {
          "values": [
           {
            "x": -4.08496541723663,
            "y": 0
           },
           {
            "x": -4.08496541723663,
            "y": 16.68694246001923
           }
          ]
         },
         "encoding": {
          "x": {
           "field": "x",
           "type": "quantitative"
          },
          "y": {
           "field": "y",
           "type": "quantitative"
          }
         },
         "mark": {
          "color": "black",
          "opacity": 0.1,
          "type": "line"
         }
        },
        {
         "data": {
          "values": [
           {
            "x": 1.9086175116657262,
            "y": 0
           },
           {
            "x": 1.9086175116657262,
            "y": 3.6428208058370686
           }
          ]
         },
         "encoding": {
          "x": {
           "field": "x",
           "type": "quantitative"
          },
          "y": {
           "field": "y",
           "type": "quantitative"
          }
         },
         "mark": {
          "color": "black",
          "opacity": 0.1,
          "type": "line"
         }
        },
        {
         "data": {
          "values": [
           {
            "x": 6.132456278972009,
            "y": 0
           },
           {
            "x": 6.132456278972009,
            "y": 37.607020013503224
           }
          ]
         },
         "encoding": {
          "x": {
           "field": "x",
           "type": "quantitative"
          },
          "y": {
           "field": "y",
           "type": "quantitative"
          }
         },
         "mark": {
          "color": "black",
          "opacity": 0.1,
          "type": "line"
         }
        },
        {
         "data": {
          "values": [
           {
            "x": 10.165782122227089,
            "y": 0
           },
           {
            "x": 10.165782122227089,
            "y": 103.3431261565919
           }
          ]
         },
         "encoding": {
          "x": {
           "field": "x",
           "type": "quantitative"
          },
          "y": {
           "field": "y",
           "type": "quantitative"
          }
         },
         "mark": {
          "color": "black",
          "opacity": 0.1,
          "type": "line"
         }
        },
        {
         "data": {
          "values": [
           {
            "x": 8.387599393125875,
            "y": 0
           },
           {
            "x": 8.387599393125875,
            "y": 70.35182357956555
           }
          ]
         },
         "encoding": {
          "x": {
           "field": "x",
           "type": "quantitative"
          },
          "y": {
           "field": "y",
           "type": "quantitative"
          }
         },
         "mark": {
          "color": "black",
          "opacity": 0.1,
          "type": "line"
         }
        },
        {
         "data": {
          "values": [
           {
            "x": 15.649061832578564,
            "y": 0
           },
           {
            "x": 15.649061832578564,
            "y": 244.89313623986718
           }
          ]
         },
         "encoding": {
          "x": {
           "field": "x",
           "type": "quantitative"
          },
          "y": {
           "field": "y",
           "type": "quantitative"
          }
         },
         "mark": {
          "color": "black",
          "opacity": 0.1,
          "type": "line"
         }
        },
        {
         "data": {
          "values": [
           {
            "x": -2.812594417382563,
            "y": 0
           },
           {
            "x": -2.812594417382563,
            "y": 7.910687356691559
           }
          ]
         },
         "encoding": {
          "x": {
           "field": "x",
           "type": "quantitative"
          },
          "y": {
           "field": "y",
           "type": "quantitative"
          }
         },
         "mark": {
          "color": "black",
          "opacity": 0.1,
          "type": "line"
         }
        },
        {
         "data": {
          "values": [
           {
            "x": 9.801847806839927,
            "y": 0
           },
           {
            "x": 9.801847806839927,
            "y": 96.07622042845269
           }
          ]
         },
         "encoding": {
          "x": {
           "field": "x",
           "type": "quantitative"
          },
          "y": {
           "field": "y",
           "type": "quantitative"
          }
         },
         "mark": {
          "color": "black",
          "opacity": 0.1,
          "type": "line"
         }
        },
        {
         "data": {
          "values": [
           {
            "x": 4.514444386074738,
            "y": 0
           },
           {
            "x": 4.514444386074738,
            "y": 20.380208114961714
           }
          ]
         },
         "encoding": {
          "x": {
           "field": "x",
           "type": "quantitative"
          },
          "y": {
           "field": "y",
           "type": "quantitative"
          }
         },
         "mark": {
          "color": "black",
          "opacity": 0.1,
          "type": "line"
         }
        },
        {
         "data": {
          "values": [
           {
            "x": 6.89781984800963,
            "y": 0
           },
           {
            "x": 6.89781984800963,
            "y": 47.57991865559559
           }
          ]
         },
         "encoding": {
          "x": {
           "field": "x",
           "type": "quantitative"
          },
          "y": {
           "field": "y",
           "type": "quantitative"
          }
         },
         "mark": {
          "color": "black",
          "opacity": 0.1,
          "type": "line"
         }
        },
        {
         "data": {
          "values": [
           {
            "x": 14.03039593566514,
            "y": 0
           },
           {
            "x": 14.03039593566514,
            "y": 196.8520101115289
           }
          ]
         },
         "encoding": {
          "x": {
           "field": "x",
           "type": "quantitative"
          },
          "y": {
           "field": "y",
           "type": "quantitative"
          }
         },
         "mark": {
          "color": "black",
          "opacity": 0.1,
          "type": "line"
         }
        },
        {
         "data": {
          "values": [
           {
            "x": -10.239473179981964,
            "y": 0
           },
           {
            "x": -10.239473179981964,
            "y": 104.84681100356995
           }
          ]
         },
         "encoding": {
          "x": {
           "field": "x",
           "type": "quantitative"
          },
          "y": {
           "field": "y",
           "type": "quantitative"
          }
         },
         "mark": {
          "color": "black",
          "opacity": 0.1,
          "type": "line"
         }
        },
        {
         "data": {
          "values": [
           {
            "x": 11.777645520983262,
            "y": 0
           },
           {
            "x": 11.777645520983262,
            "y": 138.71293401793707
           }
          ]
         },
         "encoding": {
          "x": {
           "field": "x",
           "type": "quantitative"
          },
          "y": {
           "field": "y",
           "type": "quantitative"
          }
         },
         "mark": {
          "color": "black",
          "opacity": 0.1,
          "type": "line"
         }
        },
        {
         "data": {
          "values": [
           {
            "x": -7.971154082224116,
            "y": 0
           },
           {
            "x": -7.971154082224116,
            "y": 63.539297402558184
           }
          ]
         },
         "encoding": {
          "x": {
           "field": "x",
           "type": "quantitative"
          },
          "y": {
           "field": "y",
           "type": "quantitative"
          }
         },
         "mark": {
          "color": "black",
          "opacity": 0.1,
          "type": "line"
         }
        },
        {
         "data": {
          "values": [
           {
            "x": 3.940766018168145,
            "y": 0
           },
           {
            "x": 3.940766018168145,
            "y": 15.529636809948817
           }
          ]
         },
         "encoding": {
          "x": {
           "field": "x",
           "type": "quantitative"
          },
          "y": {
           "field": "y",
           "type": "quantitative"
          }
         },
         "mark": {
          "color": "black",
          "opacity": 0.1,
          "type": "line"
         }
        },
        {
         "data": {
          "values": [
           {
            "x": 10.891026669366635,
            "y": 0
           },
           {
            "x": 10.891026669366635,
            "y": 118.6144619128553
           }
          ]
         },
         "encoding": {
          "x": {
           "field": "x",
           "type": "quantitative"
          },
          "y": {
           "field": "y",
           "type": "quantitative"
          }
         },
         "mark": {
          "color": "black",
          "opacity": 0.1,
          "type": "line"
         }
        },
        {
         "data": {
          "values": [
           {
            "x": 1.3029606609531275,
            "y": 0
           },
           {
            "x": 1.3029606609531275,
            "y": 1.6977064839914107
           }
          ]
         },
         "encoding": {
          "x": {
           "field": "x",
           "type": "quantitative"
          },
          "y": {
           "field": "y",
           "type": "quantitative"
          }
         },
         "mark": {
          "color": "black",
          "opacity": 0.1,
          "type": "line"
         }
        },
        {
         "data": {
          "values": [
           {
            "x": 7.561229379559038,
            "y": 0
           },
           {
            "x": 7.561229379559038,
            "y": 57.17218973030676
           }
          ]
         },
         "encoding": {
          "x": {
           "field": "x",
           "type": "quantitative"
          },
          "y": {
           "field": "y",
           "type": "quantitative"
          }
         },
         "mark": {
          "color": "black",
          "opacity": 0.1,
          "type": "line"
         }
        },
        {
         "data": {
          "values": [
           {
            "x": 6.284742041322816,
            "y": 0
           },
           {
            "x": 6.284742041322816,
            "y": 39.49798252597048
           }
          ]
         },
         "encoding": {
          "x": {
           "field": "x",
           "type": "quantitative"
          },
          "y": {
           "field": "y",
           "type": "quantitative"
          }
         },
         "mark": {
          "color": "black",
          "opacity": 0.1,
          "type": "line"
         }
        },
        {
         "data": {
          "values": [
           {
            "x": 4.207670986729433,
            "y": 0
           },
           {
            "x": 4.207670986729433,
            "y": 17.704495132564638
           }
          ]
         },
         "encoding": {
          "x": {
           "field": "x",
           "type": "quantitative"
          },
          "y": {
           "field": "y",
           "type": "quantitative"
          }
         },
         "mark": {
          "color": "black",
          "opacity": 0.1,
          "type": "line"
         }
        },
        {
         "data": {
          "values": [
           {
            "x": 2.1464830007779065,
            "y": 0
           },
           {
            "x": 2.1464830007779065,
            "y": 4.607389272628526
           }
          ]
         },
         "encoding": {
          "x": {
           "field": "x",
           "type": "quantitative"
          },
          "y": {
           "field": "y",
           "type": "quantitative"
          }
         },
         "mark": {
          "color": "black",
          "opacity": 0.1,
          "type": "line"
         }
        },
        {
         "data": {
          "values": [
           {
            "x": 8.455264329783958,
            "y": 0
           },
           {
            "x": 8.455264329783958,
            "y": 71.49149488651696
           }
          ]
         },
         "encoding": {
          "x": {
           "field": "x",
           "type": "quantitative"
          },
          "y": {
           "field": "y",
           "type": "quantitative"
          }
         },
         "mark": {
          "color": "black",
          "opacity": 0.1,
          "type": "line"
         }
        },
        {
         "data": {
          "values": [
           {
            "x": 3.383029570859533,
            "y": 0
           },
           {
            "x": 3.383029570859533,
            "y": 11.444889077310036
           }
          ]
         },
         "encoding": {
          "x": {
           "field": "x",
           "type": "quantitative"
          },
          "y": {
           "field": "y",
           "type": "quantitative"
          }
         },
         "mark": {
          "color": "black",
          "opacity": 0.1,
          "type": "line"
         }
        },
        {
         "data": {
          "values": [
           {
            "x": -0.802185794340943,
            "y": 0
           },
           {
            "x": -0.802185794340943,
            "y": 0.6435020486424096
           }
          ]
         },
         "encoding": {
          "x": {
           "field": "x",
           "type": "quantitative"
          },
          "y": {
           "field": "y",
           "type": "quantitative"
          }
         },
         "mark": {
          "color": "black",
          "opacity": 0.1,
          "type": "line"
         }
        },
        {
         "data": {
          "values": [
           {
            "x": 12.678139209733562,
            "y": 0
           },
           {
            "x": 12.678139209733562,
            "y": 160.73521382138355
           }
          ]
         },
         "encoding": {
          "x": {
           "field": "x",
           "type": "quantitative"
          },
          "y": {
           "field": "y",
           "type": "quantitative"
          }
         },
         "mark": {
          "color": "black",
          "opacity": 0.1,
          "type": "line"
         }
        },
        {
         "data": {
          "values": [
           {
            "x": 5.863952248392404,
            "y": 0
           },
           {
            "x": 5.863952248392404,
            "y": 34.38593597142633
           }
          ]
         },
         "encoding": {
          "x": {
           "field": "x",
           "type": "quantitative"
          },
          "y": {
           "field": "y",
           "type": "quantitative"
          }
         },
         "mark": {
          "color": "black",
          "opacity": 0.1,
          "type": "line"
         }
        },
        {
         "data": {
          "values": [
           {
            "x": 11.660937967960708,
            "y": 0
           },
           {
            "x": 11.660937967960708,
            "y": 135.9774742926276
           }
          ]
         },
         "encoding": {
          "x": {
           "field": "x",
           "type": "quantitative"
          },
          "y": {
           "field": "y",
           "type": "quantitative"
          }
         },
         "mark": {
          "color": "black",
          "opacity": 0.1,
          "type": "line"
         }
        },
        {
         "data": {
          "values": [
           {
            "x": 3.915483501966642,
            "y": 0
           },
           {
            "x": 3.915483501966642,
            "y": 15.33101105417296
           }
          ]
         },
         "encoding": {
          "x": {
           "field": "x",
           "type": "quantitative"
          },
          "y": {
           "field": "y",
           "type": "quantitative"
          }
         },
         "mark": {
          "color": "black",
          "opacity": 0.1,
          "type": "line"
         }
        },
        {
         "data": {
          "values": [
           {
            "x": -2.784749183818823,
            "y": 0
           },
           {
            "x": -2.784749183818823,
            "y": 7.754828016779601
           }
          ]
         },
         "encoding": {
          "x": {
           "field": "x",
           "type": "quantitative"
          },
          "y": {
           "field": "y",
           "type": "quantitative"
          }
         },
         "mark": {
          "color": "black",
          "opacity": 0.1,
          "type": "line"
         }
        },
        {
         "data": {
          "values": [
           {
            "x": 6.2955702021623265,
            "y": 0
           },
           {
            "x": 6.2955702021623265,
            "y": 39.634204170354195
           }
          ]
         },
         "encoding": {
          "x": {
           "field": "x",
           "type": "quantitative"
          },
          "y": {
           "field": "y",
           "type": "quantitative"
          }
         },
         "mark": {
          "color": "black",
          "opacity": 0.1,
          "type": "line"
         }
        },
        {
         "data": {
          "values": [
           {
            "x": 17.311334146699572,
            "y": 0
           },
           {
            "x": 17.311334146699572,
            "y": 299.6822899386866
           }
          ]
         },
         "encoding": {
          "x": {
           "field": "x",
           "type": "quantitative"
          },
          "y": {
           "field": "y",
           "type": "quantitative"
          }
         },
         "mark": {
          "color": "black",
          "opacity": 0.1,
          "type": "line"
         }
        },
        {
         "data": {
          "values": [
           {
            "x": 9.525359782910002,
            "y": 0
           },
           {
            "x": 9.525359782910002,
            "y": 90.73247899387927
           }
          ]
         },
         "encoding": {
          "x": {
           "field": "x",
           "type": "quantitative"
          },
          "y": {
           "field": "y",
           "type": "quantitative"
          }
         },
         "mark": {
          "color": "black",
          "opacity": 0.1,
          "type": "line"
         }
        },
        {
         "data": {
          "values": [
           {
            "x": 21.120722457225796,
            "y": 0
           },
           {
            "x": 21.120722457225796,
            "y": 446.08491711516206
           }
          ]
         },
         "encoding": {
          "x": {
           "field": "x",
           "type": "quantitative"
          },
          "y": {
           "field": "y",
           "type": "quantitative"
          }
         },
         "mark": {
          "color": "black",
          "opacity": 0.1,
          "type": "line"
         }
        },
        {
         "data": {
          "values": [
           {
            "x": -5.639422719773293,
            "y": 0
           },
           {
            "x": -5.639422719773293,
            "y": 31.803088612295205
           }
          ]
         },
         "encoding": {
          "x": {
           "field": "x",
           "type": "quantitative"
          },
          "y": {
           "field": "y",
           "type": "quantitative"
          }
         },
         "mark": {
          "color": "black",
          "opacity": 0.1,
          "type": "line"
         }
        },
        {
         "data": {
          "values": [
           {
            "x": 11.81884502984888,
            "y": 0
           },
           {
            "x": 11.81884502984888,
            "y": 139.6850978395836
           }
          ]
         },
         "encoding": {
          "x": {
           "field": "x",
           "type": "quantitative"
          },
          "y": {
           "field": "y",
           "type": "quantitative"
          }
         },
         "mark": {
          "color": "black",
          "opacity": 0.1,
          "type": "line"
         }
        },
        {
         "data": {
          "values": [
           {
            "x": 9.870877871074619,
            "y": 0
           },
           {
            "x": 9.870877871074619,
            "y": 97.4342299456706
           }
          ]
         },
         "encoding": {
          "x": {
           "field": "x",
           "type": "quantitative"
          },
          "y": {
           "field": "y",
           "type": "quantitative"
          }
         },
         "mark": {
          "color": "black",
          "opacity": 0.1,
          "type": "line"
         }
        },
        {
         "data": {
          "values": [
           {
            "x": 12.256973593524568,
            "y": 0
           },
           {
            "x": 12.256973593524568,
            "y": 150.23340167235858
           }
          ]
         },
         "encoding": {
          "x": {
           "field": "x",
           "type": "quantitative"
          },
          "y": {
           "field": "y",
           "type": "quantitative"
          }
         },
         "mark": {
          "color": "black",
          "opacity": 0.1,
          "type": "line"
         }
        },
        {
         "data": {
          "values": [
           {
            "x": 5.035076067269294,
            "y": 0
           },
           {
            "x": 5.035076067269294,
            "y": 25.351991003188022
           }
          ]
         },
         "encoding": {
          "x": {
           "field": "x",
           "type": "quantitative"
          },
          "y": {
           "field": "y",
           "type": "quantitative"
          }
         },
         "mark": {
          "color": "black",
          "opacity": 0.1,
          "type": "line"
         }
        },
        {
         "data": {
          "values": [
           {
            "x": 2.299756492473204,
            "y": 0
           },
           {
            "x": 2.299756492473204,
            "y": 5.288879924672654
           }
          ]
         },
         "encoding": {
          "x": {
           "field": "x",
           "type": "quantitative"
          },
          "y": {
           "field": "y",
           "type": "quantitative"
          }
         },
         "mark": {
          "color": "black",
          "opacity": 0.1,
          "type": "line"
         }
        },
        {
         "data": {
          "values": [
           {
            "x": 8.353766949177723,
            "y": 0
           },
           {
            "x": 8.353766949177723,
            "y": 69.78542224117409
           }
          ]
         },
         "encoding": {
          "x": {
           "field": "x",
           "type": "quantitative"
          },
          "y": {
           "field": "y",
           "type": "quantitative"
          }
         },
         "mark": {
          "color": "black",
          "opacity": 0.1,
          "type": "line"
         }
        },
        {
         "data": {
          "values": [
           {
            "x": 6.727970593992055,
            "y": 0
           },
           {
            "x": 6.727970593992055,
            "y": 45.2655883136218
           }
          ]
         },
         "encoding": {
          "x": {
           "field": "x",
           "type": "quantitative"
          },
          "y": {
           "field": "y",
           "type": "quantitative"
          }
         },
         "mark": {
          "color": "black",
          "opacity": 0.1,
          "type": "line"
         }
        },
        {
         "data": {
          "values": [
           {
            "x": 14.838035127944273,
            "y": 0
           },
           {
            "x": 14.838035127944273,
            "y": 220.16728645810824
           }
          ]
         },
         "encoding": {
          "x": {
           "field": "x",
           "type": "quantitative"
          },
          "y": {
           "field": "y",
           "type": "quantitative"
          }
         },
         "mark": {
          "color": "black",
          "opacity": 0.1,
          "type": "line"
         }
        },
        {
         "data": {
          "values": [
           {
            "x": -4.35547425138777,
            "y": 0
           },
           {
            "x": -4.35547425138777,
            "y": 18.97015595450186
           }
          ]
         },
         "encoding": {
          "x": {
           "field": "x",
           "type": "quantitative"
          },
          "y": {
           "field": "y",
           "type": "quantitative"
          }
         },
         "mark": {
          "color": "black",
          "opacity": 0.1,
          "type": "line"
         }
        },
        {
         "data": {
          "values": [
           {
            "x": 15.66769112688218,
            "y": 0
           },
           {
            "x": 15.66769112688218,
            "y": 245.47654524738263
           }
          ]
         },
         "encoding": {
          "x": {
           "field": "x",
           "type": "quantitative"
          },
          "y": {
           "field": "y",
           "type": "quantitative"
          }
         },
         "mark": {
          "color": "black",
          "opacity": 0.1,
          "type": "line"
         }
        },
        {
         "data": {
          "values": [
           {
            "x": 21.579104878193334,
            "y": 0
           },
           {
            "x": 21.579104878193334,
            "y": 465.65776734406734
           }
          ]
         },
         "encoding": {
          "x": {
           "field": "x",
           "type": "quantitative"
          },
          "y": {
           "field": "y",
           "type": "quantitative"
          }
         },
         "mark": {
          "color": "black",
          "opacity": 0.1,
          "type": "line"
         }
        },
        {
         "data": {
          "values": [
           {
            "x": 14.564321453575308,
            "y": 0
           },
           {
            "x": 14.564321453575308,
            "y": 212.119459403074
           }
          ]
         },
         "encoding": {
          "x": {
           "field": "x",
           "type": "quantitative"
          },
          "y": {
           "field": "y",
           "type": "quantitative"
          }
         },
         "mark": {
          "color": "black",
          "opacity": 0.1,
          "type": "line"
         }
        },
        {
         "data": {
          "values": [
           {
            "x": 7.007755691349382,
            "y": 0
           },
           {
            "x": 7.007755691349382,
            "y": 49.10863982963965
           }
          ]
         },
         "encoding": {
          "x": {
           "field": "x",
           "type": "quantitative"
          },
          "y": {
           "field": "y",
           "type": "quantitative"
          }
         },
         "mark": {
          "color": "black",
          "opacity": 0.1,
          "type": "line"
         }
        },
        {
         "data": {
          "values": [
           {
            "x": 2.9705156998976627,
            "y": 0
           },
           {
            "x": 2.9705156998976627,
            "y": 8.8239635233385
           }
          ]
         },
         "encoding": {
          "x": {
           "field": "x",
           "type": "quantitative"
          },
          "y": {
           "field": "y",
           "type": "quantitative"
          }
         },
         "mark": {
          "color": "black",
          "opacity": 0.1,
          "type": "line"
         }
        },
        {
         "data": {
          "values": [
           {
            "x": 8.088182238935545,
            "y": 0
           },
           {
            "x": 8.088182238935545,
            "y": 65.4186919302324
           }
          ]
         },
         "encoding": {
          "x": {
           "field": "x",
           "type": "quantitative"
          },
          "y": {
           "field": "y",
           "type": "quantitative"
          }
         },
         "mark": {
          "color": "black",
          "opacity": 0.1,
          "type": "line"
         }
        },
        {
         "data": {
          "values": [
           {
            "x": 1.7753485607258366,
            "y": 0
           },
           {
            "x": 1.7753485607258366,
            "y": 3.1518625120712995
           }
          ]
         },
         "encoding": {
          "x": {
           "field": "x",
           "type": "quantitative"
          },
          "y": {
           "field": "y",
           "type": "quantitative"
          }
         },
         "mark": {
          "color": "black",
          "opacity": 0.1,
          "type": "line"
         }
        },
        {
         "data": {
          "values": [
           {
            "x": -0.033344802610548285,
            "y": 0
           },
           {
            "x": -0.033344802610548285,
            "y": 0.0011118758611364278
           }
          ]
         },
         "encoding": {
          "x": {
           "field": "x",
           "type": "quantitative"
          },
          "y": {
           "field": "y",
           "type": "quantitative"
          }
         },
         "mark": {
          "color": "black",
          "opacity": 0.1,
          "type": "line"
         }
        },
        {
         "data": {
          "values": [
           {
            "x": 16.563497959311423,
            "y": 0
           },
           {
            "x": 16.563497959311423,
            "y": 274.34946464811367
           }
          ]
         },
         "encoding": {
          "x": {
           "field": "x",
           "type": "quantitative"
          },
          "y": {
           "field": "y",
           "type": "quantitative"
          }
         },
         "mark": {
          "color": "black",
          "opacity": 0.1,
          "type": "line"
         }
        },
        {
         "data": {
          "values": [
           {
            "x": 1.1935310190453716,
            "y": 0
           },
           {
            "x": 1.1935310190453716,
            "y": 1.4245162934234832
           }
          ]
         },
         "encoding": {
          "x": {
           "field": "x",
           "type": "quantitative"
          },
          "y": {
           "field": "y",
           "type": "quantitative"
          }
         },
         "mark": {
          "color": "black",
          "opacity": 0.1,
          "type": "line"
         }
        },
        {
         "data": {
          "values": [
           {
            "x": -5.737942391820194,
            "y": 0
           },
           {
            "x": -5.737942391820194,
            "y": 32.92398289184725
           }
          ]
         },
         "encoding": {
          "x": {
           "field": "x",
           "type": "quantitative"
          },
          "y": {
           "field": "y",
           "type": "quantitative"
          }
         },
         "mark": {
          "color": "black",
          "opacity": 0.1,
          "type": "line"
         }
        },
        {
         "data": {
          "values": [
           {
            "x": 9.880460060953805,
            "y": 0
           },
           {
            "x": 9.880460060953805,
            "y": 97.62349101610327
           }
          ]
         },
         "encoding": {
          "x": {
           "field": "x",
           "type": "quantitative"
          },
          "y": {
           "field": "y",
           "type": "quantitative"
          }
         },
         "mark": {
          "color": "black",
          "opacity": 0.1,
          "type": "line"
         }
        },
        {
         "data": {
          "values": [
           {
            "x": 2.6757029360729168,
            "y": 0
           },
           {
            "x": 2.6757029360729168,
            "y": 7.159386202109228
           }
          ]
         },
         "encoding": {
          "x": {
           "field": "x",
           "type": "quantitative"
          },
          "y": {
           "field": "y",
           "type": "quantitative"
          }
         },
         "mark": {
          "color": "black",
          "opacity": 0.1,
          "type": "line"
         }
        },
        {
         "data": {
          "values": [
           {
            "x": 13.595631429923689,
            "y": 0
           },
           {
            "x": 13.595631429923689,
            "y": 184.84119397832885
           }
          ]
         },
         "encoding": {
          "x": {
           "field": "x",
           "type": "quantitative"
          },
          "y": {
           "field": "y",
           "type": "quantitative"
          }
         },
         "mark": {
          "color": "black",
          "opacity": 0.1,
          "type": "line"
         }
        },
        {
         "data": {
          "values": [
           {
            "x": 7.997455221327863,
            "y": 0
           },
           {
            "x": 7.997455221327863,
            "y": 63.9592900171443
           }
          ]
         },
         "encoding": {
          "x": {
           "field": "x",
           "type": "quantitative"
          },
          "y": {
           "field": "y",
           "type": "quantitative"
          }
         },
         "mark": {
          "color": "black",
          "opacity": 0.1,
          "type": "line"
         }
        },
        {
         "data": {
          "values": [
           {
            "x": 6.12361180676201,
            "y": 0
           },
           {
            "x": 6.12361180676201,
            "y": 37.49862155991508
           }
          ]
         },
         "encoding": {
          "x": {
           "field": "x",
           "type": "quantitative"
          },
          "y": {
           "field": "y",
           "type": "quantitative"
          }
         },
         "mark": {
          "color": "black",
          "opacity": 0.1,
          "type": "line"
         }
        },
        {
         "data": {
          "values": [
           {
            "x": -4.354939308922905,
            "y": 0
           },
           {
            "x": -4.354939308922905,
            "y": 18.96549638440191
           }
          ]
         },
         "encoding": {
          "x": {
           "field": "x",
           "type": "quantitative"
          },
          "y": {
           "field": "y",
           "type": "quantitative"
          }
         },
         "mark": {
          "color": "black",
          "opacity": 0.1,
          "type": "line"
         }
        },
        {
         "data": {
          "values": [
           {
            "x": 9.447446021443058,
            "y": 0
           },
           {
            "x": 9.447446021443058,
            "y": 89.25423632808027
           }
          ]
         },
         "encoding": {
          "x": {
           "field": "x",
           "type": "quantitative"
          },
          "y": {
           "field": "y",
           "type": "quantitative"
          }
         },
         "mark": {
          "color": "black",
          "opacity": 0.1,
          "type": "line"
         }
        },
        {
         "data": {
          "values": [
           {
            "x": 5.887753475446514,
            "y": 0
           },
           {
            "x": 5.887753475446514,
            "y": 34.66564098763251
           }
          ]
         },
         "encoding": {
          "x": {
           "field": "x",
           "type": "quantitative"
          },
          "y": {
           "field": "y",
           "type": "quantitative"
          }
         },
         "mark": {
          "color": "black",
          "opacity": 0.1,
          "type": "line"
         }
        },
        {
         "data": {
          "values": [
           {
            "x": 1.4884286407519403,
            "y": 0
           },
           {
            "x": 1.4884286407519403,
            "y": 2.2154198186106684
           }
          ]
         },
         "encoding": {
          "x": {
           "field": "x",
           "type": "quantitative"
          },
          "y": {
           "field": "y",
           "type": "quantitative"
          }
         },
         "mark": {
          "color": "black",
          "opacity": 0.1,
          "type": "line"
         }
        },
        {
         "data": {
          "values": [
           {
            "x": 3.2962824216002438,
            "y": 0
           },
           {
            "x": 3.2962824216002438,
            "y": 10.865477802950767
           }
          ]
         },
         "encoding": {
          "x": {
           "field": "x",
           "type": "quantitative"
          },
          "y": {
           "field": "y",
           "type": "quantitative"
          }
         },
         "mark": {
          "color": "black",
          "opacity": 0.1,
          "type": "line"
         }
        },
        {
         "data": {
          "values": [
           {
            "x": -13.96237926254937,
            "y": 0
           },
           {
            "x": -13.96237926254937,
            "y": 194.94803467126866
           }
          ]
         },
         "encoding": {
          "x": {
           "field": "x",
           "type": "quantitative"
          },
          "y": {
           "field": "y",
           "type": "quantitative"
          }
         },
         "mark": {
          "color": "black",
          "opacity": 0.1,
          "type": "line"
         }
        },
        {
         "data": {
          "values": [
           {
            "x": 5.11843149841739,
            "y": 0
           },
           {
            "x": 5.11843149841739,
            "y": 26.198341003991292
           }
          ]
         },
         "encoding": {
          "x": {
           "field": "x",
           "type": "quantitative"
          },
          "y": {
           "field": "y",
           "type": "quantitative"
          }
         },
         "mark": {
          "color": "black",
          "opacity": 0.1,
          "type": "line"
         }
        },
        {
         "data": {
          "values": [
           {
            "x": 9.684119830886111,
            "y": 0
           },
           {
            "x": 9.684119830886111,
            "y": 93.78217689896164
           }
          ]
         },
         "encoding": {
          "x": {
           "field": "x",
           "type": "quantitative"
          },
          "y": {
           "field": "y",
           "type": "quantitative"
          }
         },
         "mark": {
          "color": "black",
          "opacity": 0.1,
          "type": "line"
         }
        },
        {
         "data": {
          "values": [
           {
            "x": 9.145080058916285,
            "y": 0
           },
           {
            "x": 9.145080058916285,
            "y": 83.63248928398829
           }
          ]
         },
         "encoding": {
          "x": {
           "field": "x",
           "type": "quantitative"
          },
          "y": {
           "field": "y",
           "type": "quantitative"
          }
         },
         "mark": {
          "color": "black",
          "opacity": 0.1,
          "type": "line"
         }
        },
        {
         "data": {
          "values": [
           {
            "x": 11.200743130448444,
            "y": 0
           },
           {
            "x": 11.200743130448444,
            "y": 125.45664667428801
           }
          ]
         },
         "encoding": {
          "x": {
           "field": "x",
           "type": "quantitative"
          },
          "y": {
           "field": "y",
           "type": "quantitative"
          }
         },
         "mark": {
          "color": "black",
          "opacity": 0.1,
          "type": "line"
         }
        },
        {
         "data": {
          "values": [
           {
            "x": 11.324072622577754,
            "y": 0
           },
           {
            "x": 11.324072622577754,
            "y": 128.23462076141502
           }
          ]
         },
         "encoding": {
          "x": {
           "field": "x",
           "type": "quantitative"
          },
          "y": {
           "field": "y",
           "type": "quantitative"
          }
         },
         "mark": {
          "color": "black",
          "opacity": 0.1,
          "type": "line"
         }
        },
        {
         "data": {
          "values": [
           {
            "x": 3.3355765370744663,
            "y": 0
           },
           {
            "x": 3.3355765370744663,
            "y": 11.12607083468169
           }
          ]
         },
         "encoding": {
          "x": {
           "field": "x",
           "type": "quantitative"
          },
          "y": {
           "field": "y",
           "type": "quantitative"
          }
         },
         "mark": {
          "color": "black",
          "opacity": 0.1,
          "type": "line"
         }
        },
        {
         "layer": [
          {
           "data": {
            "values": [
             {
              "x": 10.067676953162362,
              "y": 0
             },
             {
              "x": 21.559491794932438,
              "y": 0
             },
             {
              "x": 6.781341989740184,
              "y": 0
             },
             {
              "x": 2.3949834398582786,
              "y": 0
             },
             {
              "x": 5.35543670133573,
              "y": 0
             },
             {
              "x": 0.6463195681906626,
              "y": 0
             },
             {
              "x": 5.817203329463901,
              "y": 0
             },
             {
              "x": 9.885158691689753,
              "y": 0
             },
             {
              "x": 10.297765577053672,
              "y": 0
             },
             {
              "x": 10.522666156501302,
              "y": 0
             },
             {
              "x": -4.645952009483576,
              "y": 0
             },
             {
              "x": 10.662363959401645,
              "y": 0
             },
             {
              "x": 0.8263194185821545,
              "y": 0
             },
             {
              "x": 16.308378182446983,
              "y": 0
             },
             {
              "x": 6.114573234210823,
              "y": 0
             },
             {
              "x": 0.8368116826887046,
              "y": 0
             },
             {
              "x": -2.3337959848039134,
              "y": 0
             },
             {
              "x": 21.876780868256922,
              "y": 0
             },
             {
              "x": -4.463309963417018,
              "y": 0
             },
             {
              "x": 1.562696104656359,
              "y": 0
             },
             {
              "x": 8.511427514838788,
              "y": 0
             },
             {
              "x": 7.910496592640839,
              "y": 0
             },
             {
              "x": -2.9027386563773696,
              "y": 0
             },
             {
              "x": 5.301566228841112,
              "y": 0
             },
             {
              "x": -2.0503030382948957,
              "y": 0
             },
             {
              "x": 2.508435593413277,
              "y": 0
             },
             {
              "x": 5.852058832593336,
              "y": 0
             },
             {
              "x": 14.811343329949851,
              "y": 0
             },
             {
              "x": -16.90574130258447,
              "y": 0
             },
             {
              "x": -4.08496541723663,
              "y": 0
             },
             {
              "x": 1.9086175116657262,
              "y": 0
             },
             {
              "x": 6.132456278972009,
              "y": 0
             },
             {
              "x": 10.165782122227089,
              "y": 0
             },
             {
              "x": 8.387599393125875,
              "y": 0
             },
             {
              "x": 15.649061832578564,
              "y": 0
             },
             {
              "x": -2.812594417382563,
              "y": 0
             },
             {
              "x": 9.801847806839927,
              "y": 0
             },
             {
              "x": 4.514444386074738,
              "y": 0
             },
             {
              "x": 6.89781984800963,
              "y": 0
             },
             {
              "x": 14.03039593566514,
              "y": 0
             },
             {
              "x": -10.239473179981964,
              "y": 0
             },
             {
              "x": 11.777645520983262,
              "y": 0
             },
             {
              "x": -7.971154082224116,
              "y": 0
             },
             {
              "x": 3.940766018168145,
              "y": 0
             },
             {
              "x": 10.891026669366635,
              "y": 0
             },
             {
              "x": 1.3029606609531275,
              "y": 0
             },
             {
              "x": 7.561229379559038,
              "y": 0
             },
             {
              "x": 6.284742041322816,
              "y": 0
             },
             {
              "x": 4.207670986729433,
              "y": 0
             },
             {
              "x": 2.1464830007779065,
              "y": 0
             },
             {
              "x": 8.455264329783958,
              "y": 0
             },
             {
              "x": 3.383029570859533,
              "y": 0
             },
             {
              "x": -0.802185794340943,
              "y": 0
             },
             {
              "x": 12.678139209733562,
              "y": 0
             },
             {
              "x": 5.863952248392404,
              "y": 0
             },
             {
              "x": 11.660937967960708,
              "y": 0
             },
             {
              "x": 3.915483501966642,
              "y": 0
             },
             {
              "x": -2.784749183818823,
              "y": 0
             },
             {
              "x": 6.2955702021623265,
              "y": 0
             },
             {
              "x": 17.311334146699572,
              "y": 0
             },
             {
              "x": 9.525359782910002,
              "y": 0
             },
             {
              "x": 21.120722457225796,
              "y": 0
             },
             {
              "x": -5.639422719773293,
              "y": 0
             },
             {
              "x": 11.81884502984888,
              "y": 0
             },
             {
              "x": 9.870877871074619,
              "y": 0
             },
             {
              "x": 12.256973593524568,
              "y": 0
             },
             {
              "x": 5.035076067269294,
              "y": 0
             },
             {
              "x": 2.299756492473204,
              "y": 0
             },
             {
              "x": 8.353766949177723,
              "y": 0
             },
             {
              "x": 6.727970593992055,
              "y": 0
             },
             {
              "x": 14.838035127944273,
              "y": 0
             },
             {
              "x": -4.35547425138777,
              "y": 0
             },
             {
              "x": 15.66769112688218,
              "y": 0
             },
             {
              "x": 21.579104878193334,
              "y": 0
             },
             {
              "x": 14.564321453575308,
              "y": 0
             },
             {
              "x": 7.007755691349382,
              "y": 0
             },
             {
              "x": 2.9705156998976627,
              "y": 0
             },
             {
              "x": 8.088182238935545,
              "y": 0
             },
             {
              "x": 1.7753485607258366,
              "y": 0
             },
             {
              "x": -0.033344802610548285,
              "y": 0
             },
             {
              "x": 16.563497959311423,
              "y": 0
             },
             {
              "x": 1.1935310190453716,
              "y": 0
             },
             {
              "x": -5.737942391820194,
              "y": 0
             },
             {
              "x": 9.880460060953805,
              "y": 0
             },
             {
              "x": 2.6757029360729168,
              "y": 0
             },
             {
              "x": 13.595631429923689,
              "y": 0
             },
             {
              "x": 7.997455221327863,
              "y": 0
             },
             {
              "x": 6.12361180676201,
              "y": 0
             },
             {
              "x": -4.354939308922905,
              "y": 0
             },
             {
              "x": 9.447446021443058,
              "y": 0
             },
             {
              "x": 5.887753475446514,
              "y": 0
             },
             {
              "x": 1.4884286407519403,
              "y": 0
             },
             {
              "x": 3.2962824216002438,
              "y": 0
             },
             {
              "x": -13.96237926254937,
              "y": 0
             },
             {
              "x": 5.11843149841739,
              "y": 0
             },
             {
              "x": 9.684119830886111,
              "y": 0
             },
             {
              "x": 9.145080058916285,
              "y": 0
             },
             {
              "x": 11.200743130448444,
              "y": 0
             },
             {
              "x": 11.324072622577754,
              "y": 0
             },
             {
              "x": 3.3355765370744663,
              "y": 0
             }
            ]
           },
           "encoding": {
            "x": {
             "field": "x",
             "type": "quantitative"
            },
            "y": {
             "field": "y",
             "type": "quantitative"
            }
           },
           "mark": {
            "clip": true,
            "color": "darkblue",
            "opacity": 0.2,
            "size": 10,
            "type": "point"
           }
          },
          {
           "data": {
            "values": [
             {
              "x": 10.067676953162362,
              "y": 101.35811923323658
             },
             {
              "x": 21.559491794932438,
              "y": 464.8116864557591
             },
             {
              "x": 6.781341989740184,
              "y": 45.98659918181336
             },
             {
              "x": 2.3949834398582786,
              "y": 5.735945677195392
             },
             {
              "x": 5.35543670133573,
              "y": 28.680702262013725
             },
             {
              "x": 0.6463195681906626,
              "y": 0.41772898422616456
             },
             {
              "x": 5.817203329463901,
              "y": 33.83985457632589
             },
             {
              "x": 9.885158691689753,
              "y": 97.71636235988947
             },
             {
              "x": 10.297765577053672,
              "y": 106.04397587995156
             },
             {
              "x": 10.522666156501302,
              "y": 110.72650304117788
             },
             {
              "x": -4.645952009483576,
              "y": 21.58487007442448
             },
             {
              "x": 10.662363959401645,
              "y": 113.68600520274713
             },
             {
              "x": 0.8263194185821545,
              "y": 0.6828037815259499
             },
             {
              "x": 16.308378182446983,
              "y": 265.9631989417128
             },
             {
              "x": 6.114573234210823,
              "y": 37.388005836527405
             },
             {
              "x": 0.8368116826887046,
              "y": 0.7002537922843013
             },
             {
              "x": -2.3337959848039134,
              "y": 5.446603698686868
             },
             {
              "x": 21.876780868256922,
              "y": 478.5935411577321
             },
             {
              "x": -4.463309963417018,
              "y": 19.921135829537622
             },
             {
              "x": 1.562696104656359,
              "y": 2.4420191155081583
             },
             {
              "x": 8.511427514838788,
              "y": 72.44439834035478
             },
             {
              "x": 7.910496592640839,
              "y": 62.57595634218232
             },
             {
              "x": -2.9027386563773696,
              "y": 8.425891707227498
             },
             {
              "x": 5.301566228841112,
              "y": 28.106604478788565
             },
             {
              "x": -2.0503030382948957,
              "y": 4.20374254884128
             },
             {
              "x": 2.508435593413277,
              "y": 6.29224912630262
             },
             {
              "x": 5.852058832593336,
              "y": 34.24659258013368
             },
             {
              "x": 14.811343329949851,
              "y": 219.37589123764994
             },
             {
              "x": -16.90574130258447,
              "y": 285.80408898991044
             },
             {
              "x": -4.08496541723663,
              "y": 16.68694246001923
             },
             {
              "x": 1.9086175116657262,
              "y": 3.6428208058370686
             },
             {
              "x": 6.132456278972009,
              "y": 37.607020013503224
             },
             {
              "x": 10.165782122227089,
              "y": 103.3431261565919
             },
             {
              "x": 8.387599393125875,
              "y": 70.35182357956555
             },
             {
              "x": 15.649061832578564,
              "y": 244.89313623986718
             },
             {
              "x": -2.812594417382563,
              "y": 7.910687356691559
             },
             {
              "x": 9.801847806839927,
              "y": 96.07622042845269
             },
             {
              "x": 4.514444386074738,
              "y": 20.380208114961714
             },
             {
              "x": 6.89781984800963,
              "y": 47.57991865559559
             },
             {
              "x": 14.03039593566514,
              "y": 196.8520101115289
             },
             {
              "x": -10.239473179981964,
              "y": 104.84681100356995
             },
             {
              "x": 11.777645520983262,
              "y": 138.71293401793707
             },
             {
              "x": -7.971154082224116,
              "y": 63.539297402558184
             },
             {
              "x": 3.940766018168145,
              "y": 15.529636809948817
             },
             {
              "x": 10.891026669366635,
              "y": 118.6144619128553
             },
             {
              "x": 1.3029606609531275,
              "y": 1.6977064839914107
             },
             {
              "x": 7.561229379559038,
              "y": 57.17218973030676
             },
             {
              "x": 6.284742041322816,
              "y": 39.49798252597048
             },
             {
              "x": 4.207670986729433,
              "y": 17.704495132564638
             },
             {
              "x": 2.1464830007779065,
              "y": 4.607389272628526
             },
             {
              "x": 8.455264329783958,
              "y": 71.49149488651696
             },
             {
              "x": 3.383029570859533,
              "y": 11.444889077310036
             },
             {
              "x": -0.802185794340943,
              "y": 0.6435020486424096
             },
             {
              "x": 12.678139209733562,
              "y": 160.73521382138355
             },
             {
              "x": 5.863952248392404,
              "y": 34.38593597142633
             },
             {
              "x": 11.660937967960708,
              "y": 135.9774742926276
             },
             {
              "x": 3.915483501966642,
              "y": 15.33101105417296
             },
             {
              "x": -2.784749183818823,
              "y": 7.754828016779601
             },
             {
              "x": 6.2955702021623265,
              "y": 39.634204170354195
             },
             {
              "x": 17.311334146699572,
              "y": 299.6822899386866
             },
             {
              "x": 9.525359782910002,
              "y": 90.73247899387927
             },
             {
              "x": 21.120722457225796,
              "y": 446.08491711516206
             },
             {
              "x": -5.639422719773293,
              "y": 31.803088612295205
             },
             {
              "x": 11.81884502984888,
              "y": 139.6850978395836
             },
             {
              "x": 9.870877871074619,
              "y": 97.4342299456706
             },
             {
              "x": 12.256973593524568,
              "y": 150.23340167235858
             },
             {
              "x": 5.035076067269294,
              "y": 25.351991003188022
             },
             {
              "x": 2.299756492473204,
              "y": 5.288879924672654
             },
             {
              "x": 8.353766949177723,
              "y": 69.78542224117409
             },
             {
              "x": 6.727970593992055,
              "y": 45.2655883136218
             },
             {
              "x": 14.838035127944273,
              "y": 220.16728645810824
             },
             {
              "x": -4.35547425138777,
              "y": 18.97015595450186
             },
             {
              "x": 15.66769112688218,
              "y": 245.47654524738263
             },
             {
              "x": 21.579104878193334,
              "y": 465.65776734406734
             },
             {
              "x": 14.564321453575308,
              "y": 212.119459403074
             },
             {
              "x": 7.007755691349382,
              "y": 49.10863982963965
             },
             {
              "x": 2.9705156998976627,
              "y": 8.8239635233385
             },
             {
              "x": 8.088182238935545,
              "y": 65.4186919302324
             },
             {
              "x": 1.7753485607258366,
              "y": 3.1518625120712995
             },
             {
              "x": -0.033344802610548285,
              "y": 0.0011118758611364278
             },
             {
              "x": 16.563497959311423,
              "y": 274.34946464811367
             },
             {
              "x": 1.1935310190453716,
              "y": 1.4245162934234832
             },
             {
              "x": -5.737942391820194,
              "y": 32.92398289184725
             },
             {
              "x": 9.880460060953805,
              "y": 97.62349101610327
             },
             {
              "x": 2.6757029360729168,
              "y": 7.159386202109228
             },
             {
              "x": 13.595631429923689,
              "y": 184.84119397832885
             },
             {
              "x": 7.997455221327863,
              "y": 63.9592900171443
             },
             {
              "x": 6.12361180676201,
              "y": 37.49862155991508
             },
             {
              "x": -4.354939308922905,
              "y": 18.96549638440191
             },
             {
              "x": 9.447446021443058,
              "y": 89.25423632808027
             },
             {
              "x": 5.887753475446514,
              "y": 34.66564098763251
             },
             {
              "x": 1.4884286407519403,
              "y": 2.2154198186106684
             },
             {
              "x": 3.2962824216002438,
              "y": 10.865477802950767
             },
             {
              "x": -13.96237926254937,
              "y": 194.94803467126866
             },
             {
              "x": 5.11843149841739,
              "y": 26.198341003991292
             },
             {
              "x": 9.684119830886111,
              "y": 93.78217689896164
             },
             {
              "x": 9.145080058916285,
              "y": 83.63248928398829
             },
             {
              "x": 11.200743130448444,
              "y": 125.45664667428801
             },
             {
              "x": 11.324072622577754,
              "y": 128.23462076141502
             },
             {
              "x": 3.3355765370744663,
              "y": 11.12607083468169
             }
            ]
           },
           "encoding": {
            "x": {
             "field": "x",
             "type": "quantitative"
            },
            "y": {
             "field": "y",
             "type": "quantitative"
            }
           },
           "mark": {
            "clip": true,
            "color": "firebrick",
            "opacity": 0.2,
            "size": 10,
            "type": "point"
           }
          }
         ]
        }
       ]
      },
      "image/png": "[encoded data removed]",
      "text/plain": [
       "<VegaLite 2 object>\n",
       "\n",
       "If you see this message, it means the renderer has not been properly enabled\n",
       "for the frontend that you are using. For more information, see\n",
       "https://altair-viz.github.io/user_guide/troubleshooting.html\n"
      ]
     },
     "execution_count": 8,
     "metadata": {},
     "output_type": "execute_result"
    }
   ],
   "source": [
    "x2_points = make_scatter_chart(size=10, opacity=.2, X=s, Y=[i ** 2 for i in s], color=\"firebrick\")\n",
    "\n",
    "guide_lines = make_guide_lines(s)\n",
    "\n",
    "functools.reduce(lambda a,b : a+b,guide_lines + [x_points  + x2_points])"
   ]
  },
  {
   "cell_type": "markdown",
   "metadata": {},
   "source": [
    "### Find the expectation of the squares\n",
    "\n",
    "Because each $x_i$ has equal probability, if we average the y-coordinates of the black dots, we get the expected value of $x_i^2$, which is $\\mathbb{E}[X^2] = \\frac{\\Sigma_i^N[x_i]}{N}$. We show $\\mathbb{E}[X^2]$ as a big red dot on the chart."
   ]
  },
  {
   "cell_type": "code",
   "execution_count": 9,
   "metadata": {},
   "outputs": [
    {
     "data": {
      "application/vnd.vegalite.v2+json": {
       "$schema": "https://vega.github.io/schema/vega-lite/v2.6.0.json",
       "config": {
        "view": {
         "height": 300,
         "width": 400
        }
       },
       "layer": [
        {
         "data": {
          "values": [
           {
            "label": "E[X^2]",
            "x": 5.869532188339754,
            "y": 87.57214169723652
           }
          ]
         },
         "encoding": {
          "x": {
           "field": "x",
           "type": "quantitative"
          },
          "y": {
           "field": "y",
           "type": "quantitative"
          }
         },
         "mark": {
          "clip": true,
          "color": "firebrick",
          "filled": true,
          "opacity": 0.9,
          "size": 200,
          "type": "point"
         }
        },
        {
         "data": {
          "values": [
           {
            "label": "E[X^2]",
            "x": 5.869532188339754,
            "y": 87.57214169723652
           }
          ]
         },
         "encoding": {
          "text": {
           "field": "label",
           "type": "nominal"
          },
          "x": {
           "field": "x",
           "type": "quantitative"
          },
          "y": {
           "field": "y",
           "type": "quantitative"
          }
         },
         "mark": {
          "align": "left",
          "baseline": "bottom",
          "dx": 16,
          "type": "text",
          "xOffset": -20,
          "yOffset": -4
         }
        },
        {
         "data": {
          "values": [
           {
            "x": 10.067676953162362,
            "y": 101.35811923323658
           },
           {
            "x": 21.559491794932438,
            "y": 464.8116864557591
           },
           {
            "x": 6.781341989740184,
            "y": 45.98659918181336
           },
           {
            "x": 2.3949834398582786,
            "y": 5.735945677195392
           },
           {
            "x": 5.35543670133573,
            "y": 28.680702262013725
           },
           {
            "x": 0.6463195681906626,
            "y": 0.41772898422616456
           },
           {
            "x": 5.817203329463901,
            "y": 33.83985457632589
           },
           {
            "x": 9.885158691689753,
            "y": 97.71636235988947
           },
           {
            "x": 10.297765577053672,
            "y": 106.04397587995156
           },
           {
            "x": 10.522666156501302,
            "y": 110.72650304117788
           },
           {
            "x": -4.645952009483576,
            "y": 21.58487007442448
           },
           {
            "x": 10.662363959401645,
            "y": 113.68600520274713
           },
           {
            "x": 0.8263194185821545,
            "y": 0.6828037815259499
           },
           {
            "x": 16.308378182446983,
            "y": 265.9631989417128
           },
           {
            "x": 6.114573234210823,
            "y": 37.388005836527405
           },
           {
            "x": 0.8368116826887046,
            "y": 0.7002537922843013
           },
           {
            "x": -2.3337959848039134,
            "y": 5.446603698686868
           },
           {
            "x": 21.876780868256922,
            "y": 478.5935411577321
           },
           {
            "x": -4.463309963417018,
            "y": 19.921135829537622
           },
           {
            "x": 1.562696104656359,
            "y": 2.4420191155081583
           },
           {
            "x": 8.511427514838788,
            "y": 72.44439834035478
           },
           {
            "x": 7.910496592640839,
            "y": 62.57595634218232
           },
           {
            "x": -2.9027386563773696,
            "y": 8.425891707227498
           },
           {
            "x": 5.301566228841112,
            "y": 28.106604478788565
           },
           {
            "x": -2.0503030382948957,
            "y": 4.20374254884128
           },
           {
            "x": 2.508435593413277,
            "y": 6.29224912630262
           },
           {
            "x": 5.852058832593336,
            "y": 34.24659258013368
           },
           {
            "x": 14.811343329949851,
            "y": 219.37589123764994
           },
           {
            "x": -16.90574130258447,
            "y": 285.80408898991044
           },
           {
            "x": -4.08496541723663,
            "y": 16.68694246001923
           },
           {
            "x": 1.9086175116657262,
            "y": 3.6428208058370686
           },
           {
            "x": 6.132456278972009,
            "y": 37.607020013503224
           },
           {
            "x": 10.165782122227089,
            "y": 103.3431261565919
           },
           {
            "x": 8.387599393125875,
            "y": 70.35182357956555
           },
           {
            "x": 15.649061832578564,
            "y": 244.89313623986718
           },
           {
            "x": -2.812594417382563,
            "y": 7.910687356691559
           },
           {
            "x": 9.801847806839927,
            "y": 96.07622042845269
           },
           {
            "x": 4.514444386074738,
            "y": 20.380208114961714
           },
           {
            "x": 6.89781984800963,
            "y": 47.57991865559559
           },
           {
            "x": 14.03039593566514,
            "y": 196.8520101115289
           },
           {
            "x": -10.239473179981964,
            "y": 104.84681100356995
           },
           {
            "x": 11.777645520983262,
            "y": 138.71293401793707
           },
           {
            "x": -7.971154082224116,
            "y": 63.539297402558184
           },
           {
            "x": 3.940766018168145,
            "y": 15.529636809948817
           },
           {
            "x": 10.891026669366635,
            "y": 118.6144619128553
           },
           {
            "x": 1.3029606609531275,
            "y": 1.6977064839914107
           },
           {
            "x": 7.561229379559038,
            "y": 57.17218973030676
           },
           {
            "x": 6.284742041322816,
            "y": 39.49798252597048
           },
           {
            "x": 4.207670986729433,
            "y": 17.704495132564638
           },
           {
            "x": 2.1464830007779065,
            "y": 4.607389272628526
           },
           {
            "x": 8.455264329783958,
            "y": 71.49149488651696
           },
           {
            "x": 3.383029570859533,
            "y": 11.444889077310036
           },
           {
            "x": -0.802185794340943,
            "y": 0.6435020486424096
           },
           {
            "x": 12.678139209733562,
            "y": 160.73521382138355
           },
           {
            "x": 5.863952248392404,
            "y": 34.38593597142633
           },
           {
            "x": 11.660937967960708,
            "y": 135.9774742926276
           },
           {
            "x": 3.915483501966642,
            "y": 15.33101105417296
           },
           {
            "x": -2.784749183818823,
            "y": 7.754828016779601
           },
           {
            "x": 6.2955702021623265,
            "y": 39.634204170354195
           },
           {
            "x": 17.311334146699572,
            "y": 299.6822899386866
           },
           {
            "x": 9.525359782910002,
            "y": 90.73247899387927
           },
           {
            "x": 21.120722457225796,
            "y": 446.08491711516206
           },
           {
            "x": -5.639422719773293,
            "y": 31.803088612295205
           },
           {
            "x": 11.81884502984888,
            "y": 139.6850978395836
           },
           {
            "x": 9.870877871074619,
            "y": 97.4342299456706
           },
           {
            "x": 12.256973593524568,
            "y": 150.23340167235858
           },
           {
            "x": 5.035076067269294,
            "y": 25.351991003188022
           },
           {
            "x": 2.299756492473204,
            "y": 5.288879924672654
           },
           {
            "x": 8.353766949177723,
            "y": 69.78542224117409
           },
           {
            "x": 6.727970593992055,
            "y": 45.2655883136218
           },
           {
            "x": 14.838035127944273,
            "y": 220.16728645810824
           },
           {
            "x": -4.35547425138777,
            "y": 18.97015595450186
           },
           {
            "x": 15.66769112688218,
            "y": 245.47654524738263
           },
           {
            "x": 21.579104878193334,
            "y": 465.65776734406734
           },
           {
            "x": 14.564321453575308,
            "y": 212.119459403074
           },
           {
            "x": 7.007755691349382,
            "y": 49.10863982963965
           },
           {
            "x": 2.9705156998976627,
            "y": 8.8239635233385
           },
           {
            "x": 8.088182238935545,
            "y": 65.4186919302324
           },
           {
            "x": 1.7753485607258366,
            "y": 3.1518625120712995
           },
           {
            "x": -0.033344802610548285,
            "y": 0.0011118758611364278
           },
           {
            "x": 16.563497959311423,
            "y": 274.34946464811367
           },
           {
            "x": 1.1935310190453716,
            "y": 1.4245162934234832
           },
           {
            "x": -5.737942391820194,
            "y": 32.92398289184725
           },
           {
            "x": 9.880460060953805,
            "y": 97.62349101610327
           },
           {
            "x": 2.6757029360729168,
            "y": 7.159386202109228
           },
           {
            "x": 13.595631429923689,
            "y": 184.84119397832885
           },
           {
            "x": 7.997455221327863,
            "y": 63.9592900171443
           },
           {
            "x": 6.12361180676201,
            "y": 37.49862155991508
           },
           {
            "x": -4.354939308922905,
            "y": 18.96549638440191
           },
           {
            "x": 9.447446021443058,
            "y": 89.25423632808027
           },
           {
            "x": 5.887753475446514,
            "y": 34.66564098763251
           },
           {
            "x": 1.4884286407519403,
            "y": 2.2154198186106684
           },
           {
            "x": 3.2962824216002438,
            "y": 10.865477802950767
           },
           {
            "x": -13.96237926254937,
            "y": 194.94803467126866
           },
           {
            "x": 5.11843149841739,
            "y": 26.198341003991292
           },
           {
            "x": 9.684119830886111,
            "y": 93.78217689896164
           },
           {
            "x": 9.145080058916285,
            "y": 83.63248928398829
           },
           {
            "x": 11.200743130448444,
            "y": 125.45664667428801
           },
           {
            "x": 11.324072622577754,
            "y": 128.23462076141502
           },
           {
            "x": 3.3355765370744663,
            "y": 11.12607083468169
           }
          ]
         },
         "encoding": {
          "x": {
           "field": "x",
           "type": "quantitative"
          },
          "y": {
           "field": "y",
           "type": "quantitative"
          }
         },
         "mark": {
          "clip": true,
          "color": "firebrick",
          "opacity": 0.2,
          "size": 10,
          "type": "point"
         }
        },
        {
         "data": {
          "values": [
           {
            "x": 10.067676953162362,
            "y": 0
           },
           {
            "x": 21.559491794932438,
            "y": 0
           },
           {
            "x": 6.781341989740184,
            "y": 0
           },
           {
            "x": 2.3949834398582786,
            "y": 0
           },
           {
            "x": 5.35543670133573,
            "y": 0
           },
           {
            "x": 0.6463195681906626,
            "y": 0
           },
           {
            "x": 5.817203329463901,
            "y": 0
           },
           {
            "x": 9.885158691689753,
            "y": 0
           },
           {
            "x": 10.297765577053672,
            "y": 0
           },
           {
            "x": 10.522666156501302,
            "y": 0
           },
           {
            "x": -4.645952009483576,
            "y": 0
           },
           {
            "x": 10.662363959401645,
            "y": 0
           },
           {
            "x": 0.8263194185821545,
            "y": 0
           },
           {
            "x": 16.308378182446983,
            "y": 0
           },
           {
            "x": 6.114573234210823,
            "y": 0
           },
           {
            "x": 0.8368116826887046,
            "y": 0
           },
           {
            "x": -2.3337959848039134,
            "y": 0
           },
           {
            "x": 21.876780868256922,
            "y": 0
           },
           {
            "x": -4.463309963417018,
            "y": 0
           },
           {
            "x": 1.562696104656359,
            "y": 0
           },
           {
            "x": 8.511427514838788,
            "y": 0
           },
           {
            "x": 7.910496592640839,
            "y": 0
           },
           {
            "x": -2.9027386563773696,
            "y": 0
           },
           {
            "x": 5.301566228841112,
            "y": 0
           },
           {
            "x": -2.0503030382948957,
            "y": 0
           },
           {
            "x": 2.508435593413277,
            "y": 0
           },
           {
            "x": 5.852058832593336,
            "y": 0
           },
           {
            "x": 14.811343329949851,
            "y": 0
           },
           {
            "x": -16.90574130258447,
            "y": 0
           },
           {
            "x": -4.08496541723663,
            "y": 0
           },
           {
            "x": 1.9086175116657262,
            "y": 0
           },
           {
            "x": 6.132456278972009,
            "y": 0
           },
           {
            "x": 10.165782122227089,
            "y": 0
           },
           {
            "x": 8.387599393125875,
            "y": 0
           },
           {
            "x": 15.649061832578564,
            "y": 0
           },
           {
            "x": -2.812594417382563,
            "y": 0
           },
           {
            "x": 9.801847806839927,
            "y": 0
           },
           {
            "x": 4.514444386074738,
            "y": 0
           },
           {
            "x": 6.89781984800963,
            "y": 0
           },
           {
            "x": 14.03039593566514,
            "y": 0
           },
           {
            "x": -10.239473179981964,
            "y": 0
           },
           {
            "x": 11.777645520983262,
            "y": 0
           },
           {
            "x": -7.971154082224116,
            "y": 0
           },
           {
            "x": 3.940766018168145,
            "y": 0
           },
           {
            "x": 10.891026669366635,
            "y": 0
           },
           {
            "x": 1.3029606609531275,
            "y": 0
           },
           {
            "x": 7.561229379559038,
            "y": 0
           },
           {
            "x": 6.284742041322816,
            "y": 0
           },
           {
            "x": 4.207670986729433,
            "y": 0
           },
           {
            "x": 2.1464830007779065,
            "y": 0
           },
           {
            "x": 8.455264329783958,
            "y": 0
           },
           {
            "x": 3.383029570859533,
            "y": 0
           },
           {
            "x": -0.802185794340943,
            "y": 0
           },
           {
            "x": 12.678139209733562,
            "y": 0
           },
           {
            "x": 5.863952248392404,
            "y": 0
           },
           {
            "x": 11.660937967960708,
            "y": 0
           },
           {
            "x": 3.915483501966642,
            "y": 0
           },
           {
            "x": -2.784749183818823,
            "y": 0
           },
           {
            "x": 6.2955702021623265,
            "y": 0
           },
           {
            "x": 17.311334146699572,
            "y": 0
           },
           {
            "x": 9.525359782910002,
            "y": 0
           },
           {
            "x": 21.120722457225796,
            "y": 0
           },
           {
            "x": -5.639422719773293,
            "y": 0
           },
           {
            "x": 11.81884502984888,
            "y": 0
           },
           {
            "x": 9.870877871074619,
            "y": 0
           },
           {
            "x": 12.256973593524568,
            "y": 0
           },
           {
            "x": 5.035076067269294,
            "y": 0
           },
           {
            "x": 2.299756492473204,
            "y": 0
           },
           {
            "x": 8.353766949177723,
            "y": 0
           },
           {
            "x": 6.727970593992055,
            "y": 0
           },
           {
            "x": 14.838035127944273,
            "y": 0
           },
           {
            "x": -4.35547425138777,
            "y": 0
           },
           {
            "x": 15.66769112688218,
            "y": 0
           },
           {
            "x": 21.579104878193334,
            "y": 0
           },
           {
            "x": 14.564321453575308,
            "y": 0
           },
           {
            "x": 7.007755691349382,
            "y": 0
           },
           {
            "x": 2.9705156998976627,
            "y": 0
           },
           {
            "x": 8.088182238935545,
            "y": 0
           },
           {
            "x": 1.7753485607258366,
            "y": 0
           },
           {
            "x": -0.033344802610548285,
            "y": 0
           },
           {
            "x": 16.563497959311423,
            "y": 0
           },
           {
            "x": 1.1935310190453716,
            "y": 0
           },
           {
            "x": -5.737942391820194,
            "y": 0
           },
           {
            "x": 9.880460060953805,
            "y": 0
           },
           {
            "x": 2.6757029360729168,
            "y": 0
           },
           {
            "x": 13.595631429923689,
            "y": 0
           },
           {
            "x": 7.997455221327863,
            "y": 0
           },
           {
            "x": 6.12361180676201,
            "y": 0
           },
           {
            "x": -4.354939308922905,
            "y": 0
           },
           {
            "x": 9.447446021443058,
            "y": 0
           },
           {
            "x": 5.887753475446514,
            "y": 0
           },
           {
            "x": 1.4884286407519403,
            "y": 0
           },
           {
            "x": 3.2962824216002438,
            "y": 0
           },
           {
            "x": -13.96237926254937,
            "y": 0
           },
           {
            "x": 5.11843149841739,
            "y": 0
           },
           {
            "x": 9.684119830886111,
            "y": 0
           },
           {
            "x": 9.145080058916285,
            "y": 0
           },
           {
            "x": 11.200743130448444,
            "y": 0
           },
           {
            "x": 11.324072622577754,
            "y": 0
           },
           {
            "x": 3.3355765370744663,
            "y": 0
           }
          ]
         },
         "encoding": {
          "x": {
           "field": "x",
           "type": "quantitative"
          },
          "y": {
           "field": "y",
           "type": "quantitative"
          }
         },
         "mark": {
          "clip": true,
          "color": "darkblue",
          "opacity": 0.2,
          "size": 10,
          "type": "point"
         }
        }
       ]
      },
      "image/png": "[encoded data removed]",
      "text/plain": [
       "<VegaLite 2 object>\n",
       "\n",
       "If you see this message, it means the renderer has not been properly enabled\n",
       "for the frontend that you are using. For more information, see\n",
       "https://altair-viz.github.io/user_guide/troubleshooting.html\n"
      ]
     },
     "execution_count": 9,
     "metadata": {},
     "output_type": "execute_result"
    }
   ],
   "source": [
    "expected_x2, labels2 = make_scatter_chart_with_labels(X=[np.mean(s)], Y=[np.mean([i ** 2 for i in s])], L=[\"E[X^2]\"], color=\"firebrick\")\n",
    "\n",
    "expected_x2 + labels2 + x2_points + x_points"
   ]
  },
  {
   "cell_type": "markdown",
   "metadata": {},
   "source": [
    "### Finding the expectation of the sample\n",
    "\n",
    "By the same logic, we can also simply average each $x_i$ to find the expected value of the sample $\\mathbb{E}[X]$: shown as a big blue dot."
   ]
  },
  {
   "cell_type": "code",
   "execution_count": 10,
   "metadata": {},
   "outputs": [
    {
     "data": {
      "application/vnd.vegalite.v2+json": {
       "$schema": "https://vega.github.io/schema/vega-lite/v2.6.0.json",
       "config": {
        "view": {
         "height": 300,
         "width": 400
        }
       },
       "layer": [
        {
         "data": {
          "values": [
           {
            "label": "E[X]",
            "x": 5.869532188339754,
            "y": 0
           }
          ]
         },
         "encoding": {
          "x": {
           "field": "x",
           "type": "quantitative"
          },
          "y": {
           "field": "y",
           "type": "quantitative"
          }
         },
         "mark": {
          "clip": true,
          "color": "blue",
          "filled": true,
          "opacity": 0.9,
          "size": 200,
          "type": "point"
         }
        },
        {
         "data": {
          "values": [
           {
            "label": "E[X]",
            "x": 5.869532188339754,
            "y": 0
           }
          ]
         },
         "encoding": {
          "text": {
           "field": "label",
           "type": "nominal"
          },
          "x": {
           "field": "x",
           "type": "quantitative"
          },
          "y": {
           "field": "y",
           "type": "quantitative"
          }
         },
         "mark": {
          "align": "left",
          "baseline": "bottom",
          "dx": 16,
          "type": "text",
          "xOffset": -20,
          "yOffset": -4
         }
        },
        {
         "data": {
          "values": [
           {
            "x": 10.067676953162362,
            "y": 0
           },
           {
            "x": 21.559491794932438,
            "y": 0
           },
           {
            "x": 6.781341989740184,
            "y": 0
           },
           {
            "x": 2.3949834398582786,
            "y": 0
           },
           {
            "x": 5.35543670133573,
            "y": 0
           },
           {
            "x": 0.6463195681906626,
            "y": 0
           },
           {
            "x": 5.817203329463901,
            "y": 0
           },
           {
            "x": 9.885158691689753,
            "y": 0
           },
           {
            "x": 10.297765577053672,
            "y": 0
           },
           {
            "x": 10.522666156501302,
            "y": 0
           },
           {
            "x": -4.645952009483576,
            "y": 0
           },
           {
            "x": 10.662363959401645,
            "y": 0
           },
           {
            "x": 0.8263194185821545,
            "y": 0
           },
           {
            "x": 16.308378182446983,
            "y": 0
           },
           {
            "x": 6.114573234210823,
            "y": 0
           },
           {
            "x": 0.8368116826887046,
            "y": 0
           },
           {
            "x": -2.3337959848039134,
            "y": 0
           },
           {
            "x": 21.876780868256922,
            "y": 0
           },
           {
            "x": -4.463309963417018,
            "y": 0
           },
           {
            "x": 1.562696104656359,
            "y": 0
           },
           {
            "x": 8.511427514838788,
            "y": 0
           },
           {
            "x": 7.910496592640839,
            "y": 0
           },
           {
            "x": -2.9027386563773696,
            "y": 0
           },
           {
            "x": 5.301566228841112,
            "y": 0
           },
           {
            "x": -2.0503030382948957,
            "y": 0
           },
           {
            "x": 2.508435593413277,
            "y": 0
           },
           {
            "x": 5.852058832593336,
            "y": 0
           },
           {
            "x": 14.811343329949851,
            "y": 0
           },
           {
            "x": -16.90574130258447,
            "y": 0
           },
           {
            "x": -4.08496541723663,
            "y": 0
           },
           {
            "x": 1.9086175116657262,
            "y": 0
           },
           {
            "x": 6.132456278972009,
            "y": 0
           },
           {
            "x": 10.165782122227089,
            "y": 0
           },
           {
            "x": 8.387599393125875,
            "y": 0
           },
           {
            "x": 15.649061832578564,
            "y": 0
           },
           {
            "x": -2.812594417382563,
            "y": 0
           },
           {
            "x": 9.801847806839927,
            "y": 0
           },
           {
            "x": 4.514444386074738,
            "y": 0
           },
           {
            "x": 6.89781984800963,
            "y": 0
           },
           {
            "x": 14.03039593566514,
            "y": 0
           },
           {
            "x": -10.239473179981964,
            "y": 0
           },
           {
            "x": 11.777645520983262,
            "y": 0
           },
           {
            "x": -7.971154082224116,
            "y": 0
           },
           {
            "x": 3.940766018168145,
            "y": 0
           },
           {
            "x": 10.891026669366635,
            "y": 0
           },
           {
            "x": 1.3029606609531275,
            "y": 0
           },
           {
            "x": 7.561229379559038,
            "y": 0
           },
           {
            "x": 6.284742041322816,
            "y": 0
           },
           {
            "x": 4.207670986729433,
            "y": 0
           },
           {
            "x": 2.1464830007779065,
            "y": 0
           },
           {
            "x": 8.455264329783958,
            "y": 0
           },
           {
            "x": 3.383029570859533,
            "y": 0
           },
           {
            "x": -0.802185794340943,
            "y": 0
           },
           {
            "x": 12.678139209733562,
            "y": 0
           },
           {
            "x": 5.863952248392404,
            "y": 0
           },
           {
            "x": 11.660937967960708,
            "y": 0
           },
           {
            "x": 3.915483501966642,
            "y": 0
           },
           {
            "x": -2.784749183818823,
            "y": 0
           },
           {
            "x": 6.2955702021623265,
            "y": 0
           },
           {
            "x": 17.311334146699572,
            "y": 0
           },
           {
            "x": 9.525359782910002,
            "y": 0
           },
           {
            "x": 21.120722457225796,
            "y": 0
           },
           {
            "x": -5.639422719773293,
            "y": 0
           },
           {
            "x": 11.81884502984888,
            "y": 0
           },
           {
            "x": 9.870877871074619,
            "y": 0
           },
           {
            "x": 12.256973593524568,
            "y": 0
           },
           {
            "x": 5.035076067269294,
            "y": 0
           },
           {
            "x": 2.299756492473204,
            "y": 0
           },
           {
            "x": 8.353766949177723,
            "y": 0
           },
           {
            "x": 6.727970593992055,
            "y": 0
           },
           {
            "x": 14.838035127944273,
            "y": 0
           },
           {
            "x": -4.35547425138777,
            "y": 0
           },
           {
            "x": 15.66769112688218,
            "y": 0
           },
           {
            "x": 21.579104878193334,
            "y": 0
           },
           {
            "x": 14.564321453575308,
            "y": 0
           },
           {
            "x": 7.007755691349382,
            "y": 0
           },
           {
            "x": 2.9705156998976627,
            "y": 0
           },
           {
            "x": 8.088182238935545,
            "y": 0
           },
           {
            "x": 1.7753485607258366,
            "y": 0
           },
           {
            "x": -0.033344802610548285,
            "y": 0
           },
           {
            "x": 16.563497959311423,
            "y": 0
           },
           {
            "x": 1.1935310190453716,
            "y": 0
           },
           {
            "x": -5.737942391820194,
            "y": 0
           },
           {
            "x": 9.880460060953805,
            "y": 0
           },
           {
            "x": 2.6757029360729168,
            "y": 0
           },
           {
            "x": 13.595631429923689,
            "y": 0
           },
           {
            "x": 7.997455221327863,
            "y": 0
           },
           {
            "x": 6.12361180676201,
            "y": 0
           },
           {
            "x": -4.354939308922905,
            "y": 0
           },
           {
            "x": 9.447446021443058,
            "y": 0
           },
           {
            "x": 5.887753475446514,
            "y": 0
           },
           {
            "x": 1.4884286407519403,
            "y": 0
           },
           {
            "x": 3.2962824216002438,
            "y": 0
           },
           {
            "x": -13.96237926254937,
            "y": 0
           },
           {
            "x": 5.11843149841739,
            "y": 0
           },
           {
            "x": 9.684119830886111,
            "y": 0
           },
           {
            "x": 9.145080058916285,
            "y": 0
           },
           {
            "x": 11.200743130448444,
            "y": 0
           },
           {
            "x": 11.324072622577754,
            "y": 0
           },
           {
            "x": 3.3355765370744663,
            "y": 0
           }
          ]
         },
         "encoding": {
          "x": {
           "field": "x",
           "type": "quantitative"
          },
          "y": {
           "field": "y",
           "type": "quantitative"
          }
         },
         "mark": {
          "clip": true,
          "color": "darkblue",
          "opacity": 0.2,
          "size": 10,
          "type": "point"
         }
        },
        {
         "data": {
          "values": [
           {
            "label": "E[X^2]",
            "x": 5.869532188339754,
            "y": 87.57214169723652
           }
          ]
         },
         "encoding": {
          "x": {
           "field": "x",
           "type": "quantitative"
          },
          "y": {
           "field": "y",
           "type": "quantitative"
          }
         },
         "mark": {
          "clip": true,
          "color": "firebrick",
          "filled": true,
          "opacity": 0.9,
          "size": 200,
          "type": "point"
         }
        },
        {
         "data": {
          "values": [
           {
            "label": "E[X^2]",
            "x": 5.869532188339754,
            "y": 87.57214169723652
           }
          ]
         },
         "encoding": {
          "text": {
           "field": "label",
           "type": "nominal"
          },
          "x": {
           "field": "x",
           "type": "quantitative"
          },
          "y": {
           "field": "y",
           "type": "quantitative"
          }
         },
         "mark": {
          "align": "left",
          "baseline": "bottom",
          "dx": 16,
          "type": "text",
          "xOffset": -20,
          "yOffset": -4
         }
        },
        {
         "data": {
          "values": [
           {
            "x": 10.067676953162362,
            "y": 101.35811923323658
           },
           {
            "x": 21.559491794932438,
            "y": 464.8116864557591
           },
           {
            "x": 6.781341989740184,
            "y": 45.98659918181336
           },
           {
            "x": 2.3949834398582786,
            "y": 5.735945677195392
           },
           {
            "x": 5.35543670133573,
            "y": 28.680702262013725
           },
           {
            "x": 0.6463195681906626,
            "y": 0.41772898422616456
           },
           {
            "x": 5.817203329463901,
            "y": 33.83985457632589
           },
           {
            "x": 9.885158691689753,
            "y": 97.71636235988947
           },
           {
            "x": 10.297765577053672,
            "y": 106.04397587995156
           },
           {
            "x": 10.522666156501302,
            "y": 110.72650304117788
           },
           {
            "x": -4.645952009483576,
            "y": 21.58487007442448
           },
           {
            "x": 10.662363959401645,
            "y": 113.68600520274713
           },
           {
            "x": 0.8263194185821545,
            "y": 0.6828037815259499
           },
           {
            "x": 16.308378182446983,
            "y": 265.9631989417128
           },
           {
            "x": 6.114573234210823,
            "y": 37.388005836527405
           },
           {
            "x": 0.8368116826887046,
            "y": 0.7002537922843013
           },
           {
            "x": -2.3337959848039134,
            "y": 5.446603698686868
           },
           {
            "x": 21.876780868256922,
            "y": 478.5935411577321
           },
           {
            "x": -4.463309963417018,
            "y": 19.921135829537622
           },
           {
            "x": 1.562696104656359,
            "y": 2.4420191155081583
           },
           {
            "x": 8.511427514838788,
            "y": 72.44439834035478
           },
           {
            "x": 7.910496592640839,
            "y": 62.57595634218232
           },
           {
            "x": -2.9027386563773696,
            "y": 8.425891707227498
           },
           {
            "x": 5.301566228841112,
            "y": 28.106604478788565
           },
           {
            "x": -2.0503030382948957,
            "y": 4.20374254884128
           },
           {
            "x": 2.508435593413277,
            "y": 6.29224912630262
           },
           {
            "x": 5.852058832593336,
            "y": 34.24659258013368
           },
           {
            "x": 14.811343329949851,
            "y": 219.37589123764994
           },
           {
            "x": -16.90574130258447,
            "y": 285.80408898991044
           },
           {
            "x": -4.08496541723663,
            "y": 16.68694246001923
           },
           {
            "x": 1.9086175116657262,
            "y": 3.6428208058370686
           },
           {
            "x": 6.132456278972009,
            "y": 37.607020013503224
           },
           {
            "x": 10.165782122227089,
            "y": 103.3431261565919
           },
           {
            "x": 8.387599393125875,
            "y": 70.35182357956555
           },
           {
            "x": 15.649061832578564,
            "y": 244.89313623986718
           },
           {
            "x": -2.812594417382563,
            "y": 7.910687356691559
           },
           {
            "x": 9.801847806839927,
            "y": 96.07622042845269
           },
           {
            "x": 4.514444386074738,
            "y": 20.380208114961714
           },
           {
            "x": 6.89781984800963,
            "y": 47.57991865559559
           },
           {
            "x": 14.03039593566514,
            "y": 196.8520101115289
           },
           {
            "x": -10.239473179981964,
            "y": 104.84681100356995
           },
           {
            "x": 11.777645520983262,
            "y": 138.71293401793707
           },
           {
            "x": -7.971154082224116,
            "y": 63.539297402558184
           },
           {
            "x": 3.940766018168145,
            "y": 15.529636809948817
           },
           {
            "x": 10.891026669366635,
            "y": 118.6144619128553
           },
           {
            "x": 1.3029606609531275,
            "y": 1.6977064839914107
           },
           {
            "x": 7.561229379559038,
            "y": 57.17218973030676
           },
           {
            "x": 6.284742041322816,
            "y": 39.49798252597048
           },
           {
            "x": 4.207670986729433,
            "y": 17.704495132564638
           },
           {
            "x": 2.1464830007779065,
            "y": 4.607389272628526
           },
           {
            "x": 8.455264329783958,
            "y": 71.49149488651696
           },
           {
            "x": 3.383029570859533,
            "y": 11.444889077310036
           },
           {
            "x": -0.802185794340943,
            "y": 0.6435020486424096
           },
           {
            "x": 12.678139209733562,
            "y": 160.73521382138355
           },
           {
            "x": 5.863952248392404,
            "y": 34.38593597142633
           },
           {
            "x": 11.660937967960708,
            "y": 135.9774742926276
           },
           {
            "x": 3.915483501966642,
            "y": 15.33101105417296
           },
           {
            "x": -2.784749183818823,
            "y": 7.754828016779601
           },
           {
            "x": 6.2955702021623265,
            "y": 39.634204170354195
           },
           {
            "x": 17.311334146699572,
            "y": 299.6822899386866
           },
           {
            "x": 9.525359782910002,
            "y": 90.73247899387927
           },
           {
            "x": 21.120722457225796,
            "y": 446.08491711516206
           },
           {
            "x": -5.639422719773293,
            "y": 31.803088612295205
           },
           {
            "x": 11.81884502984888,
            "y": 139.6850978395836
           },
           {
            "x": 9.870877871074619,
            "y": 97.4342299456706
           },
           {
            "x": 12.256973593524568,
            "y": 150.23340167235858
           },
           {
            "x": 5.035076067269294,
            "y": 25.351991003188022
           },
           {
            "x": 2.299756492473204,
            "y": 5.288879924672654
           },
           {
            "x": 8.353766949177723,
            "y": 69.78542224117409
           },
           {
            "x": 6.727970593992055,
            "y": 45.2655883136218
           },
           {
            "x": 14.838035127944273,
            "y": 220.16728645810824
           },
           {
            "x": -4.35547425138777,
            "y": 18.97015595450186
           },
           {
            "x": 15.66769112688218,
            "y": 245.47654524738263
           },
           {
            "x": 21.579104878193334,
            "y": 465.65776734406734
           },
           {
            "x": 14.564321453575308,
            "y": 212.119459403074
           },
           {
            "x": 7.007755691349382,
            "y": 49.10863982963965
           },
           {
            "x": 2.9705156998976627,
            "y": 8.8239635233385
           },
           {
            "x": 8.088182238935545,
            "y": 65.4186919302324
           },
           {
            "x": 1.7753485607258366,
            "y": 3.1518625120712995
           },
           {
            "x": -0.033344802610548285,
            "y": 0.0011118758611364278
           },
           {
            "x": 16.563497959311423,
            "y": 274.34946464811367
           },
           {
            "x": 1.1935310190453716,
            "y": 1.4245162934234832
           },
           {
            "x": -5.737942391820194,
            "y": 32.92398289184725
           },
           {
            "x": 9.880460060953805,
            "y": 97.62349101610327
           },
           {
            "x": 2.6757029360729168,
            "y": 7.159386202109228
           },
           {
            "x": 13.595631429923689,
            "y": 184.84119397832885
           },
           {
            "x": 7.997455221327863,
            "y": 63.9592900171443
           },
           {
            "x": 6.12361180676201,
            "y": 37.49862155991508
           },
           {
            "x": -4.354939308922905,
            "y": 18.96549638440191
           },
           {
            "x": 9.447446021443058,
            "y": 89.25423632808027
           },
           {
            "x": 5.887753475446514,
            "y": 34.66564098763251
           },
           {
            "x": 1.4884286407519403,
            "y": 2.2154198186106684
           },
           {
            "x": 3.2962824216002438,
            "y": 10.865477802950767
           },
           {
            "x": -13.96237926254937,
            "y": 194.94803467126866
           },
           {
            "x": 5.11843149841739,
            "y": 26.198341003991292
           },
           {
            "x": 9.684119830886111,
            "y": 93.78217689896164
           },
           {
            "x": 9.145080058916285,
            "y": 83.63248928398829
           },
           {
            "x": 11.200743130448444,
            "y": 125.45664667428801
           },
           {
            "x": 11.324072622577754,
            "y": 128.23462076141502
           },
           {
            "x": 3.3355765370744663,
            "y": 11.12607083468169
           }
          ]
         },
         "encoding": {
          "x": {
           "field": "x",
           "type": "quantitative"
          },
          "y": {
           "field": "y",
           "type": "quantitative"
          }
         },
         "mark": {
          "clip": true,
          "color": "firebrick",
          "opacity": 0.2,
          "size": 10,
          "type": "point"
         }
        }
       ]
      },
      "image/png": "[encoded data removed]",
      "text/plain": [
       "<VegaLite 2 object>\n",
       "\n",
       "If you see this message, it means the renderer has not been properly enabled\n",
       "for the frontend that you are using. For more information, see\n",
       "https://altair-viz.github.io/user_guide/troubleshooting.html\n"
      ]
     },
     "execution_count": 10,
     "metadata": {},
     "output_type": "execute_result"
    }
   ],
   "source": [
    "expected_x, labels = make_scatter_chart_with_labels(X=[np.mean(s)], Y=[0], L=[\"E[X]\"]) \n",
    "expected_x + labels + x_points + expected_x2 + labels2 + x2_points"
   ]
  },
  {
   "cell_type": "markdown",
   "metadata": {},
   "source": [
    "### Square the expected value of the sample.\n",
    "\n",
    "If we square the expected value of the sample (i.e. the blue dot) we get the value $\\mathbb{E}[X]^2$. This will be a point along the red curve. We show this as a big black dot. "
   ]
  },
  {
   "cell_type": "code",
   "execution_count": 24,
   "metadata": {},
   "outputs": [
    {
     "data": {
      "application/vnd.vegalite.v2+json": {
       "$schema": "https://vega.github.io/schema/vega-lite/v2.6.0.json",
       "config": {
        "view": {
         "height": 300,
         "width": 400
        }
       },
       "layer": [
        {
         "data": {
          "values": [
           {
            "x": 10.067676953162362,
            "y": 0
           },
           {
            "x": 21.559491794932438,
            "y": 0
           },
           {
            "x": 6.781341989740184,
            "y": 0
           },
           {
            "x": 2.3949834398582786,
            "y": 0
           },
           {
            "x": 5.35543670133573,
            "y": 0
           },
           {
            "x": 0.6463195681906626,
            "y": 0
           },
           {
            "x": 5.817203329463901,
            "y": 0
           },
           {
            "x": 9.885158691689753,
            "y": 0
           },
           {
            "x": 10.297765577053672,
            "y": 0
           },
           {
            "x": 10.522666156501302,
            "y": 0
           },
           {
            "x": -4.645952009483576,
            "y": 0
           },
           {
            "x": 10.662363959401645,
            "y": 0
           },
           {
            "x": 0.8263194185821545,
            "y": 0
           },
           {
            "x": 16.308378182446983,
            "y": 0
           },
           {
            "x": 6.114573234210823,
            "y": 0
           },
           {
            "x": 0.8368116826887046,
            "y": 0
           },
           {
            "x": -2.3337959848039134,
            "y": 0
           },
           {
            "x": 21.876780868256922,
            "y": 0
           },
           {
            "x": -4.463309963417018,
            "y": 0
           },
           {
            "x": 1.562696104656359,
            "y": 0
           },
           {
            "x": 8.511427514838788,
            "y": 0
           },
           {
            "x": 7.910496592640839,
            "y": 0
           },
           {
            "x": -2.9027386563773696,
            "y": 0
           },
           {
            "x": 5.301566228841112,
            "y": 0
           },
           {
            "x": -2.0503030382948957,
            "y": 0
           },
           {
            "x": 2.508435593413277,
            "y": 0
           },
           {
            "x": 5.852058832593336,
            "y": 0
           },
           {
            "x": 14.811343329949851,
            "y": 0
           },
           {
            "x": -16.90574130258447,
            "y": 0
           },
           {
            "x": -4.08496541723663,
            "y": 0
           },
           {
            "x": 1.9086175116657262,
            "y": 0
           },
           {
            "x": 6.132456278972009,
            "y": 0
           },
           {
            "x": 10.165782122227089,
            "y": 0
           },
           {
            "x": 8.387599393125875,
            "y": 0
           },
           {
            "x": 15.649061832578564,
            "y": 0
           },
           {
            "x": -2.812594417382563,
            "y": 0
           },
           {
            "x": 9.801847806839927,
            "y": 0
           },
           {
            "x": 4.514444386074738,
            "y": 0
           },
           {
            "x": 6.89781984800963,
            "y": 0
           },
           {
            "x": 14.03039593566514,
            "y": 0
           },
           {
            "x": -10.239473179981964,
            "y": 0
           },
           {
            "x": 11.777645520983262,
            "y": 0
           },
           {
            "x": -7.971154082224116,
            "y": 0
           },
           {
            "x": 3.940766018168145,
            "y": 0
           },
           {
            "x": 10.891026669366635,
            "y": 0
           },
           {
            "x": 1.3029606609531275,
            "y": 0
           },
           {
            "x": 7.561229379559038,
            "y": 0
           },
           {
            "x": 6.284742041322816,
            "y": 0
           },
           {
            "x": 4.207670986729433,
            "y": 0
           },
           {
            "x": 2.1464830007779065,
            "y": 0
           },
           {
            "x": 8.455264329783958,
            "y": 0
           },
           {
            "x": 3.383029570859533,
            "y": 0
           },
           {
            "x": -0.802185794340943,
            "y": 0
           },
           {
            "x": 12.678139209733562,
            "y": 0
           },
           {
            "x": 5.863952248392404,
            "y": 0
           },
           {
            "x": 11.660937967960708,
            "y": 0
           },
           {
            "x": 3.915483501966642,
            "y": 0
           },
           {
            "x": -2.784749183818823,
            "y": 0
           },
           {
            "x": 6.2955702021623265,
            "y": 0
           },
           {
            "x": 17.311334146699572,
            "y": 0
           },
           {
            "x": 9.525359782910002,
            "y": 0
           },
           {
            "x": 21.120722457225796,
            "y": 0
           },
           {
            "x": -5.639422719773293,
            "y": 0
           },
           {
            "x": 11.81884502984888,
            "y": 0
           },
           {
            "x": 9.870877871074619,
            "y": 0
           },
           {
            "x": 12.256973593524568,
            "y": 0
           },
           {
            "x": 5.035076067269294,
            "y": 0
           },
           {
            "x": 2.299756492473204,
            "y": 0
           },
           {
            "x": 8.353766949177723,
            "y": 0
           },
           {
            "x": 6.727970593992055,
            "y": 0
           },
           {
            "x": 14.838035127944273,
            "y": 0
           },
           {
            "x": -4.35547425138777,
            "y": 0
           },
           {
            "x": 15.66769112688218,
            "y": 0
           },
           {
            "x": 21.579104878193334,
            "y": 0
           },
           {
            "x": 14.564321453575308,
            "y": 0
           },
           {
            "x": 7.007755691349382,
            "y": 0
           },
           {
            "x": 2.9705156998976627,
            "y": 0
           },
           {
            "x": 8.088182238935545,
            "y": 0
           },
           {
            "x": 1.7753485607258366,
            "y": 0
           },
           {
            "x": -0.033344802610548285,
            "y": 0
           },
           {
            "x": 16.563497959311423,
            "y": 0
           },
           {
            "x": 1.1935310190453716,
            "y": 0
           },
           {
            "x": -5.737942391820194,
            "y": 0
           },
           {
            "x": 9.880460060953805,
            "y": 0
           },
           {
            "x": 2.6757029360729168,
            "y": 0
           },
           {
            "x": 13.595631429923689,
            "y": 0
           },
           {
            "x": 7.997455221327863,
            "y": 0
           },
           {
            "x": 6.12361180676201,
            "y": 0
           },
           {
            "x": -4.354939308922905,
            "y": 0
           },
           {
            "x": 9.447446021443058,
            "y": 0
           },
           {
            "x": 5.887753475446514,
            "y": 0
           },
           {
            "x": 1.4884286407519403,
            "y": 0
           },
           {
            "x": 3.2962824216002438,
            "y": 0
           },
           {
            "x": -13.96237926254937,
            "y": 0
           },
           {
            "x": 5.11843149841739,
            "y": 0
           },
           {
            "x": 9.684119830886111,
            "y": 0
           },
           {
            "x": 9.145080058916285,
            "y": 0
           },
           {
            "x": 11.200743130448444,
            "y": 0
           },
           {
            "x": 11.324072622577754,
            "y": 0
           },
           {
            "x": 3.3355765370744663,
            "y": 0
           }
          ]
         },
         "encoding": {
          "x": {
           "field": "x",
           "scale": {
            "domain": [
             5,
             15
            ]
           },
           "type": "quantitative"
          },
          "y": {
           "field": "y",
           "type": "quantitative"
          }
         },
         "mark": {
          "clip": true,
          "color": "darkblue",
          "opacity": 0.2,
          "size": 10,
          "type": "point"
         }
        },
        {
         "data": {
          "values": [
           {
            "label": "E[X]",
            "x": 5.869532188339754,
            "y": 0
           }
          ]
         },
         "encoding": {
          "x": {
           "field": "x",
           "scale": {
            "domain": [
             5,
             15
            ]
           },
           "type": "quantitative"
          },
          "y": {
           "field": "y",
           "type": "quantitative"
          }
         },
         "mark": {
          "clip": true,
          "color": "blue",
          "filled": true,
          "opacity": 0.9,
          "size": 200,
          "type": "point"
         }
        },
        {
         "data": {
          "values": [
           {
            "label": "E[X]",
            "x": 5.869532188339754,
            "y": 0
           }
          ]
         },
         "encoding": {
          "text": {
           "field": "label",
           "type": "nominal"
          },
          "x": {
           "field": "x",
           "scale": {
            "domain": [
             5,
             15
            ]
           },
           "type": "quantitative"
          },
          "y": {
           "field": "y",
           "type": "quantitative"
          }
         },
         "mark": {
          "align": "left",
          "baseline": "bottom",
          "dx": 16,
          "type": "text",
          "xOffset": -20,
          "yOffset": -4
         }
        },
        {
         "data": {
          "values": [
           {
            "label": "E[X^2]",
            "x": 5.869532188339754,
            "y": 87.57214169723652
           }
          ]
         },
         "encoding": {
          "x": {
           "field": "x",
           "scale": {
            "domain": [
             5,
             15
            ]
           },
           "type": "quantitative"
          },
          "y": {
           "field": "y",
           "type": "quantitative"
          }
         },
         "mark": {
          "clip": true,
          "color": "firebrick",
          "filled": true,
          "opacity": 0.9,
          "size": 200,
          "type": "point"
         }
        },
        {
         "data": {
          "values": [
           {
            "label": "E[X^2]",
            "x": 5.869532188339754,
            "y": 87.57214169723652
           }
          ]
         },
         "encoding": {
          "text": {
           "field": "label",
           "type": "nominal"
          },
          "x": {
           "field": "x",
           "scale": {
            "domain": [
             5,
             15
            ]
           },
           "type": "quantitative"
          },
          "y": {
           "field": "y",
           "type": "quantitative"
          }
         },
         "mark": {
          "align": "left",
          "baseline": "bottom",
          "dx": 16,
          "type": "text",
          "xOffset": -20,
          "yOffset": -4
         }
        },
        {
         "data": {
          "values": [
           {
            "x": 10.067676953162362,
            "y": 101.35811923323658
           },
           {
            "x": 21.559491794932438,
            "y": 464.8116864557591
           },
           {
            "x": 6.781341989740184,
            "y": 45.98659918181336
           },
           {
            "x": 2.3949834398582786,
            "y": 5.735945677195392
           },
           {
            "x": 5.35543670133573,
            "y": 28.680702262013725
           },
           {
            "x": 0.6463195681906626,
            "y": 0.41772898422616456
           },
           {
            "x": 5.817203329463901,
            "y": 33.83985457632589
           },
           {
            "x": 9.885158691689753,
            "y": 97.71636235988947
           },
           {
            "x": 10.297765577053672,
            "y": 106.04397587995156
           },
           {
            "x": 10.522666156501302,
            "y": 110.72650304117788
           },
           {
            "x": -4.645952009483576,
            "y": 21.58487007442448
           },
           {
            "x": 10.662363959401645,
            "y": 113.68600520274713
           },
           {
            "x": 0.8263194185821545,
            "y": 0.6828037815259499
           },
           {
            "x": 16.308378182446983,
            "y": 265.9631989417128
           },
           {
            "x": 6.114573234210823,
            "y": 37.388005836527405
           },
           {
            "x": 0.8368116826887046,
            "y": 0.7002537922843013
           },
           {
            "x": -2.3337959848039134,
            "y": 5.446603698686868
           },
           {
            "x": 21.876780868256922,
            "y": 478.5935411577321
           },
           {
            "x": -4.463309963417018,
            "y": 19.921135829537622
           },
           {
            "x": 1.562696104656359,
            "y": 2.4420191155081583
           },
           {
            "x": 8.511427514838788,
            "y": 72.44439834035478
           },
           {
            "x": 7.910496592640839,
            "y": 62.57595634218232
           },
           {
            "x": -2.9027386563773696,
            "y": 8.425891707227498
           },
           {
            "x": 5.301566228841112,
            "y": 28.106604478788565
           },
           {
            "x": -2.0503030382948957,
            "y": 4.20374254884128
           },
           {
            "x": 2.508435593413277,
            "y": 6.29224912630262
           },
           {
            "x": 5.852058832593336,
            "y": 34.24659258013368
           },
           {
            "x": 14.811343329949851,
            "y": 219.37589123764994
           },
           {
            "x": -16.90574130258447,
            "y": 285.80408898991044
           },
           {
            "x": -4.08496541723663,
            "y": 16.68694246001923
           },
           {
            "x": 1.9086175116657262,
            "y": 3.6428208058370686
           },
           {
            "x": 6.132456278972009,
            "y": 37.607020013503224
           },
           {
            "x": 10.165782122227089,
            "y": 103.3431261565919
           },
           {
            "x": 8.387599393125875,
            "y": 70.35182357956555
           },
           {
            "x": 15.649061832578564,
            "y": 244.89313623986718
           },
           {
            "x": -2.812594417382563,
            "y": 7.910687356691559
           },
           {
            "x": 9.801847806839927,
            "y": 96.07622042845269
           },
           {
            "x": 4.514444386074738,
            "y": 20.380208114961714
           },
           {
            "x": 6.89781984800963,
            "y": 47.57991865559559
           },
           {
            "x": 14.03039593566514,
            "y": 196.8520101115289
           },
           {
            "x": -10.239473179981964,
            "y": 104.84681100356995
           },
           {
            "x": 11.777645520983262,
            "y": 138.71293401793707
           },
           {
            "x": -7.971154082224116,
            "y": 63.539297402558184
           },
           {
            "x": 3.940766018168145,
            "y": 15.529636809948817
           },
           {
            "x": 10.891026669366635,
            "y": 118.6144619128553
           },
           {
            "x": 1.3029606609531275,
            "y": 1.6977064839914107
           },
           {
            "x": 7.561229379559038,
            "y": 57.17218973030676
           },
           {
            "x": 6.284742041322816,
            "y": 39.49798252597048
           },
           {
            "x": 4.207670986729433,
            "y": 17.704495132564638
           },
           {
            "x": 2.1464830007779065,
            "y": 4.607389272628526
           },
           {
            "x": 8.455264329783958,
            "y": 71.49149488651696
           },
           {
            "x": 3.383029570859533,
            "y": 11.444889077310036
           },
           {
            "x": -0.802185794340943,
            "y": 0.6435020486424096
           },
           {
            "x": 12.678139209733562,
            "y": 160.73521382138355
           },
           {
            "x": 5.863952248392404,
            "y": 34.38593597142633
           },
           {
            "x": 11.660937967960708,
            "y": 135.9774742926276
           },
           {
            "x": 3.915483501966642,
            "y": 15.33101105417296
           },
           {
            "x": -2.784749183818823,
            "y": 7.754828016779601
           },
           {
            "x": 6.2955702021623265,
            "y": 39.634204170354195
           },
           {
            "x": 17.311334146699572,
            "y": 299.6822899386866
           },
           {
            "x": 9.525359782910002,
            "y": 90.73247899387927
           },
           {
            "x": 21.120722457225796,
            "y": 446.08491711516206
           },
           {
            "x": -5.639422719773293,
            "y": 31.803088612295205
           },
           {
            "x": 11.81884502984888,
            "y": 139.6850978395836
           },
           {
            "x": 9.870877871074619,
            "y": 97.4342299456706
           },
           {
            "x": 12.256973593524568,
            "y": 150.23340167235858
           },
           {
            "x": 5.035076067269294,
            "y": 25.351991003188022
           },
           {
            "x": 2.299756492473204,
            "y": 5.288879924672654
           },
           {
            "x": 8.353766949177723,
            "y": 69.78542224117409
           },
           {
            "x": 6.727970593992055,
            "y": 45.2655883136218
           },
           {
            "x": 14.838035127944273,
            "y": 220.16728645810824
           },
           {
            "x": -4.35547425138777,
            "y": 18.97015595450186
           },
           {
            "x": 15.66769112688218,
            "y": 245.47654524738263
           },
           {
            "x": 21.579104878193334,
            "y": 465.65776734406734
           },
           {
            "x": 14.564321453575308,
            "y": 212.119459403074
           },
           {
            "x": 7.007755691349382,
            "y": 49.10863982963965
           },
           {
            "x": 2.9705156998976627,
            "y": 8.8239635233385
           },
           {
            "x": 8.088182238935545,
            "y": 65.4186919302324
           },
           {
            "x": 1.7753485607258366,
            "y": 3.1518625120712995
           },
           {
            "x": -0.033344802610548285,
            "y": 0.0011118758611364278
           },
           {
            "x": 16.563497959311423,
            "y": 274.34946464811367
           },
           {
            "x": 1.1935310190453716,
            "y": 1.4245162934234832
           },
           {
            "x": -5.737942391820194,
            "y": 32.92398289184725
           },
           {
            "x": 9.880460060953805,
            "y": 97.62349101610327
           },
           {
            "x": 2.6757029360729168,
            "y": 7.159386202109228
           },
           {
            "x": 13.595631429923689,
            "y": 184.84119397832885
           },
           {
            "x": 7.997455221327863,
            "y": 63.9592900171443
           },
           {
            "x": 6.12361180676201,
            "y": 37.49862155991508
           },
           {
            "x": -4.354939308922905,
            "y": 18.96549638440191
           },
           {
            "x": 9.447446021443058,
            "y": 89.25423632808027
           },
           {
            "x": 5.887753475446514,
            "y": 34.66564098763251
           },
           {
            "x": 1.4884286407519403,
            "y": 2.2154198186106684
           },
           {
            "x": 3.2962824216002438,
            "y": 10.865477802950767
           },
           {
            "x": -13.96237926254937,
            "y": 194.94803467126866
           },
           {
            "x": 5.11843149841739,
            "y": 26.198341003991292
           },
           {
            "x": 9.684119830886111,
            "y": 93.78217689896164
           },
           {
            "x": 9.145080058916285,
            "y": 83.63248928398829
           },
           {
            "x": 11.200743130448444,
            "y": 125.45664667428801
           },
           {
            "x": 11.324072622577754,
            "y": 128.23462076141502
           },
           {
            "x": 3.3355765370744663,
            "y": 11.12607083468169
           }
          ]
         },
         "encoding": {
          "x": {
           "field": "x",
           "scale": {
            "domain": [
             5,
             15
            ]
           },
           "type": "quantitative"
          },
          "y": {
           "field": "y",
           "type": "quantitative"
          }
         },
         "mark": {
          "clip": true,
          "color": "firebrick",
          "opacity": 0.2,
          "size": 10,
          "type": "point"
         }
        },
        {
         "data": {
          "values": [
           {
            "label": "E[X]^2",
            "x": 5.869532188339754,
            "y": 34.45140810995646
           }
          ]
         },
         "encoding": {
          "x": {
           "field": "x",
           "scale": {
            "domain": [
             5,
             15
            ]
           },
           "type": "quantitative"
          },
          "y": {
           "field": "y",
           "type": "quantitative"
          }
         },
         "mark": {
          "clip": true,
          "color": "black",
          "filled": true,
          "opacity": 0.9,
          "size": 200,
          "type": "point"
         }
        },
        {
         "data": {
          "values": [
           {
            "label": "E[X]^2",
            "x": 5.869532188339754,
            "y": 34.45140810995646
           }
          ]
         },
         "encoding": {
          "text": {
           "field": "label",
           "type": "nominal"
          },
          "x": {
           "field": "x",
           "scale": {
            "domain": [
             5,
             15
            ]
           },
           "type": "quantitative"
          },
          "y": {
           "field": "y",
           "type": "quantitative"
          }
         },
         "mark": {
          "align": "left",
          "baseline": "bottom",
          "dx": 16,
          "type": "text",
          "xOffset": -20,
          "yOffset": -4
         }
        }
       ]
      },
      "image/png": "[encoded data removed]",
      "text/plain": [
       "<VegaLite 2 object>\n",
       "\n",
       "If you see this message, it means the renderer has not been properly enabled\n",
       "for the frontend that you are using. For more information, see\n",
       "https://altair-viz.github.io/user_guide/troubleshooting.html\n"
      ]
     },
     "execution_count": 24,
     "metadata": {},
     "output_type": "execute_result"
    }
   ],
   "source": [
    "domain = (5, 15)\n",
    "range_ = None\n",
    "x_points = make_scatter_chart(size=10, opacity=.2, X=s, Y=np.zeros(len(s)), domain=domain, range_=range_)\n",
    "expected_x, labels = make_scatter_chart_with_labels(X=[np.mean(s)], Y=[0], L=[\"E[X]\"], domain=domain, range_=range_)\n",
    "expectedx2, labelsx2 = make_scatter_chart_with_labels(X=[np.mean(s)], Y=[np.mean(s) ** 2], L=[\"E[X]^2\"], domain=domain, color=\"black\", range_=range_)\n",
    "expected_x2, labels2 = make_scatter_chart_with_labels(X=[np.mean(s)], Y=[np.mean([i ** 2 for i in s])], L=[\"E[X^2]\"], domain=domain, color=\"firebrick\", range_=range_)\n",
    "x2_points = make_scatter_chart(size=10, opacity=.2, X=s, Y=[i ** 2 for i in s], color=\"firebrick\", domain=domain, range_=range_)\n",
    "\n",
    "x_points + expected_x + labels + expected_x2 + labels2 + x2_points + expectedx2 + labelsx2"
   ]
  },
  {
   "cell_type": "markdown",
   "metadata": {},
   "source": [
    "### A visual intition for the variance\n",
    "\n",
    "The distance between the red dot and the black dot is $\\mathbb{E}[X^2]$ - $\\mathbb{E}[X]^2$ is equal to $Var(X)$: the variance!"
   ]
  },
  {
   "cell_type": "markdown",
   "metadata": {},
   "source": [
    "Because $\\mathbb{E}[X^2]$ is always above the black squares line, this also doubles as a visual proof that the variance is always non-negative. (See also this [awesome visual proof](http://mark.reid.name/blog/behold-jensens-inequality.html) of Jensen's Inequality, which gave me the idea for this post)."
   ]
  },
  {
   "cell_type": "markdown",
   "metadata": {},
   "source": [
    "\n",
    "### Plowing through the algebra \n",
    "\n",
    "This post is devoted to providing a visual intution for the alternate definition of variance. If you are curious about the algebra behind the definition, here is a detailed derivation as well.\n",
    "\n",
    "Starting from the definition and expanding the square we have\n",
    "\n",
    "$$Var(X) = \\mathbb{E}[(x - \\mathbb{E}[X])^2]$$\n",
    "\n",
    "$$Var(X) = \\mathbb{E}[X^2 - 2XE[X] + \\mathbb{E}[X]^2]$$\n",
    "\n",
    "From linearity of expectation we have:\n",
    "\n",
    "$$Var(X) = \\mathbb{E}[X^2]-  \\mathbb{E}[2XE[X]] +  \\mathbb{E}[\\mathbb{E}[X]^2]$$\n",
    "\n",
    "We can pull out the constants 2 and $\\mathbb{E}[X]$ from the expectation in the middle term to get:\n",
    "\n",
    "$$Var(X) = \\mathbb{E}[X^2]-  2\\mathbb{E}[X]\\mathbb{E}E[X] +  \\mathbb{E}[\\mathbb{E}[X^2]$$\n",
    "\n",
    "We can also express the middle term as $2\\mathbb{E}[X^2]$ to get\n",
    "\n",
    "$$Var(X) = \\mathbb{E}[X^2]-  2\\mathbb{E}[X^2]+  \\mathbb{E}[X^2]$$\n",
    "\n",
    "$$Var(X) = \\mathbb{E}[X^2]-  \\mathbb{E}[X^2] -  \\mathbb{E}[X^2]+  \\mathbb{E}[X^2]$$\n",
    "\n",
    "$$Var(X) = \\mathbb{E}[X^2] -   \\mathbb{E}[X^2]$$"
   ]
  }
 ],
 "metadata": {
  "kernelspec": {
   "display_name": "Python 3",
   "language": "python",
   "name": "python3"
  },
  "language_info": {
   "codemirror_mode": {
    "name": "ipython",
    "version": 3
   },
   "file_extension": ".py",
   "mimetype": "text/x-python",
   "name": "python",
   "nbconvert_exporter": "python",
   "pygments_lexer": "ipython3",
   "version": "3.6.2"
  }
 },
 "nbformat": 4,
 "nbformat_minor": 2
}
