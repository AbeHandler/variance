{
 "cells": [
  {
   "cell_type": "markdown",
   "metadata": {},
   "source": [
    "### Visual intuition for the other definition of variance\n",
    "\n",
    "\n",
    "I always think of the [variance](https://en.wikipedia.org/wiki/Variance) of some random variable $X$ as $X$'s expected deviation from its mean, $\\mu$. That is, I think of the variance as: $Var(X) =\\mathbb{E}[(X - \\mu)^2]$. Because $\\mu$ is the expected value or average of $X$ you can also express the variance as:\n",
    "\n",
    "$$Var(X)= \\mathbb{E}[(X - \\mathbb{E}[X])^2]$$\n",
    "\n",
    "where $\\mu = \\mathbb{E}[X]$. \n",
    "\n",
    "On Wikipedia and in textbooks the variance is also sometimes defined as:\n",
    "\n",
    "$$Var(X) =\\mathbb{E}[X^2] - \\mathbb{E}[X]^2$$\n",
    "\n",
    "which is expected value of $X$ squared, minus the expected square of $X$. I never find this other definition intuitive. This is a visual demonstration of the second definition of variance. (If you are curious about the algebra, I also plow through the derivation at the end of the post).\n"
   ]
  },
  {
   "cell_type": "markdown",
   "metadata": {},
   "source": [
    "### Get some data\n",
    "\n",
    "Let's start by drawing some data from a 1 dimensional normal with some mean and some standard deviation. We'll make a histogram to visualize the data, plotted along with the actual data shown as blue dots along the x axis."
   ]
  },
  {
   "cell_type": "code",
   "execution_count": 198,
   "metadata": {},
   "outputs": [
    {
     "data": {
      "application/vnd.vegalite.v2+json": {
       "$schema": "https://vega.github.io/schema/vega-lite/v2.6.0.json",
       "config": {
        "view": {
         "height": 300,
         "width": 400
        }
       },
       "layer": [
        {
         "data": {
          "values": [
           {
            "x": -3,
            "y": 2
           },
           {
            "x": -2,
            "y": 8
           },
           {
            "x": -1,
            "y": 21
           },
           {
            "x": 0,
            "y": 39
           },
           {
            "x": 1,
            "y": 45
           },
           {
            "x": 2,
            "y": 73
           },
           {
            "x": 3,
            "y": 55
           },
           {
            "x": 4,
            "y": 33
           },
           {
            "x": 5,
            "y": 15
           },
           {
            "x": 6,
            "y": 7
           },
           {
            "x": 7,
            "y": 2
           },
           {
            "x": 8,
            "y": 0
           },
           {
            "x": 9,
            "y": 0
           }
          ]
         },
         "encoding": {
          "x": {
           "field": "x",
           "type": "quantitative"
          },
          "y": {
           "field": "y",
           "type": "quantitative"
          }
         },
         "mark": {
          "opacity": 0.2,
          "size": 10,
          "type": "bar"
         }
        },
        {
         "data": {
          "values": [
           {
            "x": 3.59042346944787,
            "y": 0
           },
           {
            "x": 0.5496466908728286,
            "y": 0
           },
           {
            "x": 2.7084553751035374,
            "y": 0
           },
           {
            "x": 2.4005424483626285,
            "y": 0
           },
           {
            "x": 0.20949398704433353,
            "y": 0
           },
           {
            "x": 0.5876806695799797,
            "y": 0
           },
           {
            "x": 2.086157119488289,
            "y": 0
           },
           {
            "x": 2.5605589278793697,
            "y": 0
           },
           {
            "x": 3.944041882095182,
            "y": 0
           },
           {
            "x": -0.7738193601722578,
            "y": 0
           },
           {
            "x": 1.6826435913661606,
            "y": 0
           },
           {
            "x": -0.24231327883810794,
            "y": 0
           },
           {
            "x": 1.0200908525723127,
            "y": 0
           },
           {
            "x": 0.549993631832463,
            "y": 0
           },
           {
            "x": 7.687192852839408,
            "y": 0
           },
           {
            "x": 5.520394082134787,
            "y": 0
           },
           {
            "x": 1.3033804454206868,
            "y": 0
           },
           {
            "x": 0.9770502605283298,
            "y": 0
           },
           {
            "x": 4.533794189797913,
            "y": 0
           },
           {
            "x": -1.3250925106809586,
            "y": 0
           },
           {
            "x": 4.554813606584099,
            "y": 0
           },
           {
            "x": -0.5281112879376901,
            "y": 0
           },
           {
            "x": -0.47297692688165416,
            "y": 0
           },
           {
            "x": 2.057717922387394,
            "y": 0
           },
           {
            "x": 2.9033171041392425,
            "y": 0
           },
           {
            "x": 1.3336711256584448,
            "y": 0
           },
           {
            "x": 2.1106971972586566,
            "y": 0
           },
           {
            "x": 2.6199987792725854,
            "y": 0
           },
           {
            "x": 0.9886302289344346,
            "y": 0
           },
           {
            "x": 6.992254033597893,
            "y": 0
           },
           {
            "x": 1.955274644709375,
            "y": 0
           },
           {
            "x": 2.1891434661219713,
            "y": 0
           },
           {
            "x": 3.4496514528052873,
            "y": 0
           },
           {
            "x": 5.551697634369207,
            "y": 0
           },
           {
            "x": 0.11537026883941559,
            "y": 0
           },
           {
            "x": -0.7397153725208381,
            "y": 0
           },
           {
            "x": 3.8151728734536166,
            "y": 0
           },
           {
            "x": 3.6674596652694875,
            "y": 0
           },
           {
            "x": 0.8479077915356596,
            "y": 0
           },
           {
            "x": 0.6508611554478336,
            "y": 0
           },
           {
            "x": 0.08044410761069809,
            "y": 0
           },
           {
            "x": 4.502404484740793,
            "y": 0
           },
           {
            "x": -0.30933250854909566,
            "y": 0
           },
           {
            "x": 4.094410044750791,
            "y": 0
           },
           {
            "x": 3.8885745220933923,
            "y": 0
           },
           {
            "x": 3.1487717732215605,
            "y": 0
           },
           {
            "x": 1.8340635259128464,
            "y": 0
           },
           {
            "x": 3.4914882405618135,
            "y": 0
           },
           {
            "x": -0.11313633089179564,
            "y": 0
           },
           {
            "x": 2.0626055722324788,
            "y": 0
           },
           {
            "x": 3.397891222985592,
            "y": 0
           },
           {
            "x": 0.9359746339541126,
            "y": 0
           },
           {
            "x": -0.2762474550442646,
            "y": 0
           },
           {
            "x": 3.566016350296505,
            "y": 0
           },
           {
            "x": 2.7946428970536448,
            "y": 0
           },
           {
            "x": 2.5069136532426888,
            "y": 0
           },
           {
            "x": 4.213768035288159,
            "y": 0
           },
           {
            "x": 5.026304081448215,
            "y": 0
           },
           {
            "x": 2.512865209713169,
            "y": 0
           },
           {
            "x": 1.4310990150326093,
            "y": 0
           },
           {
            "x": 0.8532258424729813,
            "y": 0
           },
           {
            "x": 2.800942449173451,
            "y": 0
           },
           {
            "x": 1.969861140302123,
            "y": 0
           },
           {
            "x": 3.467560656937549,
            "y": 0
           },
           {
            "x": 5.454771447567515,
            "y": 0
           },
           {
            "x": 4.374360848400695,
            "y": 0
           },
           {
            "x": 1.075956044917557,
            "y": 0
           },
           {
            "x": 3.791054816843885,
            "y": 0
           },
           {
            "x": 3.158336047689044,
            "y": 0
           },
           {
            "x": 3.8606338788865746,
            "y": 0
           },
           {
            "x": 4.224321818952637,
            "y": 0
           },
           {
            "x": 2.642739886173595,
            "y": 0
           },
           {
            "x": 0.676166646545832,
            "y": 0
           },
           {
            "x": 2.8675000586132833,
            "y": 0
           },
           {
            "x": 0.05679832541452301,
            "y": 0
           },
           {
            "x": 2.5289893796379728,
            "y": 0
           },
           {
            "x": 0.04518147428987529,
            "y": 0
           },
           {
            "x": 2.627831803382141,
            "y": 0
           },
           {
            "x": 2.868724677024337,
            "y": 0
           },
           {
            "x": 1.1705280703681666,
            "y": 0
           },
           {
            "x": 3.1169781101594385,
            "y": 0
           },
           {
            "x": 5.919411133408153,
            "y": 0
           },
           {
            "x": 2.9902036656456756,
            "y": 0
           },
           {
            "x": 1.8262547080322946,
            "y": 0
           },
           {
            "x": 4.364672768032902,
            "y": 0
           },
           {
            "x": 1.0660719376287249,
            "y": 0
           },
           {
            "x": 2.119625046929801,
            "y": 0
           },
           {
            "x": 1.8216686498182775,
            "y": 0
           },
           {
            "x": 4.450245581003958,
            "y": 0
           },
           {
            "x": 0.6859637853234404,
            "y": 0
           },
           {
            "x": 3.8290423023047264,
            "y": 0
           },
           {
            "x": 3.135338180016678,
            "y": 0
           },
           {
            "x": 1.5206711022286021,
            "y": 0
           },
           {
            "x": 0.2494696498430291,
            "y": 0
           },
           {
            "x": 1.4284802231400702,
            "y": 0
           },
           {
            "x": 0.15008519012169774,
            "y": 0
           },
           {
            "x": 3.473094105690494,
            "y": 0
           },
           {
            "x": 2.9160261627269595,
            "y": 0
           },
           {
            "x": 3.9016057348727706,
            "y": 0
           },
           {
            "x": 6.492070598779575,
            "y": 0
           },
           {
            "x": 5.015069849415243,
            "y": 0
           },
           {
            "x": 1.6890543369428843,
            "y": 0
           },
           {
            "x": 4.01745177776443,
            "y": 0
           },
           {
            "x": -0.852876819995855,
            "y": 0
           },
           {
            "x": 2.9212819021834058,
            "y": 0
           },
           {
            "x": 2.2552304245998016,
            "y": 0
           },
           {
            "x": 6.647126576404931,
            "y": 0
           },
           {
            "x": -0.5576504150237156,
            "y": 0
           },
           {
            "x": 3.8073818824171757,
            "y": 0
           },
           {
            "x": 4.222062775742295,
            "y": 0
           },
           {
            "x": 5.043660575620345,
            "y": 0
           },
           {
            "x": 0.8524206425686836,
            "y": 0
           },
           {
            "x": 4.591050119287275,
            "y": 0
           },
           {
            "x": 1.1172027680994816,
            "y": 0
           },
           {
            "x": -0.8068718346599373,
            "y": 0
           },
           {
            "x": 3.698606756639497,
            "y": 0
           },
           {
            "x": 4.315591693005171,
            "y": 0
           },
           {
            "x": 2.25426733543468,
            "y": 0
           },
           {
            "x": 3.9627046950702915,
            "y": 0
           },
           {
            "x": 7.457271160400687,
            "y": 0
           },
           {
            "x": 0.8739799420974257,
            "y": 0
           },
           {
            "x": 4.835710494858743,
            "y": 0
           },
           {
            "x": 3.265203640961329,
            "y": 0
           },
           {
            "x": 0.8752951000724196,
            "y": 0
           },
           {
            "x": 2.287269240442774,
            "y": 0
           },
           {
            "x": 1.8328102379222873,
            "y": 0
           },
           {
            "x": -0.6211350366581261,
            "y": 0
           },
           {
            "x": 3.439748789066464,
            "y": 0
           },
           {
            "x": 2.8442578080630643,
            "y": 0
           },
           {
            "x": 3.568412654695936,
            "y": 0
           },
           {
            "x": 2.1037020883081,
            "y": 0
           },
           {
            "x": 5.542854671834492,
            "y": 0
           },
           {
            "x": 2.8379567157113033,
            "y": 0
           },
           {
            "x": 2.2510836783975128,
            "y": 0
           },
           {
            "x": 1.5672713824654236,
            "y": 0
           },
           {
            "x": 3.6351127031932906,
            "y": 0
           },
           {
            "x": 2.2638729351353977,
            "y": 0
           },
           {
            "x": 4.203947578760104,
            "y": 0
           },
           {
            "x": 4.848024580313476,
            "y": 0
           },
           {
            "x": 0.840868586711162,
            "y": 0
           },
           {
            "x": 4.814549300087169,
            "y": 0
           },
           {
            "x": 2.207249779536288,
            "y": 0
           },
           {
            "x": 1.8670598726230458,
            "y": 0
           },
           {
            "x": -1.9363064481273504,
            "y": 0
           },
           {
            "x": 1.2520009402208132,
            "y": 0
           },
           {
            "x": 1.9267139079203344,
            "y": 0
           },
           {
            "x": 3.5255368339016657,
            "y": 0
           },
           {
            "x": 3.318731463754653,
            "y": 0
           },
           {
            "x": -0.2723837311949464,
            "y": 0
           },
           {
            "x": 6.1000666483739785,
            "y": 0
           },
           {
            "x": 1.599844618277829,
            "y": 0
           },
           {
            "x": 2.608457659728809,
            "y": 0
           },
           {
            "x": 0.9335984178620378,
            "y": 0
           },
           {
            "x": 1.0906589054944205,
            "y": 0
           },
           {
            "x": 3.576604905133512,
            "y": 0
           },
           {
            "x": 3.293543827136392,
            "y": 0
           },
           {
            "x": 2.463726509037544,
            "y": 0
           },
           {
            "x": 5.298936501617675,
            "y": 0
           },
           {
            "x": 2.364775872454073,
            "y": 0
           },
           {
            "x": -0.23670585870878025,
            "y": 0
           },
           {
            "x": 1.845050363129651,
            "y": 0
           },
           {
            "x": 2.418161902839983,
            "y": 0
           },
           {
            "x": 3.210258082027172,
            "y": 0
           },
           {
            "x": 2.9431965046212065,
            "y": 0
           },
           {
            "x": 6.99559826005909,
            "y": 0
           },
           {
            "x": 2.8384257824395243,
            "y": 0
           },
           {
            "x": 3.032078551354917,
            "y": 0
           },
           {
            "x": 0.15439657879157265,
            "y": 0
           },
           {
            "x": 2.016593376467276,
            "y": 0
           },
           {
            "x": 0.43043865196745745,
            "y": 0
           },
           {
            "x": 2.5376666193167137,
            "y": 0
           },
           {
            "x": 1.8578144550307623,
            "y": 0
           },
           {
            "x": 2.088103282642515,
            "y": 0
           },
           {
            "x": 2.5456665898789947,
            "y": 0
           },
           {
            "x": 5.670914479064848,
            "y": 0
           },
           {
            "x": 2.7322405514222496,
            "y": 0
           },
           {
            "x": 3.1199270146874776,
            "y": 0
           },
           {
            "x": 2.422874834277444,
            "y": 0
           },
           {
            "x": 0.8692638528215526,
            "y": 0
           },
           {
            "x": 0.44660795932687103,
            "y": 0
           },
           {
            "x": 3.0757457161554154,
            "y": 0
           },
           {
            "x": 3.6307990890355097,
            "y": 0
           },
           {
            "x": 2.355676949197113,
            "y": 0
           },
           {
            "x": 3.303638377656684,
            "y": 0
           },
           {
            "x": 1.8445090318988437,
            "y": 0
           },
           {
            "x": 2.557337759840411,
            "y": 0
           },
           {
            "x": 1.7992370716320047,
            "y": 0
           },
           {
            "x": 0.35158973630889223,
            "y": 0
           },
           {
            "x": 5.307927129246212,
            "y": 0
           },
           {
            "x": -0.3404603045642314,
            "y": 0
           },
           {
            "x": -1.2173220716327804,
            "y": 0
           },
           {
            "x": 1.9863503429264755,
            "y": 0
           },
           {
            "x": 3.5708955763745216,
            "y": 0
           },
           {
            "x": 2.3130323139745137,
            "y": 0
           },
           {
            "x": -0.44599715463760825,
            "y": 0
           },
           {
            "x": 4.3681064193120385,
            "y": 0
           },
           {
            "x": 4.147373705809316,
            "y": 0
           },
           {
            "x": 0.24859199916878572,
            "y": 0
           },
           {
            "x": 1.9934152957211138,
            "y": 0
           },
           {
            "x": 2.1117706805110905,
            "y": 0
           },
           {
            "x": 1.214780560854454,
            "y": 0
           },
           {
            "x": -1.3084967771895357,
            "y": 0
           },
           {
            "x": 5.031641470422837,
            "y": 0
           },
           {
            "x": 2.8009030621795303,
            "y": 0
           },
           {
            "x": -1.0815906617040811,
            "y": 0
           },
           {
            "x": 3.2875093479024433,
            "y": 0
           },
           {
            "x": 3.4767963498692915,
            "y": 0
           },
           {
            "x": 0.39150565625667166,
            "y": 0
           },
           {
            "x": 3.4434030774131523,
            "y": 0
           },
           {
            "x": 3.240728049161132,
            "y": 0
           },
           {
            "x": 0.23372489119734574,
            "y": 0
           },
           {
            "x": 5.205482308144913,
            "y": 0
           },
           {
            "x": -0.7813307867293329,
            "y": 0
           },
           {
            "x": 6.5773662386144025,
            "y": 0
           },
           {
            "x": 0.8432388378018225,
            "y": 0
           },
           {
            "x": 1.119710751780733,
            "y": 0
           },
           {
            "x": 2.913754516392668,
            "y": 0
           },
           {
            "x": 1.5039514673260708,
            "y": 0
           },
           {
            "x": 0.9305994197856213,
            "y": 0
           },
           {
            "x": 3.6718402735990336,
            "y": 0
           },
           {
            "x": 3.612463234871422,
            "y": 0
           },
           {
            "x": 4.5312625948248915,
            "y": 0
           },
           {
            "x": 2.309766988485505,
            "y": 0
           },
           {
            "x": 1.5270449209038952,
            "y": 0
           },
           {
            "x": 2.3351358118511327,
            "y": 0
           },
           {
            "x": 2.4686370872148453,
            "y": 0
           },
           {
            "x": 1.3089208135437012,
            "y": 0
           },
           {
            "x": 1.0755698414970256,
            "y": 0
           },
           {
            "x": 2.1682371634059088,
            "y": 0
           },
           {
            "x": 3.080877478086923,
            "y": 0
           },
           {
            "x": 4.948017266713631,
            "y": 0
           },
           {
            "x": 3.4914611181158937,
            "y": 0
           },
           {
            "x": 2.0455988786166,
            "y": 0
           },
           {
            "x": 4.281523617693191,
            "y": 0
           },
           {
            "x": 2.3031822763451397,
            "y": 0
           },
           {
            "x": 3.936691112355958,
            "y": 0
           },
           {
            "x": 1.7219430844315884,
            "y": 0
           },
           {
            "x": 2.4756938001561863,
            "y": 0
           },
           {
            "x": -2.1460329770491127,
            "y": 0
           },
           {
            "x": 4.986506866582717,
            "y": 0
           },
           {
            "x": 1.938775282989021,
            "y": 0
           },
           {
            "x": -0.44891115000684634,
            "y": 0
           },
           {
            "x": 3.536552027880817,
            "y": 0
           },
           {
            "x": 2.4140120816836217,
            "y": 0
           },
           {
            "x": 4.871118228493685,
            "y": 0
           },
           {
            "x": -1.5580472679551622,
            "y": 0
           },
           {
            "x": 0.09932333726331333,
            "y": 0
           },
           {
            "x": 2.457509634804776,
            "y": 0
           },
           {
            "x": 4.123153560446965,
            "y": 0
           },
           {
            "x": 0.21144300526683368,
            "y": 0
           },
           {
            "x": 3.099220772750483,
            "y": 0
           },
           {
            "x": 0.10172381475838543,
            "y": 0
           },
           {
            "x": 2.1705416011975243,
            "y": 0
           },
           {
            "x": 4.887113040627691,
            "y": 0
           },
           {
            "x": 2.230706093327117,
            "y": 0
           },
           {
            "x": 0.6809878992302656,
            "y": 0
           },
           {
            "x": 3.05219504550069,
            "y": 0
           },
           {
            "x": 1.4559672232596144,
            "y": 0
           },
           {
            "x": 2.8420974317640657,
            "y": 0
           },
           {
            "x": 3.6161181915054774,
            "y": 0
           },
           {
            "x": 1.6658058290552487,
            "y": 0
           },
           {
            "x": -1.7400818120077686,
            "y": 0
           },
           {
            "x": -1.7203274923932472,
            "y": 0
           },
           {
            "x": 2.715549235868193,
            "y": 0
           },
           {
            "x": 3.503581528416798,
            "y": 0
           },
           {
            "x": 2.2369900067667055,
            "y": 0
           },
           {
            "x": 3.0671019003419193,
            "y": 0
           },
           {
            "x": 1.343891233389021,
            "y": 0
           },
           {
            "x": 1.9622277474459802,
            "y": 0
           },
           {
            "x": 5.075260893346048,
            "y": 0
           },
           {
            "x": 4.632251661759234,
            "y": 0
           },
           {
            "x": 2.7606195339251682,
            "y": 0
           },
           {
            "x": 3.381039475620231,
            "y": 0
           },
           {
            "x": 1.5830232091900958,
            "y": 0
           },
           {
            "x": 1.1325679654984033,
            "y": 0
           },
           {
            "x": 4.926383106927686,
            "y": 0
           },
           {
            "x": 5.731551820015672,
            "y": 0
           },
           {
            "x": 4.962281027625664,
            "y": 0
           },
           {
            "x": 4.3209160834865,
            "y": 0
           },
           {
            "x": -0.4951064086282595,
            "y": 0
           },
           {
            "x": 4.041886193477516,
            "y": 0
           },
           {
            "x": -2.500850831370414,
            "y": 0
           },
           {
            "x": 4.274168169221544,
            "y": 0
           },
           {
            "x": 3.5043994564197742,
            "y": 0
           },
           {
            "x": 0.9960010338766181,
            "y": 0
           },
           {
            "x": -0.024505109929978452,
            "y": 0
           },
           {
            "x": 2.476409940270858,
            "y": 0
           },
           {
            "x": 2.8785423930271605,
            "y": 0
           },
           {
            "x": 1.0478140228361532,
            "y": 0
           },
           {
            "x": 0.7549805885093088,
            "y": 0
           },
           {
            "x": -0.368653916303491,
            "y": 0
           },
           {
            "x": 2.6423825088679633,
            "y": 0
           },
           {
            "x": 2.6367093377141506,
            "y": 0
           },
           {
            "x": 3.6866262457843604,
            "y": 0
           },
           {
            "x": 2.82233564707927,
            "y": 0
           },
           {
            "x": 2.7561490206923795,
            "y": 0
           },
           {
            "x": 2.1027730010781154,
            "y": 0
           },
           {
            "x": 2.455168023217745,
            "y": 0
           },
           {
            "x": 6.459689199487323,
            "y": 0
           },
           {
            "x": 4.396792091346704,
            "y": 0
           }
          ]
         },
         "encoding": {
          "x": {
           "field": "x",
           "type": "quantitative"
          },
          "y": {
           "field": "y",
           "type": "quantitative"
          }
         },
         "mark": {
          "opacity": 0.4,
          "size": 20,
          "type": "point"
         }
        }
       ]
      },
      "image/png": "[encoded data removed]",
      "text/plain": [
       "<VegaLite 2 object>\n",
       "\n",
       "If you see this message, it means the renderer has not been properly enabled\n",
       "for the frontend that you are using. For more information, see\n",
       "https://altair-viz.github.io/user_guide/troubleshooting.html\n"
      ]
     },
     "execution_count": 198,
     "metadata": {},
     "output_type": "execute_result"
    }
   ],
   "source": [
    "mu, sigma = 2.5, 2 # mean and standard deviation\n",
    "N = 300\n",
    "nbins = 10\n",
    "s = [o for o in np.random.normal(mu, sigma, size=N)]\n",
    "\n",
    "values, bins = np.histogram(s, bins=np.arange(-3, nbins + 1))\n",
    "\n",
    "dt = make_altair_object(bins, values)\n",
    "\n",
    "c1 = make_bar_chart(size=10, opacity=.2, data=dt)\n",
    "\n",
    "dt = make_altair_object(s, np.zeros(len(s)))\n",
    "\n",
    "c2 = alt.Chart(dt).mark_point(size=20, opacity=.4).encode(\n",
    "        x='x:Q',  # specify ordinal data\n",
    "        y='y:Q',  # specify quantitative data\n",
    "    )\n",
    "\n",
    "c1 + c2"
   ]
  },
  {
   "cell_type": "markdown",
   "metadata": {},
   "source": [
    "If we remove the bars and plot $x_i^2$ for each datapoint $x_i$ as black dots, we have a line of black dots along the curve of $X^2$."
   ]
  },
  {
   "cell_type": "code",
   "execution_count": 203,
   "metadata": {},
   "outputs": [
    {
     "data": {
      "application/vnd.vegalite.v2+json": {
       "$schema": "https://vega.github.io/schema/vega-lite/v2.6.0.json",
       "config": {
        "view": {
         "height": 300,
         "width": 400
        }
       },
       "layer": [
        {
         "data": {
          "values": [
           {
            "x": 3.59042346944787,
            "y": 0
           },
           {
            "x": 3.59042346944787,
            "y": 12.891140689962079
           }
          ]
         },
         "encoding": {
          "x": {
           "field": "x",
           "type": "quantitative"
          },
          "y": {
           "field": "y",
           "type": "quantitative"
          }
         },
         "mark": {
          "opacity": 0.4,
          "type": "line"
         }
        },
        {
         "data": {
          "values": [
           {
            "x": 0.5496466908728286,
            "y": 0
           },
           {
            "x": 0.5496466908728286,
            "y": 0.30211148478745076
           }
          ]
         },
         "encoding": {
          "x": {
           "field": "x",
           "type": "quantitative"
          },
          "y": {
           "field": "y",
           "type": "quantitative"
          }
         },
         "mark": {
          "opacity": 0.4,
          "type": "line"
         }
        },
        {
         "data": {
          "values": [
           {
            "x": 2.7084553751035374,
            "y": 0
           },
           {
            "x": 2.7084553751035374,
            "y": 7.335730518927243
           }
          ]
         },
         "encoding": {
          "x": {
           "field": "x",
           "type": "quantitative"
          },
          "y": {
           "field": "y",
           "type": "quantitative"
          }
         },
         "mark": {
          "opacity": 0.4,
          "type": "line"
         }
        },
        {
         "data": {
          "values": [
           {
            "x": 2.4005424483626285,
            "y": 0
           },
           {
            "x": 2.4005424483626285,
            "y": 5.762604046390843
           }
          ]
         },
         "encoding": {
          "x": {
           "field": "x",
           "type": "quantitative"
          },
          "y": {
           "field": "y",
           "type": "quantitative"
          }
         },
         "mark": {
          "opacity": 0.4,
          "type": "line"
         }
        },
        {
         "data": {
          "values": [
           {
            "x": 0.20949398704433353,
            "y": 0
           },
           {
            "x": 0.20949398704433353,
            "y": 0.043887730607731386
           }
          ]
         },
         "encoding": {
          "x": {
           "field": "x",
           "type": "quantitative"
          },
          "y": {
           "field": "y",
           "type": "quantitative"
          }
         },
         "mark": {
          "opacity": 0.4,
          "type": "line"
         }
        },
        {
         "data": {
          "values": [
           {
            "x": 0.5876806695799797,
            "y": 0
           },
           {
            "x": 0.5876806695799797,
            "y": 0.3453685693979732
           }
          ]
         },
         "encoding": {
          "x": {
           "field": "x",
           "type": "quantitative"
          },
          "y": {
           "field": "y",
           "type": "quantitative"
          }
         },
         "mark": {
          "opacity": 0.4,
          "type": "line"
         }
        },
        {
         "data": {
          "values": [
           {
            "x": 2.086157119488289,
            "y": 0
           },
           {
            "x": 2.086157119488289,
            "y": 4.3520515271916755
           }
          ]
         },
         "encoding": {
          "x": {
           "field": "x",
           "type": "quantitative"
          },
          "y": {
           "field": "y",
           "type": "quantitative"
          }
         },
         "mark": {
          "opacity": 0.4,
          "type": "line"
         }
        },
        {
         "data": {
          "values": [
           {
            "x": 2.5605589278793697,
            "y": 0
           },
           {
            "x": 2.5605589278793697,
            "y": 6.556462023142747
           }
          ]
         },
         "encoding": {
          "x": {
           "field": "x",
           "type": "quantitative"
          },
          "y": {
           "field": "y",
           "type": "quantitative"
          }
         },
         "mark": {
          "opacity": 0.4,
          "type": "line"
         }
        },
        {
         "data": {
          "values": [
           {
            "x": 3.944041882095182,
            "y": 0
           },
           {
            "x": 3.944041882095182,
            "y": 15.555466367720907
           }
          ]
         },
         "encoding": {
          "x": {
           "field": "x",
           "type": "quantitative"
          },
          "y": {
           "field": "y",
           "type": "quantitative"
          }
         },
         "mark": {
          "opacity": 0.4,
          "type": "line"
         }
        },
        {
         "data": {
          "values": [
           {
            "x": -0.7738193601722578,
            "y": 0
           },
           {
            "x": -0.7738193601722578,
            "y": 0.5987964021774025
           }
          ]
         },
         "encoding": {
          "x": {
           "field": "x",
           "type": "quantitative"
          },
          "y": {
           "field": "y",
           "type": "quantitative"
          }
         },
         "mark": {
          "opacity": 0.4,
          "type": "line"
         }
        },
        {
         "data": {
          "values": [
           {
            "x": 1.6826435913661606,
            "y": 0
           },
           {
            "x": 1.6826435913661606,
            "y": 2.831289455565611
           }
          ]
         },
         "encoding": {
          "x": {
           "field": "x",
           "type": "quantitative"
          },
          "y": {
           "field": "y",
           "type": "quantitative"
          }
         },
         "mark": {
          "opacity": 0.4,
          "type": "line"
         }
        },
        {
         "data": {
          "values": [
           {
            "x": -0.24231327883810794,
            "y": 0
           },
           {
            "x": -0.24231327883810794,
            "y": 0.058715725101274645
           }
          ]
         },
         "encoding": {
          "x": {
           "field": "x",
           "type": "quantitative"
          },
          "y": {
           "field": "y",
           "type": "quantitative"
          }
         },
         "mark": {
          "opacity": 0.4,
          "type": "line"
         }
        },
        {
         "data": {
          "values": [
           {
            "x": 1.0200908525723127,
            "y": 0
           },
           {
            "x": 1.0200908525723127,
            "y": 1.0405853475017077
           }
          ]
         },
         "encoding": {
          "x": {
           "field": "x",
           "type": "quantitative"
          },
          "y": {
           "field": "y",
           "type": "quantitative"
          }
         },
         "mark": {
          "opacity": 0.4,
          "type": "line"
         }
        },
        {
         "data": {
          "values": [
           {
            "x": 0.549993631832463,
            "y": 0
           },
           {
            "x": 0.549993631832463,
            "y": 0.3024929950562628
           }
          ]
         },
         "encoding": {
          "x": {
           "field": "x",
           "type": "quantitative"
          },
          "y": {
           "field": "y",
           "type": "quantitative"
          }
         },
         "mark": {
          "opacity": 0.4,
          "type": "line"
         }
        },
        {
         "data": {
          "values": [
           {
            "x": 7.687192852839408,
            "y": 0
           },
           {
            "x": 7.687192852839408,
            "y": 59.09293395674527
           }
          ]
         },
         "encoding": {
          "x": {
           "field": "x",
           "type": "quantitative"
          },
          "y": {
           "field": "y",
           "type": "quantitative"
          }
         },
         "mark": {
          "opacity": 0.4,
          "type": "line"
         }
        },
        {
         "data": {
          "values": [
           {
            "x": 5.520394082134787,
            "y": 0
           },
           {
            "x": 5.520394082134787,
            "y": 30.47475082206878
           }
          ]
         },
         "encoding": {
          "x": {
           "field": "x",
           "type": "quantitative"
          },
          "y": {
           "field": "y",
           "type": "quantitative"
          }
         },
         "mark": {
          "opacity": 0.4,
          "type": "line"
         }
        },
        {
         "data": {
          "values": [
           {
            "x": 1.3033804454206868,
            "y": 0
           },
           {
            "x": 1.3033804454206868,
            "y": 1.6988005855050279
           }
          ]
         },
         "encoding": {
          "x": {
           "field": "x",
           "type": "quantitative"
          },
          "y": {
           "field": "y",
           "type": "quantitative"
          }
         },
         "mark": {
          "opacity": 0.4,
          "type": "line"
         }
        },
        {
         "data": {
          "values": [
           {
            "x": 0.9770502605283298,
            "y": 0
           },
           {
            "x": 0.9770502605283298,
            "y": 0.9546272115984771
           }
          ]
         },
         "encoding": {
          "x": {
           "field": "x",
           "type": "quantitative"
          },
          "y": {
           "field": "y",
           "type": "quantitative"
          }
         },
         "mark": {
          "opacity": 0.4,
          "type": "line"
         }
        },
        {
         "data": {
          "values": [
           {
            "x": 4.533794189797913,
            "y": 0
           },
           {
            "x": 4.533794189797913,
            "y": 20.555289755445312
           }
          ]
         },
         "encoding": {
          "x": {
           "field": "x",
           "type": "quantitative"
          },
          "y": {
           "field": "y",
           "type": "quantitative"
          }
         },
         "mark": {
          "opacity": 0.4,
          "type": "line"
         }
        },
        {
         "data": {
          "values": [
           {
            "x": -1.3250925106809586,
            "y": 0
           },
           {
            "x": -1.3250925106809586,
            "y": 1.7558701618627663
           }
          ]
         },
         "encoding": {
          "x": {
           "field": "x",
           "type": "quantitative"
          },
          "y": {
           "field": "y",
           "type": "quantitative"
          }
         },
         "mark": {
          "opacity": 0.4,
          "type": "line"
         }
        },
        {
         "data": {
          "values": [
           {
            "x": 4.554813606584099,
            "y": 0
           },
           {
            "x": 4.554813606584099,
            "y": 20.746326990723645
           }
          ]
         },
         "encoding": {
          "x": {
           "field": "x",
           "type": "quantitative"
          },
          "y": {
           "field": "y",
           "type": "quantitative"
          }
         },
         "mark": {
          "opacity": 0.4,
          "type": "line"
         }
        },
        {
         "data": {
          "values": [
           {
            "x": -0.5281112879376901,
            "y": 0
           },
           {
            "x": -0.5281112879376901,
            "y": 0.27890153244720584
           }
          ]
         },
         "encoding": {
          "x": {
           "field": "x",
           "type": "quantitative"
          },
          "y": {
           "field": "y",
           "type": "quantitative"
          }
         },
         "mark": {
          "opacity": 0.4,
          "type": "line"
         }
        },
        {
         "data": {
          "values": [
           {
            "x": -0.47297692688165416,
            "y": 0
           },
           {
            "x": -0.47297692688165416,
            "y": 0.22370717336241364
           }
          ]
         },
         "encoding": {
          "x": {
           "field": "x",
           "type": "quantitative"
          },
          "y": {
           "field": "y",
           "type": "quantitative"
          }
         },
         "mark": {
          "opacity": 0.4,
          "type": "line"
         }
        },
        {
         "data": {
          "values": [
           {
            "x": 2.057717922387394,
            "y": 0
           },
           {
            "x": 2.057717922387394,
            "y": 4.234203048114292
           }
          ]
         },
         "encoding": {
          "x": {
           "field": "x",
           "type": "quantitative"
          },
          "y": {
           "field": "y",
           "type": "quantitative"
          }
         },
         "mark": {
          "opacity": 0.4,
          "type": "line"
         }
        },
        {
         "data": {
          "values": [
           {
            "x": 2.9033171041392425,
            "y": 0
           },
           {
            "x": 2.9033171041392425,
            "y": 8.429250207187478
           }
          ]
         },
         "encoding": {
          "x": {
           "field": "x",
           "type": "quantitative"
          },
          "y": {
           "field": "y",
           "type": "quantitative"
          }
         },
         "mark": {
          "opacity": 0.4,
          "type": "line"
         }
        },
        {
         "data": {
          "values": [
           {
            "x": 1.3336711256584448,
            "y": 0
           },
           {
            "x": 1.3336711256584448,
            "y": 1.7786786714150633
           }
          ]
         },
         "encoding": {
          "x": {
           "field": "x",
           "type": "quantitative"
          },
          "y": {
           "field": "y",
           "type": "quantitative"
          }
         },
         "mark": {
          "opacity": 0.4,
          "type": "line"
         }
        },
        {
         "data": {
          "values": [
           {
            "x": 2.1106971972586566,
            "y": 0
           },
           {
            "x": 2.1106971972586566,
            "y": 4.4550426585155485
           }
          ]
         },
         "encoding": {
          "x": {
           "field": "x",
           "type": "quantitative"
          },
          "y": {
           "field": "y",
           "type": "quantitative"
          }
         },
         "mark": {
          "opacity": 0.4,
          "type": "line"
         }
        },
        {
         "data": {
          "values": [
           {
            "x": 2.6199987792725854,
            "y": 0
           },
           {
            "x": 2.6199987792725854,
            "y": 6.864393603389837
           }
          ]
         },
         "encoding": {
          "x": {
           "field": "x",
           "type": "quantitative"
          },
          "y": {
           "field": "y",
           "type": "quantitative"
          }
         },
         "mark": {
          "opacity": 0.4,
          "type": "line"
         }
        },
        {
         "data": {
          "values": [
           {
            "x": 0.9886302289344346,
            "y": 0
           },
           {
            "x": 0.9886302289344346,
            "y": 0.9773897295629527
           }
          ]
         },
         "encoding": {
          "x": {
           "field": "x",
           "type": "quantitative"
          },
          "y": {
           "field": "y",
           "type": "quantitative"
          }
         },
         "mark": {
          "opacity": 0.4,
          "type": "line"
         }
        },
        {
         "data": {
          "values": [
           {
            "x": 6.992254033597893,
            "y": 0
           },
           {
            "x": 6.992254033597893,
            "y": 48.89161647036601
           }
          ]
         },
         "encoding": {
          "x": {
           "field": "x",
           "type": "quantitative"
          },
          "y": {
           "field": "y",
           "type": "quantitative"
          }
         },
         "mark": {
          "opacity": 0.4,
          "type": "line"
         }
        },
        {
         "data": {
          "values": [
           {
            "x": 1.955274644709375,
            "y": 0
           },
           {
            "x": 1.955274644709375,
            "y": 3.8230989362433725
           }
          ]
         },
         "encoding": {
          "x": {
           "field": "x",
           "type": "quantitative"
          },
          "y": {
           "field": "y",
           "type": "quantitative"
          }
         },
         "mark": {
          "opacity": 0.4,
          "type": "line"
         }
        },
        {
         "data": {
          "values": [
           {
            "x": 2.1891434661219713,
            "y": 0
           },
           {
            "x": 2.1891434661219713,
            "y": 4.792349115264519
           }
          ]
         },
         "encoding": {
          "x": {
           "field": "x",
           "type": "quantitative"
          },
          "y": {
           "field": "y",
           "type": "quantitative"
          }
         },
         "mark": {
          "opacity": 0.4,
          "type": "line"
         }
        },
        {
         "data": {
          "values": [
           {
            "x": 3.4496514528052873,
            "y": 0
           },
           {
            "x": 3.4496514528052873,
            "y": 11.900095145841629
           }
          ]
         },
         "encoding": {
          "x": {
           "field": "x",
           "type": "quantitative"
          },
          "y": {
           "field": "y",
           "type": "quantitative"
          }
         },
         "mark": {
          "opacity": 0.4,
          "type": "line"
         }
        },
        {
         "data": {
          "values": [
           {
            "x": 5.551697634369207,
            "y": 0
           },
           {
            "x": 5.551697634369207,
            "y": 30.82134662346065
           }
          ]
         },
         "encoding": {
          "x": {
           "field": "x",
           "type": "quantitative"
          },
          "y": {
           "field": "y",
           "type": "quantitative"
          }
         },
         "mark": {
          "opacity": 0.4,
          "type": "line"
         }
        },
        {
         "data": {
          "values": [
           {
            "x": 0.11537026883941559,
            "y": 0
           },
           {
            "x": 0.11537026883941559,
            "y": 0.013310298932079028
           }
          ]
         },
         "encoding": {
          "x": {
           "field": "x",
           "type": "quantitative"
          },
          "y": {
           "field": "y",
           "type": "quantitative"
          }
         },
         "mark": {
          "opacity": 0.4,
          "type": "line"
         }
        },
        {
         "data": {
          "values": [
           {
            "x": -0.7397153725208381,
            "y": 0
           },
           {
            "x": -0.7397153725208381,
            "y": 0.5471788323436423
           }
          ]
         },
         "encoding": {
          "x": {
           "field": "x",
           "type": "quantitative"
          },
          "y": {
           "field": "y",
           "type": "quantitative"
          }
         },
         "mark": {
          "opacity": 0.4,
          "type": "line"
         }
        },
        {
         "data": {
          "values": [
           {
            "x": 3.8151728734536166,
            "y": 0
           },
           {
            "x": 3.8151728734536166,
            "y": 14.555544054336325
           }
          ]
         },
         "encoding": {
          "x": {
           "field": "x",
           "type": "quantitative"
          },
          "y": {
           "field": "y",
           "type": "quantitative"
          }
         },
         "mark": {
          "opacity": 0.4,
          "type": "line"
         }
        },
        {
         "data": {
          "values": [
           {
            "x": 3.6674596652694875,
            "y": 0
           },
           {
            "x": 3.6674596652694875,
            "y": 13.450260396378582
           }
          ]
         },
         "encoding": {
          "x": {
           "field": "x",
           "type": "quantitative"
          },
          "y": {
           "field": "y",
           "type": "quantitative"
          }
         },
         "mark": {
          "opacity": 0.4,
          "type": "line"
         }
        },
        {
         "data": {
          "values": [
           {
            "x": 0.8479077915356596,
            "y": 0
           },
           {
            "x": 0.8479077915356596,
            "y": 0.7189476229468796
           }
          ]
         },
         "encoding": {
          "x": {
           "field": "x",
           "type": "quantitative"
          },
          "y": {
           "field": "y",
           "type": "quantitative"
          }
         },
         "mark": {
          "opacity": 0.4,
          "type": "line"
         }
        },
        {
         "data": {
          "values": [
           {
            "x": 0.6508611554478336,
            "y": 0
           },
           {
            "x": 0.6508611554478336,
            "y": 0.4236202436708891
           }
          ]
         },
         "encoding": {
          "x": {
           "field": "x",
           "type": "quantitative"
          },
          "y": {
           "field": "y",
           "type": "quantitative"
          }
         },
         "mark": {
          "opacity": 0.4,
          "type": "line"
         }
        },
        {
         "data": {
          "values": [
           {
            "x": 0.08044410761069809,
            "y": 0
           },
           {
            "x": 0.08044410761069809,
            "y": 0.006471254449281575
           }
          ]
         },
         "encoding": {
          "x": {
           "field": "x",
           "type": "quantitative"
          },
          "y": {
           "field": "y",
           "type": "quantitative"
          }
         },
         "mark": {
          "opacity": 0.4,
          "type": "line"
         }
        },
        {
         "data": {
          "values": [
           {
            "x": 4.502404484740793,
            "y": 0
           },
           {
            "x": 4.502404484740793,
            "y": 20.271646144214003
           }
          ]
         },
         "encoding": {
          "x": {
           "field": "x",
           "type": "quantitative"
          },
          "y": {
           "field": "y",
           "type": "quantitative"
          }
         },
         "mark": {
          "opacity": 0.4,
          "type": "line"
         }
        },
        {
         "data": {
          "values": [
           {
            "x": -0.30933250854909566,
            "y": 0
           },
           {
            "x": -0.30933250854909566,
            "y": 0.09568660084527635
           }
          ]
         },
         "encoding": {
          "x": {
           "field": "x",
           "type": "quantitative"
          },
          "y": {
           "field": "y",
           "type": "quantitative"
          }
         },
         "mark": {
          "opacity": 0.4,
          "type": "line"
         }
        },
        {
         "data": {
          "values": [
           {
            "x": 4.094410044750791,
            "y": 0
           },
           {
            "x": 4.094410044750791,
            "y": 16.764193614556177
           }
          ]
         },
         "encoding": {
          "x": {
           "field": "x",
           "type": "quantitative"
          },
          "y": {
           "field": "y",
           "type": "quantitative"
          }
         },
         "mark": {
          "opacity": 0.4,
          "type": "line"
         }
        },
        {
         "data": {
          "values": [
           {
            "x": 3.8885745220933923,
            "y": 0
           },
           {
            "x": 3.8885745220933923,
            "y": 15.121011813873855
           }
          ]
         },
         "encoding": {
          "x": {
           "field": "x",
           "type": "quantitative"
          },
          "y": {
           "field": "y",
           "type": "quantitative"
          }
         },
         "mark": {
          "opacity": 0.4,
          "type": "line"
         }
        },
        {
         "data": {
          "values": [
           {
            "x": 3.1487717732215605,
            "y": 0
           },
           {
            "x": 3.1487717732215605,
            "y": 9.91476367983685
           }
          ]
         },
         "encoding": {
          "x": {
           "field": "x",
           "type": "quantitative"
          },
          "y": {
           "field": "y",
           "type": "quantitative"
          }
         },
         "mark": {
          "opacity": 0.4,
          "type": "line"
         }
        },
        {
         "data": {
          "values": [
           {
            "x": 1.8340635259128464,
            "y": 0
           },
           {
            "x": 1.8340635259128464,
            "y": 3.363789017083862
           }
          ]
         },
         "encoding": {
          "x": {
           "field": "x",
           "type": "quantitative"
          },
          "y": {
           "field": "y",
           "type": "quantitative"
          }
         },
         "mark": {
          "opacity": 0.4,
          "type": "line"
         }
        },
        {
         "data": {
          "values": [
           {
            "x": 3.4914882405618135,
            "y": 0
           },
           {
            "x": 3.4914882405618135,
            "y": 12.190490133981427
           }
          ]
         },
         "encoding": {
          "x": {
           "field": "x",
           "type": "quantitative"
          },
          "y": {
           "field": "y",
           "type": "quantitative"
          }
         },
         "mark": {
          "opacity": 0.4,
          "type": "line"
         }
        },
        {
         "data": {
          "values": [
           {
            "x": -0.11313633089179564,
            "y": 0
           },
           {
            "x": -0.11313633089179564,
            "y": 0.012799829367657873
           }
          ]
         },
         "encoding": {
          "x": {
           "field": "x",
           "type": "quantitative"
          },
          "y": {
           "field": "y",
           "type": "quantitative"
          }
         },
         "mark": {
          "opacity": 0.4,
          "type": "line"
         }
        },
        {
         "data": {
          "values": [
           {
            "x": 2.0626055722324788,
            "y": 0
           },
           {
            "x": 2.0626055722324788,
            "y": 4.254341746604471
           }
          ]
         },
         "encoding": {
          "x": {
           "field": "x",
           "type": "quantitative"
          },
          "y": {
           "field": "y",
           "type": "quantitative"
          }
         },
         "mark": {
          "opacity": 0.4,
          "type": "line"
         }
        },
        {
         "data": {
          "values": [
           {
            "x": 3.397891222985592,
            "y": 0
           },
           {
            "x": 3.397891222985592,
            "y": 11.545664763242524
           }
          ]
         },
         "encoding": {
          "x": {
           "field": "x",
           "type": "quantitative"
          },
          "y": {
           "field": "y",
           "type": "quantitative"
          }
         },
         "mark": {
          "opacity": 0.4,
          "type": "line"
         }
        },
        {
         "data": {
          "values": [
           {
            "x": 0.9359746339541126,
            "y": 0
           },
           {
            "x": 0.9359746339541126,
            "y": 0.8760485154055351
           }
          ]
         },
         "encoding": {
          "x": {
           "field": "x",
           "type": "quantitative"
          },
          "y": {
           "field": "y",
           "type": "quantitative"
          }
         },
         "mark": {
          "opacity": 0.4,
          "type": "line"
         }
        },
        {
         "data": {
          "values": [
           {
            "x": -0.2762474550442646,
            "y": 0
           },
           {
            "x": -0.2762474550442646,
            "y": 0.076312656418433
           }
          ]
         },
         "encoding": {
          "x": {
           "field": "x",
           "type": "quantitative"
          },
          "y": {
           "field": "y",
           "type": "quantitative"
          }
         },
         "mark": {
          "opacity": 0.4,
          "type": "line"
         }
        },
        {
         "data": {
          "values": [
           {
            "x": 3.566016350296505,
            "y": 0
           },
           {
            "x": 3.566016350296505,
            "y": 12.716472610582006
           }
          ]
         },
         "encoding": {
          "x": {
           "field": "x",
           "type": "quantitative"
          },
          "y": {
           "field": "y",
           "type": "quantitative"
          }
         },
         "mark": {
          "opacity": 0.4,
          "type": "line"
         }
        },
        {
         "data": {
          "values": [
           {
            "x": 2.7946428970536448,
            "y": 0
           },
           {
            "x": 2.7946428970536448,
            "y": 7.810028922052388
           }
          ]
         },
         "encoding": {
          "x": {
           "field": "x",
           "type": "quantitative"
          },
          "y": {
           "field": "y",
           "type": "quantitative"
          }
         },
         "mark": {
          "opacity": 0.4,
          "type": "line"
         }
        },
        {
         "data": {
          "values": [
           {
            "x": 2.5069136532426888,
            "y": 0
           },
           {
            "x": 2.5069136532426888,
            "y": 6.284616064814604
           }
          ]
         },
         "encoding": {
          "x": {
           "field": "x",
           "type": "quantitative"
          },
          "y": {
           "field": "y",
           "type": "quantitative"
          }
         },
         "mark": {
          "opacity": 0.4,
          "type": "line"
         }
        },
        {
         "data": {
          "values": [
           {
            "x": 4.213768035288159,
            "y": 0
           },
           {
            "x": 4.213768035288159,
            "y": 17.75584105521623
           }
          ]
         },
         "encoding": {
          "x": {
           "field": "x",
           "type": "quantitative"
          },
          "y": {
           "field": "y",
           "type": "quantitative"
          }
         },
         "mark": {
          "opacity": 0.4,
          "type": "line"
         }
        },
        {
         "data": {
          "values": [
           {
            "x": 5.026304081448215,
            "y": 0
           },
           {
            "x": 5.026304081448215,
            "y": 25.263732719182983
           }
          ]
         },
         "encoding": {
          "x": {
           "field": "x",
           "type": "quantitative"
          },
          "y": {
           "field": "y",
           "type": "quantitative"
          }
         },
         "mark": {
          "opacity": 0.4,
          "type": "line"
         }
        },
        {
         "data": {
          "values": [
           {
            "x": 2.512865209713169,
            "y": 0
           },
           {
            "x": 2.512865209713169,
            "y": 6.314491562186809
           }
          ]
         },
         "encoding": {
          "x": {
           "field": "x",
           "type": "quantitative"
          },
          "y": {
           "field": "y",
           "type": "quantitative"
          }
         },
         "mark": {
          "opacity": 0.4,
          "type": "line"
         }
        },
        {
         "data": {
          "values": [
           {
            "x": 1.4310990150326093,
            "y": 0
           },
           {
            "x": 1.4310990150326093,
            "y": 2.0480443908273043
           }
          ]
         },
         "encoding": {
          "x": {
           "field": "x",
           "type": "quantitative"
          },
          "y": {
           "field": "y",
           "type": "quantitative"
          }
         },
         "mark": {
          "opacity": 0.4,
          "type": "line"
         }
        },
        {
         "data": {
          "values": [
           {
            "x": 0.8532258424729813,
            "y": 0
           },
           {
            "x": 0.8532258424729813,
            "y": 0.7279943382637286
           }
          ]
         },
         "encoding": {
          "x": {
           "field": "x",
           "type": "quantitative"
          },
          "y": {
           "field": "y",
           "type": "quantitative"
          }
         },
         "mark": {
          "opacity": 0.4,
          "type": "line"
         }
        },
        {
         "data": {
          "values": [
           {
            "x": 2.800942449173451,
            "y": 0
           },
           {
            "x": 2.800942449173451,
            "y": 7.84527860358177
           }
          ]
         },
         "encoding": {
          "x": {
           "field": "x",
           "type": "quantitative"
          },
          "y": {
           "field": "y",
           "type": "quantitative"
          }
         },
         "mark": {
          "opacity": 0.4,
          "type": "line"
         }
        },
        {
         "data": {
          "values": [
           {
            "x": 1.969861140302123,
            "y": 0
           },
           {
            "x": 1.969861140302123,
            "y": 3.88035291207238
           }
          ]
         },
         "encoding": {
          "x": {
           "field": "x",
           "type": "quantitative"
          },
          "y": {
           "field": "y",
           "type": "quantitative"
          }
         },
         "mark": {
          "opacity": 0.4,
          "type": "line"
         }
        },
        {
         "data": {
          "values": [
           {
            "x": 3.467560656937549,
            "y": 0
           },
           {
            "x": 3.467560656937549,
            "y": 12.023976909541167
           }
          ]
         },
         "encoding": {
          "x": {
           "field": "x",
           "type": "quantitative"
          },
          "y": {
           "field": "y",
           "type": "quantitative"
          }
         },
         "mark": {
          "opacity": 0.4,
          "type": "line"
         }
        },
        {
         "data": {
          "values": [
           {
            "x": 5.454771447567515,
            "y": 0
           },
           {
            "x": 5.454771447567515,
            "y": 29.7545315451978
           }
          ]
         },
         "encoding": {
          "x": {
           "field": "x",
           "type": "quantitative"
          },
          "y": {
           "field": "y",
           "type": "quantitative"
          }
         },
         "mark": {
          "opacity": 0.4,
          "type": "line"
         }
        },
        {
         "data": {
          "values": [
           {
            "x": 4.374360848400695,
            "y": 0
           },
           {
            "x": 4.374360848400695,
            "y": 19.135032832020848
           }
          ]
         },
         "encoding": {
          "x": {
           "field": "x",
           "type": "quantitative"
          },
          "y": {
           "field": "y",
           "type": "quantitative"
          }
         },
         "mark": {
          "opacity": 0.4,
          "type": "line"
         }
        },
        {
         "data": {
          "values": [
           {
            "x": 1.075956044917557,
            "y": 0
           },
           {
            "x": 1.075956044917557,
            "y": 1.1576814105946318
           }
          ]
         },
         "encoding": {
          "x": {
           "field": "x",
           "type": "quantitative"
          },
          "y": {
           "field": "y",
           "type": "quantitative"
          }
         },
         "mark": {
          "opacity": 0.4,
          "type": "line"
         }
        },
        {
         "data": {
          "values": [
           {
            "x": 3.791054816843885,
            "y": 0
           },
           {
            "x": 3.791054816843885,
            "y": 14.37209662431522
           }
          ]
         },
         "encoding": {
          "x": {
           "field": "x",
           "type": "quantitative"
          },
          "y": {
           "field": "y",
           "type": "quantitative"
          }
         },
         "mark": {
          "opacity": 0.4,
          "type": "line"
         }
        },
        {
         "data": {
          "values": [
           {
            "x": 3.158336047689044,
            "y": 0
           },
           {
            "x": 3.158336047689044,
            "y": 9.975086590132051
           }
          ]
         },
         "encoding": {
          "x": {
           "field": "x",
           "type": "quantitative"
          },
          "y": {
           "field": "y",
           "type": "quantitative"
          }
         },
         "mark": {
          "opacity": 0.4,
          "type": "line"
         }
        },
        {
         "data": {
          "values": [
           {
            "x": 3.8606338788865746,
            "y": 0
           },
           {
            "x": 3.8606338788865746,
            "y": 14.904493946806799
           }
          ]
         },
         "encoding": {
          "x": {
           "field": "x",
           "type": "quantitative"
          },
          "y": {
           "field": "y",
           "type": "quantitative"
          }
         },
         "mark": {
          "opacity": 0.4,
          "type": "line"
         }
        },
        {
         "data": {
          "values": [
           {
            "x": 4.224321818952637,
            "y": 0
           },
           {
            "x": 4.224321818952637,
            "y": 17.844894830079316
           }
          ]
         },
         "encoding": {
          "x": {
           "field": "x",
           "type": "quantitative"
          },
          "y": {
           "field": "y",
           "type": "quantitative"
          }
         },
         "mark": {
          "opacity": 0.4,
          "type": "line"
         }
        },
        {
         "data": {
          "values": [
           {
            "x": 2.642739886173595,
            "y": 0
           },
           {
            "x": 2.642739886173595,
            "y": 6.984074105972827
           }
          ]
         },
         "encoding": {
          "x": {
           "field": "x",
           "type": "quantitative"
          },
          "y": {
           "field": "y",
           "type": "quantitative"
          }
         },
         "mark": {
          "opacity": 0.4,
          "type": "line"
         }
        },
        {
         "data": {
          "values": [
           {
            "x": 0.676166646545832,
            "y": 0
           },
           {
            "x": 0.676166646545832,
            "y": 0.4572013339010361
           }
          ]
         },
         "encoding": {
          "x": {
           "field": "x",
           "type": "quantitative"
          },
          "y": {
           "field": "y",
           "type": "quantitative"
          }
         },
         "mark": {
          "opacity": 0.4,
          "type": "line"
         }
        },
        {
         "data": {
          "values": [
           {
            "x": 2.8675000586132833,
            "y": 0
           },
           {
            "x": 2.8675000586132833,
            "y": 8.222556586147183
           }
          ]
         },
         "encoding": {
          "x": {
           "field": "x",
           "type": "quantitative"
          },
          "y": {
           "field": "y",
           "type": "quantitative"
          }
         },
         "mark": {
          "opacity": 0.4,
          "type": "line"
         }
        },
        {
         "data": {
          "values": [
           {
            "x": 0.05679832541452301,
            "y": 0
           },
           {
            "x": 0.05679832541452301,
            "y": 0.0032260497698940504
           }
          ]
         },
         "encoding": {
          "x": {
           "field": "x",
           "type": "quantitative"
          },
          "y": {
           "field": "y",
           "type": "quantitative"
          }
         },
         "mark": {
          "opacity": 0.4,
          "type": "line"
         }
        },
        {
         "data": {
          "values": [
           {
            "x": 2.5289893796379728,
            "y": 0
           },
           {
            "x": 2.5289893796379728,
            "y": 6.395787282321658
           }
          ]
         },
         "encoding": {
          "x": {
           "field": "x",
           "type": "quantitative"
          },
          "y": {
           "field": "y",
           "type": "quantitative"
          }
         },
         "mark": {
          "opacity": 0.4,
          "type": "line"
         }
        },
        {
         "data": {
          "values": [
           {
            "x": 0.04518147428987529,
            "y": 0
           },
           {
            "x": 0.04518147428987529,
            "y": 0.0020413656190066617
           }
          ]
         },
         "encoding": {
          "x": {
           "field": "x",
           "type": "quantitative"
          },
          "y": {
           "field": "y",
           "type": "quantitative"
          }
         },
         "mark": {
          "opacity": 0.4,
          "type": "line"
         }
        },
        {
         "data": {
          "values": [
           {
            "x": 2.627831803382141,
            "y": 0
           },
           {
            "x": 2.627831803382141,
            "y": 6.9054999868666345
           }
          ]
         },
         "encoding": {
          "x": {
           "field": "x",
           "type": "quantitative"
          },
          "y": {
           "field": "y",
           "type": "quantitative"
          }
         },
         "mark": {
          "opacity": 0.4,
          "type": "line"
         }
        },
        {
         "data": {
          "values": [
           {
            "x": 2.868724677024337,
            "y": 0
           },
           {
            "x": 2.868724677024337,
            "y": 8.229581272568385
           }
          ]
         },
         "encoding": {
          "x": {
           "field": "x",
           "type": "quantitative"
          },
          "y": {
           "field": "y",
           "type": "quantitative"
          }
         },
         "mark": {
          "opacity": 0.4,
          "type": "line"
         }
        },
        {
         "data": {
          "values": [
           {
            "x": 1.1705280703681666,
            "y": 0
           },
           {
            "x": 1.1705280703681666,
            "y": 1.3701359635198236
           }
          ]
         },
         "encoding": {
          "x": {
           "field": "x",
           "type": "quantitative"
          },
          "y": {
           "field": "y",
           "type": "quantitative"
          }
         },
         "mark": {
          "opacity": 0.4,
          "type": "line"
         }
        },
        {
         "data": {
          "values": [
           {
            "x": 3.1169781101594385,
            "y": 0
           },
           {
            "x": 3.1169781101594385,
            "y": 9.715552539213105
           }
          ]
         },
         "encoding": {
          "x": {
           "field": "x",
           "type": "quantitative"
          },
          "y": {
           "field": "y",
           "type": "quantitative"
          }
         },
         "mark": {
          "opacity": 0.4,
          "type": "line"
         }
        },
        {
         "data": {
          "values": [
           {
            "x": 5.919411133408153,
            "y": 0
           },
           {
            "x": 5.919411133408153,
            "y": 35.0394281663164
           }
          ]
         },
         "encoding": {
          "x": {
           "field": "x",
           "type": "quantitative"
          },
          "y": {
           "field": "y",
           "type": "quantitative"
          }
         },
         "mark": {
          "opacity": 0.4,
          "type": "line"
         }
        },
        {
         "data": {
          "values": [
           {
            "x": 2.9902036656456756,
            "y": 0
           },
           {
            "x": 2.9902036656456756,
            "y": 8.941317962040836
           }
          ]
         },
         "encoding": {
          "x": {
           "field": "x",
           "type": "quantitative"
          },
          "y": {
           "field": "y",
           "type": "quantitative"
          }
         },
         "mark": {
          "opacity": 0.4,
          "type": "line"
         }
        },
        {
         "data": {
          "values": [
           {
            "x": 1.8262547080322946,
            "y": 0
           },
           {
            "x": 1.8262547080322946,
            "y": 3.3352062586101217
           }
          ]
         },
         "encoding": {
          "x": {
           "field": "x",
           "type": "quantitative"
          },
          "y": {
           "field": "y",
           "type": "quantitative"
          }
         },
         "mark": {
          "opacity": 0.4,
          "type": "line"
         }
        },
        {
         "data": {
          "values": [
           {
            "x": 4.364672768032902,
            "y": 0
           },
           {
            "x": 4.364672768032902,
            "y": 19.050368372007995
           }
          ]
         },
         "encoding": {
          "x": {
           "field": "x",
           "type": "quantitative"
          },
          "y": {
           "field": "y",
           "type": "quantitative"
          }
         },
         "mark": {
          "opacity": 0.4,
          "type": "line"
         }
        },
        {
         "data": {
          "values": [
           {
            "x": 1.0660719376287249,
            "y": 0
           },
           {
            "x": 1.0660719376287249,
            "y": 1.1365093761994638
           }
          ]
         },
         "encoding": {
          "x": {
           "field": "x",
           "type": "quantitative"
          },
          "y": {
           "field": "y",
           "type": "quantitative"
          }
         },
         "mark": {
          "opacity": 0.4,
          "type": "line"
         }
        },
        {
         "data": {
          "values": [
           {
            "x": 2.119625046929801,
            "y": 0
           },
           {
            "x": 2.119625046929801,
            "y": 4.492810339572161
           }
          ]
         },
         "encoding": {
          "x": {
           "field": "x",
           "type": "quantitative"
          },
          "y": {
           "field": "y",
           "type": "quantitative"
          }
         },
         "mark": {
          "opacity": 0.4,
          "type": "line"
         }
        },
        {
         "data": {
          "values": [
           {
            "x": 1.8216686498182775,
            "y": 0
           },
           {
            "x": 1.8216686498182775,
            "y": 3.318476669730746
           }
          ]
         },
         "encoding": {
          "x": {
           "field": "x",
           "type": "quantitative"
          },
          "y": {
           "field": "y",
           "type": "quantitative"
          }
         },
         "mark": {
          "opacity": 0.4,
          "type": "line"
         }
        },
        {
         "data": {
          "values": [
           {
            "x": 4.450245581003958,
            "y": 0
           },
           {
            "x": 4.450245581003958,
            "y": 19.804685731245254
           }
          ]
         },
         "encoding": {
          "x": {
           "field": "x",
           "type": "quantitative"
          },
          "y": {
           "field": "y",
           "type": "quantitative"
          }
         },
         "mark": {
          "opacity": 0.4,
          "type": "line"
         }
        },
        {
         "data": {
          "values": [
           {
            "x": 0.6859637853234404,
            "y": 0
           },
           {
            "x": 0.6859637853234404,
            "y": 0.470546314775263
           }
          ]
         },
         "encoding": {
          "x": {
           "field": "x",
           "type": "quantitative"
          },
          "y": {
           "field": "y",
           "type": "quantitative"
          }
         },
         "mark": {
          "opacity": 0.4,
          "type": "line"
         }
        },
        {
         "data": {
          "values": [
           {
            "x": 3.8290423023047264,
            "y": 0
           },
           {
            "x": 3.8290423023047264,
            "y": 14.66156495283908
           }
          ]
         },
         "encoding": {
          "x": {
           "field": "x",
           "type": "quantitative"
          },
          "y": {
           "field": "y",
           "type": "quantitative"
          }
         },
         "mark": {
          "opacity": 0.4,
          "type": "line"
         }
        },
        {
         "data": {
          "values": [
           {
            "x": 3.135338180016678,
            "y": 0
           },
           {
            "x": 3.135338180016678,
            "y": 9.830345503070294
           }
          ]
         },
         "encoding": {
          "x": {
           "field": "x",
           "type": "quantitative"
          },
          "y": {
           "field": "y",
           "type": "quantitative"
          }
         },
         "mark": {
          "opacity": 0.4,
          "type": "line"
         }
        },
        {
         "data": {
          "values": [
           {
            "x": 1.5206711022286021,
            "y": 0
           },
           {
            "x": 1.5206711022286021,
            "y": 2.3124406011531518
           }
          ]
         },
         "encoding": {
          "x": {
           "field": "x",
           "type": "quantitative"
          },
          "y": {
           "field": "y",
           "type": "quantitative"
          }
         },
         "mark": {
          "opacity": 0.4,
          "type": "line"
         }
        },
        {
         "data": {
          "values": [
           {
            "x": 0.2494696498430291,
            "y": 0
           },
           {
            "x": 0.2494696498430291,
            "y": 0.06223510619280355
           }
          ]
         },
         "encoding": {
          "x": {
           "field": "x",
           "type": "quantitative"
          },
          "y": {
           "field": "y",
           "type": "quantitative"
          }
         },
         "mark": {
          "opacity": 0.4,
          "type": "line"
         }
        },
        {
         "data": {
          "values": [
           {
            "x": 1.4284802231400702,
            "y": 0
           },
           {
            "x": 1.4284802231400702,
            "y": 2.040555747902305
           }
          ]
         },
         "encoding": {
          "x": {
           "field": "x",
           "type": "quantitative"
          },
          "y": {
           "field": "y",
           "type": "quantitative"
          }
         },
         "mark": {
          "opacity": 0.4,
          "type": "line"
         }
        },
        {
         "data": {
          "values": [
           {
            "x": 0.15008519012169774,
            "y": 0
           },
           {
            "x": 0.15008519012169774,
            "y": 0.02252556429386616
           }
          ]
         },
         "encoding": {
          "x": {
           "field": "x",
           "type": "quantitative"
          },
          "y": {
           "field": "y",
           "type": "quantitative"
          }
         },
         "mark": {
          "opacity": 0.4,
          "type": "line"
         }
        },
        {
         "data": {
          "values": [
           {
            "x": 3.473094105690494,
            "y": 0
           },
           {
            "x": 3.473094105690494,
            "y": 12.062382666982051
           }
          ]
         },
         "encoding": {
          "x": {
           "field": "x",
           "type": "quantitative"
          },
          "y": {
           "field": "y",
           "type": "quantitative"
          }
         },
         "mark": {
          "opacity": 0.4,
          "type": "line"
         }
        },
        {
         "data": {
          "values": [
           {
            "x": 2.9160261627269595,
            "y": 0
           },
           {
            "x": 2.9160261627269595,
            "y": 8.503208581708115
           }
          ]
         },
         "encoding": {
          "x": {
           "field": "x",
           "type": "quantitative"
          },
          "y": {
           "field": "y",
           "type": "quantitative"
          }
         },
         "mark": {
          "opacity": 0.4,
          "type": "line"
         }
        },
        {
         "data": {
          "values": [
           {
            "x": 3.9016057348727706,
            "y": 0
           },
           {
            "x": 3.9016057348727706,
            "y": 15.222527310392092
           }
          ]
         },
         "encoding": {
          "x": {
           "field": "x",
           "type": "quantitative"
          },
          "y": {
           "field": "y",
           "type": "quantitative"
          }
         },
         "mark": {
          "opacity": 0.4,
          "type": "line"
         }
        },
        {
         "data": {
          "values": [
           {
            "x": 6.492070598779575,
            "y": 0
           },
           {
            "x": 6.492070598779575,
            "y": 42.146980659538194
           }
          ]
         },
         "encoding": {
          "x": {
           "field": "x",
           "type": "quantitative"
          },
          "y": {
           "field": "y",
           "type": "quantitative"
          }
         },
         "mark": {
          "opacity": 0.4,
          "type": "line"
         }
        },
        {
         "data": {
          "values": [
           {
            "x": 5.015069849415243,
            "y": 0
           },
           {
            "x": 5.015069849415243,
            "y": 25.150925594513826
           }
          ]
         },
         "encoding": {
          "x": {
           "field": "x",
           "type": "quantitative"
          },
          "y": {
           "field": "y",
           "type": "quantitative"
          }
         },
         "mark": {
          "opacity": 0.4,
          "type": "line"
         }
        },
        {
         "data": {
          "values": [
           {
            "x": 1.6890543369428843,
            "y": 0
           },
           {
            "x": 1.6890543369428843,
            "y": 2.852904553145567
           }
          ]
         },
         "encoding": {
          "x": {
           "field": "x",
           "type": "quantitative"
          },
          "y": {
           "field": "y",
           "type": "quantitative"
          }
         },
         "mark": {
          "opacity": 0.4,
          "type": "line"
         }
        },
        {
         "data": {
          "values": [
           {
            "x": 4.01745177776443,
            "y": 0
           },
           {
            "x": 4.01745177776443,
            "y": 16.13991878666258
           }
          ]
         },
         "encoding": {
          "x": {
           "field": "x",
           "type": "quantitative"
          },
          "y": {
           "field": "y",
           "type": "quantitative"
          }
         },
         "mark": {
          "opacity": 0.4,
          "type": "line"
         }
        },
        {
         "data": {
          "values": [
           {
            "x": -0.852876819995855,
            "y": 0
           },
           {
            "x": -0.852876819995855,
            "y": 0.7273988700862419
           }
          ]
         },
         "encoding": {
          "x": {
           "field": "x",
           "type": "quantitative"
          },
          "y": {
           "field": "y",
           "type": "quantitative"
          }
         },
         "mark": {
          "opacity": 0.4,
          "type": "line"
         }
        },
        {
         "data": {
          "values": [
           {
            "x": 2.9212819021834058,
            "y": 0
           },
           {
            "x": 2.9212819021834058,
            "y": 8.533887952024298
           }
          ]
         },
         "encoding": {
          "x": {
           "field": "x",
           "type": "quantitative"
          },
          "y": {
           "field": "y",
           "type": "quantitative"
          }
         },
         "mark": {
          "opacity": 0.4,
          "type": "line"
         }
        },
        {
         "data": {
          "values": [
           {
            "x": 2.2552304245998016,
            "y": 0
           },
           {
            "x": 2.2552304245998016,
            "y": 5.086064268040602
           }
          ]
         },
         "encoding": {
          "x": {
           "field": "x",
           "type": "quantitative"
          },
          "y": {
           "field": "y",
           "type": "quantitative"
          }
         },
         "mark": {
          "opacity": 0.4,
          "type": "line"
         }
        },
        {
         "data": {
          "values": [
           {
            "x": 6.647126576404931,
            "y": 0
           },
           {
            "x": 6.647126576404931,
            "y": 44.18429172274874
           }
          ]
         },
         "encoding": {
          "x": {
           "field": "x",
           "type": "quantitative"
          },
          "y": {
           "field": "y",
           "type": "quantitative"
          }
         },
         "mark": {
          "opacity": 0.4,
          "type": "line"
         }
        },
        {
         "data": {
          "values": [
           {
            "x": -0.5576504150237156,
            "y": 0
           },
           {
            "x": -0.5576504150237156,
            "y": 0.31097398537612225
           }
          ]
         },
         "encoding": {
          "x": {
           "field": "x",
           "type": "quantitative"
          },
          "y": {
           "field": "y",
           "type": "quantitative"
          }
         },
         "mark": {
          "opacity": 0.4,
          "type": "line"
         }
        },
        {
         "data": {
          "values": [
           {
            "x": 3.8073818824171757,
            "y": 0
           },
           {
            "x": 3.8073818824171757,
            "y": 14.496156798558555
           }
          ]
         },
         "encoding": {
          "x": {
           "field": "x",
           "type": "quantitative"
          },
          "y": {
           "field": "y",
           "type": "quantitative"
          }
         },
         "mark": {
          "opacity": 0.4,
          "type": "line"
         }
        },
        {
         "data": {
          "values": [
           {
            "x": 4.222062775742295,
            "y": 0
           },
           {
            "x": 4.222062775742295,
            "y": 17.825814082308728
           }
          ]
         },
         "encoding": {
          "x": {
           "field": "x",
           "type": "quantitative"
          },
          "y": {
           "field": "y",
           "type": "quantitative"
          }
         },
         "mark": {
          "opacity": 0.4,
          "type": "line"
         }
        },
        {
         "data": {
          "values": [
           {
            "x": 5.043660575620345,
            "y": 0
           },
           {
            "x": 5.043660575620345,
            "y": 25.43851200206695
           }
          ]
         },
         "encoding": {
          "x": {
           "field": "x",
           "type": "quantitative"
          },
          "y": {
           "field": "y",
           "type": "quantitative"
          }
         },
         "mark": {
          "opacity": 0.4,
          "type": "line"
         }
        },
        {
         "data": {
          "values": [
           {
            "x": 0.8524206425686836,
            "y": 0
           },
           {
            "x": 0.8524206425686836,
            "y": 0.7266209518772073
           }
          ]
         },
         "encoding": {
          "x": {
           "field": "x",
           "type": "quantitative"
          },
          "y": {
           "field": "y",
           "type": "quantitative"
          }
         },
         "mark": {
          "opacity": 0.4,
          "type": "line"
         }
        },
        {
         "data": {
          "values": [
           {
            "x": 4.591050119287275,
            "y": 0
           },
           {
            "x": 4.591050119287275,
            "y": 21.077741197807704
           }
          ]
         },
         "encoding": {
          "x": {
           "field": "x",
           "type": "quantitative"
          },
          "y": {
           "field": "y",
           "type": "quantitative"
          }
         },
         "mark": {
          "opacity": 0.4,
          "type": "line"
         }
        },
        {
         "data": {
          "values": [
           {
            "x": 1.1172027680994816,
            "y": 0
           },
           {
            "x": 1.1172027680994816,
            "y": 1.2481420250491442
           }
          ]
         },
         "encoding": {
          "x": {
           "field": "x",
           "type": "quantitative"
          },
          "y": {
           "field": "y",
           "type": "quantitative"
          }
         },
         "mark": {
          "opacity": 0.4,
          "type": "line"
         }
        },
        {
         "data": {
          "values": [
           {
            "x": -0.8068718346599373,
            "y": 0
           },
           {
            "x": -0.8068718346599373,
            "y": 0.6510421575674932
           }
          ]
         },
         "encoding": {
          "x": {
           "field": "x",
           "type": "quantitative"
          },
          "y": {
           "field": "y",
           "type": "quantitative"
          }
         },
         "mark": {
          "opacity": 0.4,
          "type": "line"
         }
        },
        {
         "data": {
          "values": [
           {
            "x": 3.698606756639497,
            "y": 0
           },
           {
            "x": 3.698606756639497,
            "y": 13.67969194025934
           }
          ]
         },
         "encoding": {
          "x": {
           "field": "x",
           "type": "quantitative"
          },
          "y": {
           "field": "y",
           "type": "quantitative"
          }
         },
         "mark": {
          "opacity": 0.4,
          "type": "line"
         }
        },
        {
         "data": {
          "values": [
           {
            "x": 4.315591693005171,
            "y": 0
           },
           {
            "x": 4.315591693005171,
            "y": 18.624331660735237
           }
          ]
         },
         "encoding": {
          "x": {
           "field": "x",
           "type": "quantitative"
          },
          "y": {
           "field": "y",
           "type": "quantitative"
          }
         },
         "mark": {
          "opacity": 0.4,
          "type": "line"
         }
        },
        {
         "data": {
          "values": [
           {
            "x": 2.25426733543468,
            "y": 0
           },
           {
            "x": 2.25426733543468,
            "y": 5.081721219607772
           }
          ]
         },
         "encoding": {
          "x": {
           "field": "x",
           "type": "quantitative"
          },
          "y": {
           "field": "y",
           "type": "quantitative"
          }
         },
         "mark": {
          "opacity": 0.4,
          "type": "line"
         }
        },
        {
         "data": {
          "values": [
           {
            "x": 3.9627046950702915,
            "y": 0
           },
           {
            "x": 3.9627046950702915,
            "y": 15.703028500332133
           }
          ]
         },
         "encoding": {
          "x": {
           "field": "x",
           "type": "quantitative"
          },
          "y": {
           "field": "y",
           "type": "quantitative"
          }
         },
         "mark": {
          "opacity": 0.4,
          "type": "line"
         }
        },
        {
         "data": {
          "values": [
           {
            "x": 7.457271160400687,
            "y": 0
           },
           {
            "x": 7.457271160400687,
            "y": 55.61089315974381
           }
          ]
         },
         "encoding": {
          "x": {
           "field": "x",
           "type": "quantitative"
          },
          "y": {
           "field": "y",
           "type": "quantitative"
          }
         },
         "mark": {
          "opacity": 0.4,
          "type": "line"
         }
        },
        {
         "data": {
          "values": [
           {
            "x": 0.8739799420974257,
            "y": 0
           },
           {
            "x": 0.8739799420974257,
            "y": 0.7638409391886195
           }
          ]
         },
         "encoding": {
          "x": {
           "field": "x",
           "type": "quantitative"
          },
          "y": {
           "field": "y",
           "type": "quantitative"
          }
         },
         "mark": {
          "opacity": 0.4,
          "type": "line"
         }
        },
        {
         "data": {
          "values": [
           {
            "x": 4.835710494858743,
            "y": 0
           },
           {
            "x": 4.835710494858743,
            "y": 23.38409599008699
           }
          ]
         },
         "encoding": {
          "x": {
           "field": "x",
           "type": "quantitative"
          },
          "y": {
           "field": "y",
           "type": "quantitative"
          }
         },
         "mark": {
          "opacity": 0.4,
          "type": "line"
         }
        },
        {
         "data": {
          "values": [
           {
            "x": 3.265203640961329,
            "y": 0
           },
           {
            "x": 3.265203640961329,
            "y": 10.661554816947119
           }
          ]
         },
         "encoding": {
          "x": {
           "field": "x",
           "type": "quantitative"
          },
          "y": {
           "field": "y",
           "type": "quantitative"
          }
         },
         "mark": {
          "opacity": 0.4,
          "type": "line"
         }
        },
        {
         "data": {
          "values": [
           {
            "x": 0.8752951000724196,
            "y": 0
           },
           {
            "x": 0.8752951000724196,
            "y": 0.7661415122107871
           }
          ]
         },
         "encoding": {
          "x": {
           "field": "x",
           "type": "quantitative"
          },
          "y": {
           "field": "y",
           "type": "quantitative"
          }
         },
         "mark": {
          "opacity": 0.4,
          "type": "line"
         }
        },
        {
         "data": {
          "values": [
           {
            "x": 2.287269240442774,
            "y": 0
           },
           {
            "x": 2.287269240442774,
            "y": 5.231600578275664
           }
          ]
         },
         "encoding": {
          "x": {
           "field": "x",
           "type": "quantitative"
          },
          "y": {
           "field": "y",
           "type": "quantitative"
          }
         },
         "mark": {
          "opacity": 0.4,
          "type": "line"
         }
        },
        {
         "data": {
          "values": [
           {
            "x": 1.8328102379222873,
            "y": 0
           },
           {
            "x": 1.8328102379222873,
            "y": 3.3591933682327513
           }
          ]
         },
         "encoding": {
          "x": {
           "field": "x",
           "type": "quantitative"
          },
          "y": {
           "field": "y",
           "type": "quantitative"
          }
         },
         "mark": {
          "opacity": 0.4,
          "type": "line"
         }
        },
        {
         "data": {
          "values": [
           {
            "x": -0.6211350366581261,
            "y": 0
           },
           {
            "x": -0.6211350366581261,
            "y": 0.38580873376429164
           }
          ]
         },
         "encoding": {
          "x": {
           "field": "x",
           "type": "quantitative"
          },
          "y": {
           "field": "y",
           "type": "quantitative"
          }
         },
         "mark": {
          "opacity": 0.4,
          "type": "line"
         }
        },
        {
         "data": {
          "values": [
           {
            "x": 3.439748789066464,
            "y": 0
           },
           {
            "x": 3.439748789066464,
            "y": 11.831871731884206
           }
          ]
         },
         "encoding": {
          "x": {
           "field": "x",
           "type": "quantitative"
          },
          "y": {
           "field": "y",
           "type": "quantitative"
          }
         },
         "mark": {
          "opacity": 0.4,
          "type": "line"
         }
        },
        {
         "data": {
          "values": [
           {
            "x": 2.8442578080630643,
            "y": 0
           },
           {
            "x": 2.8442578080630643,
            "y": 8.089802478727707
           }
          ]
         },
         "encoding": {
          "x": {
           "field": "x",
           "type": "quantitative"
          },
          "y": {
           "field": "y",
           "type": "quantitative"
          }
         },
         "mark": {
          "opacity": 0.4,
          "type": "line"
         }
        },
        {
         "data": {
          "values": [
           {
            "x": 3.568412654695936,
            "y": 0
           },
           {
            "x": 3.568412654695936,
            "y": 12.733568874194098
           }
          ]
         },
         "encoding": {
          "x": {
           "field": "x",
           "type": "quantitative"
          },
          "y": {
           "field": "y",
           "type": "quantitative"
          }
         },
         "mark": {
          "opacity": 0.4,
          "type": "line"
         }
        },
        {
         "data": {
          "values": [
           {
            "x": 2.1037020883081,
            "y": 0
           },
           {
            "x": 2.1037020883081,
            "y": 4.425562476351861
           }
          ]
         },
         "encoding": {
          "x": {
           "field": "x",
           "type": "quantitative"
          },
          "y": {
           "field": "y",
           "type": "quantitative"
          }
         },
         "mark": {
          "opacity": 0.4,
          "type": "line"
         }
        },
        {
         "data": {
          "values": [
           {
            "x": 5.542854671834492,
            "y": 0
           },
           {
            "x": 5.542854671834492,
            "y": 30.723237913077455
           }
          ]
         },
         "encoding": {
          "x": {
           "field": "x",
           "type": "quantitative"
          },
          "y": {
           "field": "y",
           "type": "quantitative"
          }
         },
         "mark": {
          "opacity": 0.4,
          "type": "line"
         }
        },
        {
         "data": {
          "values": [
           {
            "x": 2.8379567157113033,
            "y": 0
           },
           {
            "x": 2.8379567157113033,
            "y": 8.053998320250887
           }
          ]
         },
         "encoding": {
          "x": {
           "field": "x",
           "type": "quantitative"
          },
          "y": {
           "field": "y",
           "type": "quantitative"
          }
         },
         "mark": {
          "opacity": 0.4,
          "type": "line"
         }
        },
        {
         "data": {
          "values": [
           {
            "x": 2.2510836783975128,
            "y": 0
           },
           {
            "x": 2.2510836783975128,
            "y": 5.067377727147677
           }
          ]
         },
         "encoding": {
          "x": {
           "field": "x",
           "type": "quantitative"
          },
          "y": {
           "field": "y",
           "type": "quantitative"
          }
         },
         "mark": {
          "opacity": 0.4,
          "type": "line"
         }
        },
        {
         "data": {
          "values": [
           {
            "x": 1.5672713824654236,
            "y": 0
           },
           {
            "x": 1.5672713824654236,
            "y": 2.4563395862950803
           }
          ]
         },
         "encoding": {
          "x": {
           "field": "x",
           "type": "quantitative"
          },
          "y": {
           "field": "y",
           "type": "quantitative"
          }
         },
         "mark": {
          "opacity": 0.4,
          "type": "line"
         }
        },
        {
         "data": {
          "values": [
           {
            "x": 3.6351127031932906,
            "y": 0
           },
           {
            "x": 3.6351127031932906,
            "y": 13.214044364917232
           }
          ]
         },
         "encoding": {
          "x": {
           "field": "x",
           "type": "quantitative"
          },
          "y": {
           "field": "y",
           "type": "quantitative"
          }
         },
         "mark": {
          "opacity": 0.4,
          "type": "line"
         }
        },
        {
         "data": {
          "values": [
           {
            "x": 2.2638729351353977,
            "y": 0
           },
           {
            "x": 2.2638729351353977,
            "y": 5.12512066643856
           }
          ]
         },
         "encoding": {
          "x": {
           "field": "x",
           "type": "quantitative"
          },
          "y": {
           "field": "y",
           "type": "quantitative"
          }
         },
         "mark": {
          "opacity": 0.4,
          "type": "line"
         }
        },
        {
         "data": {
          "values": [
           {
            "x": 4.203947578760104,
            "y": 0
           },
           {
            "x": 4.203947578760104,
            "y": 17.67317524496294
           }
          ]
         },
         "encoding": {
          "x": {
           "field": "x",
           "type": "quantitative"
          },
          "y": {
           "field": "y",
           "type": "quantitative"
          }
         },
         "mark": {
          "opacity": 0.4,
          "type": "line"
         }
        },
        {
         "data": {
          "values": [
           {
            "x": 4.848024580313476,
            "y": 0
           },
           {
            "x": 4.848024580313476,
            "y": 23.503342331323655
           }
          ]
         },
         "encoding": {
          "x": {
           "field": "x",
           "type": "quantitative"
          },
          "y": {
           "field": "y",
           "type": "quantitative"
          }
         },
         "mark": {
          "opacity": 0.4,
          "type": "line"
         }
        },
        {
         "data": {
          "values": [
           {
            "x": 0.840868586711162,
            "y": 0
           },
           {
            "x": 0.840868586711162,
            "y": 0.707059980117627
           }
          ]
         },
         "encoding": {
          "x": {
           "field": "x",
           "type": "quantitative"
          },
          "y": {
           "field": "y",
           "type": "quantitative"
          }
         },
         "mark": {
          "opacity": 0.4,
          "type": "line"
         }
        },
        {
         "data": {
          "values": [
           {
            "x": 4.814549300087169,
            "y": 0
           },
           {
            "x": 4.814549300087169,
            "y": 23.179884962969847
           }
          ]
         },
         "encoding": {
          "x": {
           "field": "x",
           "type": "quantitative"
          },
          "y": {
           "field": "y",
           "type": "quantitative"
          }
         },
         "mark": {
          "opacity": 0.4,
          "type": "line"
         }
        },
        {
         "data": {
          "values": [
           {
            "x": 2.207249779536288,
            "y": 0
           },
           {
            "x": 2.207249779536288,
            "y": 4.871951589262992
           }
          ]
         },
         "encoding": {
          "x": {
           "field": "x",
           "type": "quantitative"
          },
          "y": {
           "field": "y",
           "type": "quantitative"
          }
         },
         "mark": {
          "opacity": 0.4,
          "type": "line"
         }
        },
        {
         "data": {
          "values": [
           {
            "x": 1.8670598726230458,
            "y": 0
           },
           {
            "x": 1.8670598726230458,
            "y": 3.485912567959184
           }
          ]
         },
         "encoding": {
          "x": {
           "field": "x",
           "type": "quantitative"
          },
          "y": {
           "field": "y",
           "type": "quantitative"
          }
         },
         "mark": {
          "opacity": 0.4,
          "type": "line"
         }
        },
        {
         "data": {
          "values": [
           {
            "x": -1.9363064481273504,
            "y": 0
           },
           {
            "x": -1.9363064481273504,
            "y": 3.7492826610595555
           }
          ]
         },
         "encoding": {
          "x": {
           "field": "x",
           "type": "quantitative"
          },
          "y": {
           "field": "y",
           "type": "quantitative"
          }
         },
         "mark": {
          "opacity": 0.4,
          "type": "line"
         }
        },
        {
         "data": {
          "values": [
           {
            "x": 1.2520009402208132,
            "y": 0
           },
           {
            "x": 1.2520009402208132,
            "y": 1.5675063543138004
           }
          ]
         },
         "encoding": {
          "x": {
           "field": "x",
           "type": "quantitative"
          },
          "y": {
           "field": "y",
           "type": "quantitative"
          }
         },
         "mark": {
          "opacity": 0.4,
          "type": "line"
         }
        },
        {
         "data": {
          "values": [
           {
            "x": 1.9267139079203344,
            "y": 0
           },
           {
            "x": 1.9267139079203344,
            "y": 3.7122264829736467
           }
          ]
         },
         "encoding": {
          "x": {
           "field": "x",
           "type": "quantitative"
          },
          "y": {
           "field": "y",
           "type": "quantitative"
          }
         },
         "mark": {
          "opacity": 0.4,
          "type": "line"
         }
        },
        {
         "data": {
          "values": [
           {
            "x": 3.5255368339016657,
            "y": 0
           },
           {
            "x": 3.5255368339016657,
            "y": 12.429409967197381
           }
          ]
         },
         "encoding": {
          "x": {
           "field": "x",
           "type": "quantitative"
          },
          "y": {
           "field": "y",
           "type": "quantitative"
          }
         },
         "mark": {
          "opacity": 0.4,
          "type": "line"
         }
        },
        {
         "data": {
          "values": [
           {
            "x": 3.318731463754653,
            "y": 0
           },
           {
            "x": 3.318731463754653,
            "y": 11.013978528515102
           }
          ]
         },
         "encoding": {
          "x": {
           "field": "x",
           "type": "quantitative"
          },
          "y": {
           "field": "y",
           "type": "quantitative"
          }
         },
         "mark": {
          "opacity": 0.4,
          "type": "line"
         }
        },
        {
         "data": {
          "values": [
           {
            "x": -0.2723837311949464,
            "y": 0
           },
           {
            "x": -0.2723837311949464,
            "y": 0.07419289701968082
           }
          ]
         },
         "encoding": {
          "x": {
           "field": "x",
           "type": "quantitative"
          },
          "y": {
           "field": "y",
           "type": "quantitative"
          }
         },
         "mark": {
          "opacity": 0.4,
          "type": "line"
         }
        },
        {
         "data": {
          "values": [
           {
            "x": 6.1000666483739785,
            "y": 0
           },
           {
            "x": 6.1000666483739785,
            "y": 37.21081311460454
           }
          ]
         },
         "encoding": {
          "x": {
           "field": "x",
           "type": "quantitative"
          },
          "y": {
           "field": "y",
           "type": "quantitative"
          }
         },
         "mark": {
          "opacity": 0.4,
          "type": "line"
         }
        },
        {
         "data": {
          "values": [
           {
            "x": 1.599844618277829,
            "y": 0
           },
           {
            "x": 1.599844618277829,
            "y": 2.559502802632532
           }
          ]
         },
         "encoding": {
          "x": {
           "field": "x",
           "type": "quantitative"
          },
          "y": {
           "field": "y",
           "type": "quantitative"
          }
         },
         "mark": {
          "opacity": 0.4,
          "type": "line"
         }
        },
        {
         "data": {
          "values": [
           {
            "x": 2.608457659728809,
            "y": 0
           },
           {
            "x": 2.608457659728809,
            "y": 6.804051362597895
           }
          ]
         },
         "encoding": {
          "x": {
           "field": "x",
           "type": "quantitative"
          },
          "y": {
           "field": "y",
           "type": "quantitative"
          }
         },
         "mark": {
          "opacity": 0.4,
          "type": "line"
         }
        },
        {
         "data": {
          "values": [
           {
            "x": 0.9335984178620378,
            "y": 0
           },
           {
            "x": 0.9335984178620378,
            "y": 0.8716060058345001
           }
          ]
         },
         "encoding": {
          "x": {
           "field": "x",
           "type": "quantitative"
          },
          "y": {
           "field": "y",
           "type": "quantitative"
          }
         },
         "mark": {
          "opacity": 0.4,
          "type": "line"
         }
        },
        {
         "data": {
          "values": [
           {
            "x": 1.0906589054944205,
            "y": 0
           },
           {
            "x": 1.0906589054944205,
            "y": 1.1895368481342872
           }
          ]
         },
         "encoding": {
          "x": {
           "field": "x",
           "type": "quantitative"
          },
          "y": {
           "field": "y",
           "type": "quantitative"
          }
         },
         "mark": {
          "opacity": 0.4,
          "type": "line"
         }
        },
        {
         "data": {
          "values": [
           {
            "x": 3.576604905133512,
            "y": 0
           },
           {
            "x": 3.576604905133512,
            "y": 12.792102647425097
           }
          ]
         },
         "encoding": {
          "x": {
           "field": "x",
           "type": "quantitative"
          },
          "y": {
           "field": "y",
           "type": "quantitative"
          }
         },
         "mark": {
          "opacity": 0.4,
          "type": "line"
         }
        },
        {
         "data": {
          "values": [
           {
            "x": 3.293543827136392,
            "y": 0
           },
           {
            "x": 3.293543827136392,
            "y": 10.847430941268232
           }
          ]
         },
         "encoding": {
          "x": {
           "field": "x",
           "type": "quantitative"
          },
          "y": {
           "field": "y",
           "type": "quantitative"
          }
         },
         "mark": {
          "opacity": 0.4,
          "type": "line"
         }
        },
        {
         "data": {
          "values": [
           {
            "x": 2.463726509037544,
            "y": 0
           },
           {
            "x": 2.463726509037544,
            "y": 6.069948311334323
           }
          ]
         },
         "encoding": {
          "x": {
           "field": "x",
           "type": "quantitative"
          },
          "y": {
           "field": "y",
           "type": "quantitative"
          }
         },
         "mark": {
          "opacity": 0.4,
          "type": "line"
         }
        },
        {
         "data": {
          "values": [
           {
            "x": 5.298936501617675,
            "y": 0
           },
           {
            "x": 5.298936501617675,
            "y": 28.078728048176163
           }
          ]
         },
         "encoding": {
          "x": {
           "field": "x",
           "type": "quantitative"
          },
          "y": {
           "field": "y",
           "type": "quantitative"
          }
         },
         "mark": {
          "opacity": 0.4,
          "type": "line"
         }
        },
        {
         "data": {
          "values": [
           {
            "x": 2.364775872454073,
            "y": 0
           },
           {
            "x": 2.364775872454073,
            "y": 5.592164926940922
           }
          ]
         },
         "encoding": {
          "x": {
           "field": "x",
           "type": "quantitative"
          },
          "y": {
           "field": "y",
           "type": "quantitative"
          }
         },
         "mark": {
          "opacity": 0.4,
          "type": "line"
         }
        },
        {
         "data": {
          "values": [
           {
            "x": -0.23670585870878025,
            "y": 0
           },
           {
            "x": -0.23670585870878025,
            "y": 0.056029663547061036
           }
          ]
         },
         "encoding": {
          "x": {
           "field": "x",
           "type": "quantitative"
          },
          "y": {
           "field": "y",
           "type": "quantitative"
          }
         },
         "mark": {
          "opacity": 0.4,
          "type": "line"
         }
        },
        {
         "data": {
          "values": [
           {
            "x": 1.845050363129651,
            "y": 0
           },
           {
            "x": 1.845050363129651,
            "y": 3.4042108424848574
           }
          ]
         },
         "encoding": {
          "x": {
           "field": "x",
           "type": "quantitative"
          },
          "y": {
           "field": "y",
           "type": "quantitative"
          }
         },
         "mark": {
          "opacity": 0.4,
          "type": "line"
         }
        },
        {
         "data": {
          "values": [
           {
            "x": 2.418161902839983,
            "y": 0
           },
           {
            "x": 2.418161902839983,
            "y": 5.847506988346686
           }
          ]
         },
         "encoding": {
          "x": {
           "field": "x",
           "type": "quantitative"
          },
          "y": {
           "field": "y",
           "type": "quantitative"
          }
         },
         "mark": {
          "opacity": 0.4,
          "type": "line"
         }
        },
        {
         "data": {
          "values": [
           {
            "x": 3.210258082027172,
            "y": 0
           },
           {
            "x": 3.210258082027172,
            "y": 10.305756953220778
           }
          ]
         },
         "encoding": {
          "x": {
           "field": "x",
           "type": "quantitative"
          },
          "y": {
           "field": "y",
           "type": "quantitative"
          }
         },
         "mark": {
          "opacity": 0.4,
          "type": "line"
         }
        },
        {
         "data": {
          "values": [
           {
            "x": 2.9431965046212065,
            "y": 0
           },
           {
            "x": 2.9431965046212065,
            "y": 8.662405664814488
           }
          ]
         },
         "encoding": {
          "x": {
           "field": "x",
           "type": "quantitative"
          },
          "y": {
           "field": "y",
           "type": "quantitative"
          }
         },
         "mark": {
          "opacity": 0.4,
          "type": "line"
         }
        },
        {
         "data": {
          "values": [
           {
            "x": 6.99559826005909,
            "y": 0
           },
           {
            "x": 6.99559826005909,
            "y": 48.93839501614177
           }
          ]
         },
         "encoding": {
          "x": {
           "field": "x",
           "type": "quantitative"
          },
          "y": {
           "field": "y",
           "type": "quantitative"
          }
         },
         "mark": {
          "opacity": 0.4,
          "type": "line"
         }
        },
        {
         "data": {
          "values": [
           {
            "x": 2.8384257824395243,
            "y": 0
           },
           {
            "x": 2.8384257824395243,
            "y": 8.056660922417425
           }
          ]
         },
         "encoding": {
          "x": {
           "field": "x",
           "type": "quantitative"
          },
          "y": {
           "field": "y",
           "type": "quantitative"
          }
         },
         "mark": {
          "opacity": 0.4,
          "type": "line"
         }
        },
        {
         "data": {
          "values": [
           {
            "x": 3.032078551354917,
            "y": 0
           },
           {
            "x": 3.032078551354917,
            "y": 9.193500341586534
           }
          ]
         },
         "encoding": {
          "x": {
           "field": "x",
           "type": "quantitative"
          },
          "y": {
           "field": "y",
           "type": "quantitative"
          }
         },
         "mark": {
          "opacity": 0.4,
          "type": "line"
         }
        },
        {
         "data": {
          "values": [
           {
            "x": 0.15439657879157265,
            "y": 0
           },
           {
            "x": 0.15439657879157265,
            "y": 0.0238383035425423
           }
          ]
         },
         "encoding": {
          "x": {
           "field": "x",
           "type": "quantitative"
          },
          "y": {
           "field": "y",
           "type": "quantitative"
          }
         },
         "mark": {
          "opacity": 0.4,
          "type": "line"
         }
        },
        {
         "data": {
          "values": [
           {
            "x": 2.016593376467276,
            "y": 0
           },
           {
            "x": 2.016593376467276,
            "y": 4.066648846011688
           }
          ]
         },
         "encoding": {
          "x": {
           "field": "x",
           "type": "quantitative"
          },
          "y": {
           "field": "y",
           "type": "quantitative"
          }
         },
         "mark": {
          "opacity": 0.4,
          "type": "line"
         }
        },
        {
         "data": {
          "values": [
           {
            "x": 0.43043865196745745,
            "y": 0
           },
           {
            "x": 0.43043865196745745,
            "y": 0.18527743310756195
           }
          ]
         },
         "encoding": {
          "x": {
           "field": "x",
           "type": "quantitative"
          },
          "y": {
           "field": "y",
           "type": "quantitative"
          }
         },
         "mark": {
          "opacity": 0.4,
          "type": "line"
         }
        },
        {
         "data": {
          "values": [
           {
            "x": 2.5376666193167137,
            "y": 0
           },
           {
            "x": 2.5376666193167137,
            "y": 6.439751870794319
           }
          ]
         },
         "encoding": {
          "x": {
           "field": "x",
           "type": "quantitative"
          },
          "y": {
           "field": "y",
           "type": "quantitative"
          }
         },
         "mark": {
          "opacity": 0.4,
          "type": "line"
         }
        },
        {
         "data": {
          "values": [
           {
            "x": 1.8578144550307623,
            "y": 0
           },
           {
            "x": 1.8578144550307623,
            "y": 3.451474549321248
           }
          ]
         },
         "encoding": {
          "x": {
           "field": "x",
           "type": "quantitative"
          },
          "y": {
           "field": "y",
           "type": "quantitative"
          }
         },
         "mark": {
          "opacity": 0.4,
          "type": "line"
         }
        },
        {
         "data": {
          "values": [
           {
            "x": 2.088103282642515,
            "y": 0
           },
           {
            "x": 2.088103282642515,
            "y": 4.360175318982447
           }
          ]
         },
         "encoding": {
          "x": {
           "field": "x",
           "type": "quantitative"
          },
          "y": {
           "field": "y",
           "type": "quantitative"
          }
         },
         "mark": {
          "opacity": 0.4,
          "type": "line"
         }
        },
        {
         "data": {
          "values": [
           {
            "x": 2.5456665898789947,
            "y": 0
           },
           {
            "x": 2.5456665898789947,
            "y": 6.48041838682615
           }
          ]
         },
         "encoding": {
          "x": {
           "field": "x",
           "type": "quantitative"
          },
          "y": {
           "field": "y",
           "type": "quantitative"
          }
         },
         "mark": {
          "opacity": 0.4,
          "type": "line"
         }
        },
        {
         "data": {
          "values": [
           {
            "x": 5.670914479064848,
            "y": 0
           },
           {
            "x": 5.670914479064848,
            "y": 32.15927102886734
           }
          ]
         },
         "encoding": {
          "x": {
           "field": "x",
           "type": "quantitative"
          },
          "y": {
           "field": "y",
           "type": "quantitative"
          }
         },
         "mark": {
          "opacity": 0.4,
          "type": "line"
         }
        },
        {
         "data": {
          "values": [
           {
            "x": 2.7322405514222496,
            "y": 0
           },
           {
            "x": 2.7322405514222496,
            "y": 7.465138430836158
           }
          ]
         },
         "encoding": {
          "x": {
           "field": "x",
           "type": "quantitative"
          },
          "y": {
           "field": "y",
           "type": "quantitative"
          }
         },
         "mark": {
          "opacity": 0.4,
          "type": "line"
         }
        },
        {
         "data": {
          "values": [
           {
            "x": 3.1199270146874776,
            "y": 0
           },
           {
            "x": 3.1199270146874776,
            "y": 9.733944576976716
           }
          ]
         },
         "encoding": {
          "x": {
           "field": "x",
           "type": "quantitative"
          },
          "y": {
           "field": "y",
           "type": "quantitative"
          }
         },
         "mark": {
          "opacity": 0.4,
          "type": "line"
         }
        },
        {
         "data": {
          "values": [
           {
            "x": 2.422874834277444,
            "y": 0
           },
           {
            "x": 2.422874834277444,
            "y": 5.870322462574952
           }
          ]
         },
         "encoding": {
          "x": {
           "field": "x",
           "type": "quantitative"
          },
          "y": {
           "field": "y",
           "type": "quantitative"
          }
         },
         "mark": {
          "opacity": 0.4,
          "type": "line"
         }
        },
        {
         "data": {
          "values": [
           {
            "x": 0.8692638528215526,
            "y": 0
           },
           {
            "x": 0.8692638528215526,
            "y": 0.7556196458221699
           }
          ]
         },
         "encoding": {
          "x": {
           "field": "x",
           "type": "quantitative"
          },
          "y": {
           "field": "y",
           "type": "quantitative"
          }
         },
         "mark": {
          "opacity": 0.4,
          "type": "line"
         }
        },
        {
         "data": {
          "values": [
           {
            "x": 0.44660795932687103,
            "y": 0
           },
           {
            "x": 0.44660795932687103,
            "y": 0.19945866933411208
           }
          ]
         },
         "encoding": {
          "x": {
           "field": "x",
           "type": "quantitative"
          },
          "y": {
           "field": "y",
           "type": "quantitative"
          }
         },
         "mark": {
          "opacity": 0.4,
          "type": "line"
         }
        },
        {
         "data": {
          "values": [
           {
            "x": 3.0757457161554154,
            "y": 0
           },
           {
            "x": 3.0757457161554154,
            "y": 9.46021171044839
           }
          ]
         },
         "encoding": {
          "x": {
           "field": "x",
           "type": "quantitative"
          },
          "y": {
           "field": "y",
           "type": "quantitative"
          }
         },
         "mark": {
          "opacity": 0.4,
          "type": "line"
         }
        },
        {
         "data": {
          "values": [
           {
            "x": 3.6307990890355097,
            "y": 0
           },
           {
            "x": 3.6307990890355097,
            "y": 13.182702024941088
           }
          ]
         },
         "encoding": {
          "x": {
           "field": "x",
           "type": "quantitative"
          },
          "y": {
           "field": "y",
           "type": "quantitative"
          }
         },
         "mark": {
          "opacity": 0.4,
          "type": "line"
         }
        },
        {
         "data": {
          "values": [
           {
            "x": 2.355676949197113,
            "y": 0
           },
           {
            "x": 2.355676949197113,
            "y": 5.549213888978617
           }
          ]
         },
         "encoding": {
          "x": {
           "field": "x",
           "type": "quantitative"
          },
          "y": {
           "field": "y",
           "type": "quantitative"
          }
         },
         "mark": {
          "opacity": 0.4,
          "type": "line"
         }
        },
        {
         "data": {
          "values": [
           {
            "x": 3.303638377656684,
            "y": 0
           },
           {
            "x": 3.303638377656684,
            "y": 10.914026530326087
           }
          ]
         },
         "encoding": {
          "x": {
           "field": "x",
           "type": "quantitative"
          },
          "y": {
           "field": "y",
           "type": "quantitative"
          }
         },
         "mark": {
          "opacity": 0.4,
          "type": "line"
         }
        },
        {
         "data": {
          "values": [
           {
            "x": 1.8445090318988437,
            "y": 0
           },
           {
            "x": 1.8445090318988437,
            "y": 3.4022135687564097
           }
          ]
         },
         "encoding": {
          "x": {
           "field": "x",
           "type": "quantitative"
          },
          "y": {
           "field": "y",
           "type": "quantitative"
          }
         },
         "mark": {
          "opacity": 0.4,
          "type": "line"
         }
        },
        {
         "data": {
          "values": [
           {
            "x": 2.557337759840411,
            "y": 0
           },
           {
            "x": 2.557337759840411,
            "y": 6.539976417905572
           }
          ]
         },
         "encoding": {
          "x": {
           "field": "x",
           "type": "quantitative"
          },
          "y": {
           "field": "y",
           "type": "quantitative"
          }
         },
         "mark": {
          "opacity": 0.4,
          "type": "line"
         }
        },
        {
         "data": {
          "values": [
           {
            "x": 1.7992370716320047,
            "y": 0
           },
           {
            "x": 1.7992370716320047,
            "y": 3.237254039934912
           }
          ]
         },
         "encoding": {
          "x": {
           "field": "x",
           "type": "quantitative"
          },
          "y": {
           "field": "y",
           "type": "quantitative"
          }
         },
         "mark": {
          "opacity": 0.4,
          "type": "line"
         }
        },
        {
         "data": {
          "values": [
           {
            "x": 0.35158973630889223,
            "y": 0
           },
           {
            "x": 0.35158973630889223,
            "y": 0.12361534267775637
           }
          ]
         },
         "encoding": {
          "x": {
           "field": "x",
           "type": "quantitative"
          },
          "y": {
           "field": "y",
           "type": "quantitative"
          }
         },
         "mark": {
          "opacity": 0.4,
          "type": "line"
         }
        },
        {
         "data": {
          "values": [
           {
            "x": 5.307927129246212,
            "y": 0
           },
           {
            "x": 5.307927129246212,
            "y": 28.174090409387937
           }
          ]
         },
         "encoding": {
          "x": {
           "field": "x",
           "type": "quantitative"
          },
          "y": {
           "field": "y",
           "type": "quantitative"
          }
         },
         "mark": {
          "opacity": 0.4,
          "type": "line"
         }
        },
        {
         "data": {
          "values": [
           {
            "x": -0.3404603045642314,
            "y": 0
           },
           {
            "x": -0.3404603045642314,
            "y": 0.11591321898396918
           }
          ]
         },
         "encoding": {
          "x": {
           "field": "x",
           "type": "quantitative"
          },
          "y": {
           "field": "y",
           "type": "quantitative"
          }
         },
         "mark": {
          "opacity": 0.4,
          "type": "line"
         }
        },
        {
         "data": {
          "values": [
           {
            "x": -1.2173220716327804,
            "y": 0
           },
           {
            "x": -1.2173220716327804,
            "y": 1.481873026084324
           }
          ]
         },
         "encoding": {
          "x": {
           "field": "x",
           "type": "quantitative"
          },
          "y": {
           "field": "y",
           "type": "quantitative"
          }
         },
         "mark": {
          "opacity": 0.4,
          "type": "line"
         }
        },
        {
         "data": {
          "values": [
           {
            "x": 1.9863503429264755,
            "y": 0
           },
           {
            "x": 1.9863503429264755,
            "y": 3.945587684844127
           }
          ]
         },
         "encoding": {
          "x": {
           "field": "x",
           "type": "quantitative"
          },
          "y": {
           "field": "y",
           "type": "quantitative"
          }
         },
         "mark": {
          "opacity": 0.4,
          "type": "line"
         }
        },
        {
         "data": {
          "values": [
           {
            "x": 3.5708955763745216,
            "y": 0
           },
           {
            "x": 3.5708955763745216,
            "y": 12.751295217371126
           }
          ]
         },
         "encoding": {
          "x": {
           "field": "x",
           "type": "quantitative"
          },
          "y": {
           "field": "y",
           "type": "quantitative"
          }
         },
         "mark": {
          "opacity": 0.4,
          "type": "line"
         }
        },
        {
         "data": {
          "values": [
           {
            "x": 2.3130323139745137,
            "y": 0
           },
           {
            "x": 2.3130323139745137,
            "y": 5.3501184854902935
           }
          ]
         },
         "encoding": {
          "x": {
           "field": "x",
           "type": "quantitative"
          },
          "y": {
           "field": "y",
           "type": "quantitative"
          }
         },
         "mark": {
          "opacity": 0.4,
          "type": "line"
         }
        },
        {
         "data": {
          "values": [
           {
            "x": -0.44599715463760825,
            "y": 0
           },
           {
            "x": -0.44599715463760825,
            "y": 0.19891346194484263
           }
          ]
         },
         "encoding": {
          "x": {
           "field": "x",
           "type": "quantitative"
          },
          "y": {
           "field": "y",
           "type": "quantitative"
          }
         },
         "mark": {
          "opacity": 0.4,
          "type": "line"
         }
        },
        {
         "data": {
          "values": [
           {
            "x": 4.3681064193120385,
            "y": 0
           },
           {
            "x": 4.3681064193120385,
            "y": 19.08035369043504
           }
          ]
         },
         "encoding": {
          "x": {
           "field": "x",
           "type": "quantitative"
          },
          "y": {
           "field": "y",
           "type": "quantitative"
          }
         },
         "mark": {
          "opacity": 0.4,
          "type": "line"
         }
        },
        {
         "data": {
          "values": [
           {
            "x": 4.147373705809316,
            "y": 0
           },
           {
            "x": 4.147373705809316,
            "y": 17.200708655638497
           }
          ]
         },
         "encoding": {
          "x": {
           "field": "x",
           "type": "quantitative"
          },
          "y": {
           "field": "y",
           "type": "quantitative"
          }
         },
         "mark": {
          "opacity": 0.4,
          "type": "line"
         }
        },
        {
         "data": {
          "values": [
           {
            "x": 0.24859199916878572,
            "y": 0
           },
           {
            "x": 0.24859199916878572,
            "y": 0.06179798205073356
           }
          ]
         },
         "encoding": {
          "x": {
           "field": "x",
           "type": "quantitative"
          },
          "y": {
           "field": "y",
           "type": "quantitative"
          }
         },
         "mark": {
          "opacity": 0.4,
          "type": "line"
         }
        },
        {
         "data": {
          "values": [
           {
            "x": 1.9934152957211138,
            "y": 0
           },
           {
            "x": 1.9934152957211138,
            "y": 3.9737045412148952
           }
          ]
         },
         "encoding": {
          "x": {
           "field": "x",
           "type": "quantitative"
          },
          "y": {
           "field": "y",
           "type": "quantitative"
          }
         },
         "mark": {
          "opacity": 0.4,
          "type": "line"
         }
        },
        {
         "data": {
          "values": [
           {
            "x": 2.1117706805110905,
            "y": 0
           },
           {
            "x": 2.1117706805110905,
            "y": 4.459575407066274
           }
          ]
         },
         "encoding": {
          "x": {
           "field": "x",
           "type": "quantitative"
          },
          "y": {
           "field": "y",
           "type": "quantitative"
          }
         },
         "mark": {
          "opacity": 0.4,
          "type": "line"
         }
        },
        {
         "data": {
          "values": [
           {
            "x": 1.214780560854454,
            "y": 0
           },
           {
            "x": 1.214780560854454,
            "y": 1.4756918110298618
           }
          ]
         },
         "encoding": {
          "x": {
           "field": "x",
           "type": "quantitative"
          },
          "y": {
           "field": "y",
           "type": "quantitative"
          }
         },
         "mark": {
          "opacity": 0.4,
          "type": "line"
         }
        },
        {
         "data": {
          "values": [
           {
            "x": -1.3084967771895357,
            "y": 0
           },
           {
            "x": -1.3084967771895357,
            "y": 1.7121638159154016
           }
          ]
         },
         "encoding": {
          "x": {
           "field": "x",
           "type": "quantitative"
          },
          "y": {
           "field": "y",
           "type": "quantitative"
          }
         },
         "mark": {
          "opacity": 0.4,
          "type": "line"
         }
        },
        {
         "data": {
          "values": [
           {
            "x": 5.031641470422837,
            "y": 0
           },
           {
            "x": 5.031641470422837,
            "y": 25.31741588687889
           }
          ]
         },
         "encoding": {
          "x": {
           "field": "x",
           "type": "quantitative"
          },
          "y": {
           "field": "y",
           "type": "quantitative"
          }
         },
         "mark": {
          "opacity": 0.4,
          "type": "line"
         }
        },
        {
         "data": {
          "values": [
           {
            "x": 2.8009030621795303,
            "y": 0
           },
           {
            "x": 2.8009030621795303,
            "y": 7.84505796372667
           }
          ]
         },
         "encoding": {
          "x": {
           "field": "x",
           "type": "quantitative"
          },
          "y": {
           "field": "y",
           "type": "quantitative"
          }
         },
         "mark": {
          "opacity": 0.4,
          "type": "line"
         }
        },
        {
         "data": {
          "values": [
           {
            "x": -1.0815906617040811,
            "y": 0
           },
           {
            "x": -1.0815906617040811,
            "y": 1.169838359485472
           }
          ]
         },
         "encoding": {
          "x": {
           "field": "x",
           "type": "quantitative"
          },
          "y": {
           "field": "y",
           "type": "quantitative"
          }
         },
         "mark": {
          "opacity": 0.4,
          "type": "line"
         }
        },
        {
         "data": {
          "values": [
           {
            "x": 3.2875093479024433,
            "y": 0
           },
           {
            "x": 3.2875093479024433,
            "y": 10.807717712545948
           }
          ]
         },
         "encoding": {
          "x": {
           "field": "x",
           "type": "quantitative"
          },
          "y": {
           "field": "y",
           "type": "quantitative"
          }
         },
         "mark": {
          "opacity": 0.4,
          "type": "line"
         }
        },
        {
         "data": {
          "values": [
           {
            "x": 3.4767963498692915,
            "y": 0
           },
           {
            "x": 3.4767963498692915,
            "y": 12.088112858464429
           }
          ]
         },
         "encoding": {
          "x": {
           "field": "x",
           "type": "quantitative"
          },
          "y": {
           "field": "y",
           "type": "quantitative"
          }
         },
         "mark": {
          "opacity": 0.4,
          "type": "line"
         }
        },
        {
         "data": {
          "values": [
           {
            "x": 0.39150565625667166,
            "y": 0
           },
           {
            "x": 0.39150565625667166,
            "y": 0.15327667888096716
           }
          ]
         },
         "encoding": {
          "x": {
           "field": "x",
           "type": "quantitative"
          },
          "y": {
           "field": "y",
           "type": "quantitative"
          }
         },
         "mark": {
          "opacity": 0.4,
          "type": "line"
         }
        },
        {
         "data": {
          "values": [
           {
            "x": 3.4434030774131523,
            "y": 0
           },
           {
            "x": 3.4434030774131523,
            "y": 11.857024753538369
           }
          ]
         },
         "encoding": {
          "x": {
           "field": "x",
           "type": "quantitative"
          },
          "y": {
           "field": "y",
           "type": "quantitative"
          }
         },
         "mark": {
          "opacity": 0.4,
          "type": "line"
         }
        },
        {
         "data": {
          "values": [
           {
            "x": 3.240728049161132,
            "y": 0
           },
           {
            "x": 3.240728049161132,
            "y": 10.502318288619716
           }
          ]
         },
         "encoding": {
          "x": {
           "field": "x",
           "type": "quantitative"
          },
          "y": {
           "field": "y",
           "type": "quantitative"
          }
         },
         "mark": {
          "opacity": 0.4,
          "type": "line"
         }
        },
        {
         "data": {
          "values": [
           {
            "x": 0.23372489119734574,
            "y": 0
           },
           {
            "x": 0.23372489119734574,
            "y": 0.05462732476521111
           }
          ]
         },
         "encoding": {
          "x": {
           "field": "x",
           "type": "quantitative"
          },
          "y": {
           "field": "y",
           "type": "quantitative"
          }
         },
         "mark": {
          "opacity": 0.4,
          "type": "line"
         }
        },
        {
         "data": {
          "values": [
           {
            "x": 5.205482308144913,
            "y": 0
           },
           {
            "x": 5.205482308144913,
            "y": 27.097046060409692
           }
          ]
         },
         "encoding": {
          "x": {
           "field": "x",
           "type": "quantitative"
          },
          "y": {
           "field": "y",
           "type": "quantitative"
          }
         },
         "mark": {
          "opacity": 0.4,
          "type": "line"
         }
        },
        {
         "data": {
          "values": [
           {
            "x": -0.7813307867293329,
            "y": 0
           },
           {
            "x": -0.7813307867293329,
            "y": 0.6104777982910783
           }
          ]
         },
         "encoding": {
          "x": {
           "field": "x",
           "type": "quantitative"
          },
          "y": {
           "field": "y",
           "type": "quantitative"
          }
         },
         "mark": {
          "opacity": 0.4,
          "type": "line"
         }
        },
        {
         "data": {
          "values": [
           {
            "x": 6.5773662386144025,
            "y": 0
           },
           {
            "x": 6.5773662386144025,
            "y": 43.26174663686457
           }
          ]
         },
         "encoding": {
          "x": {
           "field": "x",
           "type": "quantitative"
          },
          "y": {
           "field": "y",
           "type": "quantitative"
          }
         },
         "mark": {
          "opacity": 0.4,
          "type": "line"
         }
        },
        {
         "data": {
          "values": [
           {
            "x": 0.8432388378018225,
            "y": 0
           },
           {
            "x": 0.8432388378018225,
            "y": 0.7110517375773684
           }
          ]
         },
         "encoding": {
          "x": {
           "field": "x",
           "type": "quantitative"
          },
          "y": {
           "field": "y",
           "type": "quantitative"
          }
         },
         "mark": {
          "opacity": 0.4,
          "type": "line"
         }
        },
        {
         "data": {
          "values": [
           {
            "x": 1.119710751780733,
            "y": 0
           },
           {
            "x": 1.119710751780733,
            "y": 1.2537521676533743
           }
          ]
         },
         "encoding": {
          "x": {
           "field": "x",
           "type": "quantitative"
          },
          "y": {
           "field": "y",
           "type": "quantitative"
          }
         },
         "mark": {
          "opacity": 0.4,
          "type": "line"
         }
        },
        {
         "data": {
          "values": [
           {
            "x": 2.913754516392668,
            "y": 0
           },
           {
            "x": 2.913754516392668,
            "y": 8.48996538179867
           }
          ]
         },
         "encoding": {
          "x": {
           "field": "x",
           "type": "quantitative"
          },
          "y": {
           "field": "y",
           "type": "quantitative"
          }
         },
         "mark": {
          "opacity": 0.4,
          "type": "line"
         }
        },
        {
         "data": {
          "values": [
           {
            "x": 1.5039514673260708,
            "y": 0
           },
           {
            "x": 1.5039514673260708,
            "y": 2.2618700160722414
           }
          ]
         },
         "encoding": {
          "x": {
           "field": "x",
           "type": "quantitative"
          },
          "y": {
           "field": "y",
           "type": "quantitative"
          }
         },
         "mark": {
          "opacity": 0.4,
          "type": "line"
         }
        },
        {
         "data": {
          "values": [
           {
            "x": 0.9305994197856213,
            "y": 0
           },
           {
            "x": 0.9305994197856213,
            "y": 0.866015280105335
           }
          ]
         },
         "encoding": {
          "x": {
           "field": "x",
           "type": "quantitative"
          },
          "y": {
           "field": "y",
           "type": "quantitative"
          }
         },
         "mark": {
          "opacity": 0.4,
          "type": "line"
         }
        },
        {
         "data": {
          "values": [
           {
            "x": 3.6718402735990336,
            "y": 0
           },
           {
            "x": 3.6718402735990336,
            "y": 13.482410994823827
           }
          ]
         },
         "encoding": {
          "x": {
           "field": "x",
           "type": "quantitative"
          },
          "y": {
           "field": "y",
           "type": "quantitative"
          }
         },
         "mark": {
          "opacity": 0.4,
          "type": "line"
         }
        },
        {
         "data": {
          "values": [
           {
            "x": 3.612463234871422,
            "y": 0
           },
           {
            "x": 3.612463234871422,
            "y": 13.049890623297697
           }
          ]
         },
         "encoding": {
          "x": {
           "field": "x",
           "type": "quantitative"
          },
          "y": {
           "field": "y",
           "type": "quantitative"
          }
         },
         "mark": {
          "opacity": 0.4,
          "type": "line"
         }
        },
        {
         "data": {
          "values": [
           {
            "x": 4.5312625948248915,
            "y": 0
           },
           {
            "x": 4.5312625948248915,
            "y": 20.53234070325921
           }
          ]
         },
         "encoding": {
          "x": {
           "field": "x",
           "type": "quantitative"
          },
          "y": {
           "field": "y",
           "type": "quantitative"
          }
         },
         "mark": {
          "opacity": 0.4,
          "type": "line"
         }
        },
        {
         "data": {
          "values": [
           {
            "x": 2.309766988485505,
            "y": 0
           },
           {
            "x": 2.309766988485505,
            "y": 5.3350235410974
           }
          ]
         },
         "encoding": {
          "x": {
           "field": "x",
           "type": "quantitative"
          },
          "y": {
           "field": "y",
           "type": "quantitative"
          }
         },
         "mark": {
          "opacity": 0.4,
          "type": "line"
         }
        },
        {
         "data": {
          "values": [
           {
            "x": 1.5270449209038952,
            "y": 0
           },
           {
            "x": 1.5270449209038952,
            "y": 2.3318661904583835
           }
          ]
         },
         "encoding": {
          "x": {
           "field": "x",
           "type": "quantitative"
          },
          "y": {
           "field": "y",
           "type": "quantitative"
          }
         },
         "mark": {
          "opacity": 0.4,
          "type": "line"
         }
        },
        {
         "data": {
          "values": [
           {
            "x": 2.3351358118511327,
            "y": 0
           },
           {
            "x": 2.3351358118511327,
            "y": 5.452859259789649
           }
          ]
         },
         "encoding": {
          "x": {
           "field": "x",
           "type": "quantitative"
          },
          "y": {
           "field": "y",
           "type": "quantitative"
          }
         },
         "mark": {
          "opacity": 0.4,
          "type": "line"
         }
        },
        {
         "data": {
          "values": [
           {
            "x": 2.4686370872148453,
            "y": 0
           },
           {
            "x": 2.4686370872148453,
            "y": 6.0941690683725955
           }
          ]
         },
         "encoding": {
          "x": {
           "field": "x",
           "type": "quantitative"
          },
          "y": {
           "field": "y",
           "type": "quantitative"
          }
         },
         "mark": {
          "opacity": 0.4,
          "type": "line"
         }
        },
        {
         "data": {
          "values": [
           {
            "x": 1.3089208135437012,
            "y": 0
           },
           {
            "x": 1.3089208135437012,
            "y": 1.7132736961279045
           }
          ]
         },
         "encoding": {
          "x": {
           "field": "x",
           "type": "quantitative"
          },
          "y": {
           "field": "y",
           "type": "quantitative"
          }
         },
         "mark": {
          "opacity": 0.4,
          "type": "line"
         }
        },
        {
         "data": {
          "values": [
           {
            "x": 1.0755698414970256,
            "y": 0
           },
           {
            "x": 1.0755698414970256,
            "y": 1.1568504839379368
           }
          ]
         },
         "encoding": {
          "x": {
           "field": "x",
           "type": "quantitative"
          },
          "y": {
           "field": "y",
           "type": "quantitative"
          }
         },
         "mark": {
          "opacity": 0.4,
          "type": "line"
         }
        },
        {
         "data": {
          "values": [
           {
            "x": 2.1682371634059088,
            "y": 0
           },
           {
            "x": 2.1682371634059088,
            "y": 4.7012523967745015
           }
          ]
         },
         "encoding": {
          "x": {
           "field": "x",
           "type": "quantitative"
          },
          "y": {
           "field": "y",
           "type": "quantitative"
          }
         },
         "mark": {
          "opacity": 0.4,
          "type": "line"
         }
        },
        {
         "data": {
          "values": [
           {
            "x": 3.080877478086923,
            "y": 0
           },
           {
            "x": 3.080877478086923,
            "y": 9.491806034983238
           }
          ]
         },
         "encoding": {
          "x": {
           "field": "x",
           "type": "quantitative"
          },
          "y": {
           "field": "y",
           "type": "quantitative"
          }
         },
         "mark": {
          "opacity": 0.4,
          "type": "line"
         }
        },
        {
         "data": {
          "values": [
           {
            "x": 4.948017266713631,
            "y": 0
           },
           {
            "x": 4.948017266713631,
            "y": 24.48287487169623
           }
          ]
         },
         "encoding": {
          "x": {
           "field": "x",
           "type": "quantitative"
          },
          "y": {
           "field": "y",
           "type": "quantitative"
          }
         },
         "mark": {
          "opacity": 0.4,
          "type": "line"
         }
        },
        {
         "data": {
          "values": [
           {
            "x": 3.4914611181158937,
            "y": 0
           },
           {
            "x": 3.4914611181158937,
            "y": 12.190300739315086
           }
          ]
         },
         "encoding": {
          "x": {
           "field": "x",
           "type": "quantitative"
          },
          "y": {
           "field": "y",
           "type": "quantitative"
          }
         },
         "mark": {
          "opacity": 0.4,
          "type": "line"
         }
        },
        {
         "data": {
          "values": [
           {
            "x": 2.0455988786166,
            "y": 0
           },
           {
            "x": 2.0455988786166,
            "y": 4.1844747721974915
           }
          ]
         },
         "encoding": {
          "x": {
           "field": "x",
           "type": "quantitative"
          },
          "y": {
           "field": "y",
           "type": "quantitative"
          }
         },
         "mark": {
          "opacity": 0.4,
          "type": "line"
         }
        },
        {
         "data": {
          "values": [
           {
            "x": 4.281523617693191,
            "y": 0
           },
           {
            "x": 4.281523617693191,
            "y": 18.331444488864587
           }
          ]
         },
         "encoding": {
          "x": {
           "field": "x",
           "type": "quantitative"
          },
          "y": {
           "field": "y",
           "type": "quantitative"
          }
         },
         "mark": {
          "opacity": 0.4,
          "type": "line"
         }
        },
        {
         "data": {
          "values": [
           {
            "x": 2.3031822763451397,
            "y": 0
           },
           {
            "x": 2.3031822763451397,
            "y": 5.304648598070379
           }
          ]
         },
         "encoding": {
          "x": {
           "field": "x",
           "type": "quantitative"
          },
          "y": {
           "field": "y",
           "type": "quantitative"
          }
         },
         "mark": {
          "opacity": 0.4,
          "type": "line"
         }
        },
        {
         "data": {
          "values": [
           {
            "x": 3.936691112355958,
            "y": 0
           },
           {
            "x": 3.936691112355958,
            "y": 15.49753691410239
           }
          ]
         },
         "encoding": {
          "x": {
           "field": "x",
           "type": "quantitative"
          },
          "y": {
           "field": "y",
           "type": "quantitative"
          }
         },
         "mark": {
          "opacity": 0.4,
          "type": "line"
         }
        },
        {
         "data": {
          "values": [
           {
            "x": 1.7219430844315884,
            "y": 0
           },
           {
            "x": 1.7219430844315884,
            "y": 2.9650879860217723
           }
          ]
         },
         "encoding": {
          "x": {
           "field": "x",
           "type": "quantitative"
          },
          "y": {
           "field": "y",
           "type": "quantitative"
          }
         },
         "mark": {
          "opacity": 0.4,
          "type": "line"
         }
        },
        {
         "data": {
          "values": [
           {
            "x": 2.4756938001561863,
            "y": 0
           },
           {
            "x": 2.4756938001561863,
            "y": 6.1290597921317795
           }
          ]
         },
         "encoding": {
          "x": {
           "field": "x",
           "type": "quantitative"
          },
          "y": {
           "field": "y",
           "type": "quantitative"
          }
         },
         "mark": {
          "opacity": 0.4,
          "type": "line"
         }
        },
        {
         "data": {
          "values": [
           {
            "x": -2.1460329770491127,
            "y": 0
           },
           {
            "x": -2.1460329770491127,
            "y": 4.605457538582277
           }
          ]
         },
         "encoding": {
          "x": {
           "field": "x",
           "type": "quantitative"
          },
          "y": {
           "field": "y",
           "type": "quantitative"
          }
         },
         "mark": {
          "opacity": 0.4,
          "type": "line"
         }
        },
        {
         "data": {
          "values": [
           {
            "x": 4.986506866582717,
            "y": 0
           },
           {
            "x": 4.986506866582717,
            "y": 24.865250730476586
           }
          ]
         },
         "encoding": {
          "x": {
           "field": "x",
           "type": "quantitative"
          },
          "y": {
           "field": "y",
           "type": "quantitative"
          }
         },
         "mark": {
          "opacity": 0.4,
          "type": "line"
         }
        },
        {
         "data": {
          "values": [
           {
            "x": 1.938775282989021,
            "y": 0
           },
           {
            "x": 1.938775282989021,
            "y": 3.7588495979291587
           }
          ]
         },
         "encoding": {
          "x": {
           "field": "x",
           "type": "quantitative"
          },
          "y": {
           "field": "y",
           "type": "quantitative"
          }
         },
         "mark": {
          "opacity": 0.4,
          "type": "line"
         }
        },
        {
         "data": {
          "values": [
           {
            "x": -0.44891115000684634,
            "y": 0
           },
           {
            "x": -0.44891115000684634,
            "y": 0.2015212206004693
           }
          ]
         },
         "encoding": {
          "x": {
           "field": "x",
           "type": "quantitative"
          },
          "y": {
           "field": "y",
           "type": "quantitative"
          }
         },
         "mark": {
          "opacity": 0.4,
          "type": "line"
         }
        },
        {
         "data": {
          "values": [
           {
            "x": 3.536552027880817,
            "y": 0
           },
           {
            "x": 3.536552027880817,
            "y": 12.50720024590792
           }
          ]
         },
         "encoding": {
          "x": {
           "field": "x",
           "type": "quantitative"
          },
          "y": {
           "field": "y",
           "type": "quantitative"
          }
         },
         "mark": {
          "opacity": 0.4,
          "type": "line"
         }
        },
        {
         "data": {
          "values": [
           {
            "x": 2.4140120816836217,
            "y": 0
           },
           {
            "x": 2.4140120816836217,
            "y": 5.827454330514493
           }
          ]
         },
         "encoding": {
          "x": {
           "field": "x",
           "type": "quantitative"
          },
          "y": {
           "field": "y",
           "type": "quantitative"
          }
         },
         "mark": {
          "opacity": 0.4,
          "type": "line"
         }
        },
        {
         "data": {
          "values": [
           {
            "x": 4.871118228493685,
            "y": 0
           },
           {
            "x": 4.871118228493685,
            "y": 23.72779279596346
           }
          ]
         },
         "encoding": {
          "x": {
           "field": "x",
           "type": "quantitative"
          },
          "y": {
           "field": "y",
           "type": "quantitative"
          }
         },
         "mark": {
          "opacity": 0.4,
          "type": "line"
         }
        },
        {
         "data": {
          "values": [
           {
            "x": -1.5580472679551622,
            "y": 0
           },
           {
            "x": -1.5580472679551622,
            "y": 2.427511289182545
           }
          ]
         },
         "encoding": {
          "x": {
           "field": "x",
           "type": "quantitative"
          },
          "y": {
           "field": "y",
           "type": "quantitative"
          }
         },
         "mark": {
          "opacity": 0.4,
          "type": "line"
         }
        },
        {
         "data": {
          "values": [
           {
            "x": 0.09932333726331333,
            "y": 0
           },
           {
            "x": 0.09932333726331333,
            "y": 0.009865125325121885
           }
          ]
         },
         "encoding": {
          "x": {
           "field": "x",
           "type": "quantitative"
          },
          "y": {
           "field": "y",
           "type": "quantitative"
          }
         },
         "mark": {
          "opacity": 0.4,
          "type": "line"
         }
        },
        {
         "data": {
          "values": [
           {
            "x": 2.457509634804776,
            "y": 0
           },
           {
            "x": 2.457509634804776,
            "y": 6.039353605158302
           }
          ]
         },
         "encoding": {
          "x": {
           "field": "x",
           "type": "quantitative"
          },
          "y": {
           "field": "y",
           "type": "quantitative"
          }
         },
         "mark": {
          "opacity": 0.4,
          "type": "line"
         }
        },
        {
         "data": {
          "values": [
           {
            "x": 4.123153560446965,
            "y": 0
           },
           {
            "x": 4.123153560446965,
            "y": 17.00039528302648
           }
          ]
         },
         "encoding": {
          "x": {
           "field": "x",
           "type": "quantitative"
          },
          "y": {
           "field": "y",
           "type": "quantitative"
          }
         },
         "mark": {
          "opacity": 0.4,
          "type": "line"
         }
        },
        {
         "data": {
          "values": [
           {
            "x": 0.21144300526683368,
            "y": 0
           },
           {
            "x": 0.21144300526683368,
            "y": 0.04470814447627026
           }
          ]
         },
         "encoding": {
          "x": {
           "field": "x",
           "type": "quantitative"
          },
          "y": {
           "field": "y",
           "type": "quantitative"
          }
         },
         "mark": {
          "opacity": 0.4,
          "type": "line"
         }
        },
        {
         "data": {
          "values": [
           {
            "x": 3.099220772750483,
            "y": 0
           },
           {
            "x": 3.099220772750483,
            "y": 9.605169398248101
           }
          ]
         },
         "encoding": {
          "x": {
           "field": "x",
           "type": "quantitative"
          },
          "y": {
           "field": "y",
           "type": "quantitative"
          }
         },
         "mark": {
          "opacity": 0.4,
          "type": "line"
         }
        },
        {
         "data": {
          "values": [
           {
            "x": 0.10172381475838543,
            "y": 0
           },
           {
            "x": 0.10172381475838543,
            "y": 0.010347734488998315
           }
          ]
         },
         "encoding": {
          "x": {
           "field": "x",
           "type": "quantitative"
          },
          "y": {
           "field": "y",
           "type": "quantitative"
          }
         },
         "mark": {
          "opacity": 0.4,
          "type": "line"
         }
        },
        {
         "data": {
          "values": [
           {
            "x": 2.1705416011975243,
            "y": 0
           },
           {
            "x": 2.1705416011975243,
            "y": 4.711250842529113
           }
          ]
         },
         "encoding": {
          "x": {
           "field": "x",
           "type": "quantitative"
          },
          "y": {
           "field": "y",
           "type": "quantitative"
          }
         },
         "mark": {
          "opacity": 0.4,
          "type": "line"
         }
        },
        {
         "data": {
          "values": [
           {
            "x": 4.887113040627691,
            "y": 0
           },
           {
            "x": 4.887113040627691,
            "y": 23.883873871873234
           }
          ]
         },
         "encoding": {
          "x": {
           "field": "x",
           "type": "quantitative"
          },
          "y": {
           "field": "y",
           "type": "quantitative"
          }
         },
         "mark": {
          "opacity": 0.4,
          "type": "line"
         }
        },
        {
         "data": {
          "values": [
           {
            "x": 2.230706093327117,
            "y": 0
           },
           {
            "x": 2.230706093327117,
            "y": 4.9760496748067276
           }
          ]
         },
         "encoding": {
          "x": {
           "field": "x",
           "type": "quantitative"
          },
          "y": {
           "field": "y",
           "type": "quantitative"
          }
         },
         "mark": {
          "opacity": 0.4,
          "type": "line"
         }
        },
        {
         "data": {
          "values": [
           {
            "x": 0.6809878992302656,
            "y": 0
           },
           {
            "x": 0.6809878992302656,
            "y": 0.46374451889805035
           }
          ]
         },
         "encoding": {
          "x": {
           "field": "x",
           "type": "quantitative"
          },
          "y": {
           "field": "y",
           "type": "quantitative"
          }
         },
         "mark": {
          "opacity": 0.4,
          "type": "line"
         }
        },
        {
         "data": {
          "values": [
           {
            "x": 3.05219504550069,
            "y": 0
           },
           {
            "x": 3.05219504550069,
            "y": 9.31589459577896
           }
          ]
         },
         "encoding": {
          "x": {
           "field": "x",
           "type": "quantitative"
          },
          "y": {
           "field": "y",
           "type": "quantitative"
          }
         },
         "mark": {
          "opacity": 0.4,
          "type": "line"
         }
        },
        {
         "data": {
          "values": [
           {
            "x": 1.4559672232596144,
            "y": 0
           },
           {
            "x": 1.4559672232596144,
            "y": 2.1198405552063115
           }
          ]
         },
         "encoding": {
          "x": {
           "field": "x",
           "type": "quantitative"
          },
          "y": {
           "field": "y",
           "type": "quantitative"
          }
         },
         "mark": {
          "opacity": 0.4,
          "type": "line"
         }
        },
        {
         "data": {
          "values": [
           {
            "x": 2.8420974317640657,
            "y": 0
           },
           {
            "x": 2.8420974317640657,
            "y": 8.077517811639899
           }
          ]
         },
         "encoding": {
          "x": {
           "field": "x",
           "type": "quantitative"
          },
          "y": {
           "field": "y",
           "type": "quantitative"
          }
         },
         "mark": {
          "opacity": 0.4,
          "type": "line"
         }
        },
        {
         "data": {
          "values": [
           {
            "x": 3.6161181915054774,
            "y": 0
           },
           {
            "x": 3.6161181915054774,
            "y": 13.076310774936845
           }
          ]
         },
         "encoding": {
          "x": {
           "field": "x",
           "type": "quantitative"
          },
          "y": {
           "field": "y",
           "type": "quantitative"
          }
         },
         "mark": {
          "opacity": 0.4,
          "type": "line"
         }
        },
        {
         "data": {
          "values": [
           {
            "x": 1.6658058290552487,
            "y": 0
           },
           {
            "x": 1.6658058290552487,
            "y": 2.774909060114444
           }
          ]
         },
         "encoding": {
          "x": {
           "field": "x",
           "type": "quantitative"
          },
          "y": {
           "field": "y",
           "type": "quantitative"
          }
         },
         "mark": {
          "opacity": 0.4,
          "type": "line"
         }
        },
        {
         "data": {
          "values": [
           {
            "x": -1.7400818120077686,
            "y": 0
           },
           {
            "x": -1.7400818120077686,
            "y": 3.027884712480239
           }
          ]
         },
         "encoding": {
          "x": {
           "field": "x",
           "type": "quantitative"
          },
          "y": {
           "field": "y",
           "type": "quantitative"
          }
         },
         "mark": {
          "opacity": 0.4,
          "type": "line"
         }
        },
        {
         "data": {
          "values": [
           {
            "x": -1.7203274923932472,
            "y": 0
           },
           {
            "x": -1.7203274923932472,
            "y": 2.959526681084038
           }
          ]
         },
         "encoding": {
          "x": {
           "field": "x",
           "type": "quantitative"
          },
          "y": {
           "field": "y",
           "type": "quantitative"
          }
         },
         "mark": {
          "opacity": 0.4,
          "type": "line"
         }
        },
        {
         "data": {
          "values": [
           {
            "x": 2.715549235868193,
            "y": 0
           },
           {
            "x": 2.715549235868193,
            "y": 7.374207652424328
           }
          ]
         },
         "encoding": {
          "x": {
           "field": "x",
           "type": "quantitative"
          },
          "y": {
           "field": "y",
           "type": "quantitative"
          }
         },
         "mark": {
          "opacity": 0.4,
          "type": "line"
         }
        },
        {
         "data": {
          "values": [
           {
            "x": 3.503581528416798,
            "y": 0
           },
           {
            "x": 3.503581528416798,
            "y": 12.275083526263385
           }
          ]
         },
         "encoding": {
          "x": {
           "field": "x",
           "type": "quantitative"
          },
          "y": {
           "field": "y",
           "type": "quantitative"
          }
         },
         "mark": {
          "opacity": 0.4,
          "type": "line"
         }
        },
        {
         "data": {
          "values": [
           {
            "x": 2.2369900067667055,
            "y": 0
           },
           {
            "x": 2.2369900067667055,
            "y": 5.004124290374105
           }
          ]
         },
         "encoding": {
          "x": {
           "field": "x",
           "type": "quantitative"
          },
          "y": {
           "field": "y",
           "type": "quantitative"
          }
         },
         "mark": {
          "opacity": 0.4,
          "type": "line"
         }
        },
        {
         "data": {
          "values": [
           {
            "x": 3.0671019003419193,
            "y": 0
           },
           {
            "x": 3.0671019003419193,
            "y": 9.407114067081013
           }
          ]
         },
         "encoding": {
          "x": {
           "field": "x",
           "type": "quantitative"
          },
          "y": {
           "field": "y",
           "type": "quantitative"
          }
         },
         "mark": {
          "opacity": 0.4,
          "type": "line"
         }
        },
        {
         "data": {
          "values": [
           {
            "x": 1.343891233389021,
            "y": 0
           },
           {
            "x": 1.343891233389021,
            "y": 1.806043647179864
           }
          ]
         },
         "encoding": {
          "x": {
           "field": "x",
           "type": "quantitative"
          },
          "y": {
           "field": "y",
           "type": "quantitative"
          }
         },
         "mark": {
          "opacity": 0.4,
          "type": "line"
         }
        },
        {
         "data": {
          "values": [
           {
            "x": 1.9622277474459802,
            "y": 0
           },
           {
            "x": 1.9622277474459802,
            "y": 3.8503377328469255
           }
          ]
         },
         "encoding": {
          "x": {
           "field": "x",
           "type": "quantitative"
          },
          "y": {
           "field": "y",
           "type": "quantitative"
          }
         },
         "mark": {
          "opacity": 0.4,
          "type": "line"
         }
        },
        {
         "data": {
          "values": [
           {
            "x": 5.075260893346048,
            "y": 0
           },
           {
            "x": 5.075260893346048,
            "y": 25.758273135527723
           }
          ]
         },
         "encoding": {
          "x": {
           "field": "x",
           "type": "quantitative"
          },
          "y": {
           "field": "y",
           "type": "quantitative"
          }
         },
         "mark": {
          "opacity": 0.4,
          "type": "line"
         }
        },
        {
         "data": {
          "values": [
           {
            "x": 4.632251661759234,
            "y": 0
           },
           {
            "x": 4.632251661759234,
            "y": 21.457755457871187
           }
          ]
         },
         "encoding": {
          "x": {
           "field": "x",
           "type": "quantitative"
          },
          "y": {
           "field": "y",
           "type": "quantitative"
          }
         },
         "mark": {
          "opacity": 0.4,
          "type": "line"
         }
        },
        {
         "data": {
          "values": [
           {
            "x": 2.7606195339251682,
            "y": 0
           },
           {
            "x": 2.7606195339251682,
            "y": 7.621020211089213
           }
          ]
         },
         "encoding": {
          "x": {
           "field": "x",
           "type": "quantitative"
          },
          "y": {
           "field": "y",
           "type": "quantitative"
          }
         },
         "mark": {
          "opacity": 0.4,
          "type": "line"
         }
        },
        {
         "data": {
          "values": [
           {
            "x": 3.381039475620231,
            "y": 0
           },
           {
            "x": 3.381039475620231,
            "y": 11.431427935702327
           }
          ]
         },
         "encoding": {
          "x": {
           "field": "x",
           "type": "quantitative"
          },
          "y": {
           "field": "y",
           "type": "quantitative"
          }
         },
         "mark": {
          "opacity": 0.4,
          "type": "line"
         }
        },
        {
         "data": {
          "values": [
           {
            "x": 1.5830232091900958,
            "y": 0
           },
           {
            "x": 1.5830232091900958,
            "y": 2.50596248083451
           }
          ]
         },
         "encoding": {
          "x": {
           "field": "x",
           "type": "quantitative"
          },
          "y": {
           "field": "y",
           "type": "quantitative"
          }
         },
         "mark": {
          "opacity": 0.4,
          "type": "line"
         }
        },
        {
         "data": {
          "values": [
           {
            "x": 1.1325679654984033,
            "y": 0
           },
           {
            "x": 1.1325679654984033,
            "y": 1.2827101964731926
           }
          ]
         },
         "encoding": {
          "x": {
           "field": "x",
           "type": "quantitative"
          },
          "y": {
           "field": "y",
           "type": "quantitative"
          }
         },
         "mark": {
          "opacity": 0.4,
          "type": "line"
         }
        },
        {
         "data": {
          "values": [
           {
            "x": 4.926383106927686,
            "y": 0
           },
           {
            "x": 4.926383106927686,
            "y": 24.269250516222478
           }
          ]
         },
         "encoding": {
          "x": {
           "field": "x",
           "type": "quantitative"
          },
          "y": {
           "field": "y",
           "type": "quantitative"
          }
         },
         "mark": {
          "opacity": 0.4,
          "type": "line"
         }
        },
        {
         "data": {
          "values": [
           {
            "x": 5.731551820015672,
            "y": 0
           },
           {
            "x": 5.731551820015672,
            "y": 32.85068626552496
           }
          ]
         },
         "encoding": {
          "x": {
           "field": "x",
           "type": "quantitative"
          },
          "y": {
           "field": "y",
           "type": "quantitative"
          }
         },
         "mark": {
          "opacity": 0.4,
          "type": "line"
         }
        },
        {
         "data": {
          "values": [
           {
            "x": 4.962281027625664,
            "y": 0
           },
           {
            "x": 4.962281027625664,
            "y": 24.62423299713362
           }
          ]
         },
         "encoding": {
          "x": {
           "field": "x",
           "type": "quantitative"
          },
          "y": {
           "field": "y",
           "type": "quantitative"
          }
         },
         "mark": {
          "opacity": 0.4,
          "type": "line"
         }
        },
        {
         "data": {
          "values": [
           {
            "x": 4.3209160834865,
            "y": 0
           },
           {
            "x": 4.3209160834865,
            "y": 18.670315800532315
           }
          ]
         },
         "encoding": {
          "x": {
           "field": "x",
           "type": "quantitative"
          },
          "y": {
           "field": "y",
           "type": "quantitative"
          }
         },
         "mark": {
          "opacity": 0.4,
          "type": "line"
         }
        },
        {
         "data": {
          "values": [
           {
            "x": -0.4951064086282595,
            "y": 0
           },
           {
            "x": -0.4951064086282595,
            "y": 0.24513035586477308
           }
          ]
         },
         "encoding": {
          "x": {
           "field": "x",
           "type": "quantitative"
          },
          "y": {
           "field": "y",
           "type": "quantitative"
          }
         },
         "mark": {
          "opacity": 0.4,
          "type": "line"
         }
        },
        {
         "data": {
          "values": [
           {
            "x": 4.041886193477516,
            "y": 0
           },
           {
            "x": 4.041886193477516,
            "y": 16.33684400102416
           }
          ]
         },
         "encoding": {
          "x": {
           "field": "x",
           "type": "quantitative"
          },
          "y": {
           "field": "y",
           "type": "quantitative"
          }
         },
         "mark": {
          "opacity": 0.4,
          "type": "line"
         }
        },
        {
         "data": {
          "values": [
           {
            "x": -2.500850831370414,
            "y": 0
           },
           {
            "x": -2.500850831370414,
            "y": 6.254254880766092
           }
          ]
         },
         "encoding": {
          "x": {
           "field": "x",
           "type": "quantitative"
          },
          "y": {
           "field": "y",
           "type": "quantitative"
          }
         },
         "mark": {
          "opacity": 0.4,
          "type": "line"
         }
        },
        {
         "data": {
          "values": [
           {
            "x": 4.274168169221544,
            "y": 0
           },
           {
            "x": 4.274168169221544,
            "y": 18.268513538786642
           }
          ]
         },
         "encoding": {
          "x": {
           "field": "x",
           "type": "quantitative"
          },
          "y": {
           "field": "y",
           "type": "quantitative"
          }
         },
         "mark": {
          "opacity": 0.4,
          "type": "line"
         }
        },
        {
         "data": {
          "values": [
           {
            "x": 3.5043994564197742,
            "y": 0
           },
           {
            "x": 3.5043994564197742,
            "y": 12.280815550155209
           }
          ]
         },
         "encoding": {
          "x": {
           "field": "x",
           "type": "quantitative"
          },
          "y": {
           "field": "y",
           "type": "quantitative"
          }
         },
         "mark": {
          "opacity": 0.4,
          "type": "line"
         }
        },
        {
         "data": {
          "values": [
           {
            "x": 0.9960010338766181,
            "y": 0
           },
           {
            "x": 0.9960010338766181,
            "y": 0.9920180594832921
           }
          ]
         },
         "encoding": {
          "x": {
           "field": "x",
           "type": "quantitative"
          },
          "y": {
           "field": "y",
           "type": "quantitative"
          }
         },
         "mark": {
          "opacity": 0.4,
          "type": "line"
         }
        },
        {
         "data": {
          "values": [
           {
            "x": -0.024505109929978452,
            "y": 0
           },
           {
            "x": -0.024505109929978452,
            "y": 0.0006005004126803285
           }
          ]
         },
         "encoding": {
          "x": {
           "field": "x",
           "type": "quantitative"
          },
          "y": {
           "field": "y",
           "type": "quantitative"
          }
         },
         "mark": {
          "opacity": 0.4,
          "type": "line"
         }
        },
        {
         "data": {
          "values": [
           {
            "x": 2.476409940270858,
            "y": 0
           },
           {
            "x": 2.476409940270858,
            "y": 6.1326061922723145
           }
          ]
         },
         "encoding": {
          "x": {
           "field": "x",
           "type": "quantitative"
          },
          "y": {
           "field": "y",
           "type": "quantitative"
          }
         },
         "mark": {
          "opacity": 0.4,
          "type": "line"
         }
        },
        {
         "data": {
          "values": [
           {
            "x": 2.8785423930271605,
            "y": 0
           },
           {
            "x": 2.8785423930271605,
            "y": 8.286006308454532
           }
          ]
         },
         "encoding": {
          "x": {
           "field": "x",
           "type": "quantitative"
          },
          "y": {
           "field": "y",
           "type": "quantitative"
          }
         },
         "mark": {
          "opacity": 0.4,
          "type": "line"
         }
        },
        {
         "data": {
          "values": [
           {
            "x": 1.0478140228361532,
            "y": 0
           },
           {
            "x": 1.0478140228361532,
            "y": 1.0979142264520827
           }
          ]
         },
         "encoding": {
          "x": {
           "field": "x",
           "type": "quantitative"
          },
          "y": {
           "field": "y",
           "type": "quantitative"
          }
         },
         "mark": {
          "opacity": 0.4,
          "type": "line"
         }
        },
        {
         "data": {
          "values": [
           {
            "x": 0.7549805885093088,
            "y": 0
           },
           {
            "x": 0.7549805885093088,
            "y": 0.5699956890258623
           }
          ]
         },
         "encoding": {
          "x": {
           "field": "x",
           "type": "quantitative"
          },
          "y": {
           "field": "y",
           "type": "quantitative"
          }
         },
         "mark": {
          "opacity": 0.4,
          "type": "line"
         }
        },
        {
         "data": {
          "values": [
           {
            "x": -0.368653916303491,
            "y": 0
           },
           {
            "x": -0.368653916303491,
            "y": 0.13590571000590132
           }
          ]
         },
         "encoding": {
          "x": {
           "field": "x",
           "type": "quantitative"
          },
          "y": {
           "field": "y",
           "type": "quantitative"
          }
         },
         "mark": {
          "opacity": 0.4,
          "type": "line"
         }
        },
        {
         "data": {
          "values": [
           {
            "x": 2.6423825088679633,
            "y": 0
           },
           {
            "x": 2.6423825088679633,
            "y": 6.982185323171352
           }
          ]
         },
         "encoding": {
          "x": {
           "field": "x",
           "type": "quantitative"
          },
          "y": {
           "field": "y",
           "type": "quantitative"
          }
         },
         "mark": {
          "opacity": 0.4,
          "type": "line"
         }
        },
        {
         "data": {
          "values": [
           {
            "x": 2.6367093377141506,
            "y": 0
           },
           {
            "x": 2.6367093377141506,
            "y": 6.952236131588995
           }
          ]
         },
         "encoding": {
          "x": {
           "field": "x",
           "type": "quantitative"
          },
          "y": {
           "field": "y",
           "type": "quantitative"
          }
         },
         "mark": {
          "opacity": 0.4,
          "type": "line"
         }
        },
        {
         "data": {
          "values": [
           {
            "x": 3.6866262457843604,
            "y": 0
           },
           {
            "x": 3.6866262457843604,
            "y": 13.591213076106087
           }
          ]
         },
         "encoding": {
          "x": {
           "field": "x",
           "type": "quantitative"
          },
          "y": {
           "field": "y",
           "type": "quantitative"
          }
         },
         "mark": {
          "opacity": 0.4,
          "type": "line"
         }
        },
        {
         "data": {
          "values": [
           {
            "x": 2.82233564707927,
            "y": 0
           },
           {
            "x": 2.82233564707927,
            "y": 7.965578504774362
           }
          ]
         },
         "encoding": {
          "x": {
           "field": "x",
           "type": "quantitative"
          },
          "y": {
           "field": "y",
           "type": "quantitative"
          }
         },
         "mark": {
          "opacity": 0.4,
          "type": "line"
         }
        },
        {
         "data": {
          "values": [
           {
            "x": 2.7561490206923795,
            "y": 0
           },
           {
            "x": 2.7561490206923795,
            "y": 7.596357424263563
           }
          ]
         },
         "encoding": {
          "x": {
           "field": "x",
           "type": "quantitative"
          },
          "y": {
           "field": "y",
           "type": "quantitative"
          }
         },
         "mark": {
          "opacity": 0.4,
          "type": "line"
         }
        },
        {
         "data": {
          "values": [
           {
            "x": 2.1027730010781154,
            "y": 0
           },
           {
            "x": 2.1027730010781154,
            "y": 4.421654294063064
           }
          ]
         },
         "encoding": {
          "x": {
           "field": "x",
           "type": "quantitative"
          },
          "y": {
           "field": "y",
           "type": "quantitative"
          }
         },
         "mark": {
          "opacity": 0.4,
          "type": "line"
         }
        },
        {
         "data": {
          "values": [
           {
            "x": 2.455168023217745,
            "y": 0
           },
           {
            "x": 2.455168023217745,
            "y": 6.02785002223093
           }
          ]
         },
         "encoding": {
          "x": {
           "field": "x",
           "type": "quantitative"
          },
          "y": {
           "field": "y",
           "type": "quantitative"
          }
         },
         "mark": {
          "opacity": 0.4,
          "type": "line"
         }
        },
        {
         "data": {
          "values": [
           {
            "x": 6.459689199487323,
            "y": 0
           },
           {
            "x": 6.459689199487323,
            "y": 41.727584553973166
           }
          ]
         },
         "encoding": {
          "x": {
           "field": "x",
           "type": "quantitative"
          },
          "y": {
           "field": "y",
           "type": "quantitative"
          }
         },
         "mark": {
          "opacity": 0.4,
          "type": "line"
         }
        },
        {
         "data": {
          "values": [
           {
            "x": 4.396792091346704,
            "y": 0
           },
           {
            "x": 4.396792091346704,
            "y": 19.331780694528923
           }
          ]
         },
         "encoding": {
          "x": {
           "field": "x",
           "type": "quantitative"
          },
          "y": {
           "field": "y",
           "type": "quantitative"
          }
         },
         "mark": {
          "opacity": 0.4,
          "type": "line"
         }
        },
        {
         "data": {
          "values": [
           {
            "x": -2.500850831370414,
            "y": 6.254254880766092
           },
           {
            "x": -2.490652589444278,
            "y": 6.203350321305488
           },
           {
            "x": -2.480454347518142,
            "y": 6.152653770121653
           },
           {
            "x": -2.4702561055920063,
            "y": 6.102165227214585
           },
           {
            "x": -2.4600578636658703,
            "y": 6.051884692584286
           },
           {
            "x": -2.4498596217397344,
            "y": 6.001812166230755
           },
           {
            "x": -2.4396613798135984,
            "y": 5.951947648153991
           },
           {
            "x": -2.4294631378874625,
            "y": 5.902291138353996
           },
           {
            "x": -2.4192648959613265,
            "y": 5.852842636830768
           },
           {
            "x": -2.4090666540351906,
            "y": 5.803602143584309
           },
           {
            "x": -2.3988684121090547,
            "y": 5.754569658614617
           },
           {
            "x": -2.3886701701829187,
            "y": 5.705745181921694
           },
           {
            "x": -2.3784719282567828,
            "y": 5.657128713505538
           },
           {
            "x": -2.368273686330647,
            "y": 5.608720253366151
           },
           {
            "x": -2.358075444404511,
            "y": 5.560519801503531
           },
           {
            "x": -2.347877202478375,
            "y": 5.51252735791768
           },
           {
            "x": -2.3376789605522386,
            "y": 5.464742922608594
           },
           {
            "x": -2.3274807186261026,
            "y": 5.4171664955762795
           },
           {
            "x": -2.3172824766999667,
            "y": 5.369798076820731
           },
           {
            "x": -2.3070842347738307,
            "y": 5.322637666341953
           },
           {
            "x": -2.296885992847695,
            "y": 5.27568526413994
           },
           {
            "x": -2.286687750921559,
            "y": 5.228940870214697
           },
           {
            "x": -2.276489508995423,
            "y": 5.182404484566222
           },
           {
            "x": -2.266291267069287,
            "y": 5.136076107194514
           },
           {
            "x": -2.256093025143151,
            "y": 5.089955738099575
           },
           {
            "x": -2.245894783217015,
            "y": 5.044043377281403
           },
           {
            "x": -2.235696541290879,
            "y": 4.99833902474
           },
           {
            "x": -2.225498299364743,
            "y": 4.9528426804753645
           },
           {
            "x": -2.2153000574386073,
            "y": 4.9075543444874965
           },
           {
            "x": -2.2051018155124713,
            "y": 4.862474016776397
           },
           {
            "x": -2.1949035735863354,
            "y": 4.817601697342066
           },
           {
            "x": -2.1847053316601994,
            "y": 4.772937386184502
           },
           {
            "x": -2.1745070897340635,
            "y": 4.7284810833037065
           },
           {
            "x": -2.1643088478079275,
            "y": 4.684232788699679
           },
           {
            "x": -2.1541106058817916,
            "y": 4.640192502372419
           },
           {
            "x": -2.1439123639556557,
            "y": 4.596360224321928
           },
           {
            "x": -2.1337141220295197,
            "y": 4.552735954548204
           },
           {
            "x": -2.1235158801033838,
            "y": 4.509319693051249
           },
           {
            "x": -2.113317638177248,
            "y": 4.466111439831061
           },
           {
            "x": -2.103119396251112,
            "y": 4.423111194887642
           },
           {
            "x": -2.092921154324976,
            "y": 4.38031895822099
           },
           {
            "x": -2.0827229123988396,
            "y": 4.337734729831104
           },
           {
            "x": -2.0725246704727036,
            "y": 4.295358509717989
           },
           {
            "x": -2.0623264285465677,
            "y": 4.253190297881641
           },
           {
            "x": -2.0521281866204317,
            "y": 4.211230094322062
           },
           {
            "x": -2.041929944694296,
            "y": 4.16947789903925
           },
           {
            "x": -2.03173170276816,
            "y": 4.127933712033206
           },
           {
            "x": -2.021533460842024,
            "y": 4.08659753330393
           },
           {
            "x": -2.011335218915888,
            "y": 4.045469362851423
           },
           {
            "x": -2.001136976989752,
            "y": 4.004549200675683
           },
           {
            "x": -1.990938735063616,
            "y": 3.9638370467767117
           },
           {
            "x": -1.9807404931374801,
            "y": 3.923332901154508
           },
           {
            "x": -1.9705422512113442,
            "y": 3.883036763809072
           },
           {
            "x": -1.9603440092852082,
            "y": 3.8429486347404045
           },
           {
            "x": -1.9501457673590723,
            "y": 3.8030685139485048
           },
           {
            "x": -1.9399475254329364,
            "y": 3.7633964014333734
           },
           {
            "x": -1.9297492835068004,
            "y": 3.7239322971950095
           },
           {
            "x": -1.9195510415806645,
            "y": 3.684676201233414
           },
           {
            "x": -1.9093527996545285,
            "y": 3.645628113548586
           },
           {
            "x": -1.8991545577283926,
            "y": 3.6067880341405263
           },
           {
            "x": -1.8889563158022566,
            "y": 3.5681559630092345
           },
           {
            "x": -1.8787580738761207,
            "y": 3.529731900154711
           },
           {
            "x": -1.8685598319499848,
            "y": 3.4915158455769553
           },
           {
            "x": -1.8583615900238488,
            "y": 3.4535077992759677
           },
           {
            "x": -1.8481633480977129,
            "y": 3.4157077612517477
           },
           {
            "x": -1.837965106171577,
            "y": 3.378115731504296
           },
           {
            "x": -1.827766864245441,
            "y": 3.3407317100336122
           },
           {
            "x": -1.817568622319305,
            "y": 3.3035556968396964
           },
           {
            "x": -1.8073703803931689,
            "y": 3.266587691922548
           },
           {
            "x": -1.797172138467033,
            "y": 3.229827695282168
           },
           {
            "x": -1.786973896540897,
            "y": 3.1932757069185564
           },
           {
            "x": -1.776775654614761,
            "y": 3.1569317268317127
           },
           {
            "x": -1.7665774126886251,
            "y": 3.120795755021637
           },
           {
            "x": -1.7563791707624892,
            "y": 3.084867791488329
           },
           {
            "x": -1.7461809288363532,
            "y": 3.049147836231789
           },
           {
            "x": -1.735982686910217,
            "y": 3.0136358892520168
           },
           {
            "x": -1.7257844449840811,
            "y": 2.978331950549013
           },
           {
            "x": -1.7155862030579452,
            "y": 2.943236020122777
           },
           {
            "x": -1.7053879611318092,
            "y": 2.908348097973309
           },
           {
            "x": -1.6951897192056733,
            "y": 2.8736681841006093
           },
           {
            "x": -1.6849914772795374,
            "y": 2.839196278504678
           },
           {
            "x": -1.6747932353534014,
            "y": 2.804932381185514
           },
           {
            "x": -1.6645949934272655,
            "y": 2.770876492143118
           },
           {
            "x": -1.6543967515011295,
            "y": 2.73702861137749
           },
           {
            "x": -1.6441985095749936,
            "y": 2.70338873888863
           },
           {
            "x": -1.6340002676488576,
            "y": 2.6699568746765383
           },
           {
            "x": -1.6238020257227217,
            "y": 2.6367330187412144
           },
           {
            "x": -1.6136037837965858,
            "y": 2.6037171710826588
           },
           {
            "x": -1.6034055418704498,
            "y": 2.5709093317008707
           },
           {
            "x": -1.5932072999443139,
            "y": 2.538309500595851
           },
           {
            "x": -1.583009058018178,
            "y": 2.505917677767599
           },
           {
            "x": -1.572810816092042,
            "y": 2.473733863216115
           },
           {
            "x": -1.562612574165906,
            "y": 2.4417580569413992
           },
           {
            "x": -1.55241433223977,
            "y": 2.409990258943451
           },
           {
            "x": -1.5422160903136342,
            "y": 2.3784304692222715
           },
           {
            "x": -1.5320178483874982,
            "y": 2.3470786877778593
           },
           {
            "x": -1.521819606461362,
            "y": 2.315934914610215
           },
           {
            "x": -1.511621364535226,
            "y": 2.284999149719339
           },
           {
            "x": -1.5014231226090902,
            "y": 2.254271393105231
           },
           {
            "x": -1.4912248806829542,
            "y": 2.223751644767891
           },
           {
            "x": -1.4810266387568183,
            "y": 2.193439904707319
           },
           {
            "x": -1.4708283968306823,
            "y": 2.163336172923515
           },
           {
            "x": -1.4606301549045464,
            "y": 2.1334404494164794
           },
           {
            "x": -1.4504319129784105,
            "y": 2.1037527341862114
           },
           {
            "x": -1.4402336710522745,
            "y": 2.0742730272327115
           },
           {
            "x": -1.4300354291261386,
            "y": 2.0450013285559794
           },
           {
            "x": -1.4198371872000026,
            "y": 2.0159376381560152
           },
           {
            "x": -1.4096389452738665,
            "y": 1.9870819560328188
           },
           {
            "x": -1.3994407033477305,
            "y": 1.9584342821863907
           },
           {
            "x": -1.3892424614215946,
            "y": 1.9299946166167308
           },
           {
            "x": -1.3790442194954586,
            "y": 1.9017629593238388
           },
           {
            "x": -1.3688459775693227,
            "y": 1.8737393103077147
           },
           {
            "x": -1.3586477356431867,
            "y": 1.8459236695683587
           },
           {
            "x": -1.3484494937170508,
            "y": 1.8183160371057707
           },
           {
            "x": -1.3382512517909149,
            "y": 1.7909164129199506
           },
           {
            "x": -1.328053009864779,
            "y": 1.7637247970108987
           },
           {
            "x": -1.317854767938643,
            "y": 1.7367411893786144
           },
           {
            "x": -1.307656526012507,
            "y": 1.7099655900230986
           },
           {
            "x": -1.297458284086371,
            "y": 1.6833979989443504
           },
           {
            "x": -1.2872600421602352,
            "y": 1.6570384161423704
           },
           {
            "x": -1.2770618002340992,
            "y": 1.6308868416171582
           },
           {
            "x": -1.266863558307963,
            "y": 1.6049432753687136
           },
           {
            "x": -1.256665316381827,
            "y": 1.5792077173970376
           },
           {
            "x": -1.2464670744556912,
            "y": 1.5536801677021295
           },
           {
            "x": -1.2362688325295552,
            "y": 1.5283606262839895
           },
           {
            "x": -1.2260705906034193,
            "y": 1.5032490931426175
           },
           {
            "x": -1.2158723486772833,
            "y": 1.4783455682780133
           },
           {
            "x": -1.2056741067511474,
            "y": 1.4536500516901771
           },
           {
            "x": -1.1954758648250114,
            "y": 1.429162543379109
           },
           {
            "x": -1.1852776228988755,
            "y": 1.404883043344809
           },
           {
            "x": -1.1750793809727396,
            "y": 1.3808115515872768
           },
           {
            "x": -1.1648811390466036,
            "y": 1.3569480681065127
           },
           {
            "x": -1.1546828971204677,
            "y": 1.3332925929025166
           },
           {
            "x": -1.1444846551943317,
            "y": 1.3098451259752883
           },
           {
            "x": -1.1342864132681958,
            "y": 1.2866056673248283
           },
           {
            "x": -1.1240881713420598,
            "y": 1.2635742169511361
           },
           {
            "x": -1.1138899294159237,
            "y": 1.2407507748542115
           },
           {
            "x": -1.1036916874897877,
            "y": 1.2181353410340552
           },
           {
            "x": -1.0934934455636518,
            "y": 1.195727915490667
           },
           {
            "x": -1.0832952036375159,
            "y": 1.173528498224047
           },
           {
            "x": -1.07309696171138,
            "y": 1.1515370892341947
           },
           {
            "x": -1.062898719785244,
            "y": 1.1297536885211106
           },
           {
            "x": -1.052700477859108,
            "y": 1.1081782960847943
           },
           {
            "x": -1.042502235932972,
            "y": 1.0868109119252463
           },
           {
            "x": -1.0323039940068361,
            "y": 1.065651536042466
           },
           {
            "x": -1.0221057520807002,
            "y": 1.0447001684364539
           },
           {
            "x": -1.0119075101545643,
            "y": 1.0239568091072095
           },
           {
            "x": -1.0017092682284283,
            "y": 1.0034214580547334
           },
           {
            "x": -0.9915110263022924,
            "y": 0.9830941152790251
           },
           {
            "x": -0.9813127843761564,
            "y": 0.9629747807800849
           },
           {
            "x": -0.9711145424500203,
            "y": 0.9430634545579122
           },
           {
            "x": -0.9609163005238843,
            "y": 0.9233601366125079
           },
           {
            "x": -0.9507180585977484,
            "y": 0.9038648269438717
           },
           {
            "x": -0.9405198166716124,
            "y": 0.8845775255520035
           },
           {
            "x": -0.9303215747454765,
            "y": 0.8654982324369033
           },
           {
            "x": -0.9201233328193406,
            "y": 0.8466269475985709
           },
           {
            "x": -0.9099250908932046,
            "y": 0.8279636710370066
           },
           {
            "x": -0.8997268489670687,
            "y": 0.8095084027522104
           },
           {
            "x": -0.8895286070409327,
            "y": 0.7912611427441821
           },
           {
            "x": -0.8793303651147968,
            "y": 0.7732218910129218
           },
           {
            "x": -0.8691321231886608,
            "y": 0.7553906475584296
           },
           {
            "x": -0.8589338812625249,
            "y": 0.7377674123807052
           },
           {
            "x": -0.848735639336389,
            "y": 0.7203521854797489
           },
           {
            "x": -0.838537397410253,
            "y": 0.7031449668555606
           },
           {
            "x": -0.8283391554841169,
            "y": 0.6861457565081399
           },
           {
            "x": -0.8181409135579809,
            "y": 0.6693545544374876
           },
           {
            "x": -0.807942671631845,
            "y": 0.6527713606436033
           },
           {
            "x": -0.797744429705709,
            "y": 0.6363961751264869
           },
           {
            "x": -0.7875461877795731,
            "y": 0.6202289978861386
           },
           {
            "x": -0.7773479458534371,
            "y": 0.6042698289225582
           },
           {
            "x": -0.7671497039273012,
            "y": 0.5885186682357458
           },
           {
            "x": -0.7569514620011653,
            "y": 0.5729755158257015
           },
           {
            "x": -0.7467532200750293,
            "y": 0.5576403716924252
           },
           {
            "x": -0.7365549781488934,
            "y": 0.5425132358359168
           },
           {
            "x": -0.7263567362227574,
            "y": 0.5275941082561764
           },
           {
            "x": -0.7161584942966215,
            "y": 0.512882988953204
           },
           {
            "x": -0.7059602523704855,
            "y": 0.4983798779269996
           },
           {
            "x": -0.6957620104443496,
            "y": 0.48408477517756326
           },
           {
            "x": -0.6855637685182134,
            "y": 0.46999768070489456
           },
           {
            "x": -0.6753655265920775,
            "y": 0.4561185945089941
           },
           {
            "x": -0.6651672846659415,
            "y": 0.4424475165898617
           },
           {
            "x": -0.6549690427398056,
            "y": 0.4289844469474973
           },
           {
            "x": -0.6447708008136697,
            "y": 0.41572938558190087
           },
           {
            "x": -0.6345725588875337,
            "y": 0.40268233249307245
           },
           {
            "x": -0.6243743169613978,
            "y": 0.389843287681012
           },
           {
            "x": -0.6141760750352618,
            "y": 0.3772122511457196
           },
           {
            "x": -0.6039778331091259,
            "y": 0.3647892228871951
           },
           {
            "x": -0.59377959118299,
            "y": 0.35257420290543867
           },
           {
            "x": -0.583581349256854,
            "y": 0.3405671912004502
           },
           {
            "x": -0.5733831073307181,
            "y": 0.32876818777222977
           },
           {
            "x": -0.5631848654045821,
            "y": 0.31717719262077726
           },
           {
            "x": -0.5529866234784462,
            "y": 0.3057942057460928
           },
           {
            "x": -0.54278838155231,
            "y": 0.29461922714817607
           },
           {
            "x": -0.5325901396261741,
            "y": 0.2836522568270276
           },
           {
            "x": -0.5223918977000381,
            "y": 0.2728932947826471
           },
           {
            "x": -0.5121936557739022,
            "y": 0.2623423410150346
           },
           {
            "x": -0.5019954138477662,
            "y": 0.2519993955241901
           },
           {
            "x": -0.4917971719216303,
            "y": 0.2418644583101136
           },
           {
            "x": -0.48159892999549436,
            "y": 0.23193752937280507
           },
           {
            "x": -0.4714006880693584,
            "y": 0.22221860871226456
           },
           {
            "x": -0.4612024461432225,
            "y": 0.21270769632849204
           },
           {
            "x": -0.45100420421708654,
            "y": 0.2034047922214875
           },
           {
            "x": -0.4408059622909506,
            "y": 0.19430989639125096
           },
           {
            "x": -0.43060772036481465,
            "y": 0.1854230088377824
           },
           {
            "x": -0.4204094784386787,
            "y": 0.17674412956108185
           },
           {
            "x": -0.41021123651254277,
            "y": 0.1682732585611493
           },
           {
            "x": -0.4000129945864068,
            "y": 0.16001039583798474
           },
           {
            "x": -0.3898147526602709,
            "y": 0.15195554139158815
           },
           {
            "x": -0.37961651073413494,
            "y": 0.1441086952219596
           },
           {
            "x": -0.369418268807999,
            "y": 0.136469857329099
           },
           {
            "x": -0.35922002688186305,
            "y": 0.1290390277130064
           },
           {
            "x": -0.3490217849557271,
            "y": 0.12181620637368182
           },
           {
            "x": -0.33882354302959117,
            "y": 0.11480139331112522
           },
           {
            "x": -0.3286253011034552,
            "y": 0.10799458852533661
           },
           {
            "x": -0.31842705917731884,
            "y": 0.10139579201631571
           },
           {
            "x": -0.3082288172511829,
            "y": 0.0950050037840631
           },
           {
            "x": -0.29803057532504695,
            "y": 0.08882222382857849
           },
           {
            "x": -0.287832333398911,
            "y": 0.08284745214986186
           },
           {
            "x": -0.27763409147277507,
            "y": 0.07708068874791324
           },
           {
            "x": -0.2674358495466391,
            "y": 0.0715219336227326
           },
           {
            "x": -0.2572376076205032,
            "y": 0.06617118677431996
           },
           {
            "x": -0.24703936569436724,
            "y": 0.06102844820267531
           },
           {
            "x": -0.2368411237682313,
            "y": 0.05609371790779866
           },
           {
            "x": -0.22664288184209536,
            "y": 0.051366995889689994
           },
           {
            "x": -0.2164446399159594,
            "y": 0.04684828214834933
           },
           {
            "x": -0.20624639798982347,
            "y": 0.04253757668377666
           },
           {
            "x": -0.19604815606368753,
            "y": 0.038434879495971984
           },
           {
            "x": -0.1858499141375516,
            "y": 0.0345401905849353
           },
           {
            "x": -0.17565167221141564,
            "y": 0.030853509950666606
           },
           {
            "x": -0.1654534302852797,
            "y": 0.02737483759316591
           },
           {
            "x": -0.15525518835914376,
            "y": 0.024104173512433207
           },
           {
            "x": -0.14505694643300782,
            "y": 0.0210415177084685
           },
           {
            "x": -0.13485870450687187,
            "y": 0.018186870181271783
           },
           {
            "x": -0.12466046258073593,
            "y": 0.015540230930843063
           },
           {
            "x": -0.11446222065459999,
            "y": 0.013101599957182337
           },
           {
            "x": -0.10426397872846405,
            "y": 0.010870977260289603
           },
           {
            "x": -0.0940657368023281,
            "y": 0.008848362840164863
           },
           {
            "x": -0.08386749487619216,
            "y": 0.0070337566968081185
           },
           {
            "x": -0.07366925295005622,
            "y": 0.005427158830219367
           },
           {
            "x": -0.06347101102392028,
            "y": 0.004028569240398609
           },
           {
            "x": -0.053272769097784334,
            "y": 0.0028379879273458457
           },
           {
            "x": -0.04307452717164839,
            "y": 0.0018554148910610755
           },
           {
            "x": -0.032876285245512005,
            "y": 0.0010808501315442704
           },
           {
            "x": -0.022678043319376062,
            "y": 0.0005142936487954972
           },
           {
            "x": -0.01247980139324012,
            "y": 0.00015574544281471802
           },
           {
            "x": -0.0022815594671041772,
            "y": 5.205513601932697e-06
           },
           {
            "x": 0.007916682459031765,
            "y": 6.267386115714124e-05
           },
           {
            "x": 0.018114924385167708,
            "y": 0.0003281504854803437
           },
           {
            "x": 0.02831316631130365,
            "y": 0.00080163538657154
           },
           {
            "x": 0.03851140823743959,
            "y": 0.00148312856443073
           },
           {
            "x": 0.048709650163575535,
            "y": 0.0023726300190579142
           },
           {
            "x": 0.05890789208971148,
            "y": 0.003470139750453092
           },
           {
            "x": 0.06910613401584742,
            "y": 0.0047756577586162635
           },
           {
            "x": 0.07930437594198336,
            "y": 0.006289184043547429
           },
           {
            "x": 0.0895026178681193,
            "y": 0.008010718605246589
           },
           {
            "x": 0.09970085979425525,
            "y": 0.009940261443713743
           },
           {
            "x": 0.10989910172039119,
            "y": 0.01207781255894889
           },
           {
            "x": 0.12009734364652713,
            "y": 0.014423371950952031
           },
           {
            "x": 0.13029558557266308,
            "y": 0.016976939619723165
           },
           {
            "x": 0.14049382749879902,
            "y": 0.019738515565262293
           },
           {
            "x": 0.15069206942493496,
            "y": 0.02270809978756942
           },
           {
            "x": 0.1608903113510709,
            "y": 0.025885692286644533
           },
           {
            "x": 0.17108855327720685,
            "y": 0.029271293062487644
           },
           {
            "x": 0.1812867952033428,
            "y": 0.03286490211509875
           },
           {
            "x": 0.19148503712947873,
            "y": 0.036666519444477845
           },
           {
            "x": 0.20168327905561467,
            "y": 0.04067614505062494
           },
           {
            "x": 0.21188152098175062,
            "y": 0.044893778933540025
           },
           {
            "x": 0.22207976290788656,
            "y": 0.049319421093223105
           },
           {
            "x": 0.2322780048340225,
            "y": 0.05395307152967418
           },
           {
            "x": 0.24247624676015844,
            "y": 0.05879473024289325
           },
           {
            "x": 0.2526744886862944,
            "y": 0.06384439723288031
           },
           {
            "x": 0.26287273061243077,
            "y": 0.0691020724996356
           },
           {
            "x": 0.2730709725385667,
            "y": 0.07456775604315866
           },
           {
            "x": 0.28326921446470266,
            "y": 0.08024144786344971
           },
           {
            "x": 0.2934674563908386,
            "y": 0.08612314796050875
           },
           {
            "x": 0.30366569831697454,
            "y": 0.09221285633433579
           },
           {
            "x": 0.3138639402431105,
            "y": 0.09851057298493082
           },
           {
            "x": 0.3240621821692464,
            "y": 0.10501629791229386
           },
           {
            "x": 0.33426042409538237,
            "y": 0.11173003111642488
           },
           {
            "x": 0.3444586660215183,
            "y": 0.11865177259732389
           },
           {
            "x": 0.35465690794765425,
            "y": 0.1257815223549909
           },
           {
            "x": 0.3648551498737902,
            "y": 0.13311928038942591
           },
           {
            "x": 0.37505339179992614,
            "y": 0.1406650467006289
           },
           {
            "x": 0.3852516337260621,
            "y": 0.1484188212885999
           },
           {
            "x": 0.395449875652198,
            "y": 0.15638060415333888
           },
           {
            "x": 0.40564811757833397,
            "y": 0.16455039529484586
           },
           {
            "x": 0.4158463595044699,
            "y": 0.17292819471312082
           },
           {
            "x": 0.42604460143060585,
            "y": 0.1815140024081638
           },
           {
            "x": 0.4362428433567418,
            "y": 0.19030781837997476
           },
           {
            "x": 0.44644108528287774,
            "y": 0.19930964262855372
           },
           {
            "x": 0.4566393272090137,
            "y": 0.20851947515390065
           },
           {
            "x": 0.4668375691351496,
            "y": 0.2179373159560156
           },
           {
            "x": 0.47703581106128556,
            "y": 0.22756316503489854
           },
           {
            "x": 0.4872340529874215,
            "y": 0.23739702239054947
           },
           {
            "x": 0.49743229491355745,
            "y": 0.2474388880229684
           },
           {
            "x": 0.5076305368396934,
            "y": 0.2576887619321553
           },
           {
            "x": 0.5178287787658293,
            "y": 0.26814664411811023
           },
           {
            "x": 0.5280270206919653,
            "y": 0.2788125345808331
           },
           {
            "x": 0.5382252626181012,
            "y": 0.289686433320324
           },
           {
            "x": 0.5484235045442376,
            "y": 0.3007683403365834
           },
           {
            "x": 0.5586217464703735,
            "y": 0.3120582556296103
           },
           {
            "x": 0.5688199883965095,
            "y": 0.3235561791994052
           },
           {
            "x": 0.5790182303226454,
            "y": 0.3352621110459681
           },
           {
            "x": 0.5892164722487814,
            "y": 0.34717605116929895
           },
           {
            "x": 0.5994147141749173,
            "y": 0.35929799956939784
           },
           {
            "x": 0.6096129561010533,
            "y": 0.3716279562462647
           },
           {
            "x": 0.6198111980271892,
            "y": 0.38416592119989956
           },
           {
            "x": 0.6300094399533251,
            "y": 0.3969118944303024
           },
           {
            "x": 0.6402076818794611,
            "y": 0.40986587593747326
           },
           {
            "x": 0.650405923805597,
            "y": 0.4230278657214121
           },
           {
            "x": 0.660604165731733,
            "y": 0.4363978637821189
           },
           {
            "x": 0.6708024076578689,
            "y": 0.4499758701195938
           },
           {
            "x": 0.6810006495840049,
            "y": 0.46376188473383656
           },
           {
            "x": 0.6911988915101408,
            "y": 0.4777559076248474
           },
           {
            "x": 0.7013971334362767,
            "y": 0.4919579387926262
           },
           {
            "x": 0.7115953753624127,
            "y": 0.506367978237173
           },
           {
            "x": 0.7217936172885486,
            "y": 0.5209860259584878
           },
           {
            "x": 0.7319918592146846,
            "y": 0.5358120819565706
           },
           {
            "x": 0.7421901011408205,
            "y": 0.5508461462314214
           },
           {
            "x": 0.7523883430669565,
            "y": 0.5660882187830402
           },
           {
            "x": 0.7625865849930924,
            "y": 0.5815382996114269
           },
           {
            "x": 0.7727848269192283,
            "y": 0.5971963887165816
           },
           {
            "x": 0.7829830688453643,
            "y": 0.6130624860985044
           },
           {
            "x": 0.7931813107715002,
            "y": 0.6291365917571953
           },
           {
            "x": 0.8033795526976362,
            "y": 0.6454187056926539
           },
           {
            "x": 0.8135777946237721,
            "y": 0.6619088279048807
           },
           {
            "x": 0.823776036549908,
            "y": 0.6786069583938754
           },
           {
            "x": 0.833974278476044,
            "y": 0.6955130971596382
           },
           {
            "x": 0.8441725204021804,
            "y": 0.7126272442021696
           },
           {
            "x": 0.8543707623283163,
            "y": 0.7299493995214684
           },
           {
            "x": 0.8645690042544523,
            "y": 0.747479563117535
           },
           {
            "x": 0.8747672461805882,
            "y": 0.7652177349903698
           },
           {
            "x": 0.8849654881067242,
            "y": 0.7831639151399725
           },
           {
            "x": 0.8951637300328601,
            "y": 0.8013181035663433
           },
           {
            "x": 0.905361971958996,
            "y": 0.8196803002694819
           },
           {
            "x": 0.915560213885132,
            "y": 0.8382505052493886
           },
           {
            "x": 0.9257584558112679,
            "y": 0.8570287185060633
           },
           {
            "x": 0.9359566977374039,
            "y": 0.876014940039506
           },
           {
            "x": 0.9461549396635398,
            "y": 0.8952091698497167
           },
           {
            "x": 0.9563531815896757,
            "y": 0.9146114079366953
           },
           {
            "x": 0.9665514235158117,
            "y": 0.934221654300442
           },
           {
            "x": 0.9767496654419476,
            "y": 0.9540399089409566
           },
           {
            "x": 0.9869479073680836,
            "y": 0.9740661718582393
           },
           {
            "x": 0.9971461492942195,
            "y": 0.9943004430522899
           },
           {
            "x": 1.0073443912203555,
            "y": 1.0147427225231085
           },
           {
            "x": 1.0175426331464914,
            "y": 1.0353930102706952
           },
           {
            "x": 1.0277408750726273,
            "y": 1.0562513062950498
           },
           {
            "x": 1.0379391169987633,
            "y": 1.0773176105961724
           },
           {
            "x": 1.0481373589248992,
            "y": 1.098591923174063
           },
           {
            "x": 1.0583356008510352,
            "y": 1.1200742440287217
           },
           {
            "x": 1.0685338427771711,
            "y": 1.1417645731601482
           },
           {
            "x": 1.078732084703307,
            "y": 1.163662910568343
           },
           {
            "x": 1.088930326629443,
            "y": 1.1857692562533053
           },
           {
            "x": 1.099128568555579,
            "y": 1.208083610215036
           },
           {
            "x": 1.1093268104817149,
            "y": 1.2306059724535345
           },
           {
            "x": 1.1195250524078508,
            "y": 1.2533363429688011
           },
           {
            "x": 1.1297232943339872,
            "y": 1.2762747217608368
           },
           {
            "x": 1.1399215362601232,
            "y": 1.2994211088296392
           },
           {
            "x": 1.150119778186259,
            "y": 1.3227755041752098
           },
           {
            "x": 1.160318020112395,
            "y": 1.3463379077975484
           },
           {
            "x": 1.170516262038531,
            "y": 1.370108319696655
           },
           {
            "x": 1.180714503964667,
            "y": 1.3940867398725294
           },
           {
            "x": 1.1909127458908029,
            "y": 1.418273168325172
           },
           {
            "x": 1.2011109878169388,
            "y": 1.4426676050545826
           },
           {
            "x": 1.2113092297430748,
            "y": 1.4672700500607612
           },
           {
            "x": 1.2215074716692107,
            "y": 1.4920805033437077
           },
           {
            "x": 1.2317057135953466,
            "y": 1.517098964903422
           },
           {
            "x": 1.2419039555214826,
            "y": 1.5423254347399047
           },
           {
            "x": 1.2521021974476185,
            "y": 1.5677599128531552
           },
           {
            "x": 1.2623004393737545,
            "y": 1.5934023992431736
           },
           {
            "x": 1.2724986812998904,
            "y": 1.61925289390996
           },
           {
            "x": 1.2826969232260264,
            "y": 1.6453113968535145
           },
           {
            "x": 1.2928951651521623,
            "y": 1.671577908073837
           },
           {
            "x": 1.3030934070782982,
            "y": 1.6980524275709274
           },
           {
            "x": 1.3132916490044342,
            "y": 1.724734955344786
           },
           {
            "x": 1.3234898909305701,
            "y": 1.7516254913954123
           },
           {
            "x": 1.333688132856706,
            "y": 1.778724035722807
           },
           {
            "x": 1.343886374782842,
            "y": 1.8060305883269694
           },
           {
            "x": 1.354084616708978,
            "y": 1.8335451492078998
           },
           {
            "x": 1.364282858635114,
            "y": 1.8612677183655981
           },
           {
            "x": 1.3744811005612498,
            "y": 1.8891982958000646
           },
           {
            "x": 1.3846793424873858,
            "y": 1.917336881511299
           },
           {
            "x": 1.3948775844135217,
            "y": 1.9456834754993013
           },
           {
            "x": 1.4050758263396577,
            "y": 1.9742380777640718
           },
           {
            "x": 1.415274068265794,
            "y": 2.0030006883056113
           },
           {
            "x": 1.42547231019193,
            "y": 2.031971307123918
           },
           {
            "x": 1.435670552118066,
            "y": 2.0611499342189923
           },
           {
            "x": 1.4458687940442019,
            "y": 2.0905365695908347
           },
           {
            "x": 1.4560670359703378,
            "y": 2.120131213239445
           },
           {
            "x": 1.4662652778964738,
            "y": 2.149933865164823
           },
           {
            "x": 1.4764635198226097,
            "y": 2.17994452536697
           },
           {
            "x": 1.4866617617487456,
            "y": 2.2101631938458843
           },
           {
            "x": 1.4968600036748816,
            "y": 2.2405898706015663
           },
           {
            "x": 1.5070582456010175,
            "y": 2.2712245556340167
           },
           {
            "x": 1.5172564875271535,
            "y": 2.3020672489432354
           },
           {
            "x": 1.5274547294532894,
            "y": 2.3331179505292217
           },
           {
            "x": 1.5376529713794254,
            "y": 2.364376660391976
           },
           {
            "x": 1.5478512133055613,
            "y": 2.3958433785314983
           },
           {
            "x": 1.5580494552316972,
            "y": 2.4275181049477887
           },
           {
            "x": 1.5682476971578332,
            "y": 2.4594008396408467
           },
           {
            "x": 1.5784459390839691,
            "y": 2.4914915826106734
           },
           {
            "x": 1.588644181010105,
            "y": 2.5237903338572676
           },
           {
            "x": 1.598842422936241,
            "y": 2.5562970933806297
           },
           {
            "x": 1.609040664862377,
            "y": 2.58901186118076
           },
           {
            "x": 1.619238906788513,
            "y": 2.621934637257658
           },
           {
            "x": 1.6294371487146488,
            "y": 2.6550654216113245
           },
           {
            "x": 1.6396353906407848,
            "y": 2.688404214241759
           },
           {
            "x": 1.6498336325669207,
            "y": 2.721951015148961
           },
           {
            "x": 1.6600318744930567,
            "y": 2.7557058243329315
           },
           {
            "x": 1.6702301164191926,
            "y": 2.7896686417936696
           },
           {
            "x": 1.6804283583453286,
            "y": 2.823839467531176
           },
           {
            "x": 1.6906266002714645,
            "y": 2.8582183015454503
           },
           {
            "x": 1.7008248421976004,
            "y": 2.8928051438364926
           },
           {
            "x": 1.7110230841237364,
            "y": 2.9275999944043027
           },
           {
            "x": 1.7212213260498723,
            "y": 2.962602853248881
           },
           {
            "x": 1.7314195679760083,
            "y": 2.9978137203702273
           },
           {
            "x": 1.7416178099021442,
            "y": 3.0332325957683413
           },
           {
            "x": 1.7518160518282802,
            "y": 3.0688594794432236
           },
           {
            "x": 1.762014293754416,
            "y": 3.104694371394874
           },
           {
            "x": 1.772212535680552,
            "y": 3.140737271623292
           },
           {
            "x": 1.782410777606688,
            "y": 3.176988180128478
           },
           {
            "x": 1.792609019532824,
            "y": 3.2134470969104325
           },
           {
            "x": 1.8028072614589599,
            "y": 3.2501140219691544
           },
           {
            "x": 1.8130055033850958,
            "y": 3.2869889553046447
           },
           {
            "x": 1.8232037453112317,
            "y": 3.324071896916903
           },
           {
            "x": 1.8334019872373677,
            "y": 3.361362846805929
           },
           {
            "x": 1.8436002291635036,
            "y": 3.398861804971723
           },
           {
            "x": 1.8537984710896405,
            "y": 3.4365687714142887
           },
           {
            "x": 1.8639967130157764,
            "y": 3.4744837461336187
           },
           {
            "x": 1.8741949549419123,
            "y": 3.512606729129717
           },
           {
            "x": 1.8843931968680483,
            "y": 3.550937720402583
           },
           {
            "x": 1.8945914387941842,
            "y": 3.5894767199522173
           },
           {
            "x": 1.9047896807203202,
            "y": 3.6282237277786193
           },
           {
            "x": 1.9149879226464561,
            "y": 3.6671787438817893
           },
           {
            "x": 1.925186164572592,
            "y": 3.7063417682617277
           },
           {
            "x": 1.935384406498728,
            "y": 3.7457128009184335
           },
           {
            "x": 1.945582648424864,
            "y": 3.7852918418519077
           },
           {
            "x": 1.955780890351,
            "y": 3.82507889106215
           },
           {
            "x": 1.9659791322771358,
            "y": 3.86507394854916
           },
           {
            "x": 1.9761773742032718,
            "y": 3.905277014312938
           },
           {
            "x": 1.9863756161294077,
            "y": 3.945688088353484
           },
           {
            "x": 1.9965738580555437,
            "y": 3.986307170670798
           },
           {
            "x": 2.0067720999816796,
            "y": 4.02713426126488
           },
           {
            "x": 2.0169703419078155,
            "y": 4.06816936013573
           },
           {
            "x": 2.0271685838339515,
            "y": 4.109412467283349
           },
           {
            "x": 2.0373668257600874,
            "y": 4.150863582707735
           },
           {
            "x": 2.0475650676862234,
            "y": 4.192522706408888
           },
           {
            "x": 2.0577633096123593,
            "y": 4.234389838386811
           },
           {
            "x": 2.0679615515384953,
            "y": 4.276464978641501
           },
           {
            "x": 2.078159793464631,
            "y": 4.318748127172959
           },
           {
            "x": 2.088358035390767,
            "y": 4.361239283981185
           },
           {
            "x": 2.098556277316903,
            "y": 4.403938449066179
           },
           {
            "x": 2.108754519243039,
            "y": 4.446845622427941
           },
           {
            "x": 2.118952761169175,
            "y": 4.48996080406647
           },
           {
            "x": 2.129151003095311,
            "y": 4.533283993981769
           },
           {
            "x": 2.139349245021447,
            "y": 4.576815192173835
           },
           {
            "x": 2.149547486947583,
            "y": 4.6205543986426685
           },
           {
            "x": 2.1597457288737187,
            "y": 4.66450161338827
           },
           {
            "x": 2.1699439707998547,
            "y": 4.708656836410641
           },
           {
            "x": 2.1801422127259906,
            "y": 4.7530200677097785
           },
           {
            "x": 2.1903404546521266,
            "y": 4.797591307285685
           },
           {
            "x": 2.2005386965782625,
            "y": 4.842370555138358
           },
           {
            "x": 2.2107369385043985,
            "y": 4.8873578112678
           },
           {
            "x": 2.2209351804305344,
            "y": 4.932553075674011
           },
           {
            "x": 2.2311334223566703,
            "y": 4.977956348356988
           },
           {
            "x": 2.2413316642828063,
            "y": 5.023567629316735
           },
           {
            "x": 2.2515299062089422,
            "y": 5.069386918553248
           },
           {
            "x": 2.261728148135078,
            "y": 5.11541421606653
           },
           {
            "x": 2.271926390061214,
            "y": 5.16164952185658
           },
           {
            "x": 2.28212463198735,
            "y": 5.208092835923398
           },
           {
            "x": 2.292322873913486,
            "y": 5.254744158266984
           },
           {
            "x": 2.302521115839622,
            "y": 5.301603488887338
           },
           {
            "x": 2.312719357765758,
            "y": 5.34867082778446
           },
           {
            "x": 2.322917599691894,
            "y": 5.3959461749583495
           },
           {
            "x": 2.3331158416180298,
            "y": 5.4434295304090075
           },
           {
            "x": 2.3433140835441657,
            "y": 5.491120894136433
           },
           {
            "x": 2.3535123254703016,
            "y": 5.539020266140627
           },
           {
            "x": 2.3637105673964376,
            "y": 5.587127646421589
           },
           {
            "x": 2.3739088093225735,
            "y": 5.6354430349793185
           },
           {
            "x": 2.3841070512487095,
            "y": 5.6839664318138166
           },
           {
            "x": 2.3943052931748454,
            "y": 5.732697836925082
           },
           {
            "x": 2.4045035351009814,
            "y": 5.781637250313116
           },
           {
            "x": 2.4147017770271173,
            "y": 5.830784671977918
           },
           {
            "x": 2.4249000189532532,
            "y": 5.880140101919488
           },
           {
            "x": 2.43509826087939,
            "y": 5.92970354013783
           },
           {
            "x": 2.445296502805526,
            "y": 5.979474986632936
           },
           {
            "x": 2.455494744731662,
            "y": 6.02945444140481
           },
           {
            "x": 2.465692986657798,
            "y": 6.079641904453451
           },
           {
            "x": 2.475891228583934,
            "y": 6.130037375778861
           },
           {
            "x": 2.48608947051007,
            "y": 6.180640855381039
           },
           {
            "x": 2.4962877124362057,
            "y": 6.231452343259985
           },
           {
            "x": 2.5064859543623417,
            "y": 6.282471839415699
           },
           {
            "x": 2.5166841962884776,
            "y": 6.33369934384818
           },
           {
            "x": 2.5268824382146136,
            "y": 6.38513485655743
           },
           {
            "x": 2.5370806801407495,
            "y": 6.436778377543448
           },
           {
            "x": 2.5472789220668854,
            "y": 6.488629906806234
           },
           {
            "x": 2.5574771639930214,
            "y": 6.540689444345787
           },
           {
            "x": 2.5676754059191573,
            "y": 6.59295699016211
           },
           {
            "x": 2.5778736478452933,
            "y": 6.645432544255199
           },
           {
            "x": 2.588071889771429,
            "y": 6.698116106625057
           },
           {
            "x": 2.598270131697565,
            "y": 6.751007677271683
           },
           {
            "x": 2.608468373623701,
            "y": 6.804107256195076
           },
           {
            "x": 2.618666615549837,
            "y": 6.857414843395238
           },
           {
            "x": 2.628864857475973,
            "y": 6.9109304388721675
           },
           {
            "x": 2.639063099402109,
            "y": 6.964654042625866
           },
           {
            "x": 2.649261341328245,
            "y": 7.018585654656331
           },
           {
            "x": 2.659459583254381,
            "y": 7.072725274963565
           },
           {
            "x": 2.6696578251805168,
            "y": 7.127072903547567
           },
           {
            "x": 2.6798560671066527,
            "y": 7.181628540408337
           },
           {
            "x": 2.6900543090327886,
            "y": 7.236392185545874
           },
           {
            "x": 2.7002525509589246,
            "y": 7.291363838960179
           },
           {
            "x": 2.7104507928850605,
            "y": 7.346543500651253
           },
           {
            "x": 2.7206490348111965,
            "y": 7.401931170619095
           },
           {
            "x": 2.7308472767373324,
            "y": 7.457526848863704
           },
           {
            "x": 2.7410455186634683,
            "y": 7.513330535385082
           },
           {
            "x": 2.7512437605896043,
            "y": 7.569342230183228
           },
           {
            "x": 2.7614420025157402,
            "y": 7.625561933258141
           },
           {
            "x": 2.771640244441876,
            "y": 7.681989644609823
           },
           {
            "x": 2.781838486368012,
            "y": 7.738625364238273
           },
           {
            "x": 2.792036728294148,
            "y": 7.79546909214349
           },
           {
            "x": 2.802234970220284,
            "y": 7.852520828325476
           },
           {
            "x": 2.81243321214642,
            "y": 7.909780572784229
           },
           {
            "x": 2.822631454072556,
            "y": 7.967248325519751
           },
           {
            "x": 2.832829695998692,
            "y": 8.02492408653204
           },
           {
            "x": 2.8430279379248278,
            "y": 8.082807855821098
           },
           {
            "x": 2.8532261798509637,
            "y": 8.140899633386924
           },
           {
            "x": 2.8634244217770997,
            "y": 8.199199419229517
           },
           {
            "x": 2.8736226637032356,
            "y": 8.25770721334888
           },
           {
            "x": 2.8838209056293715,
            "y": 8.31642301574501
           },
           {
            "x": 2.8940191475555075,
            "y": 8.375346826417907
           },
           {
            "x": 2.9042173894816434,
            "y": 8.434478645367571
           },
           {
            "x": 2.9144156314077794,
            "y": 8.493818472594006
           },
           {
            "x": 2.9246138733339153,
            "y": 8.553366308097207
           },
           {
            "x": 2.9348121152600513,
            "y": 8.613122151877176
           },
           {
            "x": 2.945010357186187,
            "y": 8.673086003933914
           },
           {
            "x": 2.955208599112323,
            "y": 8.733257864267419
           },
           {
            "x": 2.965406841038459,
            "y": 8.793637732877693
           },
           {
            "x": 2.975605082964595,
            "y": 8.854225609764734
           },
           {
            "x": 2.985803324890731,
            "y": 8.915021494928544
           },
           {
            "x": 2.996001566816867,
            "y": 8.976025388369122
           },
           {
            "x": 3.006199808743003,
            "y": 9.037237290086466
           },
           {
            "x": 3.0163980506691397,
            "y": 9.098657200080586
           },
           {
            "x": 3.0265962925952756,
            "y": 9.160285118351467
           },
           {
            "x": 3.0367945345214116,
            "y": 9.222121044899117
           },
           {
            "x": 3.0469927764475475,
            "y": 9.284164979723535
           },
           {
            "x": 3.0571910183736835,
            "y": 9.34641692282472
           },
           {
            "x": 3.0673892602998194,
            "y": 9.408876874202674
           },
           {
            "x": 3.0775875022259553,
            "y": 9.471544833857395
           },
           {
            "x": 3.0877857441520913,
            "y": 9.534420801788885
           },
           {
            "x": 3.0979839860782272,
            "y": 9.597504777997141
           },
           {
            "x": 3.108182228004363,
            "y": 9.660796762482168
           },
           {
            "x": 3.118380469930499,
            "y": 9.72429675524396
           },
           {
            "x": 3.128578711856635,
            "y": 9.788004756282522
           },
           {
            "x": 3.138776953782771,
            "y": 9.851920765597852
           },
           {
            "x": 3.148975195708907,
            "y": 9.916044783189948
           },
           {
            "x": 3.159173437635043,
            "y": 9.980376809058814
           },
           {
            "x": 3.169371679561179,
            "y": 10.044916843204447
           },
           {
            "x": 3.1795699214873148,
            "y": 10.109664885626849
           },
           {
            "x": 3.1897681634134507,
            "y": 10.174620936326018
           },
           {
            "x": 3.1999664053395867,
            "y": 10.239784995301957
           },
           {
            "x": 3.2101646472657226,
            "y": 10.305157062554661
           },
           {
            "x": 3.2203628891918585,
            "y": 10.370737138084134
           },
           {
            "x": 3.2305611311179945,
            "y": 10.436525221890376
           },
           {
            "x": 3.2407593730441304,
            "y": 10.502521313973386
           },
           {
            "x": 3.2509576149702664,
            "y": 10.568725414333162
           },
           {
            "x": 3.2611558568964023,
            "y": 10.635137522969709
           },
           {
            "x": 3.2713540988225382,
            "y": 10.701757639883022
           },
           {
            "x": 3.281552340748674,
            "y": 10.768585765073103
           },
           {
            "x": 3.29175058267481,
            "y": 10.835621898539952
           },
           {
            "x": 3.301948824600946,
            "y": 10.90286604028357
           },
           {
            "x": 3.312147066527082,
            "y": 10.970318190303955
           },
           {
            "x": 3.322345308453218,
            "y": 11.037978348601108
           },
           {
            "x": 3.332543550379354,
            "y": 11.10584651517503
           },
           {
            "x": 3.34274179230549,
            "y": 11.17392269002572
           },
           {
            "x": 3.352940034231626,
            "y": 11.242206873153176
           },
           {
            "x": 3.3631382761577617,
            "y": 11.3106990645574
           },
           {
            "x": 3.3733365180838977,
            "y": 11.379399264238394
           },
           {
            "x": 3.3835347600100336,
            "y": 11.448307472196156
           },
           {
            "x": 3.3937330019361696,
            "y": 11.517423688430686
           },
           {
            "x": 3.4039312438623055,
            "y": 11.586747912941982
           },
           {
            "x": 3.4141294857884414,
            "y": 11.656280145730047
           },
           {
            "x": 3.4243277277145774,
            "y": 11.72602038679488
           },
           {
            "x": 3.4345259696407133,
            "y": 11.795968636136482
           },
           {
            "x": 3.4447242115668493,
            "y": 11.86612489375485
           },
           {
            "x": 3.454922453492985,
            "y": 11.93648915964999
           },
           {
            "x": 3.465120695419121,
            "y": 12.007061433821894
           },
           {
            "x": 3.475318937345257,
            "y": 12.077841716270568
           },
           {
            "x": 3.485517179271393,
            "y": 12.148830006996008
           },
           {
            "x": 3.495715421197529,
            "y": 12.220026305998218
           },
           {
            "x": 3.505913663123665,
            "y": 12.291430613277194
           },
           {
            "x": 3.516111905049801,
            "y": 12.36304292883294
           },
           {
            "x": 3.526310146975937,
            "y": 12.434863252665453
           },
           {
            "x": 3.5365083889020728,
            "y": 12.506891584774735
           },
           {
            "x": 3.5467066308282087,
            "y": 12.579127925160783
           },
           {
            "x": 3.5569048727543446,
            "y": 12.6515722738236
           },
           {
            "x": 3.5671031146804806,
            "y": 12.724224630763185
           },
           {
            "x": 3.5773013566066165,
            "y": 12.797084995979539
           },
           {
            "x": 3.5874995985327525,
            "y": 12.87015336947266
           },
           {
            "x": 3.5976978404588893,
            "y": 12.943429751242556
           },
           {
            "x": 3.6078960823850252,
            "y": 13.016914141289213
           },
           {
            "x": 3.618094324311161,
            "y": 13.090606539612638
           },
           {
            "x": 3.628292566237297,
            "y": 13.164506946212832
           },
           {
            "x": 3.638490808163433,
            "y": 13.238615361089792
           },
           {
            "x": 3.648689050089569,
            "y": 13.31293178424352
           },
           {
            "x": 3.658887292015705,
            "y": 13.38745621567402
           },
           {
            "x": 3.669085533941841,
            "y": 13.462188655381283
           },
           {
            "x": 3.679283775867977,
            "y": 13.537129103365316
           },
           {
            "x": 3.689482017794113,
            "y": 13.612277559626119
           },
           {
            "x": 3.6996802597202487,
            "y": 13.687634024163687
           },
           {
            "x": 3.7098785016463847,
            "y": 13.763198496978024
           },
           {
            "x": 3.7200767435725206,
            "y": 13.83897097806913
           },
           {
            "x": 3.7302749854986565,
            "y": 13.914951467437003
           },
           {
            "x": 3.7404732274247925,
            "y": 13.991139965081643
           },
           {
            "x": 3.7506714693509284,
            "y": 14.067536471003052
           },
           {
            "x": 3.7608697112770644,
            "y": 14.14414098520123
           },
           {
            "x": 3.7710679532032003,
            "y": 14.220953507676175
           },
           {
            "x": 3.7812661951293363,
            "y": 14.297974038427888
           },
           {
            "x": 3.791464437055472,
            "y": 14.375202577456369
           },
           {
            "x": 3.801662678981608,
            "y": 14.452639124761617
           },
           {
            "x": 3.811860920907744,
            "y": 14.530283680343635
           },
           {
            "x": 3.82205916283388,
            "y": 14.60813624420242
           },
           {
            "x": 3.832257404760016,
            "y": 14.686196816337972
           },
           {
            "x": 3.842455646686152,
            "y": 14.764465396750294
           },
           {
            "x": 3.852653888612288,
            "y": 14.842941985439383
           },
           {
            "x": 3.862852130538424,
            "y": 14.92162658240524
           },
           {
            "x": 3.8730503724645597,
            "y": 15.000519187647864
           },
           {
            "x": 3.8832486143906957,
            "y": 15.079619801167258
           },
           {
            "x": 3.8934468563168316,
            "y": 15.158928422963418
           },
           {
            "x": 3.9036450982429676,
            "y": 15.238445053036347
           },
           {
            "x": 3.9138433401691035,
            "y": 15.318169691386045
           },
           {
            "x": 3.9240415820952395,
            "y": 15.39810233801251
           },
           {
            "x": 3.9342398240213754,
            "y": 15.478242992915742
           },
           {
            "x": 3.9444380659475113,
            "y": 15.558591656095745
           },
           {
            "x": 3.9546363078736473,
            "y": 15.639148327552514
           },
           {
            "x": 3.9648345497997832,
            "y": 15.71991300728605
           },
           {
            "x": 3.975032791725919,
            "y": 15.800885695296355
           },
           {
            "x": 3.985231033652055,
            "y": 15.882066391583427
           },
           {
            "x": 3.995429275578191,
            "y": 15.96345509614727
           },
           {
            "x": 4.005627517504327,
            "y": 16.04505180898788
           },
           {
            "x": 4.015825759430463,
            "y": 16.126856530105254
           },
           {
            "x": 4.026024001356599,
            "y": 16.208869259499398
           },
           {
            "x": 4.036222243282735,
            "y": 16.291089997170314
           },
           {
            "x": 4.046420485208871,
            "y": 16.373518743117994
           },
           {
            "x": 4.056618727135007,
            "y": 16.456155497342444
           },
           {
            "x": 4.066816969061143,
            "y": 16.539000259843657
           },
           {
            "x": 4.077015210987279,
            "y": 16.622053030621643
           },
           {
            "x": 4.0872134529134145,
            "y": 16.705313809676397
           },
           {
            "x": 4.0974116948395505,
            "y": 16.788782597007916
           },
           {
            "x": 4.107609936765686,
            "y": 16.872459392616207
           },
           {
            "x": 4.117808178691822,
            "y": 16.956344196501263
           },
           {
            "x": 4.128006420617958,
            "y": 17.040437008663087
           },
           {
            "x": 4.138204662544094,
            "y": 17.12473782910168
           },
           {
            "x": 4.14840290447023,
            "y": 17.20924665781704
           },
           {
            "x": 4.158601146396366,
            "y": 17.29396349480917
           },
           {
            "x": 4.168799388322502,
            "y": 17.378888340078067
           },
           {
            "x": 4.178997630248639,
            "y": 17.46402119362374
           },
           {
            "x": 4.189195872174775,
            "y": 17.549362055446174
           },
           {
            "x": 4.199394114100911,
            "y": 17.634910925545373
           },
           {
            "x": 4.209592356027047,
            "y": 17.72066780392134
           },
           {
            "x": 4.219790597953183,
            "y": 17.80663269057408
           },
           {
            "x": 4.229988839879319,
            "y": 17.892805585503584
           },
           {
            "x": 4.240187081805455,
            "y": 17.979186488709857
           },
           {
            "x": 4.2503853237315905,
            "y": 18.065775400192898
           },
           {
            "x": 4.2605835656577264,
            "y": 18.152572319952707
           },
           {
            "x": 4.270781807583862,
            "y": 18.23957724798928
           },
           {
            "x": 4.280980049509998,
            "y": 18.326790184302627
           },
           {
            "x": 4.291178291436134,
            "y": 18.41421112889274
           },
           {
            "x": 4.30137653336227,
            "y": 18.50184008175962
           },
           {
            "x": 4.311574775288406,
            "y": 18.58967704290327
           },
           {
            "x": 4.321773017214542,
            "y": 18.677722012323688
           },
           {
            "x": 4.331971259140678,
            "y": 18.765974990020872
           },
           {
            "x": 4.342169501066814,
            "y": 18.854435975994825
           },
           {
            "x": 4.35236774299295,
            "y": 18.943104970245546
           },
           {
            "x": 4.362565984919086,
            "y": 19.031981972773035
           },
           {
            "x": 4.372764226845222,
            "y": 19.12106698357729
           },
           {
            "x": 4.382962468771358,
            "y": 19.210360002658316
           },
           {
            "x": 4.393160710697494,
            "y": 19.299861030016107
           },
           {
            "x": 4.40335895262363,
            "y": 19.38957006565067
           },
           {
            "x": 4.413557194549766,
            "y": 19.479487109561997
           },
           {
            "x": 4.4237554364759015,
            "y": 19.569612161750094
           },
           {
            "x": 4.4339536784020375,
            "y": 19.659945222214958
           },
           {
            "x": 4.444151920328173,
            "y": 19.75048629095659
           },
           {
            "x": 4.454350162254309,
            "y": 19.841235367974992
           },
           {
            "x": 4.464548404180445,
            "y": 19.93219245327016
           },
           {
            "x": 4.474746646106581,
            "y": 20.023357546842096
           },
           {
            "x": 4.484944888032717,
            "y": 20.114730648690802
           },
           {
            "x": 4.495143129958853,
            "y": 20.206311758816273
           },
           {
            "x": 4.505341371884989,
            "y": 20.298100877218516
           },
           {
            "x": 4.515539613811125,
            "y": 20.390098003897524
           },
           {
            "x": 4.525737855737261,
            "y": 20.4823031388533
           },
           {
            "x": 4.535936097663397,
            "y": 20.574716282085845
           },
           {
            "x": 4.546134339589533,
            "y": 20.667337433595158
           },
           {
            "x": 4.556332581515669,
            "y": 20.76016659338124
           },
           {
            "x": 4.566530823441805,
            "y": 20.85320376144409
           },
           {
            "x": 4.576729065367941,
            "y": 20.946448937783703
           },
           {
            "x": 4.586927307294077,
            "y": 21.03990212240009
           },
           {
            "x": 4.5971255492202125,
            "y": 21.13356331529324
           },
           {
            "x": 4.6073237911463485,
            "y": 21.22743251646316
           },
           {
            "x": 4.617522033072484,
            "y": 21.32150972590985
           },
           {
            "x": 4.62772027499862,
            "y": 21.415794943633305
           },
           {
            "x": 4.637918516924756,
            "y": 21.51028816963353
           },
           {
            "x": 4.648116758850892,
            "y": 21.604989403910523
           },
           {
            "x": 4.658315000777028,
            "y": 21.699898646464284
           },
           {
            "x": 4.668513242703164,
            "y": 21.795015897294814
           },
           {
            "x": 4.6787114846293,
            "y": 21.89034115640211
           },
           {
            "x": 4.688909726555436,
            "y": 21.985874423786175
           },
           {
            "x": 4.699107968481572,
            "y": 22.081615699447006
           },
           {
            "x": 4.709306210407708,
            "y": 22.177564983384606
           },
           {
            "x": 4.719504452333844,
            "y": 22.273722275598974
           },
           {
            "x": 4.72970269425998,
            "y": 22.37008757609011
           },
           {
            "x": 4.739900936186116,
            "y": 22.466660884858015
           },
           {
            "x": 4.750099178112252,
            "y": 22.56344220190269
           },
           {
            "x": 4.7602974200383885,
            "y": 22.660431527224137
           },
           {
            "x": 4.7704956619645245,
            "y": 22.757628860822347
           },
           {
            "x": 4.78069390389066,
            "y": 22.855034202697322
           },
           {
            "x": 4.790892145816796,
            "y": 22.95264755284907
           },
           {
            "x": 4.801090387742932,
            "y": 23.05046891127758
           },
           {
            "x": 4.811288629669068,
            "y": 23.14849827798286
           },
           {
            "x": 4.821486871595204,
            "y": 23.246735652964908
           },
           {
            "x": 4.83168511352134,
            "y": 23.345181036223725
           },
           {
            "x": 4.841883355447476,
            "y": 23.44383442775931
           },
           {
            "x": 4.852081597373612,
            "y": 23.542695827571663
           },
           {
            "x": 4.862279839299748,
            "y": 23.64176523566078
           },
           {
            "x": 4.872478081225884,
            "y": 23.74104265202667
           },
           {
            "x": 4.88267632315202,
            "y": 23.840528076669326
           },
           {
            "x": 4.892874565078156,
            "y": 23.940221509588753
           },
           {
            "x": 4.903072807004292,
            "y": 24.040122950784944
           },
           {
            "x": 4.913271048930428,
            "y": 24.140232400257904
           },
           {
            "x": 4.923469290856564,
            "y": 24.240549858007633
           },
           {
            "x": 4.9336675327826995,
            "y": 24.34107532403413
           },
           {
            "x": 4.9438657747088355,
            "y": 24.441808798337394
           },
           {
            "x": 4.954064016634971,
            "y": 24.542750280917428
           },
           {
            "x": 4.964262258561107,
            "y": 24.643899771774226
           },
           {
            "x": 4.974460500487243,
            "y": 24.745257270907796
           },
           {
            "x": 4.984658742413379,
            "y": 24.84682277831813
           },
           {
            "x": 4.994856984339515,
            "y": 24.948596294005235
           },
           {
            "x": 5.005055226265651,
            "y": 25.05057781796911
           },
           {
            "x": 5.015253468191787,
            "y": 25.15276735020975
           },
           {
            "x": 5.025451710117923,
            "y": 25.25516489072716
           },
           {
            "x": 5.035649952044059,
            "y": 25.35777043952133
           },
           {
            "x": 5.045848193970195,
            "y": 25.460583996592277
           },
           {
            "x": 5.056046435896331,
            "y": 25.56360556193999
           },
           {
            "x": 5.066244677822467,
            "y": 25.66683513556447
           },
           {
            "x": 5.076442919748603,
            "y": 25.77027271746572
           },
           {
            "x": 5.086641161674739,
            "y": 25.873918307643734
           },
           {
            "x": 5.096839403600875,
            "y": 25.977771906098518
           },
           {
            "x": 5.107037645527011,
            "y": 26.081833512830073
           },
           {
            "x": 5.1172358874531465,
            "y": 26.186103127838393
           },
           {
            "x": 5.1274341293792824,
            "y": 26.290580751123482
           },
           {
            "x": 5.137632371305418,
            "y": 26.395266382685335
           },
           {
            "x": 5.147830613231554,
            "y": 26.50016002252396
           },
           {
            "x": 5.15802885515769,
            "y": 26.605261670639354
           },
           {
            "x": 5.168227097083826,
            "y": 26.710571327031513
           },
           {
            "x": 5.178425339009962,
            "y": 26.816088991700443
           },
           {
            "x": 5.188623580936098,
            "y": 26.92181466464614
           },
           {
            "x": 5.198821822862234,
            "y": 27.027748345868602
           },
           {
            "x": 5.20902006478837,
            "y": 27.133890035367834
           },
           {
            "x": 5.219218306714506,
            "y": 27.240239733143834
           },
           {
            "x": 5.229416548640642,
            "y": 27.346797439196603
           },
           {
            "x": 5.239614790566778,
            "y": 27.45356315352614
           },
           {
            "x": 5.249813032492914,
            "y": 27.560536876132442
           },
           {
            "x": 5.26001127441905,
            "y": 27.667718607015516
           },
           {
            "x": 5.270209516345186,
            "y": 27.775108346175355
           },
           {
            "x": 5.280407758271322,
            "y": 27.882706093611965
           },
           {
            "x": 5.2906060001974575,
            "y": 27.99051184932534
           },
           {
            "x": 5.3008042421235935,
            "y": 28.098525613315484
           },
           {
            "x": 5.311002484049729,
            "y": 28.206747385582396
           },
           {
            "x": 5.321200725975865,
            "y": 28.315177166126077
           },
           {
            "x": 5.331398967902002,
            "y": 28.423814954946533
           },
           {
            "x": 5.341597209828138,
            "y": 28.53266075204375
           },
           {
            "x": 5.351795451754274,
            "y": 28.641714557417735
           },
           {
            "x": 5.36199369368041,
            "y": 28.750976371068486
           },
           {
            "x": 5.372191935606546,
            "y": 28.860446192996008
           },
           {
            "x": 5.382390177532682,
            "y": 28.970124023200295
           },
           {
            "x": 5.392588419458818,
            "y": 29.08000986168135
           },
           {
            "x": 5.402786661384954,
            "y": 29.190103708439175
           },
           {
            "x": 5.41298490331109,
            "y": 29.300405563473767
           },
           {
            "x": 5.423183145237226,
            "y": 29.410915426785127
           },
           {
            "x": 5.433381387163362,
            "y": 29.521633298373256
           },
           {
            "x": 5.4435796290894976,
            "y": 29.63255917823815
           },
           {
            "x": 5.4537778710156335,
            "y": 29.743693066379816
           },
           {
            "x": 5.463976112941769,
            "y": 29.855034962798246
           },
           {
            "x": 5.474174354867905,
            "y": 29.96658486749345
           },
           {
            "x": 5.484372596794041,
            "y": 30.078342780465416
           },
           {
            "x": 5.494570838720177,
            "y": 30.19030870171415
           },
           {
            "x": 5.504769080646312,
            "y": 30.302482631239645
           },
           {
            "x": 5.514967322572449,
            "y": 30.414864569041928
           },
           {
            "x": 5.525165564498584,
            "y": 30.527454515120958
           },
           {
            "x": 5.535363806424721,
            "y": 30.640252469476778
           },
           {
            "x": 5.545562048350856,
            "y": 30.75325843210934
           },
           {
            "x": 5.555760290276993,
            "y": 30.866472403018697
           },
           {
            "x": 5.565958532203128,
            "y": 30.979894382204797
           },
           {
            "x": 5.576156774129265,
            "y": 31.093524369667687
           },
           {
            "x": 5.5863550160554,
            "y": 31.207362365407327
           },
           {
            "x": 5.596553257981537,
            "y": 31.321408369423754
           },
           {
            "x": 5.606751499907672,
            "y": 31.435662381716927
           },
           {
            "x": 5.616949741833809,
            "y": 31.55012440228689
           },
           {
            "x": 5.627147983759945,
            "y": 31.66479443113362
           },
           {
            "x": 5.6373462256860805,
            "y": 31.779672468257097
           },
           {
            "x": 5.647544467612217,
            "y": 31.89475851365736
           },
           {
            "x": 5.657742709538352,
            "y": 32.01005256733438
           },
           {
            "x": 5.667940951464489,
            "y": 32.12555462928818
           },
           {
            "x": 5.678139193390624,
            "y": 32.24126469951873
           },
           {
            "x": 5.688337435316761,
            "y": 32.357182778026065
           },
           {
            "x": 5.698535677242896,
            "y": 32.47330886481015
           },
           {
            "x": 5.708733919169033,
            "y": 32.58964295987103
           },
           {
            "x": 5.718932161095168,
            "y": 32.70618506320865
           },
           {
            "x": 5.729130403021305,
            "y": 32.82293517482306
           },
           {
            "x": 5.73932864494744,
            "y": 32.93989329471422
           },
           {
            "x": 5.749526886873577,
            "y": 33.05705942288216
           },
           {
            "x": 5.759725128799712,
            "y": 33.17443355932686
           },
           {
            "x": 5.769923370725849,
            "y": 33.29201570404834
           },
           {
            "x": 5.780121612651984,
            "y": 33.40980585704657
           },
           {
            "x": 5.7903198545781205,
            "y": 33.52780401832159
           },
           {
            "x": 5.8005180965042555,
            "y": 33.64601018787335
           },
           {
            "x": 5.810716338430392,
            "y": 33.764424365701906
           },
           {
            "x": 5.820914580356527,
            "y": 33.883046551807205
           },
           {
            "x": 5.831112822282664,
            "y": 34.001876746189296
           },
           {
            "x": 5.841311064208799,
            "y": 34.12091494884814
           },
           {
            "x": 5.851509306134936,
            "y": 34.24016115978376
           },
           {
            "x": 5.861707548061071,
            "y": 34.35961537899613
           },
           {
            "x": 5.871905789987208,
            "y": 34.4792776064853
           },
           {
            "x": 5.882104031913343,
            "y": 34.599147842251206
           },
           {
            "x": 5.89230227383948,
            "y": 34.71922608629391
           },
           {
            "x": 5.902500515765615,
            "y": 34.83951233861335
           },
           {
            "x": 5.912698757691752,
            "y": 34.960006599209585
           },
           {
            "x": 5.922896999617887,
            "y": 35.08070886808257
           },
           {
            "x": 5.933095241544024,
            "y": 35.201619145232335
           },
           {
            "x": 5.943293483470159,
            "y": 35.322737430658854
           },
           {
            "x": 5.953491725396296,
            "y": 35.44406372436216
           },
           {
            "x": 5.963689967322431,
            "y": 35.565598026342215
           },
           {
            "x": 5.9738882092485674,
            "y": 35.68734033659906
           },
           {
            "x": 5.9840864511747025,
            "y": 35.80929065513264
           },
           {
            "x": 5.994284693100839,
            "y": 35.93144898194302
           },
           {
            "x": 6.004482935026974,
            "y": 36.05381531703015
           },
           {
            "x": 6.014681176953111,
            "y": 36.176389660394065
           },
           {
            "x": 6.024879418879246,
            "y": 36.299172012034724
           },
           {
            "x": 6.035077660805383,
            "y": 36.422162371952176
           },
           {
            "x": 6.045275902731518,
            "y": 36.54536074014637
           },
           {
            "x": 6.055474144657655,
            "y": 36.66876711661736
           },
           {
            "x": 6.06567238658379,
            "y": 36.79238150136509
           },
           {
            "x": 6.075870628509927,
            "y": 36.91620389438961
           },
           {
            "x": 6.086068870436062,
            "y": 37.04023429569088
           },
           {
            "x": 6.096267112362199,
            "y": 37.16447270526894
           },
           {
            "x": 6.106465354288334,
            "y": 37.28891912312375
           },
           {
            "x": 6.116663596214471,
            "y": 37.41357354925534
           },
           {
            "x": 6.126861838140606,
            "y": 37.53843598366368
           },
           {
            "x": 6.1370600800667425,
            "y": 37.66350642634881
           },
           {
            "x": 6.147258321992878,
            "y": 37.78878487731069
           },
           {
            "x": 6.157456563919014,
            "y": 37.914271336549355
           },
           {
            "x": 6.1676548058451495,
            "y": 38.03996580406477
           },
           {
            "x": 6.177853047771286,
            "y": 38.16586827985697
           },
           {
            "x": 6.188051289697421,
            "y": 38.29197876392592
           },
           {
            "x": 6.198249531623558,
            "y": 38.41829725627166
           },
           {
            "x": 6.208447773549695,
            "y": 38.54482375689417
           },
           {
            "x": 6.21864601547583,
            "y": 38.671558265793415
           },
           {
            "x": 6.228844257401967,
            "y": 38.79850078296946
           },
           {
            "x": 6.239042499328102,
            "y": 38.925651308422246
           },
           {
            "x": 6.249240741254239,
            "y": 39.05300984215183
           },
           {
            "x": 6.259438983180374,
            "y": 39.18057638415815
           },
           {
            "x": 6.269637225106511,
            "y": 39.308350934441265
           },
           {
            "x": 6.279835467032646,
            "y": 39.43633349300113
           },
           {
            "x": 6.2900337089587826,
            "y": 39.56452405983778
           },
           {
            "x": 6.300231950884918,
            "y": 39.692922634951174
           },
           {
            "x": 6.310430192811054,
            "y": 39.82152921834136
           },
           {
            "x": 6.3206284347371895,
            "y": 39.95034381000829
           },
           {
            "x": 6.330826676663326,
            "y": 40.079366409952016
           },
           {
            "x": 6.341024918589461,
            "y": 40.20859701817248
           },
           {
            "x": 6.351223160515598,
            "y": 40.338035634669744
           },
           {
            "x": 6.361421402441733,
            "y": 40.46768225944375
           },
           {
            "x": 6.37161964436787,
            "y": 40.597536892494546
           },
           {
            "x": 6.381817886294005,
            "y": 40.72759953382209
           },
           {
            "x": 6.392016128220142,
            "y": 40.857870183426414
           },
           {
            "x": 6.402214370146277,
            "y": 40.98834884130749
           },
           {
            "x": 6.412412612072414,
            "y": 41.119035507465355
           },
           {
            "x": 6.422610853998549,
            "y": 41.24993018189997
           },
           {
            "x": 6.432809095924686,
            "y": 41.38103286461137
           },
           {
            "x": 6.443007337850821,
            "y": 41.51234355559952
           },
           {
            "x": 6.453205579776958,
            "y": 41.64386225486446
           },
           {
            "x": 6.463403821703093,
            "y": 41.77558896240615
           },
           {
            "x": 6.4736020636292295,
            "y": 41.90752367822462
           },
           {
            "x": 6.483800305555365,
            "y": 42.03966640231984
           },
           {
            "x": 6.493998547481501,
            "y": 42.17201713469185
           },
           {
            "x": 6.5041967894076365,
            "y": 42.3045758753406
           },
           {
            "x": 6.514395031333773,
            "y": 42.43734262426615
           },
           {
            "x": 6.524593273259908,
            "y": 42.57031738146844
           },
           {
            "x": 6.534791515186045,
            "y": 42.703500146947526
           },
           {
            "x": 6.54498975711218,
            "y": 42.836890920703354
           },
           {
            "x": 6.555187999038317,
            "y": 42.970489702735975
           },
           {
            "x": 6.565386240964452,
            "y": 43.10429649304534
           },
           {
            "x": 6.575584482890589,
            "y": 43.2383112916315
           },
           {
            "x": 6.585782724816724,
            "y": 43.37253409849439
           },
           {
            "x": 6.595980966742861,
            "y": 43.506964913634086
           },
           {
            "x": 6.606179208668996,
            "y": 43.641603737050524
           },
           {
            "x": 6.616377450595133,
            "y": 43.77645056874375
           },
           {
            "x": 6.626575692521268,
            "y": 43.91150540871372
           },
           {
            "x": 6.636773934447405,
            "y": 44.04676825696048
           },
           {
            "x": 6.64697217637354,
            "y": 44.18223911348399
           },
           {
            "x": 6.6571704182996765,
            "y": 44.31791797828429
           },
           {
            "x": 6.6673686602258115,
            "y": 44.45380485136133
           },
           {
            "x": 6.677566902151948,
            "y": 44.58989973271517
           },
           {
            "x": 6.687765144078083,
            "y": 44.726202622345745
           },
           {
            "x": 6.69796338600422,
            "y": 44.862713520253116
           },
           {
            "x": 6.708161627930355,
            "y": 44.99943242643724
           },
           {
            "x": 6.718359869856492,
            "y": 45.13635934089814
           },
           {
            "x": 6.728558111782627,
            "y": 45.27349426363579
           },
           {
            "x": 6.738756353708764,
            "y": 45.410837194650234
           },
           {
            "x": 6.748954595634899,
            "y": 45.54838813394142
           },
           {
            "x": 6.759152837561036,
            "y": 45.686147081509404
           },
           {
            "x": 6.769351079487171,
            "y": 45.82411403735413
           },
           {
            "x": 6.779549321413308,
            "y": 45.96228900147564
           },
           {
            "x": 6.789747563339445,
            "y": 46.10067197387392
           },
           {
            "x": 6.79994580526558,
            "y": 46.239262954548956
           },
           {
            "x": 6.8101440471917165,
            "y": 46.378061943500775
           },
           {
            "x": 6.820342289117852,
            "y": 46.51706894072934
           },
           {
            "x": 6.830540531043988,
            "y": 46.656283946234694
           },
           {
            "x": 6.8407387729701234,
            "y": 46.79570696001679
           },
           {
            "x": 6.85093701489626,
            "y": 46.93533798207568
           },
           {
            "x": 6.861135256822395,
            "y": 47.07517701241132
           },
           {
            "x": 6.871333498748532,
            "y": 47.215224051023746
           },
           {
            "x": 6.881531740674667,
            "y": 47.35547909791291
           },
           {
            "x": 6.891729982600804,
            "y": 47.49594215307888
           },
           {
            "x": 6.901928224526939,
            "y": 47.63661321652159
           },
           {
            "x": 6.912126466453076,
            "y": 47.777492288241085
           },
           {
            "x": 6.922324708379211,
            "y": 47.91857936823733
           },
           {
            "x": 6.932522950305348,
            "y": 48.059874456510364
           },
           {
            "x": 6.942721192231483,
            "y": 48.20137755306014
           },
           {
            "x": 6.95291943415762,
            "y": 48.34308865788672
           },
           {
            "x": 6.963117676083755,
            "y": 48.48500777099003
           },
           {
            "x": 6.973315918009892,
            "y": 48.62713489237014
           },
           {
            "x": 6.983514159936027,
            "y": 48.76947002202699
           },
           {
            "x": 6.9937124018621635,
            "y": 48.91201315996063
           },
           {
            "x": 7.0039106437882985,
            "y": 49.054764306171016
           },
           {
            "x": 7.014108885714435,
            "y": 49.197723460658196
           },
           {
            "x": 7.02430712764057,
            "y": 49.34089062342212
           },
           {
            "x": 7.034505369566707,
            "y": 49.484265794462836
           },
           {
            "x": 7.044703611492842,
            "y": 49.627848973780296
           },
           {
            "x": 7.054901853418979,
            "y": 49.77164016137455
           },
           {
            "x": 7.065100095345114,
            "y": 49.91563935724554
           },
           {
            "x": 7.075298337271251,
            "y": 50.05984656139333
           },
           {
            "x": 7.085496579197386,
            "y": 50.20426177381786
           },
           {
            "x": 7.095694821123523,
            "y": 50.34888499451918
           },
           {
            "x": 7.105893063049658,
            "y": 50.49371622349725
           },
           {
            "x": 7.116091304975795,
            "y": 50.63875546075211
           },
           {
            "x": 7.12628954690193,
            "y": 50.784002706283715
           },
           {
            "x": 7.136487788828067,
            "y": 50.92945796009211
           },
           {
            "x": 7.146686030754202,
            "y": 51.075121222177245
           },
           {
            "x": 7.1568842726803386,
            "y": 51.22099249253918
           },
           {
            "x": 7.167082514606474,
            "y": 51.367071771177855
           },
           {
            "x": 7.17728075653261,
            "y": 51.51335905809332
           },
           {
            "x": 7.1874789984587455,
            "y": 51.65985435328553
           },
           {
            "x": 7.197677240384882,
            "y": 51.806557656754535
           },
           {
            "x": 7.207875482311017,
            "y": 51.95346896850028
           },
           {
            "x": 7.218073724237154,
            "y": 52.10058828852282
           },
           {
            "x": 7.228271966163289,
            "y": 52.247915616822105
           },
           {
            "x": 7.238470208089426,
            "y": 52.39545095339818
           },
           {
            "x": 7.248668450015561,
            "y": 52.543194298250995
           },
           {
            "x": 7.258866691941698,
            "y": 52.69114565138061
           },
           {
            "x": 7.269064933867833,
            "y": 52.839305012786966
           },
           {
            "x": 7.27926317579397,
            "y": 52.98767238247011
           },
           {
            "x": 7.289461417720105,
            "y": 53.13624776043
           },
           {
            "x": 7.299659659646242,
            "y": 53.28503114666668
           },
           {
            "x": 7.309857901572377,
            "y": 53.43402254118011
           },
           {
            "x": 7.320056143498514,
            "y": 53.58322194397033
           },
           {
            "x": 7.330254385424649,
            "y": 53.7326293550373
           },
           {
            "x": 7.3404526273507855,
            "y": 53.88224477438105
           },
           {
            "x": 7.350650869276921,
            "y": 54.03206820200155
           },
           {
            "x": 7.360849111203057,
            "y": 54.18209963789884
           },
           {
            "x": 7.371047353129194,
            "y": 54.3323390820729
           },
           {
            "x": 7.381245595055329,
            "y": 54.482786534523704
           },
           {
            "x": 7.391443836981466,
            "y": 54.633441995251296
           },
           {
            "x": 7.401642078907601,
            "y": 54.78430546425564
           },
           {
            "x": 7.411840320833738,
            "y": 54.93537694153677
           },
           {
            "x": 7.422038562759873,
            "y": 55.086656427094645
           },
           {
            "x": 7.43223680468601,
            "y": 55.23814392092931
           },
           {
            "x": 7.442435046612145,
            "y": 55.38983942304072
           },
           {
            "x": 7.452633288538282,
            "y": 55.54174293342892
           },
           {
            "x": 7.462831530464417,
            "y": 55.69385445209387
           },
           {
            "x": 7.473029772390554,
            "y": 55.84617397903561
           },
           {
            "x": 7.483228014316689,
            "y": 55.998701514254094
           },
           {
            "x": 7.4934262562428255,
            "y": 56.15143705774937
           },
           {
            "x": 7.503624498168961,
            "y": 56.30438060952139
           },
           {
            "x": 7.513822740095097,
            "y": 56.4575321695702
           },
           {
            "x": 7.5240209820212325,
            "y": 56.61089173789575
           },
           {
            "x": 7.534219223947369,
            "y": 56.7644593144981
           },
           {
            "x": 7.544417465873504,
            "y": 56.91823489937719
           },
           {
            "x": 7.554615707799641,
            "y": 57.072218492533075
           },
           {
            "x": 7.564813949725776,
            "y": 57.2264100939657
           },
           {
            "x": 7.575012191651913,
            "y": 57.38080970367512
           },
           {
            "x": 7.585210433578048,
            "y": 57.53541732166128
           },
           {
            "x": 7.595408675504185,
            "y": 57.69023294792424
           },
           {
            "x": 7.60560691743032,
            "y": 57.84525658246393
           },
           {
            "x": 7.615805159356457,
            "y": 58.00048822528043
           },
           {
            "x": 7.626003401282592,
            "y": 58.15592787637366
           },
           {
            "x": 7.636201643208729,
            "y": 58.311575535743685
           },
           {
            "x": 7.646399885134864,
            "y": 58.46743120339046
           },
           {
            "x": 7.656598127061001,
            "y": 58.62349487931402
           },
           {
            "x": 7.666796368987136,
            "y": 58.77976656351433
           },
           {
            "x": 7.6769946109132725,
            "y": 58.93624625599143
           },
           {
            "x": 7.687192852839408,
            "y": 59.09293395674527
           }
          ]
         },
         "encoding": {
          "x": {
           "field": "x",
           "type": "quantitative"
          },
          "y": {
           "field": "y",
           "type": "quantitative"
          }
         },
         "mark": {
          "color": "black",
          "opacity": 0.2,
          "type": "line"
         }
        },
        {
         "data": {
          "values": [
           {
            "x": 3.59042346944787,
            "y": 0
           },
           {
            "x": 0.5496466908728286,
            "y": 0
           },
           {
            "x": 2.7084553751035374,
            "y": 0
           },
           {
            "x": 2.4005424483626285,
            "y": 0
           },
           {
            "x": 0.20949398704433353,
            "y": 0
           },
           {
            "x": 0.5876806695799797,
            "y": 0
           },
           {
            "x": 2.086157119488289,
            "y": 0
           },
           {
            "x": 2.5605589278793697,
            "y": 0
           },
           {
            "x": 3.944041882095182,
            "y": 0
           },
           {
            "x": -0.7738193601722578,
            "y": 0
           },
           {
            "x": 1.6826435913661606,
            "y": 0
           },
           {
            "x": -0.24231327883810794,
            "y": 0
           },
           {
            "x": 1.0200908525723127,
            "y": 0
           },
           {
            "x": 0.549993631832463,
            "y": 0
           },
           {
            "x": 7.687192852839408,
            "y": 0
           },
           {
            "x": 5.520394082134787,
            "y": 0
           },
           {
            "x": 1.3033804454206868,
            "y": 0
           },
           {
            "x": 0.9770502605283298,
            "y": 0
           },
           {
            "x": 4.533794189797913,
            "y": 0
           },
           {
            "x": -1.3250925106809586,
            "y": 0
           },
           {
            "x": 4.554813606584099,
            "y": 0
           },
           {
            "x": -0.5281112879376901,
            "y": 0
           },
           {
            "x": -0.47297692688165416,
            "y": 0
           },
           {
            "x": 2.057717922387394,
            "y": 0
           },
           {
            "x": 2.9033171041392425,
            "y": 0
           },
           {
            "x": 1.3336711256584448,
            "y": 0
           },
           {
            "x": 2.1106971972586566,
            "y": 0
           },
           {
            "x": 2.6199987792725854,
            "y": 0
           },
           {
            "x": 0.9886302289344346,
            "y": 0
           },
           {
            "x": 6.992254033597893,
            "y": 0
           },
           {
            "x": 1.955274644709375,
            "y": 0
           },
           {
            "x": 2.1891434661219713,
            "y": 0
           },
           {
            "x": 3.4496514528052873,
            "y": 0
           },
           {
            "x": 5.551697634369207,
            "y": 0
           },
           {
            "x": 0.11537026883941559,
            "y": 0
           },
           {
            "x": -0.7397153725208381,
            "y": 0
           },
           {
            "x": 3.8151728734536166,
            "y": 0
           },
           {
            "x": 3.6674596652694875,
            "y": 0
           },
           {
            "x": 0.8479077915356596,
            "y": 0
           },
           {
            "x": 0.6508611554478336,
            "y": 0
           },
           {
            "x": 0.08044410761069809,
            "y": 0
           },
           {
            "x": 4.502404484740793,
            "y": 0
           },
           {
            "x": -0.30933250854909566,
            "y": 0
           },
           {
            "x": 4.094410044750791,
            "y": 0
           },
           {
            "x": 3.8885745220933923,
            "y": 0
           },
           {
            "x": 3.1487717732215605,
            "y": 0
           },
           {
            "x": 1.8340635259128464,
            "y": 0
           },
           {
            "x": 3.4914882405618135,
            "y": 0
           },
           {
            "x": -0.11313633089179564,
            "y": 0
           },
           {
            "x": 2.0626055722324788,
            "y": 0
           },
           {
            "x": 3.397891222985592,
            "y": 0
           },
           {
            "x": 0.9359746339541126,
            "y": 0
           },
           {
            "x": -0.2762474550442646,
            "y": 0
           },
           {
            "x": 3.566016350296505,
            "y": 0
           },
           {
            "x": 2.7946428970536448,
            "y": 0
           },
           {
            "x": 2.5069136532426888,
            "y": 0
           },
           {
            "x": 4.213768035288159,
            "y": 0
           },
           {
            "x": 5.026304081448215,
            "y": 0
           },
           {
            "x": 2.512865209713169,
            "y": 0
           },
           {
            "x": 1.4310990150326093,
            "y": 0
           },
           {
            "x": 0.8532258424729813,
            "y": 0
           },
           {
            "x": 2.800942449173451,
            "y": 0
           },
           {
            "x": 1.969861140302123,
            "y": 0
           },
           {
            "x": 3.467560656937549,
            "y": 0
           },
           {
            "x": 5.454771447567515,
            "y": 0
           },
           {
            "x": 4.374360848400695,
            "y": 0
           },
           {
            "x": 1.075956044917557,
            "y": 0
           },
           {
            "x": 3.791054816843885,
            "y": 0
           },
           {
            "x": 3.158336047689044,
            "y": 0
           },
           {
            "x": 3.8606338788865746,
            "y": 0
           },
           {
            "x": 4.224321818952637,
            "y": 0
           },
           {
            "x": 2.642739886173595,
            "y": 0
           },
           {
            "x": 0.676166646545832,
            "y": 0
           },
           {
            "x": 2.8675000586132833,
            "y": 0
           },
           {
            "x": 0.05679832541452301,
            "y": 0
           },
           {
            "x": 2.5289893796379728,
            "y": 0
           },
           {
            "x": 0.04518147428987529,
            "y": 0
           },
           {
            "x": 2.627831803382141,
            "y": 0
           },
           {
            "x": 2.868724677024337,
            "y": 0
           },
           {
            "x": 1.1705280703681666,
            "y": 0
           },
           {
            "x": 3.1169781101594385,
            "y": 0
           },
           {
            "x": 5.919411133408153,
            "y": 0
           },
           {
            "x": 2.9902036656456756,
            "y": 0
           },
           {
            "x": 1.8262547080322946,
            "y": 0
           },
           {
            "x": 4.364672768032902,
            "y": 0
           },
           {
            "x": 1.0660719376287249,
            "y": 0
           },
           {
            "x": 2.119625046929801,
            "y": 0
           },
           {
            "x": 1.8216686498182775,
            "y": 0
           },
           {
            "x": 4.450245581003958,
            "y": 0
           },
           {
            "x": 0.6859637853234404,
            "y": 0
           },
           {
            "x": 3.8290423023047264,
            "y": 0
           },
           {
            "x": 3.135338180016678,
            "y": 0
           },
           {
            "x": 1.5206711022286021,
            "y": 0
           },
           {
            "x": 0.2494696498430291,
            "y": 0
           },
           {
            "x": 1.4284802231400702,
            "y": 0
           },
           {
            "x": 0.15008519012169774,
            "y": 0
           },
           {
            "x": 3.473094105690494,
            "y": 0
           },
           {
            "x": 2.9160261627269595,
            "y": 0
           },
           {
            "x": 3.9016057348727706,
            "y": 0
           },
           {
            "x": 6.492070598779575,
            "y": 0
           },
           {
            "x": 5.015069849415243,
            "y": 0
           },
           {
            "x": 1.6890543369428843,
            "y": 0
           },
           {
            "x": 4.01745177776443,
            "y": 0
           },
           {
            "x": -0.852876819995855,
            "y": 0
           },
           {
            "x": 2.9212819021834058,
            "y": 0
           },
           {
            "x": 2.2552304245998016,
            "y": 0
           },
           {
            "x": 6.647126576404931,
            "y": 0
           },
           {
            "x": -0.5576504150237156,
            "y": 0
           },
           {
            "x": 3.8073818824171757,
            "y": 0
           },
           {
            "x": 4.222062775742295,
            "y": 0
           },
           {
            "x": 5.043660575620345,
            "y": 0
           },
           {
            "x": 0.8524206425686836,
            "y": 0
           },
           {
            "x": 4.591050119287275,
            "y": 0
           },
           {
            "x": 1.1172027680994816,
            "y": 0
           },
           {
            "x": -0.8068718346599373,
            "y": 0
           },
           {
            "x": 3.698606756639497,
            "y": 0
           },
           {
            "x": 4.315591693005171,
            "y": 0
           },
           {
            "x": 2.25426733543468,
            "y": 0
           },
           {
            "x": 3.9627046950702915,
            "y": 0
           },
           {
            "x": 7.457271160400687,
            "y": 0
           },
           {
            "x": 0.8739799420974257,
            "y": 0
           },
           {
            "x": 4.835710494858743,
            "y": 0
           },
           {
            "x": 3.265203640961329,
            "y": 0
           },
           {
            "x": 0.8752951000724196,
            "y": 0
           },
           {
            "x": 2.287269240442774,
            "y": 0
           },
           {
            "x": 1.8328102379222873,
            "y": 0
           },
           {
            "x": -0.6211350366581261,
            "y": 0
           },
           {
            "x": 3.439748789066464,
            "y": 0
           },
           {
            "x": 2.8442578080630643,
            "y": 0
           },
           {
            "x": 3.568412654695936,
            "y": 0
           },
           {
            "x": 2.1037020883081,
            "y": 0
           },
           {
            "x": 5.542854671834492,
            "y": 0
           },
           {
            "x": 2.8379567157113033,
            "y": 0
           },
           {
            "x": 2.2510836783975128,
            "y": 0
           },
           {
            "x": 1.5672713824654236,
            "y": 0
           },
           {
            "x": 3.6351127031932906,
            "y": 0
           },
           {
            "x": 2.2638729351353977,
            "y": 0
           },
           {
            "x": 4.203947578760104,
            "y": 0
           },
           {
            "x": 4.848024580313476,
            "y": 0
           },
           {
            "x": 0.840868586711162,
            "y": 0
           },
           {
            "x": 4.814549300087169,
            "y": 0
           },
           {
            "x": 2.207249779536288,
            "y": 0
           },
           {
            "x": 1.8670598726230458,
            "y": 0
           },
           {
            "x": -1.9363064481273504,
            "y": 0
           },
           {
            "x": 1.2520009402208132,
            "y": 0
           },
           {
            "x": 1.9267139079203344,
            "y": 0
           },
           {
            "x": 3.5255368339016657,
            "y": 0
           },
           {
            "x": 3.318731463754653,
            "y": 0
           },
           {
            "x": -0.2723837311949464,
            "y": 0
           },
           {
            "x": 6.1000666483739785,
            "y": 0
           },
           {
            "x": 1.599844618277829,
            "y": 0
           },
           {
            "x": 2.608457659728809,
            "y": 0
           },
           {
            "x": 0.9335984178620378,
            "y": 0
           },
           {
            "x": 1.0906589054944205,
            "y": 0
           },
           {
            "x": 3.576604905133512,
            "y": 0
           },
           {
            "x": 3.293543827136392,
            "y": 0
           },
           {
            "x": 2.463726509037544,
            "y": 0
           },
           {
            "x": 5.298936501617675,
            "y": 0
           },
           {
            "x": 2.364775872454073,
            "y": 0
           },
           {
            "x": -0.23670585870878025,
            "y": 0
           },
           {
            "x": 1.845050363129651,
            "y": 0
           },
           {
            "x": 2.418161902839983,
            "y": 0
           },
           {
            "x": 3.210258082027172,
            "y": 0
           },
           {
            "x": 2.9431965046212065,
            "y": 0
           },
           {
            "x": 6.99559826005909,
            "y": 0
           },
           {
            "x": 2.8384257824395243,
            "y": 0
           },
           {
            "x": 3.032078551354917,
            "y": 0
           },
           {
            "x": 0.15439657879157265,
            "y": 0
           },
           {
            "x": 2.016593376467276,
            "y": 0
           },
           {
            "x": 0.43043865196745745,
            "y": 0
           },
           {
            "x": 2.5376666193167137,
            "y": 0
           },
           {
            "x": 1.8578144550307623,
            "y": 0
           },
           {
            "x": 2.088103282642515,
            "y": 0
           },
           {
            "x": 2.5456665898789947,
            "y": 0
           },
           {
            "x": 5.670914479064848,
            "y": 0
           },
           {
            "x": 2.7322405514222496,
            "y": 0
           },
           {
            "x": 3.1199270146874776,
            "y": 0
           },
           {
            "x": 2.422874834277444,
            "y": 0
           },
           {
            "x": 0.8692638528215526,
            "y": 0
           },
           {
            "x": 0.44660795932687103,
            "y": 0
           },
           {
            "x": 3.0757457161554154,
            "y": 0
           },
           {
            "x": 3.6307990890355097,
            "y": 0
           },
           {
            "x": 2.355676949197113,
            "y": 0
           },
           {
            "x": 3.303638377656684,
            "y": 0
           },
           {
            "x": 1.8445090318988437,
            "y": 0
           },
           {
            "x": 2.557337759840411,
            "y": 0
           },
           {
            "x": 1.7992370716320047,
            "y": 0
           },
           {
            "x": 0.35158973630889223,
            "y": 0
           },
           {
            "x": 5.307927129246212,
            "y": 0
           },
           {
            "x": -0.3404603045642314,
            "y": 0
           },
           {
            "x": -1.2173220716327804,
            "y": 0
           },
           {
            "x": 1.9863503429264755,
            "y": 0
           },
           {
            "x": 3.5708955763745216,
            "y": 0
           },
           {
            "x": 2.3130323139745137,
            "y": 0
           },
           {
            "x": -0.44599715463760825,
            "y": 0
           },
           {
            "x": 4.3681064193120385,
            "y": 0
           },
           {
            "x": 4.147373705809316,
            "y": 0
           },
           {
            "x": 0.24859199916878572,
            "y": 0
           },
           {
            "x": 1.9934152957211138,
            "y": 0
           },
           {
            "x": 2.1117706805110905,
            "y": 0
           },
           {
            "x": 1.214780560854454,
            "y": 0
           },
           {
            "x": -1.3084967771895357,
            "y": 0
           },
           {
            "x": 5.031641470422837,
            "y": 0
           },
           {
            "x": 2.8009030621795303,
            "y": 0
           },
           {
            "x": -1.0815906617040811,
            "y": 0
           },
           {
            "x": 3.2875093479024433,
            "y": 0
           },
           {
            "x": 3.4767963498692915,
            "y": 0
           },
           {
            "x": 0.39150565625667166,
            "y": 0
           },
           {
            "x": 3.4434030774131523,
            "y": 0
           },
           {
            "x": 3.240728049161132,
            "y": 0
           },
           {
            "x": 0.23372489119734574,
            "y": 0
           },
           {
            "x": 5.205482308144913,
            "y": 0
           },
           {
            "x": -0.7813307867293329,
            "y": 0
           },
           {
            "x": 6.5773662386144025,
            "y": 0
           },
           {
            "x": 0.8432388378018225,
            "y": 0
           },
           {
            "x": 1.119710751780733,
            "y": 0
           },
           {
            "x": 2.913754516392668,
            "y": 0
           },
           {
            "x": 1.5039514673260708,
            "y": 0
           },
           {
            "x": 0.9305994197856213,
            "y": 0
           },
           {
            "x": 3.6718402735990336,
            "y": 0
           },
           {
            "x": 3.612463234871422,
            "y": 0
           },
           {
            "x": 4.5312625948248915,
            "y": 0
           },
           {
            "x": 2.309766988485505,
            "y": 0
           },
           {
            "x": 1.5270449209038952,
            "y": 0
           },
           {
            "x": 2.3351358118511327,
            "y": 0
           },
           {
            "x": 2.4686370872148453,
            "y": 0
           },
           {
            "x": 1.3089208135437012,
            "y": 0
           },
           {
            "x": 1.0755698414970256,
            "y": 0
           },
           {
            "x": 2.1682371634059088,
            "y": 0
           },
           {
            "x": 3.080877478086923,
            "y": 0
           },
           {
            "x": 4.948017266713631,
            "y": 0
           },
           {
            "x": 3.4914611181158937,
            "y": 0
           },
           {
            "x": 2.0455988786166,
            "y": 0
           },
           {
            "x": 4.281523617693191,
            "y": 0
           },
           {
            "x": 2.3031822763451397,
            "y": 0
           },
           {
            "x": 3.936691112355958,
            "y": 0
           },
           {
            "x": 1.7219430844315884,
            "y": 0
           },
           {
            "x": 2.4756938001561863,
            "y": 0
           },
           {
            "x": -2.1460329770491127,
            "y": 0
           },
           {
            "x": 4.986506866582717,
            "y": 0
           },
           {
            "x": 1.938775282989021,
            "y": 0
           },
           {
            "x": -0.44891115000684634,
            "y": 0
           },
           {
            "x": 3.536552027880817,
            "y": 0
           },
           {
            "x": 2.4140120816836217,
            "y": 0
           },
           {
            "x": 4.871118228493685,
            "y": 0
           },
           {
            "x": -1.5580472679551622,
            "y": 0
           },
           {
            "x": 0.09932333726331333,
            "y": 0
           },
           {
            "x": 2.457509634804776,
            "y": 0
           },
           {
            "x": 4.123153560446965,
            "y": 0
           },
           {
            "x": 0.21144300526683368,
            "y": 0
           },
           {
            "x": 3.099220772750483,
            "y": 0
           },
           {
            "x": 0.10172381475838543,
            "y": 0
           },
           {
            "x": 2.1705416011975243,
            "y": 0
           },
           {
            "x": 4.887113040627691,
            "y": 0
           },
           {
            "x": 2.230706093327117,
            "y": 0
           },
           {
            "x": 0.6809878992302656,
            "y": 0
           },
           {
            "x": 3.05219504550069,
            "y": 0
           },
           {
            "x": 1.4559672232596144,
            "y": 0
           },
           {
            "x": 2.8420974317640657,
            "y": 0
           },
           {
            "x": 3.6161181915054774,
            "y": 0
           },
           {
            "x": 1.6658058290552487,
            "y": 0
           },
           {
            "x": -1.7400818120077686,
            "y": 0
           },
           {
            "x": -1.7203274923932472,
            "y": 0
           },
           {
            "x": 2.715549235868193,
            "y": 0
           },
           {
            "x": 3.503581528416798,
            "y": 0
           },
           {
            "x": 2.2369900067667055,
            "y": 0
           },
           {
            "x": 3.0671019003419193,
            "y": 0
           },
           {
            "x": 1.343891233389021,
            "y": 0
           },
           {
            "x": 1.9622277474459802,
            "y": 0
           },
           {
            "x": 5.075260893346048,
            "y": 0
           },
           {
            "x": 4.632251661759234,
            "y": 0
           },
           {
            "x": 2.7606195339251682,
            "y": 0
           },
           {
            "x": 3.381039475620231,
            "y": 0
           },
           {
            "x": 1.5830232091900958,
            "y": 0
           },
           {
            "x": 1.1325679654984033,
            "y": 0
           },
           {
            "x": 4.926383106927686,
            "y": 0
           },
           {
            "x": 5.731551820015672,
            "y": 0
           },
           {
            "x": 4.962281027625664,
            "y": 0
           },
           {
            "x": 4.3209160834865,
            "y": 0
           },
           {
            "x": -0.4951064086282595,
            "y": 0
           },
           {
            "x": 4.041886193477516,
            "y": 0
           },
           {
            "x": -2.500850831370414,
            "y": 0
           },
           {
            "x": 4.274168169221544,
            "y": 0
           },
           {
            "x": 3.5043994564197742,
            "y": 0
           },
           {
            "x": 0.9960010338766181,
            "y": 0
           },
           {
            "x": -0.024505109929978452,
            "y": 0
           },
           {
            "x": 2.476409940270858,
            "y": 0
           },
           {
            "x": 2.8785423930271605,
            "y": 0
           },
           {
            "x": 1.0478140228361532,
            "y": 0
           },
           {
            "x": 0.7549805885093088,
            "y": 0
           },
           {
            "x": -0.368653916303491,
            "y": 0
           },
           {
            "x": 2.6423825088679633,
            "y": 0
           },
           {
            "x": 2.6367093377141506,
            "y": 0
           },
           {
            "x": 3.6866262457843604,
            "y": 0
           },
           {
            "x": 2.82233564707927,
            "y": 0
           },
           {
            "x": 2.7561490206923795,
            "y": 0
           },
           {
            "x": 2.1027730010781154,
            "y": 0
           },
           {
            "x": 2.455168023217745,
            "y": 0
           },
           {
            "x": 6.459689199487323,
            "y": 0
           },
           {
            "x": 4.396792091346704,
            "y": 0
           }
          ]
         },
         "encoding": {
          "x": {
           "field": "x",
           "type": "quantitative"
          },
          "y": {
           "field": "y",
           "type": "quantitative"
          }
         },
         "mark": {
          "opacity": 0.4,
          "size": 20,
          "type": "point"
         }
        },
        {
         "data": {
          "values": [
           {
            "x": 3.59042346944787,
            "y": 12.891140689962079
           },
           {
            "x": 0.5496466908728286,
            "y": 0.30211148478745076
           },
           {
            "x": 2.7084553751035374,
            "y": 7.335730518927243
           },
           {
            "x": 2.4005424483626285,
            "y": 5.762604046390843
           },
           {
            "x": 0.20949398704433353,
            "y": 0.043887730607731386
           },
           {
            "x": 0.5876806695799797,
            "y": 0.3453685693979732
           },
           {
            "x": 2.086157119488289,
            "y": 4.3520515271916755
           },
           {
            "x": 2.5605589278793697,
            "y": 6.556462023142747
           },
           {
            "x": 3.944041882095182,
            "y": 15.555466367720907
           },
           {
            "x": -0.7738193601722578,
            "y": 0.5987964021774025
           },
           {
            "x": 1.6826435913661606,
            "y": 2.831289455565611
           },
           {
            "x": -0.24231327883810794,
            "y": 0.058715725101274645
           },
           {
            "x": 1.0200908525723127,
            "y": 1.0405853475017077
           },
           {
            "x": 0.549993631832463,
            "y": 0.3024929950562628
           },
           {
            "x": 7.687192852839408,
            "y": 59.09293395674527
           },
           {
            "x": 5.520394082134787,
            "y": 30.47475082206878
           },
           {
            "x": 1.3033804454206868,
            "y": 1.6988005855050279
           },
           {
            "x": 0.9770502605283298,
            "y": 0.9546272115984771
           },
           {
            "x": 4.533794189797913,
            "y": 20.555289755445312
           },
           {
            "x": -1.3250925106809586,
            "y": 1.7558701618627663
           },
           {
            "x": 4.554813606584099,
            "y": 20.746326990723645
           },
           {
            "x": -0.5281112879376901,
            "y": 0.27890153244720584
           },
           {
            "x": -0.47297692688165416,
            "y": 0.22370717336241364
           },
           {
            "x": 2.057717922387394,
            "y": 4.234203048114292
           },
           {
            "x": 2.9033171041392425,
            "y": 8.429250207187478
           },
           {
            "x": 1.3336711256584448,
            "y": 1.7786786714150633
           },
           {
            "x": 2.1106971972586566,
            "y": 4.4550426585155485
           },
           {
            "x": 2.6199987792725854,
            "y": 6.864393603389837
           },
           {
            "x": 0.9886302289344346,
            "y": 0.9773897295629527
           },
           {
            "x": 6.992254033597893,
            "y": 48.89161647036601
           },
           {
            "x": 1.955274644709375,
            "y": 3.8230989362433725
           },
           {
            "x": 2.1891434661219713,
            "y": 4.792349115264519
           },
           {
            "x": 3.4496514528052873,
            "y": 11.900095145841629
           },
           {
            "x": 5.551697634369207,
            "y": 30.82134662346065
           },
           {
            "x": 0.11537026883941559,
            "y": 0.013310298932079028
           },
           {
            "x": -0.7397153725208381,
            "y": 0.5471788323436423
           },
           {
            "x": 3.8151728734536166,
            "y": 14.555544054336325
           },
           {
            "x": 3.6674596652694875,
            "y": 13.450260396378582
           },
           {
            "x": 0.8479077915356596,
            "y": 0.7189476229468796
           },
           {
            "x": 0.6508611554478336,
            "y": 0.4236202436708891
           },
           {
            "x": 0.08044410761069809,
            "y": 0.006471254449281575
           },
           {
            "x": 4.502404484740793,
            "y": 20.271646144214003
           },
           {
            "x": -0.30933250854909566,
            "y": 0.09568660084527635
           },
           {
            "x": 4.094410044750791,
            "y": 16.764193614556177
           },
           {
            "x": 3.8885745220933923,
            "y": 15.121011813873855
           },
           {
            "x": 3.1487717732215605,
            "y": 9.91476367983685
           },
           {
            "x": 1.8340635259128464,
            "y": 3.363789017083862
           },
           {
            "x": 3.4914882405618135,
            "y": 12.190490133981427
           },
           {
            "x": -0.11313633089179564,
            "y": 0.012799829367657873
           },
           {
            "x": 2.0626055722324788,
            "y": 4.254341746604471
           },
           {
            "x": 3.397891222985592,
            "y": 11.545664763242524
           },
           {
            "x": 0.9359746339541126,
            "y": 0.8760485154055351
           },
           {
            "x": -0.2762474550442646,
            "y": 0.076312656418433
           },
           {
            "x": 3.566016350296505,
            "y": 12.716472610582006
           },
           {
            "x": 2.7946428970536448,
            "y": 7.810028922052388
           },
           {
            "x": 2.5069136532426888,
            "y": 6.284616064814604
           },
           {
            "x": 4.213768035288159,
            "y": 17.75584105521623
           },
           {
            "x": 5.026304081448215,
            "y": 25.263732719182983
           },
           {
            "x": 2.512865209713169,
            "y": 6.314491562186809
           },
           {
            "x": 1.4310990150326093,
            "y": 2.0480443908273043
           },
           {
            "x": 0.8532258424729813,
            "y": 0.7279943382637286
           },
           {
            "x": 2.800942449173451,
            "y": 7.84527860358177
           },
           {
            "x": 1.969861140302123,
            "y": 3.88035291207238
           },
           {
            "x": 3.467560656937549,
            "y": 12.023976909541167
           },
           {
            "x": 5.454771447567515,
            "y": 29.7545315451978
           },
           {
            "x": 4.374360848400695,
            "y": 19.135032832020848
           },
           {
            "x": 1.075956044917557,
            "y": 1.1576814105946318
           },
           {
            "x": 3.791054816843885,
            "y": 14.37209662431522
           },
           {
            "x": 3.158336047689044,
            "y": 9.975086590132051
           },
           {
            "x": 3.8606338788865746,
            "y": 14.904493946806799
           },
           {
            "x": 4.224321818952637,
            "y": 17.844894830079316
           },
           {
            "x": 2.642739886173595,
            "y": 6.984074105972827
           },
           {
            "x": 0.676166646545832,
            "y": 0.4572013339010361
           },
           {
            "x": 2.8675000586132833,
            "y": 8.222556586147183
           },
           {
            "x": 0.05679832541452301,
            "y": 0.0032260497698940504
           },
           {
            "x": 2.5289893796379728,
            "y": 6.395787282321658
           },
           {
            "x": 0.04518147428987529,
            "y": 0.0020413656190066617
           },
           {
            "x": 2.627831803382141,
            "y": 6.9054999868666345
           },
           {
            "x": 2.868724677024337,
            "y": 8.229581272568385
           },
           {
            "x": 1.1705280703681666,
            "y": 1.3701359635198236
           },
           {
            "x": 3.1169781101594385,
            "y": 9.715552539213105
           },
           {
            "x": 5.919411133408153,
            "y": 35.0394281663164
           },
           {
            "x": 2.9902036656456756,
            "y": 8.941317962040836
           },
           {
            "x": 1.8262547080322946,
            "y": 3.3352062586101217
           },
           {
            "x": 4.364672768032902,
            "y": 19.050368372007995
           },
           {
            "x": 1.0660719376287249,
            "y": 1.1365093761994638
           },
           {
            "x": 2.119625046929801,
            "y": 4.492810339572161
           },
           {
            "x": 1.8216686498182775,
            "y": 3.318476669730746
           },
           {
            "x": 4.450245581003958,
            "y": 19.804685731245254
           },
           {
            "x": 0.6859637853234404,
            "y": 0.470546314775263
           },
           {
            "x": 3.8290423023047264,
            "y": 14.66156495283908
           },
           {
            "x": 3.135338180016678,
            "y": 9.830345503070294
           },
           {
            "x": 1.5206711022286021,
            "y": 2.3124406011531518
           },
           {
            "x": 0.2494696498430291,
            "y": 0.06223510619280355
           },
           {
            "x": 1.4284802231400702,
            "y": 2.040555747902305
           },
           {
            "x": 0.15008519012169774,
            "y": 0.02252556429386616
           },
           {
            "x": 3.473094105690494,
            "y": 12.062382666982051
           },
           {
            "x": 2.9160261627269595,
            "y": 8.503208581708115
           },
           {
            "x": 3.9016057348727706,
            "y": 15.222527310392092
           },
           {
            "x": 6.492070598779575,
            "y": 42.146980659538194
           },
           {
            "x": 5.015069849415243,
            "y": 25.150925594513826
           },
           {
            "x": 1.6890543369428843,
            "y": 2.852904553145567
           },
           {
            "x": 4.01745177776443,
            "y": 16.13991878666258
           },
           {
            "x": -0.852876819995855,
            "y": 0.7273988700862419
           },
           {
            "x": 2.9212819021834058,
            "y": 8.533887952024298
           },
           {
            "x": 2.2552304245998016,
            "y": 5.086064268040602
           },
           {
            "x": 6.647126576404931,
            "y": 44.18429172274874
           },
           {
            "x": -0.5576504150237156,
            "y": 0.31097398537612225
           },
           {
            "x": 3.8073818824171757,
            "y": 14.496156798558555
           },
           {
            "x": 4.222062775742295,
            "y": 17.825814082308728
           },
           {
            "x": 5.043660575620345,
            "y": 25.43851200206695
           },
           {
            "x": 0.8524206425686836,
            "y": 0.7266209518772073
           },
           {
            "x": 4.591050119287275,
            "y": 21.077741197807704
           },
           {
            "x": 1.1172027680994816,
            "y": 1.2481420250491442
           },
           {
            "x": -0.8068718346599373,
            "y": 0.6510421575674932
           },
           {
            "x": 3.698606756639497,
            "y": 13.67969194025934
           },
           {
            "x": 4.315591693005171,
            "y": 18.624331660735237
           },
           {
            "x": 2.25426733543468,
            "y": 5.081721219607772
           },
           {
            "x": 3.9627046950702915,
            "y": 15.703028500332133
           },
           {
            "x": 7.457271160400687,
            "y": 55.61089315974381
           },
           {
            "x": 0.8739799420974257,
            "y": 0.7638409391886195
           },
           {
            "x": 4.835710494858743,
            "y": 23.38409599008699
           },
           {
            "x": 3.265203640961329,
            "y": 10.661554816947119
           },
           {
            "x": 0.8752951000724196,
            "y": 0.7661415122107871
           },
           {
            "x": 2.287269240442774,
            "y": 5.231600578275664
           },
           {
            "x": 1.8328102379222873,
            "y": 3.3591933682327513
           },
           {
            "x": -0.6211350366581261,
            "y": 0.38580873376429164
           },
           {
            "x": 3.439748789066464,
            "y": 11.831871731884206
           },
           {
            "x": 2.8442578080630643,
            "y": 8.089802478727707
           },
           {
            "x": 3.568412654695936,
            "y": 12.733568874194098
           },
           {
            "x": 2.1037020883081,
            "y": 4.425562476351861
           },
           {
            "x": 5.542854671834492,
            "y": 30.723237913077455
           },
           {
            "x": 2.8379567157113033,
            "y": 8.053998320250887
           },
           {
            "x": 2.2510836783975128,
            "y": 5.067377727147677
           },
           {
            "x": 1.5672713824654236,
            "y": 2.4563395862950803
           },
           {
            "x": 3.6351127031932906,
            "y": 13.214044364917232
           },
           {
            "x": 2.2638729351353977,
            "y": 5.12512066643856
           },
           {
            "x": 4.203947578760104,
            "y": 17.67317524496294
           },
           {
            "x": 4.848024580313476,
            "y": 23.503342331323655
           },
           {
            "x": 0.840868586711162,
            "y": 0.707059980117627
           },
           {
            "x": 4.814549300087169,
            "y": 23.179884962969847
           },
           {
            "x": 2.207249779536288,
            "y": 4.871951589262992
           },
           {
            "x": 1.8670598726230458,
            "y": 3.485912567959184
           },
           {
            "x": -1.9363064481273504,
            "y": 3.7492826610595555
           },
           {
            "x": 1.2520009402208132,
            "y": 1.5675063543138004
           },
           {
            "x": 1.9267139079203344,
            "y": 3.7122264829736467
           },
           {
            "x": 3.5255368339016657,
            "y": 12.429409967197381
           },
           {
            "x": 3.318731463754653,
            "y": 11.013978528515102
           },
           {
            "x": -0.2723837311949464,
            "y": 0.07419289701968082
           },
           {
            "x": 6.1000666483739785,
            "y": 37.21081311460454
           },
           {
            "x": 1.599844618277829,
            "y": 2.559502802632532
           },
           {
            "x": 2.608457659728809,
            "y": 6.804051362597895
           },
           {
            "x": 0.9335984178620378,
            "y": 0.8716060058345001
           },
           {
            "x": 1.0906589054944205,
            "y": 1.1895368481342872
           },
           {
            "x": 3.576604905133512,
            "y": 12.792102647425097
           },
           {
            "x": 3.293543827136392,
            "y": 10.847430941268232
           },
           {
            "x": 2.463726509037544,
            "y": 6.069948311334323
           },
           {
            "x": 5.298936501617675,
            "y": 28.078728048176163
           },
           {
            "x": 2.364775872454073,
            "y": 5.592164926940922
           },
           {
            "x": -0.23670585870878025,
            "y": 0.056029663547061036
           },
           {
            "x": 1.845050363129651,
            "y": 3.4042108424848574
           },
           {
            "x": 2.418161902839983,
            "y": 5.847506988346686
           },
           {
            "x": 3.210258082027172,
            "y": 10.305756953220778
           },
           {
            "x": 2.9431965046212065,
            "y": 8.662405664814488
           },
           {
            "x": 6.99559826005909,
            "y": 48.93839501614177
           },
           {
            "x": 2.8384257824395243,
            "y": 8.056660922417425
           },
           {
            "x": 3.032078551354917,
            "y": 9.193500341586534
           },
           {
            "x": 0.15439657879157265,
            "y": 0.0238383035425423
           },
           {
            "x": 2.016593376467276,
            "y": 4.066648846011688
           },
           {
            "x": 0.43043865196745745,
            "y": 0.18527743310756195
           },
           {
            "x": 2.5376666193167137,
            "y": 6.439751870794319
           },
           {
            "x": 1.8578144550307623,
            "y": 3.451474549321248
           },
           {
            "x": 2.088103282642515,
            "y": 4.360175318982447
           },
           {
            "x": 2.5456665898789947,
            "y": 6.48041838682615
           },
           {
            "x": 5.670914479064848,
            "y": 32.15927102886734
           },
           {
            "x": 2.7322405514222496,
            "y": 7.465138430836158
           },
           {
            "x": 3.1199270146874776,
            "y": 9.733944576976716
           },
           {
            "x": 2.422874834277444,
            "y": 5.870322462574952
           },
           {
            "x": 0.8692638528215526,
            "y": 0.7556196458221699
           },
           {
            "x": 0.44660795932687103,
            "y": 0.19945866933411208
           },
           {
            "x": 3.0757457161554154,
            "y": 9.46021171044839
           },
           {
            "x": 3.6307990890355097,
            "y": 13.182702024941088
           },
           {
            "x": 2.355676949197113,
            "y": 5.549213888978617
           },
           {
            "x": 3.303638377656684,
            "y": 10.914026530326087
           },
           {
            "x": 1.8445090318988437,
            "y": 3.4022135687564097
           },
           {
            "x": 2.557337759840411,
            "y": 6.539976417905572
           },
           {
            "x": 1.7992370716320047,
            "y": 3.237254039934912
           },
           {
            "x": 0.35158973630889223,
            "y": 0.12361534267775637
           },
           {
            "x": 5.307927129246212,
            "y": 28.174090409387937
           },
           {
            "x": -0.3404603045642314,
            "y": 0.11591321898396918
           },
           {
            "x": -1.2173220716327804,
            "y": 1.481873026084324
           },
           {
            "x": 1.9863503429264755,
            "y": 3.945587684844127
           },
           {
            "x": 3.5708955763745216,
            "y": 12.751295217371126
           },
           {
            "x": 2.3130323139745137,
            "y": 5.3501184854902935
           },
           {
            "x": -0.44599715463760825,
            "y": 0.19891346194484263
           },
           {
            "x": 4.3681064193120385,
            "y": 19.08035369043504
           },
           {
            "x": 4.147373705809316,
            "y": 17.200708655638497
           },
           {
            "x": 0.24859199916878572,
            "y": 0.06179798205073356
           },
           {
            "x": 1.9934152957211138,
            "y": 3.9737045412148952
           },
           {
            "x": 2.1117706805110905,
            "y": 4.459575407066274
           },
           {
            "x": 1.214780560854454,
            "y": 1.4756918110298618
           },
           {
            "x": -1.3084967771895357,
            "y": 1.7121638159154016
           },
           {
            "x": 5.031641470422837,
            "y": 25.31741588687889
           },
           {
            "x": 2.8009030621795303,
            "y": 7.84505796372667
           },
           {
            "x": -1.0815906617040811,
            "y": 1.169838359485472
           },
           {
            "x": 3.2875093479024433,
            "y": 10.807717712545948
           },
           {
            "x": 3.4767963498692915,
            "y": 12.088112858464429
           },
           {
            "x": 0.39150565625667166,
            "y": 0.15327667888096716
           },
           {
            "x": 3.4434030774131523,
            "y": 11.857024753538369
           },
           {
            "x": 3.240728049161132,
            "y": 10.502318288619716
           },
           {
            "x": 0.23372489119734574,
            "y": 0.05462732476521111
           },
           {
            "x": 5.205482308144913,
            "y": 27.097046060409692
           },
           {
            "x": -0.7813307867293329,
            "y": 0.6104777982910783
           },
           {
            "x": 6.5773662386144025,
            "y": 43.26174663686457
           },
           {
            "x": 0.8432388378018225,
            "y": 0.7110517375773684
           },
           {
            "x": 1.119710751780733,
            "y": 1.2537521676533743
           },
           {
            "x": 2.913754516392668,
            "y": 8.48996538179867
           },
           {
            "x": 1.5039514673260708,
            "y": 2.2618700160722414
           },
           {
            "x": 0.9305994197856213,
            "y": 0.866015280105335
           },
           {
            "x": 3.6718402735990336,
            "y": 13.482410994823827
           },
           {
            "x": 3.612463234871422,
            "y": 13.049890623297697
           },
           {
            "x": 4.5312625948248915,
            "y": 20.53234070325921
           },
           {
            "x": 2.309766988485505,
            "y": 5.3350235410974
           },
           {
            "x": 1.5270449209038952,
            "y": 2.3318661904583835
           },
           {
            "x": 2.3351358118511327,
            "y": 5.452859259789649
           },
           {
            "x": 2.4686370872148453,
            "y": 6.0941690683725955
           },
           {
            "x": 1.3089208135437012,
            "y": 1.7132736961279045
           },
           {
            "x": 1.0755698414970256,
            "y": 1.1568504839379368
           },
           {
            "x": 2.1682371634059088,
            "y": 4.7012523967745015
           },
           {
            "x": 3.080877478086923,
            "y": 9.491806034983238
           },
           {
            "x": 4.948017266713631,
            "y": 24.48287487169623
           },
           {
            "x": 3.4914611181158937,
            "y": 12.190300739315086
           },
           {
            "x": 2.0455988786166,
            "y": 4.1844747721974915
           },
           {
            "x": 4.281523617693191,
            "y": 18.331444488864587
           },
           {
            "x": 2.3031822763451397,
            "y": 5.304648598070379
           },
           {
            "x": 3.936691112355958,
            "y": 15.49753691410239
           },
           {
            "x": 1.7219430844315884,
            "y": 2.9650879860217723
           },
           {
            "x": 2.4756938001561863,
            "y": 6.1290597921317795
           },
           {
            "x": -2.1460329770491127,
            "y": 4.605457538582277
           },
           {
            "x": 4.986506866582717,
            "y": 24.865250730476586
           },
           {
            "x": 1.938775282989021,
            "y": 3.7588495979291587
           },
           {
            "x": -0.44891115000684634,
            "y": 0.2015212206004693
           },
           {
            "x": 3.536552027880817,
            "y": 12.50720024590792
           },
           {
            "x": 2.4140120816836217,
            "y": 5.827454330514493
           },
           {
            "x": 4.871118228493685,
            "y": 23.72779279596346
           },
           {
            "x": -1.5580472679551622,
            "y": 2.427511289182545
           },
           {
            "x": 0.09932333726331333,
            "y": 0.009865125325121885
           },
           {
            "x": 2.457509634804776,
            "y": 6.039353605158302
           },
           {
            "x": 4.123153560446965,
            "y": 17.00039528302648
           },
           {
            "x": 0.21144300526683368,
            "y": 0.04470814447627026
           },
           {
            "x": 3.099220772750483,
            "y": 9.605169398248101
           },
           {
            "x": 0.10172381475838543,
            "y": 0.010347734488998315
           },
           {
            "x": 2.1705416011975243,
            "y": 4.711250842529113
           },
           {
            "x": 4.887113040627691,
            "y": 23.883873871873234
           },
           {
            "x": 2.230706093327117,
            "y": 4.9760496748067276
           },
           {
            "x": 0.6809878992302656,
            "y": 0.46374451889805035
           },
           {
            "x": 3.05219504550069,
            "y": 9.31589459577896
           },
           {
            "x": 1.4559672232596144,
            "y": 2.1198405552063115
           },
           {
            "x": 2.8420974317640657,
            "y": 8.077517811639899
           },
           {
            "x": 3.6161181915054774,
            "y": 13.076310774936845
           },
           {
            "x": 1.6658058290552487,
            "y": 2.774909060114444
           },
           {
            "x": -1.7400818120077686,
            "y": 3.027884712480239
           },
           {
            "x": -1.7203274923932472,
            "y": 2.959526681084038
           },
           {
            "x": 2.715549235868193,
            "y": 7.374207652424328
           },
           {
            "x": 3.503581528416798,
            "y": 12.275083526263385
           },
           {
            "x": 2.2369900067667055,
            "y": 5.004124290374105
           },
           {
            "x": 3.0671019003419193,
            "y": 9.407114067081013
           },
           {
            "x": 1.343891233389021,
            "y": 1.806043647179864
           },
           {
            "x": 1.9622277474459802,
            "y": 3.8503377328469255
           },
           {
            "x": 5.075260893346048,
            "y": 25.758273135527723
           },
           {
            "x": 4.632251661759234,
            "y": 21.457755457871187
           },
           {
            "x": 2.7606195339251682,
            "y": 7.621020211089213
           },
           {
            "x": 3.381039475620231,
            "y": 11.431427935702327
           },
           {
            "x": 1.5830232091900958,
            "y": 2.50596248083451
           },
           {
            "x": 1.1325679654984033,
            "y": 1.2827101964731926
           },
           {
            "x": 4.926383106927686,
            "y": 24.269250516222478
           },
           {
            "x": 5.731551820015672,
            "y": 32.85068626552496
           },
           {
            "x": 4.962281027625664,
            "y": 24.62423299713362
           },
           {
            "x": 4.3209160834865,
            "y": 18.670315800532315
           },
           {
            "x": -0.4951064086282595,
            "y": 0.24513035586477308
           },
           {
            "x": 4.041886193477516,
            "y": 16.33684400102416
           },
           {
            "x": -2.500850831370414,
            "y": 6.254254880766092
           },
           {
            "x": 4.274168169221544,
            "y": 18.268513538786642
           },
           {
            "x": 3.5043994564197742,
            "y": 12.280815550155209
           },
           {
            "x": 0.9960010338766181,
            "y": 0.9920180594832921
           },
           {
            "x": -0.024505109929978452,
            "y": 0.0006005004126803285
           },
           {
            "x": 2.476409940270858,
            "y": 6.1326061922723145
           },
           {
            "x": 2.8785423930271605,
            "y": 8.286006308454532
           },
           {
            "x": 1.0478140228361532,
            "y": 1.0979142264520827
           },
           {
            "x": 0.7549805885093088,
            "y": 0.5699956890258623
           },
           {
            "x": -0.368653916303491,
            "y": 0.13590571000590132
           },
           {
            "x": 2.6423825088679633,
            "y": 6.982185323171352
           },
           {
            "x": 2.6367093377141506,
            "y": 6.952236131588995
           },
           {
            "x": 3.6866262457843604,
            "y": 13.591213076106087
           },
           {
            "x": 2.82233564707927,
            "y": 7.965578504774362
           },
           {
            "x": 2.7561490206923795,
            "y": 7.596357424263563
           },
           {
            "x": 2.1027730010781154,
            "y": 4.421654294063064
           },
           {
            "x": 2.455168023217745,
            "y": 6.02785002223093
           },
           {
            "x": 6.459689199487323,
            "y": 41.727584553973166
           },
           {
            "x": 4.396792091346704,
            "y": 19.331780694528923
           }
          ]
         },
         "encoding": {
          "x": {
           "field": "x",
           "type": "quantitative"
          },
          "y": {
           "field": "y",
           "type": "quantitative"
          }
         },
         "mark": {
          "color": "black",
          "filled": true,
          "opacity": 0.2,
          "size": 50,
          "type": "point"
         }
        }
       ]
      },
      "image/png": "[encoded data removed]",
      "text/plain": [
       "<VegaLite 2 object>\n",
       "\n",
       "If you see this message, it means the renderer has not been properly enabled\n",
       "for the frontend that you are using. For more information, see\n",
       "https://altair-viz.github.io/user_guide/troubleshooting.html\n"
      ]
     },
     "execution_count": 203,
     "metadata": {},
     "output_type": "execute_result"
    }
   ],
   "source": [
    "x = np.linspace(min(s), max(s), 1000)\n",
    "y = [f(i) for i in x]\n",
    "dt = make_altair_object(x, y)\n",
    "\n",
    "\n",
    "x2 = alt.Chart(dt).mark_line(opacity=line_opacity, color=\"black\").encode(\n",
    "    x='x:Q',  # specify ordinal data\n",
    "    y='y:Q',  # specify quantitative data\n",
    ")\n",
    "\n",
    "dt = make_altair_object(X=s, Y=[i ** 2 for i in s])\n",
    "\n",
    "c4 = alt.Chart(dt).mark_point(opacity=point_opacity, size=point_size, color=\"black\", filled=True).encode(\n",
    "    x='x:Q',  # specify ordinal data\n",
    "    y='y:Q',  # specify quantitative data\n",
    ")\n",
    "\n",
    "x2 + c2  + c4\n",
    "\n",
    "ou = []\n",
    "\n",
    "for x, x_2 in zip(s, [i ** 2 for i in s]):\n",
    "    Xs = [x, x]\n",
    "    Ys = [0, x_2]\n",
    "    dt = make_altair_object(X=Xs, Y=Ys)\n",
    "    ou.append(alt.Chart(dt).mark_line(opacity=.4).encode(\n",
    "        x='x:Q',  # specify ordinal data\n",
    "        y='y:Q',  # specify quantitative data\n",
    "    ))\n",
    "\n",
    "import functools\n",
    "\n",
    "functools.reduce(lambda a,b : a+b,ou + [x2,c2,c4])"
   ]
  },
  {
   "cell_type": "markdown",
   "metadata": {},
   "source": [
    "The blue points are draws from a 1 dimensional distribution. The black points are the squares of the blue points. The big black dot is the expected value of the squares. "
   ]
  },
  {
   "cell_type": "markdown",
   "metadata": {},
   "source": [
    "Each black dot represents the value of some blue $x$, squared. Because each $x$ has equal probability mass (i.e. $\\frac{1}{|S|}$) if we simple average the y-coordinates of the black dots, we get the expected value of $X^2$. That is, we get $\\mathbb{E}[X^2]$"
   ]
  },
  {
   "cell_type": "code",
   "execution_count": 231,
   "metadata": {},
   "outputs": [
    {
     "data": {
      "application/vnd.vegalite.v2+json": {
       "$schema": "https://vega.github.io/schema/vega-lite/v2.6.0.json",
       "config": {
        "view": {
         "height": 300,
         "width": 400
        }
       },
       "layer": [
        {
         "data": {
          "values": [
           {
            "x": -2.500850831370414,
            "y": 6.254254880766092
           },
           {
            "x": -2.490652589444278,
            "y": 6.203350321305488
           },
           {
            "x": -2.480454347518142,
            "y": 6.152653770121653
           },
           {
            "x": -2.4702561055920063,
            "y": 6.102165227214585
           },
           {
            "x": -2.4600578636658703,
            "y": 6.051884692584286
           },
           {
            "x": -2.4498596217397344,
            "y": 6.001812166230755
           },
           {
            "x": -2.4396613798135984,
            "y": 5.951947648153991
           },
           {
            "x": -2.4294631378874625,
            "y": 5.902291138353996
           },
           {
            "x": -2.4192648959613265,
            "y": 5.852842636830768
           },
           {
            "x": -2.4090666540351906,
            "y": 5.803602143584309
           },
           {
            "x": -2.3988684121090547,
            "y": 5.754569658614617
           },
           {
            "x": -2.3886701701829187,
            "y": 5.705745181921694
           },
           {
            "x": -2.3784719282567828,
            "y": 5.657128713505538
           },
           {
            "x": -2.368273686330647,
            "y": 5.608720253366151
           },
           {
            "x": -2.358075444404511,
            "y": 5.560519801503531
           },
           {
            "x": -2.347877202478375,
            "y": 5.51252735791768
           },
           {
            "x": -2.3376789605522386,
            "y": 5.464742922608594
           },
           {
            "x": -2.3274807186261026,
            "y": 5.4171664955762795
           },
           {
            "x": -2.3172824766999667,
            "y": 5.369798076820731
           },
           {
            "x": -2.3070842347738307,
            "y": 5.322637666341953
           },
           {
            "x": -2.296885992847695,
            "y": 5.27568526413994
           },
           {
            "x": -2.286687750921559,
            "y": 5.228940870214697
           },
           {
            "x": -2.276489508995423,
            "y": 5.182404484566222
           },
           {
            "x": -2.266291267069287,
            "y": 5.136076107194514
           },
           {
            "x": -2.256093025143151,
            "y": 5.089955738099575
           },
           {
            "x": -2.245894783217015,
            "y": 5.044043377281403
           },
           {
            "x": -2.235696541290879,
            "y": 4.99833902474
           },
           {
            "x": -2.225498299364743,
            "y": 4.9528426804753645
           },
           {
            "x": -2.2153000574386073,
            "y": 4.9075543444874965
           },
           {
            "x": -2.2051018155124713,
            "y": 4.862474016776397
           },
           {
            "x": -2.1949035735863354,
            "y": 4.817601697342066
           },
           {
            "x": -2.1847053316601994,
            "y": 4.772937386184502
           },
           {
            "x": -2.1745070897340635,
            "y": 4.7284810833037065
           },
           {
            "x": -2.1643088478079275,
            "y": 4.684232788699679
           },
           {
            "x": -2.1541106058817916,
            "y": 4.640192502372419
           },
           {
            "x": -2.1439123639556557,
            "y": 4.596360224321928
           },
           {
            "x": -2.1337141220295197,
            "y": 4.552735954548204
           },
           {
            "x": -2.1235158801033838,
            "y": 4.509319693051249
           },
           {
            "x": -2.113317638177248,
            "y": 4.466111439831061
           },
           {
            "x": -2.103119396251112,
            "y": 4.423111194887642
           },
           {
            "x": -2.092921154324976,
            "y": 4.38031895822099
           },
           {
            "x": -2.0827229123988396,
            "y": 4.337734729831104
           },
           {
            "x": -2.0725246704727036,
            "y": 4.295358509717989
           },
           {
            "x": -2.0623264285465677,
            "y": 4.253190297881641
           },
           {
            "x": -2.0521281866204317,
            "y": 4.211230094322062
           },
           {
            "x": -2.041929944694296,
            "y": 4.16947789903925
           },
           {
            "x": -2.03173170276816,
            "y": 4.127933712033206
           },
           {
            "x": -2.021533460842024,
            "y": 4.08659753330393
           },
           {
            "x": -2.011335218915888,
            "y": 4.045469362851423
           },
           {
            "x": -2.001136976989752,
            "y": 4.004549200675683
           },
           {
            "x": -1.990938735063616,
            "y": 3.9638370467767117
           },
           {
            "x": -1.9807404931374801,
            "y": 3.923332901154508
           },
           {
            "x": -1.9705422512113442,
            "y": 3.883036763809072
           },
           {
            "x": -1.9603440092852082,
            "y": 3.8429486347404045
           },
           {
            "x": -1.9501457673590723,
            "y": 3.8030685139485048
           },
           {
            "x": -1.9399475254329364,
            "y": 3.7633964014333734
           },
           {
            "x": -1.9297492835068004,
            "y": 3.7239322971950095
           },
           {
            "x": -1.9195510415806645,
            "y": 3.684676201233414
           },
           {
            "x": -1.9093527996545285,
            "y": 3.645628113548586
           },
           {
            "x": -1.8991545577283926,
            "y": 3.6067880341405263
           },
           {
            "x": -1.8889563158022566,
            "y": 3.5681559630092345
           },
           {
            "x": -1.8787580738761207,
            "y": 3.529731900154711
           },
           {
            "x": -1.8685598319499848,
            "y": 3.4915158455769553
           },
           {
            "x": -1.8583615900238488,
            "y": 3.4535077992759677
           },
           {
            "x": -1.8481633480977129,
            "y": 3.4157077612517477
           },
           {
            "x": -1.837965106171577,
            "y": 3.378115731504296
           },
           {
            "x": -1.827766864245441,
            "y": 3.3407317100336122
           },
           {
            "x": -1.817568622319305,
            "y": 3.3035556968396964
           },
           {
            "x": -1.8073703803931689,
            "y": 3.266587691922548
           },
           {
            "x": -1.797172138467033,
            "y": 3.229827695282168
           },
           {
            "x": -1.786973896540897,
            "y": 3.1932757069185564
           },
           {
            "x": -1.776775654614761,
            "y": 3.1569317268317127
           },
           {
            "x": -1.7665774126886251,
            "y": 3.120795755021637
           },
           {
            "x": -1.7563791707624892,
            "y": 3.084867791488329
           },
           {
            "x": -1.7461809288363532,
            "y": 3.049147836231789
           },
           {
            "x": -1.735982686910217,
            "y": 3.0136358892520168
           },
           {
            "x": -1.7257844449840811,
            "y": 2.978331950549013
           },
           {
            "x": -1.7155862030579452,
            "y": 2.943236020122777
           },
           {
            "x": -1.7053879611318092,
            "y": 2.908348097973309
           },
           {
            "x": -1.6951897192056733,
            "y": 2.8736681841006093
           },
           {
            "x": -1.6849914772795374,
            "y": 2.839196278504678
           },
           {
            "x": -1.6747932353534014,
            "y": 2.804932381185514
           },
           {
            "x": -1.6645949934272655,
            "y": 2.770876492143118
           },
           {
            "x": -1.6543967515011295,
            "y": 2.73702861137749
           },
           {
            "x": -1.6441985095749936,
            "y": 2.70338873888863
           },
           {
            "x": -1.6340002676488576,
            "y": 2.6699568746765383
           },
           {
            "x": -1.6238020257227217,
            "y": 2.6367330187412144
           },
           {
            "x": -1.6136037837965858,
            "y": 2.6037171710826588
           },
           {
            "x": -1.6034055418704498,
            "y": 2.5709093317008707
           },
           {
            "x": -1.5932072999443139,
            "y": 2.538309500595851
           },
           {
            "x": -1.583009058018178,
            "y": 2.505917677767599
           },
           {
            "x": -1.572810816092042,
            "y": 2.473733863216115
           },
           {
            "x": -1.562612574165906,
            "y": 2.4417580569413992
           },
           {
            "x": -1.55241433223977,
            "y": 2.409990258943451
           },
           {
            "x": -1.5422160903136342,
            "y": 2.3784304692222715
           },
           {
            "x": -1.5320178483874982,
            "y": 2.3470786877778593
           },
           {
            "x": -1.521819606461362,
            "y": 2.315934914610215
           },
           {
            "x": -1.511621364535226,
            "y": 2.284999149719339
           },
           {
            "x": -1.5014231226090902,
            "y": 2.254271393105231
           },
           {
            "x": -1.4912248806829542,
            "y": 2.223751644767891
           },
           {
            "x": -1.4810266387568183,
            "y": 2.193439904707319
           },
           {
            "x": -1.4708283968306823,
            "y": 2.163336172923515
           },
           {
            "x": -1.4606301549045464,
            "y": 2.1334404494164794
           },
           {
            "x": -1.4504319129784105,
            "y": 2.1037527341862114
           },
           {
            "x": -1.4402336710522745,
            "y": 2.0742730272327115
           },
           {
            "x": -1.4300354291261386,
            "y": 2.0450013285559794
           },
           {
            "x": -1.4198371872000026,
            "y": 2.0159376381560152
           },
           {
            "x": -1.4096389452738665,
            "y": 1.9870819560328188
           },
           {
            "x": -1.3994407033477305,
            "y": 1.9584342821863907
           },
           {
            "x": -1.3892424614215946,
            "y": 1.9299946166167308
           },
           {
            "x": -1.3790442194954586,
            "y": 1.9017629593238388
           },
           {
            "x": -1.3688459775693227,
            "y": 1.8737393103077147
           },
           {
            "x": -1.3586477356431867,
            "y": 1.8459236695683587
           },
           {
            "x": -1.3484494937170508,
            "y": 1.8183160371057707
           },
           {
            "x": -1.3382512517909149,
            "y": 1.7909164129199506
           },
           {
            "x": -1.328053009864779,
            "y": 1.7637247970108987
           },
           {
            "x": -1.317854767938643,
            "y": 1.7367411893786144
           },
           {
            "x": -1.307656526012507,
            "y": 1.7099655900230986
           },
           {
            "x": -1.297458284086371,
            "y": 1.6833979989443504
           },
           {
            "x": -1.2872600421602352,
            "y": 1.6570384161423704
           },
           {
            "x": -1.2770618002340992,
            "y": 1.6308868416171582
           },
           {
            "x": -1.266863558307963,
            "y": 1.6049432753687136
           },
           {
            "x": -1.256665316381827,
            "y": 1.5792077173970376
           },
           {
            "x": -1.2464670744556912,
            "y": 1.5536801677021295
           },
           {
            "x": -1.2362688325295552,
            "y": 1.5283606262839895
           },
           {
            "x": -1.2260705906034193,
            "y": 1.5032490931426175
           },
           {
            "x": -1.2158723486772833,
            "y": 1.4783455682780133
           },
           {
            "x": -1.2056741067511474,
            "y": 1.4536500516901771
           },
           {
            "x": -1.1954758648250114,
            "y": 1.429162543379109
           },
           {
            "x": -1.1852776228988755,
            "y": 1.404883043344809
           },
           {
            "x": -1.1750793809727396,
            "y": 1.3808115515872768
           },
           {
            "x": -1.1648811390466036,
            "y": 1.3569480681065127
           },
           {
            "x": -1.1546828971204677,
            "y": 1.3332925929025166
           },
           {
            "x": -1.1444846551943317,
            "y": 1.3098451259752883
           },
           {
            "x": -1.1342864132681958,
            "y": 1.2866056673248283
           },
           {
            "x": -1.1240881713420598,
            "y": 1.2635742169511361
           },
           {
            "x": -1.1138899294159237,
            "y": 1.2407507748542115
           },
           {
            "x": -1.1036916874897877,
            "y": 1.2181353410340552
           },
           {
            "x": -1.0934934455636518,
            "y": 1.195727915490667
           },
           {
            "x": -1.0832952036375159,
            "y": 1.173528498224047
           },
           {
            "x": -1.07309696171138,
            "y": 1.1515370892341947
           },
           {
            "x": -1.062898719785244,
            "y": 1.1297536885211106
           },
           {
            "x": -1.052700477859108,
            "y": 1.1081782960847943
           },
           {
            "x": -1.042502235932972,
            "y": 1.0868109119252463
           },
           {
            "x": -1.0323039940068361,
            "y": 1.065651536042466
           },
           {
            "x": -1.0221057520807002,
            "y": 1.0447001684364539
           },
           {
            "x": -1.0119075101545643,
            "y": 1.0239568091072095
           },
           {
            "x": -1.0017092682284283,
            "y": 1.0034214580547334
           },
           {
            "x": -0.9915110263022924,
            "y": 0.9830941152790251
           },
           {
            "x": -0.9813127843761564,
            "y": 0.9629747807800849
           },
           {
            "x": -0.9711145424500203,
            "y": 0.9430634545579122
           },
           {
            "x": -0.9609163005238843,
            "y": 0.9233601366125079
           },
           {
            "x": -0.9507180585977484,
            "y": 0.9038648269438717
           },
           {
            "x": -0.9405198166716124,
            "y": 0.8845775255520035
           },
           {
            "x": -0.9303215747454765,
            "y": 0.8654982324369033
           },
           {
            "x": -0.9201233328193406,
            "y": 0.8466269475985709
           },
           {
            "x": -0.9099250908932046,
            "y": 0.8279636710370066
           },
           {
            "x": -0.8997268489670687,
            "y": 0.8095084027522104
           },
           {
            "x": -0.8895286070409327,
            "y": 0.7912611427441821
           },
           {
            "x": -0.8793303651147968,
            "y": 0.7732218910129218
           },
           {
            "x": -0.8691321231886608,
            "y": 0.7553906475584296
           },
           {
            "x": -0.8589338812625249,
            "y": 0.7377674123807052
           },
           {
            "x": -0.848735639336389,
            "y": 0.7203521854797489
           },
           {
            "x": -0.838537397410253,
            "y": 0.7031449668555606
           },
           {
            "x": -0.8283391554841169,
            "y": 0.6861457565081399
           },
           {
            "x": -0.8181409135579809,
            "y": 0.6693545544374876
           },
           {
            "x": -0.807942671631845,
            "y": 0.6527713606436033
           },
           {
            "x": -0.797744429705709,
            "y": 0.6363961751264869
           },
           {
            "x": -0.7875461877795731,
            "y": 0.6202289978861386
           },
           {
            "x": -0.7773479458534371,
            "y": 0.6042698289225582
           },
           {
            "x": -0.7671497039273012,
            "y": 0.5885186682357458
           },
           {
            "x": -0.7569514620011653,
            "y": 0.5729755158257015
           },
           {
            "x": -0.7467532200750293,
            "y": 0.5576403716924252
           },
           {
            "x": -0.7365549781488934,
            "y": 0.5425132358359168
           },
           {
            "x": -0.7263567362227574,
            "y": 0.5275941082561764
           },
           {
            "x": -0.7161584942966215,
            "y": 0.512882988953204
           },
           {
            "x": -0.7059602523704855,
            "y": 0.4983798779269996
           },
           {
            "x": -0.6957620104443496,
            "y": 0.48408477517756326
           },
           {
            "x": -0.6855637685182134,
            "y": 0.46999768070489456
           },
           {
            "x": -0.6753655265920775,
            "y": 0.4561185945089941
           },
           {
            "x": -0.6651672846659415,
            "y": 0.4424475165898617
           },
           {
            "x": -0.6549690427398056,
            "y": 0.4289844469474973
           },
           {
            "x": -0.6447708008136697,
            "y": 0.41572938558190087
           },
           {
            "x": -0.6345725588875337,
            "y": 0.40268233249307245
           },
           {
            "x": -0.6243743169613978,
            "y": 0.389843287681012
           },
           {
            "x": -0.6141760750352618,
            "y": 0.3772122511457196
           },
           {
            "x": -0.6039778331091259,
            "y": 0.3647892228871951
           },
           {
            "x": -0.59377959118299,
            "y": 0.35257420290543867
           },
           {
            "x": -0.583581349256854,
            "y": 0.3405671912004502
           },
           {
            "x": -0.5733831073307181,
            "y": 0.32876818777222977
           },
           {
            "x": -0.5631848654045821,
            "y": 0.31717719262077726
           },
           {
            "x": -0.5529866234784462,
            "y": 0.3057942057460928
           },
           {
            "x": -0.54278838155231,
            "y": 0.29461922714817607
           },
           {
            "x": -0.5325901396261741,
            "y": 0.2836522568270276
           },
           {
            "x": -0.5223918977000381,
            "y": 0.2728932947826471
           },
           {
            "x": -0.5121936557739022,
            "y": 0.2623423410150346
           },
           {
            "x": -0.5019954138477662,
            "y": 0.2519993955241901
           },
           {
            "x": -0.4917971719216303,
            "y": 0.2418644583101136
           },
           {
            "x": -0.48159892999549436,
            "y": 0.23193752937280507
           },
           {
            "x": -0.4714006880693584,
            "y": 0.22221860871226456
           },
           {
            "x": -0.4612024461432225,
            "y": 0.21270769632849204
           },
           {
            "x": -0.45100420421708654,
            "y": 0.2034047922214875
           },
           {
            "x": -0.4408059622909506,
            "y": 0.19430989639125096
           },
           {
            "x": -0.43060772036481465,
            "y": 0.1854230088377824
           },
           {
            "x": -0.4204094784386787,
            "y": 0.17674412956108185
           },
           {
            "x": -0.41021123651254277,
            "y": 0.1682732585611493
           },
           {
            "x": -0.4000129945864068,
            "y": 0.16001039583798474
           },
           {
            "x": -0.3898147526602709,
            "y": 0.15195554139158815
           },
           {
            "x": -0.37961651073413494,
            "y": 0.1441086952219596
           },
           {
            "x": -0.369418268807999,
            "y": 0.136469857329099
           },
           {
            "x": -0.35922002688186305,
            "y": 0.1290390277130064
           },
           {
            "x": -0.3490217849557271,
            "y": 0.12181620637368182
           },
           {
            "x": -0.33882354302959117,
            "y": 0.11480139331112522
           },
           {
            "x": -0.3286253011034552,
            "y": 0.10799458852533661
           },
           {
            "x": -0.31842705917731884,
            "y": 0.10139579201631571
           },
           {
            "x": -0.3082288172511829,
            "y": 0.0950050037840631
           },
           {
            "x": -0.29803057532504695,
            "y": 0.08882222382857849
           },
           {
            "x": -0.287832333398911,
            "y": 0.08284745214986186
           },
           {
            "x": -0.27763409147277507,
            "y": 0.07708068874791324
           },
           {
            "x": -0.2674358495466391,
            "y": 0.0715219336227326
           },
           {
            "x": -0.2572376076205032,
            "y": 0.06617118677431996
           },
           {
            "x": -0.24703936569436724,
            "y": 0.06102844820267531
           },
           {
            "x": -0.2368411237682313,
            "y": 0.05609371790779866
           },
           {
            "x": -0.22664288184209536,
            "y": 0.051366995889689994
           },
           {
            "x": -0.2164446399159594,
            "y": 0.04684828214834933
           },
           {
            "x": -0.20624639798982347,
            "y": 0.04253757668377666
           },
           {
            "x": -0.19604815606368753,
            "y": 0.038434879495971984
           },
           {
            "x": -0.1858499141375516,
            "y": 0.0345401905849353
           },
           {
            "x": -0.17565167221141564,
            "y": 0.030853509950666606
           },
           {
            "x": -0.1654534302852797,
            "y": 0.02737483759316591
           },
           {
            "x": -0.15525518835914376,
            "y": 0.024104173512433207
           },
           {
            "x": -0.14505694643300782,
            "y": 0.0210415177084685
           },
           {
            "x": -0.13485870450687187,
            "y": 0.018186870181271783
           },
           {
            "x": -0.12466046258073593,
            "y": 0.015540230930843063
           },
           {
            "x": -0.11446222065459999,
            "y": 0.013101599957182337
           },
           {
            "x": -0.10426397872846405,
            "y": 0.010870977260289603
           },
           {
            "x": -0.0940657368023281,
            "y": 0.008848362840164863
           },
           {
            "x": -0.08386749487619216,
            "y": 0.0070337566968081185
           },
           {
            "x": -0.07366925295005622,
            "y": 0.005427158830219367
           },
           {
            "x": -0.06347101102392028,
            "y": 0.004028569240398609
           },
           {
            "x": -0.053272769097784334,
            "y": 0.0028379879273458457
           },
           {
            "x": -0.04307452717164839,
            "y": 0.0018554148910610755
           },
           {
            "x": -0.032876285245512005,
            "y": 0.0010808501315442704
           },
           {
            "x": -0.022678043319376062,
            "y": 0.0005142936487954972
           },
           {
            "x": -0.01247980139324012,
            "y": 0.00015574544281471802
           },
           {
            "x": -0.0022815594671041772,
            "y": 5.205513601932697e-06
           },
           {
            "x": 0.007916682459031765,
            "y": 6.267386115714124e-05
           },
           {
            "x": 0.018114924385167708,
            "y": 0.0003281504854803437
           },
           {
            "x": 0.02831316631130365,
            "y": 0.00080163538657154
           },
           {
            "x": 0.03851140823743959,
            "y": 0.00148312856443073
           },
           {
            "x": 0.048709650163575535,
            "y": 0.0023726300190579142
           },
           {
            "x": 0.05890789208971148,
            "y": 0.003470139750453092
           },
           {
            "x": 0.06910613401584742,
            "y": 0.0047756577586162635
           },
           {
            "x": 0.07930437594198336,
            "y": 0.006289184043547429
           },
           {
            "x": 0.0895026178681193,
            "y": 0.008010718605246589
           },
           {
            "x": 0.09970085979425525,
            "y": 0.009940261443713743
           },
           {
            "x": 0.10989910172039119,
            "y": 0.01207781255894889
           },
           {
            "x": 0.12009734364652713,
            "y": 0.014423371950952031
           },
           {
            "x": 0.13029558557266308,
            "y": 0.016976939619723165
           },
           {
            "x": 0.14049382749879902,
            "y": 0.019738515565262293
           },
           {
            "x": 0.15069206942493496,
            "y": 0.02270809978756942
           },
           {
            "x": 0.1608903113510709,
            "y": 0.025885692286644533
           },
           {
            "x": 0.17108855327720685,
            "y": 0.029271293062487644
           },
           {
            "x": 0.1812867952033428,
            "y": 0.03286490211509875
           },
           {
            "x": 0.19148503712947873,
            "y": 0.036666519444477845
           },
           {
            "x": 0.20168327905561467,
            "y": 0.04067614505062494
           },
           {
            "x": 0.21188152098175062,
            "y": 0.044893778933540025
           },
           {
            "x": 0.22207976290788656,
            "y": 0.049319421093223105
           },
           {
            "x": 0.2322780048340225,
            "y": 0.05395307152967418
           },
           {
            "x": 0.24247624676015844,
            "y": 0.05879473024289325
           },
           {
            "x": 0.2526744886862944,
            "y": 0.06384439723288031
           },
           {
            "x": 0.26287273061243077,
            "y": 0.0691020724996356
           },
           {
            "x": 0.2730709725385667,
            "y": 0.07456775604315866
           },
           {
            "x": 0.28326921446470266,
            "y": 0.08024144786344971
           },
           {
            "x": 0.2934674563908386,
            "y": 0.08612314796050875
           },
           {
            "x": 0.30366569831697454,
            "y": 0.09221285633433579
           },
           {
            "x": 0.3138639402431105,
            "y": 0.09851057298493082
           },
           {
            "x": 0.3240621821692464,
            "y": 0.10501629791229386
           },
           {
            "x": 0.33426042409538237,
            "y": 0.11173003111642488
           },
           {
            "x": 0.3444586660215183,
            "y": 0.11865177259732389
           },
           {
            "x": 0.35465690794765425,
            "y": 0.1257815223549909
           },
           {
            "x": 0.3648551498737902,
            "y": 0.13311928038942591
           },
           {
            "x": 0.37505339179992614,
            "y": 0.1406650467006289
           },
           {
            "x": 0.3852516337260621,
            "y": 0.1484188212885999
           },
           {
            "x": 0.395449875652198,
            "y": 0.15638060415333888
           },
           {
            "x": 0.40564811757833397,
            "y": 0.16455039529484586
           },
           {
            "x": 0.4158463595044699,
            "y": 0.17292819471312082
           },
           {
            "x": 0.42604460143060585,
            "y": 0.1815140024081638
           },
           {
            "x": 0.4362428433567418,
            "y": 0.19030781837997476
           },
           {
            "x": 0.44644108528287774,
            "y": 0.19930964262855372
           },
           {
            "x": 0.4566393272090137,
            "y": 0.20851947515390065
           },
           {
            "x": 0.4668375691351496,
            "y": 0.2179373159560156
           },
           {
            "x": 0.47703581106128556,
            "y": 0.22756316503489854
           },
           {
            "x": 0.4872340529874215,
            "y": 0.23739702239054947
           },
           {
            "x": 0.49743229491355745,
            "y": 0.2474388880229684
           },
           {
            "x": 0.5076305368396934,
            "y": 0.2576887619321553
           },
           {
            "x": 0.5178287787658293,
            "y": 0.26814664411811023
           },
           {
            "x": 0.5280270206919653,
            "y": 0.2788125345808331
           },
           {
            "x": 0.5382252626181012,
            "y": 0.289686433320324
           },
           {
            "x": 0.5484235045442376,
            "y": 0.3007683403365834
           },
           {
            "x": 0.5586217464703735,
            "y": 0.3120582556296103
           },
           {
            "x": 0.5688199883965095,
            "y": 0.3235561791994052
           },
           {
            "x": 0.5790182303226454,
            "y": 0.3352621110459681
           },
           {
            "x": 0.5892164722487814,
            "y": 0.34717605116929895
           },
           {
            "x": 0.5994147141749173,
            "y": 0.35929799956939784
           },
           {
            "x": 0.6096129561010533,
            "y": 0.3716279562462647
           },
           {
            "x": 0.6198111980271892,
            "y": 0.38416592119989956
           },
           {
            "x": 0.6300094399533251,
            "y": 0.3969118944303024
           },
           {
            "x": 0.6402076818794611,
            "y": 0.40986587593747326
           },
           {
            "x": 0.650405923805597,
            "y": 0.4230278657214121
           },
           {
            "x": 0.660604165731733,
            "y": 0.4363978637821189
           },
           {
            "x": 0.6708024076578689,
            "y": 0.4499758701195938
           },
           {
            "x": 0.6810006495840049,
            "y": 0.46376188473383656
           },
           {
            "x": 0.6911988915101408,
            "y": 0.4777559076248474
           },
           {
            "x": 0.7013971334362767,
            "y": 0.4919579387926262
           },
           {
            "x": 0.7115953753624127,
            "y": 0.506367978237173
           },
           {
            "x": 0.7217936172885486,
            "y": 0.5209860259584878
           },
           {
            "x": 0.7319918592146846,
            "y": 0.5358120819565706
           },
           {
            "x": 0.7421901011408205,
            "y": 0.5508461462314214
           },
           {
            "x": 0.7523883430669565,
            "y": 0.5660882187830402
           },
           {
            "x": 0.7625865849930924,
            "y": 0.5815382996114269
           },
           {
            "x": 0.7727848269192283,
            "y": 0.5971963887165816
           },
           {
            "x": 0.7829830688453643,
            "y": 0.6130624860985044
           },
           {
            "x": 0.7931813107715002,
            "y": 0.6291365917571953
           },
           {
            "x": 0.8033795526976362,
            "y": 0.6454187056926539
           },
           {
            "x": 0.8135777946237721,
            "y": 0.6619088279048807
           },
           {
            "x": 0.823776036549908,
            "y": 0.6786069583938754
           },
           {
            "x": 0.833974278476044,
            "y": 0.6955130971596382
           },
           {
            "x": 0.8441725204021804,
            "y": 0.7126272442021696
           },
           {
            "x": 0.8543707623283163,
            "y": 0.7299493995214684
           },
           {
            "x": 0.8645690042544523,
            "y": 0.747479563117535
           },
           {
            "x": 0.8747672461805882,
            "y": 0.7652177349903698
           },
           {
            "x": 0.8849654881067242,
            "y": 0.7831639151399725
           },
           {
            "x": 0.8951637300328601,
            "y": 0.8013181035663433
           },
           {
            "x": 0.905361971958996,
            "y": 0.8196803002694819
           },
           {
            "x": 0.915560213885132,
            "y": 0.8382505052493886
           },
           {
            "x": 0.9257584558112679,
            "y": 0.8570287185060633
           },
           {
            "x": 0.9359566977374039,
            "y": 0.876014940039506
           },
           {
            "x": 0.9461549396635398,
            "y": 0.8952091698497167
           },
           {
            "x": 0.9563531815896757,
            "y": 0.9146114079366953
           },
           {
            "x": 0.9665514235158117,
            "y": 0.934221654300442
           },
           {
            "x": 0.9767496654419476,
            "y": 0.9540399089409566
           },
           {
            "x": 0.9869479073680836,
            "y": 0.9740661718582393
           },
           {
            "x": 0.9971461492942195,
            "y": 0.9943004430522899
           },
           {
            "x": 1.0073443912203555,
            "y": 1.0147427225231085
           },
           {
            "x": 1.0175426331464914,
            "y": 1.0353930102706952
           },
           {
            "x": 1.0277408750726273,
            "y": 1.0562513062950498
           },
           {
            "x": 1.0379391169987633,
            "y": 1.0773176105961724
           },
           {
            "x": 1.0481373589248992,
            "y": 1.098591923174063
           },
           {
            "x": 1.0583356008510352,
            "y": 1.1200742440287217
           },
           {
            "x": 1.0685338427771711,
            "y": 1.1417645731601482
           },
           {
            "x": 1.078732084703307,
            "y": 1.163662910568343
           },
           {
            "x": 1.088930326629443,
            "y": 1.1857692562533053
           },
           {
            "x": 1.099128568555579,
            "y": 1.208083610215036
           },
           {
            "x": 1.1093268104817149,
            "y": 1.2306059724535345
           },
           {
            "x": 1.1195250524078508,
            "y": 1.2533363429688011
           },
           {
            "x": 1.1297232943339872,
            "y": 1.2762747217608368
           },
           {
            "x": 1.1399215362601232,
            "y": 1.2994211088296392
           },
           {
            "x": 1.150119778186259,
            "y": 1.3227755041752098
           },
           {
            "x": 1.160318020112395,
            "y": 1.3463379077975484
           },
           {
            "x": 1.170516262038531,
            "y": 1.370108319696655
           },
           {
            "x": 1.180714503964667,
            "y": 1.3940867398725294
           },
           {
            "x": 1.1909127458908029,
            "y": 1.418273168325172
           },
           {
            "x": 1.2011109878169388,
            "y": 1.4426676050545826
           },
           {
            "x": 1.2113092297430748,
            "y": 1.4672700500607612
           },
           {
            "x": 1.2215074716692107,
            "y": 1.4920805033437077
           },
           {
            "x": 1.2317057135953466,
            "y": 1.517098964903422
           },
           {
            "x": 1.2419039555214826,
            "y": 1.5423254347399047
           },
           {
            "x": 1.2521021974476185,
            "y": 1.5677599128531552
           },
           {
            "x": 1.2623004393737545,
            "y": 1.5934023992431736
           },
           {
            "x": 1.2724986812998904,
            "y": 1.61925289390996
           },
           {
            "x": 1.2826969232260264,
            "y": 1.6453113968535145
           },
           {
            "x": 1.2928951651521623,
            "y": 1.671577908073837
           },
           {
            "x": 1.3030934070782982,
            "y": 1.6980524275709274
           },
           {
            "x": 1.3132916490044342,
            "y": 1.724734955344786
           },
           {
            "x": 1.3234898909305701,
            "y": 1.7516254913954123
           },
           {
            "x": 1.333688132856706,
            "y": 1.778724035722807
           },
           {
            "x": 1.343886374782842,
            "y": 1.8060305883269694
           },
           {
            "x": 1.354084616708978,
            "y": 1.8335451492078998
           },
           {
            "x": 1.364282858635114,
            "y": 1.8612677183655981
           },
           {
            "x": 1.3744811005612498,
            "y": 1.8891982958000646
           },
           {
            "x": 1.3846793424873858,
            "y": 1.917336881511299
           },
           {
            "x": 1.3948775844135217,
            "y": 1.9456834754993013
           },
           {
            "x": 1.4050758263396577,
            "y": 1.9742380777640718
           },
           {
            "x": 1.415274068265794,
            "y": 2.0030006883056113
           },
           {
            "x": 1.42547231019193,
            "y": 2.031971307123918
           },
           {
            "x": 1.435670552118066,
            "y": 2.0611499342189923
           },
           {
            "x": 1.4458687940442019,
            "y": 2.0905365695908347
           },
           {
            "x": 1.4560670359703378,
            "y": 2.120131213239445
           },
           {
            "x": 1.4662652778964738,
            "y": 2.149933865164823
           },
           {
            "x": 1.4764635198226097,
            "y": 2.17994452536697
           },
           {
            "x": 1.4866617617487456,
            "y": 2.2101631938458843
           },
           {
            "x": 1.4968600036748816,
            "y": 2.2405898706015663
           },
           {
            "x": 1.5070582456010175,
            "y": 2.2712245556340167
           },
           {
            "x": 1.5172564875271535,
            "y": 2.3020672489432354
           },
           {
            "x": 1.5274547294532894,
            "y": 2.3331179505292217
           },
           {
            "x": 1.5376529713794254,
            "y": 2.364376660391976
           },
           {
            "x": 1.5478512133055613,
            "y": 2.3958433785314983
           },
           {
            "x": 1.5580494552316972,
            "y": 2.4275181049477887
           },
           {
            "x": 1.5682476971578332,
            "y": 2.4594008396408467
           },
           {
            "x": 1.5784459390839691,
            "y": 2.4914915826106734
           },
           {
            "x": 1.588644181010105,
            "y": 2.5237903338572676
           },
           {
            "x": 1.598842422936241,
            "y": 2.5562970933806297
           },
           {
            "x": 1.609040664862377,
            "y": 2.58901186118076
           },
           {
            "x": 1.619238906788513,
            "y": 2.621934637257658
           },
           {
            "x": 1.6294371487146488,
            "y": 2.6550654216113245
           },
           {
            "x": 1.6396353906407848,
            "y": 2.688404214241759
           },
           {
            "x": 1.6498336325669207,
            "y": 2.721951015148961
           },
           {
            "x": 1.6600318744930567,
            "y": 2.7557058243329315
           },
           {
            "x": 1.6702301164191926,
            "y": 2.7896686417936696
           },
           {
            "x": 1.6804283583453286,
            "y": 2.823839467531176
           },
           {
            "x": 1.6906266002714645,
            "y": 2.8582183015454503
           },
           {
            "x": 1.7008248421976004,
            "y": 2.8928051438364926
           },
           {
            "x": 1.7110230841237364,
            "y": 2.9275999944043027
           },
           {
            "x": 1.7212213260498723,
            "y": 2.962602853248881
           },
           {
            "x": 1.7314195679760083,
            "y": 2.9978137203702273
           },
           {
            "x": 1.7416178099021442,
            "y": 3.0332325957683413
           },
           {
            "x": 1.7518160518282802,
            "y": 3.0688594794432236
           },
           {
            "x": 1.762014293754416,
            "y": 3.104694371394874
           },
           {
            "x": 1.772212535680552,
            "y": 3.140737271623292
           },
           {
            "x": 1.782410777606688,
            "y": 3.176988180128478
           },
           {
            "x": 1.792609019532824,
            "y": 3.2134470969104325
           },
           {
            "x": 1.8028072614589599,
            "y": 3.2501140219691544
           },
           {
            "x": 1.8130055033850958,
            "y": 3.2869889553046447
           },
           {
            "x": 1.8232037453112317,
            "y": 3.324071896916903
           },
           {
            "x": 1.8334019872373677,
            "y": 3.361362846805929
           },
           {
            "x": 1.8436002291635036,
            "y": 3.398861804971723
           },
           {
            "x": 1.8537984710896405,
            "y": 3.4365687714142887
           },
           {
            "x": 1.8639967130157764,
            "y": 3.4744837461336187
           },
           {
            "x": 1.8741949549419123,
            "y": 3.512606729129717
           },
           {
            "x": 1.8843931968680483,
            "y": 3.550937720402583
           },
           {
            "x": 1.8945914387941842,
            "y": 3.5894767199522173
           },
           {
            "x": 1.9047896807203202,
            "y": 3.6282237277786193
           },
           {
            "x": 1.9149879226464561,
            "y": 3.6671787438817893
           },
           {
            "x": 1.925186164572592,
            "y": 3.7063417682617277
           },
           {
            "x": 1.935384406498728,
            "y": 3.7457128009184335
           },
           {
            "x": 1.945582648424864,
            "y": 3.7852918418519077
           },
           {
            "x": 1.955780890351,
            "y": 3.82507889106215
           },
           {
            "x": 1.9659791322771358,
            "y": 3.86507394854916
           },
           {
            "x": 1.9761773742032718,
            "y": 3.905277014312938
           },
           {
            "x": 1.9863756161294077,
            "y": 3.945688088353484
           },
           {
            "x": 1.9965738580555437,
            "y": 3.986307170670798
           },
           {
            "x": 2.0067720999816796,
            "y": 4.02713426126488
           },
           {
            "x": 2.0169703419078155,
            "y": 4.06816936013573
           },
           {
            "x": 2.0271685838339515,
            "y": 4.109412467283349
           },
           {
            "x": 2.0373668257600874,
            "y": 4.150863582707735
           },
           {
            "x": 2.0475650676862234,
            "y": 4.192522706408888
           },
           {
            "x": 2.0577633096123593,
            "y": 4.234389838386811
           },
           {
            "x": 2.0679615515384953,
            "y": 4.276464978641501
           },
           {
            "x": 2.078159793464631,
            "y": 4.318748127172959
           },
           {
            "x": 2.088358035390767,
            "y": 4.361239283981185
           },
           {
            "x": 2.098556277316903,
            "y": 4.403938449066179
           },
           {
            "x": 2.108754519243039,
            "y": 4.446845622427941
           },
           {
            "x": 2.118952761169175,
            "y": 4.48996080406647
           },
           {
            "x": 2.129151003095311,
            "y": 4.533283993981769
           },
           {
            "x": 2.139349245021447,
            "y": 4.576815192173835
           },
           {
            "x": 2.149547486947583,
            "y": 4.6205543986426685
           },
           {
            "x": 2.1597457288737187,
            "y": 4.66450161338827
           },
           {
            "x": 2.1699439707998547,
            "y": 4.708656836410641
           },
           {
            "x": 2.1801422127259906,
            "y": 4.7530200677097785
           },
           {
            "x": 2.1903404546521266,
            "y": 4.797591307285685
           },
           {
            "x": 2.2005386965782625,
            "y": 4.842370555138358
           },
           {
            "x": 2.2107369385043985,
            "y": 4.8873578112678
           },
           {
            "x": 2.2209351804305344,
            "y": 4.932553075674011
           },
           {
            "x": 2.2311334223566703,
            "y": 4.977956348356988
           },
           {
            "x": 2.2413316642828063,
            "y": 5.023567629316735
           },
           {
            "x": 2.2515299062089422,
            "y": 5.069386918553248
           },
           {
            "x": 2.261728148135078,
            "y": 5.11541421606653
           },
           {
            "x": 2.271926390061214,
            "y": 5.16164952185658
           },
           {
            "x": 2.28212463198735,
            "y": 5.208092835923398
           },
           {
            "x": 2.292322873913486,
            "y": 5.254744158266984
           },
           {
            "x": 2.302521115839622,
            "y": 5.301603488887338
           },
           {
            "x": 2.312719357765758,
            "y": 5.34867082778446
           },
           {
            "x": 2.322917599691894,
            "y": 5.3959461749583495
           },
           {
            "x": 2.3331158416180298,
            "y": 5.4434295304090075
           },
           {
            "x": 2.3433140835441657,
            "y": 5.491120894136433
           },
           {
            "x": 2.3535123254703016,
            "y": 5.539020266140627
           },
           {
            "x": 2.3637105673964376,
            "y": 5.587127646421589
           },
           {
            "x": 2.3739088093225735,
            "y": 5.6354430349793185
           },
           {
            "x": 2.3841070512487095,
            "y": 5.6839664318138166
           },
           {
            "x": 2.3943052931748454,
            "y": 5.732697836925082
           },
           {
            "x": 2.4045035351009814,
            "y": 5.781637250313116
           },
           {
            "x": 2.4147017770271173,
            "y": 5.830784671977918
           },
           {
            "x": 2.4249000189532532,
            "y": 5.880140101919488
           },
           {
            "x": 2.43509826087939,
            "y": 5.92970354013783
           },
           {
            "x": 2.445296502805526,
            "y": 5.979474986632936
           },
           {
            "x": 2.455494744731662,
            "y": 6.02945444140481
           },
           {
            "x": 2.465692986657798,
            "y": 6.079641904453451
           },
           {
            "x": 2.475891228583934,
            "y": 6.130037375778861
           },
           {
            "x": 2.48608947051007,
            "y": 6.180640855381039
           },
           {
            "x": 2.4962877124362057,
            "y": 6.231452343259985
           },
           {
            "x": 2.5064859543623417,
            "y": 6.282471839415699
           },
           {
            "x": 2.5166841962884776,
            "y": 6.33369934384818
           },
           {
            "x": 2.5268824382146136,
            "y": 6.38513485655743
           },
           {
            "x": 2.5370806801407495,
            "y": 6.436778377543448
           },
           {
            "x": 2.5472789220668854,
            "y": 6.488629906806234
           },
           {
            "x": 2.5574771639930214,
            "y": 6.540689444345787
           },
           {
            "x": 2.5676754059191573,
            "y": 6.59295699016211
           },
           {
            "x": 2.5778736478452933,
            "y": 6.645432544255199
           },
           {
            "x": 2.588071889771429,
            "y": 6.698116106625057
           },
           {
            "x": 2.598270131697565,
            "y": 6.751007677271683
           },
           {
            "x": 2.608468373623701,
            "y": 6.804107256195076
           },
           {
            "x": 2.618666615549837,
            "y": 6.857414843395238
           },
           {
            "x": 2.628864857475973,
            "y": 6.9109304388721675
           },
           {
            "x": 2.639063099402109,
            "y": 6.964654042625866
           },
           {
            "x": 2.649261341328245,
            "y": 7.018585654656331
           },
           {
            "x": 2.659459583254381,
            "y": 7.072725274963565
           },
           {
            "x": 2.6696578251805168,
            "y": 7.127072903547567
           },
           {
            "x": 2.6798560671066527,
            "y": 7.181628540408337
           },
           {
            "x": 2.6900543090327886,
            "y": 7.236392185545874
           },
           {
            "x": 2.7002525509589246,
            "y": 7.291363838960179
           },
           {
            "x": 2.7104507928850605,
            "y": 7.346543500651253
           },
           {
            "x": 2.7206490348111965,
            "y": 7.401931170619095
           },
           {
            "x": 2.7308472767373324,
            "y": 7.457526848863704
           },
           {
            "x": 2.7410455186634683,
            "y": 7.513330535385082
           },
           {
            "x": 2.7512437605896043,
            "y": 7.569342230183228
           },
           {
            "x": 2.7614420025157402,
            "y": 7.625561933258141
           },
           {
            "x": 2.771640244441876,
            "y": 7.681989644609823
           },
           {
            "x": 2.781838486368012,
            "y": 7.738625364238273
           },
           {
            "x": 2.792036728294148,
            "y": 7.79546909214349
           },
           {
            "x": 2.802234970220284,
            "y": 7.852520828325476
           },
           {
            "x": 2.81243321214642,
            "y": 7.909780572784229
           },
           {
            "x": 2.822631454072556,
            "y": 7.967248325519751
           },
           {
            "x": 2.832829695998692,
            "y": 8.02492408653204
           },
           {
            "x": 2.8430279379248278,
            "y": 8.082807855821098
           },
           {
            "x": 2.8532261798509637,
            "y": 8.140899633386924
           },
           {
            "x": 2.8634244217770997,
            "y": 8.199199419229517
           },
           {
            "x": 2.8736226637032356,
            "y": 8.25770721334888
           },
           {
            "x": 2.8838209056293715,
            "y": 8.31642301574501
           },
           {
            "x": 2.8940191475555075,
            "y": 8.375346826417907
           },
           {
            "x": 2.9042173894816434,
            "y": 8.434478645367571
           },
           {
            "x": 2.9144156314077794,
            "y": 8.493818472594006
           },
           {
            "x": 2.9246138733339153,
            "y": 8.553366308097207
           },
           {
            "x": 2.9348121152600513,
            "y": 8.613122151877176
           },
           {
            "x": 2.945010357186187,
            "y": 8.673086003933914
           },
           {
            "x": 2.955208599112323,
            "y": 8.733257864267419
           },
           {
            "x": 2.965406841038459,
            "y": 8.793637732877693
           },
           {
            "x": 2.975605082964595,
            "y": 8.854225609764734
           },
           {
            "x": 2.985803324890731,
            "y": 8.915021494928544
           },
           {
            "x": 2.996001566816867,
            "y": 8.976025388369122
           },
           {
            "x": 3.006199808743003,
            "y": 9.037237290086466
           },
           {
            "x": 3.0163980506691397,
            "y": 9.098657200080586
           },
           {
            "x": 3.0265962925952756,
            "y": 9.160285118351467
           },
           {
            "x": 3.0367945345214116,
            "y": 9.222121044899117
           },
           {
            "x": 3.0469927764475475,
            "y": 9.284164979723535
           },
           {
            "x": 3.0571910183736835,
            "y": 9.34641692282472
           },
           {
            "x": 3.0673892602998194,
            "y": 9.408876874202674
           },
           {
            "x": 3.0775875022259553,
            "y": 9.471544833857395
           },
           {
            "x": 3.0877857441520913,
            "y": 9.534420801788885
           },
           {
            "x": 3.0979839860782272,
            "y": 9.597504777997141
           },
           {
            "x": 3.108182228004363,
            "y": 9.660796762482168
           },
           {
            "x": 3.118380469930499,
            "y": 9.72429675524396
           },
           {
            "x": 3.128578711856635,
            "y": 9.788004756282522
           },
           {
            "x": 3.138776953782771,
            "y": 9.851920765597852
           },
           {
            "x": 3.148975195708907,
            "y": 9.916044783189948
           },
           {
            "x": 3.159173437635043,
            "y": 9.980376809058814
           },
           {
            "x": 3.169371679561179,
            "y": 10.044916843204447
           },
           {
            "x": 3.1795699214873148,
            "y": 10.109664885626849
           },
           {
            "x": 3.1897681634134507,
            "y": 10.174620936326018
           },
           {
            "x": 3.1999664053395867,
            "y": 10.239784995301957
           },
           {
            "x": 3.2101646472657226,
            "y": 10.305157062554661
           },
           {
            "x": 3.2203628891918585,
            "y": 10.370737138084134
           },
           {
            "x": 3.2305611311179945,
            "y": 10.436525221890376
           },
           {
            "x": 3.2407593730441304,
            "y": 10.502521313973386
           },
           {
            "x": 3.2509576149702664,
            "y": 10.568725414333162
           },
           {
            "x": 3.2611558568964023,
            "y": 10.635137522969709
           },
           {
            "x": 3.2713540988225382,
            "y": 10.701757639883022
           },
           {
            "x": 3.281552340748674,
            "y": 10.768585765073103
           },
           {
            "x": 3.29175058267481,
            "y": 10.835621898539952
           },
           {
            "x": 3.301948824600946,
            "y": 10.90286604028357
           },
           {
            "x": 3.312147066527082,
            "y": 10.970318190303955
           },
           {
            "x": 3.322345308453218,
            "y": 11.037978348601108
           },
           {
            "x": 3.332543550379354,
            "y": 11.10584651517503
           },
           {
            "x": 3.34274179230549,
            "y": 11.17392269002572
           },
           {
            "x": 3.352940034231626,
            "y": 11.242206873153176
           },
           {
            "x": 3.3631382761577617,
            "y": 11.3106990645574
           },
           {
            "x": 3.3733365180838977,
            "y": 11.379399264238394
           },
           {
            "x": 3.3835347600100336,
            "y": 11.448307472196156
           },
           {
            "x": 3.3937330019361696,
            "y": 11.517423688430686
           },
           {
            "x": 3.4039312438623055,
            "y": 11.586747912941982
           },
           {
            "x": 3.4141294857884414,
            "y": 11.656280145730047
           },
           {
            "x": 3.4243277277145774,
            "y": 11.72602038679488
           },
           {
            "x": 3.4345259696407133,
            "y": 11.795968636136482
           },
           {
            "x": 3.4447242115668493,
            "y": 11.86612489375485
           },
           {
            "x": 3.454922453492985,
            "y": 11.93648915964999
           },
           {
            "x": 3.465120695419121,
            "y": 12.007061433821894
           },
           {
            "x": 3.475318937345257,
            "y": 12.077841716270568
           },
           {
            "x": 3.485517179271393,
            "y": 12.148830006996008
           },
           {
            "x": 3.495715421197529,
            "y": 12.220026305998218
           },
           {
            "x": 3.505913663123665,
            "y": 12.291430613277194
           },
           {
            "x": 3.516111905049801,
            "y": 12.36304292883294
           },
           {
            "x": 3.526310146975937,
            "y": 12.434863252665453
           },
           {
            "x": 3.5365083889020728,
            "y": 12.506891584774735
           },
           {
            "x": 3.5467066308282087,
            "y": 12.579127925160783
           },
           {
            "x": 3.5569048727543446,
            "y": 12.6515722738236
           },
           {
            "x": 3.5671031146804806,
            "y": 12.724224630763185
           },
           {
            "x": 3.5773013566066165,
            "y": 12.797084995979539
           },
           {
            "x": 3.5874995985327525,
            "y": 12.87015336947266
           },
           {
            "x": 3.5976978404588893,
            "y": 12.943429751242556
           },
           {
            "x": 3.6078960823850252,
            "y": 13.016914141289213
           },
           {
            "x": 3.618094324311161,
            "y": 13.090606539612638
           },
           {
            "x": 3.628292566237297,
            "y": 13.164506946212832
           },
           {
            "x": 3.638490808163433,
            "y": 13.238615361089792
           },
           {
            "x": 3.648689050089569,
            "y": 13.31293178424352
           },
           {
            "x": 3.658887292015705,
            "y": 13.38745621567402
           },
           {
            "x": 3.669085533941841,
            "y": 13.462188655381283
           },
           {
            "x": 3.679283775867977,
            "y": 13.537129103365316
           },
           {
            "x": 3.689482017794113,
            "y": 13.612277559626119
           },
           {
            "x": 3.6996802597202487,
            "y": 13.687634024163687
           },
           {
            "x": 3.7098785016463847,
            "y": 13.763198496978024
           },
           {
            "x": 3.7200767435725206,
            "y": 13.83897097806913
           },
           {
            "x": 3.7302749854986565,
            "y": 13.914951467437003
           },
           {
            "x": 3.7404732274247925,
            "y": 13.991139965081643
           },
           {
            "x": 3.7506714693509284,
            "y": 14.067536471003052
           },
           {
            "x": 3.7608697112770644,
            "y": 14.14414098520123
           },
           {
            "x": 3.7710679532032003,
            "y": 14.220953507676175
           },
           {
            "x": 3.7812661951293363,
            "y": 14.297974038427888
           },
           {
            "x": 3.791464437055472,
            "y": 14.375202577456369
           },
           {
            "x": 3.801662678981608,
            "y": 14.452639124761617
           },
           {
            "x": 3.811860920907744,
            "y": 14.530283680343635
           },
           {
            "x": 3.82205916283388,
            "y": 14.60813624420242
           },
           {
            "x": 3.832257404760016,
            "y": 14.686196816337972
           },
           {
            "x": 3.842455646686152,
            "y": 14.764465396750294
           },
           {
            "x": 3.852653888612288,
            "y": 14.842941985439383
           },
           {
            "x": 3.862852130538424,
            "y": 14.92162658240524
           },
           {
            "x": 3.8730503724645597,
            "y": 15.000519187647864
           },
           {
            "x": 3.8832486143906957,
            "y": 15.079619801167258
           },
           {
            "x": 3.8934468563168316,
            "y": 15.158928422963418
           },
           {
            "x": 3.9036450982429676,
            "y": 15.238445053036347
           },
           {
            "x": 3.9138433401691035,
            "y": 15.318169691386045
           },
           {
            "x": 3.9240415820952395,
            "y": 15.39810233801251
           },
           {
            "x": 3.9342398240213754,
            "y": 15.478242992915742
           },
           {
            "x": 3.9444380659475113,
            "y": 15.558591656095745
           },
           {
            "x": 3.9546363078736473,
            "y": 15.639148327552514
           },
           {
            "x": 3.9648345497997832,
            "y": 15.71991300728605
           },
           {
            "x": 3.975032791725919,
            "y": 15.800885695296355
           },
           {
            "x": 3.985231033652055,
            "y": 15.882066391583427
           },
           {
            "x": 3.995429275578191,
            "y": 15.96345509614727
           },
           {
            "x": 4.005627517504327,
            "y": 16.04505180898788
           },
           {
            "x": 4.015825759430463,
            "y": 16.126856530105254
           },
           {
            "x": 4.026024001356599,
            "y": 16.208869259499398
           },
           {
            "x": 4.036222243282735,
            "y": 16.291089997170314
           },
           {
            "x": 4.046420485208871,
            "y": 16.373518743117994
           },
           {
            "x": 4.056618727135007,
            "y": 16.456155497342444
           },
           {
            "x": 4.066816969061143,
            "y": 16.539000259843657
           },
           {
            "x": 4.077015210987279,
            "y": 16.622053030621643
           },
           {
            "x": 4.0872134529134145,
            "y": 16.705313809676397
           },
           {
            "x": 4.0974116948395505,
            "y": 16.788782597007916
           },
           {
            "x": 4.107609936765686,
            "y": 16.872459392616207
           },
           {
            "x": 4.117808178691822,
            "y": 16.956344196501263
           },
           {
            "x": 4.128006420617958,
            "y": 17.040437008663087
           },
           {
            "x": 4.138204662544094,
            "y": 17.12473782910168
           },
           {
            "x": 4.14840290447023,
            "y": 17.20924665781704
           },
           {
            "x": 4.158601146396366,
            "y": 17.29396349480917
           },
           {
            "x": 4.168799388322502,
            "y": 17.378888340078067
           },
           {
            "x": 4.178997630248639,
            "y": 17.46402119362374
           },
           {
            "x": 4.189195872174775,
            "y": 17.549362055446174
           },
           {
            "x": 4.199394114100911,
            "y": 17.634910925545373
           },
           {
            "x": 4.209592356027047,
            "y": 17.72066780392134
           },
           {
            "x": 4.219790597953183,
            "y": 17.80663269057408
           },
           {
            "x": 4.229988839879319,
            "y": 17.892805585503584
           },
           {
            "x": 4.240187081805455,
            "y": 17.979186488709857
           },
           {
            "x": 4.2503853237315905,
            "y": 18.065775400192898
           },
           {
            "x": 4.2605835656577264,
            "y": 18.152572319952707
           },
           {
            "x": 4.270781807583862,
            "y": 18.23957724798928
           },
           {
            "x": 4.280980049509998,
            "y": 18.326790184302627
           },
           {
            "x": 4.291178291436134,
            "y": 18.41421112889274
           },
           {
            "x": 4.30137653336227,
            "y": 18.50184008175962
           },
           {
            "x": 4.311574775288406,
            "y": 18.58967704290327
           },
           {
            "x": 4.321773017214542,
            "y": 18.677722012323688
           },
           {
            "x": 4.331971259140678,
            "y": 18.765974990020872
           },
           {
            "x": 4.342169501066814,
            "y": 18.854435975994825
           },
           {
            "x": 4.35236774299295,
            "y": 18.943104970245546
           },
           {
            "x": 4.362565984919086,
            "y": 19.031981972773035
           },
           {
            "x": 4.372764226845222,
            "y": 19.12106698357729
           },
           {
            "x": 4.382962468771358,
            "y": 19.210360002658316
           },
           {
            "x": 4.393160710697494,
            "y": 19.299861030016107
           },
           {
            "x": 4.40335895262363,
            "y": 19.38957006565067
           },
           {
            "x": 4.413557194549766,
            "y": 19.479487109561997
           },
           {
            "x": 4.4237554364759015,
            "y": 19.569612161750094
           },
           {
            "x": 4.4339536784020375,
            "y": 19.659945222214958
           },
           {
            "x": 4.444151920328173,
            "y": 19.75048629095659
           },
           {
            "x": 4.454350162254309,
            "y": 19.841235367974992
           },
           {
            "x": 4.464548404180445,
            "y": 19.93219245327016
           },
           {
            "x": 4.474746646106581,
            "y": 20.023357546842096
           },
           {
            "x": 4.484944888032717,
            "y": 20.114730648690802
           },
           {
            "x": 4.495143129958853,
            "y": 20.206311758816273
           },
           {
            "x": 4.505341371884989,
            "y": 20.298100877218516
           },
           {
            "x": 4.515539613811125,
            "y": 20.390098003897524
           },
           {
            "x": 4.525737855737261,
            "y": 20.4823031388533
           },
           {
            "x": 4.535936097663397,
            "y": 20.574716282085845
           },
           {
            "x": 4.546134339589533,
            "y": 20.667337433595158
           },
           {
            "x": 4.556332581515669,
            "y": 20.76016659338124
           },
           {
            "x": 4.566530823441805,
            "y": 20.85320376144409
           },
           {
            "x": 4.576729065367941,
            "y": 20.946448937783703
           },
           {
            "x": 4.586927307294077,
            "y": 21.03990212240009
           },
           {
            "x": 4.5971255492202125,
            "y": 21.13356331529324
           },
           {
            "x": 4.6073237911463485,
            "y": 21.22743251646316
           },
           {
            "x": 4.617522033072484,
            "y": 21.32150972590985
           },
           {
            "x": 4.62772027499862,
            "y": 21.415794943633305
           },
           {
            "x": 4.637918516924756,
            "y": 21.51028816963353
           },
           {
            "x": 4.648116758850892,
            "y": 21.604989403910523
           },
           {
            "x": 4.658315000777028,
            "y": 21.699898646464284
           },
           {
            "x": 4.668513242703164,
            "y": 21.795015897294814
           },
           {
            "x": 4.6787114846293,
            "y": 21.89034115640211
           },
           {
            "x": 4.688909726555436,
            "y": 21.985874423786175
           },
           {
            "x": 4.699107968481572,
            "y": 22.081615699447006
           },
           {
            "x": 4.709306210407708,
            "y": 22.177564983384606
           },
           {
            "x": 4.719504452333844,
            "y": 22.273722275598974
           },
           {
            "x": 4.72970269425998,
            "y": 22.37008757609011
           },
           {
            "x": 4.739900936186116,
            "y": 22.466660884858015
           },
           {
            "x": 4.750099178112252,
            "y": 22.56344220190269
           },
           {
            "x": 4.7602974200383885,
            "y": 22.660431527224137
           },
           {
            "x": 4.7704956619645245,
            "y": 22.757628860822347
           },
           {
            "x": 4.78069390389066,
            "y": 22.855034202697322
           },
           {
            "x": 4.790892145816796,
            "y": 22.95264755284907
           },
           {
            "x": 4.801090387742932,
            "y": 23.05046891127758
           },
           {
            "x": 4.811288629669068,
            "y": 23.14849827798286
           },
           {
            "x": 4.821486871595204,
            "y": 23.246735652964908
           },
           {
            "x": 4.83168511352134,
            "y": 23.345181036223725
           },
           {
            "x": 4.841883355447476,
            "y": 23.44383442775931
           },
           {
            "x": 4.852081597373612,
            "y": 23.542695827571663
           },
           {
            "x": 4.862279839299748,
            "y": 23.64176523566078
           },
           {
            "x": 4.872478081225884,
            "y": 23.74104265202667
           },
           {
            "x": 4.88267632315202,
            "y": 23.840528076669326
           },
           {
            "x": 4.892874565078156,
            "y": 23.940221509588753
           },
           {
            "x": 4.903072807004292,
            "y": 24.040122950784944
           },
           {
            "x": 4.913271048930428,
            "y": 24.140232400257904
           },
           {
            "x": 4.923469290856564,
            "y": 24.240549858007633
           },
           {
            "x": 4.9336675327826995,
            "y": 24.34107532403413
           },
           {
            "x": 4.9438657747088355,
            "y": 24.441808798337394
           },
           {
            "x": 4.954064016634971,
            "y": 24.542750280917428
           },
           {
            "x": 4.964262258561107,
            "y": 24.643899771774226
           },
           {
            "x": 4.974460500487243,
            "y": 24.745257270907796
           },
           {
            "x": 4.984658742413379,
            "y": 24.84682277831813
           },
           {
            "x": 4.994856984339515,
            "y": 24.948596294005235
           },
           {
            "x": 5.005055226265651,
            "y": 25.05057781796911
           },
           {
            "x": 5.015253468191787,
            "y": 25.15276735020975
           },
           {
            "x": 5.025451710117923,
            "y": 25.25516489072716
           },
           {
            "x": 5.035649952044059,
            "y": 25.35777043952133
           },
           {
            "x": 5.045848193970195,
            "y": 25.460583996592277
           },
           {
            "x": 5.056046435896331,
            "y": 25.56360556193999
           },
           {
            "x": 5.066244677822467,
            "y": 25.66683513556447
           },
           {
            "x": 5.076442919748603,
            "y": 25.77027271746572
           },
           {
            "x": 5.086641161674739,
            "y": 25.873918307643734
           },
           {
            "x": 5.096839403600875,
            "y": 25.977771906098518
           },
           {
            "x": 5.107037645527011,
            "y": 26.081833512830073
           },
           {
            "x": 5.1172358874531465,
            "y": 26.186103127838393
           },
           {
            "x": 5.1274341293792824,
            "y": 26.290580751123482
           },
           {
            "x": 5.137632371305418,
            "y": 26.395266382685335
           },
           {
            "x": 5.147830613231554,
            "y": 26.50016002252396
           },
           {
            "x": 5.15802885515769,
            "y": 26.605261670639354
           },
           {
            "x": 5.168227097083826,
            "y": 26.710571327031513
           },
           {
            "x": 5.178425339009962,
            "y": 26.816088991700443
           },
           {
            "x": 5.188623580936098,
            "y": 26.92181466464614
           },
           {
            "x": 5.198821822862234,
            "y": 27.027748345868602
           },
           {
            "x": 5.20902006478837,
            "y": 27.133890035367834
           },
           {
            "x": 5.219218306714506,
            "y": 27.240239733143834
           },
           {
            "x": 5.229416548640642,
            "y": 27.346797439196603
           },
           {
            "x": 5.239614790566778,
            "y": 27.45356315352614
           },
           {
            "x": 5.249813032492914,
            "y": 27.560536876132442
           },
           {
            "x": 5.26001127441905,
            "y": 27.667718607015516
           },
           {
            "x": 5.270209516345186,
            "y": 27.775108346175355
           },
           {
            "x": 5.280407758271322,
            "y": 27.882706093611965
           },
           {
            "x": 5.2906060001974575,
            "y": 27.99051184932534
           },
           {
            "x": 5.3008042421235935,
            "y": 28.098525613315484
           },
           {
            "x": 5.311002484049729,
            "y": 28.206747385582396
           },
           {
            "x": 5.321200725975865,
            "y": 28.315177166126077
           },
           {
            "x": 5.331398967902002,
            "y": 28.423814954946533
           },
           {
            "x": 5.341597209828138,
            "y": 28.53266075204375
           },
           {
            "x": 5.351795451754274,
            "y": 28.641714557417735
           },
           {
            "x": 5.36199369368041,
            "y": 28.750976371068486
           },
           {
            "x": 5.372191935606546,
            "y": 28.860446192996008
           },
           {
            "x": 5.382390177532682,
            "y": 28.970124023200295
           },
           {
            "x": 5.392588419458818,
            "y": 29.08000986168135
           },
           {
            "x": 5.402786661384954,
            "y": 29.190103708439175
           },
           {
            "x": 5.41298490331109,
            "y": 29.300405563473767
           },
           {
            "x": 5.423183145237226,
            "y": 29.410915426785127
           },
           {
            "x": 5.433381387163362,
            "y": 29.521633298373256
           },
           {
            "x": 5.4435796290894976,
            "y": 29.63255917823815
           },
           {
            "x": 5.4537778710156335,
            "y": 29.743693066379816
           },
           {
            "x": 5.463976112941769,
            "y": 29.855034962798246
           },
           {
            "x": 5.474174354867905,
            "y": 29.96658486749345
           },
           {
            "x": 5.484372596794041,
            "y": 30.078342780465416
           },
           {
            "x": 5.494570838720177,
            "y": 30.19030870171415
           },
           {
            "x": 5.504769080646312,
            "y": 30.302482631239645
           },
           {
            "x": 5.514967322572449,
            "y": 30.414864569041928
           },
           {
            "x": 5.525165564498584,
            "y": 30.527454515120958
           },
           {
            "x": 5.535363806424721,
            "y": 30.640252469476778
           },
           {
            "x": 5.545562048350856,
            "y": 30.75325843210934
           },
           {
            "x": 5.555760290276993,
            "y": 30.866472403018697
           },
           {
            "x": 5.565958532203128,
            "y": 30.979894382204797
           },
           {
            "x": 5.576156774129265,
            "y": 31.093524369667687
           },
           {
            "x": 5.5863550160554,
            "y": 31.207362365407327
           },
           {
            "x": 5.596553257981537,
            "y": 31.321408369423754
           },
           {
            "x": 5.606751499907672,
            "y": 31.435662381716927
           },
           {
            "x": 5.616949741833809,
            "y": 31.55012440228689
           },
           {
            "x": 5.627147983759945,
            "y": 31.66479443113362
           },
           {
            "x": 5.6373462256860805,
            "y": 31.779672468257097
           },
           {
            "x": 5.647544467612217,
            "y": 31.89475851365736
           },
           {
            "x": 5.657742709538352,
            "y": 32.01005256733438
           },
           {
            "x": 5.667940951464489,
            "y": 32.12555462928818
           },
           {
            "x": 5.678139193390624,
            "y": 32.24126469951873
           },
           {
            "x": 5.688337435316761,
            "y": 32.357182778026065
           },
           {
            "x": 5.698535677242896,
            "y": 32.47330886481015
           },
           {
            "x": 5.708733919169033,
            "y": 32.58964295987103
           },
           {
            "x": 5.718932161095168,
            "y": 32.70618506320865
           },
           {
            "x": 5.729130403021305,
            "y": 32.82293517482306
           },
           {
            "x": 5.73932864494744,
            "y": 32.93989329471422
           },
           {
            "x": 5.749526886873577,
            "y": 33.05705942288216
           },
           {
            "x": 5.759725128799712,
            "y": 33.17443355932686
           },
           {
            "x": 5.769923370725849,
            "y": 33.29201570404834
           },
           {
            "x": 5.780121612651984,
            "y": 33.40980585704657
           },
           {
            "x": 5.7903198545781205,
            "y": 33.52780401832159
           },
           {
            "x": 5.8005180965042555,
            "y": 33.64601018787335
           },
           {
            "x": 5.810716338430392,
            "y": 33.764424365701906
           },
           {
            "x": 5.820914580356527,
            "y": 33.883046551807205
           },
           {
            "x": 5.831112822282664,
            "y": 34.001876746189296
           },
           {
            "x": 5.841311064208799,
            "y": 34.12091494884814
           },
           {
            "x": 5.851509306134936,
            "y": 34.24016115978376
           },
           {
            "x": 5.861707548061071,
            "y": 34.35961537899613
           },
           {
            "x": 5.871905789987208,
            "y": 34.4792776064853
           },
           {
            "x": 5.882104031913343,
            "y": 34.599147842251206
           },
           {
            "x": 5.89230227383948,
            "y": 34.71922608629391
           },
           {
            "x": 5.902500515765615,
            "y": 34.83951233861335
           },
           {
            "x": 5.912698757691752,
            "y": 34.960006599209585
           },
           {
            "x": 5.922896999617887,
            "y": 35.08070886808257
           },
           {
            "x": 5.933095241544024,
            "y": 35.201619145232335
           },
           {
            "x": 5.943293483470159,
            "y": 35.322737430658854
           },
           {
            "x": 5.953491725396296,
            "y": 35.44406372436216
           },
           {
            "x": 5.963689967322431,
            "y": 35.565598026342215
           },
           {
            "x": 5.9738882092485674,
            "y": 35.68734033659906
           },
           {
            "x": 5.9840864511747025,
            "y": 35.80929065513264
           },
           {
            "x": 5.994284693100839,
            "y": 35.93144898194302
           },
           {
            "x": 6.004482935026974,
            "y": 36.05381531703015
           },
           {
            "x": 6.014681176953111,
            "y": 36.176389660394065
           },
           {
            "x": 6.024879418879246,
            "y": 36.299172012034724
           },
           {
            "x": 6.035077660805383,
            "y": 36.422162371952176
           },
           {
            "x": 6.045275902731518,
            "y": 36.54536074014637
           },
           {
            "x": 6.055474144657655,
            "y": 36.66876711661736
           },
           {
            "x": 6.06567238658379,
            "y": 36.79238150136509
           },
           {
            "x": 6.075870628509927,
            "y": 36.91620389438961
           },
           {
            "x": 6.086068870436062,
            "y": 37.04023429569088
           },
           {
            "x": 6.096267112362199,
            "y": 37.16447270526894
           },
           {
            "x": 6.106465354288334,
            "y": 37.28891912312375
           },
           {
            "x": 6.116663596214471,
            "y": 37.41357354925534
           },
           {
            "x": 6.126861838140606,
            "y": 37.53843598366368
           },
           {
            "x": 6.1370600800667425,
            "y": 37.66350642634881
           },
           {
            "x": 6.147258321992878,
            "y": 37.78878487731069
           },
           {
            "x": 6.157456563919014,
            "y": 37.914271336549355
           },
           {
            "x": 6.1676548058451495,
            "y": 38.03996580406477
           },
           {
            "x": 6.177853047771286,
            "y": 38.16586827985697
           },
           {
            "x": 6.188051289697421,
            "y": 38.29197876392592
           },
           {
            "x": 6.198249531623558,
            "y": 38.41829725627166
           },
           {
            "x": 6.208447773549695,
            "y": 38.54482375689417
           },
           {
            "x": 6.21864601547583,
            "y": 38.671558265793415
           },
           {
            "x": 6.228844257401967,
            "y": 38.79850078296946
           },
           {
            "x": 6.239042499328102,
            "y": 38.925651308422246
           },
           {
            "x": 6.249240741254239,
            "y": 39.05300984215183
           },
           {
            "x": 6.259438983180374,
            "y": 39.18057638415815
           },
           {
            "x": 6.269637225106511,
            "y": 39.308350934441265
           },
           {
            "x": 6.279835467032646,
            "y": 39.43633349300113
           },
           {
            "x": 6.2900337089587826,
            "y": 39.56452405983778
           },
           {
            "x": 6.300231950884918,
            "y": 39.692922634951174
           },
           {
            "x": 6.310430192811054,
            "y": 39.82152921834136
           },
           {
            "x": 6.3206284347371895,
            "y": 39.95034381000829
           },
           {
            "x": 6.330826676663326,
            "y": 40.079366409952016
           },
           {
            "x": 6.341024918589461,
            "y": 40.20859701817248
           },
           {
            "x": 6.351223160515598,
            "y": 40.338035634669744
           },
           {
            "x": 6.361421402441733,
            "y": 40.46768225944375
           },
           {
            "x": 6.37161964436787,
            "y": 40.597536892494546
           },
           {
            "x": 6.381817886294005,
            "y": 40.72759953382209
           },
           {
            "x": 6.392016128220142,
            "y": 40.857870183426414
           },
           {
            "x": 6.402214370146277,
            "y": 40.98834884130749
           },
           {
            "x": 6.412412612072414,
            "y": 41.119035507465355
           },
           {
            "x": 6.422610853998549,
            "y": 41.24993018189997
           },
           {
            "x": 6.432809095924686,
            "y": 41.38103286461137
           },
           {
            "x": 6.443007337850821,
            "y": 41.51234355559952
           },
           {
            "x": 6.453205579776958,
            "y": 41.64386225486446
           },
           {
            "x": 6.463403821703093,
            "y": 41.77558896240615
           },
           {
            "x": 6.4736020636292295,
            "y": 41.90752367822462
           },
           {
            "x": 6.483800305555365,
            "y": 42.03966640231984
           },
           {
            "x": 6.493998547481501,
            "y": 42.17201713469185
           },
           {
            "x": 6.5041967894076365,
            "y": 42.3045758753406
           },
           {
            "x": 6.514395031333773,
            "y": 42.43734262426615
           },
           {
            "x": 6.524593273259908,
            "y": 42.57031738146844
           },
           {
            "x": 6.534791515186045,
            "y": 42.703500146947526
           },
           {
            "x": 6.54498975711218,
            "y": 42.836890920703354
           },
           {
            "x": 6.555187999038317,
            "y": 42.970489702735975
           },
           {
            "x": 6.565386240964452,
            "y": 43.10429649304534
           },
           {
            "x": 6.575584482890589,
            "y": 43.2383112916315
           },
           {
            "x": 6.585782724816724,
            "y": 43.37253409849439
           },
           {
            "x": 6.595980966742861,
            "y": 43.506964913634086
           },
           {
            "x": 6.606179208668996,
            "y": 43.641603737050524
           },
           {
            "x": 6.616377450595133,
            "y": 43.77645056874375
           },
           {
            "x": 6.626575692521268,
            "y": 43.91150540871372
           },
           {
            "x": 6.636773934447405,
            "y": 44.04676825696048
           },
           {
            "x": 6.64697217637354,
            "y": 44.18223911348399
           },
           {
            "x": 6.6571704182996765,
            "y": 44.31791797828429
           },
           {
            "x": 6.6673686602258115,
            "y": 44.45380485136133
           },
           {
            "x": 6.677566902151948,
            "y": 44.58989973271517
           },
           {
            "x": 6.687765144078083,
            "y": 44.726202622345745
           },
           {
            "x": 6.69796338600422,
            "y": 44.862713520253116
           },
           {
            "x": 6.708161627930355,
            "y": 44.99943242643724
           },
           {
            "x": 6.718359869856492,
            "y": 45.13635934089814
           },
           {
            "x": 6.728558111782627,
            "y": 45.27349426363579
           },
           {
            "x": 6.738756353708764,
            "y": 45.410837194650234
           },
           {
            "x": 6.748954595634899,
            "y": 45.54838813394142
           },
           {
            "x": 6.759152837561036,
            "y": 45.686147081509404
           },
           {
            "x": 6.769351079487171,
            "y": 45.82411403735413
           },
           {
            "x": 6.779549321413308,
            "y": 45.96228900147564
           },
           {
            "x": 6.789747563339445,
            "y": 46.10067197387392
           },
           {
            "x": 6.79994580526558,
            "y": 46.239262954548956
           },
           {
            "x": 6.8101440471917165,
            "y": 46.378061943500775
           },
           {
            "x": 6.820342289117852,
            "y": 46.51706894072934
           },
           {
            "x": 6.830540531043988,
            "y": 46.656283946234694
           },
           {
            "x": 6.8407387729701234,
            "y": 46.79570696001679
           },
           {
            "x": 6.85093701489626,
            "y": 46.93533798207568
           },
           {
            "x": 6.861135256822395,
            "y": 47.07517701241132
           },
           {
            "x": 6.871333498748532,
            "y": 47.215224051023746
           },
           {
            "x": 6.881531740674667,
            "y": 47.35547909791291
           },
           {
            "x": 6.891729982600804,
            "y": 47.49594215307888
           },
           {
            "x": 6.901928224526939,
            "y": 47.63661321652159
           },
           {
            "x": 6.912126466453076,
            "y": 47.777492288241085
           },
           {
            "x": 6.922324708379211,
            "y": 47.91857936823733
           },
           {
            "x": 6.932522950305348,
            "y": 48.059874456510364
           },
           {
            "x": 6.942721192231483,
            "y": 48.20137755306014
           },
           {
            "x": 6.95291943415762,
            "y": 48.34308865788672
           },
           {
            "x": 6.963117676083755,
            "y": 48.48500777099003
           },
           {
            "x": 6.973315918009892,
            "y": 48.62713489237014
           },
           {
            "x": 6.983514159936027,
            "y": 48.76947002202699
           },
           {
            "x": 6.9937124018621635,
            "y": 48.91201315996063
           },
           {
            "x": 7.0039106437882985,
            "y": 49.054764306171016
           },
           {
            "x": 7.014108885714435,
            "y": 49.197723460658196
           },
           {
            "x": 7.02430712764057,
            "y": 49.34089062342212
           },
           {
            "x": 7.034505369566707,
            "y": 49.484265794462836
           },
           {
            "x": 7.044703611492842,
            "y": 49.627848973780296
           },
           {
            "x": 7.054901853418979,
            "y": 49.77164016137455
           },
           {
            "x": 7.065100095345114,
            "y": 49.91563935724554
           },
           {
            "x": 7.075298337271251,
            "y": 50.05984656139333
           },
           {
            "x": 7.085496579197386,
            "y": 50.20426177381786
           },
           {
            "x": 7.095694821123523,
            "y": 50.34888499451918
           },
           {
            "x": 7.105893063049658,
            "y": 50.49371622349725
           },
           {
            "x": 7.116091304975795,
            "y": 50.63875546075211
           },
           {
            "x": 7.12628954690193,
            "y": 50.784002706283715
           },
           {
            "x": 7.136487788828067,
            "y": 50.92945796009211
           },
           {
            "x": 7.146686030754202,
            "y": 51.075121222177245
           },
           {
            "x": 7.1568842726803386,
            "y": 51.22099249253918
           },
           {
            "x": 7.167082514606474,
            "y": 51.367071771177855
           },
           {
            "x": 7.17728075653261,
            "y": 51.51335905809332
           },
           {
            "x": 7.1874789984587455,
            "y": 51.65985435328553
           },
           {
            "x": 7.197677240384882,
            "y": 51.806557656754535
           },
           {
            "x": 7.207875482311017,
            "y": 51.95346896850028
           },
           {
            "x": 7.218073724237154,
            "y": 52.10058828852282
           },
           {
            "x": 7.228271966163289,
            "y": 52.247915616822105
           },
           {
            "x": 7.238470208089426,
            "y": 52.39545095339818
           },
           {
            "x": 7.248668450015561,
            "y": 52.543194298250995
           },
           {
            "x": 7.258866691941698,
            "y": 52.69114565138061
           },
           {
            "x": 7.269064933867833,
            "y": 52.839305012786966
           },
           {
            "x": 7.27926317579397,
            "y": 52.98767238247011
           },
           {
            "x": 7.289461417720105,
            "y": 53.13624776043
           },
           {
            "x": 7.299659659646242,
            "y": 53.28503114666668
           },
           {
            "x": 7.309857901572377,
            "y": 53.43402254118011
           },
           {
            "x": 7.320056143498514,
            "y": 53.58322194397033
           },
           {
            "x": 7.330254385424649,
            "y": 53.7326293550373
           },
           {
            "x": 7.3404526273507855,
            "y": 53.88224477438105
           },
           {
            "x": 7.350650869276921,
            "y": 54.03206820200155
           },
           {
            "x": 7.360849111203057,
            "y": 54.18209963789884
           },
           {
            "x": 7.371047353129194,
            "y": 54.3323390820729
           },
           {
            "x": 7.381245595055329,
            "y": 54.482786534523704
           },
           {
            "x": 7.391443836981466,
            "y": 54.633441995251296
           },
           {
            "x": 7.401642078907601,
            "y": 54.78430546425564
           },
           {
            "x": 7.411840320833738,
            "y": 54.93537694153677
           },
           {
            "x": 7.422038562759873,
            "y": 55.086656427094645
           },
           {
            "x": 7.43223680468601,
            "y": 55.23814392092931
           },
           {
            "x": 7.442435046612145,
            "y": 55.38983942304072
           },
           {
            "x": 7.452633288538282,
            "y": 55.54174293342892
           },
           {
            "x": 7.462831530464417,
            "y": 55.69385445209387
           },
           {
            "x": 7.473029772390554,
            "y": 55.84617397903561
           },
           {
            "x": 7.483228014316689,
            "y": 55.998701514254094
           },
           {
            "x": 7.4934262562428255,
            "y": 56.15143705774937
           },
           {
            "x": 7.503624498168961,
            "y": 56.30438060952139
           },
           {
            "x": 7.513822740095097,
            "y": 56.4575321695702
           },
           {
            "x": 7.5240209820212325,
            "y": 56.61089173789575
           },
           {
            "x": 7.534219223947369,
            "y": 56.7644593144981
           },
           {
            "x": 7.544417465873504,
            "y": 56.91823489937719
           },
           {
            "x": 7.554615707799641,
            "y": 57.072218492533075
           },
           {
            "x": 7.564813949725776,
            "y": 57.2264100939657
           },
           {
            "x": 7.575012191651913,
            "y": 57.38080970367512
           },
           {
            "x": 7.585210433578048,
            "y": 57.53541732166128
           },
           {
            "x": 7.595408675504185,
            "y": 57.69023294792424
           },
           {
            "x": 7.60560691743032,
            "y": 57.84525658246393
           },
           {
            "x": 7.615805159356457,
            "y": 58.00048822528043
           },
           {
            "x": 7.626003401282592,
            "y": 58.15592787637366
           },
           {
            "x": 7.636201643208729,
            "y": 58.311575535743685
           },
           {
            "x": 7.646399885134864,
            "y": 58.46743120339046
           },
           {
            "x": 7.656598127061001,
            "y": 58.62349487931402
           },
           {
            "x": 7.666796368987136,
            "y": 58.77976656351433
           },
           {
            "x": 7.6769946109132725,
            "y": 58.93624625599143
           },
           {
            "x": 7.687192852839408,
            "y": 59.09293395674527
           }
          ]
         },
         "encoding": {
          "x": {
           "field": "x",
           "type": "quantitative"
          },
          "y": {
           "field": "y",
           "type": "quantitative"
          }
         },
         "mark": {
          "color": "black",
          "opacity": 0.2,
          "type": "line"
         }
        },
        {
         "data": {
          "values": [
           {
            "x": 3.59042346944787,
            "y": 0
           },
           {
            "x": 0.5496466908728286,
            "y": 0
           },
           {
            "x": 2.7084553751035374,
            "y": 0
           },
           {
            "x": 2.4005424483626285,
            "y": 0
           },
           {
            "x": 0.20949398704433353,
            "y": 0
           },
           {
            "x": 0.5876806695799797,
            "y": 0
           },
           {
            "x": 2.086157119488289,
            "y": 0
           },
           {
            "x": 2.5605589278793697,
            "y": 0
           },
           {
            "x": 3.944041882095182,
            "y": 0
           },
           {
            "x": -0.7738193601722578,
            "y": 0
           },
           {
            "x": 1.6826435913661606,
            "y": 0
           },
           {
            "x": -0.24231327883810794,
            "y": 0
           },
           {
            "x": 1.0200908525723127,
            "y": 0
           },
           {
            "x": 0.549993631832463,
            "y": 0
           },
           {
            "x": 7.687192852839408,
            "y": 0
           },
           {
            "x": 5.520394082134787,
            "y": 0
           },
           {
            "x": 1.3033804454206868,
            "y": 0
           },
           {
            "x": 0.9770502605283298,
            "y": 0
           },
           {
            "x": 4.533794189797913,
            "y": 0
           },
           {
            "x": -1.3250925106809586,
            "y": 0
           },
           {
            "x": 4.554813606584099,
            "y": 0
           },
           {
            "x": -0.5281112879376901,
            "y": 0
           },
           {
            "x": -0.47297692688165416,
            "y": 0
           },
           {
            "x": 2.057717922387394,
            "y": 0
           },
           {
            "x": 2.9033171041392425,
            "y": 0
           },
           {
            "x": 1.3336711256584448,
            "y": 0
           },
           {
            "x": 2.1106971972586566,
            "y": 0
           },
           {
            "x": 2.6199987792725854,
            "y": 0
           },
           {
            "x": 0.9886302289344346,
            "y": 0
           },
           {
            "x": 6.992254033597893,
            "y": 0
           },
           {
            "x": 1.955274644709375,
            "y": 0
           },
           {
            "x": 2.1891434661219713,
            "y": 0
           },
           {
            "x": 3.4496514528052873,
            "y": 0
           },
           {
            "x": 5.551697634369207,
            "y": 0
           },
           {
            "x": 0.11537026883941559,
            "y": 0
           },
           {
            "x": -0.7397153725208381,
            "y": 0
           },
           {
            "x": 3.8151728734536166,
            "y": 0
           },
           {
            "x": 3.6674596652694875,
            "y": 0
           },
           {
            "x": 0.8479077915356596,
            "y": 0
           },
           {
            "x": 0.6508611554478336,
            "y": 0
           },
           {
            "x": 0.08044410761069809,
            "y": 0
           },
           {
            "x": 4.502404484740793,
            "y": 0
           },
           {
            "x": -0.30933250854909566,
            "y": 0
           },
           {
            "x": 4.094410044750791,
            "y": 0
           },
           {
            "x": 3.8885745220933923,
            "y": 0
           },
           {
            "x": 3.1487717732215605,
            "y": 0
           },
           {
            "x": 1.8340635259128464,
            "y": 0
           },
           {
            "x": 3.4914882405618135,
            "y": 0
           },
           {
            "x": -0.11313633089179564,
            "y": 0
           },
           {
            "x": 2.0626055722324788,
            "y": 0
           },
           {
            "x": 3.397891222985592,
            "y": 0
           },
           {
            "x": 0.9359746339541126,
            "y": 0
           },
           {
            "x": -0.2762474550442646,
            "y": 0
           },
           {
            "x": 3.566016350296505,
            "y": 0
           },
           {
            "x": 2.7946428970536448,
            "y": 0
           },
           {
            "x": 2.5069136532426888,
            "y": 0
           },
           {
            "x": 4.213768035288159,
            "y": 0
           },
           {
            "x": 5.026304081448215,
            "y": 0
           },
           {
            "x": 2.512865209713169,
            "y": 0
           },
           {
            "x": 1.4310990150326093,
            "y": 0
           },
           {
            "x": 0.8532258424729813,
            "y": 0
           },
           {
            "x": 2.800942449173451,
            "y": 0
           },
           {
            "x": 1.969861140302123,
            "y": 0
           },
           {
            "x": 3.467560656937549,
            "y": 0
           },
           {
            "x": 5.454771447567515,
            "y": 0
           },
           {
            "x": 4.374360848400695,
            "y": 0
           },
           {
            "x": 1.075956044917557,
            "y": 0
           },
           {
            "x": 3.791054816843885,
            "y": 0
           },
           {
            "x": 3.158336047689044,
            "y": 0
           },
           {
            "x": 3.8606338788865746,
            "y": 0
           },
           {
            "x": 4.224321818952637,
            "y": 0
           },
           {
            "x": 2.642739886173595,
            "y": 0
           },
           {
            "x": 0.676166646545832,
            "y": 0
           },
           {
            "x": 2.8675000586132833,
            "y": 0
           },
           {
            "x": 0.05679832541452301,
            "y": 0
           },
           {
            "x": 2.5289893796379728,
            "y": 0
           },
           {
            "x": 0.04518147428987529,
            "y": 0
           },
           {
            "x": 2.627831803382141,
            "y": 0
           },
           {
            "x": 2.868724677024337,
            "y": 0
           },
           {
            "x": 1.1705280703681666,
            "y": 0
           },
           {
            "x": 3.1169781101594385,
            "y": 0
           },
           {
            "x": 5.919411133408153,
            "y": 0
           },
           {
            "x": 2.9902036656456756,
            "y": 0
           },
           {
            "x": 1.8262547080322946,
            "y": 0
           },
           {
            "x": 4.364672768032902,
            "y": 0
           },
           {
            "x": 1.0660719376287249,
            "y": 0
           },
           {
            "x": 2.119625046929801,
            "y": 0
           },
           {
            "x": 1.8216686498182775,
            "y": 0
           },
           {
            "x": 4.450245581003958,
            "y": 0
           },
           {
            "x": 0.6859637853234404,
            "y": 0
           },
           {
            "x": 3.8290423023047264,
            "y": 0
           },
           {
            "x": 3.135338180016678,
            "y": 0
           },
           {
            "x": 1.5206711022286021,
            "y": 0
           },
           {
            "x": 0.2494696498430291,
            "y": 0
           },
           {
            "x": 1.4284802231400702,
            "y": 0
           },
           {
            "x": 0.15008519012169774,
            "y": 0
           },
           {
            "x": 3.473094105690494,
            "y": 0
           },
           {
            "x": 2.9160261627269595,
            "y": 0
           },
           {
            "x": 3.9016057348727706,
            "y": 0
           },
           {
            "x": 6.492070598779575,
            "y": 0
           },
           {
            "x": 5.015069849415243,
            "y": 0
           },
           {
            "x": 1.6890543369428843,
            "y": 0
           },
           {
            "x": 4.01745177776443,
            "y": 0
           },
           {
            "x": -0.852876819995855,
            "y": 0
           },
           {
            "x": 2.9212819021834058,
            "y": 0
           },
           {
            "x": 2.2552304245998016,
            "y": 0
           },
           {
            "x": 6.647126576404931,
            "y": 0
           },
           {
            "x": -0.5576504150237156,
            "y": 0
           },
           {
            "x": 3.8073818824171757,
            "y": 0
           },
           {
            "x": 4.222062775742295,
            "y": 0
           },
           {
            "x": 5.043660575620345,
            "y": 0
           },
           {
            "x": 0.8524206425686836,
            "y": 0
           },
           {
            "x": 4.591050119287275,
            "y": 0
           },
           {
            "x": 1.1172027680994816,
            "y": 0
           },
           {
            "x": -0.8068718346599373,
            "y": 0
           },
           {
            "x": 3.698606756639497,
            "y": 0
           },
           {
            "x": 4.315591693005171,
            "y": 0
           },
           {
            "x": 2.25426733543468,
            "y": 0
           },
           {
            "x": 3.9627046950702915,
            "y": 0
           },
           {
            "x": 7.457271160400687,
            "y": 0
           },
           {
            "x": 0.8739799420974257,
            "y": 0
           },
           {
            "x": 4.835710494858743,
            "y": 0
           },
           {
            "x": 3.265203640961329,
            "y": 0
           },
           {
            "x": 0.8752951000724196,
            "y": 0
           },
           {
            "x": 2.287269240442774,
            "y": 0
           },
           {
            "x": 1.8328102379222873,
            "y": 0
           },
           {
            "x": -0.6211350366581261,
            "y": 0
           },
           {
            "x": 3.439748789066464,
            "y": 0
           },
           {
            "x": 2.8442578080630643,
            "y": 0
           },
           {
            "x": 3.568412654695936,
            "y": 0
           },
           {
            "x": 2.1037020883081,
            "y": 0
           },
           {
            "x": 5.542854671834492,
            "y": 0
           },
           {
            "x": 2.8379567157113033,
            "y": 0
           },
           {
            "x": 2.2510836783975128,
            "y": 0
           },
           {
            "x": 1.5672713824654236,
            "y": 0
           },
           {
            "x": 3.6351127031932906,
            "y": 0
           },
           {
            "x": 2.2638729351353977,
            "y": 0
           },
           {
            "x": 4.203947578760104,
            "y": 0
           },
           {
            "x": 4.848024580313476,
            "y": 0
           },
           {
            "x": 0.840868586711162,
            "y": 0
           },
           {
            "x": 4.814549300087169,
            "y": 0
           },
           {
            "x": 2.207249779536288,
            "y": 0
           },
           {
            "x": 1.8670598726230458,
            "y": 0
           },
           {
            "x": -1.9363064481273504,
            "y": 0
           },
           {
            "x": 1.2520009402208132,
            "y": 0
           },
           {
            "x": 1.9267139079203344,
            "y": 0
           },
           {
            "x": 3.5255368339016657,
            "y": 0
           },
           {
            "x": 3.318731463754653,
            "y": 0
           },
           {
            "x": -0.2723837311949464,
            "y": 0
           },
           {
            "x": 6.1000666483739785,
            "y": 0
           },
           {
            "x": 1.599844618277829,
            "y": 0
           },
           {
            "x": 2.608457659728809,
            "y": 0
           },
           {
            "x": 0.9335984178620378,
            "y": 0
           },
           {
            "x": 1.0906589054944205,
            "y": 0
           },
           {
            "x": 3.576604905133512,
            "y": 0
           },
           {
            "x": 3.293543827136392,
            "y": 0
           },
           {
            "x": 2.463726509037544,
            "y": 0
           },
           {
            "x": 5.298936501617675,
            "y": 0
           },
           {
            "x": 2.364775872454073,
            "y": 0
           },
           {
            "x": -0.23670585870878025,
            "y": 0
           },
           {
            "x": 1.845050363129651,
            "y": 0
           },
           {
            "x": 2.418161902839983,
            "y": 0
           },
           {
            "x": 3.210258082027172,
            "y": 0
           },
           {
            "x": 2.9431965046212065,
            "y": 0
           },
           {
            "x": 6.99559826005909,
            "y": 0
           },
           {
            "x": 2.8384257824395243,
            "y": 0
           },
           {
            "x": 3.032078551354917,
            "y": 0
           },
           {
            "x": 0.15439657879157265,
            "y": 0
           },
           {
            "x": 2.016593376467276,
            "y": 0
           },
           {
            "x": 0.43043865196745745,
            "y": 0
           },
           {
            "x": 2.5376666193167137,
            "y": 0
           },
           {
            "x": 1.8578144550307623,
            "y": 0
           },
           {
            "x": 2.088103282642515,
            "y": 0
           },
           {
            "x": 2.5456665898789947,
            "y": 0
           },
           {
            "x": 5.670914479064848,
            "y": 0
           },
           {
            "x": 2.7322405514222496,
            "y": 0
           },
           {
            "x": 3.1199270146874776,
            "y": 0
           },
           {
            "x": 2.422874834277444,
            "y": 0
           },
           {
            "x": 0.8692638528215526,
            "y": 0
           },
           {
            "x": 0.44660795932687103,
            "y": 0
           },
           {
            "x": 3.0757457161554154,
            "y": 0
           },
           {
            "x": 3.6307990890355097,
            "y": 0
           },
           {
            "x": 2.355676949197113,
            "y": 0
           },
           {
            "x": 3.303638377656684,
            "y": 0
           },
           {
            "x": 1.8445090318988437,
            "y": 0
           },
           {
            "x": 2.557337759840411,
            "y": 0
           },
           {
            "x": 1.7992370716320047,
            "y": 0
           },
           {
            "x": 0.35158973630889223,
            "y": 0
           },
           {
            "x": 5.307927129246212,
            "y": 0
           },
           {
            "x": -0.3404603045642314,
            "y": 0
           },
           {
            "x": -1.2173220716327804,
            "y": 0
           },
           {
            "x": 1.9863503429264755,
            "y": 0
           },
           {
            "x": 3.5708955763745216,
            "y": 0
           },
           {
            "x": 2.3130323139745137,
            "y": 0
           },
           {
            "x": -0.44599715463760825,
            "y": 0
           },
           {
            "x": 4.3681064193120385,
            "y": 0
           },
           {
            "x": 4.147373705809316,
            "y": 0
           },
           {
            "x": 0.24859199916878572,
            "y": 0
           },
           {
            "x": 1.9934152957211138,
            "y": 0
           },
           {
            "x": 2.1117706805110905,
            "y": 0
           },
           {
            "x": 1.214780560854454,
            "y": 0
           },
           {
            "x": -1.3084967771895357,
            "y": 0
           },
           {
            "x": 5.031641470422837,
            "y": 0
           },
           {
            "x": 2.8009030621795303,
            "y": 0
           },
           {
            "x": -1.0815906617040811,
            "y": 0
           },
           {
            "x": 3.2875093479024433,
            "y": 0
           },
           {
            "x": 3.4767963498692915,
            "y": 0
           },
           {
            "x": 0.39150565625667166,
            "y": 0
           },
           {
            "x": 3.4434030774131523,
            "y": 0
           },
           {
            "x": 3.240728049161132,
            "y": 0
           },
           {
            "x": 0.23372489119734574,
            "y": 0
           },
           {
            "x": 5.205482308144913,
            "y": 0
           },
           {
            "x": -0.7813307867293329,
            "y": 0
           },
           {
            "x": 6.5773662386144025,
            "y": 0
           },
           {
            "x": 0.8432388378018225,
            "y": 0
           },
           {
            "x": 1.119710751780733,
            "y": 0
           },
           {
            "x": 2.913754516392668,
            "y": 0
           },
           {
            "x": 1.5039514673260708,
            "y": 0
           },
           {
            "x": 0.9305994197856213,
            "y": 0
           },
           {
            "x": 3.6718402735990336,
            "y": 0
           },
           {
            "x": 3.612463234871422,
            "y": 0
           },
           {
            "x": 4.5312625948248915,
            "y": 0
           },
           {
            "x": 2.309766988485505,
            "y": 0
           },
           {
            "x": 1.5270449209038952,
            "y": 0
           },
           {
            "x": 2.3351358118511327,
            "y": 0
           },
           {
            "x": 2.4686370872148453,
            "y": 0
           },
           {
            "x": 1.3089208135437012,
            "y": 0
           },
           {
            "x": 1.0755698414970256,
            "y": 0
           },
           {
            "x": 2.1682371634059088,
            "y": 0
           },
           {
            "x": 3.080877478086923,
            "y": 0
           },
           {
            "x": 4.948017266713631,
            "y": 0
           },
           {
            "x": 3.4914611181158937,
            "y": 0
           },
           {
            "x": 2.0455988786166,
            "y": 0
           },
           {
            "x": 4.281523617693191,
            "y": 0
           },
           {
            "x": 2.3031822763451397,
            "y": 0
           },
           {
            "x": 3.936691112355958,
            "y": 0
           },
           {
            "x": 1.7219430844315884,
            "y": 0
           },
           {
            "x": 2.4756938001561863,
            "y": 0
           },
           {
            "x": -2.1460329770491127,
            "y": 0
           },
           {
            "x": 4.986506866582717,
            "y": 0
           },
           {
            "x": 1.938775282989021,
            "y": 0
           },
           {
            "x": -0.44891115000684634,
            "y": 0
           },
           {
            "x": 3.536552027880817,
            "y": 0
           },
           {
            "x": 2.4140120816836217,
            "y": 0
           },
           {
            "x": 4.871118228493685,
            "y": 0
           },
           {
            "x": -1.5580472679551622,
            "y": 0
           },
           {
            "x": 0.09932333726331333,
            "y": 0
           },
           {
            "x": 2.457509634804776,
            "y": 0
           },
           {
            "x": 4.123153560446965,
            "y": 0
           },
           {
            "x": 0.21144300526683368,
            "y": 0
           },
           {
            "x": 3.099220772750483,
            "y": 0
           },
           {
            "x": 0.10172381475838543,
            "y": 0
           },
           {
            "x": 2.1705416011975243,
            "y": 0
           },
           {
            "x": 4.887113040627691,
            "y": 0
           },
           {
            "x": 2.230706093327117,
            "y": 0
           },
           {
            "x": 0.6809878992302656,
            "y": 0
           },
           {
            "x": 3.05219504550069,
            "y": 0
           },
           {
            "x": 1.4559672232596144,
            "y": 0
           },
           {
            "x": 2.8420974317640657,
            "y": 0
           },
           {
            "x": 3.6161181915054774,
            "y": 0
           },
           {
            "x": 1.6658058290552487,
            "y": 0
           },
           {
            "x": -1.7400818120077686,
            "y": 0
           },
           {
            "x": -1.7203274923932472,
            "y": 0
           },
           {
            "x": 2.715549235868193,
            "y": 0
           },
           {
            "x": 3.503581528416798,
            "y": 0
           },
           {
            "x": 2.2369900067667055,
            "y": 0
           },
           {
            "x": 3.0671019003419193,
            "y": 0
           },
           {
            "x": 1.343891233389021,
            "y": 0
           },
           {
            "x": 1.9622277474459802,
            "y": 0
           },
           {
            "x": 5.075260893346048,
            "y": 0
           },
           {
            "x": 4.632251661759234,
            "y": 0
           },
           {
            "x": 2.7606195339251682,
            "y": 0
           },
           {
            "x": 3.381039475620231,
            "y": 0
           },
           {
            "x": 1.5830232091900958,
            "y": 0
           },
           {
            "x": 1.1325679654984033,
            "y": 0
           },
           {
            "x": 4.926383106927686,
            "y": 0
           },
           {
            "x": 5.731551820015672,
            "y": 0
           },
           {
            "x": 4.962281027625664,
            "y": 0
           },
           {
            "x": 4.3209160834865,
            "y": 0
           },
           {
            "x": -0.4951064086282595,
            "y": 0
           },
           {
            "x": 4.041886193477516,
            "y": 0
           },
           {
            "x": -2.500850831370414,
            "y": 0
           },
           {
            "x": 4.274168169221544,
            "y": 0
           },
           {
            "x": 3.5043994564197742,
            "y": 0
           },
           {
            "x": 0.9960010338766181,
            "y": 0
           },
           {
            "x": -0.024505109929978452,
            "y": 0
           },
           {
            "x": 2.476409940270858,
            "y": 0
           },
           {
            "x": 2.8785423930271605,
            "y": 0
           },
           {
            "x": 1.0478140228361532,
            "y": 0
           },
           {
            "x": 0.7549805885093088,
            "y": 0
           },
           {
            "x": -0.368653916303491,
            "y": 0
           },
           {
            "x": 2.6423825088679633,
            "y": 0
           },
           {
            "x": 2.6367093377141506,
            "y": 0
           },
           {
            "x": 3.6866262457843604,
            "y": 0
           },
           {
            "x": 2.82233564707927,
            "y": 0
           },
           {
            "x": 2.7561490206923795,
            "y": 0
           },
           {
            "x": 2.1027730010781154,
            "y": 0
           },
           {
            "x": 2.455168023217745,
            "y": 0
           },
           {
            "x": 6.459689199487323,
            "y": 0
           },
           {
            "x": 4.396792091346704,
            "y": 0
           }
          ]
         },
         "encoding": {
          "x": {
           "field": "x",
           "type": "quantitative"
          },
          "y": {
           "field": "y",
           "type": "quantitative"
          }
         },
         "mark": {
          "opacity": 0.4,
          "size": 20,
          "type": "point"
         }
        },
        {
         "data": {
          "values": [
           {
            "x": 3.59042346944787,
            "y": 12.891140689962079
           },
           {
            "x": 0.5496466908728286,
            "y": 0.30211148478745076
           },
           {
            "x": 2.7084553751035374,
            "y": 7.335730518927243
           },
           {
            "x": 2.4005424483626285,
            "y": 5.762604046390843
           },
           {
            "x": 0.20949398704433353,
            "y": 0.043887730607731386
           },
           {
            "x": 0.5876806695799797,
            "y": 0.3453685693979732
           },
           {
            "x": 2.086157119488289,
            "y": 4.3520515271916755
           },
           {
            "x": 2.5605589278793697,
            "y": 6.556462023142747
           },
           {
            "x": 3.944041882095182,
            "y": 15.555466367720907
           },
           {
            "x": -0.7738193601722578,
            "y": 0.5987964021774025
           },
           {
            "x": 1.6826435913661606,
            "y": 2.831289455565611
           },
           {
            "x": -0.24231327883810794,
            "y": 0.058715725101274645
           },
           {
            "x": 1.0200908525723127,
            "y": 1.0405853475017077
           },
           {
            "x": 0.549993631832463,
            "y": 0.3024929950562628
           },
           {
            "x": 7.687192852839408,
            "y": 59.09293395674527
           },
           {
            "x": 5.520394082134787,
            "y": 30.47475082206878
           },
           {
            "x": 1.3033804454206868,
            "y": 1.6988005855050279
           },
           {
            "x": 0.9770502605283298,
            "y": 0.9546272115984771
           },
           {
            "x": 4.533794189797913,
            "y": 20.555289755445312
           },
           {
            "x": -1.3250925106809586,
            "y": 1.7558701618627663
           },
           {
            "x": 4.554813606584099,
            "y": 20.746326990723645
           },
           {
            "x": -0.5281112879376901,
            "y": 0.27890153244720584
           },
           {
            "x": -0.47297692688165416,
            "y": 0.22370717336241364
           },
           {
            "x": 2.057717922387394,
            "y": 4.234203048114292
           },
           {
            "x": 2.9033171041392425,
            "y": 8.429250207187478
           },
           {
            "x": 1.3336711256584448,
            "y": 1.7786786714150633
           },
           {
            "x": 2.1106971972586566,
            "y": 4.4550426585155485
           },
           {
            "x": 2.6199987792725854,
            "y": 6.864393603389837
           },
           {
            "x": 0.9886302289344346,
            "y": 0.9773897295629527
           },
           {
            "x": 6.992254033597893,
            "y": 48.89161647036601
           },
           {
            "x": 1.955274644709375,
            "y": 3.8230989362433725
           },
           {
            "x": 2.1891434661219713,
            "y": 4.792349115264519
           },
           {
            "x": 3.4496514528052873,
            "y": 11.900095145841629
           },
           {
            "x": 5.551697634369207,
            "y": 30.82134662346065
           },
           {
            "x": 0.11537026883941559,
            "y": 0.013310298932079028
           },
           {
            "x": -0.7397153725208381,
            "y": 0.5471788323436423
           },
           {
            "x": 3.8151728734536166,
            "y": 14.555544054336325
           },
           {
            "x": 3.6674596652694875,
            "y": 13.450260396378582
           },
           {
            "x": 0.8479077915356596,
            "y": 0.7189476229468796
           },
           {
            "x": 0.6508611554478336,
            "y": 0.4236202436708891
           },
           {
            "x": 0.08044410761069809,
            "y": 0.006471254449281575
           },
           {
            "x": 4.502404484740793,
            "y": 20.271646144214003
           },
           {
            "x": -0.30933250854909566,
            "y": 0.09568660084527635
           },
           {
            "x": 4.094410044750791,
            "y": 16.764193614556177
           },
           {
            "x": 3.8885745220933923,
            "y": 15.121011813873855
           },
           {
            "x": 3.1487717732215605,
            "y": 9.91476367983685
           },
           {
            "x": 1.8340635259128464,
            "y": 3.363789017083862
           },
           {
            "x": 3.4914882405618135,
            "y": 12.190490133981427
           },
           {
            "x": -0.11313633089179564,
            "y": 0.012799829367657873
           },
           {
            "x": 2.0626055722324788,
            "y": 4.254341746604471
           },
           {
            "x": 3.397891222985592,
            "y": 11.545664763242524
           },
           {
            "x": 0.9359746339541126,
            "y": 0.8760485154055351
           },
           {
            "x": -0.2762474550442646,
            "y": 0.076312656418433
           },
           {
            "x": 3.566016350296505,
            "y": 12.716472610582006
           },
           {
            "x": 2.7946428970536448,
            "y": 7.810028922052388
           },
           {
            "x": 2.5069136532426888,
            "y": 6.284616064814604
           },
           {
            "x": 4.213768035288159,
            "y": 17.75584105521623
           },
           {
            "x": 5.026304081448215,
            "y": 25.263732719182983
           },
           {
            "x": 2.512865209713169,
            "y": 6.314491562186809
           },
           {
            "x": 1.4310990150326093,
            "y": 2.0480443908273043
           },
           {
            "x": 0.8532258424729813,
            "y": 0.7279943382637286
           },
           {
            "x": 2.800942449173451,
            "y": 7.84527860358177
           },
           {
            "x": 1.969861140302123,
            "y": 3.88035291207238
           },
           {
            "x": 3.467560656937549,
            "y": 12.023976909541167
           },
           {
            "x": 5.454771447567515,
            "y": 29.7545315451978
           },
           {
            "x": 4.374360848400695,
            "y": 19.135032832020848
           },
           {
            "x": 1.075956044917557,
            "y": 1.1576814105946318
           },
           {
            "x": 3.791054816843885,
            "y": 14.37209662431522
           },
           {
            "x": 3.158336047689044,
            "y": 9.975086590132051
           },
           {
            "x": 3.8606338788865746,
            "y": 14.904493946806799
           },
           {
            "x": 4.224321818952637,
            "y": 17.844894830079316
           },
           {
            "x": 2.642739886173595,
            "y": 6.984074105972827
           },
           {
            "x": 0.676166646545832,
            "y": 0.4572013339010361
           },
           {
            "x": 2.8675000586132833,
            "y": 8.222556586147183
           },
           {
            "x": 0.05679832541452301,
            "y": 0.0032260497698940504
           },
           {
            "x": 2.5289893796379728,
            "y": 6.395787282321658
           },
           {
            "x": 0.04518147428987529,
            "y": 0.0020413656190066617
           },
           {
            "x": 2.627831803382141,
            "y": 6.9054999868666345
           },
           {
            "x": 2.868724677024337,
            "y": 8.229581272568385
           },
           {
            "x": 1.1705280703681666,
            "y": 1.3701359635198236
           },
           {
            "x": 3.1169781101594385,
            "y": 9.715552539213105
           },
           {
            "x": 5.919411133408153,
            "y": 35.0394281663164
           },
           {
            "x": 2.9902036656456756,
            "y": 8.941317962040836
           },
           {
            "x": 1.8262547080322946,
            "y": 3.3352062586101217
           },
           {
            "x": 4.364672768032902,
            "y": 19.050368372007995
           },
           {
            "x": 1.0660719376287249,
            "y": 1.1365093761994638
           },
           {
            "x": 2.119625046929801,
            "y": 4.492810339572161
           },
           {
            "x": 1.8216686498182775,
            "y": 3.318476669730746
           },
           {
            "x": 4.450245581003958,
            "y": 19.804685731245254
           },
           {
            "x": 0.6859637853234404,
            "y": 0.470546314775263
           },
           {
            "x": 3.8290423023047264,
            "y": 14.66156495283908
           },
           {
            "x": 3.135338180016678,
            "y": 9.830345503070294
           },
           {
            "x": 1.5206711022286021,
            "y": 2.3124406011531518
           },
           {
            "x": 0.2494696498430291,
            "y": 0.06223510619280355
           },
           {
            "x": 1.4284802231400702,
            "y": 2.040555747902305
           },
           {
            "x": 0.15008519012169774,
            "y": 0.02252556429386616
           },
           {
            "x": 3.473094105690494,
            "y": 12.062382666982051
           },
           {
            "x": 2.9160261627269595,
            "y": 8.503208581708115
           },
           {
            "x": 3.9016057348727706,
            "y": 15.222527310392092
           },
           {
            "x": 6.492070598779575,
            "y": 42.146980659538194
           },
           {
            "x": 5.015069849415243,
            "y": 25.150925594513826
           },
           {
            "x": 1.6890543369428843,
            "y": 2.852904553145567
           },
           {
            "x": 4.01745177776443,
            "y": 16.13991878666258
           },
           {
            "x": -0.852876819995855,
            "y": 0.7273988700862419
           },
           {
            "x": 2.9212819021834058,
            "y": 8.533887952024298
           },
           {
            "x": 2.2552304245998016,
            "y": 5.086064268040602
           },
           {
            "x": 6.647126576404931,
            "y": 44.18429172274874
           },
           {
            "x": -0.5576504150237156,
            "y": 0.31097398537612225
           },
           {
            "x": 3.8073818824171757,
            "y": 14.496156798558555
           },
           {
            "x": 4.222062775742295,
            "y": 17.825814082308728
           },
           {
            "x": 5.043660575620345,
            "y": 25.43851200206695
           },
           {
            "x": 0.8524206425686836,
            "y": 0.7266209518772073
           },
           {
            "x": 4.591050119287275,
            "y": 21.077741197807704
           },
           {
            "x": 1.1172027680994816,
            "y": 1.2481420250491442
           },
           {
            "x": -0.8068718346599373,
            "y": 0.6510421575674932
           },
           {
            "x": 3.698606756639497,
            "y": 13.67969194025934
           },
           {
            "x": 4.315591693005171,
            "y": 18.624331660735237
           },
           {
            "x": 2.25426733543468,
            "y": 5.081721219607772
           },
           {
            "x": 3.9627046950702915,
            "y": 15.703028500332133
           },
           {
            "x": 7.457271160400687,
            "y": 55.61089315974381
           },
           {
            "x": 0.8739799420974257,
            "y": 0.7638409391886195
           },
           {
            "x": 4.835710494858743,
            "y": 23.38409599008699
           },
           {
            "x": 3.265203640961329,
            "y": 10.661554816947119
           },
           {
            "x": 0.8752951000724196,
            "y": 0.7661415122107871
           },
           {
            "x": 2.287269240442774,
            "y": 5.231600578275664
           },
           {
            "x": 1.8328102379222873,
            "y": 3.3591933682327513
           },
           {
            "x": -0.6211350366581261,
            "y": 0.38580873376429164
           },
           {
            "x": 3.439748789066464,
            "y": 11.831871731884206
           },
           {
            "x": 2.8442578080630643,
            "y": 8.089802478727707
           },
           {
            "x": 3.568412654695936,
            "y": 12.733568874194098
           },
           {
            "x": 2.1037020883081,
            "y": 4.425562476351861
           },
           {
            "x": 5.542854671834492,
            "y": 30.723237913077455
           },
           {
            "x": 2.8379567157113033,
            "y": 8.053998320250887
           },
           {
            "x": 2.2510836783975128,
            "y": 5.067377727147677
           },
           {
            "x": 1.5672713824654236,
            "y": 2.4563395862950803
           },
           {
            "x": 3.6351127031932906,
            "y": 13.214044364917232
           },
           {
            "x": 2.2638729351353977,
            "y": 5.12512066643856
           },
           {
            "x": 4.203947578760104,
            "y": 17.67317524496294
           },
           {
            "x": 4.848024580313476,
            "y": 23.503342331323655
           },
           {
            "x": 0.840868586711162,
            "y": 0.707059980117627
           },
           {
            "x": 4.814549300087169,
            "y": 23.179884962969847
           },
           {
            "x": 2.207249779536288,
            "y": 4.871951589262992
           },
           {
            "x": 1.8670598726230458,
            "y": 3.485912567959184
           },
           {
            "x": -1.9363064481273504,
            "y": 3.7492826610595555
           },
           {
            "x": 1.2520009402208132,
            "y": 1.5675063543138004
           },
           {
            "x": 1.9267139079203344,
            "y": 3.7122264829736467
           },
           {
            "x": 3.5255368339016657,
            "y": 12.429409967197381
           },
           {
            "x": 3.318731463754653,
            "y": 11.013978528515102
           },
           {
            "x": -0.2723837311949464,
            "y": 0.07419289701968082
           },
           {
            "x": 6.1000666483739785,
            "y": 37.21081311460454
           },
           {
            "x": 1.599844618277829,
            "y": 2.559502802632532
           },
           {
            "x": 2.608457659728809,
            "y": 6.804051362597895
           },
           {
            "x": 0.9335984178620378,
            "y": 0.8716060058345001
           },
           {
            "x": 1.0906589054944205,
            "y": 1.1895368481342872
           },
           {
            "x": 3.576604905133512,
            "y": 12.792102647425097
           },
           {
            "x": 3.293543827136392,
            "y": 10.847430941268232
           },
           {
            "x": 2.463726509037544,
            "y": 6.069948311334323
           },
           {
            "x": 5.298936501617675,
            "y": 28.078728048176163
           },
           {
            "x": 2.364775872454073,
            "y": 5.592164926940922
           },
           {
            "x": -0.23670585870878025,
            "y": 0.056029663547061036
           },
           {
            "x": 1.845050363129651,
            "y": 3.4042108424848574
           },
           {
            "x": 2.418161902839983,
            "y": 5.847506988346686
           },
           {
            "x": 3.210258082027172,
            "y": 10.305756953220778
           },
           {
            "x": 2.9431965046212065,
            "y": 8.662405664814488
           },
           {
            "x": 6.99559826005909,
            "y": 48.93839501614177
           },
           {
            "x": 2.8384257824395243,
            "y": 8.056660922417425
           },
           {
            "x": 3.032078551354917,
            "y": 9.193500341586534
           },
           {
            "x": 0.15439657879157265,
            "y": 0.0238383035425423
           },
           {
            "x": 2.016593376467276,
            "y": 4.066648846011688
           },
           {
            "x": 0.43043865196745745,
            "y": 0.18527743310756195
           },
           {
            "x": 2.5376666193167137,
            "y": 6.439751870794319
           },
           {
            "x": 1.8578144550307623,
            "y": 3.451474549321248
           },
           {
            "x": 2.088103282642515,
            "y": 4.360175318982447
           },
           {
            "x": 2.5456665898789947,
            "y": 6.48041838682615
           },
           {
            "x": 5.670914479064848,
            "y": 32.15927102886734
           },
           {
            "x": 2.7322405514222496,
            "y": 7.465138430836158
           },
           {
            "x": 3.1199270146874776,
            "y": 9.733944576976716
           },
           {
            "x": 2.422874834277444,
            "y": 5.870322462574952
           },
           {
            "x": 0.8692638528215526,
            "y": 0.7556196458221699
           },
           {
            "x": 0.44660795932687103,
            "y": 0.19945866933411208
           },
           {
            "x": 3.0757457161554154,
            "y": 9.46021171044839
           },
           {
            "x": 3.6307990890355097,
            "y": 13.182702024941088
           },
           {
            "x": 2.355676949197113,
            "y": 5.549213888978617
           },
           {
            "x": 3.303638377656684,
            "y": 10.914026530326087
           },
           {
            "x": 1.8445090318988437,
            "y": 3.4022135687564097
           },
           {
            "x": 2.557337759840411,
            "y": 6.539976417905572
           },
           {
            "x": 1.7992370716320047,
            "y": 3.237254039934912
           },
           {
            "x": 0.35158973630889223,
            "y": 0.12361534267775637
           },
           {
            "x": 5.307927129246212,
            "y": 28.174090409387937
           },
           {
            "x": -0.3404603045642314,
            "y": 0.11591321898396918
           },
           {
            "x": -1.2173220716327804,
            "y": 1.481873026084324
           },
           {
            "x": 1.9863503429264755,
            "y": 3.945587684844127
           },
           {
            "x": 3.5708955763745216,
            "y": 12.751295217371126
           },
           {
            "x": 2.3130323139745137,
            "y": 5.3501184854902935
           },
           {
            "x": -0.44599715463760825,
            "y": 0.19891346194484263
           },
           {
            "x": 4.3681064193120385,
            "y": 19.08035369043504
           },
           {
            "x": 4.147373705809316,
            "y": 17.200708655638497
           },
           {
            "x": 0.24859199916878572,
            "y": 0.06179798205073356
           },
           {
            "x": 1.9934152957211138,
            "y": 3.9737045412148952
           },
           {
            "x": 2.1117706805110905,
            "y": 4.459575407066274
           },
           {
            "x": 1.214780560854454,
            "y": 1.4756918110298618
           },
           {
            "x": -1.3084967771895357,
            "y": 1.7121638159154016
           },
           {
            "x": 5.031641470422837,
            "y": 25.31741588687889
           },
           {
            "x": 2.8009030621795303,
            "y": 7.84505796372667
           },
           {
            "x": -1.0815906617040811,
            "y": 1.169838359485472
           },
           {
            "x": 3.2875093479024433,
            "y": 10.807717712545948
           },
           {
            "x": 3.4767963498692915,
            "y": 12.088112858464429
           },
           {
            "x": 0.39150565625667166,
            "y": 0.15327667888096716
           },
           {
            "x": 3.4434030774131523,
            "y": 11.857024753538369
           },
           {
            "x": 3.240728049161132,
            "y": 10.502318288619716
           },
           {
            "x": 0.23372489119734574,
            "y": 0.05462732476521111
           },
           {
            "x": 5.205482308144913,
            "y": 27.097046060409692
           },
           {
            "x": -0.7813307867293329,
            "y": 0.6104777982910783
           },
           {
            "x": 6.5773662386144025,
            "y": 43.26174663686457
           },
           {
            "x": 0.8432388378018225,
            "y": 0.7110517375773684
           },
           {
            "x": 1.119710751780733,
            "y": 1.2537521676533743
           },
           {
            "x": 2.913754516392668,
            "y": 8.48996538179867
           },
           {
            "x": 1.5039514673260708,
            "y": 2.2618700160722414
           },
           {
            "x": 0.9305994197856213,
            "y": 0.866015280105335
           },
           {
            "x": 3.6718402735990336,
            "y": 13.482410994823827
           },
           {
            "x": 3.612463234871422,
            "y": 13.049890623297697
           },
           {
            "x": 4.5312625948248915,
            "y": 20.53234070325921
           },
           {
            "x": 2.309766988485505,
            "y": 5.3350235410974
           },
           {
            "x": 1.5270449209038952,
            "y": 2.3318661904583835
           },
           {
            "x": 2.3351358118511327,
            "y": 5.452859259789649
           },
           {
            "x": 2.4686370872148453,
            "y": 6.0941690683725955
           },
           {
            "x": 1.3089208135437012,
            "y": 1.7132736961279045
           },
           {
            "x": 1.0755698414970256,
            "y": 1.1568504839379368
           },
           {
            "x": 2.1682371634059088,
            "y": 4.7012523967745015
           },
           {
            "x": 3.080877478086923,
            "y": 9.491806034983238
           },
           {
            "x": 4.948017266713631,
            "y": 24.48287487169623
           },
           {
            "x": 3.4914611181158937,
            "y": 12.190300739315086
           },
           {
            "x": 2.0455988786166,
            "y": 4.1844747721974915
           },
           {
            "x": 4.281523617693191,
            "y": 18.331444488864587
           },
           {
            "x": 2.3031822763451397,
            "y": 5.304648598070379
           },
           {
            "x": 3.936691112355958,
            "y": 15.49753691410239
           },
           {
            "x": 1.7219430844315884,
            "y": 2.9650879860217723
           },
           {
            "x": 2.4756938001561863,
            "y": 6.1290597921317795
           },
           {
            "x": -2.1460329770491127,
            "y": 4.605457538582277
           },
           {
            "x": 4.986506866582717,
            "y": 24.865250730476586
           },
           {
            "x": 1.938775282989021,
            "y": 3.7588495979291587
           },
           {
            "x": -0.44891115000684634,
            "y": 0.2015212206004693
           },
           {
            "x": 3.536552027880817,
            "y": 12.50720024590792
           },
           {
            "x": 2.4140120816836217,
            "y": 5.827454330514493
           },
           {
            "x": 4.871118228493685,
            "y": 23.72779279596346
           },
           {
            "x": -1.5580472679551622,
            "y": 2.427511289182545
           },
           {
            "x": 0.09932333726331333,
            "y": 0.009865125325121885
           },
           {
            "x": 2.457509634804776,
            "y": 6.039353605158302
           },
           {
            "x": 4.123153560446965,
            "y": 17.00039528302648
           },
           {
            "x": 0.21144300526683368,
            "y": 0.04470814447627026
           },
           {
            "x": 3.099220772750483,
            "y": 9.605169398248101
           },
           {
            "x": 0.10172381475838543,
            "y": 0.010347734488998315
           },
           {
            "x": 2.1705416011975243,
            "y": 4.711250842529113
           },
           {
            "x": 4.887113040627691,
            "y": 23.883873871873234
           },
           {
            "x": 2.230706093327117,
            "y": 4.9760496748067276
           },
           {
            "x": 0.6809878992302656,
            "y": 0.46374451889805035
           },
           {
            "x": 3.05219504550069,
            "y": 9.31589459577896
           },
           {
            "x": 1.4559672232596144,
            "y": 2.1198405552063115
           },
           {
            "x": 2.8420974317640657,
            "y": 8.077517811639899
           },
           {
            "x": 3.6161181915054774,
            "y": 13.076310774936845
           },
           {
            "x": 1.6658058290552487,
            "y": 2.774909060114444
           },
           {
            "x": -1.7400818120077686,
            "y": 3.027884712480239
           },
           {
            "x": -1.7203274923932472,
            "y": 2.959526681084038
           },
           {
            "x": 2.715549235868193,
            "y": 7.374207652424328
           },
           {
            "x": 3.503581528416798,
            "y": 12.275083526263385
           },
           {
            "x": 2.2369900067667055,
            "y": 5.004124290374105
           },
           {
            "x": 3.0671019003419193,
            "y": 9.407114067081013
           },
           {
            "x": 1.343891233389021,
            "y": 1.806043647179864
           },
           {
            "x": 1.9622277474459802,
            "y": 3.8503377328469255
           },
           {
            "x": 5.075260893346048,
            "y": 25.758273135527723
           },
           {
            "x": 4.632251661759234,
            "y": 21.457755457871187
           },
           {
            "x": 2.7606195339251682,
            "y": 7.621020211089213
           },
           {
            "x": 3.381039475620231,
            "y": 11.431427935702327
           },
           {
            "x": 1.5830232091900958,
            "y": 2.50596248083451
           },
           {
            "x": 1.1325679654984033,
            "y": 1.2827101964731926
           },
           {
            "x": 4.926383106927686,
            "y": 24.269250516222478
           },
           {
            "x": 5.731551820015672,
            "y": 32.85068626552496
           },
           {
            "x": 4.962281027625664,
            "y": 24.62423299713362
           },
           {
            "x": 4.3209160834865,
            "y": 18.670315800532315
           },
           {
            "x": -0.4951064086282595,
            "y": 0.24513035586477308
           },
           {
            "x": 4.041886193477516,
            "y": 16.33684400102416
           },
           {
            "x": -2.500850831370414,
            "y": 6.254254880766092
           },
           {
            "x": 4.274168169221544,
            "y": 18.268513538786642
           },
           {
            "x": 3.5043994564197742,
            "y": 12.280815550155209
           },
           {
            "x": 0.9960010338766181,
            "y": 0.9920180594832921
           },
           {
            "x": -0.024505109929978452,
            "y": 0.0006005004126803285
           },
           {
            "x": 2.476409940270858,
            "y": 6.1326061922723145
           },
           {
            "x": 2.8785423930271605,
            "y": 8.286006308454532
           },
           {
            "x": 1.0478140228361532,
            "y": 1.0979142264520827
           },
           {
            "x": 0.7549805885093088,
            "y": 0.5699956890258623
           },
           {
            "x": -0.368653916303491,
            "y": 0.13590571000590132
           },
           {
            "x": 2.6423825088679633,
            "y": 6.982185323171352
           },
           {
            "x": 2.6367093377141506,
            "y": 6.952236131588995
           },
           {
            "x": 3.6866262457843604,
            "y": 13.591213076106087
           },
           {
            "x": 2.82233564707927,
            "y": 7.965578504774362
           },
           {
            "x": 2.7561490206923795,
            "y": 7.596357424263563
           },
           {
            "x": 2.1027730010781154,
            "y": 4.421654294063064
           },
           {
            "x": 2.455168023217745,
            "y": 6.02785002223093
           },
           {
            "x": 6.459689199487323,
            "y": 41.727584553973166
           },
           {
            "x": 4.396792091346704,
            "y": 19.331780694528923
           }
          ]
         },
         "encoding": {
          "x": {
           "field": "x",
           "type": "quantitative"
          },
          "y": {
           "field": "y",
           "type": "quantitative"
          }
         },
         "mark": {
          "color": "black",
          "filled": true,
          "opacity": 0.2,
          "size": 50,
          "type": "point"
         }
        },
        {
         "data": {
          "values": [
           {
            "label": "E[X^2]",
            "x": -2.500850831370414,
            "y": 9.363711569399666
           }
          ]
         },
         "encoding": {
          "x": {
           "field": "x",
           "type": "quantitative"
          },
          "y": {
           "field": "y",
           "type": "quantitative"
          }
         },
         "mark": {
          "color": "black",
          "filled": true,
          "opacity": 0.9,
          "size": 200,
          "type": "point"
         }
        },
        {
         "data": {
          "values": [
           {
            "label": "E[X^2]",
            "x": -2.500850831370414,
            "y": 9.363711569399666
           }
          ]
         },
         "encoding": {
          "text": {
           "field": "label",
           "type": "nominal"
          },
          "x": {
           "field": "x",
           "type": "quantitative"
          },
          "y": {
           "field": "y",
           "type": "quantitative"
          }
         },
         "mark": {
          "align": "left",
          "baseline": "middle",
          "dx": 7,
          "type": "text"
         }
        },
        {
         "data": {
          "values": [
           {
            "label": "E[X]",
            "x": 2.4243984581254705,
            "y": 0
           }
          ]
         },
         "encoding": {
          "x": {
           "field": "x",
           "type": "quantitative"
          },
          "y": {
           "field": "y",
           "type": "quantitative"
          }
         },
         "mark": {
          "color": "black",
          "filled": true,
          "opacity": 0.9,
          "size": 200,
          "type": "point"
         }
        },
        {
         "data": {
          "values": [
           {
            "label": "E[X]",
            "x": 2.4243984581254705,
            "y": 0
           }
          ]
         },
         "encoding": {
          "text": {
           "field": "label",
           "type": "nominal"
          },
          "x": {
           "field": "x",
           "type": "quantitative"
          },
          "y": {
           "field": "y",
           "type": "quantitative"
          }
         },
         "mark": {
          "align": "left",
          "baseline": "middle",
          "dx": 7,
          "type": "text"
         }
        }
       ]
      },
      "image/png": "[encoded data removed]",
      "text/plain": [
       "<VegaLite 2 object>\n",
       "\n",
       "If you see this message, it means the renderer has not been properly enabled\n",
       "for the frontend that you are using. For more information, see\n",
       "https://altair-viz.github.io/user_guide/troubleshooting.html\n"
      ]
     },
     "execution_count": 231,
     "metadata": {},
     "output_type": "execute_result"
    }
   ],
   "source": [
    "expectedx2 = np.mean([i ** 2 for i in s])\n",
    "\n",
    "\n",
    "def make_altair_object_labels(X, Y, L):\n",
    "        bi = []\n",
    "        for x, y, l in zip(X,Y,L):\n",
    "            bi.append({\"x\":x, \"y\":y, \"label\": l})\n",
    "        return alt.Data({\"values\" : bi})\n",
    "\n",
    "dt = make_altair_object_labels(X=[min(s)], Y=[expectedx2], L=[\"E[X^2]\"])\n",
    "                                \n",
    "c5 = alt.Chart(dt).mark_point(opacity=expectation_opacity, size=expectation_size, color=\"black\", filled=True).encode(\n",
    "    x='x:Q',  # specify ordinal data\n",
    "    y='y:Q',  # specify quantitative data\n",
    ")\n",
    "\n",
    "dt = make_altair_object_labels(X=[np.mean(s)], Y=[0], L=[\"E[X]\"])\n",
    "                                \n",
    "c6 = alt.Chart(dt).mark_point(opacity=expectation_opacity, size=expectation_size, color=\"black\", filled=True).encode(\n",
    "    x='x:Q',  # specify ordinal data\n",
    "    y='y:Q',  # specify quantitative data\n",
    ")\n",
    "\n",
    "text = c5.mark_text(\n",
    "    align='left',\n",
    "    baseline='middle',\n",
    "    dx=7\n",
    ").encode(\n",
    "    text='label:N'\n",
    ")\n",
    "\n",
    "\n",
    "text2 = c6.mark_text(\n",
    "    align='left',\n",
    "    baseline='middle',\n",
    "    dx=7\n",
    ").encode(\n",
    "    text='label:N'\n",
    ")\n",
    "\n",
    "x2 + c2  + c4 + c5 + text + c6 + text2"
   ]
  },
  {
   "cell_type": "code",
   "execution_count": 122,
   "metadata": {},
   "outputs": [
    {
     "data": {
      "application/vnd.vegalite.v2+json": {
       "$schema": "https://vega.github.io/schema/vega-lite/v2.6.0.json",
       "config": {
        "view": {
         "height": 300,
         "width": 400
        }
       },
       "layer": [
        {
         "data": {
          "values": [
           {
            "x": -0.9190558724269469,
            "y": 0
           },
           {
            "x": 0.36818760137537243,
            "y": 0
           },
           {
            "x": 0.7562589604702739,
            "y": 0
           },
           {
            "x": 1.2045440507456198,
            "y": 0
           },
           {
            "x": 5.2030413562838325,
            "y": 0
           },
           {
            "x": 2.7622280949536817,
            "y": 0
           },
           {
            "x": 3.733409433705152,
            "y": 0
           },
           {
            "x": 1.8230705411508046,
            "y": 0
           },
           {
            "x": 3.7902846236071133,
            "y": 0
           },
           {
            "x": 1.7297582045119009,
            "y": 0
           },
           {
            "x": 2.1025776086534225,
            "y": 0
           },
           {
            "x": 3.7316361417268222,
            "y": 0
           },
           {
            "x": -0.7296425547828029,
            "y": 0
           },
           {
            "x": 5.349089443716435,
            "y": 0
           },
           {
            "x": 2.8073118823095697,
            "y": 0
           },
           {
            "x": 2.3814400239443114,
            "y": 0
           },
           {
            "x": 2.2133288825812683,
            "y": 0
           },
           {
            "x": 6.534825573207487,
            "y": 0
           },
           {
            "x": 6.5470005025904685,
            "y": 0
           },
           {
            "x": 8.695592862716047,
            "y": 0
           },
           {
            "x": 3.014341290469699,
            "y": 0
           },
           {
            "x": -0.2871840003545594,
            "y": 0
           },
           {
            "x": 2.4394702493077256,
            "y": 0
           },
           {
            "x": 2.402631246851243,
            "y": 0
           },
           {
            "x": 4.315640676158427,
            "y": 0
           },
           {
            "x": 3.0420639179469022,
            "y": 0
           },
           {
            "x": 4.738464339741833,
            "y": 0
           },
           {
            "x": 7.1257586162684445,
            "y": 0
           },
           {
            "x": 5.135757361447396,
            "y": 0
           },
           {
            "x": 4.129609441790219,
            "y": 0
           },
           {
            "x": 1.9076264921801602,
            "y": 0
           },
           {
            "x": 3.2251577395366127,
            "y": 0
           },
           {
            "x": 3.963380794704535,
            "y": 0
           },
           {
            "x": 0.45827118387845767,
            "y": 0
           },
           {
            "x": 2.127391949415464,
            "y": 0
           },
           {
            "x": 3.144550428428378,
            "y": 0
           },
           {
            "x": 3.9893508310986863,
            "y": 0
           },
           {
            "x": 4.982253980071878,
            "y": 0
           },
           {
            "x": -1.6612609629033992,
            "y": 0
           },
           {
            "x": 2.97035247101651,
            "y": 0
           },
           {
            "x": 4.2831342151334955,
            "y": 0
           },
           {
            "x": 2.107350928215612,
            "y": 0
           },
           {
            "x": 0.3510408638332647,
            "y": 0
           },
           {
            "x": 0.6050189159133375,
            "y": 0
           },
           {
            "x": 0.9249673313959701,
            "y": 0
           },
           {
            "x": -0.3561148652934558,
            "y": 0
           },
           {
            "x": 1.164681232424953,
            "y": 0
           },
           {
            "x": 0.5997183298200455,
            "y": 0
           },
           {
            "x": 2.9605659569080767,
            "y": 0
           },
           {
            "x": 1.1370717519144615,
            "y": 0
           },
           {
            "x": -0.4407999555552724,
            "y": 0
           },
           {
            "x": 2.8536332111694502,
            "y": 0
           },
           {
            "x": 4.845403715183043,
            "y": 0
           },
           {
            "x": 1.2815345767544442,
            "y": 0
           },
           {
            "x": 1.9022330899668938,
            "y": 0
           },
           {
            "x": 3.6403084901957596,
            "y": 0
           },
           {
            "x": 3.8793199841879424,
            "y": 0
           },
           {
            "x": 3.7076558992638473,
            "y": 0
           },
           {
            "x": 3.2904065452843607,
            "y": 0
           },
           {
            "x": 4.29776137046753,
            "y": 0
           },
           {
            "x": 3.606575533097274,
            "y": 0
           },
           {
            "x": 1.0772972848473168,
            "y": 0
           },
           {
            "x": 6.445627300192226,
            "y": 0
           },
           {
            "x": -2.711504395852735,
            "y": 0
           },
           {
            "x": 2.42699981157019,
            "y": 0
           },
           {
            "x": 1.850458126254505,
            "y": 0
           },
           {
            "x": 3.972015533371834,
            "y": 0
           },
           {
            "x": 3.9355598476366627,
            "y": 0
           },
           {
            "x": 5.232588297127714,
            "y": 0
           },
           {
            "x": -0.8569663601267483,
            "y": 0
           },
           {
            "x": 3.4951926578875243,
            "y": 0
           },
           {
            "x": 4.8888895117337485,
            "y": 0
           },
           {
            "x": 1.334353535064449,
            "y": 0
           },
           {
            "x": 0.6501969134080983,
            "y": 0
           },
           {
            "x": 0.7553266067070616,
            "y": 0
           },
           {
            "x": 2.1899883421395474,
            "y": 0
           },
           {
            "x": 4.565485008340512,
            "y": 0
           },
           {
            "x": 8.95705627942563,
            "y": 0
           },
           {
            "x": 2.5388438228952808,
            "y": 0
           },
           {
            "x": 1.1487105618819082,
            "y": 0
           },
           {
            "x": 0.7230188122628511,
            "y": 0
           },
           {
            "x": -1.2008015691255358,
            "y": 0
           },
           {
            "x": 3.3216357447234044,
            "y": 0
           },
           {
            "x": 4.627642048921722,
            "y": 0
           },
           {
            "x": 0.8602861321669386,
            "y": 0
           },
           {
            "x": 3.7319780929412456,
            "y": 0
           },
           {
            "x": 2.2806825624471125,
            "y": 0
           },
           {
            "x": 0.8798422108288344,
            "y": 0
           },
           {
            "x": 1.4531806974897732,
            "y": 0
           },
           {
            "x": 2.2434758413959965,
            "y": 0
           },
           {
            "x": 3.685685788643326,
            "y": 0
           },
           {
            "x": -1.820756910834997,
            "y": 0
           },
           {
            "x": 2.5536322664582025,
            "y": 0
           },
           {
            "x": 3.4574762011937112,
            "y": 0
           },
           {
            "x": 2.0167207179073614,
            "y": 0
           },
           {
            "x": 4.457159894479601,
            "y": 0
           },
           {
            "x": 0.3152267751589686,
            "y": 0
           },
           {
            "x": 2.7663624388147685,
            "y": 0
           },
           {
            "x": 1.1618912010768345,
            "y": 0
           },
           {
            "x": -2.354379519323678,
            "y": 0
           }
          ]
         },
         "encoding": {
          "x": {
           "field": "x",
           "type": "quantitative"
          },
          "y": {
           "field": "y",
           "type": "quantitative"
          }
         },
         "mark": {
          "filled": true,
          "opacity": 0.2,
          "size": 50,
          "type": "point"
         }
        },
        {
         "data": {
          "values": [
           {
            "x": -2.711504395852735,
            "y": 7.352256088728707
           },
           {
            "x": -2.6998241549365405,
            "y": 7.289050467578805
           },
           {
            "x": -2.6881439140203462,
            "y": 7.226117702484626
           },
           {
            "x": -2.6764636731041516,
            "y": 7.163457793446167
           },
           {
            "x": -2.664783432187957,
            "y": 7.1010707404634275
           },
           {
            "x": -2.653103191271762,
            "y": 7.0389565435364085
           },
           {
            "x": -2.641422950355568,
            "y": 6.9771152026651135
           },
           {
            "x": -2.6297427094393733,
            "y": 6.915546717849536
           },
           {
            "x": -2.6180624685231786,
            "y": 6.854251089089679
           },
           {
            "x": -2.606382227606984,
            "y": 6.793228316385544
           },
           {
            "x": -2.5947019866907897,
            "y": 6.732478399737131
           },
           {
            "x": -2.583021745774595,
            "y": 6.672001339144436
           },
           {
            "x": -2.5713415048584003,
            "y": 6.611797134607462
           },
           {
            "x": -2.559661263942206,
            "y": 6.5518657861262115
           },
           {
            "x": -2.5479810230260114,
            "y": 6.492207293700679
           },
           {
            "x": -2.5363007821098167,
            "y": 6.432821657330868
           },
           {
            "x": -2.524620541193622,
            "y": 6.373708877016777
           },
           {
            "x": -2.5129403002774278,
            "y": 6.314868952758409
           },
           {
            "x": -2.501260059361233,
            "y": 6.256301884555759
           },
           {
            "x": -2.4895798184450384,
            "y": 6.19800767240883
           },
           {
            "x": -2.477899577528844,
            "y": 6.139986316317624
           },
           {
            "x": -2.4662193366126495,
            "y": 6.082237816282137
           },
           {
            "x": -2.454539095696455,
            "y": 6.02476217230237
           },
           {
            "x": -2.44285885478026,
            "y": 5.967559384378324
           },
           {
            "x": -2.431178613864066,
            "y": 5.91062945251
           },
           {
            "x": -2.419498372947871,
            "y": 5.853972376697396
           },
           {
            "x": -2.4078181320316765,
            "y": 5.797588156940512
           },
           {
            "x": -2.3961378911154823,
            "y": 5.741476793239351
           },
           {
            "x": -2.3844576501992876,
            "y": 5.685638285593908
           },
           {
            "x": -2.372777409283093,
            "y": 5.630072634004186
           },
           {
            "x": -2.361097168366898,
            "y": 5.574779838470185
           },
           {
            "x": -2.349416927450704,
            "y": 5.519759898991906
           },
           {
            "x": -2.3377366865345093,
            "y": 5.465012815569347
           },
           {
            "x": -2.3260564456183146,
            "y": 5.410538588202507
           },
           {
            "x": -2.31437620470212,
            "y": 5.356337216891389
           },
           {
            "x": -2.3026959637859257,
            "y": 5.3024087016359935
           },
           {
            "x": -2.291015722869731,
            "y": 5.248753042436316
           },
           {
            "x": -2.2793354819535363,
            "y": 5.19537023929236
           },
           {
            "x": -2.2676552410373416,
            "y": 5.142260292204124
           },
           {
            "x": -2.2559750001211474,
            "y": 5.089423201171611
           },
           {
            "x": -2.2442947592049527,
            "y": 5.036858966194816
           },
           {
            "x": -2.232614518288758,
            "y": 4.984567587273743
           },
           {
            "x": -2.2209342773725638,
            "y": 4.932549064408392
           },
           {
            "x": -2.209254036456369,
            "y": 4.8808033975987595
           },
           {
            "x": -2.1975737955401744,
            "y": 4.829330586844848
           },
           {
            "x": -2.1858935546239797,
            "y": 4.778130632146658
           },
           {
            "x": -2.1742133137077855,
            "y": 4.7272035335041895
           },
           {
            "x": -2.162533072791591,
            "y": 4.67654929091744
           },
           {
            "x": -2.150852831875396,
            "y": 4.626167904386411
           },
           {
            "x": -2.139172590959202,
            "y": 4.576059373911105
           },
           {
            "x": -2.127492350043007,
            "y": 4.526223699491517
           },
           {
            "x": -2.1158121091268125,
            "y": 4.476660881127651
           },
           {
            "x": -2.104131868210618,
            "y": 4.427370918819505
           },
           {
            "x": -2.0924516272944236,
            "y": 4.378353812567081
           },
           {
            "x": -2.080771386378229,
            "y": 4.3296095623703765
           },
           {
            "x": -2.069091145462034,
            "y": 4.2811381682293925
           },
           {
            "x": -2.05741090454584,
            "y": 4.2329396301441315
           },
           {
            "x": -2.0457306636296453,
            "y": 4.185013948114589
           },
           {
            "x": -2.0340504227134506,
            "y": 4.137361122140767
           },
           {
            "x": -2.022370181797256,
            "y": 4.089981152222666
           },
           {
            "x": -2.0106899408810617,
            "y": 4.042874038360288
           },
           {
            "x": -1.999009699964867,
            "y": 3.9960397805536276
           },
           {
            "x": -1.9873294590486723,
            "y": 3.9494783788026884
           },
           {
            "x": -1.9756492181324778,
            "y": 3.9031898331074713
           },
           {
            "x": -1.9639689772162834,
            "y": 3.857174143467974
           },
           {
            "x": -1.9522887363000887,
            "y": 3.811431309884197
           },
           {
            "x": -1.940608495383894,
            "y": 3.765961332356141
           },
           {
            "x": -1.9289282544676996,
            "y": 3.7207642108838064
           },
           {
            "x": -1.917248013551505,
            "y": 3.6758399454671924
           },
           {
            "x": -1.9055677726353104,
            "y": 3.631188536106298
           },
           {
            "x": -1.893887531719116,
            "y": 3.5868099828011255
           },
           {
            "x": -1.8822072908029215,
            "y": 3.5427042855516735
           },
           {
            "x": -1.8705270498867268,
            "y": 3.4988714443579414
           },
           {
            "x": -1.8588468089705321,
            "y": 3.45531145921993
           },
           {
            "x": -1.8471665680543377,
            "y": 3.41202433013764
           },
           {
            "x": -1.8354863271381432,
            "y": 3.369010057111071
           },
           {
            "x": -1.8238060862219485,
            "y": 3.3262686401402215
           },
           {
            "x": -1.8121258453057538,
            "y": 3.283800079225093
           },
           {
            "x": -1.8004456043895596,
            "y": 3.2416043743656866
           },
           {
            "x": -1.788765363473365,
            "y": 3.1996815255619993
           },
           {
            "x": -1.7770851225571702,
            "y": 3.1580315328140327
           },
           {
            "x": -1.7654048816409758,
            "y": 3.1166543961217874
           },
           {
            "x": -1.7537246407247813,
            "y": 3.0755501154852634
           },
           {
            "x": -1.7420443998085866,
            "y": 3.034718690904459
           },
           {
            "x": -1.730364158892392,
            "y": 2.994160122379375
           },
           {
            "x": -1.7186839179761975,
            "y": 2.9538744099100125
           },
           {
            "x": -1.707003677060003,
            "y": 2.913861553496371
           },
           {
            "x": -1.6953234361438083,
            "y": 2.8741215531384494
           },
           {
            "x": -1.6836431952276139,
            "y": 2.834654408836249
           },
           {
            "x": -1.6719629543114192,
            "y": 2.7954601205897687
           },
           {
            "x": -1.6602827133952247,
            "y": 2.7565386883990097
           },
           {
            "x": -1.64860247247903,
            "y": 2.717890112263971
           },
           {
            "x": -1.6369222315628356,
            "y": 2.6795143921846534
           },
           {
            "x": -1.625241990646641,
            "y": 2.641411528161057
           },
           {
            "x": -1.6135617497304464,
            "y": 2.60358152019318
           },
           {
            "x": -1.601881508814252,
            "y": 2.5660243682810244
           },
           {
            "x": -1.5902012678980573,
            "y": 2.528740072424589
           },
           {
            "x": -1.5785210269818628,
            "y": 2.491728632623875
           },
           {
            "x": -1.5668407860656681,
            "y": 2.454990048878881
           },
           {
            "x": -1.5551605451494737,
            "y": 2.418524321189608
           },
           {
            "x": -1.543480304233279,
            "y": 2.3823314495560552
           },
           {
            "x": -1.5318000633170845,
            "y": 2.3464114339782243
           },
           {
            "x": -1.52011982240089,
            "y": 2.3107642744561137
           },
           {
            "x": -1.5084395814846954,
            "y": 2.275389970989723
           },
           {
            "x": -1.496759340568501,
            "y": 2.2402885235790535
           },
           {
            "x": -1.4850790996523062,
            "y": 2.2054599322241044
           },
           {
            "x": -1.4733988587361118,
            "y": 2.1709041969248766
           },
           {
            "x": -1.461718617819917,
            "y": 2.1366213176813686
           },
           {
            "x": -1.4500383769037226,
            "y": 2.1026112944935824
           },
           {
            "x": -1.438358135987528,
            "y": 2.068874127361516
           },
           {
            "x": -1.4266778950713335,
            "y": 2.0354098162851706
           },
           {
            "x": -1.414997654155139,
            "y": 2.0022183612645463
           },
           {
            "x": -1.4033174132389443,
            "y": 1.969299762299642
           },
           {
            "x": -1.3916371723227499,
            "y": 1.936654019390459
           },
           {
            "x": -1.3799569314065552,
            "y": 1.904281132536996
           },
           {
            "x": -1.3682766904903607,
            "y": 1.8721811017392544
           },
           {
            "x": -1.356596449574166,
            "y": 1.8403539269972329
           },
           {
            "x": -1.3449162086579716,
            "y": 1.8087996083109326
           },
           {
            "x": -1.3332359677417769,
            "y": 1.7775181456803524
           },
           {
            "x": -1.3215557268255824,
            "y": 1.7465095391054934
           },
           {
            "x": -1.309875485909388,
            "y": 1.7157737885863553
           },
           {
            "x": -1.2981952449931933,
            "y": 1.685310894122937
           },
           {
            "x": -1.2865150040769988,
            "y": 1.6551208557152404
           },
           {
            "x": -1.2748347631608041,
            "y": 1.6252036733632635
           },
           {
            "x": -1.2631545222446097,
            "y": 1.5955593470670082
           },
           {
            "x": -1.251474281328415,
            "y": 1.5661878768264728
           },
           {
            "x": -1.2397940404122205,
            "y": 1.5370892626416588
           },
           {
            "x": -1.2281137994960258,
            "y": 1.5082635045125647
           },
           {
            "x": -1.2164335585798314,
            "y": 1.479710602439192
           },
           {
            "x": -1.204753317663637,
            "y": 1.45143055642154
           },
           {
            "x": -1.1930730767474422,
            "y": 1.423423366459608
           },
           {
            "x": -1.1813928358312478,
            "y": 1.3956890325533975
           },
           {
            "x": -1.169712594915053,
            "y": 1.368227554702907
           },
           {
            "x": -1.1580323539988586,
            "y": 1.3410389329081378
           },
           {
            "x": -1.146352113082664,
            "y": 1.3141231671690887
           },
           {
            "x": -1.1346718721664695,
            "y": 1.287480257485761
           },
           {
            "x": -1.1229916312502748,
            "y": 1.2611102038581532
           },
           {
            "x": -1.1113113903340803,
            "y": 1.2350130062862668
           },
           {
            "x": -1.0996311494178859,
            "y": 1.209188664770101
           },
           {
            "x": -1.0879509085016912,
            "y": 1.1836371793096552
           },
           {
            "x": -1.0762706675854967,
            "y": 1.1583585499049307
           },
           {
            "x": -1.064590426669302,
            "y": 1.1333527765559266
           },
           {
            "x": -1.0529101857531076,
            "y": 1.1086198592626435
           },
           {
            "x": -1.041229944836913,
            "y": 1.0841597980250806
           },
           {
            "x": -1.0295497039207184,
            "y": 1.059972592843239
           },
           {
            "x": -1.0178694630045237,
            "y": 1.0360582437171175
           },
           {
            "x": -1.0061892220883293,
            "y": 1.0124167506467172
           },
           {
            "x": -0.9945089811721348,
            "y": 0.9890481136320376
           },
           {
            "x": -0.9828287402559401,
            "y": 0.9659523326730782
           },
           {
            "x": -0.9711484993397457,
            "y": 0.94312940776984
           },
           {
            "x": -0.959468258423551,
            "y": 0.920579338922322
           },
           {
            "x": -0.9477880175073565,
            "y": 0.8983021261305252
           },
           {
            "x": -0.9361077765911618,
            "y": 0.8762977693944486
           },
           {
            "x": -0.9244275356749674,
            "y": 0.8545662687140931
           },
           {
            "x": -0.9127472947587727,
            "y": 0.8331076240894579
           },
           {
            "x": -0.9010670538425782,
            "y": 0.8119218355205438
           },
           {
            "x": -0.8893868129263838,
            "y": 0.7910089030073504
           },
           {
            "x": -0.8777065720101891,
            "y": 0.7703688265498773
           },
           {
            "x": -0.8660263310939946,
            "y": 0.7500016061481252
           },
           {
            "x": -0.8543460901777999,
            "y": 0.7299072418020934
           },
           {
            "x": -0.8426658492616055,
            "y": 0.7100857335117828
           },
           {
            "x": -0.8309856083454108,
            "y": 0.6905370812771925
           },
           {
            "x": -0.8193053674292163,
            "y": 0.6712612850983232
           },
           {
            "x": -0.8076251265130217,
            "y": 0.6522583449751742
           },
           {
            "x": -0.7959448855968272,
            "y": 0.6335282609077463
           },
           {
            "x": -0.7842646446806327,
            "y": 0.6150710328960391
           },
           {
            "x": -0.772584403764438,
            "y": 0.5968866609400523
           },
           {
            "x": -0.7609041628482436,
            "y": 0.5789751450397864
           },
           {
            "x": -0.7492239219320489,
            "y": 0.5613364851952409
           },
           {
            "x": -0.7375436810158544,
            "y": 0.5439706814064165
           },
           {
            "x": -0.7258634400996598,
            "y": 0.5268777336733124
           },
           {
            "x": -0.7141831991834653,
            "y": 0.5100576419959293
           },
           {
            "x": -0.7025029582672708,
            "y": 0.49351040637426685
           },
           {
            "x": -0.6908227173510761,
            "y": 0.47723602680832483
           },
           {
            "x": -0.6791424764348815,
            "y": 0.4612345032981035
           },
           {
            "x": -0.6674622355186872,
            "y": 0.4455058358436035
           },
           {
            "x": -0.6557819946024925,
            "y": 0.43005002444482354
           },
           {
            "x": -0.6441017536862979,
            "y": 0.4148670691017643
           },
           {
            "x": -0.6324215127701032,
            "y": 0.39995696981442574
           },
           {
            "x": -0.6207412718539089,
            "y": 0.38531972658280844
           },
           {
            "x": -0.6090610309377142,
            "y": 0.37095533940691133
           },
           {
            "x": -0.5973807900215196,
            "y": 0.35686380828673486
           },
           {
            "x": -0.5857005491053249,
            "y": 0.3430451332222791
           },
           {
            "x": -0.5740203081891306,
            "y": 0.3294993142135445
           },
           {
            "x": -0.562340067272936,
            "y": 0.3162263512605301
           },
           {
            "x": -0.5506598263567413,
            "y": 0.3032262443632364
           },
           {
            "x": -0.538979585440547,
            "y": 0.2904989935216639
           },
           {
            "x": -0.5272993445243523,
            "y": 0.2780445987358116
           },
           {
            "x": -0.5156191036081577,
            "y": 0.26586306000568
           },
           {
            "x": -0.503938862691963,
            "y": 0.25395437733126913
           },
           {
            "x": -0.49225862177576873,
            "y": 0.24231855071257932
           },
           {
            "x": -0.48057838085957405,
            "y": 0.23095558014960982
           },
           {
            "x": -0.46889813994337937,
            "y": 0.21986546564236098
           },
           {
            "x": -0.4572178990271851,
            "y": 0.20904820719083325
           },
           {
            "x": -0.44553765811099044,
            "y": 0.1985038047950258
           },
           {
            "x": -0.43385741719479576,
            "y": 0.18823225845493904
           },
           {
            "x": -0.4221771762786011,
            "y": 0.178233568170573
           },
           {
            "x": -0.41049693536240683,
            "y": 0.168507733941928
           },
           {
            "x": -0.39881669444621215,
            "y": 0.15905475576900335
           },
           {
            "x": -0.38713645353001747,
            "y": 0.14987463365179937
           },
           {
            "x": -0.3754562126138228,
            "y": 0.14096736759031608
           },
           {
            "x": -0.36377597169762854,
            "y": 0.13233295758455385
           },
           {
            "x": -0.35209573078143386,
            "y": 0.12397140363451195
           },
           {
            "x": -0.3404154898652392,
            "y": 0.11588270574019076
           },
           {
            "x": -0.32873524894904493,
            "y": 0.10806686390159055
           },
           {
            "x": -0.31705500803285025,
            "y": 0.10052387811871073
           },
           {
            "x": -0.30537476711665557,
            "y": 0.09325374839155162
           },
           {
            "x": -0.2936945262004609,
            "y": 0.0862564747201132
           },
           {
            "x": -0.28201428528426664,
            "y": 0.07953205710439573
           },
           {
            "x": -0.27033404436807196,
            "y": 0.0730804955443987
           },
           {
            "x": -0.2586538034518773,
            "y": 0.06690179004012237
           },
           {
            "x": -0.24697356253568303,
            "y": 0.06099594059156694
           },
           {
            "x": -0.23529332161948835,
            "y": 0.055362947198731985
           },
           {
            "x": -0.22361308070329367,
            "y": 0.050002809861617724
           },
           {
            "x": -0.21193283978709898,
            "y": 0.044915528580224164
           },
           {
            "x": -0.20025259887090474,
            "y": 0.04010110335455148
           },
           {
            "x": -0.18857235795471006,
            "y": 0.0355595341845993
           },
           {
            "x": -0.17689211703851537,
            "y": 0.03129082107036782
           },
           {
            "x": -0.1652118761223207,
            "y": 0.027294964011857038
           },
           {
            "x": -0.15353163520612645,
            "y": 0.023571963009067085
           },
           {
            "x": -0.14185139428993176,
            "y": 0.020121818061997684
           },
           {
            "x": -0.13017115337373708,
            "y": 0.01694452917064898
           },
           {
            "x": -0.11849091245754284,
            "y": 0.01404009633502108
           },
           {
            "x": -0.10681067154134816,
            "y": 0.011408519555113761
           },
           {
            "x": -0.09513043062515347,
            "y": 0.009049798830927137
           },
           {
            "x": -0.08345018970895879,
            "y": 0.006963934162461211
           },
           {
            "x": -0.07176994879276455,
            "y": 0.005150925549716046
           },
           {
            "x": -0.060089707876569864,
            "y": 0.0036107729926915023
           },
           {
            "x": -0.04840946696037518,
            "y": 0.0023434764913876564
           },
           {
            "x": -0.03672922604418094,
            "y": 0.0013490360458045395
           },
           {
            "x": -0.025048985127986256,
            "y": 0.0006274516559420766
           },
           {
            "x": -0.013368744211791572,
            "y": 0.00017872332180031067
           },
           {
            "x": -0.0016885032955968882,
            "y": 2.8510433792415524e-06
           },
           {
            "x": 0.009991737620597352,
            "y": 9.983482067886043e-05
           },
           {
            "x": 0.021671978536792036,
            "y": 0.00046967465369917465
           },
           {
            "x": 0.03335221945298672,
            "y": 0.0011123705424401858
           },
           {
            "x": 0.045032460369181404,
            "y": 0.002027922486901894
           },
           {
            "x": 0.056712701285375644,
            "y": 0.0032163304870842483
           },
           {
            "x": 0.06839294220157033,
            "y": 0.004677594542987339
           },
           {
            "x": 0.08007318311776501,
            "y": 0.006411714654611128
           },
           {
            "x": 0.09175342403395925,
            "y": 0.008418690821955531
           },
           {
            "x": 0.10343366495015394,
            "y": 0.010698523045020702
           },
           {
            "x": 0.11511390586634862,
            "y": 0.01325121132380657
           },
           {
            "x": 0.1267941467825433,
            "y": 0.016076755658313138
           },
           {
            "x": 0.13847438769873754,
            "y": 0.019175156048540275
           },
           {
            "x": 0.15015462861493223,
            "y": 0.022546412494488223
           },
           {
            "x": 0.1618348695311269,
            "y": 0.02619052499615687
           },
           {
            "x": 0.17351511044732115,
            "y": 0.03010749355354606
           },
           {
            "x": 0.18519535136351584,
            "y": 0.034297318166656085
           },
           {
            "x": 0.19687559227971052,
            "y": 0.038759998835486816
           },
           {
            "x": 0.2085558331959052,
            "y": 0.04349553556003823
           },
           {
            "x": 0.22023607411209944,
            "y": 0.04850392834031016
           },
           {
            "x": 0.23191631502829413,
            "y": 0.05378517717630296
           },
           {
            "x": 0.2435965559444888,
            "y": 0.05933928206801647
           },
           {
            "x": 0.2552767968606835,
            "y": 0.06516624301545067
           },
           {
            "x": 0.26695703777687774,
            "y": 0.07126606001860533
           },
           {
            "x": 0.2786372786930724,
            "y": 0.07763873307748091
           },
           {
            "x": 0.2903175196092671,
            "y": 0.08428426219207719
           },
           {
            "x": 0.30199776052546135,
            "y": 0.0912026473623939
           },
           {
            "x": 0.31367800144165603,
            "y": 0.09839388858843157
           },
           {
            "x": 0.3253582423578507,
            "y": 0.10585798587018992
           },
           {
            "x": 0.3370384832740454,
            "y": 0.11359493920766899
           },
           {
            "x": 0.34871872419023964,
            "y": 0.12160474860086842
           },
           {
            "x": 0.3603989651064343,
            "y": 0.12988741404978887
           },
           {
            "x": 0.372079206022629,
            "y": 0.13844293555443
           },
           {
            "x": 0.3837594469388237,
            "y": 0.14727131311479183
           },
           {
            "x": 0.39543968785501793,
            "y": 0.156372546730874
           },
           {
            "x": 0.4071199287712126,
            "y": 0.16574663640267723
           },
           {
            "x": 0.4188001696874073,
            "y": 0.17539358213020115
           },
           {
            "x": 0.43048041060360154,
            "y": 0.18531338391344537
           },
           {
            "x": 0.4421606515197962,
            "y": 0.19550604175241068
           },
           {
            "x": 0.4538408924359909,
            "y": 0.20597155564709665
           },
           {
            "x": 0.4655211333521856,
            "y": 0.21670992559750335
           },
           {
            "x": 0.47720137426837983,
            "y": 0.22772115160363032
           },
           {
            "x": 0.4888816151845745,
            "y": 0.2390052336654784
           },
           {
            "x": 0.5005618561007692,
            "y": 0.2505621717830472
           },
           {
            "x": 0.5122420970169634,
            "y": 0.2623919659563362
           },
           {
            "x": 0.5239223379331581,
            "y": 0.2744946161853463
           },
           {
            "x": 0.5356025788493528,
            "y": 0.2868701224700772
           },
           {
            "x": 0.5472828197655475,
            "y": 0.29951848481052873
           },
           {
            "x": 0.5589630606817417,
            "y": 0.3124397032067005
           },
           {
            "x": 0.5706433015979364,
            "y": 0.3256337776585934
           },
           {
            "x": 0.5823235425141311,
            "y": 0.339100708166207
           },
           {
            "x": 0.5940037834303258,
            "y": 0.3528404947295414
           },
           {
            "x": 0.60568402434652,
            "y": 0.36685313734859587
           },
           {
            "x": 0.6173642652627147,
            "y": 0.38113863602337156
           },
           {
            "x": 0.6290445061789094,
            "y": 0.395696990753868
           },
           {
            "x": 0.6407247470951036,
            "y": 0.4105282015400845
           },
           {
            "x": 0.6524049880112983,
            "y": 0.4256322683820223
           },
           {
            "x": 0.664085228927493,
            "y": 0.4410091912796808
           },
           {
            "x": 0.6757654698436877,
            "y": 0.45665897023305996
           },
           {
            "x": 0.6874457107598819,
            "y": 0.47258160524215925
           },
           {
            "x": 0.6991259516760766,
            "y": 0.4887770963069798
           },
           {
            "x": 0.7108061925922713,
            "y": 0.5052454434275211
           },
           {
            "x": 0.7224864335084655,
            "y": 0.5219866466037824
           },
           {
            "x": 0.7341666744246602,
            "y": 0.539000705835765
           },
           {
            "x": 0.7458469153408549,
            "y": 0.5562876211234684
           },
           {
            "x": 0.7575271562570496,
            "y": 0.5738473924668924
           },
           {
            "x": 0.7692073971732438,
            "y": 0.5916800198660365
           },
           {
            "x": 0.7808876380894385,
            "y": 0.6097855033209019
           },
           {
            "x": 0.7925678790056332,
            "y": 0.628163842831488
           },
           {
            "x": 0.8042481199218279,
            "y": 0.6468150383977949
           },
           {
            "x": 0.8159283608380221,
            "y": 0.6657390900198216
           },
           {
            "x": 0.8276086017542168,
            "y": 0.6849359976975699
           },
           {
            "x": 0.8392888426704115,
            "y": 0.7044057614310387
           },
           {
            "x": 0.8509690835866057,
            "y": 0.7241483812202275
           },
           {
            "x": 0.8626493245028004,
            "y": 0.7441638570651379
           },
           {
            "x": 0.8743295654189951,
            "y": 0.7644521889657688
           },
           {
            "x": 0.8860098063351898,
            "y": 0.7850133769221205
           },
           {
            "x": 0.897690047251384,
            "y": 0.805847420934192
           },
           {
            "x": 0.9093702881675787,
            "y": 0.8269543210019851
           },
           {
            "x": 0.9210505290837734,
            "y": 0.8483340771254989
           },
           {
            "x": 0.9327307699999676,
            "y": 0.8699866893047326
           },
           {
            "x": 0.9444110109161623,
            "y": 0.8919121575396877
           },
           {
            "x": 0.956091251832357,
            "y": 0.9141104818303635
           },
           {
            "x": 0.9677714927485517,
            "y": 0.93658166217676
           },
           {
            "x": 0.9794517336647459,
            "y": 0.9593256985788764
           },
           {
            "x": 0.9911319745809406,
            "y": 0.9823425910367143
           },
           {
            "x": 1.0028122154971353,
            "y": 1.0056323395502729
           },
           {
            "x": 1.01449245641333,
            "y": 1.0291949441195523
           },
           {
            "x": 1.0261726973295242,
            "y": 1.0530304047445513
           },
           {
            "x": 1.037852938245719,
            "y": 1.077138721425272
           },
           {
            "x": 1.0495331791619136,
            "y": 1.1015198941617135
           },
           {
            "x": 1.0612134200781078,
            "y": 1.1261739229538745
           },
           {
            "x": 1.0728936609943025,
            "y": 1.1511008078017573
           },
           {
            "x": 1.0845739019104972,
            "y": 1.1763005487053608
           },
           {
            "x": 1.0962541428266919,
            "y": 1.201773145664685
           },
           {
            "x": 1.107934383742886,
            "y": 1.2275185986797288
           },
           {
            "x": 1.1196146246590808,
            "y": 1.2535369077504943
           },
           {
            "x": 1.1312948655752755,
            "y": 1.2798280728769806
           },
           {
            "x": 1.1429751064914697,
            "y": 1.3063920940591864
           },
           {
            "x": 1.1546553474076644,
            "y": 1.3332289712971142
           },
           {
            "x": 1.166335588323859,
            "y": 1.3603387045907624
           },
           {
            "x": 1.1780158292400538,
            "y": 1.3877212939401316
           },
           {
            "x": 1.189696070156248,
            "y": 1.4153767393452201
           },
           {
            "x": 1.2013763110724427,
            "y": 1.4433050408060306
           },
           {
            "x": 1.2130565519886374,
            "y": 1.4715061983225617
           },
           {
            "x": 1.224736792904832,
            "y": 1.4999802118948136
           },
           {
            "x": 1.2364170338210263,
            "y": 1.528727081522785
           },
           {
            "x": 1.248097274737221,
            "y": 1.5577468072064782
           },
           {
            "x": 1.2597775156534157,
            "y": 1.587039388945892
           },
           {
            "x": 1.27145775656961,
            "y": 1.6166048267410253
           },
           {
            "x": 1.2831379974858046,
            "y": 1.6464431205918806
           },
           {
            "x": 1.2948182384019988,
            "y": 1.6765542704984555
           },
           {
            "x": 1.3064984793181935,
            "y": 1.7069382764607521
           },
           {
            "x": 1.3181787202343882,
            "y": 1.7375951384787696
           },
           {
            "x": 1.3298589611505829,
            "y": 1.7685248565525076
           },
           {
            "x": 1.3415392020667776,
            "y": 1.7997274306819662
           },
           {
            "x": 1.3532194429829723,
            "y": 1.8312028608671458
           },
           {
            "x": 1.364899683899167,
            "y": 1.8629511471080458
           },
           {
            "x": 1.3765799248153607,
            "y": 1.8949722894046641
           },
           {
            "x": 1.3882601657315554,
            "y": 1.9272662877570057
           },
           {
            "x": 1.39994040664775,
            "y": 1.9598331421650679
           },
           {
            "x": 1.4116206475639448,
            "y": 1.9926728526288509
           },
           {
            "x": 1.4233008884801395,
            "y": 2.025785419148354
           },
           {
            "x": 1.4349811293963342,
            "y": 2.059170841723579
           },
           {
            "x": 1.4466613703125288,
            "y": 2.0928291203545237
           },
           {
            "x": 1.4583416112287226,
            "y": 2.126760255041187
           },
           {
            "x": 1.4700218521449173,
            "y": 2.160964245783573
           },
           {
            "x": 1.481702093061112,
            "y": 2.1954410925816803
           },
           {
            "x": 1.4933823339773067,
            "y": 2.230190795435508
           },
           {
            "x": 1.5050625748935014,
            "y": 2.2652133543450566
           },
           {
            "x": 1.516742815809696,
            "y": 2.3005087693103254
           },
           {
            "x": 1.5284230567258907,
            "y": 2.3360770403313156
           },
           {
            "x": 1.5401032976420854,
            "y": 2.371918167408026
           },
           {
            "x": 1.5517835385582792,
            "y": 2.4080321505404543
           },
           {
            "x": 1.563463779474474,
            "y": 2.4444189897286064
           },
           {
            "x": 1.5751440203906686,
            "y": 2.481078684972479
           },
           {
            "x": 1.5868242613068633,
            "y": 2.518011236272072
           },
           {
            "x": 1.598504502223058,
            "y": 2.555216643627386
           },
           {
            "x": 1.6101847431392526,
            "y": 2.592694907038421
           },
           {
            "x": 1.6218649840554473,
            "y": 2.6304460265051763
           },
           {
            "x": 1.6335452249716411,
            "y": 2.6684700020276497
           },
           {
            "x": 1.6452254658878358,
            "y": 2.7067668336058466
           },
           {
            "x": 1.6569057068040305,
            "y": 2.745336521239764
           },
           {
            "x": 1.6685859477202252,
            "y": 2.784179064929402
           },
           {
            "x": 1.6802661886364199,
            "y": 2.823294464674761
           },
           {
            "x": 1.6919464295526145,
            "y": 2.8626827204758403
           },
           {
            "x": 1.7036266704688092,
            "y": 2.9023438323326407
           },
           {
            "x": 1.715306911385003,
            "y": 2.9422778002451584
           },
           {
            "x": 1.7269871523011977,
            "y": 2.9824846242134004
           },
           {
            "x": 1.7386673932173924,
            "y": 3.0229643042373624
           },
           {
            "x": 1.750347634133587,
            "y": 3.0637168403170456
           },
           {
            "x": 1.7620278750497818,
            "y": 3.104742232452449
           },
           {
            "x": 1.7737081159659764,
            "y": 3.1460404806435736
           },
           {
            "x": 1.7853883568821711,
            "y": 3.1876115848904187
           },
           {
            "x": 1.797068597798365,
            "y": 3.2294555451929816
           },
           {
            "x": 1.8087488387145596,
            "y": 3.271572361551268
           },
           {
            "x": 1.8204290796307543,
            "y": 3.313962033965275
           },
           {
            "x": 1.832109320546949,
            "y": 3.356624562435003
           },
           {
            "x": 1.8437895614631437,
            "y": 3.3995599469604514
           },
           {
            "x": 1.8554698023793383,
            "y": 3.442768187541621
           },
           {
            "x": 1.867150043295533,
            "y": 3.486249284178511
           },
           {
            "x": 1.8788302842117277,
            "y": 3.5300032368711216
           },
           {
            "x": 1.8905105251279215,
            "y": 3.5740300456194496
           },
           {
            "x": 1.9021907660441162,
            "y": 3.6183297104235015
           },
           {
            "x": 1.9138710069603109,
            "y": 3.662902231283274
           },
           {
            "x": 1.9255512478765056,
            "y": 3.7077476081987677
           },
           {
            "x": 1.9372314887927002,
            "y": 3.752865841169982
           },
           {
            "x": 1.948911729708895,
            "y": 3.7982569301969167
           },
           {
            "x": 1.9605919706250896,
            "y": 3.843920875279572
           },
           {
            "x": 1.9722722115412834,
            "y": 3.889857676417945
           },
           {
            "x": 1.983952452457478,
            "y": 3.936067333612042
           },
           {
            "x": 1.9956326933736728,
            "y": 3.9825498468618594
           },
           {
            "x": 2.0073129342898675,
            "y": 4.029305216167398
           },
           {
            "x": 2.018993175206062,
            "y": 4.076333441528657
           },
           {
            "x": 2.030673416122257,
            "y": 4.123634522945636
           },
           {
            "x": 2.0423536570384515,
            "y": 4.171208460418336
           },
           {
            "x": 2.0540338979546453,
            "y": 4.219055253946754
           },
           {
            "x": 2.06571413887084,
            "y": 4.267174903530896
           },
           {
            "x": 2.0773943797870347,
            "y": 4.315567409170758
           },
           {
            "x": 2.0890746207032294,
            "y": 4.364232770866342
           },
           {
            "x": 2.100754861619424,
            "y": 4.413170988617646
           },
           {
            "x": 2.1124351025356187,
            "y": 4.46238206242467
           },
           {
            "x": 2.1241153434518134,
            "y": 4.511865992287415
           },
           {
            "x": 2.135795584368007,
            "y": 4.561622778205877
           },
           {
            "x": 2.147475825284202,
            "y": 4.611652420180064
           },
           {
            "x": 2.1591560662003966,
            "y": 4.661954918209971
           },
           {
            "x": 2.1708363071165913,
            "y": 4.7125302722955995
           },
           {
            "x": 2.182516548032786,
            "y": 4.763378482436948
           },
           {
            "x": 2.1941967889489806,
            "y": 4.814499548634018
           },
           {
            "x": 2.2058770298651753,
            "y": 4.865893470886808
           },
           {
            "x": 2.217557270781369,
            "y": 4.917560249195314
           },
           {
            "x": 2.229237511697564,
            "y": 4.969499883559545
           },
           {
            "x": 2.2409177526137585,
            "y": 5.021712373979498
           },
           {
            "x": 2.252597993529953,
            "y": 5.074197720455171
           },
           {
            "x": 2.264278234446148,
            "y": 5.126955922986564
           },
           {
            "x": 2.2759584753623425,
            "y": 5.179986981573679
           },
           {
            "x": 2.287638716278537,
            "y": 5.233290896216514
           },
           {
            "x": 2.299318957194732,
            "y": 5.286867666915069
           },
           {
            "x": 2.3109991981109257,
            "y": 5.340717293669342
           },
           {
            "x": 2.3226794390271204,
            "y": 5.394839776479339
           },
           {
            "x": 2.334359679943315,
            "y": 5.449235115345056
           },
           {
            "x": 2.3460399208595097,
            "y": 5.5039033102664945
           },
           {
            "x": 2.3577201617757044,
            "y": 5.558844361243654
           },
           {
            "x": 2.369400402691899,
            "y": 5.614058268276533
           },
           {
            "x": 2.381080643608094,
            "y": 5.669545031365134
           },
           {
            "x": 2.3927608845242876,
            "y": 5.725304650509451
           },
           {
            "x": 2.4044411254404823,
            "y": 5.781337125709493
           },
           {
            "x": 2.416121366356677,
            "y": 5.837642456965256
           },
           {
            "x": 2.4278016072728716,
            "y": 5.894220644276739
           },
           {
            "x": 2.4394818481890663,
            "y": 5.9510716876439425
           },
           {
            "x": 2.451162089105261,
            "y": 6.008195587066868
           },
           {
            "x": 2.4628423300214557,
            "y": 6.0655923425455125
           },
           {
            "x": 2.4745225709376495,
            "y": 6.123261954079875
           },
           {
            "x": 2.486202811853844,
            "y": 6.181204421669961
           },
           {
            "x": 2.497883052770039,
            "y": 6.239419745315769
           },
           {
            "x": 2.5095632936862335,
            "y": 6.297907925017297
           },
           {
            "x": 2.5212435346024282,
            "y": 6.356668960774546
           },
           {
            "x": 2.532923775518623,
            "y": 6.415702852587515
           },
           {
            "x": 2.5446040164348176,
            "y": 6.475009600456206
           },
           {
            "x": 2.5562842573510114,
            "y": 6.5345892043806115
           },
           {
            "x": 2.567964498267206,
            "y": 6.594441664360743
           },
           {
            "x": 2.5796447391834008,
            "y": 6.654566980396596
           },
           {
            "x": 2.5913249800995954,
            "y": 6.714965152488169
           },
           {
            "x": 2.60300522101579,
            "y": 6.775636180635463
           },
           {
            "x": 2.614685461931985,
            "y": 6.8365800648384765
           },
           {
            "x": 2.6263657028481795,
            "y": 6.897796805097212
           },
           {
            "x": 2.6380459437643733,
            "y": 6.959286401411663
           },
           {
            "x": 2.649726184680568,
            "y": 7.021048853781839
           },
           {
            "x": 2.6614064255967627,
            "y": 7.0830841622077365
           },
           {
            "x": 2.6730866665129573,
            "y": 7.145392326689355
           },
           {
            "x": 2.684766907429152,
            "y": 7.207973347226693
           },
           {
            "x": 2.6964471483453467,
            "y": 7.270827223819752
           },
           {
            "x": 2.7081273892615414,
            "y": 7.333953956468532
           },
           {
            "x": 2.719807630177736,
            "y": 7.397353545173033
           },
           {
            "x": 2.73148787109393,
            "y": 7.461025989933249
           },
           {
            "x": 2.7431681120101246,
            "y": 7.524971290749192
           },
           {
            "x": 2.7548483529263192,
            "y": 7.589189447620854
           },
           {
            "x": 2.766528593842514,
            "y": 7.653680460548237
           },
           {
            "x": 2.7782088347587086,
            "y": 7.718444329531342
           },
           {
            "x": 2.7898890756749033,
            "y": 7.783481054570166
           },
           {
            "x": 2.801569316591098,
            "y": 7.848790635664712
           },
           {
            "x": 2.8132495575072918,
            "y": 7.914373072814973
           },
           {
            "x": 2.8249297984234865,
            "y": 7.98022836602096
           },
           {
            "x": 2.836610039339681,
            "y": 8.046356515282667
           },
           {
            "x": 2.848290280255876,
            "y": 8.112757520600095
           },
           {
            "x": 2.8599705211720705,
            "y": 8.179431381973245
           },
           {
            "x": 2.871650762088265,
            "y": 8.246378099402115
           },
           {
            "x": 2.88333100300446,
            "y": 8.313597672886704
           },
           {
            "x": 2.8950112439206537,
            "y": 8.381090102427011
           },
           {
            "x": 2.9066914848368484,
            "y": 8.448855388023043
           },
           {
            "x": 2.918371725753043,
            "y": 8.516893529674794
           },
           {
            "x": 2.9300519666692377,
            "y": 8.585204527382269
           },
           {
            "x": 2.9417322075854324,
            "y": 8.653788381145462
           },
           {
            "x": 2.953412448501627,
            "y": 8.722645090964376
           },
           {
            "x": 2.965092689417822,
            "y": 8.791774656839012
           },
           {
            "x": 2.9767729303340156,
            "y": 8.861177078769362
           },
           {
            "x": 2.9884531712502103,
            "y": 8.93085235675544
           },
           {
            "x": 3.000133412166405,
            "y": 9.000800490797236
           },
           {
            "x": 3.0118136530825996,
            "y": 9.071021480894753
           },
           {
            "x": 3.0234938939987943,
            "y": 9.141515327047992
           },
           {
            "x": 3.035174134914989,
            "y": 9.212282029256952
           },
           {
            "x": 3.0468543758311837,
            "y": 9.283321587521632
           },
           {
            "x": 3.0585346167473775,
            "y": 9.354634001842028
           },
           {
            "x": 3.070214857663572,
            "y": 9.426219272218148
           },
           {
            "x": 3.081895098579767,
            "y": 9.498077398649992
           },
           {
            "x": 3.0935753394959615,
            "y": 9.570208381137554
           },
           {
            "x": 3.105255580412156,
            "y": 9.642612219680837
           },
           {
            "x": 3.116935821328351,
            "y": 9.715288914279842
           },
           {
            "x": 3.1286160622445456,
            "y": 9.788238464934567
           },
           {
            "x": 3.1402963031607403,
            "y": 9.861460871645011
           },
           {
            "x": 3.151976544076934,
            "y": 9.934956134411173
           },
           {
            "x": 3.1636567849931287,
            "y": 10.00872425323306
           },
           {
            "x": 3.1753370259093234,
            "y": 10.082765228110667
           },
           {
            "x": 3.187017266825518,
            "y": 10.157079059043996
           },
           {
            "x": 3.198697507741713,
            "y": 10.231665746033045
           },
           {
            "x": 3.2103777486579075,
            "y": 10.306525289077815
           },
           {
            "x": 3.222057989574102,
            "y": 10.381657688178304
           },
           {
            "x": 3.233738230490296,
            "y": 10.45706294333451
           },
           {
            "x": 3.2454184714064906,
            "y": 10.532741054546442
           },
           {
            "x": 3.2570987123226853,
            "y": 10.608692021814095
           },
           {
            "x": 3.26877895323888,
            "y": 10.684915845137468
           },
           {
            "x": 3.2804591941550747,
            "y": 10.761412524516562
           },
           {
            "x": 3.2921394350712694,
            "y": 10.838182059951377
           },
           {
            "x": 3.303819675987464,
            "y": 10.915224451441912
           },
           {
            "x": 3.315499916903658,
            "y": 10.992539698988162
           },
           {
            "x": 3.3271801578198525,
            "y": 11.07012780259014
           },
           {
            "x": 3.3388603987360472,
            "y": 11.147988762247836
           },
           {
            "x": 3.350540639652242,
            "y": 11.226122577961254
           },
           {
            "x": 3.3622208805684366,
            "y": 11.304529249730393
           },
           {
            "x": 3.3739011214846313,
            "y": 11.383208777555252
           },
           {
            "x": 3.385581362400826,
            "y": 11.462161161435834
           },
           {
            "x": 3.3972616033170198,
            "y": 11.541386401372128
           },
           {
            "x": 3.4089418442332144,
            "y": 11.62088449736415
           },
           {
            "x": 3.420622085149409,
            "y": 11.700655449411892
           },
           {
            "x": 3.432302326065604,
            "y": 11.780699257515355
           },
           {
            "x": 3.4439825669817985,
            "y": 11.861015921674538
           },
           {
            "x": 3.455662807897993,
            "y": 11.941605441889443
           },
           {
            "x": 3.467343048814188,
            "y": 12.022467818160068
           },
           {
            "x": 3.4790232897303826,
            "y": 12.103603050486413
           },
           {
            "x": 3.4907035306465763,
            "y": 12.185011138868473
           },
           {
            "x": 3.502383771562771,
            "y": 12.26669208330626
           },
           {
            "x": 3.5140640124789657,
            "y": 12.348645883799769
           },
           {
            "x": 3.5257442533951604,
            "y": 12.430872540348997
           },
           {
            "x": 3.537424494311355,
            "y": 12.513372052953946
           },
           {
            "x": 3.5491047352275498,
            "y": 12.596144421614616
           },
           {
            "x": 3.5607849761437445,
            "y": 12.679189646331007
           },
           {
            "x": 3.5724652170599382,
            "y": 12.762507727103111
           },
           {
            "x": 3.584145457976133,
            "y": 12.846098663930944
           },
           {
            "x": 3.5958256988923276,
            "y": 12.929962456814497
           },
           {
            "x": 3.6075059398085223,
            "y": 13.01409910575377
           },
           {
            "x": 3.619186180724717,
            "y": 13.098508610748764
           },
           {
            "x": 3.6308664216409117,
            "y": 13.183190971799478
           },
           {
            "x": 3.6425466625571064,
            "y": 13.268146188905915
           },
           {
            "x": 3.6542269034733,
            "y": 13.353374262068064
           },
           {
            "x": 3.665907144389495,
            "y": 13.438875191285941
           },
           {
            "x": 3.6775873853056895,
            "y": 13.524648976559538
           },
           {
            "x": 3.689267626221884,
            "y": 13.610695617888856
           },
           {
            "x": 3.700947867138079,
            "y": 13.697015115273896
           },
           {
            "x": 3.7126281080542736,
            "y": 13.783607468714655
           },
           {
            "x": 3.7243083489704683,
            "y": 13.870472678211135
           },
           {
            "x": 3.735988589886662,
            "y": 13.957610743763329
           },
           {
            "x": 3.7476688308028567,
            "y": 14.045021665371252
           },
           {
            "x": 3.7593490717190514,
            "y": 14.132705443034894
           },
           {
            "x": 3.771029312635246,
            "y": 14.220662076754257
           },
           {
            "x": 3.782709553551441,
            "y": 14.30889156652934
           },
           {
            "x": 3.7943897944676355,
            "y": 14.397393912360146
           },
           {
            "x": 3.80607003538383,
            "y": 14.48616911424667
           },
           {
            "x": 3.817750276300024,
            "y": 14.575217172188909
           },
           {
            "x": 3.8294305172162186,
            "y": 14.664538086186877
           },
           {
            "x": 3.8411107581324133,
            "y": 14.754131856240562
           },
           {
            "x": 3.852790999048608,
            "y": 14.84399848234997
           },
           {
            "x": 3.8644712399648027,
            "y": 14.9341379645151
           },
           {
            "x": 3.8761514808809974,
            "y": 15.02455030273595
           },
           {
            "x": 3.887831721797192,
            "y": 15.115235497012518
           },
           {
            "x": 3.8995119627133867,
            "y": 15.20619354734481
           },
           {
            "x": 3.9111922036295805,
            "y": 15.297424453732814
           },
           {
            "x": 3.922872444545775,
            "y": 15.388928216176547
           },
           {
            "x": 3.93455268546197,
            "y": 15.480704834675999
           },
           {
            "x": 3.9462329263781646,
            "y": 15.572754309231172
           },
           {
            "x": 3.9579131672943593,
            "y": 15.665076639842066
           },
           {
            "x": 3.969593408210554,
            "y": 15.757671826508682
           },
           {
            "x": 3.9812736491267486,
            "y": 15.850539869231017
           },
           {
            "x": 3.9929538900429424,
            "y": 15.943680768009067
           },
           {
            "x": 4.004634130959137,
            "y": 16.037094522842843
           },
           {
            "x": 4.016314371875332,
            "y": 16.13078113373234
           },
           {
            "x": 4.0279946127915265,
            "y": 16.22474060067756
           },
           {
            "x": 4.039674853707721,
            "y": 16.318972923678498
           },
           {
            "x": 4.051355094623916,
            "y": 16.41347810273516
           },
           {
            "x": 4.0630353355401105,
            "y": 16.50825613784754
           },
           {
            "x": 4.074715576456304,
            "y": 16.60330702901563
           },
           {
            "x": 4.086395817372499,
            "y": 16.698630776239455
           },
           {
            "x": 4.098076058288694,
            "y": 16.794227379518997
           },
           {
            "x": 4.109756299204888,
            "y": 16.89009683885426
           },
           {
            "x": 4.121436540121083,
            "y": 16.986239154245244
           },
           {
            "x": 4.133116781037278,
            "y": 17.082654325691948
           },
           {
            "x": 4.144797021953472,
            "y": 17.179342353194375
           },
           {
            "x": 4.156477262869666,
            "y": 17.27630323675251
           },
           {
            "x": 4.168157503785861,
            "y": 17.373536976366378
           },
           {
            "x": 4.179837744702056,
            "y": 17.471043572035967
           },
           {
            "x": 4.19151798561825,
            "y": 17.568823023761276
           },
           {
            "x": 4.203198226534445,
            "y": 17.666875331542304
           },
           {
            "x": 4.21487846745064,
            "y": 17.76520049537905
           },
           {
            "x": 4.226558708366834,
            "y": 17.863798515271522
           },
           {
            "x": 4.238238949283028,
            "y": 17.962669391219706
           },
           {
            "x": 4.249919190199223,
            "y": 18.06181312322362
           },
           {
            "x": 4.2615994311154175,
            "y": 18.16122971128325
           },
           {
            "x": 4.273279672031612,
            "y": 18.260919155398604
           },
           {
            "x": 4.284959912947807,
            "y": 18.360881455569675
           },
           {
            "x": 4.2966401538640016,
            "y": 18.46111661179647
           },
           {
            "x": 4.308320394780196,
            "y": 18.561624624078988
           },
           {
            "x": 4.320000635696391,
            "y": 18.66240549241722
           },
           {
            "x": 4.331680876612585,
            "y": 18.76345921681117
           },
           {
            "x": 4.343361117528779,
            "y": 18.864785797260847
           },
           {
            "x": 4.355041358444974,
            "y": 18.966385233766246
           },
           {
            "x": 4.366721599361169,
            "y": 19.068257526327365
           },
           {
            "x": 4.3784018402773635,
            "y": 19.170402674944203
           },
           {
            "x": 4.390082081193558,
            "y": 19.272820679616764
           },
           {
            "x": 4.401762322109753,
            "y": 19.375511540345045
           },
           {
            "x": 4.413442563025947,
            "y": 19.478475257129038
           },
           {
            "x": 4.425122803942141,
            "y": 19.581711829968757
           },
           {
            "x": 4.436803044858336,
            "y": 19.6852212588642
           },
           {
            "x": 4.448483285774531,
            "y": 19.789003543815365
           },
           {
            "x": 4.460163526690725,
            "y": 19.89305868482225
           },
           {
            "x": 4.47184376760692,
            "y": 19.997386681884855
           },
           {
            "x": 4.483524008523115,
            "y": 20.10198753500318
           },
           {
            "x": 4.4952042494393085,
            "y": 20.206861244177215
           },
           {
            "x": 4.506884490355503,
            "y": 20.312007809406985
           },
           {
            "x": 4.518564731271698,
            "y": 20.41742723069247
           },
           {
            "x": 4.530244972187893,
            "y": 20.52311950803368
           },
           {
            "x": 4.541925213104087,
            "y": 20.62908464143061
           },
           {
            "x": 4.553605454020282,
            "y": 20.735322630883257
           },
           {
            "x": 4.565285694936477,
            "y": 20.841833476391628
           },
           {
            "x": 4.57696593585267,
            "y": 20.94861717795571
           },
           {
            "x": 4.588646176768865,
            "y": 21.055673735575525
           },
           {
            "x": 4.60032641768506,
            "y": 21.163003149251054
           },
           {
            "x": 4.6120066586012545,
            "y": 21.27060541898231
           },
           {
            "x": 4.623686899517449,
            "y": 21.378480544769282
           },
           {
            "x": 4.635367140433644,
            "y": 21.486628526611977
           },
           {
            "x": 4.6470473813498385,
            "y": 21.59504936451039
           },
           {
            "x": 4.658727622266032,
            "y": 21.703743058464518
           },
           {
            "x": 4.670407863182227,
            "y": 21.812709608474375
           },
           {
            "x": 4.682088104098422,
            "y": 21.92194901453995
           },
           {
            "x": 4.693768345014616,
            "y": 22.03146127666125
           },
           {
            "x": 4.705448585930811,
            "y": 22.14124639483827
           },
           {
            "x": 4.717128826847006,
            "y": 22.251304369071008
           },
           {
            "x": 4.7288090677632,
            "y": 22.36163519935947
           },
           {
            "x": 4.740489308679395,
            "y": 22.47223888570365
           },
           {
            "x": 4.752169549595589,
            "y": 22.583115428103543
           },
           {
            "x": 4.763849790511784,
            "y": 22.694264826559163
           },
           {
            "x": 4.775530031427978,
            "y": 22.805687081070506
           },
           {
            "x": 4.787210272344173,
            "y": 22.91738219163757
           },
           {
            "x": 4.798890513260368,
            "y": 23.029350158260353
           },
           {
            "x": 4.810570754176562,
            "y": 23.141590980938858
           },
           {
            "x": 4.822250995092757,
            "y": 23.254104659673086
           },
           {
            "x": 4.833931236008951,
            "y": 23.366891194463022
           },
           {
            "x": 4.8456114769251455,
            "y": 23.47995058530869
           },
           {
            "x": 4.85729171784134,
            "y": 23.59328283221008
           },
           {
            "x": 4.868971958757535,
            "y": 23.706887935167185
           },
           {
            "x": 4.8806521996737295,
            "y": 23.820765894180013
           },
           {
            "x": 4.892332440589924,
            "y": 23.934916709248565
           },
           {
            "x": 4.904012681506119,
            "y": 24.049340380372836
           },
           {
            "x": 4.915692922422313,
            "y": 24.164036907552816
           },
           {
            "x": 4.927373163338507,
            "y": 24.27900629078853
           },
           {
            "x": 4.939053404254702,
            "y": 24.394248530079963
           },
           {
            "x": 4.950733645170897,
            "y": 24.509763625427116
           },
           {
            "x": 4.962413886087091,
            "y": 24.625551576829988
           },
           {
            "x": 4.974094127003286,
            "y": 24.741612384288583
           },
           {
            "x": 4.985774367919481,
            "y": 24.857946047802898
           },
           {
            "x": 4.997454608835675,
            "y": 24.974552567372925
           },
           {
            "x": 5.009134849751869,
            "y": 25.091431942998682
           },
           {
            "x": 5.020815090668064,
            "y": 25.20858417468016
           },
           {
            "x": 5.032495331584259,
            "y": 25.326009262417358
           },
           {
            "x": 5.044175572500453,
            "y": 25.443707206210277
           },
           {
            "x": 5.055855813416648,
            "y": 25.561678006058916
           },
           {
            "x": 5.067536054332843,
            "y": 25.679921661963277
           },
           {
            "x": 5.079216295249037,
            "y": 25.79843817392336
           },
           {
            "x": 5.090896536165231,
            "y": 25.91722754193915
           },
           {
            "x": 5.102576777081426,
            "y": 26.036289766010672
           },
           {
            "x": 5.114257017997621,
            "y": 26.155624846137915
           },
           {
            "x": 5.125937258913815,
            "y": 26.275232782320877
           },
           {
            "x": 5.13761749983001,
            "y": 26.395113574559563
           },
           {
            "x": 5.149297740746205,
            "y": 26.515267222853968
           },
           {
            "x": 5.160977981662399,
            "y": 26.635693727204092
           },
           {
            "x": 5.172658222578593,
            "y": 26.75639308760993
           },
           {
            "x": 5.184338463494788,
            "y": 26.877365304071496
           },
           {
            "x": 5.1960187044109825,
            "y": 26.998610376588786
           },
           {
            "x": 5.207698945327177,
            "y": 27.120128305161792
           },
           {
            "x": 5.219379186243372,
            "y": 27.24191908979052
           },
           {
            "x": 5.2310594271595665,
            "y": 27.363982730474973
           },
           {
            "x": 5.242739668075761,
            "y": 27.486319227215144
           },
           {
            "x": 5.254419908991955,
            "y": 27.608928580011025
           },
           {
            "x": 5.26610014990815,
            "y": 27.731810788862635
           },
           {
            "x": 5.277780390824344,
            "y": 27.85496585376997
           },
           {
            "x": 5.289460631740539,
            "y": 27.97839377473302
           },
           {
            "x": 5.301140872656733,
            "y": 28.102094551751787
           },
           {
            "x": 5.312821113572928,
            "y": 28.226068184826293
           },
           {
            "x": 5.324501354489122,
            "y": 28.350314673956497
           },
           {
            "x": 5.336181595405318,
            "y": 28.474834019142442
           },
           {
            "x": 5.347861836321512,
            "y": 28.59962622038409
           },
           {
            "x": 5.359542077237707,
            "y": 28.724691277681476
           },
           {
            "x": 5.371222318153901,
            "y": 28.850029191034565
           },
           {
            "x": 5.382902559070095,
            "y": 28.975639960443374
           },
           {
            "x": 5.39458279998629,
            "y": 29.101523585907923
           },
           {
            "x": 5.406263040902484,
            "y": 29.227680067428174
           },
           {
            "x": 5.41794328181868,
            "y": 29.354109405004166
           },
           {
            "x": 5.4296235227348735,
            "y": 29.480811598635857
           },
           {
            "x": 5.441303763651069,
            "y": 29.607786648323287
           },
           {
            "x": 5.452984004567263,
            "y": 29.735034554066424
           },
           {
            "x": 5.464664245483457,
            "y": 29.862555315865276
           },
           {
            "x": 5.476344486399652,
            "y": 29.990348933719872
           },
           {
            "x": 5.488024727315846,
            "y": 30.118415407630167
           },
           {
            "x": 5.499704968232042,
            "y": 30.246754737596202
           },
           {
            "x": 5.511385209148235,
            "y": 30.37536692361794
           },
           {
            "x": 5.523065450064431,
            "y": 30.504251965695413
           },
           {
            "x": 5.534745690980625,
            "y": 30.633409863828593
           },
           {
            "x": 5.5464259318968185,
            "y": 30.762840618017492
           },
           {
            "x": 5.558106172813014,
            "y": 30.892544228262132
           },
           {
            "x": 5.569786413729208,
            "y": 31.02252069456247
           },
           {
            "x": 5.5814666546454035,
            "y": 31.152770016918552
           },
           {
            "x": 5.593146895561597,
            "y": 31.283292195330333
           },
           {
            "x": 5.604827136477793,
            "y": 31.414087229797854
           },
           {
            "x": 5.616507377393987,
            "y": 31.545155120321077
           },
           {
            "x": 5.62818761831018,
            "y": 31.676495866900023
           },
           {
            "x": 5.639867859226376,
            "y": 31.808109469534706
           },
           {
            "x": 5.65154810014257,
            "y": 31.93999592822509
           },
           {
            "x": 5.663228341058765,
            "y": 32.07215524297121
           },
           {
            "x": 5.674908581974959,
            "y": 32.20458741377304
           },
           {
            "x": 5.686588822891155,
            "y": 32.337292440630605
           },
           {
            "x": 5.6982690638073485,
            "y": 32.47027032354388
           },
           {
            "x": 5.709949304723544,
            "y": 32.60352106251288
           },
           {
            "x": 5.721629545639738,
            "y": 32.737044657537595
           },
           {
            "x": 5.733309786555932,
            "y": 32.87084110861802
           },
           {
            "x": 5.744990027472127,
            "y": 33.004910415754196
           },
           {
            "x": 5.756670268388321,
            "y": 33.13925257894606
           },
           {
            "x": 5.768350509304517,
            "y": 33.273867598193675
           },
           {
            "x": 5.7800307502207104,
            "y": 33.40875547349699
           },
           {
            "x": 5.791710991136906,
            "y": 33.54391620485604
           },
           {
            "x": 5.8033912320531,
            "y": 33.6793497922708
           },
           {
            "x": 5.815071472969294,
            "y": 33.81505623574127
           },
           {
            "x": 5.826751713885489,
            "y": 33.951035535267486
           },
           {
            "x": 5.838431954801683,
            "y": 34.0872876908494
           },
           {
            "x": 5.8501121957178785,
            "y": 34.22381270248706
           },
           {
            "x": 5.861792436634072,
            "y": 34.36061057018041
           },
           {
            "x": 5.873472677550268,
            "y": 34.49768129392951
           },
           {
            "x": 5.885152918466462,
            "y": 34.63502487373431
           },
           {
            "x": 5.8968331593826555,
            "y": 34.77264130959483
           },
           {
            "x": 5.908513400298851,
            "y": 34.91053060151109
           },
           {
            "x": 5.920193641215045,
            "y": 35.04869274948305
           },
           {
            "x": 5.9318738821312404,
            "y": 35.18712775351075
           },
           {
            "x": 5.943554123047434,
            "y": 35.32583561359416
           },
           {
            "x": 5.95523436396363,
            "y": 35.464816329733296
           },
           {
            "x": 5.966914604879824,
            "y": 35.60406990192814
           },
           {
            "x": 5.978594845796017,
            "y": 35.743596330178704
           },
           {
            "x": 5.990275086712213,
            "y": 35.88339561448501
           },
           {
            "x": 6.001955327628407,
            "y": 36.02346775484702
           },
           {
            "x": 6.013635568544602,
            "y": 36.163812751264764
           },
           {
            "x": 6.025315809460796,
            "y": 36.30443060373821
           },
           {
            "x": 6.036996050376992,
            "y": 36.445321312267396
           },
           {
            "x": 6.0486762912931855,
            "y": 36.58648487685228
           },
           {
            "x": 6.060356532209379,
            "y": 36.72792129749289
           },
           {
            "x": 6.072036773125575,
            "y": 36.869630574189244
           },
           {
            "x": 6.083717014041769,
            "y": 37.01161270694129
           },
           {
            "x": 6.095397254957964,
            "y": 37.153867695749085
           },
           {
            "x": 6.107077495874158,
            "y": 37.29639554061258
           },
           {
            "x": 6.118757736790354,
            "y": 37.43919624153181
           },
           {
            "x": 6.130437977706547,
            "y": 37.58226979850674
           },
           {
            "x": 6.142118218622741,
            "y": 37.72561621153739
           },
           {
            "x": 6.153798459538937,
            "y": 37.86923548062379
           },
           {
            "x": 6.165478700455131,
            "y": 38.01312760576589
           },
           {
            "x": 6.177158941371326,
            "y": 38.15729258696372
           },
           {
            "x": 6.18883918228752,
            "y": 38.30173042421726
           },
           {
            "x": 6.2005194232037155,
            "y": 38.44644111752654
           },
           {
            "x": 6.212199664119909,
            "y": 38.59142466689151
           },
           {
            "x": 6.223879905036103,
            "y": 38.73668107231221
           },
           {
            "x": 6.235560145952299,
            "y": 38.882210333788656
           },
           {
            "x": 6.2472403868684925,
            "y": 39.02801245132079
           },
           {
            "x": 6.258920627784688,
            "y": 39.17408742490867
           },
           {
            "x": 6.270600868700882,
            "y": 39.32043525455225
           },
           {
            "x": 6.282281109617077,
            "y": 39.467055940251576
           },
           {
            "x": 6.293961350533271,
            "y": 39.613949482006596
           },
           {
            "x": 6.305641591449465,
            "y": 39.76111587981734
           },
           {
            "x": 6.317321832365661,
            "y": 39.90855513368383
           },
           {
            "x": 6.329002073281854,
            "y": 40.05626724360601
           },
           {
            "x": 6.34068231419805,
            "y": 40.20425220958394
           },
           {
            "x": 6.352362555114244,
            "y": 40.35251003161756
           },
           {
            "x": 6.364042796030439,
            "y": 40.501040709706935
           },
           {
            "x": 6.375723036946633,
            "y": 40.649844243852
           },
           {
            "x": 6.387403277862827,
            "y": 40.798920634052784
           },
           {
            "x": 6.3990835187790225,
            "y": 40.94826988030932
           },
           {
            "x": 6.410763759695216,
            "y": 41.09789198262155
           },
           {
            "x": 6.422444000611412,
            "y": 41.24778694098951
           },
           {
            "x": 6.434124241527606,
            "y": 41.39795475541319
           },
           {
            "x": 6.445804482443801,
            "y": 41.5483954258926
           },
           {
            "x": 6.457484723359995,
            "y": 41.699108952427714
           },
           {
            "x": 6.469164964276191,
            "y": 41.850095335018565
           },
           {
            "x": 6.480845205192384,
            "y": 42.00135457366512
           },
           {
            "x": 6.492525446108578,
            "y": 42.152886668367394
           },
           {
            "x": 6.504205687024774,
            "y": 42.30469161912541
           },
           {
            "x": 6.5158859279409675,
            "y": 42.45676942593912
           },
           {
            "x": 6.527566168857163,
            "y": 42.60912008880858
           },
           {
            "x": 6.539246409773357,
            "y": 42.76174360773374
           },
           {
            "x": 6.5509266506895525,
            "y": 42.91463998271464
           },
           {
            "x": 6.562606891605746,
            "y": 43.06780921375123
           },
           {
            "x": 6.57428713252194,
            "y": 43.221251300843555
           },
           {
            "x": 6.585967373438136,
            "y": 43.374966243991615
           },
           {
            "x": 6.5976476143543294,
            "y": 43.52895404319538
           },
           {
            "x": 6.609327855270525,
            "y": 43.683214698454876
           },
           {
            "x": 6.621008096186719,
            "y": 43.837748209770076
           },
           {
            "x": 6.632688337102914,
            "y": 43.99255457714102
           },
           {
            "x": 6.644368578019108,
            "y": 44.14763380056767
           },
           {
            "x": 6.656048818935302,
            "y": 44.30298588005003
           },
           {
            "x": 6.6677290598514976,
            "y": 44.45861081558814
           },
           {
            "x": 6.679409300767691,
            "y": 44.61450860718194
           },
           {
            "x": 6.691089541683887,
            "y": 44.770679254831485
           },
           {
            "x": 6.702769782600081,
            "y": 44.92712275853673
           },
           {
            "x": 6.714450023516276,
            "y": 45.083839118297725
           },
           {
            "x": 6.72613026443247,
            "y": 45.24082833411441
           },
           {
            "x": 6.737810505348664,
            "y": 45.398090405986814
           },
           {
            "x": 6.7494907462648595,
            "y": 45.55562533391497
           },
           {
            "x": 6.761170987181053,
            "y": 45.713433117898816
           },
           {
            "x": 6.772851228097249,
            "y": 45.87151375793841
           },
           {
            "x": 6.784531469013443,
            "y": 46.029867254033704
           },
           {
            "x": 6.796211709929638,
            "y": 46.188493606184736
           },
           {
            "x": 6.807891950845832,
            "y": 46.34739281439147
           },
           {
            "x": 6.819572191762026,
            "y": 46.50656487865392
           },
           {
            "x": 6.831252432678221,
            "y": 46.66600979897212
           },
           {
            "x": 6.842932673594415,
            "y": 46.82572757534601
           },
           {
            "x": 6.854612914510611,
            "y": 46.98571820777565
           },
           {
            "x": 6.8662931554268045,
            "y": 47.14598169626098
           },
           {
            "x": 6.877973396343,
            "y": 47.30651804080206
           },
           {
            "x": 6.889653637259194,
            "y": 47.46732724139884
           },
           {
            "x": 6.901333878175388,
            "y": 47.62840929805134
           },
           {
            "x": 6.913014119091583,
            "y": 47.78976421075958
           },
           {
            "x": 6.924694360007777,
            "y": 47.951391979523514
           },
           {
            "x": 6.936374600923973,
            "y": 48.1132926043432
           },
           {
            "x": 6.948054841840166,
            "y": 48.27546608521858
           },
           {
            "x": 6.959735082756362,
            "y": 48.43791242214971
           },
           {
            "x": 6.971415323672556,
            "y": 48.60063161513653
           },
           {
            "x": 6.98309556458875,
            "y": 48.763623664179065
           },
           {
            "x": 6.994775805504945,
            "y": 48.92688856927735
           },
           {
            "x": 7.006456046421139,
            "y": 49.090426330431335
           },
           {
            "x": 7.0181362873373345,
            "y": 49.25423694764107
           },
           {
            "x": 7.029816528253528,
            "y": 49.41832042090649
           },
           {
            "x": 7.041496769169724,
            "y": 49.58267675022766
           },
           {
            "x": 7.053177010085918,
            "y": 49.74730593560452
           },
           {
            "x": 7.0648572510021115,
            "y": 49.91220797703711
           },
           {
            "x": 7.076537491918307,
            "y": 50.07738287452544
           },
           {
            "x": 7.088217732834501,
            "y": 50.24283062806947
           },
           {
            "x": 7.099897973750696,
            "y": 50.40855123766924
           },
           {
            "x": 7.11157821466689,
            "y": 50.57454470332471
           },
           {
            "x": 7.123258455583086,
            "y": 50.74081102503593
           },
           {
            "x": 7.13493869649928,
            "y": 50.90735020280284
           },
           {
            "x": 7.146618937415473,
            "y": 51.07416223662547
           },
           {
            "x": 7.158299178331669,
            "y": 51.24124712650384
           },
           {
            "x": 7.169979419247863,
            "y": 51.40860487243792
           },
           {
            "x": 7.181659660164058,
            "y": 51.57623547442774
           },
           {
            "x": 7.193339901080252,
            "y": 51.74413893247325
           },
           {
            "x": 7.205020141996448,
            "y": 51.91231524657451
           },
           {
            "x": 7.2167003829126415,
            "y": 52.08076441673147
           },
           {
            "x": 7.228380623828835,
            "y": 52.24948644294414
           },
           {
            "x": 7.240060864745031,
            "y": 52.41848132521256
           },
           {
            "x": 7.251741105661225,
            "y": 52.587749063536684
           },
           {
            "x": 7.26342134657742,
            "y": 52.757289657916544
           },
           {
            "x": 7.275101587493614,
            "y": 52.9271031083521
           },
           {
            "x": 7.28678182840981,
            "y": 53.097189414843406
           },
           {
            "x": 7.298462069326003,
            "y": 53.26754857739041
           },
           {
            "x": 7.310142310242199,
            "y": 53.43818059599315
           },
           {
            "x": 7.321822551158393,
            "y": 53.60908547065159
           },
           {
            "x": 7.3335027920745866,
            "y": 53.780263201365756
           },
           {
            "x": 7.345183032990782,
            "y": 53.95171378813566
           },
           {
            "x": 7.356863273906976,
            "y": 54.123437230961265
           },
           {
            "x": 7.3685435148231715,
            "y": 54.29543352984262
           },
           {
            "x": 7.380223755739365,
            "y": 54.46770268477966
           },
           {
            "x": 7.391903996655561,
            "y": 54.64024469577245
           },
           {
            "x": 7.403584237571755,
            "y": 54.81305956282094
           },
           {
            "x": 7.4152644784879485,
            "y": 54.98614728592515
           },
           {
            "x": 7.426944719404144,
            "y": 55.1595078650851
           },
           {
            "x": 7.438624960320338,
            "y": 55.333141300300746
           },
           {
            "x": 7.450305201236533,
            "y": 55.50704759157214
           },
           {
            "x": 7.461985442152727,
            "y": 55.681226738899234
           },
           {
            "x": 7.473665683068923,
            "y": 55.855678742282066
           },
           {
            "x": 7.485345923985117,
            "y": 56.0304036017206
           },
           {
            "x": 7.49702616490131,
            "y": 56.20540131721485
           },
           {
            "x": 7.508706405817506,
            "y": 56.38067188876485
           },
           {
            "x": 7.5203866467337,
            "y": 56.55621531637054
           },
           {
            "x": 7.532066887649895,
            "y": 56.73203160003198
           },
           {
            "x": 7.543747128566089,
            "y": 56.908120739749116
           },
           {
            "x": 7.555427369482285,
            "y": 57.084482735521995
           },
           {
            "x": 7.5671076103984785,
            "y": 57.26111758735057
           },
           {
            "x": 7.578787851314672,
            "y": 57.438025295234866
           },
           {
            "x": 7.590468092230868,
            "y": 57.61520585917491
           },
           {
            "x": 7.602148333147062,
            "y": 57.79265927917065
           },
           {
            "x": 7.613828574063257,
            "y": 57.97038555522213
           },
           {
            "x": 7.625508814979451,
            "y": 58.14838468732931
           },
           {
            "x": 7.637189055895647,
            "y": 58.32665667549224
           },
           {
            "x": 7.64886929681184,
            "y": 58.50520151971086
           },
           {
            "x": 7.660549537728034,
            "y": 58.684019219985196
           },
           {
            "x": 7.67222977864423,
            "y": 58.863109776315284
           },
           {
            "x": 7.6839100195604235,
            "y": 59.04247318870107
           },
           {
            "x": 7.695590260476619,
            "y": 59.2221094571426
           },
           {
            "x": 7.707270501392813,
            "y": 59.40201858163982
           },
           {
            "x": 7.7189507423090085,
            "y": 59.582200562192796
           },
           {
            "x": 7.730630983225202,
            "y": 59.762655398801456
           },
           {
            "x": 7.742311224141396,
            "y": 59.94338309146584
           },
           {
            "x": 7.753991465057592,
            "y": 60.124383640185975
           },
           {
            "x": 7.765671705973785,
            "y": 60.305657044961805
           },
           {
            "x": 7.777351946889981,
            "y": 60.48720330579338
           },
           {
            "x": 7.789032187806175,
            "y": 60.66902242268065
           },
           {
            "x": 7.80071242872237,
            "y": 60.85111439562366
           },
           {
            "x": 7.812392669638564,
            "y": 61.03347922462237
           },
           {
            "x": 7.824072910554758,
            "y": 61.2161169096768
           },
           {
            "x": 7.8357531514709535,
            "y": 61.39902745078698
           },
           {
            "x": 7.847433392387147,
            "y": 61.58221084795285
           },
           {
            "x": 7.859113633303343,
            "y": 61.76566710117447
           },
           {
            "x": 7.870793874219537,
            "y": 61.94939621045178
           },
           {
            "x": 7.882474115135732,
            "y": 62.13339817578485
           },
           {
            "x": 7.894154356051926,
            "y": 62.3176729971736
           },
           {
            "x": 7.90583459696812,
            "y": 62.50222067461807
           },
           {
            "x": 7.917514837884315,
            "y": 62.687041208118295
           },
           {
            "x": 7.929195078800509,
            "y": 62.87213459767421
           },
           {
            "x": 7.940875319716705,
            "y": 63.05750084328588
           },
           {
            "x": 7.952555560632899,
            "y": 63.243139944953235
           },
           {
            "x": 7.964235801549094,
            "y": 63.42905190267634
           },
           {
            "x": 7.975916042465288,
            "y": 63.61523671645514
           },
           {
            "x": 7.987596283381482,
            "y": 63.80169438628966
           },
           {
            "x": 7.999276524297677,
            "y": 63.98842491217993
           },
           {
            "x": 8.010956765213871,
            "y": 64.1754282941259
           },
           {
            "x": 8.022637006130067,
            "y": 64.3627045321276
           },
           {
            "x": 8.03431724704626,
            "y": 64.550253626185
           },
           {
            "x": 8.045997487962456,
            "y": 64.73807557629816
           },
           {
            "x": 8.05767772887865,
            "y": 64.92617038246699
           },
           {
            "x": 8.069357969794845,
            "y": 65.11453804469159
           },
           {
            "x": 8.08103821071104,
            "y": 65.30317856297188
           },
           {
            "x": 8.092718451627233,
            "y": 65.49209193730788
           },
           {
            "x": 8.104398692543429,
            "y": 65.68127816769963
           },
           {
            "x": 8.116078933459622,
            "y": 65.87073725414709
           },
           {
            "x": 8.127759174375818,
            "y": 66.06046919665027
           },
           {
            "x": 8.139439415292012,
            "y": 66.25047399520916
           },
           {
            "x": 8.151119656208207,
            "y": 66.44075164982381
           },
           {
            "x": 8.162799897124401,
            "y": 66.63130216049413
           },
           {
            "x": 8.174480138040595,
            "y": 66.82212552722018
           },
           {
            "x": 8.18616037895679,
            "y": 67.01322175000199
           },
           {
            "x": 8.197840619872984,
            "y": 67.20459082883947
           },
           {
            "x": 8.20952086078918,
            "y": 67.39623276373271
           },
           {
            "x": 8.221201101705374,
            "y": 67.58814755468165
           },
           {
            "x": 8.23288134262157,
            "y": 67.78033520168633
           },
           {
            "x": 8.244561583537763,
            "y": 67.9727957047467
           },
           {
            "x": 8.256241824453957,
            "y": 68.1655290638628
           },
           {
            "x": 8.267922065370152,
            "y": 68.35853527903464
           },
           {
            "x": 8.279602306286346,
            "y": 68.55181435026218
           },
           {
            "x": 8.291282547202542,
            "y": 68.74536627754547
           },
           {
            "x": 8.302962788118736,
            "y": 68.93919106088444
           },
           {
            "x": 8.314643029034931,
            "y": 69.13328870027918
           },
           {
            "x": 8.326323269951125,
            "y": 69.3276591957296
           },
           {
            "x": 8.338003510867319,
            "y": 69.52230254723574
           },
           {
            "x": 8.349683751783514,
            "y": 69.71721875479763
           },
           {
            "x": 8.361363992699708,
            "y": 69.9124078184152
           },
           {
            "x": 8.373044233615904,
            "y": 70.10786973808854
           },
           {
            "x": 8.384724474532097,
            "y": 70.30360451381756
           },
           {
            "x": 8.396404715448293,
            "y": 70.49961214560233
           },
           {
            "x": 8.408084956364487,
            "y": 70.6958926334428
           },
           {
            "x": 8.41976519728068,
            "y": 70.89244597733898
           },
           {
            "x": 8.431445438196876,
            "y": 71.08927217729091
           },
           {
            "x": 8.44312567911307,
            "y": 71.28637123329854
           },
           {
            "x": 8.454805920029266,
            "y": 71.48374314536191
           },
           {
            "x": 8.46648616094546,
            "y": 71.68138791348099
           },
           {
            "x": 8.478166401861655,
            "y": 71.8793055376558
           },
           {
            "x": 8.489846642777849,
            "y": 72.0774960178863
           },
           {
            "x": 8.501526883694043,
            "y": 72.27595935417254
           },
           {
            "x": 8.513207124610238,
            "y": 72.47469554651452
           },
           {
            "x": 8.524887365526432,
            "y": 72.6737045949122
           },
           {
            "x": 8.536567606442627,
            "y": 72.87298649936561
           },
           {
            "x": 8.548247847358821,
            "y": 73.07254125987473
           },
           {
            "x": 8.559928088275017,
            "y": 73.27236887643959
           },
           {
            "x": 8.57160832919121,
            "y": 73.47246934906013
           },
           {
            "x": 8.583288570107404,
            "y": 73.67284267773641
           },
           {
            "x": 8.5949688110236,
            "y": 73.87348886246843
           },
           {
            "x": 8.606649051939794,
            "y": 74.07440790325614
           },
           {
            "x": 8.61832929285599,
            "y": 74.27559980009961
           },
           {
            "x": 8.630009533772183,
            "y": 74.47706455299877
           },
           {
            "x": 8.641689774688379,
            "y": 74.67880216195368
           },
           {
            "x": 8.653370015604573,
            "y": 74.88081262696429
           },
           {
            "x": 8.665050256520766,
            "y": 75.0830959480306
           },
           {
            "x": 8.676730497436962,
            "y": 75.28565212515267
           },
           {
            "x": 8.688410738353156,
            "y": 75.48848115833043
           },
           {
            "x": 8.700090979269351,
            "y": 75.69158304756394
           },
           {
            "x": 8.711771220185545,
            "y": 75.89495779285313
           },
           {
            "x": 8.72345146110174,
            "y": 76.09860539419809
           },
           {
            "x": 8.735131702017934,
            "y": 76.30252585159873
           },
           {
            "x": 8.746811942934128,
            "y": 76.5067191650551
           },
           {
            "x": 8.758492183850324,
            "y": 76.71118533456722
           },
           {
            "x": 8.770172424766518,
            "y": 76.91592436013502
           },
           {
            "x": 8.781852665682713,
            "y": 77.12093624175857
           },
           {
            "x": 8.793532906598907,
            "y": 77.32622097943782
           },
           {
            "x": 8.805213147515103,
            "y": 77.53177857317282
           },
           {
            "x": 8.816893388431296,
            "y": 77.73760902296351
           },
           {
            "x": 8.82857362934749,
            "y": 77.94371232880991
           },
           {
            "x": 8.840253870263686,
            "y": 78.15008849071208
           },
           {
            "x": 8.85193411117988,
            "y": 78.35673750866992
           },
           {
            "x": 8.863614352096075,
            "y": 78.56365938268353
           },
           {
            "x": 8.875294593012269,
            "y": 78.77085411275282
           },
           {
            "x": 8.886974833928464,
            "y": 78.97832169887786
           },
           {
            "x": 8.898655074844658,
            "y": 79.18606214105858
           },
           {
            "x": 8.910335315760854,
            "y": 79.39407543929508
           },
           {
            "x": 8.922015556677048,
            "y": 79.60236159358725
           },
           {
            "x": 8.933695797593241,
            "y": 79.81092060393514
           },
           {
            "x": 8.945376038509437,
            "y": 80.01975247033879
           },
           {
            "x": 8.95705627942563,
            "y": 80.22885719279812
           }
          ]
         },
         "encoding": {
          "x": {
           "field": "x",
           "type": "quantitative"
          },
          "y": {
           "field": "y",
           "type": "quantitative"
          }
         },
         "mark": {
          "color": "black",
          "opacity": 0.2,
          "type": "line"
         }
        },
        {
         "data": {
          "values": [
           {
            "x": 2.5494606064050673,
            "y": 0
           }
          ]
         },
         "encoding": {
          "x": {
           "field": "x",
           "type": "quantitative"
          },
          "y": {
           "field": "y",
           "type": "quantitative"
          }
         },
         "mark": {
          "color": "blue",
          "filled": true,
          "opacity": 0.9,
          "size": 200,
          "type": "point"
         }
        },
        {
         "data": {
          "values": [
           {
            "x": -0.9190558724269469,
            "y": 0.8446636966424564
           },
           {
            "x": 0.36818760137537243,
            "y": 0.13556210980655015
           },
           {
            "x": 0.7562589604702739,
            "y": 0.5719276152915792
           },
           {
            "x": 1.2045440507456198,
            "y": 1.4509263701866661
           },
           {
            "x": 5.2030413562838325,
            "y": 27.071639355199903
           },
           {
            "x": 2.7622280949536817,
            "y": 7.629904048551445
           },
           {
            "x": 3.733409433705152,
            "y": 13.938345999678626
           },
           {
            "x": 1.8230705411508046,
            "y": 3.3235861980118875
           },
           {
            "x": 3.7902846236071133,
            "y": 14.366257527952516
           },
           {
            "x": 1.7297582045119009,
            "y": 2.992063446076235
           },
           {
            "x": 2.1025776086534225,
            "y": 4.420832600410745
           },
           {
            "x": 3.7316361417268222,
            "y": 13.925108294241845
           },
           {
            "x": -0.7296425547828029,
            "y": 0.5323782577499756
           },
           {
            "x": 5.349089443716435,
            "y": 28.612757876878604
           },
           {
            "x": 2.8073118823095697,
            "y": 7.881000004556499
           },
           {
            "x": 2.3814400239443114,
            "y": 5.6712565876438825
           },
           {
            "x": 2.2133288825812683,
            "y": 4.898824742468445
           },
           {
            "x": 6.534825573207487,
            "y": 42.703945272246564
           },
           {
            "x": 6.5470005025904685,
            "y": 42.86321558091985
           },
           {
            "x": 8.695592862716047,
            "y": 75.61333523411827
           },
           {
            "x": 3.014341290469699,
            "y": 9.08625341543053
           },
           {
            "x": -0.2871840003545594,
            "y": 0.08247465005964756
           },
           {
            "x": 2.4394702493077256,
            "y": 5.951015097257497
           },
           {
            "x": 2.402631246851243,
            "y": 5.772636908345959
           },
           {
            "x": 4.315640676158427,
            "y": 18.624754445713165
           },
           {
            "x": 3.0420639179469022,
            "y": 9.254152880874457
           },
           {
            "x": 4.738464339741833,
            "y": 22.453044299005008
           },
           {
            "x": 7.1257586162684445,
            "y": 50.776435857323975
           },
           {
            "x": 5.135757361447396,
            "y": 26.376003675661124
           },
           {
            "x": 4.129609441790219,
            "y": 17.053674141722922
           },
           {
            "x": 1.9076264921801602,
            "y": 3.6390388336675827
           },
           {
            "x": 3.2251577395366127,
            "y": 10.401642444892913
           },
           {
            "x": 3.963380794704535,
            "y": 15.708387323832751
           },
           {
            "x": 0.45827118387845767,
            "y": 0.21001247797336317
           },
           {
            "x": 2.127391949415464,
            "y": 4.525796506437727
           },
           {
            "x": 3.144550428428378,
            "y": 9.888197396929094
           },
           {
            "x": 3.9893508310986863,
            "y": 15.914920053587778
           },
           {
            "x": 4.982253980071878,
            "y": 24.82285472194207
           },
           {
            "x": -1.6612609629033992,
            "y": 2.759787986866729
           },
           {
            "x": 2.97035247101651,
            "y": 8.822993802073887
           },
           {
            "x": 4.2831342151334955,
            "y": 18.345238704847223
           },
           {
            "x": 2.107350928215612,
            "y": 4.440927934651202
           },
           {
            "x": 0.3510408638332647,
            "y": 0.1232296880808047
           },
           {
            "x": 0.6050189159133375,
            "y": 0.36604788861295007
           },
           {
            "x": 0.9249673313959701,
            "y": 0.8555645641497823
           },
           {
            "x": -0.3561148652934558,
            "y": 0.12681779728297618
           },
           {
            "x": 1.164681232424953,
            "y": 1.3564823731629072
           },
           {
            "x": 0.5997183298200455,
            "y": 0.3596620751221448
           },
           {
            "x": 2.9605659569080767,
            "y": 8.764950785203036
           },
           {
            "x": 1.1370717519144615,
            "y": 1.2929321690018227
           },
           {
            "x": -0.4407999555552724,
            "y": 0.19430460081753012
           },
           {
            "x": 2.8536332111694502,
            "y": 8.143222503889268
           },
           {
            "x": 4.845403715183043,
            "y": 23.477937163109633
           },
           {
            "x": 1.2815345767544442,
            "y": 1.6423308714171923
           },
           {
            "x": 1.9022330899668938,
            "y": 3.6184907285649968
           },
           {
            "x": 3.6403084901957596,
            "y": 13.251845903791331
           },
           {
            "x": 3.8793199841879424,
            "y": 15.049123539719938
           },
           {
            "x": 3.7076558992638473,
            "y": 13.746712267346009
           },
           {
            "x": 3.2904065452843607,
            "y": 10.826775233250162
           },
           {
            "x": 4.29776137046753,
            "y": 18.47075279748294
           },
           {
            "x": 3.606575533097274,
            "y": 13.007387075935888
           },
           {
            "x": 1.0772972848473168,
            "y": 1.1605694399394009
           },
           {
            "x": 6.445627300192226,
            "y": 41.54611129298332
           },
           {
            "x": -2.711504395852735,
            "y": 7.352256088728707
           },
           {
            "x": 2.42699981157019,
            "y": 5.890328085361738
           },
           {
            "x": 1.850458126254505,
            "y": 3.4241952770213335
           },
           {
            "x": 3.972015533371834,
            "y": 15.776907397347136
           },
           {
            "x": 3.9355598476366627,
            "y": 15.488631314329911
           },
           {
            "x": 5.232588297127714,
            "y": 27.379980287237913
           },
           {
            "x": -0.8569663601267483,
            "y": 0.7343913423888877
           },
           {
            "x": 3.4951926578875243,
            "y": 12.216371715750856
           },
           {
            "x": 4.8888895117337485,
            "y": 23.90124065794025
           },
           {
            "x": 1.334353535064449,
            "y": 1.780499356538992
           },
           {
            "x": 0.6501969134080983,
            "y": 0.422756026205418
           },
           {
            "x": 0.7553266067070616,
            "y": 0.5705182827996041
           },
           {
            "x": 2.1899883421395474,
            "y": 4.7960489387071235
           },
           {
            "x": 4.565485008340512,
            "y": 20.843653361381964
           },
           {
            "x": 8.95705627942563,
            "y": 80.22885719279812
           },
           {
            "x": 2.5388438228952808,
            "y": 6.445727957053524
           },
           {
            "x": 1.1487105618819082,
            "y": 1.3195359549790493
           },
           {
            "x": 0.7230188122628511,
            "y": 0.522756202885984
           },
           {
            "x": -1.2008015691255358,
            "y": 1.441924408414349
           },
           {
            "x": 3.3216357447234044,
            "y": 11.033264020624205
           },
           {
            "x": 4.627642048921722,
            "y": 21.415070932948428
           },
           {
            "x": 0.8602861321669386,
            "y": 0.7400922291987514
           },
           {
            "x": 3.7319780929412456,
            "y": 13.927660486193377
           },
           {
            "x": 2.2806825624471125,
            "y": 5.2015129506503275
           },
           {
            "x": 0.8798422108288344,
            "y": 0.7741223159561711
           },
           {
            "x": 1.4531806974897732,
            "y": 2.1117341395568636
           },
           {
            "x": 2.2434758413959965,
            "y": 5.0331838509274744
           },
           {
            "x": 3.685685788643326,
            "y": 13.584279732607376
           },
           {
            "x": -1.820756910834997,
            "y": 3.3151557283534014
           },
           {
            "x": 2.5536322664582025,
            "y": 6.521037752296456
           },
           {
            "x": 3.4574762011937112,
            "y": 11.954141681820897
           },
           {
            "x": 2.0167207179073614,
            "y": 4.067162454036783
           },
           {
            "x": 4.457159894479601,
            "y": 19.866274324957413
           },
           {
            "x": 0.3152267751589686,
            "y": 0.09936791977712293
           },
           {
            "x": 2.7663624388147685,
            "y": 7.652761142885194
           },
           {
            "x": 1.1618912010768345,
            "y": 1.3499911631397692
           },
           {
            "x": -2.354379519323678,
            "y": 5.543102921010793
           }
          ]
         },
         "encoding": {
          "x": {
           "field": "x",
           "type": "quantitative"
          },
          "y": {
           "field": "y",
           "type": "quantitative"
          }
         },
         "mark": {
          "color": "black",
          "filled": true,
          "opacity": 0.2,
          "size": 50,
          "type": "point"
         }
        },
        {
         "data": {
          "values": [
           {
            "x": 8.95705627942563,
            "y": 0.8446636966424564
           },
           {
            "x": 8.95705627942563,
            "y": 0.13556210980655015
           },
           {
            "x": 8.95705627942563,
            "y": 0.5719276152915792
           },
           {
            "x": 8.95705627942563,
            "y": 1.4509263701866661
           },
           {
            "x": 8.95705627942563,
            "y": 27.071639355199903
           },
           {
            "x": 8.95705627942563,
            "y": 7.629904048551445
           },
           {
            "x": 8.95705627942563,
            "y": 13.938345999678626
           },
           {
            "x": 8.95705627942563,
            "y": 3.3235861980118875
           },
           {
            "x": 8.95705627942563,
            "y": 14.366257527952516
           },
           {
            "x": 8.95705627942563,
            "y": 2.992063446076235
           },
           {
            "x": 8.95705627942563,
            "y": 4.420832600410745
           },
           {
            "x": 8.95705627942563,
            "y": 13.925108294241845
           },
           {
            "x": 8.95705627942563,
            "y": 0.5323782577499756
           },
           {
            "x": 8.95705627942563,
            "y": 28.612757876878604
           },
           {
            "x": 8.95705627942563,
            "y": 7.881000004556499
           },
           {
            "x": 8.95705627942563,
            "y": 5.6712565876438825
           },
           {
            "x": 8.95705627942563,
            "y": 4.898824742468445
           },
           {
            "x": 8.95705627942563,
            "y": 42.703945272246564
           },
           {
            "x": 8.95705627942563,
            "y": 42.86321558091985
           },
           {
            "x": 8.95705627942563,
            "y": 75.61333523411827
           },
           {
            "x": 8.95705627942563,
            "y": 9.08625341543053
           },
           {
            "x": 8.95705627942563,
            "y": 0.08247465005964756
           },
           {
            "x": 8.95705627942563,
            "y": 5.951015097257497
           },
           {
            "x": 8.95705627942563,
            "y": 5.772636908345959
           },
           {
            "x": 8.95705627942563,
            "y": 18.624754445713165
           },
           {
            "x": 8.95705627942563,
            "y": 9.254152880874457
           },
           {
            "x": 8.95705627942563,
            "y": 22.453044299005008
           },
           {
            "x": 8.95705627942563,
            "y": 50.776435857323975
           },
           {
            "x": 8.95705627942563,
            "y": 26.376003675661124
           },
           {
            "x": 8.95705627942563,
            "y": 17.053674141722922
           },
           {
            "x": 8.95705627942563,
            "y": 3.6390388336675827
           },
           {
            "x": 8.95705627942563,
            "y": 10.401642444892913
           },
           {
            "x": 8.95705627942563,
            "y": 15.708387323832751
           },
           {
            "x": 8.95705627942563,
            "y": 0.21001247797336317
           },
           {
            "x": 8.95705627942563,
            "y": 4.525796506437727
           },
           {
            "x": 8.95705627942563,
            "y": 9.888197396929094
           },
           {
            "x": 8.95705627942563,
            "y": 15.914920053587778
           },
           {
            "x": 8.95705627942563,
            "y": 24.82285472194207
           },
           {
            "x": 8.95705627942563,
            "y": 2.759787986866729
           },
           {
            "x": 8.95705627942563,
            "y": 8.822993802073887
           },
           {
            "x": 8.95705627942563,
            "y": 18.345238704847223
           },
           {
            "x": 8.95705627942563,
            "y": 4.440927934651202
           },
           {
            "x": 8.95705627942563,
            "y": 0.1232296880808047
           },
           {
            "x": 8.95705627942563,
            "y": 0.36604788861295007
           },
           {
            "x": 8.95705627942563,
            "y": 0.8555645641497823
           },
           {
            "x": 8.95705627942563,
            "y": 0.12681779728297618
           },
           {
            "x": 8.95705627942563,
            "y": 1.3564823731629072
           },
           {
            "x": 8.95705627942563,
            "y": 0.3596620751221448
           },
           {
            "x": 8.95705627942563,
            "y": 8.764950785203036
           },
           {
            "x": 8.95705627942563,
            "y": 1.2929321690018227
           },
           {
            "x": 8.95705627942563,
            "y": 0.19430460081753012
           },
           {
            "x": 8.95705627942563,
            "y": 8.143222503889268
           },
           {
            "x": 8.95705627942563,
            "y": 23.477937163109633
           },
           {
            "x": 8.95705627942563,
            "y": 1.6423308714171923
           },
           {
            "x": 8.95705627942563,
            "y": 3.6184907285649968
           },
           {
            "x": 8.95705627942563,
            "y": 13.251845903791331
           },
           {
            "x": 8.95705627942563,
            "y": 15.049123539719938
           },
           {
            "x": 8.95705627942563,
            "y": 13.746712267346009
           },
           {
            "x": 8.95705627942563,
            "y": 10.826775233250162
           },
           {
            "x": 8.95705627942563,
            "y": 18.47075279748294
           },
           {
            "x": 8.95705627942563,
            "y": 13.007387075935888
           },
           {
            "x": 8.95705627942563,
            "y": 1.1605694399394009
           },
           {
            "x": 8.95705627942563,
            "y": 41.54611129298332
           },
           {
            "x": 8.95705627942563,
            "y": 7.352256088728707
           },
           {
            "x": 8.95705627942563,
            "y": 5.890328085361738
           },
           {
            "x": 8.95705627942563,
            "y": 3.4241952770213335
           },
           {
            "x": 8.95705627942563,
            "y": 15.776907397347136
           },
           {
            "x": 8.95705627942563,
            "y": 15.488631314329911
           },
           {
            "x": 8.95705627942563,
            "y": 27.379980287237913
           },
           {
            "x": 8.95705627942563,
            "y": 0.7343913423888877
           },
           {
            "x": 8.95705627942563,
            "y": 12.216371715750856
           },
           {
            "x": 8.95705627942563,
            "y": 23.90124065794025
           },
           {
            "x": 8.95705627942563,
            "y": 1.780499356538992
           },
           {
            "x": 8.95705627942563,
            "y": 0.422756026205418
           },
           {
            "x": 8.95705627942563,
            "y": 0.5705182827996041
           },
           {
            "x": 8.95705627942563,
            "y": 4.7960489387071235
           },
           {
            "x": 8.95705627942563,
            "y": 20.843653361381964
           },
           {
            "x": 8.95705627942563,
            "y": 80.22885719279812
           },
           {
            "x": 8.95705627942563,
            "y": 6.445727957053524
           },
           {
            "x": 8.95705627942563,
            "y": 1.3195359549790493
           },
           {
            "x": 8.95705627942563,
            "y": 0.522756202885984
           },
           {
            "x": 8.95705627942563,
            "y": 1.441924408414349
           },
           {
            "x": 8.95705627942563,
            "y": 11.033264020624205
           },
           {
            "x": 8.95705627942563,
            "y": 21.415070932948428
           },
           {
            "x": 8.95705627942563,
            "y": 0.7400922291987514
           },
           {
            "x": 8.95705627942563,
            "y": 13.927660486193377
           },
           {
            "x": 8.95705627942563,
            "y": 5.2015129506503275
           },
           {
            "x": 8.95705627942563,
            "y": 0.7741223159561711
           },
           {
            "x": 8.95705627942563,
            "y": 2.1117341395568636
           },
           {
            "x": 8.95705627942563,
            "y": 5.0331838509274744
           },
           {
            "x": 8.95705627942563,
            "y": 13.584279732607376
           },
           {
            "x": 8.95705627942563,
            "y": 3.3151557283534014
           },
           {
            "x": 8.95705627942563,
            "y": 6.521037752296456
           },
           {
            "x": 8.95705627942563,
            "y": 11.954141681820897
           },
           {
            "x": 8.95705627942563,
            "y": 4.067162454036783
           },
           {
            "x": 8.95705627942563,
            "y": 19.866274324957413
           },
           {
            "x": 8.95705627942563,
            "y": 0.09936791977712293
           },
           {
            "x": 8.95705627942563,
            "y": 7.652761142885194
           },
           {
            "x": 8.95705627942563,
            "y": 1.3499911631397692
           },
           {
            "x": 8.95705627942563,
            "y": 5.543102921010793
           }
          ]
         },
         "encoding": {
          "x": {
           "field": "x",
           "type": "quantitative"
          },
          "y": {
           "field": "y",
           "type": "quantitative"
          }
         },
         "mark": {
          "color": "red",
          "filled": true,
          "opacity": 0.2,
          "size": 50,
          "type": "point"
         }
        },
        {
         "data": {
          "values": [
           {
            "x": 8.95705627942563,
            "y": 11.264655207314046
           }
          ]
         },
         "encoding": {
          "x": {
           "field": "x",
           "type": "quantitative"
          },
          "y": {
           "field": "y",
           "type": "quantitative"
          }
         },
         "mark": {
          "color": "red",
          "filled": true,
          "opacity": 0.9,
          "size": 200,
          "type": "point"
         }
        },
        {
         "data": {
          "values": [
           {
            "x": 2.5494606064050673,
            "y": 11.264655207314046
           }
          ]
         },
         "encoding": {
          "x": {
           "field": "x",
           "type": "quantitative"
          },
          "y": {
           "field": "y",
           "type": "quantitative"
          }
         },
         "mark": {
          "color": "black",
          "filled": true,
          "opacity": 0.9,
          "size": 200,
          "type": "point"
         }
        },
        {
         "data": {
          "values": [
           {
            "x": 2.5494606064050673,
            "y": 11.264655207314046
           },
           {
            "x": 8.95705627942563,
            "y": 11.264655207314046
           }
          ]
         },
         "encoding": {
          "x": {
           "field": "x",
           "type": "quantitative"
          },
          "y": {
           "field": "y",
           "type": "quantitative"
          }
         },
         "mark": {
          "color": "black",
          "opacity": 0.2,
          "type": "line"
         }
        },
        {
         "data": {
          "values": [
           {
            "x": 2.5494606064050673,
            "y": 11.264655207314046
           },
           {
            "x": 2.5494606064050673,
            "y": 0
           }
          ]
         },
         "encoding": {
          "x": {
           "field": "x",
           "type": "quantitative"
          },
          "y": {
           "field": "y",
           "type": "quantitative"
          }
         },
         "mark": {
          "color": "black",
          "opacity": 0.2,
          "type": "line"
         }
        },
        {
         "data": {
          "values": [
           {
            "x": 2.5494606064050673,
            "y": 11.264655207314046
           },
           {
            "x": 2.5494606064050673,
            "y": 6.499749383611293
           }
          ]
         },
         "encoding": {
          "x": {
           "field": "x",
           "type": "quantitative"
          },
          "y": {
           "field": "y",
           "type": "quantitative"
          }
         },
         "mark": {
          "color": "black",
          "opacity": 1,
          "thickness": 100,
          "type": "line"
         }
        },
        {
         "data": {
          "values": [
           {
            "x": 2.5494606064050673,
            "y": 6.499749383611293
           }
          ]
         },
         "encoding": {
          "x": {
           "field": "x",
           "type": "quantitative"
          },
          "y": {
           "field": "y",
           "type": "quantitative"
          }
         },
         "mark": {
          "color": "black",
          "filled": true,
          "opacity": 1,
          "size": 200,
          "type": "point"
         }
        }
       ]
      },
      "image/png": "[encoded data removed]",
      "text/plain": [
       "<VegaLite 2 object>\n",
       "\n",
       "If you see this message, it means the renderer has not been properly enabled\n",
       "for the frontend that you are using. For more information, see\n",
       "https://altair-viz.github.io/user_guide/troubleshooting.html\n"
      ]
     },
     "execution_count": 122,
     "metadata": {},
     "output_type": "execute_result"
    }
   ],
   "source": [
    "import altair as alt\n",
    "from vega_datasets import data\n",
    "\n",
    "import numpy as np\n",
    "\n",
    "def make_bar_chart(size, opacity, data):\n",
    "    return alt.Chart(data).mark_bar(size=10, opacity=.2).encode(\n",
    "        x='x:Q',  # specify ordinal data\n",
    "        y='y:Q',  # specify quantitative data\n",
    "    )\n",
    "    return\n",
    "\n",
    "def make_plot(s):\n",
    "\n",
    "    def f(x):\n",
    "        return x ** 2\n",
    "\n",
    "    expected_value = f(np.mean(s))\n",
    "    expected_sq = np.mean([f(i) for i in s])\n",
    "\n",
    "\n",
    "    def make_altair_object(X, Y):\n",
    "        bi = []\n",
    "        for x, y in zip(X,Y):\n",
    "            bi.append({\"x\":x, \"y\":y})\n",
    "        return alt.Data({\"values\" : bi})\n",
    "\n",
    "    point_size = 50\n",
    "    expectation_size = 200\n",
    "    point_opacity = .2\n",
    "    expectation_opacity = .9\n",
    "    line_opacity=.2\n",
    "\n",
    "    dt = make_altair_object(s, np.zeros_like(s))\n",
    "\n",
    "    c1 = alt.Chart(dt).mark_point(size=point_size, filled=True, opacity=point_opacity).encode(\n",
    "        x='x:Q',  # specify ordinal data\n",
    "        y='y:Q',  # specify quantitative data\n",
    "    )\n",
    "\n",
    "    x = np.linspace(min(s), max(s), 1000)\n",
    "    y = [f(i) for i in x]\n",
    "    dt = make_altair_object(x, y)\n",
    "\n",
    "\n",
    "    c2 = alt.Chart(dt).mark_line(opacity=line_opacity, color=\"black\").encode(\n",
    "        x='x:Q',  # specify ordinal data\n",
    "        y='y:Q',  # specify quantitative data\n",
    "    )\n",
    "\n",
    "    dt = make_altair_object([np.mean(s)], [0])\n",
    "\n",
    "    c3 = alt.Chart(dt).mark_point(size=expectation_size, color=\"blue\", opacity=expectation_opacity, filled=True).encode(\n",
    "        x='x:Q',  # specify ordinal data\n",
    "        y='y:Q',  # specify quantitative data\n",
    "    )\n",
    "\n",
    "\n",
    "    dt = make_altair_object(X=s, Y=[f(i) for i in s])\n",
    "\n",
    "    c4 = alt.Chart(dt).mark_point(opacity=point_opacity, size=point_size, color=\"black\", filled=True).encode(\n",
    "        x='x:Q',  # specify ordinal data\n",
    "        y='y:Q',  # specify quantitative data\n",
    "    )\n",
    "\n",
    "    dt = make_altair_object(np.zeros_like(s) + np.max(x), Y=[f(i) for i in s])\n",
    "\n",
    "\n",
    "    c5 = alt.Chart(dt).mark_point(opacity=point_opacity, size=point_size, color=\"red\", filled=True).encode(\n",
    "        x='x:Q',  # specify ordinal data\n",
    "        y='y:Q',  # specify quantitative data\n",
    "    )\n",
    "\n",
    "    dt = make_altair_object([np.max(s)], [np.mean([f(i) for i in s])])\n",
    "\n",
    "    c6 = alt.Chart(dt).mark_point(opacity=expectation_opacity, size=expectation_size, color=\"red\", filled=True).encode(\n",
    "        x='x:Q',  # specify ordinal data\n",
    "        y='y:Q',  # specify quantitative data\n",
    "    )\n",
    "\n",
    "    dt = make_altair_object([np.mean(s)], [np.mean([f(i) for i in s])])\n",
    "\n",
    "    c7 = alt.Chart(dt).mark_point(opacity=expectation_opacity, size=expectation_size, color=\"black\", filled=True).encode(\n",
    "        x='x:Q',  # specify ordinal data\n",
    "        y='y:Q',  # specify quantitative data\n",
    "    )\n",
    "\n",
    "    x = [np.mean(s), np.max(s)]\n",
    "    y = [np.mean([f(i) for i in s]), np.mean([f(i) for i in s])]\n",
    "\n",
    "    dt = make_altair_object(x,y)\n",
    "\n",
    "    c8 = alt.Chart(dt).mark_line(color=\"black\", opacity=line_opacity).encode(\n",
    "        x='x:Q',  # specify ordinal data\n",
    "        y='y:Q',  # specify quantitative data\n",
    "    )\n",
    "\n",
    "    x = [np.mean(s), np.mean(s)]\n",
    "    y = [np.mean([f(i) for i in s]), 0]\n",
    "\n",
    "    dt = make_altair_object(x,y)\n",
    "\n",
    "    c9 = alt.Chart(dt).mark_line(color=\"black\", opacity=line_opacity).encode(\n",
    "        x='x:Q',  # specify ordinal data\n",
    "        y='y:Q',  # specify quantitative data\n",
    "    )\n",
    "\n",
    "    x = [np.mean(s), np.mean(s)]\n",
    "    y = [np.mean([f(i) for i in s]), f(np.mean(s))]\n",
    "\n",
    "    dt = make_altair_object(x,y)\n",
    "\n",
    "    c10 = alt.Chart(dt).mark_line(color=\"black\", opacity=1, thickness=100).encode(\n",
    "        x='x:Q',  # specify ordinal data\n",
    "        y='y:Q',  # specify quantitative data\n",
    "    )\n",
    "\n",
    "\n",
    "    x = [np.mean(s)]\n",
    "    y = [f(np.mean(s))]\n",
    "\n",
    "    dt = make_altair_object(x,y)\n",
    "\n",
    "    c11 = alt.Chart(dt).mark_point(color=\"black\", opacity=1, filled=True, size=expectation_size).encode(\n",
    "        x='x:Q',  # specify ordinal data\n",
    "        y='y:Q',  # specify quantitative data\n",
    "    )\n",
    "    \n",
    "    return c1 + c2 + c3 + c4 + c5 + c6 + c7 + c8 + c9 + c10 + c11\n",
    "\n",
    "make_plot()"
   ]
  },
  {
   "cell_type": "code",
   "execution_count": null,
   "metadata": {},
   "outputs": [],
   "source": []
  },
  {
   "cell_type": "code",
   "execution_count": null,
   "metadata": {},
   "outputs": [],
   "source": []
  },
  {
   "cell_type": "code",
   "execution_count": null,
   "metadata": {},
   "outputs": [],
   "source": []
  },
  {
   "cell_type": "markdown",
   "metadata": {},
   "source": [
    "\n",
    "### Plowing through the algebra \n",
    "\n",
    "This post is devoted to providing a visual intution for the alternate definition of variance. If you are curious about the algebra behind the definition, here is a detailed derivation as well.\n",
    "\n",
    "Starting from the definition and expanding the square we have\n",
    "\n",
    "$$Var(X) = \\mathbb{E}[(x - \\mathbb{E}[X])^2]$$\n",
    "\n",
    "$$Var(X) = \\mathbb{E}[X^2 - 2XE[X] + \\mathbb{E}[X]^2]$$\n",
    "\n",
    "From linearity of expectation we have:\n",
    "\n",
    "$$Var(X) = \\mathbb{E}[X^2]-  \\mathbb{E}[2XE[X]] +  \\mathbb{E}[\\mathbb{E}[X]^2]$$\n",
    "\n",
    "We can pull out the constants 2 and $\\mathbb{E}[X]$ from the expectation in the middle term to get:\n",
    "\n",
    "$$Var(X) = \\mathbb{E}[X^2]-  2\\mathbb{E}[X]\\mathbb{E}E[X] +  \\mathbb{E}[\\mathbb{E}[X^2]$$\n",
    "\n",
    "We can also express the middle term as $2\\mathbb{E}[X^2]$ to get\n",
    "\n",
    "$$Var(X) = \\mathbb{E}[X^2]-  2\\mathbb{E}[X^2]+  \\mathbb{E}[X^2]$$\n",
    "\n",
    "$$Var(X) = \\mathbb{E}[X^2]-  \\mathbb{E}[X^2] -  \\mathbb{E}[X^2]+  \\mathbb{E}[X^2]$$\n",
    "\n",
    "$$Var(X) = \\mathbb{E}[X^2] -   \\mathbb{E}[X^2]$$"
   ]
  }
 ],
 "metadata": {
  "kernelspec": {
   "display_name": "Python 3",
   "language": "python",
   "name": "python3"
  },
  "language_info": {
   "codemirror_mode": {
    "name": "ipython",
    "version": 3
   },
   "file_extension": ".py",
   "mimetype": "text/x-python",
   "name": "python",
   "nbconvert_exporter": "python",
   "pygments_lexer": "ipython3",
   "version": "3.6.2"
  }
 },
 "nbformat": 4,
 "nbformat_minor": 2
}
