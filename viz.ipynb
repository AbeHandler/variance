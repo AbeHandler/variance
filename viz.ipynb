{
 "cells": [
  {
   "cell_type": "markdown",
   "metadata": {},
   "source": [
    "### Visual intuition for the other definition of variance\n",
    "\n",
    "\n",
    "I always think of the [variance](https://en.wikipedia.org/wiki/Variance) of some random variable $X$ as $X$'s expected deviation from its mean, $\\mu$. That is, I think of the variance as: $Var(X) =\\mathbb{E}[(X - \\mu)^2]$. Because $\\mu$ is the expected value or average of $X$ you can also express the variance as:\n",
    "\n",
    "$$Var(X)= \\mathbb{E}[(X - \\mathbb{E}[X])^2]$$\n",
    "\n",
    "where $\\mu = \\mathbb{E}[X]$. \n",
    "\n",
    "On Wikipedia and in textbooks the variance is also sometimes defined as:\n",
    "\n",
    "$$Var(X) =\\mathbb{E}[X^2] - \\mathbb{E}[X]^2$$\n",
    "\n",
    "which is expected value of $X$ squared, minus the expected square of $X$. I never find this other definition intuitive. This is a visual demonstration of the second definition of variance. (If you are curious about the algebra, I also plow through the derivation at the end of the post).\n"
   ]
  },
  {
   "cell_type": "markdown",
   "metadata": {},
   "source": [
    "### Get some data\n",
    "\n",
    "Let's start by drawing some data from a 1 dimensional normal with some mean and some standard deviation. We'll make a histogram to visualize the data, plotted along with the actual data shown as blue dots along the x axis."
   ]
  },
  {
   "cell_type": "code",
   "execution_count": 256,
   "metadata": {},
   "outputs": [
    {
     "data": {
      "application/vnd.vegalite.v2+json": {
       "$schema": "https://vega.github.io/schema/vega-lite/v2.6.0.json",
       "config": {
        "view": {
         "height": 300,
         "width": 400
        }
       },
       "layer": [
        {
         "data": {
          "values": [
           {
            "x": -3,
            "y": 2
           },
           {
            "x": -2,
            "y": 14
           },
           {
            "x": -1,
            "y": 16
           },
           {
            "x": 0,
            "y": 28
           },
           {
            "x": 1,
            "y": 42
           },
           {
            "x": 2,
            "y": 67
           },
           {
            "x": 3,
            "y": 58
           },
           {
            "x": 4,
            "y": 33
           },
           {
            "x": 5,
            "y": 16
           },
           {
            "x": 6,
            "y": 14
           },
           {
            "x": 7,
            "y": 7
           },
           {
            "x": 8,
            "y": 0
           },
           {
            "x": 9,
            "y": 0
           }
          ]
         },
         "encoding": {
          "x": {
           "field": "x",
           "type": "quantitative"
          },
          "y": {
           "field": "y",
           "type": "quantitative"
          }
         },
         "mark": {
          "opacity": 0.2,
          "size": 10,
          "type": "bar"
         }
        },
        {
         "data": {
          "values": [
           {
            "x": 4.938193639805529,
            "y": 0
           },
           {
            "x": 4.899578378619484,
            "y": 0
           },
           {
            "x": 0.8267639992880054,
            "y": 0
           },
           {
            "x": 2.8124477744818335,
            "y": 0
           },
           {
            "x": 3.6443475769659224,
            "y": 0
           },
           {
            "x": 2.0671813462071364,
            "y": 0
           },
           {
            "x": 3.8173325162792953,
            "y": 0
           },
           {
            "x": 1.9833427152908905,
            "y": 0
           },
           {
            "x": 4.199600093697802,
            "y": 0
           },
           {
            "x": -1.6853074492307618,
            "y": 0
           },
           {
            "x": 2.6088552313260758,
            "y": 0
           },
           {
            "x": 2.3376266953025677,
            "y": 0
           },
           {
            "x": 2.895145767792634,
            "y": 0
           },
           {
            "x": 4.583174475813711,
            "y": 0
           },
           {
            "x": 3.055854133503807,
            "y": 0
           },
           {
            "x": -2.044252143677226,
            "y": 0
           },
           {
            "x": 1.3766952716894716,
            "y": 0
           },
           {
            "x": 4.844776948128544,
            "y": 0
           },
           {
            "x": 2.8053625112790743,
            "y": 0
           },
           {
            "x": 3.0266457984685817,
            "y": 0
           },
           {
            "x": 0.23009910203177153,
            "y": 0
           },
           {
            "x": 2.720966839182151,
            "y": 0
           },
           {
            "x": 4.003202585576407,
            "y": 0
           },
           {
            "x": 3.7958548033489903,
            "y": 0
           },
           {
            "x": 3.568558160599033,
            "y": 0
           },
           {
            "x": 4.102360398176825,
            "y": 0
           },
           {
            "x": 6.315932625188001,
            "y": 0
           },
           {
            "x": 7.31858348638142,
            "y": 0
           },
           {
            "x": 1.8743987658265295,
            "y": 0
           },
           {
            "x": -0.43388027924519124,
            "y": 0
           },
           {
            "x": 2.658899168541681,
            "y": 0
           },
           {
            "x": 1.5479786580288009,
            "y": 0
           },
           {
            "x": 7.300792822187572,
            "y": 0
           },
           {
            "x": 5.101519747280934,
            "y": 0
           },
           {
            "x": 4.985853553925496,
            "y": 0
           },
           {
            "x": -1.0288133640009942,
            "y": 0
           },
           {
            "x": 1.8532001153520263,
            "y": 0
           },
           {
            "x": 2.7139248615222713,
            "y": 0
           },
           {
            "x": -2.431273923896142,
            "y": 0
           },
           {
            "x": 1.8583841687993732,
            "y": 0
           },
           {
            "x": 3.374462611458143,
            "y": 0
           },
           {
            "x": 6.456498100136438,
            "y": 0
           },
           {
            "x": 6.030565456004998,
            "y": 0
           },
           {
            "x": 2.242252602280904,
            "y": 0
           },
           {
            "x": 4.975090013471297,
            "y": 0
           },
           {
            "x": 7.077250698620153,
            "y": 0
           },
           {
            "x": 1.9547811787887972,
            "y": 0
           },
           {
            "x": 5.87010054654143,
            "y": 0
           },
           {
            "x": 4.67089975989445,
            "y": 0
           },
           {
            "x": 3.609465455088192,
            "y": 0
           },
           {
            "x": 7.563693100534961,
            "y": 0
           },
           {
            "x": 3.3164525765614368,
            "y": 0
           },
           {
            "x": -1.9220579483191047,
            "y": 0
           },
           {
            "x": 0.2813849701194253,
            "y": 0
           },
           {
            "x": 1.08669320432769,
            "y": 0
           },
           {
            "x": 2.9916994874117506,
            "y": 0
           },
           {
            "x": 3.307638859023671,
            "y": 0
           },
           {
            "x": 0.671015967835574,
            "y": 0
           },
           {
            "x": -0.10968153509083889,
            "y": 0
           },
           {
            "x": 4.080994985387708,
            "y": 0
           },
           {
            "x": 2.5446885711974074,
            "y": 0
           },
           {
            "x": 4.25302591776893,
            "y": 0
           },
           {
            "x": 3.8247328932047693,
            "y": 0
           },
           {
            "x": 0.6396405180194236,
            "y": 0
           },
           {
            "x": 3.882946909245543,
            "y": 0
           },
           {
            "x": 7.69999347586365,
            "y": 0
           },
           {
            "x": 5.893792372965736,
            "y": 0
           },
           {
            "x": 0.4929593536553254,
            "y": 0
           },
           {
            "x": 0.1606323948964672,
            "y": 0
           },
           {
            "x": 6.9363512857600576,
            "y": 0
           },
           {
            "x": 2.856802615452467,
            "y": 0
           },
           {
            "x": 3.9640230556661855,
            "y": 0
           },
           {
            "x": 2.262927339194787,
            "y": 0
           },
           {
            "x": 2.2498248768348104,
            "y": 0
           },
           {
            "x": 3.031307079164109,
            "y": 0
           },
           {
            "x": 4.138629204596698,
            "y": 0
           },
           {
            "x": 1.6399141421280032,
            "y": 0
           },
           {
            "x": 2.5964477449015084,
            "y": 0
           },
           {
            "x": 3.2003108400335387,
            "y": 0
           },
           {
            "x": 1.2552595097353632,
            "y": 0
           },
           {
            "x": 5.520469373277397,
            "y": 0
           },
           {
            "x": 3.552823176584397,
            "y": 0
           },
           {
            "x": 2.3692756107818713,
            "y": 0
           },
           {
            "x": 3.0837746277495794,
            "y": 0
           },
           {
            "x": 5.832549809899424,
            "y": 0
           },
           {
            "x": 3.5071069543185867,
            "y": 0
           },
           {
            "x": -1.2836954902985487,
            "y": 0
           },
           {
            "x": 5.434994242913762,
            "y": 0
           },
           {
            "x": 1.6106727561761724,
            "y": 0
           },
           {
            "x": 0.6918949149133551,
            "y": 0
           },
           {
            "x": 3.7816694040258287,
            "y": 0
           },
           {
            "x": -1.0668865729378547,
            "y": 0
           },
           {
            "x": 2.07521135480297,
            "y": 0
           },
           {
            "x": 0.10308935564473032,
            "y": 0
           },
           {
            "x": 2.5117710942262303,
            "y": 0
           },
           {
            "x": -3.7035865283878655,
            "y": 0
           },
           {
            "x": 4.205772894619227,
            "y": 0
           },
           {
            "x": 1.9097038952321292,
            "y": 0
           },
           {
            "x": 0.3710293761559247,
            "y": 0
           },
           {
            "x": 1.2655488055580222,
            "y": 0
           },
           {
            "x": 4.325815951169352,
            "y": 0
           },
           {
            "x": 3.7362004113427694,
            "y": 0
           },
           {
            "x": 3.1940240578726344,
            "y": 0
           },
           {
            "x": -1.2938420023993538,
            "y": 0
           },
           {
            "x": 2.4927009595662533,
            "y": 0
           },
           {
            "x": 3.2711536619447323,
            "y": 0
           },
           {
            "x": 3.1511984194422764,
            "y": 0
           },
           {
            "x": 6.542692615269792,
            "y": 0
           },
           {
            "x": 2.1513356641217944,
            "y": 0
           },
           {
            "x": -1.7570706465732302,
            "y": 0
           },
           {
            "x": 3.77564877581204,
            "y": 0
           },
           {
            "x": 2.8082954265318754,
            "y": 0
           },
           {
            "x": 5.072686164153717,
            "y": 0
           },
           {
            "x": 2.015479956363558,
            "y": 0
           },
           {
            "x": 2.3569223847755603,
            "y": 0
           },
           {
            "x": 0.1439511371563018,
            "y": 0
           },
           {
            "x": 6.656993810507328,
            "y": 0
           },
           {
            "x": 3.2646052623621937,
            "y": 0
           },
           {
            "x": 1.7364257435047874,
            "y": 0
           },
           {
            "x": -1.7328492251328829,
            "y": 0
           },
           {
            "x": 4.498582948095424,
            "y": 0
           },
           {
            "x": 4.278418346365109,
            "y": 0
           },
           {
            "x": -0.6934259028282979,
            "y": 0
           },
           {
            "x": 2.901084254077336,
            "y": 0
           },
           {
            "x": -1.3529524115344067,
            "y": 0
           },
           {
            "x": 2.119165737287865,
            "y": 0
           },
           {
            "x": 1.6211465549186002,
            "y": 0
           },
           {
            "x": 1.9025680559857114,
            "y": 0
           },
           {
            "x": 0.700256832548575,
            "y": 0
           },
           {
            "x": 0.8493773094550388,
            "y": 0
           },
           {
            "x": 2.129554318884644,
            "y": 0
           },
           {
            "x": 2.2189162269911304,
            "y": 0
           },
           {
            "x": -3.2810377081176982,
            "y": 0
           },
           {
            "x": 3.7592737999460244,
            "y": 0
           },
           {
            "x": 0.4181867204252141,
            "y": 0
           },
           {
            "x": 3.9330033568745333,
            "y": 0
           },
           {
            "x": 4.038562199549163,
            "y": 0
           },
           {
            "x": 4.543547320409742,
            "y": 0
           },
           {
            "x": 6.986579514421968,
            "y": 0
           },
           {
            "x": 3.1696131638637155,
            "y": 0
           },
           {
            "x": 0.376578215492263,
            "y": 0
           },
           {
            "x": 6.545634637311658,
            "y": 0
           },
           {
            "x": 4.0304911260751854,
            "y": 0
           },
           {
            "x": 2.6909876592828743,
            "y": 0
           },
           {
            "x": 2.1958602794144992,
            "y": 0
           },
           {
            "x": -0.5026563266317123,
            "y": 0
           },
           {
            "x": 6.0988142314610005,
            "y": 0
           },
           {
            "x": -0.004692844348861858,
            "y": 0
           },
           {
            "x": 3.1331905052799427,
            "y": 0
           },
           {
            "x": 1.2166990920146945,
            "y": 0
           },
           {
            "x": 6.391478318267627,
            "y": 0
           },
           {
            "x": -0.13052505367786038,
            "y": 0
           },
           {
            "x": 2.4821593001856384,
            "y": 0
           },
           {
            "x": 2.5568427995881886,
            "y": 0
           },
           {
            "x": 0.7687208157198449,
            "y": 0
           },
           {
            "x": 6.017179195289459,
            "y": 0
           },
           {
            "x": 0.6020680312163085,
            "y": 0
           },
           {
            "x": 1.9764252953846397,
            "y": 0
           },
           {
            "x": 1.6418129320076282,
            "y": 0
           },
           {
            "x": -1.300935882950982,
            "y": 0
           },
           {
            "x": 0.2634809907843909,
            "y": 0
           },
           {
            "x": 2.7185785109900533,
            "y": 0
           },
           {
            "x": 2.4915641346482724,
            "y": 0
           },
           {
            "x": 1.821513820799995,
            "y": 0
           },
           {
            "x": 1.7038322583240413,
            "y": 0
           },
           {
            "x": 5.562156013894818,
            "y": 0
           },
           {
            "x": 2.356340226035865,
            "y": 0
           },
           {
            "x": 3.899208928919453,
            "y": 0
           },
           {
            "x": 3.1237453096709027,
            "y": 0
           },
           {
            "x": 1.650862535458043,
            "y": 0
           },
           {
            "x": 2.4833241663290013,
            "y": 0
           },
           {
            "x": 2.8090501619788277,
            "y": 0
           },
           {
            "x": 3.578902358333366,
            "y": 0
           },
           {
            "x": 1.6006747534394195,
            "y": 0
           },
           {
            "x": 7.97068943053374,
            "y": 0
           },
           {
            "x": 2.6452835313928804,
            "y": 0
           },
           {
            "x": 3.7470373509079336,
            "y": 0
           },
           {
            "x": 5.044459454336788,
            "y": 0
           },
           {
            "x": 5.048716495709916,
            "y": 0
           },
           {
            "x": 3.3068683640161716,
            "y": 0
           },
           {
            "x": 3.1316384748354995,
            "y": 0
           },
           {
            "x": 2.66955676753225,
            "y": 0
           },
           {
            "x": 0.8603921172463993,
            "y": 0
           },
           {
            "x": 6.040188875326991,
            "y": 0
           },
           {
            "x": 1.5950949336330695,
            "y": 0
           },
           {
            "x": 3.7905474115448086,
            "y": 0
           },
           {
            "x": 4.381407168856096,
            "y": 0
           },
           {
            "x": -0.1427469034187756,
            "y": 0
           },
           {
            "x": 0.6572252234700786,
            "y": 0
           },
           {
            "x": -0.5983070665015888,
            "y": 0
           },
           {
            "x": 1.328129437586852,
            "y": 0
           },
           {
            "x": 2.26789362054277,
            "y": 0
           },
           {
            "x": 1.0052121188831749,
            "y": 0
           },
           {
            "x": 0.8989448935684696,
            "y": 0
           },
           {
            "x": 3.835162384873589,
            "y": 0
           },
           {
            "x": 1.2732387201087396,
            "y": 0
           },
           {
            "x": 1.6712338811959708,
            "y": 0
           },
           {
            "x": 2.5802495403052776,
            "y": 0
           },
           {
            "x": 4.608598528662492,
            "y": 0
           },
           {
            "x": -0.6254324082259441,
            "y": 0
           },
           {
            "x": 2.2276608815515426,
            "y": 0
           },
           {
            "x": 6.220383846358377,
            "y": 0
           },
           {
            "x": 1.8536368763476392,
            "y": 0
           },
           {
            "x": 1.6845489853606823,
            "y": 0
           },
           {
            "x": 0.24487627164690418,
            "y": 0
           },
           {
            "x": 3.99494829167334,
            "y": 0
           },
           {
            "x": 2.066116714963981,
            "y": 0
           },
           {
            "x": 6.157205997373666,
            "y": 0
           },
           {
            "x": 2.6109670299819845,
            "y": 0
           },
           {
            "x": 1.345377858485708,
            "y": 0
           },
           {
            "x": 0.1777302697842833,
            "y": 0
           },
           {
            "x": 2.898037795240216,
            "y": 0
           },
           {
            "x": 2.947243794641734,
            "y": 0
           },
           {
            "x": 3.007985350156921,
            "y": 0
           },
           {
            "x": 5.55567876440192,
            "y": 0
           },
           {
            "x": 2.9981064406745213,
            "y": 0
           },
           {
            "x": 4.113489519448909,
            "y": 0
           },
           {
            "x": 4.09032469997636,
            "y": 0
           },
           {
            "x": -0.7264197145592202,
            "y": 0
           },
           {
            "x": 2.975467869396813,
            "y": 0
           },
           {
            "x": 0.4143453918666866,
            "y": 0
           },
           {
            "x": 0.93505034467337,
            "y": 0
           },
           {
            "x": 3.1590104473829768,
            "y": 0
           },
           {
            "x": 2.500406367407076,
            "y": 0
           },
           {
            "x": 5.195931289478025,
            "y": 0
           },
           {
            "x": 3.361550654300809,
            "y": 0
           },
           {
            "x": 1.846730486539168,
            "y": 0
           },
           {
            "x": 0.46982835482435226,
            "y": 0
           },
           {
            "x": 2.9646766461089684,
            "y": 0
           },
           {
            "x": 3.081406331221415,
            "y": 0
           },
           {
            "x": 2.2830319099987055,
            "y": 0
           },
           {
            "x": -3.708554363827835,
            "y": 0
           },
           {
            "x": 0.9129732708553111,
            "y": 0
           },
           {
            "x": 3.01394921238922,
            "y": 0
           },
           {
            "x": 2.7432074731977965,
            "y": 0
           },
           {
            "x": 4.509797305236611,
            "y": 0
           },
           {
            "x": 3.9696174672103384,
            "y": 0
           },
           {
            "x": 7.670525781931196,
            "y": 0
           },
           {
            "x": 3.473184968231813,
            "y": 0
           },
           {
            "x": 2.5994867426888795,
            "y": 0
           },
           {
            "x": -0.3538096655788352,
            "y": 0
           },
           {
            "x": 2.6701445495012934,
            "y": 0
           },
           {
            "x": 2.020927659000037,
            "y": 0
           },
           {
            "x": 4.417384477537351,
            "y": 0
           },
           {
            "x": 4.970663805193913,
            "y": 0
           },
           {
            "x": 3.0283962971550187,
            "y": 0
           },
           {
            "x": 3.7431030057318027,
            "y": 0
           },
           {
            "x": -0.6012380438165099,
            "y": 0
           },
           {
            "x": 2.859519140953845,
            "y": 0
           },
           {
            "x": 3.766741491874839,
            "y": 0
           },
           {
            "x": 1.4195595354369748,
            "y": 0
           },
           {
            "x": 2.921252249960081,
            "y": 0
           },
           {
            "x": 1.6916188637778131,
            "y": 0
           },
           {
            "x": -1.780367234239007,
            "y": 0
           },
           {
            "x": 1.8452657762857303,
            "y": 0
           },
           {
            "x": 4.694094334869032,
            "y": 0
           },
           {
            "x": 2.811449824773695,
            "y": 0
           },
           {
            "x": 2.7325711722762307,
            "y": 0
           },
           {
            "x": 3.58327359971317,
            "y": 0
           },
           {
            "x": 4.934590678475484,
            "y": 0
           },
           {
            "x": 2.315640473584893,
            "y": 0
           },
           {
            "x": -0.27006043448867967,
            "y": 0
           },
           {
            "x": 3.295211906508445,
            "y": 0
           },
           {
            "x": 2.4616193417999863,
            "y": 0
           },
           {
            "x": -1.1054006548663113,
            "y": 0
           },
           {
            "x": 4.3371469576679855,
            "y": 0
           },
           {
            "x": 3.2524127068829123,
            "y": 0
           },
           {
            "x": 1.5088763810850527,
            "y": 0
           },
           {
            "x": 1.835335975533315,
            "y": 0
           },
           {
            "x": 2.367075083774774,
            "y": 0
           },
           {
            "x": -0.5258753844219948,
            "y": 0
           },
           {
            "x": 0.56454376363984,
            "y": 0
           },
           {
            "x": 5.834287570244392,
            "y": 0
           },
           {
            "x": 3.9652498425709988,
            "y": 0
           },
           {
            "x": 3.501918540788459,
            "y": 0
           },
           {
            "x": 3.6342586349727624,
            "y": 0
           },
           {
            "x": 2.4836452492313468,
            "y": 0
           },
           {
            "x": 4.109315493434729,
            "y": 0
           },
           {
            "x": 1.852619622966818,
            "y": 0
           },
           {
            "x": 2.368965013769602,
            "y": 0
           },
           {
            "x": -0.8389910385597177,
            "y": 0
           },
           {
            "x": 3.1103381337467964,
            "y": 0
           },
           {
            "x": -0.39847316414040534,
            "y": 0
           },
           {
            "x": 1.4073345512671143,
            "y": 0
           },
           {
            "x": 3.844179352053827,
            "y": 0
           },
           {
            "x": 3.615464057826353,
            "y": 0
           },
           {
            "x": -1.6201539345823655,
            "y": 0
           },
           {
            "x": 1.1688964506108388,
            "y": 0
           },
           {
            "x": 2.0307861916168104,
            "y": 0
           },
           {
            "x": 2.860337969623637,
            "y": 0
           },
           {
            "x": 5.578715455741188,
            "y": 0
           },
           {
            "x": 1.317639058834002,
            "y": 0
           },
           {
            "x": 4.02707957513633,
            "y": 0
           },
           {
            "x": 5.054347651365438,
            "y": 0
           },
           {
            "x": 1.0495814357730966,
            "y": 0
           },
           {
            "x": 2.2258816838033573,
            "y": 0
           },
           {
            "x": 4.363632558951058,
            "y": 0
           },
           {
            "x": 3.4244952836738887,
            "y": 0
           },
           {
            "x": 5.349900717203695,
            "y": 0
           },
           {
            "x": -1.5509444406171449,
            "y": 0
           }
          ]
         },
         "encoding": {
          "x": {
           "field": "x",
           "type": "quantitative"
          },
          "y": {
           "field": "y",
           "type": "quantitative"
          }
         },
         "mark": {
          "opacity": 0.4,
          "size": 20,
          "type": "point"
         }
        }
       ]
      },
      "image/png": "[encoded data removed]",
      "text/plain": [
       "<VegaLite 2 object>\n",
       "\n",
       "If you see this message, it means the renderer has not been properly enabled\n",
       "for the frontend that you are using. For more information, see\n",
       "https://altair-viz.github.io/user_guide/troubleshooting.html\n"
      ]
     },
     "execution_count": 256,
     "metadata": {},
     "output_type": "execute_result"
    }
   ],
   "source": [
    "mu, sigma = 2.5, 2 # mean and standard deviation\n",
    "N = 300\n",
    "nbins = 10\n",
    "s = [o for o in np.random.normal(mu, sigma, size=N)]\n",
    "\n",
    "values, bins = np.histogram(s, bins=np.arange(-3, nbins + 1))\n",
    "\n",
    "dt = make_altair_object(bins, values)\n",
    "\n",
    "c1 = make_bar_chart(size=10, opacity=.2, data=dt)\n",
    "\n",
    "dt = make_altair_object(s, np.zeros(len(s)))\n",
    "\n",
    "x_points = alt.Chart(dt).mark_point(size=20, opacity=.4).encode(\n",
    "        x='x:Q',  # specify ordinal data\n",
    "        y='y:Q',  # specify quantitative data\n",
    "    )\n",
    "\n",
    "c1 + x_points"
   ]
  },
  {
   "cell_type": "markdown",
   "metadata": {},
   "source": [
    "If we remove the bars and plot $x_i^2$ for each datapoint $x_i$ as black dots, we have a line of black dots along the curve of $X^2$. I show each $x_i$ with a little black line leading to the corresponding value of $x_i^2$."
   ]
  },
  {
   "cell_type": "code",
   "execution_count": 259,
   "metadata": {},
   "outputs": [
    {
     "data": {
      "application/vnd.vegalite.v2+json": {
       "$schema": "https://vega.github.io/schema/vega-lite/v2.6.0.json",
       "config": {
        "view": {
         "height": 300,
         "width": 400
        }
       },
       "layer": [
        {
         "data": {
          "values": [
           {
            "x": 4.938193639805529,
            "y": 0
           },
           {
            "x": 4.938193639805529,
            "y": 24.385756424215774
           }
          ]
         },
         "encoding": {
          "x": {
           "field": "x",
           "type": "quantitative"
          },
          "y": {
           "field": "y",
           "type": "quantitative"
          }
         },
         "mark": {
          "opacity": 0.4,
          "type": "line"
         }
        },
        {
         "data": {
          "values": [
           {
            "x": 4.899578378619484,
            "y": 0
           },
           {
            "x": 4.899578378619484,
            "y": 24.005868288235533
           }
          ]
         },
         "encoding": {
          "x": {
           "field": "x",
           "type": "quantitative"
          },
          "y": {
           "field": "y",
           "type": "quantitative"
          }
         },
         "mark": {
          "opacity": 0.4,
          "type": "line"
         }
        },
        {
         "data": {
          "values": [
           {
            "x": 0.8267639992880054,
            "y": 0
           },
           {
            "x": 0.8267639992880054,
            "y": 0.683538710518697
           }
          ]
         },
         "encoding": {
          "x": {
           "field": "x",
           "type": "quantitative"
          },
          "y": {
           "field": "y",
           "type": "quantitative"
          }
         },
         "mark": {
          "opacity": 0.4,
          "type": "line"
         }
        },
        {
         "data": {
          "values": [
           {
            "x": 2.8124477744818335,
            "y": 0
           },
           {
            "x": 2.8124477744818335,
            "y": 7.909862484187818
           }
          ]
         },
         "encoding": {
          "x": {
           "field": "x",
           "type": "quantitative"
          },
          "y": {
           "field": "y",
           "type": "quantitative"
          }
         },
         "mark": {
          "opacity": 0.4,
          "type": "line"
         }
        },
        {
         "data": {
          "values": [
           {
            "x": 3.6443475769659224,
            "y": 0
           },
           {
            "x": 3.6443475769659224,
            "y": 13.281269261737389
           }
          ]
         },
         "encoding": {
          "x": {
           "field": "x",
           "type": "quantitative"
          },
          "y": {
           "field": "y",
           "type": "quantitative"
          }
         },
         "mark": {
          "opacity": 0.4,
          "type": "line"
         }
        },
        {
         "data": {
          "values": [
           {
            "x": 2.0671813462071364,
            "y": 0
           },
           {
            "x": 2.0671813462071364,
            "y": 4.273238718106749
           }
          ]
         },
         "encoding": {
          "x": {
           "field": "x",
           "type": "quantitative"
          },
          "y": {
           "field": "y",
           "type": "quantitative"
          }
         },
         "mark": {
          "opacity": 0.4,
          "type": "line"
         }
        },
        {
         "data": {
          "values": [
           {
            "x": 3.8173325162792953,
            "y": 0
           },
           {
            "x": 3.8173325162792953,
            "y": 14.572027539843216
           }
          ]
         },
         "encoding": {
          "x": {
           "field": "x",
           "type": "quantitative"
          },
          "y": {
           "field": "y",
           "type": "quantitative"
          }
         },
         "mark": {
          "opacity": 0.4,
          "type": "line"
         }
        },
        {
         "data": {
          "values": [
           {
            "x": 1.9833427152908905,
            "y": 0
           },
           {
            "x": 1.9833427152908905,
            "y": 3.933648326297442
           }
          ]
         },
         "encoding": {
          "x": {
           "field": "x",
           "type": "quantitative"
          },
          "y": {
           "field": "y",
           "type": "quantitative"
          }
         },
         "mark": {
          "opacity": 0.4,
          "type": "line"
         }
        },
        {
         "data": {
          "values": [
           {
            "x": 4.199600093697802,
            "y": 0
           },
           {
            "x": 4.199600093697802,
            "y": 17.636640946986585
           }
          ]
         },
         "encoding": {
          "x": {
           "field": "x",
           "type": "quantitative"
          },
          "y": {
           "field": "y",
           "type": "quantitative"
          }
         },
         "mark": {
          "opacity": 0.4,
          "type": "line"
         }
        },
        {
         "data": {
          "values": [
           {
            "x": -1.6853074492307618,
            "y": 0
           },
           {
            "x": -1.6853074492307618,
            "y": 2.840261198432697
           }
          ]
         },
         "encoding": {
          "x": {
           "field": "x",
           "type": "quantitative"
          },
          "y": {
           "field": "y",
           "type": "quantitative"
          }
         },
         "mark": {
          "opacity": 0.4,
          "type": "line"
         }
        },
        {
         "data": {
          "values": [
           {
            "x": 2.6088552313260758,
            "y": 0
           },
           {
            "x": 2.6088552313260758,
            "y": 6.8061256180174325
           }
          ]
         },
         "encoding": {
          "x": {
           "field": "x",
           "type": "quantitative"
          },
          "y": {
           "field": "y",
           "type": "quantitative"
          }
         },
         "mark": {
          "opacity": 0.4,
          "type": "line"
         }
        },
        {
         "data": {
          "values": [
           {
            "x": 2.3376266953025677,
            "y": 0
           },
           {
            "x": 2.3376266953025677,
            "y": 5.464498566591204
           }
          ]
         },
         "encoding": {
          "x": {
           "field": "x",
           "type": "quantitative"
          },
          "y": {
           "field": "y",
           "type": "quantitative"
          }
         },
         "mark": {
          "opacity": 0.4,
          "type": "line"
         }
        },
        {
         "data": {
          "values": [
           {
            "x": 2.895145767792634,
            "y": 0
           },
           {
            "x": 2.895145767792634,
            "y": 8.3818690167676
           }
          ]
         },
         "encoding": {
          "x": {
           "field": "x",
           "type": "quantitative"
          },
          "y": {
           "field": "y",
           "type": "quantitative"
          }
         },
         "mark": {
          "opacity": 0.4,
          "type": "line"
         }
        },
        {
         "data": {
          "values": [
           {
            "x": 4.583174475813711,
            "y": 0
           },
           {
            "x": 4.583174475813711,
            "y": 21.00548827575028
           }
          ]
         },
         "encoding": {
          "x": {
           "field": "x",
           "type": "quantitative"
          },
          "y": {
           "field": "y",
           "type": "quantitative"
          }
         },
         "mark": {
          "opacity": 0.4,
          "type": "line"
         }
        },
        {
         "data": {
          "values": [
           {
            "x": 3.055854133503807,
            "y": 0
           },
           {
            "x": 3.055854133503807,
            "y": 9.338244485252304
           }
          ]
         },
         "encoding": {
          "x": {
           "field": "x",
           "type": "quantitative"
          },
          "y": {
           "field": "y",
           "type": "quantitative"
          }
         },
         "mark": {
          "opacity": 0.4,
          "type": "line"
         }
        },
        {
         "data": {
          "values": [
           {
            "x": -2.044252143677226,
            "y": 0
           },
           {
            "x": -2.044252143677226,
            "y": 4.178966826928933
           }
          ]
         },
         "encoding": {
          "x": {
           "field": "x",
           "type": "quantitative"
          },
          "y": {
           "field": "y",
           "type": "quantitative"
          }
         },
         "mark": {
          "opacity": 0.4,
          "type": "line"
         }
        },
        {
         "data": {
          "values": [
           {
            "x": 1.3766952716894716,
            "y": 0
           },
           {
            "x": 1.3766952716894716,
            "y": 1.895289871092148
           }
          ]
         },
         "encoding": {
          "x": {
           "field": "x",
           "type": "quantitative"
          },
          "y": {
           "field": "y",
           "type": "quantitative"
          }
         },
         "mark": {
          "opacity": 0.4,
          "type": "line"
         }
        },
        {
         "data": {
          "values": [
           {
            "x": 4.844776948128544,
            "y": 0
           },
           {
            "x": 4.844776948128544,
            "y": 23.471863677117728
           }
          ]
         },
         "encoding": {
          "x": {
           "field": "x",
           "type": "quantitative"
          },
          "y": {
           "field": "y",
           "type": "quantitative"
          }
         },
         "mark": {
          "opacity": 0.4,
          "type": "line"
         }
        },
        {
         "data": {
          "values": [
           {
            "x": 2.8053625112790743,
            "y": 0
           },
           {
            "x": 2.8053625112790743,
            "y": 7.870058819690034
           }
          ]
         },
         "encoding": {
          "x": {
           "field": "x",
           "type": "quantitative"
          },
          "y": {
           "field": "y",
           "type": "quantitative"
          }
         },
         "mark": {
          "opacity": 0.4,
          "type": "line"
         }
        },
        {
         "data": {
          "values": [
           {
            "x": 3.0266457984685817,
            "y": 0
           },
           {
            "x": 3.0266457984685817,
            "y": 9.160584789387519
           }
          ]
         },
         "encoding": {
          "x": {
           "field": "x",
           "type": "quantitative"
          },
          "y": {
           "field": "y",
           "type": "quantitative"
          }
         },
         "mark": {
          "opacity": 0.4,
          "type": "line"
         }
        },
        {
         "data": {
          "values": [
           {
            "x": 0.23009910203177153,
            "y": 0
           },
           {
            "x": 0.23009910203177153,
            "y": 0.052945596755827606
           }
          ]
         },
         "encoding": {
          "x": {
           "field": "x",
           "type": "quantitative"
          },
          "y": {
           "field": "y",
           "type": "quantitative"
          }
         },
         "mark": {
          "opacity": 0.4,
          "type": "line"
         }
        },
        {
         "data": {
          "values": [
           {
            "x": 2.720966839182151,
            "y": 0
           },
           {
            "x": 2.720966839182151,
            "y": 7.403660539928906
           }
          ]
         },
         "encoding": {
          "x": {
           "field": "x",
           "type": "quantitative"
          },
          "y": {
           "field": "y",
           "type": "quantitative"
          }
         },
         "mark": {
          "opacity": 0.4,
          "type": "line"
         }
        },
        {
         "data": {
          "values": [
           {
            "x": 4.003202585576407,
            "y": 0
           },
           {
            "x": 4.003202585576407,
            "y": 16.02563094116563
           }
          ]
         },
         "encoding": {
          "x": {
           "field": "x",
           "type": "quantitative"
          },
          "y": {
           "field": "y",
           "type": "quantitative"
          }
         },
         "mark": {
          "opacity": 0.4,
          "type": "line"
         }
        },
        {
         "data": {
          "values": [
           {
            "x": 3.7958548033489903,
            "y": 0
           },
           {
            "x": 3.7958548033489903,
            "y": 14.408513688107602
           }
          ]
         },
         "encoding": {
          "x": {
           "field": "x",
           "type": "quantitative"
          },
          "y": {
           "field": "y",
           "type": "quantitative"
          }
         },
         "mark": {
          "opacity": 0.4,
          "type": "line"
         }
        },
        {
         "data": {
          "values": [
           {
            "x": 3.568558160599033,
            "y": 0
           },
           {
            "x": 3.568558160599033,
            "y": 12.734607345577954
           }
          ]
         },
         "encoding": {
          "x": {
           "field": "x",
           "type": "quantitative"
          },
          "y": {
           "field": "y",
           "type": "quantitative"
          }
         },
         "mark": {
          "opacity": 0.4,
          "type": "line"
         }
        },
        {
         "data": {
          "values": [
           {
            "x": 4.102360398176825,
            "y": 0
           },
           {
            "x": 4.102360398176825,
            "y": 16.829360836529517
           }
          ]
         },
         "encoding": {
          "x": {
           "field": "x",
           "type": "quantitative"
          },
          "y": {
           "field": "y",
           "type": "quantitative"
          }
         },
         "mark": {
          "opacity": 0.4,
          "type": "line"
         }
        },
        {
         "data": {
          "values": [
           {
            "x": 6.315932625188001,
            "y": 0
           },
           {
            "x": 6.315932625188001,
            "y": 39.891004925914196
           }
          ]
         },
         "encoding": {
          "x": {
           "field": "x",
           "type": "quantitative"
          },
          "y": {
           "field": "y",
           "type": "quantitative"
          }
         },
         "mark": {
          "opacity": 0.4,
          "type": "line"
         }
        },
        {
         "data": {
          "values": [
           {
            "x": 7.31858348638142,
            "y": 0
           },
           {
            "x": 7.31858348638142,
            "y": 53.56166424713482
           }
          ]
         },
         "encoding": {
          "x": {
           "field": "x",
           "type": "quantitative"
          },
          "y": {
           "field": "y",
           "type": "quantitative"
          }
         },
         "mark": {
          "opacity": 0.4,
          "type": "line"
         }
        },
        {
         "data": {
          "values": [
           {
            "x": 1.8743987658265295,
            "y": 0
           },
           {
            "x": 1.8743987658265295,
            "y": 3.513370733332017
           }
          ]
         },
         "encoding": {
          "x": {
           "field": "x",
           "type": "quantitative"
          },
          "y": {
           "field": "y",
           "type": "quantitative"
          }
         },
         "mark": {
          "opacity": 0.4,
          "type": "line"
         }
        },
        {
         "data": {
          "values": [
           {
            "x": -0.43388027924519124,
            "y": 0
           },
           {
            "x": -0.43388027924519124,
            "y": 0.18825209671788512
           }
          ]
         },
         "encoding": {
          "x": {
           "field": "x",
           "type": "quantitative"
          },
          "y": {
           "field": "y",
           "type": "quantitative"
          }
         },
         "mark": {
          "opacity": 0.4,
          "type": "line"
         }
        },
        {
         "data": {
          "values": [
           {
            "x": 2.658899168541681,
            "y": 0
           },
           {
            "x": 2.658899168541681,
            "y": 7.069744788471643
           }
          ]
         },
         "encoding": {
          "x": {
           "field": "x",
           "type": "quantitative"
          },
          "y": {
           "field": "y",
           "type": "quantitative"
          }
         },
         "mark": {
          "opacity": 0.4,
          "type": "line"
         }
        },
        {
         "data": {
          "values": [
           {
            "x": 1.5479786580288009,
            "y": 0
           },
           {
            "x": 1.5479786580288009,
            "y": 2.396237925712647
           }
          ]
         },
         "encoding": {
          "x": {
           "field": "x",
           "type": "quantitative"
          },
          "y": {
           "field": "y",
           "type": "quantitative"
          }
         },
         "mark": {
          "opacity": 0.4,
          "type": "line"
         }
        },
        {
         "data": {
          "values": [
           {
            "x": 7.300792822187572,
            "y": 0
           },
           {
            "x": 7.300792822187572,
            "y": 53.30157583250557
           }
          ]
         },
         "encoding": {
          "x": {
           "field": "x",
           "type": "quantitative"
          },
          "y": {
           "field": "y",
           "type": "quantitative"
          }
         },
         "mark": {
          "opacity": 0.4,
          "type": "line"
         }
        },
        {
         "data": {
          "values": [
           {
            "x": 5.101519747280934,
            "y": 0
           },
           {
            "x": 5.101519747280934,
            "y": 26.02550373189732
           }
          ]
         },
         "encoding": {
          "x": {
           "field": "x",
           "type": "quantitative"
          },
          "y": {
           "field": "y",
           "type": "quantitative"
          }
         },
         "mark": {
          "opacity": 0.4,
          "type": "line"
         }
        },
        {
         "data": {
          "values": [
           {
            "x": 4.985853553925496,
            "y": 0
           },
           {
            "x": 4.985853553925496,
            "y": 24.858735661191503
           }
          ]
         },
         "encoding": {
          "x": {
           "field": "x",
           "type": "quantitative"
          },
          "y": {
           "field": "y",
           "type": "quantitative"
          }
         },
         "mark": {
          "opacity": 0.4,
          "type": "line"
         }
        },
        {
         "data": {
          "values": [
           {
            "x": -1.0288133640009942,
            "y": 0
           },
           {
            "x": -1.0288133640009942,
            "y": 1.0584569379470423
           }
          ]
         },
         "encoding": {
          "x": {
           "field": "x",
           "type": "quantitative"
          },
          "y": {
           "field": "y",
           "type": "quantitative"
          }
         },
         "mark": {
          "opacity": 0.4,
          "type": "line"
         }
        },
        {
         "data": {
          "values": [
           {
            "x": 1.8532001153520263,
            "y": 0
           },
           {
            "x": 1.8532001153520263,
            "y": 3.434350667540764
           }
          ]
         },
         "encoding": {
          "x": {
           "field": "x",
           "type": "quantitative"
          },
          "y": {
           "field": "y",
           "type": "quantitative"
          }
         },
         "mark": {
          "opacity": 0.4,
          "type": "line"
         }
        },
        {
         "data": {
          "values": [
           {
            "x": 2.7139248615222713,
            "y": 0
           },
           {
            "x": 2.7139248615222713,
            "y": 7.36538815398868
           }
          ]
         },
         "encoding": {
          "x": {
           "field": "x",
           "type": "quantitative"
          },
          "y": {
           "field": "y",
           "type": "quantitative"
          }
         },
         "mark": {
          "opacity": 0.4,
          "type": "line"
         }
        },
        {
         "data": {
          "values": [
           {
            "x": -2.431273923896142,
            "y": 0
           },
           {
            "x": -2.431273923896142,
            "y": 5.911092893017343
           }
          ]
         },
         "encoding": {
          "x": {
           "field": "x",
           "type": "quantitative"
          },
          "y": {
           "field": "y",
           "type": "quantitative"
          }
         },
         "mark": {
          "opacity": 0.4,
          "type": "line"
         }
        },
        {
         "data": {
          "values": [
           {
            "x": 1.8583841687993732,
            "y": 0
           },
           {
            "x": 1.8583841687993732,
            "y": 3.453591718844137
           }
          ]
         },
         "encoding": {
          "x": {
           "field": "x",
           "type": "quantitative"
          },
          "y": {
           "field": "y",
           "type": "quantitative"
          }
         },
         "mark": {
          "opacity": 0.4,
          "type": "line"
         }
        },
        {
         "data": {
          "values": [
           {
            "x": 3.374462611458143,
            "y": 0
           },
           {
            "x": 3.374462611458143,
            "y": 11.38699791612891
           }
          ]
         },
         "encoding": {
          "x": {
           "field": "x",
           "type": "quantitative"
          },
          "y": {
           "field": "y",
           "type": "quantitative"
          }
         },
         "mark": {
          "opacity": 0.4,
          "type": "line"
         }
        },
        {
         "data": {
          "values": [
           {
            "x": 6.456498100136438,
            "y": 0
           },
           {
            "x": 6.456498100136438,
            "y": 41.68636771706543
           }
          ]
         },
         "encoding": {
          "x": {
           "field": "x",
           "type": "quantitative"
          },
          "y": {
           "field": "y",
           "type": "quantitative"
          }
         },
         "mark": {
          "opacity": 0.4,
          "type": "line"
         }
        },
        {
         "data": {
          "values": [
           {
            "x": 6.030565456004998,
            "y": 0
           },
           {
            "x": 6.030565456004998,
            "y": 36.367719719160775
           }
          ]
         },
         "encoding": {
          "x": {
           "field": "x",
           "type": "quantitative"
          },
          "y": {
           "field": "y",
           "type": "quantitative"
          }
         },
         "mark": {
          "opacity": 0.4,
          "type": "line"
         }
        },
        {
         "data": {
          "values": [
           {
            "x": 2.242252602280904,
            "y": 0
           },
           {
            "x": 2.242252602280904,
            "y": 5.027696732435485
           }
          ]
         },
         "encoding": {
          "x": {
           "field": "x",
           "type": "quantitative"
          },
          "y": {
           "field": "y",
           "type": "quantitative"
          }
         },
         "mark": {
          "opacity": 0.4,
          "type": "line"
         }
        },
        {
         "data": {
          "values": [
           {
            "x": 4.975090013471297,
            "y": 0
           },
           {
            "x": 4.975090013471297,
            "y": 24.751520642141827
           }
          ]
         },
         "encoding": {
          "x": {
           "field": "x",
           "type": "quantitative"
          },
          "y": {
           "field": "y",
           "type": "quantitative"
          }
         },
         "mark": {
          "opacity": 0.4,
          "type": "line"
         }
        },
        {
         "data": {
          "values": [
           {
            "x": 7.077250698620153,
            "y": 0
           },
           {
            "x": 7.077250698620153,
            "y": 50.08747745111945
           }
          ]
         },
         "encoding": {
          "x": {
           "field": "x",
           "type": "quantitative"
          },
          "y": {
           "field": "y",
           "type": "quantitative"
          }
         },
         "mark": {
          "opacity": 0.4,
          "type": "line"
         }
        },
        {
         "data": {
          "values": [
           {
            "x": 1.9547811787887972,
            "y": 0
           },
           {
            "x": 1.9547811787887972,
            "y": 3.8211694569469197
           }
          ]
         },
         "encoding": {
          "x": {
           "field": "x",
           "type": "quantitative"
          },
          "y": {
           "field": "y",
           "type": "quantitative"
          }
         },
         "mark": {
          "opacity": 0.4,
          "type": "line"
         }
        },
        {
         "data": {
          "values": [
           {
            "x": 5.87010054654143,
            "y": 0
           },
           {
            "x": 5.87010054654143,
            "y": 34.458080426505994
           }
          ]
         },
         "encoding": {
          "x": {
           "field": "x",
           "type": "quantitative"
          },
          "y": {
           "field": "y",
           "type": "quantitative"
          }
         },
         "mark": {
          "opacity": 0.4,
          "type": "line"
         }
        },
        {
         "data": {
          "values": [
           {
            "x": 4.67089975989445,
            "y": 0
           },
           {
            "x": 4.67089975989445,
            "y": 21.81730456698203
           }
          ]
         },
         "encoding": {
          "x": {
           "field": "x",
           "type": "quantitative"
          },
          "y": {
           "field": "y",
           "type": "quantitative"
          }
         },
         "mark": {
          "opacity": 0.4,
          "type": "line"
         }
        },
        {
         "data": {
          "values": [
           {
            "x": 3.609465455088192,
            "y": 0
           },
           {
            "x": 3.609465455088192,
            "y": 13.02824087147501
           }
          ]
         },
         "encoding": {
          "x": {
           "field": "x",
           "type": "quantitative"
          },
          "y": {
           "field": "y",
           "type": "quantitative"
          }
         },
         "mark": {
          "opacity": 0.4,
          "type": "line"
         }
        },
        {
         "data": {
          "values": [
           {
            "x": 7.563693100534961,
            "y": 0
           },
           {
            "x": 7.563693100534961,
            "y": 57.20945331908017
           }
          ]
         },
         "encoding": {
          "x": {
           "field": "x",
           "type": "quantitative"
          },
          "y": {
           "field": "y",
           "type": "quantitative"
          }
         },
         "mark": {
          "opacity": 0.4,
          "type": "line"
         }
        },
        {
         "data": {
          "values": [
           {
            "x": 3.3164525765614368,
            "y": 0
           },
           {
            "x": 3.3164525765614368,
            "y": 10.998857692580993
           }
          ]
         },
         "encoding": {
          "x": {
           "field": "x",
           "type": "quantitative"
          },
          "y": {
           "field": "y",
           "type": "quantitative"
          }
         },
         "mark": {
          "opacity": 0.4,
          "type": "line"
         }
        },
        {
         "data": {
          "values": [
           {
            "x": -1.9220579483191047,
            "y": 0
           },
           {
            "x": -1.9220579483191047,
            "y": 3.6943067566966463
           }
          ]
         },
         "encoding": {
          "x": {
           "field": "x",
           "type": "quantitative"
          },
          "y": {
           "field": "y",
           "type": "quantitative"
          }
         },
         "mark": {
          "opacity": 0.4,
          "type": "line"
         }
        },
        {
         "data": {
          "values": [
           {
            "x": 0.2813849701194253,
            "y": 0
           },
           {
            "x": 0.2813849701194253,
            "y": 0.07917750140910988
           }
          ]
         },
         "encoding": {
          "x": {
           "field": "x",
           "type": "quantitative"
          },
          "y": {
           "field": "y",
           "type": "quantitative"
          }
         },
         "mark": {
          "opacity": 0.4,
          "type": "line"
         }
        },
        {
         "data": {
          "values": [
           {
            "x": 1.08669320432769,
            "y": 0
           },
           {
            "x": 1.08669320432769,
            "y": 1.1809021203319827
           }
          ]
         },
         "encoding": {
          "x": {
           "field": "x",
           "type": "quantitative"
          },
          "y": {
           "field": "y",
           "type": "quantitative"
          }
         },
         "mark": {
          "opacity": 0.4,
          "type": "line"
         }
        },
        {
         "data": {
          "values": [
           {
            "x": 2.9916994874117506,
            "y": 0
           },
           {
            "x": 2.9916994874117506,
            "y": 8.950265822979732
           }
          ]
         },
         "encoding": {
          "x": {
           "field": "x",
           "type": "quantitative"
          },
          "y": {
           "field": "y",
           "type": "quantitative"
          }
         },
         "mark": {
          "opacity": 0.4,
          "type": "line"
         }
        },
        {
         "data": {
          "values": [
           {
            "x": 3.307638859023671,
            "y": 0
           },
           {
            "x": 3.307638859023671,
            "y": 10.940474821723413
           }
          ]
         },
         "encoding": {
          "x": {
           "field": "x",
           "type": "quantitative"
          },
          "y": {
           "field": "y",
           "type": "quantitative"
          }
         },
         "mark": {
          "opacity": 0.4,
          "type": "line"
         }
        },
        {
         "data": {
          "values": [
           {
            "x": 0.671015967835574,
            "y": 0
           },
           {
            "x": 0.671015967835574,
            "y": 0.45026242909031217
           }
          ]
         },
         "encoding": {
          "x": {
           "field": "x",
           "type": "quantitative"
          },
          "y": {
           "field": "y",
           "type": "quantitative"
          }
         },
         "mark": {
          "opacity": 0.4,
          "type": "line"
         }
        },
        {
         "data": {
          "values": [
           {
            "x": -0.10968153509083889,
            "y": 0
           },
           {
            "x": -0.10968153509083889,
            "y": 0.012030039139882922
           }
          ]
         },
         "encoding": {
          "x": {
           "field": "x",
           "type": "quantitative"
          },
          "y": {
           "field": "y",
           "type": "quantitative"
          }
         },
         "mark": {
          "opacity": 0.4,
          "type": "line"
         }
        },
        {
         "data": {
          "values": [
           {
            "x": 4.080994985387708,
            "y": 0
           },
           {
            "x": 4.080994985387708,
            "y": 16.654520070759617
           }
          ]
         },
         "encoding": {
          "x": {
           "field": "x",
           "type": "quantitative"
          },
          "y": {
           "field": "y",
           "type": "quantitative"
          }
         },
         "mark": {
          "opacity": 0.4,
          "type": "line"
         }
        },
        {
         "data": {
          "values": [
           {
            "x": 2.5446885711974074,
            "y": 0
           },
           {
            "x": 2.5446885711974074,
            "y": 6.4754399243827026
           }
          ]
         },
         "encoding": {
          "x": {
           "field": "x",
           "type": "quantitative"
          },
          "y": {
           "field": "y",
           "type": "quantitative"
          }
         },
         "mark": {
          "opacity": 0.4,
          "type": "line"
         }
        },
        {
         "data": {
          "values": [
           {
            "x": 4.25302591776893,
            "y": 0
           },
           {
            "x": 4.25302591776893,
            "y": 18.08822945721425
           }
          ]
         },
         "encoding": {
          "x": {
           "field": "x",
           "type": "quantitative"
          },
          "y": {
           "field": "y",
           "type": "quantitative"
          }
         },
         "mark": {
          "opacity": 0.4,
          "type": "line"
         }
        },
        {
         "data": {
          "values": [
           {
            "x": 3.8247328932047693,
            "y": 0
           },
           {
            "x": 3.8247328932047693,
            "y": 14.628581704362524
           }
          ]
         },
         "encoding": {
          "x": {
           "field": "x",
           "type": "quantitative"
          },
          "y": {
           "field": "y",
           "type": "quantitative"
          }
         },
         "mark": {
          "opacity": 0.4,
          "type": "line"
         }
        },
        {
         "data": {
          "values": [
           {
            "x": 0.6396405180194236,
            "y": 0
           },
           {
            "x": 0.6396405180194236,
            "y": 0.40913999229215653
           }
          ]
         },
         "encoding": {
          "x": {
           "field": "x",
           "type": "quantitative"
          },
          "y": {
           "field": "y",
           "type": "quantitative"
          }
         },
         "mark": {
          "opacity": 0.4,
          "type": "line"
         }
        },
        {
         "data": {
          "values": [
           {
            "x": 3.882946909245543,
            "y": 0
           },
           {
            "x": 3.882946909245543,
            "y": 15.077276700019514
           }
          ]
         },
         "encoding": {
          "x": {
           "field": "x",
           "type": "quantitative"
          },
          "y": {
           "field": "y",
           "type": "quantitative"
          }
         },
         "mark": {
          "opacity": 0.4,
          "type": "line"
         }
        },
        {
         "data": {
          "values": [
           {
            "x": 7.69999347586365,
            "y": 0
           },
           {
            "x": 7.69999347586365,
            "y": 59.28989952834277
           }
          ]
         },
         "encoding": {
          "x": {
           "field": "x",
           "type": "quantitative"
          },
          "y": {
           "field": "y",
           "type": "quantitative"
          }
         },
         "mark": {
          "opacity": 0.4,
          "type": "line"
         }
        },
        {
         "data": {
          "values": [
           {
            "x": 5.893792372965736,
            "y": 0
           },
           {
            "x": 5.893792372965736,
            "y": 34.73678853562908
           }
          ]
         },
         "encoding": {
          "x": {
           "field": "x",
           "type": "quantitative"
          },
          "y": {
           "field": "y",
           "type": "quantitative"
          }
         },
         "mark": {
          "opacity": 0.4,
          "type": "line"
         }
        },
        {
         "data": {
          "values": [
           {
            "x": 0.4929593536553254,
            "y": 0
           },
           {
            "x": 0.4929593536553254,
            "y": 0.24300892435627616
           }
          ]
         },
         "encoding": {
          "x": {
           "field": "x",
           "type": "quantitative"
          },
          "y": {
           "field": "y",
           "type": "quantitative"
          }
         },
         "mark": {
          "opacity": 0.4,
          "type": "line"
         }
        },
        {
         "data": {
          "values": [
           {
            "x": 0.1606323948964672,
            "y": 0
           },
           {
            "x": 0.1606323948964672,
            "y": 0.02580276629017458
           }
          ]
         },
         "encoding": {
          "x": {
           "field": "x",
           "type": "quantitative"
          },
          "y": {
           "field": "y",
           "type": "quantitative"
          }
         },
         "mark": {
          "opacity": 0.4,
          "type": "line"
         }
        },
        {
         "data": {
          "values": [
           {
            "x": 6.9363512857600576,
            "y": 0
           },
           {
            "x": 6.9363512857600576,
            "y": 48.1129691594652
           }
          ]
         },
         "encoding": {
          "x": {
           "field": "x",
           "type": "quantitative"
          },
          "y": {
           "field": "y",
           "type": "quantitative"
          }
         },
         "mark": {
          "opacity": 0.4,
          "type": "line"
         }
        },
        {
         "data": {
          "values": [
           {
            "x": 2.856802615452467,
            "y": 0
           },
           {
            "x": 2.856802615452467,
            "y": 8.161321183656055
           }
          ]
         },
         "encoding": {
          "x": {
           "field": "x",
           "type": "quantitative"
          },
          "y": {
           "field": "y",
           "type": "quantitative"
          }
         },
         "mark": {
          "opacity": 0.4,
          "type": "line"
         }
        },
        {
         "data": {
          "values": [
           {
            "x": 3.9640230556661855,
            "y": 0
           },
           {
            "x": 3.9640230556661855,
            "y": 15.713478785853082
           }
          ]
         },
         "encoding": {
          "x": {
           "field": "x",
           "type": "quantitative"
          },
          "y": {
           "field": "y",
           "type": "quantitative"
          }
         },
         "mark": {
          "opacity": 0.4,
          "type": "line"
         }
        },
        {
         "data": {
          "values": [
           {
            "x": 2.262927339194787,
            "y": 0
           },
           {
            "x": 2.262927339194787,
            "y": 5.120840142475198
           }
          ]
         },
         "encoding": {
          "x": {
           "field": "x",
           "type": "quantitative"
          },
          "y": {
           "field": "y",
           "type": "quantitative"
          }
         },
         "mark": {
          "opacity": 0.4,
          "type": "line"
         }
        },
        {
         "data": {
          "values": [
           {
            "x": 2.2498248768348104,
            "y": 0
           },
           {
            "x": 2.2498248768348104,
            "y": 5.061711976424769
           }
          ]
         },
         "encoding": {
          "x": {
           "field": "x",
           "type": "quantitative"
          },
          "y": {
           "field": "y",
           "type": "quantitative"
          }
         },
         "mark": {
          "opacity": 0.4,
          "type": "line"
         }
        },
        {
         "data": {
          "values": [
           {
            "x": 3.031307079164109,
            "y": 0
           },
           {
            "x": 3.031307079164109,
            "y": 9.188822608190442
           }
          ]
         },
         "encoding": {
          "x": {
           "field": "x",
           "type": "quantitative"
          },
          "y": {
           "field": "y",
           "type": "quantitative"
          }
         },
         "mark": {
          "opacity": 0.4,
          "type": "line"
         }
        },
        {
         "data": {
          "values": [
           {
            "x": 4.138629204596698,
            "y": 0
           },
           {
            "x": 4.138629204596698,
            "y": 17.128251693140694
           }
          ]
         },
         "encoding": {
          "x": {
           "field": "x",
           "type": "quantitative"
          },
          "y": {
           "field": "y",
           "type": "quantitative"
          }
         },
         "mark": {
          "opacity": 0.4,
          "type": "line"
         }
        },
        {
         "data": {
          "values": [
           {
            "x": 1.6399141421280032,
            "y": 0
           },
           {
            "x": 1.6399141421280032,
            "y": 2.689318393551425
           }
          ]
         },
         "encoding": {
          "x": {
           "field": "x",
           "type": "quantitative"
          },
          "y": {
           "field": "y",
           "type": "quantitative"
          }
         },
         "mark": {
          "opacity": 0.4,
          "type": "line"
         }
        },
        {
         "data": {
          "values": [
           {
            "x": 2.5964477449015084,
            "y": 0
           },
           {
            "x": 2.5964477449015084,
            "y": 6.741540892004129
           }
          ]
         },
         "encoding": {
          "x": {
           "field": "x",
           "type": "quantitative"
          },
          "y": {
           "field": "y",
           "type": "quantitative"
          }
         },
         "mark": {
          "opacity": 0.4,
          "type": "line"
         }
        },
        {
         "data": {
          "values": [
           {
            "x": 3.2003108400335387,
            "y": 0
           },
           {
            "x": 3.2003108400335387,
            "y": 10.241989472836174
           }
          ]
         },
         "encoding": {
          "x": {
           "field": "x",
           "type": "quantitative"
          },
          "y": {
           "field": "y",
           "type": "quantitative"
          }
         },
         "mark": {
          "opacity": 0.4,
          "type": "line"
         }
        },
        {
         "data": {
          "values": [
           {
            "x": 1.2552595097353632,
            "y": 0
           },
           {
            "x": 1.2552595097353632,
            "y": 1.5756764367810643
           }
          ]
         },
         "encoding": {
          "x": {
           "field": "x",
           "type": "quantitative"
          },
          "y": {
           "field": "y",
           "type": "quantitative"
          }
         },
         "mark": {
          "opacity": 0.4,
          "type": "line"
         }
        },
        {
         "data": {
          "values": [
           {
            "x": 5.520469373277397,
            "y": 0
           },
           {
            "x": 5.520469373277397,
            "y": 30.475582101293735
           }
          ]
         },
         "encoding": {
          "x": {
           "field": "x",
           "type": "quantitative"
          },
          "y": {
           "field": "y",
           "type": "quantitative"
          }
         },
         "mark": {
          "opacity": 0.4,
          "type": "line"
         }
        },
        {
         "data": {
          "values": [
           {
            "x": 3.552823176584397,
            "y": 0
           },
           {
            "x": 3.552823176584397,
            "y": 12.622552524075244
           }
          ]
         },
         "encoding": {
          "x": {
           "field": "x",
           "type": "quantitative"
          },
          "y": {
           "field": "y",
           "type": "quantitative"
          }
         },
         "mark": {
          "opacity": 0.4,
          "type": "line"
         }
        },
        {
         "data": {
          "values": [
           {
            "x": 2.3692756107818713,
            "y": 0
           },
           {
            "x": 2.3692756107818713,
            "y": 5.613466919845809
           }
          ]
         },
         "encoding": {
          "x": {
           "field": "x",
           "type": "quantitative"
          },
          "y": {
           "field": "y",
           "type": "quantitative"
          }
         },
         "mark": {
          "opacity": 0.4,
          "type": "line"
         }
        },
        {
         "data": {
          "values": [
           {
            "x": 3.0837746277495794,
            "y": 0
           },
           {
            "x": 3.0837746277495794,
            "y": 9.509665954752057
           }
          ]
         },
         "encoding": {
          "x": {
           "field": "x",
           "type": "quantitative"
          },
          "y": {
           "field": "y",
           "type": "quantitative"
          }
         },
         "mark": {
          "opacity": 0.4,
          "type": "line"
         }
        },
        {
         "data": {
          "values": [
           {
            "x": 5.832549809899424,
            "y": 0
           },
           {
            "x": 5.832549809899424,
            "y": 34.01863728495781
           }
          ]
         },
         "encoding": {
          "x": {
           "field": "x",
           "type": "quantitative"
          },
          "y": {
           "field": "y",
           "type": "quantitative"
          }
         },
         "mark": {
          "opacity": 0.4,
          "type": "line"
         }
        },
        {
         "data": {
          "values": [
           {
            "x": 3.5071069543185867,
            "y": 0
           },
           {
            "x": 3.5071069543185867,
            "y": 12.299799189029793
           }
          ]
         },
         "encoding": {
          "x": {
           "field": "x",
           "type": "quantitative"
          },
          "y": {
           "field": "y",
           "type": "quantitative"
          }
         },
         "mark": {
          "opacity": 0.4,
          "type": "line"
         }
        },
        {
         "data": {
          "values": [
           {
            "x": -1.2836954902985487,
            "y": 0
           },
           {
            "x": -1.2836954902985487,
            "y": 1.6478741118128313
           }
          ]
         },
         "encoding": {
          "x": {
           "field": "x",
           "type": "quantitative"
          },
          "y": {
           "field": "y",
           "type": "quantitative"
          }
         },
         "mark": {
          "opacity": 0.4,
          "type": "line"
         }
        },
        {
         "data": {
          "values": [
           {
            "x": 5.434994242913762,
            "y": 0
           },
           {
            "x": 5.434994242913762,
            "y": 29.539162420505733
           }
          ]
         },
         "encoding": {
          "x": {
           "field": "x",
           "type": "quantitative"
          },
          "y": {
           "field": "y",
           "type": "quantitative"
          }
         },
         "mark": {
          "opacity": 0.4,
          "type": "line"
         }
        },
        {
         "data": {
          "values": [
           {
            "x": 1.6106727561761724,
            "y": 0
           },
           {
            "x": 1.6106727561761724,
            "y": 2.5942667274881477
           }
          ]
         },
         "encoding": {
          "x": {
           "field": "x",
           "type": "quantitative"
          },
          "y": {
           "field": "y",
           "type": "quantitative"
          }
         },
         "mark": {
          "opacity": 0.4,
          "type": "line"
         }
        },
        {
         "data": {
          "values": [
           {
            "x": 0.6918949149133551,
            "y": 0
           },
           {
            "x": 0.6918949149133551,
            "y": 0.47871857328295886
           }
          ]
         },
         "encoding": {
          "x": {
           "field": "x",
           "type": "quantitative"
          },
          "y": {
           "field": "y",
           "type": "quantitative"
          }
         },
         "mark": {
          "opacity": 0.4,
          "type": "line"
         }
        },
        {
         "data": {
          "values": [
           {
            "x": 3.7816694040258287,
            "y": 0
           },
           {
            "x": 3.7816694040258287,
            "y": 14.301023481345066
           }
          ]
         },
         "encoding": {
          "x": {
           "field": "x",
           "type": "quantitative"
          },
          "y": {
           "field": "y",
           "type": "quantitative"
          }
         },
         "mark": {
          "opacity": 0.4,
          "type": "line"
         }
        },
        {
         "data": {
          "values": [
           {
            "x": -1.0668865729378547,
            "y": 0
           },
           {
            "x": -1.0668865729378547,
            "y": 1.1382469595150804
           }
          ]
         },
         "encoding": {
          "x": {
           "field": "x",
           "type": "quantitative"
          },
          "y": {
           "field": "y",
           "type": "quantitative"
          }
         },
         "mark": {
          "opacity": 0.4,
          "type": "line"
         }
        },
        {
         "data": {
          "values": [
           {
            "x": 2.07521135480297,
            "y": 0
           },
           {
            "x": 2.07521135480297,
            "y": 4.3065021671031785
           }
          ]
         },
         "encoding": {
          "x": {
           "field": "x",
           "type": "quantitative"
          },
          "y": {
           "field": "y",
           "type": "quantitative"
          }
         },
         "mark": {
          "opacity": 0.4,
          "type": "line"
         }
        },
        {
         "data": {
          "values": [
           {
            "x": 0.10308935564473032,
            "y": 0
           },
           {
            "x": 0.10308935564473032,
            "y": 0.01062741524724569
           }
          ]
         },
         "encoding": {
          "x": {
           "field": "x",
           "type": "quantitative"
          },
          "y": {
           "field": "y",
           "type": "quantitative"
          }
         },
         "mark": {
          "opacity": 0.4,
          "type": "line"
         }
        },
        {
         "data": {
          "values": [
           {
            "x": 2.5117710942262303,
            "y": 0
           },
           {
            "x": 2.5117710942262303,
            "y": 6.308994029790434
           }
          ]
         },
         "encoding": {
          "x": {
           "field": "x",
           "type": "quantitative"
          },
          "y": {
           "field": "y",
           "type": "quantitative"
          }
         },
         "mark": {
          "opacity": 0.4,
          "type": "line"
         }
        },
        {
         "data": {
          "values": [
           {
            "x": -3.7035865283878655,
            "y": 0
           },
           {
            "x": -3.7035865283878655,
            "y": 13.716553173256083
           }
          ]
         },
         "encoding": {
          "x": {
           "field": "x",
           "type": "quantitative"
          },
          "y": {
           "field": "y",
           "type": "quantitative"
          }
         },
         "mark": {
          "opacity": 0.4,
          "type": "line"
         }
        },
        {
         "data": {
          "values": [
           {
            "x": 4.205772894619227,
            "y": 0
           },
           {
            "x": 4.205772894619227,
            "y": 17.68852564111379
           }
          ]
         },
         "encoding": {
          "x": {
           "field": "x",
           "type": "quantitative"
          },
          "y": {
           "field": "y",
           "type": "quantitative"
          }
         },
         "mark": {
          "opacity": 0.4,
          "type": "line"
         }
        },
        {
         "data": {
          "values": [
           {
            "x": 1.9097038952321292,
            "y": 0
           },
           {
            "x": 1.9097038952321292,
            "y": 3.646968967464767
           }
          ]
         },
         "encoding": {
          "x": {
           "field": "x",
           "type": "quantitative"
          },
          "y": {
           "field": "y",
           "type": "quantitative"
          }
         },
         "mark": {
          "opacity": 0.4,
          "type": "line"
         }
        },
        {
         "data": {
          "values": [
           {
            "x": 0.3710293761559247,
            "y": 0
           },
           {
            "x": 0.3710293761559247,
            "y": 0.13766279797065464
           }
          ]
         },
         "encoding": {
          "x": {
           "field": "x",
           "type": "quantitative"
          },
          "y": {
           "field": "y",
           "type": "quantitative"
          }
         },
         "mark": {
          "opacity": 0.4,
          "type": "line"
         }
        },
        {
         "data": {
          "values": [
           {
            "x": 1.2655488055580222,
            "y": 0
           },
           {
            "x": 1.2655488055580222,
            "y": 1.6016137792493366
           }
          ]
         },
         "encoding": {
          "x": {
           "field": "x",
           "type": "quantitative"
          },
          "y": {
           "field": "y",
           "type": "quantitative"
          }
         },
         "mark": {
          "opacity": 0.4,
          "type": "line"
         }
        },
        {
         "data": {
          "values": [
           {
            "x": 4.325815951169352,
            "y": 0
           },
           {
            "x": 4.325815951169352,
            "y": 18.712683643391202
           }
          ]
         },
         "encoding": {
          "x": {
           "field": "x",
           "type": "quantitative"
          },
          "y": {
           "field": "y",
           "type": "quantitative"
          }
         },
         "mark": {
          "opacity": 0.4,
          "type": "line"
         }
        },
        {
         "data": {
          "values": [
           {
            "x": 3.7362004113427694,
            "y": 0
           },
           {
            "x": 3.7362004113427694,
            "y": 13.95919351371788
           }
          ]
         },
         "encoding": {
          "x": {
           "field": "x",
           "type": "quantitative"
          },
          "y": {
           "field": "y",
           "type": "quantitative"
          }
         },
         "mark": {
          "opacity": 0.4,
          "type": "line"
         }
        },
        {
         "data": {
          "values": [
           {
            "x": 3.1940240578726344,
            "y": 0
           },
           {
            "x": 3.1940240578726344,
            "y": 10.20178968226917
           }
          ]
         },
         "encoding": {
          "x": {
           "field": "x",
           "type": "quantitative"
          },
          "y": {
           "field": "y",
           "type": "quantitative"
          }
         },
         "mark": {
          "opacity": 0.4,
          "type": "line"
         }
        },
        {
         "data": {
          "values": [
           {
            "x": -1.2938420023993538,
            "y": 0
           },
           {
            "x": -1.2938420023993538,
            "y": 1.6740271271727694
           }
          ]
         },
         "encoding": {
          "x": {
           "field": "x",
           "type": "quantitative"
          },
          "y": {
           "field": "y",
           "type": "quantitative"
          }
         },
         "mark": {
          "opacity": 0.4,
          "type": "line"
         }
        },
        {
         "data": {
          "values": [
           {
            "x": 2.4927009595662533,
            "y": 0
           },
           {
            "x": 2.4927009595662533,
            "y": 6.21355807382252
           }
          ]
         },
         "encoding": {
          "x": {
           "field": "x",
           "type": "quantitative"
          },
          "y": {
           "field": "y",
           "type": "quantitative"
          }
         },
         "mark": {
          "opacity": 0.4,
          "type": "line"
         }
        },
        {
         "data": {
          "values": [
           {
            "x": 3.2711536619447323,
            "y": 0
           },
           {
            "x": 3.2711536619447323,
            "y": 10.700446280054432
           }
          ]
         },
         "encoding": {
          "x": {
           "field": "x",
           "type": "quantitative"
          },
          "y": {
           "field": "y",
           "type": "quantitative"
          }
         },
         "mark": {
          "opacity": 0.4,
          "type": "line"
         }
        },
        {
         "data": {
          "values": [
           {
            "x": 3.1511984194422764,
            "y": 0
           },
           {
            "x": 3.1511984194422764,
            "y": 9.930051478695502
           }
          ]
         },
         "encoding": {
          "x": {
           "field": "x",
           "type": "quantitative"
          },
          "y": {
           "field": "y",
           "type": "quantitative"
          }
         },
         "mark": {
          "opacity": 0.4,
          "type": "line"
         }
        },
        {
         "data": {
          "values": [
           {
            "x": 6.542692615269792,
            "y": 0
           },
           {
            "x": 6.542692615269792,
            "y": 42.80682665790587
           }
          ]
         },
         "encoding": {
          "x": {
           "field": "x",
           "type": "quantitative"
          },
          "y": {
           "field": "y",
           "type": "quantitative"
          }
         },
         "mark": {
          "opacity": 0.4,
          "type": "line"
         }
        },
        {
         "data": {
          "values": [
           {
            "x": 2.1513356641217944,
            "y": 0
           },
           {
            "x": 2.1513356641217944,
            "y": 4.628245139722362
           }
          ]
         },
         "encoding": {
          "x": {
           "field": "x",
           "type": "quantitative"
          },
          "y": {
           "field": "y",
           "type": "quantitative"
          }
         },
         "mark": {
          "opacity": 0.4,
          "type": "line"
         }
        },
        {
         "data": {
          "values": [
           {
            "x": -1.7570706465732302,
            "y": 0
           },
           {
            "x": -1.7570706465732302,
            "y": 3.0872972570492694
           }
          ]
         },
         "encoding": {
          "x": {
           "field": "x",
           "type": "quantitative"
          },
          "y": {
           "field": "y",
           "type": "quantitative"
          }
         },
         "mark": {
          "opacity": 0.4,
          "type": "line"
         }
        },
        {
         "data": {
          "values": [
           {
            "x": 3.77564877581204,
            "y": 0
           },
           {
            "x": 3.77564877581204,
            "y": 14.255523678290954
           }
          ]
         },
         "encoding": {
          "x": {
           "field": "x",
           "type": "quantitative"
          },
          "y": {
           "field": "y",
           "type": "quantitative"
          }
         },
         "mark": {
          "opacity": 0.4,
          "type": "line"
         }
        },
        {
         "data": {
          "values": [
           {
            "x": 2.8082954265318754,
            "y": 0
           },
           {
            "x": 2.8082954265318754,
            "y": 7.8865232026798475
           }
          ]
         },
         "encoding": {
          "x": {
           "field": "x",
           "type": "quantitative"
          },
          "y": {
           "field": "y",
           "type": "quantitative"
          }
         },
         "mark": {
          "opacity": 0.4,
          "type": "line"
         }
        },
        {
         "data": {
          "values": [
           {
            "x": 5.072686164153717,
            "y": 0
           },
           {
            "x": 5.072686164153717,
            "y": 25.732144919996554
           }
          ]
         },
         "encoding": {
          "x": {
           "field": "x",
           "type": "quantitative"
          },
          "y": {
           "field": "y",
           "type": "quantitative"
          }
         },
         "mark": {
          "opacity": 0.4,
          "type": "line"
         }
        },
        {
         "data": {
          "values": [
           {
            "x": 2.015479956363558,
            "y": 0
           },
           {
            "x": 2.015479956363558,
            "y": 4.0621594545032504
           }
          ]
         },
         "encoding": {
          "x": {
           "field": "x",
           "type": "quantitative"
          },
          "y": {
           "field": "y",
           "type": "quantitative"
          }
         },
         "mark": {
          "opacity": 0.4,
          "type": "line"
         }
        },
        {
         "data": {
          "values": [
           {
            "x": 2.3569223847755603,
            "y": 0
           },
           {
            "x": 2.3569223847755603,
            "y": 5.555083127856114
           }
          ]
         },
         "encoding": {
          "x": {
           "field": "x",
           "type": "quantitative"
          },
          "y": {
           "field": "y",
           "type": "quantitative"
          }
         },
         "mark": {
          "opacity": 0.4,
          "type": "line"
         }
        },
        {
         "data": {
          "values": [
           {
            "x": 0.1439511371563018,
            "y": 0
           },
           {
            "x": 0.1439511371563018,
            "y": 0.020721929888592415
           }
          ]
         },
         "encoding": {
          "x": {
           "field": "x",
           "type": "quantitative"
          },
          "y": {
           "field": "y",
           "type": "quantitative"
          }
         },
         "mark": {
          "opacity": 0.4,
          "type": "line"
         }
        },
        {
         "data": {
          "values": [
           {
            "x": 6.656993810507328,
            "y": 0
           },
           {
            "x": 6.656993810507328,
            "y": 44.31556659313287
           }
          ]
         },
         "encoding": {
          "x": {
           "field": "x",
           "type": "quantitative"
          },
          "y": {
           "field": "y",
           "type": "quantitative"
          }
         },
         "mark": {
          "opacity": 0.4,
          "type": "line"
         }
        },
        {
         "data": {
          "values": [
           {
            "x": 3.2646052623621937,
            "y": 0
           },
           {
            "x": 3.2646052623621937,
            "y": 10.657647519042929
           }
          ]
         },
         "encoding": {
          "x": {
           "field": "x",
           "type": "quantitative"
          },
          "y": {
           "field": "y",
           "type": "quantitative"
          }
         },
         "mark": {
          "opacity": 0.4,
          "type": "line"
         }
        },
        {
         "data": {
          "values": [
           {
            "x": 1.7364257435047874,
            "y": 0
           },
           {
            "x": 1.7364257435047874,
            "y": 3.0151743627061536
           }
          ]
         },
         "encoding": {
          "x": {
           "field": "x",
           "type": "quantitative"
          },
          "y": {
           "field": "y",
           "type": "quantitative"
          }
         },
         "mark": {
          "opacity": 0.4,
          "type": "line"
         }
        },
        {
         "data": {
          "values": [
           {
            "x": -1.7328492251328829,
            "y": 0
           },
           {
            "x": -1.7328492251328829,
            "y": 3.0027664370436327
           }
          ]
         },
         "encoding": {
          "x": {
           "field": "x",
           "type": "quantitative"
          },
          "y": {
           "field": "y",
           "type": "quantitative"
          }
         },
         "mark": {
          "opacity": 0.4,
          "type": "line"
         }
        },
        {
         "data": {
          "values": [
           {
            "x": 4.498582948095424,
            "y": 0
           },
           {
            "x": 4.498582948095424,
            "y": 20.237248540894917
           }
          ]
         },
         "encoding": {
          "x": {
           "field": "x",
           "type": "quantitative"
          },
          "y": {
           "field": "y",
           "type": "quantitative"
          }
         },
         "mark": {
          "opacity": 0.4,
          "type": "line"
         }
        },
        {
         "data": {
          "values": [
           {
            "x": 4.278418346365109,
            "y": 0
           },
           {
            "x": 4.278418346365109,
            "y": 18.304863546513555
           }
          ]
         },
         "encoding": {
          "x": {
           "field": "x",
           "type": "quantitative"
          },
          "y": {
           "field": "y",
           "type": "quantitative"
          }
         },
         "mark": {
          "opacity": 0.4,
          "type": "line"
         }
        },
        {
         "data": {
          "values": [
           {
            "x": -0.6934259028282979,
            "y": 0
           },
           {
            "x": -0.6934259028282979,
            "y": 0.48083948271324
           }
          ]
         },
         "encoding": {
          "x": {
           "field": "x",
           "type": "quantitative"
          },
          "y": {
           "field": "y",
           "type": "quantitative"
          }
         },
         "mark": {
          "opacity": 0.4,
          "type": "line"
         }
        },
        {
         "data": {
          "values": [
           {
            "x": 2.901084254077336,
            "y": 0
           },
           {
            "x": 2.901084254077336,
            "y": 8.416289849255453
           }
          ]
         },
         "encoding": {
          "x": {
           "field": "x",
           "type": "quantitative"
          },
          "y": {
           "field": "y",
           "type": "quantitative"
          }
         },
         "mark": {
          "opacity": 0.4,
          "type": "line"
         }
        },
        {
         "data": {
          "values": [
           {
            "x": -1.3529524115344067,
            "y": 0
           },
           {
            "x": -1.3529524115344067,
            "y": 1.8304802278767667
           }
          ]
         },
         "encoding": {
          "x": {
           "field": "x",
           "type": "quantitative"
          },
          "y": {
           "field": "y",
           "type": "quantitative"
          }
         },
         "mark": {
          "opacity": 0.4,
          "type": "line"
         }
        },
        {
         "data": {
          "values": [
           {
            "x": 2.119165737287865,
            "y": 0
           },
           {
            "x": 2.119165737287865,
            "y": 4.490863422094821
           }
          ]
         },
         "encoding": {
          "x": {
           "field": "x",
           "type": "quantitative"
          },
          "y": {
           "field": "y",
           "type": "quantitative"
          }
         },
         "mark": {
          "opacity": 0.4,
          "type": "line"
         }
        },
        {
         "data": {
          "values": [
           {
            "x": 1.6211465549186002,
            "y": 0
           },
           {
            "x": 1.6211465549186002,
            "y": 2.628116152524446
           }
          ]
         },
         "encoding": {
          "x": {
           "field": "x",
           "type": "quantitative"
          },
          "y": {
           "field": "y",
           "type": "quantitative"
          }
         },
         "mark": {
          "opacity": 0.4,
          "type": "line"
         }
        },
        {
         "data": {
          "values": [
           {
            "x": 1.9025680559857114,
            "y": 0
           },
           {
            "x": 1.9025680559857114,
            "y": 3.6197652076572493
           }
          ]
         },
         "encoding": {
          "x": {
           "field": "x",
           "type": "quantitative"
          },
          "y": {
           "field": "y",
           "type": "quantitative"
          }
         },
         "mark": {
          "opacity": 0.4,
          "type": "line"
         }
        },
        {
         "data": {
          "values": [
           {
            "x": 0.700256832548575,
            "y": 0
           },
           {
            "x": 0.700256832548575,
            "y": 0.49035963153096296
           }
          ]
         },
         "encoding": {
          "x": {
           "field": "x",
           "type": "quantitative"
          },
          "y": {
           "field": "y",
           "type": "quantitative"
          }
         },
         "mark": {
          "opacity": 0.4,
          "type": "line"
         }
        },
        {
         "data": {
          "values": [
           {
            "x": 0.8493773094550388,
            "y": 0
           },
           {
            "x": 0.8493773094550388,
            "y": 0.7214418138170806
           }
          ]
         },
         "encoding": {
          "x": {
           "field": "x",
           "type": "quantitative"
          },
          "y": {
           "field": "y",
           "type": "quantitative"
          }
         },
         "mark": {
          "opacity": 0.4,
          "type": "line"
         }
        },
        {
         "data": {
          "values": [
           {
            "x": 2.129554318884644,
            "y": 0
           },
           {
            "x": 2.129554318884644,
            "y": 4.535001597080241
           }
          ]
         },
         "encoding": {
          "x": {
           "field": "x",
           "type": "quantitative"
          },
          "y": {
           "field": "y",
           "type": "quantitative"
          }
         },
         "mark": {
          "opacity": 0.4,
          "type": "line"
         }
        },
        {
         "data": {
          "values": [
           {
            "x": 2.2189162269911304,
            "y": 0
           },
           {
            "x": 2.2189162269911304,
            "y": 4.923589222404554
           }
          ]
         },
         "encoding": {
          "x": {
           "field": "x",
           "type": "quantitative"
          },
          "y": {
           "field": "y",
           "type": "quantitative"
          }
         },
         "mark": {
          "opacity": 0.4,
          "type": "line"
         }
        },
        {
         "data": {
          "values": [
           {
            "x": -3.2810377081176982,
            "y": 0
           },
           {
            "x": -3.2810377081176982,
            "y": 10.765208442090238
           }
          ]
         },
         "encoding": {
          "x": {
           "field": "x",
           "type": "quantitative"
          },
          "y": {
           "field": "y",
           "type": "quantitative"
          }
         },
         "mark": {
          "opacity": 0.4,
          "type": "line"
         }
        },
        {
         "data": {
          "values": [
           {
            "x": 3.7592737999460244,
            "y": 0
           },
           {
            "x": 3.7592737999460244,
            "y": 14.132139502960621
           }
          ]
         },
         "encoding": {
          "x": {
           "field": "x",
           "type": "quantitative"
          },
          "y": {
           "field": "y",
           "type": "quantitative"
          }
         },
         "mark": {
          "opacity": 0.4,
          "type": "line"
         }
        },
        {
         "data": {
          "values": [
           {
            "x": 0.4181867204252141,
            "y": 0
           },
           {
            "x": 0.4181867204252141,
            "y": 0.17488013313999617
           }
          ]
         },
         "encoding": {
          "x": {
           "field": "x",
           "type": "quantitative"
          },
          "y": {
           "field": "y",
           "type": "quantitative"
          }
         },
         "mark": {
          "opacity": 0.4,
          "type": "line"
         }
        },
        {
         "data": {
          "values": [
           {
            "x": 3.9330033568745333,
            "y": 0
           },
           {
            "x": 3.9330033568745333,
            "y": 15.468515405186347
           }
          ]
         },
         "encoding": {
          "x": {
           "field": "x",
           "type": "quantitative"
          },
          "y": {
           "field": "y",
           "type": "quantitative"
          }
         },
         "mark": {
          "opacity": 0.4,
          "type": "line"
         }
        },
        {
         "data": {
          "values": [
           {
            "x": 4.038562199549163,
            "y": 0
           },
           {
            "x": 4.038562199549163,
            "y": 16.30998463962737
           }
          ]
         },
         "encoding": {
          "x": {
           "field": "x",
           "type": "quantitative"
          },
          "y": {
           "field": "y",
           "type": "quantitative"
          }
         },
         "mark": {
          "opacity": 0.4,
          "type": "line"
         }
        },
        {
         "data": {
          "values": [
           {
            "x": 4.543547320409742,
            "y": 0
           },
           {
            "x": 4.543547320409742,
            "y": 20.643822252802543
           }
          ]
         },
         "encoding": {
          "x": {
           "field": "x",
           "type": "quantitative"
          },
          "y": {
           "field": "y",
           "type": "quantitative"
          }
         },
         "mark": {
          "opacity": 0.4,
          "type": "line"
         }
        },
        {
         "data": {
          "values": [
           {
            "x": 6.986579514421968,
            "y": 0
           },
           {
            "x": 6.986579514421968,
            "y": 48.8122933113407
           }
          ]
         },
         "encoding": {
          "x": {
           "field": "x",
           "type": "quantitative"
          },
          "y": {
           "field": "y",
           "type": "quantitative"
          }
         },
         "mark": {
          "opacity": 0.4,
          "type": "line"
         }
        },
        {
         "data": {
          "values": [
           {
            "x": 3.1696131638637155,
            "y": 0
           },
           {
            "x": 3.1696131638637155,
            "y": 10.046447608538152
           }
          ]
         },
         "encoding": {
          "x": {
           "field": "x",
           "type": "quantitative"
          },
          "y": {
           "field": "y",
           "type": "quantitative"
          }
         },
         "mark": {
          "opacity": 0.4,
          "type": "line"
         }
        },
        {
         "data": {
          "values": [
           {
            "x": 0.376578215492263,
            "y": 0
           },
           {
            "x": 0.376578215492263,
            "y": 0.14181115238333727
           }
          ]
         },
         "encoding": {
          "x": {
           "field": "x",
           "type": "quantitative"
          },
          "y": {
           "field": "y",
           "type": "quantitative"
          }
         },
         "mark": {
          "opacity": 0.4,
          "type": "line"
         }
        },
        {
         "data": {
          "values": [
           {
            "x": 6.545634637311658,
            "y": 0
           },
           {
            "x": 6.545634637311658,
            "y": 42.845332805174124
           }
          ]
         },
         "encoding": {
          "x": {
           "field": "x",
           "type": "quantitative"
          },
          "y": {
           "field": "y",
           "type": "quantitative"
          }
         },
         "mark": {
          "opacity": 0.4,
          "type": "line"
         }
        },
        {
         "data": {
          "values": [
           {
            "x": 4.0304911260751854,
            "y": 0
           },
           {
            "x": 4.0304911260751854,
            "y": 16.244858717370818
           }
          ]
         },
         "encoding": {
          "x": {
           "field": "x",
           "type": "quantitative"
          },
          "y": {
           "field": "y",
           "type": "quantitative"
          }
         },
         "mark": {
          "opacity": 0.4,
          "type": "line"
         }
        },
        {
         "data": {
          "values": [
           {
            "x": 2.6909876592828743,
            "y": 0
           },
           {
            "x": 2.6909876592828743,
            "y": 7.241414582412723
           }
          ]
         },
         "encoding": {
          "x": {
           "field": "x",
           "type": "quantitative"
          },
          "y": {
           "field": "y",
           "type": "quantitative"
          }
         },
         "mark": {
          "opacity": 0.4,
          "type": "line"
         }
        },
        {
         "data": {
          "values": [
           {
            "x": 2.1958602794144992,
            "y": 0
           },
           {
            "x": 2.1958602794144992,
            "y": 4.8218023667103225
           }
          ]
         },
         "encoding": {
          "x": {
           "field": "x",
           "type": "quantitative"
          },
          "y": {
           "field": "y",
           "type": "quantitative"
          }
         },
         "mark": {
          "opacity": 0.4,
          "type": "line"
         }
        },
        {
         "data": {
          "values": [
           {
            "x": -0.5026563266317123,
            "y": 0
           },
           {
            "x": -0.5026563266317123,
            "y": 0.2526633827028867
           }
          ]
         },
         "encoding": {
          "x": {
           "field": "x",
           "type": "quantitative"
          },
          "y": {
           "field": "y",
           "type": "quantitative"
          }
         },
         "mark": {
          "opacity": 0.4,
          "type": "line"
         }
        },
        {
         "data": {
          "values": [
           {
            "x": 6.0988142314610005,
            "y": 0
           },
           {
            "x": 6.0988142314610005,
            "y": 37.19553502987124
           }
          ]
         },
         "encoding": {
          "x": {
           "field": "x",
           "type": "quantitative"
          },
          "y": {
           "field": "y",
           "type": "quantitative"
          }
         },
         "mark": {
          "opacity": 0.4,
          "type": "line"
         }
        },
        {
         "data": {
          "values": [
           {
            "x": -0.004692844348861858,
            "y": 0
           },
           {
            "x": -0.004692844348861858,
            "y": 2.2022788082644672e-05
           }
          ]
         },
         "encoding": {
          "x": {
           "field": "x",
           "type": "quantitative"
          },
          "y": {
           "field": "y",
           "type": "quantitative"
          }
         },
         "mark": {
          "opacity": 0.4,
          "type": "line"
         }
        },
        {
         "data": {
          "values": [
           {
            "x": 3.1331905052799427,
            "y": 0
           },
           {
            "x": 3.1331905052799427,
            "y": 9.816882742376382
           }
          ]
         },
         "encoding": {
          "x": {
           "field": "x",
           "type": "quantitative"
          },
          "y": {
           "field": "y",
           "type": "quantitative"
          }
         },
         "mark": {
          "opacity": 0.4,
          "type": "line"
         }
        },
        {
         "data": {
          "values": [
           {
            "x": 1.2166990920146945,
            "y": 0
           },
           {
            "x": 1.2166990920146945,
            "y": 1.480356680509382
           }
          ]
         },
         "encoding": {
          "x": {
           "field": "x",
           "type": "quantitative"
          },
          "y": {
           "field": "y",
           "type": "quantitative"
          }
         },
         "mark": {
          "opacity": 0.4,
          "type": "line"
         }
        },
        {
         "data": {
          "values": [
           {
            "x": 6.391478318267627,
            "y": 0
           },
           {
            "x": 6.391478318267627,
            "y": 40.85099509288517
           }
          ]
         },
         "encoding": {
          "x": {
           "field": "x",
           "type": "quantitative"
          },
          "y": {
           "field": "y",
           "type": "quantitative"
          }
         },
         "mark": {
          "opacity": 0.4,
          "type": "line"
         }
        },
        {
         "data": {
          "values": [
           {
            "x": -0.13052505367786038,
            "y": 0
           },
           {
            "x": -0.13052505367786038,
            "y": 0.017036789637608334
           }
          ]
         },
         "encoding": {
          "x": {
           "field": "x",
           "type": "quantitative"
          },
          "y": {
           "field": "y",
           "type": "quantitative"
          }
         },
         "mark": {
          "opacity": 0.4,
          "type": "line"
         }
        },
        {
         "data": {
          "values": [
           {
            "x": 2.4821593001856384,
            "y": 0
           },
           {
            "x": 2.4821593001856384,
            "y": 6.161114791498058
           }
          ]
         },
         "encoding": {
          "x": {
           "field": "x",
           "type": "quantitative"
          },
          "y": {
           "field": "y",
           "type": "quantitative"
          }
         },
         "mark": {
          "opacity": 0.4,
          "type": "line"
         }
        },
        {
         "data": {
          "values": [
           {
            "x": 2.5568427995881886,
            "y": 0
           },
           {
            "x": 2.5568427995881886,
            "y": 6.537445101805966
           }
          ]
         },
         "encoding": {
          "x": {
           "field": "x",
           "type": "quantitative"
          },
          "y": {
           "field": "y",
           "type": "quantitative"
          }
         },
         "mark": {
          "opacity": 0.4,
          "type": "line"
         }
        },
        {
         "data": {
          "values": [
           {
            "x": 0.7687208157198449,
            "y": 0
           },
           {
            "x": 0.7687208157198449,
            "y": 0.5909316925209837
           }
          ]
         },
         "encoding": {
          "x": {
           "field": "x",
           "type": "quantitative"
          },
          "y": {
           "field": "y",
           "type": "quantitative"
          }
         },
         "mark": {
          "opacity": 0.4,
          "type": "line"
         }
        },
        {
         "data": {
          "values": [
           {
            "x": 6.017179195289459,
            "y": 0
           },
           {
            "x": 6.017179195289459,
            "y": 36.2064454682243
           }
          ]
         },
         "encoding": {
          "x": {
           "field": "x",
           "type": "quantitative"
          },
          "y": {
           "field": "y",
           "type": "quantitative"
          }
         },
         "mark": {
          "opacity": 0.4,
          "type": "line"
         }
        },
        {
         "data": {
          "values": [
           {
            "x": 0.6020680312163085,
            "y": 0
           },
           {
            "x": 0.6020680312163085,
            "y": 0.3624859142126818
           }
          ]
         },
         "encoding": {
          "x": {
           "field": "x",
           "type": "quantitative"
          },
          "y": {
           "field": "y",
           "type": "quantitative"
          }
         },
         "mark": {
          "opacity": 0.4,
          "type": "line"
         }
        },
        {
         "data": {
          "values": [
           {
            "x": 1.9764252953846397,
            "y": 0
           },
           {
            "x": 1.9764252953846397,
            "y": 3.9062569482362606
           }
          ]
         },
         "encoding": {
          "x": {
           "field": "x",
           "type": "quantitative"
          },
          "y": {
           "field": "y",
           "type": "quantitative"
          }
         },
         "mark": {
          "opacity": 0.4,
          "type": "line"
         }
        },
        {
         "data": {
          "values": [
           {
            "x": 1.6418129320076282,
            "y": 0
           },
           {
            "x": 1.6418129320076282,
            "y": 2.695549703707485
           }
          ]
         },
         "encoding": {
          "x": {
           "field": "x",
           "type": "quantitative"
          },
          "y": {
           "field": "y",
           "type": "quantitative"
          }
         },
         "mark": {
          "opacity": 0.4,
          "type": "line"
         }
        },
        {
         "data": {
          "values": [
           {
            "x": -1.300935882950982,
            "y": 0
           },
           {
            "x": -1.300935882950982,
            "y": 1.6924341715494513
           }
          ]
         },
         "encoding": {
          "x": {
           "field": "x",
           "type": "quantitative"
          },
          "y": {
           "field": "y",
           "type": "quantitative"
          }
         },
         "mark": {
          "opacity": 0.4,
          "type": "line"
         }
        },
        {
         "data": {
          "values": [
           {
            "x": 0.2634809907843909,
            "y": 0
           },
           {
            "x": 0.2634809907843909,
            "y": 0.06942223250472429
           }
          ]
         },
         "encoding": {
          "x": {
           "field": "x",
           "type": "quantitative"
          },
          "y": {
           "field": "y",
           "type": "quantitative"
          }
         },
         "mark": {
          "opacity": 0.4,
          "type": "line"
         }
        },
        {
         "data": {
          "values": [
           {
            "x": 2.7185785109900533,
            "y": 0
           },
           {
            "x": 2.7185785109900533,
            "y": 7.390669120416895
           }
          ]
         },
         "encoding": {
          "x": {
           "field": "x",
           "type": "quantitative"
          },
          "y": {
           "field": "y",
           "type": "quantitative"
          }
         },
         "mark": {
          "opacity": 0.4,
          "type": "line"
         }
        },
        {
         "data": {
          "values": [
           {
            "x": 2.4915641346482724,
            "y": 0
           },
           {
            "x": 2.4915641346482724,
            "y": 6.207891837065595
           }
          ]
         },
         "encoding": {
          "x": {
           "field": "x",
           "type": "quantitative"
          },
          "y": {
           "field": "y",
           "type": "quantitative"
          }
         },
         "mark": {
          "opacity": 0.4,
          "type": "line"
         }
        },
        {
         "data": {
          "values": [
           {
            "x": 1.821513820799995,
            "y": 0
           },
           {
            "x": 1.821513820799995,
            "y": 3.317912599365396
           }
          ]
         },
         "encoding": {
          "x": {
           "field": "x",
           "type": "quantitative"
          },
          "y": {
           "field": "y",
           "type": "quantitative"
          }
         },
         "mark": {
          "opacity": 0.4,
          "type": "line"
         }
        },
        {
         "data": {
          "values": [
           {
            "x": 1.7038322583240413,
            "y": 0
           },
           {
            "x": 1.7038322583240413,
            "y": 2.9030443645056025
           }
          ]
         },
         "encoding": {
          "x": {
           "field": "x",
           "type": "quantitative"
          },
          "y": {
           "field": "y",
           "type": "quantitative"
          }
         },
         "mark": {
          "opacity": 0.4,
          "type": "line"
         }
        },
        {
         "data": {
          "values": [
           {
            "x": 5.562156013894818,
            "y": 0
           },
           {
            "x": 5.562156013894818,
            "y": 30.937579522906287
           }
          ]
         },
         "encoding": {
          "x": {
           "field": "x",
           "type": "quantitative"
          },
          "y": {
           "field": "y",
           "type": "quantitative"
          }
         },
         "mark": {
          "opacity": 0.4,
          "type": "line"
         }
        },
        {
         "data": {
          "values": [
           {
            "x": 2.356340226035865,
            "y": 0
           },
           {
            "x": 2.356340226035865,
            "y": 5.552339260834751
           }
          ]
         },
         "encoding": {
          "x": {
           "field": "x",
           "type": "quantitative"
          },
          "y": {
           "field": "y",
           "type": "quantitative"
          }
         },
         "mark": {
          "opacity": 0.4,
          "type": "line"
         }
        },
        {
         "data": {
          "values": [
           {
            "x": 3.899208928919453,
            "y": 0
           },
           {
            "x": 3.899208928919453,
            "y": 15.20383027136519
           }
          ]
         },
         "encoding": {
          "x": {
           "field": "x",
           "type": "quantitative"
          },
          "y": {
           "field": "y",
           "type": "quantitative"
          }
         },
         "mark": {
          "opacity": 0.4,
          "type": "line"
         }
        },
        {
         "data": {
          "values": [
           {
            "x": 3.1237453096709027,
            "y": 0
           },
           {
            "x": 3.1237453096709027,
            "y": 9.757784759690963
           }
          ]
         },
         "encoding": {
          "x": {
           "field": "x",
           "type": "quantitative"
          },
          "y": {
           "field": "y",
           "type": "quantitative"
          }
         },
         "mark": {
          "opacity": 0.4,
          "type": "line"
         }
        },
        {
         "data": {
          "values": [
           {
            "x": 1.650862535458043,
            "y": 0
           },
           {
            "x": 1.650862535458043,
            "y": 2.7253471109789587
           }
          ]
         },
         "encoding": {
          "x": {
           "field": "x",
           "type": "quantitative"
          },
          "y": {
           "field": "y",
           "type": "quantitative"
          }
         },
         "mark": {
          "opacity": 0.4,
          "type": "line"
         }
        },
        {
         "data": {
          "values": [
           {
            "x": 2.4833241663290013,
            "y": 0
           },
           {
            "x": 2.4833241663290013,
            "y": 6.166898915073629
           }
          ]
         },
         "encoding": {
          "x": {
           "field": "x",
           "type": "quantitative"
          },
          "y": {
           "field": "y",
           "type": "quantitative"
          }
         },
         "mark": {
          "opacity": 0.4,
          "type": "line"
         }
        },
        {
         "data": {
          "values": [
           {
            "x": 2.8090501619788277,
            "y": 0
           },
           {
            "x": 2.8090501619788277,
            "y": 7.8907628125132785
           }
          ]
         },
         "encoding": {
          "x": {
           "field": "x",
           "type": "quantitative"
          },
          "y": {
           "field": "y",
           "type": "quantitative"
          }
         },
         "mark": {
          "opacity": 0.4,
          "type": "line"
         }
        },
        {
         "data": {
          "values": [
           {
            "x": 3.578902358333366,
            "y": 0
           },
           {
            "x": 3.578902358333366,
            "y": 12.808542090484128
           }
          ]
         },
         "encoding": {
          "x": {
           "field": "x",
           "type": "quantitative"
          },
          "y": {
           "field": "y",
           "type": "quantitative"
          }
         },
         "mark": {
          "opacity": 0.4,
          "type": "line"
         }
        },
        {
         "data": {
          "values": [
           {
            "x": 1.6006747534394195,
            "y": 0
           },
           {
            "x": 1.6006747534394195,
            "y": 2.562159666298346
           }
          ]
         },
         "encoding": {
          "x": {
           "field": "x",
           "type": "quantitative"
          },
          "y": {
           "field": "y",
           "type": "quantitative"
          }
         },
         "mark": {
          "opacity": 0.4,
          "type": "line"
         }
        },
        {
         "data": {
          "values": [
           {
            "x": 7.97068943053374,
            "y": 0
           },
           {
            "x": 7.97068943053374,
            "y": 63.53188999802228
           }
          ]
         },
         "encoding": {
          "x": {
           "field": "x",
           "type": "quantitative"
          },
          "y": {
           "field": "y",
           "type": "quantitative"
          }
         },
         "mark": {
          "opacity": 0.4,
          "type": "line"
         }
        },
        {
         "data": {
          "values": [
           {
            "x": 2.6452835313928804,
            "y": 0
           },
           {
            "x": 2.6452835313928804,
            "y": 6.997524961458388
           }
          ]
         },
         "encoding": {
          "x": {
           "field": "x",
           "type": "quantitative"
          },
          "y": {
           "field": "y",
           "type": "quantitative"
          }
         },
         "mark": {
          "opacity": 0.4,
          "type": "line"
         }
        },
        {
         "data": {
          "values": [
           {
            "x": 3.7470373509079336,
            "y": 0
           },
           {
            "x": 3.7470373509079336,
            "y": 14.040288909099145
           }
          ]
         },
         "encoding": {
          "x": {
           "field": "x",
           "type": "quantitative"
          },
          "y": {
           "field": "y",
           "type": "quantitative"
          }
         },
         "mark": {
          "opacity": 0.4,
          "type": "line"
         }
        },
        {
         "data": {
          "values": [
           {
            "x": 5.044459454336788,
            "y": 0
           },
           {
            "x": 5.044459454336788,
            "y": 25.44657118644781
           }
          ]
         },
         "encoding": {
          "x": {
           "field": "x",
           "type": "quantitative"
          },
          "y": {
           "field": "y",
           "type": "quantitative"
          }
         },
         "mark": {
          "opacity": 0.4,
          "type": "line"
         }
        },
        {
         "data": {
          "values": [
           {
            "x": 5.048716495709916,
            "y": 0
           },
           {
            "x": 5.048716495709916,
            "y": 25.489538254053418
           }
          ]
         },
         "encoding": {
          "x": {
           "field": "x",
           "type": "quantitative"
          },
          "y": {
           "field": "y",
           "type": "quantitative"
          }
         },
         "mark": {
          "opacity": 0.4,
          "type": "line"
         }
        },
        {
         "data": {
          "values": [
           {
            "x": 3.3068683640161716,
            "y": 0
           },
           {
            "x": 3.3068683640161716,
            "y": 10.935378376930991
           }
          ]
         },
         "encoding": {
          "x": {
           "field": "x",
           "type": "quantitative"
          },
          "y": {
           "field": "y",
           "type": "quantitative"
          }
         },
         "mark": {
          "opacity": 0.4,
          "type": "line"
         }
        },
        {
         "data": {
          "values": [
           {
            "x": 3.1316384748354995,
            "y": 0
           },
           {
            "x": 3.1316384748354995,
            "y": 9.807159537070014
           }
          ]
         },
         "encoding": {
          "x": {
           "field": "x",
           "type": "quantitative"
          },
          "y": {
           "field": "y",
           "type": "quantitative"
          }
         },
         "mark": {
          "opacity": 0.4,
          "type": "line"
         }
        },
        {
         "data": {
          "values": [
           {
            "x": 2.66955676753225,
            "y": 0
           },
           {
            "x": 2.66955676753225,
            "y": 7.126533335077235
           }
          ]
         },
         "encoding": {
          "x": {
           "field": "x",
           "type": "quantitative"
          },
          "y": {
           "field": "y",
           "type": "quantitative"
          }
         },
         "mark": {
          "opacity": 0.4,
          "type": "line"
         }
        },
        {
         "data": {
          "values": [
           {
            "x": 0.8603921172463993,
            "y": 0
           },
           {
            "x": 0.8603921172463993,
            "y": 0.7402745954197417
           }
          ]
         },
         "encoding": {
          "x": {
           "field": "x",
           "type": "quantitative"
          },
          "y": {
           "field": "y",
           "type": "quantitative"
          }
         },
         "mark": {
          "opacity": 0.4,
          "type": "line"
         }
        },
        {
         "data": {
          "values": [
           {
            "x": 6.040188875326991,
            "y": 0
           },
           {
            "x": 6.040188875326991,
            "y": 36.48388164962394
           }
          ]
         },
         "encoding": {
          "x": {
           "field": "x",
           "type": "quantitative"
          },
          "y": {
           "field": "y",
           "type": "quantitative"
          }
         },
         "mark": {
          "opacity": 0.4,
          "type": "line"
         }
        },
        {
         "data": {
          "values": [
           {
            "x": 1.5950949336330695,
            "y": 0
           },
           {
            "x": 1.5950949336330695,
            "y": 2.5443278473018864
           }
          ]
         },
         "encoding": {
          "x": {
           "field": "x",
           "type": "quantitative"
          },
          "y": {
           "field": "y",
           "type": "quantitative"
          }
         },
         "mark": {
          "opacity": 0.4,
          "type": "line"
         }
        },
        {
         "data": {
          "values": [
           {
            "x": 3.7905474115448086,
            "y": 0
           },
           {
            "x": 3.7905474115448086,
            "y": 14.368249679169049
           }
          ]
         },
         "encoding": {
          "x": {
           "field": "x",
           "type": "quantitative"
          },
          "y": {
           "field": "y",
           "type": "quantitative"
          }
         },
         "mark": {
          "opacity": 0.4,
          "type": "line"
         }
        },
        {
         "data": {
          "values": [
           {
            "x": 4.381407168856096,
            "y": 0
           },
           {
            "x": 4.381407168856096,
            "y": 19.196728779303587
           }
          ]
         },
         "encoding": {
          "x": {
           "field": "x",
           "type": "quantitative"
          },
          "y": {
           "field": "y",
           "type": "quantitative"
          }
         },
         "mark": {
          "opacity": 0.4,
          "type": "line"
         }
        },
        {
         "data": {
          "values": [
           {
            "x": -0.1427469034187756,
            "y": 0
           },
           {
            "x": -0.1427469034187756,
            "y": 0.02037667843564925
           }
          ]
         },
         "encoding": {
          "x": {
           "field": "x",
           "type": "quantitative"
          },
          "y": {
           "field": "y",
           "type": "quantitative"
          }
         },
         "mark": {
          "opacity": 0.4,
          "type": "line"
         }
        },
        {
         "data": {
          "values": [
           {
            "x": 0.6572252234700786,
            "y": 0
           },
           {
            "x": 0.6572252234700786,
            "y": 0.43194499436529477
           }
          ]
         },
         "encoding": {
          "x": {
           "field": "x",
           "type": "quantitative"
          },
          "y": {
           "field": "y",
           "type": "quantitative"
          }
         },
         "mark": {
          "opacity": 0.4,
          "type": "line"
         }
        },
        {
         "data": {
          "values": [
           {
            "x": -0.5983070665015888,
            "y": 0
           },
           {
            "x": -0.5983070665015888,
            "y": 0.35797134582573664
           }
          ]
         },
         "encoding": {
          "x": {
           "field": "x",
           "type": "quantitative"
          },
          "y": {
           "field": "y",
           "type": "quantitative"
          }
         },
         "mark": {
          "opacity": 0.4,
          "type": "line"
         }
        },
        {
         "data": {
          "values": [
           {
            "x": 1.328129437586852,
            "y": 0
           },
           {
            "x": 1.328129437586852,
            "y": 1.7639278029847678
           }
          ]
         },
         "encoding": {
          "x": {
           "field": "x",
           "type": "quantitative"
          },
          "y": {
           "field": "y",
           "type": "quantitative"
          }
         },
         "mark": {
          "opacity": 0.4,
          "type": "line"
         }
        },
        {
         "data": {
          "values": [
           {
            "x": 2.26789362054277,
            "y": 0
           },
           {
            "x": 2.26789362054277,
            "y": 5.143341474098594
           }
          ]
         },
         "encoding": {
          "x": {
           "field": "x",
           "type": "quantitative"
          },
          "y": {
           "field": "y",
           "type": "quantitative"
          }
         },
         "mark": {
          "opacity": 0.4,
          "type": "line"
         }
        },
        {
         "data": {
          "values": [
           {
            "x": 1.0052121188831749,
            "y": 0
           },
           {
            "x": 1.0052121188831749,
            "y": 1.010451403949602
           }
          ]
         },
         "encoding": {
          "x": {
           "field": "x",
           "type": "quantitative"
          },
          "y": {
           "field": "y",
           "type": "quantitative"
          }
         },
         "mark": {
          "opacity": 0.4,
          "type": "line"
         }
        },
        {
         "data": {
          "values": [
           {
            "x": 0.8989448935684696,
            "y": 0
           },
           {
            "x": 0.8989448935684696,
            "y": 0.8081019216728272
           }
          ]
         },
         "encoding": {
          "x": {
           "field": "x",
           "type": "quantitative"
          },
          "y": {
           "field": "y",
           "type": "quantitative"
          }
         },
         "mark": {
          "opacity": 0.4,
          "type": "line"
         }
        },
        {
         "data": {
          "values": [
           {
            "x": 3.835162384873589,
            "y": 0
           },
           {
            "x": 3.835162384873589,
            "y": 14.708470518349275
           }
          ]
         },
         "encoding": {
          "x": {
           "field": "x",
           "type": "quantitative"
          },
          "y": {
           "field": "y",
           "type": "quantitative"
          }
         },
         "mark": {
          "opacity": 0.4,
          "type": "line"
         }
        },
        {
         "data": {
          "values": [
           {
            "x": 1.2732387201087396,
            "y": 0
           },
           {
            "x": 1.2732387201087396,
            "y": 1.6211368383841414
           }
          ]
         },
         "encoding": {
          "x": {
           "field": "x",
           "type": "quantitative"
          },
          "y": {
           "field": "y",
           "type": "quantitative"
          }
         },
         "mark": {
          "opacity": 0.4,
          "type": "line"
         }
        },
        {
         "data": {
          "values": [
           {
            "x": 1.6712338811959708,
            "y": 0
           },
           {
            "x": 1.6712338811959708,
            "y": 2.7930226856573483
           }
          ]
         },
         "encoding": {
          "x": {
           "field": "x",
           "type": "quantitative"
          },
          "y": {
           "field": "y",
           "type": "quantitative"
          }
         },
         "mark": {
          "opacity": 0.4,
          "type": "line"
         }
        },
        {
         "data": {
          "values": [
           {
            "x": 2.5802495403052776,
            "y": 0
           },
           {
            "x": 2.5802495403052776,
            "y": 6.657687690245597
           }
          ]
         },
         "encoding": {
          "x": {
           "field": "x",
           "type": "quantitative"
          },
          "y": {
           "field": "y",
           "type": "quantitative"
          }
         },
         "mark": {
          "opacity": 0.4,
          "type": "line"
         }
        },
        {
         "data": {
          "values": [
           {
            "x": 4.608598528662492,
            "y": 0
           },
           {
            "x": 4.608598528662492,
            "y": 21.239180398390086
           }
          ]
         },
         "encoding": {
          "x": {
           "field": "x",
           "type": "quantitative"
          },
          "y": {
           "field": "y",
           "type": "quantitative"
          }
         },
         "mark": {
          "opacity": 0.4,
          "type": "line"
         }
        },
        {
         "data": {
          "values": [
           {
            "x": -0.6254324082259441,
            "y": 0
           },
           {
            "x": -0.6254324082259441,
            "y": 0.39116569725930406
           }
          ]
         },
         "encoding": {
          "x": {
           "field": "x",
           "type": "quantitative"
          },
          "y": {
           "field": "y",
           "type": "quantitative"
          }
         },
         "mark": {
          "opacity": 0.4,
          "type": "line"
         }
        },
        {
         "data": {
          "values": [
           {
            "x": 2.2276608815515426,
            "y": 0
           },
           {
            "x": 2.2276608815515426,
            "y": 4.962473003194996
           }
          ]
         },
         "encoding": {
          "x": {
           "field": "x",
           "type": "quantitative"
          },
          "y": {
           "field": "y",
           "type": "quantitative"
          }
         },
         "mark": {
          "opacity": 0.4,
          "type": "line"
         }
        },
        {
         "data": {
          "values": [
           {
            "x": 6.220383846358377,
            "y": 0
           },
           {
            "x": 6.220383846358377,
            "y": 38.693175196036236
           }
          ]
         },
         "encoding": {
          "x": {
           "field": "x",
           "type": "quantitative"
          },
          "y": {
           "field": "y",
           "type": "quantitative"
          }
         },
         "mark": {
          "opacity": 0.4,
          "type": "line"
         }
        },
        {
         "data": {
          "values": [
           {
            "x": 1.8536368763476392,
            "y": 0
           },
           {
            "x": 1.8536368763476392,
            "y": 3.435969669355833
           }
          ]
         },
         "encoding": {
          "x": {
           "field": "x",
           "type": "quantitative"
          },
          "y": {
           "field": "y",
           "type": "quantitative"
          }
         },
         "mark": {
          "opacity": 0.4,
          "type": "line"
         }
        },
        {
         "data": {
          "values": [
           {
            "x": 1.6845489853606823,
            "y": 0
           },
           {
            "x": 1.6845489853606823,
            "y": 2.8377052840797043
           }
          ]
         },
         "encoding": {
          "x": {
           "field": "x",
           "type": "quantitative"
          },
          "y": {
           "field": "y",
           "type": "quantitative"
          }
         },
         "mark": {
          "opacity": 0.4,
          "type": "line"
         }
        },
        {
         "data": {
          "values": [
           {
            "x": 0.24487627164690418,
            "y": 0
           },
           {
            "x": 0.24487627164690418,
            "y": 0.05996438841568841
           }
          ]
         },
         "encoding": {
          "x": {
           "field": "x",
           "type": "quantitative"
          },
          "y": {
           "field": "y",
           "type": "quantitative"
          }
         },
         "mark": {
          "opacity": 0.4,
          "type": "line"
         }
        },
        {
         "data": {
          "values": [
           {
            "x": 3.99494829167334,
            "y": 0
           },
           {
            "x": 3.99494829167334,
            "y": 15.959611853143738
           }
          ]
         },
         "encoding": {
          "x": {
           "field": "x",
           "type": "quantitative"
          },
          "y": {
           "field": "y",
           "type": "quantitative"
          }
         },
         "mark": {
          "opacity": 0.4,
          "type": "line"
         }
        },
        {
         "data": {
          "values": [
           {
            "x": 2.066116714963981,
            "y": 0
           },
           {
            "x": 2.066116714963981,
            "y": 4.2688382798535525
           }
          ]
         },
         "encoding": {
          "x": {
           "field": "x",
           "type": "quantitative"
          },
          "y": {
           "field": "y",
           "type": "quantitative"
          }
         },
         "mark": {
          "opacity": 0.4,
          "type": "line"
         }
        },
        {
         "data": {
          "values": [
           {
            "x": 6.157205997373666,
            "y": 0
           },
           {
            "x": 6.157205997373666,
            "y": 37.911185694094236
           }
          ]
         },
         "encoding": {
          "x": {
           "field": "x",
           "type": "quantitative"
          },
          "y": {
           "field": "y",
           "type": "quantitative"
          }
         },
         "mark": {
          "opacity": 0.4,
          "type": "line"
         }
        },
        {
         "data": {
          "values": [
           {
            "x": 2.6109670299819845,
            "y": 0
           },
           {
            "x": 2.6109670299819845,
            "y": 6.817148831652945
           }
          ]
         },
         "encoding": {
          "x": {
           "field": "x",
           "type": "quantitative"
          },
          "y": {
           "field": "y",
           "type": "quantitative"
          }
         },
         "mark": {
          "opacity": 0.4,
          "type": "line"
         }
        },
        {
         "data": {
          "values": [
           {
            "x": 1.345377858485708,
            "y": 0
           },
           {
            "x": 1.345377858485708,
            "y": 1.8100415821035896
           }
          ]
         },
         "encoding": {
          "x": {
           "field": "x",
           "type": "quantitative"
          },
          "y": {
           "field": "y",
           "type": "quantitative"
          }
         },
         "mark": {
          "opacity": 0.4,
          "type": "line"
         }
        },
        {
         "data": {
          "values": [
           {
            "x": 0.1777302697842833,
            "y": 0
           },
           {
            "x": 0.1777302697842833,
            "y": 0.03158804879759412
           }
          ]
         },
         "encoding": {
          "x": {
           "field": "x",
           "type": "quantitative"
          },
          "y": {
           "field": "y",
           "type": "quantitative"
          }
         },
         "mark": {
          "opacity": 0.4,
          "type": "line"
         }
        },
        {
         "data": {
          "values": [
           {
            "x": 2.898037795240216,
            "y": 0
           },
           {
            "x": 2.898037795240216,
            "y": 8.398623062640771
           }
          ]
         },
         "encoding": {
          "x": {
           "field": "x",
           "type": "quantitative"
          },
          "y": {
           "field": "y",
           "type": "quantitative"
          }
         },
         "mark": {
          "opacity": 0.4,
          "type": "line"
         }
        },
        {
         "data": {
          "values": [
           {
            "x": 2.947243794641734,
            "y": 0
           },
           {
            "x": 2.947243794641734,
            "y": 8.686245985054208
           }
          ]
         },
         "encoding": {
          "x": {
           "field": "x",
           "type": "quantitative"
          },
          "y": {
           "field": "y",
           "type": "quantitative"
          }
         },
         "mark": {
          "opacity": 0.4,
          "type": "line"
         }
        },
        {
         "data": {
          "values": [
           {
            "x": 3.007985350156921,
            "y": 0
           },
           {
            "x": 3.007985350156921,
            "y": 9.047975866758653
           }
          ]
         },
         "encoding": {
          "x": {
           "field": "x",
           "type": "quantitative"
          },
          "y": {
           "field": "y",
           "type": "quantitative"
          }
         },
         "mark": {
          "opacity": 0.4,
          "type": "line"
         }
        },
        {
         "data": {
          "values": [
           {
            "x": 5.55567876440192,
            "y": 0
           },
           {
            "x": 5.55567876440192,
            "y": 30.865566533226442
           }
          ]
         },
         "encoding": {
          "x": {
           "field": "x",
           "type": "quantitative"
          },
          "y": {
           "field": "y",
           "type": "quantitative"
          }
         },
         "mark": {
          "opacity": 0.4,
          "type": "line"
         }
        },
        {
         "data": {
          "values": [
           {
            "x": 2.9981064406745213,
            "y": 0
           },
           {
            "x": 2.9981064406745213,
            "y": 8.988642229614047
           }
          ]
         },
         "encoding": {
          "x": {
           "field": "x",
           "type": "quantitative"
          },
          "y": {
           "field": "y",
           "type": "quantitative"
          }
         },
         "mark": {
          "opacity": 0.4,
          "type": "line"
         }
        },
        {
         "data": {
          "values": [
           {
            "x": 4.113489519448909,
            "y": 0
           },
           {
            "x": 4.113489519448909,
            "y": 16.920796026616017
           }
          ]
         },
         "encoding": {
          "x": {
           "field": "x",
           "type": "quantitative"
          },
          "y": {
           "field": "y",
           "type": "quantitative"
          }
         },
         "mark": {
          "opacity": 0.4,
          "type": "line"
         }
        },
        {
         "data": {
          "values": [
           {
            "x": 4.09032469997636,
            "y": 0
           },
           {
            "x": 4.09032469997636,
            "y": 16.7307561512367
           }
          ]
         },
         "encoding": {
          "x": {
           "field": "x",
           "type": "quantitative"
          },
          "y": {
           "field": "y",
           "type": "quantitative"
          }
         },
         "mark": {
          "opacity": 0.4,
          "type": "line"
         }
        },
        {
         "data": {
          "values": [
           {
            "x": -0.7264197145592202,
            "y": 0
           },
           {
            "x": -0.7264197145592202,
            "y": 0.5276856017002989
           }
          ]
         },
         "encoding": {
          "x": {
           "field": "x",
           "type": "quantitative"
          },
          "y": {
           "field": "y",
           "type": "quantitative"
          }
         },
         "mark": {
          "opacity": 0.4,
          "type": "line"
         }
        },
        {
         "data": {
          "values": [
           {
            "x": 2.975467869396813,
            "y": 0
           },
           {
            "x": 2.975467869396813,
            "y": 8.853409041812808
           }
          ]
         },
         "encoding": {
          "x": {
           "field": "x",
           "type": "quantitative"
          },
          "y": {
           "field": "y",
           "type": "quantitative"
          }
         },
         "mark": {
          "opacity": 0.4,
          "type": "line"
         }
        },
        {
         "data": {
          "values": [
           {
            "x": 0.4143453918666866,
            "y": 0
           },
           {
            "x": 0.4143453918666866,
            "y": 0.17168210376115808
           }
          ]
         },
         "encoding": {
          "x": {
           "field": "x",
           "type": "quantitative"
          },
          "y": {
           "field": "y",
           "type": "quantitative"
          }
         },
         "mark": {
          "opacity": 0.4,
          "type": "line"
         }
        },
        {
         "data": {
          "values": [
           {
            "x": 0.93505034467337,
            "y": 0
           },
           {
            "x": 0.93505034467337,
            "y": 0.874319147073788
           }
          ]
         },
         "encoding": {
          "x": {
           "field": "x",
           "type": "quantitative"
          },
          "y": {
           "field": "y",
           "type": "quantitative"
          }
         },
         "mark": {
          "opacity": 0.4,
          "type": "line"
         }
        },
        {
         "data": {
          "values": [
           {
            "x": 3.1590104473829768,
            "y": 0
           },
           {
            "x": 3.1590104473829768,
            "y": 9.979347006674795
           }
          ]
         },
         "encoding": {
          "x": {
           "field": "x",
           "type": "quantitative"
          },
          "y": {
           "field": "y",
           "type": "quantitative"
          }
         },
         "mark": {
          "opacity": 0.4,
          "type": "line"
         }
        },
        {
         "data": {
          "values": [
           {
            "x": 2.500406367407076,
            "y": 0
           },
           {
            "x": 2.500406367407076,
            "y": 6.252032002169848
           }
          ]
         },
         "encoding": {
          "x": {
           "field": "x",
           "type": "quantitative"
          },
          "y": {
           "field": "y",
           "type": "quantitative"
          }
         },
         "mark": {
          "opacity": 0.4,
          "type": "line"
         }
        },
        {
         "data": {
          "values": [
           {
            "x": 5.195931289478025,
            "y": 0
           },
           {
            "x": 5.195931289478025,
            "y": 26.997701964976777
           }
          ]
         },
         "encoding": {
          "x": {
           "field": "x",
           "type": "quantitative"
          },
          "y": {
           "field": "y",
           "type": "quantitative"
          }
         },
         "mark": {
          "opacity": 0.4,
          "type": "line"
         }
        },
        {
         "data": {
          "values": [
           {
            "x": 3.361550654300809,
            "y": 0
           },
           {
            "x": 3.361550654300809,
            "y": 11.300022801430197
           }
          ]
         },
         "encoding": {
          "x": {
           "field": "x",
           "type": "quantitative"
          },
          "y": {
           "field": "y",
           "type": "quantitative"
          }
         },
         "mark": {
          "opacity": 0.4,
          "type": "line"
         }
        },
        {
         "data": {
          "values": [
           {
            "x": 1.846730486539168,
            "y": 0
           },
           {
            "x": 1.846730486539168,
            "y": 3.4104134899131924
           }
          ]
         },
         "encoding": {
          "x": {
           "field": "x",
           "type": "quantitative"
          },
          "y": {
           "field": "y",
           "type": "quantitative"
          }
         },
         "mark": {
          "opacity": 0.4,
          "type": "line"
         }
        },
        {
         "data": {
          "values": [
           {
            "x": 0.46982835482435226,
            "y": 0
           },
           {
            "x": 0.46982835482435226,
            "y": 0.22073868299695745
           }
          ]
         },
         "encoding": {
          "x": {
           "field": "x",
           "type": "quantitative"
          },
          "y": {
           "field": "y",
           "type": "quantitative"
          }
         },
         "mark": {
          "opacity": 0.4,
          "type": "line"
         }
        },
        {
         "data": {
          "values": [
           {
            "x": 2.9646766461089684,
            "y": 0
           },
           {
            "x": 2.9646766461089684,
            "y": 8.78930761598392
           }
          ]
         },
         "encoding": {
          "x": {
           "field": "x",
           "type": "quantitative"
          },
          "y": {
           "field": "y",
           "type": "quantitative"
          }
         },
         "mark": {
          "opacity": 0.4,
          "type": "line"
         }
        },
        {
         "data": {
          "values": [
           {
            "x": 3.081406331221415,
            "y": 0
           },
           {
            "x": 3.081406331221415,
            "y": 9.49506497809142
           }
          ]
         },
         "encoding": {
          "x": {
           "field": "x",
           "type": "quantitative"
          },
          "y": {
           "field": "y",
           "type": "quantitative"
          }
         },
         "mark": {
          "opacity": 0.4,
          "type": "line"
         }
        },
        {
         "data": {
          "values": [
           {
            "x": 2.2830319099987055,
            "y": 0
           },
           {
            "x": 2.2830319099987055,
            "y": 5.212234702072338
           }
          ]
         },
         "encoding": {
          "x": {
           "field": "x",
           "type": "quantitative"
          },
          "y": {
           "field": "y",
           "type": "quantitative"
          }
         },
         "mark": {
          "opacity": 0.4,
          "type": "line"
         }
        },
        {
         "data": {
          "values": [
           {
            "x": -3.708554363827835,
            "y": 0
           },
           {
            "x": -3.708554363827835,
            "y": 13.753375469466476
           }
          ]
         },
         "encoding": {
          "x": {
           "field": "x",
           "type": "quantitative"
          },
          "y": {
           "field": "y",
           "type": "quantitative"
          }
         },
         "mark": {
          "opacity": 0.4,
          "type": "line"
         }
        },
        {
         "data": {
          "values": [
           {
            "x": 0.9129732708553111,
            "y": 0
           },
           {
            "x": 0.9129732708553111,
            "y": 0.8335201932962453
           }
          ]
         },
         "encoding": {
          "x": {
           "field": "x",
           "type": "quantitative"
          },
          "y": {
           "field": "y",
           "type": "quantitative"
          }
         },
         "mark": {
          "opacity": 0.4,
          "type": "line"
         }
        },
        {
         "data": {
          "values": [
           {
            "x": 3.01394921238922,
            "y": 0
           },
           {
            "x": 3.01394921238922,
            "y": 9.083889854861601
           }
          ]
         },
         "encoding": {
          "x": {
           "field": "x",
           "type": "quantitative"
          },
          "y": {
           "field": "y",
           "type": "quantitative"
          }
         },
         "mark": {
          "opacity": 0.4,
          "type": "line"
         }
        },
        {
         "data": {
          "values": [
           {
            "x": 2.7432074731977965,
            "y": 0
           },
           {
            "x": 2.7432074731977965,
            "y": 7.525187241008239
           }
          ]
         },
         "encoding": {
          "x": {
           "field": "x",
           "type": "quantitative"
          },
          "y": {
           "field": "y",
           "type": "quantitative"
          }
         },
         "mark": {
          "opacity": 0.4,
          "type": "line"
         }
        },
        {
         "data": {
          "values": [
           {
            "x": 4.509797305236611,
            "y": 0
           },
           {
            "x": 4.509797305236611,
            "y": 20.3382717343194
           }
          ]
         },
         "encoding": {
          "x": {
           "field": "x",
           "type": "quantitative"
          },
          "y": {
           "field": "y",
           "type": "quantitative"
          }
         },
         "mark": {
          "opacity": 0.4,
          "type": "line"
         }
        },
        {
         "data": {
          "values": [
           {
            "x": 3.9696174672103384,
            "y": 0
           },
           {
            "x": 3.9696174672103384,
            "y": 15.757862835981422
           }
          ]
         },
         "encoding": {
          "x": {
           "field": "x",
           "type": "quantitative"
          },
          "y": {
           "field": "y",
           "type": "quantitative"
          }
         },
         "mark": {
          "opacity": 0.4,
          "type": "line"
         }
        },
        {
         "data": {
          "values": [
           {
            "x": 7.670525781931196,
            "y": 0
           },
           {
            "x": 7.670525781931196,
            "y": 58.83696577127118
           }
          ]
         },
         "encoding": {
          "x": {
           "field": "x",
           "type": "quantitative"
          },
          "y": {
           "field": "y",
           "type": "quantitative"
          }
         },
         "mark": {
          "opacity": 0.4,
          "type": "line"
         }
        },
        {
         "data": {
          "values": [
           {
            "x": 3.473184968231813,
            "y": 0
           },
           {
            "x": 3.473184968231813,
            "y": 12.06301382355142
           }
          ]
         },
         "encoding": {
          "x": {
           "field": "x",
           "type": "quantitative"
          },
          "y": {
           "field": "y",
           "type": "quantitative"
          }
         },
         "mark": {
          "opacity": 0.4,
          "type": "line"
         }
        },
        {
         "data": {
          "values": [
           {
            "x": 2.5994867426888795,
            "y": 0
           },
           {
            "x": 2.5994867426888795,
            "y": 6.75733132541524
           }
          ]
         },
         "encoding": {
          "x": {
           "field": "x",
           "type": "quantitative"
          },
          "y": {
           "field": "y",
           "type": "quantitative"
          }
         },
         "mark": {
          "opacity": 0.4,
          "type": "line"
         }
        },
        {
         "data": {
          "values": [
           {
            "x": -0.3538096655788352,
            "y": 0
           },
           {
            "x": -0.3538096655788352,
            "y": 0.1251812794570072
           }
          ]
         },
         "encoding": {
          "x": {
           "field": "x",
           "type": "quantitative"
          },
          "y": {
           "field": "y",
           "type": "quantitative"
          }
         },
         "mark": {
          "opacity": 0.4,
          "type": "line"
         }
        },
        {
         "data": {
          "values": [
           {
            "x": 2.6701445495012934,
            "y": 0
           },
           {
            "x": 2.6701445495012934,
            "y": 7.129671915231465
           }
          ]
         },
         "encoding": {
          "x": {
           "field": "x",
           "type": "quantitative"
          },
          "y": {
           "field": "y",
           "type": "quantitative"
          }
         },
         "mark": {
          "opacity": 0.4,
          "type": "line"
         }
        },
        {
         "data": {
          "values": [
           {
            "x": 2.020927659000037,
            "y": 0
           },
           {
            "x": 2.020927659000037,
            "y": 4.0841486029113705
           }
          ]
         },
         "encoding": {
          "x": {
           "field": "x",
           "type": "quantitative"
          },
          "y": {
           "field": "y",
           "type": "quantitative"
          }
         },
         "mark": {
          "opacity": 0.4,
          "type": "line"
         }
        },
        {
         "data": {
          "values": [
           {
            "x": 4.417384477537351,
            "y": 0
           },
           {
            "x": 4.417384477537351,
            "y": 19.513285622387937
           }
          ]
         },
         "encoding": {
          "x": {
           "field": "x",
           "type": "quantitative"
          },
          "y": {
           "field": "y",
           "type": "quantitative"
          }
         },
         "mark": {
          "opacity": 0.4,
          "type": "line"
         }
        },
        {
         "data": {
          "values": [
           {
            "x": 4.970663805193913,
            "y": 0
           },
           {
            "x": 4.970663805193913,
            "y": 24.707498664264833
           }
          ]
         },
         "encoding": {
          "x": {
           "field": "x",
           "type": "quantitative"
          },
          "y": {
           "field": "y",
           "type": "quantitative"
          }
         },
         "mark": {
          "opacity": 0.4,
          "type": "line"
         }
        },
        {
         "data": {
          "values": [
           {
            "x": 3.0283962971550187,
            "y": 0
           },
           {
            "x": 3.0283962971550187,
            "y": 9.171184132622228
           }
          ]
         },
         "encoding": {
          "x": {
           "field": "x",
           "type": "quantitative"
          },
          "y": {
           "field": "y",
           "type": "quantitative"
          }
         },
         "mark": {
          "opacity": 0.4,
          "type": "line"
         }
        },
        {
         "data": {
          "values": [
           {
            "x": 3.7431030057318027,
            "y": 0
           },
           {
            "x": 3.7431030057318027,
            "y": 14.010820111518456
           }
          ]
         },
         "encoding": {
          "x": {
           "field": "x",
           "type": "quantitative"
          },
          "y": {
           "field": "y",
           "type": "quantitative"
          }
         },
         "mark": {
          "opacity": 0.4,
          "type": "line"
         }
        },
        {
         "data": {
          "values": [
           {
            "x": -0.6012380438165099,
            "y": 0
           },
           {
            "x": -0.6012380438165099,
            "y": 0.3614871853323035
           }
          ]
         },
         "encoding": {
          "x": {
           "field": "x",
           "type": "quantitative"
          },
          "y": {
           "field": "y",
           "type": "quantitative"
          }
         },
         "mark": {
          "opacity": 0.4,
          "type": "line"
         }
        },
        {
         "data": {
          "values": [
           {
            "x": 2.859519140953845,
            "y": 0
           },
           {
            "x": 2.859519140953845,
            "y": 8.176849717481417
           }
          ]
         },
         "encoding": {
          "x": {
           "field": "x",
           "type": "quantitative"
          },
          "y": {
           "field": "y",
           "type": "quantitative"
          }
         },
         "mark": {
          "opacity": 0.4,
          "type": "line"
         }
        },
        {
         "data": {
          "values": [
           {
            "x": 3.766741491874839,
            "y": 0
           },
           {
            "x": 3.766741491874839,
            "y": 14.188341466611488
           }
          ]
         },
         "encoding": {
          "x": {
           "field": "x",
           "type": "quantitative"
          },
          "y": {
           "field": "y",
           "type": "quantitative"
          }
         },
         "mark": {
          "opacity": 0.4,
          "type": "line"
         }
        },
        {
         "data": {
          "values": [
           {
            "x": 1.4195595354369748,
            "y": 0
           },
           {
            "x": 1.4195595354369748,
            "y": 2.0151492746500397
           }
          ]
         },
         "encoding": {
          "x": {
           "field": "x",
           "type": "quantitative"
          },
          "y": {
           "field": "y",
           "type": "quantitative"
          }
         },
         "mark": {
          "opacity": 0.4,
          "type": "line"
         }
        },
        {
         "data": {
          "values": [
           {
            "x": 2.921252249960081,
            "y": 0
           },
           {
            "x": 2.921252249960081,
            "y": 8.533714707896836
           }
          ]
         },
         "encoding": {
          "x": {
           "field": "x",
           "type": "quantitative"
          },
          "y": {
           "field": "y",
           "type": "quantitative"
          }
         },
         "mark": {
          "opacity": 0.4,
          "type": "line"
         }
        },
        {
         "data": {
          "values": [
           {
            "x": 1.6916188637778131,
            "y": 0
           },
           {
            "x": 1.6916188637778131,
            "y": 2.8615743802889395
           }
          ]
         },
         "encoding": {
          "x": {
           "field": "x",
           "type": "quantitative"
          },
          "y": {
           "field": "y",
           "type": "quantitative"
          }
         },
         "mark": {
          "opacity": 0.4,
          "type": "line"
         }
        },
        {
         "data": {
          "values": [
           {
            "x": -1.780367234239007,
            "y": 0
           },
           {
            "x": -1.780367234239007,
            "y": 3.169707488751851
           }
          ]
         },
         "encoding": {
          "x": {
           "field": "x",
           "type": "quantitative"
          },
          "y": {
           "field": "y",
           "type": "quantitative"
          }
         },
         "mark": {
          "opacity": 0.4,
          "type": "line"
         }
        },
        {
         "data": {
          "values": [
           {
            "x": 1.8452657762857303,
            "y": 0
           },
           {
            "x": 1.8452657762857303,
            "y": 3.4050057851313786
           }
          ]
         },
         "encoding": {
          "x": {
           "field": "x",
           "type": "quantitative"
          },
          "y": {
           "field": "y",
           "type": "quantitative"
          }
         },
         "mark": {
          "opacity": 0.4,
          "type": "line"
         }
        },
        {
         "data": {
          "values": [
           {
            "x": 4.694094334869032,
            "y": 0
           },
           {
            "x": 4.694094334869032,
            "y": 22.03452162464954
           }
          ]
         },
         "encoding": {
          "x": {
           "field": "x",
           "type": "quantitative"
          },
          "y": {
           "field": "y",
           "type": "quantitative"
          }
         },
         "mark": {
          "opacity": 0.4,
          "type": "line"
         }
        },
        {
         "data": {
          "values": [
           {
            "x": 2.811449824773695,
            "y": 0
           },
           {
            "x": 2.811449824773695,
            "y": 7.904250117220042
           }
          ]
         },
         "encoding": {
          "x": {
           "field": "x",
           "type": "quantitative"
          },
          "y": {
           "field": "y",
           "type": "quantitative"
          }
         },
         "mark": {
          "opacity": 0.4,
          "type": "line"
         }
        },
        {
         "data": {
          "values": [
           {
            "x": 2.7325711722762307,
            "y": 0
           },
           {
            "x": 2.7325711722762307,
            "y": 7.466945211555093
           }
          ]
         },
         "encoding": {
          "x": {
           "field": "x",
           "type": "quantitative"
          },
          "y": {
           "field": "y",
           "type": "quantitative"
          }
         },
         "mark": {
          "opacity": 0.4,
          "type": "line"
         }
        },
        {
         "data": {
          "values": [
           {
            "x": 3.58327359971317,
            "y": 0
           },
           {
            "x": 3.58327359971317,
            "y": 12.83984969040138
           }
          ]
         },
         "encoding": {
          "x": {
           "field": "x",
           "type": "quantitative"
          },
          "y": {
           "field": "y",
           "type": "quantitative"
          }
         },
         "mark": {
          "opacity": 0.4,
          "type": "line"
         }
        },
        {
         "data": {
          "values": [
           {
            "x": 4.934590678475484,
            "y": 0
           },
           {
            "x": 4.934590678475484,
            "y": 24.350185164097137
           }
          ]
         },
         "encoding": {
          "x": {
           "field": "x",
           "type": "quantitative"
          },
          "y": {
           "field": "y",
           "type": "quantitative"
          }
         },
         "mark": {
          "opacity": 0.4,
          "type": "line"
         }
        },
        {
         "data": {
          "values": [
           {
            "x": 2.315640473584893,
            "y": 0
           },
           {
            "x": 2.315640473584893,
            "y": 5.362190802904468
           }
          ]
         },
         "encoding": {
          "x": {
           "field": "x",
           "type": "quantitative"
          },
          "y": {
           "field": "y",
           "type": "quantitative"
          }
         },
         "mark": {
          "opacity": 0.4,
          "type": "line"
         }
        },
        {
         "data": {
          "values": [
           {
            "x": -0.27006043448867967,
            "y": 0
           },
           {
            "x": -0.27006043448867967,
            "y": 0.07293263827621445
           }
          ]
         },
         "encoding": {
          "x": {
           "field": "x",
           "type": "quantitative"
          },
          "y": {
           "field": "y",
           "type": "quantitative"
          }
         },
         "mark": {
          "opacity": 0.4,
          "type": "line"
         }
        },
        {
         "data": {
          "values": [
           {
            "x": 3.295211906508445,
            "y": 0
           },
           {
            "x": 3.295211906508445,
            "y": 10.85842150879502
           }
          ]
         },
         "encoding": {
          "x": {
           "field": "x",
           "type": "quantitative"
          },
          "y": {
           "field": "y",
           "type": "quantitative"
          }
         },
         "mark": {
          "opacity": 0.4,
          "type": "line"
         }
        },
        {
         "data": {
          "values": [
           {
            "x": 2.4616193417999863,
            "y": 0
           },
           {
            "x": 2.4616193417999863,
            "y": 6.059569783923798
           }
          ]
         },
         "encoding": {
          "x": {
           "field": "x",
           "type": "quantitative"
          },
          "y": {
           "field": "y",
           "type": "quantitative"
          }
         },
         "mark": {
          "opacity": 0.4,
          "type": "line"
         }
        },
        {
         "data": {
          "values": [
           {
            "x": -1.1054006548663113,
            "y": 0
           },
           {
            "x": -1.1054006548663113,
            "y": 1.22191060777887
           }
          ]
         },
         "encoding": {
          "x": {
           "field": "x",
           "type": "quantitative"
          },
          "y": {
           "field": "y",
           "type": "quantitative"
          }
         },
         "mark": {
          "opacity": 0.4,
          "type": "line"
         }
        },
        {
         "data": {
          "values": [
           {
            "x": 4.3371469576679855,
            "y": 0
           },
           {
            "x": 4.3371469576679855,
            "y": 18.810843732408664
           }
          ]
         },
         "encoding": {
          "x": {
           "field": "x",
           "type": "quantitative"
          },
          "y": {
           "field": "y",
           "type": "quantitative"
          }
         },
         "mark": {
          "opacity": 0.4,
          "type": "line"
         }
        },
        {
         "data": {
          "values": [
           {
            "x": 3.2524127068829123,
            "y": 0
           },
           {
            "x": 3.2524127068829123,
            "y": 10.578188415893433
           }
          ]
         },
         "encoding": {
          "x": {
           "field": "x",
           "type": "quantitative"
          },
          "y": {
           "field": "y",
           "type": "quantitative"
          }
         },
         "mark": {
          "opacity": 0.4,
          "type": "line"
         }
        },
        {
         "data": {
          "values": [
           {
            "x": 1.5088763810850527,
            "y": 0
           },
           {
            "x": 1.5088763810850527,
            "y": 2.276707933396325
           }
          ]
         },
         "encoding": {
          "x": {
           "field": "x",
           "type": "quantitative"
          },
          "y": {
           "field": "y",
           "type": "quantitative"
          }
         },
         "mark": {
          "opacity": 0.4,
          "type": "line"
         }
        },
        {
         "data": {
          "values": [
           {
            "x": 1.835335975533315,
            "y": 0
           },
           {
            "x": 1.835335975533315,
            "y": 3.368458143086825
           }
          ]
         },
         "encoding": {
          "x": {
           "field": "x",
           "type": "quantitative"
          },
          "y": {
           "field": "y",
           "type": "quantitative"
          }
         },
         "mark": {
          "opacity": 0.4,
          "type": "line"
         }
        },
        {
         "data": {
          "values": [
           {
            "x": 2.367075083774774,
            "y": 0
           },
           {
            "x": 2.367075083774774,
            "y": 5.603044452227354
           }
          ]
         },
         "encoding": {
          "x": {
           "field": "x",
           "type": "quantitative"
          },
          "y": {
           "field": "y",
           "type": "quantitative"
          }
         },
         "mark": {
          "opacity": 0.4,
          "type": "line"
         }
        },
        {
         "data": {
          "values": [
           {
            "x": -0.5258753844219948,
            "y": 0
           },
           {
            "x": -0.5258753844219948,
            "y": 0.2765449199409808
           }
          ]
         },
         "encoding": {
          "x": {
           "field": "x",
           "type": "quantitative"
          },
          "y": {
           "field": "y",
           "type": "quantitative"
          }
         },
         "mark": {
          "opacity": 0.4,
          "type": "line"
         }
        },
        {
         "data": {
          "values": [
           {
            "x": 0.56454376363984,
            "y": 0
           },
           {
            "x": 0.56454376363984,
            "y": 0.3187096610646356
           }
          ]
         },
         "encoding": {
          "x": {
           "field": "x",
           "type": "quantitative"
          },
          "y": {
           "field": "y",
           "type": "quantitative"
          }
         },
         "mark": {
          "opacity": 0.4,
          "type": "line"
         }
        },
        {
         "data": {
          "values": [
           {
            "x": 5.834287570244392,
            "y": 0
           },
           {
            "x": 5.834287570244392,
            "y": 34.03891145230821
           }
          ]
         },
         "encoding": {
          "x": {
           "field": "x",
           "type": "quantitative"
          },
          "y": {
           "field": "y",
           "type": "quantitative"
          }
         },
         "mark": {
          "opacity": 0.4,
          "type": "line"
         }
        },
        {
         "data": {
          "values": [
           {
            "x": 3.9652498425709988,
            "y": 0
           },
           {
            "x": 3.9652498425709988,
            "y": 15.72320631400933
           }
          ]
         },
         "encoding": {
          "x": {
           "field": "x",
           "type": "quantitative"
          },
          "y": {
           "field": "y",
           "type": "quantitative"
          }
         },
         "mark": {
          "opacity": 0.4,
          "type": "line"
         }
        },
        {
         "data": {
          "values": [
           {
            "x": 3.501918540788459,
            "y": 0
           },
           {
            "x": 3.501918540788459,
            "y": 12.263433466317972
           }
          ]
         },
         "encoding": {
          "x": {
           "field": "x",
           "type": "quantitative"
          },
          "y": {
           "field": "y",
           "type": "quantitative"
          }
         },
         "mark": {
          "opacity": 0.4,
          "type": "line"
         }
        },
        {
         "data": {
          "values": [
           {
            "x": 3.6342586349727624,
            "y": 0
           },
           {
            "x": 3.6342586349727624,
            "y": 13.207835825874087
           }
          ]
         },
         "encoding": {
          "x": {
           "field": "x",
           "type": "quantitative"
          },
          "y": {
           "field": "y",
           "type": "quantitative"
          }
         },
         "mark": {
          "opacity": 0.4,
          "type": "line"
         }
        },
        {
         "data": {
          "values": [
           {
            "x": 2.4836452492313468,
            "y": 0
           },
           {
            "x": 2.4836452492313468,
            "y": 6.168493724029439
           }
          ]
         },
         "encoding": {
          "x": {
           "field": "x",
           "type": "quantitative"
          },
          "y": {
           "field": "y",
           "type": "quantitative"
          }
         },
         "mark": {
          "opacity": 0.4,
          "type": "line"
         }
        },
        {
         "data": {
          "values": [
           {
            "x": 4.109315493434729,
            "y": 0
           },
           {
            "x": 4.109315493434729,
            "y": 16.886473824582712
           }
          ]
         },
         "encoding": {
          "x": {
           "field": "x",
           "type": "quantitative"
          },
          "y": {
           "field": "y",
           "type": "quantitative"
          }
         },
         "mark": {
          "opacity": 0.4,
          "type": "line"
         }
        },
        {
         "data": {
          "values": [
           {
            "x": 1.852619622966818,
            "y": 0
           },
           {
            "x": 1.852619622966818,
            "y": 3.4321994674017144
           }
          ]
         },
         "encoding": {
          "x": {
           "field": "x",
           "type": "quantitative"
          },
          "y": {
           "field": "y",
           "type": "quantitative"
          }
         },
         "mark": {
          "opacity": 0.4,
          "type": "line"
         }
        },
        {
         "data": {
          "values": [
           {
            "x": 2.368965013769602,
            "y": 0
           },
           {
            "x": 2.368965013769602,
            "y": 5.611995236464411
           }
          ]
         },
         "encoding": {
          "x": {
           "field": "x",
           "type": "quantitative"
          },
          "y": {
           "field": "y",
           "type": "quantitative"
          }
         },
         "mark": {
          "opacity": 0.4,
          "type": "line"
         }
        },
        {
         "data": {
          "values": [
           {
            "x": -0.8389910385597177,
            "y": 0
           },
           {
            "x": -0.8389910385597177,
            "y": 0.7039059627835137
           }
          ]
         },
         "encoding": {
          "x": {
           "field": "x",
           "type": "quantitative"
          },
          "y": {
           "field": "y",
           "type": "quantitative"
          }
         },
         "mark": {
          "opacity": 0.4,
          "type": "line"
         }
        },
        {
         "data": {
          "values": [
           {
            "x": 3.1103381337467964,
            "y": 0
           },
           {
            "x": 3.1103381337467964,
            "y": 9.674203306239503
           }
          ]
         },
         "encoding": {
          "x": {
           "field": "x",
           "type": "quantitative"
          },
          "y": {
           "field": "y",
           "type": "quantitative"
          }
         },
         "mark": {
          "opacity": 0.4,
          "type": "line"
         }
        },
        {
         "data": {
          "values": [
           {
            "x": -0.39847316414040534,
            "y": 0
           },
           {
            "x": -0.39847316414040534,
            "y": 0.15878086254006643
           }
          ]
         },
         "encoding": {
          "x": {
           "field": "x",
           "type": "quantitative"
          },
          "y": {
           "field": "y",
           "type": "quantitative"
          }
         },
         "mark": {
          "opacity": 0.4,
          "type": "line"
         }
        },
        {
         "data": {
          "values": [
           {
            "x": 1.4073345512671143,
            "y": 0
           },
           {
            "x": 1.4073345512671143,
            "y": 1.9805905391902099
           }
          ]
         },
         "encoding": {
          "x": {
           "field": "x",
           "type": "quantitative"
          },
          "y": {
           "field": "y",
           "type": "quantitative"
          }
         },
         "mark": {
          "opacity": 0.4,
          "type": "line"
         }
        },
        {
         "data": {
          "values": [
           {
            "x": 3.844179352053827,
            "y": 0
           },
           {
            "x": 3.844179352053827,
            "y": 14.77771489075698
           }
          ]
         },
         "encoding": {
          "x": {
           "field": "x",
           "type": "quantitative"
          },
          "y": {
           "field": "y",
           "type": "quantitative"
          }
         },
         "mark": {
          "opacity": 0.4,
          "type": "line"
         }
        },
        {
         "data": {
          "values": [
           {
            "x": 3.615464057826353,
            "y": 0
           },
           {
            "x": 3.615464057826353,
            "y": 13.071580353434197
           }
          ]
         },
         "encoding": {
          "x": {
           "field": "x",
           "type": "quantitative"
          },
          "y": {
           "field": "y",
           "type": "quantitative"
          }
         },
         "mark": {
          "opacity": 0.4,
          "type": "line"
         }
        },
        {
         "data": {
          "values": [
           {
            "x": -1.6201539345823655,
            "y": 0
           },
           {
            "x": -1.6201539345823655,
            "y": 2.62489877174272
           }
          ]
         },
         "encoding": {
          "x": {
           "field": "x",
           "type": "quantitative"
          },
          "y": {
           "field": "y",
           "type": "quantitative"
          }
         },
         "mark": {
          "opacity": 0.4,
          "type": "line"
         }
        },
        {
         "data": {
          "values": [
           {
            "x": 1.1688964506108388,
            "y": 0
           },
           {
            "x": 1.1688964506108388,
            "y": 1.3663189122506172
           }
          ]
         },
         "encoding": {
          "x": {
           "field": "x",
           "type": "quantitative"
          },
          "y": {
           "field": "y",
           "type": "quantitative"
          }
         },
         "mark": {
          "opacity": 0.4,
          "type": "line"
         }
        },
        {
         "data": {
          "values": [
           {
            "x": 2.0307861916168104,
            "y": 0
           },
           {
            "x": 2.0307861916168104,
            "y": 4.124092556061509
           }
          ]
         },
         "encoding": {
          "x": {
           "field": "x",
           "type": "quantitative"
          },
          "y": {
           "field": "y",
           "type": "quantitative"
          }
         },
         "mark": {
          "opacity": 0.4,
          "type": "line"
         }
        },
        {
         "data": {
          "values": [
           {
            "x": 2.860337969623637,
            "y": 0
           },
           {
            "x": 2.860337969623637,
            "y": 8.181533300470669
           }
          ]
         },
         "encoding": {
          "x": {
           "field": "x",
           "type": "quantitative"
          },
          "y": {
           "field": "y",
           "type": "quantitative"
          }
         },
         "mark": {
          "opacity": 0.4,
          "type": "line"
         }
        },
        {
         "data": {
          "values": [
           {
            "x": 5.578715455741188,
            "y": 0
           },
           {
            "x": 5.578715455741188,
            "y": 31.122066136125607
           }
          ]
         },
         "encoding": {
          "x": {
           "field": "x",
           "type": "quantitative"
          },
          "y": {
           "field": "y",
           "type": "quantitative"
          }
         },
         "mark": {
          "opacity": 0.4,
          "type": "line"
         }
        },
        {
         "data": {
          "values": [
           {
            "x": 1.317639058834002,
            "y": 0
           },
           {
            "x": 1.317639058834002,
            "y": 1.7361726893649543
           }
          ]
         },
         "encoding": {
          "x": {
           "field": "x",
           "type": "quantitative"
          },
          "y": {
           "field": "y",
           "type": "quantitative"
          }
         },
         "mark": {
          "opacity": 0.4,
          "type": "line"
         }
        },
        {
         "data": {
          "values": [
           {
            "x": 4.02707957513633,
            "y": 0
           },
           {
            "x": 4.02707957513633,
            "y": 16.217369904480204
           }
          ]
         },
         "encoding": {
          "x": {
           "field": "x",
           "type": "quantitative"
          },
          "y": {
           "field": "y",
           "type": "quantitative"
          }
         },
         "mark": {
          "opacity": 0.4,
          "type": "line"
         }
        },
        {
         "data": {
          "values": [
           {
            "x": 5.054347651365438,
            "y": 0
           },
           {
            "x": 5.054347651365438,
            "y": 25.546430180863318
           }
          ]
         },
         "encoding": {
          "x": {
           "field": "x",
           "type": "quantitative"
          },
          "y": {
           "field": "y",
           "type": "quantitative"
          }
         },
         "mark": {
          "opacity": 0.4,
          "type": "line"
         }
        },
        {
         "data": {
          "values": [
           {
            "x": 1.0495814357730966,
            "y": 0
           },
           {
            "x": 1.0495814357730966,
            "y": 1.101621190319515
           }
          ]
         },
         "encoding": {
          "x": {
           "field": "x",
           "type": "quantitative"
          },
          "y": {
           "field": "y",
           "type": "quantitative"
          }
         },
         "mark": {
          "opacity": 0.4,
          "type": "line"
         }
        },
        {
         "data": {
          "values": [
           {
            "x": 2.2258816838033573,
            "y": 0
           },
           {
            "x": 2.2258816838033573,
            "y": 4.954549270291269
           }
          ]
         },
         "encoding": {
          "x": {
           "field": "x",
           "type": "quantitative"
          },
          "y": {
           "field": "y",
           "type": "quantitative"
          }
         },
         "mark": {
          "opacity": 0.4,
          "type": "line"
         }
        },
        {
         "data": {
          "values": [
           {
            "x": 4.363632558951058,
            "y": 0
           },
           {
            "x": 4.363632558951058,
            "y": 19.041289109537757
           }
          ]
         },
         "encoding": {
          "x": {
           "field": "x",
           "type": "quantitative"
          },
          "y": {
           "field": "y",
           "type": "quantitative"
          }
         },
         "mark": {
          "opacity": 0.4,
          "type": "line"
         }
        },
        {
         "data": {
          "values": [
           {
            "x": 3.4244952836738887,
            "y": 0
           },
           {
            "x": 3.4244952836738887,
            "y": 11.727167947904707
           }
          ]
         },
         "encoding": {
          "x": {
           "field": "x",
           "type": "quantitative"
          },
          "y": {
           "field": "y",
           "type": "quantitative"
          }
         },
         "mark": {
          "opacity": 0.4,
          "type": "line"
         }
        },
        {
         "data": {
          "values": [
           {
            "x": 5.349900717203695,
            "y": 0
           },
           {
            "x": 5.349900717203695,
            "y": 28.621437683936616
           }
          ]
         },
         "encoding": {
          "x": {
           "field": "x",
           "type": "quantitative"
          },
          "y": {
           "field": "y",
           "type": "quantitative"
          }
         },
         "mark": {
          "opacity": 0.4,
          "type": "line"
         }
        },
        {
         "data": {
          "values": [
           {
            "x": -1.5509444406171449,
            "y": 0
           },
           {
            "x": -1.5509444406171449,
            "y": 2.4054286578812283
           }
          ]
         },
         "encoding": {
          "x": {
           "field": "x",
           "type": "quantitative"
          },
          "y": {
           "field": "y",
           "type": "quantitative"
          }
         },
         "mark": {
          "opacity": 0.4,
          "type": "line"
         }
        },
        {
         "layer": [
          {
           "data": {
            "values": [
             {
              "x": 4.938193639805529,
              "y": 0
             },
             {
              "x": 4.899578378619484,
              "y": 0
             },
             {
              "x": 0.8267639992880054,
              "y": 0
             },
             {
              "x": 2.8124477744818335,
              "y": 0
             },
             {
              "x": 3.6443475769659224,
              "y": 0
             },
             {
              "x": 2.0671813462071364,
              "y": 0
             },
             {
              "x": 3.8173325162792953,
              "y": 0
             },
             {
              "x": 1.9833427152908905,
              "y": 0
             },
             {
              "x": 4.199600093697802,
              "y": 0
             },
             {
              "x": -1.6853074492307618,
              "y": 0
             },
             {
              "x": 2.6088552313260758,
              "y": 0
             },
             {
              "x": 2.3376266953025677,
              "y": 0
             },
             {
              "x": 2.895145767792634,
              "y": 0
             },
             {
              "x": 4.583174475813711,
              "y": 0
             },
             {
              "x": 3.055854133503807,
              "y": 0
             },
             {
              "x": -2.044252143677226,
              "y": 0
             },
             {
              "x": 1.3766952716894716,
              "y": 0
             },
             {
              "x": 4.844776948128544,
              "y": 0
             },
             {
              "x": 2.8053625112790743,
              "y": 0
             },
             {
              "x": 3.0266457984685817,
              "y": 0
             },
             {
              "x": 0.23009910203177153,
              "y": 0
             },
             {
              "x": 2.720966839182151,
              "y": 0
             },
             {
              "x": 4.003202585576407,
              "y": 0
             },
             {
              "x": 3.7958548033489903,
              "y": 0
             },
             {
              "x": 3.568558160599033,
              "y": 0
             },
             {
              "x": 4.102360398176825,
              "y": 0
             },
             {
              "x": 6.315932625188001,
              "y": 0
             },
             {
              "x": 7.31858348638142,
              "y": 0
             },
             {
              "x": 1.8743987658265295,
              "y": 0
             },
             {
              "x": -0.43388027924519124,
              "y": 0
             },
             {
              "x": 2.658899168541681,
              "y": 0
             },
             {
              "x": 1.5479786580288009,
              "y": 0
             },
             {
              "x": 7.300792822187572,
              "y": 0
             },
             {
              "x": 5.101519747280934,
              "y": 0
             },
             {
              "x": 4.985853553925496,
              "y": 0
             },
             {
              "x": -1.0288133640009942,
              "y": 0
             },
             {
              "x": 1.8532001153520263,
              "y": 0
             },
             {
              "x": 2.7139248615222713,
              "y": 0
             },
             {
              "x": -2.431273923896142,
              "y": 0
             },
             {
              "x": 1.8583841687993732,
              "y": 0
             },
             {
              "x": 3.374462611458143,
              "y": 0
             },
             {
              "x": 6.456498100136438,
              "y": 0
             },
             {
              "x": 6.030565456004998,
              "y": 0
             },
             {
              "x": 2.242252602280904,
              "y": 0
             },
             {
              "x": 4.975090013471297,
              "y": 0
             },
             {
              "x": 7.077250698620153,
              "y": 0
             },
             {
              "x": 1.9547811787887972,
              "y": 0
             },
             {
              "x": 5.87010054654143,
              "y": 0
             },
             {
              "x": 4.67089975989445,
              "y": 0
             },
             {
              "x": 3.609465455088192,
              "y": 0
             },
             {
              "x": 7.563693100534961,
              "y": 0
             },
             {
              "x": 3.3164525765614368,
              "y": 0
             },
             {
              "x": -1.9220579483191047,
              "y": 0
             },
             {
              "x": 0.2813849701194253,
              "y": 0
             },
             {
              "x": 1.08669320432769,
              "y": 0
             },
             {
              "x": 2.9916994874117506,
              "y": 0
             },
             {
              "x": 3.307638859023671,
              "y": 0
             },
             {
              "x": 0.671015967835574,
              "y": 0
             },
             {
              "x": -0.10968153509083889,
              "y": 0
             },
             {
              "x": 4.080994985387708,
              "y": 0
             },
             {
              "x": 2.5446885711974074,
              "y": 0
             },
             {
              "x": 4.25302591776893,
              "y": 0
             },
             {
              "x": 3.8247328932047693,
              "y": 0
             },
             {
              "x": 0.6396405180194236,
              "y": 0
             },
             {
              "x": 3.882946909245543,
              "y": 0
             },
             {
              "x": 7.69999347586365,
              "y": 0
             },
             {
              "x": 5.893792372965736,
              "y": 0
             },
             {
              "x": 0.4929593536553254,
              "y": 0
             },
             {
              "x": 0.1606323948964672,
              "y": 0
             },
             {
              "x": 6.9363512857600576,
              "y": 0
             },
             {
              "x": 2.856802615452467,
              "y": 0
             },
             {
              "x": 3.9640230556661855,
              "y": 0
             },
             {
              "x": 2.262927339194787,
              "y": 0
             },
             {
              "x": 2.2498248768348104,
              "y": 0
             },
             {
              "x": 3.031307079164109,
              "y": 0
             },
             {
              "x": 4.138629204596698,
              "y": 0
             },
             {
              "x": 1.6399141421280032,
              "y": 0
             },
             {
              "x": 2.5964477449015084,
              "y": 0
             },
             {
              "x": 3.2003108400335387,
              "y": 0
             },
             {
              "x": 1.2552595097353632,
              "y": 0
             },
             {
              "x": 5.520469373277397,
              "y": 0
             },
             {
              "x": 3.552823176584397,
              "y": 0
             },
             {
              "x": 2.3692756107818713,
              "y": 0
             },
             {
              "x": 3.0837746277495794,
              "y": 0
             },
             {
              "x": 5.832549809899424,
              "y": 0
             },
             {
              "x": 3.5071069543185867,
              "y": 0
             },
             {
              "x": -1.2836954902985487,
              "y": 0
             },
             {
              "x": 5.434994242913762,
              "y": 0
             },
             {
              "x": 1.6106727561761724,
              "y": 0
             },
             {
              "x": 0.6918949149133551,
              "y": 0
             },
             {
              "x": 3.7816694040258287,
              "y": 0
             },
             {
              "x": -1.0668865729378547,
              "y": 0
             },
             {
              "x": 2.07521135480297,
              "y": 0
             },
             {
              "x": 0.10308935564473032,
              "y": 0
             },
             {
              "x": 2.5117710942262303,
              "y": 0
             },
             {
              "x": -3.7035865283878655,
              "y": 0
             },
             {
              "x": 4.205772894619227,
              "y": 0
             },
             {
              "x": 1.9097038952321292,
              "y": 0
             },
             {
              "x": 0.3710293761559247,
              "y": 0
             },
             {
              "x": 1.2655488055580222,
              "y": 0
             },
             {
              "x": 4.325815951169352,
              "y": 0
             },
             {
              "x": 3.7362004113427694,
              "y": 0
             },
             {
              "x": 3.1940240578726344,
              "y": 0
             },
             {
              "x": -1.2938420023993538,
              "y": 0
             },
             {
              "x": 2.4927009595662533,
              "y": 0
             },
             {
              "x": 3.2711536619447323,
              "y": 0
             },
             {
              "x": 3.1511984194422764,
              "y": 0
             },
             {
              "x": 6.542692615269792,
              "y": 0
             },
             {
              "x": 2.1513356641217944,
              "y": 0
             },
             {
              "x": -1.7570706465732302,
              "y": 0
             },
             {
              "x": 3.77564877581204,
              "y": 0
             },
             {
              "x": 2.8082954265318754,
              "y": 0
             },
             {
              "x": 5.072686164153717,
              "y": 0
             },
             {
              "x": 2.015479956363558,
              "y": 0
             },
             {
              "x": 2.3569223847755603,
              "y": 0
             },
             {
              "x": 0.1439511371563018,
              "y": 0
             },
             {
              "x": 6.656993810507328,
              "y": 0
             },
             {
              "x": 3.2646052623621937,
              "y": 0
             },
             {
              "x": 1.7364257435047874,
              "y": 0
             },
             {
              "x": -1.7328492251328829,
              "y": 0
             },
             {
              "x": 4.498582948095424,
              "y": 0
             },
             {
              "x": 4.278418346365109,
              "y": 0
             },
             {
              "x": -0.6934259028282979,
              "y": 0
             },
             {
              "x": 2.901084254077336,
              "y": 0
             },
             {
              "x": -1.3529524115344067,
              "y": 0
             },
             {
              "x": 2.119165737287865,
              "y": 0
             },
             {
              "x": 1.6211465549186002,
              "y": 0
             },
             {
              "x": 1.9025680559857114,
              "y": 0
             },
             {
              "x": 0.700256832548575,
              "y": 0
             },
             {
              "x": 0.8493773094550388,
              "y": 0
             },
             {
              "x": 2.129554318884644,
              "y": 0
             },
             {
              "x": 2.2189162269911304,
              "y": 0
             },
             {
              "x": -3.2810377081176982,
              "y": 0
             },
             {
              "x": 3.7592737999460244,
              "y": 0
             },
             {
              "x": 0.4181867204252141,
              "y": 0
             },
             {
              "x": 3.9330033568745333,
              "y": 0
             },
             {
              "x": 4.038562199549163,
              "y": 0
             },
             {
              "x": 4.543547320409742,
              "y": 0
             },
             {
              "x": 6.986579514421968,
              "y": 0
             },
             {
              "x": 3.1696131638637155,
              "y": 0
             },
             {
              "x": 0.376578215492263,
              "y": 0
             },
             {
              "x": 6.545634637311658,
              "y": 0
             },
             {
              "x": 4.0304911260751854,
              "y": 0
             },
             {
              "x": 2.6909876592828743,
              "y": 0
             },
             {
              "x": 2.1958602794144992,
              "y": 0
             },
             {
              "x": -0.5026563266317123,
              "y": 0
             },
             {
              "x": 6.0988142314610005,
              "y": 0
             },
             {
              "x": -0.004692844348861858,
              "y": 0
             },
             {
              "x": 3.1331905052799427,
              "y": 0
             },
             {
              "x": 1.2166990920146945,
              "y": 0
             },
             {
              "x": 6.391478318267627,
              "y": 0
             },
             {
              "x": -0.13052505367786038,
              "y": 0
             },
             {
              "x": 2.4821593001856384,
              "y": 0
             },
             {
              "x": 2.5568427995881886,
              "y": 0
             },
             {
              "x": 0.7687208157198449,
              "y": 0
             },
             {
              "x": 6.017179195289459,
              "y": 0
             },
             {
              "x": 0.6020680312163085,
              "y": 0
             },
             {
              "x": 1.9764252953846397,
              "y": 0
             },
             {
              "x": 1.6418129320076282,
              "y": 0
             },
             {
              "x": -1.300935882950982,
              "y": 0
             },
             {
              "x": 0.2634809907843909,
              "y": 0
             },
             {
              "x": 2.7185785109900533,
              "y": 0
             },
             {
              "x": 2.4915641346482724,
              "y": 0
             },
             {
              "x": 1.821513820799995,
              "y": 0
             },
             {
              "x": 1.7038322583240413,
              "y": 0
             },
             {
              "x": 5.562156013894818,
              "y": 0
             },
             {
              "x": 2.356340226035865,
              "y": 0
             },
             {
              "x": 3.899208928919453,
              "y": 0
             },
             {
              "x": 3.1237453096709027,
              "y": 0
             },
             {
              "x": 1.650862535458043,
              "y": 0
             },
             {
              "x": 2.4833241663290013,
              "y": 0
             },
             {
              "x": 2.8090501619788277,
              "y": 0
             },
             {
              "x": 3.578902358333366,
              "y": 0
             },
             {
              "x": 1.6006747534394195,
              "y": 0
             },
             {
              "x": 7.97068943053374,
              "y": 0
             },
             {
              "x": 2.6452835313928804,
              "y": 0
             },
             {
              "x": 3.7470373509079336,
              "y": 0
             },
             {
              "x": 5.044459454336788,
              "y": 0
             },
             {
              "x": 5.048716495709916,
              "y": 0
             },
             {
              "x": 3.3068683640161716,
              "y": 0
             },
             {
              "x": 3.1316384748354995,
              "y": 0
             },
             {
              "x": 2.66955676753225,
              "y": 0
             },
             {
              "x": 0.8603921172463993,
              "y": 0
             },
             {
              "x": 6.040188875326991,
              "y": 0
             },
             {
              "x": 1.5950949336330695,
              "y": 0
             },
             {
              "x": 3.7905474115448086,
              "y": 0
             },
             {
              "x": 4.381407168856096,
              "y": 0
             },
             {
              "x": -0.1427469034187756,
              "y": 0
             },
             {
              "x": 0.6572252234700786,
              "y": 0
             },
             {
              "x": -0.5983070665015888,
              "y": 0
             },
             {
              "x": 1.328129437586852,
              "y": 0
             },
             {
              "x": 2.26789362054277,
              "y": 0
             },
             {
              "x": 1.0052121188831749,
              "y": 0
             },
             {
              "x": 0.8989448935684696,
              "y": 0
             },
             {
              "x": 3.835162384873589,
              "y": 0
             },
             {
              "x": 1.2732387201087396,
              "y": 0
             },
             {
              "x": 1.6712338811959708,
              "y": 0
             },
             {
              "x": 2.5802495403052776,
              "y": 0
             },
             {
              "x": 4.608598528662492,
              "y": 0
             },
             {
              "x": -0.6254324082259441,
              "y": 0
             },
             {
              "x": 2.2276608815515426,
              "y": 0
             },
             {
              "x": 6.220383846358377,
              "y": 0
             },
             {
              "x": 1.8536368763476392,
              "y": 0
             },
             {
              "x": 1.6845489853606823,
              "y": 0
             },
             {
              "x": 0.24487627164690418,
              "y": 0
             },
             {
              "x": 3.99494829167334,
              "y": 0
             },
             {
              "x": 2.066116714963981,
              "y": 0
             },
             {
              "x": 6.157205997373666,
              "y": 0
             },
             {
              "x": 2.6109670299819845,
              "y": 0
             },
             {
              "x": 1.345377858485708,
              "y": 0
             },
             {
              "x": 0.1777302697842833,
              "y": 0
             },
             {
              "x": 2.898037795240216,
              "y": 0
             },
             {
              "x": 2.947243794641734,
              "y": 0
             },
             {
              "x": 3.007985350156921,
              "y": 0
             },
             {
              "x": 5.55567876440192,
              "y": 0
             },
             {
              "x": 2.9981064406745213,
              "y": 0
             },
             {
              "x": 4.113489519448909,
              "y": 0
             },
             {
              "x": 4.09032469997636,
              "y": 0
             },
             {
              "x": -0.7264197145592202,
              "y": 0
             },
             {
              "x": 2.975467869396813,
              "y": 0
             },
             {
              "x": 0.4143453918666866,
              "y": 0
             },
             {
              "x": 0.93505034467337,
              "y": 0
             },
             {
              "x": 3.1590104473829768,
              "y": 0
             },
             {
              "x": 2.500406367407076,
              "y": 0
             },
             {
              "x": 5.195931289478025,
              "y": 0
             },
             {
              "x": 3.361550654300809,
              "y": 0
             },
             {
              "x": 1.846730486539168,
              "y": 0
             },
             {
              "x": 0.46982835482435226,
              "y": 0
             },
             {
              "x": 2.9646766461089684,
              "y": 0
             },
             {
              "x": 3.081406331221415,
              "y": 0
             },
             {
              "x": 2.2830319099987055,
              "y": 0
             },
             {
              "x": -3.708554363827835,
              "y": 0
             },
             {
              "x": 0.9129732708553111,
              "y": 0
             },
             {
              "x": 3.01394921238922,
              "y": 0
             },
             {
              "x": 2.7432074731977965,
              "y": 0
             },
             {
              "x": 4.509797305236611,
              "y": 0
             },
             {
              "x": 3.9696174672103384,
              "y": 0
             },
             {
              "x": 7.670525781931196,
              "y": 0
             },
             {
              "x": 3.473184968231813,
              "y": 0
             },
             {
              "x": 2.5994867426888795,
              "y": 0
             },
             {
              "x": -0.3538096655788352,
              "y": 0
             },
             {
              "x": 2.6701445495012934,
              "y": 0
             },
             {
              "x": 2.020927659000037,
              "y": 0
             },
             {
              "x": 4.417384477537351,
              "y": 0
             },
             {
              "x": 4.970663805193913,
              "y": 0
             },
             {
              "x": 3.0283962971550187,
              "y": 0
             },
             {
              "x": 3.7431030057318027,
              "y": 0
             },
             {
              "x": -0.6012380438165099,
              "y": 0
             },
             {
              "x": 2.859519140953845,
              "y": 0
             },
             {
              "x": 3.766741491874839,
              "y": 0
             },
             {
              "x": 1.4195595354369748,
              "y": 0
             },
             {
              "x": 2.921252249960081,
              "y": 0
             },
             {
              "x": 1.6916188637778131,
              "y": 0
             },
             {
              "x": -1.780367234239007,
              "y": 0
             },
             {
              "x": 1.8452657762857303,
              "y": 0
             },
             {
              "x": 4.694094334869032,
              "y": 0
             },
             {
              "x": 2.811449824773695,
              "y": 0
             },
             {
              "x": 2.7325711722762307,
              "y": 0
             },
             {
              "x": 3.58327359971317,
              "y": 0
             },
             {
              "x": 4.934590678475484,
              "y": 0
             },
             {
              "x": 2.315640473584893,
              "y": 0
             },
             {
              "x": -0.27006043448867967,
              "y": 0
             },
             {
              "x": 3.295211906508445,
              "y": 0
             },
             {
              "x": 2.4616193417999863,
              "y": 0
             },
             {
              "x": -1.1054006548663113,
              "y": 0
             },
             {
              "x": 4.3371469576679855,
              "y": 0
             },
             {
              "x": 3.2524127068829123,
              "y": 0
             },
             {
              "x": 1.5088763810850527,
              "y": 0
             },
             {
              "x": 1.835335975533315,
              "y": 0
             },
             {
              "x": 2.367075083774774,
              "y": 0
             },
             {
              "x": -0.5258753844219948,
              "y": 0
             },
             {
              "x": 0.56454376363984,
              "y": 0
             },
             {
              "x": 5.834287570244392,
              "y": 0
             },
             {
              "x": 3.9652498425709988,
              "y": 0
             },
             {
              "x": 3.501918540788459,
              "y": 0
             },
             {
              "x": 3.6342586349727624,
              "y": 0
             },
             {
              "x": 2.4836452492313468,
              "y": 0
             },
             {
              "x": 4.109315493434729,
              "y": 0
             },
             {
              "x": 1.852619622966818,
              "y": 0
             },
             {
              "x": 2.368965013769602,
              "y": 0
             },
             {
              "x": -0.8389910385597177,
              "y": 0
             },
             {
              "x": 3.1103381337467964,
              "y": 0
             },
             {
              "x": -0.39847316414040534,
              "y": 0
             },
             {
              "x": 1.4073345512671143,
              "y": 0
             },
             {
              "x": 3.844179352053827,
              "y": 0
             },
             {
              "x": 3.615464057826353,
              "y": 0
             },
             {
              "x": -1.6201539345823655,
              "y": 0
             },
             {
              "x": 1.1688964506108388,
              "y": 0
             },
             {
              "x": 2.0307861916168104,
              "y": 0
             },
             {
              "x": 2.860337969623637,
              "y": 0
             },
             {
              "x": 5.578715455741188,
              "y": 0
             },
             {
              "x": 1.317639058834002,
              "y": 0
             },
             {
              "x": 4.02707957513633,
              "y": 0
             },
             {
              "x": 5.054347651365438,
              "y": 0
             },
             {
              "x": 1.0495814357730966,
              "y": 0
             },
             {
              "x": 2.2258816838033573,
              "y": 0
             },
             {
              "x": 4.363632558951058,
              "y": 0
             },
             {
              "x": 3.4244952836738887,
              "y": 0
             },
             {
              "x": 5.349900717203695,
              "y": 0
             },
             {
              "x": -1.5509444406171449,
              "y": 0
             }
            ]
           },
           "encoding": {
            "x": {
             "field": "x",
             "type": "quantitative"
            },
            "y": {
             "field": "y",
             "type": "quantitative"
            }
           },
           "mark": {
            "opacity": 0.4,
            "size": 20,
            "type": "point"
           }
          },
          {
           "data": {
            "values": [
             {
              "x": 4.938193639805529,
              "y": 24.385756424215774
             },
             {
              "x": 4.899578378619484,
              "y": 24.005868288235533
             },
             {
              "x": 0.8267639992880054,
              "y": 0.683538710518697
             },
             {
              "x": 2.8124477744818335,
              "y": 7.909862484187818
             },
             {
              "x": 3.6443475769659224,
              "y": 13.281269261737389
             },
             {
              "x": 2.0671813462071364,
              "y": 4.273238718106749
             },
             {
              "x": 3.8173325162792953,
              "y": 14.572027539843216
             },
             {
              "x": 1.9833427152908905,
              "y": 3.933648326297442
             },
             {
              "x": 4.199600093697802,
              "y": 17.636640946986585
             },
             {
              "x": -1.6853074492307618,
              "y": 2.840261198432697
             },
             {
              "x": 2.6088552313260758,
              "y": 6.8061256180174325
             },
             {
              "x": 2.3376266953025677,
              "y": 5.464498566591204
             },
             {
              "x": 2.895145767792634,
              "y": 8.3818690167676
             },
             {
              "x": 4.583174475813711,
              "y": 21.00548827575028
             },
             {
              "x": 3.055854133503807,
              "y": 9.338244485252304
             },
             {
              "x": -2.044252143677226,
              "y": 4.178966826928933
             },
             {
              "x": 1.3766952716894716,
              "y": 1.895289871092148
             },
             {
              "x": 4.844776948128544,
              "y": 23.471863677117728
             },
             {
              "x": 2.8053625112790743,
              "y": 7.870058819690034
             },
             {
              "x": 3.0266457984685817,
              "y": 9.160584789387519
             },
             {
              "x": 0.23009910203177153,
              "y": 0.052945596755827606
             },
             {
              "x": 2.720966839182151,
              "y": 7.403660539928906
             },
             {
              "x": 4.003202585576407,
              "y": 16.02563094116563
             },
             {
              "x": 3.7958548033489903,
              "y": 14.408513688107602
             },
             {
              "x": 3.568558160599033,
              "y": 12.734607345577954
             },
             {
              "x": 4.102360398176825,
              "y": 16.829360836529517
             },
             {
              "x": 6.315932625188001,
              "y": 39.891004925914196
             },
             {
              "x": 7.31858348638142,
              "y": 53.56166424713482
             },
             {
              "x": 1.8743987658265295,
              "y": 3.513370733332017
             },
             {
              "x": -0.43388027924519124,
              "y": 0.18825209671788512
             },
             {
              "x": 2.658899168541681,
              "y": 7.069744788471643
             },
             {
              "x": 1.5479786580288009,
              "y": 2.396237925712647
             },
             {
              "x": 7.300792822187572,
              "y": 53.30157583250557
             },
             {
              "x": 5.101519747280934,
              "y": 26.02550373189732
             },
             {
              "x": 4.985853553925496,
              "y": 24.858735661191503
             },
             {
              "x": -1.0288133640009942,
              "y": 1.0584569379470423
             },
             {
              "x": 1.8532001153520263,
              "y": 3.434350667540764
             },
             {
              "x": 2.7139248615222713,
              "y": 7.36538815398868
             },
             {
              "x": -2.431273923896142,
              "y": 5.911092893017343
             },
             {
              "x": 1.8583841687993732,
              "y": 3.453591718844137
             },
             {
              "x": 3.374462611458143,
              "y": 11.38699791612891
             },
             {
              "x": 6.456498100136438,
              "y": 41.68636771706543
             },
             {
              "x": 6.030565456004998,
              "y": 36.367719719160775
             },
             {
              "x": 2.242252602280904,
              "y": 5.027696732435485
             },
             {
              "x": 4.975090013471297,
              "y": 24.751520642141827
             },
             {
              "x": 7.077250698620153,
              "y": 50.08747745111945
             },
             {
              "x": 1.9547811787887972,
              "y": 3.8211694569469197
             },
             {
              "x": 5.87010054654143,
              "y": 34.458080426505994
             },
             {
              "x": 4.67089975989445,
              "y": 21.81730456698203
             },
             {
              "x": 3.609465455088192,
              "y": 13.02824087147501
             },
             {
              "x": 7.563693100534961,
              "y": 57.20945331908017
             },
             {
              "x": 3.3164525765614368,
              "y": 10.998857692580993
             },
             {
              "x": -1.9220579483191047,
              "y": 3.6943067566966463
             },
             {
              "x": 0.2813849701194253,
              "y": 0.07917750140910988
             },
             {
              "x": 1.08669320432769,
              "y": 1.1809021203319827
             },
             {
              "x": 2.9916994874117506,
              "y": 8.950265822979732
             },
             {
              "x": 3.307638859023671,
              "y": 10.940474821723413
             },
             {
              "x": 0.671015967835574,
              "y": 0.45026242909031217
             },
             {
              "x": -0.10968153509083889,
              "y": 0.012030039139882922
             },
             {
              "x": 4.080994985387708,
              "y": 16.654520070759617
             },
             {
              "x": 2.5446885711974074,
              "y": 6.4754399243827026
             },
             {
              "x": 4.25302591776893,
              "y": 18.08822945721425
             },
             {
              "x": 3.8247328932047693,
              "y": 14.628581704362524
             },
             {
              "x": 0.6396405180194236,
              "y": 0.40913999229215653
             },
             {
              "x": 3.882946909245543,
              "y": 15.077276700019514
             },
             {
              "x": 7.69999347586365,
              "y": 59.28989952834277
             },
             {
              "x": 5.893792372965736,
              "y": 34.73678853562908
             },
             {
              "x": 0.4929593536553254,
              "y": 0.24300892435627616
             },
             {
              "x": 0.1606323948964672,
              "y": 0.02580276629017458
             },
             {
              "x": 6.9363512857600576,
              "y": 48.1129691594652
             },
             {
              "x": 2.856802615452467,
              "y": 8.161321183656055
             },
             {
              "x": 3.9640230556661855,
              "y": 15.713478785853082
             },
             {
              "x": 2.262927339194787,
              "y": 5.120840142475198
             },
             {
              "x": 2.2498248768348104,
              "y": 5.061711976424769
             },
             {
              "x": 3.031307079164109,
              "y": 9.188822608190442
             },
             {
              "x": 4.138629204596698,
              "y": 17.128251693140694
             },
             {
              "x": 1.6399141421280032,
              "y": 2.689318393551425
             },
             {
              "x": 2.5964477449015084,
              "y": 6.741540892004129
             },
             {
              "x": 3.2003108400335387,
              "y": 10.241989472836174
             },
             {
              "x": 1.2552595097353632,
              "y": 1.5756764367810643
             },
             {
              "x": 5.520469373277397,
              "y": 30.475582101293735
             },
             {
              "x": 3.552823176584397,
              "y": 12.622552524075244
             },
             {
              "x": 2.3692756107818713,
              "y": 5.613466919845809
             },
             {
              "x": 3.0837746277495794,
              "y": 9.509665954752057
             },
             {
              "x": 5.832549809899424,
              "y": 34.01863728495781
             },
             {
              "x": 3.5071069543185867,
              "y": 12.299799189029793
             },
             {
              "x": -1.2836954902985487,
              "y": 1.6478741118128313
             },
             {
              "x": 5.434994242913762,
              "y": 29.539162420505733
             },
             {
              "x": 1.6106727561761724,
              "y": 2.5942667274881477
             },
             {
              "x": 0.6918949149133551,
              "y": 0.47871857328295886
             },
             {
              "x": 3.7816694040258287,
              "y": 14.301023481345066
             },
             {
              "x": -1.0668865729378547,
              "y": 1.1382469595150804
             },
             {
              "x": 2.07521135480297,
              "y": 4.3065021671031785
             },
             {
              "x": 0.10308935564473032,
              "y": 0.01062741524724569
             },
             {
              "x": 2.5117710942262303,
              "y": 6.308994029790434
             },
             {
              "x": -3.7035865283878655,
              "y": 13.716553173256083
             },
             {
              "x": 4.205772894619227,
              "y": 17.68852564111379
             },
             {
              "x": 1.9097038952321292,
              "y": 3.646968967464767
             },
             {
              "x": 0.3710293761559247,
              "y": 0.13766279797065464
             },
             {
              "x": 1.2655488055580222,
              "y": 1.6016137792493366
             },
             {
              "x": 4.325815951169352,
              "y": 18.712683643391202
             },
             {
              "x": 3.7362004113427694,
              "y": 13.95919351371788
             },
             {
              "x": 3.1940240578726344,
              "y": 10.20178968226917
             },
             {
              "x": -1.2938420023993538,
              "y": 1.6740271271727694
             },
             {
              "x": 2.4927009595662533,
              "y": 6.21355807382252
             },
             {
              "x": 3.2711536619447323,
              "y": 10.700446280054432
             },
             {
              "x": 3.1511984194422764,
              "y": 9.930051478695502
             },
             {
              "x": 6.542692615269792,
              "y": 42.80682665790587
             },
             {
              "x": 2.1513356641217944,
              "y": 4.628245139722362
             },
             {
              "x": -1.7570706465732302,
              "y": 3.0872972570492694
             },
             {
              "x": 3.77564877581204,
              "y": 14.255523678290954
             },
             {
              "x": 2.8082954265318754,
              "y": 7.8865232026798475
             },
             {
              "x": 5.072686164153717,
              "y": 25.732144919996554
             },
             {
              "x": 2.015479956363558,
              "y": 4.0621594545032504
             },
             {
              "x": 2.3569223847755603,
              "y": 5.555083127856114
             },
             {
              "x": 0.1439511371563018,
              "y": 0.020721929888592415
             },
             {
              "x": 6.656993810507328,
              "y": 44.31556659313287
             },
             {
              "x": 3.2646052623621937,
              "y": 10.657647519042929
             },
             {
              "x": 1.7364257435047874,
              "y": 3.0151743627061536
             },
             {
              "x": -1.7328492251328829,
              "y": 3.0027664370436327
             },
             {
              "x": 4.498582948095424,
              "y": 20.237248540894917
             },
             {
              "x": 4.278418346365109,
              "y": 18.304863546513555
             },
             {
              "x": -0.6934259028282979,
              "y": 0.48083948271324
             },
             {
              "x": 2.901084254077336,
              "y": 8.416289849255453
             },
             {
              "x": -1.3529524115344067,
              "y": 1.8304802278767667
             },
             {
              "x": 2.119165737287865,
              "y": 4.490863422094821
             },
             {
              "x": 1.6211465549186002,
              "y": 2.628116152524446
             },
             {
              "x": 1.9025680559857114,
              "y": 3.6197652076572493
             },
             {
              "x": 0.700256832548575,
              "y": 0.49035963153096296
             },
             {
              "x": 0.8493773094550388,
              "y": 0.7214418138170806
             },
             {
              "x": 2.129554318884644,
              "y": 4.535001597080241
             },
             {
              "x": 2.2189162269911304,
              "y": 4.923589222404554
             },
             {
              "x": -3.2810377081176982,
              "y": 10.765208442090238
             },
             {
              "x": 3.7592737999460244,
              "y": 14.132139502960621
             },
             {
              "x": 0.4181867204252141,
              "y": 0.17488013313999617
             },
             {
              "x": 3.9330033568745333,
              "y": 15.468515405186347
             },
             {
              "x": 4.038562199549163,
              "y": 16.30998463962737
             },
             {
              "x": 4.543547320409742,
              "y": 20.643822252802543
             },
             {
              "x": 6.986579514421968,
              "y": 48.8122933113407
             },
             {
              "x": 3.1696131638637155,
              "y": 10.046447608538152
             },
             {
              "x": 0.376578215492263,
              "y": 0.14181115238333727
             },
             {
              "x": 6.545634637311658,
              "y": 42.845332805174124
             },
             {
              "x": 4.0304911260751854,
              "y": 16.244858717370818
             },
             {
              "x": 2.6909876592828743,
              "y": 7.241414582412723
             },
             {
              "x": 2.1958602794144992,
              "y": 4.8218023667103225
             },
             {
              "x": -0.5026563266317123,
              "y": 0.2526633827028867
             },
             {
              "x": 6.0988142314610005,
              "y": 37.19553502987124
             },
             {
              "x": -0.004692844348861858,
              "y": 2.2022788082644672e-05
             },
             {
              "x": 3.1331905052799427,
              "y": 9.816882742376382
             },
             {
              "x": 1.2166990920146945,
              "y": 1.480356680509382
             },
             {
              "x": 6.391478318267627,
              "y": 40.85099509288517
             },
             {
              "x": -0.13052505367786038,
              "y": 0.017036789637608334
             },
             {
              "x": 2.4821593001856384,
              "y": 6.161114791498058
             },
             {
              "x": 2.5568427995881886,
              "y": 6.537445101805966
             },
             {
              "x": 0.7687208157198449,
              "y": 0.5909316925209837
             },
             {
              "x": 6.017179195289459,
              "y": 36.2064454682243
             },
             {
              "x": 0.6020680312163085,
              "y": 0.3624859142126818
             },
             {
              "x": 1.9764252953846397,
              "y": 3.9062569482362606
             },
             {
              "x": 1.6418129320076282,
              "y": 2.695549703707485
             },
             {
              "x": -1.300935882950982,
              "y": 1.6924341715494513
             },
             {
              "x": 0.2634809907843909,
              "y": 0.06942223250472429
             },
             {
              "x": 2.7185785109900533,
              "y": 7.390669120416895
             },
             {
              "x": 2.4915641346482724,
              "y": 6.207891837065595
             },
             {
              "x": 1.821513820799995,
              "y": 3.317912599365396
             },
             {
              "x": 1.7038322583240413,
              "y": 2.9030443645056025
             },
             {
              "x": 5.562156013894818,
              "y": 30.937579522906287
             },
             {
              "x": 2.356340226035865,
              "y": 5.552339260834751
             },
             {
              "x": 3.899208928919453,
              "y": 15.20383027136519
             },
             {
              "x": 3.1237453096709027,
              "y": 9.757784759690963
             },
             {
              "x": 1.650862535458043,
              "y": 2.7253471109789587
             },
             {
              "x": 2.4833241663290013,
              "y": 6.166898915073629
             },
             {
              "x": 2.8090501619788277,
              "y": 7.8907628125132785
             },
             {
              "x": 3.578902358333366,
              "y": 12.808542090484128
             },
             {
              "x": 1.6006747534394195,
              "y": 2.562159666298346
             },
             {
              "x": 7.97068943053374,
              "y": 63.53188999802228
             },
             {
              "x": 2.6452835313928804,
              "y": 6.997524961458388
             },
             {
              "x": 3.7470373509079336,
              "y": 14.040288909099145
             },
             {
              "x": 5.044459454336788,
              "y": 25.44657118644781
             },
             {
              "x": 5.048716495709916,
              "y": 25.489538254053418
             },
             {
              "x": 3.3068683640161716,
              "y": 10.935378376930991
             },
             {
              "x": 3.1316384748354995,
              "y": 9.807159537070014
             },
             {
              "x": 2.66955676753225,
              "y": 7.126533335077235
             },
             {
              "x": 0.8603921172463993,
              "y": 0.7402745954197417
             },
             {
              "x": 6.040188875326991,
              "y": 36.48388164962394
             },
             {
              "x": 1.5950949336330695,
              "y": 2.5443278473018864
             },
             {
              "x": 3.7905474115448086,
              "y": 14.368249679169049
             },
             {
              "x": 4.381407168856096,
              "y": 19.196728779303587
             },
             {
              "x": -0.1427469034187756,
              "y": 0.02037667843564925
             },
             {
              "x": 0.6572252234700786,
              "y": 0.43194499436529477
             },
             {
              "x": -0.5983070665015888,
              "y": 0.35797134582573664
             },
             {
              "x": 1.328129437586852,
              "y": 1.7639278029847678
             },
             {
              "x": 2.26789362054277,
              "y": 5.143341474098594
             },
             {
              "x": 1.0052121188831749,
              "y": 1.010451403949602
             },
             {
              "x": 0.8989448935684696,
              "y": 0.8081019216728272
             },
             {
              "x": 3.835162384873589,
              "y": 14.708470518349275
             },
             {
              "x": 1.2732387201087396,
              "y": 1.6211368383841414
             },
             {
              "x": 1.6712338811959708,
              "y": 2.7930226856573483
             },
             {
              "x": 2.5802495403052776,
              "y": 6.657687690245597
             },
             {
              "x": 4.608598528662492,
              "y": 21.239180398390086
             },
             {
              "x": -0.6254324082259441,
              "y": 0.39116569725930406
             },
             {
              "x": 2.2276608815515426,
              "y": 4.962473003194996
             },
             {
              "x": 6.220383846358377,
              "y": 38.693175196036236
             },
             {
              "x": 1.8536368763476392,
              "y": 3.435969669355833
             },
             {
              "x": 1.6845489853606823,
              "y": 2.8377052840797043
             },
             {
              "x": 0.24487627164690418,
              "y": 0.05996438841568841
             },
             {
              "x": 3.99494829167334,
              "y": 15.959611853143738
             },
             {
              "x": 2.066116714963981,
              "y": 4.2688382798535525
             },
             {
              "x": 6.157205997373666,
              "y": 37.911185694094236
             },
             {
              "x": 2.6109670299819845,
              "y": 6.817148831652945
             },
             {
              "x": 1.345377858485708,
              "y": 1.8100415821035896
             },
             {
              "x": 0.1777302697842833,
              "y": 0.03158804879759412
             },
             {
              "x": 2.898037795240216,
              "y": 8.398623062640771
             },
             {
              "x": 2.947243794641734,
              "y": 8.686245985054208
             },
             {
              "x": 3.007985350156921,
              "y": 9.047975866758653
             },
             {
              "x": 5.55567876440192,
              "y": 30.865566533226442
             },
             {
              "x": 2.9981064406745213,
              "y": 8.988642229614047
             },
             {
              "x": 4.113489519448909,
              "y": 16.920796026616017
             },
             {
              "x": 4.09032469997636,
              "y": 16.7307561512367
             },
             {
              "x": -0.7264197145592202,
              "y": 0.5276856017002989
             },
             {
              "x": 2.975467869396813,
              "y": 8.853409041812808
             },
             {
              "x": 0.4143453918666866,
              "y": 0.17168210376115808
             },
             {
              "x": 0.93505034467337,
              "y": 0.874319147073788
             },
             {
              "x": 3.1590104473829768,
              "y": 9.979347006674795
             },
             {
              "x": 2.500406367407076,
              "y": 6.252032002169848
             },
             {
              "x": 5.195931289478025,
              "y": 26.997701964976777
             },
             {
              "x": 3.361550654300809,
              "y": 11.300022801430197
             },
             {
              "x": 1.846730486539168,
              "y": 3.4104134899131924
             },
             {
              "x": 0.46982835482435226,
              "y": 0.22073868299695745
             },
             {
              "x": 2.9646766461089684,
              "y": 8.78930761598392
             },
             {
              "x": 3.081406331221415,
              "y": 9.49506497809142
             },
             {
              "x": 2.2830319099987055,
              "y": 5.212234702072338
             },
             {
              "x": -3.708554363827835,
              "y": 13.753375469466476
             },
             {
              "x": 0.9129732708553111,
              "y": 0.8335201932962453
             },
             {
              "x": 3.01394921238922,
              "y": 9.083889854861601
             },
             {
              "x": 2.7432074731977965,
              "y": 7.525187241008239
             },
             {
              "x": 4.509797305236611,
              "y": 20.3382717343194
             },
             {
              "x": 3.9696174672103384,
              "y": 15.757862835981422
             },
             {
              "x": 7.670525781931196,
              "y": 58.83696577127118
             },
             {
              "x": 3.473184968231813,
              "y": 12.06301382355142
             },
             {
              "x": 2.5994867426888795,
              "y": 6.75733132541524
             },
             {
              "x": -0.3538096655788352,
              "y": 0.1251812794570072
             },
             {
              "x": 2.6701445495012934,
              "y": 7.129671915231465
             },
             {
              "x": 2.020927659000037,
              "y": 4.0841486029113705
             },
             {
              "x": 4.417384477537351,
              "y": 19.513285622387937
             },
             {
              "x": 4.970663805193913,
              "y": 24.707498664264833
             },
             {
              "x": 3.0283962971550187,
              "y": 9.171184132622228
             },
             {
              "x": 3.7431030057318027,
              "y": 14.010820111518456
             },
             {
              "x": -0.6012380438165099,
              "y": 0.3614871853323035
             },
             {
              "x": 2.859519140953845,
              "y": 8.176849717481417
             },
             {
              "x": 3.766741491874839,
              "y": 14.188341466611488
             },
             {
              "x": 1.4195595354369748,
              "y": 2.0151492746500397
             },
             {
              "x": 2.921252249960081,
              "y": 8.533714707896836
             },
             {
              "x": 1.6916188637778131,
              "y": 2.8615743802889395
             },
             {
              "x": -1.780367234239007,
              "y": 3.169707488751851
             },
             {
              "x": 1.8452657762857303,
              "y": 3.4050057851313786
             },
             {
              "x": 4.694094334869032,
              "y": 22.03452162464954
             },
             {
              "x": 2.811449824773695,
              "y": 7.904250117220042
             },
             {
              "x": 2.7325711722762307,
              "y": 7.466945211555093
             },
             {
              "x": 3.58327359971317,
              "y": 12.83984969040138
             },
             {
              "x": 4.934590678475484,
              "y": 24.350185164097137
             },
             {
              "x": 2.315640473584893,
              "y": 5.362190802904468
             },
             {
              "x": -0.27006043448867967,
              "y": 0.07293263827621445
             },
             {
              "x": 3.295211906508445,
              "y": 10.85842150879502
             },
             {
              "x": 2.4616193417999863,
              "y": 6.059569783923798
             },
             {
              "x": -1.1054006548663113,
              "y": 1.22191060777887
             },
             {
              "x": 4.3371469576679855,
              "y": 18.810843732408664
             },
             {
              "x": 3.2524127068829123,
              "y": 10.578188415893433
             },
             {
              "x": 1.5088763810850527,
              "y": 2.276707933396325
             },
             {
              "x": 1.835335975533315,
              "y": 3.368458143086825
             },
             {
              "x": 2.367075083774774,
              "y": 5.603044452227354
             },
             {
              "x": -0.5258753844219948,
              "y": 0.2765449199409808
             },
             {
              "x": 0.56454376363984,
              "y": 0.3187096610646356
             },
             {
              "x": 5.834287570244392,
              "y": 34.03891145230821
             },
             {
              "x": 3.9652498425709988,
              "y": 15.72320631400933
             },
             {
              "x": 3.501918540788459,
              "y": 12.263433466317972
             },
             {
              "x": 3.6342586349727624,
              "y": 13.207835825874087
             },
             {
              "x": 2.4836452492313468,
              "y": 6.168493724029439
             },
             {
              "x": 4.109315493434729,
              "y": 16.886473824582712
             },
             {
              "x": 1.852619622966818,
              "y": 3.4321994674017144
             },
             {
              "x": 2.368965013769602,
              "y": 5.611995236464411
             },
             {
              "x": -0.8389910385597177,
              "y": 0.7039059627835137
             },
             {
              "x": 3.1103381337467964,
              "y": 9.674203306239503
             },
             {
              "x": -0.39847316414040534,
              "y": 0.15878086254006643
             },
             {
              "x": 1.4073345512671143,
              "y": 1.9805905391902099
             },
             {
              "x": 3.844179352053827,
              "y": 14.77771489075698
             },
             {
              "x": 3.615464057826353,
              "y": 13.071580353434197
             },
             {
              "x": -1.6201539345823655,
              "y": 2.62489877174272
             },
             {
              "x": 1.1688964506108388,
              "y": 1.3663189122506172
             },
             {
              "x": 2.0307861916168104,
              "y": 4.124092556061509
             },
             {
              "x": 2.860337969623637,
              "y": 8.181533300470669
             },
             {
              "x": 5.578715455741188,
              "y": 31.122066136125607
             },
             {
              "x": 1.317639058834002,
              "y": 1.7361726893649543
             },
             {
              "x": 4.02707957513633,
              "y": 16.217369904480204
             },
             {
              "x": 5.054347651365438,
              "y": 25.546430180863318
             },
             {
              "x": 1.0495814357730966,
              "y": 1.101621190319515
             },
             {
              "x": 2.2258816838033573,
              "y": 4.954549270291269
             },
             {
              "x": 4.363632558951058,
              "y": 19.041289109537757
             },
             {
              "x": 3.4244952836738887,
              "y": 11.727167947904707
             },
             {
              "x": 5.349900717203695,
              "y": 28.621437683936616
             },
             {
              "x": -1.5509444406171449,
              "y": 2.4054286578812283
             }
            ]
           },
           "encoding": {
            "x": {
             "field": "x",
             "type": "quantitative"
            },
            "y": {
             "field": "y",
             "type": "quantitative"
            }
           },
           "mark": {
            "color": "black",
            "filled": true,
            "opacity": 0.2,
            "size": 50,
            "type": "point"
           }
          }
         ]
        }
       ]
      },
      "image/png": "[encoded data removed]",
      "text/plain": [
       "<VegaLite 2 object>\n",
       "\n",
       "If you see this message, it means the renderer has not been properly enabled\n",
       "for the frontend that you are using. For more information, see\n",
       "https://altair-viz.github.io/user_guide/troubleshooting.html\n"
      ]
     },
     "execution_count": 259,
     "metadata": {},
     "output_type": "execute_result"
    }
   ],
   "source": [
    "x = np.linspace(min(s), max(s), 1000)\n",
    "y = [f(i) for i in x]\n",
    "dt = make_altair_object(x, y)\n",
    "\n",
    "\n",
    "x2 = alt.Chart(dt).mark_line(opacity=line_opacity, color=\"black\").encode(\n",
    "    x='x:Q',  # specify ordinal data\n",
    "    y='y:Q',  # specify quantitative data\n",
    ")\n",
    "\n",
    "dt = make_altair_object(X=s, Y=[i ** 2 for i in s])\n",
    "\n",
    "x2_points = alt.Chart(dt).mark_point(opacity=point_opacity, size=point_size, color=\"black\", filled=True).encode(\n",
    "    x='x:Q',  # specify ordinal data\n",
    "    y='y:Q',  # specify quantitative data\n",
    ")\n",
    "\n",
    "x_points  + x2_points\n",
    "\n",
    "guide_lies = []\n",
    "\n",
    "for x, x_2 in zip(s, [i ** 2 for i in s]):\n",
    "    Xs = [x, x]\n",
    "    Ys = [0, x_2]\n",
    "    dt = make_altair_object(X=Xs, Y=Ys)\n",
    "    guide_lies.append(alt.Chart(dt).mark_line(opacity=.4).encode(\n",
    "        x='x:Q',  # specify ordinal data\n",
    "        y='y:Q',  # specify quantitative data\n",
    "    ))\n",
    "\n",
    "import functools\n",
    "\n",
    "functools.reduce(lambda a,b : a+b,guide_lies + [x_points  + x2_points])"
   ]
  },
  {
   "cell_type": "markdown",
   "metadata": {},
   "source": [
    "Each black dot represents the value of some blue $x$, squared. Because each $x$ has equal probability mass (i.e. $\\frac{1}{|S|}$) if we simple average the y-coordinates of the black dots, we get the expected value of $X^2$. That is, we get $\\mathbb{E}[X^2]$. We show this as a black dot on the chart. We can also plot the expected value of each $x_i$ as a blue dot. This is $\\mathbb{E}[X]$."
   ]
  },
  {
   "cell_type": "code",
   "execution_count": 279,
   "metadata": {},
   "outputs": [
    {
     "data": {
      "application/vnd.vegalite.v2+json": {
       "$schema": "https://vega.github.io/schema/vega-lite/v2.6.0.json",
       "config": {
        "view": {
         "height": 300,
         "width": 400
        }
       },
       "layer": [
        {
         "data": {
          "values": [
           {
            "x": -3.708554363827835,
            "y": 13.753375469466476
           },
           {
            "x": -3.696863429098744,
            "y": 13.666799213407725
           },
           {
            "x": -3.6851724943696533,
            "y": 13.580496313258653
           },
           {
            "x": -3.673481559640563,
            "y": 13.494466769019263
           },
           {
            "x": -3.6617906249114722,
            "y": 13.40871058068955
           },
           {
            "x": -3.6500996901823815,
            "y": 13.323227748269517
           },
           {
            "x": -3.6384087554532907,
            "y": 13.238018271759163
           },
           {
            "x": -3.6267178207242003,
            "y": 13.153082151158493
           },
           {
            "x": -3.6150268859951096,
            "y": 13.068419386467498
           },
           {
            "x": -3.603335951266019,
            "y": 12.984029977686184
           },
           {
            "x": -3.591645016536928,
            "y": 12.89991392481455
           },
           {
            "x": -3.5799540818078377,
            "y": 12.816071227852598
           },
           {
            "x": -3.568263147078747,
            "y": 12.732501886800323
           },
           {
            "x": -3.556572212349656,
            "y": 12.649205901657728
           },
           {
            "x": -3.5448812776205654,
            "y": 12.566183272424812
           },
           {
            "x": -3.533190342891475,
            "y": 12.483433999101578
           },
           {
            "x": -3.5214994081623843,
            "y": 12.400958081688023
           },
           {
            "x": -3.5098084734332935,
            "y": 12.318755520184146
           },
           {
            "x": -3.4981175387042027,
            "y": 12.23682631458995
           },
           {
            "x": -3.4864266039751124,
            "y": 12.155170464905435
           },
           {
            "x": -3.4747356692460216,
            "y": 12.073787971130598
           },
           {
            "x": -3.463044734516931,
            "y": 11.99267883326544
           },
           {
            "x": -3.45135379978784,
            "y": 11.911843051309962
           },
           {
            "x": -3.4396628650587497,
            "y": 11.831280625264167
           },
           {
            "x": -3.427971930329659,
            "y": 11.750991555128047
           },
           {
            "x": -3.416280995600568,
            "y": 11.67097584090161
           },
           {
            "x": -3.4045900608714774,
            "y": 11.591233482584851
           },
           {
            "x": -3.392899126142387,
            "y": 11.511764480177774
           },
           {
            "x": -3.3812081914132963,
            "y": 11.432568833680374
           },
           {
            "x": -3.3695172566842055,
            "y": 11.353646543092655
           },
           {
            "x": -3.3578263219551148,
            "y": 11.274997608414614
           },
           {
            "x": -3.346135387226024,
            "y": 11.196622029646253
           },
           {
            "x": -3.3344444524969337,
            "y": 11.118519806787576
           },
           {
            "x": -3.322753517767843,
            "y": 11.040690939838575
           },
           {
            "x": -3.311062583038752,
            "y": 10.963135428799253
           },
           {
            "x": -3.299371648309662,
            "y": 10.885853273669614
           },
           {
            "x": -3.287680713580571,
            "y": 10.808844474449653
           },
           {
            "x": -3.2759897788514802,
            "y": 10.73210903113937
           },
           {
            "x": -3.2642988441223895,
            "y": 10.655646943738768
           },
           {
            "x": -3.2526079093932987,
            "y": 10.579458212247845
           },
           {
            "x": -3.2409169746642084,
            "y": 10.503542836666606
           },
           {
            "x": -3.2292260399351176,
            "y": 10.427900816995042
           },
           {
            "x": -3.217535105206027,
            "y": 10.352532153233158
           },
           {
            "x": -3.2058441704769365,
            "y": 10.277436845380956
           },
           {
            "x": -3.1941532357478457,
            "y": 10.202614893438433
           },
           {
            "x": -3.182462301018755,
            "y": 10.128066297405589
           },
           {
            "x": -3.170771366289664,
            "y": 10.053791057282423
           },
           {
            "x": -3.1590804315605734,
            "y": 9.979789173068939
           },
           {
            "x": -3.147389496831483,
            "y": 9.906060644765136
           },
           {
            "x": -3.1356985621023923,
            "y": 9.83260547237101
           },
           {
            "x": -3.1240076273733015,
            "y": 9.759423655886565
           },
           {
            "x": -3.1123166926442107,
            "y": 9.686515195311799
           },
           {
            "x": -3.10062575791512,
            "y": 9.613880090646711
           },
           {
            "x": -3.0889348231860296,
            "y": 9.541518341891308
           },
           {
            "x": -3.077243888456939,
            "y": 9.469429949045582
           },
           {
            "x": -3.065552953727848,
            "y": 9.397614912109534
           },
           {
            "x": -3.0538620189987578,
            "y": 9.32607323108317
           },
           {
            "x": -3.042171084269667,
            "y": 9.25480490596648
           },
           {
            "x": -3.030480149540576,
            "y": 9.183809936759474
           },
           {
            "x": -3.0187892148114854,
            "y": 9.113088323462145
           },
           {
            "x": -3.0070982800823947,
            "y": 9.042640066074496
           },
           {
            "x": -2.9954073453533043,
            "y": 8.97246516459653
           },
           {
            "x": -2.9837164106242136,
            "y": 8.902563619028241
           },
           {
            "x": -2.972025475895123,
            "y": 8.83293542936963
           },
           {
            "x": -2.9603345411660325,
            "y": 8.763580595620704
           },
           {
            "x": -2.9486436064369417,
            "y": 8.694499117781454
           },
           {
            "x": -2.936952671707851,
            "y": 8.625690995851883
           },
           {
            "x": -2.92526173697876,
            "y": 8.557156229831993
           },
           {
            "x": -2.9135708022496694,
            "y": 8.488894819721782
           },
           {
            "x": -2.901879867520579,
            "y": 8.420906765521254
           },
           {
            "x": -2.8901889327914883,
            "y": 8.353192067230403
           },
           {
            "x": -2.8784979980623975,
            "y": 8.28575072484923
           },
           {
            "x": -2.866807063333307,
            "y": 8.21858273837774
           },
           {
            "x": -2.8551161286042164,
            "y": 8.151688107815929
           },
           {
            "x": -2.8434251938751256,
            "y": 8.085066833163795
           },
           {
            "x": -2.831734259146035,
            "y": 8.018718914421342
           },
           {
            "x": -2.820043324416944,
            "y": 7.952644351588569
           },
           {
            "x": -2.8083523896878537,
            "y": 7.8868431446654785
           },
           {
            "x": -2.796661454958763,
            "y": 7.821315293652065
           },
           {
            "x": -2.784970520229672,
            "y": 7.756060798548331
           },
           {
            "x": -2.773279585500582,
            "y": 7.691079659354279
           },
           {
            "x": -2.7615886507714906,
            "y": 7.626371876069902
           },
           {
            "x": -2.7498977160424003,
            "y": 7.561937448695209
           },
           {
            "x": -2.7382067813133095,
            "y": 7.497776377230195
           },
           {
            "x": -2.7265158465842187,
            "y": 7.433888661674859
           },
           {
            "x": -2.7148249118551284,
            "y": 7.370274302029205
           },
           {
            "x": -2.7031339771260376,
            "y": 7.30693329829323
           },
           {
            "x": -2.691443042396947,
            "y": 7.243865650466933
           },
           {
            "x": -2.6797521076678565,
            "y": 7.181071358550319
           },
           {
            "x": -2.6680611729387653,
            "y": 7.11855042254338
           },
           {
            "x": -2.656370238209675,
            "y": 7.056302842446126
           },
           {
            "x": -2.644679303480584,
            "y": 6.994328618258548
           },
           {
            "x": -2.6329883687514934,
            "y": 6.93262774998065
           },
           {
            "x": -2.621297434022403,
            "y": 6.871200237612435
           },
           {
            "x": -2.6096064992933123,
            "y": 6.810046081153897
           },
           {
            "x": -2.5979155645642216,
            "y": 6.749165280605038
           },
           {
            "x": -2.586224629835131,
            "y": 6.6885578359658595
           },
           {
            "x": -2.57453369510604,
            "y": 6.62822374723636
           },
           {
            "x": -2.5628427603769497,
            "y": 6.568163014416543
           },
           {
            "x": -2.551151825647859,
            "y": 6.508375637506403
           },
           {
            "x": -2.539460890918768,
            "y": 6.448861616505944
           },
           {
            "x": -2.527769956189678,
            "y": 6.389620951415166
           },
           {
            "x": -2.5160790214605866,
            "y": 6.330653642234063
           },
           {
            "x": -2.5043880867314963,
            "y": 6.271959688962644
           },
           {
            "x": -2.4926971520024055,
            "y": 6.213539091600904
           },
           {
            "x": -2.4810062172733147,
            "y": 6.155391850148842
           },
           {
            "x": -2.4693152825442244,
            "y": 6.097517964606463
           },
           {
            "x": -2.4576243478151336,
            "y": 6.039917434973761
           },
           {
            "x": -2.445933413086043,
            "y": 5.9825902612507385
           },
           {
            "x": -2.4342424783569525,
            "y": 5.925536443437398
           },
           {
            "x": -2.4225515436278613,
            "y": 5.868755981533734
           },
           {
            "x": -2.410860608898771,
            "y": 5.812248875539753
           },
           {
            "x": -2.39916967416968,
            "y": 5.756015125455449
           },
           {
            "x": -2.3874787394405894,
            "y": 5.700054731280826
           },
           {
            "x": -2.375787804711499,
            "y": 5.644367693015884
           },
           {
            "x": -2.3640968699824083,
            "y": 5.58895401066062
           },
           {
            "x": -2.3524059352533175,
            "y": 5.533813684215035
           },
           {
            "x": -2.340715000524227,
            "y": 5.478946713679133
           },
           {
            "x": -2.329024065795136,
            "y": 5.424353099052906
           },
           {
            "x": -2.3173331310660457,
            "y": 5.370032840336362
           },
           {
            "x": -2.305642196336955,
            "y": 5.315985937529497
           },
           {
            "x": -2.293951261607864,
            "y": 5.262212390632311
           },
           {
            "x": -2.282260326878774,
            "y": 5.208712199644808
           },
           {
            "x": -2.270569392149683,
            "y": 5.155485364566981
           },
           {
            "x": -2.2588784574205922,
            "y": 5.102531885398834
           },
           {
            "x": -2.247187522691502,
            "y": 5.04985176214037
           },
           {
            "x": -2.2354965879624107,
            "y": 4.99744499479158
           },
           {
            "x": -2.2238056532333204,
            "y": 4.945311583352475
           },
           {
            "x": -2.2121147185042296,
            "y": 4.893451527823047
           },
           {
            "x": -2.200423783775139,
            "y": 4.841864828203299
           },
           {
            "x": -2.1887328490460485,
            "y": 4.790551484493233
           },
           {
            "x": -2.1770419143169573,
            "y": 4.739511496692842
           },
           {
            "x": -2.165350979587867,
            "y": 4.688744864802135
           },
           {
            "x": -2.153660044858776,
            "y": 4.638251588821106
           },
           {
            "x": -2.1419691101296854,
            "y": 4.588031668749756
           },
           {
            "x": -2.130278175400595,
            "y": 4.538085104588088
           },
           {
            "x": -2.1185872406715043,
            "y": 4.488411896336099
           },
           {
            "x": -2.1068963059424135,
            "y": 4.439012043993788
           },
           {
            "x": -2.095205371213323,
            "y": 4.38988554756116
           },
           {
            "x": -2.083514436484232,
            "y": 4.341032407038207
           },
           {
            "x": -2.0718235017551416,
            "y": 4.292452622424937
           },
           {
            "x": -2.060132567026051,
            "y": 4.244146193721346
           },
           {
            "x": -2.04844163229696,
            "y": 4.196113120927434
           },
           {
            "x": -2.0367506975678698,
            "y": 4.148353404043204
           },
           {
            "x": -2.025059762838779,
            "y": 4.100867043068652
           },
           {
            "x": -2.013368828109688,
            "y": 4.0536540380037795
           },
           {
            "x": -2.001677893380598,
            "y": 4.0067143888485885
           },
           {
            "x": -1.9899869586515069,
            "y": 3.9600480956030744
           },
           {
            "x": -1.9782960239224163,
            "y": 3.9136551582672414
           },
           {
            "x": -1.9666050891933256,
            "y": 3.867535576841088
           },
           {
            "x": -1.954914154464235,
            "y": 3.821689351324615
           },
           {
            "x": -1.9432232197351442,
            "y": 3.7761164817178208
           },
           {
            "x": -1.9315322850060537,
            "y": 3.730816968020707
           },
           {
            "x": -1.919841350276963,
            "y": 3.685790810233272
           },
           {
            "x": -1.9081504155478723,
            "y": 3.641038008355518
           },
           {
            "x": -1.8964594808187816,
            "y": 3.5965585623874428
           },
           {
            "x": -1.884768546089691,
            "y": 3.552352472329048
           },
           {
            "x": -1.8730776113606002,
            "y": 3.508419738180332
           },
           {
            "x": -1.8613866766315097,
            "y": 3.4647603599412964
           },
           {
            "x": -1.849695741902419,
            "y": 3.42137433761194
           },
           {
            "x": -1.8380048071733284,
            "y": 3.378261671192264
           },
           {
            "x": -1.8263138724442376,
            "y": 3.335422360682267
           },
           {
            "x": -1.8146229377151468,
            "y": 3.2928564060819494
           },
           {
            "x": -1.8029320029860563,
            "y": 3.250563807391313
           },
           {
            "x": -1.7912410682569655,
            "y": 3.2085445646103548
           },
           {
            "x": -1.779550133527875,
            "y": 3.1667986777390777
           },
           {
            "x": -1.7678591987987842,
            "y": 3.125326146777479
           },
           {
            "x": -1.7561682640696936,
            "y": 3.0841269717255613
           },
           {
            "x": -1.7444773293406028,
            "y": 3.0432011525833222
           },
           {
            "x": -1.7327863946115123,
            "y": 3.0025486893507636
           },
           {
            "x": -1.7210954598824215,
            "y": 2.962169582027884
           },
           {
            "x": -1.709404525153331,
            "y": 2.922063830614685
           },
           {
            "x": -1.6977135904242404,
            "y": 2.8822314351111658
           },
           {
            "x": -1.6860226556951496,
            "y": 2.842672395517325
           },
           {
            "x": -1.6743317209660589,
            "y": 2.8033867118331646
           },
           {
            "x": -1.662640786236968,
            "y": 2.7643743840586836
           },
           {
            "x": -1.6509498515078778,
            "y": 2.7256354121938835
           },
           {
            "x": -1.639258916778787,
            "y": 2.687169796238762
           },
           {
            "x": -1.6275679820496962,
            "y": 2.6489775361933203
           },
           {
            "x": -1.6158770473206054,
            "y": 2.611058632057558
           },
           {
            "x": -1.6041861125915151,
            "y": 2.5734130838314773
           },
           {
            "x": -1.5924951778624243,
            "y": 2.5360408915150745
           },
           {
            "x": -1.5808042431333336,
            "y": 2.4989420551083517
           },
           {
            "x": -1.5691133084042428,
            "y": 2.4621165746113083
           },
           {
            "x": -1.5574223736751525,
            "y": 2.425564450023946
           },
           {
            "x": -1.5457314389460617,
            "y": 2.3892856813462626
           },
           {
            "x": -1.534040504216971,
            "y": 2.3532802685782586
           },
           {
            "x": -1.5223495694878801,
            "y": 2.317548211719934
           },
           {
            "x": -1.5106586347587898,
            "y": 2.2820895107712906
           },
           {
            "x": -1.498967700029699,
            "y": 2.246904165732326
           },
           {
            "x": -1.4872767653006083,
            "y": 2.2119921766030406
           },
           {
            "x": -1.4755858305715175,
            "y": 2.1773535433834352
           },
           {
            "x": -1.4638948958424267,
            "y": 2.1429882660735093
           },
           {
            "x": -1.4522039611133364,
            "y": 2.1088963446732647
           },
           {
            "x": -1.4405130263842456,
            "y": 2.075077779182698
           },
           {
            "x": -1.4288220916551548,
            "y": 2.0415325696018116
           },
           {
            "x": -1.417131156926064,
            "y": 2.008260715930605
           },
           {
            "x": -1.4054402221969737,
            "y": 1.9752622181690789
           },
           {
            "x": -1.393749287467883,
            "y": 1.9425370763172314
           },
           {
            "x": -1.3820583527387922,
            "y": 1.9100852903750638
           },
           {
            "x": -1.3703674180097014,
            "y": 1.8779068603425757
           },
           {
            "x": -1.358676483280611,
            "y": 1.8460017862197686
           },
           {
            "x": -1.3469855485515203,
            "y": 1.8143700680066401
           },
           {
            "x": -1.3352946138224295,
            "y": 1.7830117057031911
           },
           {
            "x": -1.3236036790933388,
            "y": 1.751926699309422
           },
           {
            "x": -1.3119127443642484,
            "y": 1.721115048825334
           },
           {
            "x": -1.3002218096351577,
            "y": 1.6905767542509242
           },
           {
            "x": -1.2885308749060669,
            "y": 1.6603118155861942
           },
           {
            "x": -1.276839940176976,
            "y": 1.630320232831144
           },
           {
            "x": -1.2651490054478858,
            "y": 1.6006020059857746
           },
           {
            "x": -1.253458070718795,
            "y": 1.5711571350500837
           },
           {
            "x": -1.2417671359897042,
            "y": 1.5419856200240727
           },
           {
            "x": -1.2300762012606135,
            "y": 1.5130874609077412
           },
           {
            "x": -1.2183852665315231,
            "y": 1.4844626577010906
           },
           {
            "x": -1.2066943318024324,
            "y": 1.4561112104041187
           },
           {
            "x": -1.1950033970733416,
            "y": 1.4280331190168265
           },
           {
            "x": -1.1833124623442508,
            "y": 1.400228383539214
           },
           {
            "x": -1.1716215276151605,
            "y": 1.3726970039712822
           },
           {
            "x": -1.1599305928860697,
            "y": 1.345438980313029
           },
           {
            "x": -1.148239658156979,
            "y": 1.3184543125644559
           },
           {
            "x": -1.1365487234278882,
            "y": 1.2917430007255621
           },
           {
            "x": -1.1248577886987978,
            "y": 1.2653050447963492
           },
           {
            "x": -1.113166853969707,
            "y": 1.239140444776815
           },
           {
            "x": -1.1014759192406163,
            "y": 1.2132492006669606
           },
           {
            "x": -1.0897849845115255,
            "y": 1.1876313124667859
           },
           {
            "x": -1.0780940497824347,
            "y": 1.1622867801762908
           },
           {
            "x": -1.0664031150533444,
            "y": 1.1372156037954766
           },
           {
            "x": -1.0547121803242536,
            "y": 1.112417783324341
           },
           {
            "x": -1.0430212455951628,
            "y": 1.087893318762885
           },
           {
            "x": -1.031330310866072,
            "y": 1.063642210111109
           },
           {
            "x": -1.0196393761369817,
            "y": 1.0396644573690133
           },
           {
            "x": -1.007948441407891,
            "y": 1.0159600605365966
           },
           {
            "x": -0.9962575066788002,
            "y": 0.9925290196138596
           },
           {
            "x": -0.9845665719497094,
            "y": 0.9693713346008024
           },
           {
            "x": -0.9728756372206191,
            "y": 0.9464870054974257
           },
           {
            "x": -0.9611847024915283,
            "y": 0.9238760323037278
           },
           {
            "x": -0.9494937677624375,
            "y": 0.9015384150197097
           },
           {
            "x": -0.9378028330333468,
            "y": 0.8794741536453713
           },
           {
            "x": -0.9261118983042564,
            "y": 0.8576832481807134
           },
           {
            "x": -0.9144209635751657,
            "y": 0.8361656986257344
           },
           {
            "x": -0.9027300288460749,
            "y": 0.8149215049804353
           },
           {
            "x": -0.8910390941169841,
            "y": 0.7939506672448157
           },
           {
            "x": -0.8793481593878938,
            "y": 0.7732531854188767
           },
           {
            "x": -0.867657224658803,
            "y": 0.7528290595026166
           },
           {
            "x": -0.8559662899297122,
            "y": 0.7326782894960362
           },
           {
            "x": -0.8442753552006215,
            "y": 0.7128008753991355
           },
           {
            "x": -0.8325844204715311,
            "y": 0.6931968172119154
           },
           {
            "x": -0.8208934857424404,
            "y": 0.6738661149343741
           },
           {
            "x": -0.8092025510133496,
            "y": 0.6548087685665126
           },
           {
            "x": -0.7975116162842588,
            "y": 0.6360247781083309
           },
           {
            "x": -0.7858206815551685,
            "y": 0.6175141435598295
           },
           {
            "x": -0.7741297468260777,
            "y": 0.5992768649210072
           },
           {
            "x": -0.7624388120969869,
            "y": 0.5813129421918646
           },
           {
            "x": -0.7507478773678962,
            "y": 0.5636223753724017
           },
           {
            "x": -0.7390569426388058,
            "y": 0.5462051644626191
           },
           {
            "x": -0.7273660079097151,
            "y": 0.5290613094625157
           },
           {
            "x": -0.7156750731806243,
            "y": 0.5121908103720919
           },
           {
            "x": -0.7039841384515335,
            "y": 0.4955936671913479
           },
           {
            "x": -0.6922932037224427,
            "y": 0.4792698799202836
           },
           {
            "x": -0.6806022689933524,
            "y": 0.4632194485588996
           },
           {
            "x": -0.6689113342642616,
            "y": 0.44744237310719476
           },
           {
            "x": -0.6572203995351709,
            "y": 0.43193865356516964
           },
           {
            "x": -0.6455294648060801,
            "y": 0.4167082899328242
           },
           {
            "x": -0.6338385300769898,
            "y": 0.40175128221015904
           },
           {
            "x": -0.622147595347899,
            "y": 0.38706763039717307
           },
           {
            "x": -0.6104566606188082,
            "y": 0.3726573344938668
           },
           {
            "x": -0.5987657258897174,
            "y": 0.35852039450024026
           },
           {
            "x": -0.5870747911606271,
            "y": 0.3446568104162939
           },
           {
            "x": -0.5753838564315363,
            "y": 0.33106658224202684
           },
           {
            "x": -0.5636929217024456,
            "y": 0.3177497099774394
           },
           {
            "x": -0.5520019869733548,
            "y": 0.30470619362253176
           },
           {
            "x": -0.5403110522442645,
            "y": 0.29193603317730427
           },
           {
            "x": -0.5286201175151737,
            "y": 0.279439228641756
           },
           {
            "x": -0.5169291827860829,
            "y": 0.2672157800158875
           },
           {
            "x": -0.5052382480569921,
            "y": 0.25526568729969873
           },
           {
            "x": -0.4935473133279018,
            "y": 0.24358895049319007
           },
           {
            "x": -0.48185637859881103,
            "y": 0.23218556959636072
           },
           {
            "x": -0.47016544386972026,
            "y": 0.22105554460921106
           },
           {
            "x": -0.4584745091406295,
            "y": 0.21019887553174116
           },
           {
            "x": -0.44678357441153915,
            "y": 0.19961556236395134
           },
           {
            "x": -0.4350926396824484,
            "y": 0.18930560510584085
           },
           {
            "x": -0.4234017049533576,
            "y": 0.1792690037574101
           },
           {
            "x": -0.41171077022426683,
            "y": 0.16950575831865905
           },
           {
            "x": -0.4000198354951765,
            "y": 0.16001586878958807
           },
           {
            "x": -0.3883289007660857,
            "y": 0.15079933517019645
           },
           {
            "x": -0.37663796603699495,
            "y": 0.14185615746048458
           },
           {
            "x": -0.3649470313079042,
            "y": 0.1331863356604524
           },
           {
            "x": -0.35325609657881385,
            "y": 0.12478986977010026
           },
           {
            "x": -0.3415651618497231,
            "y": 0.11666675978942752
           },
           {
            "x": -0.3298742271206323,
            "y": 0.1088170057184345
           },
           {
            "x": -0.31818329239154153,
            "y": 0.1012406075571212
           },
           {
            "x": -0.30649235766245075,
            "y": 0.09393756530548764
           },
           {
            "x": -0.2948014229333604,
            "y": 0.08690787896353405
           },
           {
            "x": -0.28311048820426965,
            "y": 0.0801515485312599
           },
           {
            "x": -0.2714195534751789,
            "y": 0.07366857400866549
           },
           {
            "x": -0.2597286187460881,
            "y": 0.0674589553957508
           },
           {
            "x": -0.24803768401699777,
            "y": 0.061522692692516034
           },
           {
            "x": -0.236346749287907,
            "y": 0.05585978589896077
           },
           {
            "x": -0.22465581455881622,
            "y": 0.05047023501508523
           },
           {
            "x": -0.21296487982972545,
            "y": 0.0453540400408894
           },
           {
            "x": -0.20127394510063512,
            "y": 0.04051120097637348
           },
           {
            "x": -0.18958301037154435,
            "y": 0.03594171782153709
           },
           {
            "x": -0.17789207564245357,
            "y": 0.031645590576380424
           },
           {
            "x": -0.1662011409133628,
            "y": 0.027622819240903478
           },
           {
            "x": -0.15451020618427247,
            "y": 0.02387340381510639
           },
           {
            "x": -0.1428192714551817,
            "y": 0.020397344298988877
           },
           {
            "x": -0.13112833672609092,
            "y": 0.017194640692551087
           },
           {
            "x": -0.11943740199700015,
            "y": 0.014265292995793015
           },
           {
            "x": -0.10774646726790982,
            "y": 0.011609301208714761
           },
           {
            "x": -0.09605553253881904,
            "y": 0.009226665331316124
           },
           {
            "x": -0.08436459780972827,
            "y": 0.007117385363597208
           },
           {
            "x": -0.0726736630806375,
            "y": 0.005281461305558013
           },
           {
            "x": -0.060982728351547166,
            "y": 0.0037188931571985944
           },
           {
            "x": -0.04929179362245639,
            "y": 0.0024296809185188326
           },
           {
            "x": -0.03760085889336562,
            "y": 0.0014138245895187922
           },
           {
            "x": -0.025909924164274845,
            "y": 0.0006713241701984735
           },
           {
            "x": -0.014218989435184515,
            "y": 0.00020217966055788885
           },
           {
            "x": -0.002528054706093741,
            "y": 6.39106059700271e-06
           },
           {
            "x": 0.009162880022997033,
            "y": 8.39583703158381e-05
           },
           {
            "x": 0.020853814752087807,
            "y": 0.000434881589714395
           },
           {
            "x": 0.03254474948117814,
            "y": 0.0010591607187926445
           },
           {
            "x": 0.04423568421026891,
            "y": 0.001956795757550634
           },
           {
            "x": 0.055926618939359685,
            "y": 0.0031277867059883455
           },
           {
            "x": 0.06761755366845046,
            "y": 0.004572133564105778
           },
           {
            "x": 0.07930848839754123,
            "y": 0.006289836331902932
           },
           {
            "x": 0.09099942312663156,
            "y": 0.008280895009379728
           },
           {
            "x": 0.10269035785572234,
            "y": 0.010545309596536314
           },
           {
            "x": 0.11438129258481311,
            "y": 0.013083080093372623
           },
           {
            "x": 0.12607222731390388,
            "y": 0.015894206499888652
           },
           {
            "x": 0.1377631620429942,
            "y": 0.01897868881608428
           },
           {
            "x": 0.149454096772085,
            "y": 0.022336527041959743
           },
           {
            "x": 0.16114503150117576,
            "y": 0.02596772117751493
           },
           {
            "x": 0.17283596623026654,
            "y": 0.029872271222749835
           },
           {
            "x": 0.18452690095935687,
            "y": 0.0340501771776643
           },
           {
            "x": 0.19621783568844764,
            "y": 0.03850143904225864
           },
           {
            "x": 0.2079087704175384,
            "y": 0.043226056816532694
           },
           {
            "x": 0.2195997051466292,
            "y": 0.04822403050048648
           },
           {
            "x": 0.23129063987571952,
            "y": 0.05349536009411977
           },
           {
            "x": 0.2429815746048103,
            "y": 0.05904004559743299
           },
           {
            "x": 0.25467250933390106,
            "y": 0.06485808701042592
           },
           {
            "x": 0.26636344406299184,
            "y": 0.07094948433309858
           },
           {
            "x": 0.27805437879208217,
            "y": 0.07731423756545071
           },
           {
            "x": 0.28974531352117294,
            "y": 0.0839523467074828
           },
           {
            "x": 0.3014362482502637,
            "y": 0.09086381175919461
           },
           {
            "x": 0.31312718297935405,
            "y": 0.09804863272058587
           },
           {
            "x": 0.32481811770844526,
            "y": 0.1055068095916574
           },
           {
            "x": 0.3365090524375356,
            "y": 0.11323834237240808
           },
           {
            "x": 0.3481999871666259,
            "y": 0.12124323106283846
           },
           {
            "x": 0.35989092189571714,
            "y": 0.12952147566294916
           },
           {
            "x": 0.37158185662480747,
            "y": 0.13807307617273898
           },
           {
            "x": 0.3832727913538987,
            "y": 0.14689803259220915
           },
           {
            "x": 0.394963726082989,
            "y": 0.1559963449213584
           },
           {
            "x": 0.40665466081207935,
            "y": 0.16536801316018732
           },
           {
            "x": 0.41834559554117057,
            "y": 0.17501303730869666
           },
           {
            "x": 0.4300365302702609,
            "y": 0.184931417366885
           },
           {
            "x": 0.4417274649993521,
            "y": 0.19512315333475386
           },
           {
            "x": 0.45341839972844244,
            "y": 0.20558824521230162
           },
           {
            "x": 0.4651093344575328,
            "y": 0.21632669299952909
           },
           {
            "x": 0.476800269186624,
            "y": 0.2273384966964371
           },
           {
            "x": 0.4884912039157143,
            "y": 0.23862365630302398
           },
           {
            "x": 0.5001821386448047,
            "y": 0.2501821718192906
           },
           {
            "x": 0.5118730733738959,
            "y": 0.2620140432452378
           },
           {
            "x": 0.5235640081029862,
            "y": 0.27411927058086377
           },
           {
            "x": 0.5352549428320774,
            "y": 0.2864978538261705
           },
           {
            "x": 0.5469458775611677,
            "y": 0.2991497929811559
           },
           {
            "x": 0.5586368122902581,
            "y": 0.312075088045821
           },
           {
            "x": 0.5703277470193493,
            "y": 0.3252737390201669
           },
           {
            "x": 0.5820186817484396,
            "y": 0.33874574590419143
           },
           {
            "x": 0.59370961647753,
            "y": 0.3524911086978957
           },
           {
            "x": 0.6054005512066212,
            "y": 0.36650982740128074
           },
           {
            "x": 0.6170914859357115,
            "y": 0.38080190201434444
           },
           {
            "x": 0.6287824206648027,
            "y": 0.39536733253708894
           },
           {
            "x": 0.640473355393893,
            "y": 0.41020611896951203
           },
           {
            "x": 0.6521642901229834,
            "y": 0.4253182613116148
           },
           {
            "x": 0.6638552248520746,
            "y": 0.4407037595633985
           },
           {
            "x": 0.6755461595811649,
            "y": 0.45636261372486076
           },
           {
            "x": 0.6872370943102553,
            "y": 0.4722948237960027
           },
           {
            "x": 0.6989280290393465,
            "y": 0.4885003897768255
           },
           {
            "x": 0.7106189637684368,
            "y": 0.5049793116673269
           },
           {
            "x": 0.722309898497528,
            "y": 0.5217315894675092
           },
           {
            "x": 0.7340008332266184,
            "y": 0.53875722317737
           },
           {
            "x": 0.7456917679557087,
            "y": 0.5560562127969105
           },
           {
            "x": 0.7573827026847999,
            "y": 0.573628558326132
           },
           {
            "x": 0.7690736374138902,
            "y": 0.5914742597650319
           },
           {
            "x": 0.7807645721429815,
            "y": 0.6095933171136129
           },
           {
            "x": 0.7924555068720718,
            "y": 0.6279857303718722
           },
           {
            "x": 0.8041464416011621,
            "y": 0.6466514995398113
           },
           {
            "x": 0.8158373763302533,
            "y": 0.6655906246174313
           },
           {
            "x": 0.8275283110593437,
            "y": 0.6848031056047298
           },
           {
            "x": 0.839219245788434,
            "y": 0.7042889425017079
           },
           {
            "x": 0.8509101805175252,
            "y": 0.7240481353083673
           },
           {
            "x": 0.8626011152466155,
            "y": 0.7440806840247048
           },
           {
            "x": 0.8742920499757068,
            "y": 0.7643865886507237
           },
           {
            "x": 0.8859829847047971,
            "y": 0.7849658491864206
           },
           {
            "x": 0.8976739194338874,
            "y": 0.8058184656317974
           },
           {
            "x": 0.9093648541629786,
            "y": 0.8269444379868554
           },
           {
            "x": 0.921055788892069,
            "y": 0.8483437662515915
           },
           {
            "x": 0.9327467236211593,
            "y": 0.8700164504260073
           },
           {
            "x": 0.9444376583502505,
            "y": 0.8919624905101045
           },
           {
            "x": 0.9561285930793408,
            "y": 0.9141818865038798
           },
           {
            "x": 0.9678195278084321,
            "y": 0.9366746384073363
           },
           {
            "x": 0.9795104625375224,
            "y": 0.959440746220471
           },
           {
            "x": 0.9912013972666127,
            "y": 0.9824802099432854
           },
           {
            "x": 1.002892331995704,
            "y": 1.0057930295757813
           },
           {
            "x": 1.0145832667247943,
            "y": 1.029379205117955
           },
           {
            "x": 1.0262742014538846,
            "y": 1.0532387365698086
           },
           {
            "x": 1.0379651361829758,
            "y": 1.0773716239313436
           },
           {
            "x": 1.0496560709120661,
            "y": 1.1017778672025564
           },
           {
            "x": 1.0613470056411574,
            "y": 1.126457466383451
           },
           {
            "x": 1.0730379403702477,
            "y": 1.1514104214740233
           },
           {
            "x": 1.084728875099338,
            "y": 1.1766367324742752
           },
           {
            "x": 1.0964198098284292,
            "y": 1.202136399384209
           },
           {
            "x": 1.1081107445575196,
            "y": 1.2279094222038205
           },
           {
            "x": 1.11980167928661,
            "y": 1.2539558009331115
           },
           {
            "x": 1.1314926140157011,
            "y": 1.2802755355720843
           },
           {
            "x": 1.1431835487447914,
            "y": 1.306868626120735
           },
           {
            "x": 1.1548744834738827,
            "y": 1.3337350725790673
           },
           {
            "x": 1.166565418202973,
            "y": 1.3608748749470774
           },
           {
            "x": 1.1782563529320633,
            "y": 1.388288033224767
           },
           {
            "x": 1.1899472876611545,
            "y": 1.4159745474121386
           },
           {
            "x": 1.2016382223902449,
            "y": 1.4439344175091875
           },
           {
            "x": 1.213329157119336,
            "y": 1.4721676435159186
           },
           {
            "x": 1.2250200918484264,
            "y": 1.500674225432327
           },
           {
            "x": 1.2367110265775167,
            "y": 1.5294541632584153
           },
           {
            "x": 1.248401961306608,
            "y": 1.5585074569941855
           },
           {
            "x": 1.2600928960356983,
            "y": 1.587834106639633
           },
           {
            "x": 1.2717838307647886,
            "y": 1.6174341121947604
           },
           {
            "x": 1.2834747654938798,
            "y": 1.6473074736595699
           },
           {
            "x": 1.2951657002229702,
            "y": 1.6774541910340566
           },
           {
            "x": 1.3068566349520614,
            "y": 1.7078742643182254
           },
           {
            "x": 1.3185475696811517,
            "y": 1.7385676935120717
           },
           {
            "x": 1.330238504410242,
            "y": 1.7695344786155975
           },
           {
            "x": 1.3419294391393333,
            "y": 1.8007746196288055
           },
           {
            "x": 1.3536203738684236,
            "y": 1.8322881165516909
           },
           {
            "x": 1.365311308597514,
            "y": 1.864074969384256
           },
           {
            "x": 1.3770022433266051,
            "y": 1.896135178126503
           },
           {
            "x": 1.3886931780556955,
            "y": 1.9284687427784275
           },
           {
            "x": 1.4003841127847867,
            "y": 1.9610756633400341
           },
           {
            "x": 1.412075047513877,
            "y": 1.993955939811318
           },
           {
            "x": 1.4237659822429674,
            "y": 2.027109572192282
           },
           {
            "x": 1.4354569169720586,
            "y": 2.0605365604829275
           },
           {
            "x": 1.447147851701149,
            "y": 2.0942369046832505
           },
           {
            "x": 1.4588387864302392,
            "y": 2.128210604793253
           },
           {
            "x": 1.4705297211593304,
            "y": 2.162457660812938
           },
           {
            "x": 1.4822206558884208,
            "y": 2.1969780727423003
           },
           {
            "x": 1.493911590617512,
            "y": 2.2317718405813447
           },
           {
            "x": 1.5056025253466023,
            "y": 2.2668389643300664
           },
           {
            "x": 1.5172934600756927,
            "y": 2.3021794439884675
           },
           {
            "x": 1.5289843948047839,
            "y": 2.3377932795565513
           },
           {
            "x": 1.5406753295338742,
            "y": 2.373680471034312
           },
           {
            "x": 1.5523662642629654,
            "y": 2.409841018421755
           },
           {
            "x": 1.5640571989920558,
            "y": 2.4462749217188753
           },
           {
            "x": 1.575748133721146,
            "y": 2.4829821809256747
           },
           {
            "x": 1.5874390684502373,
            "y": 2.519962796042157
           },
           {
            "x": 1.5991300031793276,
            "y": 2.5572167670683164
           },
           {
            "x": 1.610820937908418,
            "y": 2.5947440940041555
           },
           {
            "x": 1.6225118726375092,
            "y": 2.632544776849677
           },
           {
            "x": 1.6342028073665995,
            "y": 2.6706188156048754
           },
           {
            "x": 1.6458937420956907,
            "y": 2.708966210269756
           },
           {
            "x": 1.657584676824781,
            "y": 2.747586960844314
           },
           {
            "x": 1.6692756115538714,
            "y": 2.7864810673285514
           },
           {
            "x": 1.6809665462829626,
            "y": 2.8256485297224714
           },
           {
            "x": 1.692657481012053,
            "y": 2.865089348026068
           },
           {
            "x": 1.7043484157411433,
            "y": 2.904803522239345
           },
           {
            "x": 1.7160393504702345,
            "y": 2.944791052362304
           },
           {
            "x": 1.7277302851993248,
            "y": 2.9850519383949403
           },
           {
            "x": 1.739421219928416,
            "y": 3.025586180337259
           },
           {
            "x": 1.7511121546575064,
            "y": 3.0663937781892545
           },
           {
            "x": 1.7628030893865967,
            "y": 3.1074747319509295
           },
           {
            "x": 1.774494024115688,
            "y": 3.1488290416222875
           },
           {
            "x": 1.7861849588447782,
            "y": 3.1904567072033223
           },
           {
            "x": 1.7978758935738686,
            "y": 3.2323577286940366
           },
           {
            "x": 1.8095668283029598,
            "y": 3.2745321060944335
           },
           {
            "x": 1.8212577630320501,
            "y": 3.316979839404507
           },
           {
            "x": 1.8329486977611413,
            "y": 3.359700928624264
           },
           {
            "x": 1.8446396324902317,
            "y": 3.402695373753697
           },
           {
            "x": 1.856330567219322,
            "y": 3.44596317479281
           },
           {
            "x": 1.8680215019484132,
            "y": 3.4895043317416055
           },
           {
            "x": 1.8797124366775035,
            "y": 3.533318844600078
           },
           {
            "x": 1.8914033714065939,
            "y": 3.5774067133682297
           },
           {
            "x": 1.903094306135685,
            "y": 3.6217679380460646
           },
           {
            "x": 1.9147852408647754,
            "y": 3.666402518633576
           },
           {
            "x": 1.9264761755938666,
            "y": 3.7113104551307705
           },
           {
            "x": 1.938167110322957,
            "y": 3.756491747537641
           },
           {
            "x": 1.9498580450520473,
            "y": 3.8019463958541917
           },
           {
            "x": 1.9615489797811385,
            "y": 3.8476744000804253
           },
           {
            "x": 1.9732399145102288,
            "y": 3.893675760216335
           },
           {
            "x": 1.98493084923932,
            "y": 3.939950476261928
           },
           {
            "x": 1.9966217839684104,
            "y": 3.9864985482171975
           },
           {
            "x": 2.0083127186975007,
            "y": 4.033319976082146
           },
           {
            "x": 2.020003653426592,
            "y": 4.080414759856779
           },
           {
            "x": 2.0316945881556823,
            "y": 4.127782899541088
           },
           {
            "x": 2.0433855228847726,
            "y": 4.175424395135075
           },
           {
            "x": 2.055076457613864,
            "y": 4.223339246638747
           },
           {
            "x": 2.066767392342954,
            "y": 4.271527454052094
           },
           {
            "x": 2.0784583270720454,
            "y": 4.319989017375126
           },
           {
            "x": 2.0901492618011357,
            "y": 4.368723936607832
           },
           {
            "x": 2.101840196530226,
            "y": 4.417732211750219
           },
           {
            "x": 2.1135311312593172,
            "y": 4.467013842802289
           },
           {
            "x": 2.1252220659884076,
            "y": 4.516568829764036
           },
           {
            "x": 2.136913000717498,
            "y": 4.566397172635461
           },
           {
            "x": 2.148603935446589,
            "y": 4.616498871416571
           },
           {
            "x": 2.1602948701756794,
            "y": 4.666873926107356
           },
           {
            "x": 2.1719858049047707,
            "y": 4.717522336707825
           },
           {
            "x": 2.183676739633861,
            "y": 4.768444103217969
           },
           {
            "x": 2.1953676743629513,
            "y": 4.819639225637793
           },
           {
            "x": 2.2070586090920425,
            "y": 4.871107703967302
           },
           {
            "x": 2.218749543821133,
            "y": 4.922849538206485
           },
           {
            "x": 2.230440478550223,
            "y": 4.974864728355349
           },
           {
            "x": 2.2421314132793144,
            "y": 5.027153274413896
           },
           {
            "x": 2.2538223480084048,
            "y": 5.079715176382119
           },
           {
            "x": 2.265513282737496,
            "y": 5.132550434260025
           },
           {
            "x": 2.2772042174665863,
            "y": 5.185659048047608
           },
           {
            "x": 2.2888951521956766,
            "y": 5.23904101774487
           },
           {
            "x": 2.300586086924768,
            "y": 5.292696343351816
           },
           {
            "x": 2.312277021653858,
            "y": 5.346625024868437
           },
           {
            "x": 2.3239679563829494,
            "y": 5.400827062294742
           },
           {
            "x": 2.3356588911120397,
            "y": 5.455302455630723
           },
           {
            "x": 2.34734982584113,
            "y": 5.510051204876383
           },
           {
            "x": 2.3590407605702213,
            "y": 5.565073310031728
           },
           {
            "x": 2.3707316952993116,
            "y": 5.620368771096748
           },
           {
            "x": 2.382422630028402,
            "y": 5.675937588071448
           },
           {
            "x": 2.394113564757493,
            "y": 5.731779760955831
           },
           {
            "x": 2.4058044994865835,
            "y": 5.7878952897498905
           },
           {
            "x": 2.4174954342156747,
            "y": 5.844284174453634
           },
           {
            "x": 2.429186368944765,
            "y": 5.900946415067052
           },
           {
            "x": 2.4408773036738554,
            "y": 5.957882011590151
           },
           {
            "x": 2.4525682384029466,
            "y": 6.015090964022932
           },
           {
            "x": 2.464259173132037,
            "y": 6.07257327236539
           },
           {
            "x": 2.4759501078611272,
            "y": 6.130328936617528
           },
           {
            "x": 2.4876410425902185,
            "y": 6.188357956779349
           },
           {
            "x": 2.499331977319309,
            "y": 6.246660332850846
           },
           {
            "x": 2.5110229120484,
            "y": 6.305236064832027
           },
           {
            "x": 2.5227138467774903,
            "y": 6.3640851527228826
           },
           {
            "x": 2.5344047815065807,
            "y": 6.423207596523419
           },
           {
            "x": 2.546095716235672,
            "y": 6.482603396233639
           },
           {
            "x": 2.557786650964762,
            "y": 6.542272551853534
           },
           {
            "x": 2.5694775856938525,
            "y": 6.60221506338311
           },
           {
            "x": 2.5811685204229438,
            "y": 6.662430930822369
           },
           {
            "x": 2.592859455152034,
            "y": 6.7229201541713035
           },
           {
            "x": 2.6045503898811253,
            "y": 6.783682733429922
           },
           {
            "x": 2.6162413246102156,
            "y": 6.844718668598215
           },
           {
            "x": 2.627932259339306,
            "y": 6.906027959676189
           },
           {
            "x": 2.639623194068397,
            "y": 6.967610606663847
           },
           {
            "x": 2.6513141287974875,
            "y": 7.02946660956118
           },
           {
            "x": 2.6630050635265787,
            "y": 7.091595968368198
           },
           {
            "x": 2.674695998255669,
            "y": 7.15399868308489
           },
           {
            "x": 2.6863869329847594,
            "y": 7.2166747537112625
           },
           {
            "x": 2.6980778677138506,
            "y": 7.2796241802473185
           },
           {
            "x": 2.709768802442941,
            "y": 7.34284696269305
           },
           {
            "x": 2.7214597371720313,
            "y": 7.406343101048462
           },
           {
            "x": 2.7331506719011225,
            "y": 7.470112595313557
           },
           {
            "x": 2.744841606630213,
            "y": 7.534155445488328
           },
           {
            "x": 2.756532541359304,
            "y": 7.598471651572783
           },
           {
            "x": 2.7682234760883944,
            "y": 7.663061213566913
           },
           {
            "x": 2.7799144108174847,
            "y": 7.727924131470723
           },
           {
            "x": 2.791605345546576,
            "y": 7.793060405284217
           },
           {
            "x": 2.8032962802756662,
            "y": 7.858470035007387
           },
           {
            "x": 2.8149872150047566,
            "y": 7.924153020640236
           },
           {
            "x": 2.826678149733848,
            "y": 7.9901093621827695
           },
           {
            "x": 2.838369084462938,
            "y": 8.056339059634977
           },
           {
            "x": 2.8500600191920293,
            "y": 8.12284211299687
           },
           {
            "x": 2.8617509539211197,
            "y": 8.189618522268438
           },
           {
            "x": 2.87344188865021,
            "y": 8.256668287449687
           },
           {
            "x": 2.885132823379301,
            "y": 8.323991408540618
           },
           {
            "x": 2.8968237581083915,
            "y": 8.391587885541226
           },
           {
            "x": 2.908514692837482,
            "y": 8.459457718451512
           },
           {
            "x": 2.920205627566573,
            "y": 8.527600907271482
           },
           {
            "x": 2.9318965622956634,
            "y": 8.59601745200113
           },
           {
            "x": 2.9435874970247546,
            "y": 8.66470735264046
           },
           {
            "x": 2.955278431753845,
            "y": 8.733670609189465
           },
           {
            "x": 2.9669693664829353,
            "y": 8.80290722164815
           },
           {
            "x": 2.9786603012120265,
            "y": 8.87241719001652
           },
           {
            "x": 2.990351235941117,
            "y": 8.942200514294566
           },
           {
            "x": 3.002042170670207,
            "y": 9.01225719448229
           },
           {
            "x": 3.0137331053992984,
            "y": 9.082587230579698
           },
           {
            "x": 3.0254240401283887,
            "y": 9.153190622586783
           },
           {
            "x": 3.03711497485748,
            "y": 9.224067370503551
           },
           {
            "x": 3.0488059095865703,
            "y": 9.295217474329995
           },
           {
            "x": 3.0604968443156606,
            "y": 9.366640934066117
           },
           {
            "x": 3.072187779044752,
            "y": 9.438337749711925
           },
           {
            "x": 3.083878713773842,
            "y": 9.510307921267406
           },
           {
            "x": 3.0955696485029334,
            "y": 9.582551448732575
           },
           {
            "x": 3.1072605832320237,
            "y": 9.655068332107415
           },
           {
            "x": 3.118951517961114,
            "y": 9.727858571391938
           },
           {
            "x": 3.1306424526902052,
            "y": 9.800922166586144
           },
           {
            "x": 3.1423333874192956,
            "y": 9.874259117690025
           },
           {
            "x": 3.154024322148386,
            "y": 9.947869424703585
           },
           {
            "x": 3.165715256877477,
            "y": 10.02175308762683
           },
           {
            "x": 3.1774061916065675,
            "y": 10.095910106459751
           },
           {
            "x": 3.1890971263356587,
            "y": 10.170340481202356
           },
           {
            "x": 3.200788061064749,
            "y": 10.245044211854635
           },
           {
            "x": 3.2124789957938393,
            "y": 10.320021298416595
           },
           {
            "x": 3.2241699305229305,
            "y": 10.395271740888239
           },
           {
            "x": 3.235860865252021,
            "y": 10.470795539269558
           },
           {
            "x": 3.247551799981111,
            "y": 10.546592693560555
           },
           {
            "x": 3.2592427347102024,
            "y": 10.622663203761238
           },
           {
            "x": 3.2709336694392928,
            "y": 10.699007069871596
           },
           {
            "x": 3.282624604168384,
            "y": 10.77562429189164
           },
           {
            "x": 3.2943155388974743,
            "y": 10.852514869821357
           },
           {
            "x": 3.3060064736265646,
            "y": 10.929678803660753
           },
           {
            "x": 3.317697408355656,
            "y": 11.007116093409836
           },
           {
            "x": 3.329388343084746,
            "y": 11.08482673906859
           },
           {
            "x": 3.3410792778138365,
            "y": 11.162810740637028
           },
           {
            "x": 3.3527702125429277,
            "y": 11.241068098115148
           },
           {
            "x": 3.364461147272018,
            "y": 11.319598811502944
           },
           {
            "x": 3.3761520820011093,
            "y": 11.398402880800425
           },
           {
            "x": 3.3878430167301996,
            "y": 11.47748030600758
           },
           {
            "x": 3.39953395145929,
            "y": 11.556831087124413
           },
           {
            "x": 3.411224886188381,
            "y": 11.636455224150934
           },
           {
            "x": 3.4229158209174715,
            "y": 11.716352717087128
           },
           {
            "x": 3.4346067556465627,
            "y": 11.796523565933008
           },
           {
            "x": 3.446297690375653,
            "y": 11.87696777068856
           },
           {
            "x": 3.4579886251047434,
            "y": 11.957685331353794
           },
           {
            "x": 3.4696795598338346,
            "y": 12.038676247928713
           },
           {
            "x": 3.481370494562925,
            "y": 12.119940520413305
           },
           {
            "x": 3.4930614292920152,
            "y": 12.201478148807576
           },
           {
            "x": 3.5047523640211065,
            "y": 12.283289133111534
           },
           {
            "x": 3.516443298750197,
            "y": 12.365373473325166
           },
           {
            "x": 3.528134233479288,
            "y": 12.447731169448483
           },
           {
            "x": 3.5398251682083783,
            "y": 12.530362221481473
           },
           {
            "x": 3.5515161029374687,
            "y": 12.613266629424144
           },
           {
            "x": 3.56320703766656,
            "y": 12.6964443932765
           },
           {
            "x": 3.57489797239565,
            "y": 12.77989551303853
           },
           {
            "x": 3.5865889071247405,
            "y": 12.86361998871024
           },
           {
            "x": 3.5982798418538318,
            "y": 12.947617820291637
           },
           {
            "x": 3.609970776582922,
            "y": 13.031889007782706
           },
           {
            "x": 3.6216617113120133,
            "y": 13.11643355118346
           },
           {
            "x": 3.6333526460411036,
            "y": 13.201251450493888
           },
           {
            "x": 3.645043580770194,
            "y": 13.286342705713997
           },
           {
            "x": 3.656734515499285,
            "y": 13.371707316843793
           },
           {
            "x": 3.6684254502283755,
            "y": 13.45734528388326
           },
           {
            "x": 3.680116384957466,
            "y": 13.543256606832408
           },
           {
            "x": 3.691807319686557,
            "y": 13.629441285691241
           },
           {
            "x": 3.7034982544156474,
            "y": 13.715899320459748
           },
           {
            "x": 3.7151891891447386,
            "y": 13.80263071113794
           },
           {
            "x": 3.726880123873829,
            "y": 13.889635457725806
           },
           {
            "x": 3.7385710586029193,
            "y": 13.976913560223352
           },
           {
            "x": 3.7502619933320105,
            "y": 14.064465018630585
           },
           {
            "x": 3.761952928061101,
            "y": 14.15228983294749
           },
           {
            "x": 3.773643862790191,
            "y": 14.240388003174075
           },
           {
            "x": 3.7853347975192824,
            "y": 14.328759529310346
           },
           {
            "x": 3.7970257322483727,
            "y": 14.41740441135629
           },
           {
            "x": 3.808716666977464,
            "y": 14.506322649311922
           },
           {
            "x": 3.8204076017065542,
            "y": 14.595514243177226
           },
           {
            "x": 3.8320985364356446,
            "y": 14.684979192952209
           },
           {
            "x": 3.843789471164736,
            "y": 14.77471749863688
           },
           {
            "x": 3.855480405893826,
            "y": 14.864729160231223
           },
           {
            "x": 3.8671713406229173,
            "y": 14.955014177735253
           },
           {
            "x": 3.8788622753520077,
            "y": 15.045572551148954
           },
           {
            "x": 3.890553210081098,
            "y": 15.136404280472336
           },
           {
            "x": 3.902244144810189,
            "y": 15.227509365705405
           },
           {
            "x": 3.9139350795392795,
            "y": 15.318887806848146
           },
           {
            "x": 3.92562601426837,
            "y": 15.410539603900567
           },
           {
            "x": 3.937316948997461,
            "y": 15.502464756862675
           },
           {
            "x": 3.9490078837265514,
            "y": 15.594663265734455
           },
           {
            "x": 3.9606988184556426,
            "y": 15.687135130515923
           },
           {
            "x": 3.972389753184733,
            "y": 15.779880351207064
           },
           {
            "x": 3.9840806879138233,
            "y": 15.872898927807883
           },
           {
            "x": 3.9957716226429145,
            "y": 15.96619086031839
           },
           {
            "x": 4.007462557372005,
            "y": 16.05975614873857
           },
           {
            "x": 4.019153492101095,
            "y": 16.15359479306843
           },
           {
            "x": 4.030844426830186,
            "y": 16.247706793307973
           },
           {
            "x": 4.042535361559277,
            "y": 16.34209214945719
           },
           {
            "x": 4.054226296288368,
            "y": 16.436750861516096
           },
           {
            "x": 4.065917231017458,
            "y": 16.531682929484674
           },
           {
            "x": 4.077608165746549,
            "y": 16.626888353362933
           },
           {
            "x": 4.08929910047564,
            "y": 16.722367133150875
           },
           {
            "x": 4.10099003520473,
            "y": 16.818119268848495
           },
           {
            "x": 4.1126809699338205,
            "y": 16.91414476045579
           },
           {
            "x": 4.124371904662912,
            "y": 17.010443607972775
           },
           {
            "x": 4.136062839392002,
            "y": 17.10701581139943
           },
           {
            "x": 4.147753774121093,
            "y": 17.203861370735773
           },
           {
            "x": 4.159444708850184,
            "y": 17.300980285981787
           },
           {
            "x": 4.171135643579274,
            "y": 17.398372557137485
           },
           {
            "x": 4.182826578308365,
            "y": 17.496038184202867
           },
           {
            "x": 4.1945175130374555,
            "y": 17.593977167177922
           },
           {
            "x": 4.206208447766547,
            "y": 17.69218950606266
           },
           {
            "x": 4.217899382495637,
            "y": 17.790675200857077
           },
           {
            "x": 4.229590317224727,
            "y": 17.88943425156117
           },
           {
            "x": 4.2412812519538186,
            "y": 17.98846665817495
           },
           {
            "x": 4.252972186682909,
            "y": 18.087772420698403
           },
           {
            "x": 4.264663121411999,
            "y": 18.187351539131537
           },
           {
            "x": 4.27635405614109,
            "y": 18.287204013474355
           },
           {
            "x": 4.288044990870181,
            "y": 18.38732984372685
           },
           {
            "x": 4.299735925599272,
            "y": 18.487729029889028
           },
           {
            "x": 4.311426860328362,
            "y": 18.58840157196088
           },
           {
            "x": 4.323117795057453,
            "y": 18.689347469942412
           },
           {
            "x": 4.334808729786543,
            "y": 18.79056672383362
           },
           {
            "x": 4.346499664515635,
            "y": 18.892059333634528
           },
           {
            "x": 4.358190599244725,
            "y": 18.993825299345097
           },
           {
            "x": 4.369881533973816,
            "y": 19.095864620965347
           },
           {
            "x": 4.381572468702906,
            "y": 19.198177298495278
           },
           {
            "x": 4.393263403431996,
            "y": 19.30076333193489
           },
           {
            "x": 4.404954338161087,
            "y": 19.403622721284176
           },
           {
            "x": 4.416645272890179,
            "y": 19.50675546654316
           },
           {
            "x": 4.428336207619269,
            "y": 19.61016156771181
           },
           {
            "x": 4.4400271423483595,
            "y": 19.71384102479014
           },
           {
            "x": 4.45171807707745,
            "y": 19.817793837778147
           },
           {
            "x": 4.46340901180654,
            "y": 19.922020006675837
           },
           {
            "x": 4.475099946535632,
            "y": 20.026519531483217
           },
           {
            "x": 4.486790881264723,
            "y": 20.131292412200267
           },
           {
            "x": 4.498481815993813,
            "y": 20.236338648826994
           },
           {
            "x": 4.510172750722903,
            "y": 20.3416582413634
           },
           {
            "x": 4.521863685451994,
            "y": 20.447251189809485
           },
           {
            "x": 4.533554620181086,
            "y": 20.553117494165267
           },
           {
            "x": 4.545245554910176,
            "y": 20.659257154430716
           },
           {
            "x": 4.556936489639266,
            "y": 20.76567017060584
           },
           {
            "x": 4.568627424368357,
            "y": 20.872356542690646
           },
           {
            "x": 4.580318359097447,
            "y": 20.97931627068513
           },
           {
            "x": 4.592009293826539,
            "y": 21.08654935458931
           },
           {
            "x": 4.603700228555629,
            "y": 21.194055794403155
           },
           {
            "x": 4.61539116328472,
            "y": 21.30183559012668
           },
           {
            "x": 4.62708209801381,
            "y": 21.409888741759882
           },
           {
            "x": 4.6387730327429,
            "y": 21.518215249302767
           },
           {
            "x": 4.650463967471991,
            "y": 21.626815112755327
           },
           {
            "x": 4.662154902201083,
            "y": 21.73568833211759
           },
           {
            "x": 4.673845836930173,
            "y": 21.84483490738951
           },
           {
            "x": 4.6855367716592635,
            "y": 21.954254838571114
           },
           {
            "x": 4.697227706388354,
            "y": 22.063948125662396
           },
           {
            "x": 4.708918641117444,
            "y": 22.17391476866336
           },
           {
            "x": 4.720609575846536,
            "y": 22.284154767574016
           },
           {
            "x": 4.732300510575627,
            "y": 22.394668122394336
           },
           {
            "x": 4.743991445304717,
            "y": 22.505454833124336
           },
           {
            "x": 4.755682380033807,
            "y": 22.616514899764017
           },
           {
            "x": 4.767373314762898,
            "y": 22.727848322313378
           },
           {
            "x": 4.77906424949199,
            "y": 22.839455100772433
           },
           {
            "x": 4.79075518422108,
            "y": 22.951335235141155
           },
           {
            "x": 4.80244611895017,
            "y": 23.063488725419553
           },
           {
            "x": 4.814137053679261,
            "y": 23.175915571607632
           },
           {
            "x": 4.825827988408351,
            "y": 23.28861577370539
           },
           {
            "x": 4.837518923137441,
            "y": 23.40158933171283
           },
           {
            "x": 4.8492098578665335,
            "y": 23.514836245629965
           },
           {
            "x": 4.860900792595624,
            "y": 23.628356515456765
           },
           {
            "x": 4.872591727324714,
            "y": 23.742150141193243
           },
           {
            "x": 4.8842826620538045,
            "y": 23.8562171228394
           },
           {
            "x": 4.895973596782895,
            "y": 23.970557460395234
           },
           {
            "x": 4.907664531511987,
            "y": 24.08517115386077
           },
           {
            "x": 4.919355466241077,
            "y": 24.200058203235965
           },
           {
            "x": 4.9310464009701676,
            "y": 24.315218608520844
           },
           {
            "x": 4.942737335699258,
            "y": 24.4306523697154
           },
           {
            "x": 4.954428270428348,
            "y": 24.546359486819632
           },
           {
            "x": 4.96611920515744,
            "y": 24.662339959833567
           },
           {
            "x": 4.977810139886531,
            "y": 24.778593788757163
           },
           {
            "x": 4.989501074615621,
            "y": 24.895120973590437
           },
           {
            "x": 5.001192009344711,
            "y": 25.01192151433339
           },
           {
            "x": 5.012882944073802,
            "y": 25.128995410986025
           },
           {
            "x": 5.024573878802894,
            "y": 25.246342663548358
           },
           {
            "x": 5.036264813531984,
            "y": 25.36396327202035
           },
           {
            "x": 5.047955748261074,
            "y": 25.481857236402025
           },
           {
            "x": 5.059646682990165,
            "y": 25.600024556693377
           },
           {
            "x": 5.071337617719255,
            "y": 25.71846523289441
           },
           {
            "x": 5.083028552448345,
            "y": 25.837179265005123
           },
           {
            "x": 5.0947194871774375,
            "y": 25.95616665302553
           },
           {
            "x": 5.106410421906528,
            "y": 26.075427396955604
           },
           {
            "x": 5.118101356635618,
            "y": 26.194961496795354
           },
           {
            "x": 5.1297922913647085,
            "y": 26.314768952544785
           },
           {
            "x": 5.141483226093799,
            "y": 26.434849764203896
           },
           {
            "x": 5.153174160822891,
            "y": 26.555203931772706
           },
           {
            "x": 5.164865095551981,
            "y": 26.675831455251178
           },
           {
            "x": 5.176556030281072,
            "y": 26.796732334639326
           },
           {
            "x": 5.188246965010162,
            "y": 26.917906569937156
           },
           {
            "x": 5.199937899739252,
            "y": 27.039354161144665
           },
           {
            "x": 5.211628834468344,
            "y": 27.161075108261873
           },
           {
            "x": 5.223319769197435,
            "y": 27.283069411288743
           },
           {
            "x": 5.235010703926525,
            "y": 27.40533707022529
           },
           {
            "x": 5.246701638655615,
            "y": 27.52787808507152
           },
           {
            "x": 5.258392573384706,
            "y": 27.65069245582743
           },
           {
            "x": 5.270083508113798,
            "y": 27.773780182493034
           },
           {
            "x": 5.281774442842888,
            "y": 27.897141265068303
           },
           {
            "x": 5.293465377571978,
            "y": 28.020775703553248
           },
           {
            "x": 5.305156312301069,
            "y": 28.144683497947874
           },
           {
            "x": 5.316847247030159,
            "y": 28.268864648252183
           },
           {
            "x": 5.328538181759249,
            "y": 28.39331915446617
           },
           {
            "x": 5.3402291164883415,
            "y": 28.518047016589854
           },
           {
            "x": 5.351920051217432,
            "y": 28.643048234623198
           },
           {
            "x": 5.363610985946522,
            "y": 28.768322808566225
           },
           {
            "x": 5.3753019206756125,
            "y": 28.89387073841893
           },
           {
            "x": 5.386992855404703,
            "y": 29.019692024181314
           },
           {
            "x": 5.398683790133795,
            "y": 29.145786665853397
           },
           {
            "x": 5.410374724862885,
            "y": 29.272154663435142
           },
           {
            "x": 5.422065659591976,
            "y": 29.398796016926564
           },
           {
            "x": 5.433756594321066,
            "y": 29.52571072632767
           },
           {
            "x": 5.445447529050156,
            "y": 29.652898791638453
           },
           {
            "x": 5.457138463779248,
            "y": 29.780360212858934
           },
           {
            "x": 5.468829398508339,
            "y": 29.908094989989078
           },
           {
            "x": 5.480520333237429,
            "y": 30.0361031230289
           },
           {
            "x": 5.492211267966519,
            "y": 30.164384611978402
           },
           {
            "x": 5.50390220269561,
            "y": 30.292939456837583
           },
           {
            "x": 5.5155931374247,
            "y": 30.421767657606445
           },
           {
            "x": 5.527284072153792,
            "y": 30.550869214285008
           },
           {
            "x": 5.5389750068828825,
            "y": 30.680244126873227
           },
           {
            "x": 5.550665941611973,
            "y": 30.80989239537113
           },
           {
            "x": 5.562356876341063,
            "y": 30.93981401977871
           },
           {
            "x": 5.5740478110701535,
            "y": 31.07000900009597
           },
           {
            "x": 5.585738745799246,
            "y": 31.20047733632293
           },
           {
            "x": 5.597429680528336,
            "y": 31.331219028459547
           },
           {
            "x": 5.609120615257426,
            "y": 31.462234076505847
           },
           {
            "x": 5.6208115499865166,
            "y": 31.593522480461825
           },
           {
            "x": 5.632502484715607,
            "y": 31.725084240327487
           },
           {
            "x": 5.644193419444699,
            "y": 31.856919356102843
           },
           {
            "x": 5.655884354173789,
            "y": 31.98902782778786
           },
           {
            "x": 5.66757528890288,
            "y": 32.12140965538256
           },
           {
            "x": 5.67926622363197,
            "y": 32.25406483888694
           },
           {
            "x": 5.69095715836106,
            "y": 32.38699337830099
           },
           {
            "x": 5.702648093090152,
            "y": 32.52019527362475
           },
           {
            "x": 5.714339027819243,
            "y": 32.65367052485817
           },
           {
            "x": 5.726029962548333,
            "y": 32.78741913200126
           },
           {
            "x": 5.737720897277423,
            "y": 32.92144109505404
           },
           {
            "x": 5.749411832006514,
            "y": 33.05573641401649
           },
           {
            "x": 5.761102766735604,
            "y": 33.190305088888636
           },
           {
            "x": 5.772793701464696,
            "y": 33.32514711967047
           },
           {
            "x": 5.7844846361937865,
            "y": 33.460262506361964
           },
           {
            "x": 5.796175570922877,
            "y": 33.59565124896314
           },
           {
            "x": 5.807866505651967,
            "y": 33.73131334747399
           },
           {
            "x": 5.8195574403810575,
            "y": 33.867248801894526
           },
           {
            "x": 5.83124837511015,
            "y": 34.00345761222476
           },
           {
            "x": 5.84293930983924,
            "y": 34.13993977846465
           },
           {
            "x": 5.85463024456833,
            "y": 34.27669530061423
           },
           {
            "x": 5.866321179297421,
            "y": 34.413724178673476
           },
           {
            "x": 5.878012114026511,
            "y": 34.551026412642415
           },
           {
            "x": 5.889703048755603,
            "y": 34.688602002521044
           },
           {
            "x": 5.901393983484693,
            "y": 34.826450948309336
           },
           {
            "x": 5.913084918213784,
            "y": 34.96457325000731
           },
           {
            "x": 5.924775852942874,
            "y": 35.10296890761496
           },
           {
            "x": 5.936466787671964,
            "y": 35.241637921132295
           },
           {
            "x": 5.948157722401055,
            "y": 35.3805802905593
           },
           {
            "x": 5.959848657130147,
            "y": 35.51979601589601
           },
           {
            "x": 5.971539591859237,
            "y": 35.65928509714239
           },
           {
            "x": 5.983230526588327,
            "y": 35.79904753429843
           },
           {
            "x": 5.994921461317418,
            "y": 35.939083327364166
           },
           {
            "x": 6.006612396046508,
            "y": 36.07939247633957
           },
           {
            "x": 6.0183033307756,
            "y": 36.21997498122468
           },
           {
            "x": 6.0299942655046905,
            "y": 36.36083084201945
           },
           {
            "x": 6.041685200233781,
            "y": 36.5019600587239
           },
           {
            "x": 6.053376134962871,
            "y": 36.64336263133803
           },
           {
            "x": 6.0650670696919615,
            "y": 36.78503855986184
           },
           {
            "x": 6.076758004421054,
            "y": 36.92698784429535
           },
           {
            "x": 6.088448939150144,
            "y": 37.06921048463851
           },
           {
            "x": 6.100139873879234,
            "y": 37.21170648089136
           },
           {
            "x": 6.111830808608325,
            "y": 37.35447583305389
           },
           {
            "x": 6.123521743337415,
            "y": 37.49751854112609
           },
           {
            "x": 6.135212678066507,
            "y": 37.640834605108004
           },
           {
            "x": 6.146903612795597,
            "y": 37.784424024999566
           },
           {
            "x": 6.158594547524688,
            "y": 37.92828680080081
           },
           {
            "x": 6.170285482253778,
            "y": 38.072422932511735
           },
           {
            "x": 6.181976416982868,
            "y": 38.21683242013234
           },
           {
            "x": 6.193667351711959,
            "y": 38.361515263662625
           },
           {
            "x": 6.205358286441051,
            "y": 38.50647146310261
           },
           {
            "x": 6.217049221170141,
            "y": 38.65170101845226
           },
           {
            "x": 6.2287401558992315,
            "y": 38.797203929711586
           },
           {
            "x": 6.240431090628322,
            "y": 38.94298019688058
           },
           {
            "x": 6.252122025357412,
            "y": 39.08902981995927
           },
           {
            "x": 6.263812960086504,
            "y": 39.23535279894765
           },
           {
            "x": 6.275503894815595,
            "y": 39.381949133845694
           },
           {
            "x": 6.287194829544685,
            "y": 39.52881882465342
           },
           {
            "x": 6.298885764273775,
            "y": 39.67596187137082
           },
           {
            "x": 6.3105766990028656,
            "y": 39.8233782739979
           },
           {
            "x": 6.322267633731958,
            "y": 39.97106803253469
           },
           {
            "x": 6.333958568461048,
            "y": 40.11903114698113
           },
           {
            "x": 6.345649503190138,
            "y": 40.26726761733725
           },
           {
            "x": 6.357340437919229,
            "y": 40.41577744360305
           },
           {
            "x": 6.369031372648319,
            "y": 40.56456062577853
           },
           {
            "x": 6.380722307377409,
            "y": 40.71361716386369
           },
           {
            "x": 6.392413242106501,
            "y": 40.862947057858555
           },
           {
            "x": 6.404104176835592,
            "y": 41.01255030776307
           },
           {
            "x": 6.415795111564682,
            "y": 41.16242691357727
           },
           {
            "x": 6.427486046293772,
            "y": 41.31257687530115
           },
           {
            "x": 6.439176981022863,
            "y": 41.46300019293471
           },
           {
            "x": 6.450867915751955,
            "y": 41.61369686647797
           },
           {
            "x": 6.462558850481045,
            "y": 41.76466689593089
           },
           {
            "x": 6.4742497852101355,
            "y": 41.915910281293485
           },
           {
            "x": 6.485940719939226,
            "y": 42.06742702256577
           },
           {
            "x": 6.497631654668316,
            "y": 42.21921711974772
           },
           {
            "x": 6.509322589397408,
            "y": 42.37128057283938
           },
           {
            "x": 6.521013524126499,
            "y": 42.523617381840694
           },
           {
            "x": 6.532704458855589,
            "y": 42.67622754675169
           },
           {
            "x": 6.544395393584679,
            "y": 42.82911106757237
           },
           {
            "x": 6.55608632831377,
            "y": 42.98226794430273
           },
           {
            "x": 6.567777263042862,
            "y": 43.13569817694278
           },
           {
            "x": 6.579468197771952,
            "y": 43.2894017654925
           },
           {
            "x": 6.591159132501042,
            "y": 43.443378709951894
           },
           {
            "x": 6.602850067230133,
            "y": 43.597629010320965
           },
           {
            "x": 6.614541001959223,
            "y": 43.75215266659972
           },
           {
            "x": 6.626231936688313,
            "y": 43.90694967878816
           },
           {
            "x": 6.6379228714174054,
            "y": 44.062020046886296
           },
           {
            "x": 6.649613806146496,
            "y": 44.21736377089409
           },
           {
            "x": 6.661304740875586,
            "y": 44.37298085081156
           },
           {
            "x": 6.672995675604676,
            "y": 44.52887128663871
           },
           {
            "x": 6.684686610333767,
            "y": 44.68503507837554
           },
           {
            "x": 6.696377545062859,
            "y": 44.84147222602208
           },
           {
            "x": 6.708068479791949,
            "y": 44.998182729578275
           },
           {
            "x": 6.7197594145210395,
            "y": 45.15516658904414
           },
           {
            "x": 6.73145034925013,
            "y": 45.312423804419694
           },
           {
            "x": 6.74314128397922,
            "y": 45.46995437570492
           },
           {
            "x": 6.754832218708312,
            "y": 45.62775830289986
           },
           {
            "x": 6.766523153437403,
            "y": 45.78583558600445
           },
           {
            "x": 6.778214088166493,
            "y": 45.94418622501872
           },
           {
            "x": 6.789905022895583,
            "y": 46.10281021994267
           },
           {
            "x": 6.801595957624674,
            "y": 46.2617075707763
           },
           {
            "x": 6.813286892353766,
            "y": 46.420878277519634
           },
           {
            "x": 6.824977827082856,
            "y": 46.58032234017262
           },
           {
            "x": 6.836668761811946,
            "y": 46.74003975873529
           },
           {
            "x": 6.848359696541037,
            "y": 46.90003053320764
           },
           {
            "x": 6.860050631270127,
            "y": 47.060294663589666
           },
           {
            "x": 6.871741565999217,
            "y": 47.220832149881375
           },
           {
            "x": 6.8834325007283095,
            "y": 47.38164299208279
           },
           {
            "x": 6.8951234354574,
            "y": 47.54272719019386
           },
           {
            "x": 6.90681437018649,
            "y": 47.704084744214605
           },
           {
            "x": 6.9185053049155805,
            "y": 47.86571565414503
           },
           {
            "x": 6.930196239644671,
            "y": 48.027619919985135
           },
           {
            "x": 6.941887174373763,
            "y": 48.18979754173495
           },
           {
            "x": 6.953578109102853,
            "y": 48.352248519394415
           },
           {
            "x": 6.965269043831944,
            "y": 48.51497285296356
           },
           {
            "x": 6.976959978561034,
            "y": 48.67797054244238
           },
           {
            "x": 6.988650913290124,
            "y": 48.841241587830886
           },
           {
            "x": 7.000341848019216,
            "y": 49.0047859891291
           },
           {
            "x": 7.012032782748307,
            "y": 49.16860374633696
           },
           {
            "x": 7.023723717477397,
            "y": 49.332694859454506
           },
           {
            "x": 7.035414652206487,
            "y": 49.497059328481726
           },
           {
            "x": 7.047105586935578,
            "y": 49.66169715341863
           },
           {
            "x": 7.058796521664668,
            "y": 49.82660833426522
           },
           {
            "x": 7.07048745639376,
            "y": 49.9917928710215
           },
           {
            "x": 7.08217839112285,
            "y": 50.15725076368744
           },
           {
            "x": 7.093869325851941,
            "y": 50.32298201226307
           },
           {
            "x": 7.105560260581031,
            "y": 50.48898661674837
           },
           {
            "x": 7.117251195310121,
            "y": 50.65526457714335
           },
           {
            "x": 7.1289421300392135,
            "y": 50.82181589344804
           },
           {
            "x": 7.140633064768304,
            "y": 50.98864056566238
           },
           {
            "x": 7.152323999497394,
            "y": 51.1557385937864
           },
           {
            "x": 7.1640149342264845,
            "y": 51.3231099778201
           },
           {
            "x": 7.175705868955575,
            "y": 51.49075471776348
           },
           {
            "x": 7.187396803684667,
            "y": 51.65867281361657
           },
           {
            "x": 7.199087738413757,
            "y": 51.82686426537931
           },
           {
            "x": 7.210778673142848,
            "y": 51.99532907305173
           },
           {
            "x": 7.222469607871938,
            "y": 52.16406723663383
           },
           {
            "x": 7.234160542601028,
            "y": 52.3330787561256
           },
           {
            "x": 7.24585147733012,
            "y": 52.50236363152709
           },
           {
            "x": 7.257542412059211,
            "y": 52.671921862838225
           },
           {
            "x": 7.269233346788301,
            "y": 52.841753450059045
           },
           {
            "x": 7.280924281517391,
            "y": 53.01185839318954
           },
           {
            "x": 7.292615216246482,
            "y": 53.18223669222972
           },
           {
            "x": 7.304306150975572,
            "y": 53.35288834717957
           },
           {
            "x": 7.315997085704664,
            "y": 53.52381335803914
           },
           {
            "x": 7.3276880204337544,
            "y": 53.69501172480835
           },
           {
            "x": 7.339378955162845,
            "y": 53.86648344748725
           },
           {
            "x": 7.351069889891935,
            "y": 54.03822852607583
           },
           {
            "x": 7.362760824621025,
            "y": 54.21024696057408
           },
           {
            "x": 7.3744517593501175,
            "y": 54.38253875098204
           },
           {
            "x": 7.386142694079208,
            "y": 54.55510389729966
           },
           {
            "x": 7.397833628808298,
            "y": 54.72794239952695
           },
           {
            "x": 7.4095245635373885,
            "y": 54.90105425766393
           },
           {
            "x": 7.421215498266479,
            "y": 55.07443947171058
           },
           {
            "x": 7.432906432995571,
            "y": 55.24809804166694
           },
           {
            "x": 7.444597367724661,
            "y": 55.42202996753296
           },
           {
            "x": 7.456288302453752,
            "y": 55.59623524930865
           },
           {
            "x": 7.467979237182842,
            "y": 55.770713886994024
           },
           {
            "x": 7.479670171911932,
            "y": 55.945465880589076
           },
           {
            "x": 7.491361106641023,
            "y": 56.120491230093805
           },
           {
            "x": 7.503052041370115,
            "y": 56.295789935508246
           },
           {
            "x": 7.514742976099205,
            "y": 56.471361996832336
           },
           {
            "x": 7.526433910828295,
            "y": 56.64720741406611
           },
           {
            "x": 7.538124845557386,
            "y": 56.82332618720956
           },
           {
            "x": 7.549815780286476,
            "y": 56.999718316262694
           },
           {
            "x": 7.561506715015568,
            "y": 57.176383801225526
           },
           {
            "x": 7.5731976497446585,
            "y": 57.35332264209802
           },
           {
            "x": 7.584888584473749,
            "y": 57.530534838880186
           },
           {
            "x": 7.596579519202839,
            "y": 57.70802039157204
           },
           {
            "x": 7.6082704539319295,
            "y": 57.88577930017357
           },
           {
            "x": 7.619961388661022,
            "y": 58.063811564684805
           },
           {
            "x": 7.631652323390112,
            "y": 58.24211718510569
           },
           {
            "x": 7.643343258119202,
            "y": 58.42069616143626
           },
           {
            "x": 7.655034192848293,
            "y": 58.59954849367651
           },
           {
            "x": 7.666725127577383,
            "y": 58.77867418182644
           },
           {
            "x": 7.678416062306475,
            "y": 58.958073225886075
           },
           {
            "x": 7.690106997035565,
            "y": 59.13774562585536
           },
           {
            "x": 7.701797931764656,
            "y": 59.31769138173433
           },
           {
            "x": 7.713488866493746,
            "y": 59.49791049352297
           },
           {
            "x": 7.725179801222836,
            "y": 59.6784029612213
           },
           {
            "x": 7.736870735951927,
            "y": 59.85916878482931
           },
           {
            "x": 7.748561670681019,
            "y": 60.04020796434702
           },
           {
            "x": 7.760252605410109,
            "y": 60.221520499774385
           },
           {
            "x": 7.771943540139199,
            "y": 60.40310639111143
           },
           {
            "x": 7.78363447486829,
            "y": 60.584965638358156
           },
           {
            "x": 7.79532540959738,
            "y": 60.76709824151456
           },
           {
            "x": 7.807016344326472,
            "y": 60.94950420058068
           },
           {
            "x": 7.8187072790555625,
            "y": 61.132183515556434
           },
           {
            "x": 7.830398213784653,
            "y": 61.31513618644188
           },
           {
            "x": 7.842089148513743,
            "y": 61.49836221323701
           },
           {
            "x": 7.8537800832428335,
            "y": 61.68186159594181
           },
           {
            "x": 7.865471017971926,
            "y": 61.86563433455632
           },
           {
            "x": 7.877161952701016,
            "y": 62.04968042908048
           },
           {
            "x": 7.888852887430106,
            "y": 62.23399987951432
           },
           {
            "x": 7.900543822159197,
            "y": 62.418592685857845
           },
           {
            "x": 7.912234756888287,
            "y": 62.603458848111046
           },
           {
            "x": 7.923925691617379,
            "y": 62.78859836627396
           },
           {
            "x": 7.935616626346469,
            "y": 62.97401124034652
           },
           {
            "x": 7.94730756107556,
            "y": 63.15969747032876
           },
           {
            "x": 7.95899849580465,
            "y": 63.34565705622068
           },
           {
            "x": 7.97068943053374,
            "y": 63.53188999802228
           }
          ]
         },
         "encoding": {
          "x": {
           "field": "x",
           "type": "quantitative"
          },
          "y": {
           "field": "y",
           "type": "quantitative"
          }
         },
         "mark": {
          "color": "black",
          "opacity": 0.2,
          "type": "line"
         }
        },
        {
         "data": {
          "values": [
           {
            "x": -1.6028684125374069,
            "y": 0
           },
           {
            "x": 2.1078357041864213,
            "y": 0
           },
           {
            "x": 2.697223048521572,
            "y": 0
           },
           {
            "x": 1.7120782699506356,
            "y": 0
           },
           {
            "x": 4.886669101878503,
            "y": 0
           },
           {
            "x": 1.3726935923915558,
            "y": 0
           },
           {
            "x": 1.4158674944698237,
            "y": 0
           },
           {
            "x": 2.171083479997029,
            "y": 0
           },
           {
            "x": 4.394331014502335,
            "y": 0
           },
           {
            "x": 6.329876038335328,
            "y": 0
           },
           {
            "x": 3.882764477014482,
            "y": 0
           },
           {
            "x": 2.2269128589368337,
            "y": 0
           },
           {
            "x": 0.8792003036749383,
            "y": 0
           },
           {
            "x": -0.8218969457018059,
            "y": 0
           },
           {
            "x": 2.9416453211042244,
            "y": 0
           },
           {
            "x": 3.5238848060750314,
            "y": 0
           },
           {
            "x": 3.0740338070375657,
            "y": 0
           },
           {
            "x": 3.548819305429971,
            "y": 0
           },
           {
            "x": 2.0208895923565056,
            "y": 0
           },
           {
            "x": 4.902072596270958,
            "y": 0
           },
           {
            "x": 0.8938795859375586,
            "y": 0
           },
           {
            "x": 3.751140763891665,
            "y": 0
           },
           {
            "x": 1.8070300566479855,
            "y": 0
           },
           {
            "x": 3.2765624418579415,
            "y": 0
           },
           {
            "x": 1.730873494434436,
            "y": 0
           },
           {
            "x": 1.5344194580357784,
            "y": 0
           },
           {
            "x": 3.079466515316702,
            "y": 0
           },
           {
            "x": -0.10262840555954211,
            "y": 0
           },
           {
            "x": 2.651014206513688,
            "y": 0
           },
           {
            "x": 1.7609742326990414,
            "y": 0
           },
           {
            "x": 4.684907998665025,
            "y": 0
           },
           {
            "x": -0.48337016001066146,
            "y": 0
           },
           {
            "x": 2.0648708721078406,
            "y": 0
           },
           {
            "x": 4.467286857948465,
            "y": 0
           },
           {
            "x": 1.3935034209000217,
            "y": 0
           },
           {
            "x": 5.942809049722772,
            "y": 0
           },
           {
            "x": 1.453735408552706,
            "y": 0
           },
           {
            "x": 6.6791679682638145,
            "y": 0
           },
           {
            "x": 0.7040412916027639,
            "y": 0
           },
           {
            "x": 4.568927688740086,
            "y": 0
           },
           {
            "x": 1.6228657695539899,
            "y": 0
           },
           {
            "x": 2.358911777425005,
            "y": 0
           },
           {
            "x": -0.12371768125483307,
            "y": 0
           },
           {
            "x": 2.097428412082026,
            "y": 0
           },
           {
            "x": 4.153935899866047,
            "y": 0
           },
           {
            "x": 0.2901994896767026,
            "y": 0
           },
           {
            "x": 2.9010714349938485,
            "y": 0
           },
           {
            "x": 1.4535501303169849,
            "y": 0
           },
           {
            "x": -1.0367244629515313,
            "y": 0
           },
           {
            "x": 0.36311749373237046,
            "y": 0
           },
           {
            "x": 1.5577023941161867,
            "y": 0
           },
           {
            "x": 5.054541838959957,
            "y": 0
           },
           {
            "x": 0.09311126806171899,
            "y": 0
           },
           {
            "x": 2.603574926432408,
            "y": 0
           },
           {
            "x": 2.0893043854059035,
            "y": 0
           },
           {
            "x": 4.063983656693631,
            "y": 0
           },
           {
            "x": -1.3620616970200965,
            "y": 0
           },
           {
            "x": 4.6083222736173095,
            "y": 0
           },
           {
            "x": 2.965964556721175,
            "y": 0
           },
           {
            "x": 2.089766292049508,
            "y": 0
           },
           {
            "x": 0.6708776115646353,
            "y": 0
           },
           {
            "x": 1.2468233521684997,
            "y": 0
           },
           {
            "x": 2.745069897974514,
            "y": 0
           },
           {
            "x": 2.7419532107078997,
            "y": 0
           },
           {
            "x": 0.39633523025436235,
            "y": 0
           },
           {
            "x": 0.9992400168386057,
            "y": 0
           },
           {
            "x": 1.2192692120273192,
            "y": 0
           },
           {
            "x": 1.6131672433277204,
            "y": 0
           },
           {
            "x": 0.28463546351908287,
            "y": 0
           },
           {
            "x": -2.557338353222389,
            "y": 0
           },
           {
            "x": 0.9630389412394242,
            "y": 0
           },
           {
            "x": 1.610512852535723,
            "y": 0
           },
           {
            "x": 1.4526167338417126,
            "y": 0
           },
           {
            "x": 2.0780844829658225,
            "y": 0
           },
           {
            "x": 4.7039582615421605,
            "y": 0
           },
           {
            "x": 1.0582583684647917,
            "y": 0
           },
           {
            "x": 3.6392803158927522,
            "y": 0
           },
           {
            "x": 0.034702927874199485,
            "y": 0
           },
           {
            "x": 0.6162550391303634,
            "y": 0
           },
           {
            "x": 3.493574773157105,
            "y": 0
           },
           {
            "x": 8.278885986365356,
            "y": 0
           },
           {
            "x": 3.5541432129732584,
            "y": 0
           },
           {
            "x": 2.4158186528881127,
            "y": 0
           },
           {
            "x": 0.21854916782746026,
            "y": 0
           },
           {
            "x": -0.4719454930806899,
            "y": 0
           },
           {
            "x": 2.564104472819493,
            "y": 0
           },
           {
            "x": 0.3197451892357752,
            "y": 0
           },
           {
            "x": 2.153006576692848,
            "y": 0
           },
           {
            "x": 3.493628692008549,
            "y": 0
           },
           {
            "x": 1.03580417212918,
            "y": 0
           },
           {
            "x": 2.154082220032609,
            "y": 0
           },
           {
            "x": 5.597219081977833,
            "y": 0
           },
           {
            "x": 0.08627639354379157,
            "y": 0
           },
           {
            "x": 0.5557591743166814,
            "y": 0
           },
           {
            "x": 5.205189044461532,
            "y": 0
           },
           {
            "x": 4.363389198529594,
            "y": 0
           },
           {
            "x": 0.19931751367574346,
            "y": 0
           },
           {
            "x": 4.996937409845206,
            "y": 0
           },
           {
            "x": 2.1275715196606924,
            "y": 0
           },
           {
            "x": 3.088937204454707,
            "y": 0
           },
           {
            "x": 4.144722976573956,
            "y": 0
           },
           {
            "x": 3.613299918127507,
            "y": 0
           },
           {
            "x": 1.7395522207830738,
            "y": 0
           },
           {
            "x": 5.232289289644369,
            "y": 0
           },
           {
            "x": 7.842557578916358,
            "y": 0
           },
           {
            "x": 3.4168107997577977,
            "y": 0
           },
           {
            "x": 2.5061314635066703,
            "y": 0
           },
           {
            "x": 4.118612449603278,
            "y": 0
           },
           {
            "x": 0.9226461469327298,
            "y": 0
           },
           {
            "x": 3.099202397469208,
            "y": 0
           },
           {
            "x": 4.386521349495133,
            "y": 0
           },
           {
            "x": -0.2714166409801142,
            "y": 0
           },
           {
            "x": 1.5935436495369988,
            "y": 0
           },
           {
            "x": 2.236136598214916,
            "y": 0
           },
           {
            "x": 2.151063573674255,
            "y": 0
           },
           {
            "x": 2.6817742657266126,
            "y": 0
           },
           {
            "x": 1.563979849444149,
            "y": 0
           },
           {
            "x": 3.443847522100002,
            "y": 0
           },
           {
            "x": 0.9144729121884883,
            "y": 0
           },
           {
            "x": 4.181197081899773,
            "y": 0
           },
           {
            "x": 4.035214777042576,
            "y": 0
           },
           {
            "x": 0.6109046698091158,
            "y": 0
           },
           {
            "x": 1.0463028029402446,
            "y": 0
           },
           {
            "x": 2.9283916469829205,
            "y": 0
           },
           {
            "x": 2.4756830743675686,
            "y": 0
           },
           {
            "x": 3.181894491793361,
            "y": 0
           },
           {
            "x": 1.066361673922316,
            "y": 0
           },
           {
            "x": -0.7877839647807594,
            "y": 0
           },
           {
            "x": 3.0170981926945126,
            "y": 0
           },
           {
            "x": 2.6411886382030034,
            "y": 0
           },
           {
            "x": 3.023379258990998,
            "y": 0
           },
           {
            "x": 4.780561696950485,
            "y": 0
           },
           {
            "x": 3.545459692210196,
            "y": 0
           },
           {
            "x": 4.396761202598137,
            "y": 0
           },
           {
            "x": -1.2768731831526838,
            "y": 0
           },
           {
            "x": 2.282881352415173,
            "y": 0
           },
           {
            "x": 3.7483234946741995,
            "y": 0
           },
           {
            "x": 0.43280984026832536,
            "y": 0
           },
           {
            "x": 2.2708477040009565,
            "y": 0
           },
           {
            "x": 0.8923055744482382,
            "y": 0
           },
           {
            "x": -0.14701941948736597,
            "y": 0
           },
           {
            "x": 6.933886160749208,
            "y": 0
           },
           {
            "x": 1.9518385629843378,
            "y": 0
           },
           {
            "x": 3.1171735871953814,
            "y": 0
           },
           {
            "x": 2.4382848328475397,
            "y": 0
           },
           {
            "x": 3.929481883198166,
            "y": 0
           },
           {
            "x": 3.3583575345923578,
            "y": 0
           },
           {
            "x": 3.0785447616404285,
            "y": 0
           },
           {
            "x": -0.5738366001731658,
            "y": 0
           },
           {
            "x": 6.14742520945462,
            "y": 0
           },
           {
            "x": 3.232638989973126,
            "y": 0
           },
           {
            "x": 3.1210679002422066,
            "y": 0
           },
           {
            "x": 0.6770877801342805,
            "y": 0
           },
           {
            "x": 2.7224638122544724,
            "y": 0
           },
           {
            "x": 1.1230985665280284,
            "y": 0
           },
           {
            "x": 1.9921389252868522,
            "y": 0
           },
           {
            "x": 2.5456849646419237,
            "y": 0
           },
           {
            "x": 1.0495348318030908,
            "y": 0
           },
           {
            "x": 2.007375874522973,
            "y": 0
           },
           {
            "x": 0.099220594567488,
            "y": 0
           },
           {
            "x": 8.372335223097098,
            "y": 0
           },
           {
            "x": 2.8481106912515144,
            "y": 0
           },
           {
            "x": 1.0494728392480073,
            "y": 0
           },
           {
            "x": 5.097697769495156,
            "y": 0
           },
           {
            "x": 7.232453289085483,
            "y": 0
           },
           {
            "x": 1.4807280035710064,
            "y": 0
           },
           {
            "x": 1.4337735287609308,
            "y": 0
           },
           {
            "x": 3.6838412941352487,
            "y": 0
           },
           {
            "x": 3.3762930416237005,
            "y": 0
           },
           {
            "x": 0.43719955546147204,
            "y": 0
           },
           {
            "x": 7.154916658910604,
            "y": 0
           },
           {
            "x": 3.348702788841166,
            "y": 0
           },
           {
            "x": 1.866531318450851,
            "y": 0
           },
           {
            "x": 2.125326761315986,
            "y": 0
           },
           {
            "x": 2.003179838923182,
            "y": 0
           },
           {
            "x": 6.745618697656053,
            "y": 0
           },
           {
            "x": 4.360996902485916,
            "y": 0
           },
           {
            "x": -0.8529022638509396,
            "y": 0
           },
           {
            "x": 4.336781942373472,
            "y": 0
           },
           {
            "x": 1.592816887439613,
            "y": 0
           },
           {
            "x": 6.726788776699688,
            "y": 0
           },
           {
            "x": 0.994881322064811,
            "y": 0
           },
           {
            "x": 4.602609299248739,
            "y": 0
           },
           {
            "x": 5.340394219506345,
            "y": 0
           },
           {
            "x": 5.160358937481881,
            "y": 0
           },
           {
            "x": 1.8897330150302585,
            "y": 0
           },
           {
            "x": 3.2889139850616655,
            "y": 0
           },
           {
            "x": 4.586935643453957,
            "y": 0
           },
           {
            "x": 2.098635199518641,
            "y": 0
           },
           {
            "x": -3.233927925003842,
            "y": 0
           },
           {
            "x": 4.915927673752602,
            "y": 0
           },
           {
            "x": 3.8082927825525266,
            "y": 0
           },
           {
            "x": 5.130306185772705,
            "y": 0
           },
           {
            "x": 3.3743326958557445,
            "y": 0
           },
           {
            "x": 7.0716729540701735,
            "y": 0
           },
           {
            "x": 2.715459297437403,
            "y": 0
           },
           {
            "x": 3.4079746585876083,
            "y": 0
           },
           {
            "x": 2.4776661097408095,
            "y": 0
           },
           {
            "x": -1.0435276000318274,
            "y": 0
           },
           {
            "x": 3.3457666494861407,
            "y": 0
           },
           {
            "x": 2.716317990971593,
            "y": 0
           },
           {
            "x": 3.884091327394895,
            "y": 0
           },
           {
            "x": 5.613933969845258,
            "y": 0
           },
           {
            "x": 1.5771242991658398,
            "y": 0
           },
           {
            "x": 0.6751360567063827,
            "y": 0
           },
           {
            "x": 0.8931712120459285,
            "y": 0
           },
           {
            "x": 1.2814023500541485,
            "y": 0
           },
           {
            "x": 2.963414057690608,
            "y": 0
           },
           {
            "x": 2.383070712529973,
            "y": 0
           },
           {
            "x": 3.463882197660455,
            "y": 0
           },
           {
            "x": 3.205616417120364,
            "y": 0
           },
           {
            "x": 3.4410403411272625,
            "y": 0
           },
           {
            "x": 0.40660746131669345,
            "y": 0
           },
           {
            "x": 3.097981776852872,
            "y": 0
           },
           {
            "x": 1.7073411391098499,
            "y": 0
           },
           {
            "x": 0.5180359654237914,
            "y": 0
           },
           {
            "x": 2.963866106456241,
            "y": 0
           },
           {
            "x": 4.996759025299699,
            "y": 0
           },
           {
            "x": 0.02962505257720416,
            "y": 0
           },
           {
            "x": 1.4559178192740603,
            "y": 0
           },
           {
            "x": 1.819247582215608,
            "y": 0
           },
           {
            "x": 3.1691275096002247,
            "y": 0
           },
           {
            "x": 3.322096486232887,
            "y": 0
           },
           {
            "x": 2.9846955957562735,
            "y": 0
           },
           {
            "x": 3.1848337349189846,
            "y": 0
           },
           {
            "x": 3.5869206689562736,
            "y": 0
           },
           {
            "x": -0.8169088427206228,
            "y": 0
           },
           {
            "x": 0.34820687424686225,
            "y": 0
           },
           {
            "x": 5.780224873711029,
            "y": 0
           },
           {
            "x": 5.449328095412694,
            "y": 0
           },
           {
            "x": 5.416147818892734,
            "y": 0
           },
           {
            "x": 1.068486699663975,
            "y": 0
           },
           {
            "x": 0.6209954434722791,
            "y": 0
           },
           {
            "x": -0.1333716428427305,
            "y": 0
           },
           {
            "x": 2.012900375998659,
            "y": 0
           },
           {
            "x": 2.05857285121148,
            "y": 0
           },
           {
            "x": 4.412194930097952,
            "y": 0
           },
           {
            "x": 2.503006367249432,
            "y": 0
           },
           {
            "x": -0.034497540837640894,
            "y": 0
           },
           {
            "x": 2.8667719375163694,
            "y": 0
           },
           {
            "x": 2.1319660256882735,
            "y": 0
           },
           {
            "x": -2.387583186992228,
            "y": 0
           },
           {
            "x": 1.4157532183963233,
            "y": 0
           },
           {
            "x": 2.594660068131045,
            "y": 0
           },
           {
            "x": 5.958878763897438,
            "y": 0
           },
           {
            "x": 6.040433122050549,
            "y": 0
           },
           {
            "x": 1.102977533449313,
            "y": 0
           },
           {
            "x": 1.5851414538269928,
            "y": 0
           },
           {
            "x": 1.0250691521764395,
            "y": 0
           },
           {
            "x": 3.5542640090627016,
            "y": 0
           },
           {
            "x": 4.90951932658559,
            "y": 0
           },
           {
            "x": -0.6361549211344166,
            "y": 0
           },
           {
            "x": -0.36165331873250706,
            "y": 0
           },
           {
            "x": -1.6876973326039888,
            "y": 0
           },
           {
            "x": 2.375300575150764,
            "y": 0
           },
           {
            "x": 4.079681873405453,
            "y": 0
           },
           {
            "x": 0.6366147232020534,
            "y": 0
           },
           {
            "x": 0.8159885833921467,
            "y": 0
           },
           {
            "x": 2.2256883553947526,
            "y": 0
           },
           {
            "x": 2.5241677998019605,
            "y": 0
           },
           {
            "x": 4.976669525522596,
            "y": 0
           },
           {
            "x": 4.200114208440562,
            "y": 0
           },
           {
            "x": 2.2015678049299865,
            "y": 0
           },
           {
            "x": 3.030714187457652,
            "y": 0
           },
           {
            "x": -0.7570034456615842,
            "y": 0
           },
           {
            "x": 1.8974063591194028,
            "y": 0
           },
           {
            "x": 4.705208043136364,
            "y": 0
           },
           {
            "x": 1.8288652664229874,
            "y": 0
           },
           {
            "x": 4.874878960634371,
            "y": 0
           },
           {
            "x": 3.3574838315668476,
            "y": 0
           },
           {
            "x": 1.6792629698523123,
            "y": 0
           },
           {
            "x": 5.300121497933194,
            "y": 0
           },
           {
            "x": -1.3570492100258358,
            "y": 0
           },
           {
            "x": 0.2116728529561276,
            "y": 0
           },
           {
            "x": 1.6630351316963268,
            "y": 0
           },
           {
            "x": 3.478679714960029,
            "y": 0
           },
           {
            "x": 2.9976102800869917,
            "y": 0
           },
           {
            "x": 5.634283166251894,
            "y": 0
           },
           {
            "x": 4.5691622623395265,
            "y": 0
           },
           {
            "x": 1.6815424609102727,
            "y": 0
           },
           {
            "x": 6.657229238603762,
            "y": 0
           },
           {
            "x": 0.8345370011837614,
            "y": 0
           },
           {
            "x": 4.519465515070909,
            "y": 0
           },
           {
            "x": -1.8382601299313697,
            "y": 0
           },
           {
            "x": 1.7802339338789506,
            "y": 0
           },
           {
            "x": 3.849058718815546,
            "y": 0
           },
           {
            "x": 0.30895457039858387,
            "y": 0
           },
           {
            "x": 3.8089335518079652,
            "y": 0
           },
           {
            "x": 3.327773714207778,
            "y": 0
           },
           {
            "x": 1.3600733352426375,
            "y": 0
           },
           {
            "x": 0.2275415329092887,
            "y": 0
           },
           {
            "x": 4.33636200210526,
            "y": 0
           },
           {
            "x": 2.512753341812225,
            "y": 0
           },
           {
            "x": 6.555091694257798,
            "y": 0
           },
           {
            "x": 3.3840215270884375,
            "y": 0
           },
           {
            "x": 4.46525607030016,
            "y": 0
           },
           {
            "x": 1.022638796479314,
            "y": 0
           },
           {
            "x": 0.36895671843936917,
            "y": 0
           },
           {
            "x": 2.5919141047484318,
            "y": 0
           },
           {
            "x": 3.8189248533848597,
            "y": 0
           }
          ]
         },
         "encoding": {
          "x": {
           "field": "x",
           "type": "quantitative"
          },
          "y": {
           "field": "y",
           "type": "quantitative"
          }
         },
         "mark": {
          "opacity": 0.4,
          "size": 20,
          "type": "point"
         }
        },
        {
         "data": {
          "values": [
           {
            "x": 4.938193639805529,
            "y": 24.385756424215774
           },
           {
            "x": 4.899578378619484,
            "y": 24.005868288235533
           },
           {
            "x": 0.8267639992880054,
            "y": 0.683538710518697
           },
           {
            "x": 2.8124477744818335,
            "y": 7.909862484187818
           },
           {
            "x": 3.6443475769659224,
            "y": 13.281269261737389
           },
           {
            "x": 2.0671813462071364,
            "y": 4.273238718106749
           },
           {
            "x": 3.8173325162792953,
            "y": 14.572027539843216
           },
           {
            "x": 1.9833427152908905,
            "y": 3.933648326297442
           },
           {
            "x": 4.199600093697802,
            "y": 17.636640946986585
           },
           {
            "x": -1.6853074492307618,
            "y": 2.840261198432697
           },
           {
            "x": 2.6088552313260758,
            "y": 6.8061256180174325
           },
           {
            "x": 2.3376266953025677,
            "y": 5.464498566591204
           },
           {
            "x": 2.895145767792634,
            "y": 8.3818690167676
           },
           {
            "x": 4.583174475813711,
            "y": 21.00548827575028
           },
           {
            "x": 3.055854133503807,
            "y": 9.338244485252304
           },
           {
            "x": -2.044252143677226,
            "y": 4.178966826928933
           },
           {
            "x": 1.3766952716894716,
            "y": 1.895289871092148
           },
           {
            "x": 4.844776948128544,
            "y": 23.471863677117728
           },
           {
            "x": 2.8053625112790743,
            "y": 7.870058819690034
           },
           {
            "x": 3.0266457984685817,
            "y": 9.160584789387519
           },
           {
            "x": 0.23009910203177153,
            "y": 0.052945596755827606
           },
           {
            "x": 2.720966839182151,
            "y": 7.403660539928906
           },
           {
            "x": 4.003202585576407,
            "y": 16.02563094116563
           },
           {
            "x": 3.7958548033489903,
            "y": 14.408513688107602
           },
           {
            "x": 3.568558160599033,
            "y": 12.734607345577954
           },
           {
            "x": 4.102360398176825,
            "y": 16.829360836529517
           },
           {
            "x": 6.315932625188001,
            "y": 39.891004925914196
           },
           {
            "x": 7.31858348638142,
            "y": 53.56166424713482
           },
           {
            "x": 1.8743987658265295,
            "y": 3.513370733332017
           },
           {
            "x": -0.43388027924519124,
            "y": 0.18825209671788512
           },
           {
            "x": 2.658899168541681,
            "y": 7.069744788471643
           },
           {
            "x": 1.5479786580288009,
            "y": 2.396237925712647
           },
           {
            "x": 7.300792822187572,
            "y": 53.30157583250557
           },
           {
            "x": 5.101519747280934,
            "y": 26.02550373189732
           },
           {
            "x": 4.985853553925496,
            "y": 24.858735661191503
           },
           {
            "x": -1.0288133640009942,
            "y": 1.0584569379470423
           },
           {
            "x": 1.8532001153520263,
            "y": 3.434350667540764
           },
           {
            "x": 2.7139248615222713,
            "y": 7.36538815398868
           },
           {
            "x": -2.431273923896142,
            "y": 5.911092893017343
           },
           {
            "x": 1.8583841687993732,
            "y": 3.453591718844137
           },
           {
            "x": 3.374462611458143,
            "y": 11.38699791612891
           },
           {
            "x": 6.456498100136438,
            "y": 41.68636771706543
           },
           {
            "x": 6.030565456004998,
            "y": 36.367719719160775
           },
           {
            "x": 2.242252602280904,
            "y": 5.027696732435485
           },
           {
            "x": 4.975090013471297,
            "y": 24.751520642141827
           },
           {
            "x": 7.077250698620153,
            "y": 50.08747745111945
           },
           {
            "x": 1.9547811787887972,
            "y": 3.8211694569469197
           },
           {
            "x": 5.87010054654143,
            "y": 34.458080426505994
           },
           {
            "x": 4.67089975989445,
            "y": 21.81730456698203
           },
           {
            "x": 3.609465455088192,
            "y": 13.02824087147501
           },
           {
            "x": 7.563693100534961,
            "y": 57.20945331908017
           },
           {
            "x": 3.3164525765614368,
            "y": 10.998857692580993
           },
           {
            "x": -1.9220579483191047,
            "y": 3.6943067566966463
           },
           {
            "x": 0.2813849701194253,
            "y": 0.07917750140910988
           },
           {
            "x": 1.08669320432769,
            "y": 1.1809021203319827
           },
           {
            "x": 2.9916994874117506,
            "y": 8.950265822979732
           },
           {
            "x": 3.307638859023671,
            "y": 10.940474821723413
           },
           {
            "x": 0.671015967835574,
            "y": 0.45026242909031217
           },
           {
            "x": -0.10968153509083889,
            "y": 0.012030039139882922
           },
           {
            "x": 4.080994985387708,
            "y": 16.654520070759617
           },
           {
            "x": 2.5446885711974074,
            "y": 6.4754399243827026
           },
           {
            "x": 4.25302591776893,
            "y": 18.08822945721425
           },
           {
            "x": 3.8247328932047693,
            "y": 14.628581704362524
           },
           {
            "x": 0.6396405180194236,
            "y": 0.40913999229215653
           },
           {
            "x": 3.882946909245543,
            "y": 15.077276700019514
           },
           {
            "x": 7.69999347586365,
            "y": 59.28989952834277
           },
           {
            "x": 5.893792372965736,
            "y": 34.73678853562908
           },
           {
            "x": 0.4929593536553254,
            "y": 0.24300892435627616
           },
           {
            "x": 0.1606323948964672,
            "y": 0.02580276629017458
           },
           {
            "x": 6.9363512857600576,
            "y": 48.1129691594652
           },
           {
            "x": 2.856802615452467,
            "y": 8.161321183656055
           },
           {
            "x": 3.9640230556661855,
            "y": 15.713478785853082
           },
           {
            "x": 2.262927339194787,
            "y": 5.120840142475198
           },
           {
            "x": 2.2498248768348104,
            "y": 5.061711976424769
           },
           {
            "x": 3.031307079164109,
            "y": 9.188822608190442
           },
           {
            "x": 4.138629204596698,
            "y": 17.128251693140694
           },
           {
            "x": 1.6399141421280032,
            "y": 2.689318393551425
           },
           {
            "x": 2.5964477449015084,
            "y": 6.741540892004129
           },
           {
            "x": 3.2003108400335387,
            "y": 10.241989472836174
           },
           {
            "x": 1.2552595097353632,
            "y": 1.5756764367810643
           },
           {
            "x": 5.520469373277397,
            "y": 30.475582101293735
           },
           {
            "x": 3.552823176584397,
            "y": 12.622552524075244
           },
           {
            "x": 2.3692756107818713,
            "y": 5.613466919845809
           },
           {
            "x": 3.0837746277495794,
            "y": 9.509665954752057
           },
           {
            "x": 5.832549809899424,
            "y": 34.01863728495781
           },
           {
            "x": 3.5071069543185867,
            "y": 12.299799189029793
           },
           {
            "x": -1.2836954902985487,
            "y": 1.6478741118128313
           },
           {
            "x": 5.434994242913762,
            "y": 29.539162420505733
           },
           {
            "x": 1.6106727561761724,
            "y": 2.5942667274881477
           },
           {
            "x": 0.6918949149133551,
            "y": 0.47871857328295886
           },
           {
            "x": 3.7816694040258287,
            "y": 14.301023481345066
           },
           {
            "x": -1.0668865729378547,
            "y": 1.1382469595150804
           },
           {
            "x": 2.07521135480297,
            "y": 4.3065021671031785
           },
           {
            "x": 0.10308935564473032,
            "y": 0.01062741524724569
           },
           {
            "x": 2.5117710942262303,
            "y": 6.308994029790434
           },
           {
            "x": -3.7035865283878655,
            "y": 13.716553173256083
           },
           {
            "x": 4.205772894619227,
            "y": 17.68852564111379
           },
           {
            "x": 1.9097038952321292,
            "y": 3.646968967464767
           },
           {
            "x": 0.3710293761559247,
            "y": 0.13766279797065464
           },
           {
            "x": 1.2655488055580222,
            "y": 1.6016137792493366
           },
           {
            "x": 4.325815951169352,
            "y": 18.712683643391202
           },
           {
            "x": 3.7362004113427694,
            "y": 13.95919351371788
           },
           {
            "x": 3.1940240578726344,
            "y": 10.20178968226917
           },
           {
            "x": -1.2938420023993538,
            "y": 1.6740271271727694
           },
           {
            "x": 2.4927009595662533,
            "y": 6.21355807382252
           },
           {
            "x": 3.2711536619447323,
            "y": 10.700446280054432
           },
           {
            "x": 3.1511984194422764,
            "y": 9.930051478695502
           },
           {
            "x": 6.542692615269792,
            "y": 42.80682665790587
           },
           {
            "x": 2.1513356641217944,
            "y": 4.628245139722362
           },
           {
            "x": -1.7570706465732302,
            "y": 3.0872972570492694
           },
           {
            "x": 3.77564877581204,
            "y": 14.255523678290954
           },
           {
            "x": 2.8082954265318754,
            "y": 7.8865232026798475
           },
           {
            "x": 5.072686164153717,
            "y": 25.732144919996554
           },
           {
            "x": 2.015479956363558,
            "y": 4.0621594545032504
           },
           {
            "x": 2.3569223847755603,
            "y": 5.555083127856114
           },
           {
            "x": 0.1439511371563018,
            "y": 0.020721929888592415
           },
           {
            "x": 6.656993810507328,
            "y": 44.31556659313287
           },
           {
            "x": 3.2646052623621937,
            "y": 10.657647519042929
           },
           {
            "x": 1.7364257435047874,
            "y": 3.0151743627061536
           },
           {
            "x": -1.7328492251328829,
            "y": 3.0027664370436327
           },
           {
            "x": 4.498582948095424,
            "y": 20.237248540894917
           },
           {
            "x": 4.278418346365109,
            "y": 18.304863546513555
           },
           {
            "x": -0.6934259028282979,
            "y": 0.48083948271324
           },
           {
            "x": 2.901084254077336,
            "y": 8.416289849255453
           },
           {
            "x": -1.3529524115344067,
            "y": 1.8304802278767667
           },
           {
            "x": 2.119165737287865,
            "y": 4.490863422094821
           },
           {
            "x": 1.6211465549186002,
            "y": 2.628116152524446
           },
           {
            "x": 1.9025680559857114,
            "y": 3.6197652076572493
           },
           {
            "x": 0.700256832548575,
            "y": 0.49035963153096296
           },
           {
            "x": 0.8493773094550388,
            "y": 0.7214418138170806
           },
           {
            "x": 2.129554318884644,
            "y": 4.535001597080241
           },
           {
            "x": 2.2189162269911304,
            "y": 4.923589222404554
           },
           {
            "x": -3.2810377081176982,
            "y": 10.765208442090238
           },
           {
            "x": 3.7592737999460244,
            "y": 14.132139502960621
           },
           {
            "x": 0.4181867204252141,
            "y": 0.17488013313999617
           },
           {
            "x": 3.9330033568745333,
            "y": 15.468515405186347
           },
           {
            "x": 4.038562199549163,
            "y": 16.30998463962737
           },
           {
            "x": 4.543547320409742,
            "y": 20.643822252802543
           },
           {
            "x": 6.986579514421968,
            "y": 48.8122933113407
           },
           {
            "x": 3.1696131638637155,
            "y": 10.046447608538152
           },
           {
            "x": 0.376578215492263,
            "y": 0.14181115238333727
           },
           {
            "x": 6.545634637311658,
            "y": 42.845332805174124
           },
           {
            "x": 4.0304911260751854,
            "y": 16.244858717370818
           },
           {
            "x": 2.6909876592828743,
            "y": 7.241414582412723
           },
           {
            "x": 2.1958602794144992,
            "y": 4.8218023667103225
           },
           {
            "x": -0.5026563266317123,
            "y": 0.2526633827028867
           },
           {
            "x": 6.0988142314610005,
            "y": 37.19553502987124
           },
           {
            "x": -0.004692844348861858,
            "y": 2.2022788082644672e-05
           },
           {
            "x": 3.1331905052799427,
            "y": 9.816882742376382
           },
           {
            "x": 1.2166990920146945,
            "y": 1.480356680509382
           },
           {
            "x": 6.391478318267627,
            "y": 40.85099509288517
           },
           {
            "x": -0.13052505367786038,
            "y": 0.017036789637608334
           },
           {
            "x": 2.4821593001856384,
            "y": 6.161114791498058
           },
           {
            "x": 2.5568427995881886,
            "y": 6.537445101805966
           },
           {
            "x": 0.7687208157198449,
            "y": 0.5909316925209837
           },
           {
            "x": 6.017179195289459,
            "y": 36.2064454682243
           },
           {
            "x": 0.6020680312163085,
            "y": 0.3624859142126818
           },
           {
            "x": 1.9764252953846397,
            "y": 3.9062569482362606
           },
           {
            "x": 1.6418129320076282,
            "y": 2.695549703707485
           },
           {
            "x": -1.300935882950982,
            "y": 1.6924341715494513
           },
           {
            "x": 0.2634809907843909,
            "y": 0.06942223250472429
           },
           {
            "x": 2.7185785109900533,
            "y": 7.390669120416895
           },
           {
            "x": 2.4915641346482724,
            "y": 6.207891837065595
           },
           {
            "x": 1.821513820799995,
            "y": 3.317912599365396
           },
           {
            "x": 1.7038322583240413,
            "y": 2.9030443645056025
           },
           {
            "x": 5.562156013894818,
            "y": 30.937579522906287
           },
           {
            "x": 2.356340226035865,
            "y": 5.552339260834751
           },
           {
            "x": 3.899208928919453,
            "y": 15.20383027136519
           },
           {
            "x": 3.1237453096709027,
            "y": 9.757784759690963
           },
           {
            "x": 1.650862535458043,
            "y": 2.7253471109789587
           },
           {
            "x": 2.4833241663290013,
            "y": 6.166898915073629
           },
           {
            "x": 2.8090501619788277,
            "y": 7.8907628125132785
           },
           {
            "x": 3.578902358333366,
            "y": 12.808542090484128
           },
           {
            "x": 1.6006747534394195,
            "y": 2.562159666298346
           },
           {
            "x": 7.97068943053374,
            "y": 63.53188999802228
           },
           {
            "x": 2.6452835313928804,
            "y": 6.997524961458388
           },
           {
            "x": 3.7470373509079336,
            "y": 14.040288909099145
           },
           {
            "x": 5.044459454336788,
            "y": 25.44657118644781
           },
           {
            "x": 5.048716495709916,
            "y": 25.489538254053418
           },
           {
            "x": 3.3068683640161716,
            "y": 10.935378376930991
           },
           {
            "x": 3.1316384748354995,
            "y": 9.807159537070014
           },
           {
            "x": 2.66955676753225,
            "y": 7.126533335077235
           },
           {
            "x": 0.8603921172463993,
            "y": 0.7402745954197417
           },
           {
            "x": 6.040188875326991,
            "y": 36.48388164962394
           },
           {
            "x": 1.5950949336330695,
            "y": 2.5443278473018864
           },
           {
            "x": 3.7905474115448086,
            "y": 14.368249679169049
           },
           {
            "x": 4.381407168856096,
            "y": 19.196728779303587
           },
           {
            "x": -0.1427469034187756,
            "y": 0.02037667843564925
           },
           {
            "x": 0.6572252234700786,
            "y": 0.43194499436529477
           },
           {
            "x": -0.5983070665015888,
            "y": 0.35797134582573664
           },
           {
            "x": 1.328129437586852,
            "y": 1.7639278029847678
           },
           {
            "x": 2.26789362054277,
            "y": 5.143341474098594
           },
           {
            "x": 1.0052121188831749,
            "y": 1.010451403949602
           },
           {
            "x": 0.8989448935684696,
            "y": 0.8081019216728272
           },
           {
            "x": 3.835162384873589,
            "y": 14.708470518349275
           },
           {
            "x": 1.2732387201087396,
            "y": 1.6211368383841414
           },
           {
            "x": 1.6712338811959708,
            "y": 2.7930226856573483
           },
           {
            "x": 2.5802495403052776,
            "y": 6.657687690245597
           },
           {
            "x": 4.608598528662492,
            "y": 21.239180398390086
           },
           {
            "x": -0.6254324082259441,
            "y": 0.39116569725930406
           },
           {
            "x": 2.2276608815515426,
            "y": 4.962473003194996
           },
           {
            "x": 6.220383846358377,
            "y": 38.693175196036236
           },
           {
            "x": 1.8536368763476392,
            "y": 3.435969669355833
           },
           {
            "x": 1.6845489853606823,
            "y": 2.8377052840797043
           },
           {
            "x": 0.24487627164690418,
            "y": 0.05996438841568841
           },
           {
            "x": 3.99494829167334,
            "y": 15.959611853143738
           },
           {
            "x": 2.066116714963981,
            "y": 4.2688382798535525
           },
           {
            "x": 6.157205997373666,
            "y": 37.911185694094236
           },
           {
            "x": 2.6109670299819845,
            "y": 6.817148831652945
           },
           {
            "x": 1.345377858485708,
            "y": 1.8100415821035896
           },
           {
            "x": 0.1777302697842833,
            "y": 0.03158804879759412
           },
           {
            "x": 2.898037795240216,
            "y": 8.398623062640771
           },
           {
            "x": 2.947243794641734,
            "y": 8.686245985054208
           },
           {
            "x": 3.007985350156921,
            "y": 9.047975866758653
           },
           {
            "x": 5.55567876440192,
            "y": 30.865566533226442
           },
           {
            "x": 2.9981064406745213,
            "y": 8.988642229614047
           },
           {
            "x": 4.113489519448909,
            "y": 16.920796026616017
           },
           {
            "x": 4.09032469997636,
            "y": 16.7307561512367
           },
           {
            "x": -0.7264197145592202,
            "y": 0.5276856017002989
           },
           {
            "x": 2.975467869396813,
            "y": 8.853409041812808
           },
           {
            "x": 0.4143453918666866,
            "y": 0.17168210376115808
           },
           {
            "x": 0.93505034467337,
            "y": 0.874319147073788
           },
           {
            "x": 3.1590104473829768,
            "y": 9.979347006674795
           },
           {
            "x": 2.500406367407076,
            "y": 6.252032002169848
           },
           {
            "x": 5.195931289478025,
            "y": 26.997701964976777
           },
           {
            "x": 3.361550654300809,
            "y": 11.300022801430197
           },
           {
            "x": 1.846730486539168,
            "y": 3.4104134899131924
           },
           {
            "x": 0.46982835482435226,
            "y": 0.22073868299695745
           },
           {
            "x": 2.9646766461089684,
            "y": 8.78930761598392
           },
           {
            "x": 3.081406331221415,
            "y": 9.49506497809142
           },
           {
            "x": 2.2830319099987055,
            "y": 5.212234702072338
           },
           {
            "x": -3.708554363827835,
            "y": 13.753375469466476
           },
           {
            "x": 0.9129732708553111,
            "y": 0.8335201932962453
           },
           {
            "x": 3.01394921238922,
            "y": 9.083889854861601
           },
           {
            "x": 2.7432074731977965,
            "y": 7.525187241008239
           },
           {
            "x": 4.509797305236611,
            "y": 20.3382717343194
           },
           {
            "x": 3.9696174672103384,
            "y": 15.757862835981422
           },
           {
            "x": 7.670525781931196,
            "y": 58.83696577127118
           },
           {
            "x": 3.473184968231813,
            "y": 12.06301382355142
           },
           {
            "x": 2.5994867426888795,
            "y": 6.75733132541524
           },
           {
            "x": -0.3538096655788352,
            "y": 0.1251812794570072
           },
           {
            "x": 2.6701445495012934,
            "y": 7.129671915231465
           },
           {
            "x": 2.020927659000037,
            "y": 4.0841486029113705
           },
           {
            "x": 4.417384477537351,
            "y": 19.513285622387937
           },
           {
            "x": 4.970663805193913,
            "y": 24.707498664264833
           },
           {
            "x": 3.0283962971550187,
            "y": 9.171184132622228
           },
           {
            "x": 3.7431030057318027,
            "y": 14.010820111518456
           },
           {
            "x": -0.6012380438165099,
            "y": 0.3614871853323035
           },
           {
            "x": 2.859519140953845,
            "y": 8.176849717481417
           },
           {
            "x": 3.766741491874839,
            "y": 14.188341466611488
           },
           {
            "x": 1.4195595354369748,
            "y": 2.0151492746500397
           },
           {
            "x": 2.921252249960081,
            "y": 8.533714707896836
           },
           {
            "x": 1.6916188637778131,
            "y": 2.8615743802889395
           },
           {
            "x": -1.780367234239007,
            "y": 3.169707488751851
           },
           {
            "x": 1.8452657762857303,
            "y": 3.4050057851313786
           },
           {
            "x": 4.694094334869032,
            "y": 22.03452162464954
           },
           {
            "x": 2.811449824773695,
            "y": 7.904250117220042
           },
           {
            "x": 2.7325711722762307,
            "y": 7.466945211555093
           },
           {
            "x": 3.58327359971317,
            "y": 12.83984969040138
           },
           {
            "x": 4.934590678475484,
            "y": 24.350185164097137
           },
           {
            "x": 2.315640473584893,
            "y": 5.362190802904468
           },
           {
            "x": -0.27006043448867967,
            "y": 0.07293263827621445
           },
           {
            "x": 3.295211906508445,
            "y": 10.85842150879502
           },
           {
            "x": 2.4616193417999863,
            "y": 6.059569783923798
           },
           {
            "x": -1.1054006548663113,
            "y": 1.22191060777887
           },
           {
            "x": 4.3371469576679855,
            "y": 18.810843732408664
           },
           {
            "x": 3.2524127068829123,
            "y": 10.578188415893433
           },
           {
            "x": 1.5088763810850527,
            "y": 2.276707933396325
           },
           {
            "x": 1.835335975533315,
            "y": 3.368458143086825
           },
           {
            "x": 2.367075083774774,
            "y": 5.603044452227354
           },
           {
            "x": -0.5258753844219948,
            "y": 0.2765449199409808
           },
           {
            "x": 0.56454376363984,
            "y": 0.3187096610646356
           },
           {
            "x": 5.834287570244392,
            "y": 34.03891145230821
           },
           {
            "x": 3.9652498425709988,
            "y": 15.72320631400933
           },
           {
            "x": 3.501918540788459,
            "y": 12.263433466317972
           },
           {
            "x": 3.6342586349727624,
            "y": 13.207835825874087
           },
           {
            "x": 2.4836452492313468,
            "y": 6.168493724029439
           },
           {
            "x": 4.109315493434729,
            "y": 16.886473824582712
           },
           {
            "x": 1.852619622966818,
            "y": 3.4321994674017144
           },
           {
            "x": 2.368965013769602,
            "y": 5.611995236464411
           },
           {
            "x": -0.8389910385597177,
            "y": 0.7039059627835137
           },
           {
            "x": 3.1103381337467964,
            "y": 9.674203306239503
           },
           {
            "x": -0.39847316414040534,
            "y": 0.15878086254006643
           },
           {
            "x": 1.4073345512671143,
            "y": 1.9805905391902099
           },
           {
            "x": 3.844179352053827,
            "y": 14.77771489075698
           },
           {
            "x": 3.615464057826353,
            "y": 13.071580353434197
           },
           {
            "x": -1.6201539345823655,
            "y": 2.62489877174272
           },
           {
            "x": 1.1688964506108388,
            "y": 1.3663189122506172
           },
           {
            "x": 2.0307861916168104,
            "y": 4.124092556061509
           },
           {
            "x": 2.860337969623637,
            "y": 8.181533300470669
           },
           {
            "x": 5.578715455741188,
            "y": 31.122066136125607
           },
           {
            "x": 1.317639058834002,
            "y": 1.7361726893649543
           },
           {
            "x": 4.02707957513633,
            "y": 16.217369904480204
           },
           {
            "x": 5.054347651365438,
            "y": 25.546430180863318
           },
           {
            "x": 1.0495814357730966,
            "y": 1.101621190319515
           },
           {
            "x": 2.2258816838033573,
            "y": 4.954549270291269
           },
           {
            "x": 4.363632558951058,
            "y": 19.041289109537757
           },
           {
            "x": 3.4244952836738887,
            "y": 11.727167947904707
           },
           {
            "x": 5.349900717203695,
            "y": 28.621437683936616
           },
           {
            "x": -1.5509444406171449,
            "y": 2.4054286578812283
           }
          ]
         },
         "encoding": {
          "x": {
           "field": "x",
           "type": "quantitative"
          },
          "y": {
           "field": "y",
           "type": "quantitative"
          }
         },
         "mark": {
          "color": "black",
          "filled": true,
          "opacity": 0.2,
          "size": 50,
          "type": "point"
         }
        },
        {
         "data": {
          "values": [
           {
            "label": "E[X^2]",
            "x": 2.6179714786909662,
            "y": 11.459982324595837
           }
          ]
         },
         "encoding": {
          "x": {
           "field": "x",
           "type": "quantitative"
          },
          "y": {
           "field": "y",
           "type": "quantitative"
          }
         },
         "mark": {
          "color": "black",
          "filled": true,
          "opacity": 0.9,
          "size": 200,
          "type": "point"
         }
        },
        {
         "data": {
          "values": [
           {
            "label": "E[X^2]",
            "x": 2.6179714786909662,
            "y": 11.459982324595837
           }
          ]
         },
         "encoding": {
          "text": {
           "field": "label",
           "type": "nominal"
          },
          "x": {
           "field": "x",
           "type": "quantitative"
          },
          "y": {
           "field": "y",
           "type": "quantitative"
          }
         },
         "mark": {
          "align": "right",
          "baseline": "middle",
          "dx": 7,
          "type": "text",
          "xOffset": -15
         }
        },
        {
         "data": {
          "values": [
           {
            "label": "E[X]",
            "x": 2.6179714786909662,
            "y": 0
           }
          ]
         },
         "encoding": {
          "x": {
           "field": "x",
           "type": "quantitative"
          },
          "y": {
           "field": "y",
           "type": "quantitative"
          }
         },
         "mark": {
          "color": "blue",
          "filled": true,
          "opacity": 0.9,
          "size": 200,
          "type": "point"
         }
        },
        {
         "data": {
          "values": [
           {
            "label": "E[X]",
            "x": 2.6179714786909662,
            "y": 0
           }
          ]
         },
         "encoding": {
          "text": {
           "field": "label",
           "type": "nominal"
          },
          "x": {
           "field": "x",
           "type": "quantitative"
          },
          "y": {
           "field": "y",
           "type": "quantitative"
          }
         },
         "mark": {
          "align": "left",
          "baseline": "bottom",
          "dx": 16,
          "type": "text",
          "yOffset": -4
         }
        }
       ]
      },
      "image/png": "[encoded data removed]",
      "text/plain": [
       "<VegaLite 2 object>\n",
       "\n",
       "If you see this message, it means the renderer has not been properly enabled\n",
       "for the frontend that you are using. For more information, see\n",
       "https://altair-viz.github.io/user_guide/troubleshooting.html\n"
      ]
     },
     "execution_count": 279,
     "metadata": {},
     "output_type": "execute_result"
    }
   ],
   "source": [
    "expectedx2 = np.mean([i ** 2 for i in s])\n",
    "\n",
    "\n",
    "def make_altair_object_labels(X, Y, L):\n",
    "        bi = []\n",
    "        for x, y, l in zip(X,Y,L):\n",
    "            bi.append({\"x\":x, \"y\":y, \"label\": l})\n",
    "        return alt.Data({\"values\" : bi})\n",
    "\n",
    "dt = make_altair_object_labels(X=[np.mean(s)], Y=[expectedx2], L=[\"E[X^2]\"])\n",
    "                                \n",
    "expected_x2 = alt.Chart(dt).mark_point(opacity=expectation_opacity, size=expectation_size, color=\"black\", filled=True).encode(\n",
    "    x='x:Q',  # specify ordinal data\n",
    "    y='y:Q',  # specify quantitative data\n",
    ")\n",
    "\n",
    "dt = make_altair_object_labels(X=[np.mean(s)], Y=[0], L=[\"E[X]\"])\n",
    "                                \n",
    "expected_x = alt.Chart(dt).mark_point(opacity=expectation_opacity, size=expectation_size, color=\"blue\", filled=True).encode(\n",
    "    x='x:Q',  # specify ordinal data\n",
    "    y='y:Q',  # specify quantitative data\n",
    ")\n",
    "\n",
    "text = expected_x2.mark_text(\n",
    "    align='right',\n",
    "    baseline='middle',\n",
    "    dx=7,\n",
    "    xOffset=-15,    \n",
    ").encode(\n",
    "    text='label:N'\n",
    ")\n",
    "\n",
    "\n",
    "text2 = expected_x.mark_text(\n",
    "    align='left',\n",
    "    baseline='bottom',\n",
    "    yOffset=-4,\n",
    "    dx=16\n",
    ").encode(\n",
    "    text='label:N'\n",
    ")\n",
    "\n",
    "x2 + c2  + c4 + expected_x2 + text + expected_x + text2"
   ]
  },
  {
   "cell_type": "markdown",
   "metadata": {},
   "source": [
    "If we square the expected value of the Xs we get $\\mathbb{E}[X]^2$. We show this as another blue dot. "
   ]
  },
  {
   "cell_type": "code",
   "execution_count": 280,
   "metadata": {},
   "outputs": [],
   "source": [
    "dt = make_altair_object_labels(X=[np.mean(s)], Y=[np.mean(s)** 2], L=[\"E[X]^2\"])"
   ]
  },
  {
   "cell_type": "code",
   "execution_count": 282,
   "metadata": {},
   "outputs": [
    {
     "data": {
      "application/vnd.vegalite.v2+json": {
       "$schema": "https://vega.github.io/schema/vega-lite/v2.6.0.json",
       "config": {
        "view": {
         "height": 300,
         "width": 400
        }
       },
       "layer": [
        {
         "data": {
          "values": [
           {
            "x": -3.708554363827835,
            "y": 13.753375469466476
           },
           {
            "x": -3.696863429098744,
            "y": 13.666799213407725
           },
           {
            "x": -3.6851724943696533,
            "y": 13.580496313258653
           },
           {
            "x": -3.673481559640563,
            "y": 13.494466769019263
           },
           {
            "x": -3.6617906249114722,
            "y": 13.40871058068955
           },
           {
            "x": -3.6500996901823815,
            "y": 13.323227748269517
           },
           {
            "x": -3.6384087554532907,
            "y": 13.238018271759163
           },
           {
            "x": -3.6267178207242003,
            "y": 13.153082151158493
           },
           {
            "x": -3.6150268859951096,
            "y": 13.068419386467498
           },
           {
            "x": -3.603335951266019,
            "y": 12.984029977686184
           },
           {
            "x": -3.591645016536928,
            "y": 12.89991392481455
           },
           {
            "x": -3.5799540818078377,
            "y": 12.816071227852598
           },
           {
            "x": -3.568263147078747,
            "y": 12.732501886800323
           },
           {
            "x": -3.556572212349656,
            "y": 12.649205901657728
           },
           {
            "x": -3.5448812776205654,
            "y": 12.566183272424812
           },
           {
            "x": -3.533190342891475,
            "y": 12.483433999101578
           },
           {
            "x": -3.5214994081623843,
            "y": 12.400958081688023
           },
           {
            "x": -3.5098084734332935,
            "y": 12.318755520184146
           },
           {
            "x": -3.4981175387042027,
            "y": 12.23682631458995
           },
           {
            "x": -3.4864266039751124,
            "y": 12.155170464905435
           },
           {
            "x": -3.4747356692460216,
            "y": 12.073787971130598
           },
           {
            "x": -3.463044734516931,
            "y": 11.99267883326544
           },
           {
            "x": -3.45135379978784,
            "y": 11.911843051309962
           },
           {
            "x": -3.4396628650587497,
            "y": 11.831280625264167
           },
           {
            "x": -3.427971930329659,
            "y": 11.750991555128047
           },
           {
            "x": -3.416280995600568,
            "y": 11.67097584090161
           },
           {
            "x": -3.4045900608714774,
            "y": 11.591233482584851
           },
           {
            "x": -3.392899126142387,
            "y": 11.511764480177774
           },
           {
            "x": -3.3812081914132963,
            "y": 11.432568833680374
           },
           {
            "x": -3.3695172566842055,
            "y": 11.353646543092655
           },
           {
            "x": -3.3578263219551148,
            "y": 11.274997608414614
           },
           {
            "x": -3.346135387226024,
            "y": 11.196622029646253
           },
           {
            "x": -3.3344444524969337,
            "y": 11.118519806787576
           },
           {
            "x": -3.322753517767843,
            "y": 11.040690939838575
           },
           {
            "x": -3.311062583038752,
            "y": 10.963135428799253
           },
           {
            "x": -3.299371648309662,
            "y": 10.885853273669614
           },
           {
            "x": -3.287680713580571,
            "y": 10.808844474449653
           },
           {
            "x": -3.2759897788514802,
            "y": 10.73210903113937
           },
           {
            "x": -3.2642988441223895,
            "y": 10.655646943738768
           },
           {
            "x": -3.2526079093932987,
            "y": 10.579458212247845
           },
           {
            "x": -3.2409169746642084,
            "y": 10.503542836666606
           },
           {
            "x": -3.2292260399351176,
            "y": 10.427900816995042
           },
           {
            "x": -3.217535105206027,
            "y": 10.352532153233158
           },
           {
            "x": -3.2058441704769365,
            "y": 10.277436845380956
           },
           {
            "x": -3.1941532357478457,
            "y": 10.202614893438433
           },
           {
            "x": -3.182462301018755,
            "y": 10.128066297405589
           },
           {
            "x": -3.170771366289664,
            "y": 10.053791057282423
           },
           {
            "x": -3.1590804315605734,
            "y": 9.979789173068939
           },
           {
            "x": -3.147389496831483,
            "y": 9.906060644765136
           },
           {
            "x": -3.1356985621023923,
            "y": 9.83260547237101
           },
           {
            "x": -3.1240076273733015,
            "y": 9.759423655886565
           },
           {
            "x": -3.1123166926442107,
            "y": 9.686515195311799
           },
           {
            "x": -3.10062575791512,
            "y": 9.613880090646711
           },
           {
            "x": -3.0889348231860296,
            "y": 9.541518341891308
           },
           {
            "x": -3.077243888456939,
            "y": 9.469429949045582
           },
           {
            "x": -3.065552953727848,
            "y": 9.397614912109534
           },
           {
            "x": -3.0538620189987578,
            "y": 9.32607323108317
           },
           {
            "x": -3.042171084269667,
            "y": 9.25480490596648
           },
           {
            "x": -3.030480149540576,
            "y": 9.183809936759474
           },
           {
            "x": -3.0187892148114854,
            "y": 9.113088323462145
           },
           {
            "x": -3.0070982800823947,
            "y": 9.042640066074496
           },
           {
            "x": -2.9954073453533043,
            "y": 8.97246516459653
           },
           {
            "x": -2.9837164106242136,
            "y": 8.902563619028241
           },
           {
            "x": -2.972025475895123,
            "y": 8.83293542936963
           },
           {
            "x": -2.9603345411660325,
            "y": 8.763580595620704
           },
           {
            "x": -2.9486436064369417,
            "y": 8.694499117781454
           },
           {
            "x": -2.936952671707851,
            "y": 8.625690995851883
           },
           {
            "x": -2.92526173697876,
            "y": 8.557156229831993
           },
           {
            "x": -2.9135708022496694,
            "y": 8.488894819721782
           },
           {
            "x": -2.901879867520579,
            "y": 8.420906765521254
           },
           {
            "x": -2.8901889327914883,
            "y": 8.353192067230403
           },
           {
            "x": -2.8784979980623975,
            "y": 8.28575072484923
           },
           {
            "x": -2.866807063333307,
            "y": 8.21858273837774
           },
           {
            "x": -2.8551161286042164,
            "y": 8.151688107815929
           },
           {
            "x": -2.8434251938751256,
            "y": 8.085066833163795
           },
           {
            "x": -2.831734259146035,
            "y": 8.018718914421342
           },
           {
            "x": -2.820043324416944,
            "y": 7.952644351588569
           },
           {
            "x": -2.8083523896878537,
            "y": 7.8868431446654785
           },
           {
            "x": -2.796661454958763,
            "y": 7.821315293652065
           },
           {
            "x": -2.784970520229672,
            "y": 7.756060798548331
           },
           {
            "x": -2.773279585500582,
            "y": 7.691079659354279
           },
           {
            "x": -2.7615886507714906,
            "y": 7.626371876069902
           },
           {
            "x": -2.7498977160424003,
            "y": 7.561937448695209
           },
           {
            "x": -2.7382067813133095,
            "y": 7.497776377230195
           },
           {
            "x": -2.7265158465842187,
            "y": 7.433888661674859
           },
           {
            "x": -2.7148249118551284,
            "y": 7.370274302029205
           },
           {
            "x": -2.7031339771260376,
            "y": 7.30693329829323
           },
           {
            "x": -2.691443042396947,
            "y": 7.243865650466933
           },
           {
            "x": -2.6797521076678565,
            "y": 7.181071358550319
           },
           {
            "x": -2.6680611729387653,
            "y": 7.11855042254338
           },
           {
            "x": -2.656370238209675,
            "y": 7.056302842446126
           },
           {
            "x": -2.644679303480584,
            "y": 6.994328618258548
           },
           {
            "x": -2.6329883687514934,
            "y": 6.93262774998065
           },
           {
            "x": -2.621297434022403,
            "y": 6.871200237612435
           },
           {
            "x": -2.6096064992933123,
            "y": 6.810046081153897
           },
           {
            "x": -2.5979155645642216,
            "y": 6.749165280605038
           },
           {
            "x": -2.586224629835131,
            "y": 6.6885578359658595
           },
           {
            "x": -2.57453369510604,
            "y": 6.62822374723636
           },
           {
            "x": -2.5628427603769497,
            "y": 6.568163014416543
           },
           {
            "x": -2.551151825647859,
            "y": 6.508375637506403
           },
           {
            "x": -2.539460890918768,
            "y": 6.448861616505944
           },
           {
            "x": -2.527769956189678,
            "y": 6.389620951415166
           },
           {
            "x": -2.5160790214605866,
            "y": 6.330653642234063
           },
           {
            "x": -2.5043880867314963,
            "y": 6.271959688962644
           },
           {
            "x": -2.4926971520024055,
            "y": 6.213539091600904
           },
           {
            "x": -2.4810062172733147,
            "y": 6.155391850148842
           },
           {
            "x": -2.4693152825442244,
            "y": 6.097517964606463
           },
           {
            "x": -2.4576243478151336,
            "y": 6.039917434973761
           },
           {
            "x": -2.445933413086043,
            "y": 5.9825902612507385
           },
           {
            "x": -2.4342424783569525,
            "y": 5.925536443437398
           },
           {
            "x": -2.4225515436278613,
            "y": 5.868755981533734
           },
           {
            "x": -2.410860608898771,
            "y": 5.812248875539753
           },
           {
            "x": -2.39916967416968,
            "y": 5.756015125455449
           },
           {
            "x": -2.3874787394405894,
            "y": 5.700054731280826
           },
           {
            "x": -2.375787804711499,
            "y": 5.644367693015884
           },
           {
            "x": -2.3640968699824083,
            "y": 5.58895401066062
           },
           {
            "x": -2.3524059352533175,
            "y": 5.533813684215035
           },
           {
            "x": -2.340715000524227,
            "y": 5.478946713679133
           },
           {
            "x": -2.329024065795136,
            "y": 5.424353099052906
           },
           {
            "x": -2.3173331310660457,
            "y": 5.370032840336362
           },
           {
            "x": -2.305642196336955,
            "y": 5.315985937529497
           },
           {
            "x": -2.293951261607864,
            "y": 5.262212390632311
           },
           {
            "x": -2.282260326878774,
            "y": 5.208712199644808
           },
           {
            "x": -2.270569392149683,
            "y": 5.155485364566981
           },
           {
            "x": -2.2588784574205922,
            "y": 5.102531885398834
           },
           {
            "x": -2.247187522691502,
            "y": 5.04985176214037
           },
           {
            "x": -2.2354965879624107,
            "y": 4.99744499479158
           },
           {
            "x": -2.2238056532333204,
            "y": 4.945311583352475
           },
           {
            "x": -2.2121147185042296,
            "y": 4.893451527823047
           },
           {
            "x": -2.200423783775139,
            "y": 4.841864828203299
           },
           {
            "x": -2.1887328490460485,
            "y": 4.790551484493233
           },
           {
            "x": -2.1770419143169573,
            "y": 4.739511496692842
           },
           {
            "x": -2.165350979587867,
            "y": 4.688744864802135
           },
           {
            "x": -2.153660044858776,
            "y": 4.638251588821106
           },
           {
            "x": -2.1419691101296854,
            "y": 4.588031668749756
           },
           {
            "x": -2.130278175400595,
            "y": 4.538085104588088
           },
           {
            "x": -2.1185872406715043,
            "y": 4.488411896336099
           },
           {
            "x": -2.1068963059424135,
            "y": 4.439012043993788
           },
           {
            "x": -2.095205371213323,
            "y": 4.38988554756116
           },
           {
            "x": -2.083514436484232,
            "y": 4.341032407038207
           },
           {
            "x": -2.0718235017551416,
            "y": 4.292452622424937
           },
           {
            "x": -2.060132567026051,
            "y": 4.244146193721346
           },
           {
            "x": -2.04844163229696,
            "y": 4.196113120927434
           },
           {
            "x": -2.0367506975678698,
            "y": 4.148353404043204
           },
           {
            "x": -2.025059762838779,
            "y": 4.100867043068652
           },
           {
            "x": -2.013368828109688,
            "y": 4.0536540380037795
           },
           {
            "x": -2.001677893380598,
            "y": 4.0067143888485885
           },
           {
            "x": -1.9899869586515069,
            "y": 3.9600480956030744
           },
           {
            "x": -1.9782960239224163,
            "y": 3.9136551582672414
           },
           {
            "x": -1.9666050891933256,
            "y": 3.867535576841088
           },
           {
            "x": -1.954914154464235,
            "y": 3.821689351324615
           },
           {
            "x": -1.9432232197351442,
            "y": 3.7761164817178208
           },
           {
            "x": -1.9315322850060537,
            "y": 3.730816968020707
           },
           {
            "x": -1.919841350276963,
            "y": 3.685790810233272
           },
           {
            "x": -1.9081504155478723,
            "y": 3.641038008355518
           },
           {
            "x": -1.8964594808187816,
            "y": 3.5965585623874428
           },
           {
            "x": -1.884768546089691,
            "y": 3.552352472329048
           },
           {
            "x": -1.8730776113606002,
            "y": 3.508419738180332
           },
           {
            "x": -1.8613866766315097,
            "y": 3.4647603599412964
           },
           {
            "x": -1.849695741902419,
            "y": 3.42137433761194
           },
           {
            "x": -1.8380048071733284,
            "y": 3.378261671192264
           },
           {
            "x": -1.8263138724442376,
            "y": 3.335422360682267
           },
           {
            "x": -1.8146229377151468,
            "y": 3.2928564060819494
           },
           {
            "x": -1.8029320029860563,
            "y": 3.250563807391313
           },
           {
            "x": -1.7912410682569655,
            "y": 3.2085445646103548
           },
           {
            "x": -1.779550133527875,
            "y": 3.1667986777390777
           },
           {
            "x": -1.7678591987987842,
            "y": 3.125326146777479
           },
           {
            "x": -1.7561682640696936,
            "y": 3.0841269717255613
           },
           {
            "x": -1.7444773293406028,
            "y": 3.0432011525833222
           },
           {
            "x": -1.7327863946115123,
            "y": 3.0025486893507636
           },
           {
            "x": -1.7210954598824215,
            "y": 2.962169582027884
           },
           {
            "x": -1.709404525153331,
            "y": 2.922063830614685
           },
           {
            "x": -1.6977135904242404,
            "y": 2.8822314351111658
           },
           {
            "x": -1.6860226556951496,
            "y": 2.842672395517325
           },
           {
            "x": -1.6743317209660589,
            "y": 2.8033867118331646
           },
           {
            "x": -1.662640786236968,
            "y": 2.7643743840586836
           },
           {
            "x": -1.6509498515078778,
            "y": 2.7256354121938835
           },
           {
            "x": -1.639258916778787,
            "y": 2.687169796238762
           },
           {
            "x": -1.6275679820496962,
            "y": 2.6489775361933203
           },
           {
            "x": -1.6158770473206054,
            "y": 2.611058632057558
           },
           {
            "x": -1.6041861125915151,
            "y": 2.5734130838314773
           },
           {
            "x": -1.5924951778624243,
            "y": 2.5360408915150745
           },
           {
            "x": -1.5808042431333336,
            "y": 2.4989420551083517
           },
           {
            "x": -1.5691133084042428,
            "y": 2.4621165746113083
           },
           {
            "x": -1.5574223736751525,
            "y": 2.425564450023946
           },
           {
            "x": -1.5457314389460617,
            "y": 2.3892856813462626
           },
           {
            "x": -1.534040504216971,
            "y": 2.3532802685782586
           },
           {
            "x": -1.5223495694878801,
            "y": 2.317548211719934
           },
           {
            "x": -1.5106586347587898,
            "y": 2.2820895107712906
           },
           {
            "x": -1.498967700029699,
            "y": 2.246904165732326
           },
           {
            "x": -1.4872767653006083,
            "y": 2.2119921766030406
           },
           {
            "x": -1.4755858305715175,
            "y": 2.1773535433834352
           },
           {
            "x": -1.4638948958424267,
            "y": 2.1429882660735093
           },
           {
            "x": -1.4522039611133364,
            "y": 2.1088963446732647
           },
           {
            "x": -1.4405130263842456,
            "y": 2.075077779182698
           },
           {
            "x": -1.4288220916551548,
            "y": 2.0415325696018116
           },
           {
            "x": -1.417131156926064,
            "y": 2.008260715930605
           },
           {
            "x": -1.4054402221969737,
            "y": 1.9752622181690789
           },
           {
            "x": -1.393749287467883,
            "y": 1.9425370763172314
           },
           {
            "x": -1.3820583527387922,
            "y": 1.9100852903750638
           },
           {
            "x": -1.3703674180097014,
            "y": 1.8779068603425757
           },
           {
            "x": -1.358676483280611,
            "y": 1.8460017862197686
           },
           {
            "x": -1.3469855485515203,
            "y": 1.8143700680066401
           },
           {
            "x": -1.3352946138224295,
            "y": 1.7830117057031911
           },
           {
            "x": -1.3236036790933388,
            "y": 1.751926699309422
           },
           {
            "x": -1.3119127443642484,
            "y": 1.721115048825334
           },
           {
            "x": -1.3002218096351577,
            "y": 1.6905767542509242
           },
           {
            "x": -1.2885308749060669,
            "y": 1.6603118155861942
           },
           {
            "x": -1.276839940176976,
            "y": 1.630320232831144
           },
           {
            "x": -1.2651490054478858,
            "y": 1.6006020059857746
           },
           {
            "x": -1.253458070718795,
            "y": 1.5711571350500837
           },
           {
            "x": -1.2417671359897042,
            "y": 1.5419856200240727
           },
           {
            "x": -1.2300762012606135,
            "y": 1.5130874609077412
           },
           {
            "x": -1.2183852665315231,
            "y": 1.4844626577010906
           },
           {
            "x": -1.2066943318024324,
            "y": 1.4561112104041187
           },
           {
            "x": -1.1950033970733416,
            "y": 1.4280331190168265
           },
           {
            "x": -1.1833124623442508,
            "y": 1.400228383539214
           },
           {
            "x": -1.1716215276151605,
            "y": 1.3726970039712822
           },
           {
            "x": -1.1599305928860697,
            "y": 1.345438980313029
           },
           {
            "x": -1.148239658156979,
            "y": 1.3184543125644559
           },
           {
            "x": -1.1365487234278882,
            "y": 1.2917430007255621
           },
           {
            "x": -1.1248577886987978,
            "y": 1.2653050447963492
           },
           {
            "x": -1.113166853969707,
            "y": 1.239140444776815
           },
           {
            "x": -1.1014759192406163,
            "y": 1.2132492006669606
           },
           {
            "x": -1.0897849845115255,
            "y": 1.1876313124667859
           },
           {
            "x": -1.0780940497824347,
            "y": 1.1622867801762908
           },
           {
            "x": -1.0664031150533444,
            "y": 1.1372156037954766
           },
           {
            "x": -1.0547121803242536,
            "y": 1.112417783324341
           },
           {
            "x": -1.0430212455951628,
            "y": 1.087893318762885
           },
           {
            "x": -1.031330310866072,
            "y": 1.063642210111109
           },
           {
            "x": -1.0196393761369817,
            "y": 1.0396644573690133
           },
           {
            "x": -1.007948441407891,
            "y": 1.0159600605365966
           },
           {
            "x": -0.9962575066788002,
            "y": 0.9925290196138596
           },
           {
            "x": -0.9845665719497094,
            "y": 0.9693713346008024
           },
           {
            "x": -0.9728756372206191,
            "y": 0.9464870054974257
           },
           {
            "x": -0.9611847024915283,
            "y": 0.9238760323037278
           },
           {
            "x": -0.9494937677624375,
            "y": 0.9015384150197097
           },
           {
            "x": -0.9378028330333468,
            "y": 0.8794741536453713
           },
           {
            "x": -0.9261118983042564,
            "y": 0.8576832481807134
           },
           {
            "x": -0.9144209635751657,
            "y": 0.8361656986257344
           },
           {
            "x": -0.9027300288460749,
            "y": 0.8149215049804353
           },
           {
            "x": -0.8910390941169841,
            "y": 0.7939506672448157
           },
           {
            "x": -0.8793481593878938,
            "y": 0.7732531854188767
           },
           {
            "x": -0.867657224658803,
            "y": 0.7528290595026166
           },
           {
            "x": -0.8559662899297122,
            "y": 0.7326782894960362
           },
           {
            "x": -0.8442753552006215,
            "y": 0.7128008753991355
           },
           {
            "x": -0.8325844204715311,
            "y": 0.6931968172119154
           },
           {
            "x": -0.8208934857424404,
            "y": 0.6738661149343741
           },
           {
            "x": -0.8092025510133496,
            "y": 0.6548087685665126
           },
           {
            "x": -0.7975116162842588,
            "y": 0.6360247781083309
           },
           {
            "x": -0.7858206815551685,
            "y": 0.6175141435598295
           },
           {
            "x": -0.7741297468260777,
            "y": 0.5992768649210072
           },
           {
            "x": -0.7624388120969869,
            "y": 0.5813129421918646
           },
           {
            "x": -0.7507478773678962,
            "y": 0.5636223753724017
           },
           {
            "x": -0.7390569426388058,
            "y": 0.5462051644626191
           },
           {
            "x": -0.7273660079097151,
            "y": 0.5290613094625157
           },
           {
            "x": -0.7156750731806243,
            "y": 0.5121908103720919
           },
           {
            "x": -0.7039841384515335,
            "y": 0.4955936671913479
           },
           {
            "x": -0.6922932037224427,
            "y": 0.4792698799202836
           },
           {
            "x": -0.6806022689933524,
            "y": 0.4632194485588996
           },
           {
            "x": -0.6689113342642616,
            "y": 0.44744237310719476
           },
           {
            "x": -0.6572203995351709,
            "y": 0.43193865356516964
           },
           {
            "x": -0.6455294648060801,
            "y": 0.4167082899328242
           },
           {
            "x": -0.6338385300769898,
            "y": 0.40175128221015904
           },
           {
            "x": -0.622147595347899,
            "y": 0.38706763039717307
           },
           {
            "x": -0.6104566606188082,
            "y": 0.3726573344938668
           },
           {
            "x": -0.5987657258897174,
            "y": 0.35852039450024026
           },
           {
            "x": -0.5870747911606271,
            "y": 0.3446568104162939
           },
           {
            "x": -0.5753838564315363,
            "y": 0.33106658224202684
           },
           {
            "x": -0.5636929217024456,
            "y": 0.3177497099774394
           },
           {
            "x": -0.5520019869733548,
            "y": 0.30470619362253176
           },
           {
            "x": -0.5403110522442645,
            "y": 0.29193603317730427
           },
           {
            "x": -0.5286201175151737,
            "y": 0.279439228641756
           },
           {
            "x": -0.5169291827860829,
            "y": 0.2672157800158875
           },
           {
            "x": -0.5052382480569921,
            "y": 0.25526568729969873
           },
           {
            "x": -0.4935473133279018,
            "y": 0.24358895049319007
           },
           {
            "x": -0.48185637859881103,
            "y": 0.23218556959636072
           },
           {
            "x": -0.47016544386972026,
            "y": 0.22105554460921106
           },
           {
            "x": -0.4584745091406295,
            "y": 0.21019887553174116
           },
           {
            "x": -0.44678357441153915,
            "y": 0.19961556236395134
           },
           {
            "x": -0.4350926396824484,
            "y": 0.18930560510584085
           },
           {
            "x": -0.4234017049533576,
            "y": 0.1792690037574101
           },
           {
            "x": -0.41171077022426683,
            "y": 0.16950575831865905
           },
           {
            "x": -0.4000198354951765,
            "y": 0.16001586878958807
           },
           {
            "x": -0.3883289007660857,
            "y": 0.15079933517019645
           },
           {
            "x": -0.37663796603699495,
            "y": 0.14185615746048458
           },
           {
            "x": -0.3649470313079042,
            "y": 0.1331863356604524
           },
           {
            "x": -0.35325609657881385,
            "y": 0.12478986977010026
           },
           {
            "x": -0.3415651618497231,
            "y": 0.11666675978942752
           },
           {
            "x": -0.3298742271206323,
            "y": 0.1088170057184345
           },
           {
            "x": -0.31818329239154153,
            "y": 0.1012406075571212
           },
           {
            "x": -0.30649235766245075,
            "y": 0.09393756530548764
           },
           {
            "x": -0.2948014229333604,
            "y": 0.08690787896353405
           },
           {
            "x": -0.28311048820426965,
            "y": 0.0801515485312599
           },
           {
            "x": -0.2714195534751789,
            "y": 0.07366857400866549
           },
           {
            "x": -0.2597286187460881,
            "y": 0.0674589553957508
           },
           {
            "x": -0.24803768401699777,
            "y": 0.061522692692516034
           },
           {
            "x": -0.236346749287907,
            "y": 0.05585978589896077
           },
           {
            "x": -0.22465581455881622,
            "y": 0.05047023501508523
           },
           {
            "x": -0.21296487982972545,
            "y": 0.0453540400408894
           },
           {
            "x": -0.20127394510063512,
            "y": 0.04051120097637348
           },
           {
            "x": -0.18958301037154435,
            "y": 0.03594171782153709
           },
           {
            "x": -0.17789207564245357,
            "y": 0.031645590576380424
           },
           {
            "x": -0.1662011409133628,
            "y": 0.027622819240903478
           },
           {
            "x": -0.15451020618427247,
            "y": 0.02387340381510639
           },
           {
            "x": -0.1428192714551817,
            "y": 0.020397344298988877
           },
           {
            "x": -0.13112833672609092,
            "y": 0.017194640692551087
           },
           {
            "x": -0.11943740199700015,
            "y": 0.014265292995793015
           },
           {
            "x": -0.10774646726790982,
            "y": 0.011609301208714761
           },
           {
            "x": -0.09605553253881904,
            "y": 0.009226665331316124
           },
           {
            "x": -0.08436459780972827,
            "y": 0.007117385363597208
           },
           {
            "x": -0.0726736630806375,
            "y": 0.005281461305558013
           },
           {
            "x": -0.060982728351547166,
            "y": 0.0037188931571985944
           },
           {
            "x": -0.04929179362245639,
            "y": 0.0024296809185188326
           },
           {
            "x": -0.03760085889336562,
            "y": 0.0014138245895187922
           },
           {
            "x": -0.025909924164274845,
            "y": 0.0006713241701984735
           },
           {
            "x": -0.014218989435184515,
            "y": 0.00020217966055788885
           },
           {
            "x": -0.002528054706093741,
            "y": 6.39106059700271e-06
           },
           {
            "x": 0.009162880022997033,
            "y": 8.39583703158381e-05
           },
           {
            "x": 0.020853814752087807,
            "y": 0.000434881589714395
           },
           {
            "x": 0.03254474948117814,
            "y": 0.0010591607187926445
           },
           {
            "x": 0.04423568421026891,
            "y": 0.001956795757550634
           },
           {
            "x": 0.055926618939359685,
            "y": 0.0031277867059883455
           },
           {
            "x": 0.06761755366845046,
            "y": 0.004572133564105778
           },
           {
            "x": 0.07930848839754123,
            "y": 0.006289836331902932
           },
           {
            "x": 0.09099942312663156,
            "y": 0.008280895009379728
           },
           {
            "x": 0.10269035785572234,
            "y": 0.010545309596536314
           },
           {
            "x": 0.11438129258481311,
            "y": 0.013083080093372623
           },
           {
            "x": 0.12607222731390388,
            "y": 0.015894206499888652
           },
           {
            "x": 0.1377631620429942,
            "y": 0.01897868881608428
           },
           {
            "x": 0.149454096772085,
            "y": 0.022336527041959743
           },
           {
            "x": 0.16114503150117576,
            "y": 0.02596772117751493
           },
           {
            "x": 0.17283596623026654,
            "y": 0.029872271222749835
           },
           {
            "x": 0.18452690095935687,
            "y": 0.0340501771776643
           },
           {
            "x": 0.19621783568844764,
            "y": 0.03850143904225864
           },
           {
            "x": 0.2079087704175384,
            "y": 0.043226056816532694
           },
           {
            "x": 0.2195997051466292,
            "y": 0.04822403050048648
           },
           {
            "x": 0.23129063987571952,
            "y": 0.05349536009411977
           },
           {
            "x": 0.2429815746048103,
            "y": 0.05904004559743299
           },
           {
            "x": 0.25467250933390106,
            "y": 0.06485808701042592
           },
           {
            "x": 0.26636344406299184,
            "y": 0.07094948433309858
           },
           {
            "x": 0.27805437879208217,
            "y": 0.07731423756545071
           },
           {
            "x": 0.28974531352117294,
            "y": 0.0839523467074828
           },
           {
            "x": 0.3014362482502637,
            "y": 0.09086381175919461
           },
           {
            "x": 0.31312718297935405,
            "y": 0.09804863272058587
           },
           {
            "x": 0.32481811770844526,
            "y": 0.1055068095916574
           },
           {
            "x": 0.3365090524375356,
            "y": 0.11323834237240808
           },
           {
            "x": 0.3481999871666259,
            "y": 0.12124323106283846
           },
           {
            "x": 0.35989092189571714,
            "y": 0.12952147566294916
           },
           {
            "x": 0.37158185662480747,
            "y": 0.13807307617273898
           },
           {
            "x": 0.3832727913538987,
            "y": 0.14689803259220915
           },
           {
            "x": 0.394963726082989,
            "y": 0.1559963449213584
           },
           {
            "x": 0.40665466081207935,
            "y": 0.16536801316018732
           },
           {
            "x": 0.41834559554117057,
            "y": 0.17501303730869666
           },
           {
            "x": 0.4300365302702609,
            "y": 0.184931417366885
           },
           {
            "x": 0.4417274649993521,
            "y": 0.19512315333475386
           },
           {
            "x": 0.45341839972844244,
            "y": 0.20558824521230162
           },
           {
            "x": 0.4651093344575328,
            "y": 0.21632669299952909
           },
           {
            "x": 0.476800269186624,
            "y": 0.2273384966964371
           },
           {
            "x": 0.4884912039157143,
            "y": 0.23862365630302398
           },
           {
            "x": 0.5001821386448047,
            "y": 0.2501821718192906
           },
           {
            "x": 0.5118730733738959,
            "y": 0.2620140432452378
           },
           {
            "x": 0.5235640081029862,
            "y": 0.27411927058086377
           },
           {
            "x": 0.5352549428320774,
            "y": 0.2864978538261705
           },
           {
            "x": 0.5469458775611677,
            "y": 0.2991497929811559
           },
           {
            "x": 0.5586368122902581,
            "y": 0.312075088045821
           },
           {
            "x": 0.5703277470193493,
            "y": 0.3252737390201669
           },
           {
            "x": 0.5820186817484396,
            "y": 0.33874574590419143
           },
           {
            "x": 0.59370961647753,
            "y": 0.3524911086978957
           },
           {
            "x": 0.6054005512066212,
            "y": 0.36650982740128074
           },
           {
            "x": 0.6170914859357115,
            "y": 0.38080190201434444
           },
           {
            "x": 0.6287824206648027,
            "y": 0.39536733253708894
           },
           {
            "x": 0.640473355393893,
            "y": 0.41020611896951203
           },
           {
            "x": 0.6521642901229834,
            "y": 0.4253182613116148
           },
           {
            "x": 0.6638552248520746,
            "y": 0.4407037595633985
           },
           {
            "x": 0.6755461595811649,
            "y": 0.45636261372486076
           },
           {
            "x": 0.6872370943102553,
            "y": 0.4722948237960027
           },
           {
            "x": 0.6989280290393465,
            "y": 0.4885003897768255
           },
           {
            "x": 0.7106189637684368,
            "y": 0.5049793116673269
           },
           {
            "x": 0.722309898497528,
            "y": 0.5217315894675092
           },
           {
            "x": 0.7340008332266184,
            "y": 0.53875722317737
           },
           {
            "x": 0.7456917679557087,
            "y": 0.5560562127969105
           },
           {
            "x": 0.7573827026847999,
            "y": 0.573628558326132
           },
           {
            "x": 0.7690736374138902,
            "y": 0.5914742597650319
           },
           {
            "x": 0.7807645721429815,
            "y": 0.6095933171136129
           },
           {
            "x": 0.7924555068720718,
            "y": 0.6279857303718722
           },
           {
            "x": 0.8041464416011621,
            "y": 0.6466514995398113
           },
           {
            "x": 0.8158373763302533,
            "y": 0.6655906246174313
           },
           {
            "x": 0.8275283110593437,
            "y": 0.6848031056047298
           },
           {
            "x": 0.839219245788434,
            "y": 0.7042889425017079
           },
           {
            "x": 0.8509101805175252,
            "y": 0.7240481353083673
           },
           {
            "x": 0.8626011152466155,
            "y": 0.7440806840247048
           },
           {
            "x": 0.8742920499757068,
            "y": 0.7643865886507237
           },
           {
            "x": 0.8859829847047971,
            "y": 0.7849658491864206
           },
           {
            "x": 0.8976739194338874,
            "y": 0.8058184656317974
           },
           {
            "x": 0.9093648541629786,
            "y": 0.8269444379868554
           },
           {
            "x": 0.921055788892069,
            "y": 0.8483437662515915
           },
           {
            "x": 0.9327467236211593,
            "y": 0.8700164504260073
           },
           {
            "x": 0.9444376583502505,
            "y": 0.8919624905101045
           },
           {
            "x": 0.9561285930793408,
            "y": 0.9141818865038798
           },
           {
            "x": 0.9678195278084321,
            "y": 0.9366746384073363
           },
           {
            "x": 0.9795104625375224,
            "y": 0.959440746220471
           },
           {
            "x": 0.9912013972666127,
            "y": 0.9824802099432854
           },
           {
            "x": 1.002892331995704,
            "y": 1.0057930295757813
           },
           {
            "x": 1.0145832667247943,
            "y": 1.029379205117955
           },
           {
            "x": 1.0262742014538846,
            "y": 1.0532387365698086
           },
           {
            "x": 1.0379651361829758,
            "y": 1.0773716239313436
           },
           {
            "x": 1.0496560709120661,
            "y": 1.1017778672025564
           },
           {
            "x": 1.0613470056411574,
            "y": 1.126457466383451
           },
           {
            "x": 1.0730379403702477,
            "y": 1.1514104214740233
           },
           {
            "x": 1.084728875099338,
            "y": 1.1766367324742752
           },
           {
            "x": 1.0964198098284292,
            "y": 1.202136399384209
           },
           {
            "x": 1.1081107445575196,
            "y": 1.2279094222038205
           },
           {
            "x": 1.11980167928661,
            "y": 1.2539558009331115
           },
           {
            "x": 1.1314926140157011,
            "y": 1.2802755355720843
           },
           {
            "x": 1.1431835487447914,
            "y": 1.306868626120735
           },
           {
            "x": 1.1548744834738827,
            "y": 1.3337350725790673
           },
           {
            "x": 1.166565418202973,
            "y": 1.3608748749470774
           },
           {
            "x": 1.1782563529320633,
            "y": 1.388288033224767
           },
           {
            "x": 1.1899472876611545,
            "y": 1.4159745474121386
           },
           {
            "x": 1.2016382223902449,
            "y": 1.4439344175091875
           },
           {
            "x": 1.213329157119336,
            "y": 1.4721676435159186
           },
           {
            "x": 1.2250200918484264,
            "y": 1.500674225432327
           },
           {
            "x": 1.2367110265775167,
            "y": 1.5294541632584153
           },
           {
            "x": 1.248401961306608,
            "y": 1.5585074569941855
           },
           {
            "x": 1.2600928960356983,
            "y": 1.587834106639633
           },
           {
            "x": 1.2717838307647886,
            "y": 1.6174341121947604
           },
           {
            "x": 1.2834747654938798,
            "y": 1.6473074736595699
           },
           {
            "x": 1.2951657002229702,
            "y": 1.6774541910340566
           },
           {
            "x": 1.3068566349520614,
            "y": 1.7078742643182254
           },
           {
            "x": 1.3185475696811517,
            "y": 1.7385676935120717
           },
           {
            "x": 1.330238504410242,
            "y": 1.7695344786155975
           },
           {
            "x": 1.3419294391393333,
            "y": 1.8007746196288055
           },
           {
            "x": 1.3536203738684236,
            "y": 1.8322881165516909
           },
           {
            "x": 1.365311308597514,
            "y": 1.864074969384256
           },
           {
            "x": 1.3770022433266051,
            "y": 1.896135178126503
           },
           {
            "x": 1.3886931780556955,
            "y": 1.9284687427784275
           },
           {
            "x": 1.4003841127847867,
            "y": 1.9610756633400341
           },
           {
            "x": 1.412075047513877,
            "y": 1.993955939811318
           },
           {
            "x": 1.4237659822429674,
            "y": 2.027109572192282
           },
           {
            "x": 1.4354569169720586,
            "y": 2.0605365604829275
           },
           {
            "x": 1.447147851701149,
            "y": 2.0942369046832505
           },
           {
            "x": 1.4588387864302392,
            "y": 2.128210604793253
           },
           {
            "x": 1.4705297211593304,
            "y": 2.162457660812938
           },
           {
            "x": 1.4822206558884208,
            "y": 2.1969780727423003
           },
           {
            "x": 1.493911590617512,
            "y": 2.2317718405813447
           },
           {
            "x": 1.5056025253466023,
            "y": 2.2668389643300664
           },
           {
            "x": 1.5172934600756927,
            "y": 2.3021794439884675
           },
           {
            "x": 1.5289843948047839,
            "y": 2.3377932795565513
           },
           {
            "x": 1.5406753295338742,
            "y": 2.373680471034312
           },
           {
            "x": 1.5523662642629654,
            "y": 2.409841018421755
           },
           {
            "x": 1.5640571989920558,
            "y": 2.4462749217188753
           },
           {
            "x": 1.575748133721146,
            "y": 2.4829821809256747
           },
           {
            "x": 1.5874390684502373,
            "y": 2.519962796042157
           },
           {
            "x": 1.5991300031793276,
            "y": 2.5572167670683164
           },
           {
            "x": 1.610820937908418,
            "y": 2.5947440940041555
           },
           {
            "x": 1.6225118726375092,
            "y": 2.632544776849677
           },
           {
            "x": 1.6342028073665995,
            "y": 2.6706188156048754
           },
           {
            "x": 1.6458937420956907,
            "y": 2.708966210269756
           },
           {
            "x": 1.657584676824781,
            "y": 2.747586960844314
           },
           {
            "x": 1.6692756115538714,
            "y": 2.7864810673285514
           },
           {
            "x": 1.6809665462829626,
            "y": 2.8256485297224714
           },
           {
            "x": 1.692657481012053,
            "y": 2.865089348026068
           },
           {
            "x": 1.7043484157411433,
            "y": 2.904803522239345
           },
           {
            "x": 1.7160393504702345,
            "y": 2.944791052362304
           },
           {
            "x": 1.7277302851993248,
            "y": 2.9850519383949403
           },
           {
            "x": 1.739421219928416,
            "y": 3.025586180337259
           },
           {
            "x": 1.7511121546575064,
            "y": 3.0663937781892545
           },
           {
            "x": 1.7628030893865967,
            "y": 3.1074747319509295
           },
           {
            "x": 1.774494024115688,
            "y": 3.1488290416222875
           },
           {
            "x": 1.7861849588447782,
            "y": 3.1904567072033223
           },
           {
            "x": 1.7978758935738686,
            "y": 3.2323577286940366
           },
           {
            "x": 1.8095668283029598,
            "y": 3.2745321060944335
           },
           {
            "x": 1.8212577630320501,
            "y": 3.316979839404507
           },
           {
            "x": 1.8329486977611413,
            "y": 3.359700928624264
           },
           {
            "x": 1.8446396324902317,
            "y": 3.402695373753697
           },
           {
            "x": 1.856330567219322,
            "y": 3.44596317479281
           },
           {
            "x": 1.8680215019484132,
            "y": 3.4895043317416055
           },
           {
            "x": 1.8797124366775035,
            "y": 3.533318844600078
           },
           {
            "x": 1.8914033714065939,
            "y": 3.5774067133682297
           },
           {
            "x": 1.903094306135685,
            "y": 3.6217679380460646
           },
           {
            "x": 1.9147852408647754,
            "y": 3.666402518633576
           },
           {
            "x": 1.9264761755938666,
            "y": 3.7113104551307705
           },
           {
            "x": 1.938167110322957,
            "y": 3.756491747537641
           },
           {
            "x": 1.9498580450520473,
            "y": 3.8019463958541917
           },
           {
            "x": 1.9615489797811385,
            "y": 3.8476744000804253
           },
           {
            "x": 1.9732399145102288,
            "y": 3.893675760216335
           },
           {
            "x": 1.98493084923932,
            "y": 3.939950476261928
           },
           {
            "x": 1.9966217839684104,
            "y": 3.9864985482171975
           },
           {
            "x": 2.0083127186975007,
            "y": 4.033319976082146
           },
           {
            "x": 2.020003653426592,
            "y": 4.080414759856779
           },
           {
            "x": 2.0316945881556823,
            "y": 4.127782899541088
           },
           {
            "x": 2.0433855228847726,
            "y": 4.175424395135075
           },
           {
            "x": 2.055076457613864,
            "y": 4.223339246638747
           },
           {
            "x": 2.066767392342954,
            "y": 4.271527454052094
           },
           {
            "x": 2.0784583270720454,
            "y": 4.319989017375126
           },
           {
            "x": 2.0901492618011357,
            "y": 4.368723936607832
           },
           {
            "x": 2.101840196530226,
            "y": 4.417732211750219
           },
           {
            "x": 2.1135311312593172,
            "y": 4.467013842802289
           },
           {
            "x": 2.1252220659884076,
            "y": 4.516568829764036
           },
           {
            "x": 2.136913000717498,
            "y": 4.566397172635461
           },
           {
            "x": 2.148603935446589,
            "y": 4.616498871416571
           },
           {
            "x": 2.1602948701756794,
            "y": 4.666873926107356
           },
           {
            "x": 2.1719858049047707,
            "y": 4.717522336707825
           },
           {
            "x": 2.183676739633861,
            "y": 4.768444103217969
           },
           {
            "x": 2.1953676743629513,
            "y": 4.819639225637793
           },
           {
            "x": 2.2070586090920425,
            "y": 4.871107703967302
           },
           {
            "x": 2.218749543821133,
            "y": 4.922849538206485
           },
           {
            "x": 2.230440478550223,
            "y": 4.974864728355349
           },
           {
            "x": 2.2421314132793144,
            "y": 5.027153274413896
           },
           {
            "x": 2.2538223480084048,
            "y": 5.079715176382119
           },
           {
            "x": 2.265513282737496,
            "y": 5.132550434260025
           },
           {
            "x": 2.2772042174665863,
            "y": 5.185659048047608
           },
           {
            "x": 2.2888951521956766,
            "y": 5.23904101774487
           },
           {
            "x": 2.300586086924768,
            "y": 5.292696343351816
           },
           {
            "x": 2.312277021653858,
            "y": 5.346625024868437
           },
           {
            "x": 2.3239679563829494,
            "y": 5.400827062294742
           },
           {
            "x": 2.3356588911120397,
            "y": 5.455302455630723
           },
           {
            "x": 2.34734982584113,
            "y": 5.510051204876383
           },
           {
            "x": 2.3590407605702213,
            "y": 5.565073310031728
           },
           {
            "x": 2.3707316952993116,
            "y": 5.620368771096748
           },
           {
            "x": 2.382422630028402,
            "y": 5.675937588071448
           },
           {
            "x": 2.394113564757493,
            "y": 5.731779760955831
           },
           {
            "x": 2.4058044994865835,
            "y": 5.7878952897498905
           },
           {
            "x": 2.4174954342156747,
            "y": 5.844284174453634
           },
           {
            "x": 2.429186368944765,
            "y": 5.900946415067052
           },
           {
            "x": 2.4408773036738554,
            "y": 5.957882011590151
           },
           {
            "x": 2.4525682384029466,
            "y": 6.015090964022932
           },
           {
            "x": 2.464259173132037,
            "y": 6.07257327236539
           },
           {
            "x": 2.4759501078611272,
            "y": 6.130328936617528
           },
           {
            "x": 2.4876410425902185,
            "y": 6.188357956779349
           },
           {
            "x": 2.499331977319309,
            "y": 6.246660332850846
           },
           {
            "x": 2.5110229120484,
            "y": 6.305236064832027
           },
           {
            "x": 2.5227138467774903,
            "y": 6.3640851527228826
           },
           {
            "x": 2.5344047815065807,
            "y": 6.423207596523419
           },
           {
            "x": 2.546095716235672,
            "y": 6.482603396233639
           },
           {
            "x": 2.557786650964762,
            "y": 6.542272551853534
           },
           {
            "x": 2.5694775856938525,
            "y": 6.60221506338311
           },
           {
            "x": 2.5811685204229438,
            "y": 6.662430930822369
           },
           {
            "x": 2.592859455152034,
            "y": 6.7229201541713035
           },
           {
            "x": 2.6045503898811253,
            "y": 6.783682733429922
           },
           {
            "x": 2.6162413246102156,
            "y": 6.844718668598215
           },
           {
            "x": 2.627932259339306,
            "y": 6.906027959676189
           },
           {
            "x": 2.639623194068397,
            "y": 6.967610606663847
           },
           {
            "x": 2.6513141287974875,
            "y": 7.02946660956118
           },
           {
            "x": 2.6630050635265787,
            "y": 7.091595968368198
           },
           {
            "x": 2.674695998255669,
            "y": 7.15399868308489
           },
           {
            "x": 2.6863869329847594,
            "y": 7.2166747537112625
           },
           {
            "x": 2.6980778677138506,
            "y": 7.2796241802473185
           },
           {
            "x": 2.709768802442941,
            "y": 7.34284696269305
           },
           {
            "x": 2.7214597371720313,
            "y": 7.406343101048462
           },
           {
            "x": 2.7331506719011225,
            "y": 7.470112595313557
           },
           {
            "x": 2.744841606630213,
            "y": 7.534155445488328
           },
           {
            "x": 2.756532541359304,
            "y": 7.598471651572783
           },
           {
            "x": 2.7682234760883944,
            "y": 7.663061213566913
           },
           {
            "x": 2.7799144108174847,
            "y": 7.727924131470723
           },
           {
            "x": 2.791605345546576,
            "y": 7.793060405284217
           },
           {
            "x": 2.8032962802756662,
            "y": 7.858470035007387
           },
           {
            "x": 2.8149872150047566,
            "y": 7.924153020640236
           },
           {
            "x": 2.826678149733848,
            "y": 7.9901093621827695
           },
           {
            "x": 2.838369084462938,
            "y": 8.056339059634977
           },
           {
            "x": 2.8500600191920293,
            "y": 8.12284211299687
           },
           {
            "x": 2.8617509539211197,
            "y": 8.189618522268438
           },
           {
            "x": 2.87344188865021,
            "y": 8.256668287449687
           },
           {
            "x": 2.885132823379301,
            "y": 8.323991408540618
           },
           {
            "x": 2.8968237581083915,
            "y": 8.391587885541226
           },
           {
            "x": 2.908514692837482,
            "y": 8.459457718451512
           },
           {
            "x": 2.920205627566573,
            "y": 8.527600907271482
           },
           {
            "x": 2.9318965622956634,
            "y": 8.59601745200113
           },
           {
            "x": 2.9435874970247546,
            "y": 8.66470735264046
           },
           {
            "x": 2.955278431753845,
            "y": 8.733670609189465
           },
           {
            "x": 2.9669693664829353,
            "y": 8.80290722164815
           },
           {
            "x": 2.9786603012120265,
            "y": 8.87241719001652
           },
           {
            "x": 2.990351235941117,
            "y": 8.942200514294566
           },
           {
            "x": 3.002042170670207,
            "y": 9.01225719448229
           },
           {
            "x": 3.0137331053992984,
            "y": 9.082587230579698
           },
           {
            "x": 3.0254240401283887,
            "y": 9.153190622586783
           },
           {
            "x": 3.03711497485748,
            "y": 9.224067370503551
           },
           {
            "x": 3.0488059095865703,
            "y": 9.295217474329995
           },
           {
            "x": 3.0604968443156606,
            "y": 9.366640934066117
           },
           {
            "x": 3.072187779044752,
            "y": 9.438337749711925
           },
           {
            "x": 3.083878713773842,
            "y": 9.510307921267406
           },
           {
            "x": 3.0955696485029334,
            "y": 9.582551448732575
           },
           {
            "x": 3.1072605832320237,
            "y": 9.655068332107415
           },
           {
            "x": 3.118951517961114,
            "y": 9.727858571391938
           },
           {
            "x": 3.1306424526902052,
            "y": 9.800922166586144
           },
           {
            "x": 3.1423333874192956,
            "y": 9.874259117690025
           },
           {
            "x": 3.154024322148386,
            "y": 9.947869424703585
           },
           {
            "x": 3.165715256877477,
            "y": 10.02175308762683
           },
           {
            "x": 3.1774061916065675,
            "y": 10.095910106459751
           },
           {
            "x": 3.1890971263356587,
            "y": 10.170340481202356
           },
           {
            "x": 3.200788061064749,
            "y": 10.245044211854635
           },
           {
            "x": 3.2124789957938393,
            "y": 10.320021298416595
           },
           {
            "x": 3.2241699305229305,
            "y": 10.395271740888239
           },
           {
            "x": 3.235860865252021,
            "y": 10.470795539269558
           },
           {
            "x": 3.247551799981111,
            "y": 10.546592693560555
           },
           {
            "x": 3.2592427347102024,
            "y": 10.622663203761238
           },
           {
            "x": 3.2709336694392928,
            "y": 10.699007069871596
           },
           {
            "x": 3.282624604168384,
            "y": 10.77562429189164
           },
           {
            "x": 3.2943155388974743,
            "y": 10.852514869821357
           },
           {
            "x": 3.3060064736265646,
            "y": 10.929678803660753
           },
           {
            "x": 3.317697408355656,
            "y": 11.007116093409836
           },
           {
            "x": 3.329388343084746,
            "y": 11.08482673906859
           },
           {
            "x": 3.3410792778138365,
            "y": 11.162810740637028
           },
           {
            "x": 3.3527702125429277,
            "y": 11.241068098115148
           },
           {
            "x": 3.364461147272018,
            "y": 11.319598811502944
           },
           {
            "x": 3.3761520820011093,
            "y": 11.398402880800425
           },
           {
            "x": 3.3878430167301996,
            "y": 11.47748030600758
           },
           {
            "x": 3.39953395145929,
            "y": 11.556831087124413
           },
           {
            "x": 3.411224886188381,
            "y": 11.636455224150934
           },
           {
            "x": 3.4229158209174715,
            "y": 11.716352717087128
           },
           {
            "x": 3.4346067556465627,
            "y": 11.796523565933008
           },
           {
            "x": 3.446297690375653,
            "y": 11.87696777068856
           },
           {
            "x": 3.4579886251047434,
            "y": 11.957685331353794
           },
           {
            "x": 3.4696795598338346,
            "y": 12.038676247928713
           },
           {
            "x": 3.481370494562925,
            "y": 12.119940520413305
           },
           {
            "x": 3.4930614292920152,
            "y": 12.201478148807576
           },
           {
            "x": 3.5047523640211065,
            "y": 12.283289133111534
           },
           {
            "x": 3.516443298750197,
            "y": 12.365373473325166
           },
           {
            "x": 3.528134233479288,
            "y": 12.447731169448483
           },
           {
            "x": 3.5398251682083783,
            "y": 12.530362221481473
           },
           {
            "x": 3.5515161029374687,
            "y": 12.613266629424144
           },
           {
            "x": 3.56320703766656,
            "y": 12.6964443932765
           },
           {
            "x": 3.57489797239565,
            "y": 12.77989551303853
           },
           {
            "x": 3.5865889071247405,
            "y": 12.86361998871024
           },
           {
            "x": 3.5982798418538318,
            "y": 12.947617820291637
           },
           {
            "x": 3.609970776582922,
            "y": 13.031889007782706
           },
           {
            "x": 3.6216617113120133,
            "y": 13.11643355118346
           },
           {
            "x": 3.6333526460411036,
            "y": 13.201251450493888
           },
           {
            "x": 3.645043580770194,
            "y": 13.286342705713997
           },
           {
            "x": 3.656734515499285,
            "y": 13.371707316843793
           },
           {
            "x": 3.6684254502283755,
            "y": 13.45734528388326
           },
           {
            "x": 3.680116384957466,
            "y": 13.543256606832408
           },
           {
            "x": 3.691807319686557,
            "y": 13.629441285691241
           },
           {
            "x": 3.7034982544156474,
            "y": 13.715899320459748
           },
           {
            "x": 3.7151891891447386,
            "y": 13.80263071113794
           },
           {
            "x": 3.726880123873829,
            "y": 13.889635457725806
           },
           {
            "x": 3.7385710586029193,
            "y": 13.976913560223352
           },
           {
            "x": 3.7502619933320105,
            "y": 14.064465018630585
           },
           {
            "x": 3.761952928061101,
            "y": 14.15228983294749
           },
           {
            "x": 3.773643862790191,
            "y": 14.240388003174075
           },
           {
            "x": 3.7853347975192824,
            "y": 14.328759529310346
           },
           {
            "x": 3.7970257322483727,
            "y": 14.41740441135629
           },
           {
            "x": 3.808716666977464,
            "y": 14.506322649311922
           },
           {
            "x": 3.8204076017065542,
            "y": 14.595514243177226
           },
           {
            "x": 3.8320985364356446,
            "y": 14.684979192952209
           },
           {
            "x": 3.843789471164736,
            "y": 14.77471749863688
           },
           {
            "x": 3.855480405893826,
            "y": 14.864729160231223
           },
           {
            "x": 3.8671713406229173,
            "y": 14.955014177735253
           },
           {
            "x": 3.8788622753520077,
            "y": 15.045572551148954
           },
           {
            "x": 3.890553210081098,
            "y": 15.136404280472336
           },
           {
            "x": 3.902244144810189,
            "y": 15.227509365705405
           },
           {
            "x": 3.9139350795392795,
            "y": 15.318887806848146
           },
           {
            "x": 3.92562601426837,
            "y": 15.410539603900567
           },
           {
            "x": 3.937316948997461,
            "y": 15.502464756862675
           },
           {
            "x": 3.9490078837265514,
            "y": 15.594663265734455
           },
           {
            "x": 3.9606988184556426,
            "y": 15.687135130515923
           },
           {
            "x": 3.972389753184733,
            "y": 15.779880351207064
           },
           {
            "x": 3.9840806879138233,
            "y": 15.872898927807883
           },
           {
            "x": 3.9957716226429145,
            "y": 15.96619086031839
           },
           {
            "x": 4.007462557372005,
            "y": 16.05975614873857
           },
           {
            "x": 4.019153492101095,
            "y": 16.15359479306843
           },
           {
            "x": 4.030844426830186,
            "y": 16.247706793307973
           },
           {
            "x": 4.042535361559277,
            "y": 16.34209214945719
           },
           {
            "x": 4.054226296288368,
            "y": 16.436750861516096
           },
           {
            "x": 4.065917231017458,
            "y": 16.531682929484674
           },
           {
            "x": 4.077608165746549,
            "y": 16.626888353362933
           },
           {
            "x": 4.08929910047564,
            "y": 16.722367133150875
           },
           {
            "x": 4.10099003520473,
            "y": 16.818119268848495
           },
           {
            "x": 4.1126809699338205,
            "y": 16.91414476045579
           },
           {
            "x": 4.124371904662912,
            "y": 17.010443607972775
           },
           {
            "x": 4.136062839392002,
            "y": 17.10701581139943
           },
           {
            "x": 4.147753774121093,
            "y": 17.203861370735773
           },
           {
            "x": 4.159444708850184,
            "y": 17.300980285981787
           },
           {
            "x": 4.171135643579274,
            "y": 17.398372557137485
           },
           {
            "x": 4.182826578308365,
            "y": 17.496038184202867
           },
           {
            "x": 4.1945175130374555,
            "y": 17.593977167177922
           },
           {
            "x": 4.206208447766547,
            "y": 17.69218950606266
           },
           {
            "x": 4.217899382495637,
            "y": 17.790675200857077
           },
           {
            "x": 4.229590317224727,
            "y": 17.88943425156117
           },
           {
            "x": 4.2412812519538186,
            "y": 17.98846665817495
           },
           {
            "x": 4.252972186682909,
            "y": 18.087772420698403
           },
           {
            "x": 4.264663121411999,
            "y": 18.187351539131537
           },
           {
            "x": 4.27635405614109,
            "y": 18.287204013474355
           },
           {
            "x": 4.288044990870181,
            "y": 18.38732984372685
           },
           {
            "x": 4.299735925599272,
            "y": 18.487729029889028
           },
           {
            "x": 4.311426860328362,
            "y": 18.58840157196088
           },
           {
            "x": 4.323117795057453,
            "y": 18.689347469942412
           },
           {
            "x": 4.334808729786543,
            "y": 18.79056672383362
           },
           {
            "x": 4.346499664515635,
            "y": 18.892059333634528
           },
           {
            "x": 4.358190599244725,
            "y": 18.993825299345097
           },
           {
            "x": 4.369881533973816,
            "y": 19.095864620965347
           },
           {
            "x": 4.381572468702906,
            "y": 19.198177298495278
           },
           {
            "x": 4.393263403431996,
            "y": 19.30076333193489
           },
           {
            "x": 4.404954338161087,
            "y": 19.403622721284176
           },
           {
            "x": 4.416645272890179,
            "y": 19.50675546654316
           },
           {
            "x": 4.428336207619269,
            "y": 19.61016156771181
           },
           {
            "x": 4.4400271423483595,
            "y": 19.71384102479014
           },
           {
            "x": 4.45171807707745,
            "y": 19.817793837778147
           },
           {
            "x": 4.46340901180654,
            "y": 19.922020006675837
           },
           {
            "x": 4.475099946535632,
            "y": 20.026519531483217
           },
           {
            "x": 4.486790881264723,
            "y": 20.131292412200267
           },
           {
            "x": 4.498481815993813,
            "y": 20.236338648826994
           },
           {
            "x": 4.510172750722903,
            "y": 20.3416582413634
           },
           {
            "x": 4.521863685451994,
            "y": 20.447251189809485
           },
           {
            "x": 4.533554620181086,
            "y": 20.553117494165267
           },
           {
            "x": 4.545245554910176,
            "y": 20.659257154430716
           },
           {
            "x": 4.556936489639266,
            "y": 20.76567017060584
           },
           {
            "x": 4.568627424368357,
            "y": 20.872356542690646
           },
           {
            "x": 4.580318359097447,
            "y": 20.97931627068513
           },
           {
            "x": 4.592009293826539,
            "y": 21.08654935458931
           },
           {
            "x": 4.603700228555629,
            "y": 21.194055794403155
           },
           {
            "x": 4.61539116328472,
            "y": 21.30183559012668
           },
           {
            "x": 4.62708209801381,
            "y": 21.409888741759882
           },
           {
            "x": 4.6387730327429,
            "y": 21.518215249302767
           },
           {
            "x": 4.650463967471991,
            "y": 21.626815112755327
           },
           {
            "x": 4.662154902201083,
            "y": 21.73568833211759
           },
           {
            "x": 4.673845836930173,
            "y": 21.84483490738951
           },
           {
            "x": 4.6855367716592635,
            "y": 21.954254838571114
           },
           {
            "x": 4.697227706388354,
            "y": 22.063948125662396
           },
           {
            "x": 4.708918641117444,
            "y": 22.17391476866336
           },
           {
            "x": 4.720609575846536,
            "y": 22.284154767574016
           },
           {
            "x": 4.732300510575627,
            "y": 22.394668122394336
           },
           {
            "x": 4.743991445304717,
            "y": 22.505454833124336
           },
           {
            "x": 4.755682380033807,
            "y": 22.616514899764017
           },
           {
            "x": 4.767373314762898,
            "y": 22.727848322313378
           },
           {
            "x": 4.77906424949199,
            "y": 22.839455100772433
           },
           {
            "x": 4.79075518422108,
            "y": 22.951335235141155
           },
           {
            "x": 4.80244611895017,
            "y": 23.063488725419553
           },
           {
            "x": 4.814137053679261,
            "y": 23.175915571607632
           },
           {
            "x": 4.825827988408351,
            "y": 23.28861577370539
           },
           {
            "x": 4.837518923137441,
            "y": 23.40158933171283
           },
           {
            "x": 4.8492098578665335,
            "y": 23.514836245629965
           },
           {
            "x": 4.860900792595624,
            "y": 23.628356515456765
           },
           {
            "x": 4.872591727324714,
            "y": 23.742150141193243
           },
           {
            "x": 4.8842826620538045,
            "y": 23.8562171228394
           },
           {
            "x": 4.895973596782895,
            "y": 23.970557460395234
           },
           {
            "x": 4.907664531511987,
            "y": 24.08517115386077
           },
           {
            "x": 4.919355466241077,
            "y": 24.200058203235965
           },
           {
            "x": 4.9310464009701676,
            "y": 24.315218608520844
           },
           {
            "x": 4.942737335699258,
            "y": 24.4306523697154
           },
           {
            "x": 4.954428270428348,
            "y": 24.546359486819632
           },
           {
            "x": 4.96611920515744,
            "y": 24.662339959833567
           },
           {
            "x": 4.977810139886531,
            "y": 24.778593788757163
           },
           {
            "x": 4.989501074615621,
            "y": 24.895120973590437
           },
           {
            "x": 5.001192009344711,
            "y": 25.01192151433339
           },
           {
            "x": 5.012882944073802,
            "y": 25.128995410986025
           },
           {
            "x": 5.024573878802894,
            "y": 25.246342663548358
           },
           {
            "x": 5.036264813531984,
            "y": 25.36396327202035
           },
           {
            "x": 5.047955748261074,
            "y": 25.481857236402025
           },
           {
            "x": 5.059646682990165,
            "y": 25.600024556693377
           },
           {
            "x": 5.071337617719255,
            "y": 25.71846523289441
           },
           {
            "x": 5.083028552448345,
            "y": 25.837179265005123
           },
           {
            "x": 5.0947194871774375,
            "y": 25.95616665302553
           },
           {
            "x": 5.106410421906528,
            "y": 26.075427396955604
           },
           {
            "x": 5.118101356635618,
            "y": 26.194961496795354
           },
           {
            "x": 5.1297922913647085,
            "y": 26.314768952544785
           },
           {
            "x": 5.141483226093799,
            "y": 26.434849764203896
           },
           {
            "x": 5.153174160822891,
            "y": 26.555203931772706
           },
           {
            "x": 5.164865095551981,
            "y": 26.675831455251178
           },
           {
            "x": 5.176556030281072,
            "y": 26.796732334639326
           },
           {
            "x": 5.188246965010162,
            "y": 26.917906569937156
           },
           {
            "x": 5.199937899739252,
            "y": 27.039354161144665
           },
           {
            "x": 5.211628834468344,
            "y": 27.161075108261873
           },
           {
            "x": 5.223319769197435,
            "y": 27.283069411288743
           },
           {
            "x": 5.235010703926525,
            "y": 27.40533707022529
           },
           {
            "x": 5.246701638655615,
            "y": 27.52787808507152
           },
           {
            "x": 5.258392573384706,
            "y": 27.65069245582743
           },
           {
            "x": 5.270083508113798,
            "y": 27.773780182493034
           },
           {
            "x": 5.281774442842888,
            "y": 27.897141265068303
           },
           {
            "x": 5.293465377571978,
            "y": 28.020775703553248
           },
           {
            "x": 5.305156312301069,
            "y": 28.144683497947874
           },
           {
            "x": 5.316847247030159,
            "y": 28.268864648252183
           },
           {
            "x": 5.328538181759249,
            "y": 28.39331915446617
           },
           {
            "x": 5.3402291164883415,
            "y": 28.518047016589854
           },
           {
            "x": 5.351920051217432,
            "y": 28.643048234623198
           },
           {
            "x": 5.363610985946522,
            "y": 28.768322808566225
           },
           {
            "x": 5.3753019206756125,
            "y": 28.89387073841893
           },
           {
            "x": 5.386992855404703,
            "y": 29.019692024181314
           },
           {
            "x": 5.398683790133795,
            "y": 29.145786665853397
           },
           {
            "x": 5.410374724862885,
            "y": 29.272154663435142
           },
           {
            "x": 5.422065659591976,
            "y": 29.398796016926564
           },
           {
            "x": 5.433756594321066,
            "y": 29.52571072632767
           },
           {
            "x": 5.445447529050156,
            "y": 29.652898791638453
           },
           {
            "x": 5.457138463779248,
            "y": 29.780360212858934
           },
           {
            "x": 5.468829398508339,
            "y": 29.908094989989078
           },
           {
            "x": 5.480520333237429,
            "y": 30.0361031230289
           },
           {
            "x": 5.492211267966519,
            "y": 30.164384611978402
           },
           {
            "x": 5.50390220269561,
            "y": 30.292939456837583
           },
           {
            "x": 5.5155931374247,
            "y": 30.421767657606445
           },
           {
            "x": 5.527284072153792,
            "y": 30.550869214285008
           },
           {
            "x": 5.5389750068828825,
            "y": 30.680244126873227
           },
           {
            "x": 5.550665941611973,
            "y": 30.80989239537113
           },
           {
            "x": 5.562356876341063,
            "y": 30.93981401977871
           },
           {
            "x": 5.5740478110701535,
            "y": 31.07000900009597
           },
           {
            "x": 5.585738745799246,
            "y": 31.20047733632293
           },
           {
            "x": 5.597429680528336,
            "y": 31.331219028459547
           },
           {
            "x": 5.609120615257426,
            "y": 31.462234076505847
           },
           {
            "x": 5.6208115499865166,
            "y": 31.593522480461825
           },
           {
            "x": 5.632502484715607,
            "y": 31.725084240327487
           },
           {
            "x": 5.644193419444699,
            "y": 31.856919356102843
           },
           {
            "x": 5.655884354173789,
            "y": 31.98902782778786
           },
           {
            "x": 5.66757528890288,
            "y": 32.12140965538256
           },
           {
            "x": 5.67926622363197,
            "y": 32.25406483888694
           },
           {
            "x": 5.69095715836106,
            "y": 32.38699337830099
           },
           {
            "x": 5.702648093090152,
            "y": 32.52019527362475
           },
           {
            "x": 5.714339027819243,
            "y": 32.65367052485817
           },
           {
            "x": 5.726029962548333,
            "y": 32.78741913200126
           },
           {
            "x": 5.737720897277423,
            "y": 32.92144109505404
           },
           {
            "x": 5.749411832006514,
            "y": 33.05573641401649
           },
           {
            "x": 5.761102766735604,
            "y": 33.190305088888636
           },
           {
            "x": 5.772793701464696,
            "y": 33.32514711967047
           },
           {
            "x": 5.7844846361937865,
            "y": 33.460262506361964
           },
           {
            "x": 5.796175570922877,
            "y": 33.59565124896314
           },
           {
            "x": 5.807866505651967,
            "y": 33.73131334747399
           },
           {
            "x": 5.8195574403810575,
            "y": 33.867248801894526
           },
           {
            "x": 5.83124837511015,
            "y": 34.00345761222476
           },
           {
            "x": 5.84293930983924,
            "y": 34.13993977846465
           },
           {
            "x": 5.85463024456833,
            "y": 34.27669530061423
           },
           {
            "x": 5.866321179297421,
            "y": 34.413724178673476
           },
           {
            "x": 5.878012114026511,
            "y": 34.551026412642415
           },
           {
            "x": 5.889703048755603,
            "y": 34.688602002521044
           },
           {
            "x": 5.901393983484693,
            "y": 34.826450948309336
           },
           {
            "x": 5.913084918213784,
            "y": 34.96457325000731
           },
           {
            "x": 5.924775852942874,
            "y": 35.10296890761496
           },
           {
            "x": 5.936466787671964,
            "y": 35.241637921132295
           },
           {
            "x": 5.948157722401055,
            "y": 35.3805802905593
           },
           {
            "x": 5.959848657130147,
            "y": 35.51979601589601
           },
           {
            "x": 5.971539591859237,
            "y": 35.65928509714239
           },
           {
            "x": 5.983230526588327,
            "y": 35.79904753429843
           },
           {
            "x": 5.994921461317418,
            "y": 35.939083327364166
           },
           {
            "x": 6.006612396046508,
            "y": 36.07939247633957
           },
           {
            "x": 6.0183033307756,
            "y": 36.21997498122468
           },
           {
            "x": 6.0299942655046905,
            "y": 36.36083084201945
           },
           {
            "x": 6.041685200233781,
            "y": 36.5019600587239
           },
           {
            "x": 6.053376134962871,
            "y": 36.64336263133803
           },
           {
            "x": 6.0650670696919615,
            "y": 36.78503855986184
           },
           {
            "x": 6.076758004421054,
            "y": 36.92698784429535
           },
           {
            "x": 6.088448939150144,
            "y": 37.06921048463851
           },
           {
            "x": 6.100139873879234,
            "y": 37.21170648089136
           },
           {
            "x": 6.111830808608325,
            "y": 37.35447583305389
           },
           {
            "x": 6.123521743337415,
            "y": 37.49751854112609
           },
           {
            "x": 6.135212678066507,
            "y": 37.640834605108004
           },
           {
            "x": 6.146903612795597,
            "y": 37.784424024999566
           },
           {
            "x": 6.158594547524688,
            "y": 37.92828680080081
           },
           {
            "x": 6.170285482253778,
            "y": 38.072422932511735
           },
           {
            "x": 6.181976416982868,
            "y": 38.21683242013234
           },
           {
            "x": 6.193667351711959,
            "y": 38.361515263662625
           },
           {
            "x": 6.205358286441051,
            "y": 38.50647146310261
           },
           {
            "x": 6.217049221170141,
            "y": 38.65170101845226
           },
           {
            "x": 6.2287401558992315,
            "y": 38.797203929711586
           },
           {
            "x": 6.240431090628322,
            "y": 38.94298019688058
           },
           {
            "x": 6.252122025357412,
            "y": 39.08902981995927
           },
           {
            "x": 6.263812960086504,
            "y": 39.23535279894765
           },
           {
            "x": 6.275503894815595,
            "y": 39.381949133845694
           },
           {
            "x": 6.287194829544685,
            "y": 39.52881882465342
           },
           {
            "x": 6.298885764273775,
            "y": 39.67596187137082
           },
           {
            "x": 6.3105766990028656,
            "y": 39.8233782739979
           },
           {
            "x": 6.322267633731958,
            "y": 39.97106803253469
           },
           {
            "x": 6.333958568461048,
            "y": 40.11903114698113
           },
           {
            "x": 6.345649503190138,
            "y": 40.26726761733725
           },
           {
            "x": 6.357340437919229,
            "y": 40.41577744360305
           },
           {
            "x": 6.369031372648319,
            "y": 40.56456062577853
           },
           {
            "x": 6.380722307377409,
            "y": 40.71361716386369
           },
           {
            "x": 6.392413242106501,
            "y": 40.862947057858555
           },
           {
            "x": 6.404104176835592,
            "y": 41.01255030776307
           },
           {
            "x": 6.415795111564682,
            "y": 41.16242691357727
           },
           {
            "x": 6.427486046293772,
            "y": 41.31257687530115
           },
           {
            "x": 6.439176981022863,
            "y": 41.46300019293471
           },
           {
            "x": 6.450867915751955,
            "y": 41.61369686647797
           },
           {
            "x": 6.462558850481045,
            "y": 41.76466689593089
           },
           {
            "x": 6.4742497852101355,
            "y": 41.915910281293485
           },
           {
            "x": 6.485940719939226,
            "y": 42.06742702256577
           },
           {
            "x": 6.497631654668316,
            "y": 42.21921711974772
           },
           {
            "x": 6.509322589397408,
            "y": 42.37128057283938
           },
           {
            "x": 6.521013524126499,
            "y": 42.523617381840694
           },
           {
            "x": 6.532704458855589,
            "y": 42.67622754675169
           },
           {
            "x": 6.544395393584679,
            "y": 42.82911106757237
           },
           {
            "x": 6.55608632831377,
            "y": 42.98226794430273
           },
           {
            "x": 6.567777263042862,
            "y": 43.13569817694278
           },
           {
            "x": 6.579468197771952,
            "y": 43.2894017654925
           },
           {
            "x": 6.591159132501042,
            "y": 43.443378709951894
           },
           {
            "x": 6.602850067230133,
            "y": 43.597629010320965
           },
           {
            "x": 6.614541001959223,
            "y": 43.75215266659972
           },
           {
            "x": 6.626231936688313,
            "y": 43.90694967878816
           },
           {
            "x": 6.6379228714174054,
            "y": 44.062020046886296
           },
           {
            "x": 6.649613806146496,
            "y": 44.21736377089409
           },
           {
            "x": 6.661304740875586,
            "y": 44.37298085081156
           },
           {
            "x": 6.672995675604676,
            "y": 44.52887128663871
           },
           {
            "x": 6.684686610333767,
            "y": 44.68503507837554
           },
           {
            "x": 6.696377545062859,
            "y": 44.84147222602208
           },
           {
            "x": 6.708068479791949,
            "y": 44.998182729578275
           },
           {
            "x": 6.7197594145210395,
            "y": 45.15516658904414
           },
           {
            "x": 6.73145034925013,
            "y": 45.312423804419694
           },
           {
            "x": 6.74314128397922,
            "y": 45.46995437570492
           },
           {
            "x": 6.754832218708312,
            "y": 45.62775830289986
           },
           {
            "x": 6.766523153437403,
            "y": 45.78583558600445
           },
           {
            "x": 6.778214088166493,
            "y": 45.94418622501872
           },
           {
            "x": 6.789905022895583,
            "y": 46.10281021994267
           },
           {
            "x": 6.801595957624674,
            "y": 46.2617075707763
           },
           {
            "x": 6.813286892353766,
            "y": 46.420878277519634
           },
           {
            "x": 6.824977827082856,
            "y": 46.58032234017262
           },
           {
            "x": 6.836668761811946,
            "y": 46.74003975873529
           },
           {
            "x": 6.848359696541037,
            "y": 46.90003053320764
           },
           {
            "x": 6.860050631270127,
            "y": 47.060294663589666
           },
           {
            "x": 6.871741565999217,
            "y": 47.220832149881375
           },
           {
            "x": 6.8834325007283095,
            "y": 47.38164299208279
           },
           {
            "x": 6.8951234354574,
            "y": 47.54272719019386
           },
           {
            "x": 6.90681437018649,
            "y": 47.704084744214605
           },
           {
            "x": 6.9185053049155805,
            "y": 47.86571565414503
           },
           {
            "x": 6.930196239644671,
            "y": 48.027619919985135
           },
           {
            "x": 6.941887174373763,
            "y": 48.18979754173495
           },
           {
            "x": 6.953578109102853,
            "y": 48.352248519394415
           },
           {
            "x": 6.965269043831944,
            "y": 48.51497285296356
           },
           {
            "x": 6.976959978561034,
            "y": 48.67797054244238
           },
           {
            "x": 6.988650913290124,
            "y": 48.841241587830886
           },
           {
            "x": 7.000341848019216,
            "y": 49.0047859891291
           },
           {
            "x": 7.012032782748307,
            "y": 49.16860374633696
           },
           {
            "x": 7.023723717477397,
            "y": 49.332694859454506
           },
           {
            "x": 7.035414652206487,
            "y": 49.497059328481726
           },
           {
            "x": 7.047105586935578,
            "y": 49.66169715341863
           },
           {
            "x": 7.058796521664668,
            "y": 49.82660833426522
           },
           {
            "x": 7.07048745639376,
            "y": 49.9917928710215
           },
           {
            "x": 7.08217839112285,
            "y": 50.15725076368744
           },
           {
            "x": 7.093869325851941,
            "y": 50.32298201226307
           },
           {
            "x": 7.105560260581031,
            "y": 50.48898661674837
           },
           {
            "x": 7.117251195310121,
            "y": 50.65526457714335
           },
           {
            "x": 7.1289421300392135,
            "y": 50.82181589344804
           },
           {
            "x": 7.140633064768304,
            "y": 50.98864056566238
           },
           {
            "x": 7.152323999497394,
            "y": 51.1557385937864
           },
           {
            "x": 7.1640149342264845,
            "y": 51.3231099778201
           },
           {
            "x": 7.175705868955575,
            "y": 51.49075471776348
           },
           {
            "x": 7.187396803684667,
            "y": 51.65867281361657
           },
           {
            "x": 7.199087738413757,
            "y": 51.82686426537931
           },
           {
            "x": 7.210778673142848,
            "y": 51.99532907305173
           },
           {
            "x": 7.222469607871938,
            "y": 52.16406723663383
           },
           {
            "x": 7.234160542601028,
            "y": 52.3330787561256
           },
           {
            "x": 7.24585147733012,
            "y": 52.50236363152709
           },
           {
            "x": 7.257542412059211,
            "y": 52.671921862838225
           },
           {
            "x": 7.269233346788301,
            "y": 52.841753450059045
           },
           {
            "x": 7.280924281517391,
            "y": 53.01185839318954
           },
           {
            "x": 7.292615216246482,
            "y": 53.18223669222972
           },
           {
            "x": 7.304306150975572,
            "y": 53.35288834717957
           },
           {
            "x": 7.315997085704664,
            "y": 53.52381335803914
           },
           {
            "x": 7.3276880204337544,
            "y": 53.69501172480835
           },
           {
            "x": 7.339378955162845,
            "y": 53.86648344748725
           },
           {
            "x": 7.351069889891935,
            "y": 54.03822852607583
           },
           {
            "x": 7.362760824621025,
            "y": 54.21024696057408
           },
           {
            "x": 7.3744517593501175,
            "y": 54.38253875098204
           },
           {
            "x": 7.386142694079208,
            "y": 54.55510389729966
           },
           {
            "x": 7.397833628808298,
            "y": 54.72794239952695
           },
           {
            "x": 7.4095245635373885,
            "y": 54.90105425766393
           },
           {
            "x": 7.421215498266479,
            "y": 55.07443947171058
           },
           {
            "x": 7.432906432995571,
            "y": 55.24809804166694
           },
           {
            "x": 7.444597367724661,
            "y": 55.42202996753296
           },
           {
            "x": 7.456288302453752,
            "y": 55.59623524930865
           },
           {
            "x": 7.467979237182842,
            "y": 55.770713886994024
           },
           {
            "x": 7.479670171911932,
            "y": 55.945465880589076
           },
           {
            "x": 7.491361106641023,
            "y": 56.120491230093805
           },
           {
            "x": 7.503052041370115,
            "y": 56.295789935508246
           },
           {
            "x": 7.514742976099205,
            "y": 56.471361996832336
           },
           {
            "x": 7.526433910828295,
            "y": 56.64720741406611
           },
           {
            "x": 7.538124845557386,
            "y": 56.82332618720956
           },
           {
            "x": 7.549815780286476,
            "y": 56.999718316262694
           },
           {
            "x": 7.561506715015568,
            "y": 57.176383801225526
           },
           {
            "x": 7.5731976497446585,
            "y": 57.35332264209802
           },
           {
            "x": 7.584888584473749,
            "y": 57.530534838880186
           },
           {
            "x": 7.596579519202839,
            "y": 57.70802039157204
           },
           {
            "x": 7.6082704539319295,
            "y": 57.88577930017357
           },
           {
            "x": 7.619961388661022,
            "y": 58.063811564684805
           },
           {
            "x": 7.631652323390112,
            "y": 58.24211718510569
           },
           {
            "x": 7.643343258119202,
            "y": 58.42069616143626
           },
           {
            "x": 7.655034192848293,
            "y": 58.59954849367651
           },
           {
            "x": 7.666725127577383,
            "y": 58.77867418182644
           },
           {
            "x": 7.678416062306475,
            "y": 58.958073225886075
           },
           {
            "x": 7.690106997035565,
            "y": 59.13774562585536
           },
           {
            "x": 7.701797931764656,
            "y": 59.31769138173433
           },
           {
            "x": 7.713488866493746,
            "y": 59.49791049352297
           },
           {
            "x": 7.725179801222836,
            "y": 59.6784029612213
           },
           {
            "x": 7.736870735951927,
            "y": 59.85916878482931
           },
           {
            "x": 7.748561670681019,
            "y": 60.04020796434702
           },
           {
            "x": 7.760252605410109,
            "y": 60.221520499774385
           },
           {
            "x": 7.771943540139199,
            "y": 60.40310639111143
           },
           {
            "x": 7.78363447486829,
            "y": 60.584965638358156
           },
           {
            "x": 7.79532540959738,
            "y": 60.76709824151456
           },
           {
            "x": 7.807016344326472,
            "y": 60.94950420058068
           },
           {
            "x": 7.8187072790555625,
            "y": 61.132183515556434
           },
           {
            "x": 7.830398213784653,
            "y": 61.31513618644188
           },
           {
            "x": 7.842089148513743,
            "y": 61.49836221323701
           },
           {
            "x": 7.8537800832428335,
            "y": 61.68186159594181
           },
           {
            "x": 7.865471017971926,
            "y": 61.86563433455632
           },
           {
            "x": 7.877161952701016,
            "y": 62.04968042908048
           },
           {
            "x": 7.888852887430106,
            "y": 62.23399987951432
           },
           {
            "x": 7.900543822159197,
            "y": 62.418592685857845
           },
           {
            "x": 7.912234756888287,
            "y": 62.603458848111046
           },
           {
            "x": 7.923925691617379,
            "y": 62.78859836627396
           },
           {
            "x": 7.935616626346469,
            "y": 62.97401124034652
           },
           {
            "x": 7.94730756107556,
            "y": 63.15969747032876
           },
           {
            "x": 7.95899849580465,
            "y": 63.34565705622068
           },
           {
            "x": 7.97068943053374,
            "y": 63.53188999802228
           }
          ]
         },
         "encoding": {
          "x": {
           "field": "x",
           "type": "quantitative"
          },
          "y": {
           "field": "y",
           "type": "quantitative"
          }
         },
         "mark": {
          "color": "black",
          "opacity": 0.2,
          "type": "line"
         }
        },
        {
         "data": {
          "values": [
           {
            "x": -1.6028684125374069,
            "y": 0
           },
           {
            "x": 2.1078357041864213,
            "y": 0
           },
           {
            "x": 2.697223048521572,
            "y": 0
           },
           {
            "x": 1.7120782699506356,
            "y": 0
           },
           {
            "x": 4.886669101878503,
            "y": 0
           },
           {
            "x": 1.3726935923915558,
            "y": 0
           },
           {
            "x": 1.4158674944698237,
            "y": 0
           },
           {
            "x": 2.171083479997029,
            "y": 0
           },
           {
            "x": 4.394331014502335,
            "y": 0
           },
           {
            "x": 6.329876038335328,
            "y": 0
           },
           {
            "x": 3.882764477014482,
            "y": 0
           },
           {
            "x": 2.2269128589368337,
            "y": 0
           },
           {
            "x": 0.8792003036749383,
            "y": 0
           },
           {
            "x": -0.8218969457018059,
            "y": 0
           },
           {
            "x": 2.9416453211042244,
            "y": 0
           },
           {
            "x": 3.5238848060750314,
            "y": 0
           },
           {
            "x": 3.0740338070375657,
            "y": 0
           },
           {
            "x": 3.548819305429971,
            "y": 0
           },
           {
            "x": 2.0208895923565056,
            "y": 0
           },
           {
            "x": 4.902072596270958,
            "y": 0
           },
           {
            "x": 0.8938795859375586,
            "y": 0
           },
           {
            "x": 3.751140763891665,
            "y": 0
           },
           {
            "x": 1.8070300566479855,
            "y": 0
           },
           {
            "x": 3.2765624418579415,
            "y": 0
           },
           {
            "x": 1.730873494434436,
            "y": 0
           },
           {
            "x": 1.5344194580357784,
            "y": 0
           },
           {
            "x": 3.079466515316702,
            "y": 0
           },
           {
            "x": -0.10262840555954211,
            "y": 0
           },
           {
            "x": 2.651014206513688,
            "y": 0
           },
           {
            "x": 1.7609742326990414,
            "y": 0
           },
           {
            "x": 4.684907998665025,
            "y": 0
           },
           {
            "x": -0.48337016001066146,
            "y": 0
           },
           {
            "x": 2.0648708721078406,
            "y": 0
           },
           {
            "x": 4.467286857948465,
            "y": 0
           },
           {
            "x": 1.3935034209000217,
            "y": 0
           },
           {
            "x": 5.942809049722772,
            "y": 0
           },
           {
            "x": 1.453735408552706,
            "y": 0
           },
           {
            "x": 6.6791679682638145,
            "y": 0
           },
           {
            "x": 0.7040412916027639,
            "y": 0
           },
           {
            "x": 4.568927688740086,
            "y": 0
           },
           {
            "x": 1.6228657695539899,
            "y": 0
           },
           {
            "x": 2.358911777425005,
            "y": 0
           },
           {
            "x": -0.12371768125483307,
            "y": 0
           },
           {
            "x": 2.097428412082026,
            "y": 0
           },
           {
            "x": 4.153935899866047,
            "y": 0
           },
           {
            "x": 0.2901994896767026,
            "y": 0
           },
           {
            "x": 2.9010714349938485,
            "y": 0
           },
           {
            "x": 1.4535501303169849,
            "y": 0
           },
           {
            "x": -1.0367244629515313,
            "y": 0
           },
           {
            "x": 0.36311749373237046,
            "y": 0
           },
           {
            "x": 1.5577023941161867,
            "y": 0
           },
           {
            "x": 5.054541838959957,
            "y": 0
           },
           {
            "x": 0.09311126806171899,
            "y": 0
           },
           {
            "x": 2.603574926432408,
            "y": 0
           },
           {
            "x": 2.0893043854059035,
            "y": 0
           },
           {
            "x": 4.063983656693631,
            "y": 0
           },
           {
            "x": -1.3620616970200965,
            "y": 0
           },
           {
            "x": 4.6083222736173095,
            "y": 0
           },
           {
            "x": 2.965964556721175,
            "y": 0
           },
           {
            "x": 2.089766292049508,
            "y": 0
           },
           {
            "x": 0.6708776115646353,
            "y": 0
           },
           {
            "x": 1.2468233521684997,
            "y": 0
           },
           {
            "x": 2.745069897974514,
            "y": 0
           },
           {
            "x": 2.7419532107078997,
            "y": 0
           },
           {
            "x": 0.39633523025436235,
            "y": 0
           },
           {
            "x": 0.9992400168386057,
            "y": 0
           },
           {
            "x": 1.2192692120273192,
            "y": 0
           },
           {
            "x": 1.6131672433277204,
            "y": 0
           },
           {
            "x": 0.28463546351908287,
            "y": 0
           },
           {
            "x": -2.557338353222389,
            "y": 0
           },
           {
            "x": 0.9630389412394242,
            "y": 0
           },
           {
            "x": 1.610512852535723,
            "y": 0
           },
           {
            "x": 1.4526167338417126,
            "y": 0
           },
           {
            "x": 2.0780844829658225,
            "y": 0
           },
           {
            "x": 4.7039582615421605,
            "y": 0
           },
           {
            "x": 1.0582583684647917,
            "y": 0
           },
           {
            "x": 3.6392803158927522,
            "y": 0
           },
           {
            "x": 0.034702927874199485,
            "y": 0
           },
           {
            "x": 0.6162550391303634,
            "y": 0
           },
           {
            "x": 3.493574773157105,
            "y": 0
           },
           {
            "x": 8.278885986365356,
            "y": 0
           },
           {
            "x": 3.5541432129732584,
            "y": 0
           },
           {
            "x": 2.4158186528881127,
            "y": 0
           },
           {
            "x": 0.21854916782746026,
            "y": 0
           },
           {
            "x": -0.4719454930806899,
            "y": 0
           },
           {
            "x": 2.564104472819493,
            "y": 0
           },
           {
            "x": 0.3197451892357752,
            "y": 0
           },
           {
            "x": 2.153006576692848,
            "y": 0
           },
           {
            "x": 3.493628692008549,
            "y": 0
           },
           {
            "x": 1.03580417212918,
            "y": 0
           },
           {
            "x": 2.154082220032609,
            "y": 0
           },
           {
            "x": 5.597219081977833,
            "y": 0
           },
           {
            "x": 0.08627639354379157,
            "y": 0
           },
           {
            "x": 0.5557591743166814,
            "y": 0
           },
           {
            "x": 5.205189044461532,
            "y": 0
           },
           {
            "x": 4.363389198529594,
            "y": 0
           },
           {
            "x": 0.19931751367574346,
            "y": 0
           },
           {
            "x": 4.996937409845206,
            "y": 0
           },
           {
            "x": 2.1275715196606924,
            "y": 0
           },
           {
            "x": 3.088937204454707,
            "y": 0
           },
           {
            "x": 4.144722976573956,
            "y": 0
           },
           {
            "x": 3.613299918127507,
            "y": 0
           },
           {
            "x": 1.7395522207830738,
            "y": 0
           },
           {
            "x": 5.232289289644369,
            "y": 0
           },
           {
            "x": 7.842557578916358,
            "y": 0
           },
           {
            "x": 3.4168107997577977,
            "y": 0
           },
           {
            "x": 2.5061314635066703,
            "y": 0
           },
           {
            "x": 4.118612449603278,
            "y": 0
           },
           {
            "x": 0.9226461469327298,
            "y": 0
           },
           {
            "x": 3.099202397469208,
            "y": 0
           },
           {
            "x": 4.386521349495133,
            "y": 0
           },
           {
            "x": -0.2714166409801142,
            "y": 0
           },
           {
            "x": 1.5935436495369988,
            "y": 0
           },
           {
            "x": 2.236136598214916,
            "y": 0
           },
           {
            "x": 2.151063573674255,
            "y": 0
           },
           {
            "x": 2.6817742657266126,
            "y": 0
           },
           {
            "x": 1.563979849444149,
            "y": 0
           },
           {
            "x": 3.443847522100002,
            "y": 0
           },
           {
            "x": 0.9144729121884883,
            "y": 0
           },
           {
            "x": 4.181197081899773,
            "y": 0
           },
           {
            "x": 4.035214777042576,
            "y": 0
           },
           {
            "x": 0.6109046698091158,
            "y": 0
           },
           {
            "x": 1.0463028029402446,
            "y": 0
           },
           {
            "x": 2.9283916469829205,
            "y": 0
           },
           {
            "x": 2.4756830743675686,
            "y": 0
           },
           {
            "x": 3.181894491793361,
            "y": 0
           },
           {
            "x": 1.066361673922316,
            "y": 0
           },
           {
            "x": -0.7877839647807594,
            "y": 0
           },
           {
            "x": 3.0170981926945126,
            "y": 0
           },
           {
            "x": 2.6411886382030034,
            "y": 0
           },
           {
            "x": 3.023379258990998,
            "y": 0
           },
           {
            "x": 4.780561696950485,
            "y": 0
           },
           {
            "x": 3.545459692210196,
            "y": 0
           },
           {
            "x": 4.396761202598137,
            "y": 0
           },
           {
            "x": -1.2768731831526838,
            "y": 0
           },
           {
            "x": 2.282881352415173,
            "y": 0
           },
           {
            "x": 3.7483234946741995,
            "y": 0
           },
           {
            "x": 0.43280984026832536,
            "y": 0
           },
           {
            "x": 2.2708477040009565,
            "y": 0
           },
           {
            "x": 0.8923055744482382,
            "y": 0
           },
           {
            "x": -0.14701941948736597,
            "y": 0
           },
           {
            "x": 6.933886160749208,
            "y": 0
           },
           {
            "x": 1.9518385629843378,
            "y": 0
           },
           {
            "x": 3.1171735871953814,
            "y": 0
           },
           {
            "x": 2.4382848328475397,
            "y": 0
           },
           {
            "x": 3.929481883198166,
            "y": 0
           },
           {
            "x": 3.3583575345923578,
            "y": 0
           },
           {
            "x": 3.0785447616404285,
            "y": 0
           },
           {
            "x": -0.5738366001731658,
            "y": 0
           },
           {
            "x": 6.14742520945462,
            "y": 0
           },
           {
            "x": 3.232638989973126,
            "y": 0
           },
           {
            "x": 3.1210679002422066,
            "y": 0
           },
           {
            "x": 0.6770877801342805,
            "y": 0
           },
           {
            "x": 2.7224638122544724,
            "y": 0
           },
           {
            "x": 1.1230985665280284,
            "y": 0
           },
           {
            "x": 1.9921389252868522,
            "y": 0
           },
           {
            "x": 2.5456849646419237,
            "y": 0
           },
           {
            "x": 1.0495348318030908,
            "y": 0
           },
           {
            "x": 2.007375874522973,
            "y": 0
           },
           {
            "x": 0.099220594567488,
            "y": 0
           },
           {
            "x": 8.372335223097098,
            "y": 0
           },
           {
            "x": 2.8481106912515144,
            "y": 0
           },
           {
            "x": 1.0494728392480073,
            "y": 0
           },
           {
            "x": 5.097697769495156,
            "y": 0
           },
           {
            "x": 7.232453289085483,
            "y": 0
           },
           {
            "x": 1.4807280035710064,
            "y": 0
           },
           {
            "x": 1.4337735287609308,
            "y": 0
           },
           {
            "x": 3.6838412941352487,
            "y": 0
           },
           {
            "x": 3.3762930416237005,
            "y": 0
           },
           {
            "x": 0.43719955546147204,
            "y": 0
           },
           {
            "x": 7.154916658910604,
            "y": 0
           },
           {
            "x": 3.348702788841166,
            "y": 0
           },
           {
            "x": 1.866531318450851,
            "y": 0
           },
           {
            "x": 2.125326761315986,
            "y": 0
           },
           {
            "x": 2.003179838923182,
            "y": 0
           },
           {
            "x": 6.745618697656053,
            "y": 0
           },
           {
            "x": 4.360996902485916,
            "y": 0
           },
           {
            "x": -0.8529022638509396,
            "y": 0
           },
           {
            "x": 4.336781942373472,
            "y": 0
           },
           {
            "x": 1.592816887439613,
            "y": 0
           },
           {
            "x": 6.726788776699688,
            "y": 0
           },
           {
            "x": 0.994881322064811,
            "y": 0
           },
           {
            "x": 4.602609299248739,
            "y": 0
           },
           {
            "x": 5.340394219506345,
            "y": 0
           },
           {
            "x": 5.160358937481881,
            "y": 0
           },
           {
            "x": 1.8897330150302585,
            "y": 0
           },
           {
            "x": 3.2889139850616655,
            "y": 0
           },
           {
            "x": 4.586935643453957,
            "y": 0
           },
           {
            "x": 2.098635199518641,
            "y": 0
           },
           {
            "x": -3.233927925003842,
            "y": 0
           },
           {
            "x": 4.915927673752602,
            "y": 0
           },
           {
            "x": 3.8082927825525266,
            "y": 0
           },
           {
            "x": 5.130306185772705,
            "y": 0
           },
           {
            "x": 3.3743326958557445,
            "y": 0
           },
           {
            "x": 7.0716729540701735,
            "y": 0
           },
           {
            "x": 2.715459297437403,
            "y": 0
           },
           {
            "x": 3.4079746585876083,
            "y": 0
           },
           {
            "x": 2.4776661097408095,
            "y": 0
           },
           {
            "x": -1.0435276000318274,
            "y": 0
           },
           {
            "x": 3.3457666494861407,
            "y": 0
           },
           {
            "x": 2.716317990971593,
            "y": 0
           },
           {
            "x": 3.884091327394895,
            "y": 0
           },
           {
            "x": 5.613933969845258,
            "y": 0
           },
           {
            "x": 1.5771242991658398,
            "y": 0
           },
           {
            "x": 0.6751360567063827,
            "y": 0
           },
           {
            "x": 0.8931712120459285,
            "y": 0
           },
           {
            "x": 1.2814023500541485,
            "y": 0
           },
           {
            "x": 2.963414057690608,
            "y": 0
           },
           {
            "x": 2.383070712529973,
            "y": 0
           },
           {
            "x": 3.463882197660455,
            "y": 0
           },
           {
            "x": 3.205616417120364,
            "y": 0
           },
           {
            "x": 3.4410403411272625,
            "y": 0
           },
           {
            "x": 0.40660746131669345,
            "y": 0
           },
           {
            "x": 3.097981776852872,
            "y": 0
           },
           {
            "x": 1.7073411391098499,
            "y": 0
           },
           {
            "x": 0.5180359654237914,
            "y": 0
           },
           {
            "x": 2.963866106456241,
            "y": 0
           },
           {
            "x": 4.996759025299699,
            "y": 0
           },
           {
            "x": 0.02962505257720416,
            "y": 0
           },
           {
            "x": 1.4559178192740603,
            "y": 0
           },
           {
            "x": 1.819247582215608,
            "y": 0
           },
           {
            "x": 3.1691275096002247,
            "y": 0
           },
           {
            "x": 3.322096486232887,
            "y": 0
           },
           {
            "x": 2.9846955957562735,
            "y": 0
           },
           {
            "x": 3.1848337349189846,
            "y": 0
           },
           {
            "x": 3.5869206689562736,
            "y": 0
           },
           {
            "x": -0.8169088427206228,
            "y": 0
           },
           {
            "x": 0.34820687424686225,
            "y": 0
           },
           {
            "x": 5.780224873711029,
            "y": 0
           },
           {
            "x": 5.449328095412694,
            "y": 0
           },
           {
            "x": 5.416147818892734,
            "y": 0
           },
           {
            "x": 1.068486699663975,
            "y": 0
           },
           {
            "x": 0.6209954434722791,
            "y": 0
           },
           {
            "x": -0.1333716428427305,
            "y": 0
           },
           {
            "x": 2.012900375998659,
            "y": 0
           },
           {
            "x": 2.05857285121148,
            "y": 0
           },
           {
            "x": 4.412194930097952,
            "y": 0
           },
           {
            "x": 2.503006367249432,
            "y": 0
           },
           {
            "x": -0.034497540837640894,
            "y": 0
           },
           {
            "x": 2.8667719375163694,
            "y": 0
           },
           {
            "x": 2.1319660256882735,
            "y": 0
           },
           {
            "x": -2.387583186992228,
            "y": 0
           },
           {
            "x": 1.4157532183963233,
            "y": 0
           },
           {
            "x": 2.594660068131045,
            "y": 0
           },
           {
            "x": 5.958878763897438,
            "y": 0
           },
           {
            "x": 6.040433122050549,
            "y": 0
           },
           {
            "x": 1.102977533449313,
            "y": 0
           },
           {
            "x": 1.5851414538269928,
            "y": 0
           },
           {
            "x": 1.0250691521764395,
            "y": 0
           },
           {
            "x": 3.5542640090627016,
            "y": 0
           },
           {
            "x": 4.90951932658559,
            "y": 0
           },
           {
            "x": -0.6361549211344166,
            "y": 0
           },
           {
            "x": -0.36165331873250706,
            "y": 0
           },
           {
            "x": -1.6876973326039888,
            "y": 0
           },
           {
            "x": 2.375300575150764,
            "y": 0
           },
           {
            "x": 4.079681873405453,
            "y": 0
           },
           {
            "x": 0.6366147232020534,
            "y": 0
           },
           {
            "x": 0.8159885833921467,
            "y": 0
           },
           {
            "x": 2.2256883553947526,
            "y": 0
           },
           {
            "x": 2.5241677998019605,
            "y": 0
           },
           {
            "x": 4.976669525522596,
            "y": 0
           },
           {
            "x": 4.200114208440562,
            "y": 0
           },
           {
            "x": 2.2015678049299865,
            "y": 0
           },
           {
            "x": 3.030714187457652,
            "y": 0
           },
           {
            "x": -0.7570034456615842,
            "y": 0
           },
           {
            "x": 1.8974063591194028,
            "y": 0
           },
           {
            "x": 4.705208043136364,
            "y": 0
           },
           {
            "x": 1.8288652664229874,
            "y": 0
           },
           {
            "x": 4.874878960634371,
            "y": 0
           },
           {
            "x": 3.3574838315668476,
            "y": 0
           },
           {
            "x": 1.6792629698523123,
            "y": 0
           },
           {
            "x": 5.300121497933194,
            "y": 0
           },
           {
            "x": -1.3570492100258358,
            "y": 0
           },
           {
            "x": 0.2116728529561276,
            "y": 0
           },
           {
            "x": 1.6630351316963268,
            "y": 0
           },
           {
            "x": 3.478679714960029,
            "y": 0
           },
           {
            "x": 2.9976102800869917,
            "y": 0
           },
           {
            "x": 5.634283166251894,
            "y": 0
           },
           {
            "x": 4.5691622623395265,
            "y": 0
           },
           {
            "x": 1.6815424609102727,
            "y": 0
           },
           {
            "x": 6.657229238603762,
            "y": 0
           },
           {
            "x": 0.8345370011837614,
            "y": 0
           },
           {
            "x": 4.519465515070909,
            "y": 0
           },
           {
            "x": -1.8382601299313697,
            "y": 0
           },
           {
            "x": 1.7802339338789506,
            "y": 0
           },
           {
            "x": 3.849058718815546,
            "y": 0
           },
           {
            "x": 0.30895457039858387,
            "y": 0
           },
           {
            "x": 3.8089335518079652,
            "y": 0
           },
           {
            "x": 3.327773714207778,
            "y": 0
           },
           {
            "x": 1.3600733352426375,
            "y": 0
           },
           {
            "x": 0.2275415329092887,
            "y": 0
           },
           {
            "x": 4.33636200210526,
            "y": 0
           },
           {
            "x": 2.512753341812225,
            "y": 0
           },
           {
            "x": 6.555091694257798,
            "y": 0
           },
           {
            "x": 3.3840215270884375,
            "y": 0
           },
           {
            "x": 4.46525607030016,
            "y": 0
           },
           {
            "x": 1.022638796479314,
            "y": 0
           },
           {
            "x": 0.36895671843936917,
            "y": 0
           },
           {
            "x": 2.5919141047484318,
            "y": 0
           },
           {
            "x": 3.8189248533848597,
            "y": 0
           }
          ]
         },
         "encoding": {
          "x": {
           "field": "x",
           "type": "quantitative"
          },
          "y": {
           "field": "y",
           "type": "quantitative"
          }
         },
         "mark": {
          "opacity": 0.4,
          "size": 20,
          "type": "point"
         }
        },
        {
         "data": {
          "values": [
           {
            "x": 4.938193639805529,
            "y": 24.385756424215774
           },
           {
            "x": 4.899578378619484,
            "y": 24.005868288235533
           },
           {
            "x": 0.8267639992880054,
            "y": 0.683538710518697
           },
           {
            "x": 2.8124477744818335,
            "y": 7.909862484187818
           },
           {
            "x": 3.6443475769659224,
            "y": 13.281269261737389
           },
           {
            "x": 2.0671813462071364,
            "y": 4.273238718106749
           },
           {
            "x": 3.8173325162792953,
            "y": 14.572027539843216
           },
           {
            "x": 1.9833427152908905,
            "y": 3.933648326297442
           },
           {
            "x": 4.199600093697802,
            "y": 17.636640946986585
           },
           {
            "x": -1.6853074492307618,
            "y": 2.840261198432697
           },
           {
            "x": 2.6088552313260758,
            "y": 6.8061256180174325
           },
           {
            "x": 2.3376266953025677,
            "y": 5.464498566591204
           },
           {
            "x": 2.895145767792634,
            "y": 8.3818690167676
           },
           {
            "x": 4.583174475813711,
            "y": 21.00548827575028
           },
           {
            "x": 3.055854133503807,
            "y": 9.338244485252304
           },
           {
            "x": -2.044252143677226,
            "y": 4.178966826928933
           },
           {
            "x": 1.3766952716894716,
            "y": 1.895289871092148
           },
           {
            "x": 4.844776948128544,
            "y": 23.471863677117728
           },
           {
            "x": 2.8053625112790743,
            "y": 7.870058819690034
           },
           {
            "x": 3.0266457984685817,
            "y": 9.160584789387519
           },
           {
            "x": 0.23009910203177153,
            "y": 0.052945596755827606
           },
           {
            "x": 2.720966839182151,
            "y": 7.403660539928906
           },
           {
            "x": 4.003202585576407,
            "y": 16.02563094116563
           },
           {
            "x": 3.7958548033489903,
            "y": 14.408513688107602
           },
           {
            "x": 3.568558160599033,
            "y": 12.734607345577954
           },
           {
            "x": 4.102360398176825,
            "y": 16.829360836529517
           },
           {
            "x": 6.315932625188001,
            "y": 39.891004925914196
           },
           {
            "x": 7.31858348638142,
            "y": 53.56166424713482
           },
           {
            "x": 1.8743987658265295,
            "y": 3.513370733332017
           },
           {
            "x": -0.43388027924519124,
            "y": 0.18825209671788512
           },
           {
            "x": 2.658899168541681,
            "y": 7.069744788471643
           },
           {
            "x": 1.5479786580288009,
            "y": 2.396237925712647
           },
           {
            "x": 7.300792822187572,
            "y": 53.30157583250557
           },
           {
            "x": 5.101519747280934,
            "y": 26.02550373189732
           },
           {
            "x": 4.985853553925496,
            "y": 24.858735661191503
           },
           {
            "x": -1.0288133640009942,
            "y": 1.0584569379470423
           },
           {
            "x": 1.8532001153520263,
            "y": 3.434350667540764
           },
           {
            "x": 2.7139248615222713,
            "y": 7.36538815398868
           },
           {
            "x": -2.431273923896142,
            "y": 5.911092893017343
           },
           {
            "x": 1.8583841687993732,
            "y": 3.453591718844137
           },
           {
            "x": 3.374462611458143,
            "y": 11.38699791612891
           },
           {
            "x": 6.456498100136438,
            "y": 41.68636771706543
           },
           {
            "x": 6.030565456004998,
            "y": 36.367719719160775
           },
           {
            "x": 2.242252602280904,
            "y": 5.027696732435485
           },
           {
            "x": 4.975090013471297,
            "y": 24.751520642141827
           },
           {
            "x": 7.077250698620153,
            "y": 50.08747745111945
           },
           {
            "x": 1.9547811787887972,
            "y": 3.8211694569469197
           },
           {
            "x": 5.87010054654143,
            "y": 34.458080426505994
           },
           {
            "x": 4.67089975989445,
            "y": 21.81730456698203
           },
           {
            "x": 3.609465455088192,
            "y": 13.02824087147501
           },
           {
            "x": 7.563693100534961,
            "y": 57.20945331908017
           },
           {
            "x": 3.3164525765614368,
            "y": 10.998857692580993
           },
           {
            "x": -1.9220579483191047,
            "y": 3.6943067566966463
           },
           {
            "x": 0.2813849701194253,
            "y": 0.07917750140910988
           },
           {
            "x": 1.08669320432769,
            "y": 1.1809021203319827
           },
           {
            "x": 2.9916994874117506,
            "y": 8.950265822979732
           },
           {
            "x": 3.307638859023671,
            "y": 10.940474821723413
           },
           {
            "x": 0.671015967835574,
            "y": 0.45026242909031217
           },
           {
            "x": -0.10968153509083889,
            "y": 0.012030039139882922
           },
           {
            "x": 4.080994985387708,
            "y": 16.654520070759617
           },
           {
            "x": 2.5446885711974074,
            "y": 6.4754399243827026
           },
           {
            "x": 4.25302591776893,
            "y": 18.08822945721425
           },
           {
            "x": 3.8247328932047693,
            "y": 14.628581704362524
           },
           {
            "x": 0.6396405180194236,
            "y": 0.40913999229215653
           },
           {
            "x": 3.882946909245543,
            "y": 15.077276700019514
           },
           {
            "x": 7.69999347586365,
            "y": 59.28989952834277
           },
           {
            "x": 5.893792372965736,
            "y": 34.73678853562908
           },
           {
            "x": 0.4929593536553254,
            "y": 0.24300892435627616
           },
           {
            "x": 0.1606323948964672,
            "y": 0.02580276629017458
           },
           {
            "x": 6.9363512857600576,
            "y": 48.1129691594652
           },
           {
            "x": 2.856802615452467,
            "y": 8.161321183656055
           },
           {
            "x": 3.9640230556661855,
            "y": 15.713478785853082
           },
           {
            "x": 2.262927339194787,
            "y": 5.120840142475198
           },
           {
            "x": 2.2498248768348104,
            "y": 5.061711976424769
           },
           {
            "x": 3.031307079164109,
            "y": 9.188822608190442
           },
           {
            "x": 4.138629204596698,
            "y": 17.128251693140694
           },
           {
            "x": 1.6399141421280032,
            "y": 2.689318393551425
           },
           {
            "x": 2.5964477449015084,
            "y": 6.741540892004129
           },
           {
            "x": 3.2003108400335387,
            "y": 10.241989472836174
           },
           {
            "x": 1.2552595097353632,
            "y": 1.5756764367810643
           },
           {
            "x": 5.520469373277397,
            "y": 30.475582101293735
           },
           {
            "x": 3.552823176584397,
            "y": 12.622552524075244
           },
           {
            "x": 2.3692756107818713,
            "y": 5.613466919845809
           },
           {
            "x": 3.0837746277495794,
            "y": 9.509665954752057
           },
           {
            "x": 5.832549809899424,
            "y": 34.01863728495781
           },
           {
            "x": 3.5071069543185867,
            "y": 12.299799189029793
           },
           {
            "x": -1.2836954902985487,
            "y": 1.6478741118128313
           },
           {
            "x": 5.434994242913762,
            "y": 29.539162420505733
           },
           {
            "x": 1.6106727561761724,
            "y": 2.5942667274881477
           },
           {
            "x": 0.6918949149133551,
            "y": 0.47871857328295886
           },
           {
            "x": 3.7816694040258287,
            "y": 14.301023481345066
           },
           {
            "x": -1.0668865729378547,
            "y": 1.1382469595150804
           },
           {
            "x": 2.07521135480297,
            "y": 4.3065021671031785
           },
           {
            "x": 0.10308935564473032,
            "y": 0.01062741524724569
           },
           {
            "x": 2.5117710942262303,
            "y": 6.308994029790434
           },
           {
            "x": -3.7035865283878655,
            "y": 13.716553173256083
           },
           {
            "x": 4.205772894619227,
            "y": 17.68852564111379
           },
           {
            "x": 1.9097038952321292,
            "y": 3.646968967464767
           },
           {
            "x": 0.3710293761559247,
            "y": 0.13766279797065464
           },
           {
            "x": 1.2655488055580222,
            "y": 1.6016137792493366
           },
           {
            "x": 4.325815951169352,
            "y": 18.712683643391202
           },
           {
            "x": 3.7362004113427694,
            "y": 13.95919351371788
           },
           {
            "x": 3.1940240578726344,
            "y": 10.20178968226917
           },
           {
            "x": -1.2938420023993538,
            "y": 1.6740271271727694
           },
           {
            "x": 2.4927009595662533,
            "y": 6.21355807382252
           },
           {
            "x": 3.2711536619447323,
            "y": 10.700446280054432
           },
           {
            "x": 3.1511984194422764,
            "y": 9.930051478695502
           },
           {
            "x": 6.542692615269792,
            "y": 42.80682665790587
           },
           {
            "x": 2.1513356641217944,
            "y": 4.628245139722362
           },
           {
            "x": -1.7570706465732302,
            "y": 3.0872972570492694
           },
           {
            "x": 3.77564877581204,
            "y": 14.255523678290954
           },
           {
            "x": 2.8082954265318754,
            "y": 7.8865232026798475
           },
           {
            "x": 5.072686164153717,
            "y": 25.732144919996554
           },
           {
            "x": 2.015479956363558,
            "y": 4.0621594545032504
           },
           {
            "x": 2.3569223847755603,
            "y": 5.555083127856114
           },
           {
            "x": 0.1439511371563018,
            "y": 0.020721929888592415
           },
           {
            "x": 6.656993810507328,
            "y": 44.31556659313287
           },
           {
            "x": 3.2646052623621937,
            "y": 10.657647519042929
           },
           {
            "x": 1.7364257435047874,
            "y": 3.0151743627061536
           },
           {
            "x": -1.7328492251328829,
            "y": 3.0027664370436327
           },
           {
            "x": 4.498582948095424,
            "y": 20.237248540894917
           },
           {
            "x": 4.278418346365109,
            "y": 18.304863546513555
           },
           {
            "x": -0.6934259028282979,
            "y": 0.48083948271324
           },
           {
            "x": 2.901084254077336,
            "y": 8.416289849255453
           },
           {
            "x": -1.3529524115344067,
            "y": 1.8304802278767667
           },
           {
            "x": 2.119165737287865,
            "y": 4.490863422094821
           },
           {
            "x": 1.6211465549186002,
            "y": 2.628116152524446
           },
           {
            "x": 1.9025680559857114,
            "y": 3.6197652076572493
           },
           {
            "x": 0.700256832548575,
            "y": 0.49035963153096296
           },
           {
            "x": 0.8493773094550388,
            "y": 0.7214418138170806
           },
           {
            "x": 2.129554318884644,
            "y": 4.535001597080241
           },
           {
            "x": 2.2189162269911304,
            "y": 4.923589222404554
           },
           {
            "x": -3.2810377081176982,
            "y": 10.765208442090238
           },
           {
            "x": 3.7592737999460244,
            "y": 14.132139502960621
           },
           {
            "x": 0.4181867204252141,
            "y": 0.17488013313999617
           },
           {
            "x": 3.9330033568745333,
            "y": 15.468515405186347
           },
           {
            "x": 4.038562199549163,
            "y": 16.30998463962737
           },
           {
            "x": 4.543547320409742,
            "y": 20.643822252802543
           },
           {
            "x": 6.986579514421968,
            "y": 48.8122933113407
           },
           {
            "x": 3.1696131638637155,
            "y": 10.046447608538152
           },
           {
            "x": 0.376578215492263,
            "y": 0.14181115238333727
           },
           {
            "x": 6.545634637311658,
            "y": 42.845332805174124
           },
           {
            "x": 4.0304911260751854,
            "y": 16.244858717370818
           },
           {
            "x": 2.6909876592828743,
            "y": 7.241414582412723
           },
           {
            "x": 2.1958602794144992,
            "y": 4.8218023667103225
           },
           {
            "x": -0.5026563266317123,
            "y": 0.2526633827028867
           },
           {
            "x": 6.0988142314610005,
            "y": 37.19553502987124
           },
           {
            "x": -0.004692844348861858,
            "y": 2.2022788082644672e-05
           },
           {
            "x": 3.1331905052799427,
            "y": 9.816882742376382
           },
           {
            "x": 1.2166990920146945,
            "y": 1.480356680509382
           },
           {
            "x": 6.391478318267627,
            "y": 40.85099509288517
           },
           {
            "x": -0.13052505367786038,
            "y": 0.017036789637608334
           },
           {
            "x": 2.4821593001856384,
            "y": 6.161114791498058
           },
           {
            "x": 2.5568427995881886,
            "y": 6.537445101805966
           },
           {
            "x": 0.7687208157198449,
            "y": 0.5909316925209837
           },
           {
            "x": 6.017179195289459,
            "y": 36.2064454682243
           },
           {
            "x": 0.6020680312163085,
            "y": 0.3624859142126818
           },
           {
            "x": 1.9764252953846397,
            "y": 3.9062569482362606
           },
           {
            "x": 1.6418129320076282,
            "y": 2.695549703707485
           },
           {
            "x": -1.300935882950982,
            "y": 1.6924341715494513
           },
           {
            "x": 0.2634809907843909,
            "y": 0.06942223250472429
           },
           {
            "x": 2.7185785109900533,
            "y": 7.390669120416895
           },
           {
            "x": 2.4915641346482724,
            "y": 6.207891837065595
           },
           {
            "x": 1.821513820799995,
            "y": 3.317912599365396
           },
           {
            "x": 1.7038322583240413,
            "y": 2.9030443645056025
           },
           {
            "x": 5.562156013894818,
            "y": 30.937579522906287
           },
           {
            "x": 2.356340226035865,
            "y": 5.552339260834751
           },
           {
            "x": 3.899208928919453,
            "y": 15.20383027136519
           },
           {
            "x": 3.1237453096709027,
            "y": 9.757784759690963
           },
           {
            "x": 1.650862535458043,
            "y": 2.7253471109789587
           },
           {
            "x": 2.4833241663290013,
            "y": 6.166898915073629
           },
           {
            "x": 2.8090501619788277,
            "y": 7.8907628125132785
           },
           {
            "x": 3.578902358333366,
            "y": 12.808542090484128
           },
           {
            "x": 1.6006747534394195,
            "y": 2.562159666298346
           },
           {
            "x": 7.97068943053374,
            "y": 63.53188999802228
           },
           {
            "x": 2.6452835313928804,
            "y": 6.997524961458388
           },
           {
            "x": 3.7470373509079336,
            "y": 14.040288909099145
           },
           {
            "x": 5.044459454336788,
            "y": 25.44657118644781
           },
           {
            "x": 5.048716495709916,
            "y": 25.489538254053418
           },
           {
            "x": 3.3068683640161716,
            "y": 10.935378376930991
           },
           {
            "x": 3.1316384748354995,
            "y": 9.807159537070014
           },
           {
            "x": 2.66955676753225,
            "y": 7.126533335077235
           },
           {
            "x": 0.8603921172463993,
            "y": 0.7402745954197417
           },
           {
            "x": 6.040188875326991,
            "y": 36.48388164962394
           },
           {
            "x": 1.5950949336330695,
            "y": 2.5443278473018864
           },
           {
            "x": 3.7905474115448086,
            "y": 14.368249679169049
           },
           {
            "x": 4.381407168856096,
            "y": 19.196728779303587
           },
           {
            "x": -0.1427469034187756,
            "y": 0.02037667843564925
           },
           {
            "x": 0.6572252234700786,
            "y": 0.43194499436529477
           },
           {
            "x": -0.5983070665015888,
            "y": 0.35797134582573664
           },
           {
            "x": 1.328129437586852,
            "y": 1.7639278029847678
           },
           {
            "x": 2.26789362054277,
            "y": 5.143341474098594
           },
           {
            "x": 1.0052121188831749,
            "y": 1.010451403949602
           },
           {
            "x": 0.8989448935684696,
            "y": 0.8081019216728272
           },
           {
            "x": 3.835162384873589,
            "y": 14.708470518349275
           },
           {
            "x": 1.2732387201087396,
            "y": 1.6211368383841414
           },
           {
            "x": 1.6712338811959708,
            "y": 2.7930226856573483
           },
           {
            "x": 2.5802495403052776,
            "y": 6.657687690245597
           },
           {
            "x": 4.608598528662492,
            "y": 21.239180398390086
           },
           {
            "x": -0.6254324082259441,
            "y": 0.39116569725930406
           },
           {
            "x": 2.2276608815515426,
            "y": 4.962473003194996
           },
           {
            "x": 6.220383846358377,
            "y": 38.693175196036236
           },
           {
            "x": 1.8536368763476392,
            "y": 3.435969669355833
           },
           {
            "x": 1.6845489853606823,
            "y": 2.8377052840797043
           },
           {
            "x": 0.24487627164690418,
            "y": 0.05996438841568841
           },
           {
            "x": 3.99494829167334,
            "y": 15.959611853143738
           },
           {
            "x": 2.066116714963981,
            "y": 4.2688382798535525
           },
           {
            "x": 6.157205997373666,
            "y": 37.911185694094236
           },
           {
            "x": 2.6109670299819845,
            "y": 6.817148831652945
           },
           {
            "x": 1.345377858485708,
            "y": 1.8100415821035896
           },
           {
            "x": 0.1777302697842833,
            "y": 0.03158804879759412
           },
           {
            "x": 2.898037795240216,
            "y": 8.398623062640771
           },
           {
            "x": 2.947243794641734,
            "y": 8.686245985054208
           },
           {
            "x": 3.007985350156921,
            "y": 9.047975866758653
           },
           {
            "x": 5.55567876440192,
            "y": 30.865566533226442
           },
           {
            "x": 2.9981064406745213,
            "y": 8.988642229614047
           },
           {
            "x": 4.113489519448909,
            "y": 16.920796026616017
           },
           {
            "x": 4.09032469997636,
            "y": 16.7307561512367
           },
           {
            "x": -0.7264197145592202,
            "y": 0.5276856017002989
           },
           {
            "x": 2.975467869396813,
            "y": 8.853409041812808
           },
           {
            "x": 0.4143453918666866,
            "y": 0.17168210376115808
           },
           {
            "x": 0.93505034467337,
            "y": 0.874319147073788
           },
           {
            "x": 3.1590104473829768,
            "y": 9.979347006674795
           },
           {
            "x": 2.500406367407076,
            "y": 6.252032002169848
           },
           {
            "x": 5.195931289478025,
            "y": 26.997701964976777
           },
           {
            "x": 3.361550654300809,
            "y": 11.300022801430197
           },
           {
            "x": 1.846730486539168,
            "y": 3.4104134899131924
           },
           {
            "x": 0.46982835482435226,
            "y": 0.22073868299695745
           },
           {
            "x": 2.9646766461089684,
            "y": 8.78930761598392
           },
           {
            "x": 3.081406331221415,
            "y": 9.49506497809142
           },
           {
            "x": 2.2830319099987055,
            "y": 5.212234702072338
           },
           {
            "x": -3.708554363827835,
            "y": 13.753375469466476
           },
           {
            "x": 0.9129732708553111,
            "y": 0.8335201932962453
           },
           {
            "x": 3.01394921238922,
            "y": 9.083889854861601
           },
           {
            "x": 2.7432074731977965,
            "y": 7.525187241008239
           },
           {
            "x": 4.509797305236611,
            "y": 20.3382717343194
           },
           {
            "x": 3.9696174672103384,
            "y": 15.757862835981422
           },
           {
            "x": 7.670525781931196,
            "y": 58.83696577127118
           },
           {
            "x": 3.473184968231813,
            "y": 12.06301382355142
           },
           {
            "x": 2.5994867426888795,
            "y": 6.75733132541524
           },
           {
            "x": -0.3538096655788352,
            "y": 0.1251812794570072
           },
           {
            "x": 2.6701445495012934,
            "y": 7.129671915231465
           },
           {
            "x": 2.020927659000037,
            "y": 4.0841486029113705
           },
           {
            "x": 4.417384477537351,
            "y": 19.513285622387937
           },
           {
            "x": 4.970663805193913,
            "y": 24.707498664264833
           },
           {
            "x": 3.0283962971550187,
            "y": 9.171184132622228
           },
           {
            "x": 3.7431030057318027,
            "y": 14.010820111518456
           },
           {
            "x": -0.6012380438165099,
            "y": 0.3614871853323035
           },
           {
            "x": 2.859519140953845,
            "y": 8.176849717481417
           },
           {
            "x": 3.766741491874839,
            "y": 14.188341466611488
           },
           {
            "x": 1.4195595354369748,
            "y": 2.0151492746500397
           },
           {
            "x": 2.921252249960081,
            "y": 8.533714707896836
           },
           {
            "x": 1.6916188637778131,
            "y": 2.8615743802889395
           },
           {
            "x": -1.780367234239007,
            "y": 3.169707488751851
           },
           {
            "x": 1.8452657762857303,
            "y": 3.4050057851313786
           },
           {
            "x": 4.694094334869032,
            "y": 22.03452162464954
           },
           {
            "x": 2.811449824773695,
            "y": 7.904250117220042
           },
           {
            "x": 2.7325711722762307,
            "y": 7.466945211555093
           },
           {
            "x": 3.58327359971317,
            "y": 12.83984969040138
           },
           {
            "x": 4.934590678475484,
            "y": 24.350185164097137
           },
           {
            "x": 2.315640473584893,
            "y": 5.362190802904468
           },
           {
            "x": -0.27006043448867967,
            "y": 0.07293263827621445
           },
           {
            "x": 3.295211906508445,
            "y": 10.85842150879502
           },
           {
            "x": 2.4616193417999863,
            "y": 6.059569783923798
           },
           {
            "x": -1.1054006548663113,
            "y": 1.22191060777887
           },
           {
            "x": 4.3371469576679855,
            "y": 18.810843732408664
           },
           {
            "x": 3.2524127068829123,
            "y": 10.578188415893433
           },
           {
            "x": 1.5088763810850527,
            "y": 2.276707933396325
           },
           {
            "x": 1.835335975533315,
            "y": 3.368458143086825
           },
           {
            "x": 2.367075083774774,
            "y": 5.603044452227354
           },
           {
            "x": -0.5258753844219948,
            "y": 0.2765449199409808
           },
           {
            "x": 0.56454376363984,
            "y": 0.3187096610646356
           },
           {
            "x": 5.834287570244392,
            "y": 34.03891145230821
           },
           {
            "x": 3.9652498425709988,
            "y": 15.72320631400933
           },
           {
            "x": 3.501918540788459,
            "y": 12.263433466317972
           },
           {
            "x": 3.6342586349727624,
            "y": 13.207835825874087
           },
           {
            "x": 2.4836452492313468,
            "y": 6.168493724029439
           },
           {
            "x": 4.109315493434729,
            "y": 16.886473824582712
           },
           {
            "x": 1.852619622966818,
            "y": 3.4321994674017144
           },
           {
            "x": 2.368965013769602,
            "y": 5.611995236464411
           },
           {
            "x": -0.8389910385597177,
            "y": 0.7039059627835137
           },
           {
            "x": 3.1103381337467964,
            "y": 9.674203306239503
           },
           {
            "x": -0.39847316414040534,
            "y": 0.15878086254006643
           },
           {
            "x": 1.4073345512671143,
            "y": 1.9805905391902099
           },
           {
            "x": 3.844179352053827,
            "y": 14.77771489075698
           },
           {
            "x": 3.615464057826353,
            "y": 13.071580353434197
           },
           {
            "x": -1.6201539345823655,
            "y": 2.62489877174272
           },
           {
            "x": 1.1688964506108388,
            "y": 1.3663189122506172
           },
           {
            "x": 2.0307861916168104,
            "y": 4.124092556061509
           },
           {
            "x": 2.860337969623637,
            "y": 8.181533300470669
           },
           {
            "x": 5.578715455741188,
            "y": 31.122066136125607
           },
           {
            "x": 1.317639058834002,
            "y": 1.7361726893649543
           },
           {
            "x": 4.02707957513633,
            "y": 16.217369904480204
           },
           {
            "x": 5.054347651365438,
            "y": 25.546430180863318
           },
           {
            "x": 1.0495814357730966,
            "y": 1.101621190319515
           },
           {
            "x": 2.2258816838033573,
            "y": 4.954549270291269
           },
           {
            "x": 4.363632558951058,
            "y": 19.041289109537757
           },
           {
            "x": 3.4244952836738887,
            "y": 11.727167947904707
           },
           {
            "x": 5.349900717203695,
            "y": 28.621437683936616
           },
           {
            "x": -1.5509444406171449,
            "y": 2.4054286578812283
           }
          ]
         },
         "encoding": {
          "x": {
           "field": "x",
           "type": "quantitative"
          },
          "y": {
           "field": "y",
           "type": "quantitative"
          }
         },
         "mark": {
          "color": "black",
          "filled": true,
          "opacity": 0.2,
          "size": 50,
          "type": "point"
         }
        },
        {
         "data": {
          "values": [
           {
            "label": "E[X^2]",
            "x": 2.6179714786909662,
            "y": 11.459982324595837
           }
          ]
         },
         "encoding": {
          "x": {
           "field": "x",
           "type": "quantitative"
          },
          "y": {
           "field": "y",
           "type": "quantitative"
          }
         },
         "mark": {
          "color": "black",
          "filled": true,
          "opacity": 0.9,
          "size": 200,
          "type": "point"
         }
        },
        {
         "data": {
          "values": [
           {
            "label": "E[X^2]",
            "x": 2.6179714786909662,
            "y": 11.459982324595837
           }
          ]
         },
         "encoding": {
          "text": {
           "field": "label",
           "type": "nominal"
          },
          "x": {
           "field": "x",
           "type": "quantitative"
          },
          "y": {
           "field": "y",
           "type": "quantitative"
          }
         },
         "mark": {
          "align": "right",
          "baseline": "middle",
          "dx": 7,
          "type": "text",
          "xOffset": -15
         }
        },
        {
         "data": {
          "values": [
           {
            "label": "E[X]",
            "x": 2.6179714786909662,
            "y": 0
           }
          ]
         },
         "encoding": {
          "x": {
           "field": "x",
           "type": "quantitative"
          },
          "y": {
           "field": "y",
           "type": "quantitative"
          }
         },
         "mark": {
          "color": "blue",
          "filled": true,
          "opacity": 0.9,
          "size": 200,
          "type": "point"
         }
        },
        {
         "data": {
          "values": [
           {
            "label": "E[X]",
            "x": 2.6179714786909662,
            "y": 0
           }
          ]
         },
         "encoding": {
          "text": {
           "field": "label",
           "type": "nominal"
          },
          "x": {
           "field": "x",
           "type": "quantitative"
          },
          "y": {
           "field": "y",
           "type": "quantitative"
          }
         },
         "mark": {
          "align": "left",
          "baseline": "bottom",
          "dx": 16,
          "type": "text",
          "yOffset": -4
         }
        },
        {
         "data": {
          "values": [
           {
            "label": "E[X]^2",
            "x": 2.6179714786909662,
            "y": 6.853774663239364
           }
          ]
         },
         "encoding": {
          "x": {
           "field": "x",
           "type": "quantitative"
          },
          "y": {
           "field": "y",
           "type": "quantitative"
          }
         },
         "mark": {
          "color": "blue",
          "filled": true,
          "opacity": 0.9,
          "size": 200,
          "type": "point"
         }
        },
        {
         "data": {
          "values": [
           {
            "label": "E[X]^2",
            "x": 2.6179714786909662,
            "y": 6.853774663239364
           }
          ]
         },
         "encoding": {
          "text": {
           "field": "label",
           "type": "nominal"
          },
          "x": {
           "field": "x",
           "type": "quantitative"
          },
          "y": {
           "field": "y",
           "type": "quantitative"
          }
         },
         "mark": {
          "align": "left",
          "baseline": "middle",
          "dx": 7,
          "type": "text"
         }
        }
       ]
      },
      "image/png": "[encoded data removed]",
      "text/plain": [
       "<VegaLite 2 object>\n",
       "\n",
       "If you see this message, it means the renderer has not been properly enabled\n",
       "for the frontend that you are using. For more information, see\n",
       "https://altair-viz.github.io/user_guide/troubleshooting.html\n"
      ]
     },
     "execution_count": 282,
     "metadata": {},
     "output_type": "execute_result"
    }
   ],
   "source": [
    "c7 = alt.Chart(dt).mark_point(opacity=expectation_opacity, size=expectation_size, color=\"blue\", filled=True).encode(\n",
    "    x='x:Q',  # specify ordinal data\n",
    "    y='y:Q',  # specify quantitative data\n",
    ")\n",
    "\n",
    "text7 = c7.mark_text(\n",
    "    align='left',\n",
    "    baseline='middle',\n",
    "    dx=7\n",
    ").encode(\n",
    "    text='label:N'\n",
    ")\n",
    "x2 + c2  + c4 + expected_x2 + text + c6 + text2 + c7 +  text7"
   ]
  },
  {
   "cell_type": "markdown",
   "metadata": {},
   "source": [
    "The distance between $\\mathbb{E}[X^2]$ and $\\mathbb{E}[X]^2$ is $\\mathbb{E}[X^2]$ - $\\mathbb{E}[X]^2$, the variance!"
   ]
  },
  {
   "cell_type": "markdown",
   "metadata": {},
   "source": [
    "Because $\\mathbb{E}[X^2]$ is always above the black squares line, this also doubles as a visual proof that the variance is always non-negative. (See also this [awesome visual proof](http://mark.reid.name/blog/behold-jensens-inequality.html) of Jensen's Inequality, which gave me the idea for this post)."
   ]
  },
  {
   "cell_type": "code",
   "execution_count": 254,
   "metadata": {},
   "outputs": [],
   "source": [
    "import altair as alt\n",
    "from vega_datasets import data\n",
    "\n",
    "import numpy as np\n",
    "\n",
    "def make_bar_chart(size, opacity, data):\n",
    "    return alt.Chart(data).mark_bar(size=10, opacity=.2).encode(\n",
    "        x='x:Q',  # specify ordinal data\n",
    "        y='y:Q',  # specify quantitative data\n",
    "    )\n",
    "    return\n",
    "\n",
    "\n",
    "def make_altair_object(X, Y):\n",
    "    bi = []\n",
    "    for x, y in zip(X,Y):\n",
    "        bi.append({\"x\":x, \"y\":y})\n",
    "    return alt.Data({\"values\" : bi})\n",
    "\n",
    "point_size = 50\n",
    "expectation_size = 200\n",
    "point_opacity = .2\n",
    "expectation_opacity = .9\n",
    "line_opacity=.2"
   ]
  },
  {
   "cell_type": "code",
   "execution_count": null,
   "metadata": {},
   "outputs": [],
   "source": [
    "\n",
    "def make_plot(s):\n",
    "\n",
    "    def f(x):\n",
    "        return x ** 2\n",
    "\n",
    "    expected_value = f(np.mean(s))\n",
    "    expected_sq = np.mean([f(i) for i in s])\n",
    "\n",
    "\n",
    "    point_size = 50\n",
    "    expectation_size = 200\n",
    "    point_opacity = .2\n",
    "    expectation_opacity = .9\n",
    "    line_opacity=.2\n",
    "\n",
    "    dt = make_altair_object(s, np.zeros_like(s))\n",
    "\n",
    "    c1 = alt.Chart(dt).mark_point(size=point_size, filled=True, opacity=point_opacity).encode(\n",
    "        x='x:Q',  # specify ordinal data\n",
    "        y='y:Q',  # specify quantitative data\n",
    "    )\n",
    "\n",
    "    x = np.linspace(min(s), max(s), 1000)\n",
    "    y = [f(i) for i in x]\n",
    "    dt = make_altair_object(x, y)\n",
    "\n",
    "\n",
    "    c2 = alt.Chart(dt).mark_line(opacity=line_opacity, color=\"black\").encode(\n",
    "        x='x:Q',  # specify ordinal data\n",
    "        y='y:Q',  # specify quantitative data\n",
    "    )\n",
    "\n",
    "    dt = make_altair_object([np.mean(s)], [0])\n",
    "\n",
    "    c3 = alt.Chart(dt).mark_point(size=expectation_size, color=\"blue\", opacity=expectation_opacity, filled=True).encode(\n",
    "        x='x:Q',  # specify ordinal data\n",
    "        y='y:Q',  # specify quantitative data\n",
    "    )\n",
    "\n",
    "\n",
    "    dt = make_altair_object(X=s, Y=[f(i) for i in s])\n",
    "\n",
    "    c4 = alt.Chart(dt).mark_point(opacity=point_opacity, size=point_size, color=\"black\", filled=True).encode(\n",
    "        x='x:Q',  # specify ordinal data\n",
    "        y='y:Q',  # specify quantitative data\n",
    "    )\n",
    "\n",
    "    dt = make_altair_object(np.zeros_like(s) + np.max(x), Y=[f(i) for i in s])\n",
    "\n",
    "\n",
    "    c5 = alt.Chart(dt).mark_point(opacity=point_opacity, size=point_size, color=\"red\", filled=True).encode(\n",
    "        x='x:Q',  # specify ordinal data\n",
    "        y='y:Q',  # specify quantitative data\n",
    "    )\n",
    "\n",
    "    dt = make_altair_object([np.max(s)], [np.mean([f(i) for i in s])])\n",
    "\n",
    "    c6 = alt.Chart(dt).mark_point(opacity=expectation_opacity, size=expectation_size, color=\"red\", filled=True).encode(\n",
    "        x='x:Q',  # specify ordinal data\n",
    "        y='y:Q',  # specify quantitative data\n",
    "    )\n",
    "\n",
    "    dt = make_altair_object([np.mean(s)], [np.mean([f(i) for i in s])])\n",
    "\n",
    "    c7 = alt.Chart(dt).mark_point(opacity=expectation_opacity, size=expectation_size, color=\"black\", filled=True).encode(\n",
    "        x='x:Q',  # specify ordinal data\n",
    "        y='y:Q',  # specify quantitative data\n",
    "    )\n",
    "\n",
    "    x = [np.mean(s), np.max(s)]\n",
    "    y = [np.mean([f(i) for i in s]), np.mean([f(i) for i in s])]\n",
    "\n",
    "    dt = make_altair_object(x,y)\n",
    "\n",
    "    c8 = alt.Chart(dt).mark_line(color=\"black\", opacity=line_opacity).encode(\n",
    "        x='x:Q',  # specify ordinal data\n",
    "        y='y:Q',  # specify quantitative data\n",
    "    )\n",
    "\n",
    "    x = [np.mean(s), np.mean(s)]\n",
    "    y = [np.mean([f(i) for i in s]), 0]\n",
    "\n",
    "    dt = make_altair_object(x,y)\n",
    "\n",
    "    c9 = alt.Chart(dt).mark_line(color=\"black\", opacity=line_opacity).encode(\n",
    "        x='x:Q',  # specify ordinal data\n",
    "        y='y:Q',  # specify quantitative data\n",
    "    )\n",
    "\n",
    "    x = [np.mean(s), np.mean(s)]\n",
    "    y = [np.mean([f(i) for i in s]), f(np.mean(s))]\n",
    "\n",
    "    dt = make_altair_object(x,y)\n",
    "\n",
    "    c10 = alt.Chart(dt).mark_line(color=\"black\", opacity=1, thickness=100).encode(\n",
    "        x='x:Q',  # specify ordinal data\n",
    "        y='y:Q',  # specify quantitative data\n",
    "    )\n",
    "\n",
    "\n",
    "    x = [np.mean(s)]\n",
    "    y = [f(np.mean(s))]\n",
    "\n",
    "    dt = make_altair_object(x,y)\n",
    "\n",
    "    c11 = alt.Chart(dt).mark_point(color=\"black\", opacity=1, filled=True, size=expectation_size).encode(\n",
    "        x='x:Q',  # specify ordinal data\n",
    "        y='y:Q',  # specify quantitative data\n",
    "    )\n",
    "    \n",
    "    return c1 + c2 + c3 + c4 + c5 + c6 + c7 + c8 + c9 + c10 + c11\n",
    "\n",
    "make_plot()"
   ]
  },
  {
   "cell_type": "markdown",
   "metadata": {},
   "source": [
    "\n",
    "### Plowing through the algebra \n",
    "\n",
    "This post is devoted to providing a visual intution for the alternate definition of variance. If you are curious about the algebra behind the definition, here is a detailed derivation as well.\n",
    "\n",
    "Starting from the definition and expanding the square we have\n",
    "\n",
    "$$Var(X) = \\mathbb{E}[(x - \\mathbb{E}[X])^2]$$\n",
    "\n",
    "$$Var(X) = \\mathbb{E}[X^2 - 2XE[X] + \\mathbb{E}[X]^2]$$\n",
    "\n",
    "From linearity of expectation we have:\n",
    "\n",
    "$$Var(X) = \\mathbb{E}[X^2]-  \\mathbb{E}[2XE[X]] +  \\mathbb{E}[\\mathbb{E}[X]^2]$$\n",
    "\n",
    "We can pull out the constants 2 and $\\mathbb{E}[X]$ from the expectation in the middle term to get:\n",
    "\n",
    "$$Var(X) = \\mathbb{E}[X^2]-  2\\mathbb{E}[X]\\mathbb{E}E[X] +  \\mathbb{E}[\\mathbb{E}[X^2]$$\n",
    "\n",
    "We can also express the middle term as $2\\mathbb{E}[X^2]$ to get\n",
    "\n",
    "$$Var(X) = \\mathbb{E}[X^2]-  2\\mathbb{E}[X^2]+  \\mathbb{E}[X^2]$$\n",
    "\n",
    "$$Var(X) = \\mathbb{E}[X^2]-  \\mathbb{E}[X^2] -  \\mathbb{E}[X^2]+  \\mathbb{E}[X^2]$$\n",
    "\n",
    "$$Var(X) = \\mathbb{E}[X^2] -   \\mathbb{E}[X^2]$$"
   ]
  }
 ],
 "metadata": {
  "kernelspec": {
   "display_name": "Python 3",
   "language": "python",
   "name": "python3"
  },
  "language_info": {
   "codemirror_mode": {
    "name": "ipython",
    "version": 3
   },
   "file_extension": ".py",
   "mimetype": "text/x-python",
   "name": "python",
   "nbconvert_exporter": "python",
   "pygments_lexer": "ipython3",
   "version": "3.6.2"
  }
 },
 "nbformat": 4,
 "nbformat_minor": 2
}
